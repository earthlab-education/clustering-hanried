{
  "cells": [
    {
      "cell_type": "markdown",
      "id": "8aede979-068f-489d-a683-139e58cb6013",
      "metadata": {},
      "source": [
        "# Land cover classification at the Mississppi Delta\n",
        "\n",
        "In this notebook, you will use a k-means **unsupervised** clustering\n",
        "algorithm to group pixels by similar spectral signatures. **k-means** is\n",
        "an **exploratory** method for finding patterns in data. Because it is\n",
        "unsupervised, you don’t need any training data for the model. You also\n",
        "can’t measure how well it “performs” because the clusters will not\n",
        "correspond to any particular land cover class. However, we expect at\n",
        "least some of the clusters to be identifiable as different types of land\n",
        "cover.\n",
        "\n",
        "You will use the [harmonized Sentinal/Landsat multispectral\n",
        "dataset](https://lpdaac.usgs.gov/documents/1698/HLS_User_Guide_V2.pdf).\n",
        "You can access the data with an [Earthdata\n",
        "account](https://www.earthdata.nasa.gov/learn/get-started) and the\n",
        "[`earthaccess` library from\n",
        "NSIDC](https://github.com/nsidc/earthaccess):\n",
        "\n",
        "## STEP 1: SET UP\n",
        "\n",
        "<link rel=\"stylesheet\" type=\"text/css\" href=\"./assets/styles.css\"><div class=\"callout callout-style-default callout-titled callout-task\"><div class=\"callout-header\"><div class=\"callout-icon-container\"><i class=\"callout-icon\"></i></div><div class=\"callout-title-container flex-fill\">Try It</div></div><div class=\"callout-body-container callout-body\"><ol type=\"1\">\n",
        "<li>Import all libraries you will need for this analysis</li>\n",
        "<li>Configure GDAL parameters to help avoid connection errors:\n",
        "<code>python      os.environ[\"GDAL_HTTP_MAX_RETRY\"] = \"5\"      os.environ[\"GDAL_HTTP_RETRY_DELAY\"] = \"1\"</code></li>\n",
        "</ol></div></div>"
      ]
    },
    {
      "cell_type": "code",
      "execution_count": 1,
      "id": "e3f0f55c",
      "metadata": {
        "highlight": true
      },
      "outputs": [
        {
          "name": "stderr",
          "output_type": "stream",
          "text": [
            "c:\\Users\\riede\\miniconda3\\envs\\earth-analytics-python\\Lib\\site-packages\\dask\\dataframe\\__init__.py:42: FutureWarning: \n",
            "Dask dataframe query planning is disabled because dask-expr is not installed.\n",
            "\n",
            "You can install it with `pip install dask[dataframe]` or `conda install dask`.\n",
            "This will raise in a future version.\n",
            "\n",
            "  warnings.warn(msg, FutureWarning)\n"
          ]
        },
        {
          "data": {
            "text/html": [
              "<script type=\"esms-options\">{\"shimMode\": true}</script><style>*[data-root-id],\n",
              "*[data-root-id] > * {\n",
              "  box-sizing: border-box;\n",
              "  font-family: var(--jp-ui-font-family);\n",
              "  font-size: var(--jp-ui-font-size1);\n",
              "  color: var(--vscode-editor-foreground, var(--jp-ui-font-color1));\n",
              "}\n",
              "\n",
              "/* Override VSCode background color */\n",
              ".cell-output-ipywidget-background:has(\n",
              "    > .cell-output-ipywidget-background > .lm-Widget > *[data-root-id]\n",
              "  ),\n",
              ".cell-output-ipywidget-background:has(> .lm-Widget > *[data-root-id]) {\n",
              "  background-color: transparent !important;\n",
              "}\n",
              "</style>"
            ]
          },
          "metadata": {},
          "output_type": "display_data"
        },
        {
          "data": {
            "application/javascript": "(function(root) {\n  function now() {\n    return new Date();\n  }\n\n  const force = true;\n  const py_version = '3.5.2'.replace('rc', '-rc.').replace('.dev', '-dev.');\n  const reloading = false;\n  const Bokeh = root.Bokeh;\n\n  // Set a timeout for this load but only if we are not already initializing\n  if (typeof (root._bokeh_timeout) === \"undefined\" || (force || !root._bokeh_is_initializing)) {\n    root._bokeh_timeout = Date.now() + 5000;\n    root._bokeh_failed_load = false;\n  }\n\n  function run_callbacks() {\n    try {\n      root._bokeh_onload_callbacks.forEach(function(callback) {\n        if (callback != null)\n          callback();\n      });\n    } finally {\n      delete root._bokeh_onload_callbacks;\n    }\n    console.debug(\"Bokeh: all callbacks have finished\");\n  }\n\n  function load_libs(css_urls, js_urls, js_modules, js_exports, callback) {\n    if (css_urls == null) css_urls = [];\n    if (js_urls == null) js_urls = [];\n    if (js_modules == null) js_modules = [];\n    if (js_exports == null) js_exports = {};\n\n    root._bokeh_onload_callbacks.push(callback);\n\n    if (root._bokeh_is_loading > 0) {\n      // Don't load bokeh if it is still initializing\n      console.debug(\"Bokeh: BokehJS is being loaded, scheduling callback at\", now());\n      return null;\n    } else if (js_urls.length === 0 && js_modules.length === 0 && Object.keys(js_exports).length === 0) {\n      // There is nothing to load\n      run_callbacks();\n      return null;\n    }\n\n    function on_load() {\n      root._bokeh_is_loading--;\n      if (root._bokeh_is_loading === 0) {\n        console.debug(\"Bokeh: all BokehJS libraries/stylesheets loaded\");\n        run_callbacks()\n      }\n    }\n    window._bokeh_on_load = on_load\n\n    function on_error(e) {\n      const src_el = e.srcElement\n      console.error(\"failed to load \" + (src_el.href || src_el.src));\n    }\n\n    const skip = [];\n    if (window.requirejs) {\n      window.requirejs.config({'packages': {}, 'paths': {}, 'shim': {}});\n      root._bokeh_is_loading = css_urls.length + 0;\n    } else {\n      root._bokeh_is_loading = css_urls.length + js_urls.length + js_modules.length + Object.keys(js_exports).length;\n    }\n\n    const existing_stylesheets = []\n    const links = document.getElementsByTagName('link')\n    for (let i = 0; i < links.length; i++) {\n      const link = links[i]\n      if (link.href != null) {\n        existing_stylesheets.push(link.href)\n      }\n    }\n    for (let i = 0; i < css_urls.length; i++) {\n      const url = css_urls[i];\n      const escaped = encodeURI(url)\n      if (existing_stylesheets.indexOf(escaped) !== -1) {\n        on_load()\n        continue;\n      }\n      const element = document.createElement(\"link\");\n      element.onload = on_load;\n      element.onerror = on_error;\n      element.rel = \"stylesheet\";\n      element.type = \"text/css\";\n      element.href = url;\n      console.debug(\"Bokeh: injecting link tag for BokehJS stylesheet: \", url);\n      document.body.appendChild(element);\n    }    var existing_scripts = []\n    const scripts = document.getElementsByTagName('script')\n    for (let i = 0; i < scripts.length; i++) {\n      var script = scripts[i]\n      if (script.src != null) {\n        existing_scripts.push(script.src)\n      }\n    }\n    for (let i = 0; i < js_urls.length; i++) {\n      const url = js_urls[i];\n      const escaped = encodeURI(url)\n      if (skip.indexOf(escaped) !== -1 || existing_scripts.indexOf(escaped) !== -1) {\n        if (!window.requirejs) {\n          on_load();\n        }\n        continue;\n      }\n      const element = document.createElement('script');\n      element.onload = on_load;\n      element.onerror = on_error;\n      element.async = false;\n      element.src = url;\n      console.debug(\"Bokeh: injecting script tag for BokehJS library: \", url);\n      document.head.appendChild(element);\n    }\n    for (let i = 0; i < js_modules.length; i++) {\n      const url = js_modules[i];\n      const escaped = encodeURI(url)\n      if (skip.indexOf(escaped) !== -1 || existing_scripts.indexOf(escaped) !== -1) {\n        if (!window.requirejs) {\n          on_load();\n        }\n        continue;\n      }\n      var element = document.createElement('script');\n      element.onload = on_load;\n      element.onerror = on_error;\n      element.async = false;\n      element.src = url;\n      element.type = \"module\";\n      console.debug(\"Bokeh: injecting script tag for BokehJS library: \", url);\n      document.head.appendChild(element);\n    }\n    for (const name in js_exports) {\n      const url = js_exports[name];\n      const escaped = encodeURI(url)\n      if (skip.indexOf(escaped) >= 0 || root[name] != null) {\n        if (!window.requirejs) {\n          on_load();\n        }\n        continue;\n      }\n      var element = document.createElement('script');\n      element.onerror = on_error;\n      element.async = false;\n      element.type = \"module\";\n      console.debug(\"Bokeh: injecting script tag for BokehJS library: \", url);\n      element.textContent = `\n      import ${name} from \"${url}\"\n      window.${name} = ${name}\n      window._bokeh_on_load()\n      `\n      document.head.appendChild(element);\n    }\n    if (!js_urls.length && !js_modules.length) {\n      on_load()\n    }\n  };\n\n  function inject_raw_css(css) {\n    const element = document.createElement(\"style\");\n    element.appendChild(document.createTextNode(css));\n    document.body.appendChild(element);\n  }\n\n  const js_urls = [\"https://cdn.holoviz.org/panel/1.5.2/dist/bundled/reactiveesm/es-module-shims@^1.10.0/dist/es-module-shims.min.js\", \"https://cdn.bokeh.org/bokeh/release/bokeh-3.5.2.min.js\", \"https://cdn.bokeh.org/bokeh/release/bokeh-gl-3.5.2.min.js\", \"https://cdn.bokeh.org/bokeh/release/bokeh-widgets-3.5.2.min.js\", \"https://cdn.bokeh.org/bokeh/release/bokeh-tables-3.5.2.min.js\", \"https://cdn.holoviz.org/panel/1.5.2/dist/panel.min.js\", \"https://cdn.jsdelivr.net/npm/@holoviz/geoviews@1.13.0/dist/geoviews.min.js\"];\n  const js_modules = [];\n  const js_exports = {};\n  const css_urls = [];\n  const inline_js = [    function(Bokeh) {\n      Bokeh.set_log_level(\"info\");\n    },\nfunction(Bokeh) {} // ensure no trailing comma for IE\n  ];\n\n  function run_inline_js() {\n    if ((root.Bokeh !== undefined) || (force === true)) {\n      for (let i = 0; i < inline_js.length; i++) {\n        try {\n          inline_js[i].call(root, root.Bokeh);\n        } catch(e) {\n          if (!reloading) {\n            throw e;\n          }\n        }\n      }\n      // Cache old bokeh versions\n      if (Bokeh != undefined && !reloading) {\n        var NewBokeh = root.Bokeh;\n        if (Bokeh.versions === undefined) {\n          Bokeh.versions = new Map();\n        }\n        if (NewBokeh.version !== Bokeh.version) {\n          Bokeh.versions.set(NewBokeh.version, NewBokeh)\n        }\n        root.Bokeh = Bokeh;\n      }\n    } else if (Date.now() < root._bokeh_timeout) {\n      setTimeout(run_inline_js, 100);\n    } else if (!root._bokeh_failed_load) {\n      console.log(\"Bokeh: BokehJS failed to load within specified timeout.\");\n      root._bokeh_failed_load = true;\n    }\n    root._bokeh_is_initializing = false\n  }\n\n  function load_or_wait() {\n    // Implement a backoff loop that tries to ensure we do not load multiple\n    // versions of Bokeh and its dependencies at the same time.\n    // In recent versions we use the root._bokeh_is_initializing flag\n    // to determine whether there is an ongoing attempt to initialize\n    // bokeh, however for backward compatibility we also try to ensure\n    // that we do not start loading a newer (Panel>=1.0 and Bokeh>3) version\n    // before older versions are fully initialized.\n    if (root._bokeh_is_initializing && Date.now() > root._bokeh_timeout) {\n      // If the timeout and bokeh was not successfully loaded we reset\n      // everything and try loading again\n      root._bokeh_timeout = Date.now() + 5000;\n      root._bokeh_is_initializing = false;\n      root._bokeh_onload_callbacks = undefined;\n      root._bokeh_is_loading = 0\n      console.log(\"Bokeh: BokehJS was loaded multiple times but one version failed to initialize.\");\n      load_or_wait();\n    } else if (root._bokeh_is_initializing || (typeof root._bokeh_is_initializing === \"undefined\" && root._bokeh_onload_callbacks !== undefined)) {\n      setTimeout(load_or_wait, 100);\n    } else {\n      root._bokeh_is_initializing = true\n      root._bokeh_onload_callbacks = []\n      const bokeh_loaded = root.Bokeh != null && (root.Bokeh.version === py_version || (root.Bokeh.versions !== undefined && root.Bokeh.versions.has(py_version)));\n      if (!reloading && !bokeh_loaded) {\n        if (root.Bokeh) {\n          root.Bokeh = undefined;\n        }\n        console.debug(\"Bokeh: BokehJS not loaded, scheduling load and callback at\", now());\n      }\n      load_libs(css_urls, js_urls, js_modules, js_exports, function() {\n        console.debug(\"Bokeh: BokehJS plotting callback run at\", now());\n        run_inline_js();\n      });\n    }\n  }\n  // Give older versions of the autoload script a head-start to ensure\n  // they initialize before we start loading newer version.\n  setTimeout(load_or_wait, 100)\n}(window));",
            "application/vnd.holoviews_load.v0+json": ""
          },
          "metadata": {},
          "output_type": "display_data"
        },
        {
          "data": {
            "application/javascript": "\nif ((window.PyViz === undefined) || (window.PyViz instanceof HTMLElement)) {\n  window.PyViz = {comms: {}, comm_status:{}, kernels:{}, receivers: {}, plot_index: []}\n}\n\n\n    function JupyterCommManager() {\n    }\n\n    JupyterCommManager.prototype.register_target = function(plot_id, comm_id, msg_handler) {\n      if (window.comm_manager || ((window.Jupyter !== undefined) && (Jupyter.notebook.kernel != null))) {\n        var comm_manager = window.comm_manager || Jupyter.notebook.kernel.comm_manager;\n        comm_manager.register_target(comm_id, function(comm) {\n          comm.on_msg(msg_handler);\n        });\n      } else if ((plot_id in window.PyViz.kernels) && (window.PyViz.kernels[plot_id])) {\n        window.PyViz.kernels[plot_id].registerCommTarget(comm_id, function(comm) {\n          comm.onMsg = msg_handler;\n        });\n      } else if (typeof google != 'undefined' && google.colab.kernel != null) {\n        google.colab.kernel.comms.registerTarget(comm_id, (comm) => {\n          var messages = comm.messages[Symbol.asyncIterator]();\n          function processIteratorResult(result) {\n            var message = result.value;\n            console.log(message)\n            var content = {data: message.data, comm_id};\n            var buffers = []\n            for (var buffer of message.buffers || []) {\n              buffers.push(new DataView(buffer))\n            }\n            var metadata = message.metadata || {};\n            var msg = {content, buffers, metadata}\n            msg_handler(msg);\n            return messages.next().then(processIteratorResult);\n          }\n          return messages.next().then(processIteratorResult);\n        })\n      }\n    }\n\n    JupyterCommManager.prototype.get_client_comm = function(plot_id, comm_id, msg_handler) {\n      if (comm_id in window.PyViz.comms) {\n        return window.PyViz.comms[comm_id];\n      } else if (window.comm_manager || ((window.Jupyter !== undefined) && (Jupyter.notebook.kernel != null))) {\n        var comm_manager = window.comm_manager || Jupyter.notebook.kernel.comm_manager;\n        var comm = comm_manager.new_comm(comm_id, {}, {}, {}, comm_id);\n        if (msg_handler) {\n          comm.on_msg(msg_handler);\n        }\n      } else if ((plot_id in window.PyViz.kernels) && (window.PyViz.kernels[plot_id])) {\n        var comm = window.PyViz.kernels[plot_id].connectToComm(comm_id);\n        comm.open();\n        if (msg_handler) {\n          comm.onMsg = msg_handler;\n        }\n      } else if (typeof google != 'undefined' && google.colab.kernel != null) {\n        var comm_promise = google.colab.kernel.comms.open(comm_id)\n        comm_promise.then((comm) => {\n          window.PyViz.comms[comm_id] = comm;\n          if (msg_handler) {\n            var messages = comm.messages[Symbol.asyncIterator]();\n            function processIteratorResult(result) {\n              var message = result.value;\n              var content = {data: message.data};\n              var metadata = message.metadata || {comm_id};\n              var msg = {content, metadata}\n              msg_handler(msg);\n              return messages.next().then(processIteratorResult);\n            }\n            return messages.next().then(processIteratorResult);\n          }\n        }) \n        var sendClosure = (data, metadata, buffers, disposeOnDone) => {\n          return comm_promise.then((comm) => {\n            comm.send(data, metadata, buffers, disposeOnDone);\n          });\n        };\n        var comm = {\n          send: sendClosure\n        };\n      }\n      window.PyViz.comms[comm_id] = comm;\n      return comm;\n    }\n    window.PyViz.comm_manager = new JupyterCommManager();\n    \n\n\nvar JS_MIME_TYPE = 'application/javascript';\nvar HTML_MIME_TYPE = 'text/html';\nvar EXEC_MIME_TYPE = 'application/vnd.holoviews_exec.v0+json';\nvar CLASS_NAME = 'output';\n\n/**\n * Render data to the DOM node\n */\nfunction render(props, node) {\n  var div = document.createElement(\"div\");\n  var script = document.createElement(\"script\");\n  node.appendChild(div);\n  node.appendChild(script);\n}\n\n/**\n * Handle when a new output is added\n */\nfunction handle_add_output(event, handle) {\n  var output_area = handle.output_area;\n  var output = handle.output;\n  if ((output.data == undefined) || (!output.data.hasOwnProperty(EXEC_MIME_TYPE))) {\n    return\n  }\n  var id = output.metadata[EXEC_MIME_TYPE][\"id\"];\n  var toinsert = output_area.element.find(\".\" + CLASS_NAME.split(' ')[0]);\n  if (id !== undefined) {\n    var nchildren = toinsert.length;\n    var html_node = toinsert[nchildren-1].children[0];\n    html_node.innerHTML = output.data[HTML_MIME_TYPE];\n    var scripts = [];\n    var nodelist = html_node.querySelectorAll(\"script\");\n    for (var i in nodelist) {\n      if (nodelist.hasOwnProperty(i)) {\n        scripts.push(nodelist[i])\n      }\n    }\n\n    scripts.forEach( function (oldScript) {\n      var newScript = document.createElement(\"script\");\n      var attrs = [];\n      var nodemap = oldScript.attributes;\n      for (var j in nodemap) {\n        if (nodemap.hasOwnProperty(j)) {\n          attrs.push(nodemap[j])\n        }\n      }\n      attrs.forEach(function(attr) { newScript.setAttribute(attr.name, attr.value) });\n      newScript.appendChild(document.createTextNode(oldScript.innerHTML));\n      oldScript.parentNode.replaceChild(newScript, oldScript);\n    });\n    if (JS_MIME_TYPE in output.data) {\n      toinsert[nchildren-1].children[1].textContent = output.data[JS_MIME_TYPE];\n    }\n    output_area._hv_plot_id = id;\n    if ((window.Bokeh !== undefined) && (id in Bokeh.index)) {\n      window.PyViz.plot_index[id] = Bokeh.index[id];\n    } else {\n      window.PyViz.plot_index[id] = null;\n    }\n  } else if (output.metadata[EXEC_MIME_TYPE][\"server_id\"] !== undefined) {\n    var bk_div = document.createElement(\"div\");\n    bk_div.innerHTML = output.data[HTML_MIME_TYPE];\n    var script_attrs = bk_div.children[0].attributes;\n    for (var i = 0; i < script_attrs.length; i++) {\n      toinsert[toinsert.length - 1].childNodes[1].setAttribute(script_attrs[i].name, script_attrs[i].value);\n    }\n    // store reference to server id on output_area\n    output_area._bokeh_server_id = output.metadata[EXEC_MIME_TYPE][\"server_id\"];\n  }\n}\n\n/**\n * Handle when an output is cleared or removed\n */\nfunction handle_clear_output(event, handle) {\n  var id = handle.cell.output_area._hv_plot_id;\n  var server_id = handle.cell.output_area._bokeh_server_id;\n  if (((id === undefined) || !(id in PyViz.plot_index)) && (server_id !== undefined)) { return; }\n  var comm = window.PyViz.comm_manager.get_client_comm(\"hv-extension-comm\", \"hv-extension-comm\", function () {});\n  if (server_id !== null) {\n    comm.send({event_type: 'server_delete', 'id': server_id});\n    return;\n  } else if (comm !== null) {\n    comm.send({event_type: 'delete', 'id': id});\n  }\n  delete PyViz.plot_index[id];\n  if ((window.Bokeh !== undefined) & (id in window.Bokeh.index)) {\n    var doc = window.Bokeh.index[id].model.document\n    doc.clear();\n    const i = window.Bokeh.documents.indexOf(doc);\n    if (i > -1) {\n      window.Bokeh.documents.splice(i, 1);\n    }\n  }\n}\n\n/**\n * Handle kernel restart event\n */\nfunction handle_kernel_cleanup(event, handle) {\n  delete PyViz.comms[\"hv-extension-comm\"];\n  window.PyViz.plot_index = {}\n}\n\n/**\n * Handle update_display_data messages\n */\nfunction handle_update_output(event, handle) {\n  handle_clear_output(event, {cell: {output_area: handle.output_area}})\n  handle_add_output(event, handle)\n}\n\nfunction register_renderer(events, OutputArea) {\n  function append_mime(data, metadata, element) {\n    // create a DOM node to render to\n    var toinsert = this.create_output_subarea(\n    metadata,\n    CLASS_NAME,\n    EXEC_MIME_TYPE\n    );\n    this.keyboard_manager.register_events(toinsert);\n    // Render to node\n    var props = {data: data, metadata: metadata[EXEC_MIME_TYPE]};\n    render(props, toinsert[0]);\n    element.append(toinsert);\n    return toinsert\n  }\n\n  events.on('output_added.OutputArea', handle_add_output);\n  events.on('output_updated.OutputArea', handle_update_output);\n  events.on('clear_output.CodeCell', handle_clear_output);\n  events.on('delete.Cell', handle_clear_output);\n  events.on('kernel_ready.Kernel', handle_kernel_cleanup);\n\n  OutputArea.prototype.register_mime_type(EXEC_MIME_TYPE, append_mime, {\n    safe: true,\n    index: 0\n  });\n}\n\nif (window.Jupyter !== undefined) {\n  try {\n    var events = require('base/js/events');\n    var OutputArea = require('notebook/js/outputarea').OutputArea;\n    if (OutputArea.prototype.mime_types().indexOf(EXEC_MIME_TYPE) == -1) {\n      register_renderer(events, OutputArea);\n    }\n  } catch(err) {\n  }\n}\n",
            "application/vnd.holoviews_load.v0+json": ""
          },
          "metadata": {},
          "output_type": "display_data"
        },
        {
          "data": {
            "application/vnd.holoviews_exec.v0+json": "",
            "text/html": [
              "<div id='p1011'>\n",
              "  <div id=\"ec80e8b4-80fd-4047-b948-abe9b1d58093\" data-root-id=\"p1011\" style=\"display: contents;\"></div>\n",
              "</div>\n",
              "<script type=\"application/javascript\">(function(root) {\n",
              "  var docs_json = {\"62ccf640-49af-4893-8ee8-a6f170ee157b\":{\"version\":\"3.5.2\",\"title\":\"Bokeh Application\",\"roots\":[{\"type\":\"object\",\"name\":\"panel.models.browser.BrowserInfo\",\"id\":\"p1011\"},{\"type\":\"object\",\"name\":\"panel.models.comm_manager.CommManager\",\"id\":\"p1012\",\"attributes\":{\"plot_id\":\"p1011\",\"comm_id\":\"dbad0940af3946e09765d492d706b9dd\",\"client_comm_id\":\"78f7e6e6ebac4dfd8f81a4b1914c4ebf\"}}],\"defs\":[{\"type\":\"model\",\"name\":\"ReactiveHTML1\"},{\"type\":\"model\",\"name\":\"FlexBox1\",\"properties\":[{\"name\":\"align_content\",\"kind\":\"Any\",\"default\":\"flex-start\"},{\"name\":\"align_items\",\"kind\":\"Any\",\"default\":\"flex-start\"},{\"name\":\"flex_direction\",\"kind\":\"Any\",\"default\":\"row\"},{\"name\":\"flex_wrap\",\"kind\":\"Any\",\"default\":\"wrap\"},{\"name\":\"gap\",\"kind\":\"Any\",\"default\":\"\"},{\"name\":\"justify_content\",\"kind\":\"Any\",\"default\":\"flex-start\"}]},{\"type\":\"model\",\"name\":\"FloatPanel1\",\"properties\":[{\"name\":\"config\",\"kind\":\"Any\",\"default\":{\"type\":\"map\"}},{\"name\":\"contained\",\"kind\":\"Any\",\"default\":true},{\"name\":\"position\",\"kind\":\"Any\",\"default\":\"right-top\"},{\"name\":\"offsetx\",\"kind\":\"Any\",\"default\":null},{\"name\":\"offsety\",\"kind\":\"Any\",\"default\":null},{\"name\":\"theme\",\"kind\":\"Any\",\"default\":\"primary\"},{\"name\":\"status\",\"kind\":\"Any\",\"default\":\"normalized\"}]},{\"type\":\"model\",\"name\":\"GridStack1\",\"properties\":[{\"name\":\"mode\",\"kind\":\"Any\",\"default\":\"warn\"},{\"name\":\"ncols\",\"kind\":\"Any\",\"default\":null},{\"name\":\"nrows\",\"kind\":\"Any\",\"default\":null},{\"name\":\"allow_resize\",\"kind\":\"Any\",\"default\":true},{\"name\":\"allow_drag\",\"kind\":\"Any\",\"default\":true},{\"name\":\"state\",\"kind\":\"Any\",\"default\":[]}]},{\"type\":\"model\",\"name\":\"drag1\",\"properties\":[{\"name\":\"slider_width\",\"kind\":\"Any\",\"default\":5},{\"name\":\"slider_color\",\"kind\":\"Any\",\"default\":\"black\"},{\"name\":\"value\",\"kind\":\"Any\",\"default\":50}]},{\"type\":\"model\",\"name\":\"click1\",\"properties\":[{\"name\":\"terminal_output\",\"kind\":\"Any\",\"default\":\"\"},{\"name\":\"debug_name\",\"kind\":\"Any\",\"default\":\"\"},{\"name\":\"clears\",\"kind\":\"Any\",\"default\":0}]},{\"type\":\"model\",\"name\":\"FastWrapper1\",\"properties\":[{\"name\":\"object\",\"kind\":\"Any\",\"default\":null},{\"name\":\"style\",\"kind\":\"Any\",\"default\":null}]},{\"type\":\"model\",\"name\":\"NotificationAreaBase1\",\"properties\":[{\"name\":\"js_events\",\"kind\":\"Any\",\"default\":{\"type\":\"map\"}},{\"name\":\"position\",\"kind\":\"Any\",\"default\":\"bottom-right\"},{\"name\":\"_clear\",\"kind\":\"Any\",\"default\":0}]},{\"type\":\"model\",\"name\":\"NotificationArea1\",\"properties\":[{\"name\":\"js_events\",\"kind\":\"Any\",\"default\":{\"type\":\"map\"}},{\"name\":\"notifications\",\"kind\":\"Any\",\"default\":[]},{\"name\":\"position\",\"kind\":\"Any\",\"default\":\"bottom-right\"},{\"name\":\"_clear\",\"kind\":\"Any\",\"default\":0},{\"name\":\"types\",\"kind\":\"Any\",\"default\":[{\"type\":\"map\",\"entries\":[[\"type\",\"warning\"],[\"background\",\"#ffc107\"],[\"icon\",{\"type\":\"map\",\"entries\":[[\"className\",\"fas fa-exclamation-triangle\"],[\"tagName\",\"i\"],[\"color\",\"white\"]]}]]},{\"type\":\"map\",\"entries\":[[\"type\",\"info\"],[\"background\",\"#007bff\"],[\"icon\",{\"type\":\"map\",\"entries\":[[\"className\",\"fas fa-info-circle\"],[\"tagName\",\"i\"],[\"color\",\"white\"]]}]]}]}]},{\"type\":\"model\",\"name\":\"Notification\",\"properties\":[{\"name\":\"background\",\"kind\":\"Any\",\"default\":null},{\"name\":\"duration\",\"kind\":\"Any\",\"default\":3000},{\"name\":\"icon\",\"kind\":\"Any\",\"default\":null},{\"name\":\"message\",\"kind\":\"Any\",\"default\":\"\"},{\"name\":\"notification_type\",\"kind\":\"Any\",\"default\":null},{\"name\":\"_destroyed\",\"kind\":\"Any\",\"default\":false}]},{\"type\":\"model\",\"name\":\"TemplateActions1\",\"properties\":[{\"name\":\"open_modal\",\"kind\":\"Any\",\"default\":0},{\"name\":\"close_modal\",\"kind\":\"Any\",\"default\":0}]},{\"type\":\"model\",\"name\":\"BootstrapTemplateActions1\",\"properties\":[{\"name\":\"open_modal\",\"kind\":\"Any\",\"default\":0},{\"name\":\"close_modal\",\"kind\":\"Any\",\"default\":0}]},{\"type\":\"model\",\"name\":\"TemplateEditor1\",\"properties\":[{\"name\":\"layout\",\"kind\":\"Any\",\"default\":[]}]},{\"type\":\"model\",\"name\":\"MaterialTemplateActions1\",\"properties\":[{\"name\":\"open_modal\",\"kind\":\"Any\",\"default\":0},{\"name\":\"close_modal\",\"kind\":\"Any\",\"default\":0}]},{\"type\":\"model\",\"name\":\"ReactiveESM1\"},{\"type\":\"model\",\"name\":\"JSComponent1\"},{\"type\":\"model\",\"name\":\"ReactComponent1\"},{\"type\":\"model\",\"name\":\"AnyWidgetComponent1\"},{\"type\":\"model\",\"name\":\"request_value1\",\"properties\":[{\"name\":\"fill\",\"kind\":\"Any\",\"default\":\"none\"},{\"name\":\"_synced\",\"kind\":\"Any\",\"default\":null},{\"name\":\"_request_sync\",\"kind\":\"Any\",\"default\":0}]}]}};\n",
              "  var render_items = [{\"docid\":\"62ccf640-49af-4893-8ee8-a6f170ee157b\",\"roots\":{\"p1011\":\"ec80e8b4-80fd-4047-b948-abe9b1d58093\"},\"root_ids\":[\"p1011\"]}];\n",
              "  var docs = Object.values(docs_json)\n",
              "  if (!docs) {\n",
              "    return\n",
              "  }\n",
              "  const py_version = docs[0].version.replace('rc', '-rc.').replace('.dev', '-dev.')\n",
              "  async function embed_document(root) {\n",
              "    var Bokeh = get_bokeh(root)\n",
              "    await Bokeh.embed.embed_items_notebook(docs_json, render_items);\n",
              "    for (const render_item of render_items) {\n",
              "      for (const root_id of render_item.root_ids) {\n",
              "\tconst id_el = document.getElementById(root_id)\n",
              "\tif (id_el.children.length && id_el.children[0].hasAttribute('data-root-id')) {\n",
              "\t  const root_el = id_el.children[0]\n",
              "\t  root_el.id = root_el.id + '-rendered'\n",
              "\t  for (const child of root_el.children) {\n",
              "            // Ensure JupyterLab does not capture keyboard shortcuts\n",
              "            // see: https://jupyterlab.readthedocs.io/en/4.1.x/extension/notebook.html#keyboard-interaction-model\n",
              "\t    child.setAttribute('data-lm-suppress-shortcuts', 'true')\n",
              "\t  }\n",
              "\t}\n",
              "      }\n",
              "    }\n",
              "  }\n",
              "  function get_bokeh(root) {\n",
              "    if (root.Bokeh === undefined) {\n",
              "      return null\n",
              "    } else if (root.Bokeh.version !== py_version) {\n",
              "      if (root.Bokeh.versions === undefined || !root.Bokeh.versions.has(py_version)) {\n",
              "\treturn null\n",
              "      }\n",
              "      return root.Bokeh.versions.get(py_version);\n",
              "    } else if (root.Bokeh.version === py_version) {\n",
              "      return root.Bokeh\n",
              "    }\n",
              "    return null\n",
              "  }\n",
              "  function is_loaded(root) {\n",
              "    var Bokeh = get_bokeh(root)\n",
              "    return (Bokeh != null && Bokeh.Panel !== undefined)\n",
              "  }\n",
              "  if (is_loaded(root)) {\n",
              "    embed_document(root);\n",
              "  } else {\n",
              "    var attempts = 0;\n",
              "    var timer = setInterval(function(root) {\n",
              "      if (is_loaded(root)) {\n",
              "        clearInterval(timer);\n",
              "        embed_document(root);\n",
              "      } else if (document.readyState == \"complete\") {\n",
              "        attempts++;\n",
              "        if (attempts > 200) {\n",
              "          clearInterval(timer);\n",
              "\t  var Bokeh = get_bokeh(root)\n",
              "\t  if (Bokeh == null || Bokeh.Panel == null) {\n",
              "            console.warn(\"Panel: ERROR: Unable to run Panel code because Bokeh or Panel library is missing\");\n",
              "\t  } else {\n",
              "\t    console.warn(\"Panel: WARNING: Attempting to render but not all required libraries could be resolved.\")\n",
              "\t    embed_document(root)\n",
              "\t  }\n",
              "        }\n",
              "      }\n",
              "    }, 25, root)\n",
              "  }\n",
              "})(window);</script>"
            ]
          },
          "metadata": {
            "application/vnd.holoviews_exec.v0+json": {
              "id": "p1011"
            }
          },
          "output_type": "display_data"
        },
        {
          "data": {
            "text/html": [
              "<script type=\"esms-options\">{\"shimMode\": true}</script><style>*[data-root-id],\n",
              "*[data-root-id] > * {\n",
              "  box-sizing: border-box;\n",
              "  font-family: var(--jp-ui-font-family);\n",
              "  font-size: var(--jp-ui-font-size1);\n",
              "  color: var(--vscode-editor-foreground, var(--jp-ui-font-color1));\n",
              "}\n",
              "\n",
              "/* Override VSCode background color */\n",
              ".cell-output-ipywidget-background:has(\n",
              "    > .cell-output-ipywidget-background > .lm-Widget > *[data-root-id]\n",
              "  ),\n",
              ".cell-output-ipywidget-background:has(> .lm-Widget > *[data-root-id]) {\n",
              "  background-color: transparent !important;\n",
              "}\n",
              "</style>"
            ]
          },
          "metadata": {},
          "output_type": "display_data"
        },
        {
          "data": {
            "application/javascript": "(function(root) {\n  function now() {\n    return new Date();\n  }\n\n  const force = false;\n  const py_version = '3.5.2'.replace('rc', '-rc.').replace('.dev', '-dev.');\n  const reloading = true;\n  const Bokeh = root.Bokeh;\n\n  // Set a timeout for this load but only if we are not already initializing\n  if (typeof (root._bokeh_timeout) === \"undefined\" || (force || !root._bokeh_is_initializing)) {\n    root._bokeh_timeout = Date.now() + 5000;\n    root._bokeh_failed_load = false;\n  }\n\n  function run_callbacks() {\n    try {\n      root._bokeh_onload_callbacks.forEach(function(callback) {\n        if (callback != null)\n          callback();\n      });\n    } finally {\n      delete root._bokeh_onload_callbacks;\n    }\n    console.debug(\"Bokeh: all callbacks have finished\");\n  }\n\n  function load_libs(css_urls, js_urls, js_modules, js_exports, callback) {\n    if (css_urls == null) css_urls = [];\n    if (js_urls == null) js_urls = [];\n    if (js_modules == null) js_modules = [];\n    if (js_exports == null) js_exports = {};\n\n    root._bokeh_onload_callbacks.push(callback);\n\n    if (root._bokeh_is_loading > 0) {\n      // Don't load bokeh if it is still initializing\n      console.debug(\"Bokeh: BokehJS is being loaded, scheduling callback at\", now());\n      return null;\n    } else if (js_urls.length === 0 && js_modules.length === 0 && Object.keys(js_exports).length === 0) {\n      // There is nothing to load\n      run_callbacks();\n      return null;\n    }\n\n    function on_load() {\n      root._bokeh_is_loading--;\n      if (root._bokeh_is_loading === 0) {\n        console.debug(\"Bokeh: all BokehJS libraries/stylesheets loaded\");\n        run_callbacks()\n      }\n    }\n    window._bokeh_on_load = on_load\n\n    function on_error(e) {\n      const src_el = e.srcElement\n      console.error(\"failed to load \" + (src_el.href || src_el.src));\n    }\n\n    const skip = [];\n    if (window.requirejs) {\n      window.requirejs.config({'packages': {}, 'paths': {}, 'shim': {}});\n      root._bokeh_is_loading = css_urls.length + 0;\n    } else {\n      root._bokeh_is_loading = css_urls.length + js_urls.length + js_modules.length + Object.keys(js_exports).length;\n    }\n\n    const existing_stylesheets = []\n    const links = document.getElementsByTagName('link')\n    for (let i = 0; i < links.length; i++) {\n      const link = links[i]\n      if (link.href != null) {\n        existing_stylesheets.push(link.href)\n      }\n    }\n    for (let i = 0; i < css_urls.length; i++) {\n      const url = css_urls[i];\n      const escaped = encodeURI(url)\n      if (existing_stylesheets.indexOf(escaped) !== -1) {\n        on_load()\n        continue;\n      }\n      const element = document.createElement(\"link\");\n      element.onload = on_load;\n      element.onerror = on_error;\n      element.rel = \"stylesheet\";\n      element.type = \"text/css\";\n      element.href = url;\n      console.debug(\"Bokeh: injecting link tag for BokehJS stylesheet: \", url);\n      document.body.appendChild(element);\n    }    var existing_scripts = []\n    const scripts = document.getElementsByTagName('script')\n    for (let i = 0; i < scripts.length; i++) {\n      var script = scripts[i]\n      if (script.src != null) {\n        existing_scripts.push(script.src)\n      }\n    }\n    for (let i = 0; i < js_urls.length; i++) {\n      const url = js_urls[i];\n      const escaped = encodeURI(url)\n      if (skip.indexOf(escaped) !== -1 || existing_scripts.indexOf(escaped) !== -1) {\n        if (!window.requirejs) {\n          on_load();\n        }\n        continue;\n      }\n      const element = document.createElement('script');\n      element.onload = on_load;\n      element.onerror = on_error;\n      element.async = false;\n      element.src = url;\n      console.debug(\"Bokeh: injecting script tag for BokehJS library: \", url);\n      document.head.appendChild(element);\n    }\n    for (let i = 0; i < js_modules.length; i++) {\n      const url = js_modules[i];\n      const escaped = encodeURI(url)\n      if (skip.indexOf(escaped) !== -1 || existing_scripts.indexOf(escaped) !== -1) {\n        if (!window.requirejs) {\n          on_load();\n        }\n        continue;\n      }\n      var element = document.createElement('script');\n      element.onload = on_load;\n      element.onerror = on_error;\n      element.async = false;\n      element.src = url;\n      element.type = \"module\";\n      console.debug(\"Bokeh: injecting script tag for BokehJS library: \", url);\n      document.head.appendChild(element);\n    }\n    for (const name in js_exports) {\n      const url = js_exports[name];\n      const escaped = encodeURI(url)\n      if (skip.indexOf(escaped) >= 0 || root[name] != null) {\n        if (!window.requirejs) {\n          on_load();\n        }\n        continue;\n      }\n      var element = document.createElement('script');\n      element.onerror = on_error;\n      element.async = false;\n      element.type = \"module\";\n      console.debug(\"Bokeh: injecting script tag for BokehJS library: \", url);\n      element.textContent = `\n      import ${name} from \"${url}\"\n      window.${name} = ${name}\n      window._bokeh_on_load()\n      `\n      document.head.appendChild(element);\n    }\n    if (!js_urls.length && !js_modules.length) {\n      on_load()\n    }\n  };\n\n  function inject_raw_css(css) {\n    const element = document.createElement(\"style\");\n    element.appendChild(document.createTextNode(css));\n    document.body.appendChild(element);\n  }\n\n  const js_urls = [\"https://cdn.holoviz.org/panel/1.5.2/dist/bundled/reactiveesm/es-module-shims@^1.10.0/dist/es-module-shims.min.js\", \"https://cdn.jsdelivr.net/npm/@holoviz/geoviews@1.13.0/dist/geoviews.min.js\"];\n  const js_modules = [];\n  const js_exports = {};\n  const css_urls = [];\n  const inline_js = [    function(Bokeh) {\n      Bokeh.set_log_level(\"info\");\n    },\nfunction(Bokeh) {} // ensure no trailing comma for IE\n  ];\n\n  function run_inline_js() {\n    if ((root.Bokeh !== undefined) || (force === true)) {\n      for (let i = 0; i < inline_js.length; i++) {\n        try {\n          inline_js[i].call(root, root.Bokeh);\n        } catch(e) {\n          if (!reloading) {\n            throw e;\n          }\n        }\n      }\n      // Cache old bokeh versions\n      if (Bokeh != undefined && !reloading) {\n        var NewBokeh = root.Bokeh;\n        if (Bokeh.versions === undefined) {\n          Bokeh.versions = new Map();\n        }\n        if (NewBokeh.version !== Bokeh.version) {\n          Bokeh.versions.set(NewBokeh.version, NewBokeh)\n        }\n        root.Bokeh = Bokeh;\n      }\n    } else if (Date.now() < root._bokeh_timeout) {\n      setTimeout(run_inline_js, 100);\n    } else if (!root._bokeh_failed_load) {\n      console.log(\"Bokeh: BokehJS failed to load within specified timeout.\");\n      root._bokeh_failed_load = true;\n    }\n    root._bokeh_is_initializing = false\n  }\n\n  function load_or_wait() {\n    // Implement a backoff loop that tries to ensure we do not load multiple\n    // versions of Bokeh and its dependencies at the same time.\n    // In recent versions we use the root._bokeh_is_initializing flag\n    // to determine whether there is an ongoing attempt to initialize\n    // bokeh, however for backward compatibility we also try to ensure\n    // that we do not start loading a newer (Panel>=1.0 and Bokeh>3) version\n    // before older versions are fully initialized.\n    if (root._bokeh_is_initializing && Date.now() > root._bokeh_timeout) {\n      // If the timeout and bokeh was not successfully loaded we reset\n      // everything and try loading again\n      root._bokeh_timeout = Date.now() + 5000;\n      root._bokeh_is_initializing = false;\n      root._bokeh_onload_callbacks = undefined;\n      root._bokeh_is_loading = 0\n      console.log(\"Bokeh: BokehJS was loaded multiple times but one version failed to initialize.\");\n      load_or_wait();\n    } else if (root._bokeh_is_initializing || (typeof root._bokeh_is_initializing === \"undefined\" && root._bokeh_onload_callbacks !== undefined)) {\n      setTimeout(load_or_wait, 100);\n    } else {\n      root._bokeh_is_initializing = true\n      root._bokeh_onload_callbacks = []\n      const bokeh_loaded = root.Bokeh != null && (root.Bokeh.version === py_version || (root.Bokeh.versions !== undefined && root.Bokeh.versions.has(py_version)));\n      if (!reloading && !bokeh_loaded) {\n        if (root.Bokeh) {\n          root.Bokeh = undefined;\n        }\n        console.debug(\"Bokeh: BokehJS not loaded, scheduling load and callback at\", now());\n      }\n      load_libs(css_urls, js_urls, js_modules, js_exports, function() {\n        console.debug(\"Bokeh: BokehJS plotting callback run at\", now());\n        run_inline_js();\n      });\n    }\n  }\n  // Give older versions of the autoload script a head-start to ensure\n  // they initialize before we start loading newer version.\n  setTimeout(load_or_wait, 100)\n}(window));",
            "application/vnd.holoviews_load.v0+json": ""
          },
          "metadata": {},
          "output_type": "display_data"
        },
        {
          "data": {
            "application/javascript": "\nif ((window.PyViz === undefined) || (window.PyViz instanceof HTMLElement)) {\n  window.PyViz = {comms: {}, comm_status:{}, kernels:{}, receivers: {}, plot_index: []}\n}\n\n\n    function JupyterCommManager() {\n    }\n\n    JupyterCommManager.prototype.register_target = function(plot_id, comm_id, msg_handler) {\n      if (window.comm_manager || ((window.Jupyter !== undefined) && (Jupyter.notebook.kernel != null))) {\n        var comm_manager = window.comm_manager || Jupyter.notebook.kernel.comm_manager;\n        comm_manager.register_target(comm_id, function(comm) {\n          comm.on_msg(msg_handler);\n        });\n      } else if ((plot_id in window.PyViz.kernels) && (window.PyViz.kernels[plot_id])) {\n        window.PyViz.kernels[plot_id].registerCommTarget(comm_id, function(comm) {\n          comm.onMsg = msg_handler;\n        });\n      } else if (typeof google != 'undefined' && google.colab.kernel != null) {\n        google.colab.kernel.comms.registerTarget(comm_id, (comm) => {\n          var messages = comm.messages[Symbol.asyncIterator]();\n          function processIteratorResult(result) {\n            var message = result.value;\n            console.log(message)\n            var content = {data: message.data, comm_id};\n            var buffers = []\n            for (var buffer of message.buffers || []) {\n              buffers.push(new DataView(buffer))\n            }\n            var metadata = message.metadata || {};\n            var msg = {content, buffers, metadata}\n            msg_handler(msg);\n            return messages.next().then(processIteratorResult);\n          }\n          return messages.next().then(processIteratorResult);\n        })\n      }\n    }\n\n    JupyterCommManager.prototype.get_client_comm = function(plot_id, comm_id, msg_handler) {\n      if (comm_id in window.PyViz.comms) {\n        return window.PyViz.comms[comm_id];\n      } else if (window.comm_manager || ((window.Jupyter !== undefined) && (Jupyter.notebook.kernel != null))) {\n        var comm_manager = window.comm_manager || Jupyter.notebook.kernel.comm_manager;\n        var comm = comm_manager.new_comm(comm_id, {}, {}, {}, comm_id);\n        if (msg_handler) {\n          comm.on_msg(msg_handler);\n        }\n      } else if ((plot_id in window.PyViz.kernels) && (window.PyViz.kernels[plot_id])) {\n        var comm = window.PyViz.kernels[plot_id].connectToComm(comm_id);\n        comm.open();\n        if (msg_handler) {\n          comm.onMsg = msg_handler;\n        }\n      } else if (typeof google != 'undefined' && google.colab.kernel != null) {\n        var comm_promise = google.colab.kernel.comms.open(comm_id)\n        comm_promise.then((comm) => {\n          window.PyViz.comms[comm_id] = comm;\n          if (msg_handler) {\n            var messages = comm.messages[Symbol.asyncIterator]();\n            function processIteratorResult(result) {\n              var message = result.value;\n              var content = {data: message.data};\n              var metadata = message.metadata || {comm_id};\n              var msg = {content, metadata}\n              msg_handler(msg);\n              return messages.next().then(processIteratorResult);\n            }\n            return messages.next().then(processIteratorResult);\n          }\n        }) \n        var sendClosure = (data, metadata, buffers, disposeOnDone) => {\n          return comm_promise.then((comm) => {\n            comm.send(data, metadata, buffers, disposeOnDone);\n          });\n        };\n        var comm = {\n          send: sendClosure\n        };\n      }\n      window.PyViz.comms[comm_id] = comm;\n      return comm;\n    }\n    window.PyViz.comm_manager = new JupyterCommManager();\n    \n\n\nvar JS_MIME_TYPE = 'application/javascript';\nvar HTML_MIME_TYPE = 'text/html';\nvar EXEC_MIME_TYPE = 'application/vnd.holoviews_exec.v0+json';\nvar CLASS_NAME = 'output';\n\n/**\n * Render data to the DOM node\n */\nfunction render(props, node) {\n  var div = document.createElement(\"div\");\n  var script = document.createElement(\"script\");\n  node.appendChild(div);\n  node.appendChild(script);\n}\n\n/**\n * Handle when a new output is added\n */\nfunction handle_add_output(event, handle) {\n  var output_area = handle.output_area;\n  var output = handle.output;\n  if ((output.data == undefined) || (!output.data.hasOwnProperty(EXEC_MIME_TYPE))) {\n    return\n  }\n  var id = output.metadata[EXEC_MIME_TYPE][\"id\"];\n  var toinsert = output_area.element.find(\".\" + CLASS_NAME.split(' ')[0]);\n  if (id !== undefined) {\n    var nchildren = toinsert.length;\n    var html_node = toinsert[nchildren-1].children[0];\n    html_node.innerHTML = output.data[HTML_MIME_TYPE];\n    var scripts = [];\n    var nodelist = html_node.querySelectorAll(\"script\");\n    for (var i in nodelist) {\n      if (nodelist.hasOwnProperty(i)) {\n        scripts.push(nodelist[i])\n      }\n    }\n\n    scripts.forEach( function (oldScript) {\n      var newScript = document.createElement(\"script\");\n      var attrs = [];\n      var nodemap = oldScript.attributes;\n      for (var j in nodemap) {\n        if (nodemap.hasOwnProperty(j)) {\n          attrs.push(nodemap[j])\n        }\n      }\n      attrs.forEach(function(attr) { newScript.setAttribute(attr.name, attr.value) });\n      newScript.appendChild(document.createTextNode(oldScript.innerHTML));\n      oldScript.parentNode.replaceChild(newScript, oldScript);\n    });\n    if (JS_MIME_TYPE in output.data) {\n      toinsert[nchildren-1].children[1].textContent = output.data[JS_MIME_TYPE];\n    }\n    output_area._hv_plot_id = id;\n    if ((window.Bokeh !== undefined) && (id in Bokeh.index)) {\n      window.PyViz.plot_index[id] = Bokeh.index[id];\n    } else {\n      window.PyViz.plot_index[id] = null;\n    }\n  } else if (output.metadata[EXEC_MIME_TYPE][\"server_id\"] !== undefined) {\n    var bk_div = document.createElement(\"div\");\n    bk_div.innerHTML = output.data[HTML_MIME_TYPE];\n    var script_attrs = bk_div.children[0].attributes;\n    for (var i = 0; i < script_attrs.length; i++) {\n      toinsert[toinsert.length - 1].childNodes[1].setAttribute(script_attrs[i].name, script_attrs[i].value);\n    }\n    // store reference to server id on output_area\n    output_area._bokeh_server_id = output.metadata[EXEC_MIME_TYPE][\"server_id\"];\n  }\n}\n\n/**\n * Handle when an output is cleared or removed\n */\nfunction handle_clear_output(event, handle) {\n  var id = handle.cell.output_area._hv_plot_id;\n  var server_id = handle.cell.output_area._bokeh_server_id;\n  if (((id === undefined) || !(id in PyViz.plot_index)) && (server_id !== undefined)) { return; }\n  var comm = window.PyViz.comm_manager.get_client_comm(\"hv-extension-comm\", \"hv-extension-comm\", function () {});\n  if (server_id !== null) {\n    comm.send({event_type: 'server_delete', 'id': server_id});\n    return;\n  } else if (comm !== null) {\n    comm.send({event_type: 'delete', 'id': id});\n  }\n  delete PyViz.plot_index[id];\n  if ((window.Bokeh !== undefined) & (id in window.Bokeh.index)) {\n    var doc = window.Bokeh.index[id].model.document\n    doc.clear();\n    const i = window.Bokeh.documents.indexOf(doc);\n    if (i > -1) {\n      window.Bokeh.documents.splice(i, 1);\n    }\n  }\n}\n\n/**\n * Handle kernel restart event\n */\nfunction handle_kernel_cleanup(event, handle) {\n  delete PyViz.comms[\"hv-extension-comm\"];\n  window.PyViz.plot_index = {}\n}\n\n/**\n * Handle update_display_data messages\n */\nfunction handle_update_output(event, handle) {\n  handle_clear_output(event, {cell: {output_area: handle.output_area}})\n  handle_add_output(event, handle)\n}\n\nfunction register_renderer(events, OutputArea) {\n  function append_mime(data, metadata, element) {\n    // create a DOM node to render to\n    var toinsert = this.create_output_subarea(\n    metadata,\n    CLASS_NAME,\n    EXEC_MIME_TYPE\n    );\n    this.keyboard_manager.register_events(toinsert);\n    // Render to node\n    var props = {data: data, metadata: metadata[EXEC_MIME_TYPE]};\n    render(props, toinsert[0]);\n    element.append(toinsert);\n    return toinsert\n  }\n\n  events.on('output_added.OutputArea', handle_add_output);\n  events.on('output_updated.OutputArea', handle_update_output);\n  events.on('clear_output.CodeCell', handle_clear_output);\n  events.on('delete.Cell', handle_clear_output);\n  events.on('kernel_ready.Kernel', handle_kernel_cleanup);\n\n  OutputArea.prototype.register_mime_type(EXEC_MIME_TYPE, append_mime, {\n    safe: true,\n    index: 0\n  });\n}\n\nif (window.Jupyter !== undefined) {\n  try {\n    var events = require('base/js/events');\n    var OutputArea = require('notebook/js/outputarea').OutputArea;\n    if (OutputArea.prototype.mime_types().indexOf(EXEC_MIME_TYPE) == -1) {\n      register_renderer(events, OutputArea);\n    }\n  } catch(err) {\n  }\n}\n",
            "application/vnd.holoviews_load.v0+json": ""
          },
          "metadata": {},
          "output_type": "display_data"
        }
      ],
      "source": [
        "import os\n",
        "import pathlib\n",
        "import pickle\n",
        "import re\n",
        "import warnings\n",
        "\n",
        "import cartopy.crs as ccrs\n",
        "import earthaccess\n",
        "import earthpy as et\n",
        "import geopandas as gpd\n",
        "import geoviews as gv\n",
        "import hvplot.pandas\n",
        "import hvplot.xarray\n",
        "import numpy as np\n",
        "import pandas as pd\n",
        "import rioxarray as rxr\n",
        "import rioxarray.merge as rxrmerge\n",
        "from tqdm.notebook import tqdm\n",
        "import xarray as xr\n",
        "from shapely.geometry import Polygon\n",
        "from sklearn.cluster import KMeans\n",
        "import zipfile\n",
        "\n",
        "os.environ[\"GDAL_HTTP_MAX_RETRY\"] = \"5\"\n",
        "os.environ[\"GDAL_HTTP_RETRY_DELAY\"] = \"1\"\n",
        "\n",
        "warnings.simplefilter('ignore')"
      ]
    },
    {
      "cell_type": "code",
      "execution_count": 2,
      "id": "acefbe98",
      "metadata": {},
      "outputs": [
        {
          "data": {
            "text/plain": [
              "'C:\\\\Users\\\\riede\\\\earth-analytics\\\\data\\\\mississippi-delta'"
            ]
          },
          "execution_count": 2,
          "metadata": {},
          "output_type": "execute_result"
        }
      ],
      "source": [
        "# Make data directory\n",
        "data_dir = os.path.join(\n",
        "    pathlib.Path.home(),\n",
        "    'earth-analytics',\n",
        "    'data',\n",
        "    'mississippi-delta'\n",
        "    )\n",
        "\n",
        "os.makedirs(data_dir, exist_ok=True)\n",
        "\n",
        "data_dir"
      ]
    },
    {
      "cell_type": "markdown",
      "id": "00d1daa3-a10e-472b-94ff-4ff2db336bf5",
      "metadata": {},
      "source": [
        "Below you can find code for a caching **decorator** which you can use in\n",
        "your code. To use the decorator:\n",
        "\n",
        "``` python\n",
        "@cached(key, override)\n",
        "def do_something(*args, **kwargs):\n",
        "    ...\n",
        "    return item_to_cache\n",
        "```\n",
        "\n",
        "This decorator will **pickle** the results of running the\n",
        "`do_something()` function, and only run the code if the results don’t\n",
        "already exist. To override the caching, for example temporarily after\n",
        "making changes to your code, set `override=True`. Note that to use the\n",
        "caching decorator, you must write your own function to perform each\n",
        "task!"
      ]
    },
    {
      "cell_type": "code",
      "execution_count": null,
      "id": "ad0a9842",
      "metadata": {},
      "outputs": [],
      "source": [
        "def cached(func_key, override=False):\n",
        "    \"\"\"\n",
        "    A decorator to cache function results\n",
        "    \n",
        "    Parameters\n",
        "    ==========\n",
        "    key: str\n",
        "      File basename used to save pickled results\n",
        "    override: bool\n",
        "      When True, re-compute even if the results are already stored\n",
        "    \"\"\"\n",
        "    def compute_and_cache_decorator(compute_function):\n",
        "        \"\"\"\n",
        "        Wrap the caching function\n",
        "        \n",
        "        Parameters\n",
        "        ==========\n",
        "        compute_function: function\n",
        "          The function to run and cache results\n",
        "        \"\"\"\n",
        "        def compute_and_cache(*args, **kwargs):\n",
        "            \"\"\"\n",
        "            Perform a computation and cache, or load cached result.\n",
        "            \n",
        "            Parameters\n",
        "            ==========\n",
        "            args\n",
        "              Positional arguments for the compute function\n",
        "            kwargs\n",
        "              Keyword arguments for the compute function\n",
        "            \"\"\"\n",
        "            # Add an identifier from the particular function call\n",
        "            if 'cache_key' in kwargs:\n",
        "                key = '_'.join((func_key, kwargs['cache_key']))\n",
        "            else:\n",
        "                key = func_key\n",
        "\n",
        "            path = os.path.join(\n",
        "                et.io.HOME, et.io.DATA_NAME, 'jars', f'{key}.pickle')\n",
        "            \n",
        "            # Check if the cache exists already or override caching\n",
        "            if not os.path.exists(path) or override:\n",
        "                # Make jars directory if needed\n",
        "                os.makedirs(os.path.dirname(path), exist_ok=True)\n",
        "                \n",
        "                # Run the compute function as the user did\n",
        "                result = compute_function(*args, **kwargs)\n",
        "                \n",
        "                # Pickle the object\n",
        "                with open(path, 'wb') as file:\n",
        "                    pickle.dump(result, file)\n",
        "            else:\n",
        "                # Unpickle the object\n",
        "                with open(path, 'rb') as file:\n",
        "                    result = pickle.load(file)\n",
        "                    \n",
        "            return result\n",
        "        \n",
        "        return compute_and_cache\n",
        "    \n",
        "    return compute_and_cache_decorator"
      ]
    },
    {
      "cell_type": "markdown",
      "id": "2f8cf346-8ef9-4c74-8835-411b1815aac2",
      "metadata": {},
      "source": [
        "## STEP 2: STUDY SITE\n",
        "\n",
        "For this analysis, you will use a watershed from the [Water Boundary\n",
        "Dataset](https://www.usgs.gov/national-hydrography/access-national-hydrography-products),\n",
        "HU12 watersheds (WBDHU12.shp).\n",
        "\n",
        "<link rel=\"stylesheet\" type=\"text/css\" href=\"./assets/styles.css\"><div class=\"callout callout-style-default callout-titled callout-task\"><div class=\"callout-header\"><div class=\"callout-icon-container\"><i class=\"callout-icon\"></i></div><div class=\"callout-title-container flex-fill\">Try It</div></div><div class=\"callout-body-container callout-body\"><ol type=\"1\">\n",
        "<li>Download the Water Boundary Dataset for region 8 (Mississippi)</li>\n",
        "<li>Select watershed 080902030506</li>\n",
        "<li>Generate a site map of the watershed</li>\n",
        "</ol>\n",
        "<p>Try to use the <strong>caching decorator</strong></p></div></div>\n",
        "\n",
        "We chose this watershed because it covers parts of New Orleans and is\n",
        "near the Mississippi Delta. Deltas are boundary areas between the land\n",
        "and the ocean, and as a result tend to contain a rich variety of\n",
        "different land cover and land use types.\n",
        "\n",
        "<link rel=\"stylesheet\" type=\"text/css\" href=\"./assets/styles.css\"><div class=\"callout callout-style-default callout-response\"><div class=\"callout-header\"><div class=\"callout-icon-container\"><i class=\"callout-icon\"></i></div></div><div class=\"callout-body-container callout-body\"><p>Write a 2-3 sentence <strong>site description</strong> (with\n",
        "citations) of this area that helps to put your analysis in context.</p></div></div>"
      ]
    },
    {
      "cell_type": "markdown",
      "id": "e779d07a-9ebd-4d84-af53-3fd1c211606c",
      "metadata": {},
      "source": [
        "**SEE SITE DESCRIPTION BELOW SITE MAP**\n",
        "\n",
        "* Helpful links:\n",
        "\n",
        "    * URL for WBD region 8: https://prd-tnm.s3.amazonaws.com/StagedProducts/Hydrography/WBD/HU2/Shape/WBD_08_HU2_Shape.zip\n",
        "\n",
        "    * Documentation for et.data.get_data: https://earthpy.readthedocs.io/en/latest/gallery_vignettes/get_data.html\n",
        "\n",
        "    * Documentation for .dissolve(): https://geopandas.org/en/stable/docs/user_guide/aggregation_with_dissolve.html"
      ]
    },
    {
      "cell_type": "markdown",
      "id": "a01819bd",
      "metadata": {},
      "source": [
        "<span style=\"color: purple;\">\n",
        "\n",
        "#### STEP 2a. Download watershed boundary data for region 8\n",
        "\n",
        "</span>"
      ]
    },
    {
      "cell_type": "code",
      "execution_count": null,
      "id": "9616f78b",
      "metadata": {},
      "outputs": [
        {
          "data": {
            "text/html": [
              "<div>\n",
              "<style scoped>\n",
              "    .dataframe tbody tr th:only-of-type {\n",
              "        vertical-align: middle;\n",
              "    }\n",
              "\n",
              "    .dataframe tbody tr th {\n",
              "        vertical-align: top;\n",
              "    }\n",
              "\n",
              "    .dataframe thead th {\n",
              "        text-align: right;\n",
              "    }\n",
              "</style>\n",
              "<table border=\"1\" class=\"dataframe\">\n",
              "  <thead>\n",
              "    <tr style=\"text-align: right;\">\n",
              "      <th></th>\n",
              "      <th>tnmid</th>\n",
              "      <th>metasource</th>\n",
              "      <th>sourcedata</th>\n",
              "      <th>sourceorig</th>\n",
              "      <th>sourcefeat</th>\n",
              "      <th>loaddate</th>\n",
              "      <th>referenceg</th>\n",
              "      <th>areaacres</th>\n",
              "      <th>areasqkm</th>\n",
              "      <th>states</th>\n",
              "      <th>...</th>\n",
              "      <th>name</th>\n",
              "      <th>hutype</th>\n",
              "      <th>humod</th>\n",
              "      <th>tohuc</th>\n",
              "      <th>noncontrib</th>\n",
              "      <th>noncontr_1</th>\n",
              "      <th>shape_Leng</th>\n",
              "      <th>shape_Area</th>\n",
              "      <th>ObjectID</th>\n",
              "      <th>geometry</th>\n",
              "    </tr>\n",
              "  </thead>\n",
              "  <tbody>\n",
              "    <tr>\n",
              "      <th>0</th>\n",
              "      <td>{8AFB1AF9-7296-4303-89DE-14CD073B859A}</td>\n",
              "      <td>{511D2AC8-11BA-45FC-AB98-F69D693D4C44}</td>\n",
              "      <td>Watershed Boundary Dataset (WBD)</td>\n",
              "      <td>Natural Resources and Conservation Service and...</td>\n",
              "      <td>None</td>\n",
              "      <td>2024-08-15</td>\n",
              "      <td>535297,540579</td>\n",
              "      <td>29441.81</td>\n",
              "      <td>119.15</td>\n",
              "      <td>LA</td>\n",
              "      <td>...</td>\n",
              "      <td>Gourd Bayou-Youngs Bayou</td>\n",
              "      <td>S</td>\n",
              "      <td>LE,ID,DD</td>\n",
              "      <td>080500011308</td>\n",
              "      <td>0.0</td>\n",
              "      <td>0.0</td>\n",
              "      <td>NaN</td>\n",
              "      <td>NaN</td>\n",
              "      <td>1</td>\n",
              "      <td>POLYGON ((-92.00021 32.53586, -91.99994 32.535...</td>\n",
              "    </tr>\n",
              "    <tr>\n",
              "      <th>1</th>\n",
              "      <td>{916A17A6-B4A0-4FD7-9BB8-FFD1936B15B2}</td>\n",
              "      <td>{511D2AC8-11BA-45FC-AB98-F69D693D4C44}</td>\n",
              "      <td>Watershed Boundary Dataset (WBD)</td>\n",
              "      <td>Natural Resources and Conservation Service and...</td>\n",
              "      <td>None</td>\n",
              "      <td>2024-08-15</td>\n",
              "      <td>535512</td>\n",
              "      <td>11406.67</td>\n",
              "      <td>46.16</td>\n",
              "      <td>LA</td>\n",
              "      <td>...</td>\n",
              "      <td>Hams Creek</td>\n",
              "      <td>S</td>\n",
              "      <td>ID</td>\n",
              "      <td>080802050104</td>\n",
              "      <td>0.0</td>\n",
              "      <td>0.0</td>\n",
              "      <td>NaN</td>\n",
              "      <td>NaN</td>\n",
              "      <td>2</td>\n",
              "      <td>POLYGON ((-93.37574 30.58982, -93.3747 30.5891...</td>\n",
              "    </tr>\n",
              "    <tr>\n",
              "      <th>2</th>\n",
              "      <td>{493C7EC1-2F1C-4B84-AFFB-6F6868A9868E}</td>\n",
              "      <td>{511D2AC8-11BA-45FC-AB98-F69D693D4C44}</td>\n",
              "      <td>Watershed Boundary Dataset (WBD)</td>\n",
              "      <td>Natural Resources and Conservation Service and...</td>\n",
              "      <td>None</td>\n",
              "      <td>2024-08-15</td>\n",
              "      <td>547190,559640</td>\n",
              "      <td>29138.21</td>\n",
              "      <td>117.92</td>\n",
              "      <td>LA</td>\n",
              "      <td>...</td>\n",
              "      <td>Caney Creek-Bayou D'Arbonne</td>\n",
              "      <td>S</td>\n",
              "      <td>NM</td>\n",
              "      <td>080402060503</td>\n",
              "      <td>0.0</td>\n",
              "      <td>0.0</td>\n",
              "      <td>NaN</td>\n",
              "      <td>NaN</td>\n",
              "      <td>3</td>\n",
              "      <td>POLYGON ((-93.07761 32.88752, -93.07784 32.887...</td>\n",
              "    </tr>\n",
              "    <tr>\n",
              "      <th>3</th>\n",
              "      <td>{49A3C087-B460-4F97-9D99-78CBB675248B}</td>\n",
              "      <td>{511D2AC8-11BA-45FC-AB98-F69D693D4C44}</td>\n",
              "      <td>Watershed Boundary Dataset (WBD)</td>\n",
              "      <td>Natural Resources and Conservation Service and...</td>\n",
              "      <td>None</td>\n",
              "      <td>2024-08-15</td>\n",
              "      <td>77417,78285</td>\n",
              "      <td>17759.39</td>\n",
              "      <td>71.87</td>\n",
              "      <td>AR</td>\n",
              "      <td>...</td>\n",
              "      <td>L'Aigle Creek-Saline River</td>\n",
              "      <td>S</td>\n",
              "      <td>NM</td>\n",
              "      <td>080402020206</td>\n",
              "      <td>0.0</td>\n",
              "      <td>0.0</td>\n",
              "      <td>NaN</td>\n",
              "      <td>NaN</td>\n",
              "      <td>4</td>\n",
              "      <td>POLYGON ((-92.08947 33.29383, -92.0897 33.2938...</td>\n",
              "    </tr>\n",
              "    <tr>\n",
              "      <th>4</th>\n",
              "      <td>{0FB41498-11EA-4AB1-AF05-E2A8E5E2E274}</td>\n",
              "      <td>{511D2AC8-11BA-45FC-AB98-F69D693D4C44}</td>\n",
              "      <td>Watershed Boundary Dataset (WBD)</td>\n",
              "      <td>Natural Resources and Conservation Service and...</td>\n",
              "      <td>None</td>\n",
              "      <td>2024-08-15</td>\n",
              "      <td>1628466</td>\n",
              "      <td>98564.62</td>\n",
              "      <td>398.88</td>\n",
              "      <td>LA</td>\n",
              "      <td>...</td>\n",
              "      <td>West Cote Blanche Bay</td>\n",
              "      <td>W</td>\n",
              "      <td>NM</td>\n",
              "      <td>080801030800</td>\n",
              "      <td>0.0</td>\n",
              "      <td>0.0</td>\n",
              "      <td>NaN</td>\n",
              "      <td>NaN</td>\n",
              "      <td>5</td>\n",
              "      <td>POLYGON ((-91.62408 29.73947, -91.62195 29.737...</td>\n",
              "    </tr>\n",
              "  </tbody>\n",
              "</table>\n",
              "<p>5 rows × 21 columns</p>\n",
              "</div>"
            ],
            "text/plain": [
              "                                    tnmid  \\\n",
              "0  {8AFB1AF9-7296-4303-89DE-14CD073B859A}   \n",
              "1  {916A17A6-B4A0-4FD7-9BB8-FFD1936B15B2}   \n",
              "2  {493C7EC1-2F1C-4B84-AFFB-6F6868A9868E}   \n",
              "3  {49A3C087-B460-4F97-9D99-78CBB675248B}   \n",
              "4  {0FB41498-11EA-4AB1-AF05-E2A8E5E2E274}   \n",
              "\n",
              "                               metasource                        sourcedata  \\\n",
              "0  {511D2AC8-11BA-45FC-AB98-F69D693D4C44}  Watershed Boundary Dataset (WBD)   \n",
              "1  {511D2AC8-11BA-45FC-AB98-F69D693D4C44}  Watershed Boundary Dataset (WBD)   \n",
              "2  {511D2AC8-11BA-45FC-AB98-F69D693D4C44}  Watershed Boundary Dataset (WBD)   \n",
              "3  {511D2AC8-11BA-45FC-AB98-F69D693D4C44}  Watershed Boundary Dataset (WBD)   \n",
              "4  {511D2AC8-11BA-45FC-AB98-F69D693D4C44}  Watershed Boundary Dataset (WBD)   \n",
              "\n",
              "                                          sourceorig sourcefeat   loaddate  \\\n",
              "0  Natural Resources and Conservation Service and...       None 2024-08-15   \n",
              "1  Natural Resources and Conservation Service and...       None 2024-08-15   \n",
              "2  Natural Resources and Conservation Service and...       None 2024-08-15   \n",
              "3  Natural Resources and Conservation Service and...       None 2024-08-15   \n",
              "4  Natural Resources and Conservation Service and...       None 2024-08-15   \n",
              "\n",
              "      referenceg  areaacres  areasqkm states  ...  \\\n",
              "0  535297,540579   29441.81    119.15     LA  ...   \n",
              "1         535512   11406.67     46.16     LA  ...   \n",
              "2  547190,559640   29138.21    117.92     LA  ...   \n",
              "3    77417,78285   17759.39     71.87     AR  ...   \n",
              "4        1628466   98564.62    398.88     LA  ...   \n",
              "\n",
              "                          name hutype     humod         tohuc noncontrib  \\\n",
              "0     Gourd Bayou-Youngs Bayou      S  LE,ID,DD  080500011308        0.0   \n",
              "1                   Hams Creek      S        ID  080802050104        0.0   \n",
              "2  Caney Creek-Bayou D'Arbonne      S        NM  080402060503        0.0   \n",
              "3   L'Aigle Creek-Saline River      S        NM  080402020206        0.0   \n",
              "4        West Cote Blanche Bay      W        NM  080801030800        0.0   \n",
              "\n",
              "   noncontr_1  shape_Leng  shape_Area  ObjectID  \\\n",
              "0         0.0         NaN         NaN         1   \n",
              "1         0.0         NaN         NaN         2   \n",
              "2         0.0         NaN         NaN         3   \n",
              "3         0.0         NaN         NaN         4   \n",
              "4         0.0         NaN         NaN         5   \n",
              "\n",
              "                                            geometry  \n",
              "0  POLYGON ((-92.00021 32.53586, -91.99994 32.535...  \n",
              "1  POLYGON ((-93.37574 30.58982, -93.3747 30.5891...  \n",
              "2  POLYGON ((-93.07761 32.88752, -93.07784 32.887...  \n",
              "3  POLYGON ((-92.08947 33.29383, -92.0897 33.2938...  \n",
              "4  POLYGON ((-91.62408 29.73947, -91.62195 29.737...  \n",
              "\n",
              "[5 rows x 21 columns]"
            ]
          },
          "execution_count": 5,
          "metadata": {},
          "output_type": "execute_result"
        }
      ],
      "source": [
        "# call cached decorator\n",
        "@cached('wbd', override=False)\n",
        "# add function to apply decorator abilities to\n",
        "def read_wbd_file(wbd_filename, huc_level, cache_key):\n",
        "    # Define wbd_url\n",
        "    wbd_url = (\n",
        "        \"https://prd-tnm.s3.amazonaws.com\"\n",
        "        \"/StagedProducts/Hydrography/WBD/HU2/Shape/\"\n",
        "        f\"{wbd_filename}.zip\")\n",
        "    # et.data.get_data from earthpy library to download data from a zip file\n",
        "    # can also download Earthpy Dataset Subsets w/ et.data.get_data \n",
        "    wbd_dir = et.data.get_data(url=wbd_url)\n",
        "                  \n",
        "    # Read desired data\n",
        "    wbd_path = os.path.join(wbd_dir, 'Shape', f'WBDHU{huc_level}.shp')\n",
        "    # engine is the library used to read the file\n",
        "    wbd_gdf = gpd.read_file(wbd_path, engine='pyogrio')\n",
        "    return wbd_gdf\n",
        "\n",
        "# define huc_level\n",
        "huc_level = 12\n",
        "\n",
        "# create wbd_total_gdf \n",
        "wbd_total_gdf = read_wbd_file(\n",
        "    # filename found from URL noted above code cell\n",
        "    wbd_filename = 'WBD_08_HU2_Shape',\n",
        "    # huc_level defined above\n",
        "    huc_level = huc_level,\n",
        "    # cache_key is a kwarg for cached decorator\n",
        "    cache_key=f'hu{huc_level}'\n",
        ")\n",
        "\n",
        "# check wbd_total_gdf\n",
        "wbd_total_gdf.head()\n"
      ]
    },
    {
      "cell_type": "markdown",
      "id": "742cd26c",
      "metadata": {},
      "source": [
        "<span style=\"color: purple;\">\n",
        "\n",
        "#### STEP 2b. Select watershed of interest from region 8, 080902030506\n",
        "\n",
        "</span>"
      ]
    },
    {
      "cell_type": "code",
      "execution_count": 6,
      "id": "9756787c",
      "metadata": {},
      "outputs": [
        {
          "data": {
            "text/plain": [
              "Index(['tnmid', 'metasource', 'sourcedata', 'sourceorig', 'sourcefeat',\n",
              "       'loaddate', 'referenceg', 'areaacres', 'areasqkm', 'states', 'huc12',\n",
              "       'name', 'hutype', 'humod', 'tohuc', 'noncontrib', 'noncontr_1',\n",
              "       'shape_Leng', 'shape_Area', 'ObjectID', 'geometry'],\n",
              "      dtype='object')"
            ]
          },
          "execution_count": 6,
          "metadata": {},
          "output_type": "execute_result"
        }
      ],
      "source": [
        "# see all column names of the wbd_total_gdf\n",
        "wbd_total_gdf.columns"
      ]
    },
    {
      "cell_type": "code",
      "execution_count": 7,
      "id": "d06a3f74",
      "metadata": {},
      "outputs": [
        {
          "data": {
            "text/html": [
              "<div>\n",
              "<style scoped>\n",
              "    .dataframe tbody tr th:only-of-type {\n",
              "        vertical-align: middle;\n",
              "    }\n",
              "\n",
              "    .dataframe tbody tr th {\n",
              "        vertical-align: top;\n",
              "    }\n",
              "\n",
              "    .dataframe thead th {\n",
              "        text-align: right;\n",
              "    }\n",
              "</style>\n",
              "<table border=\"1\" class=\"dataframe\">\n",
              "  <thead>\n",
              "    <tr style=\"text-align: right;\">\n",
              "      <th></th>\n",
              "      <th>geometry</th>\n",
              "      <th>tnmid</th>\n",
              "      <th>metasource</th>\n",
              "      <th>sourcedata</th>\n",
              "      <th>sourceorig</th>\n",
              "      <th>sourcefeat</th>\n",
              "      <th>loaddate</th>\n",
              "      <th>referenceg</th>\n",
              "      <th>areaacres</th>\n",
              "      <th>areasqkm</th>\n",
              "      <th>...</th>\n",
              "      <th>huc12</th>\n",
              "      <th>name</th>\n",
              "      <th>hutype</th>\n",
              "      <th>humod</th>\n",
              "      <th>tohuc</th>\n",
              "      <th>noncontrib</th>\n",
              "      <th>noncontr_1</th>\n",
              "      <th>shape_Leng</th>\n",
              "      <th>shape_Area</th>\n",
              "      <th>ObjectID</th>\n",
              "    </tr>\n",
              "  </thead>\n",
              "  <tbody>\n",
              "    <tr>\n",
              "      <th>0</th>\n",
              "      <td>POLYGON ((-89.97047 29.74687, -89.96593 29.750...</td>\n",
              "      <td>{E942B72E-599E-48F5-908A-EA5265701C14}</td>\n",
              "      <td>{511D2AC8-11BA-45FC-AB98-F69D693D4C44}</td>\n",
              "      <td>Watershed Boundary Dataset (WBD)</td>\n",
              "      <td>Natural Resources and Conservation Service and...</td>\n",
              "      <td>None</td>\n",
              "      <td>2024-08-15</td>\n",
              "      <td>536881,539539</td>\n",
              "      <td>37355.86</td>\n",
              "      <td>151.17</td>\n",
              "      <td>...</td>\n",
              "      <td>080902030506</td>\n",
              "      <td>Manuel Canal-Spanish Lake</td>\n",
              "      <td>D</td>\n",
              "      <td>GC</td>\n",
              "      <td>080902030508</td>\n",
              "      <td>0.0</td>\n",
              "      <td>0.0</td>\n",
              "      <td>NaN</td>\n",
              "      <td>NaN</td>\n",
              "      <td>2560</td>\n",
              "    </tr>\n",
              "  </tbody>\n",
              "</table>\n",
              "<p>1 rows × 21 columns</p>\n",
              "</div>"
            ],
            "text/plain": [
              "                                            geometry  \\\n",
              "0  POLYGON ((-89.97047 29.74687, -89.96593 29.750...   \n",
              "\n",
              "                                    tnmid  \\\n",
              "0  {E942B72E-599E-48F5-908A-EA5265701C14}   \n",
              "\n",
              "                               metasource                        sourcedata  \\\n",
              "0  {511D2AC8-11BA-45FC-AB98-F69D693D4C44}  Watershed Boundary Dataset (WBD)   \n",
              "\n",
              "                                          sourceorig sourcefeat   loaddate  \\\n",
              "0  Natural Resources and Conservation Service and...       None 2024-08-15   \n",
              "\n",
              "      referenceg  areaacres  areasqkm  ...         huc12  \\\n",
              "0  536881,539539   37355.86    151.17  ...  080902030506   \n",
              "\n",
              "                        name hutype humod         tohuc noncontrib  \\\n",
              "0  Manuel Canal-Spanish Lake      D    GC  080902030508        0.0   \n",
              "\n",
              "   noncontr_1  shape_Leng  shape_Area  ObjectID  \n",
              "0         0.0         NaN         NaN      2560  \n",
              "\n",
              "[1 rows x 21 columns]"
            ]
          },
          "execution_count": 7,
          "metadata": {},
          "output_type": "execute_result"
        }
      ],
      "source": [
        "# select the 080902030506 rows from the wbd_total_gdf\n",
        "wbd_gdf = (\n",
        "    # from the huc12 column...\n",
        "    wbd_total_gdf[wbd_total_gdf[f'huc{huc_level}']\n",
        "    # select only the rows for 080902030506\n",
        "    .isin(['080902030506'])]\n",
        "    # dissolve all geometries to a single geometric feature\n",
        "    # and aggreagate all rows of data in a group\n",
        "    .dissolve()\n",
        ")\n",
        "\n",
        "# check wbd_gdf\n",
        "wbd_gdf"
      ]
    },
    {
      "cell_type": "code",
      "execution_count": 8,
      "id": "d2fcbea7",
      "metadata": {},
      "outputs": [
        {
          "name": "stdout",
          "output_type": "stream",
          "text": [
            "Watershed 080902030506 is in 0    LA\n",
            "Name: states, dtype: object\n"
          ]
        }
      ],
      "source": [
        "print(f\"Watershed 080902030506 is in {wbd_gdf['states']}\")"
      ]
    },
    {
      "cell_type": "markdown",
      "id": "2f4510fb",
      "metadata": {},
      "source": [
        "<span style=\"color: purple;\">\n",
        "\n",
        "#### STEP 2c. Create site map of watershed 080902030506 in Louisiana, USA & describe watershed\n",
        "\n",
        "</span>"
      ]
    },
    {
      "cell_type": "code",
      "execution_count": 9,
      "id": "6a9587dd",
      "metadata": {},
      "outputs": [
        {
          "data": {},
          "metadata": {},
          "output_type": "display_data"
        },
        {
          "data": {
            "application/vnd.holoviews_exec.v0+json": "",
            "text/html": [
              "<div id='p1013'>\n",
              "  <div id=\"c701fd10-eb1c-4190-b589-7f383961d66f\" data-root-id=\"p1013\" style=\"display: contents;\"></div>\n",
              "</div>\n",
              "<script type=\"application/javascript\">(function(root) {\n",
              "  var docs_json = {\"4d23ab83-cd89-4067-961c-da107643289c\":{\"version\":\"3.5.2\",\"title\":\"Bokeh Application\",\"roots\":[{\"type\":\"object\",\"name\":\"Row\",\"id\":\"p1013\",\"attributes\":{\"name\":\"Row01712\",\"tags\":[\"embedded\"],\"stylesheets\":[\"\\n:host(.pn-loading):before, .pn-loading:before {\\n  background-color: #c3c3c3;\\n  mask-size: auto calc(min(50%, 400px));\\n  -webkit-mask-size: auto calc(min(50%, 400px));\\n}\",{\"type\":\"object\",\"name\":\"ImportedStyleSheet\",\"id\":\"p1016\",\"attributes\":{\"url\":\"https://cdn.holoviz.org/panel/1.5.2/dist/css/loading.css\"}},{\"type\":\"object\",\"name\":\"ImportedStyleSheet\",\"id\":\"p1120\",\"attributes\":{\"url\":\"https://cdn.holoviz.org/panel/1.5.2/dist/css/listpanel.css\"}},{\"type\":\"object\",\"name\":\"ImportedStyleSheet\",\"id\":\"p1014\",\"attributes\":{\"url\":\"https://cdn.holoviz.org/panel/1.5.2/dist/bundled/theme/default.css\"}},{\"type\":\"object\",\"name\":\"ImportedStyleSheet\",\"id\":\"p1015\",\"attributes\":{\"url\":\"https://cdn.holoviz.org/panel/1.5.2/dist/bundled/theme/native.css\"}}],\"margin\":0,\"sizing_mode\":\"stretch_width\",\"align\":\"start\",\"children\":[{\"type\":\"object\",\"name\":\"Spacer\",\"id\":\"p1017\",\"attributes\":{\"name\":\"HSpacer01718\",\"stylesheets\":[\"\\n:host(.pn-loading):before, .pn-loading:before {\\n  background-color: #c3c3c3;\\n  mask-size: auto calc(min(50%, 400px));\\n  -webkit-mask-size: auto calc(min(50%, 400px));\\n}\",{\"id\":\"p1016\"},{\"id\":\"p1014\"},{\"id\":\"p1015\"}],\"margin\":0,\"sizing_mode\":\"stretch_width\",\"align\":\"start\"}},{\"type\":\"object\",\"name\":\"Figure\",\"id\":\"p1069\",\"attributes\":{\"width\":null,\"height\":null,\"margin\":[5,10],\"sizing_mode\":\"fixed\",\"align\":\"start\",\"x_range\":{\"type\":\"object\",\"name\":\"Range1d\",\"id\":\"p1033\",\"attributes\":{\"tags\":[[[\"Longitude\",null]],[]],\"start\":-10017511.294466687,\"end\":-9992975.898759374,\"reset_start\":-10017511.294466687,\"reset_end\":-9992975.898759374,\"min_interval\":5}},\"y_range\":{\"type\":\"object\",\"name\":\"Range1d\",\"id\":\"p1034\",\"attributes\":{\"tags\":[[[\"Latitude\",null]],{\"type\":\"map\",\"entries\":[[\"invert_yaxis\",false],[\"autorange\",false]]}],\"start\":3461117.9847856276,\"end\":3482479.510384815,\"reset_start\":3461117.9847856276,\"reset_end\":3482479.510384815,\"min_interval\":5}},\"x_scale\":{\"type\":\"object\",\"name\":\"LinearScale\",\"id\":\"p1079\"},\"y_scale\":{\"type\":\"object\",\"name\":\"LinearScale\",\"id\":\"p1080\"},\"title\":{\"type\":\"object\",\"name\":\"Title\",\"id\":\"p1072\",\"attributes\":{\"text\":\"080902030506 Watershed Boundary in Louisiana, USA\",\"text_color\":\"black\",\"text_font_size\":\"12pt\"}},\"renderers\":[{\"type\":\"object\",\"name\":\"TileRenderer\",\"id\":\"p1102\",\"attributes\":{\"level\":\"underlay\",\"tile_source\":{\"type\":\"object\",\"name\":\"WMTSTileSource\",\"id\":\"p1098\",\"attributes\":{\"url\":\"https://server.arcgisonline.com/ArcGIS/rest/services/World_Imagery/MapServer/tile/{Z}/{Y}/{X}.jpg\",\"attribution\":\"&copy; <a href=\\\"http://downloads.esri.com/ArcGISOnline/docs/tou_summary.pdf\\\">Esri</a>, Earthstar Geographics\"}}}},{\"type\":\"object\",\"name\":\"GlyphRenderer\",\"id\":\"p1113\",\"attributes\":{\"data_source\":{\"type\":\"object\",\"name\":\"ColumnDataSource\",\"id\":\"p1104\",\"attributes\":{\"selected\":{\"type\":\"object\",\"name\":\"Selection\",\"id\":\"p1105\",\"attributes\":{\"indices\":[],\"line_indices\":[]}},\"selection_policy\":{\"type\":\"object\",\"name\":\"UnionRenderers\",\"id\":\"p1106\"},\"data\":{\"type\":\"map\",\"entries\":[[\"xs\",[[[{\"type\":\"ndarray\",\"array\":{\"type\":\"bytes\",\"data\":\"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\"},\"shape\":[454],\"dtype\":\"float64\",\"order\":\"little\"}]]]],[\"ys\",[[[{\"type\":\"ndarray\",\"array\":{\"type\":\"bytes\",\"data\":\"B0kWyWZ7SkGGcN3iTHxKQY8lS7mQfEpB2DG2tq98SkH6K409X3xKQTbM2OaCfEpBmVY4yq58SkE+yVSt5HxKQVIDgR1HfUpBUTfNxxZ+SkF7AYYfXX5KQSOKmNknf0pBBcs0ajeASkFh6KDy0IFKQS6xAln1gUpBx9iX+jaCSkEiibqAbIJKQTQP5PyfgkpB3UdTgtqCSkGju/BOCYNKQY/gQAVjg0pBHDuidOWESkELfoi26YVKQe7TII2xhkpBGWB+7z+HSkF3fk1Vk4dKQa0exuu4h0pB7Y5TbO+HSkGM8T5afodKQbEx27Ekh0pB2Mq3wPuGSkFYp7u384ZKQXBYAR4Yh0pBR5OsVVqHSkEn15AgeodKQY12OnmBiEpBFD1Y1AyJSkEmlRdwfopKQQc44By3ikpBvwZv2iSLSkGQzZxFPYtKQXw/ijohjEpBjTRKWkCMSkHVV4hmJoxKQVmCQd/1i0pBB+kk/duLSkE5Pj124ItKQdBX5dkFjEpBkhP88CmMSkG5SaNZZYxKQfvctRjQjEpB1FLpdqGMSkFWdxaMioxKQXFUEtJejEpBUeJ1pYWMSkFpnq3S9IxKQYdPsT8XjUpBQB8bLZKNSkFUUOPLVI1KQbsuEH4ijUpBLaDu//6MSkFQCsnX34xKQXYc0HpbjEpBabPLF0CMSkFeGsMxF4xKQfK3uoYWjEpB84lNvJSLSkErCPaUdotKQftA6cMsi0pBWzjNlEmLSkFIdf033YtKQUtN5/Xmi0pB7dnCnQ+MSkFfUhoAL4xKQWliLiFVjEpBttWsmvSLSkGT5Mv2rI1KQaEmvAzKjUpBkjoMJcKNSkGDVeBZy41KQQxM3VPXjUpBkCOpSaSNSkGIvZv8pY1KQVJ670IGjkpB19PDaUyOSkExuzVwRI5KQaapqmHOjUpBU4Fa/KiNSkEZSZmpXY1KQYPzdOtSjUpBMo7UImuNSkEzDlXtNo5KQdzVXGBNjkpBC7NYPlGOSkH44yMXXY5KQYslO7a4jEpBE0Exd6KMSkGS/MjvGIxKQUFnYVUhjEpBQT/lb7eMSkHsYcRFvoxKQUHs1DITjUpBXIjMRA+NSkEaI5skUo5KQV0QqT9ejkpBF1mGIFyOSkFBokzxko5KQdQk/CxhjkpBfy4g4CWOSkEDBVsG4I1KQRdhxqSQjUpBNeLsklKNSkH1mCybM41KQTfT3epcjUpBXPWfaceNSkFZSClB4o1KQZKPu8/CjUpBO4uOyY+NSkGI1JqBuY1KQdPeXSC7jUpBa/SEm5GNSkFu3MeFHo1KQagoq/6ejEpBr3SeLYGMSkElnnzrOYxKQVmo8Zaei0pBpfqNjF2LSkFSmVuZFItKQR/OZueyikpBNRI7kYyKSkEtj2oycopKQa24mX1hikpBxQkpDUKKSkGk3awj/IlKQaqUD6mpiUpBpuvzskKJSkHlEnrSzohKQXPPrJ1yiEpBhLmlZvSGSkEjsDT3i4ZKQRDM1ZwHhkpB3iv8qJaFSkEHElUN54RKQSdwCqAWhEpB0wDfocmDSkGap8sqfINKQe+S0Z9eg0pBRkvujWmDSkFMTr4maoNKQcDg5baKg0pB8tptD4yDSkH13R1Vg4NKQcEC+wSLg0pBKMoEV8GDSkHWueqs7oNKQWWO4+Dqg0pBDCGF0PaDSkERkfCK94NKQcu1cor4g0pBRxx/1w+ESkEDNZ198oNKQXzWCcDQg0pBW6jx8JyDSkFx418vk4NKQTn2vmKUg0pB9DU9JbmDSkFXcnOV1INKQdg3TUgHhEpBg5rD30+ESkHVW55ug4RKQRAQvuV2hEpBK8r3nT6ESkFMICWrF4RKQejTv3bYg0pBLSVSoZqDSkHpo2q/bINKQVq8/nVzg0pBdmIh+4yDSkECJF+5o4NKQQ8FMFHbg0pBo03z9AaESkFRhJxzGYRKQUMUFHQDhEpBamQBBdyDSkHEzGGeroNKQeaPK1HBg0pBYxcgGAOESkEZyR/pKYRKQQ23InxWhEpBkRq4cFmESkGC3C4XYIRKQVKyVZ63hEpBpmWqKc2ESkH1rvVv7IRKQbrRpcnqhEpBToTafdKESkH1S68j3YRKQT2ebg/jhEpB+eYmQN+ESkFZ0KvRooRKQeD+tmZZhEpByYwGBUmESkGRscPaW4RKQRdXrk+uhEpB/lXnssaESkH26cqe1oRKQRMedEEChUpBROVtEP+ESkGEs3y9BYVKQSf6EO1ThEpB9Q4BypCESkF4RLP2mYRKQdwG8T1DhUpB3Q5q0piFSkGZgFSzmoVKQb1EkBO8hEpBDxQv9H6ESkFg7U26RYRKQYKwVC9ohEpBNnANbZ6ESkFaikjfpYRKQUFphBiwhEpBYaTZ8PSESkHvAJX1MIVKQVJ9Y59shUpBEF42apSFSkHvJ5NonoVKQQuWYtbQhUpBsjXuvveFSkEfL9aPCYZKQT0Xqj7+hUpB3tqiCdOFSkE2PPwUiIVKQZ56KqGGhUpB8NZiqr+FSkEMNrpt14VKQQuAhyrrhUpBBqAha+KFSkGf/aZur4VKQbMC22+lhUpBEwpKhI6FSkGe+v3MaIVKQUt+lLRkhUpBjq9n6tmESkG7f/oGG4RKQVhyP8zqg0pBIisGAJiDSkEVsgF0LYNKQYGFeHvhgkpBLG5pm56CSkH2LTByUIJKQTCIOKUBgkpBTvSV5OCBSkH2m4MNu4FKQXtYtftUgUpBTiPfFNuASkH4qr0/RoBKQXefvCnKf0pBc4ryMnh/SkEJ/zyBJX9KQdxJNxvqfkpBBni0RKl+SkH2S3XXXH5KQQon7m0YfkpBncM933t+SkFO7vI7cn5KQWVbuRgjfkpBrirXrtR9SkE5m41gg31KQeBiVz9/fUpBBthFO2B9SkF9FQrl/XxKQY2kmc7jfEpB8NrLGN98SkEEk4ZF+nxKQdaB4lfmfEpBkcZ4SL98SkHiaFcQjXxKQQZZvAF/fEpBjLTk/UZ8SkF3eb8XA3xKQXBXFzm3e0pB9FjhoWp7SkFEmT8YZHtKQbrbpP2Je0pBoTPGkYV7SkGY0LyCVHtKQadSv/Yee0pBKTxCqRh7SkHRrjCEJ3tKQbZumDYme0pBTWnSB9h6SkHgBXvNfHpKQZoD2O5JekpBSWVLYyN6SkGiYFru7nlKQX9w4n7LeUpBGRRvu4t5SkGwr1nsQ3lKQXYzbub7eEpBMgOu3ah4SkFccBzzQXdKQTWUuw8Fd0pBUHOCZxh3SkEKNVdddndKQWdn0qKjd0pBCH1cfqR3SkE010dmrXdKQYvj9nqLd0pB0HQkRiJ3SkH+SvMGwHZKQcDKJxI1dkpBWO28ViB2SkHu88wEBXZKQWS8c4/AdUpBsw7cS9J1SkGEhx/5sXVKQWuQXl+mdUpBisBA6YZ1SkEpJhlce3VKQSTe2/ShdUpBrOnwHap1SkGjSsRd5nVKQS840H8UdkpBPVg8sz12SkEmjUVUYnZKQQf551uZdkpBn2rTgZt2SkF3ipMUmHZKQVGL/RuDdkpBKz5Zvmp2SkH2qJdFVHZKQdt5YY1MdkpB5AzNaEp2SkEBaOg6SXZKQVho29ogdkpBmcwLhPp1SkHfElIgA3ZKQS3k/O0ydkpBRZSOgUN2SkGDAqB7ZXZKQTsDzRuedkpBYWCci7l2SkFWevEM1nZKQUBBKELSdkpBSE3sM4R2SkHcqc9kRXZKQelShpYndkpBBcIwejF2SkHAKANMRnZKQara6lNVdkpBjCWLdlx2SkFl8FQQW3ZKQVw/j9ZtdkpBPlKisON1SkF82WJ1tHVKQe3cnn0RdUpBJgSl7710SkE7Vz81jnRKQV2DIC9QdEpBeidG4TF0SkG0CshCBXRKQUJOXM68c0pBl5jE9GBzSkFCNNrj9XJKQSCmutqIckpB3vg6r0BySkFoZrH/GHJKQa1huCUIckpB6Ax7pwxySkG4d+CGtnFKQU34pstycUpBzF8QeDBxSkGpySAw/nBKQYWNlAa7cEpBrvv7535wSkH4CyHEU3BKQWxpx+o3cEpB5noLpxxwSkH+c6O++29KQXrMot2zb0pBTMD0WmVvSkHhGkI3FW9KQcI43SEMb0pB8tjWse1uSkFHQA0fzm5KQRfU+8GEbkpB2w5JJE5uSkE4eXChGm5KQbGHINfbbUpBWwUA865tSkHwHlV6om1KQVl3022MbUpBYQNld1ltSkFybHz5OG1KQQlwKo0TbUpB/g39g+FsSkGSJ7UesGxKQaxpt1tgbEpBVhibGPFrSkE8C54zm2tKQdLccClva0pBrcUrDF5rSkEFw9GjXWtKQZIRinZBa0pBqvQ0EyprSkHEChvOI2tKQTSMHTM2a0pBoUMA5JBrSkHWoA9V+GtKQXpRHg0sbEpBqfLVO5VsSkGGNg6vt2xKQUuoBNTQbEpBb88MDPNsSkEtoOiIJm1KQa63l99pbUpBB5yzG5FtSkEImmPA3m1KQctZV6JAbkpBxSWxmEJvSkEe+KBby29KQZx5Dy5LcEpBwQ/kgt5wSkHNk+B3WXFKQa+RPj2ucUpB3F+4cARySkFkQHH8KHJKQa62w7RqckpB79vul8lySkEhqYdbQnNKQWwjt+qFc0pB3glHZL9zSkEgsnG573NKQR3ytQBPdEpBgsJpBNh0SkFVLBOjxHVKQaasJ7e1dkpBHAaFa+B2SkHOQN+MLHdKQQZ2s2Osd0pBIG8m6zx4SkESBlPAe3hKQYn/WFzOeEpBncrHy9N4SkFmqjFpuHhKQXDOoymWeEpBFAEvGIh4SkFzeuKYi3hKQa2c3LT0eEpBh8nqvBN5SkGjz+aTPnlKQZjIpGkRekpBB0kWyWZ7SkE=\"},\"shape\":[454],\"dtype\":\"float64\",\"order\":\"little\"}]]]]]}}},\"view\":{\"type\":\"object\",\"name\":\"CDSView\",\"id\":\"p1114\",\"attributes\":{\"filter\":{\"type\":\"object\",\"name\":\"AllIndices\",\"id\":\"p1115\"}}},\"glyph\":{\"type\":\"object\",\"name\":\"MultiPolygons\",\"id\":\"p1110\",\"attributes\":{\"xs\":{\"type\":\"field\",\"field\":\"xs\"},\"ys\":{\"type\":\"field\",\"field\":\"ys\"},\"line_color\":{\"type\":\"value\",\"value\":\"red\"},\"line_alpha\":{\"type\":\"value\",\"value\":0.4},\"fill_color\":{\"type\":\"value\",\"value\":\"white\"},\"fill_alpha\":{\"type\":\"value\",\"value\":0.4},\"hatch_color\":{\"type\":\"value\",\"value\":\"white\"},\"hatch_alpha\":{\"type\":\"value\",\"value\":0.4}}},\"selection_glyph\":{\"type\":\"object\",\"name\":\"MultiPolygons\",\"id\":\"p1116\",\"attributes\":{\"xs\":{\"type\":\"field\",\"field\":\"xs\"},\"ys\":{\"type\":\"field\",\"field\":\"ys\"},\"line_color\":{\"type\":\"value\",\"value\":\"red\"},\"line_alpha\":{\"type\":\"value\",\"value\":0.4},\"line_width\":{\"type\":\"value\",\"value\":1},\"line_join\":{\"type\":\"value\",\"value\":\"bevel\"},\"line_cap\":{\"type\":\"value\",\"value\":\"butt\"},\"line_dash\":{\"type\":\"value\",\"value\":[]},\"line_dash_offset\":{\"type\":\"value\",\"value\":0},\"fill_color\":{\"type\":\"value\",\"value\":\"white\"},\"fill_alpha\":{\"type\":\"value\",\"value\":0.4},\"hatch_color\":{\"type\":\"value\",\"value\":\"white\"},\"hatch_alpha\":{\"type\":\"value\",\"value\":0.4},\"hatch_scale\":{\"type\":\"value\",\"value\":12.0},\"hatch_pattern\":{\"type\":\"value\",\"value\":null},\"hatch_weight\":{\"type\":\"value\",\"value\":1.0}}},\"nonselection_glyph\":{\"type\":\"object\",\"name\":\"MultiPolygons\",\"id\":\"p1111\",\"attributes\":{\"xs\":{\"type\":\"field\",\"field\":\"xs\"},\"ys\":{\"type\":\"field\",\"field\":\"ys\"},\"line_color\":{\"type\":\"value\",\"value\":\"red\"},\"line_alpha\":{\"type\":\"value\",\"value\":0.4},\"fill_color\":{\"type\":\"value\",\"value\":\"white\"},\"fill_alpha\":{\"type\":\"value\",\"value\":0.4},\"hatch_color\":{\"type\":\"value\",\"value\":\"white\"},\"hatch_alpha\":{\"type\":\"value\",\"value\":0.1}}},\"muted_glyph\":{\"type\":\"object\",\"name\":\"MultiPolygons\",\"id\":\"p1112\",\"attributes\":{\"xs\":{\"type\":\"field\",\"field\":\"xs\"},\"ys\":{\"type\":\"field\",\"field\":\"ys\"},\"line_color\":{\"type\":\"value\",\"value\":\"red\"},\"line_alpha\":{\"type\":\"value\",\"value\":0.2},\"fill_color\":{\"type\":\"value\",\"value\":\"white\"},\"fill_alpha\":{\"type\":\"value\",\"value\":0.2},\"hatch_color\":{\"type\":\"value\",\"value\":\"white\"},\"hatch_alpha\":{\"type\":\"value\",\"value\":0.2}}}}}],\"toolbar\":{\"type\":\"object\",\"name\":\"Toolbar\",\"id\":\"p1078\",\"attributes\":{\"tools\":[{\"type\":\"object\",\"name\":\"WheelZoomTool\",\"id\":\"p1037\",\"attributes\":{\"renderers\":\"auto\",\"zoom_on_axis\":false}},{\"type\":\"object\",\"name\":\"BoxZoomTool\",\"id\":\"p1045\",\"attributes\":{\"overlay\":{\"type\":\"object\",\"name\":\"BoxAnnotation\",\"id\":\"p1038\",\"attributes\":{\"syncable\":false,\"line_color\":\"black\",\"line_alpha\":1.0,\"line_width\":2,\"line_dash\":[4,4],\"fill_color\":\"lightgrey\",\"fill_alpha\":0.5,\"level\":\"overlay\",\"visible\":false,\"left\":{\"type\":\"number\",\"value\":\"nan\"},\"right\":{\"type\":\"number\",\"value\":\"nan\"},\"top\":{\"type\":\"number\",\"value\":\"nan\"},\"bottom\":{\"type\":\"number\",\"value\":\"nan\"},\"left_units\":\"canvas\",\"right_units\":\"canvas\",\"top_units\":\"canvas\",\"bottom_units\":\"canvas\",\"handles\":{\"type\":\"object\",\"name\":\"BoxInteractionHandles\",\"id\":\"p1010\",\"attributes\":{\"all\":{\"type\":\"object\",\"name\":\"AreaVisuals\",\"id\":\"p1009\",\"attributes\":{\"fill_color\":\"white\",\"hover_fill_color\":\"lightgray\"}}}}}},\"match_aspect\":true}},{\"type\":\"object\",\"name\":\"PanTool\",\"id\":\"p1092\"},{\"type\":\"object\",\"name\":\"ResetTool\",\"id\":\"p1093\"}],\"active_drag\":{\"id\":\"p1092\"}}},\"left\":[{\"type\":\"object\",\"name\":\"LinearAxis\",\"id\":\"p1086\",\"attributes\":{\"ticker\":{\"type\":\"object\",\"name\":\"MercatorTicker\",\"id\":\"p1096\",\"attributes\":{\"mantissas\":[1,2,5],\"dimension\":\"lat\"}},\"formatter\":{\"type\":\"object\",\"name\":\"MercatorTickFormatter\",\"id\":\"p1097\",\"attributes\":{\"dimension\":\"lat\"}},\"axis_label\":\"Latitude\",\"major_label_policy\":{\"type\":\"object\",\"name\":\"AllLabels\",\"id\":\"p1089\"}}}],\"below\":[{\"type\":\"object\",\"name\":\"LinearAxis\",\"id\":\"p1081\",\"attributes\":{\"ticker\":{\"type\":\"object\",\"name\":\"MercatorTicker\",\"id\":\"p1094\",\"attributes\":{\"mantissas\":[1,2,5],\"dimension\":\"lon\"}},\"formatter\":{\"type\":\"object\",\"name\":\"MercatorTickFormatter\",\"id\":\"p1095\",\"attributes\":{\"dimension\":\"lon\"}},\"axis_label\":\"Longitude\",\"major_label_policy\":{\"type\":\"object\",\"name\":\"AllLabels\",\"id\":\"p1084\"}}}],\"center\":[{\"type\":\"object\",\"name\":\"Grid\",\"id\":\"p1085\",\"attributes\":{\"axis\":{\"id\":\"p1081\"},\"grid_line_color\":null}},{\"type\":\"object\",\"name\":\"Grid\",\"id\":\"p1090\",\"attributes\":{\"dimension\":1,\"axis\":{\"id\":\"p1086\"},\"grid_line_color\":null}}],\"frame_width\":400,\"frame_height\":348,\"min_border_top\":10,\"min_border_bottom\":10,\"min_border_left\":10,\"min_border_right\":10,\"output_backend\":\"webgl\",\"match_aspect\":true}},{\"type\":\"object\",\"name\":\"Spacer\",\"id\":\"p1118\",\"attributes\":{\"name\":\"HSpacer01719\",\"stylesheets\":[\"\\n:host(.pn-loading):before, .pn-loading:before {\\n  background-color: #c3c3c3;\\n  mask-size: auto calc(min(50%, 400px));\\n  -webkit-mask-size: auto calc(min(50%, 400px));\\n}\",{\"id\":\"p1016\"},{\"id\":\"p1014\"},{\"id\":\"p1015\"}],\"margin\":0,\"sizing_mode\":\"stretch_width\",\"align\":\"start\"}}]}}],\"defs\":[{\"type\":\"model\",\"name\":\"ReactiveHTML1\"},{\"type\":\"model\",\"name\":\"FlexBox1\",\"properties\":[{\"name\":\"align_content\",\"kind\":\"Any\",\"default\":\"flex-start\"},{\"name\":\"align_items\",\"kind\":\"Any\",\"default\":\"flex-start\"},{\"name\":\"flex_direction\",\"kind\":\"Any\",\"default\":\"row\"},{\"name\":\"flex_wrap\",\"kind\":\"Any\",\"default\":\"wrap\"},{\"name\":\"gap\",\"kind\":\"Any\",\"default\":\"\"},{\"name\":\"justify_content\",\"kind\":\"Any\",\"default\":\"flex-start\"}]},{\"type\":\"model\",\"name\":\"FloatPanel1\",\"properties\":[{\"name\":\"config\",\"kind\":\"Any\",\"default\":{\"type\":\"map\"}},{\"name\":\"contained\",\"kind\":\"Any\",\"default\":true},{\"name\":\"position\",\"kind\":\"Any\",\"default\":\"right-top\"},{\"name\":\"offsetx\",\"kind\":\"Any\",\"default\":null},{\"name\":\"offsety\",\"kind\":\"Any\",\"default\":null},{\"name\":\"theme\",\"kind\":\"Any\",\"default\":\"primary\"},{\"name\":\"status\",\"kind\":\"Any\",\"default\":\"normalized\"}]},{\"type\":\"model\",\"name\":\"GridStack1\",\"properties\":[{\"name\":\"mode\",\"kind\":\"Any\",\"default\":\"warn\"},{\"name\":\"ncols\",\"kind\":\"Any\",\"default\":null},{\"name\":\"nrows\",\"kind\":\"Any\",\"default\":null},{\"name\":\"allow_resize\",\"kind\":\"Any\",\"default\":true},{\"name\":\"allow_drag\",\"kind\":\"Any\",\"default\":true},{\"name\":\"state\",\"kind\":\"Any\",\"default\":[]}]},{\"type\":\"model\",\"name\":\"drag1\",\"properties\":[{\"name\":\"slider_width\",\"kind\":\"Any\",\"default\":5},{\"name\":\"slider_color\",\"kind\":\"Any\",\"default\":\"black\"},{\"name\":\"value\",\"kind\":\"Any\",\"default\":50}]},{\"type\":\"model\",\"name\":\"click1\",\"properties\":[{\"name\":\"terminal_output\",\"kind\":\"Any\",\"default\":\"\"},{\"name\":\"debug_name\",\"kind\":\"Any\",\"default\":\"\"},{\"name\":\"clears\",\"kind\":\"Any\",\"default\":0}]},{\"type\":\"model\",\"name\":\"FastWrapper1\",\"properties\":[{\"name\":\"object\",\"kind\":\"Any\",\"default\":null},{\"name\":\"style\",\"kind\":\"Any\",\"default\":null}]},{\"type\":\"model\",\"name\":\"NotificationAreaBase1\",\"properties\":[{\"name\":\"js_events\",\"kind\":\"Any\",\"default\":{\"type\":\"map\"}},{\"name\":\"position\",\"kind\":\"Any\",\"default\":\"bottom-right\"},{\"name\":\"_clear\",\"kind\":\"Any\",\"default\":0}]},{\"type\":\"model\",\"name\":\"NotificationArea1\",\"properties\":[{\"name\":\"js_events\",\"kind\":\"Any\",\"default\":{\"type\":\"map\"}},{\"name\":\"notifications\",\"kind\":\"Any\",\"default\":[]},{\"name\":\"position\",\"kind\":\"Any\",\"default\":\"bottom-right\"},{\"name\":\"_clear\",\"kind\":\"Any\",\"default\":0},{\"name\":\"types\",\"kind\":\"Any\",\"default\":[{\"type\":\"map\",\"entries\":[[\"type\",\"warning\"],[\"background\",\"#ffc107\"],[\"icon\",{\"type\":\"map\",\"entries\":[[\"className\",\"fas fa-exclamation-triangle\"],[\"tagName\",\"i\"],[\"color\",\"white\"]]}]]},{\"type\":\"map\",\"entries\":[[\"type\",\"info\"],[\"background\",\"#007bff\"],[\"icon\",{\"type\":\"map\",\"entries\":[[\"className\",\"fas fa-info-circle\"],[\"tagName\",\"i\"],[\"color\",\"white\"]]}]]}]}]},{\"type\":\"model\",\"name\":\"Notification\",\"properties\":[{\"name\":\"background\",\"kind\":\"Any\",\"default\":null},{\"name\":\"duration\",\"kind\":\"Any\",\"default\":3000},{\"name\":\"icon\",\"kind\":\"Any\",\"default\":null},{\"name\":\"message\",\"kind\":\"Any\",\"default\":\"\"},{\"name\":\"notification_type\",\"kind\":\"Any\",\"default\":null},{\"name\":\"_destroyed\",\"kind\":\"Any\",\"default\":false}]},{\"type\":\"model\",\"name\":\"TemplateActions1\",\"properties\":[{\"name\":\"open_modal\",\"kind\":\"Any\",\"default\":0},{\"name\":\"close_modal\",\"kind\":\"Any\",\"default\":0}]},{\"type\":\"model\",\"name\":\"BootstrapTemplateActions1\",\"properties\":[{\"name\":\"open_modal\",\"kind\":\"Any\",\"default\":0},{\"name\":\"close_modal\",\"kind\":\"Any\",\"default\":0}]},{\"type\":\"model\",\"name\":\"TemplateEditor1\",\"properties\":[{\"name\":\"layout\",\"kind\":\"Any\",\"default\":[]}]},{\"type\":\"model\",\"name\":\"MaterialTemplateActions1\",\"properties\":[{\"name\":\"open_modal\",\"kind\":\"Any\",\"default\":0},{\"name\":\"close_modal\",\"kind\":\"Any\",\"default\":0}]},{\"type\":\"model\",\"name\":\"ReactiveESM1\"},{\"type\":\"model\",\"name\":\"JSComponent1\"},{\"type\":\"model\",\"name\":\"ReactComponent1\"},{\"type\":\"model\",\"name\":\"AnyWidgetComponent1\"},{\"type\":\"model\",\"name\":\"request_value1\",\"properties\":[{\"name\":\"fill\",\"kind\":\"Any\",\"default\":\"none\"},{\"name\":\"_synced\",\"kind\":\"Any\",\"default\":null},{\"name\":\"_request_sync\",\"kind\":\"Any\",\"default\":0}]}]}};\n",
              "  var render_items = [{\"docid\":\"4d23ab83-cd89-4067-961c-da107643289c\",\"roots\":{\"p1013\":\"c701fd10-eb1c-4190-b589-7f383961d66f\"},\"root_ids\":[\"p1013\"]}];\n",
              "  var docs = Object.values(docs_json)\n",
              "  if (!docs) {\n",
              "    return\n",
              "  }\n",
              "  const py_version = docs[0].version.replace('rc', '-rc.').replace('.dev', '-dev.')\n",
              "  async function embed_document(root) {\n",
              "    var Bokeh = get_bokeh(root)\n",
              "    await Bokeh.embed.embed_items_notebook(docs_json, render_items);\n",
              "    for (const render_item of render_items) {\n",
              "      for (const root_id of render_item.root_ids) {\n",
              "\tconst id_el = document.getElementById(root_id)\n",
              "\tif (id_el.children.length && id_el.children[0].hasAttribute('data-root-id')) {\n",
              "\t  const root_el = id_el.children[0]\n",
              "\t  root_el.id = root_el.id + '-rendered'\n",
              "\t  for (const child of root_el.children) {\n",
              "            // Ensure JupyterLab does not capture keyboard shortcuts\n",
              "            // see: https://jupyterlab.readthedocs.io/en/4.1.x/extension/notebook.html#keyboard-interaction-model\n",
              "\t    child.setAttribute('data-lm-suppress-shortcuts', 'true')\n",
              "\t  }\n",
              "\t}\n",
              "      }\n",
              "    }\n",
              "  }\n",
              "  function get_bokeh(root) {\n",
              "    if (root.Bokeh === undefined) {\n",
              "      return null\n",
              "    } else if (root.Bokeh.version !== py_version) {\n",
              "      if (root.Bokeh.versions === undefined || !root.Bokeh.versions.has(py_version)) {\n",
              "\treturn null\n",
              "      }\n",
              "      return root.Bokeh.versions.get(py_version);\n",
              "    } else if (root.Bokeh.version === py_version) {\n",
              "      return root.Bokeh\n",
              "    }\n",
              "    return null\n",
              "  }\n",
              "  function is_loaded(root) {\n",
              "    var Bokeh = get_bokeh(root)\n",
              "    return (Bokeh != null && Bokeh.Panel !== undefined)\n",
              "  }\n",
              "  if (is_loaded(root)) {\n",
              "    embed_document(root);\n",
              "  } else {\n",
              "    var attempts = 0;\n",
              "    var timer = setInterval(function(root) {\n",
              "      if (is_loaded(root)) {\n",
              "        clearInterval(timer);\n",
              "        embed_document(root);\n",
              "      } else if (document.readyState == \"complete\") {\n",
              "        attempts++;\n",
              "        if (attempts > 200) {\n",
              "          clearInterval(timer);\n",
              "\t  var Bokeh = get_bokeh(root)\n",
              "\t  if (Bokeh == null || Bokeh.Panel == null) {\n",
              "            console.warn(\"Panel: ERROR: Unable to run Panel code because Bokeh or Panel library is missing\");\n",
              "\t  } else {\n",
              "\t    console.warn(\"Panel: WARNING: Attempting to render but not all required libraries could be resolved.\")\n",
              "\t    embed_document(root)\n",
              "\t  }\n",
              "        }\n",
              "      }\n",
              "    }, 25, root)\n",
              "  }\n",
              "})(window);</script>"
            ],
            "text/plain": [
              ":Overlay\n",
              "   .WMTS.I     :WMTS   [Longitude,Latitude]\n",
              "   .Polygons.I :Polygons   [Longitude,Latitude]"
            ]
          },
          "execution_count": 9,
          "metadata": {
            "application/vnd.holoviews_exec.v0+json": {
              "id": "p1013"
            }
          },
          "output_type": "execute_result"
        }
      ],
      "source": [
        "# create site map with hvplot\n",
        "(\n",
        "    wbd_gdf\n",
        "    .hvplot(\n",
        "        # geographic plot, lat/lon axes\n",
        "        geo=True,\n",
        "        # overlay plot on EsriImagery tiles\n",
        "        tiles='EsriImagery',\n",
        "        # fill color\n",
        "        color='white',\n",
        "        # transparency of fill color\n",
        "        alpha=0.4,\n",
        "        # line color\n",
        "        line_color='red',\n",
        "        # define title\n",
        "        title='080902030506 Watershed Boundary in Louisiana, USA',\n",
        "        # define size of plot\n",
        "        frame_width=400\n",
        "    )\n",
        ")"
      ]
    },
    {
      "cell_type": "markdown",
      "id": "ebfd6cef",
      "metadata": {},
      "source": [
        "<span style=\"color: maroon;\">\n",
        "\n",
        "**SITE DESCRIPTION:**\n",
        "\n",
        "Watershed 080902030506 is in Louisiana, USA, southeast of New Orleans. According to Naitve Land Digital, the watershed is on the Indigenous territories of the [Chahta Yakni (Choctaw)](https://native-land.ca/maps/territories/chahta-choctaw), [Houma](https://native-land.ca/maps/territories/houma-2), and [Chitimacha](https://native-land.ca/maps/territories/chitimacha-2) people. The Mississippi river runs north to south on the east side of the waterhsed. Lake Lery is on the north east side of the watershed. This watershed is in Louisiana's [8th of 9 watersheds](https://watershed.la.gov/watershed-regions). According to [Louisiana's current Region 8 flood risk report](https://d10zxfp0rexahe.cloudfront.net/docs/Region-8-PDF.pdf), this region of Louisiana is subject to 3 main different types of flooding: fluvial/river, costal/surge and tidal, and pluvial/rainfall-induced flash floods and urban flooding. Watershed 080902030506 is also classified as medium-high in the CDC social vulnerability index based on socioeconimic status, household composition and disability, minority status and language, and housing and transportation. \n",
        "\n",
        "</span>\n",
        "\n",
        "Extra links, may or may not use:\n",
        "\n",
        "how's my waterway (water condition info): https://mywaterway.epa.gov/community/080902030506/overview\n",
        "\n",
        "about the wbd: https://www.usgs.gov/national-hydrography/watershed-boundary-dataset\n"
      ]
    },
    {
      "cell_type": "markdown",
      "id": "f9903174-b87c-4026-8564-bd3e62dbfd14",
      "metadata": {},
      "source": [
        "## STEP 3: MULTISPECTRAL DATA\n",
        "\n",
        "### Search for data\n",
        "\n",
        "<link rel=\"stylesheet\" type=\"text/css\" href=\"./assets/styles.css\"><div class=\"callout callout-style-default callout-titled callout-task\"><div class=\"callout-header\"><div class=\"callout-icon-container\"><i class=\"callout-icon\"></i></div><div class=\"callout-title-container flex-fill\">Try It</div></div><div class=\"callout-body-container callout-body\"><ol type=\"1\">\n",
        "<li>Log in to the <code>earthaccess</code> service using your Earthdata\n",
        "credentials:\n",
        "<code>python      earthaccess.login(persist=True)</code></li>\n",
        "<li>Modify the following sample code to search for granules of the\n",
        "HLSL30 product overlapping the watershed boundary from May to October\n",
        "2023 (there should be 76 granules):\n",
        "<code>python      results = earthaccess.search_data(          short_name=\"...\",          cloud_hosted=True,          bounding_box=tuple(gdf.total_bounds),          temporal=(\"...\", \"...\"),      )</code></li>\n",
        "</ol></div></div>"
      ]
    },
    {
      "cell_type": "markdown",
      "id": "e1e30a8d",
      "metadata": {},
      "source": [
        "HLSL30 info from the NASA worldview site:\n",
        "\n",
        "\"The Harmonized Landsat Sentinel-2 (HLS) project brings us 30 meter resolution true color surface reflectance imagery from the Operational Land Imager (OLI) instrument aboard the NASA/USGS Landsat 8 and 9 satellites, and the Multi-Spectral Instrument (MSI) aboard the European Space Agency (ESA) Sentinel-2A and Sentinel-2B satellites.\""
      ]
    },
    {
      "cell_type": "code",
      "execution_count": 10,
      "id": "ec44285e",
      "metadata": {
        "highlight": true
      },
      "outputs": [
        {
          "data": {
            "text/plain": [
              "<earthaccess.auth.Auth at 0x1c2051001d0>"
            ]
          },
          "execution_count": 10,
          "metadata": {},
          "output_type": "execute_result"
        }
      ],
      "source": [
        "# Log in to earthaccess\n",
        "earthaccess.login(strategy=\"interactive\", persist=True)"
      ]
    },
    {
      "cell_type": "code",
      "execution_count": 11,
      "id": "b0bdc94f",
      "metadata": {},
      "outputs": [
        {
          "data": {
            "text/plain": [
              "[Collection: {'EntryTitle': 'HLS Landsat Operational Land Imager Surface Reflectance and TOA Brightness Daily Global 30m v2.0'}\n",
              " Spatial coverage: {'HorizontalSpatialDomain': {'Geometry': {'GPolygons': [{'Boundary': {'Points': [{'Longitude': -90.07372506, 'Latitude': 28.80444525}, {'Longitude': -89.57473392, 'Latitude': 28.81489352}, {'Longitude': -89.30816409, 'Latitude': 29.81030157}, {'Longitude': -90.10353675, 'Latitude': 29.79400715}, {'Longitude': -90.07372506, 'Latitude': 28.80444525}]}}]}}}\n",
              " Temporal coverage: {'RangeDateTime': {'BeginningDateTime': '2023-05-04T16:31:32.101Z', 'EndingDateTime': '2023-05-04T16:31:55.992Z'}}\n",
              " Size(MB): 87.65197467803955\n",
              " Data: ['https://data.lpdaac.earthdatacloud.nasa.gov/lp-prod-protected/HLSL30.020/HLS.L30.T16RBT.2023124T163132.v2.0/HLS.L30.T16RBT.2023124T163132.v2.0.B03.tif', 'https://data.lpdaac.earthdatacloud.nasa.gov/lp-prod-protected/HLSL30.020/HLS.L30.T16RBT.2023124T163132.v2.0/HLS.L30.T16RBT.2023124T163132.v2.0.B07.tif', 'https://data.lpdaac.earthdatacloud.nasa.gov/lp-prod-protected/HLSL30.020/HLS.L30.T16RBT.2023124T163132.v2.0/HLS.L30.T16RBT.2023124T163132.v2.0.B06.tif', 'https://data.lpdaac.earthdatacloud.nasa.gov/lp-prod-protected/HLSL30.020/HLS.L30.T16RBT.2023124T163132.v2.0/HLS.L30.T16RBT.2023124T163132.v2.0.B02.tif', 'https://data.lpdaac.earthdatacloud.nasa.gov/lp-prod-protected/HLSL30.020/HLS.L30.T16RBT.2023124T163132.v2.0/HLS.L30.T16RBT.2023124T163132.v2.0.B01.tif', 'https://data.lpdaac.earthdatacloud.nasa.gov/lp-prod-protected/HLSL30.020/HLS.L30.T16RBT.2023124T163132.v2.0/HLS.L30.T16RBT.2023124T163132.v2.0.Fmask.tif', 'https://data.lpdaac.earthdatacloud.nasa.gov/lp-prod-protected/HLSL30.020/HLS.L30.T16RBT.2023124T163132.v2.0/HLS.L30.T16RBT.2023124T163132.v2.0.SZA.tif', 'https://data.lpdaac.earthdatacloud.nasa.gov/lp-prod-protected/HLSL30.020/HLS.L30.T16RBT.2023124T163132.v2.0/HLS.L30.T16RBT.2023124T163132.v2.0.SAA.tif', 'https://data.lpdaac.earthdatacloud.nasa.gov/lp-prod-protected/HLSL30.020/HLS.L30.T16RBT.2023124T163132.v2.0/HLS.L30.T16RBT.2023124T163132.v2.0.B05.tif', 'https://data.lpdaac.earthdatacloud.nasa.gov/lp-prod-protected/HLSL30.020/HLS.L30.T16RBT.2023124T163132.v2.0/HLS.L30.T16RBT.2023124T163132.v2.0.VAA.tif', 'https://data.lpdaac.earthdatacloud.nasa.gov/lp-prod-protected/HLSL30.020/HLS.L30.T16RBT.2023124T163132.v2.0/HLS.L30.T16RBT.2023124T163132.v2.0.B10.tif', 'https://data.lpdaac.earthdatacloud.nasa.gov/lp-prod-protected/HLSL30.020/HLS.L30.T16RBT.2023124T163132.v2.0/HLS.L30.T16RBT.2023124T163132.v2.0.B09.tif', 'https://data.lpdaac.earthdatacloud.nasa.gov/lp-prod-protected/HLSL30.020/HLS.L30.T16RBT.2023124T163132.v2.0/HLS.L30.T16RBT.2023124T163132.v2.0.B11.tif', 'https://data.lpdaac.earthdatacloud.nasa.gov/lp-prod-protected/HLSL30.020/HLS.L30.T16RBT.2023124T163132.v2.0/HLS.L30.T16RBT.2023124T163132.v2.0.B04.tif', 'https://data.lpdaac.earthdatacloud.nasa.gov/lp-prod-protected/HLSL30.020/HLS.L30.T16RBT.2023124T163132.v2.0/HLS.L30.T16RBT.2023124T163132.v2.0.VZA.tif'],\n",
              " Collection: {'EntryTitle': 'HLS Landsat Operational Land Imager Surface Reflectance and TOA Brightness Daily Global 30m v2.0'}\n",
              " Spatial coverage: {'HorizontalSpatialDomain': {'Geometry': {'GPolygons': [{'Boundary': {'Points': [{'Longitude': -89.82661214, 'Latitude': 28.80213717}, {'Longitude': -89.79583778, 'Latitude': 29.79160422}, {'Longitude': -90.93082361, 'Latitude': 29.81426153}, {'Longitude': -90.95072084, 'Latitude': 28.82389994}, {'Longitude': -89.82661214, 'Latitude': 28.80213717}]}}]}}}\n",
              " Temporal coverage: {'RangeDateTime': {'BeginningDateTime': '2023-05-04T16:31:32.101Z', 'EndingDateTime': '2023-05-04T16:31:55.992Z'}}\n",
              " Size(MB): 150.90150451660156\n",
              " Data: ['https://data.lpdaac.earthdatacloud.nasa.gov/lp-prod-protected/HLSL30.020/HLS.L30.T15RYN.2023124T163132.v2.0/HLS.L30.T15RYN.2023124T163132.v2.0.B03.tif', 'https://data.lpdaac.earthdatacloud.nasa.gov/lp-prod-protected/HLSL30.020/HLS.L30.T15RYN.2023124T163132.v2.0/HLS.L30.T15RYN.2023124T163132.v2.0.VAA.tif', 'https://data.lpdaac.earthdatacloud.nasa.gov/lp-prod-protected/HLSL30.020/HLS.L30.T15RYN.2023124T163132.v2.0/HLS.L30.T15RYN.2023124T163132.v2.0.B01.tif', 'https://data.lpdaac.earthdatacloud.nasa.gov/lp-prod-protected/HLSL30.020/HLS.L30.T15RYN.2023124T163132.v2.0/HLS.L30.T15RYN.2023124T163132.v2.0.B02.tif', 'https://data.lpdaac.earthdatacloud.nasa.gov/lp-prod-protected/HLSL30.020/HLS.L30.T15RYN.2023124T163132.v2.0/HLS.L30.T15RYN.2023124T163132.v2.0.B06.tif', 'https://data.lpdaac.earthdatacloud.nasa.gov/lp-prod-protected/HLSL30.020/HLS.L30.T15RYN.2023124T163132.v2.0/HLS.L30.T15RYN.2023124T163132.v2.0.B09.tif', 'https://data.lpdaac.earthdatacloud.nasa.gov/lp-prod-protected/HLSL30.020/HLS.L30.T15RYN.2023124T163132.v2.0/HLS.L30.T15RYN.2023124T163132.v2.0.B04.tif', 'https://data.lpdaac.earthdatacloud.nasa.gov/lp-prod-protected/HLSL30.020/HLS.L30.T15RYN.2023124T163132.v2.0/HLS.L30.T15RYN.2023124T163132.v2.0.B10.tif', 'https://data.lpdaac.earthdatacloud.nasa.gov/lp-prod-protected/HLSL30.020/HLS.L30.T15RYN.2023124T163132.v2.0/HLS.L30.T15RYN.2023124T163132.v2.0.VZA.tif', 'https://data.lpdaac.earthdatacloud.nasa.gov/lp-prod-protected/HLSL30.020/HLS.L30.T15RYN.2023124T163132.v2.0/HLS.L30.T15RYN.2023124T163132.v2.0.SZA.tif', 'https://data.lpdaac.earthdatacloud.nasa.gov/lp-prod-protected/HLSL30.020/HLS.L30.T15RYN.2023124T163132.v2.0/HLS.L30.T15RYN.2023124T163132.v2.0.Fmask.tif', 'https://data.lpdaac.earthdatacloud.nasa.gov/lp-prod-protected/HLSL30.020/HLS.L30.T15RYN.2023124T163132.v2.0/HLS.L30.T15RYN.2023124T163132.v2.0.SAA.tif', 'https://data.lpdaac.earthdatacloud.nasa.gov/lp-prod-protected/HLSL30.020/HLS.L30.T15RYN.2023124T163132.v2.0/HLS.L30.T15RYN.2023124T163132.v2.0.B05.tif', 'https://data.lpdaac.earthdatacloud.nasa.gov/lp-prod-protected/HLSL30.020/HLS.L30.T15RYN.2023124T163132.v2.0/HLS.L30.T15RYN.2023124T163132.v2.0.B11.tif', 'https://data.lpdaac.earthdatacloud.nasa.gov/lp-prod-protected/HLSL30.020/HLS.L30.T15RYN.2023124T163132.v2.0/HLS.L30.T15RYN.2023124T163132.v2.0.B07.tif'],\n",
              " Collection: {'EntryTitle': 'HLS Landsat Operational Land Imager Surface Reflectance and TOA Brightness Daily Global 30m v2.0'}\n",
              " Spatial coverage: {'HorizontalSpatialDomain': {'Geometry': {'GPolygons': [{'Boundary': {'Points': [{'Longitude': -89.79864173, 'Latitude': 29.70347853}, {'Longitude': -89.76643746, 'Latitude': 30.69278312}, {'Longitude': -90.91181412, 'Latitude': 30.71627038}, {'Longitude': -90.93263654, 'Latitude': 29.72605548}, {'Longitude': -89.79864173, 'Latitude': 29.70347853}]}}]}}}\n",
              " Temporal coverage: {'RangeDateTime': {'BeginningDateTime': '2023-05-04T16:31:32.101Z', 'EndingDateTime': '2023-05-04T16:31:32.101Z'}}\n",
              " Size(MB): 182.54740524291992\n",
              " Data: ['https://data.lpdaac.earthdatacloud.nasa.gov/lp-prod-protected/HLSL30.020/HLS.L30.T15RYP.2023124T163132.v2.0/HLS.L30.T15RYP.2023124T163132.v2.0.VZA.tif', 'https://data.lpdaac.earthdatacloud.nasa.gov/lp-prod-protected/HLSL30.020/HLS.L30.T15RYP.2023124T163132.v2.0/HLS.L30.T15RYP.2023124T163132.v2.0.B09.tif', 'https://data.lpdaac.earthdatacloud.nasa.gov/lp-prod-protected/HLSL30.020/HLS.L30.T15RYP.2023124T163132.v2.0/HLS.L30.T15RYP.2023124T163132.v2.0.B01.tif', 'https://data.lpdaac.earthdatacloud.nasa.gov/lp-prod-protected/HLSL30.020/HLS.L30.T15RYP.2023124T163132.v2.0/HLS.L30.T15RYP.2023124T163132.v2.0.SAA.tif', 'https://data.lpdaac.earthdatacloud.nasa.gov/lp-prod-protected/HLSL30.020/HLS.L30.T15RYP.2023124T163132.v2.0/HLS.L30.T15RYP.2023124T163132.v2.0.Fmask.tif', 'https://data.lpdaac.earthdatacloud.nasa.gov/lp-prod-protected/HLSL30.020/HLS.L30.T15RYP.2023124T163132.v2.0/HLS.L30.T15RYP.2023124T163132.v2.0.SZA.tif', 'https://data.lpdaac.earthdatacloud.nasa.gov/lp-prod-protected/HLSL30.020/HLS.L30.T15RYP.2023124T163132.v2.0/HLS.L30.T15RYP.2023124T163132.v2.0.B07.tif', 'https://data.lpdaac.earthdatacloud.nasa.gov/lp-prod-protected/HLSL30.020/HLS.L30.T15RYP.2023124T163132.v2.0/HLS.L30.T15RYP.2023124T163132.v2.0.B11.tif', 'https://data.lpdaac.earthdatacloud.nasa.gov/lp-prod-protected/HLSL30.020/HLS.L30.T15RYP.2023124T163132.v2.0/HLS.L30.T15RYP.2023124T163132.v2.0.B02.tif', 'https://data.lpdaac.earthdatacloud.nasa.gov/lp-prod-protected/HLSL30.020/HLS.L30.T15RYP.2023124T163132.v2.0/HLS.L30.T15RYP.2023124T163132.v2.0.B06.tif', 'https://data.lpdaac.earthdatacloud.nasa.gov/lp-prod-protected/HLSL30.020/HLS.L30.T15RYP.2023124T163132.v2.0/HLS.L30.T15RYP.2023124T163132.v2.0.B05.tif', 'https://data.lpdaac.earthdatacloud.nasa.gov/lp-prod-protected/HLSL30.020/HLS.L30.T15RYP.2023124T163132.v2.0/HLS.L30.T15RYP.2023124T163132.v2.0.B04.tif', 'https://data.lpdaac.earthdatacloud.nasa.gov/lp-prod-protected/HLSL30.020/HLS.L30.T15RYP.2023124T163132.v2.0/HLS.L30.T15RYP.2023124T163132.v2.0.B03.tif', 'https://data.lpdaac.earthdatacloud.nasa.gov/lp-prod-protected/HLSL30.020/HLS.L30.T15RYP.2023124T163132.v2.0/HLS.L30.T15RYP.2023124T163132.v2.0.VAA.tif', 'https://data.lpdaac.earthdatacloud.nasa.gov/lp-prod-protected/HLSL30.020/HLS.L30.T15RYP.2023124T163132.v2.0/HLS.L30.T15RYP.2023124T163132.v2.0.B10.tif'],\n",
              " Collection: {'EntryTitle': 'HLS Landsat Operational Land Imager Surface Reflectance and TOA Brightness Daily Global 30m v2.0'}\n",
              " Spatial coverage: {'HorizontalSpatialDomain': {'Geometry': {'GPolygons': [{'Boundary': {'Points': [{'Longitude': -90.10082051, 'Latitude': 29.70587294}, {'Longitude': -89.33186665, 'Latitude': 29.72165875}, {'Longitude': -89.06167519, 'Latitude': 30.71669426}, {'Longitude': -90.13201749, 'Latitude': 30.69527405}, {'Longitude': -90.10082051, 'Latitude': 29.70587294}]}}]}}}\n",
              " Temporal coverage: {'RangeDateTime': {'BeginningDateTime': '2023-05-04T16:31:32.101Z', 'EndingDateTime': '2023-05-04T16:31:32.101Z'}}\n",
              " Size(MB): 145.7371473312378\n",
              " Data: ['https://data.lpdaac.earthdatacloud.nasa.gov/lp-prod-protected/HLSL30.020/HLS.L30.T16RBU.2023124T163132.v2.0/HLS.L30.T16RBU.2023124T163132.v2.0.B11.tif', 'https://data.lpdaac.earthdatacloud.nasa.gov/lp-prod-protected/HLSL30.020/HLS.L30.T16RBU.2023124T163132.v2.0/HLS.L30.T16RBU.2023124T163132.v2.0.B09.tif', 'https://data.lpdaac.earthdatacloud.nasa.gov/lp-prod-protected/HLSL30.020/HLS.L30.T16RBU.2023124T163132.v2.0/HLS.L30.T16RBU.2023124T163132.v2.0.B07.tif', 'https://data.lpdaac.earthdatacloud.nasa.gov/lp-prod-protected/HLSL30.020/HLS.L30.T16RBU.2023124T163132.v2.0/HLS.L30.T16RBU.2023124T163132.v2.0.B10.tif', 'https://data.lpdaac.earthdatacloud.nasa.gov/lp-prod-protected/HLSL30.020/HLS.L30.T16RBU.2023124T163132.v2.0/HLS.L30.T16RBU.2023124T163132.v2.0.B06.tif', 'https://data.lpdaac.earthdatacloud.nasa.gov/lp-prod-protected/HLSL30.020/HLS.L30.T16RBU.2023124T163132.v2.0/HLS.L30.T16RBU.2023124T163132.v2.0.SZA.tif', 'https://data.lpdaac.earthdatacloud.nasa.gov/lp-prod-protected/HLSL30.020/HLS.L30.T16RBU.2023124T163132.v2.0/HLS.L30.T16RBU.2023124T163132.v2.0.B02.tif', 'https://data.lpdaac.earthdatacloud.nasa.gov/lp-prod-protected/HLSL30.020/HLS.L30.T16RBU.2023124T163132.v2.0/HLS.L30.T16RBU.2023124T163132.v2.0.SAA.tif', 'https://data.lpdaac.earthdatacloud.nasa.gov/lp-prod-protected/HLSL30.020/HLS.L30.T16RBU.2023124T163132.v2.0/HLS.L30.T16RBU.2023124T163132.v2.0.B04.tif', 'https://data.lpdaac.earthdatacloud.nasa.gov/lp-prod-protected/HLSL30.020/HLS.L30.T16RBU.2023124T163132.v2.0/HLS.L30.T16RBU.2023124T163132.v2.0.VZA.tif', 'https://data.lpdaac.earthdatacloud.nasa.gov/lp-prod-protected/HLSL30.020/HLS.L30.T16RBU.2023124T163132.v2.0/HLS.L30.T16RBU.2023124T163132.v2.0.Fmask.tif', 'https://data.lpdaac.earthdatacloud.nasa.gov/lp-prod-protected/HLSL30.020/HLS.L30.T16RBU.2023124T163132.v2.0/HLS.L30.T16RBU.2023124T163132.v2.0.VAA.tif', 'https://data.lpdaac.earthdatacloud.nasa.gov/lp-prod-protected/HLSL30.020/HLS.L30.T16RBU.2023124T163132.v2.0/HLS.L30.T16RBU.2023124T163132.v2.0.B01.tif', 'https://data.lpdaac.earthdatacloud.nasa.gov/lp-prod-protected/HLSL30.020/HLS.L30.T16RBU.2023124T163132.v2.0/HLS.L30.T16RBU.2023124T163132.v2.0.B05.tif', 'https://data.lpdaac.earthdatacloud.nasa.gov/lp-prod-protected/HLSL30.020/HLS.L30.T16RBU.2023124T163132.v2.0/HLS.L30.T16RBU.2023124T163132.v2.0.B03.tif'],\n",
              " Collection: {'EntryTitle': 'HLS Landsat Operational Land Imager Surface Reflectance and TOA Brightness Daily Global 30m v2.0'}\n",
              " Spatial coverage: {'HorizontalSpatialDomain': {'Geometry': {'GPolygons': [{'Boundary': {'Points': [{'Longitude': -90.07372506, 'Latitude': 28.80444525}, {'Longitude': -89.56183352, 'Latitude': 28.81513915}, {'Longitude': -89.29513529, 'Latitude': 29.81052861}, {'Longitude': -90.10353675, 'Latitude': 29.79400715}, {'Longitude': -90.07372506, 'Latitude': 28.80444525}]}}]}}}\n",
              " Temporal coverage: {'RangeDateTime': {'BeginningDateTime': '2023-05-12T16:31:44.329Z', 'EndingDateTime': '2023-05-12T16:32:08.220Z'}}\n",
              " Size(MB): 98.77182960510254\n",
              " Data: ['https://data.lpdaac.earthdatacloud.nasa.gov/lp-prod-protected/HLSL30.020/HLS.L30.T16RBT.2023132T163144.v2.0/HLS.L30.T16RBT.2023132T163144.v2.0.B02.tif', 'https://data.lpdaac.earthdatacloud.nasa.gov/lp-prod-protected/HLSL30.020/HLS.L30.T16RBT.2023132T163144.v2.0/HLS.L30.T16RBT.2023132T163144.v2.0.Fmask.tif', 'https://data.lpdaac.earthdatacloud.nasa.gov/lp-prod-protected/HLSL30.020/HLS.L30.T16RBT.2023132T163144.v2.0/HLS.L30.T16RBT.2023132T163144.v2.0.B01.tif', 'https://data.lpdaac.earthdatacloud.nasa.gov/lp-prod-protected/HLSL30.020/HLS.L30.T16RBT.2023132T163144.v2.0/HLS.L30.T16RBT.2023132T163144.v2.0.B03.tif', 'https://data.lpdaac.earthdatacloud.nasa.gov/lp-prod-protected/HLSL30.020/HLS.L30.T16RBT.2023132T163144.v2.0/HLS.L30.T16RBT.2023132T163144.v2.0.B07.tif', 'https://data.lpdaac.earthdatacloud.nasa.gov/lp-prod-protected/HLSL30.020/HLS.L30.T16RBT.2023132T163144.v2.0/HLS.L30.T16RBT.2023132T163144.v2.0.B10.tif', 'https://data.lpdaac.earthdatacloud.nasa.gov/lp-prod-protected/HLSL30.020/HLS.L30.T16RBT.2023132T163144.v2.0/HLS.L30.T16RBT.2023132T163144.v2.0.SZA.tif', 'https://data.lpdaac.earthdatacloud.nasa.gov/lp-prod-protected/HLSL30.020/HLS.L30.T16RBT.2023132T163144.v2.0/HLS.L30.T16RBT.2023132T163144.v2.0.B04.tif', 'https://data.lpdaac.earthdatacloud.nasa.gov/lp-prod-protected/HLSL30.020/HLS.L30.T16RBT.2023132T163144.v2.0/HLS.L30.T16RBT.2023132T163144.v2.0.VZA.tif', 'https://data.lpdaac.earthdatacloud.nasa.gov/lp-prod-protected/HLSL30.020/HLS.L30.T16RBT.2023132T163144.v2.0/HLS.L30.T16RBT.2023132T163144.v2.0.SAA.tif', 'https://data.lpdaac.earthdatacloud.nasa.gov/lp-prod-protected/HLSL30.020/HLS.L30.T16RBT.2023132T163144.v2.0/HLS.L30.T16RBT.2023132T163144.v2.0.VAA.tif', 'https://data.lpdaac.earthdatacloud.nasa.gov/lp-prod-protected/HLSL30.020/HLS.L30.T16RBT.2023132T163144.v2.0/HLS.L30.T16RBT.2023132T163144.v2.0.B11.tif', 'https://data.lpdaac.earthdatacloud.nasa.gov/lp-prod-protected/HLSL30.020/HLS.L30.T16RBT.2023132T163144.v2.0/HLS.L30.T16RBT.2023132T163144.v2.0.B09.tif', 'https://data.lpdaac.earthdatacloud.nasa.gov/lp-prod-protected/HLSL30.020/HLS.L30.T16RBT.2023132T163144.v2.0/HLS.L30.T16RBT.2023132T163144.v2.0.B05.tif', 'https://data.lpdaac.earthdatacloud.nasa.gov/lp-prod-protected/HLSL30.020/HLS.L30.T16RBT.2023132T163144.v2.0/HLS.L30.T16RBT.2023132T163144.v2.0.B06.tif'],\n",
              " Collection: {'EntryTitle': 'HLS Landsat Operational Land Imager Surface Reflectance and TOA Brightness Daily Global 30m v2.0'}\n",
              " Spatial coverage: {'HorizontalSpatialDomain': {'Geometry': {'GPolygons': [{'Boundary': {'Points': [{'Longitude': -89.79864173, 'Latitude': 29.70347853}, {'Longitude': -89.76643746, 'Latitude': 30.69278312}, {'Longitude': -90.91181412, 'Latitude': 30.71627038}, {'Longitude': -90.93263654, 'Latitude': 29.72605548}, {'Longitude': -89.79864173, 'Latitude': 29.70347853}]}}]}}}\n",
              " Temporal coverage: {'RangeDateTime': {'BeginningDateTime': '2023-05-12T16:31:44.329Z', 'EndingDateTime': '2023-05-12T16:31:44.329Z'}}\n",
              " Size(MB): 193.45716381072998\n",
              " Data: ['https://data.lpdaac.earthdatacloud.nasa.gov/lp-prod-protected/HLSL30.020/HLS.L30.T15RYP.2023132T163144.v2.0/HLS.L30.T15RYP.2023132T163144.v2.0.SAA.tif', 'https://data.lpdaac.earthdatacloud.nasa.gov/lp-prod-protected/HLSL30.020/HLS.L30.T15RYP.2023132T163144.v2.0/HLS.L30.T15RYP.2023132T163144.v2.0.B06.tif', 'https://data.lpdaac.earthdatacloud.nasa.gov/lp-prod-protected/HLSL30.020/HLS.L30.T15RYP.2023132T163144.v2.0/HLS.L30.T15RYP.2023132T163144.v2.0.B07.tif', 'https://data.lpdaac.earthdatacloud.nasa.gov/lp-prod-protected/HLSL30.020/HLS.L30.T15RYP.2023132T163144.v2.0/HLS.L30.T15RYP.2023132T163144.v2.0.Fmask.tif', 'https://data.lpdaac.earthdatacloud.nasa.gov/lp-prod-protected/HLSL30.020/HLS.L30.T15RYP.2023132T163144.v2.0/HLS.L30.T15RYP.2023132T163144.v2.0.B03.tif', 'https://data.lpdaac.earthdatacloud.nasa.gov/lp-prod-protected/HLSL30.020/HLS.L30.T15RYP.2023132T163144.v2.0/HLS.L30.T15RYP.2023132T163144.v2.0.B11.tif', 'https://data.lpdaac.earthdatacloud.nasa.gov/lp-prod-protected/HLSL30.020/HLS.L30.T15RYP.2023132T163144.v2.0/HLS.L30.T15RYP.2023132T163144.v2.0.B01.tif', 'https://data.lpdaac.earthdatacloud.nasa.gov/lp-prod-protected/HLSL30.020/HLS.L30.T15RYP.2023132T163144.v2.0/HLS.L30.T15RYP.2023132T163144.v2.0.B04.tif', 'https://data.lpdaac.earthdatacloud.nasa.gov/lp-prod-protected/HLSL30.020/HLS.L30.T15RYP.2023132T163144.v2.0/HLS.L30.T15RYP.2023132T163144.v2.0.B10.tif', 'https://data.lpdaac.earthdatacloud.nasa.gov/lp-prod-protected/HLSL30.020/HLS.L30.T15RYP.2023132T163144.v2.0/HLS.L30.T15RYP.2023132T163144.v2.0.B05.tif', 'https://data.lpdaac.earthdatacloud.nasa.gov/lp-prod-protected/HLSL30.020/HLS.L30.T15RYP.2023132T163144.v2.0/HLS.L30.T15RYP.2023132T163144.v2.0.VAA.tif', 'https://data.lpdaac.earthdatacloud.nasa.gov/lp-prod-protected/HLSL30.020/HLS.L30.T15RYP.2023132T163144.v2.0/HLS.L30.T15RYP.2023132T163144.v2.0.B09.tif', 'https://data.lpdaac.earthdatacloud.nasa.gov/lp-prod-protected/HLSL30.020/HLS.L30.T15RYP.2023132T163144.v2.0/HLS.L30.T15RYP.2023132T163144.v2.0.VZA.tif', 'https://data.lpdaac.earthdatacloud.nasa.gov/lp-prod-protected/HLSL30.020/HLS.L30.T15RYP.2023132T163144.v2.0/HLS.L30.T15RYP.2023132T163144.v2.0.SZA.tif', 'https://data.lpdaac.earthdatacloud.nasa.gov/lp-prod-protected/HLSL30.020/HLS.L30.T15RYP.2023132T163144.v2.0/HLS.L30.T15RYP.2023132T163144.v2.0.B02.tif'],\n",
              " Collection: {'EntryTitle': 'HLS Landsat Operational Land Imager Surface Reflectance and TOA Brightness Daily Global 30m v2.0'}\n",
              " Spatial coverage: {'HorizontalSpatialDomain': {'Geometry': {'GPolygons': [{'Boundary': {'Points': [{'Longitude': -89.82661214, 'Latitude': 28.80213717}, {'Longitude': -89.79583778, 'Latitude': 29.79160422}, {'Longitude': -90.93082361, 'Latitude': 29.81426153}, {'Longitude': -90.95072084, 'Latitude': 28.82389994}, {'Longitude': -89.82661214, 'Latitude': 28.80213717}]}}]}}}\n",
              " Temporal coverage: {'RangeDateTime': {'BeginningDateTime': '2023-05-12T16:31:44.329Z', 'EndingDateTime': '2023-05-12T16:32:08.220Z'}}\n",
              " Size(MB): 178.97075939178467\n",
              " Data: ['https://data.lpdaac.earthdatacloud.nasa.gov/lp-prod-protected/HLSL30.020/HLS.L30.T15RYN.2023132T163144.v2.0/HLS.L30.T15RYN.2023132T163144.v2.0.B09.tif', 'https://data.lpdaac.earthdatacloud.nasa.gov/lp-prod-protected/HLSL30.020/HLS.L30.T15RYN.2023132T163144.v2.0/HLS.L30.T15RYN.2023132T163144.v2.0.B07.tif', 'https://data.lpdaac.earthdatacloud.nasa.gov/lp-prod-protected/HLSL30.020/HLS.L30.T15RYN.2023132T163144.v2.0/HLS.L30.T15RYN.2023132T163144.v2.0.B06.tif', 'https://data.lpdaac.earthdatacloud.nasa.gov/lp-prod-protected/HLSL30.020/HLS.L30.T15RYN.2023132T163144.v2.0/HLS.L30.T15RYN.2023132T163144.v2.0.B04.tif', 'https://data.lpdaac.earthdatacloud.nasa.gov/lp-prod-protected/HLSL30.020/HLS.L30.T15RYN.2023132T163144.v2.0/HLS.L30.T15RYN.2023132T163144.v2.0.B02.tif', 'https://data.lpdaac.earthdatacloud.nasa.gov/lp-prod-protected/HLSL30.020/HLS.L30.T15RYN.2023132T163144.v2.0/HLS.L30.T15RYN.2023132T163144.v2.0.B05.tif', 'https://data.lpdaac.earthdatacloud.nasa.gov/lp-prod-protected/HLSL30.020/HLS.L30.T15RYN.2023132T163144.v2.0/HLS.L30.T15RYN.2023132T163144.v2.0.VAA.tif', 'https://data.lpdaac.earthdatacloud.nasa.gov/lp-prod-protected/HLSL30.020/HLS.L30.T15RYN.2023132T163144.v2.0/HLS.L30.T15RYN.2023132T163144.v2.0.VZA.tif', 'https://data.lpdaac.earthdatacloud.nasa.gov/lp-prod-protected/HLSL30.020/HLS.L30.T15RYN.2023132T163144.v2.0/HLS.L30.T15RYN.2023132T163144.v2.0.B10.tif', 'https://data.lpdaac.earthdatacloud.nasa.gov/lp-prod-protected/HLSL30.020/HLS.L30.T15RYN.2023132T163144.v2.0/HLS.L30.T15RYN.2023132T163144.v2.0.SAA.tif', 'https://data.lpdaac.earthdatacloud.nasa.gov/lp-prod-protected/HLSL30.020/HLS.L30.T15RYN.2023132T163144.v2.0/HLS.L30.T15RYN.2023132T163144.v2.0.B11.tif', 'https://data.lpdaac.earthdatacloud.nasa.gov/lp-prod-protected/HLSL30.020/HLS.L30.T15RYN.2023132T163144.v2.0/HLS.L30.T15RYN.2023132T163144.v2.0.B01.tif', 'https://data.lpdaac.earthdatacloud.nasa.gov/lp-prod-protected/HLSL30.020/HLS.L30.T15RYN.2023132T163144.v2.0/HLS.L30.T15RYN.2023132T163144.v2.0.SZA.tif', 'https://data.lpdaac.earthdatacloud.nasa.gov/lp-prod-protected/HLSL30.020/HLS.L30.T15RYN.2023132T163144.v2.0/HLS.L30.T15RYN.2023132T163144.v2.0.B03.tif', 'https://data.lpdaac.earthdatacloud.nasa.gov/lp-prod-protected/HLSL30.020/HLS.L30.T15RYN.2023132T163144.v2.0/HLS.L30.T15RYN.2023132T163144.v2.0.Fmask.tif'],\n",
              " Collection: {'EntryTitle': 'HLS Landsat Operational Land Imager Surface Reflectance and TOA Brightness Daily Global 30m v2.0'}\n",
              " Spatial coverage: {'HorizontalSpatialDomain': {'Geometry': {'GPolygons': [{'Boundary': {'Points': [{'Longitude': -90.10082051, 'Latitude': 29.70587294}, {'Longitude': -89.31884953, 'Latitude': 29.7218875}, {'Longitude': -89.04852401, 'Latitude': 30.71690253}, {'Longitude': -90.13201749, 'Latitude': 30.69527405}, {'Longitude': -90.10082051, 'Latitude': 29.70587294}]}}]}}}\n",
              " Temporal coverage: {'RangeDateTime': {'BeginningDateTime': '2023-05-12T16:31:44.329Z', 'EndingDateTime': '2023-05-12T16:31:44.329Z'}}\n",
              " Size(MB): 163.3755807876587\n",
              " Data: ['https://data.lpdaac.earthdatacloud.nasa.gov/lp-prod-protected/HLSL30.020/HLS.L30.T16RBU.2023132T163144.v2.0/HLS.L30.T16RBU.2023132T163144.v2.0.VZA.tif', 'https://data.lpdaac.earthdatacloud.nasa.gov/lp-prod-protected/HLSL30.020/HLS.L30.T16RBU.2023132T163144.v2.0/HLS.L30.T16RBU.2023132T163144.v2.0.SZA.tif', 'https://data.lpdaac.earthdatacloud.nasa.gov/lp-prod-protected/HLSL30.020/HLS.L30.T16RBU.2023132T163144.v2.0/HLS.L30.T16RBU.2023132T163144.v2.0.B11.tif', 'https://data.lpdaac.earthdatacloud.nasa.gov/lp-prod-protected/HLSL30.020/HLS.L30.T16RBU.2023132T163144.v2.0/HLS.L30.T16RBU.2023132T163144.v2.0.B03.tif', 'https://data.lpdaac.earthdatacloud.nasa.gov/lp-prod-protected/HLSL30.020/HLS.L30.T16RBU.2023132T163144.v2.0/HLS.L30.T16RBU.2023132T163144.v2.0.B10.tif', 'https://data.lpdaac.earthdatacloud.nasa.gov/lp-prod-protected/HLSL30.020/HLS.L30.T16RBU.2023132T163144.v2.0/HLS.L30.T16RBU.2023132T163144.v2.0.B02.tif', 'https://data.lpdaac.earthdatacloud.nasa.gov/lp-prod-protected/HLSL30.020/HLS.L30.T16RBU.2023132T163144.v2.0/HLS.L30.T16RBU.2023132T163144.v2.0.B05.tif', 'https://data.lpdaac.earthdatacloud.nasa.gov/lp-prod-protected/HLSL30.020/HLS.L30.T16RBU.2023132T163144.v2.0/HLS.L30.T16RBU.2023132T163144.v2.0.B04.tif', 'https://data.lpdaac.earthdatacloud.nasa.gov/lp-prod-protected/HLSL30.020/HLS.L30.T16RBU.2023132T163144.v2.0/HLS.L30.T16RBU.2023132T163144.v2.0.SAA.tif', 'https://data.lpdaac.earthdatacloud.nasa.gov/lp-prod-protected/HLSL30.020/HLS.L30.T16RBU.2023132T163144.v2.0/HLS.L30.T16RBU.2023132T163144.v2.0.B01.tif', 'https://data.lpdaac.earthdatacloud.nasa.gov/lp-prod-protected/HLSL30.020/HLS.L30.T16RBU.2023132T163144.v2.0/HLS.L30.T16RBU.2023132T163144.v2.0.VAA.tif', 'https://data.lpdaac.earthdatacloud.nasa.gov/lp-prod-protected/HLSL30.020/HLS.L30.T16RBU.2023132T163144.v2.0/HLS.L30.T16RBU.2023132T163144.v2.0.B06.tif', 'https://data.lpdaac.earthdatacloud.nasa.gov/lp-prod-protected/HLSL30.020/HLS.L30.T16RBU.2023132T163144.v2.0/HLS.L30.T16RBU.2023132T163144.v2.0.B07.tif', 'https://data.lpdaac.earthdatacloud.nasa.gov/lp-prod-protected/HLSL30.020/HLS.L30.T16RBU.2023132T163144.v2.0/HLS.L30.T16RBU.2023132T163144.v2.0.Fmask.tif', 'https://data.lpdaac.earthdatacloud.nasa.gov/lp-prod-protected/HLSL30.020/HLS.L30.T16RBU.2023132T163144.v2.0/HLS.L30.T16RBU.2023132T163144.v2.0.B09.tif'],\n",
              " Collection: {'EntryTitle': 'HLS Landsat Operational Land Imager Surface Reflectance and TOA Brightness Daily Global 30m v2.0'}\n",
              " Spatial coverage: {'HorizontalSpatialDomain': {'Geometry': {'GPolygons': [{'Boundary': {'Points': [{'Longitude': -89.79864173, 'Latitude': 29.70347853}, {'Longitude': -89.76643746, 'Latitude': 30.69278312}, {'Longitude': -90.91181412, 'Latitude': 30.71627038}, {'Longitude': -90.93263654, 'Latitude': 29.72605548}, {'Longitude': -89.79864173, 'Latitude': 29.70347853}]}}]}}}\n",
              " Temporal coverage: {'RangeDateTime': {'BeginningDateTime': '2023-05-20T16:31:23.029Z', 'EndingDateTime': '2023-05-20T16:31:23.029Z'}}\n",
              " Size(MB): 185.5339870452881\n",
              " Data: ['https://data.lpdaac.earthdatacloud.nasa.gov/lp-prod-protected/HLSL30.020/HLS.L30.T15RYP.2023140T163123.v2.0/HLS.L30.T15RYP.2023140T163123.v2.0.B05.tif', 'https://data.lpdaac.earthdatacloud.nasa.gov/lp-prod-protected/HLSL30.020/HLS.L30.T15RYP.2023140T163123.v2.0/HLS.L30.T15RYP.2023140T163123.v2.0.B11.tif', 'https://data.lpdaac.earthdatacloud.nasa.gov/lp-prod-protected/HLSL30.020/HLS.L30.T15RYP.2023140T163123.v2.0/HLS.L30.T15RYP.2023140T163123.v2.0.B07.tif', 'https://data.lpdaac.earthdatacloud.nasa.gov/lp-prod-protected/HLSL30.020/HLS.L30.T15RYP.2023140T163123.v2.0/HLS.L30.T15RYP.2023140T163123.v2.0.VZA.tif', 'https://data.lpdaac.earthdatacloud.nasa.gov/lp-prod-protected/HLSL30.020/HLS.L30.T15RYP.2023140T163123.v2.0/HLS.L30.T15RYP.2023140T163123.v2.0.B10.tif', 'https://data.lpdaac.earthdatacloud.nasa.gov/lp-prod-protected/HLSL30.020/HLS.L30.T15RYP.2023140T163123.v2.0/HLS.L30.T15RYP.2023140T163123.v2.0.SZA.tif', 'https://data.lpdaac.earthdatacloud.nasa.gov/lp-prod-protected/HLSL30.020/HLS.L30.T15RYP.2023140T163123.v2.0/HLS.L30.T15RYP.2023140T163123.v2.0.B04.tif', 'https://data.lpdaac.earthdatacloud.nasa.gov/lp-prod-protected/HLSL30.020/HLS.L30.T15RYP.2023140T163123.v2.0/HLS.L30.T15RYP.2023140T163123.v2.0.B03.tif', 'https://data.lpdaac.earthdatacloud.nasa.gov/lp-prod-protected/HLSL30.020/HLS.L30.T15RYP.2023140T163123.v2.0/HLS.L30.T15RYP.2023140T163123.v2.0.VAA.tif', 'https://data.lpdaac.earthdatacloud.nasa.gov/lp-prod-protected/HLSL30.020/HLS.L30.T15RYP.2023140T163123.v2.0/HLS.L30.T15RYP.2023140T163123.v2.0.B06.tif', 'https://data.lpdaac.earthdatacloud.nasa.gov/lp-prod-protected/HLSL30.020/HLS.L30.T15RYP.2023140T163123.v2.0/HLS.L30.T15RYP.2023140T163123.v2.0.SAA.tif', 'https://data.lpdaac.earthdatacloud.nasa.gov/lp-prod-protected/HLSL30.020/HLS.L30.T15RYP.2023140T163123.v2.0/HLS.L30.T15RYP.2023140T163123.v2.0.B09.tif', 'https://data.lpdaac.earthdatacloud.nasa.gov/lp-prod-protected/HLSL30.020/HLS.L30.T15RYP.2023140T163123.v2.0/HLS.L30.T15RYP.2023140T163123.v2.0.B02.tif', 'https://data.lpdaac.earthdatacloud.nasa.gov/lp-prod-protected/HLSL30.020/HLS.L30.T15RYP.2023140T163123.v2.0/HLS.L30.T15RYP.2023140T163123.v2.0.B01.tif', 'https://data.lpdaac.earthdatacloud.nasa.gov/lp-prod-protected/HLSL30.020/HLS.L30.T15RYP.2023140T163123.v2.0/HLS.L30.T15RYP.2023140T163123.v2.0.Fmask.tif'],\n",
              " Collection: {'EntryTitle': 'HLS Landsat Operational Land Imager Surface Reflectance and TOA Brightness Daily Global 30m v2.0'}\n",
              " Spatial coverage: {'HorizontalSpatialDomain': {'Geometry': {'GPolygons': [{'Boundary': {'Points': [{'Longitude': -90.07372506, 'Latitude': 28.80444525}, {'Longitude': -89.54433872, 'Latitude': 28.81601158}, {'Longitude': -89.27714289, 'Latitude': 29.81084001}, {'Longitude': -90.10353675, 'Latitude': 29.79400715}, {'Longitude': -90.07372506, 'Latitude': 28.80444525}]}}]}}}\n",
              " Temporal coverage: {'RangeDateTime': {'BeginningDateTime': '2023-05-20T16:31:23.029Z', 'EndingDateTime': '2023-05-20T16:31:46.925Z'}}\n",
              " Size(MB): 112.42044067382812\n",
              " Data: ['https://data.lpdaac.earthdatacloud.nasa.gov/lp-prod-protected/HLSL30.020/HLS.L30.T16RBT.2023140T163123.v2.0/HLS.L30.T16RBT.2023140T163123.v2.0.B03.tif', 'https://data.lpdaac.earthdatacloud.nasa.gov/lp-prod-protected/HLSL30.020/HLS.L30.T16RBT.2023140T163123.v2.0/HLS.L30.T16RBT.2023140T163123.v2.0.B07.tif', 'https://data.lpdaac.earthdatacloud.nasa.gov/lp-prod-protected/HLSL30.020/HLS.L30.T16RBT.2023140T163123.v2.0/HLS.L30.T16RBT.2023140T163123.v2.0.VAA.tif', 'https://data.lpdaac.earthdatacloud.nasa.gov/lp-prod-protected/HLSL30.020/HLS.L30.T16RBT.2023140T163123.v2.0/HLS.L30.T16RBT.2023140T163123.v2.0.Fmask.tif', 'https://data.lpdaac.earthdatacloud.nasa.gov/lp-prod-protected/HLSL30.020/HLS.L30.T16RBT.2023140T163123.v2.0/HLS.L30.T16RBT.2023140T163123.v2.0.B06.tif', 'https://data.lpdaac.earthdatacloud.nasa.gov/lp-prod-protected/HLSL30.020/HLS.L30.T16RBT.2023140T163123.v2.0/HLS.L30.T16RBT.2023140T163123.v2.0.B04.tif', 'https://data.lpdaac.earthdatacloud.nasa.gov/lp-prod-protected/HLSL30.020/HLS.L30.T16RBT.2023140T163123.v2.0/HLS.L30.T16RBT.2023140T163123.v2.0.VZA.tif', 'https://data.lpdaac.earthdatacloud.nasa.gov/lp-prod-protected/HLSL30.020/HLS.L30.T16RBT.2023140T163123.v2.0/HLS.L30.T16RBT.2023140T163123.v2.0.B11.tif', 'https://data.lpdaac.earthdatacloud.nasa.gov/lp-prod-protected/HLSL30.020/HLS.L30.T16RBT.2023140T163123.v2.0/HLS.L30.T16RBT.2023140T163123.v2.0.SAA.tif', 'https://data.lpdaac.earthdatacloud.nasa.gov/lp-prod-protected/HLSL30.020/HLS.L30.T16RBT.2023140T163123.v2.0/HLS.L30.T16RBT.2023140T163123.v2.0.B01.tif', 'https://data.lpdaac.earthdatacloud.nasa.gov/lp-prod-protected/HLSL30.020/HLS.L30.T16RBT.2023140T163123.v2.0/HLS.L30.T16RBT.2023140T163123.v2.0.B09.tif', 'https://data.lpdaac.earthdatacloud.nasa.gov/lp-prod-protected/HLSL30.020/HLS.L30.T16RBT.2023140T163123.v2.0/HLS.L30.T16RBT.2023140T163123.v2.0.SZA.tif', 'https://data.lpdaac.earthdatacloud.nasa.gov/lp-prod-protected/HLSL30.020/HLS.L30.T16RBT.2023140T163123.v2.0/HLS.L30.T16RBT.2023140T163123.v2.0.B10.tif', 'https://data.lpdaac.earthdatacloud.nasa.gov/lp-prod-protected/HLSL30.020/HLS.L30.T16RBT.2023140T163123.v2.0/HLS.L30.T16RBT.2023140T163123.v2.0.B05.tif', 'https://data.lpdaac.earthdatacloud.nasa.gov/lp-prod-protected/HLSL30.020/HLS.L30.T16RBT.2023140T163123.v2.0/HLS.L30.T16RBT.2023140T163123.v2.0.B02.tif'],\n",
              " Collection: {'EntryTitle': 'HLS Landsat Operational Land Imager Surface Reflectance and TOA Brightness Daily Global 30m v2.0'}\n",
              " Spatial coverage: {'HorizontalSpatialDomain': {'Geometry': {'GPolygons': [{'Boundary': {'Points': [{'Longitude': -90.10082051, 'Latitude': 29.70587294}, {'Longitude': -89.30087327, 'Latitude': 29.72220129}, {'Longitude': -89.02973637, 'Latitude': 30.71719774}, {'Longitude': -90.13201749, 'Latitude': 30.69527405}, {'Longitude': -90.10082051, 'Latitude': 29.70587294}]}}]}}}\n",
              " Temporal coverage: {'RangeDateTime': {'BeginningDateTime': '2023-05-20T16:31:23.029Z', 'EndingDateTime': '2023-05-20T16:31:23.029Z'}}\n",
              " Size(MB): 154.05752277374268\n",
              " Data: ['https://data.lpdaac.earthdatacloud.nasa.gov/lp-prod-protected/HLSL30.020/HLS.L30.T16RBU.2023140T163123.v2.0/HLS.L30.T16RBU.2023140T163123.v2.0.SZA.tif', 'https://data.lpdaac.earthdatacloud.nasa.gov/lp-prod-protected/HLSL30.020/HLS.L30.T16RBU.2023140T163123.v2.0/HLS.L30.T16RBU.2023140T163123.v2.0.VAA.tif', 'https://data.lpdaac.earthdatacloud.nasa.gov/lp-prod-protected/HLSL30.020/HLS.L30.T16RBU.2023140T163123.v2.0/HLS.L30.T16RBU.2023140T163123.v2.0.VZA.tif', 'https://data.lpdaac.earthdatacloud.nasa.gov/lp-prod-protected/HLSL30.020/HLS.L30.T16RBU.2023140T163123.v2.0/HLS.L30.T16RBU.2023140T163123.v2.0.B02.tif', 'https://data.lpdaac.earthdatacloud.nasa.gov/lp-prod-protected/HLSL30.020/HLS.L30.T16RBU.2023140T163123.v2.0/HLS.L30.T16RBU.2023140T163123.v2.0.Fmask.tif', 'https://data.lpdaac.earthdatacloud.nasa.gov/lp-prod-protected/HLSL30.020/HLS.L30.T16RBU.2023140T163123.v2.0/HLS.L30.T16RBU.2023140T163123.v2.0.B05.tif', 'https://data.lpdaac.earthdatacloud.nasa.gov/lp-prod-protected/HLSL30.020/HLS.L30.T16RBU.2023140T163123.v2.0/HLS.L30.T16RBU.2023140T163123.v2.0.B07.tif', 'https://data.lpdaac.earthdatacloud.nasa.gov/lp-prod-protected/HLSL30.020/HLS.L30.T16RBU.2023140T163123.v2.0/HLS.L30.T16RBU.2023140T163123.v2.0.B09.tif', 'https://data.lpdaac.earthdatacloud.nasa.gov/lp-prod-protected/HLSL30.020/HLS.L30.T16RBU.2023140T163123.v2.0/HLS.L30.T16RBU.2023140T163123.v2.0.B04.tif', 'https://data.lpdaac.earthdatacloud.nasa.gov/lp-prod-protected/HLSL30.020/HLS.L30.T16RBU.2023140T163123.v2.0/HLS.L30.T16RBU.2023140T163123.v2.0.B06.tif', 'https://data.lpdaac.earthdatacloud.nasa.gov/lp-prod-protected/HLSL30.020/HLS.L30.T16RBU.2023140T163123.v2.0/HLS.L30.T16RBU.2023140T163123.v2.0.B10.tif', 'https://data.lpdaac.earthdatacloud.nasa.gov/lp-prod-protected/HLSL30.020/HLS.L30.T16RBU.2023140T163123.v2.0/HLS.L30.T16RBU.2023140T163123.v2.0.B11.tif', 'https://data.lpdaac.earthdatacloud.nasa.gov/lp-prod-protected/HLSL30.020/HLS.L30.T16RBU.2023140T163123.v2.0/HLS.L30.T16RBU.2023140T163123.v2.0.SAA.tif', 'https://data.lpdaac.earthdatacloud.nasa.gov/lp-prod-protected/HLSL30.020/HLS.L30.T16RBU.2023140T163123.v2.0/HLS.L30.T16RBU.2023140T163123.v2.0.B01.tif', 'https://data.lpdaac.earthdatacloud.nasa.gov/lp-prod-protected/HLSL30.020/HLS.L30.T16RBU.2023140T163123.v2.0/HLS.L30.T16RBU.2023140T163123.v2.0.B03.tif'],\n",
              " Collection: {'EntryTitle': 'HLS Landsat Operational Land Imager Surface Reflectance and TOA Brightness Daily Global 30m v2.0'}\n",
              " Spatial coverage: {'HorizontalSpatialDomain': {'Geometry': {'GPolygons': [{'Boundary': {'Points': [{'Longitude': -89.82661214, 'Latitude': 28.80213717}, {'Longitude': -89.79583778, 'Latitude': 29.79160422}, {'Longitude': -90.93082361, 'Latitude': 29.81426153}, {'Longitude': -90.95072084, 'Latitude': 28.82389994}, {'Longitude': -89.82661214, 'Latitude': 28.80213717}]}}]}}}\n",
              " Temporal coverage: {'RangeDateTime': {'BeginningDateTime': '2023-05-20T16:31:23.029Z', 'EndingDateTime': '2023-05-20T16:31:46.925Z'}}\n",
              " Size(MB): 189.29092693328857\n",
              " Data: ['https://data.lpdaac.earthdatacloud.nasa.gov/lp-prod-protected/HLSL30.020/HLS.L30.T15RYN.2023140T163123.v2.0/HLS.L30.T15RYN.2023140T163123.v2.0.SAA.tif', 'https://data.lpdaac.earthdatacloud.nasa.gov/lp-prod-protected/HLSL30.020/HLS.L30.T15RYN.2023140T163123.v2.0/HLS.L30.T15RYN.2023140T163123.v2.0.VZA.tif', 'https://data.lpdaac.earthdatacloud.nasa.gov/lp-prod-protected/HLSL30.020/HLS.L30.T15RYN.2023140T163123.v2.0/HLS.L30.T15RYN.2023140T163123.v2.0.VAA.tif', 'https://data.lpdaac.earthdatacloud.nasa.gov/lp-prod-protected/HLSL30.020/HLS.L30.T15RYN.2023140T163123.v2.0/HLS.L30.T15RYN.2023140T163123.v2.0.B11.tif', 'https://data.lpdaac.earthdatacloud.nasa.gov/lp-prod-protected/HLSL30.020/HLS.L30.T15RYN.2023140T163123.v2.0/HLS.L30.T15RYN.2023140T163123.v2.0.B07.tif', 'https://data.lpdaac.earthdatacloud.nasa.gov/lp-prod-protected/HLSL30.020/HLS.L30.T15RYN.2023140T163123.v2.0/HLS.L30.T15RYN.2023140T163123.v2.0.B01.tif', 'https://data.lpdaac.earthdatacloud.nasa.gov/lp-prod-protected/HLSL30.020/HLS.L30.T15RYN.2023140T163123.v2.0/HLS.L30.T15RYN.2023140T163123.v2.0.B09.tif', 'https://data.lpdaac.earthdatacloud.nasa.gov/lp-prod-protected/HLSL30.020/HLS.L30.T15RYN.2023140T163123.v2.0/HLS.L30.T15RYN.2023140T163123.v2.0.B05.tif', 'https://data.lpdaac.earthdatacloud.nasa.gov/lp-prod-protected/HLSL30.020/HLS.L30.T15RYN.2023140T163123.v2.0/HLS.L30.T15RYN.2023140T163123.v2.0.B10.tif', 'https://data.lpdaac.earthdatacloud.nasa.gov/lp-prod-protected/HLSL30.020/HLS.L30.T15RYN.2023140T163123.v2.0/HLS.L30.T15RYN.2023140T163123.v2.0.B02.tif', 'https://data.lpdaac.earthdatacloud.nasa.gov/lp-prod-protected/HLSL30.020/HLS.L30.T15RYN.2023140T163123.v2.0/HLS.L30.T15RYN.2023140T163123.v2.0.B03.tif', 'https://data.lpdaac.earthdatacloud.nasa.gov/lp-prod-protected/HLSL30.020/HLS.L30.T15RYN.2023140T163123.v2.0/HLS.L30.T15RYN.2023140T163123.v2.0.Fmask.tif', 'https://data.lpdaac.earthdatacloud.nasa.gov/lp-prod-protected/HLSL30.020/HLS.L30.T15RYN.2023140T163123.v2.0/HLS.L30.T15RYN.2023140T163123.v2.0.B04.tif', 'https://data.lpdaac.earthdatacloud.nasa.gov/lp-prod-protected/HLSL30.020/HLS.L30.T15RYN.2023140T163123.v2.0/HLS.L30.T15RYN.2023140T163123.v2.0.B06.tif', 'https://data.lpdaac.earthdatacloud.nasa.gov/lp-prod-protected/HLSL30.020/HLS.L30.T15RYN.2023140T163123.v2.0/HLS.L30.T15RYN.2023140T163123.v2.0.SZA.tif'],\n",
              " Collection: {'EntryTitle': 'HLS Landsat Operational Land Imager Surface Reflectance and TOA Brightness Daily Global 30m v2.0'}\n",
              " Spatial coverage: {'HorizontalSpatialDomain': {'Geometry': {'GPolygons': [{'Boundary': {'Points': [{'Longitude': -89.82661214, 'Latitude': 28.80213717}, {'Longitude': -89.79583778, 'Latitude': 29.79160422}, {'Longitude': -90.93082361, 'Latitude': 29.81426153}, {'Longitude': -90.95072084, 'Latitude': 28.82389994}, {'Longitude': -89.82661214, 'Latitude': 28.80213717}]}}]}}}\n",
              " Temporal coverage: {'RangeDateTime': {'BeginningDateTime': '2023-05-28T16:31:34.837Z', 'EndingDateTime': '2023-05-28T16:31:58.732Z'}}\n",
              " Size(MB): 166.16224670410156\n",
              " Data: ['https://data.lpdaac.earthdatacloud.nasa.gov/lp-prod-protected/HLSL30.020/HLS.L30.T15RYN.2023148T163134.v2.0/HLS.L30.T15RYN.2023148T163134.v2.0.Fmask.tif', 'https://data.lpdaac.earthdatacloud.nasa.gov/lp-prod-protected/HLSL30.020/HLS.L30.T15RYN.2023148T163134.v2.0/HLS.L30.T15RYN.2023148T163134.v2.0.B10.tif', 'https://data.lpdaac.earthdatacloud.nasa.gov/lp-prod-protected/HLSL30.020/HLS.L30.T15RYN.2023148T163134.v2.0/HLS.L30.T15RYN.2023148T163134.v2.0.SAA.tif', 'https://data.lpdaac.earthdatacloud.nasa.gov/lp-prod-protected/HLSL30.020/HLS.L30.T15RYN.2023148T163134.v2.0/HLS.L30.T15RYN.2023148T163134.v2.0.B03.tif', 'https://data.lpdaac.earthdatacloud.nasa.gov/lp-prod-protected/HLSL30.020/HLS.L30.T15RYN.2023148T163134.v2.0/HLS.L30.T15RYN.2023148T163134.v2.0.B07.tif', 'https://data.lpdaac.earthdatacloud.nasa.gov/lp-prod-protected/HLSL30.020/HLS.L30.T15RYN.2023148T163134.v2.0/HLS.L30.T15RYN.2023148T163134.v2.0.B01.tif', 'https://data.lpdaac.earthdatacloud.nasa.gov/lp-prod-protected/HLSL30.020/HLS.L30.T15RYN.2023148T163134.v2.0/HLS.L30.T15RYN.2023148T163134.v2.0.B05.tif', 'https://data.lpdaac.earthdatacloud.nasa.gov/lp-prod-protected/HLSL30.020/HLS.L30.T15RYN.2023148T163134.v2.0/HLS.L30.T15RYN.2023148T163134.v2.0.VAA.tif', 'https://data.lpdaac.earthdatacloud.nasa.gov/lp-prod-protected/HLSL30.020/HLS.L30.T15RYN.2023148T163134.v2.0/HLS.L30.T15RYN.2023148T163134.v2.0.VZA.tif', 'https://data.lpdaac.earthdatacloud.nasa.gov/lp-prod-protected/HLSL30.020/HLS.L30.T15RYN.2023148T163134.v2.0/HLS.L30.T15RYN.2023148T163134.v2.0.B11.tif', 'https://data.lpdaac.earthdatacloud.nasa.gov/lp-prod-protected/HLSL30.020/HLS.L30.T15RYN.2023148T163134.v2.0/HLS.L30.T15RYN.2023148T163134.v2.0.SZA.tif', 'https://data.lpdaac.earthdatacloud.nasa.gov/lp-prod-protected/HLSL30.020/HLS.L30.T15RYN.2023148T163134.v2.0/HLS.L30.T15RYN.2023148T163134.v2.0.B09.tif', 'https://data.lpdaac.earthdatacloud.nasa.gov/lp-prod-protected/HLSL30.020/HLS.L30.T15RYN.2023148T163134.v2.0/HLS.L30.T15RYN.2023148T163134.v2.0.B04.tif', 'https://data.lpdaac.earthdatacloud.nasa.gov/lp-prod-protected/HLSL30.020/HLS.L30.T15RYN.2023148T163134.v2.0/HLS.L30.T15RYN.2023148T163134.v2.0.B06.tif', 'https://data.lpdaac.earthdatacloud.nasa.gov/lp-prod-protected/HLSL30.020/HLS.L30.T15RYN.2023148T163134.v2.0/HLS.L30.T15RYN.2023148T163134.v2.0.B02.tif'],\n",
              " Collection: {'EntryTitle': 'HLS Landsat Operational Land Imager Surface Reflectance and TOA Brightness Daily Global 30m v2.0'}\n",
              " Spatial coverage: {'HorizontalSpatialDomain': {'Geometry': {'GPolygons': [{'Boundary': {'Points': [{'Longitude': -90.10082051, 'Latitude': 29.70587294}, {'Longitude': -89.32257496, 'Latitude': 29.7220928}, {'Longitude': -89.05259463, 'Latitude': 30.71683821}, {'Longitude': -90.13201749, 'Latitude': 30.69527405}, {'Longitude': -90.10082051, 'Latitude': 29.70587294}]}}]}}}\n",
              " Temporal coverage: {'RangeDateTime': {'BeginningDateTime': '2023-05-28T16:31:34.837Z', 'EndingDateTime': '2023-05-28T16:31:34.837Z'}}\n",
              " Size(MB): 152.09524822235107\n",
              " Data: ['https://data.lpdaac.earthdatacloud.nasa.gov/lp-prod-protected/HLSL30.020/HLS.L30.T16RBU.2023148T163134.v2.0/HLS.L30.T16RBU.2023148T163134.v2.0.B06.tif', 'https://data.lpdaac.earthdatacloud.nasa.gov/lp-prod-protected/HLSL30.020/HLS.L30.T16RBU.2023148T163134.v2.0/HLS.L30.T16RBU.2023148T163134.v2.0.B01.tif', 'https://data.lpdaac.earthdatacloud.nasa.gov/lp-prod-protected/HLSL30.020/HLS.L30.T16RBU.2023148T163134.v2.0/HLS.L30.T16RBU.2023148T163134.v2.0.B04.tif', 'https://data.lpdaac.earthdatacloud.nasa.gov/lp-prod-protected/HLSL30.020/HLS.L30.T16RBU.2023148T163134.v2.0/HLS.L30.T16RBU.2023148T163134.v2.0.SZA.tif', 'https://data.lpdaac.earthdatacloud.nasa.gov/lp-prod-protected/HLSL30.020/HLS.L30.T16RBU.2023148T163134.v2.0/HLS.L30.T16RBU.2023148T163134.v2.0.SAA.tif', 'https://data.lpdaac.earthdatacloud.nasa.gov/lp-prod-protected/HLSL30.020/HLS.L30.T16RBU.2023148T163134.v2.0/HLS.L30.T16RBU.2023148T163134.v2.0.B02.tif', 'https://data.lpdaac.earthdatacloud.nasa.gov/lp-prod-protected/HLSL30.020/HLS.L30.T16RBU.2023148T163134.v2.0/HLS.L30.T16RBU.2023148T163134.v2.0.B09.tif', 'https://data.lpdaac.earthdatacloud.nasa.gov/lp-prod-protected/HLSL30.020/HLS.L30.T16RBU.2023148T163134.v2.0/HLS.L30.T16RBU.2023148T163134.v2.0.VZA.tif', 'https://data.lpdaac.earthdatacloud.nasa.gov/lp-prod-protected/HLSL30.020/HLS.L30.T16RBU.2023148T163134.v2.0/HLS.L30.T16RBU.2023148T163134.v2.0.B03.tif', 'https://data.lpdaac.earthdatacloud.nasa.gov/lp-prod-protected/HLSL30.020/HLS.L30.T16RBU.2023148T163134.v2.0/HLS.L30.T16RBU.2023148T163134.v2.0.B05.tif', 'https://data.lpdaac.earthdatacloud.nasa.gov/lp-prod-protected/HLSL30.020/HLS.L30.T16RBU.2023148T163134.v2.0/HLS.L30.T16RBU.2023148T163134.v2.0.B07.tif', 'https://data.lpdaac.earthdatacloud.nasa.gov/lp-prod-protected/HLSL30.020/HLS.L30.T16RBU.2023148T163134.v2.0/HLS.L30.T16RBU.2023148T163134.v2.0.Fmask.tif', 'https://data.lpdaac.earthdatacloud.nasa.gov/lp-prod-protected/HLSL30.020/HLS.L30.T16RBU.2023148T163134.v2.0/HLS.L30.T16RBU.2023148T163134.v2.0.B11.tif', 'https://data.lpdaac.earthdatacloud.nasa.gov/lp-prod-protected/HLSL30.020/HLS.L30.T16RBU.2023148T163134.v2.0/HLS.L30.T16RBU.2023148T163134.v2.0.VAA.tif', 'https://data.lpdaac.earthdatacloud.nasa.gov/lp-prod-protected/HLSL30.020/HLS.L30.T16RBU.2023148T163134.v2.0/HLS.L30.T16RBU.2023148T163134.v2.0.B10.tif'],\n",
              " Collection: {'EntryTitle': 'HLS Landsat Operational Land Imager Surface Reflectance and TOA Brightness Daily Global 30m v2.0'}\n",
              " Spatial coverage: {'HorizontalSpatialDomain': {'Geometry': {'GPolygons': [{'Boundary': {'Points': [{'Longitude': -90.07372506, 'Latitude': 28.80444525}, {'Longitude': -89.56582652, 'Latitude': 28.81506326}, {'Longitude': -89.29885782, 'Latitude': 29.81046387}, {'Longitude': -90.10353675, 'Latitude': 29.79400715}, {'Longitude': -90.07372506, 'Latitude': 28.80444525}]}}]}}}\n",
              " Temporal coverage: {'RangeDateTime': {'BeginningDateTime': '2023-05-28T16:31:34.837Z', 'EndingDateTime': '2023-05-28T16:31:58.732Z'}}\n",
              " Size(MB): 98.6242561340332\n",
              " Data: ['https://data.lpdaac.earthdatacloud.nasa.gov/lp-prod-protected/HLSL30.020/HLS.L30.T16RBT.2023148T163134.v2.0/HLS.L30.T16RBT.2023148T163134.v2.0.B07.tif', 'https://data.lpdaac.earthdatacloud.nasa.gov/lp-prod-protected/HLSL30.020/HLS.L30.T16RBT.2023148T163134.v2.0/HLS.L30.T16RBT.2023148T163134.v2.0.B11.tif', 'https://data.lpdaac.earthdatacloud.nasa.gov/lp-prod-protected/HLSL30.020/HLS.L30.T16RBT.2023148T163134.v2.0/HLS.L30.T16RBT.2023148T163134.v2.0.SAA.tif', 'https://data.lpdaac.earthdatacloud.nasa.gov/lp-prod-protected/HLSL30.020/HLS.L30.T16RBT.2023148T163134.v2.0/HLS.L30.T16RBT.2023148T163134.v2.0.B05.tif', 'https://data.lpdaac.earthdatacloud.nasa.gov/lp-prod-protected/HLSL30.020/HLS.L30.T16RBT.2023148T163134.v2.0/HLS.L30.T16RBT.2023148T163134.v2.0.B01.tif', 'https://data.lpdaac.earthdatacloud.nasa.gov/lp-prod-protected/HLSL30.020/HLS.L30.T16RBT.2023148T163134.v2.0/HLS.L30.T16RBT.2023148T163134.v2.0.B10.tif', 'https://data.lpdaac.earthdatacloud.nasa.gov/lp-prod-protected/HLSL30.020/HLS.L30.T16RBT.2023148T163134.v2.0/HLS.L30.T16RBT.2023148T163134.v2.0.B02.tif', 'https://data.lpdaac.earthdatacloud.nasa.gov/lp-prod-protected/HLSL30.020/HLS.L30.T16RBT.2023148T163134.v2.0/HLS.L30.T16RBT.2023148T163134.v2.0.B06.tif', 'https://data.lpdaac.earthdatacloud.nasa.gov/lp-prod-protected/HLSL30.020/HLS.L30.T16RBT.2023148T163134.v2.0/HLS.L30.T16RBT.2023148T163134.v2.0.B09.tif', 'https://data.lpdaac.earthdatacloud.nasa.gov/lp-prod-protected/HLSL30.020/HLS.L30.T16RBT.2023148T163134.v2.0/HLS.L30.T16RBT.2023148T163134.v2.0.VZA.tif', 'https://data.lpdaac.earthdatacloud.nasa.gov/lp-prod-protected/HLSL30.020/HLS.L30.T16RBT.2023148T163134.v2.0/HLS.L30.T16RBT.2023148T163134.v2.0.B03.tif', 'https://data.lpdaac.earthdatacloud.nasa.gov/lp-prod-protected/HLSL30.020/HLS.L30.T16RBT.2023148T163134.v2.0/HLS.L30.T16RBT.2023148T163134.v2.0.SZA.tif', 'https://data.lpdaac.earthdatacloud.nasa.gov/lp-prod-protected/HLSL30.020/HLS.L30.T16RBT.2023148T163134.v2.0/HLS.L30.T16RBT.2023148T163134.v2.0.B04.tif', 'https://data.lpdaac.earthdatacloud.nasa.gov/lp-prod-protected/HLSL30.020/HLS.L30.T16RBT.2023148T163134.v2.0/HLS.L30.T16RBT.2023148T163134.v2.0.VAA.tif', 'https://data.lpdaac.earthdatacloud.nasa.gov/lp-prod-protected/HLSL30.020/HLS.L30.T16RBT.2023148T163134.v2.0/HLS.L30.T16RBT.2023148T163134.v2.0.Fmask.tif'],\n",
              " Collection: {'EntryTitle': 'HLS Landsat Operational Land Imager Surface Reflectance and TOA Brightness Daily Global 30m v2.0'}\n",
              " Spatial coverage: {'HorizontalSpatialDomain': {'Geometry': {'GPolygons': [{'Boundary': {'Points': [{'Longitude': -89.79864173, 'Latitude': 29.70347853}, {'Longitude': -89.76643746, 'Latitude': 30.69278312}, {'Longitude': -90.91181412, 'Latitude': 30.71627038}, {'Longitude': -90.93263654, 'Latitude': 29.72605548}, {'Longitude': -89.79864173, 'Latitude': 29.70347853}]}}]}}}\n",
              " Temporal coverage: {'RangeDateTime': {'BeginningDateTime': '2023-05-28T16:31:34.837Z', 'EndingDateTime': '2023-05-28T16:31:34.837Z'}}\n",
              " Size(MB): 172.95240783691406\n",
              " Data: ['https://data.lpdaac.earthdatacloud.nasa.gov/lp-prod-protected/HLSL30.020/HLS.L30.T15RYP.2023148T163134.v2.0/HLS.L30.T15RYP.2023148T163134.v2.0.B07.tif', 'https://data.lpdaac.earthdatacloud.nasa.gov/lp-prod-protected/HLSL30.020/HLS.L30.T15RYP.2023148T163134.v2.0/HLS.L30.T15RYP.2023148T163134.v2.0.B05.tif', 'https://data.lpdaac.earthdatacloud.nasa.gov/lp-prod-protected/HLSL30.020/HLS.L30.T15RYP.2023148T163134.v2.0/HLS.L30.T15RYP.2023148T163134.v2.0.SAA.tif', 'https://data.lpdaac.earthdatacloud.nasa.gov/lp-prod-protected/HLSL30.020/HLS.L30.T15RYP.2023148T163134.v2.0/HLS.L30.T15RYP.2023148T163134.v2.0.VAA.tif', 'https://data.lpdaac.earthdatacloud.nasa.gov/lp-prod-protected/HLSL30.020/HLS.L30.T15RYP.2023148T163134.v2.0/HLS.L30.T15RYP.2023148T163134.v2.0.VZA.tif', 'https://data.lpdaac.earthdatacloud.nasa.gov/lp-prod-protected/HLSL30.020/HLS.L30.T15RYP.2023148T163134.v2.0/HLS.L30.T15RYP.2023148T163134.v2.0.B03.tif', 'https://data.lpdaac.earthdatacloud.nasa.gov/lp-prod-protected/HLSL30.020/HLS.L30.T15RYP.2023148T163134.v2.0/HLS.L30.T15RYP.2023148T163134.v2.0.B04.tif', 'https://data.lpdaac.earthdatacloud.nasa.gov/lp-prod-protected/HLSL30.020/HLS.L30.T15RYP.2023148T163134.v2.0/HLS.L30.T15RYP.2023148T163134.v2.0.B09.tif', 'https://data.lpdaac.earthdatacloud.nasa.gov/lp-prod-protected/HLSL30.020/HLS.L30.T15RYP.2023148T163134.v2.0/HLS.L30.T15RYP.2023148T163134.v2.0.B06.tif', 'https://data.lpdaac.earthdatacloud.nasa.gov/lp-prod-protected/HLSL30.020/HLS.L30.T15RYP.2023148T163134.v2.0/HLS.L30.T15RYP.2023148T163134.v2.0.Fmask.tif', 'https://data.lpdaac.earthdatacloud.nasa.gov/lp-prod-protected/HLSL30.020/HLS.L30.T15RYP.2023148T163134.v2.0/HLS.L30.T15RYP.2023148T163134.v2.0.B10.tif', 'https://data.lpdaac.earthdatacloud.nasa.gov/lp-prod-protected/HLSL30.020/HLS.L30.T15RYP.2023148T163134.v2.0/HLS.L30.T15RYP.2023148T163134.v2.0.B01.tif', 'https://data.lpdaac.earthdatacloud.nasa.gov/lp-prod-protected/HLSL30.020/HLS.L30.T15RYP.2023148T163134.v2.0/HLS.L30.T15RYP.2023148T163134.v2.0.B02.tif', 'https://data.lpdaac.earthdatacloud.nasa.gov/lp-prod-protected/HLSL30.020/HLS.L30.T15RYP.2023148T163134.v2.0/HLS.L30.T15RYP.2023148T163134.v2.0.SZA.tif', 'https://data.lpdaac.earthdatacloud.nasa.gov/lp-prod-protected/HLSL30.020/HLS.L30.T15RYP.2023148T163134.v2.0/HLS.L30.T15RYP.2023148T163134.v2.0.B11.tif'],\n",
              " Collection: {'EntryTitle': 'HLS Landsat Operational Land Imager Surface Reflectance and TOA Brightness Daily Global 30m v2.0'}\n",
              " Spatial coverage: {'HorizontalSpatialDomain': {'Geometry': {'GPolygons': [{'Boundary': {'Points': [{'Longitude': -90.10082051, 'Latitude': 29.70587294}, {'Longitude': -89.28847567, 'Latitude': 29.72241628}, {'Longitude': -89.01721112, 'Latitude': 30.71739304}, {'Longitude': -90.13201749, 'Latitude': 30.69527405}, {'Longitude': -90.10082051, 'Latitude': 29.70587294}]}}]}}}\n",
              " Temporal coverage: {'RangeDateTime': {'BeginningDateTime': '2023-06-05T16:31:28.153Z', 'EndingDateTime': '2023-06-05T16:31:28.153Z'}}\n",
              " Size(MB): 165.66828632354736\n",
              " Data: ['https://data.lpdaac.earthdatacloud.nasa.gov/lp-prod-protected/HLSL30.020/HLS.L30.T16RBU.2023156T163128.v2.0/HLS.L30.T16RBU.2023156T163128.v2.0.VZA.tif', 'https://data.lpdaac.earthdatacloud.nasa.gov/lp-prod-protected/HLSL30.020/HLS.L30.T16RBU.2023156T163128.v2.0/HLS.L30.T16RBU.2023156T163128.v2.0.B04.tif', 'https://data.lpdaac.earthdatacloud.nasa.gov/lp-prod-protected/HLSL30.020/HLS.L30.T16RBU.2023156T163128.v2.0/HLS.L30.T16RBU.2023156T163128.v2.0.B11.tif', 'https://data.lpdaac.earthdatacloud.nasa.gov/lp-prod-protected/HLSL30.020/HLS.L30.T16RBU.2023156T163128.v2.0/HLS.L30.T16RBU.2023156T163128.v2.0.B01.tif', 'https://data.lpdaac.earthdatacloud.nasa.gov/lp-prod-protected/HLSL30.020/HLS.L30.T16RBU.2023156T163128.v2.0/HLS.L30.T16RBU.2023156T163128.v2.0.B05.tif', 'https://data.lpdaac.earthdatacloud.nasa.gov/lp-prod-protected/HLSL30.020/HLS.L30.T16RBU.2023156T163128.v2.0/HLS.L30.T16RBU.2023156T163128.v2.0.SAA.tif', 'https://data.lpdaac.earthdatacloud.nasa.gov/lp-prod-protected/HLSL30.020/HLS.L30.T16RBU.2023156T163128.v2.0/HLS.L30.T16RBU.2023156T163128.v2.0.Fmask.tif', 'https://data.lpdaac.earthdatacloud.nasa.gov/lp-prod-protected/HLSL30.020/HLS.L30.T16RBU.2023156T163128.v2.0/HLS.L30.T16RBU.2023156T163128.v2.0.B09.tif', 'https://data.lpdaac.earthdatacloud.nasa.gov/lp-prod-protected/HLSL30.020/HLS.L30.T16RBU.2023156T163128.v2.0/HLS.L30.T16RBU.2023156T163128.v2.0.B10.tif', 'https://data.lpdaac.earthdatacloud.nasa.gov/lp-prod-protected/HLSL30.020/HLS.L30.T16RBU.2023156T163128.v2.0/HLS.L30.T16RBU.2023156T163128.v2.0.SZA.tif', 'https://data.lpdaac.earthdatacloud.nasa.gov/lp-prod-protected/HLSL30.020/HLS.L30.T16RBU.2023156T163128.v2.0/HLS.L30.T16RBU.2023156T163128.v2.0.VAA.tif', 'https://data.lpdaac.earthdatacloud.nasa.gov/lp-prod-protected/HLSL30.020/HLS.L30.T16RBU.2023156T163128.v2.0/HLS.L30.T16RBU.2023156T163128.v2.0.B07.tif', 'https://data.lpdaac.earthdatacloud.nasa.gov/lp-prod-protected/HLSL30.020/HLS.L30.T16RBU.2023156T163128.v2.0/HLS.L30.T16RBU.2023156T163128.v2.0.B06.tif', 'https://data.lpdaac.earthdatacloud.nasa.gov/lp-prod-protected/HLSL30.020/HLS.L30.T16RBU.2023156T163128.v2.0/HLS.L30.T16RBU.2023156T163128.v2.0.B02.tif', 'https://data.lpdaac.earthdatacloud.nasa.gov/lp-prod-protected/HLSL30.020/HLS.L30.T16RBU.2023156T163128.v2.0/HLS.L30.T16RBU.2023156T163128.v2.0.B03.tif'],\n",
              " Collection: {'EntryTitle': 'HLS Landsat Operational Land Imager Surface Reflectance and TOA Brightness Daily Global 30m v2.0'}\n",
              " Spatial coverage: {'HorizontalSpatialDomain': {'Geometry': {'GPolygons': [{'Boundary': {'Points': [{'Longitude': -89.79864173, 'Latitude': 29.70347853}, {'Longitude': -89.76643746, 'Latitude': 30.69278312}, {'Longitude': -90.91181412, 'Latitude': 30.71627038}, {'Longitude': -90.93263654, 'Latitude': 29.72605548}, {'Longitude': -89.79864173, 'Latitude': 29.70347853}]}}]}}}\n",
              " Temporal coverage: {'RangeDateTime': {'BeginningDateTime': '2023-06-05T16:31:28.153Z', 'EndingDateTime': '2023-06-05T16:31:28.153Z'}}\n",
              " Size(MB): 199.49737548828125\n",
              " Data: ['https://data.lpdaac.earthdatacloud.nasa.gov/lp-prod-protected/HLSL30.020/HLS.L30.T15RYP.2023156T163128.v2.0/HLS.L30.T15RYP.2023156T163128.v2.0.B03.tif', 'https://data.lpdaac.earthdatacloud.nasa.gov/lp-prod-protected/HLSL30.020/HLS.L30.T15RYP.2023156T163128.v2.0/HLS.L30.T15RYP.2023156T163128.v2.0.B05.tif', 'https://data.lpdaac.earthdatacloud.nasa.gov/lp-prod-protected/HLSL30.020/HLS.L30.T15RYP.2023156T163128.v2.0/HLS.L30.T15RYP.2023156T163128.v2.0.SZA.tif', 'https://data.lpdaac.earthdatacloud.nasa.gov/lp-prod-protected/HLSL30.020/HLS.L30.T15RYP.2023156T163128.v2.0/HLS.L30.T15RYP.2023156T163128.v2.0.B07.tif', 'https://data.lpdaac.earthdatacloud.nasa.gov/lp-prod-protected/HLSL30.020/HLS.L30.T15RYP.2023156T163128.v2.0/HLS.L30.T15RYP.2023156T163128.v2.0.B01.tif', 'https://data.lpdaac.earthdatacloud.nasa.gov/lp-prod-protected/HLSL30.020/HLS.L30.T15RYP.2023156T163128.v2.0/HLS.L30.T15RYP.2023156T163128.v2.0.VZA.tif', 'https://data.lpdaac.earthdatacloud.nasa.gov/lp-prod-protected/HLSL30.020/HLS.L30.T15RYP.2023156T163128.v2.0/HLS.L30.T15RYP.2023156T163128.v2.0.VAA.tif', 'https://data.lpdaac.earthdatacloud.nasa.gov/lp-prod-protected/HLSL30.020/HLS.L30.T15RYP.2023156T163128.v2.0/HLS.L30.T15RYP.2023156T163128.v2.0.Fmask.tif', 'https://data.lpdaac.earthdatacloud.nasa.gov/lp-prod-protected/HLSL30.020/HLS.L30.T15RYP.2023156T163128.v2.0/HLS.L30.T15RYP.2023156T163128.v2.0.B11.tif', 'https://data.lpdaac.earthdatacloud.nasa.gov/lp-prod-protected/HLSL30.020/HLS.L30.T15RYP.2023156T163128.v2.0/HLS.L30.T15RYP.2023156T163128.v2.0.SAA.tif', 'https://data.lpdaac.earthdatacloud.nasa.gov/lp-prod-protected/HLSL30.020/HLS.L30.T15RYP.2023156T163128.v2.0/HLS.L30.T15RYP.2023156T163128.v2.0.B04.tif', 'https://data.lpdaac.earthdatacloud.nasa.gov/lp-prod-protected/HLSL30.020/HLS.L30.T15RYP.2023156T163128.v2.0/HLS.L30.T15RYP.2023156T163128.v2.0.B10.tif', 'https://data.lpdaac.earthdatacloud.nasa.gov/lp-prod-protected/HLSL30.020/HLS.L30.T15RYP.2023156T163128.v2.0/HLS.L30.T15RYP.2023156T163128.v2.0.B09.tif', 'https://data.lpdaac.earthdatacloud.nasa.gov/lp-prod-protected/HLSL30.020/HLS.L30.T15RYP.2023156T163128.v2.0/HLS.L30.T15RYP.2023156T163128.v2.0.B02.tif', 'https://data.lpdaac.earthdatacloud.nasa.gov/lp-prod-protected/HLSL30.020/HLS.L30.T15RYP.2023156T163128.v2.0/HLS.L30.T15RYP.2023156T163128.v2.0.B06.tif'],\n",
              " Collection: {'EntryTitle': 'HLS Landsat Operational Land Imager Surface Reflectance and TOA Brightness Daily Global 30m v2.0'}\n",
              " Spatial coverage: {'HorizontalSpatialDomain': {'Geometry': {'GPolygons': [{'Boundary': {'Points': [{'Longitude': -90.07372506, 'Latitude': 28.80444525}, {'Longitude': -89.53234627, 'Latitude': 28.81569598}, {'Longitude': -89.26442395, 'Latitude': 29.81105867}, {'Longitude': -90.10353675, 'Latitude': 29.79400715}, {'Longitude': -90.07372506, 'Latitude': 28.80444525}]}}]}}}\n",
              " Temporal coverage: {'RangeDateTime': {'BeginningDateTime': '2023-06-05T16:31:28.153Z', 'EndingDateTime': '2023-06-05T16:31:52.048Z'}}\n",
              " Size(MB): 118.801344871521\n",
              " Data: ['https://data.lpdaac.earthdatacloud.nasa.gov/lp-prod-protected/HLSL30.020/HLS.L30.T16RBT.2023156T163128.v2.0/HLS.L30.T16RBT.2023156T163128.v2.0.SAA.tif', 'https://data.lpdaac.earthdatacloud.nasa.gov/lp-prod-protected/HLSL30.020/HLS.L30.T16RBT.2023156T163128.v2.0/HLS.L30.T16RBT.2023156T163128.v2.0.B05.tif', 'https://data.lpdaac.earthdatacloud.nasa.gov/lp-prod-protected/HLSL30.020/HLS.L30.T16RBT.2023156T163128.v2.0/HLS.L30.T16RBT.2023156T163128.v2.0.B11.tif', 'https://data.lpdaac.earthdatacloud.nasa.gov/lp-prod-protected/HLSL30.020/HLS.L30.T16RBT.2023156T163128.v2.0/HLS.L30.T16RBT.2023156T163128.v2.0.B03.tif', 'https://data.lpdaac.earthdatacloud.nasa.gov/lp-prod-protected/HLSL30.020/HLS.L30.T16RBT.2023156T163128.v2.0/HLS.L30.T16RBT.2023156T163128.v2.0.B09.tif', 'https://data.lpdaac.earthdatacloud.nasa.gov/lp-prod-protected/HLSL30.020/HLS.L30.T16RBT.2023156T163128.v2.0/HLS.L30.T16RBT.2023156T163128.v2.0.B07.tif', 'https://data.lpdaac.earthdatacloud.nasa.gov/lp-prod-protected/HLSL30.020/HLS.L30.T16RBT.2023156T163128.v2.0/HLS.L30.T16RBT.2023156T163128.v2.0.VAA.tif', 'https://data.lpdaac.earthdatacloud.nasa.gov/lp-prod-protected/HLSL30.020/HLS.L30.T16RBT.2023156T163128.v2.0/HLS.L30.T16RBT.2023156T163128.v2.0.B04.tif', 'https://data.lpdaac.earthdatacloud.nasa.gov/lp-prod-protected/HLSL30.020/HLS.L30.T16RBT.2023156T163128.v2.0/HLS.L30.T16RBT.2023156T163128.v2.0.B06.tif', 'https://data.lpdaac.earthdatacloud.nasa.gov/lp-prod-protected/HLSL30.020/HLS.L30.T16RBT.2023156T163128.v2.0/HLS.L30.T16RBT.2023156T163128.v2.0.Fmask.tif', 'https://data.lpdaac.earthdatacloud.nasa.gov/lp-prod-protected/HLSL30.020/HLS.L30.T16RBT.2023156T163128.v2.0/HLS.L30.T16RBT.2023156T163128.v2.0.B02.tif', 'https://data.lpdaac.earthdatacloud.nasa.gov/lp-prod-protected/HLSL30.020/HLS.L30.T16RBT.2023156T163128.v2.0/HLS.L30.T16RBT.2023156T163128.v2.0.VZA.tif', 'https://data.lpdaac.earthdatacloud.nasa.gov/lp-prod-protected/HLSL30.020/HLS.L30.T16RBT.2023156T163128.v2.0/HLS.L30.T16RBT.2023156T163128.v2.0.SZA.tif', 'https://data.lpdaac.earthdatacloud.nasa.gov/lp-prod-protected/HLSL30.020/HLS.L30.T16RBT.2023156T163128.v2.0/HLS.L30.T16RBT.2023156T163128.v2.0.B01.tif', 'https://data.lpdaac.earthdatacloud.nasa.gov/lp-prod-protected/HLSL30.020/HLS.L30.T16RBT.2023156T163128.v2.0/HLS.L30.T16RBT.2023156T163128.v2.0.B10.tif'],\n",
              " Collection: {'EntryTitle': 'HLS Landsat Operational Land Imager Surface Reflectance and TOA Brightness Daily Global 30m v2.0'}\n",
              " Spatial coverage: {'HorizontalSpatialDomain': {'Geometry': {'GPolygons': [{'Boundary': {'Points': [{'Longitude': -89.82661214, 'Latitude': 28.80213717}, {'Longitude': -89.79583778, 'Latitude': 29.79160422}, {'Longitude': -90.93082361, 'Latitude': 29.81426153}, {'Longitude': -90.95072084, 'Latitude': 28.82389994}, {'Longitude': -89.82661214, 'Latitude': 28.80213717}]}}]}}}\n",
              " Temporal coverage: {'RangeDateTime': {'BeginningDateTime': '2023-06-05T16:31:28.153Z', 'EndingDateTime': '2023-06-05T16:31:52.048Z'}}\n",
              " Size(MB): 197.48943424224854\n",
              " Data: ['https://data.lpdaac.earthdatacloud.nasa.gov/lp-prod-protected/HLSL30.020/HLS.L30.T15RYN.2023156T163128.v2.0/HLS.L30.T15RYN.2023156T163128.v2.0.B06.tif', 'https://data.lpdaac.earthdatacloud.nasa.gov/lp-prod-protected/HLSL30.020/HLS.L30.T15RYN.2023156T163128.v2.0/HLS.L30.T15RYN.2023156T163128.v2.0.B07.tif', 'https://data.lpdaac.earthdatacloud.nasa.gov/lp-prod-protected/HLSL30.020/HLS.L30.T15RYN.2023156T163128.v2.0/HLS.L30.T15RYN.2023156T163128.v2.0.SZA.tif', 'https://data.lpdaac.earthdatacloud.nasa.gov/lp-prod-protected/HLSL30.020/HLS.L30.T15RYN.2023156T163128.v2.0/HLS.L30.T15RYN.2023156T163128.v2.0.B10.tif', 'https://data.lpdaac.earthdatacloud.nasa.gov/lp-prod-protected/HLSL30.020/HLS.L30.T15RYN.2023156T163128.v2.0/HLS.L30.T15RYN.2023156T163128.v2.0.B05.tif', 'https://data.lpdaac.earthdatacloud.nasa.gov/lp-prod-protected/HLSL30.020/HLS.L30.T15RYN.2023156T163128.v2.0/HLS.L30.T15RYN.2023156T163128.v2.0.B03.tif', 'https://data.lpdaac.earthdatacloud.nasa.gov/lp-prod-protected/HLSL30.020/HLS.L30.T15RYN.2023156T163128.v2.0/HLS.L30.T15RYN.2023156T163128.v2.0.SAA.tif', 'https://data.lpdaac.earthdatacloud.nasa.gov/lp-prod-protected/HLSL30.020/HLS.L30.T15RYN.2023156T163128.v2.0/HLS.L30.T15RYN.2023156T163128.v2.0.B09.tif', 'https://data.lpdaac.earthdatacloud.nasa.gov/lp-prod-protected/HLSL30.020/HLS.L30.T15RYN.2023156T163128.v2.0/HLS.L30.T15RYN.2023156T163128.v2.0.B02.tif', 'https://data.lpdaac.earthdatacloud.nasa.gov/lp-prod-protected/HLSL30.020/HLS.L30.T15RYN.2023156T163128.v2.0/HLS.L30.T15RYN.2023156T163128.v2.0.VAA.tif', 'https://data.lpdaac.earthdatacloud.nasa.gov/lp-prod-protected/HLSL30.020/HLS.L30.T15RYN.2023156T163128.v2.0/HLS.L30.T15RYN.2023156T163128.v2.0.Fmask.tif', 'https://data.lpdaac.earthdatacloud.nasa.gov/lp-prod-protected/HLSL30.020/HLS.L30.T15RYN.2023156T163128.v2.0/HLS.L30.T15RYN.2023156T163128.v2.0.B01.tif', 'https://data.lpdaac.earthdatacloud.nasa.gov/lp-prod-protected/HLSL30.020/HLS.L30.T15RYN.2023156T163128.v2.0/HLS.L30.T15RYN.2023156T163128.v2.0.B04.tif', 'https://data.lpdaac.earthdatacloud.nasa.gov/lp-prod-protected/HLSL30.020/HLS.L30.T15RYN.2023156T163128.v2.0/HLS.L30.T15RYN.2023156T163128.v2.0.B11.tif', 'https://data.lpdaac.earthdatacloud.nasa.gov/lp-prod-protected/HLSL30.020/HLS.L30.T15RYN.2023156T163128.v2.0/HLS.L30.T15RYN.2023156T163128.v2.0.VZA.tif'],\n",
              " Collection: {'EntryTitle': 'HLS Landsat Operational Land Imager Surface Reflectance and TOA Brightness Daily Global 30m v2.0'}\n",
              " Spatial coverage: {'HorizontalSpatialDomain': {'Geometry': {'GPolygons': [{'Boundary': {'Points': [{'Longitude': -90.10082051, 'Latitude': 29.70587294}, {'Longitude': -89.33372623, 'Latitude': 29.72162597}, {'Longitude': -89.06355392, 'Latitude': 30.7166644}, {'Longitude': -90.13201749, 'Latitude': 30.69527405}, {'Longitude': -90.10082051, 'Latitude': 29.70587294}]}}]}}}\n",
              " Temporal coverage: {'RangeDateTime': {'BeginningDateTime': '2023-06-13T16:31:26.844Z', 'EndingDateTime': '2023-06-13T16:31:26.844Z'}}\n",
              " Size(MB): 158.39524841308594\n",
              " Data: ['https://data.lpdaac.earthdatacloud.nasa.gov/lp-prod-protected/HLSL30.020/HLS.L30.T16RBU.2023164T163126.v2.0/HLS.L30.T16RBU.2023164T163126.v2.0.B06.tif', 'https://data.lpdaac.earthdatacloud.nasa.gov/lp-prod-protected/HLSL30.020/HLS.L30.T16RBU.2023164T163126.v2.0/HLS.L30.T16RBU.2023164T163126.v2.0.B11.tif', 'https://data.lpdaac.earthdatacloud.nasa.gov/lp-prod-protected/HLSL30.020/HLS.L30.T16RBU.2023164T163126.v2.0/HLS.L30.T16RBU.2023164T163126.v2.0.Fmask.tif', 'https://data.lpdaac.earthdatacloud.nasa.gov/lp-prod-protected/HLSL30.020/HLS.L30.T16RBU.2023164T163126.v2.0/HLS.L30.T16RBU.2023164T163126.v2.0.B01.tif', 'https://data.lpdaac.earthdatacloud.nasa.gov/lp-prod-protected/HLSL30.020/HLS.L30.T16RBU.2023164T163126.v2.0/HLS.L30.T16RBU.2023164T163126.v2.0.SZA.tif', 'https://data.lpdaac.earthdatacloud.nasa.gov/lp-prod-protected/HLSL30.020/HLS.L30.T16RBU.2023164T163126.v2.0/HLS.L30.T16RBU.2023164T163126.v2.0.B09.tif', 'https://data.lpdaac.earthdatacloud.nasa.gov/lp-prod-protected/HLSL30.020/HLS.L30.T16RBU.2023164T163126.v2.0/HLS.L30.T16RBU.2023164T163126.v2.0.B10.tif', 'https://data.lpdaac.earthdatacloud.nasa.gov/lp-prod-protected/HLSL30.020/HLS.L30.T16RBU.2023164T163126.v2.0/HLS.L30.T16RBU.2023164T163126.v2.0.B02.tif', 'https://data.lpdaac.earthdatacloud.nasa.gov/lp-prod-protected/HLSL30.020/HLS.L30.T16RBU.2023164T163126.v2.0/HLS.L30.T16RBU.2023164T163126.v2.0.SAA.tif', 'https://data.lpdaac.earthdatacloud.nasa.gov/lp-prod-protected/HLSL30.020/HLS.L30.T16RBU.2023164T163126.v2.0/HLS.L30.T16RBU.2023164T163126.v2.0.B07.tif', 'https://data.lpdaac.earthdatacloud.nasa.gov/lp-prod-protected/HLSL30.020/HLS.L30.T16RBU.2023164T163126.v2.0/HLS.L30.T16RBU.2023164T163126.v2.0.B03.tif', 'https://data.lpdaac.earthdatacloud.nasa.gov/lp-prod-protected/HLSL30.020/HLS.L30.T16RBU.2023164T163126.v2.0/HLS.L30.T16RBU.2023164T163126.v2.0.VAA.tif', 'https://data.lpdaac.earthdatacloud.nasa.gov/lp-prod-protected/HLSL30.020/HLS.L30.T16RBU.2023164T163126.v2.0/HLS.L30.T16RBU.2023164T163126.v2.0.VZA.tif', 'https://data.lpdaac.earthdatacloud.nasa.gov/lp-prod-protected/HLSL30.020/HLS.L30.T16RBU.2023164T163126.v2.0/HLS.L30.T16RBU.2023164T163126.v2.0.B05.tif', 'https://data.lpdaac.earthdatacloud.nasa.gov/lp-prod-protected/HLSL30.020/HLS.L30.T16RBU.2023164T163126.v2.0/HLS.L30.T16RBU.2023164T163126.v2.0.B04.tif'],\n",
              " Collection: {'EntryTitle': 'HLS Landsat Operational Land Imager Surface Reflectance and TOA Brightness Daily Global 30m v2.0'}\n",
              " Spatial coverage: {'HorizontalSpatialDomain': {'Geometry': {'GPolygons': [{'Boundary': {'Points': [{'Longitude': -89.79864173, 'Latitude': 29.70347853}, {'Longitude': -89.76643746, 'Latitude': 30.69278312}, {'Longitude': -90.91181412, 'Latitude': 30.71627038}, {'Longitude': -90.93263654, 'Latitude': 29.72605548}, {'Longitude': -89.79864173, 'Latitude': 29.70347853}]}}]}}}\n",
              " Temporal coverage: {'RangeDateTime': {'BeginningDateTime': '2023-06-13T16:31:26.844Z', 'EndingDateTime': '2023-06-13T16:31:26.844Z'}}\n",
              " Size(MB): 195.1623773574829\n",
              " Data: ['https://data.lpdaac.earthdatacloud.nasa.gov/lp-prod-protected/HLSL30.020/HLS.L30.T15RYP.2023164T163126.v2.0/HLS.L30.T15RYP.2023164T163126.v2.0.B09.tif', 'https://data.lpdaac.earthdatacloud.nasa.gov/lp-prod-protected/HLSL30.020/HLS.L30.T15RYP.2023164T163126.v2.0/HLS.L30.T15RYP.2023164T163126.v2.0.B01.tif', 'https://data.lpdaac.earthdatacloud.nasa.gov/lp-prod-protected/HLSL30.020/HLS.L30.T15RYP.2023164T163126.v2.0/HLS.L30.T15RYP.2023164T163126.v2.0.B10.tif', 'https://data.lpdaac.earthdatacloud.nasa.gov/lp-prod-protected/HLSL30.020/HLS.L30.T15RYP.2023164T163126.v2.0/HLS.L30.T15RYP.2023164T163126.v2.0.Fmask.tif', 'https://data.lpdaac.earthdatacloud.nasa.gov/lp-prod-protected/HLSL30.020/HLS.L30.T15RYP.2023164T163126.v2.0/HLS.L30.T15RYP.2023164T163126.v2.0.B04.tif', 'https://data.lpdaac.earthdatacloud.nasa.gov/lp-prod-protected/HLSL30.020/HLS.L30.T15RYP.2023164T163126.v2.0/HLS.L30.T15RYP.2023164T163126.v2.0.B03.tif', 'https://data.lpdaac.earthdatacloud.nasa.gov/lp-prod-protected/HLSL30.020/HLS.L30.T15RYP.2023164T163126.v2.0/HLS.L30.T15RYP.2023164T163126.v2.0.B07.tif', 'https://data.lpdaac.earthdatacloud.nasa.gov/lp-prod-protected/HLSL30.020/HLS.L30.T15RYP.2023164T163126.v2.0/HLS.L30.T15RYP.2023164T163126.v2.0.VZA.tif', 'https://data.lpdaac.earthdatacloud.nasa.gov/lp-prod-protected/HLSL30.020/HLS.L30.T15RYP.2023164T163126.v2.0/HLS.L30.T15RYP.2023164T163126.v2.0.B11.tif', 'https://data.lpdaac.earthdatacloud.nasa.gov/lp-prod-protected/HLSL30.020/HLS.L30.T15RYP.2023164T163126.v2.0/HLS.L30.T15RYP.2023164T163126.v2.0.B02.tif', 'https://data.lpdaac.earthdatacloud.nasa.gov/lp-prod-protected/HLSL30.020/HLS.L30.T15RYP.2023164T163126.v2.0/HLS.L30.T15RYP.2023164T163126.v2.0.VAA.tif', 'https://data.lpdaac.earthdatacloud.nasa.gov/lp-prod-protected/HLSL30.020/HLS.L30.T15RYP.2023164T163126.v2.0/HLS.L30.T15RYP.2023164T163126.v2.0.SAA.tif', 'https://data.lpdaac.earthdatacloud.nasa.gov/lp-prod-protected/HLSL30.020/HLS.L30.T15RYP.2023164T163126.v2.0/HLS.L30.T15RYP.2023164T163126.v2.0.SZA.tif', 'https://data.lpdaac.earthdatacloud.nasa.gov/lp-prod-protected/HLSL30.020/HLS.L30.T15RYP.2023164T163126.v2.0/HLS.L30.T15RYP.2023164T163126.v2.0.B05.tif', 'https://data.lpdaac.earthdatacloud.nasa.gov/lp-prod-protected/HLSL30.020/HLS.L30.T15RYP.2023164T163126.v2.0/HLS.L30.T15RYP.2023164T163126.v2.0.B06.tif'],\n",
              " Collection: {'EntryTitle': 'HLS Landsat Operational Land Imager Surface Reflectance and TOA Brightness Daily Global 30m v2.0'}\n",
              " Spatial coverage: {'HorizontalSpatialDomain': {'Geometry': {'GPolygons': [{'Boundary': {'Points': [{'Longitude': -89.82661214, 'Latitude': 28.80213717}, {'Longitude': -89.79583778, 'Latitude': 29.79160422}, {'Longitude': -90.93082361, 'Latitude': 29.81426153}, {'Longitude': -90.95072084, 'Latitude': 28.82389994}, {'Longitude': -89.82661214, 'Latitude': 28.80213717}]}}]}}}\n",
              " Temporal coverage: {'RangeDateTime': {'BeginningDateTime': '2023-06-13T16:31:26.844Z', 'EndingDateTime': '2023-06-13T16:31:50.735Z'}}\n",
              " Size(MB): 171.5450143814087\n",
              " Data: ['https://data.lpdaac.earthdatacloud.nasa.gov/lp-prod-protected/HLSL30.020/HLS.L30.T15RYN.2023164T163126.v2.0/HLS.L30.T15RYN.2023164T163126.v2.0.B02.tif', 'https://data.lpdaac.earthdatacloud.nasa.gov/lp-prod-protected/HLSL30.020/HLS.L30.T15RYN.2023164T163126.v2.0/HLS.L30.T15RYN.2023164T163126.v2.0.B04.tif', 'https://data.lpdaac.earthdatacloud.nasa.gov/lp-prod-protected/HLSL30.020/HLS.L30.T15RYN.2023164T163126.v2.0/HLS.L30.T15RYN.2023164T163126.v2.0.Fmask.tif', 'https://data.lpdaac.earthdatacloud.nasa.gov/lp-prod-protected/HLSL30.020/HLS.L30.T15RYN.2023164T163126.v2.0/HLS.L30.T15RYN.2023164T163126.v2.0.B07.tif', 'https://data.lpdaac.earthdatacloud.nasa.gov/lp-prod-protected/HLSL30.020/HLS.L30.T15RYN.2023164T163126.v2.0/HLS.L30.T15RYN.2023164T163126.v2.0.VAA.tif', 'https://data.lpdaac.earthdatacloud.nasa.gov/lp-prod-protected/HLSL30.020/HLS.L30.T15RYN.2023164T163126.v2.0/HLS.L30.T15RYN.2023164T163126.v2.0.B05.tif', 'https://data.lpdaac.earthdatacloud.nasa.gov/lp-prod-protected/HLSL30.020/HLS.L30.T15RYN.2023164T163126.v2.0/HLS.L30.T15RYN.2023164T163126.v2.0.B03.tif', 'https://data.lpdaac.earthdatacloud.nasa.gov/lp-prod-protected/HLSL30.020/HLS.L30.T15RYN.2023164T163126.v2.0/HLS.L30.T15RYN.2023164T163126.v2.0.B10.tif', 'https://data.lpdaac.earthdatacloud.nasa.gov/lp-prod-protected/HLSL30.020/HLS.L30.T15RYN.2023164T163126.v2.0/HLS.L30.T15RYN.2023164T163126.v2.0.B09.tif', 'https://data.lpdaac.earthdatacloud.nasa.gov/lp-prod-protected/HLSL30.020/HLS.L30.T15RYN.2023164T163126.v2.0/HLS.L30.T15RYN.2023164T163126.v2.0.VZA.tif', 'https://data.lpdaac.earthdatacloud.nasa.gov/lp-prod-protected/HLSL30.020/HLS.L30.T15RYN.2023164T163126.v2.0/HLS.L30.T15RYN.2023164T163126.v2.0.B06.tif', 'https://data.lpdaac.earthdatacloud.nasa.gov/lp-prod-protected/HLSL30.020/HLS.L30.T15RYN.2023164T163126.v2.0/HLS.L30.T15RYN.2023164T163126.v2.0.B01.tif', 'https://data.lpdaac.earthdatacloud.nasa.gov/lp-prod-protected/HLSL30.020/HLS.L30.T15RYN.2023164T163126.v2.0/HLS.L30.T15RYN.2023164T163126.v2.0.SZA.tif', 'https://data.lpdaac.earthdatacloud.nasa.gov/lp-prod-protected/HLSL30.020/HLS.L30.T15RYN.2023164T163126.v2.0/HLS.L30.T15RYN.2023164T163126.v2.0.SAA.tif', 'https://data.lpdaac.earthdatacloud.nasa.gov/lp-prod-protected/HLSL30.020/HLS.L30.T15RYN.2023164T163126.v2.0/HLS.L30.T15RYN.2023164T163126.v2.0.B11.tif'],\n",
              " Collection: {'EntryTitle': 'HLS Landsat Operational Land Imager Surface Reflectance and TOA Brightness Daily Global 30m v2.0'}\n",
              " Spatial coverage: {'HorizontalSpatialDomain': {'Geometry': {'GPolygons': [{'Boundary': {'Points': [{'Longitude': -90.07372506, 'Latitude': 28.80444525}, {'Longitude': -89.57658349, 'Latitude': 28.81512884}, {'Longitude': -89.31002534, 'Latitude': 29.81026904}, {'Longitude': -90.10353675, 'Latitude': 29.79400715}, {'Longitude': -90.07372506, 'Latitude': 28.80444525}]}}]}}}\n",
              " Temporal coverage: {'RangeDateTime': {'BeginningDateTime': '2023-06-13T16:31:26.844Z', 'EndingDateTime': '2023-06-13T16:31:50.735Z'}}\n",
              " Size(MB): 101.45634651184082\n",
              " Data: ['https://data.lpdaac.earthdatacloud.nasa.gov/lp-prod-protected/HLSL30.020/HLS.L30.T16RBT.2023164T163126.v2.0/HLS.L30.T16RBT.2023164T163126.v2.0.B09.tif', 'https://data.lpdaac.earthdatacloud.nasa.gov/lp-prod-protected/HLSL30.020/HLS.L30.T16RBT.2023164T163126.v2.0/HLS.L30.T16RBT.2023164T163126.v2.0.SAA.tif', 'https://data.lpdaac.earthdatacloud.nasa.gov/lp-prod-protected/HLSL30.020/HLS.L30.T16RBT.2023164T163126.v2.0/HLS.L30.T16RBT.2023164T163126.v2.0.B11.tif', 'https://data.lpdaac.earthdatacloud.nasa.gov/lp-prod-protected/HLSL30.020/HLS.L30.T16RBT.2023164T163126.v2.0/HLS.L30.T16RBT.2023164T163126.v2.0.B01.tif', 'https://data.lpdaac.earthdatacloud.nasa.gov/lp-prod-protected/HLSL30.020/HLS.L30.T16RBT.2023164T163126.v2.0/HLS.L30.T16RBT.2023164T163126.v2.0.B03.tif', 'https://data.lpdaac.earthdatacloud.nasa.gov/lp-prod-protected/HLSL30.020/HLS.L30.T16RBT.2023164T163126.v2.0/HLS.L30.T16RBT.2023164T163126.v2.0.VZA.tif', 'https://data.lpdaac.earthdatacloud.nasa.gov/lp-prod-protected/HLSL30.020/HLS.L30.T16RBT.2023164T163126.v2.0/HLS.L30.T16RBT.2023164T163126.v2.0.B07.tif', 'https://data.lpdaac.earthdatacloud.nasa.gov/lp-prod-protected/HLSL30.020/HLS.L30.T16RBT.2023164T163126.v2.0/HLS.L30.T16RBT.2023164T163126.v2.0.Fmask.tif', 'https://data.lpdaac.earthdatacloud.nasa.gov/lp-prod-protected/HLSL30.020/HLS.L30.T16RBT.2023164T163126.v2.0/HLS.L30.T16RBT.2023164T163126.v2.0.B10.tif', 'https://data.lpdaac.earthdatacloud.nasa.gov/lp-prod-protected/HLSL30.020/HLS.L30.T16RBT.2023164T163126.v2.0/HLS.L30.T16RBT.2023164T163126.v2.0.B04.tif', 'https://data.lpdaac.earthdatacloud.nasa.gov/lp-prod-protected/HLSL30.020/HLS.L30.T16RBT.2023164T163126.v2.0/HLS.L30.T16RBT.2023164T163126.v2.0.B05.tif', 'https://data.lpdaac.earthdatacloud.nasa.gov/lp-prod-protected/HLSL30.020/HLS.L30.T16RBT.2023164T163126.v2.0/HLS.L30.T16RBT.2023164T163126.v2.0.SZA.tif', 'https://data.lpdaac.earthdatacloud.nasa.gov/lp-prod-protected/HLSL30.020/HLS.L30.T16RBT.2023164T163126.v2.0/HLS.L30.T16RBT.2023164T163126.v2.0.VAA.tif', 'https://data.lpdaac.earthdatacloud.nasa.gov/lp-prod-protected/HLSL30.020/HLS.L30.T16RBT.2023164T163126.v2.0/HLS.L30.T16RBT.2023164T163126.v2.0.B02.tif', 'https://data.lpdaac.earthdatacloud.nasa.gov/lp-prod-protected/HLSL30.020/HLS.L30.T16RBT.2023164T163126.v2.0/HLS.L30.T16RBT.2023164T163126.v2.0.B06.tif'],\n",
              " Collection: {'EntryTitle': 'HLS Landsat Operational Land Imager Surface Reflectance and TOA Brightness Daily Global 30m v2.0'}\n",
              " Spatial coverage: {'HorizontalSpatialDomain': {'Geometry': {'GPolygons': [{'Boundary': {'Points': [{'Longitude': -89.79864173, 'Latitude': 29.70347853}, {'Longitude': -89.76643746, 'Latitude': 30.69278312}, {'Longitude': -90.91181412, 'Latitude': 30.71627038}, {'Longitude': -90.93263654, 'Latitude': 29.72605548}, {'Longitude': -89.79864173, 'Latitude': 29.70347853}]}}]}}}\n",
              " Temporal coverage: {'RangeDateTime': {'BeginningDateTime': '2023-06-21T16:31:34.135Z', 'EndingDateTime': '2023-06-21T16:31:34.135Z'}}\n",
              " Size(MB): 195.57819747924805\n",
              " Data: ['https://data.lpdaac.earthdatacloud.nasa.gov/lp-prod-protected/HLSL30.020/HLS.L30.T15RYP.2023172T163134.v2.0/HLS.L30.T15RYP.2023172T163134.v2.0.B02.tif', 'https://data.lpdaac.earthdatacloud.nasa.gov/lp-prod-protected/HLSL30.020/HLS.L30.T15RYP.2023172T163134.v2.0/HLS.L30.T15RYP.2023172T163134.v2.0.B03.tif', 'https://data.lpdaac.earthdatacloud.nasa.gov/lp-prod-protected/HLSL30.020/HLS.L30.T15RYP.2023172T163134.v2.0/HLS.L30.T15RYP.2023172T163134.v2.0.VZA.tif', 'https://data.lpdaac.earthdatacloud.nasa.gov/lp-prod-protected/HLSL30.020/HLS.L30.T15RYP.2023172T163134.v2.0/HLS.L30.T15RYP.2023172T163134.v2.0.B04.tif', 'https://data.lpdaac.earthdatacloud.nasa.gov/lp-prod-protected/HLSL30.020/HLS.L30.T15RYP.2023172T163134.v2.0/HLS.L30.T15RYP.2023172T163134.v2.0.Fmask.tif', 'https://data.lpdaac.earthdatacloud.nasa.gov/lp-prod-protected/HLSL30.020/HLS.L30.T15RYP.2023172T163134.v2.0/HLS.L30.T15RYP.2023172T163134.v2.0.B05.tif', 'https://data.lpdaac.earthdatacloud.nasa.gov/lp-prod-protected/HLSL30.020/HLS.L30.T15RYP.2023172T163134.v2.0/HLS.L30.T15RYP.2023172T163134.v2.0.B06.tif', 'https://data.lpdaac.earthdatacloud.nasa.gov/lp-prod-protected/HLSL30.020/HLS.L30.T15RYP.2023172T163134.v2.0/HLS.L30.T15RYP.2023172T163134.v2.0.B11.tif', 'https://data.lpdaac.earthdatacloud.nasa.gov/lp-prod-protected/HLSL30.020/HLS.L30.T15RYP.2023172T163134.v2.0/HLS.L30.T15RYP.2023172T163134.v2.0.B10.tif', 'https://data.lpdaac.earthdatacloud.nasa.gov/lp-prod-protected/HLSL30.020/HLS.L30.T15RYP.2023172T163134.v2.0/HLS.L30.T15RYP.2023172T163134.v2.0.B01.tif', 'https://data.lpdaac.earthdatacloud.nasa.gov/lp-prod-protected/HLSL30.020/HLS.L30.T15RYP.2023172T163134.v2.0/HLS.L30.T15RYP.2023172T163134.v2.0.VAA.tif', 'https://data.lpdaac.earthdatacloud.nasa.gov/lp-prod-protected/HLSL30.020/HLS.L30.T15RYP.2023172T163134.v2.0/HLS.L30.T15RYP.2023172T163134.v2.0.B07.tif', 'https://data.lpdaac.earthdatacloud.nasa.gov/lp-prod-protected/HLSL30.020/HLS.L30.T15RYP.2023172T163134.v2.0/HLS.L30.T15RYP.2023172T163134.v2.0.SAA.tif', 'https://data.lpdaac.earthdatacloud.nasa.gov/lp-prod-protected/HLSL30.020/HLS.L30.T15RYP.2023172T163134.v2.0/HLS.L30.T15RYP.2023172T163134.v2.0.SZA.tif', 'https://data.lpdaac.earthdatacloud.nasa.gov/lp-prod-protected/HLSL30.020/HLS.L30.T15RYP.2023172T163134.v2.0/HLS.L30.T15RYP.2023172T163134.v2.0.B09.tif'],\n",
              " Collection: {'EntryTitle': 'HLS Landsat Operational Land Imager Surface Reflectance and TOA Brightness Daily Global 30m v2.0'}\n",
              " Spatial coverage: {'HorizontalSpatialDomain': {'Geometry': {'GPolygons': [{'Boundary': {'Points': [{'Longitude': -89.82661214, 'Latitude': 28.80213717}, {'Longitude': -89.79583778, 'Latitude': 29.79160422}, {'Longitude': -90.93082361, 'Latitude': 29.81426153}, {'Longitude': -90.95072084, 'Latitude': 28.82389994}, {'Longitude': -89.82661214, 'Latitude': 28.80213717}]}}]}}}\n",
              " Temporal coverage: {'RangeDateTime': {'BeginningDateTime': '2023-06-21T16:31:34.135Z', 'EndingDateTime': '2023-06-21T16:31:58.030Z'}}\n",
              " Size(MB): 171.61441230773926\n",
              " Data: ['https://data.lpdaac.earthdatacloud.nasa.gov/lp-prod-protected/HLSL30.020/HLS.L30.T15RYN.2023172T163134.v2.0/HLS.L30.T15RYN.2023172T163134.v2.0.B10.tif', 'https://data.lpdaac.earthdatacloud.nasa.gov/lp-prod-protected/HLSL30.020/HLS.L30.T15RYN.2023172T163134.v2.0/HLS.L30.T15RYN.2023172T163134.v2.0.B01.tif', 'https://data.lpdaac.earthdatacloud.nasa.gov/lp-prod-protected/HLSL30.020/HLS.L30.T15RYN.2023172T163134.v2.0/HLS.L30.T15RYN.2023172T163134.v2.0.B07.tif', 'https://data.lpdaac.earthdatacloud.nasa.gov/lp-prod-protected/HLSL30.020/HLS.L30.T15RYN.2023172T163134.v2.0/HLS.L30.T15RYN.2023172T163134.v2.0.SZA.tif', 'https://data.lpdaac.earthdatacloud.nasa.gov/lp-prod-protected/HLSL30.020/HLS.L30.T15RYN.2023172T163134.v2.0/HLS.L30.T15RYN.2023172T163134.v2.0.B09.tif', 'https://data.lpdaac.earthdatacloud.nasa.gov/lp-prod-protected/HLSL30.020/HLS.L30.T15RYN.2023172T163134.v2.0/HLS.L30.T15RYN.2023172T163134.v2.0.B06.tif', 'https://data.lpdaac.earthdatacloud.nasa.gov/lp-prod-protected/HLSL30.020/HLS.L30.T15RYN.2023172T163134.v2.0/HLS.L30.T15RYN.2023172T163134.v2.0.B05.tif', 'https://data.lpdaac.earthdatacloud.nasa.gov/lp-prod-protected/HLSL30.020/HLS.L30.T15RYN.2023172T163134.v2.0/HLS.L30.T15RYN.2023172T163134.v2.0.VAA.tif', 'https://data.lpdaac.earthdatacloud.nasa.gov/lp-prod-protected/HLSL30.020/HLS.L30.T15RYN.2023172T163134.v2.0/HLS.L30.T15RYN.2023172T163134.v2.0.VZA.tif', 'https://data.lpdaac.earthdatacloud.nasa.gov/lp-prod-protected/HLSL30.020/HLS.L30.T15RYN.2023172T163134.v2.0/HLS.L30.T15RYN.2023172T163134.v2.0.B04.tif', 'https://data.lpdaac.earthdatacloud.nasa.gov/lp-prod-protected/HLSL30.020/HLS.L30.T15RYN.2023172T163134.v2.0/HLS.L30.T15RYN.2023172T163134.v2.0.SAA.tif', 'https://data.lpdaac.earthdatacloud.nasa.gov/lp-prod-protected/HLSL30.020/HLS.L30.T15RYN.2023172T163134.v2.0/HLS.L30.T15RYN.2023172T163134.v2.0.B03.tif', 'https://data.lpdaac.earthdatacloud.nasa.gov/lp-prod-protected/HLSL30.020/HLS.L30.T15RYN.2023172T163134.v2.0/HLS.L30.T15RYN.2023172T163134.v2.0.B11.tif', 'https://data.lpdaac.earthdatacloud.nasa.gov/lp-prod-protected/HLSL30.020/HLS.L30.T15RYN.2023172T163134.v2.0/HLS.L30.T15RYN.2023172T163134.v2.0.Fmask.tif', 'https://data.lpdaac.earthdatacloud.nasa.gov/lp-prod-protected/HLSL30.020/HLS.L30.T15RYN.2023172T163134.v2.0/HLS.L30.T15RYN.2023172T163134.v2.0.B02.tif'],\n",
              " Collection: {'EntryTitle': 'HLS Landsat Operational Land Imager Surface Reflectance and TOA Brightness Daily Global 30m v2.0'}\n",
              " Spatial coverage: {'HorizontalSpatialDomain': {'Geometry': {'GPolygons': [{'Boundary': {'Points': [{'Longitude': -90.10082051, 'Latitude': 29.70587294}, {'Longitude': -89.27979728, 'Latitude': 29.72256609}, {'Longitude': -89.00844337, 'Latitude': 30.71752903}, {'Longitude': -90.13201749, 'Latitude': 30.69527405}, {'Longitude': -90.10082051, 'Latitude': 29.70587294}]}}]}}}\n",
              " Temporal coverage: {'RangeDateTime': {'BeginningDateTime': '2023-06-21T16:31:34.135Z', 'EndingDateTime': '2023-06-21T16:31:34.135Z'}}\n",
              " Size(MB): 164.33089447021484\n",
              " Data: ['https://data.lpdaac.earthdatacloud.nasa.gov/lp-prod-protected/HLSL30.020/HLS.L30.T16RBU.2023172T163134.v2.0/HLS.L30.T16RBU.2023172T163134.v2.0.B11.tif', 'https://data.lpdaac.earthdatacloud.nasa.gov/lp-prod-protected/HLSL30.020/HLS.L30.T16RBU.2023172T163134.v2.0/HLS.L30.T16RBU.2023172T163134.v2.0.B05.tif', 'https://data.lpdaac.earthdatacloud.nasa.gov/lp-prod-protected/HLSL30.020/HLS.L30.T16RBU.2023172T163134.v2.0/HLS.L30.T16RBU.2023172T163134.v2.0.B06.tif', 'https://data.lpdaac.earthdatacloud.nasa.gov/lp-prod-protected/HLSL30.020/HLS.L30.T16RBU.2023172T163134.v2.0/HLS.L30.T16RBU.2023172T163134.v2.0.SAA.tif', 'https://data.lpdaac.earthdatacloud.nasa.gov/lp-prod-protected/HLSL30.020/HLS.L30.T16RBU.2023172T163134.v2.0/HLS.L30.T16RBU.2023172T163134.v2.0.B02.tif', 'https://data.lpdaac.earthdatacloud.nasa.gov/lp-prod-protected/HLSL30.020/HLS.L30.T16RBU.2023172T163134.v2.0/HLS.L30.T16RBU.2023172T163134.v2.0.B09.tif', 'https://data.lpdaac.earthdatacloud.nasa.gov/lp-prod-protected/HLSL30.020/HLS.L30.T16RBU.2023172T163134.v2.0/HLS.L30.T16RBU.2023172T163134.v2.0.B10.tif', 'https://data.lpdaac.earthdatacloud.nasa.gov/lp-prod-protected/HLSL30.020/HLS.L30.T16RBU.2023172T163134.v2.0/HLS.L30.T16RBU.2023172T163134.v2.0.VAA.tif', 'https://data.lpdaac.earthdatacloud.nasa.gov/lp-prod-protected/HLSL30.020/HLS.L30.T16RBU.2023172T163134.v2.0/HLS.L30.T16RBU.2023172T163134.v2.0.B04.tif', 'https://data.lpdaac.earthdatacloud.nasa.gov/lp-prod-protected/HLSL30.020/HLS.L30.T16RBU.2023172T163134.v2.0/HLS.L30.T16RBU.2023172T163134.v2.0.SZA.tif', 'https://data.lpdaac.earthdatacloud.nasa.gov/lp-prod-protected/HLSL30.020/HLS.L30.T16RBU.2023172T163134.v2.0/HLS.L30.T16RBU.2023172T163134.v2.0.Fmask.tif', 'https://data.lpdaac.earthdatacloud.nasa.gov/lp-prod-protected/HLSL30.020/HLS.L30.T16RBU.2023172T163134.v2.0/HLS.L30.T16RBU.2023172T163134.v2.0.B07.tif', 'https://data.lpdaac.earthdatacloud.nasa.gov/lp-prod-protected/HLSL30.020/HLS.L30.T16RBU.2023172T163134.v2.0/HLS.L30.T16RBU.2023172T163134.v2.0.B03.tif', 'https://data.lpdaac.earthdatacloud.nasa.gov/lp-prod-protected/HLSL30.020/HLS.L30.T16RBU.2023172T163134.v2.0/HLS.L30.T16RBU.2023172T163134.v2.0.B01.tif', 'https://data.lpdaac.earthdatacloud.nasa.gov/lp-prod-protected/HLSL30.020/HLS.L30.T16RBU.2023172T163134.v2.0/HLS.L30.T16RBU.2023172T163134.v2.0.VZA.tif'],\n",
              " Collection: {'EntryTitle': 'HLS Landsat Operational Land Imager Surface Reflectance and TOA Brightness Daily Global 30m v2.0'}\n",
              " Spatial coverage: {'HorizontalSpatialDomain': {'Geometry': {'GPolygons': [{'Boundary': {'Points': [{'Longitude': -90.07372506, 'Latitude': 28.80444525}, {'Longitude': -89.52374567, 'Latitude': 28.81585717}, {'Longitude': -89.25604799, 'Latitude': 29.811202}, {'Longitude': -90.10353675, 'Latitude': 29.79400715}, {'Longitude': -90.07372506, 'Latitude': 28.80444525}]}}]}}}\n",
              " Temporal coverage: {'RangeDateTime': {'BeginningDateTime': '2023-06-21T16:31:34.135Z', 'EndingDateTime': '2023-06-21T16:31:58.030Z'}}\n",
              " Size(MB): 115.42687129974365\n",
              " Data: ['https://data.lpdaac.earthdatacloud.nasa.gov/lp-prod-protected/HLSL30.020/HLS.L30.T16RBT.2023172T163134.v2.0/HLS.L30.T16RBT.2023172T163134.v2.0.B04.tif', 'https://data.lpdaac.earthdatacloud.nasa.gov/lp-prod-protected/HLSL30.020/HLS.L30.T16RBT.2023172T163134.v2.0/HLS.L30.T16RBT.2023172T163134.v2.0.B07.tif', 'https://data.lpdaac.earthdatacloud.nasa.gov/lp-prod-protected/HLSL30.020/HLS.L30.T16RBT.2023172T163134.v2.0/HLS.L30.T16RBT.2023172T163134.v2.0.VAA.tif', 'https://data.lpdaac.earthdatacloud.nasa.gov/lp-prod-protected/HLSL30.020/HLS.L30.T16RBT.2023172T163134.v2.0/HLS.L30.T16RBT.2023172T163134.v2.0.B11.tif', 'https://data.lpdaac.earthdatacloud.nasa.gov/lp-prod-protected/HLSL30.020/HLS.L30.T16RBT.2023172T163134.v2.0/HLS.L30.T16RBT.2023172T163134.v2.0.B01.tif', 'https://data.lpdaac.earthdatacloud.nasa.gov/lp-prod-protected/HLSL30.020/HLS.L30.T16RBT.2023172T163134.v2.0/HLS.L30.T16RBT.2023172T163134.v2.0.B06.tif', 'https://data.lpdaac.earthdatacloud.nasa.gov/lp-prod-protected/HLSL30.020/HLS.L30.T16RBT.2023172T163134.v2.0/HLS.L30.T16RBT.2023172T163134.v2.0.B03.tif', 'https://data.lpdaac.earthdatacloud.nasa.gov/lp-prod-protected/HLSL30.020/HLS.L30.T16RBT.2023172T163134.v2.0/HLS.L30.T16RBT.2023172T163134.v2.0.SZA.tif', 'https://data.lpdaac.earthdatacloud.nasa.gov/lp-prod-protected/HLSL30.020/HLS.L30.T16RBT.2023172T163134.v2.0/HLS.L30.T16RBT.2023172T163134.v2.0.B02.tif', 'https://data.lpdaac.earthdatacloud.nasa.gov/lp-prod-protected/HLSL30.020/HLS.L30.T16RBT.2023172T163134.v2.0/HLS.L30.T16RBT.2023172T163134.v2.0.Fmask.tif', 'https://data.lpdaac.earthdatacloud.nasa.gov/lp-prod-protected/HLSL30.020/HLS.L30.T16RBT.2023172T163134.v2.0/HLS.L30.T16RBT.2023172T163134.v2.0.B05.tif', 'https://data.lpdaac.earthdatacloud.nasa.gov/lp-prod-protected/HLSL30.020/HLS.L30.T16RBT.2023172T163134.v2.0/HLS.L30.T16RBT.2023172T163134.v2.0.SAA.tif', 'https://data.lpdaac.earthdatacloud.nasa.gov/lp-prod-protected/HLSL30.020/HLS.L30.T16RBT.2023172T163134.v2.0/HLS.L30.T16RBT.2023172T163134.v2.0.B09.tif', 'https://data.lpdaac.earthdatacloud.nasa.gov/lp-prod-protected/HLSL30.020/HLS.L30.T16RBT.2023172T163134.v2.0/HLS.L30.T16RBT.2023172T163134.v2.0.VZA.tif', 'https://data.lpdaac.earthdatacloud.nasa.gov/lp-prod-protected/HLSL30.020/HLS.L30.T16RBT.2023172T163134.v2.0/HLS.L30.T16RBT.2023172T163134.v2.0.B10.tif'],\n",
              " Collection: {'EntryTitle': 'HLS Landsat Operational Land Imager Surface Reflectance and TOA Brightness Daily Global 30m v2.0'}\n",
              " Spatial coverage: {'HorizontalSpatialDomain': {'Geometry': {'GPolygons': [{'Boundary': {'Points': [{'Longitude': -90.10082051, 'Latitude': 29.70587294}, {'Longitude': -89.30087944, 'Latitude': 29.72247183}, {'Longitude': -89.02973637, 'Latitude': 30.71719774}, {'Longitude': -90.13201749, 'Latitude': 30.69527405}, {'Longitude': -90.10082051, 'Latitude': 29.70587294}]}}]}}}\n",
              " Temporal coverage: {'RangeDateTime': {'BeginningDateTime': '2023-06-29T16:31:32.405Z', 'EndingDateTime': '2023-06-29T16:31:32.405Z'}}\n",
              " Size(MB): 152.8395118713379\n",
              " Data: ['https://data.lpdaac.earthdatacloud.nasa.gov/lp-prod-protected/HLSL30.020/HLS.L30.T16RBU.2023180T163132.v2.0/HLS.L30.T16RBU.2023180T163132.v2.0.B10.tif', 'https://data.lpdaac.earthdatacloud.nasa.gov/lp-prod-protected/HLSL30.020/HLS.L30.T16RBU.2023180T163132.v2.0/HLS.L30.T16RBU.2023180T163132.v2.0.SZA.tif', 'https://data.lpdaac.earthdatacloud.nasa.gov/lp-prod-protected/HLSL30.020/HLS.L30.T16RBU.2023180T163132.v2.0/HLS.L30.T16RBU.2023180T163132.v2.0.B09.tif', 'https://data.lpdaac.earthdatacloud.nasa.gov/lp-prod-protected/HLSL30.020/HLS.L30.T16RBU.2023180T163132.v2.0/HLS.L30.T16RBU.2023180T163132.v2.0.Fmask.tif', 'https://data.lpdaac.earthdatacloud.nasa.gov/lp-prod-protected/HLSL30.020/HLS.L30.T16RBU.2023180T163132.v2.0/HLS.L30.T16RBU.2023180T163132.v2.0.B03.tif', 'https://data.lpdaac.earthdatacloud.nasa.gov/lp-prod-protected/HLSL30.020/HLS.L30.T16RBU.2023180T163132.v2.0/HLS.L30.T16RBU.2023180T163132.v2.0.B06.tif', 'https://data.lpdaac.earthdatacloud.nasa.gov/lp-prod-protected/HLSL30.020/HLS.L30.T16RBU.2023180T163132.v2.0/HLS.L30.T16RBU.2023180T163132.v2.0.B11.tif', 'https://data.lpdaac.earthdatacloud.nasa.gov/lp-prod-protected/HLSL30.020/HLS.L30.T16RBU.2023180T163132.v2.0/HLS.L30.T16RBU.2023180T163132.v2.0.SAA.tif', 'https://data.lpdaac.earthdatacloud.nasa.gov/lp-prod-protected/HLSL30.020/HLS.L30.T16RBU.2023180T163132.v2.0/HLS.L30.T16RBU.2023180T163132.v2.0.B05.tif', 'https://data.lpdaac.earthdatacloud.nasa.gov/lp-prod-protected/HLSL30.020/HLS.L30.T16RBU.2023180T163132.v2.0/HLS.L30.T16RBU.2023180T163132.v2.0.VZA.tif', 'https://data.lpdaac.earthdatacloud.nasa.gov/lp-prod-protected/HLSL30.020/HLS.L30.T16RBU.2023180T163132.v2.0/HLS.L30.T16RBU.2023180T163132.v2.0.B07.tif', 'https://data.lpdaac.earthdatacloud.nasa.gov/lp-prod-protected/HLSL30.020/HLS.L30.T16RBU.2023180T163132.v2.0/HLS.L30.T16RBU.2023180T163132.v2.0.B01.tif', 'https://data.lpdaac.earthdatacloud.nasa.gov/lp-prod-protected/HLSL30.020/HLS.L30.T16RBU.2023180T163132.v2.0/HLS.L30.T16RBU.2023180T163132.v2.0.VAA.tif', 'https://data.lpdaac.earthdatacloud.nasa.gov/lp-prod-protected/HLSL30.020/HLS.L30.T16RBU.2023180T163132.v2.0/HLS.L30.T16RBU.2023180T163132.v2.0.B02.tif', 'https://data.lpdaac.earthdatacloud.nasa.gov/lp-prod-protected/HLSL30.020/HLS.L30.T16RBU.2023180T163132.v2.0/HLS.L30.T16RBU.2023180T163132.v2.0.B04.tif'],\n",
              " Collection: {'EntryTitle': 'HLS Landsat Operational Land Imager Surface Reflectance and TOA Brightness Daily Global 30m v2.0'}\n",
              " Spatial coverage: {'HorizontalSpatialDomain': {'Geometry': {'GPolygons': [{'Boundary': {'Points': [{'Longitude': -89.79864173, 'Latitude': 29.70347853}, {'Longitude': -89.76643746, 'Latitude': 30.69278312}, {'Longitude': -90.91181412, 'Latitude': 30.71627038}, {'Longitude': -90.93263654, 'Latitude': 29.72605548}, {'Longitude': -89.79864173, 'Latitude': 29.70347853}]}}]}}}\n",
              " Temporal coverage: {'RangeDateTime': {'BeginningDateTime': '2023-06-29T16:31:32.405Z', 'EndingDateTime': '2023-06-29T16:31:32.405Z'}}\n",
              " Size(MB): 176.9731960296631\n",
              " Data: ['https://data.lpdaac.earthdatacloud.nasa.gov/lp-prod-protected/HLSL30.020/HLS.L30.T15RYP.2023180T163132.v2.0/HLS.L30.T15RYP.2023180T163132.v2.0.B04.tif', 'https://data.lpdaac.earthdatacloud.nasa.gov/lp-prod-protected/HLSL30.020/HLS.L30.T15RYP.2023180T163132.v2.0/HLS.L30.T15RYP.2023180T163132.v2.0.B02.tif', 'https://data.lpdaac.earthdatacloud.nasa.gov/lp-prod-protected/HLSL30.020/HLS.L30.T15RYP.2023180T163132.v2.0/HLS.L30.T15RYP.2023180T163132.v2.0.B07.tif', 'https://data.lpdaac.earthdatacloud.nasa.gov/lp-prod-protected/HLSL30.020/HLS.L30.T15RYP.2023180T163132.v2.0/HLS.L30.T15RYP.2023180T163132.v2.0.B09.tif', 'https://data.lpdaac.earthdatacloud.nasa.gov/lp-prod-protected/HLSL30.020/HLS.L30.T15RYP.2023180T163132.v2.0/HLS.L30.T15RYP.2023180T163132.v2.0.SZA.tif', 'https://data.lpdaac.earthdatacloud.nasa.gov/lp-prod-protected/HLSL30.020/HLS.L30.T15RYP.2023180T163132.v2.0/HLS.L30.T15RYP.2023180T163132.v2.0.Fmask.tif', 'https://data.lpdaac.earthdatacloud.nasa.gov/lp-prod-protected/HLSL30.020/HLS.L30.T15RYP.2023180T163132.v2.0/HLS.L30.T15RYP.2023180T163132.v2.0.VZA.tif', 'https://data.lpdaac.earthdatacloud.nasa.gov/lp-prod-protected/HLSL30.020/HLS.L30.T15RYP.2023180T163132.v2.0/HLS.L30.T15RYP.2023180T163132.v2.0.B06.tif', 'https://data.lpdaac.earthdatacloud.nasa.gov/lp-prod-protected/HLSL30.020/HLS.L30.T15RYP.2023180T163132.v2.0/HLS.L30.T15RYP.2023180T163132.v2.0.SAA.tif', 'https://data.lpdaac.earthdatacloud.nasa.gov/lp-prod-protected/HLSL30.020/HLS.L30.T15RYP.2023180T163132.v2.0/HLS.L30.T15RYP.2023180T163132.v2.0.B11.tif', 'https://data.lpdaac.earthdatacloud.nasa.gov/lp-prod-protected/HLSL30.020/HLS.L30.T15RYP.2023180T163132.v2.0/HLS.L30.T15RYP.2023180T163132.v2.0.B03.tif', 'https://data.lpdaac.earthdatacloud.nasa.gov/lp-prod-protected/HLSL30.020/HLS.L30.T15RYP.2023180T163132.v2.0/HLS.L30.T15RYP.2023180T163132.v2.0.VAA.tif', 'https://data.lpdaac.earthdatacloud.nasa.gov/lp-prod-protected/HLSL30.020/HLS.L30.T15RYP.2023180T163132.v2.0/HLS.L30.T15RYP.2023180T163132.v2.0.B05.tif', 'https://data.lpdaac.earthdatacloud.nasa.gov/lp-prod-protected/HLSL30.020/HLS.L30.T15RYP.2023180T163132.v2.0/HLS.L30.T15RYP.2023180T163132.v2.0.B10.tif', 'https://data.lpdaac.earthdatacloud.nasa.gov/lp-prod-protected/HLSL30.020/HLS.L30.T15RYP.2023180T163132.v2.0/HLS.L30.T15RYP.2023180T163132.v2.0.B01.tif'],\n",
              " Collection: {'EntryTitle': 'HLS Landsat Operational Land Imager Surface Reflectance and TOA Brightness Daily Global 30m v2.0'}\n",
              " Spatial coverage: {'HorizontalSpatialDomain': {'Geometry': {'GPolygons': [{'Boundary': {'Points': [{'Longitude': -90.07372506, 'Latitude': 28.80444525}, {'Longitude': -89.54493988, 'Latitude': 28.81545895}, {'Longitude': -89.27714289, 'Latitude': 29.81084001}, {'Longitude': -90.10353675, 'Latitude': 29.79400715}, {'Longitude': -90.07372506, 'Latitude': 28.80444525}]}}]}}}\n",
              " Temporal coverage: {'RangeDateTime': {'BeginningDateTime': '2023-06-29T16:31:32.405Z', 'EndingDateTime': '2023-06-29T16:31:56.296Z'}}\n",
              " Size(MB): 100.81501483917236\n",
              " Data: ['https://data.lpdaac.earthdatacloud.nasa.gov/lp-prod-protected/HLSL30.020/HLS.L30.T16RBT.2023180T163132.v2.0/HLS.L30.T16RBT.2023180T163132.v2.0.SZA.tif', 'https://data.lpdaac.earthdatacloud.nasa.gov/lp-prod-protected/HLSL30.020/HLS.L30.T16RBT.2023180T163132.v2.0/HLS.L30.T16RBT.2023180T163132.v2.0.B01.tif', 'https://data.lpdaac.earthdatacloud.nasa.gov/lp-prod-protected/HLSL30.020/HLS.L30.T16RBT.2023180T163132.v2.0/HLS.L30.T16RBT.2023180T163132.v2.0.Fmask.tif', 'https://data.lpdaac.earthdatacloud.nasa.gov/lp-prod-protected/HLSL30.020/HLS.L30.T16RBT.2023180T163132.v2.0/HLS.L30.T16RBT.2023180T163132.v2.0.B05.tif', 'https://data.lpdaac.earthdatacloud.nasa.gov/lp-prod-protected/HLSL30.020/HLS.L30.T16RBT.2023180T163132.v2.0/HLS.L30.T16RBT.2023180T163132.v2.0.VAA.tif', 'https://data.lpdaac.earthdatacloud.nasa.gov/lp-prod-protected/HLSL30.020/HLS.L30.T16RBT.2023180T163132.v2.0/HLS.L30.T16RBT.2023180T163132.v2.0.B06.tif', 'https://data.lpdaac.earthdatacloud.nasa.gov/lp-prod-protected/HLSL30.020/HLS.L30.T16RBT.2023180T163132.v2.0/HLS.L30.T16RBT.2023180T163132.v2.0.SAA.tif', 'https://data.lpdaac.earthdatacloud.nasa.gov/lp-prod-protected/HLSL30.020/HLS.L30.T16RBT.2023180T163132.v2.0/HLS.L30.T16RBT.2023180T163132.v2.0.B11.tif', 'https://data.lpdaac.earthdatacloud.nasa.gov/lp-prod-protected/HLSL30.020/HLS.L30.T16RBT.2023180T163132.v2.0/HLS.L30.T16RBT.2023180T163132.v2.0.B02.tif', 'https://data.lpdaac.earthdatacloud.nasa.gov/lp-prod-protected/HLSL30.020/HLS.L30.T16RBT.2023180T163132.v2.0/HLS.L30.T16RBT.2023180T163132.v2.0.B03.tif', 'https://data.lpdaac.earthdatacloud.nasa.gov/lp-prod-protected/HLSL30.020/HLS.L30.T16RBT.2023180T163132.v2.0/HLS.L30.T16RBT.2023180T163132.v2.0.B10.tif', 'https://data.lpdaac.earthdatacloud.nasa.gov/lp-prod-protected/HLSL30.020/HLS.L30.T16RBT.2023180T163132.v2.0/HLS.L30.T16RBT.2023180T163132.v2.0.VZA.tif', 'https://data.lpdaac.earthdatacloud.nasa.gov/lp-prod-protected/HLSL30.020/HLS.L30.T16RBT.2023180T163132.v2.0/HLS.L30.T16RBT.2023180T163132.v2.0.B04.tif', 'https://data.lpdaac.earthdatacloud.nasa.gov/lp-prod-protected/HLSL30.020/HLS.L30.T16RBT.2023180T163132.v2.0/HLS.L30.T16RBT.2023180T163132.v2.0.B07.tif', 'https://data.lpdaac.earthdatacloud.nasa.gov/lp-prod-protected/HLSL30.020/HLS.L30.T16RBT.2023180T163132.v2.0/HLS.L30.T16RBT.2023180T163132.v2.0.B09.tif'],\n",
              " Collection: {'EntryTitle': 'HLS Landsat Operational Land Imager Surface Reflectance and TOA Brightness Daily Global 30m v2.0'}\n",
              " Spatial coverage: {'HorizontalSpatialDomain': {'Geometry': {'GPolygons': [{'Boundary': {'Points': [{'Longitude': -89.82661214, 'Latitude': 28.80213717}, {'Longitude': -89.79583778, 'Latitude': 29.79160422}, {'Longitude': -90.93082361, 'Latitude': 29.81426153}, {'Longitude': -90.95072084, 'Latitude': 28.82389994}, {'Longitude': -89.82661214, 'Latitude': 28.80213717}]}}]}}}\n",
              " Temporal coverage: {'RangeDateTime': {'BeginningDateTime': '2023-06-29T16:31:32.405Z', 'EndingDateTime': '2023-06-29T16:31:56.296Z'}}\n",
              " Size(MB): 167.79599571228027\n",
              " Data: ['https://data.lpdaac.earthdatacloud.nasa.gov/lp-prod-protected/HLSL30.020/HLS.L30.T15RYN.2023180T163132.v2.0/HLS.L30.T15RYN.2023180T163132.v2.0.B09.tif', 'https://data.lpdaac.earthdatacloud.nasa.gov/lp-prod-protected/HLSL30.020/HLS.L30.T15RYN.2023180T163132.v2.0/HLS.L30.T15RYN.2023180T163132.v2.0.B05.tif', 'https://data.lpdaac.earthdatacloud.nasa.gov/lp-prod-protected/HLSL30.020/HLS.L30.T15RYN.2023180T163132.v2.0/HLS.L30.T15RYN.2023180T163132.v2.0.B03.tif', 'https://data.lpdaac.earthdatacloud.nasa.gov/lp-prod-protected/HLSL30.020/HLS.L30.T15RYN.2023180T163132.v2.0/HLS.L30.T15RYN.2023180T163132.v2.0.B07.tif', 'https://data.lpdaac.earthdatacloud.nasa.gov/lp-prod-protected/HLSL30.020/HLS.L30.T15RYN.2023180T163132.v2.0/HLS.L30.T15RYN.2023180T163132.v2.0.B11.tif', 'https://data.lpdaac.earthdatacloud.nasa.gov/lp-prod-protected/HLSL30.020/HLS.L30.T15RYN.2023180T163132.v2.0/HLS.L30.T15RYN.2023180T163132.v2.0.B02.tif', 'https://data.lpdaac.earthdatacloud.nasa.gov/lp-prod-protected/HLSL30.020/HLS.L30.T15RYN.2023180T163132.v2.0/HLS.L30.T15RYN.2023180T163132.v2.0.SAA.tif', 'https://data.lpdaac.earthdatacloud.nasa.gov/lp-prod-protected/HLSL30.020/HLS.L30.T15RYN.2023180T163132.v2.0/HLS.L30.T15RYN.2023180T163132.v2.0.SZA.tif', 'https://data.lpdaac.earthdatacloud.nasa.gov/lp-prod-protected/HLSL30.020/HLS.L30.T15RYN.2023180T163132.v2.0/HLS.L30.T15RYN.2023180T163132.v2.0.B04.tif', 'https://data.lpdaac.earthdatacloud.nasa.gov/lp-prod-protected/HLSL30.020/HLS.L30.T15RYN.2023180T163132.v2.0/HLS.L30.T15RYN.2023180T163132.v2.0.VZA.tif', 'https://data.lpdaac.earthdatacloud.nasa.gov/lp-prod-protected/HLSL30.020/HLS.L30.T15RYN.2023180T163132.v2.0/HLS.L30.T15RYN.2023180T163132.v2.0.Fmask.tif', 'https://data.lpdaac.earthdatacloud.nasa.gov/lp-prod-protected/HLSL30.020/HLS.L30.T15RYN.2023180T163132.v2.0/HLS.L30.T15RYN.2023180T163132.v2.0.B10.tif', 'https://data.lpdaac.earthdatacloud.nasa.gov/lp-prod-protected/HLSL30.020/HLS.L30.T15RYN.2023180T163132.v2.0/HLS.L30.T15RYN.2023180T163132.v2.0.B01.tif', 'https://data.lpdaac.earthdatacloud.nasa.gov/lp-prod-protected/HLSL30.020/HLS.L30.T15RYN.2023180T163132.v2.0/HLS.L30.T15RYN.2023180T163132.v2.0.VAA.tif', 'https://data.lpdaac.earthdatacloud.nasa.gov/lp-prod-protected/HLSL30.020/HLS.L30.T15RYN.2023180T163132.v2.0/HLS.L30.T15RYN.2023180T163132.v2.0.B06.tif'],\n",
              " Collection: {'EntryTitle': 'HLS Landsat Operational Land Imager Surface Reflectance and TOA Brightness Daily Global 30m v2.0'}\n",
              " Spatial coverage: {'HorizontalSpatialDomain': {'Geometry': {'GPolygons': [{'Boundary': {'Points': [{'Longitude': -90.10082051, 'Latitude': 29.70587294}, {'Longitude': -89.29839376, 'Latitude': 29.72224438}, {'Longitude': -89.0269182, 'Latitude': 30.71724179}, {'Longitude': -90.13201749, 'Latitude': 30.69527405}, {'Longitude': -90.10082051, 'Latitude': 29.70587294}]}}]}}}\n",
              " Temporal coverage: {'RangeDateTime': {'BeginningDateTime': '2023-07-07T16:31:46.664Z', 'EndingDateTime': '2023-07-07T16:31:46.664Z'}}\n",
              " Size(MB): 158.11985111236572\n",
              " Data: ['https://data.lpdaac.earthdatacloud.nasa.gov/lp-prod-protected/HLSL30.020/HLS.L30.T16RBU.2023188T163146.v2.0/HLS.L30.T16RBU.2023188T163146.v2.0.B03.tif', 'https://data.lpdaac.earthdatacloud.nasa.gov/lp-prod-protected/HLSL30.020/HLS.L30.T16RBU.2023188T163146.v2.0/HLS.L30.T16RBU.2023188T163146.v2.0.B04.tif', 'https://data.lpdaac.earthdatacloud.nasa.gov/lp-prod-protected/HLSL30.020/HLS.L30.T16RBU.2023188T163146.v2.0/HLS.L30.T16RBU.2023188T163146.v2.0.B11.tif', 'https://data.lpdaac.earthdatacloud.nasa.gov/lp-prod-protected/HLSL30.020/HLS.L30.T16RBU.2023188T163146.v2.0/HLS.L30.T16RBU.2023188T163146.v2.0.VAA.tif', 'https://data.lpdaac.earthdatacloud.nasa.gov/lp-prod-protected/HLSL30.020/HLS.L30.T16RBU.2023188T163146.v2.0/HLS.L30.T16RBU.2023188T163146.v2.0.SAA.tif', 'https://data.lpdaac.earthdatacloud.nasa.gov/lp-prod-protected/HLSL30.020/HLS.L30.T16RBU.2023188T163146.v2.0/HLS.L30.T16RBU.2023188T163146.v2.0.B07.tif', 'https://data.lpdaac.earthdatacloud.nasa.gov/lp-prod-protected/HLSL30.020/HLS.L30.T16RBU.2023188T163146.v2.0/HLS.L30.T16RBU.2023188T163146.v2.0.B09.tif', 'https://data.lpdaac.earthdatacloud.nasa.gov/lp-prod-protected/HLSL30.020/HLS.L30.T16RBU.2023188T163146.v2.0/HLS.L30.T16RBU.2023188T163146.v2.0.VZA.tif', 'https://data.lpdaac.earthdatacloud.nasa.gov/lp-prod-protected/HLSL30.020/HLS.L30.T16RBU.2023188T163146.v2.0/HLS.L30.T16RBU.2023188T163146.v2.0.SZA.tif', 'https://data.lpdaac.earthdatacloud.nasa.gov/lp-prod-protected/HLSL30.020/HLS.L30.T16RBU.2023188T163146.v2.0/HLS.L30.T16RBU.2023188T163146.v2.0.B01.tif', 'https://data.lpdaac.earthdatacloud.nasa.gov/lp-prod-protected/HLSL30.020/HLS.L30.T16RBU.2023188T163146.v2.0/HLS.L30.T16RBU.2023188T163146.v2.0.B10.tif', 'https://data.lpdaac.earthdatacloud.nasa.gov/lp-prod-protected/HLSL30.020/HLS.L30.T16RBU.2023188T163146.v2.0/HLS.L30.T16RBU.2023188T163146.v2.0.Fmask.tif', 'https://data.lpdaac.earthdatacloud.nasa.gov/lp-prod-protected/HLSL30.020/HLS.L30.T16RBU.2023188T163146.v2.0/HLS.L30.T16RBU.2023188T163146.v2.0.B06.tif', 'https://data.lpdaac.earthdatacloud.nasa.gov/lp-prod-protected/HLSL30.020/HLS.L30.T16RBU.2023188T163146.v2.0/HLS.L30.T16RBU.2023188T163146.v2.0.B05.tif', 'https://data.lpdaac.earthdatacloud.nasa.gov/lp-prod-protected/HLSL30.020/HLS.L30.T16RBU.2023188T163146.v2.0/HLS.L30.T16RBU.2023188T163146.v2.0.B02.tif'],\n",
              " Collection: {'EntryTitle': 'HLS Landsat Operational Land Imager Surface Reflectance and TOA Brightness Daily Global 30m v2.0'}\n",
              " Spatial coverage: {'HorizontalSpatialDomain': {'Geometry': {'GPolygons': [{'Boundary': {'Points': [{'Longitude': -89.79864173, 'Latitude': 29.70347853}, {'Longitude': -89.76643746, 'Latitude': 30.69278312}, {'Longitude': -90.91181412, 'Latitude': 30.71627038}, {'Longitude': -90.93263654, 'Latitude': 29.72605548}, {'Longitude': -89.79864173, 'Latitude': 29.70347853}]}}]}}}\n",
              " Temporal coverage: {'RangeDateTime': {'BeginningDateTime': '2023-07-07T16:31:46.664Z', 'EndingDateTime': '2023-07-07T16:31:46.664Z'}}\n",
              " Size(MB): 191.48034858703613\n",
              " Data: ['https://data.lpdaac.earthdatacloud.nasa.gov/lp-prod-protected/HLSL30.020/HLS.L30.T15RYP.2023188T163146.v2.0/HLS.L30.T15RYP.2023188T163146.v2.0.B04.tif', 'https://data.lpdaac.earthdatacloud.nasa.gov/lp-prod-protected/HLSL30.020/HLS.L30.T15RYP.2023188T163146.v2.0/HLS.L30.T15RYP.2023188T163146.v2.0.B01.tif', 'https://data.lpdaac.earthdatacloud.nasa.gov/lp-prod-protected/HLSL30.020/HLS.L30.T15RYP.2023188T163146.v2.0/HLS.L30.T15RYP.2023188T163146.v2.0.B03.tif', 'https://data.lpdaac.earthdatacloud.nasa.gov/lp-prod-protected/HLSL30.020/HLS.L30.T15RYP.2023188T163146.v2.0/HLS.L30.T15RYP.2023188T163146.v2.0.B06.tif', 'https://data.lpdaac.earthdatacloud.nasa.gov/lp-prod-protected/HLSL30.020/HLS.L30.T15RYP.2023188T163146.v2.0/HLS.L30.T15RYP.2023188T163146.v2.0.B05.tif', 'https://data.lpdaac.earthdatacloud.nasa.gov/lp-prod-protected/HLSL30.020/HLS.L30.T15RYP.2023188T163146.v2.0/HLS.L30.T15RYP.2023188T163146.v2.0.B11.tif', 'https://data.lpdaac.earthdatacloud.nasa.gov/lp-prod-protected/HLSL30.020/HLS.L30.T15RYP.2023188T163146.v2.0/HLS.L30.T15RYP.2023188T163146.v2.0.B10.tif', 'https://data.lpdaac.earthdatacloud.nasa.gov/lp-prod-protected/HLSL30.020/HLS.L30.T15RYP.2023188T163146.v2.0/HLS.L30.T15RYP.2023188T163146.v2.0.Fmask.tif', 'https://data.lpdaac.earthdatacloud.nasa.gov/lp-prod-protected/HLSL30.020/HLS.L30.T15RYP.2023188T163146.v2.0/HLS.L30.T15RYP.2023188T163146.v2.0.SZA.tif', 'https://data.lpdaac.earthdatacloud.nasa.gov/lp-prod-protected/HLSL30.020/HLS.L30.T15RYP.2023188T163146.v2.0/HLS.L30.T15RYP.2023188T163146.v2.0.B02.tif', 'https://data.lpdaac.earthdatacloud.nasa.gov/lp-prod-protected/HLSL30.020/HLS.L30.T15RYP.2023188T163146.v2.0/HLS.L30.T15RYP.2023188T163146.v2.0.SAA.tif', 'https://data.lpdaac.earthdatacloud.nasa.gov/lp-prod-protected/HLSL30.020/HLS.L30.T15RYP.2023188T163146.v2.0/HLS.L30.T15RYP.2023188T163146.v2.0.B07.tif', 'https://data.lpdaac.earthdatacloud.nasa.gov/lp-prod-protected/HLSL30.020/HLS.L30.T15RYP.2023188T163146.v2.0/HLS.L30.T15RYP.2023188T163146.v2.0.VZA.tif', 'https://data.lpdaac.earthdatacloud.nasa.gov/lp-prod-protected/HLSL30.020/HLS.L30.T15RYP.2023188T163146.v2.0/HLS.L30.T15RYP.2023188T163146.v2.0.VAA.tif', 'https://data.lpdaac.earthdatacloud.nasa.gov/lp-prod-protected/HLSL30.020/HLS.L30.T15RYP.2023188T163146.v2.0/HLS.L30.T15RYP.2023188T163146.v2.0.B09.tif'],\n",
              " Collection: {'EntryTitle': 'HLS Landsat Operational Land Imager Surface Reflectance and TOA Brightness Daily Global 30m v2.0'}\n",
              " Spatial coverage: {'HorizontalSpatialDomain': {'Geometry': {'GPolygons': [{'Boundary': {'Points': [{'Longitude': -90.07372506, 'Latitude': 28.80444525}, {'Longitude': -89.54217545, 'Latitude': 28.81551108}, {'Longitude': -89.27435094, 'Latitude': 29.81088812}, {'Longitude': -90.10353675, 'Latitude': 29.79400715}, {'Longitude': -90.07372506, 'Latitude': 28.80444525}]}}]}}}\n",
              " Temporal coverage: {'RangeDateTime': {'BeginningDateTime': '2023-07-07T16:31:46.664Z', 'EndingDateTime': '2023-07-07T16:32:10.564Z'}}\n",
              " Size(MB): 117.79535293579102\n",
              " Data: ['https://data.lpdaac.earthdatacloud.nasa.gov/lp-prod-protected/HLSL30.020/HLS.L30.T16RBT.2023188T163146.v2.0/HLS.L30.T16RBT.2023188T163146.v2.0.B11.tif', 'https://data.lpdaac.earthdatacloud.nasa.gov/lp-prod-protected/HLSL30.020/HLS.L30.T16RBT.2023188T163146.v2.0/HLS.L30.T16RBT.2023188T163146.v2.0.VZA.tif', 'https://data.lpdaac.earthdatacloud.nasa.gov/lp-prod-protected/HLSL30.020/HLS.L30.T16RBT.2023188T163146.v2.0/HLS.L30.T16RBT.2023188T163146.v2.0.B06.tif', 'https://data.lpdaac.earthdatacloud.nasa.gov/lp-prod-protected/HLSL30.020/HLS.L30.T16RBT.2023188T163146.v2.0/HLS.L30.T16RBT.2023188T163146.v2.0.B09.tif', 'https://data.lpdaac.earthdatacloud.nasa.gov/lp-prod-protected/HLSL30.020/HLS.L30.T16RBT.2023188T163146.v2.0/HLS.L30.T16RBT.2023188T163146.v2.0.SZA.tif', 'https://data.lpdaac.earthdatacloud.nasa.gov/lp-prod-protected/HLSL30.020/HLS.L30.T16RBT.2023188T163146.v2.0/HLS.L30.T16RBT.2023188T163146.v2.0.B04.tif', 'https://data.lpdaac.earthdatacloud.nasa.gov/lp-prod-protected/HLSL30.020/HLS.L30.T16RBT.2023188T163146.v2.0/HLS.L30.T16RBT.2023188T163146.v2.0.B03.tif', 'https://data.lpdaac.earthdatacloud.nasa.gov/lp-prod-protected/HLSL30.020/HLS.L30.T16RBT.2023188T163146.v2.0/HLS.L30.T16RBT.2023188T163146.v2.0.B05.tif', 'https://data.lpdaac.earthdatacloud.nasa.gov/lp-prod-protected/HLSL30.020/HLS.L30.T16RBT.2023188T163146.v2.0/HLS.L30.T16RBT.2023188T163146.v2.0.VAA.tif', 'https://data.lpdaac.earthdatacloud.nasa.gov/lp-prod-protected/HLSL30.020/HLS.L30.T16RBT.2023188T163146.v2.0/HLS.L30.T16RBT.2023188T163146.v2.0.B07.tif', 'https://data.lpdaac.earthdatacloud.nasa.gov/lp-prod-protected/HLSL30.020/HLS.L30.T16RBT.2023188T163146.v2.0/HLS.L30.T16RBT.2023188T163146.v2.0.B01.tif', 'https://data.lpdaac.earthdatacloud.nasa.gov/lp-prod-protected/HLSL30.020/HLS.L30.T16RBT.2023188T163146.v2.0/HLS.L30.T16RBT.2023188T163146.v2.0.SAA.tif', 'https://data.lpdaac.earthdatacloud.nasa.gov/lp-prod-protected/HLSL30.020/HLS.L30.T16RBT.2023188T163146.v2.0/HLS.L30.T16RBT.2023188T163146.v2.0.B02.tif', 'https://data.lpdaac.earthdatacloud.nasa.gov/lp-prod-protected/HLSL30.020/HLS.L30.T16RBT.2023188T163146.v2.0/HLS.L30.T16RBT.2023188T163146.v2.0.Fmask.tif', 'https://data.lpdaac.earthdatacloud.nasa.gov/lp-prod-protected/HLSL30.020/HLS.L30.T16RBT.2023188T163146.v2.0/HLS.L30.T16RBT.2023188T163146.v2.0.B10.tif'],\n",
              " Collection: {'EntryTitle': 'HLS Landsat Operational Land Imager Surface Reflectance and TOA Brightness Daily Global 30m v2.0'}\n",
              " Spatial coverage: {'HorizontalSpatialDomain': {'Geometry': {'GPolygons': [{'Boundary': {'Points': [{'Longitude': -89.82661214, 'Latitude': 28.80213717}, {'Longitude': -89.79583778, 'Latitude': 29.79160422}, {'Longitude': -90.93082361, 'Latitude': 29.81426153}, {'Longitude': -90.95072084, 'Latitude': 28.82389994}, {'Longitude': -89.82661214, 'Latitude': 28.80213717}]}}]}}}\n",
              " Temporal coverage: {'RangeDateTime': {'BeginningDateTime': '2023-07-07T16:31:46.664Z', 'EndingDateTime': '2023-07-07T16:32:10.564Z'}}\n",
              " Size(MB): 193.52160167694092\n",
              " Data: ['https://data.lpdaac.earthdatacloud.nasa.gov/lp-prod-protected/HLSL30.020/HLS.L30.T15RYN.2023188T163146.v2.0/HLS.L30.T15RYN.2023188T163146.v2.0.B03.tif', 'https://data.lpdaac.earthdatacloud.nasa.gov/lp-prod-protected/HLSL30.020/HLS.L30.T15RYN.2023188T163146.v2.0/HLS.L30.T15RYN.2023188T163146.v2.0.B11.tif', 'https://data.lpdaac.earthdatacloud.nasa.gov/lp-prod-protected/HLSL30.020/HLS.L30.T15RYN.2023188T163146.v2.0/HLS.L30.T15RYN.2023188T163146.v2.0.B02.tif', 'https://data.lpdaac.earthdatacloud.nasa.gov/lp-prod-protected/HLSL30.020/HLS.L30.T15RYN.2023188T163146.v2.0/HLS.L30.T15RYN.2023188T163146.v2.0.B05.tif', 'https://data.lpdaac.earthdatacloud.nasa.gov/lp-prod-protected/HLSL30.020/HLS.L30.T15RYN.2023188T163146.v2.0/HLS.L30.T15RYN.2023188T163146.v2.0.B04.tif', 'https://data.lpdaac.earthdatacloud.nasa.gov/lp-prod-protected/HLSL30.020/HLS.L30.T15RYN.2023188T163146.v2.0/HLS.L30.T15RYN.2023188T163146.v2.0.SZA.tif', 'https://data.lpdaac.earthdatacloud.nasa.gov/lp-prod-protected/HLSL30.020/HLS.L30.T15RYN.2023188T163146.v2.0/HLS.L30.T15RYN.2023188T163146.v2.0.Fmask.tif', 'https://data.lpdaac.earthdatacloud.nasa.gov/lp-prod-protected/HLSL30.020/HLS.L30.T15RYN.2023188T163146.v2.0/HLS.L30.T15RYN.2023188T163146.v2.0.B07.tif', 'https://data.lpdaac.earthdatacloud.nasa.gov/lp-prod-protected/HLSL30.020/HLS.L30.T15RYN.2023188T163146.v2.0/HLS.L30.T15RYN.2023188T163146.v2.0.B10.tif', 'https://data.lpdaac.earthdatacloud.nasa.gov/lp-prod-protected/HLSL30.020/HLS.L30.T15RYN.2023188T163146.v2.0/HLS.L30.T15RYN.2023188T163146.v2.0.B01.tif', 'https://data.lpdaac.earthdatacloud.nasa.gov/lp-prod-protected/HLSL30.020/HLS.L30.T15RYN.2023188T163146.v2.0/HLS.L30.T15RYN.2023188T163146.v2.0.B06.tif', 'https://data.lpdaac.earthdatacloud.nasa.gov/lp-prod-protected/HLSL30.020/HLS.L30.T15RYN.2023188T163146.v2.0/HLS.L30.T15RYN.2023188T163146.v2.0.VZA.tif', 'https://data.lpdaac.earthdatacloud.nasa.gov/lp-prod-protected/HLSL30.020/HLS.L30.T15RYN.2023188T163146.v2.0/HLS.L30.T15RYN.2023188T163146.v2.0.SAA.tif', 'https://data.lpdaac.earthdatacloud.nasa.gov/lp-prod-protected/HLSL30.020/HLS.L30.T15RYN.2023188T163146.v2.0/HLS.L30.T15RYN.2023188T163146.v2.0.B09.tif', 'https://data.lpdaac.earthdatacloud.nasa.gov/lp-prod-protected/HLSL30.020/HLS.L30.T15RYN.2023188T163146.v2.0/HLS.L30.T15RYN.2023188T163146.v2.0.VAA.tif'],\n",
              " Collection: {'EntryTitle': 'HLS Landsat Operational Land Imager Surface Reflectance and TOA Brightness Daily Global 30m v2.0'}\n",
              " Spatial coverage: {'HorizontalSpatialDomain': {'Geometry': {'GPolygons': [{'Boundary': {'Points': [{'Longitude': -89.82661214, 'Latitude': 28.80213717}, {'Longitude': -89.79583778, 'Latitude': 29.79160422}, {'Longitude': -90.93082361, 'Latitude': 29.81426153}, {'Longitude': -90.95072084, 'Latitude': 28.82389994}, {'Longitude': -89.82661214, 'Latitude': 28.80213717}]}}]}}}\n",
              " Temporal coverage: {'RangeDateTime': {'BeginningDateTime': '2023-07-15T16:31:42.442Z', 'EndingDateTime': '2023-07-15T16:32:06.333Z'}}\n",
              " Size(MB): 169.20604133605957\n",
              " Data: ['https://data.lpdaac.earthdatacloud.nasa.gov/lp-prod-protected/HLSL30.020/HLS.L30.T15RYN.2023196T163142.v2.0/HLS.L30.T15RYN.2023196T163142.v2.0.Fmask.tif', 'https://data.lpdaac.earthdatacloud.nasa.gov/lp-prod-protected/HLSL30.020/HLS.L30.T15RYN.2023196T163142.v2.0/HLS.L30.T15RYN.2023196T163142.v2.0.B05.tif', 'https://data.lpdaac.earthdatacloud.nasa.gov/lp-prod-protected/HLSL30.020/HLS.L30.T15RYN.2023196T163142.v2.0/HLS.L30.T15RYN.2023196T163142.v2.0.B09.tif', 'https://data.lpdaac.earthdatacloud.nasa.gov/lp-prod-protected/HLSL30.020/HLS.L30.T15RYN.2023196T163142.v2.0/HLS.L30.T15RYN.2023196T163142.v2.0.VZA.tif', 'https://data.lpdaac.earthdatacloud.nasa.gov/lp-prod-protected/HLSL30.020/HLS.L30.T15RYN.2023196T163142.v2.0/HLS.L30.T15RYN.2023196T163142.v2.0.B01.tif', 'https://data.lpdaac.earthdatacloud.nasa.gov/lp-prod-protected/HLSL30.020/HLS.L30.T15RYN.2023196T163142.v2.0/HLS.L30.T15RYN.2023196T163142.v2.0.SAA.tif', 'https://data.lpdaac.earthdatacloud.nasa.gov/lp-prod-protected/HLSL30.020/HLS.L30.T15RYN.2023196T163142.v2.0/HLS.L30.T15RYN.2023196T163142.v2.0.B06.tif', 'https://data.lpdaac.earthdatacloud.nasa.gov/lp-prod-protected/HLSL30.020/HLS.L30.T15RYN.2023196T163142.v2.0/HLS.L30.T15RYN.2023196T163142.v2.0.B11.tif', 'https://data.lpdaac.earthdatacloud.nasa.gov/lp-prod-protected/HLSL30.020/HLS.L30.T15RYN.2023196T163142.v2.0/HLS.L30.T15RYN.2023196T163142.v2.0.VAA.tif', 'https://data.lpdaac.earthdatacloud.nasa.gov/lp-prod-protected/HLSL30.020/HLS.L30.T15RYN.2023196T163142.v2.0/HLS.L30.T15RYN.2023196T163142.v2.0.B07.tif', 'https://data.lpdaac.earthdatacloud.nasa.gov/lp-prod-protected/HLSL30.020/HLS.L30.T15RYN.2023196T163142.v2.0/HLS.L30.T15RYN.2023196T163142.v2.0.B03.tif', 'https://data.lpdaac.earthdatacloud.nasa.gov/lp-prod-protected/HLSL30.020/HLS.L30.T15RYN.2023196T163142.v2.0/HLS.L30.T15RYN.2023196T163142.v2.0.SZA.tif', 'https://data.lpdaac.earthdatacloud.nasa.gov/lp-prod-protected/HLSL30.020/HLS.L30.T15RYN.2023196T163142.v2.0/HLS.L30.T15RYN.2023196T163142.v2.0.B04.tif', 'https://data.lpdaac.earthdatacloud.nasa.gov/lp-prod-protected/HLSL30.020/HLS.L30.T15RYN.2023196T163142.v2.0/HLS.L30.T15RYN.2023196T163142.v2.0.B10.tif', 'https://data.lpdaac.earthdatacloud.nasa.gov/lp-prod-protected/HLSL30.020/HLS.L30.T15RYN.2023196T163142.v2.0/HLS.L30.T15RYN.2023196T163142.v2.0.B02.tif'],\n",
              " Collection: {'EntryTitle': 'HLS Landsat Operational Land Imager Surface Reflectance and TOA Brightness Daily Global 30m v2.0'}\n",
              " Spatial coverage: {'HorizontalSpatialDomain': {'Geometry': {'GPolygons': [{'Boundary': {'Points': [{'Longitude': -90.10082051, 'Latitude': 29.70587294}, {'Longitude': -89.30552233, 'Latitude': 29.72212037}, {'Longitude': -89.03412017, 'Latitude': 30.7171291}, {'Longitude': -90.13201749, 'Latitude': 30.69527405}, {'Longitude': -90.10082051, 'Latitude': 29.70587294}]}}]}}}\n",
              " Temporal coverage: {'RangeDateTime': {'BeginningDateTime': '2023-07-15T16:31:42.442Z', 'EndingDateTime': '2023-07-15T16:31:42.442Z'}}\n",
              " Size(MB): 152.09357166290283\n",
              " Data: ['https://data.lpdaac.earthdatacloud.nasa.gov/lp-prod-protected/HLSL30.020/HLS.L30.T16RBU.2023196T163142.v2.0/HLS.L30.T16RBU.2023196T163142.v2.0.B04.tif', 'https://data.lpdaac.earthdatacloud.nasa.gov/lp-prod-protected/HLSL30.020/HLS.L30.T16RBU.2023196T163142.v2.0/HLS.L30.T16RBU.2023196T163142.v2.0.B05.tif', 'https://data.lpdaac.earthdatacloud.nasa.gov/lp-prod-protected/HLSL30.020/HLS.L30.T16RBU.2023196T163142.v2.0/HLS.L30.T16RBU.2023196T163142.v2.0.B10.tif', 'https://data.lpdaac.earthdatacloud.nasa.gov/lp-prod-protected/HLSL30.020/HLS.L30.T16RBU.2023196T163142.v2.0/HLS.L30.T16RBU.2023196T163142.v2.0.B07.tif', 'https://data.lpdaac.earthdatacloud.nasa.gov/lp-prod-protected/HLSL30.020/HLS.L30.T16RBU.2023196T163142.v2.0/HLS.L30.T16RBU.2023196T163142.v2.0.B02.tif', 'https://data.lpdaac.earthdatacloud.nasa.gov/lp-prod-protected/HLSL30.020/HLS.L30.T16RBU.2023196T163142.v2.0/HLS.L30.T16RBU.2023196T163142.v2.0.Fmask.tif', 'https://data.lpdaac.earthdatacloud.nasa.gov/lp-prod-protected/HLSL30.020/HLS.L30.T16RBU.2023196T163142.v2.0/HLS.L30.T16RBU.2023196T163142.v2.0.VAA.tif', 'https://data.lpdaac.earthdatacloud.nasa.gov/lp-prod-protected/HLSL30.020/HLS.L30.T16RBU.2023196T163142.v2.0/HLS.L30.T16RBU.2023196T163142.v2.0.B01.tif', 'https://data.lpdaac.earthdatacloud.nasa.gov/lp-prod-protected/HLSL30.020/HLS.L30.T16RBU.2023196T163142.v2.0/HLS.L30.T16RBU.2023196T163142.v2.0.SZA.tif', 'https://data.lpdaac.earthdatacloud.nasa.gov/lp-prod-protected/HLSL30.020/HLS.L30.T16RBU.2023196T163142.v2.0/HLS.L30.T16RBU.2023196T163142.v2.0.B06.tif', 'https://data.lpdaac.earthdatacloud.nasa.gov/lp-prod-protected/HLSL30.020/HLS.L30.T16RBU.2023196T163142.v2.0/HLS.L30.T16RBU.2023196T163142.v2.0.B09.tif', 'https://data.lpdaac.earthdatacloud.nasa.gov/lp-prod-protected/HLSL30.020/HLS.L30.T16RBU.2023196T163142.v2.0/HLS.L30.T16RBU.2023196T163142.v2.0.B11.tif', 'https://data.lpdaac.earthdatacloud.nasa.gov/lp-prod-protected/HLSL30.020/HLS.L30.T16RBU.2023196T163142.v2.0/HLS.L30.T16RBU.2023196T163142.v2.0.B03.tif', 'https://data.lpdaac.earthdatacloud.nasa.gov/lp-prod-protected/HLSL30.020/HLS.L30.T16RBU.2023196T163142.v2.0/HLS.L30.T16RBU.2023196T163142.v2.0.VZA.tif', 'https://data.lpdaac.earthdatacloud.nasa.gov/lp-prod-protected/HLSL30.020/HLS.L30.T16RBU.2023196T163142.v2.0/HLS.L30.T16RBU.2023196T163142.v2.0.SAA.tif'],\n",
              " Collection: {'EntryTitle': 'HLS Landsat Operational Land Imager Surface Reflectance and TOA Brightness Daily Global 30m v2.0'}\n",
              " Spatial coverage: {'HorizontalSpatialDomain': {'Geometry': {'GPolygons': [{'Boundary': {'Points': [{'Longitude': -89.79864173, 'Latitude': 29.70347853}, {'Longitude': -89.76643746, 'Latitude': 30.69278312}, {'Longitude': -90.91181412, 'Latitude': 30.71627038}, {'Longitude': -90.93263654, 'Latitude': 29.72605548}, {'Longitude': -89.79864173, 'Latitude': 29.70347853}]}}]}}}\n",
              " Temporal coverage: {'RangeDateTime': {'BeginningDateTime': '2023-07-15T16:31:42.442Z', 'EndingDateTime': '2023-07-15T16:31:42.442Z'}}\n",
              " Size(MB): 186.07622814178467\n",
              " Data: ['https://data.lpdaac.earthdatacloud.nasa.gov/lp-prod-protected/HLSL30.020/HLS.L30.T15RYP.2023196T163142.v2.0/HLS.L30.T15RYP.2023196T163142.v2.0.B07.tif', 'https://data.lpdaac.earthdatacloud.nasa.gov/lp-prod-protected/HLSL30.020/HLS.L30.T15RYP.2023196T163142.v2.0/HLS.L30.T15RYP.2023196T163142.v2.0.Fmask.tif', 'https://data.lpdaac.earthdatacloud.nasa.gov/lp-prod-protected/HLSL30.020/HLS.L30.T15RYP.2023196T163142.v2.0/HLS.L30.T15RYP.2023196T163142.v2.0.SZA.tif', 'https://data.lpdaac.earthdatacloud.nasa.gov/lp-prod-protected/HLSL30.020/HLS.L30.T15RYP.2023196T163142.v2.0/HLS.L30.T15RYP.2023196T163142.v2.0.B05.tif', 'https://data.lpdaac.earthdatacloud.nasa.gov/lp-prod-protected/HLSL30.020/HLS.L30.T15RYP.2023196T163142.v2.0/HLS.L30.T15RYP.2023196T163142.v2.0.B01.tif', 'https://data.lpdaac.earthdatacloud.nasa.gov/lp-prod-protected/HLSL30.020/HLS.L30.T15RYP.2023196T163142.v2.0/HLS.L30.T15RYP.2023196T163142.v2.0.B04.tif', 'https://data.lpdaac.earthdatacloud.nasa.gov/lp-prod-protected/HLSL30.020/HLS.L30.T15RYP.2023196T163142.v2.0/HLS.L30.T15RYP.2023196T163142.v2.0.B09.tif', 'https://data.lpdaac.earthdatacloud.nasa.gov/lp-prod-protected/HLSL30.020/HLS.L30.T15RYP.2023196T163142.v2.0/HLS.L30.T15RYP.2023196T163142.v2.0.SAA.tif', 'https://data.lpdaac.earthdatacloud.nasa.gov/lp-prod-protected/HLSL30.020/HLS.L30.T15RYP.2023196T163142.v2.0/HLS.L30.T15RYP.2023196T163142.v2.0.B10.tif', 'https://data.lpdaac.earthdatacloud.nasa.gov/lp-prod-protected/HLSL30.020/HLS.L30.T15RYP.2023196T163142.v2.0/HLS.L30.T15RYP.2023196T163142.v2.0.B02.tif', 'https://data.lpdaac.earthdatacloud.nasa.gov/lp-prod-protected/HLSL30.020/HLS.L30.T15RYP.2023196T163142.v2.0/HLS.L30.T15RYP.2023196T163142.v2.0.VZA.tif', 'https://data.lpdaac.earthdatacloud.nasa.gov/lp-prod-protected/HLSL30.020/HLS.L30.T15RYP.2023196T163142.v2.0/HLS.L30.T15RYP.2023196T163142.v2.0.B03.tif', 'https://data.lpdaac.earthdatacloud.nasa.gov/lp-prod-protected/HLSL30.020/HLS.L30.T15RYP.2023196T163142.v2.0/HLS.L30.T15RYP.2023196T163142.v2.0.B11.tif', 'https://data.lpdaac.earthdatacloud.nasa.gov/lp-prod-protected/HLSL30.020/HLS.L30.T15RYP.2023196T163142.v2.0/HLS.L30.T15RYP.2023196T163142.v2.0.B06.tif', 'https://data.lpdaac.earthdatacloud.nasa.gov/lp-prod-protected/HLSL30.020/HLS.L30.T15RYP.2023196T163142.v2.0/HLS.L30.T15RYP.2023196T163142.v2.0.VAA.tif'],\n",
              " Collection: {'EntryTitle': 'HLS Landsat Operational Land Imager Surface Reflectance and TOA Brightness Daily Global 30m v2.0'}\n",
              " Spatial coverage: {'HorizontalSpatialDomain': {'Geometry': {'GPolygons': [{'Boundary': {'Points': [{'Longitude': -90.07372506, 'Latitude': 28.80444525}, {'Longitude': -89.5492467, 'Latitude': 28.81564827}, {'Longitude': -89.28148591, 'Latitude': 29.81076507}, {'Longitude': -90.10353675, 'Latitude': 29.79400715}, {'Longitude': -90.07372506, 'Latitude': 28.80444525}]}}]}}}\n",
              " Temporal coverage: {'RangeDateTime': {'BeginningDateTime': '2023-07-15T16:31:42.442Z', 'EndingDateTime': '2023-07-15T16:32:06.333Z'}}\n",
              " Size(MB): 108.53238773345947\n",
              " Data: ['https://data.lpdaac.earthdatacloud.nasa.gov/lp-prod-protected/HLSL30.020/HLS.L30.T16RBT.2023196T163142.v2.0/HLS.L30.T16RBT.2023196T163142.v2.0.SZA.tif', 'https://data.lpdaac.earthdatacloud.nasa.gov/lp-prod-protected/HLSL30.020/HLS.L30.T16RBT.2023196T163142.v2.0/HLS.L30.T16RBT.2023196T163142.v2.0.B06.tif', 'https://data.lpdaac.earthdatacloud.nasa.gov/lp-prod-protected/HLSL30.020/HLS.L30.T16RBT.2023196T163142.v2.0/HLS.L30.T16RBT.2023196T163142.v2.0.B07.tif', 'https://data.lpdaac.earthdatacloud.nasa.gov/lp-prod-protected/HLSL30.020/HLS.L30.T16RBT.2023196T163142.v2.0/HLS.L30.T16RBT.2023196T163142.v2.0.B10.tif', 'https://data.lpdaac.earthdatacloud.nasa.gov/lp-prod-protected/HLSL30.020/HLS.L30.T16RBT.2023196T163142.v2.0/HLS.L30.T16RBT.2023196T163142.v2.0.Fmask.tif', 'https://data.lpdaac.earthdatacloud.nasa.gov/lp-prod-protected/HLSL30.020/HLS.L30.T16RBT.2023196T163142.v2.0/HLS.L30.T16RBT.2023196T163142.v2.0.B02.tif', 'https://data.lpdaac.earthdatacloud.nasa.gov/lp-prod-protected/HLSL30.020/HLS.L30.T16RBT.2023196T163142.v2.0/HLS.L30.T16RBT.2023196T163142.v2.0.SAA.tif', 'https://data.lpdaac.earthdatacloud.nasa.gov/lp-prod-protected/HLSL30.020/HLS.L30.T16RBT.2023196T163142.v2.0/HLS.L30.T16RBT.2023196T163142.v2.0.B09.tif', 'https://data.lpdaac.earthdatacloud.nasa.gov/lp-prod-protected/HLSL30.020/HLS.L30.T16RBT.2023196T163142.v2.0/HLS.L30.T16RBT.2023196T163142.v2.0.B11.tif', 'https://data.lpdaac.earthdatacloud.nasa.gov/lp-prod-protected/HLSL30.020/HLS.L30.T16RBT.2023196T163142.v2.0/HLS.L30.T16RBT.2023196T163142.v2.0.B04.tif', 'https://data.lpdaac.earthdatacloud.nasa.gov/lp-prod-protected/HLSL30.020/HLS.L30.T16RBT.2023196T163142.v2.0/HLS.L30.T16RBT.2023196T163142.v2.0.VZA.tif', 'https://data.lpdaac.earthdatacloud.nasa.gov/lp-prod-protected/HLSL30.020/HLS.L30.T16RBT.2023196T163142.v2.0/HLS.L30.T16RBT.2023196T163142.v2.0.B05.tif', 'https://data.lpdaac.earthdatacloud.nasa.gov/lp-prod-protected/HLSL30.020/HLS.L30.T16RBT.2023196T163142.v2.0/HLS.L30.T16RBT.2023196T163142.v2.0.B01.tif', 'https://data.lpdaac.earthdatacloud.nasa.gov/lp-prod-protected/HLSL30.020/HLS.L30.T16RBT.2023196T163142.v2.0/HLS.L30.T16RBT.2023196T163142.v2.0.VAA.tif', 'https://data.lpdaac.earthdatacloud.nasa.gov/lp-prod-protected/HLSL30.020/HLS.L30.T16RBT.2023196T163142.v2.0/HLS.L30.T16RBT.2023196T163142.v2.0.B03.tif'],\n",
              " Collection: {'EntryTitle': 'HLS Landsat Operational Land Imager Surface Reflectance and TOA Brightness Daily Global 30m v2.0'}\n",
              " Spatial coverage: {'HorizontalSpatialDomain': {'Geometry': {'GPolygons': [{'Boundary': {'Points': [{'Longitude': -89.79864173, 'Latitude': 29.70347853}, {'Longitude': -89.76643746, 'Latitude': 30.69278312}, {'Longitude': -90.91181412, 'Latitude': 30.71627038}, {'Longitude': -90.93263654, 'Latitude': 29.72605548}, {'Longitude': -89.79864173, 'Latitude': 29.70347853}]}}]}}}\n",
              " Temporal coverage: {'RangeDateTime': {'BeginningDateTime': '2023-07-23T16:31:50.873Z', 'EndingDateTime': '2023-07-23T16:31:50.873Z'}}\n",
              " Size(MB): 185.6042709350586\n",
              " Data: ['https://data.lpdaac.earthdatacloud.nasa.gov/lp-prod-protected/HLSL30.020/HLS.L30.T15RYP.2023204T163150.v2.0/HLS.L30.T15RYP.2023204T163150.v2.0.SZA.tif', 'https://data.lpdaac.earthdatacloud.nasa.gov/lp-prod-protected/HLSL30.020/HLS.L30.T15RYP.2023204T163150.v2.0/HLS.L30.T15RYP.2023204T163150.v2.0.Fmask.tif', 'https://data.lpdaac.earthdatacloud.nasa.gov/lp-prod-protected/HLSL30.020/HLS.L30.T15RYP.2023204T163150.v2.0/HLS.L30.T15RYP.2023204T163150.v2.0.B11.tif', 'https://data.lpdaac.earthdatacloud.nasa.gov/lp-prod-protected/HLSL30.020/HLS.L30.T15RYP.2023204T163150.v2.0/HLS.L30.T15RYP.2023204T163150.v2.0.B01.tif', 'https://data.lpdaac.earthdatacloud.nasa.gov/lp-prod-protected/HLSL30.020/HLS.L30.T15RYP.2023204T163150.v2.0/HLS.L30.T15RYP.2023204T163150.v2.0.B10.tif', 'https://data.lpdaac.earthdatacloud.nasa.gov/lp-prod-protected/HLSL30.020/HLS.L30.T15RYP.2023204T163150.v2.0/HLS.L30.T15RYP.2023204T163150.v2.0.VZA.tif', 'https://data.lpdaac.earthdatacloud.nasa.gov/lp-prod-protected/HLSL30.020/HLS.L30.T15RYP.2023204T163150.v2.0/HLS.L30.T15RYP.2023204T163150.v2.0.B09.tif', 'https://data.lpdaac.earthdatacloud.nasa.gov/lp-prod-protected/HLSL30.020/HLS.L30.T15RYP.2023204T163150.v2.0/HLS.L30.T15RYP.2023204T163150.v2.0.B04.tif', 'https://data.lpdaac.earthdatacloud.nasa.gov/lp-prod-protected/HLSL30.020/HLS.L30.T15RYP.2023204T163150.v2.0/HLS.L30.T15RYP.2023204T163150.v2.0.SAA.tif', 'https://data.lpdaac.earthdatacloud.nasa.gov/lp-prod-protected/HLSL30.020/HLS.L30.T15RYP.2023204T163150.v2.0/HLS.L30.T15RYP.2023204T163150.v2.0.B03.tif', 'https://data.lpdaac.earthdatacloud.nasa.gov/lp-prod-protected/HLSL30.020/HLS.L30.T15RYP.2023204T163150.v2.0/HLS.L30.T15RYP.2023204T163150.v2.0.VAA.tif', 'https://data.lpdaac.earthdatacloud.nasa.gov/lp-prod-protected/HLSL30.020/HLS.L30.T15RYP.2023204T163150.v2.0/HLS.L30.T15RYP.2023204T163150.v2.0.B02.tif', 'https://data.lpdaac.earthdatacloud.nasa.gov/lp-prod-protected/HLSL30.020/HLS.L30.T15RYP.2023204T163150.v2.0/HLS.L30.T15RYP.2023204T163150.v2.0.B05.tif', 'https://data.lpdaac.earthdatacloud.nasa.gov/lp-prod-protected/HLSL30.020/HLS.L30.T15RYP.2023204T163150.v2.0/HLS.L30.T15RYP.2023204T163150.v2.0.B06.tif', 'https://data.lpdaac.earthdatacloud.nasa.gov/lp-prod-protected/HLSL30.020/HLS.L30.T15RYP.2023204T163150.v2.0/HLS.L30.T15RYP.2023204T163150.v2.0.B07.tif'],\n",
              " Collection: {'EntryTitle': 'HLS Landsat Operational Land Imager Surface Reflectance and TOA Brightness Daily Global 30m v2.0'}\n",
              " Spatial coverage: {'HorizontalSpatialDomain': {'Geometry': {'GPolygons': [{'Boundary': {'Points': [{'Longitude': -90.10082051, 'Latitude': 29.70587294}, {'Longitude': -89.28600227, 'Latitude': 29.72272968}, {'Longitude': -89.01501919, 'Latitude': 30.71742709}, {'Longitude': -90.13201749, 'Latitude': 30.69527405}, {'Longitude': -90.10082051, 'Latitude': 29.70587294}]}}]}}}\n",
              " Temporal coverage: {'RangeDateTime': {'BeginningDateTime': '2023-07-23T16:31:50.873Z', 'EndingDateTime': '2023-07-23T16:31:50.873Z'}}\n",
              " Size(MB): 160.2919464111328\n",
              " Data: ['https://data.lpdaac.earthdatacloud.nasa.gov/lp-prod-protected/HLSL30.020/HLS.L30.T16RBU.2023204T163150.v2.0/HLS.L30.T16RBU.2023204T163150.v2.0.B01.tif', 'https://data.lpdaac.earthdatacloud.nasa.gov/lp-prod-protected/HLSL30.020/HLS.L30.T16RBU.2023204T163150.v2.0/HLS.L30.T16RBU.2023204T163150.v2.0.B06.tif', 'https://data.lpdaac.earthdatacloud.nasa.gov/lp-prod-protected/HLSL30.020/HLS.L30.T16RBU.2023204T163150.v2.0/HLS.L30.T16RBU.2023204T163150.v2.0.B07.tif', 'https://data.lpdaac.earthdatacloud.nasa.gov/lp-prod-protected/HLSL30.020/HLS.L30.T16RBU.2023204T163150.v2.0/HLS.L30.T16RBU.2023204T163150.v2.0.B02.tif', 'https://data.lpdaac.earthdatacloud.nasa.gov/lp-prod-protected/HLSL30.020/HLS.L30.T16RBU.2023204T163150.v2.0/HLS.L30.T16RBU.2023204T163150.v2.0.B03.tif', 'https://data.lpdaac.earthdatacloud.nasa.gov/lp-prod-protected/HLSL30.020/HLS.L30.T16RBU.2023204T163150.v2.0/HLS.L30.T16RBU.2023204T163150.v2.0.VZA.tif', 'https://data.lpdaac.earthdatacloud.nasa.gov/lp-prod-protected/HLSL30.020/HLS.L30.T16RBU.2023204T163150.v2.0/HLS.L30.T16RBU.2023204T163150.v2.0.B09.tif', 'https://data.lpdaac.earthdatacloud.nasa.gov/lp-prod-protected/HLSL30.020/HLS.L30.T16RBU.2023204T163150.v2.0/HLS.L30.T16RBU.2023204T163150.v2.0.SAA.tif', 'https://data.lpdaac.earthdatacloud.nasa.gov/lp-prod-protected/HLSL30.020/HLS.L30.T16RBU.2023204T163150.v2.0/HLS.L30.T16RBU.2023204T163150.v2.0.Fmask.tif', 'https://data.lpdaac.earthdatacloud.nasa.gov/lp-prod-protected/HLSL30.020/HLS.L30.T16RBU.2023204T163150.v2.0/HLS.L30.T16RBU.2023204T163150.v2.0.B04.tif', 'https://data.lpdaac.earthdatacloud.nasa.gov/lp-prod-protected/HLSL30.020/HLS.L30.T16RBU.2023204T163150.v2.0/HLS.L30.T16RBU.2023204T163150.v2.0.B11.tif', 'https://data.lpdaac.earthdatacloud.nasa.gov/lp-prod-protected/HLSL30.020/HLS.L30.T16RBU.2023204T163150.v2.0/HLS.L30.T16RBU.2023204T163150.v2.0.B05.tif', 'https://data.lpdaac.earthdatacloud.nasa.gov/lp-prod-protected/HLSL30.020/HLS.L30.T16RBU.2023204T163150.v2.0/HLS.L30.T16RBU.2023204T163150.v2.0.SZA.tif', 'https://data.lpdaac.earthdatacloud.nasa.gov/lp-prod-protected/HLSL30.020/HLS.L30.T16RBU.2023204T163150.v2.0/HLS.L30.T16RBU.2023204T163150.v2.0.VAA.tif', 'https://data.lpdaac.earthdatacloud.nasa.gov/lp-prod-protected/HLSL30.020/HLS.L30.T16RBU.2023204T163150.v2.0/HLS.L30.T16RBU.2023204T163150.v2.0.B10.tif'],\n",
              " Collection: {'EntryTitle': 'HLS Landsat Operational Land Imager Surface Reflectance and TOA Brightness Daily Global 30m v2.0'}\n",
              " Spatial coverage: {'HorizontalSpatialDomain': {'Geometry': {'GPolygons': [{'Boundary': {'Points': [{'Longitude': -89.82661214, 'Latitude': 28.80213717}, {'Longitude': -89.79583778, 'Latitude': 29.79160422}, {'Longitude': -90.93082361, 'Latitude': 29.81426153}, {'Longitude': -90.95072084, 'Latitude': 28.82389994}, {'Longitude': -89.82661214, 'Latitude': 28.80213717}]}}]}}}\n",
              " Temporal coverage: {'RangeDateTime': {'BeginningDateTime': '2023-07-23T16:31:50.873Z', 'EndingDateTime': '2023-07-23T16:32:14.764Z'}}\n",
              " Size(MB): 178.58371353149414\n",
              " Data: ['https://data.lpdaac.earthdatacloud.nasa.gov/lp-prod-protected/HLSL30.020/HLS.L30.T15RYN.2023204T163150.v2.0/HLS.L30.T15RYN.2023204T163150.v2.0.Fmask.tif', 'https://data.lpdaac.earthdatacloud.nasa.gov/lp-prod-protected/HLSL30.020/HLS.L30.T15RYN.2023204T163150.v2.0/HLS.L30.T15RYN.2023204T163150.v2.0.B03.tif', 'https://data.lpdaac.earthdatacloud.nasa.gov/lp-prod-protected/HLSL30.020/HLS.L30.T15RYN.2023204T163150.v2.0/HLS.L30.T15RYN.2023204T163150.v2.0.B10.tif', 'https://data.lpdaac.earthdatacloud.nasa.gov/lp-prod-protected/HLSL30.020/HLS.L30.T15RYN.2023204T163150.v2.0/HLS.L30.T15RYN.2023204T163150.v2.0.B04.tif', 'https://data.lpdaac.earthdatacloud.nasa.gov/lp-prod-protected/HLSL30.020/HLS.L30.T15RYN.2023204T163150.v2.0/HLS.L30.T15RYN.2023204T163150.v2.0.SAA.tif', 'https://data.lpdaac.earthdatacloud.nasa.gov/lp-prod-protected/HLSL30.020/HLS.L30.T15RYN.2023204T163150.v2.0/HLS.L30.T15RYN.2023204T163150.v2.0.SZA.tif', 'https://data.lpdaac.earthdatacloud.nasa.gov/lp-prod-protected/HLSL30.020/HLS.L30.T15RYN.2023204T163150.v2.0/HLS.L30.T15RYN.2023204T163150.v2.0.VAA.tif', 'https://data.lpdaac.earthdatacloud.nasa.gov/lp-prod-protected/HLSL30.020/HLS.L30.T15RYN.2023204T163150.v2.0/HLS.L30.T15RYN.2023204T163150.v2.0.B07.tif', 'https://data.lpdaac.earthdatacloud.nasa.gov/lp-prod-protected/HLSL30.020/HLS.L30.T15RYN.2023204T163150.v2.0/HLS.L30.T15RYN.2023204T163150.v2.0.B09.tif', 'https://data.lpdaac.earthdatacloud.nasa.gov/lp-prod-protected/HLSL30.020/HLS.L30.T15RYN.2023204T163150.v2.0/HLS.L30.T15RYN.2023204T163150.v2.0.B06.tif', 'https://data.lpdaac.earthdatacloud.nasa.gov/lp-prod-protected/HLSL30.020/HLS.L30.T15RYN.2023204T163150.v2.0/HLS.L30.T15RYN.2023204T163150.v2.0.VZA.tif', 'https://data.lpdaac.earthdatacloud.nasa.gov/lp-prod-protected/HLSL30.020/HLS.L30.T15RYN.2023204T163150.v2.0/HLS.L30.T15RYN.2023204T163150.v2.0.B02.tif', 'https://data.lpdaac.earthdatacloud.nasa.gov/lp-prod-protected/HLSL30.020/HLS.L30.T15RYN.2023204T163150.v2.0/HLS.L30.T15RYN.2023204T163150.v2.0.B11.tif', 'https://data.lpdaac.earthdatacloud.nasa.gov/lp-prod-protected/HLSL30.020/HLS.L30.T15RYN.2023204T163150.v2.0/HLS.L30.T15RYN.2023204T163150.v2.0.B05.tif', 'https://data.lpdaac.earthdatacloud.nasa.gov/lp-prod-protected/HLSL30.020/HLS.L30.T15RYN.2023204T163150.v2.0/HLS.L30.T15RYN.2023204T163150.v2.0.B01.tif'],\n",
              " Collection: {'EntryTitle': 'HLS Landsat Operational Land Imager Surface Reflectance and TOA Brightness Daily Global 30m v2.0'}\n",
              " Spatial coverage: {'HorizontalSpatialDomain': {'Geometry': {'GPolygons': [{'Boundary': {'Points': [{'Longitude': -90.07372506, 'Latitude': 28.80444525}, {'Longitude': -89.52959488, 'Latitude': 28.81628889}, {'Longitude': -89.26225241, 'Latitude': 29.81109588}, {'Longitude': -90.10353675, 'Latitude': 29.79400715}, {'Longitude': -90.07372506, 'Latitude': 28.80444525}]}}]}}}\n",
              " Temporal coverage: {'RangeDateTime': {'BeginningDateTime': '2023-07-23T16:31:50.873Z', 'EndingDateTime': '2023-07-23T16:32:14.764Z'}}\n",
              " Size(MB): 110.35004425048828\n",
              " Data: ['https://data.lpdaac.earthdatacloud.nasa.gov/lp-prod-protected/HLSL30.020/HLS.L30.T16RBT.2023204T163150.v2.0/HLS.L30.T16RBT.2023204T163150.v2.0.B11.tif', 'https://data.lpdaac.earthdatacloud.nasa.gov/lp-prod-protected/HLSL30.020/HLS.L30.T16RBT.2023204T163150.v2.0/HLS.L30.T16RBT.2023204T163150.v2.0.B03.tif', 'https://data.lpdaac.earthdatacloud.nasa.gov/lp-prod-protected/HLSL30.020/HLS.L30.T16RBT.2023204T163150.v2.0/HLS.L30.T16RBT.2023204T163150.v2.0.B06.tif', 'https://data.lpdaac.earthdatacloud.nasa.gov/lp-prod-protected/HLSL30.020/HLS.L30.T16RBT.2023204T163150.v2.0/HLS.L30.T16RBT.2023204T163150.v2.0.SZA.tif', 'https://data.lpdaac.earthdatacloud.nasa.gov/lp-prod-protected/HLSL30.020/HLS.L30.T16RBT.2023204T163150.v2.0/HLS.L30.T16RBT.2023204T163150.v2.0.SAA.tif', 'https://data.lpdaac.earthdatacloud.nasa.gov/lp-prod-protected/HLSL30.020/HLS.L30.T16RBT.2023204T163150.v2.0/HLS.L30.T16RBT.2023204T163150.v2.0.B09.tif', 'https://data.lpdaac.earthdatacloud.nasa.gov/lp-prod-protected/HLSL30.020/HLS.L30.T16RBT.2023204T163150.v2.0/HLS.L30.T16RBT.2023204T163150.v2.0.VZA.tif', 'https://data.lpdaac.earthdatacloud.nasa.gov/lp-prod-protected/HLSL30.020/HLS.L30.T16RBT.2023204T163150.v2.0/HLS.L30.T16RBT.2023204T163150.v2.0.B10.tif', 'https://data.lpdaac.earthdatacloud.nasa.gov/lp-prod-protected/HLSL30.020/HLS.L30.T16RBT.2023204T163150.v2.0/HLS.L30.T16RBT.2023204T163150.v2.0.B04.tif', 'https://data.lpdaac.earthdatacloud.nasa.gov/lp-prod-protected/HLSL30.020/HLS.L30.T16RBT.2023204T163150.v2.0/HLS.L30.T16RBT.2023204T163150.v2.0.VAA.tif', 'https://data.lpdaac.earthdatacloud.nasa.gov/lp-prod-protected/HLSL30.020/HLS.L30.T16RBT.2023204T163150.v2.0/HLS.L30.T16RBT.2023204T163150.v2.0.B07.tif', 'https://data.lpdaac.earthdatacloud.nasa.gov/lp-prod-protected/HLSL30.020/HLS.L30.T16RBT.2023204T163150.v2.0/HLS.L30.T16RBT.2023204T163150.v2.0.B05.tif', 'https://data.lpdaac.earthdatacloud.nasa.gov/lp-prod-protected/HLSL30.020/HLS.L30.T16RBT.2023204T163150.v2.0/HLS.L30.T16RBT.2023204T163150.v2.0.B02.tif', 'https://data.lpdaac.earthdatacloud.nasa.gov/lp-prod-protected/HLSL30.020/HLS.L30.T16RBT.2023204T163150.v2.0/HLS.L30.T16RBT.2023204T163150.v2.0.B01.tif', 'https://data.lpdaac.earthdatacloud.nasa.gov/lp-prod-protected/HLSL30.020/HLS.L30.T16RBT.2023204T163150.v2.0/HLS.L30.T16RBT.2023204T163150.v2.0.Fmask.tif'],\n",
              " Collection: {'EntryTitle': 'HLS Landsat Operational Land Imager Surface Reflectance and TOA Brightness Daily Global 30m v2.0'}\n",
              " Spatial coverage: {'HorizontalSpatialDomain': {'Geometry': {'GPolygons': [{'Boundary': {'Points': [{'Longitude': -90.10082051, 'Latitude': 29.70587294}, {'Longitude': -89.29250491, 'Latitude': 29.72234654}, {'Longitude': -89.02128184, 'Latitude': 30.7173297}, {'Longitude': -90.13201749, 'Latitude': 30.69527405}, {'Longitude': -90.10082051, 'Latitude': 29.70587294}]}}]}}}\n",
              " Temporal coverage: {'RangeDateTime': {'BeginningDateTime': '2023-07-31T16:31:47.828Z', 'EndingDateTime': '2023-07-31T16:31:47.828Z'}}\n",
              " Size(MB): 148.3355951309204\n",
              " Data: ['https://data.lpdaac.earthdatacloud.nasa.gov/lp-prod-protected/HLSL30.020/HLS.L30.T16RBU.2023212T163147.v2.0/HLS.L30.T16RBU.2023212T163147.v2.0.VAA.tif', 'https://data.lpdaac.earthdatacloud.nasa.gov/lp-prod-protected/HLSL30.020/HLS.L30.T16RBU.2023212T163147.v2.0/HLS.L30.T16RBU.2023212T163147.v2.0.B02.tif', 'https://data.lpdaac.earthdatacloud.nasa.gov/lp-prod-protected/HLSL30.020/HLS.L30.T16RBU.2023212T163147.v2.0/HLS.L30.T16RBU.2023212T163147.v2.0.B05.tif', 'https://data.lpdaac.earthdatacloud.nasa.gov/lp-prod-protected/HLSL30.020/HLS.L30.T16RBU.2023212T163147.v2.0/HLS.L30.T16RBU.2023212T163147.v2.0.VZA.tif', 'https://data.lpdaac.earthdatacloud.nasa.gov/lp-prod-protected/HLSL30.020/HLS.L30.T16RBU.2023212T163147.v2.0/HLS.L30.T16RBU.2023212T163147.v2.0.Fmask.tif', 'https://data.lpdaac.earthdatacloud.nasa.gov/lp-prod-protected/HLSL30.020/HLS.L30.T16RBU.2023212T163147.v2.0/HLS.L30.T16RBU.2023212T163147.v2.0.B11.tif', 'https://data.lpdaac.earthdatacloud.nasa.gov/lp-prod-protected/HLSL30.020/HLS.L30.T16RBU.2023212T163147.v2.0/HLS.L30.T16RBU.2023212T163147.v2.0.B06.tif', 'https://data.lpdaac.earthdatacloud.nasa.gov/lp-prod-protected/HLSL30.020/HLS.L30.T16RBU.2023212T163147.v2.0/HLS.L30.T16RBU.2023212T163147.v2.0.B01.tif', 'https://data.lpdaac.earthdatacloud.nasa.gov/lp-prod-protected/HLSL30.020/HLS.L30.T16RBU.2023212T163147.v2.0/HLS.L30.T16RBU.2023212T163147.v2.0.B04.tif', 'https://data.lpdaac.earthdatacloud.nasa.gov/lp-prod-protected/HLSL30.020/HLS.L30.T16RBU.2023212T163147.v2.0/HLS.L30.T16RBU.2023212T163147.v2.0.B07.tif', 'https://data.lpdaac.earthdatacloud.nasa.gov/lp-prod-protected/HLSL30.020/HLS.L30.T16RBU.2023212T163147.v2.0/HLS.L30.T16RBU.2023212T163147.v2.0.B10.tif', 'https://data.lpdaac.earthdatacloud.nasa.gov/lp-prod-protected/HLSL30.020/HLS.L30.T16RBU.2023212T163147.v2.0/HLS.L30.T16RBU.2023212T163147.v2.0.B03.tif', 'https://data.lpdaac.earthdatacloud.nasa.gov/lp-prod-protected/HLSL30.020/HLS.L30.T16RBU.2023212T163147.v2.0/HLS.L30.T16RBU.2023212T163147.v2.0.B09.tif', 'https://data.lpdaac.earthdatacloud.nasa.gov/lp-prod-protected/HLSL30.020/HLS.L30.T16RBU.2023212T163147.v2.0/HLS.L30.T16RBU.2023212T163147.v2.0.SZA.tif', 'https://data.lpdaac.earthdatacloud.nasa.gov/lp-prod-protected/HLSL30.020/HLS.L30.T16RBU.2023212T163147.v2.0/HLS.L30.T16RBU.2023212T163147.v2.0.SAA.tif'],\n",
              " Collection: {'EntryTitle': 'HLS Landsat Operational Land Imager Surface Reflectance and TOA Brightness Daily Global 30m v2.0'}\n",
              " Spatial coverage: {'HorizontalSpatialDomain': {'Geometry': {'GPolygons': [{'Boundary': {'Points': [{'Longitude': -90.07372506, 'Latitude': 28.80444525}, {'Longitude': -89.53633938, 'Latitude': 28.81562095}, {'Longitude': -89.2684568, 'Latitude': 29.81098947}, {'Longitude': -90.10353675, 'Latitude': 29.79400715}, {'Longitude': -90.07372506, 'Latitude': 28.80444525}]}}]}}}\n",
              " Temporal coverage: {'RangeDateTime': {'BeginningDateTime': '2023-07-31T16:31:47.828Z', 'EndingDateTime': '2023-07-31T16:32:11.724Z'}}\n",
              " Size(MB): 106.62133312225342\n",
              " Data: ['https://data.lpdaac.earthdatacloud.nasa.gov/lp-prod-protected/HLSL30.020/HLS.L30.T16RBT.2023212T163147.v2.0/HLS.L30.T16RBT.2023212T163147.v2.0.B10.tif', 'https://data.lpdaac.earthdatacloud.nasa.gov/lp-prod-protected/HLSL30.020/HLS.L30.T16RBT.2023212T163147.v2.0/HLS.L30.T16RBT.2023212T163147.v2.0.VAA.tif', 'https://data.lpdaac.earthdatacloud.nasa.gov/lp-prod-protected/HLSL30.020/HLS.L30.T16RBT.2023212T163147.v2.0/HLS.L30.T16RBT.2023212T163147.v2.0.B01.tif', 'https://data.lpdaac.earthdatacloud.nasa.gov/lp-prod-protected/HLSL30.020/HLS.L30.T16RBT.2023212T163147.v2.0/HLS.L30.T16RBT.2023212T163147.v2.0.B02.tif', 'https://data.lpdaac.earthdatacloud.nasa.gov/lp-prod-protected/HLSL30.020/HLS.L30.T16RBT.2023212T163147.v2.0/HLS.L30.T16RBT.2023212T163147.v2.0.SZA.tif', 'https://data.lpdaac.earthdatacloud.nasa.gov/lp-prod-protected/HLSL30.020/HLS.L30.T16RBT.2023212T163147.v2.0/HLS.L30.T16RBT.2023212T163147.v2.0.SAA.tif', 'https://data.lpdaac.earthdatacloud.nasa.gov/lp-prod-protected/HLSL30.020/HLS.L30.T16RBT.2023212T163147.v2.0/HLS.L30.T16RBT.2023212T163147.v2.0.B09.tif', 'https://data.lpdaac.earthdatacloud.nasa.gov/lp-prod-protected/HLSL30.020/HLS.L30.T16RBT.2023212T163147.v2.0/HLS.L30.T16RBT.2023212T163147.v2.0.B05.tif', 'https://data.lpdaac.earthdatacloud.nasa.gov/lp-prod-protected/HLSL30.020/HLS.L30.T16RBT.2023212T163147.v2.0/HLS.L30.T16RBT.2023212T163147.v2.0.B06.tif', 'https://data.lpdaac.earthdatacloud.nasa.gov/lp-prod-protected/HLSL30.020/HLS.L30.T16RBT.2023212T163147.v2.0/HLS.L30.T16RBT.2023212T163147.v2.0.B03.tif', 'https://data.lpdaac.earthdatacloud.nasa.gov/lp-prod-protected/HLSL30.020/HLS.L30.T16RBT.2023212T163147.v2.0/HLS.L30.T16RBT.2023212T163147.v2.0.B04.tif', 'https://data.lpdaac.earthdatacloud.nasa.gov/lp-prod-protected/HLSL30.020/HLS.L30.T16RBT.2023212T163147.v2.0/HLS.L30.T16RBT.2023212T163147.v2.0.VZA.tif', 'https://data.lpdaac.earthdatacloud.nasa.gov/lp-prod-protected/HLSL30.020/HLS.L30.T16RBT.2023212T163147.v2.0/HLS.L30.T16RBT.2023212T163147.v2.0.Fmask.tif', 'https://data.lpdaac.earthdatacloud.nasa.gov/lp-prod-protected/HLSL30.020/HLS.L30.T16RBT.2023212T163147.v2.0/HLS.L30.T16RBT.2023212T163147.v2.0.B07.tif', 'https://data.lpdaac.earthdatacloud.nasa.gov/lp-prod-protected/HLSL30.020/HLS.L30.T16RBT.2023212T163147.v2.0/HLS.L30.T16RBT.2023212T163147.v2.0.B11.tif'],\n",
              " Collection: {'EntryTitle': 'HLS Landsat Operational Land Imager Surface Reflectance and TOA Brightness Daily Global 30m v2.0'}\n",
              " Spatial coverage: {'HorizontalSpatialDomain': {'Geometry': {'GPolygons': [{'Boundary': {'Points': [{'Longitude': -89.82661214, 'Latitude': 28.80213717}, {'Longitude': -89.79583778, 'Latitude': 29.79160422}, {'Longitude': -90.93082361, 'Latitude': 29.81426153}, {'Longitude': -90.95072084, 'Latitude': 28.82389994}, {'Longitude': -89.82661214, 'Latitude': 28.80213717}]}}]}}}\n",
              " Temporal coverage: {'RangeDateTime': {'BeginningDateTime': '2023-07-31T16:31:47.828Z', 'EndingDateTime': '2023-07-31T16:32:11.724Z'}}\n",
              " Size(MB): 170.80500507354736\n",
              " Data: ['https://data.lpdaac.earthdatacloud.nasa.gov/lp-prod-protected/HLSL30.020/HLS.L30.T15RYN.2023212T163147.v2.0/HLS.L30.T15RYN.2023212T163147.v2.0.B03.tif', 'https://data.lpdaac.earthdatacloud.nasa.gov/lp-prod-protected/HLSL30.020/HLS.L30.T15RYN.2023212T163147.v2.0/HLS.L30.T15RYN.2023212T163147.v2.0.SZA.tif', 'https://data.lpdaac.earthdatacloud.nasa.gov/lp-prod-protected/HLSL30.020/HLS.L30.T15RYN.2023212T163147.v2.0/HLS.L30.T15RYN.2023212T163147.v2.0.B11.tif', 'https://data.lpdaac.earthdatacloud.nasa.gov/lp-prod-protected/HLSL30.020/HLS.L30.T15RYN.2023212T163147.v2.0/HLS.L30.T15RYN.2023212T163147.v2.0.Fmask.tif', 'https://data.lpdaac.earthdatacloud.nasa.gov/lp-prod-protected/HLSL30.020/HLS.L30.T15RYN.2023212T163147.v2.0/HLS.L30.T15RYN.2023212T163147.v2.0.B04.tif', 'https://data.lpdaac.earthdatacloud.nasa.gov/lp-prod-protected/HLSL30.020/HLS.L30.T15RYN.2023212T163147.v2.0/HLS.L30.T15RYN.2023212T163147.v2.0.B01.tif', 'https://data.lpdaac.earthdatacloud.nasa.gov/lp-prod-protected/HLSL30.020/HLS.L30.T15RYN.2023212T163147.v2.0/HLS.L30.T15RYN.2023212T163147.v2.0.B07.tif', 'https://data.lpdaac.earthdatacloud.nasa.gov/lp-prod-protected/HLSL30.020/HLS.L30.T15RYN.2023212T163147.v2.0/HLS.L30.T15RYN.2023212T163147.v2.0.B09.tif', 'https://data.lpdaac.earthdatacloud.nasa.gov/lp-prod-protected/HLSL30.020/HLS.L30.T15RYN.2023212T163147.v2.0/HLS.L30.T15RYN.2023212T163147.v2.0.B05.tif', 'https://data.lpdaac.earthdatacloud.nasa.gov/lp-prod-protected/HLSL30.020/HLS.L30.T15RYN.2023212T163147.v2.0/HLS.L30.T15RYN.2023212T163147.v2.0.VZA.tif', 'https://data.lpdaac.earthdatacloud.nasa.gov/lp-prod-protected/HLSL30.020/HLS.L30.T15RYN.2023212T163147.v2.0/HLS.L30.T15RYN.2023212T163147.v2.0.B02.tif', 'https://data.lpdaac.earthdatacloud.nasa.gov/lp-prod-protected/HLSL30.020/HLS.L30.T15RYN.2023212T163147.v2.0/HLS.L30.T15RYN.2023212T163147.v2.0.B06.tif', 'https://data.lpdaac.earthdatacloud.nasa.gov/lp-prod-protected/HLSL30.020/HLS.L30.T15RYN.2023212T163147.v2.0/HLS.L30.T15RYN.2023212T163147.v2.0.VAA.tif', 'https://data.lpdaac.earthdatacloud.nasa.gov/lp-prod-protected/HLSL30.020/HLS.L30.T15RYN.2023212T163147.v2.0/HLS.L30.T15RYN.2023212T163147.v2.0.B10.tif', 'https://data.lpdaac.earthdatacloud.nasa.gov/lp-prod-protected/HLSL30.020/HLS.L30.T15RYN.2023212T163147.v2.0/HLS.L30.T15RYN.2023212T163147.v2.0.SAA.tif'],\n",
              " Collection: {'EntryTitle': 'HLS Landsat Operational Land Imager Surface Reflectance and TOA Brightness Daily Global 30m v2.0'}\n",
              " Spatial coverage: {'HorizontalSpatialDomain': {'Geometry': {'GPolygons': [{'Boundary': {'Points': [{'Longitude': -89.79864173, 'Latitude': 29.70347853}, {'Longitude': -89.76643746, 'Latitude': 30.69278312}, {'Longitude': -90.91181412, 'Latitude': 30.71627038}, {'Longitude': -90.93263654, 'Latitude': 29.72605548}, {'Longitude': -89.79864173, 'Latitude': 29.70347853}]}}]}}}\n",
              " Temporal coverage: {'RangeDateTime': {'BeginningDateTime': '2023-07-31T16:31:47.828Z', 'EndingDateTime': '2023-07-31T16:31:47.828Z'}}\n",
              " Size(MB): 173.77996730804443\n",
              " Data: ['https://data.lpdaac.earthdatacloud.nasa.gov/lp-prod-protected/HLSL30.020/HLS.L30.T15RYP.2023212T163147.v2.0/HLS.L30.T15RYP.2023212T163147.v2.0.B03.tif', 'https://data.lpdaac.earthdatacloud.nasa.gov/lp-prod-protected/HLSL30.020/HLS.L30.T15RYP.2023212T163147.v2.0/HLS.L30.T15RYP.2023212T163147.v2.0.B04.tif', 'https://data.lpdaac.earthdatacloud.nasa.gov/lp-prod-protected/HLSL30.020/HLS.L30.T15RYP.2023212T163147.v2.0/HLS.L30.T15RYP.2023212T163147.v2.0.B10.tif', 'https://data.lpdaac.earthdatacloud.nasa.gov/lp-prod-protected/HLSL30.020/HLS.L30.T15RYP.2023212T163147.v2.0/HLS.L30.T15RYP.2023212T163147.v2.0.VAA.tif', 'https://data.lpdaac.earthdatacloud.nasa.gov/lp-prod-protected/HLSL30.020/HLS.L30.T15RYP.2023212T163147.v2.0/HLS.L30.T15RYP.2023212T163147.v2.0.SAA.tif', 'https://data.lpdaac.earthdatacloud.nasa.gov/lp-prod-protected/HLSL30.020/HLS.L30.T15RYP.2023212T163147.v2.0/HLS.L30.T15RYP.2023212T163147.v2.0.Fmask.tif', 'https://data.lpdaac.earthdatacloud.nasa.gov/lp-prod-protected/HLSL30.020/HLS.L30.T15RYP.2023212T163147.v2.0/HLS.L30.T15RYP.2023212T163147.v2.0.SZA.tif', 'https://data.lpdaac.earthdatacloud.nasa.gov/lp-prod-protected/HLSL30.020/HLS.L30.T15RYP.2023212T163147.v2.0/HLS.L30.T15RYP.2023212T163147.v2.0.B11.tif', 'https://data.lpdaac.earthdatacloud.nasa.gov/lp-prod-protected/HLSL30.020/HLS.L30.T15RYP.2023212T163147.v2.0/HLS.L30.T15RYP.2023212T163147.v2.0.B06.tif', 'https://data.lpdaac.earthdatacloud.nasa.gov/lp-prod-protected/HLSL30.020/HLS.L30.T15RYP.2023212T163147.v2.0/HLS.L30.T15RYP.2023212T163147.v2.0.B09.tif', 'https://data.lpdaac.earthdatacloud.nasa.gov/lp-prod-protected/HLSL30.020/HLS.L30.T15RYP.2023212T163147.v2.0/HLS.L30.T15RYP.2023212T163147.v2.0.B07.tif', 'https://data.lpdaac.earthdatacloud.nasa.gov/lp-prod-protected/HLSL30.020/HLS.L30.T15RYP.2023212T163147.v2.0/HLS.L30.T15RYP.2023212T163147.v2.0.VZA.tif', 'https://data.lpdaac.earthdatacloud.nasa.gov/lp-prod-protected/HLSL30.020/HLS.L30.T15RYP.2023212T163147.v2.0/HLS.L30.T15RYP.2023212T163147.v2.0.B01.tif', 'https://data.lpdaac.earthdatacloud.nasa.gov/lp-prod-protected/HLSL30.020/HLS.L30.T15RYP.2023212T163147.v2.0/HLS.L30.T15RYP.2023212T163147.v2.0.B02.tif', 'https://data.lpdaac.earthdatacloud.nasa.gov/lp-prod-protected/HLSL30.020/HLS.L30.T15RYP.2023212T163147.v2.0/HLS.L30.T15RYP.2023212T163147.v2.0.B05.tif'],\n",
              " Collection: {'EntryTitle': 'HLS Landsat Operational Land Imager Surface Reflectance and TOA Brightness Daily Global 30m v2.0'}\n",
              " Spatial coverage: {'HorizontalSpatialDomain': {'Geometry': {'GPolygons': [{'Boundary': {'Points': [{'Longitude': -90.10082051, 'Latitude': 29.70587294}, {'Longitude': -89.29033532, 'Latitude': 29.72238411}, {'Longitude': -89.01908991, 'Latitude': 30.71736382}, {'Longitude': -90.13201749, 'Latitude': 30.69527405}, {'Longitude': -90.10082051, 'Latitude': 29.70587294}]}}]}}}\n",
              " Temporal coverage: {'RangeDateTime': {'BeginningDateTime': '2023-08-08T16:31:57.564Z', 'EndingDateTime': '2023-08-08T16:31:57.564Z'}}\n",
              " Size(MB): 159.18746662139893\n",
              " Data: ['https://data.lpdaac.earthdatacloud.nasa.gov/lp-prod-protected/HLSL30.020/HLS.L30.T16RBU.2023220T163157.v2.0/HLS.L30.T16RBU.2023220T163157.v2.0.VZA.tif', 'https://data.lpdaac.earthdatacloud.nasa.gov/lp-prod-protected/HLSL30.020/HLS.L30.T16RBU.2023220T163157.v2.0/HLS.L30.T16RBU.2023220T163157.v2.0.SAA.tif', 'https://data.lpdaac.earthdatacloud.nasa.gov/lp-prod-protected/HLSL30.020/HLS.L30.T16RBU.2023220T163157.v2.0/HLS.L30.T16RBU.2023220T163157.v2.0.B01.tif', 'https://data.lpdaac.earthdatacloud.nasa.gov/lp-prod-protected/HLSL30.020/HLS.L30.T16RBU.2023220T163157.v2.0/HLS.L30.T16RBU.2023220T163157.v2.0.B07.tif', 'https://data.lpdaac.earthdatacloud.nasa.gov/lp-prod-protected/HLSL30.020/HLS.L30.T16RBU.2023220T163157.v2.0/HLS.L30.T16RBU.2023220T163157.v2.0.B11.tif', 'https://data.lpdaac.earthdatacloud.nasa.gov/lp-prod-protected/HLSL30.020/HLS.L30.T16RBU.2023220T163157.v2.0/HLS.L30.T16RBU.2023220T163157.v2.0.B04.tif', 'https://data.lpdaac.earthdatacloud.nasa.gov/lp-prod-protected/HLSL30.020/HLS.L30.T16RBU.2023220T163157.v2.0/HLS.L30.T16RBU.2023220T163157.v2.0.SZA.tif', 'https://data.lpdaac.earthdatacloud.nasa.gov/lp-prod-protected/HLSL30.020/HLS.L30.T16RBU.2023220T163157.v2.0/HLS.L30.T16RBU.2023220T163157.v2.0.B03.tif', 'https://data.lpdaac.earthdatacloud.nasa.gov/lp-prod-protected/HLSL30.020/HLS.L30.T16RBU.2023220T163157.v2.0/HLS.L30.T16RBU.2023220T163157.v2.0.VAA.tif', 'https://data.lpdaac.earthdatacloud.nasa.gov/lp-prod-protected/HLSL30.020/HLS.L30.T16RBU.2023220T163157.v2.0/HLS.L30.T16RBU.2023220T163157.v2.0.B02.tif', 'https://data.lpdaac.earthdatacloud.nasa.gov/lp-prod-protected/HLSL30.020/HLS.L30.T16RBU.2023220T163157.v2.0/HLS.L30.T16RBU.2023220T163157.v2.0.Fmask.tif', 'https://data.lpdaac.earthdatacloud.nasa.gov/lp-prod-protected/HLSL30.020/HLS.L30.T16RBU.2023220T163157.v2.0/HLS.L30.T16RBU.2023220T163157.v2.0.B05.tif', 'https://data.lpdaac.earthdatacloud.nasa.gov/lp-prod-protected/HLSL30.020/HLS.L30.T16RBU.2023220T163157.v2.0/HLS.L30.T16RBU.2023220T163157.v2.0.B10.tif', 'https://data.lpdaac.earthdatacloud.nasa.gov/lp-prod-protected/HLSL30.020/HLS.L30.T16RBU.2023220T163157.v2.0/HLS.L30.T16RBU.2023220T163157.v2.0.B06.tif', 'https://data.lpdaac.earthdatacloud.nasa.gov/lp-prod-protected/HLSL30.020/HLS.L30.T16RBU.2023220T163157.v2.0/HLS.L30.T16RBU.2023220T163157.v2.0.B09.tif'],\n",
              " Collection: {'EntryTitle': 'HLS Landsat Operational Land Imager Surface Reflectance and TOA Brightness Daily Global 30m v2.0'}\n",
              " Spatial coverage: {'HorizontalSpatialDomain': {'Geometry': {'GPolygons': [{'Boundary': {'Points': [{'Longitude': -89.82661214, 'Latitude': 28.80213717}, {'Longitude': -89.79583778, 'Latitude': 29.79160422}, {'Longitude': -90.93082361, 'Latitude': 29.81426153}, {'Longitude': -90.94979896, 'Latitude': 28.82388593}, {'Longitude': -89.82661214, 'Latitude': 28.80213717}]}}]}}}\n",
              " Temporal coverage: {'RangeDateTime': {'BeginningDateTime': '2023-08-08T16:31:57.564Z', 'EndingDateTime': '2023-08-08T16:32:21.459Z'}}\n",
              " Size(MB): 174.08020496368408\n",
              " Data: ['https://data.lpdaac.earthdatacloud.nasa.gov/lp-prod-protected/HLSL30.020/HLS.L30.T15RYN.2023220T163157.v2.0/HLS.L30.T15RYN.2023220T163157.v2.0.B04.tif', 'https://data.lpdaac.earthdatacloud.nasa.gov/lp-prod-protected/HLSL30.020/HLS.L30.T15RYN.2023220T163157.v2.0/HLS.L30.T15RYN.2023220T163157.v2.0.B03.tif', 'https://data.lpdaac.earthdatacloud.nasa.gov/lp-prod-protected/HLSL30.020/HLS.L30.T15RYN.2023220T163157.v2.0/HLS.L30.T15RYN.2023220T163157.v2.0.VZA.tif', 'https://data.lpdaac.earthdatacloud.nasa.gov/lp-prod-protected/HLSL30.020/HLS.L30.T15RYN.2023220T163157.v2.0/HLS.L30.T15RYN.2023220T163157.v2.0.B01.tif', 'https://data.lpdaac.earthdatacloud.nasa.gov/lp-prod-protected/HLSL30.020/HLS.L30.T15RYN.2023220T163157.v2.0/HLS.L30.T15RYN.2023220T163157.v2.0.VAA.tif', 'https://data.lpdaac.earthdatacloud.nasa.gov/lp-prod-protected/HLSL30.020/HLS.L30.T15RYN.2023220T163157.v2.0/HLS.L30.T15RYN.2023220T163157.v2.0.B07.tif', 'https://data.lpdaac.earthdatacloud.nasa.gov/lp-prod-protected/HLSL30.020/HLS.L30.T15RYN.2023220T163157.v2.0/HLS.L30.T15RYN.2023220T163157.v2.0.SAA.tif', 'https://data.lpdaac.earthdatacloud.nasa.gov/lp-prod-protected/HLSL30.020/HLS.L30.T15RYN.2023220T163157.v2.0/HLS.L30.T15RYN.2023220T163157.v2.0.B06.tif', 'https://data.lpdaac.earthdatacloud.nasa.gov/lp-prod-protected/HLSL30.020/HLS.L30.T15RYN.2023220T163157.v2.0/HLS.L30.T15RYN.2023220T163157.v2.0.B10.tif', 'https://data.lpdaac.earthdatacloud.nasa.gov/lp-prod-protected/HLSL30.020/HLS.L30.T15RYN.2023220T163157.v2.0/HLS.L30.T15RYN.2023220T163157.v2.0.B02.tif', 'https://data.lpdaac.earthdatacloud.nasa.gov/lp-prod-protected/HLSL30.020/HLS.L30.T15RYN.2023220T163157.v2.0/HLS.L30.T15RYN.2023220T163157.v2.0.B05.tif', 'https://data.lpdaac.earthdatacloud.nasa.gov/lp-prod-protected/HLSL30.020/HLS.L30.T15RYN.2023220T163157.v2.0/HLS.L30.T15RYN.2023220T163157.v2.0.SZA.tif', 'https://data.lpdaac.earthdatacloud.nasa.gov/lp-prod-protected/HLSL30.020/HLS.L30.T15RYN.2023220T163157.v2.0/HLS.L30.T15RYN.2023220T163157.v2.0.B09.tif', 'https://data.lpdaac.earthdatacloud.nasa.gov/lp-prod-protected/HLSL30.020/HLS.L30.T15RYN.2023220T163157.v2.0/HLS.L30.T15RYN.2023220T163157.v2.0.B11.tif', 'https://data.lpdaac.earthdatacloud.nasa.gov/lp-prod-protected/HLSL30.020/HLS.L30.T15RYN.2023220T163157.v2.0/HLS.L30.T15RYN.2023220T163157.v2.0.Fmask.tif'],\n",
              " Collection: {'EntryTitle': 'HLS Landsat Operational Land Imager Surface Reflectance and TOA Brightness Daily Global 30m v2.0'}\n",
              " Spatial coverage: {'HorizontalSpatialDomain': {'Geometry': {'GPolygons': [{'Boundary': {'Points': [{'Longitude': -89.79864173, 'Latitude': 29.70347853}, {'Longitude': -89.76643746, 'Latitude': 30.69278312}, {'Longitude': -90.91181412, 'Latitude': 30.71627038}, {'Longitude': -90.93263654, 'Latitude': 29.72605548}, {'Longitude': -89.79864173, 'Latitude': 29.70347853}]}}]}}}\n",
              " Temporal coverage: {'RangeDateTime': {'BeginningDateTime': '2023-08-08T16:31:57.564Z', 'EndingDateTime': '2023-08-08T16:31:57.564Z'}}\n",
              " Size(MB): 190.29038524627686\n",
              " Data: ['https://data.lpdaac.earthdatacloud.nasa.gov/lp-prod-protected/HLSL30.020/HLS.L30.T15RYP.2023220T163157.v2.0/HLS.L30.T15RYP.2023220T163157.v2.0.VZA.tif', 'https://data.lpdaac.earthdatacloud.nasa.gov/lp-prod-protected/HLSL30.020/HLS.L30.T15RYP.2023220T163157.v2.0/HLS.L30.T15RYP.2023220T163157.v2.0.VAA.tif', 'https://data.lpdaac.earthdatacloud.nasa.gov/lp-prod-protected/HLSL30.020/HLS.L30.T15RYP.2023220T163157.v2.0/HLS.L30.T15RYP.2023220T163157.v2.0.Fmask.tif', 'https://data.lpdaac.earthdatacloud.nasa.gov/lp-prod-protected/HLSL30.020/HLS.L30.T15RYP.2023220T163157.v2.0/HLS.L30.T15RYP.2023220T163157.v2.0.B07.tif', 'https://data.lpdaac.earthdatacloud.nasa.gov/lp-prod-protected/HLSL30.020/HLS.L30.T15RYP.2023220T163157.v2.0/HLS.L30.T15RYP.2023220T163157.v2.0.B05.tif', 'https://data.lpdaac.earthdatacloud.nasa.gov/lp-prod-protected/HLSL30.020/HLS.L30.T15RYP.2023220T163157.v2.0/HLS.L30.T15RYP.2023220T163157.v2.0.B02.tif', 'https://data.lpdaac.earthdatacloud.nasa.gov/lp-prod-protected/HLSL30.020/HLS.L30.T15RYP.2023220T163157.v2.0/HLS.L30.T15RYP.2023220T163157.v2.0.B10.tif', 'https://data.lpdaac.earthdatacloud.nasa.gov/lp-prod-protected/HLSL30.020/HLS.L30.T15RYP.2023220T163157.v2.0/HLS.L30.T15RYP.2023220T163157.v2.0.B06.tif', 'https://data.lpdaac.earthdatacloud.nasa.gov/lp-prod-protected/HLSL30.020/HLS.L30.T15RYP.2023220T163157.v2.0/HLS.L30.T15RYP.2023220T163157.v2.0.B09.tif', 'https://data.lpdaac.earthdatacloud.nasa.gov/lp-prod-protected/HLSL30.020/HLS.L30.T15RYP.2023220T163157.v2.0/HLS.L30.T15RYP.2023220T163157.v2.0.B03.tif', 'https://data.lpdaac.earthdatacloud.nasa.gov/lp-prod-protected/HLSL30.020/HLS.L30.T15RYP.2023220T163157.v2.0/HLS.L30.T15RYP.2023220T163157.v2.0.SZA.tif', 'https://data.lpdaac.earthdatacloud.nasa.gov/lp-prod-protected/HLSL30.020/HLS.L30.T15RYP.2023220T163157.v2.0/HLS.L30.T15RYP.2023220T163157.v2.0.B04.tif', 'https://data.lpdaac.earthdatacloud.nasa.gov/lp-prod-protected/HLSL30.020/HLS.L30.T15RYP.2023220T163157.v2.0/HLS.L30.T15RYP.2023220T163157.v2.0.B11.tif', 'https://data.lpdaac.earthdatacloud.nasa.gov/lp-prod-protected/HLSL30.020/HLS.L30.T15RYP.2023220T163157.v2.0/HLS.L30.T15RYP.2023220T163157.v2.0.SAA.tif', 'https://data.lpdaac.earthdatacloud.nasa.gov/lp-prod-protected/HLSL30.020/HLS.L30.T15RYP.2023220T163157.v2.0/HLS.L30.T15RYP.2023220T163157.v2.0.B01.tif'],\n",
              " Collection: {'EntryTitle': 'HLS Landsat Operational Land Imager Surface Reflectance and TOA Brightness Daily Global 30m v2.0'}\n",
              " Spatial coverage: {'HorizontalSpatialDomain': {'Geometry': {'GPolygons': [{'Boundary': {'Points': [{'Longitude': -90.07372506, 'Latitude': 28.80444525}, {'Longitude': -89.53418925, 'Latitude': 28.81566136}, {'Longitude': -89.26659549, 'Latitude': 29.81102143}, {'Longitude': -90.10353675, 'Latitude': 29.79400715}, {'Longitude': -90.07372506, 'Latitude': 28.80444525}]}}]}}}\n",
              " Temporal coverage: {'RangeDateTime': {'BeginningDateTime': '2023-08-08T16:31:57.564Z', 'EndingDateTime': '2023-08-08T16:32:21.459Z'}}\n",
              " Size(MB): 104.74463367462158\n",
              " Data: ['https://data.lpdaac.earthdatacloud.nasa.gov/lp-prod-protected/HLSL30.020/HLS.L30.T16RBT.2023220T163157.v2.0/HLS.L30.T16RBT.2023220T163157.v2.0.B10.tif', 'https://data.lpdaac.earthdatacloud.nasa.gov/lp-prod-protected/HLSL30.020/HLS.L30.T16RBT.2023220T163157.v2.0/HLS.L30.T16RBT.2023220T163157.v2.0.B02.tif', 'https://data.lpdaac.earthdatacloud.nasa.gov/lp-prod-protected/HLSL30.020/HLS.L30.T16RBT.2023220T163157.v2.0/HLS.L30.T16RBT.2023220T163157.v2.0.B01.tif', 'https://data.lpdaac.earthdatacloud.nasa.gov/lp-prod-protected/HLSL30.020/HLS.L30.T16RBT.2023220T163157.v2.0/HLS.L30.T16RBT.2023220T163157.v2.0.VZA.tif', 'https://data.lpdaac.earthdatacloud.nasa.gov/lp-prod-protected/HLSL30.020/HLS.L30.T16RBT.2023220T163157.v2.0/HLS.L30.T16RBT.2023220T163157.v2.0.VAA.tif', 'https://data.lpdaac.earthdatacloud.nasa.gov/lp-prod-protected/HLSL30.020/HLS.L30.T16RBT.2023220T163157.v2.0/HLS.L30.T16RBT.2023220T163157.v2.0.Fmask.tif', 'https://data.lpdaac.earthdatacloud.nasa.gov/lp-prod-protected/HLSL30.020/HLS.L30.T16RBT.2023220T163157.v2.0/HLS.L30.T16RBT.2023220T163157.v2.0.B06.tif', 'https://data.lpdaac.earthdatacloud.nasa.gov/lp-prod-protected/HLSL30.020/HLS.L30.T16RBT.2023220T163157.v2.0/HLS.L30.T16RBT.2023220T163157.v2.0.B03.tif', 'https://data.lpdaac.earthdatacloud.nasa.gov/lp-prod-protected/HLSL30.020/HLS.L30.T16RBT.2023220T163157.v2.0/HLS.L30.T16RBT.2023220T163157.v2.0.SZA.tif', 'https://data.lpdaac.earthdatacloud.nasa.gov/lp-prod-protected/HLSL30.020/HLS.L30.T16RBT.2023220T163157.v2.0/HLS.L30.T16RBT.2023220T163157.v2.0.B05.tif', 'https://data.lpdaac.earthdatacloud.nasa.gov/lp-prod-protected/HLSL30.020/HLS.L30.T16RBT.2023220T163157.v2.0/HLS.L30.T16RBT.2023220T163157.v2.0.B07.tif', 'https://data.lpdaac.earthdatacloud.nasa.gov/lp-prod-protected/HLSL30.020/HLS.L30.T16RBT.2023220T163157.v2.0/HLS.L30.T16RBT.2023220T163157.v2.0.SAA.tif', 'https://data.lpdaac.earthdatacloud.nasa.gov/lp-prod-protected/HLSL30.020/HLS.L30.T16RBT.2023220T163157.v2.0/HLS.L30.T16RBT.2023220T163157.v2.0.B04.tif', 'https://data.lpdaac.earthdatacloud.nasa.gov/lp-prod-protected/HLSL30.020/HLS.L30.T16RBT.2023220T163157.v2.0/HLS.L30.T16RBT.2023220T163157.v2.0.B11.tif', 'https://data.lpdaac.earthdatacloud.nasa.gov/lp-prod-protected/HLSL30.020/HLS.L30.T16RBT.2023220T163157.v2.0/HLS.L30.T16RBT.2023220T163157.v2.0.B09.tif'],\n",
              " Collection: {'EntryTitle': 'HLS Landsat Operational Land Imager Surface Reflectance and TOA Brightness Daily Global 30m v2.0'}\n",
              " Spatial coverage: {'HorizontalSpatialDomain': {'Geometry': {'GPolygons': [{'Boundary': {'Points': [{'Longitude': -89.79864173, 'Latitude': 29.70347853}, {'Longitude': -89.76643746, 'Latitude': 30.69278312}, {'Longitude': -90.91181412, 'Latitude': 30.71627038}, {'Longitude': -90.93263654, 'Latitude': 29.72605548}, {'Longitude': -89.79864173, 'Latitude': 29.70347853}]}}]}}}\n",
              " Temporal coverage: {'RangeDateTime': {'BeginningDateTime': '2023-08-16T16:31:52.083Z', 'EndingDateTime': '2023-08-16T16:31:52.083Z'}}\n",
              " Size(MB): 178.1906862258911\n",
              " Data: ['https://data.lpdaac.earthdatacloud.nasa.gov/lp-prod-protected/HLSL30.020/HLS.L30.T15RYP.2023228T163152.v2.0/HLS.L30.T15RYP.2023228T163152.v2.0.B02.tif', 'https://data.lpdaac.earthdatacloud.nasa.gov/lp-prod-protected/HLSL30.020/HLS.L30.T15RYP.2023228T163152.v2.0/HLS.L30.T15RYP.2023228T163152.v2.0.SAA.tif', 'https://data.lpdaac.earthdatacloud.nasa.gov/lp-prod-protected/HLSL30.020/HLS.L30.T15RYP.2023228T163152.v2.0/HLS.L30.T15RYP.2023228T163152.v2.0.SZA.tif', 'https://data.lpdaac.earthdatacloud.nasa.gov/lp-prod-protected/HLSL30.020/HLS.L30.T15RYP.2023228T163152.v2.0/HLS.L30.T15RYP.2023228T163152.v2.0.B07.tif', 'https://data.lpdaac.earthdatacloud.nasa.gov/lp-prod-protected/HLSL30.020/HLS.L30.T15RYP.2023228T163152.v2.0/HLS.L30.T15RYP.2023228T163152.v2.0.B04.tif', 'https://data.lpdaac.earthdatacloud.nasa.gov/lp-prod-protected/HLSL30.020/HLS.L30.T15RYP.2023228T163152.v2.0/HLS.L30.T15RYP.2023228T163152.v2.0.B05.tif', 'https://data.lpdaac.earthdatacloud.nasa.gov/lp-prod-protected/HLSL30.020/HLS.L30.T15RYP.2023228T163152.v2.0/HLS.L30.T15RYP.2023228T163152.v2.0.Fmask.tif', 'https://data.lpdaac.earthdatacloud.nasa.gov/lp-prod-protected/HLSL30.020/HLS.L30.T15RYP.2023228T163152.v2.0/HLS.L30.T15RYP.2023228T163152.v2.0.B03.tif', 'https://data.lpdaac.earthdatacloud.nasa.gov/lp-prod-protected/HLSL30.020/HLS.L30.T15RYP.2023228T163152.v2.0/HLS.L30.T15RYP.2023228T163152.v2.0.VAA.tif', 'https://data.lpdaac.earthdatacloud.nasa.gov/lp-prod-protected/HLSL30.020/HLS.L30.T15RYP.2023228T163152.v2.0/HLS.L30.T15RYP.2023228T163152.v2.0.B01.tif', 'https://data.lpdaac.earthdatacloud.nasa.gov/lp-prod-protected/HLSL30.020/HLS.L30.T15RYP.2023228T163152.v2.0/HLS.L30.T15RYP.2023228T163152.v2.0.B11.tif', 'https://data.lpdaac.earthdatacloud.nasa.gov/lp-prod-protected/HLSL30.020/HLS.L30.T15RYP.2023228T163152.v2.0/HLS.L30.T15RYP.2023228T163152.v2.0.B09.tif', 'https://data.lpdaac.earthdatacloud.nasa.gov/lp-prod-protected/HLSL30.020/HLS.L30.T15RYP.2023228T163152.v2.0/HLS.L30.T15RYP.2023228T163152.v2.0.B10.tif', 'https://data.lpdaac.earthdatacloud.nasa.gov/lp-prod-protected/HLSL30.020/HLS.L30.T15RYP.2023228T163152.v2.0/HLS.L30.T15RYP.2023228T163152.v2.0.VZA.tif', 'https://data.lpdaac.earthdatacloud.nasa.gov/lp-prod-protected/HLSL30.020/HLS.L30.T15RYP.2023228T163152.v2.0/HLS.L30.T15RYP.2023228T163152.v2.0.B06.tif'],\n",
              " Collection: {'EntryTitle': 'HLS Landsat Operational Land Imager Surface Reflectance and TOA Brightness Daily Global 30m v2.0'}\n",
              " Spatial coverage: {'HorizontalSpatialDomain': {'Geometry': {'GPolygons': [{'Boundary': {'Points': [{'Longitude': -90.10082051, 'Latitude': 29.70587294}, {'Longitude': -89.27795595, 'Latitude': 29.72340972}, {'Longitude': -89.00656456, 'Latitude': 30.71755809}, {'Longitude': -90.13201749, 'Latitude': 30.69527405}, {'Longitude': -90.10082051, 'Latitude': 29.70587294}]}}]}}}\n",
              " Temporal coverage: {'RangeDateTime': {'BeginningDateTime': '2023-08-16T16:31:52.083Z', 'EndingDateTime': '2023-08-16T16:31:52.083Z'}}\n",
              " Size(MB): 157.54631900787354\n",
              " Data: ['https://data.lpdaac.earthdatacloud.nasa.gov/lp-prod-protected/HLSL30.020/HLS.L30.T16RBU.2023228T163152.v2.0/HLS.L30.T16RBU.2023228T163152.v2.0.B04.tif', 'https://data.lpdaac.earthdatacloud.nasa.gov/lp-prod-protected/HLSL30.020/HLS.L30.T16RBU.2023228T163152.v2.0/HLS.L30.T16RBU.2023228T163152.v2.0.SAA.tif', 'https://data.lpdaac.earthdatacloud.nasa.gov/lp-prod-protected/HLSL30.020/HLS.L30.T16RBU.2023228T163152.v2.0/HLS.L30.T16RBU.2023228T163152.v2.0.B03.tif', 'https://data.lpdaac.earthdatacloud.nasa.gov/lp-prod-protected/HLSL30.020/HLS.L30.T16RBU.2023228T163152.v2.0/HLS.L30.T16RBU.2023228T163152.v2.0.B09.tif', 'https://data.lpdaac.earthdatacloud.nasa.gov/lp-prod-protected/HLSL30.020/HLS.L30.T16RBU.2023228T163152.v2.0/HLS.L30.T16RBU.2023228T163152.v2.0.B10.tif', 'https://data.lpdaac.earthdatacloud.nasa.gov/lp-prod-protected/HLSL30.020/HLS.L30.T16RBU.2023228T163152.v2.0/HLS.L30.T16RBU.2023228T163152.v2.0.B01.tif', 'https://data.lpdaac.earthdatacloud.nasa.gov/lp-prod-protected/HLSL30.020/HLS.L30.T16RBU.2023228T163152.v2.0/HLS.L30.T16RBU.2023228T163152.v2.0.VAA.tif', 'https://data.lpdaac.earthdatacloud.nasa.gov/lp-prod-protected/HLSL30.020/HLS.L30.T16RBU.2023228T163152.v2.0/HLS.L30.T16RBU.2023228T163152.v2.0.SZA.tif', 'https://data.lpdaac.earthdatacloud.nasa.gov/lp-prod-protected/HLSL30.020/HLS.L30.T16RBU.2023228T163152.v2.0/HLS.L30.T16RBU.2023228T163152.v2.0.B02.tif', 'https://data.lpdaac.earthdatacloud.nasa.gov/lp-prod-protected/HLSL30.020/HLS.L30.T16RBU.2023228T163152.v2.0/HLS.L30.T16RBU.2023228T163152.v2.0.B11.tif', 'https://data.lpdaac.earthdatacloud.nasa.gov/lp-prod-protected/HLSL30.020/HLS.L30.T16RBU.2023228T163152.v2.0/HLS.L30.T16RBU.2023228T163152.v2.0.B07.tif', 'https://data.lpdaac.earthdatacloud.nasa.gov/lp-prod-protected/HLSL30.020/HLS.L30.T16RBU.2023228T163152.v2.0/HLS.L30.T16RBU.2023228T163152.v2.0.B06.tif', 'https://data.lpdaac.earthdatacloud.nasa.gov/lp-prod-protected/HLSL30.020/HLS.L30.T16RBU.2023228T163152.v2.0/HLS.L30.T16RBU.2023228T163152.v2.0.Fmask.tif', 'https://data.lpdaac.earthdatacloud.nasa.gov/lp-prod-protected/HLSL30.020/HLS.L30.T16RBU.2023228T163152.v2.0/HLS.L30.T16RBU.2023228T163152.v2.0.B05.tif', 'https://data.lpdaac.earthdatacloud.nasa.gov/lp-prod-protected/HLSL30.020/HLS.L30.T16RBU.2023228T163152.v2.0/HLS.L30.T16RBU.2023228T163152.v2.0.VZA.tif'],\n",
              " Collection: {'EntryTitle': 'HLS Landsat Operational Land Imager Surface Reflectance and TOA Brightness Daily Global 30m v2.0'}\n",
              " Spatial coverage: {'HorizontalSpatialDomain': {'Geometry': {'GPolygons': [{'Boundary': {'Points': [{'Longitude': -90.07372506, 'Latitude': 28.80444525}, {'Longitude': -89.52528802, 'Latitude': 28.81609895}, {'Longitude': -89.25418666, 'Latitude': 29.81123378}, {'Longitude': -90.10353675, 'Latitude': 29.79400715}, {'Longitude': -90.07372506, 'Latitude': 28.80444525}]}}]}}}\n",
              " Temporal coverage: {'RangeDateTime': {'BeginningDateTime': '2023-08-16T16:31:52.083Z', 'EndingDateTime': '2023-08-16T16:32:15.974Z'}}\n",
              " Size(MB): 107.4115858078003\n",
              " Data: ['https://data.lpdaac.earthdatacloud.nasa.gov/lp-prod-protected/HLSL30.020/HLS.L30.T16RBT.2023228T163152.v2.0/HLS.L30.T16RBT.2023228T163152.v2.0.B06.tif', 'https://data.lpdaac.earthdatacloud.nasa.gov/lp-prod-protected/HLSL30.020/HLS.L30.T16RBT.2023228T163152.v2.0/HLS.L30.T16RBT.2023228T163152.v2.0.B10.tif', 'https://data.lpdaac.earthdatacloud.nasa.gov/lp-prod-protected/HLSL30.020/HLS.L30.T16RBT.2023228T163152.v2.0/HLS.L30.T16RBT.2023228T163152.v2.0.B04.tif', 'https://data.lpdaac.earthdatacloud.nasa.gov/lp-prod-protected/HLSL30.020/HLS.L30.T16RBT.2023228T163152.v2.0/HLS.L30.T16RBT.2023228T163152.v2.0.VZA.tif', 'https://data.lpdaac.earthdatacloud.nasa.gov/lp-prod-protected/HLSL30.020/HLS.L30.T16RBT.2023228T163152.v2.0/HLS.L30.T16RBT.2023228T163152.v2.0.B05.tif', 'https://data.lpdaac.earthdatacloud.nasa.gov/lp-prod-protected/HLSL30.020/HLS.L30.T16RBT.2023228T163152.v2.0/HLS.L30.T16RBT.2023228T163152.v2.0.VAA.tif', 'https://data.lpdaac.earthdatacloud.nasa.gov/lp-prod-protected/HLSL30.020/HLS.L30.T16RBT.2023228T163152.v2.0/HLS.L30.T16RBT.2023228T163152.v2.0.B09.tif', 'https://data.lpdaac.earthdatacloud.nasa.gov/lp-prod-protected/HLSL30.020/HLS.L30.T16RBT.2023228T163152.v2.0/HLS.L30.T16RBT.2023228T163152.v2.0.Fmask.tif', 'https://data.lpdaac.earthdatacloud.nasa.gov/lp-prod-protected/HLSL30.020/HLS.L30.T16RBT.2023228T163152.v2.0/HLS.L30.T16RBT.2023228T163152.v2.0.B11.tif', 'https://data.lpdaac.earthdatacloud.nasa.gov/lp-prod-protected/HLSL30.020/HLS.L30.T16RBT.2023228T163152.v2.0/HLS.L30.T16RBT.2023228T163152.v2.0.B03.tif', 'https://data.lpdaac.earthdatacloud.nasa.gov/lp-prod-protected/HLSL30.020/HLS.L30.T16RBT.2023228T163152.v2.0/HLS.L30.T16RBT.2023228T163152.v2.0.SAA.tif', 'https://data.lpdaac.earthdatacloud.nasa.gov/lp-prod-protected/HLSL30.020/HLS.L30.T16RBT.2023228T163152.v2.0/HLS.L30.T16RBT.2023228T163152.v2.0.SZA.tif', 'https://data.lpdaac.earthdatacloud.nasa.gov/lp-prod-protected/HLSL30.020/HLS.L30.T16RBT.2023228T163152.v2.0/HLS.L30.T16RBT.2023228T163152.v2.0.B02.tif', 'https://data.lpdaac.earthdatacloud.nasa.gov/lp-prod-protected/HLSL30.020/HLS.L30.T16RBT.2023228T163152.v2.0/HLS.L30.T16RBT.2023228T163152.v2.0.B01.tif', 'https://data.lpdaac.earthdatacloud.nasa.gov/lp-prod-protected/HLSL30.020/HLS.L30.T16RBT.2023228T163152.v2.0/HLS.L30.T16RBT.2023228T163152.v2.0.B07.tif'],\n",
              " Collection: {'EntryTitle': 'HLS Landsat Operational Land Imager Surface Reflectance and TOA Brightness Daily Global 30m v2.0'}\n",
              " Spatial coverage: {'HorizontalSpatialDomain': {'Geometry': {'GPolygons': [{'Boundary': {'Points': [{'Longitude': -89.82661214, 'Latitude': 28.80213717}, {'Longitude': -89.79583778, 'Latitude': 29.79160422}, {'Longitude': -90.93082361, 'Latitude': 29.81426153}, {'Longitude': -90.95072084, 'Latitude': 28.82389994}, {'Longitude': -89.82661214, 'Latitude': 28.80213717}]}}]}}}\n",
              " Temporal coverage: {'RangeDateTime': {'BeginningDateTime': '2023-08-16T16:31:52.083Z', 'EndingDateTime': '2023-08-16T16:32:15.974Z'}}\n",
              " Size(MB): 170.30919456481934\n",
              " Data: ['https://data.lpdaac.earthdatacloud.nasa.gov/lp-prod-protected/HLSL30.020/HLS.L30.T15RYN.2023228T163152.v2.0/HLS.L30.T15RYN.2023228T163152.v2.0.B07.tif', 'https://data.lpdaac.earthdatacloud.nasa.gov/lp-prod-protected/HLSL30.020/HLS.L30.T15RYN.2023228T163152.v2.0/HLS.L30.T15RYN.2023228T163152.v2.0.B01.tif', 'https://data.lpdaac.earthdatacloud.nasa.gov/lp-prod-protected/HLSL30.020/HLS.L30.T15RYN.2023228T163152.v2.0/HLS.L30.T15RYN.2023228T163152.v2.0.B09.tif', 'https://data.lpdaac.earthdatacloud.nasa.gov/lp-prod-protected/HLSL30.020/HLS.L30.T15RYN.2023228T163152.v2.0/HLS.L30.T15RYN.2023228T163152.v2.0.SAA.tif', 'https://data.lpdaac.earthdatacloud.nasa.gov/lp-prod-protected/HLSL30.020/HLS.L30.T15RYN.2023228T163152.v2.0/HLS.L30.T15RYN.2023228T163152.v2.0.B04.tif', 'https://data.lpdaac.earthdatacloud.nasa.gov/lp-prod-protected/HLSL30.020/HLS.L30.T15RYN.2023228T163152.v2.0/HLS.L30.T15RYN.2023228T163152.v2.0.VAA.tif', 'https://data.lpdaac.earthdatacloud.nasa.gov/lp-prod-protected/HLSL30.020/HLS.L30.T15RYN.2023228T163152.v2.0/HLS.L30.T15RYN.2023228T163152.v2.0.B10.tif', 'https://data.lpdaac.earthdatacloud.nasa.gov/lp-prod-protected/HLSL30.020/HLS.L30.T15RYN.2023228T163152.v2.0/HLS.L30.T15RYN.2023228T163152.v2.0.B05.tif', 'https://data.lpdaac.earthdatacloud.nasa.gov/lp-prod-protected/HLSL30.020/HLS.L30.T15RYN.2023228T163152.v2.0/HLS.L30.T15RYN.2023228T163152.v2.0.B11.tif', 'https://data.lpdaac.earthdatacloud.nasa.gov/lp-prod-protected/HLSL30.020/HLS.L30.T15RYN.2023228T163152.v2.0/HLS.L30.T15RYN.2023228T163152.v2.0.SZA.tif', 'https://data.lpdaac.earthdatacloud.nasa.gov/lp-prod-protected/HLSL30.020/HLS.L30.T15RYN.2023228T163152.v2.0/HLS.L30.T15RYN.2023228T163152.v2.0.B02.tif', 'https://data.lpdaac.earthdatacloud.nasa.gov/lp-prod-protected/HLSL30.020/HLS.L30.T15RYN.2023228T163152.v2.0/HLS.L30.T15RYN.2023228T163152.v2.0.B06.tif', 'https://data.lpdaac.earthdatacloud.nasa.gov/lp-prod-protected/HLSL30.020/HLS.L30.T15RYN.2023228T163152.v2.0/HLS.L30.T15RYN.2023228T163152.v2.0.Fmask.tif', 'https://data.lpdaac.earthdatacloud.nasa.gov/lp-prod-protected/HLSL30.020/HLS.L30.T15RYN.2023228T163152.v2.0/HLS.L30.T15RYN.2023228T163152.v2.0.B03.tif', 'https://data.lpdaac.earthdatacloud.nasa.gov/lp-prod-protected/HLSL30.020/HLS.L30.T15RYN.2023228T163152.v2.0/HLS.L30.T15RYN.2023228T163152.v2.0.VZA.tif'],\n",
              " Collection: {'EntryTitle': 'HLS Landsat Operational Land Imager Surface Reflectance and TOA Brightness Daily Global 30m v2.0'}\n",
              " Spatial coverage: {'HorizontalSpatialDomain': {'Geometry': {'GPolygons': [{'Boundary': {'Points': [{'Longitude': -89.79864173, 'Latitude': 29.70347853}, {'Longitude': -89.76643746, 'Latitude': 30.69278312}, {'Longitude': -90.91181412, 'Latitude': 30.71627038}, {'Longitude': -90.93263654, 'Latitude': 29.72605548}, {'Longitude': -89.79864173, 'Latitude': 29.70347853}]}}]}}}\n",
              " Temporal coverage: {'RangeDateTime': {'BeginningDateTime': '2023-08-24T16:32:05.861Z', 'EndingDateTime': '2023-08-24T16:32:05.861Z'}}\n",
              " Size(MB): 182.5469446182251\n",
              " Data: ['https://data.lpdaac.earthdatacloud.nasa.gov/lp-prod-protected/HLSL30.020/HLS.L30.T15RYP.2023236T163205.v2.0/HLS.L30.T15RYP.2023236T163205.v2.0.VAA.tif', 'https://data.lpdaac.earthdatacloud.nasa.gov/lp-prod-protected/HLSL30.020/HLS.L30.T15RYP.2023236T163205.v2.0/HLS.L30.T15RYP.2023236T163205.v2.0.B02.tif', 'https://data.lpdaac.earthdatacloud.nasa.gov/lp-prod-protected/HLSL30.020/HLS.L30.T15RYP.2023236T163205.v2.0/HLS.L30.T15RYP.2023236T163205.v2.0.B06.tif', 'https://data.lpdaac.earthdatacloud.nasa.gov/lp-prod-protected/HLSL30.020/HLS.L30.T15RYP.2023236T163205.v2.0/HLS.L30.T15RYP.2023236T163205.v2.0.VZA.tif', 'https://data.lpdaac.earthdatacloud.nasa.gov/lp-prod-protected/HLSL30.020/HLS.L30.T15RYP.2023236T163205.v2.0/HLS.L30.T15RYP.2023236T163205.v2.0.SZA.tif', 'https://data.lpdaac.earthdatacloud.nasa.gov/lp-prod-protected/HLSL30.020/HLS.L30.T15RYP.2023236T163205.v2.0/HLS.L30.T15RYP.2023236T163205.v2.0.B09.tif', 'https://data.lpdaac.earthdatacloud.nasa.gov/lp-prod-protected/HLSL30.020/HLS.L30.T15RYP.2023236T163205.v2.0/HLS.L30.T15RYP.2023236T163205.v2.0.B05.tif', 'https://data.lpdaac.earthdatacloud.nasa.gov/lp-prod-protected/HLSL30.020/HLS.L30.T15RYP.2023236T163205.v2.0/HLS.L30.T15RYP.2023236T163205.v2.0.SAA.tif', 'https://data.lpdaac.earthdatacloud.nasa.gov/lp-prod-protected/HLSL30.020/HLS.L30.T15RYP.2023236T163205.v2.0/HLS.L30.T15RYP.2023236T163205.v2.0.B11.tif', 'https://data.lpdaac.earthdatacloud.nasa.gov/lp-prod-protected/HLSL30.020/HLS.L30.T15RYP.2023236T163205.v2.0/HLS.L30.T15RYP.2023236T163205.v2.0.B10.tif', 'https://data.lpdaac.earthdatacloud.nasa.gov/lp-prod-protected/HLSL30.020/HLS.L30.T15RYP.2023236T163205.v2.0/HLS.L30.T15RYP.2023236T163205.v2.0.B01.tif', 'https://data.lpdaac.earthdatacloud.nasa.gov/lp-prod-protected/HLSL30.020/HLS.L30.T15RYP.2023236T163205.v2.0/HLS.L30.T15RYP.2023236T163205.v2.0.B03.tif', 'https://data.lpdaac.earthdatacloud.nasa.gov/lp-prod-protected/HLSL30.020/HLS.L30.T15RYP.2023236T163205.v2.0/HLS.L30.T15RYP.2023236T163205.v2.0.B07.tif', 'https://data.lpdaac.earthdatacloud.nasa.gov/lp-prod-protected/HLSL30.020/HLS.L30.T15RYP.2023236T163205.v2.0/HLS.L30.T15RYP.2023236T163205.v2.0.Fmask.tif', 'https://data.lpdaac.earthdatacloud.nasa.gov/lp-prod-protected/HLSL30.020/HLS.L30.T15RYP.2023236T163205.v2.0/HLS.L30.T15RYP.2023236T163205.v2.0.B04.tif'],\n",
              " Collection: {'EntryTitle': 'HLS Landsat Operational Land Imager Surface Reflectance and TOA Brightness Daily Global 30m v2.0'}\n",
              " Spatial coverage: {'HorizontalSpatialDomain': {'Geometry': {'GPolygons': [{'Boundary': {'Points': [{'Longitude': -90.07372506, 'Latitude': 28.80444525}, {'Longitude': -89.54311008, 'Latitude': 28.81603475}, {'Longitude': -89.27590202, 'Latitude': 29.8108614}, {'Longitude': -90.10353675, 'Latitude': 29.79400715}, {'Longitude': -90.07372506, 'Latitude': 28.80444525}]}}]}}}\n",
              " Temporal coverage: {'RangeDateTime': {'BeginningDateTime': '2023-08-24T16:32:05.861Z', 'EndingDateTime': '2023-08-24T16:32:29.757Z'}}\n",
              " Size(MB): 112.39069271087646\n",
              " Data: ['https://data.lpdaac.earthdatacloud.nasa.gov/lp-prod-protected/HLSL30.020/HLS.L30.T16RBT.2023236T163205.v2.0/HLS.L30.T16RBT.2023236T163205.v2.0.B04.tif', 'https://data.lpdaac.earthdatacloud.nasa.gov/lp-prod-protected/HLSL30.020/HLS.L30.T16RBT.2023236T163205.v2.0/HLS.L30.T16RBT.2023236T163205.v2.0.B10.tif', 'https://data.lpdaac.earthdatacloud.nasa.gov/lp-prod-protected/HLSL30.020/HLS.L30.T16RBT.2023236T163205.v2.0/HLS.L30.T16RBT.2023236T163205.v2.0.SAA.tif', 'https://data.lpdaac.earthdatacloud.nasa.gov/lp-prod-protected/HLSL30.020/HLS.L30.T16RBT.2023236T163205.v2.0/HLS.L30.T16RBT.2023236T163205.v2.0.B07.tif', 'https://data.lpdaac.earthdatacloud.nasa.gov/lp-prod-protected/HLSL30.020/HLS.L30.T16RBT.2023236T163205.v2.0/HLS.L30.T16RBT.2023236T163205.v2.0.B03.tif', 'https://data.lpdaac.earthdatacloud.nasa.gov/lp-prod-protected/HLSL30.020/HLS.L30.T16RBT.2023236T163205.v2.0/HLS.L30.T16RBT.2023236T163205.v2.0.B11.tif', 'https://data.lpdaac.earthdatacloud.nasa.gov/lp-prod-protected/HLSL30.020/HLS.L30.T16RBT.2023236T163205.v2.0/HLS.L30.T16RBT.2023236T163205.v2.0.SZA.tif', 'https://data.lpdaac.earthdatacloud.nasa.gov/lp-prod-protected/HLSL30.020/HLS.L30.T16RBT.2023236T163205.v2.0/HLS.L30.T16RBT.2023236T163205.v2.0.B06.tif', 'https://data.lpdaac.earthdatacloud.nasa.gov/lp-prod-protected/HLSL30.020/HLS.L30.T16RBT.2023236T163205.v2.0/HLS.L30.T16RBT.2023236T163205.v2.0.VAA.tif', 'https://data.lpdaac.earthdatacloud.nasa.gov/lp-prod-protected/HLSL30.020/HLS.L30.T16RBT.2023236T163205.v2.0/HLS.L30.T16RBT.2023236T163205.v2.0.B09.tif', 'https://data.lpdaac.earthdatacloud.nasa.gov/lp-prod-protected/HLSL30.020/HLS.L30.T16RBT.2023236T163205.v2.0/HLS.L30.T16RBT.2023236T163205.v2.0.B02.tif', 'https://data.lpdaac.earthdatacloud.nasa.gov/lp-prod-protected/HLSL30.020/HLS.L30.T16RBT.2023236T163205.v2.0/HLS.L30.T16RBT.2023236T163205.v2.0.Fmask.tif', 'https://data.lpdaac.earthdatacloud.nasa.gov/lp-prod-protected/HLSL30.020/HLS.L30.T16RBT.2023236T163205.v2.0/HLS.L30.T16RBT.2023236T163205.v2.0.B05.tif', 'https://data.lpdaac.earthdatacloud.nasa.gov/lp-prod-protected/HLSL30.020/HLS.L30.T16RBT.2023236T163205.v2.0/HLS.L30.T16RBT.2023236T163205.v2.0.B01.tif', 'https://data.lpdaac.earthdatacloud.nasa.gov/lp-prod-protected/HLSL30.020/HLS.L30.T16RBT.2023236T163205.v2.0/HLS.L30.T16RBT.2023236T163205.v2.0.VZA.tif'],\n",
              " Collection: {'EntryTitle': 'HLS Landsat Operational Land Imager Surface Reflectance and TOA Brightness Daily Global 30m v2.0'}\n",
              " Spatial coverage: {'HorizontalSpatialDomain': {'Geometry': {'GPolygons': [{'Boundary': {'Points': [{'Longitude': -89.82661214, 'Latitude': 28.80213717}, {'Longitude': -89.79583778, 'Latitude': 29.79160422}, {'Longitude': -90.93082361, 'Latitude': 29.81426153}, {'Longitude': -90.95072084, 'Latitude': 28.82389994}, {'Longitude': -89.82661214, 'Latitude': 28.80213717}]}}]}}}\n",
              " Temporal coverage: {'RangeDateTime': {'BeginningDateTime': '2023-08-24T16:32:05.861Z', 'EndingDateTime': '2023-08-24T16:32:29.757Z'}}\n",
              " Size(MB): 182.155535697937\n",
              " Data: ['https://data.lpdaac.earthdatacloud.nasa.gov/lp-prod-protected/HLSL30.020/HLS.L30.T15RYN.2023236T163205.v2.0/HLS.L30.T15RYN.2023236T163205.v2.0.B11.tif', 'https://data.lpdaac.earthdatacloud.nasa.gov/lp-prod-protected/HLSL30.020/HLS.L30.T15RYN.2023236T163205.v2.0/HLS.L30.T15RYN.2023236T163205.v2.0.B06.tif', 'https://data.lpdaac.earthdatacloud.nasa.gov/lp-prod-protected/HLSL30.020/HLS.L30.T15RYN.2023236T163205.v2.0/HLS.L30.T15RYN.2023236T163205.v2.0.B05.tif', 'https://data.lpdaac.earthdatacloud.nasa.gov/lp-prod-protected/HLSL30.020/HLS.L30.T15RYN.2023236T163205.v2.0/HLS.L30.T15RYN.2023236T163205.v2.0.VZA.tif', 'https://data.lpdaac.earthdatacloud.nasa.gov/lp-prod-protected/HLSL30.020/HLS.L30.T15RYN.2023236T163205.v2.0/HLS.L30.T15RYN.2023236T163205.v2.0.B07.tif', 'https://data.lpdaac.earthdatacloud.nasa.gov/lp-prod-protected/HLSL30.020/HLS.L30.T15RYN.2023236T163205.v2.0/HLS.L30.T15RYN.2023236T163205.v2.0.Fmask.tif', 'https://data.lpdaac.earthdatacloud.nasa.gov/lp-prod-protected/HLSL30.020/HLS.L30.T15RYN.2023236T163205.v2.0/HLS.L30.T15RYN.2023236T163205.v2.0.B01.tif', 'https://data.lpdaac.earthdatacloud.nasa.gov/lp-prod-protected/HLSL30.020/HLS.L30.T15RYN.2023236T163205.v2.0/HLS.L30.T15RYN.2023236T163205.v2.0.B10.tif', 'https://data.lpdaac.earthdatacloud.nasa.gov/lp-prod-protected/HLSL30.020/HLS.L30.T15RYN.2023236T163205.v2.0/HLS.L30.T15RYN.2023236T163205.v2.0.B02.tif', 'https://data.lpdaac.earthdatacloud.nasa.gov/lp-prod-protected/HLSL30.020/HLS.L30.T15RYN.2023236T163205.v2.0/HLS.L30.T15RYN.2023236T163205.v2.0.SAA.tif', 'https://data.lpdaac.earthdatacloud.nasa.gov/lp-prod-protected/HLSL30.020/HLS.L30.T15RYN.2023236T163205.v2.0/HLS.L30.T15RYN.2023236T163205.v2.0.SZA.tif', 'https://data.lpdaac.earthdatacloud.nasa.gov/lp-prod-protected/HLSL30.020/HLS.L30.T15RYN.2023236T163205.v2.0/HLS.L30.T15RYN.2023236T163205.v2.0.B03.tif', 'https://data.lpdaac.earthdatacloud.nasa.gov/lp-prod-protected/HLSL30.020/HLS.L30.T15RYN.2023236T163205.v2.0/HLS.L30.T15RYN.2023236T163205.v2.0.B09.tif', 'https://data.lpdaac.earthdatacloud.nasa.gov/lp-prod-protected/HLSL30.020/HLS.L30.T15RYN.2023236T163205.v2.0/HLS.L30.T15RYN.2023236T163205.v2.0.VAA.tif', 'https://data.lpdaac.earthdatacloud.nasa.gov/lp-prod-protected/HLSL30.020/HLS.L30.T15RYN.2023236T163205.v2.0/HLS.L30.T15RYN.2023236T163205.v2.0.B04.tif'],\n",
              " Collection: {'EntryTitle': 'HLS Landsat Operational Land Imager Surface Reflectance and TOA Brightness Daily Global 30m v2.0'}\n",
              " Spatial coverage: {'HorizontalSpatialDomain': {'Geometry': {'GPolygons': [{'Boundary': {'Points': [{'Longitude': -90.10082051, 'Latitude': 29.70587294}, {'Longitude': -89.29994345, 'Latitude': 29.72221746}, {'Longitude': -89.02848385, 'Latitude': 30.71721732}, {'Longitude': -90.13201749, 'Latitude': 30.69527405}, {'Longitude': -90.10082051, 'Latitude': 29.70587294}]}}]}}}\n",
              " Temporal coverage: {'RangeDateTime': {'BeginningDateTime': '2023-08-24T16:32:05.861Z', 'EndingDateTime': '2023-08-24T16:32:05.861Z'}}\n",
              " Size(MB): 155.71986961364746\n",
              " Data: ['https://data.lpdaac.earthdatacloud.nasa.gov/lp-prod-protected/HLSL30.020/HLS.L30.T16RBU.2023236T163205.v2.0/HLS.L30.T16RBU.2023236T163205.v2.0.B03.tif', 'https://data.lpdaac.earthdatacloud.nasa.gov/lp-prod-protected/HLSL30.020/HLS.L30.T16RBU.2023236T163205.v2.0/HLS.L30.T16RBU.2023236T163205.v2.0.B07.tif', 'https://data.lpdaac.earthdatacloud.nasa.gov/lp-prod-protected/HLSL30.020/HLS.L30.T16RBU.2023236T163205.v2.0/HLS.L30.T16RBU.2023236T163205.v2.0.B10.tif', 'https://data.lpdaac.earthdatacloud.nasa.gov/lp-prod-protected/HLSL30.020/HLS.L30.T16RBU.2023236T163205.v2.0/HLS.L30.T16RBU.2023236T163205.v2.0.Fmask.tif', 'https://data.lpdaac.earthdatacloud.nasa.gov/lp-prod-protected/HLSL30.020/HLS.L30.T16RBU.2023236T163205.v2.0/HLS.L30.T16RBU.2023236T163205.v2.0.SZA.tif', 'https://data.lpdaac.earthdatacloud.nasa.gov/lp-prod-protected/HLSL30.020/HLS.L30.T16RBU.2023236T163205.v2.0/HLS.L30.T16RBU.2023236T163205.v2.0.B04.tif', 'https://data.lpdaac.earthdatacloud.nasa.gov/lp-prod-protected/HLSL30.020/HLS.L30.T16RBU.2023236T163205.v2.0/HLS.L30.T16RBU.2023236T163205.v2.0.VZA.tif', 'https://data.lpdaac.earthdatacloud.nasa.gov/lp-prod-protected/HLSL30.020/HLS.L30.T16RBU.2023236T163205.v2.0/HLS.L30.T16RBU.2023236T163205.v2.0.VAA.tif', 'https://data.lpdaac.earthdatacloud.nasa.gov/lp-prod-protected/HLSL30.020/HLS.L30.T16RBU.2023236T163205.v2.0/HLS.L30.T16RBU.2023236T163205.v2.0.B01.tif', 'https://data.lpdaac.earthdatacloud.nasa.gov/lp-prod-protected/HLSL30.020/HLS.L30.T16RBU.2023236T163205.v2.0/HLS.L30.T16RBU.2023236T163205.v2.0.B02.tif', 'https://data.lpdaac.earthdatacloud.nasa.gov/lp-prod-protected/HLSL30.020/HLS.L30.T16RBU.2023236T163205.v2.0/HLS.L30.T16RBU.2023236T163205.v2.0.B09.tif', 'https://data.lpdaac.earthdatacloud.nasa.gov/lp-prod-protected/HLSL30.020/HLS.L30.T16RBU.2023236T163205.v2.0/HLS.L30.T16RBU.2023236T163205.v2.0.SAA.tif', 'https://data.lpdaac.earthdatacloud.nasa.gov/lp-prod-protected/HLSL30.020/HLS.L30.T16RBU.2023236T163205.v2.0/HLS.L30.T16RBU.2023236T163205.v2.0.B06.tif', 'https://data.lpdaac.earthdatacloud.nasa.gov/lp-prod-protected/HLSL30.020/HLS.L30.T16RBU.2023236T163205.v2.0/HLS.L30.T16RBU.2023236T163205.v2.0.B05.tif', 'https://data.lpdaac.earthdatacloud.nasa.gov/lp-prod-protected/HLSL30.020/HLS.L30.T16RBU.2023236T163205.v2.0/HLS.L30.T16RBU.2023236T163205.v2.0.B11.tif'],\n",
              " Collection: {'EntryTitle': 'HLS Landsat Operational Land Imager Surface Reflectance and TOA Brightness Daily Global 30m v2.0'}\n",
              " Spatial coverage: {'HorizontalSpatialDomain': {'Geometry': {'GPolygons': [{'Boundary': {'Points': [{'Longitude': -89.79864173, 'Latitude': 29.70347853}, {'Longitude': -89.76643746, 'Latitude': 30.69278312}, {'Longitude': -90.91181412, 'Latitude': 30.71627038}, {'Longitude': -90.93263654, 'Latitude': 29.72605548}, {'Longitude': -89.79864173, 'Latitude': 29.70347853}]}}]}}}\n",
              " Temporal coverage: {'RangeDateTime': {'BeginningDateTime': '2023-09-01T16:32:03.072Z', 'EndingDateTime': '2023-09-01T16:32:03.072Z'}}\n",
              " Size(MB): 196.0640630722046\n",
              " Data: ['https://data.lpdaac.earthdatacloud.nasa.gov/lp-prod-protected/HLSL30.020/HLS.L30.T15RYP.2023244T163203.v2.0/HLS.L30.T15RYP.2023244T163203.v2.0.B10.tif', 'https://data.lpdaac.earthdatacloud.nasa.gov/lp-prod-protected/HLSL30.020/HLS.L30.T15RYP.2023244T163203.v2.0/HLS.L30.T15RYP.2023244T163203.v2.0.B07.tif', 'https://data.lpdaac.earthdatacloud.nasa.gov/lp-prod-protected/HLSL30.020/HLS.L30.T15RYP.2023244T163203.v2.0/HLS.L30.T15RYP.2023244T163203.v2.0.Fmask.tif', 'https://data.lpdaac.earthdatacloud.nasa.gov/lp-prod-protected/HLSL30.020/HLS.L30.T15RYP.2023244T163203.v2.0/HLS.L30.T15RYP.2023244T163203.v2.0.B03.tif', 'https://data.lpdaac.earthdatacloud.nasa.gov/lp-prod-protected/HLSL30.020/HLS.L30.T15RYP.2023244T163203.v2.0/HLS.L30.T15RYP.2023244T163203.v2.0.B09.tif', 'https://data.lpdaac.earthdatacloud.nasa.gov/lp-prod-protected/HLSL30.020/HLS.L30.T15RYP.2023244T163203.v2.0/HLS.L30.T15RYP.2023244T163203.v2.0.B01.tif', 'https://data.lpdaac.earthdatacloud.nasa.gov/lp-prod-protected/HLSL30.020/HLS.L30.T15RYP.2023244T163203.v2.0/HLS.L30.T15RYP.2023244T163203.v2.0.B04.tif', 'https://data.lpdaac.earthdatacloud.nasa.gov/lp-prod-protected/HLSL30.020/HLS.L30.T15RYP.2023244T163203.v2.0/HLS.L30.T15RYP.2023244T163203.v2.0.SAA.tif', 'https://data.lpdaac.earthdatacloud.nasa.gov/lp-prod-protected/HLSL30.020/HLS.L30.T15RYP.2023244T163203.v2.0/HLS.L30.T15RYP.2023244T163203.v2.0.B06.tif', 'https://data.lpdaac.earthdatacloud.nasa.gov/lp-prod-protected/HLSL30.020/HLS.L30.T15RYP.2023244T163203.v2.0/HLS.L30.T15RYP.2023244T163203.v2.0.B11.tif', 'https://data.lpdaac.earthdatacloud.nasa.gov/lp-prod-protected/HLSL30.020/HLS.L30.T15RYP.2023244T163203.v2.0/HLS.L30.T15RYP.2023244T163203.v2.0.VAA.tif', 'https://data.lpdaac.earthdatacloud.nasa.gov/lp-prod-protected/HLSL30.020/HLS.L30.T15RYP.2023244T163203.v2.0/HLS.L30.T15RYP.2023244T163203.v2.0.B02.tif', 'https://data.lpdaac.earthdatacloud.nasa.gov/lp-prod-protected/HLSL30.020/HLS.L30.T15RYP.2023244T163203.v2.0/HLS.L30.T15RYP.2023244T163203.v2.0.B05.tif', 'https://data.lpdaac.earthdatacloud.nasa.gov/lp-prod-protected/HLSL30.020/HLS.L30.T15RYP.2023244T163203.v2.0/HLS.L30.T15RYP.2023244T163203.v2.0.VZA.tif', 'https://data.lpdaac.earthdatacloud.nasa.gov/lp-prod-protected/HLSL30.020/HLS.L30.T15RYP.2023244T163203.v2.0/HLS.L30.T15RYP.2023244T163203.v2.0.SZA.tif'],\n",
              " Collection: {'EntryTitle': 'HLS Landsat Operational Land Imager Surface Reflectance and TOA Brightness Daily Global 30m v2.0'}\n",
              " Spatial coverage: {'HorizontalSpatialDomain': {'Geometry': {'GPolygons': [{'Boundary': {'Points': [{'Longitude': -90.10082051, 'Latitude': 29.70587294}, {'Longitude': -89.2956043, 'Latitude': 29.72229281}, {'Longitude': -89.02441315, 'Latitude': 30.71728089}, {'Longitude': -90.13201749, 'Latitude': 30.69527405}, {'Longitude': -90.10082051, 'Latitude': 29.70587294}]}}]}}}\n",
              " Temporal coverage: {'RangeDateTime': {'BeginningDateTime': '2023-09-01T16:32:03.072Z', 'EndingDateTime': '2023-09-01T16:32:03.072Z'}}\n",
              " Size(MB): 173.69086074829102\n",
              " Data: ['https://data.lpdaac.earthdatacloud.nasa.gov/lp-prod-protected/HLSL30.020/HLS.L30.T16RBU.2023244T163203.v2.0/HLS.L30.T16RBU.2023244T163203.v2.0.B11.tif', 'https://data.lpdaac.earthdatacloud.nasa.gov/lp-prod-protected/HLSL30.020/HLS.L30.T16RBU.2023244T163203.v2.0/HLS.L30.T16RBU.2023244T163203.v2.0.B01.tif', 'https://data.lpdaac.earthdatacloud.nasa.gov/lp-prod-protected/HLSL30.020/HLS.L30.T16RBU.2023244T163203.v2.0/HLS.L30.T16RBU.2023244T163203.v2.0.B03.tif', 'https://data.lpdaac.earthdatacloud.nasa.gov/lp-prod-protected/HLSL30.020/HLS.L30.T16RBU.2023244T163203.v2.0/HLS.L30.T16RBU.2023244T163203.v2.0.B02.tif', 'https://data.lpdaac.earthdatacloud.nasa.gov/lp-prod-protected/HLSL30.020/HLS.L30.T16RBU.2023244T163203.v2.0/HLS.L30.T16RBU.2023244T163203.v2.0.SZA.tif', 'https://data.lpdaac.earthdatacloud.nasa.gov/lp-prod-protected/HLSL30.020/HLS.L30.T16RBU.2023244T163203.v2.0/HLS.L30.T16RBU.2023244T163203.v2.0.B05.tif', 'https://data.lpdaac.earthdatacloud.nasa.gov/lp-prod-protected/HLSL30.020/HLS.L30.T16RBU.2023244T163203.v2.0/HLS.L30.T16RBU.2023244T163203.v2.0.VAA.tif', 'https://data.lpdaac.earthdatacloud.nasa.gov/lp-prod-protected/HLSL30.020/HLS.L30.T16RBU.2023244T163203.v2.0/HLS.L30.T16RBU.2023244T163203.v2.0.B04.tif', 'https://data.lpdaac.earthdatacloud.nasa.gov/lp-prod-protected/HLSL30.020/HLS.L30.T16RBU.2023244T163203.v2.0/HLS.L30.T16RBU.2023244T163203.v2.0.SAA.tif', 'https://data.lpdaac.earthdatacloud.nasa.gov/lp-prod-protected/HLSL30.020/HLS.L30.T16RBU.2023244T163203.v2.0/HLS.L30.T16RBU.2023244T163203.v2.0.Fmask.tif', 'https://data.lpdaac.earthdatacloud.nasa.gov/lp-prod-protected/HLSL30.020/HLS.L30.T16RBU.2023244T163203.v2.0/HLS.L30.T16RBU.2023244T163203.v2.0.B09.tif', 'https://data.lpdaac.earthdatacloud.nasa.gov/lp-prod-protected/HLSL30.020/HLS.L30.T16RBU.2023244T163203.v2.0/HLS.L30.T16RBU.2023244T163203.v2.0.B10.tif', 'https://data.lpdaac.earthdatacloud.nasa.gov/lp-prod-protected/HLSL30.020/HLS.L30.T16RBU.2023244T163203.v2.0/HLS.L30.T16RBU.2023244T163203.v2.0.B06.tif', 'https://data.lpdaac.earthdatacloud.nasa.gov/lp-prod-protected/HLSL30.020/HLS.L30.T16RBU.2023244T163203.v2.0/HLS.L30.T16RBU.2023244T163203.v2.0.B07.tif', 'https://data.lpdaac.earthdatacloud.nasa.gov/lp-prod-protected/HLSL30.020/HLS.L30.T16RBU.2023244T163203.v2.0/HLS.L30.T16RBU.2023244T163203.v2.0.VZA.tif'],\n",
              " Collection: {'EntryTitle': 'HLS Landsat Operational Land Imager Surface Reflectance and TOA Brightness Daily Global 30m v2.0'}\n",
              " Spatial coverage: {'HorizontalSpatialDomain': {'Geometry': {'GPolygons': [{'Boundary': {'Points': [{'Longitude': -90.07372506, 'Latitude': 28.80444525}, {'Longitude': -89.53880981, 'Latitude': 28.81611576}, {'Longitude': -89.27155898, 'Latitude': 29.81093616}, {'Longitude': -90.10353675, 'Latitude': 29.79400715}, {'Longitude': -90.07372506, 'Latitude': 28.80444525}]}}]}}}\n",
              " Temporal coverage: {'RangeDateTime': {'BeginningDateTime': '2023-09-01T16:32:03.072Z', 'EndingDateTime': '2023-09-01T16:32:26.963Z'}}\n",
              " Size(MB): 111.55999374389648\n",
              " Data: ['https://data.lpdaac.earthdatacloud.nasa.gov/lp-prod-protected/HLSL30.020/HLS.L30.T16RBT.2023244T163203.v2.0/HLS.L30.T16RBT.2023244T163203.v2.0.B01.tif', 'https://data.lpdaac.earthdatacloud.nasa.gov/lp-prod-protected/HLSL30.020/HLS.L30.T16RBT.2023244T163203.v2.0/HLS.L30.T16RBT.2023244T163203.v2.0.B03.tif', 'https://data.lpdaac.earthdatacloud.nasa.gov/lp-prod-protected/HLSL30.020/HLS.L30.T16RBT.2023244T163203.v2.0/HLS.L30.T16RBT.2023244T163203.v2.0.B06.tif', 'https://data.lpdaac.earthdatacloud.nasa.gov/lp-prod-protected/HLSL30.020/HLS.L30.T16RBT.2023244T163203.v2.0/HLS.L30.T16RBT.2023244T163203.v2.0.SAA.tif', 'https://data.lpdaac.earthdatacloud.nasa.gov/lp-prod-protected/HLSL30.020/HLS.L30.T16RBT.2023244T163203.v2.0/HLS.L30.T16RBT.2023244T163203.v2.0.SZA.tif', 'https://data.lpdaac.earthdatacloud.nasa.gov/lp-prod-protected/HLSL30.020/HLS.L30.T16RBT.2023244T163203.v2.0/HLS.L30.T16RBT.2023244T163203.v2.0.B09.tif', 'https://data.lpdaac.earthdatacloud.nasa.gov/lp-prod-protected/HLSL30.020/HLS.L30.T16RBT.2023244T163203.v2.0/HLS.L30.T16RBT.2023244T163203.v2.0.B05.tif', 'https://data.lpdaac.earthdatacloud.nasa.gov/lp-prod-protected/HLSL30.020/HLS.L30.T16RBT.2023244T163203.v2.0/HLS.L30.T16RBT.2023244T163203.v2.0.Fmask.tif', 'https://data.lpdaac.earthdatacloud.nasa.gov/lp-prod-protected/HLSL30.020/HLS.L30.T16RBT.2023244T163203.v2.0/HLS.L30.T16RBT.2023244T163203.v2.0.VAA.tif', 'https://data.lpdaac.earthdatacloud.nasa.gov/lp-prod-protected/HLSL30.020/HLS.L30.T16RBT.2023244T163203.v2.0/HLS.L30.T16RBT.2023244T163203.v2.0.B02.tif', 'https://data.lpdaac.earthdatacloud.nasa.gov/lp-prod-protected/HLSL30.020/HLS.L30.T16RBT.2023244T163203.v2.0/HLS.L30.T16RBT.2023244T163203.v2.0.B04.tif', 'https://data.lpdaac.earthdatacloud.nasa.gov/lp-prod-protected/HLSL30.020/HLS.L30.T16RBT.2023244T163203.v2.0/HLS.L30.T16RBT.2023244T163203.v2.0.VZA.tif', 'https://data.lpdaac.earthdatacloud.nasa.gov/lp-prod-protected/HLSL30.020/HLS.L30.T16RBT.2023244T163203.v2.0/HLS.L30.T16RBT.2023244T163203.v2.0.B11.tif', 'https://data.lpdaac.earthdatacloud.nasa.gov/lp-prod-protected/HLSL30.020/HLS.L30.T16RBT.2023244T163203.v2.0/HLS.L30.T16RBT.2023244T163203.v2.0.B10.tif', 'https://data.lpdaac.earthdatacloud.nasa.gov/lp-prod-protected/HLSL30.020/HLS.L30.T16RBT.2023244T163203.v2.0/HLS.L30.T16RBT.2023244T163203.v2.0.B07.tif'],\n",
              " Collection: {'EntryTitle': 'HLS Landsat Operational Land Imager Surface Reflectance and TOA Brightness Daily Global 30m v2.0'}\n",
              " Spatial coverage: {'HorizontalSpatialDomain': {'Geometry': {'GPolygons': [{'Boundary': {'Points': [{'Longitude': -89.82661214, 'Latitude': 28.80213717}, {'Longitude': -89.79583778, 'Latitude': 29.79160422}, {'Longitude': -90.93082361, 'Latitude': 29.81426153}, {'Longitude': -90.95072084, 'Latitude': 28.82389994}, {'Longitude': -89.82661214, 'Latitude': 28.80213717}]}}]}}}\n",
              " Temporal coverage: {'RangeDateTime': {'BeginningDateTime': '2023-09-01T16:32:03.072Z', 'EndingDateTime': '2023-09-01T16:32:26.963Z'}}\n",
              " Size(MB): 194.4248399734497\n",
              " Data: ['https://data.lpdaac.earthdatacloud.nasa.gov/lp-prod-protected/HLSL30.020/HLS.L30.T15RYN.2023244T163203.v2.0/HLS.L30.T15RYN.2023244T163203.v2.0.B04.tif', 'https://data.lpdaac.earthdatacloud.nasa.gov/lp-prod-protected/HLSL30.020/HLS.L30.T15RYN.2023244T163203.v2.0/HLS.L30.T15RYN.2023244T163203.v2.0.Fmask.tif', 'https://data.lpdaac.earthdatacloud.nasa.gov/lp-prod-protected/HLSL30.020/HLS.L30.T15RYN.2023244T163203.v2.0/HLS.L30.T15RYN.2023244T163203.v2.0.B09.tif', 'https://data.lpdaac.earthdatacloud.nasa.gov/lp-prod-protected/HLSL30.020/HLS.L30.T15RYN.2023244T163203.v2.0/HLS.L30.T15RYN.2023244T163203.v2.0.B03.tif', 'https://data.lpdaac.earthdatacloud.nasa.gov/lp-prod-protected/HLSL30.020/HLS.L30.T15RYN.2023244T163203.v2.0/HLS.L30.T15RYN.2023244T163203.v2.0.B02.tif', 'https://data.lpdaac.earthdatacloud.nasa.gov/lp-prod-protected/HLSL30.020/HLS.L30.T15RYN.2023244T163203.v2.0/HLS.L30.T15RYN.2023244T163203.v2.0.B10.tif', 'https://data.lpdaac.earthdatacloud.nasa.gov/lp-prod-protected/HLSL30.020/HLS.L30.T15RYN.2023244T163203.v2.0/HLS.L30.T15RYN.2023244T163203.v2.0.B07.tif', 'https://data.lpdaac.earthdatacloud.nasa.gov/lp-prod-protected/HLSL30.020/HLS.L30.T15RYN.2023244T163203.v2.0/HLS.L30.T15RYN.2023244T163203.v2.0.B05.tif', 'https://data.lpdaac.earthdatacloud.nasa.gov/lp-prod-protected/HLSL30.020/HLS.L30.T15RYN.2023244T163203.v2.0/HLS.L30.T15RYN.2023244T163203.v2.0.B01.tif', 'https://data.lpdaac.earthdatacloud.nasa.gov/lp-prod-protected/HLSL30.020/HLS.L30.T15RYN.2023244T163203.v2.0/HLS.L30.T15RYN.2023244T163203.v2.0.B06.tif', 'https://data.lpdaac.earthdatacloud.nasa.gov/lp-prod-protected/HLSL30.020/HLS.L30.T15RYN.2023244T163203.v2.0/HLS.L30.T15RYN.2023244T163203.v2.0.SAA.tif', 'https://data.lpdaac.earthdatacloud.nasa.gov/lp-prod-protected/HLSL30.020/HLS.L30.T15RYN.2023244T163203.v2.0/HLS.L30.T15RYN.2023244T163203.v2.0.VAA.tif', 'https://data.lpdaac.earthdatacloud.nasa.gov/lp-prod-protected/HLSL30.020/HLS.L30.T15RYN.2023244T163203.v2.0/HLS.L30.T15RYN.2023244T163203.v2.0.VZA.tif', 'https://data.lpdaac.earthdatacloud.nasa.gov/lp-prod-protected/HLSL30.020/HLS.L30.T15RYN.2023244T163203.v2.0/HLS.L30.T15RYN.2023244T163203.v2.0.B11.tif', 'https://data.lpdaac.earthdatacloud.nasa.gov/lp-prod-protected/HLSL30.020/HLS.L30.T15RYN.2023244T163203.v2.0/HLS.L30.T15RYN.2023244T163203.v2.0.SZA.tif'],\n",
              " Collection: {'EntryTitle': 'HLS Landsat Operational Land Imager Surface Reflectance and TOA Brightness Daily Global 30m v2.0'}\n",
              " Spatial coverage: {'HorizontalSpatialDomain': {'Geometry': {'GPolygons': [{'Boundary': {'Points': [{'Longitude': -90.10082051, 'Latitude': 29.70587294}, {'Longitude': -89.28445256, 'Latitude': 29.72275644}, {'Longitude': -89.01345352, 'Latitude': 30.71745139}, {'Longitude': -90.13201749, 'Latitude': 30.69527405}, {'Longitude': -90.10082051, 'Latitude': 29.70587294}]}}]}}}\n",
              " Temporal coverage: {'RangeDateTime': {'BeginningDateTime': '2023-09-09T16:32:06.260Z', 'EndingDateTime': '2023-09-09T16:32:06.260Z'}}\n",
              " Size(MB): 137.82704544067383\n",
              " Data: ['https://data.lpdaac.earthdatacloud.nasa.gov/lp-prod-protected/HLSL30.020/HLS.L30.T16RBU.2023252T163206.v2.0/HLS.L30.T16RBU.2023252T163206.v2.0.B04.tif', 'https://data.lpdaac.earthdatacloud.nasa.gov/lp-prod-protected/HLSL30.020/HLS.L30.T16RBU.2023252T163206.v2.0/HLS.L30.T16RBU.2023252T163206.v2.0.B06.tif', 'https://data.lpdaac.earthdatacloud.nasa.gov/lp-prod-protected/HLSL30.020/HLS.L30.T16RBU.2023252T163206.v2.0/HLS.L30.T16RBU.2023252T163206.v2.0.B03.tif', 'https://data.lpdaac.earthdatacloud.nasa.gov/lp-prod-protected/HLSL30.020/HLS.L30.T16RBU.2023252T163206.v2.0/HLS.L30.T16RBU.2023252T163206.v2.0.SAA.tif', 'https://data.lpdaac.earthdatacloud.nasa.gov/lp-prod-protected/HLSL30.020/HLS.L30.T16RBU.2023252T163206.v2.0/HLS.L30.T16RBU.2023252T163206.v2.0.Fmask.tif', 'https://data.lpdaac.earthdatacloud.nasa.gov/lp-prod-protected/HLSL30.020/HLS.L30.T16RBU.2023252T163206.v2.0/HLS.L30.T16RBU.2023252T163206.v2.0.B07.tif', 'https://data.lpdaac.earthdatacloud.nasa.gov/lp-prod-protected/HLSL30.020/HLS.L30.T16RBU.2023252T163206.v2.0/HLS.L30.T16RBU.2023252T163206.v2.0.B02.tif', 'https://data.lpdaac.earthdatacloud.nasa.gov/lp-prod-protected/HLSL30.020/HLS.L30.T16RBU.2023252T163206.v2.0/HLS.L30.T16RBU.2023252T163206.v2.0.SZA.tif', 'https://data.lpdaac.earthdatacloud.nasa.gov/lp-prod-protected/HLSL30.020/HLS.L30.T16RBU.2023252T163206.v2.0/HLS.L30.T16RBU.2023252T163206.v2.0.B05.tif', 'https://data.lpdaac.earthdatacloud.nasa.gov/lp-prod-protected/HLSL30.020/HLS.L30.T16RBU.2023252T163206.v2.0/HLS.L30.T16RBU.2023252T163206.v2.0.B11.tif', 'https://data.lpdaac.earthdatacloud.nasa.gov/lp-prod-protected/HLSL30.020/HLS.L30.T16RBU.2023252T163206.v2.0/HLS.L30.T16RBU.2023252T163206.v2.0.B09.tif', 'https://data.lpdaac.earthdatacloud.nasa.gov/lp-prod-protected/HLSL30.020/HLS.L30.T16RBU.2023252T163206.v2.0/HLS.L30.T16RBU.2023252T163206.v2.0.B10.tif', 'https://data.lpdaac.earthdatacloud.nasa.gov/lp-prod-protected/HLSL30.020/HLS.L30.T16RBU.2023252T163206.v2.0/HLS.L30.T16RBU.2023252T163206.v2.0.VAA.tif', 'https://data.lpdaac.earthdatacloud.nasa.gov/lp-prod-protected/HLSL30.020/HLS.L30.T16RBU.2023252T163206.v2.0/HLS.L30.T16RBU.2023252T163206.v2.0.VZA.tif', 'https://data.lpdaac.earthdatacloud.nasa.gov/lp-prod-protected/HLSL30.020/HLS.L30.T16RBU.2023252T163206.v2.0/HLS.L30.T16RBU.2023252T163206.v2.0.B01.tif'],\n",
              " Collection: {'EntryTitle': 'HLS Landsat Operational Land Imager Surface Reflectance and TOA Brightness Daily Global 30m v2.0'}\n",
              " Spatial coverage: {'HorizontalSpatialDomain': {'Geometry': {'GPolygons': [{'Boundary': {'Points': [{'Longitude': -89.79864173, 'Latitude': 29.70347853}, {'Longitude': -89.76643746, 'Latitude': 30.69278312}, {'Longitude': -90.91181412, 'Latitude': 30.71627038}, {'Longitude': -90.93263654, 'Latitude': 29.72605548}, {'Longitude': -89.79864173, 'Latitude': 29.70347853}]}}]}}}\n",
              " Temporal coverage: {'RangeDateTime': {'BeginningDateTime': '2023-09-09T16:32:06.260Z', 'EndingDateTime': '2023-09-09T16:32:06.260Z'}}\n",
              " Size(MB): 167.48340797424316\n",
              " Data: ['https://data.lpdaac.earthdatacloud.nasa.gov/lp-prod-protected/HLSL30.020/HLS.L30.T15RYP.2023252T163206.v2.0/HLS.L30.T15RYP.2023252T163206.v2.0.B03.tif', 'https://data.lpdaac.earthdatacloud.nasa.gov/lp-prod-protected/HLSL30.020/HLS.L30.T15RYP.2023252T163206.v2.0/HLS.L30.T15RYP.2023252T163206.v2.0.B01.tif', 'https://data.lpdaac.earthdatacloud.nasa.gov/lp-prod-protected/HLSL30.020/HLS.L30.T15RYP.2023252T163206.v2.0/HLS.L30.T15RYP.2023252T163206.v2.0.Fmask.tif', 'https://data.lpdaac.earthdatacloud.nasa.gov/lp-prod-protected/HLSL30.020/HLS.L30.T15RYP.2023252T163206.v2.0/HLS.L30.T15RYP.2023252T163206.v2.0.B10.tif', 'https://data.lpdaac.earthdatacloud.nasa.gov/lp-prod-protected/HLSL30.020/HLS.L30.T15RYP.2023252T163206.v2.0/HLS.L30.T15RYP.2023252T163206.v2.0.B02.tif', 'https://data.lpdaac.earthdatacloud.nasa.gov/lp-prod-protected/HLSL30.020/HLS.L30.T15RYP.2023252T163206.v2.0/HLS.L30.T15RYP.2023252T163206.v2.0.B09.tif', 'https://data.lpdaac.earthdatacloud.nasa.gov/lp-prod-protected/HLSL30.020/HLS.L30.T15RYP.2023252T163206.v2.0/HLS.L30.T15RYP.2023252T163206.v2.0.SZA.tif', 'https://data.lpdaac.earthdatacloud.nasa.gov/lp-prod-protected/HLSL30.020/HLS.L30.T15RYP.2023252T163206.v2.0/HLS.L30.T15RYP.2023252T163206.v2.0.VAA.tif', 'https://data.lpdaac.earthdatacloud.nasa.gov/lp-prod-protected/HLSL30.020/HLS.L30.T15RYP.2023252T163206.v2.0/HLS.L30.T15RYP.2023252T163206.v2.0.VZA.tif', 'https://data.lpdaac.earthdatacloud.nasa.gov/lp-prod-protected/HLSL30.020/HLS.L30.T15RYP.2023252T163206.v2.0/HLS.L30.T15RYP.2023252T163206.v2.0.B06.tif', 'https://data.lpdaac.earthdatacloud.nasa.gov/lp-prod-protected/HLSL30.020/HLS.L30.T15RYP.2023252T163206.v2.0/HLS.L30.T15RYP.2023252T163206.v2.0.B05.tif', 'https://data.lpdaac.earthdatacloud.nasa.gov/lp-prod-protected/HLSL30.020/HLS.L30.T15RYP.2023252T163206.v2.0/HLS.L30.T15RYP.2023252T163206.v2.0.B11.tif', 'https://data.lpdaac.earthdatacloud.nasa.gov/lp-prod-protected/HLSL30.020/HLS.L30.T15RYP.2023252T163206.v2.0/HLS.L30.T15RYP.2023252T163206.v2.0.B07.tif', 'https://data.lpdaac.earthdatacloud.nasa.gov/lp-prod-protected/HLSL30.020/HLS.L30.T15RYP.2023252T163206.v2.0/HLS.L30.T15RYP.2023252T163206.v2.0.SAA.tif', 'https://data.lpdaac.earthdatacloud.nasa.gov/lp-prod-protected/HLSL30.020/HLS.L30.T15RYP.2023252T163206.v2.0/HLS.L30.T15RYP.2023252T163206.v2.0.B04.tif'],\n",
              " Collection: {'EntryTitle': 'HLS Landsat Operational Land Imager Surface Reflectance and TOA Brightness Daily Global 30m v2.0'}\n",
              " Spatial coverage: {'HorizontalSpatialDomain': {'Geometry': {'GPolygons': [{'Boundary': {'Points': [{'Longitude': -89.82661214, 'Latitude': 28.80213717}, {'Longitude': -89.79583778, 'Latitude': 29.79160422}, {'Longitude': -90.93082361, 'Latitude': 29.81426153}, {'Longitude': -90.95072084, 'Latitude': 28.82389994}, {'Longitude': -89.82661214, 'Latitude': 28.80213717}]}}]}}}\n",
              " Temporal coverage: {'RangeDateTime': {'BeginningDateTime': '2023-09-09T16:32:06.260Z', 'EndingDateTime': '2023-09-09T16:32:30.152Z'}}\n",
              " Size(MB): 149.58776378631592\n",
              " Data: ['https://data.lpdaac.earthdatacloud.nasa.gov/lp-prod-protected/HLSL30.020/HLS.L30.T15RYN.2023252T163206.v2.0/HLS.L30.T15RYN.2023252T163206.v2.0.B10.tif', 'https://data.lpdaac.earthdatacloud.nasa.gov/lp-prod-protected/HLSL30.020/HLS.L30.T15RYN.2023252T163206.v2.0/HLS.L30.T15RYN.2023252T163206.v2.0.VZA.tif', 'https://data.lpdaac.earthdatacloud.nasa.gov/lp-prod-protected/HLSL30.020/HLS.L30.T15RYN.2023252T163206.v2.0/HLS.L30.T15RYN.2023252T163206.v2.0.SZA.tif', 'https://data.lpdaac.earthdatacloud.nasa.gov/lp-prod-protected/HLSL30.020/HLS.L30.T15RYN.2023252T163206.v2.0/HLS.L30.T15RYN.2023252T163206.v2.0.SAA.tif', 'https://data.lpdaac.earthdatacloud.nasa.gov/lp-prod-protected/HLSL30.020/HLS.L30.T15RYN.2023252T163206.v2.0/HLS.L30.T15RYN.2023252T163206.v2.0.B05.tif', 'https://data.lpdaac.earthdatacloud.nasa.gov/lp-prod-protected/HLSL30.020/HLS.L30.T15RYN.2023252T163206.v2.0/HLS.L30.T15RYN.2023252T163206.v2.0.VAA.tif', 'https://data.lpdaac.earthdatacloud.nasa.gov/lp-prod-protected/HLSL30.020/HLS.L30.T15RYN.2023252T163206.v2.0/HLS.L30.T15RYN.2023252T163206.v2.0.B02.tif', 'https://data.lpdaac.earthdatacloud.nasa.gov/lp-prod-protected/HLSL30.020/HLS.L30.T15RYN.2023252T163206.v2.0/HLS.L30.T15RYN.2023252T163206.v2.0.B04.tif', 'https://data.lpdaac.earthdatacloud.nasa.gov/lp-prod-protected/HLSL30.020/HLS.L30.T15RYN.2023252T163206.v2.0/HLS.L30.T15RYN.2023252T163206.v2.0.B07.tif', 'https://data.lpdaac.earthdatacloud.nasa.gov/lp-prod-protected/HLSL30.020/HLS.L30.T15RYN.2023252T163206.v2.0/HLS.L30.T15RYN.2023252T163206.v2.0.B06.tif', 'https://data.lpdaac.earthdatacloud.nasa.gov/lp-prod-protected/HLSL30.020/HLS.L30.T15RYN.2023252T163206.v2.0/HLS.L30.T15RYN.2023252T163206.v2.0.B01.tif', 'https://data.lpdaac.earthdatacloud.nasa.gov/lp-prod-protected/HLSL30.020/HLS.L30.T15RYN.2023252T163206.v2.0/HLS.L30.T15RYN.2023252T163206.v2.0.B11.tif', 'https://data.lpdaac.earthdatacloud.nasa.gov/lp-prod-protected/HLSL30.020/HLS.L30.T15RYN.2023252T163206.v2.0/HLS.L30.T15RYN.2023252T163206.v2.0.Fmask.tif', 'https://data.lpdaac.earthdatacloud.nasa.gov/lp-prod-protected/HLSL30.020/HLS.L30.T15RYN.2023252T163206.v2.0/HLS.L30.T15RYN.2023252T163206.v2.0.B03.tif', 'https://data.lpdaac.earthdatacloud.nasa.gov/lp-prod-protected/HLSL30.020/HLS.L30.T15RYN.2023252T163206.v2.0/HLS.L30.T15RYN.2023252T163206.v2.0.B09.tif'],\n",
              " Collection: {'EntryTitle': 'HLS Landsat Operational Land Imager Surface Reflectance and TOA Brightness Daily Global 30m v2.0'}\n",
              " Spatial coverage: {'HorizontalSpatialDomain': {'Geometry': {'GPolygons': [{'Boundary': {'Points': [{'Longitude': -90.07372506, 'Latitude': 28.80444525}, {'Longitude': -89.52835314, 'Latitude': 28.81577088}, {'Longitude': -89.26070131, 'Latitude': 29.81112244}, {'Longitude': -90.10353675, 'Latitude': 29.79400715}, {'Longitude': -90.07372506, 'Latitude': 28.80444525}]}}]}}}\n",
              " Temporal coverage: {'RangeDateTime': {'BeginningDateTime': '2023-09-09T16:32:06.260Z', 'EndingDateTime': '2023-09-09T16:32:30.152Z'}}\n",
              " Size(MB): 91.62966060638428\n",
              " Data: ['https://data.lpdaac.earthdatacloud.nasa.gov/lp-prod-protected/HLSL30.020/HLS.L30.T16RBT.2023252T163206.v2.0/HLS.L30.T16RBT.2023252T163206.v2.0.B09.tif', 'https://data.lpdaac.earthdatacloud.nasa.gov/lp-prod-protected/HLSL30.020/HLS.L30.T16RBT.2023252T163206.v2.0/HLS.L30.T16RBT.2023252T163206.v2.0.B03.tif', 'https://data.lpdaac.earthdatacloud.nasa.gov/lp-prod-protected/HLSL30.020/HLS.L30.T16RBT.2023252T163206.v2.0/HLS.L30.T16RBT.2023252T163206.v2.0.B06.tif', 'https://data.lpdaac.earthdatacloud.nasa.gov/lp-prod-protected/HLSL30.020/HLS.L30.T16RBT.2023252T163206.v2.0/HLS.L30.T16RBT.2023252T163206.v2.0.VZA.tif', 'https://data.lpdaac.earthdatacloud.nasa.gov/lp-prod-protected/HLSL30.020/HLS.L30.T16RBT.2023252T163206.v2.0/HLS.L30.T16RBT.2023252T163206.v2.0.SZA.tif', 'https://data.lpdaac.earthdatacloud.nasa.gov/lp-prod-protected/HLSL30.020/HLS.L30.T16RBT.2023252T163206.v2.0/HLS.L30.T16RBT.2023252T163206.v2.0.B10.tif', 'https://data.lpdaac.earthdatacloud.nasa.gov/lp-prod-protected/HLSL30.020/HLS.L30.T16RBT.2023252T163206.v2.0/HLS.L30.T16RBT.2023252T163206.v2.0.B02.tif', 'https://data.lpdaac.earthdatacloud.nasa.gov/lp-prod-protected/HLSL30.020/HLS.L30.T16RBT.2023252T163206.v2.0/HLS.L30.T16RBT.2023252T163206.v2.0.B07.tif', 'https://data.lpdaac.earthdatacloud.nasa.gov/lp-prod-protected/HLSL30.020/HLS.L30.T16RBT.2023252T163206.v2.0/HLS.L30.T16RBT.2023252T163206.v2.0.SAA.tif', 'https://data.lpdaac.earthdatacloud.nasa.gov/lp-prod-protected/HLSL30.020/HLS.L30.T16RBT.2023252T163206.v2.0/HLS.L30.T16RBT.2023252T163206.v2.0.Fmask.tif', 'https://data.lpdaac.earthdatacloud.nasa.gov/lp-prod-protected/HLSL30.020/HLS.L30.T16RBT.2023252T163206.v2.0/HLS.L30.T16RBT.2023252T163206.v2.0.B01.tif', 'https://data.lpdaac.earthdatacloud.nasa.gov/lp-prod-protected/HLSL30.020/HLS.L30.T16RBT.2023252T163206.v2.0/HLS.L30.T16RBT.2023252T163206.v2.0.B11.tif', 'https://data.lpdaac.earthdatacloud.nasa.gov/lp-prod-protected/HLSL30.020/HLS.L30.T16RBT.2023252T163206.v2.0/HLS.L30.T16RBT.2023252T163206.v2.0.VAA.tif', 'https://data.lpdaac.earthdatacloud.nasa.gov/lp-prod-protected/HLSL30.020/HLS.L30.T16RBT.2023252T163206.v2.0/HLS.L30.T16RBT.2023252T163206.v2.0.B05.tif', 'https://data.lpdaac.earthdatacloud.nasa.gov/lp-prod-protected/HLSL30.020/HLS.L30.T16RBT.2023252T163206.v2.0/HLS.L30.T16RBT.2023252T163206.v2.0.B04.tif'],\n",
              " Collection: {'EntryTitle': 'HLS Landsat Operational Land Imager Surface Reflectance and TOA Brightness Daily Global 30m v2.0'}\n",
              " Spatial coverage: {'HorizontalSpatialDomain': {'Geometry': {'GPolygons': [{'Boundary': {'Points': [{'Longitude': -90.10082051, 'Latitude': 29.70587294}, {'Longitude': -89.30490864, 'Latitude': 29.7224017}, {'Longitude': -89.03380705, 'Latitude': 30.71713401}, {'Longitude': -90.13201749, 'Latitude': 30.69527405}, {'Longitude': -90.10082051, 'Latitude': 29.70587294}]}}]}}}\n",
              " Temporal coverage: {'RangeDateTime': {'BeginningDateTime': '2023-09-17T16:32:11.040Z', 'EndingDateTime': '2023-09-17T16:32:11.040Z'}}\n",
              " Size(MB): 144.68057537078857\n",
              " Data: ['https://data.lpdaac.earthdatacloud.nasa.gov/lp-prod-protected/HLSL30.020/HLS.L30.T16RBU.2023260T163211.v2.0/HLS.L30.T16RBU.2023260T163211.v2.0.B09.tif', 'https://data.lpdaac.earthdatacloud.nasa.gov/lp-prod-protected/HLSL30.020/HLS.L30.T16RBU.2023260T163211.v2.0/HLS.L30.T16RBU.2023260T163211.v2.0.SZA.tif', 'https://data.lpdaac.earthdatacloud.nasa.gov/lp-prod-protected/HLSL30.020/HLS.L30.T16RBU.2023260T163211.v2.0/HLS.L30.T16RBU.2023260T163211.v2.0.B03.tif', 'https://data.lpdaac.earthdatacloud.nasa.gov/lp-prod-protected/HLSL30.020/HLS.L30.T16RBU.2023260T163211.v2.0/HLS.L30.T16RBU.2023260T163211.v2.0.B02.tif', 'https://data.lpdaac.earthdatacloud.nasa.gov/lp-prod-protected/HLSL30.020/HLS.L30.T16RBU.2023260T163211.v2.0/HLS.L30.T16RBU.2023260T163211.v2.0.B11.tif', 'https://data.lpdaac.earthdatacloud.nasa.gov/lp-prod-protected/HLSL30.020/HLS.L30.T16RBU.2023260T163211.v2.0/HLS.L30.T16RBU.2023260T163211.v2.0.VAA.tif', 'https://data.lpdaac.earthdatacloud.nasa.gov/lp-prod-protected/HLSL30.020/HLS.L30.T16RBU.2023260T163211.v2.0/HLS.L30.T16RBU.2023260T163211.v2.0.Fmask.tif', 'https://data.lpdaac.earthdatacloud.nasa.gov/lp-prod-protected/HLSL30.020/HLS.L30.T16RBU.2023260T163211.v2.0/HLS.L30.T16RBU.2023260T163211.v2.0.SAA.tif', 'https://data.lpdaac.earthdatacloud.nasa.gov/lp-prod-protected/HLSL30.020/HLS.L30.T16RBU.2023260T163211.v2.0/HLS.L30.T16RBU.2023260T163211.v2.0.B06.tif', 'https://data.lpdaac.earthdatacloud.nasa.gov/lp-prod-protected/HLSL30.020/HLS.L30.T16RBU.2023260T163211.v2.0/HLS.L30.T16RBU.2023260T163211.v2.0.B05.tif', 'https://data.lpdaac.earthdatacloud.nasa.gov/lp-prod-protected/HLSL30.020/HLS.L30.T16RBU.2023260T163211.v2.0/HLS.L30.T16RBU.2023260T163211.v2.0.B10.tif', 'https://data.lpdaac.earthdatacloud.nasa.gov/lp-prod-protected/HLSL30.020/HLS.L30.T16RBU.2023260T163211.v2.0/HLS.L30.T16RBU.2023260T163211.v2.0.B07.tif', 'https://data.lpdaac.earthdatacloud.nasa.gov/lp-prod-protected/HLSL30.020/HLS.L30.T16RBU.2023260T163211.v2.0/HLS.L30.T16RBU.2023260T163211.v2.0.VZA.tif', 'https://data.lpdaac.earthdatacloud.nasa.gov/lp-prod-protected/HLSL30.020/HLS.L30.T16RBU.2023260T163211.v2.0/HLS.L30.T16RBU.2023260T163211.v2.0.B04.tif', 'https://data.lpdaac.earthdatacloud.nasa.gov/lp-prod-protected/HLSL30.020/HLS.L30.T16RBU.2023260T163211.v2.0/HLS.L30.T16RBU.2023260T163211.v2.0.B01.tif'],\n",
              " Collection: {'EntryTitle': 'HLS Landsat Operational Land Imager Surface Reflectance and TOA Brightness Daily Global 30m v2.0'}\n",
              " Spatial coverage: {'HorizontalSpatialDomain': {'Geometry': {'GPolygons': [{'Boundary': {'Points': [{'Longitude': -89.79864173, 'Latitude': 29.70347853}, {'Longitude': -89.76643746, 'Latitude': 30.69278312}, {'Longitude': -90.91181412, 'Latitude': 30.71627038}, {'Longitude': -90.93263654, 'Latitude': 29.72605548}, {'Longitude': -89.79864173, 'Latitude': 29.70347853}]}}]}}}\n",
              " Temporal coverage: {'RangeDateTime': {'BeginningDateTime': '2023-09-17T16:32:11.040Z', 'EndingDateTime': '2023-09-17T16:32:11.040Z'}}\n",
              " Size(MB): 177.45374488830566\n",
              " Data: ['https://data.lpdaac.earthdatacloud.nasa.gov/lp-prod-protected/HLSL30.020/HLS.L30.T15RYP.2023260T163211.v2.0/HLS.L30.T15RYP.2023260T163211.v2.0.B02.tif', 'https://data.lpdaac.earthdatacloud.nasa.gov/lp-prod-protected/HLSL30.020/HLS.L30.T15RYP.2023260T163211.v2.0/HLS.L30.T15RYP.2023260T163211.v2.0.VZA.tif', 'https://data.lpdaac.earthdatacloud.nasa.gov/lp-prod-protected/HLSL30.020/HLS.L30.T15RYP.2023260T163211.v2.0/HLS.L30.T15RYP.2023260T163211.v2.0.Fmask.tif', 'https://data.lpdaac.earthdatacloud.nasa.gov/lp-prod-protected/HLSL30.020/HLS.L30.T15RYP.2023260T163211.v2.0/HLS.L30.T15RYP.2023260T163211.v2.0.B10.tif', 'https://data.lpdaac.earthdatacloud.nasa.gov/lp-prod-protected/HLSL30.020/HLS.L30.T15RYP.2023260T163211.v2.0/HLS.L30.T15RYP.2023260T163211.v2.0.SAA.tif', 'https://data.lpdaac.earthdatacloud.nasa.gov/lp-prod-protected/HLSL30.020/HLS.L30.T15RYP.2023260T163211.v2.0/HLS.L30.T15RYP.2023260T163211.v2.0.SZA.tif', 'https://data.lpdaac.earthdatacloud.nasa.gov/lp-prod-protected/HLSL30.020/HLS.L30.T15RYP.2023260T163211.v2.0/HLS.L30.T15RYP.2023260T163211.v2.0.B05.tif', 'https://data.lpdaac.earthdatacloud.nasa.gov/lp-prod-protected/HLSL30.020/HLS.L30.T15RYP.2023260T163211.v2.0/HLS.L30.T15RYP.2023260T163211.v2.0.B01.tif', 'https://data.lpdaac.earthdatacloud.nasa.gov/lp-prod-protected/HLSL30.020/HLS.L30.T15RYP.2023260T163211.v2.0/HLS.L30.T15RYP.2023260T163211.v2.0.B07.tif', 'https://data.lpdaac.earthdatacloud.nasa.gov/lp-prod-protected/HLSL30.020/HLS.L30.T15RYP.2023260T163211.v2.0/HLS.L30.T15RYP.2023260T163211.v2.0.B04.tif', 'https://data.lpdaac.earthdatacloud.nasa.gov/lp-prod-protected/HLSL30.020/HLS.L30.T15RYP.2023260T163211.v2.0/HLS.L30.T15RYP.2023260T163211.v2.0.B03.tif', 'https://data.lpdaac.earthdatacloud.nasa.gov/lp-prod-protected/HLSL30.020/HLS.L30.T15RYP.2023260T163211.v2.0/HLS.L30.T15RYP.2023260T163211.v2.0.VAA.tif', 'https://data.lpdaac.earthdatacloud.nasa.gov/lp-prod-protected/HLSL30.020/HLS.L30.T15RYP.2023260T163211.v2.0/HLS.L30.T15RYP.2023260T163211.v2.0.B09.tif', 'https://data.lpdaac.earthdatacloud.nasa.gov/lp-prod-protected/HLSL30.020/HLS.L30.T15RYP.2023260T163211.v2.0/HLS.L30.T15RYP.2023260T163211.v2.0.B11.tif', 'https://data.lpdaac.earthdatacloud.nasa.gov/lp-prod-protected/HLSL30.020/HLS.L30.T15RYP.2023260T163211.v2.0/HLS.L30.T15RYP.2023260T163211.v2.0.B06.tif'],\n",
              " Collection: {'EntryTitle': 'HLS Landsat Operational Land Imager Surface Reflectance and TOA Brightness Daily Global 30m v2.0'}\n",
              " Spatial coverage: {'HorizontalSpatialDomain': {'Geometry': {'GPolygons': [{'Boundary': {'Points': [{'Longitude': -90.07372506, 'Latitude': 28.80444525}, {'Longitude': -89.54893295, 'Latitude': 28.81538355}, {'Longitude': -89.28117569, 'Latitude': 29.81077043}, {'Longitude': -90.10353675, 'Latitude': 29.79400715}, {'Longitude': -90.07372506, 'Latitude': 28.80444525}]}}]}}}\n",
              " Temporal coverage: {'RangeDateTime': {'BeginningDateTime': '2023-09-17T16:32:11.040Z', 'EndingDateTime': '2023-09-17T16:32:34.931Z'}}\n",
              " Size(MB): 108.96715545654297\n",
              " Data: ['https://data.lpdaac.earthdatacloud.nasa.gov/lp-prod-protected/HLSL30.020/HLS.L30.T16RBT.2023260T163211.v2.0/HLS.L30.T16RBT.2023260T163211.v2.0.SZA.tif', 'https://data.lpdaac.earthdatacloud.nasa.gov/lp-prod-protected/HLSL30.020/HLS.L30.T16RBT.2023260T163211.v2.0/HLS.L30.T16RBT.2023260T163211.v2.0.Fmask.tif', 'https://data.lpdaac.earthdatacloud.nasa.gov/lp-prod-protected/HLSL30.020/HLS.L30.T16RBT.2023260T163211.v2.0/HLS.L30.T16RBT.2023260T163211.v2.0.B09.tif', 'https://data.lpdaac.earthdatacloud.nasa.gov/lp-prod-protected/HLSL30.020/HLS.L30.T16RBT.2023260T163211.v2.0/HLS.L30.T16RBT.2023260T163211.v2.0.SAA.tif', 'https://data.lpdaac.earthdatacloud.nasa.gov/lp-prod-protected/HLSL30.020/HLS.L30.T16RBT.2023260T163211.v2.0/HLS.L30.T16RBT.2023260T163211.v2.0.VZA.tif', 'https://data.lpdaac.earthdatacloud.nasa.gov/lp-prod-protected/HLSL30.020/HLS.L30.T16RBT.2023260T163211.v2.0/HLS.L30.T16RBT.2023260T163211.v2.0.VAA.tif', 'https://data.lpdaac.earthdatacloud.nasa.gov/lp-prod-protected/HLSL30.020/HLS.L30.T16RBT.2023260T163211.v2.0/HLS.L30.T16RBT.2023260T163211.v2.0.B01.tif', 'https://data.lpdaac.earthdatacloud.nasa.gov/lp-prod-protected/HLSL30.020/HLS.L30.T16RBT.2023260T163211.v2.0/HLS.L30.T16RBT.2023260T163211.v2.0.B03.tif', 'https://data.lpdaac.earthdatacloud.nasa.gov/lp-prod-protected/HLSL30.020/HLS.L30.T16RBT.2023260T163211.v2.0/HLS.L30.T16RBT.2023260T163211.v2.0.B02.tif', 'https://data.lpdaac.earthdatacloud.nasa.gov/lp-prod-protected/HLSL30.020/HLS.L30.T16RBT.2023260T163211.v2.0/HLS.L30.T16RBT.2023260T163211.v2.0.B05.tif', 'https://data.lpdaac.earthdatacloud.nasa.gov/lp-prod-protected/HLSL30.020/HLS.L30.T16RBT.2023260T163211.v2.0/HLS.L30.T16RBT.2023260T163211.v2.0.B11.tif', 'https://data.lpdaac.earthdatacloud.nasa.gov/lp-prod-protected/HLSL30.020/HLS.L30.T16RBT.2023260T163211.v2.0/HLS.L30.T16RBT.2023260T163211.v2.0.B07.tif', 'https://data.lpdaac.earthdatacloud.nasa.gov/lp-prod-protected/HLSL30.020/HLS.L30.T16RBT.2023260T163211.v2.0/HLS.L30.T16RBT.2023260T163211.v2.0.B04.tif', 'https://data.lpdaac.earthdatacloud.nasa.gov/lp-prod-protected/HLSL30.020/HLS.L30.T16RBT.2023260T163211.v2.0/HLS.L30.T16RBT.2023260T163211.v2.0.B06.tif', 'https://data.lpdaac.earthdatacloud.nasa.gov/lp-prod-protected/HLSL30.020/HLS.L30.T16RBT.2023260T163211.v2.0/HLS.L30.T16RBT.2023260T163211.v2.0.B10.tif'],\n",
              " Collection: {'EntryTitle': 'HLS Landsat Operational Land Imager Surface Reflectance and TOA Brightness Daily Global 30m v2.0'}\n",
              " Spatial coverage: {'HorizontalSpatialDomain': {'Geometry': {'GPolygons': [{'Boundary': {'Points': [{'Longitude': -89.82661214, 'Latitude': 28.80213717}, {'Longitude': -89.79583778, 'Latitude': 29.79160422}, {'Longitude': -90.93082361, 'Latitude': 29.81426153}, {'Longitude': -90.95072084, 'Latitude': 28.82389994}, {'Longitude': -89.82661214, 'Latitude': 28.80213717}]}}]}}}\n",
              " Temporal coverage: {'RangeDateTime': {'BeginningDateTime': '2023-09-17T16:32:11.040Z', 'EndingDateTime': '2023-09-17T16:32:34.931Z'}}\n",
              " Size(MB): 181.69821071624756\n",
              " Data: ['https://data.lpdaac.earthdatacloud.nasa.gov/lp-prod-protected/HLSL30.020/HLS.L30.T15RYN.2023260T163211.v2.0/HLS.L30.T15RYN.2023260T163211.v2.0.VAA.tif', 'https://data.lpdaac.earthdatacloud.nasa.gov/lp-prod-protected/HLSL30.020/HLS.L30.T15RYN.2023260T163211.v2.0/HLS.L30.T15RYN.2023260T163211.v2.0.SAA.tif', 'https://data.lpdaac.earthdatacloud.nasa.gov/lp-prod-protected/HLSL30.020/HLS.L30.T15RYN.2023260T163211.v2.0/HLS.L30.T15RYN.2023260T163211.v2.0.SZA.tif', 'https://data.lpdaac.earthdatacloud.nasa.gov/lp-prod-protected/HLSL30.020/HLS.L30.T15RYN.2023260T163211.v2.0/HLS.L30.T15RYN.2023260T163211.v2.0.B04.tif', 'https://data.lpdaac.earthdatacloud.nasa.gov/lp-prod-protected/HLSL30.020/HLS.L30.T15RYN.2023260T163211.v2.0/HLS.L30.T15RYN.2023260T163211.v2.0.B05.tif', 'https://data.lpdaac.earthdatacloud.nasa.gov/lp-prod-protected/HLSL30.020/HLS.L30.T15RYN.2023260T163211.v2.0/HLS.L30.T15RYN.2023260T163211.v2.0.B09.tif', 'https://data.lpdaac.earthdatacloud.nasa.gov/lp-prod-protected/HLSL30.020/HLS.L30.T15RYN.2023260T163211.v2.0/HLS.L30.T15RYN.2023260T163211.v2.0.B11.tif', 'https://data.lpdaac.earthdatacloud.nasa.gov/lp-prod-protected/HLSL30.020/HLS.L30.T15RYN.2023260T163211.v2.0/HLS.L30.T15RYN.2023260T163211.v2.0.B03.tif', 'https://data.lpdaac.earthdatacloud.nasa.gov/lp-prod-protected/HLSL30.020/HLS.L30.T15RYN.2023260T163211.v2.0/HLS.L30.T15RYN.2023260T163211.v2.0.B06.tif', 'https://data.lpdaac.earthdatacloud.nasa.gov/lp-prod-protected/HLSL30.020/HLS.L30.T15RYN.2023260T163211.v2.0/HLS.L30.T15RYN.2023260T163211.v2.0.B07.tif', 'https://data.lpdaac.earthdatacloud.nasa.gov/lp-prod-protected/HLSL30.020/HLS.L30.T15RYN.2023260T163211.v2.0/HLS.L30.T15RYN.2023260T163211.v2.0.B10.tif', 'https://data.lpdaac.earthdatacloud.nasa.gov/lp-prod-protected/HLSL30.020/HLS.L30.T15RYN.2023260T163211.v2.0/HLS.L30.T15RYN.2023260T163211.v2.0.B02.tif', 'https://data.lpdaac.earthdatacloud.nasa.gov/lp-prod-protected/HLSL30.020/HLS.L30.T15RYN.2023260T163211.v2.0/HLS.L30.T15RYN.2023260T163211.v2.0.B01.tif', 'https://data.lpdaac.earthdatacloud.nasa.gov/lp-prod-protected/HLSL30.020/HLS.L30.T15RYN.2023260T163211.v2.0/HLS.L30.T15RYN.2023260T163211.v2.0.Fmask.tif', 'https://data.lpdaac.earthdatacloud.nasa.gov/lp-prod-protected/HLSL30.020/HLS.L30.T15RYN.2023260T163211.v2.0/HLS.L30.T15RYN.2023260T163211.v2.0.VZA.tif'],\n",
              " Collection: {'EntryTitle': 'HLS Landsat Operational Land Imager Surface Reflectance and TOA Brightness Daily Global 30m v2.0'}\n",
              " Spatial coverage: {'HorizontalSpatialDomain': {'Geometry': {'GPolygons': [{'Boundary': {'Points': [{'Longitude': -90.07372506, 'Latitude': 28.80444525}, {'Longitude': -89.53756803, 'Latitude': 28.81559784}, {'Longitude': -89.27000789, 'Latitude': 29.81096283}, {'Longitude': -90.10353675, 'Latitude': 29.79400715}, {'Longitude': -90.07372506, 'Latitude': 28.80444525}]}}]}}}\n",
              " Temporal coverage: {'RangeDateTime': {'BeginningDateTime': '2023-09-25T16:32:12.175Z', 'EndingDateTime': '2023-09-25T16:32:36.062Z'}}\n",
              " Size(MB): 107.50523662567139\n",
              " Data: ['https://data.lpdaac.earthdatacloud.nasa.gov/lp-prod-protected/HLSL30.020/HLS.L30.T16RBT.2023268T163212.v2.0/HLS.L30.T16RBT.2023268T163212.v2.0.B04.tif', 'https://data.lpdaac.earthdatacloud.nasa.gov/lp-prod-protected/HLSL30.020/HLS.L30.T16RBT.2023268T163212.v2.0/HLS.L30.T16RBT.2023268T163212.v2.0.VAA.tif', 'https://data.lpdaac.earthdatacloud.nasa.gov/lp-prod-protected/HLSL30.020/HLS.L30.T16RBT.2023268T163212.v2.0/HLS.L30.T16RBT.2023268T163212.v2.0.B06.tif', 'https://data.lpdaac.earthdatacloud.nasa.gov/lp-prod-protected/HLSL30.020/HLS.L30.T16RBT.2023268T163212.v2.0/HLS.L30.T16RBT.2023268T163212.v2.0.B09.tif', 'https://data.lpdaac.earthdatacloud.nasa.gov/lp-prod-protected/HLSL30.020/HLS.L30.T16RBT.2023268T163212.v2.0/HLS.L30.T16RBT.2023268T163212.v2.0.B02.tif', 'https://data.lpdaac.earthdatacloud.nasa.gov/lp-prod-protected/HLSL30.020/HLS.L30.T16RBT.2023268T163212.v2.0/HLS.L30.T16RBT.2023268T163212.v2.0.B11.tif', 'https://data.lpdaac.earthdatacloud.nasa.gov/lp-prod-protected/HLSL30.020/HLS.L30.T16RBT.2023268T163212.v2.0/HLS.L30.T16RBT.2023268T163212.v2.0.Fmask.tif', 'https://data.lpdaac.earthdatacloud.nasa.gov/lp-prod-protected/HLSL30.020/HLS.L30.T16RBT.2023268T163212.v2.0/HLS.L30.T16RBT.2023268T163212.v2.0.B07.tif', 'https://data.lpdaac.earthdatacloud.nasa.gov/lp-prod-protected/HLSL30.020/HLS.L30.T16RBT.2023268T163212.v2.0/HLS.L30.T16RBT.2023268T163212.v2.0.SZA.tif', 'https://data.lpdaac.earthdatacloud.nasa.gov/lp-prod-protected/HLSL30.020/HLS.L30.T16RBT.2023268T163212.v2.0/HLS.L30.T16RBT.2023268T163212.v2.0.B01.tif', 'https://data.lpdaac.earthdatacloud.nasa.gov/lp-prod-protected/HLSL30.020/HLS.L30.T16RBT.2023268T163212.v2.0/HLS.L30.T16RBT.2023268T163212.v2.0.B03.tif', 'https://data.lpdaac.earthdatacloud.nasa.gov/lp-prod-protected/HLSL30.020/HLS.L30.T16RBT.2023268T163212.v2.0/HLS.L30.T16RBT.2023268T163212.v2.0.SAA.tif', 'https://data.lpdaac.earthdatacloud.nasa.gov/lp-prod-protected/HLSL30.020/HLS.L30.T16RBT.2023268T163212.v2.0/HLS.L30.T16RBT.2023268T163212.v2.0.B10.tif', 'https://data.lpdaac.earthdatacloud.nasa.gov/lp-prod-protected/HLSL30.020/HLS.L30.T16RBT.2023268T163212.v2.0/HLS.L30.T16RBT.2023268T163212.v2.0.VZA.tif', 'https://data.lpdaac.earthdatacloud.nasa.gov/lp-prod-protected/HLSL30.020/HLS.L30.T16RBT.2023268T163212.v2.0/HLS.L30.T16RBT.2023268T163212.v2.0.B05.tif'],\n",
              " Collection: {'EntryTitle': 'HLS Landsat Operational Land Imager Surface Reflectance and TOA Brightness Daily Global 30m v2.0'}\n",
              " Spatial coverage: {'HorizontalSpatialDomain': {'Geometry': {'GPolygons': [{'Boundary': {'Points': [{'Longitude': -89.82661214, 'Latitude': 28.80213717}, {'Longitude': -89.79583778, 'Latitude': 29.79160422}, {'Longitude': -90.93082361, 'Latitude': 29.81426153}, {'Longitude': -90.95072084, 'Latitude': 28.82389994}, {'Longitude': -89.82661214, 'Latitude': 28.80213717}]}}]}}}\n",
              " Temporal coverage: {'RangeDateTime': {'BeginningDateTime': '2023-09-25T16:32:12.175Z', 'EndingDateTime': '2023-09-25T16:32:36.062Z'}}\n",
              " Size(MB): 189.36443614959717\n",
              " Data: ['https://data.lpdaac.earthdatacloud.nasa.gov/lp-prod-protected/HLSL30.020/HLS.L30.T15RYN.2023268T163212.v2.0/HLS.L30.T15RYN.2023268T163212.v2.0.VAA.tif', 'https://data.lpdaac.earthdatacloud.nasa.gov/lp-prod-protected/HLSL30.020/HLS.L30.T15RYN.2023268T163212.v2.0/HLS.L30.T15RYN.2023268T163212.v2.0.Fmask.tif', 'https://data.lpdaac.earthdatacloud.nasa.gov/lp-prod-protected/HLSL30.020/HLS.L30.T15RYN.2023268T163212.v2.0/HLS.L30.T15RYN.2023268T163212.v2.0.SAA.tif', 'https://data.lpdaac.earthdatacloud.nasa.gov/lp-prod-protected/HLSL30.020/HLS.L30.T15RYN.2023268T163212.v2.0/HLS.L30.T15RYN.2023268T163212.v2.0.SZA.tif', 'https://data.lpdaac.earthdatacloud.nasa.gov/lp-prod-protected/HLSL30.020/HLS.L30.T15RYN.2023268T163212.v2.0/HLS.L30.T15RYN.2023268T163212.v2.0.B04.tif', 'https://data.lpdaac.earthdatacloud.nasa.gov/lp-prod-protected/HLSL30.020/HLS.L30.T15RYN.2023268T163212.v2.0/HLS.L30.T15RYN.2023268T163212.v2.0.B06.tif', 'https://data.lpdaac.earthdatacloud.nasa.gov/lp-prod-protected/HLSL30.020/HLS.L30.T15RYN.2023268T163212.v2.0/HLS.L30.T15RYN.2023268T163212.v2.0.B03.tif', 'https://data.lpdaac.earthdatacloud.nasa.gov/lp-prod-protected/HLSL30.020/HLS.L30.T15RYN.2023268T163212.v2.0/HLS.L30.T15RYN.2023268T163212.v2.0.B11.tif', 'https://data.lpdaac.earthdatacloud.nasa.gov/lp-prod-protected/HLSL30.020/HLS.L30.T15RYN.2023268T163212.v2.0/HLS.L30.T15RYN.2023268T163212.v2.0.B07.tif', 'https://data.lpdaac.earthdatacloud.nasa.gov/lp-prod-protected/HLSL30.020/HLS.L30.T15RYN.2023268T163212.v2.0/HLS.L30.T15RYN.2023268T163212.v2.0.B02.tif', 'https://data.lpdaac.earthdatacloud.nasa.gov/lp-prod-protected/HLSL30.020/HLS.L30.T15RYN.2023268T163212.v2.0/HLS.L30.T15RYN.2023268T163212.v2.0.B01.tif', 'https://data.lpdaac.earthdatacloud.nasa.gov/lp-prod-protected/HLSL30.020/HLS.L30.T15RYN.2023268T163212.v2.0/HLS.L30.T15RYN.2023268T163212.v2.0.VZA.tif', 'https://data.lpdaac.earthdatacloud.nasa.gov/lp-prod-protected/HLSL30.020/HLS.L30.T15RYN.2023268T163212.v2.0/HLS.L30.T15RYN.2023268T163212.v2.0.B10.tif', 'https://data.lpdaac.earthdatacloud.nasa.gov/lp-prod-protected/HLSL30.020/HLS.L30.T15RYN.2023268T163212.v2.0/HLS.L30.T15RYN.2023268T163212.v2.0.B09.tif', 'https://data.lpdaac.earthdatacloud.nasa.gov/lp-prod-protected/HLSL30.020/HLS.L30.T15RYN.2023268T163212.v2.0/HLS.L30.T15RYN.2023268T163212.v2.0.B05.tif'],\n",
              " Collection: {'EntryTitle': 'HLS Landsat Operational Land Imager Surface Reflectance and TOA Brightness Daily Global 30m v2.0'}\n",
              " Spatial coverage: {'HorizontalSpatialDomain': {'Geometry': {'GPolygons': [{'Boundary': {'Points': [{'Longitude': -90.10082051, 'Latitude': 29.70587294}, {'Longitude': -89.29374467, 'Latitude': 29.72232505}, {'Longitude': -89.0228475, 'Latitude': 30.7173053}, {'Longitude': -90.13201749, 'Latitude': 30.69527405}, {'Longitude': -90.10082051, 'Latitude': 29.70587294}]}}]}}}\n",
              " Temporal coverage: {'RangeDateTime': {'BeginningDateTime': '2023-09-25T16:32:12.175Z', 'EndingDateTime': '2023-09-25T16:32:12.175Z'}}\n",
              " Size(MB): 166.13354778289795\n",
              " Data: ['https://data.lpdaac.earthdatacloud.nasa.gov/lp-prod-protected/HLSL30.020/HLS.L30.T16RBU.2023268T163212.v2.0/HLS.L30.T16RBU.2023268T163212.v2.0.B06.tif', 'https://data.lpdaac.earthdatacloud.nasa.gov/lp-prod-protected/HLSL30.020/HLS.L30.T16RBU.2023268T163212.v2.0/HLS.L30.T16RBU.2023268T163212.v2.0.VAA.tif', 'https://data.lpdaac.earthdatacloud.nasa.gov/lp-prod-protected/HLSL30.020/HLS.L30.T16RBU.2023268T163212.v2.0/HLS.L30.T16RBU.2023268T163212.v2.0.B07.tif', 'https://data.lpdaac.earthdatacloud.nasa.gov/lp-prod-protected/HLSL30.020/HLS.L30.T16RBU.2023268T163212.v2.0/HLS.L30.T16RBU.2023268T163212.v2.0.B04.tif', 'https://data.lpdaac.earthdatacloud.nasa.gov/lp-prod-protected/HLSL30.020/HLS.L30.T16RBU.2023268T163212.v2.0/HLS.L30.T16RBU.2023268T163212.v2.0.B05.tif', 'https://data.lpdaac.earthdatacloud.nasa.gov/lp-prod-protected/HLSL30.020/HLS.L30.T16RBU.2023268T163212.v2.0/HLS.L30.T16RBU.2023268T163212.v2.0.B09.tif', 'https://data.lpdaac.earthdatacloud.nasa.gov/lp-prod-protected/HLSL30.020/HLS.L30.T16RBU.2023268T163212.v2.0/HLS.L30.T16RBU.2023268T163212.v2.0.Fmask.tif', 'https://data.lpdaac.earthdatacloud.nasa.gov/lp-prod-protected/HLSL30.020/HLS.L30.T16RBU.2023268T163212.v2.0/HLS.L30.T16RBU.2023268T163212.v2.0.B02.tif', 'https://data.lpdaac.earthdatacloud.nasa.gov/lp-prod-protected/HLSL30.020/HLS.L30.T16RBU.2023268T163212.v2.0/HLS.L30.T16RBU.2023268T163212.v2.0.VZA.tif', 'https://data.lpdaac.earthdatacloud.nasa.gov/lp-prod-protected/HLSL30.020/HLS.L30.T16RBU.2023268T163212.v2.0/HLS.L30.T16RBU.2023268T163212.v2.0.SAA.tif', 'https://data.lpdaac.earthdatacloud.nasa.gov/lp-prod-protected/HLSL30.020/HLS.L30.T16RBU.2023268T163212.v2.0/HLS.L30.T16RBU.2023268T163212.v2.0.SZA.tif', 'https://data.lpdaac.earthdatacloud.nasa.gov/lp-prod-protected/HLSL30.020/HLS.L30.T16RBU.2023268T163212.v2.0/HLS.L30.T16RBU.2023268T163212.v2.0.B01.tif', 'https://data.lpdaac.earthdatacloud.nasa.gov/lp-prod-protected/HLSL30.020/HLS.L30.T16RBU.2023268T163212.v2.0/HLS.L30.T16RBU.2023268T163212.v2.0.B11.tif', 'https://data.lpdaac.earthdatacloud.nasa.gov/lp-prod-protected/HLSL30.020/HLS.L30.T16RBU.2023268T163212.v2.0/HLS.L30.T16RBU.2023268T163212.v2.0.B03.tif', 'https://data.lpdaac.earthdatacloud.nasa.gov/lp-prod-protected/HLSL30.020/HLS.L30.T16RBU.2023268T163212.v2.0/HLS.L30.T16RBU.2023268T163212.v2.0.B10.tif'],\n",
              " Collection: {'EntryTitle': 'HLS Landsat Operational Land Imager Surface Reflectance and TOA Brightness Daily Global 30m v2.0'}\n",
              " Spatial coverage: {'HorizontalSpatialDomain': {'Geometry': {'GPolygons': [{'Boundary': {'Points': [{'Longitude': -89.79864173, 'Latitude': 29.70347853}, {'Longitude': -89.76643746, 'Latitude': 30.69278312}, {'Longitude': -90.91181412, 'Latitude': 30.71627038}, {'Longitude': -90.93263654, 'Latitude': 29.72605548}, {'Longitude': -89.79864173, 'Latitude': 29.70347853}]}}]}}}\n",
              " Temporal coverage: {'RangeDateTime': {'BeginningDateTime': '2023-09-25T16:32:12.175Z', 'EndingDateTime': '2023-09-25T16:32:12.175Z'}}\n",
              " Size(MB): 206.71337699890137\n",
              " Data: ['https://data.lpdaac.earthdatacloud.nasa.gov/lp-prod-protected/HLSL30.020/HLS.L30.T15RYP.2023268T163212.v2.0/HLS.L30.T15RYP.2023268T163212.v2.0.B04.tif', 'https://data.lpdaac.earthdatacloud.nasa.gov/lp-prod-protected/HLSL30.020/HLS.L30.T15RYP.2023268T163212.v2.0/HLS.L30.T15RYP.2023268T163212.v2.0.SAA.tif', 'https://data.lpdaac.earthdatacloud.nasa.gov/lp-prod-protected/HLSL30.020/HLS.L30.T15RYP.2023268T163212.v2.0/HLS.L30.T15RYP.2023268T163212.v2.0.B07.tif', 'https://data.lpdaac.earthdatacloud.nasa.gov/lp-prod-protected/HLSL30.020/HLS.L30.T15RYP.2023268T163212.v2.0/HLS.L30.T15RYP.2023268T163212.v2.0.VZA.tif', 'https://data.lpdaac.earthdatacloud.nasa.gov/lp-prod-protected/HLSL30.020/HLS.L30.T15RYP.2023268T163212.v2.0/HLS.L30.T15RYP.2023268T163212.v2.0.B09.tif', 'https://data.lpdaac.earthdatacloud.nasa.gov/lp-prod-protected/HLSL30.020/HLS.L30.T15RYP.2023268T163212.v2.0/HLS.L30.T15RYP.2023268T163212.v2.0.B01.tif', 'https://data.lpdaac.earthdatacloud.nasa.gov/lp-prod-protected/HLSL30.020/HLS.L30.T15RYP.2023268T163212.v2.0/HLS.L30.T15RYP.2023268T163212.v2.0.B10.tif', 'https://data.lpdaac.earthdatacloud.nasa.gov/lp-prod-protected/HLSL30.020/HLS.L30.T15RYP.2023268T163212.v2.0/HLS.L30.T15RYP.2023268T163212.v2.0.B02.tif', 'https://data.lpdaac.earthdatacloud.nasa.gov/lp-prod-protected/HLSL30.020/HLS.L30.T15RYP.2023268T163212.v2.0/HLS.L30.T15RYP.2023268T163212.v2.0.B11.tif', 'https://data.lpdaac.earthdatacloud.nasa.gov/lp-prod-protected/HLSL30.020/HLS.L30.T15RYP.2023268T163212.v2.0/HLS.L30.T15RYP.2023268T163212.v2.0.B03.tif', 'https://data.lpdaac.earthdatacloud.nasa.gov/lp-prod-protected/HLSL30.020/HLS.L30.T15RYP.2023268T163212.v2.0/HLS.L30.T15RYP.2023268T163212.v2.0.SZA.tif', 'https://data.lpdaac.earthdatacloud.nasa.gov/lp-prod-protected/HLSL30.020/HLS.L30.T15RYP.2023268T163212.v2.0/HLS.L30.T15RYP.2023268T163212.v2.0.B06.tif', 'https://data.lpdaac.earthdatacloud.nasa.gov/lp-prod-protected/HLSL30.020/HLS.L30.T15RYP.2023268T163212.v2.0/HLS.L30.T15RYP.2023268T163212.v2.0.B05.tif', 'https://data.lpdaac.earthdatacloud.nasa.gov/lp-prod-protected/HLSL30.020/HLS.L30.T15RYP.2023268T163212.v2.0/HLS.L30.T15RYP.2023268T163212.v2.0.Fmask.tif', 'https://data.lpdaac.earthdatacloud.nasa.gov/lp-prod-protected/HLSL30.020/HLS.L30.T15RYP.2023268T163212.v2.0/HLS.L30.T15RYP.2023268T163212.v2.0.VAA.tif'],\n",
              " Collection: {'EntryTitle': 'HLS Landsat Operational Land Imager Surface Reflectance and TOA Brightness Daily Global 30m v2.0'}\n",
              " Spatial coverage: {'HorizontalSpatialDomain': {'Geometry': {'GPolygons': [{'Boundary': {'Points': [{'Longitude': -90.10082051, 'Latitude': 29.70587294}, {'Longitude': -89.28909556, 'Latitude': 29.72240556}, {'Longitude': -89.01783738, 'Latitude': 30.7173833}, {'Longitude': -90.13201749, 'Latitude': 30.69527405}, {'Longitude': -90.10082051, 'Latitude': 29.70587294}]}}]}}}\n",
              " Temporal coverage: {'RangeDateTime': {'BeginningDateTime': '2023-10-03T16:32:11.664Z', 'EndingDateTime': '2023-10-03T16:32:11.664Z'}}\n",
              " Size(MB): 150.51258754730225\n",
              " Data: ['https://data.lpdaac.earthdatacloud.nasa.gov/lp-prod-protected/HLSL30.020/HLS.L30.T16RBU.2023276T163211.v2.0/HLS.L30.T16RBU.2023276T163211.v2.0.Fmask.tif', 'https://data.lpdaac.earthdatacloud.nasa.gov/lp-prod-protected/HLSL30.020/HLS.L30.T16RBU.2023276T163211.v2.0/HLS.L30.T16RBU.2023276T163211.v2.0.B03.tif', 'https://data.lpdaac.earthdatacloud.nasa.gov/lp-prod-protected/HLSL30.020/HLS.L30.T16RBU.2023276T163211.v2.0/HLS.L30.T16RBU.2023276T163211.v2.0.VZA.tif', 'https://data.lpdaac.earthdatacloud.nasa.gov/lp-prod-protected/HLSL30.020/HLS.L30.T16RBU.2023276T163211.v2.0/HLS.L30.T16RBU.2023276T163211.v2.0.SZA.tif', 'https://data.lpdaac.earthdatacloud.nasa.gov/lp-prod-protected/HLSL30.020/HLS.L30.T16RBU.2023276T163211.v2.0/HLS.L30.T16RBU.2023276T163211.v2.0.B02.tif', 'https://data.lpdaac.earthdatacloud.nasa.gov/lp-prod-protected/HLSL30.020/HLS.L30.T16RBU.2023276T163211.v2.0/HLS.L30.T16RBU.2023276T163211.v2.0.B07.tif', 'https://data.lpdaac.earthdatacloud.nasa.gov/lp-prod-protected/HLSL30.020/HLS.L30.T16RBU.2023276T163211.v2.0/HLS.L30.T16RBU.2023276T163211.v2.0.B04.tif', 'https://data.lpdaac.earthdatacloud.nasa.gov/lp-prod-protected/HLSL30.020/HLS.L30.T16RBU.2023276T163211.v2.0/HLS.L30.T16RBU.2023276T163211.v2.0.SAA.tif', 'https://data.lpdaac.earthdatacloud.nasa.gov/lp-prod-protected/HLSL30.020/HLS.L30.T16RBU.2023276T163211.v2.0/HLS.L30.T16RBU.2023276T163211.v2.0.B05.tif', 'https://data.lpdaac.earthdatacloud.nasa.gov/lp-prod-protected/HLSL30.020/HLS.L30.T16RBU.2023276T163211.v2.0/HLS.L30.T16RBU.2023276T163211.v2.0.B09.tif', 'https://data.lpdaac.earthdatacloud.nasa.gov/lp-prod-protected/HLSL30.020/HLS.L30.T16RBU.2023276T163211.v2.0/HLS.L30.T16RBU.2023276T163211.v2.0.VAA.tif', 'https://data.lpdaac.earthdatacloud.nasa.gov/lp-prod-protected/HLSL30.020/HLS.L30.T16RBU.2023276T163211.v2.0/HLS.L30.T16RBU.2023276T163211.v2.0.B01.tif', 'https://data.lpdaac.earthdatacloud.nasa.gov/lp-prod-protected/HLSL30.020/HLS.L30.T16RBU.2023276T163211.v2.0/HLS.L30.T16RBU.2023276T163211.v2.0.B06.tif', 'https://data.lpdaac.earthdatacloud.nasa.gov/lp-prod-protected/HLSL30.020/HLS.L30.T16RBU.2023276T163211.v2.0/HLS.L30.T16RBU.2023276T163211.v2.0.B10.tif', 'https://data.lpdaac.earthdatacloud.nasa.gov/lp-prod-protected/HLSL30.020/HLS.L30.T16RBU.2023276T163211.v2.0/HLS.L30.T16RBU.2023276T163211.v2.0.B11.tif'],\n",
              " Collection: {'EntryTitle': 'HLS Landsat Operational Land Imager Surface Reflectance and TOA Brightness Daily Global 30m v2.0'}\n",
              " Spatial coverage: {'HorizontalSpatialDomain': {'Geometry': {'GPolygons': [{'Boundary': {'Points': [{'Longitude': -89.80266714, 'Latitude': 29.70357587}, {'Longitude': -89.76643746, 'Latitude': 30.69278312}, {'Longitude': -90.91181995, 'Latitude': 30.71599985}, {'Longitude': -90.93263654, 'Latitude': 29.72605548}, {'Longitude': -89.80266714, 'Latitude': 29.70357587}]}}]}}}\n",
              " Temporal coverage: {'RangeDateTime': {'BeginningDateTime': '2023-10-03T16:32:11.664Z', 'EndingDateTime': '2023-10-03T16:32:11.664Z'}}\n",
              " Size(MB): 184.2722396850586\n",
              " Data: ['https://data.lpdaac.earthdatacloud.nasa.gov/lp-prod-protected/HLSL30.020/HLS.L30.T15RYP.2023276T163211.v2.0/HLS.L30.T15RYP.2023276T163211.v2.0.SZA.tif', 'https://data.lpdaac.earthdatacloud.nasa.gov/lp-prod-protected/HLSL30.020/HLS.L30.T15RYP.2023276T163211.v2.0/HLS.L30.T15RYP.2023276T163211.v2.0.B01.tif', 'https://data.lpdaac.earthdatacloud.nasa.gov/lp-prod-protected/HLSL30.020/HLS.L30.T15RYP.2023276T163211.v2.0/HLS.L30.T15RYP.2023276T163211.v2.0.B11.tif', 'https://data.lpdaac.earthdatacloud.nasa.gov/lp-prod-protected/HLSL30.020/HLS.L30.T15RYP.2023276T163211.v2.0/HLS.L30.T15RYP.2023276T163211.v2.0.SAA.tif', 'https://data.lpdaac.earthdatacloud.nasa.gov/lp-prod-protected/HLSL30.020/HLS.L30.T15RYP.2023276T163211.v2.0/HLS.L30.T15RYP.2023276T163211.v2.0.B02.tif', 'https://data.lpdaac.earthdatacloud.nasa.gov/lp-prod-protected/HLSL30.020/HLS.L30.T15RYP.2023276T163211.v2.0/HLS.L30.T15RYP.2023276T163211.v2.0.B05.tif', 'https://data.lpdaac.earthdatacloud.nasa.gov/lp-prod-protected/HLSL30.020/HLS.L30.T15RYP.2023276T163211.v2.0/HLS.L30.T15RYP.2023276T163211.v2.0.B03.tif', 'https://data.lpdaac.earthdatacloud.nasa.gov/lp-prod-protected/HLSL30.020/HLS.L30.T15RYP.2023276T163211.v2.0/HLS.L30.T15RYP.2023276T163211.v2.0.B06.tif', 'https://data.lpdaac.earthdatacloud.nasa.gov/lp-prod-protected/HLSL30.020/HLS.L30.T15RYP.2023276T163211.v2.0/HLS.L30.T15RYP.2023276T163211.v2.0.B10.tif', 'https://data.lpdaac.earthdatacloud.nasa.gov/lp-prod-protected/HLSL30.020/HLS.L30.T15RYP.2023276T163211.v2.0/HLS.L30.T15RYP.2023276T163211.v2.0.VZA.tif', 'https://data.lpdaac.earthdatacloud.nasa.gov/lp-prod-protected/HLSL30.020/HLS.L30.T15RYP.2023276T163211.v2.0/HLS.L30.T15RYP.2023276T163211.v2.0.B09.tif', 'https://data.lpdaac.earthdatacloud.nasa.gov/lp-prod-protected/HLSL30.020/HLS.L30.T15RYP.2023276T163211.v2.0/HLS.L30.T15RYP.2023276T163211.v2.0.B07.tif', 'https://data.lpdaac.earthdatacloud.nasa.gov/lp-prod-protected/HLSL30.020/HLS.L30.T15RYP.2023276T163211.v2.0/HLS.L30.T15RYP.2023276T163211.v2.0.VAA.tif', 'https://data.lpdaac.earthdatacloud.nasa.gov/lp-prod-protected/HLSL30.020/HLS.L30.T15RYP.2023276T163211.v2.0/HLS.L30.T15RYP.2023276T163211.v2.0.B04.tif', 'https://data.lpdaac.earthdatacloud.nasa.gov/lp-prod-protected/HLSL30.020/HLS.L30.T15RYP.2023276T163211.v2.0/HLS.L30.T15RYP.2023276T163211.v2.0.Fmask.tif'],\n",
              " Collection: {'EntryTitle': 'HLS Landsat Operational Land Imager Surface Reflectance and TOA Brightness Daily Global 30m v2.0'}\n",
              " Spatial coverage: {'HorizontalSpatialDomain': {'Geometry': {'GPolygons': [{'Boundary': {'Points': [{'Longitude': -90.07372506, 'Latitude': 28.80444525}, {'Longitude': -89.53235937, 'Latitude': 28.81623702}, {'Longitude': -89.26504439, 'Latitude': 29.81104803}, {'Longitude': -90.10353675, 'Latitude': 29.79400715}, {'Longitude': -90.07372506, 'Latitude': 28.80444525}]}}]}}}\n",
              " Temporal coverage: {'RangeDateTime': {'BeginningDateTime': '2023-10-03T16:32:11.664Z', 'EndingDateTime': '2023-10-03T16:32:35.555Z'}}\n",
              " Size(MB): 98.59119033813477\n",
              " Data: ['https://data.lpdaac.earthdatacloud.nasa.gov/lp-prod-protected/HLSL30.020/HLS.L30.T16RBT.2023276T163211.v2.0/HLS.L30.T16RBT.2023276T163211.v2.0.B04.tif', 'https://data.lpdaac.earthdatacloud.nasa.gov/lp-prod-protected/HLSL30.020/HLS.L30.T16RBT.2023276T163211.v2.0/HLS.L30.T16RBT.2023276T163211.v2.0.VZA.tif', 'https://data.lpdaac.earthdatacloud.nasa.gov/lp-prod-protected/HLSL30.020/HLS.L30.T16RBT.2023276T163211.v2.0/HLS.L30.T16RBT.2023276T163211.v2.0.B02.tif', 'https://data.lpdaac.earthdatacloud.nasa.gov/lp-prod-protected/HLSL30.020/HLS.L30.T16RBT.2023276T163211.v2.0/HLS.L30.T16RBT.2023276T163211.v2.0.VAA.tif', 'https://data.lpdaac.earthdatacloud.nasa.gov/lp-prod-protected/HLSL30.020/HLS.L30.T16RBT.2023276T163211.v2.0/HLS.L30.T16RBT.2023276T163211.v2.0.SZA.tif', 'https://data.lpdaac.earthdatacloud.nasa.gov/lp-prod-protected/HLSL30.020/HLS.L30.T16RBT.2023276T163211.v2.0/HLS.L30.T16RBT.2023276T163211.v2.0.B01.tif', 'https://data.lpdaac.earthdatacloud.nasa.gov/lp-prod-protected/HLSL30.020/HLS.L30.T16RBT.2023276T163211.v2.0/HLS.L30.T16RBT.2023276T163211.v2.0.B03.tif', 'https://data.lpdaac.earthdatacloud.nasa.gov/lp-prod-protected/HLSL30.020/HLS.L30.T16RBT.2023276T163211.v2.0/HLS.L30.T16RBT.2023276T163211.v2.0.B05.tif', 'https://data.lpdaac.earthdatacloud.nasa.gov/lp-prod-protected/HLSL30.020/HLS.L30.T16RBT.2023276T163211.v2.0/HLS.L30.T16RBT.2023276T163211.v2.0.B06.tif', 'https://data.lpdaac.earthdatacloud.nasa.gov/lp-prod-protected/HLSL30.020/HLS.L30.T16RBT.2023276T163211.v2.0/HLS.L30.T16RBT.2023276T163211.v2.0.B10.tif', 'https://data.lpdaac.earthdatacloud.nasa.gov/lp-prod-protected/HLSL30.020/HLS.L30.T16RBT.2023276T163211.v2.0/HLS.L30.T16RBT.2023276T163211.v2.0.B11.tif', 'https://data.lpdaac.earthdatacloud.nasa.gov/lp-prod-protected/HLSL30.020/HLS.L30.T16RBT.2023276T163211.v2.0/HLS.L30.T16RBT.2023276T163211.v2.0.SAA.tif', 'https://data.lpdaac.earthdatacloud.nasa.gov/lp-prod-protected/HLSL30.020/HLS.L30.T16RBT.2023276T163211.v2.0/HLS.L30.T16RBT.2023276T163211.v2.0.B09.tif', 'https://data.lpdaac.earthdatacloud.nasa.gov/lp-prod-protected/HLSL30.020/HLS.L30.T16RBT.2023276T163211.v2.0/HLS.L30.T16RBT.2023276T163211.v2.0.B07.tif', 'https://data.lpdaac.earthdatacloud.nasa.gov/lp-prod-protected/HLSL30.020/HLS.L30.T16RBT.2023276T163211.v2.0/HLS.L30.T16RBT.2023276T163211.v2.0.Fmask.tif'],\n",
              " Collection: {'EntryTitle': 'HLS Landsat Operational Land Imager Surface Reflectance and TOA Brightness Daily Global 30m v2.0'}\n",
              " Spatial coverage: {'HorizontalSpatialDomain': {'Geometry': {'GPolygons': [{'Boundary': {'Points': [{'Longitude': -89.82661214, 'Latitude': 28.80213717}, {'Longitude': -89.79645761, 'Latitude': 29.79161925}, {'Longitude': -90.93082361, 'Latitude': 29.81426153}, {'Longitude': -90.95072084, 'Latitude': 28.82389994}, {'Longitude': -89.82661214, 'Latitude': 28.80213717}]}}]}}}\n",
              " Temporal coverage: {'RangeDateTime': {'BeginningDateTime': '2023-10-03T16:32:11.664Z', 'EndingDateTime': '2023-10-03T16:32:35.555Z'}}\n",
              " Size(MB): 182.3168239593506\n",
              " Data: ['https://data.lpdaac.earthdatacloud.nasa.gov/lp-prod-protected/HLSL30.020/HLS.L30.T15RYN.2023276T163211.v2.0/HLS.L30.T15RYN.2023276T163211.v2.0.Fmask.tif', 'https://data.lpdaac.earthdatacloud.nasa.gov/lp-prod-protected/HLSL30.020/HLS.L30.T15RYN.2023276T163211.v2.0/HLS.L30.T15RYN.2023276T163211.v2.0.SZA.tif', 'https://data.lpdaac.earthdatacloud.nasa.gov/lp-prod-protected/HLSL30.020/HLS.L30.T15RYN.2023276T163211.v2.0/HLS.L30.T15RYN.2023276T163211.v2.0.B02.tif', 'https://data.lpdaac.earthdatacloud.nasa.gov/lp-prod-protected/HLSL30.020/HLS.L30.T15RYN.2023276T163211.v2.0/HLS.L30.T15RYN.2023276T163211.v2.0.B11.tif', 'https://data.lpdaac.earthdatacloud.nasa.gov/lp-prod-protected/HLSL30.020/HLS.L30.T15RYN.2023276T163211.v2.0/HLS.L30.T15RYN.2023276T163211.v2.0.B01.tif', 'https://data.lpdaac.earthdatacloud.nasa.gov/lp-prod-protected/HLSL30.020/HLS.L30.T15RYN.2023276T163211.v2.0/HLS.L30.T15RYN.2023276T163211.v2.0.VAA.tif', 'https://data.lpdaac.earthdatacloud.nasa.gov/lp-prod-protected/HLSL30.020/HLS.L30.T15RYN.2023276T163211.v2.0/HLS.L30.T15RYN.2023276T163211.v2.0.B05.tif', 'https://data.lpdaac.earthdatacloud.nasa.gov/lp-prod-protected/HLSL30.020/HLS.L30.T15RYN.2023276T163211.v2.0/HLS.L30.T15RYN.2023276T163211.v2.0.B10.tif', 'https://data.lpdaac.earthdatacloud.nasa.gov/lp-prod-protected/HLSL30.020/HLS.L30.T15RYN.2023276T163211.v2.0/HLS.L30.T15RYN.2023276T163211.v2.0.SAA.tif', 'https://data.lpdaac.earthdatacloud.nasa.gov/lp-prod-protected/HLSL30.020/HLS.L30.T15RYN.2023276T163211.v2.0/HLS.L30.T15RYN.2023276T163211.v2.0.VZA.tif', 'https://data.lpdaac.earthdatacloud.nasa.gov/lp-prod-protected/HLSL30.020/HLS.L30.T15RYN.2023276T163211.v2.0/HLS.L30.T15RYN.2023276T163211.v2.0.B07.tif', 'https://data.lpdaac.earthdatacloud.nasa.gov/lp-prod-protected/HLSL30.020/HLS.L30.T15RYN.2023276T163211.v2.0/HLS.L30.T15RYN.2023276T163211.v2.0.B09.tif', 'https://data.lpdaac.earthdatacloud.nasa.gov/lp-prod-protected/HLSL30.020/HLS.L30.T15RYN.2023276T163211.v2.0/HLS.L30.T15RYN.2023276T163211.v2.0.B04.tif', 'https://data.lpdaac.earthdatacloud.nasa.gov/lp-prod-protected/HLSL30.020/HLS.L30.T15RYN.2023276T163211.v2.0/HLS.L30.T15RYN.2023276T163211.v2.0.B03.tif', 'https://data.lpdaac.earthdatacloud.nasa.gov/lp-prod-protected/HLSL30.020/HLS.L30.T15RYN.2023276T163211.v2.0/HLS.L30.T15RYN.2023276T163211.v2.0.B06.tif'],\n",
              " Collection: {'EntryTitle': 'HLS Landsat Operational Land Imager Surface Reflectance and TOA Brightness Daily Global 30m v2.0'}\n",
              " Spatial coverage: {'HorizontalSpatialDomain': {'Geometry': {'GPolygons': [{'Boundary': {'Points': [{'Longitude': -90.07372506, 'Latitude': 28.80444525}, {'Longitude': -89.55846143, 'Latitude': 28.8154738}, {'Longitude': -89.29110253, 'Latitude': 29.81059862}, {'Longitude': -90.10353675, 'Latitude': 29.79400715}, {'Longitude': -90.07372506, 'Latitude': 28.80444525}]}}]}}}\n",
              " Temporal coverage: {'RangeDateTime': {'BeginningDateTime': '2023-10-19T16:32:21.176Z', 'EndingDateTime': '2023-10-19T16:32:45.079Z'}}\n",
              " Size(MB): 102.54698371887207\n",
              " Data: ['https://data.lpdaac.earthdatacloud.nasa.gov/lp-prod-protected/HLSL30.020/HLS.L30.T16RBT.2023292T163221.v2.0/HLS.L30.T16RBT.2023292T163221.v2.0.B10.tif', 'https://data.lpdaac.earthdatacloud.nasa.gov/lp-prod-protected/HLSL30.020/HLS.L30.T16RBT.2023292T163221.v2.0/HLS.L30.T16RBT.2023292T163221.v2.0.B02.tif', 'https://data.lpdaac.earthdatacloud.nasa.gov/lp-prod-protected/HLSL30.020/HLS.L30.T16RBT.2023292T163221.v2.0/HLS.L30.T16RBT.2023292T163221.v2.0.B07.tif', 'https://data.lpdaac.earthdatacloud.nasa.gov/lp-prod-protected/HLSL30.020/HLS.L30.T16RBT.2023292T163221.v2.0/HLS.L30.T16RBT.2023292T163221.v2.0.B06.tif', 'https://data.lpdaac.earthdatacloud.nasa.gov/lp-prod-protected/HLSL30.020/HLS.L30.T16RBT.2023292T163221.v2.0/HLS.L30.T16RBT.2023292T163221.v2.0.SZA.tif', 'https://data.lpdaac.earthdatacloud.nasa.gov/lp-prod-protected/HLSL30.020/HLS.L30.T16RBT.2023292T163221.v2.0/HLS.L30.T16RBT.2023292T163221.v2.0.VZA.tif', 'https://data.lpdaac.earthdatacloud.nasa.gov/lp-prod-protected/HLSL30.020/HLS.L30.T16RBT.2023292T163221.v2.0/HLS.L30.T16RBT.2023292T163221.v2.0.B03.tif', 'https://data.lpdaac.earthdatacloud.nasa.gov/lp-prod-protected/HLSL30.020/HLS.L30.T16RBT.2023292T163221.v2.0/HLS.L30.T16RBT.2023292T163221.v2.0.B01.tif', 'https://data.lpdaac.earthdatacloud.nasa.gov/lp-prod-protected/HLSL30.020/HLS.L30.T16RBT.2023292T163221.v2.0/HLS.L30.T16RBT.2023292T163221.v2.0.B09.tif', 'https://data.lpdaac.earthdatacloud.nasa.gov/lp-prod-protected/HLSL30.020/HLS.L30.T16RBT.2023292T163221.v2.0/HLS.L30.T16RBT.2023292T163221.v2.0.B11.tif', 'https://data.lpdaac.earthdatacloud.nasa.gov/lp-prod-protected/HLSL30.020/HLS.L30.T16RBT.2023292T163221.v2.0/HLS.L30.T16RBT.2023292T163221.v2.0.Fmask.tif', 'https://data.lpdaac.earthdatacloud.nasa.gov/lp-prod-protected/HLSL30.020/HLS.L30.T16RBT.2023292T163221.v2.0/HLS.L30.T16RBT.2023292T163221.v2.0.B05.tif', 'https://data.lpdaac.earthdatacloud.nasa.gov/lp-prod-protected/HLSL30.020/HLS.L30.T16RBT.2023292T163221.v2.0/HLS.L30.T16RBT.2023292T163221.v2.0.SAA.tif', 'https://data.lpdaac.earthdatacloud.nasa.gov/lp-prod-protected/HLSL30.020/HLS.L30.T16RBT.2023292T163221.v2.0/HLS.L30.T16RBT.2023292T163221.v2.0.B04.tif', 'https://data.lpdaac.earthdatacloud.nasa.gov/lp-prod-protected/HLSL30.020/HLS.L30.T16RBT.2023292T163221.v2.0/HLS.L30.T16RBT.2023292T163221.v2.0.VAA.tif'],\n",
              " Collection: {'EntryTitle': 'HLS Landsat Operational Land Imager Surface Reflectance and TOA Brightness Daily Global 30m v2.0'}\n",
              " Spatial coverage: {'HorizontalSpatialDomain': {'Geometry': {'GPolygons': [{'Boundary': {'Points': [{'Longitude': -89.82661214, 'Latitude': 28.80213717}, {'Longitude': -89.79583778, 'Latitude': 29.79160422}, {'Longitude': -90.93082361, 'Latitude': 29.81426153}, {'Longitude': -90.95072084, 'Latitude': 28.82389994}, {'Longitude': -89.82661214, 'Latitude': 28.80213717}]}}]}}}\n",
              " Temporal coverage: {'RangeDateTime': {'BeginningDateTime': '2023-10-19T16:32:21.176Z', 'EndingDateTime': '2023-10-19T16:32:45.079Z'}}\n",
              " Size(MB): 175.87995624542236\n",
              " Data: ['https://data.lpdaac.earthdatacloud.nasa.gov/lp-prod-protected/HLSL30.020/HLS.L30.T15RYN.2023292T163221.v2.0/HLS.L30.T15RYN.2023292T163221.v2.0.VAA.tif', 'https://data.lpdaac.earthdatacloud.nasa.gov/lp-prod-protected/HLSL30.020/HLS.L30.T15RYN.2023292T163221.v2.0/HLS.L30.T15RYN.2023292T163221.v2.0.B03.tif', 'https://data.lpdaac.earthdatacloud.nasa.gov/lp-prod-protected/HLSL30.020/HLS.L30.T15RYN.2023292T163221.v2.0/HLS.L30.T15RYN.2023292T163221.v2.0.B02.tif', 'https://data.lpdaac.earthdatacloud.nasa.gov/lp-prod-protected/HLSL30.020/HLS.L30.T15RYN.2023292T163221.v2.0/HLS.L30.T15RYN.2023292T163221.v2.0.B06.tif', 'https://data.lpdaac.earthdatacloud.nasa.gov/lp-prod-protected/HLSL30.020/HLS.L30.T15RYN.2023292T163221.v2.0/HLS.L30.T15RYN.2023292T163221.v2.0.SZA.tif', 'https://data.lpdaac.earthdatacloud.nasa.gov/lp-prod-protected/HLSL30.020/HLS.L30.T15RYN.2023292T163221.v2.0/HLS.L30.T15RYN.2023292T163221.v2.0.Fmask.tif', 'https://data.lpdaac.earthdatacloud.nasa.gov/lp-prod-protected/HLSL30.020/HLS.L30.T15RYN.2023292T163221.v2.0/HLS.L30.T15RYN.2023292T163221.v2.0.B09.tif', 'https://data.lpdaac.earthdatacloud.nasa.gov/lp-prod-protected/HLSL30.020/HLS.L30.T15RYN.2023292T163221.v2.0/HLS.L30.T15RYN.2023292T163221.v2.0.B07.tif', 'https://data.lpdaac.earthdatacloud.nasa.gov/lp-prod-protected/HLSL30.020/HLS.L30.T15RYN.2023292T163221.v2.0/HLS.L30.T15RYN.2023292T163221.v2.0.B11.tif', 'https://data.lpdaac.earthdatacloud.nasa.gov/lp-prod-protected/HLSL30.020/HLS.L30.T15RYN.2023292T163221.v2.0/HLS.L30.T15RYN.2023292T163221.v2.0.B04.tif', 'https://data.lpdaac.earthdatacloud.nasa.gov/lp-prod-protected/HLSL30.020/HLS.L30.T15RYN.2023292T163221.v2.0/HLS.L30.T15RYN.2023292T163221.v2.0.B10.tif', 'https://data.lpdaac.earthdatacloud.nasa.gov/lp-prod-protected/HLSL30.020/HLS.L30.T15RYN.2023292T163221.v2.0/HLS.L30.T15RYN.2023292T163221.v2.0.SAA.tif', 'https://data.lpdaac.earthdatacloud.nasa.gov/lp-prod-protected/HLSL30.020/HLS.L30.T15RYN.2023292T163221.v2.0/HLS.L30.T15RYN.2023292T163221.v2.0.VZA.tif', 'https://data.lpdaac.earthdatacloud.nasa.gov/lp-prod-protected/HLSL30.020/HLS.L30.T15RYN.2023292T163221.v2.0/HLS.L30.T15RYN.2023292T163221.v2.0.B01.tif', 'https://data.lpdaac.earthdatacloud.nasa.gov/lp-prod-protected/HLSL30.020/HLS.L30.T15RYN.2023292T163221.v2.0/HLS.L30.T15RYN.2023292T163221.v2.0.B05.tif'],\n",
              " Collection: {'EntryTitle': 'HLS Landsat Operational Land Imager Surface Reflectance and TOA Brightness Daily Global 30m v2.0'}\n",
              " Spatial coverage: {'HorizontalSpatialDomain': {'Geometry': {'GPolygons': [{'Boundary': {'Points': [{'Longitude': -89.79864173, 'Latitude': 29.70347853}, {'Longitude': -89.76643746, 'Latitude': 30.69278312}, {'Longitude': -90.91181412, 'Latitude': 30.71627038}, {'Longitude': -90.93263654, 'Latitude': 29.72605548}, {'Longitude': -89.79864173, 'Latitude': 29.70347853}]}}]}}}\n",
              " Temporal coverage: {'RangeDateTime': {'BeginningDateTime': '2023-10-19T16:32:21.176Z', 'EndingDateTime': '2023-10-19T16:32:21.176Z'}}\n",
              " Size(MB): 185.59304237365723\n",
              " Data: ['https://data.lpdaac.earthdatacloud.nasa.gov/lp-prod-protected/HLSL30.020/HLS.L30.T15RYP.2023292T163221.v2.0/HLS.L30.T15RYP.2023292T163221.v2.0.B10.tif', 'https://data.lpdaac.earthdatacloud.nasa.gov/lp-prod-protected/HLSL30.020/HLS.L30.T15RYP.2023292T163221.v2.0/HLS.L30.T15RYP.2023292T163221.v2.0.B11.tif', 'https://data.lpdaac.earthdatacloud.nasa.gov/lp-prod-protected/HLSL30.020/HLS.L30.T15RYP.2023292T163221.v2.0/HLS.L30.T15RYP.2023292T163221.v2.0.B07.tif', 'https://data.lpdaac.earthdatacloud.nasa.gov/lp-prod-protected/HLSL30.020/HLS.L30.T15RYP.2023292T163221.v2.0/HLS.L30.T15RYP.2023292T163221.v2.0.Fmask.tif', 'https://data.lpdaac.earthdatacloud.nasa.gov/lp-prod-protected/HLSL30.020/HLS.L30.T15RYP.2023292T163221.v2.0/HLS.L30.T15RYP.2023292T163221.v2.0.SZA.tif', 'https://data.lpdaac.earthdatacloud.nasa.gov/lp-prod-protected/HLSL30.020/HLS.L30.T15RYP.2023292T163221.v2.0/HLS.L30.T15RYP.2023292T163221.v2.0.B05.tif', 'https://data.lpdaac.earthdatacloud.nasa.gov/lp-prod-protected/HLSL30.020/HLS.L30.T15RYP.2023292T163221.v2.0/HLS.L30.T15RYP.2023292T163221.v2.0.SAA.tif', 'https://data.lpdaac.earthdatacloud.nasa.gov/lp-prod-protected/HLSL30.020/HLS.L30.T15RYP.2023292T163221.v2.0/HLS.L30.T15RYP.2023292T163221.v2.0.VZA.tif', 'https://data.lpdaac.earthdatacloud.nasa.gov/lp-prod-protected/HLSL30.020/HLS.L30.T15RYP.2023292T163221.v2.0/HLS.L30.T15RYP.2023292T163221.v2.0.B06.tif', 'https://data.lpdaac.earthdatacloud.nasa.gov/lp-prod-protected/HLSL30.020/HLS.L30.T15RYP.2023292T163221.v2.0/HLS.L30.T15RYP.2023292T163221.v2.0.VAA.tif', 'https://data.lpdaac.earthdatacloud.nasa.gov/lp-prod-protected/HLSL30.020/HLS.L30.T15RYP.2023292T163221.v2.0/HLS.L30.T15RYP.2023292T163221.v2.0.B03.tif', 'https://data.lpdaac.earthdatacloud.nasa.gov/lp-prod-protected/HLSL30.020/HLS.L30.T15RYP.2023292T163221.v2.0/HLS.L30.T15RYP.2023292T163221.v2.0.B09.tif', 'https://data.lpdaac.earthdatacloud.nasa.gov/lp-prod-protected/HLSL30.020/HLS.L30.T15RYP.2023292T163221.v2.0/HLS.L30.T15RYP.2023292T163221.v2.0.B04.tif', 'https://data.lpdaac.earthdatacloud.nasa.gov/lp-prod-protected/HLSL30.020/HLS.L30.T15RYP.2023292T163221.v2.0/HLS.L30.T15RYP.2023292T163221.v2.0.B01.tif', 'https://data.lpdaac.earthdatacloud.nasa.gov/lp-prod-protected/HLSL30.020/HLS.L30.T15RYP.2023292T163221.v2.0/HLS.L30.T15RYP.2023292T163221.v2.0.B02.tif'],\n",
              " Collection: {'EntryTitle': 'HLS Landsat Operational Land Imager Surface Reflectance and TOA Brightness Daily Global 30m v2.0'}\n",
              " Spatial coverage: {'HorizontalSpatialDomain': {'Geometry': {'GPolygons': [{'Boundary': {'Points': [{'Longitude': -90.10082051, 'Latitude': 29.70587294}, {'Longitude': -89.31482661, 'Latitude': 29.72222857}, {'Longitude': -89.04414025, 'Latitude': 30.71697165}, {'Longitude': -90.13201749, 'Latitude': 30.69527405}, {'Longitude': -90.10082051, 'Latitude': 29.70587294}]}}]}}}\n",
              " Temporal coverage: {'RangeDateTime': {'BeginningDateTime': '2023-10-19T16:32:21.176Z', 'EndingDateTime': '2023-10-19T16:32:21.176Z'}}\n",
              " Size(MB): 156.73394966125488\n",
              " Data: ['https://data.lpdaac.earthdatacloud.nasa.gov/lp-prod-protected/HLSL30.020/HLS.L30.T16RBU.2023292T163221.v2.0/HLS.L30.T16RBU.2023292T163221.v2.0.B09.tif', 'https://data.lpdaac.earthdatacloud.nasa.gov/lp-prod-protected/HLSL30.020/HLS.L30.T16RBU.2023292T163221.v2.0/HLS.L30.T16RBU.2023292T163221.v2.0.B04.tif', 'https://data.lpdaac.earthdatacloud.nasa.gov/lp-prod-protected/HLSL30.020/HLS.L30.T16RBU.2023292T163221.v2.0/HLS.L30.T16RBU.2023292T163221.v2.0.VZA.tif', 'https://data.lpdaac.earthdatacloud.nasa.gov/lp-prod-protected/HLSL30.020/HLS.L30.T16RBU.2023292T163221.v2.0/HLS.L30.T16RBU.2023292T163221.v2.0.VAA.tif', 'https://data.lpdaac.earthdatacloud.nasa.gov/lp-prod-protected/HLSL30.020/HLS.L30.T16RBU.2023292T163221.v2.0/HLS.L30.T16RBU.2023292T163221.v2.0.B10.tif', 'https://data.lpdaac.earthdatacloud.nasa.gov/lp-prod-protected/HLSL30.020/HLS.L30.T16RBU.2023292T163221.v2.0/HLS.L30.T16RBU.2023292T163221.v2.0.B01.tif', 'https://data.lpdaac.earthdatacloud.nasa.gov/lp-prod-protected/HLSL30.020/HLS.L30.T16RBU.2023292T163221.v2.0/HLS.L30.T16RBU.2023292T163221.v2.0.B11.tif', 'https://data.lpdaac.earthdatacloud.nasa.gov/lp-prod-protected/HLSL30.020/HLS.L30.T16RBU.2023292T163221.v2.0/HLS.L30.T16RBU.2023292T163221.v2.0.B05.tif', 'https://data.lpdaac.earthdatacloud.nasa.gov/lp-prod-protected/HLSL30.020/HLS.L30.T16RBU.2023292T163221.v2.0/HLS.L30.T16RBU.2023292T163221.v2.0.SZA.tif', 'https://data.lpdaac.earthdatacloud.nasa.gov/lp-prod-protected/HLSL30.020/HLS.L30.T16RBU.2023292T163221.v2.0/HLS.L30.T16RBU.2023292T163221.v2.0.B03.tif', 'https://data.lpdaac.earthdatacloud.nasa.gov/lp-prod-protected/HLSL30.020/HLS.L30.T16RBU.2023292T163221.v2.0/HLS.L30.T16RBU.2023292T163221.v2.0.B02.tif', 'https://data.lpdaac.earthdatacloud.nasa.gov/lp-prod-protected/HLSL30.020/HLS.L30.T16RBU.2023292T163221.v2.0/HLS.L30.T16RBU.2023292T163221.v2.0.Fmask.tif', 'https://data.lpdaac.earthdatacloud.nasa.gov/lp-prod-protected/HLSL30.020/HLS.L30.T16RBU.2023292T163221.v2.0/HLS.L30.T16RBU.2023292T163221.v2.0.B06.tif', 'https://data.lpdaac.earthdatacloud.nasa.gov/lp-prod-protected/HLSL30.020/HLS.L30.T16RBU.2023292T163221.v2.0/HLS.L30.T16RBU.2023292T163221.v2.0.SAA.tif', 'https://data.lpdaac.earthdatacloud.nasa.gov/lp-prod-protected/HLSL30.020/HLS.L30.T16RBU.2023292T163221.v2.0/HLS.L30.T16RBU.2023292T163221.v2.0.B07.tif'],\n",
              " Collection: {'EntryTitle': 'HLS Landsat Operational Land Imager Surface Reflectance and TOA Brightness Daily Global 30m v2.0'}\n",
              " Spatial coverage: {'HorizontalSpatialDomain': {'Geometry': {'GPolygons': [{'Boundary': {'Points': [{'Longitude': -90.10082051, 'Latitude': 29.70587294}, {'Longitude': -89.30583226, 'Latitude': 29.72211497}, {'Longitude': -89.03474643, 'Latitude': 30.71711928}, {'Longitude': -90.13201749, 'Latitude': 30.69527405}, {'Longitude': -90.10082051, 'Latitude': 29.70587294}]}}]}}}\n",
              " Temporal coverage: {'RangeDateTime': {'BeginningDateTime': '2023-10-27T16:32:18.830Z', 'EndingDateTime': '2023-10-27T16:32:18.830Z'}}\n",
              " Size(MB): 145.32837009429932\n",
              " Data: ['https://data.lpdaac.earthdatacloud.nasa.gov/lp-prod-protected/HLSL30.020/HLS.L30.T16RBU.2023300T163218.v2.0/HLS.L30.T16RBU.2023300T163218.v2.0.B04.tif', 'https://data.lpdaac.earthdatacloud.nasa.gov/lp-prod-protected/HLSL30.020/HLS.L30.T16RBU.2023300T163218.v2.0/HLS.L30.T16RBU.2023300T163218.v2.0.B10.tif', 'https://data.lpdaac.earthdatacloud.nasa.gov/lp-prod-protected/HLSL30.020/HLS.L30.T16RBU.2023300T163218.v2.0/HLS.L30.T16RBU.2023300T163218.v2.0.SZA.tif', 'https://data.lpdaac.earthdatacloud.nasa.gov/lp-prod-protected/HLSL30.020/HLS.L30.T16RBU.2023300T163218.v2.0/HLS.L30.T16RBU.2023300T163218.v2.0.VAA.tif', 'https://data.lpdaac.earthdatacloud.nasa.gov/lp-prod-protected/HLSL30.020/HLS.L30.T16RBU.2023300T163218.v2.0/HLS.L30.T16RBU.2023300T163218.v2.0.VZA.tif', 'https://data.lpdaac.earthdatacloud.nasa.gov/lp-prod-protected/HLSL30.020/HLS.L30.T16RBU.2023300T163218.v2.0/HLS.L30.T16RBU.2023300T163218.v2.0.SAA.tif', 'https://data.lpdaac.earthdatacloud.nasa.gov/lp-prod-protected/HLSL30.020/HLS.L30.T16RBU.2023300T163218.v2.0/HLS.L30.T16RBU.2023300T163218.v2.0.B09.tif', 'https://data.lpdaac.earthdatacloud.nasa.gov/lp-prod-protected/HLSL30.020/HLS.L30.T16RBU.2023300T163218.v2.0/HLS.L30.T16RBU.2023300T163218.v2.0.B07.tif', 'https://data.lpdaac.earthdatacloud.nasa.gov/lp-prod-protected/HLSL30.020/HLS.L30.T16RBU.2023300T163218.v2.0/HLS.L30.T16RBU.2023300T163218.v2.0.B03.tif', 'https://data.lpdaac.earthdatacloud.nasa.gov/lp-prod-protected/HLSL30.020/HLS.L30.T16RBU.2023300T163218.v2.0/HLS.L30.T16RBU.2023300T163218.v2.0.B05.tif', 'https://data.lpdaac.earthdatacloud.nasa.gov/lp-prod-protected/HLSL30.020/HLS.L30.T16RBU.2023300T163218.v2.0/HLS.L30.T16RBU.2023300T163218.v2.0.Fmask.tif', 'https://data.lpdaac.earthdatacloud.nasa.gov/lp-prod-protected/HLSL30.020/HLS.L30.T16RBU.2023300T163218.v2.0/HLS.L30.T16RBU.2023300T163218.v2.0.B11.tif', 'https://data.lpdaac.earthdatacloud.nasa.gov/lp-prod-protected/HLSL30.020/HLS.L30.T16RBU.2023300T163218.v2.0/HLS.L30.T16RBU.2023300T163218.v2.0.B01.tif', 'https://data.lpdaac.earthdatacloud.nasa.gov/lp-prod-protected/HLSL30.020/HLS.L30.T16RBU.2023300T163218.v2.0/HLS.L30.T16RBU.2023300T163218.v2.0.B02.tif', 'https://data.lpdaac.earthdatacloud.nasa.gov/lp-prod-protected/HLSL30.020/HLS.L30.T16RBU.2023300T163218.v2.0/HLS.L30.T16RBU.2023300T163218.v2.0.B06.tif'],\n",
              " Collection: {'EntryTitle': 'HLS Landsat Operational Land Imager Surface Reflectance and TOA Brightness Daily Global 30m v2.0'}\n",
              " Spatial coverage: {'HorizontalSpatialDomain': {'Geometry': {'GPolygons': [{'Boundary': {'Points': [{'Longitude': -89.82661214, 'Latitude': 28.80213717}, {'Longitude': -89.79583778, 'Latitude': 29.79160422}, {'Longitude': -90.93082361, 'Latitude': 29.81426153}, {'Longitude': -90.95072084, 'Latitude': 28.82389994}, {'Longitude': -89.82661214, 'Latitude': 28.80213717}]}}]}}}\n",
              " Temporal coverage: {'RangeDateTime': {'BeginningDateTime': '2023-10-27T16:32:18.830Z', 'EndingDateTime': '2023-10-27T16:32:42.725Z'}}\n",
              " Size(MB): 186.02645683288574\n",
              " Data: ['https://data.lpdaac.earthdatacloud.nasa.gov/lp-prod-protected/HLSL30.020/HLS.L30.T15RYN.2023300T163218.v2.0/HLS.L30.T15RYN.2023300T163218.v2.0.Fmask.tif', 'https://data.lpdaac.earthdatacloud.nasa.gov/lp-prod-protected/HLSL30.020/HLS.L30.T15RYN.2023300T163218.v2.0/HLS.L30.T15RYN.2023300T163218.v2.0.B05.tif', 'https://data.lpdaac.earthdatacloud.nasa.gov/lp-prod-protected/HLSL30.020/HLS.L30.T15RYN.2023300T163218.v2.0/HLS.L30.T15RYN.2023300T163218.v2.0.VAA.tif', 'https://data.lpdaac.earthdatacloud.nasa.gov/lp-prod-protected/HLSL30.020/HLS.L30.T15RYN.2023300T163218.v2.0/HLS.L30.T15RYN.2023300T163218.v2.0.B06.tif', 'https://data.lpdaac.earthdatacloud.nasa.gov/lp-prod-protected/HLSL30.020/HLS.L30.T15RYN.2023300T163218.v2.0/HLS.L30.T15RYN.2023300T163218.v2.0.B03.tif', 'https://data.lpdaac.earthdatacloud.nasa.gov/lp-prod-protected/HLSL30.020/HLS.L30.T15RYN.2023300T163218.v2.0/HLS.L30.T15RYN.2023300T163218.v2.0.B09.tif', 'https://data.lpdaac.earthdatacloud.nasa.gov/lp-prod-protected/HLSL30.020/HLS.L30.T15RYN.2023300T163218.v2.0/HLS.L30.T15RYN.2023300T163218.v2.0.B10.tif', 'https://data.lpdaac.earthdatacloud.nasa.gov/lp-prod-protected/HLSL30.020/HLS.L30.T15RYN.2023300T163218.v2.0/HLS.L30.T15RYN.2023300T163218.v2.0.B11.tif', 'https://data.lpdaac.earthdatacloud.nasa.gov/lp-prod-protected/HLSL30.020/HLS.L30.T15RYN.2023300T163218.v2.0/HLS.L30.T15RYN.2023300T163218.v2.0.B02.tif', 'https://data.lpdaac.earthdatacloud.nasa.gov/lp-prod-protected/HLSL30.020/HLS.L30.T15RYN.2023300T163218.v2.0/HLS.L30.T15RYN.2023300T163218.v2.0.B01.tif', 'https://data.lpdaac.earthdatacloud.nasa.gov/lp-prod-protected/HLSL30.020/HLS.L30.T15RYN.2023300T163218.v2.0/HLS.L30.T15RYN.2023300T163218.v2.0.VZA.tif', 'https://data.lpdaac.earthdatacloud.nasa.gov/lp-prod-protected/HLSL30.020/HLS.L30.T15RYN.2023300T163218.v2.0/HLS.L30.T15RYN.2023300T163218.v2.0.B04.tif', 'https://data.lpdaac.earthdatacloud.nasa.gov/lp-prod-protected/HLSL30.020/HLS.L30.T15RYN.2023300T163218.v2.0/HLS.L30.T15RYN.2023300T163218.v2.0.SAA.tif', 'https://data.lpdaac.earthdatacloud.nasa.gov/lp-prod-protected/HLSL30.020/HLS.L30.T15RYN.2023300T163218.v2.0/HLS.L30.T15RYN.2023300T163218.v2.0.SZA.tif', 'https://data.lpdaac.earthdatacloud.nasa.gov/lp-prod-protected/HLSL30.020/HLS.L30.T15RYN.2023300T163218.v2.0/HLS.L30.T15RYN.2023300T163218.v2.0.B07.tif'],\n",
              " Collection: {'EntryTitle': 'HLS Landsat Operational Land Imager Surface Reflectance and TOA Brightness Daily Global 30m v2.0'}\n",
              " Spatial coverage: {'HorizontalSpatialDomain': {'Geometry': {'GPolygons': [{'Boundary': {'Points': [{'Longitude': -90.07372506, 'Latitude': 28.80444525}, {'Longitude': -89.54924011, 'Latitude': 28.81537775}, {'Longitude': -89.28179612, 'Latitude': 29.81075971}, {'Longitude': -90.10353675, 'Latitude': 29.79400715}, {'Longitude': -90.07372506, 'Latitude': 28.80444525}]}}]}}}\n",
              " Temporal coverage: {'RangeDateTime': {'BeginningDateTime': '2023-10-27T16:32:18.830Z', 'EndingDateTime': '2023-10-27T16:32:42.725Z'}}\n",
              " Size(MB): 97.14288330078125\n",
              " Data: ['https://data.lpdaac.earthdatacloud.nasa.gov/lp-prod-protected/HLSL30.020/HLS.L30.T16RBT.2023300T163218.v2.0/HLS.L30.T16RBT.2023300T163218.v2.0.VAA.tif', 'https://data.lpdaac.earthdatacloud.nasa.gov/lp-prod-protected/HLSL30.020/HLS.L30.T16RBT.2023300T163218.v2.0/HLS.L30.T16RBT.2023300T163218.v2.0.B05.tif', 'https://data.lpdaac.earthdatacloud.nasa.gov/lp-prod-protected/HLSL30.020/HLS.L30.T16RBT.2023300T163218.v2.0/HLS.L30.T16RBT.2023300T163218.v2.0.Fmask.tif', 'https://data.lpdaac.earthdatacloud.nasa.gov/lp-prod-protected/HLSL30.020/HLS.L30.T16RBT.2023300T163218.v2.0/HLS.L30.T16RBT.2023300T163218.v2.0.B04.tif', 'https://data.lpdaac.earthdatacloud.nasa.gov/lp-prod-protected/HLSL30.020/HLS.L30.T16RBT.2023300T163218.v2.0/HLS.L30.T16RBT.2023300T163218.v2.0.B06.tif', 'https://data.lpdaac.earthdatacloud.nasa.gov/lp-prod-protected/HLSL30.020/HLS.L30.T16RBT.2023300T163218.v2.0/HLS.L30.T16RBT.2023300T163218.v2.0.SAA.tif', 'https://data.lpdaac.earthdatacloud.nasa.gov/lp-prod-protected/HLSL30.020/HLS.L30.T16RBT.2023300T163218.v2.0/HLS.L30.T16RBT.2023300T163218.v2.0.B11.tif', 'https://data.lpdaac.earthdatacloud.nasa.gov/lp-prod-protected/HLSL30.020/HLS.L30.T16RBT.2023300T163218.v2.0/HLS.L30.T16RBT.2023300T163218.v2.0.VZA.tif', 'https://data.lpdaac.earthdatacloud.nasa.gov/lp-prod-protected/HLSL30.020/HLS.L30.T16RBT.2023300T163218.v2.0/HLS.L30.T16RBT.2023300T163218.v2.0.B01.tif', 'https://data.lpdaac.earthdatacloud.nasa.gov/lp-prod-protected/HLSL30.020/HLS.L30.T16RBT.2023300T163218.v2.0/HLS.L30.T16RBT.2023300T163218.v2.0.B02.tif', 'https://data.lpdaac.earthdatacloud.nasa.gov/lp-prod-protected/HLSL30.020/HLS.L30.T16RBT.2023300T163218.v2.0/HLS.L30.T16RBT.2023300T163218.v2.0.B09.tif', 'https://data.lpdaac.earthdatacloud.nasa.gov/lp-prod-protected/HLSL30.020/HLS.L30.T16RBT.2023300T163218.v2.0/HLS.L30.T16RBT.2023300T163218.v2.0.SZA.tif', 'https://data.lpdaac.earthdatacloud.nasa.gov/lp-prod-protected/HLSL30.020/HLS.L30.T16RBT.2023300T163218.v2.0/HLS.L30.T16RBT.2023300T163218.v2.0.B03.tif', 'https://data.lpdaac.earthdatacloud.nasa.gov/lp-prod-protected/HLSL30.020/HLS.L30.T16RBT.2023300T163218.v2.0/HLS.L30.T16RBT.2023300T163218.v2.0.B07.tif', 'https://data.lpdaac.earthdatacloud.nasa.gov/lp-prod-protected/HLSL30.020/HLS.L30.T16RBT.2023300T163218.v2.0/HLS.L30.T16RBT.2023300T163218.v2.0.B10.tif'],\n",
              " Collection: {'EntryTitle': 'HLS Landsat Operational Land Imager Surface Reflectance and TOA Brightness Daily Global 30m v2.0'}\n",
              " Spatial coverage: {'HorizontalSpatialDomain': {'Geometry': {'GPolygons': [{'Boundary': {'Points': [{'Longitude': -89.79864173, 'Latitude': 29.70347853}, {'Longitude': -89.76643746, 'Latitude': 30.69278312}, {'Longitude': -90.91181412, 'Latitude': 30.71627038}, {'Longitude': -90.93263654, 'Latitude': 29.72605548}, {'Longitude': -89.79864173, 'Latitude': 29.70347853}]}}]}}}\n",
              " Temporal coverage: {'RangeDateTime': {'BeginningDateTime': '2023-10-27T16:32:18.830Z', 'EndingDateTime': '2023-10-27T16:32:18.830Z'}}\n",
              " Size(MB): 185.03299140930176\n",
              " Data: ['https://data.lpdaac.earthdatacloud.nasa.gov/lp-prod-protected/HLSL30.020/HLS.L30.T15RYP.2023300T163218.v2.0/HLS.L30.T15RYP.2023300T163218.v2.0.Fmask.tif', 'https://data.lpdaac.earthdatacloud.nasa.gov/lp-prod-protected/HLSL30.020/HLS.L30.T15RYP.2023300T163218.v2.0/HLS.L30.T15RYP.2023300T163218.v2.0.SAA.tif', 'https://data.lpdaac.earthdatacloud.nasa.gov/lp-prod-protected/HLSL30.020/HLS.L30.T15RYP.2023300T163218.v2.0/HLS.L30.T15RYP.2023300T163218.v2.0.SZA.tif', 'https://data.lpdaac.earthdatacloud.nasa.gov/lp-prod-protected/HLSL30.020/HLS.L30.T15RYP.2023300T163218.v2.0/HLS.L30.T15RYP.2023300T163218.v2.0.B10.tif', 'https://data.lpdaac.earthdatacloud.nasa.gov/lp-prod-protected/HLSL30.020/HLS.L30.T15RYP.2023300T163218.v2.0/HLS.L30.T15RYP.2023300T163218.v2.0.VZA.tif', 'https://data.lpdaac.earthdatacloud.nasa.gov/lp-prod-protected/HLSL30.020/HLS.L30.T15RYP.2023300T163218.v2.0/HLS.L30.T15RYP.2023300T163218.v2.0.B11.tif', 'https://data.lpdaac.earthdatacloud.nasa.gov/lp-prod-protected/HLSL30.020/HLS.L30.T15RYP.2023300T163218.v2.0/HLS.L30.T15RYP.2023300T163218.v2.0.B07.tif', 'https://data.lpdaac.earthdatacloud.nasa.gov/lp-prod-protected/HLSL30.020/HLS.L30.T15RYP.2023300T163218.v2.0/HLS.L30.T15RYP.2023300T163218.v2.0.B01.tif', 'https://data.lpdaac.earthdatacloud.nasa.gov/lp-prod-protected/HLSL30.020/HLS.L30.T15RYP.2023300T163218.v2.0/HLS.L30.T15RYP.2023300T163218.v2.0.VAA.tif', 'https://data.lpdaac.earthdatacloud.nasa.gov/lp-prod-protected/HLSL30.020/HLS.L30.T15RYP.2023300T163218.v2.0/HLS.L30.T15RYP.2023300T163218.v2.0.B05.tif', 'https://data.lpdaac.earthdatacloud.nasa.gov/lp-prod-protected/HLSL30.020/HLS.L30.T15RYP.2023300T163218.v2.0/HLS.L30.T15RYP.2023300T163218.v2.0.B06.tif', 'https://data.lpdaac.earthdatacloud.nasa.gov/lp-prod-protected/HLSL30.020/HLS.L30.T15RYP.2023300T163218.v2.0/HLS.L30.T15RYP.2023300T163218.v2.0.B02.tif', 'https://data.lpdaac.earthdatacloud.nasa.gov/lp-prod-protected/HLSL30.020/HLS.L30.T15RYP.2023300T163218.v2.0/HLS.L30.T15RYP.2023300T163218.v2.0.B09.tif', 'https://data.lpdaac.earthdatacloud.nasa.gov/lp-prod-protected/HLSL30.020/HLS.L30.T15RYP.2023300T163218.v2.0/HLS.L30.T15RYP.2023300T163218.v2.0.B03.tif', 'https://data.lpdaac.earthdatacloud.nasa.gov/lp-prod-protected/HLSL30.020/HLS.L30.T15RYP.2023300T163218.v2.0/HLS.L30.T15RYP.2023300T163218.v2.0.B04.tif']]"
            ]
          },
          "execution_count": 11,
          "metadata": {},
          "output_type": "execute_result"
        }
      ],
      "source": [
        "# Search for HLS tiles\n",
        "wbd_hls_results = earthaccess.search_data(\n",
        "    # dataset short name\n",
        "    short_name='HLSL30',\n",
        "    # the bounding box is the waterhsed boundary\n",
        "    bounding_box=tuple(wbd_gdf.total_bounds),\n",
        "    # temporal bounds from May - Oct 2023\n",
        "    temporal=('2023-05-01', '2023-10-31')\n",
        ")\n",
        "wbd_hls_results\n"
      ]
    },
    {
      "cell_type": "code",
      "execution_count": 12,
      "id": "bf637fc5",
      "metadata": {},
      "outputs": [
        {
          "data": {
            "text/html": [
              "<div>\n",
              "<style scoped>\n",
              "    .dataframe tbody tr th:only-of-type {\n",
              "        vertical-align: middle;\n",
              "    }\n",
              "\n",
              "    .dataframe tbody tr th {\n",
              "        vertical-align: top;\n",
              "    }\n",
              "\n",
              "    .dataframe thead th {\n",
              "        text-align: right;\n",
              "    }\n",
              "</style>\n",
              "<table border=\"1\" class=\"dataframe\">\n",
              "  <thead>\n",
              "    <tr style=\"text-align: right;\">\n",
              "      <th></th>\n",
              "      <th>meta</th>\n",
              "      <th>umm</th>\n",
              "      <th>size</th>\n",
              "    </tr>\n",
              "  </thead>\n",
              "  <tbody>\n",
              "    <tr>\n",
              "      <th>0</th>\n",
              "      <td>{'concept-type': 'granule', 'concept-id': 'G26...</td>\n",
              "      <td>{'TemporalExtent': {'RangeDateTime': {'Beginni...</td>\n",
              "      <td>87.651975</td>\n",
              "    </tr>\n",
              "    <tr>\n",
              "      <th>1</th>\n",
              "      <td>{'concept-type': 'granule', 'concept-id': 'G26...</td>\n",
              "      <td>{'TemporalExtent': {'RangeDateTime': {'Beginni...</td>\n",
              "      <td>150.901505</td>\n",
              "    </tr>\n",
              "    <tr>\n",
              "      <th>2</th>\n",
              "      <td>{'concept-type': 'granule', 'concept-id': 'G26...</td>\n",
              "      <td>{'TemporalExtent': {'RangeDateTime': {'Beginni...</td>\n",
              "      <td>182.547405</td>\n",
              "    </tr>\n",
              "    <tr>\n",
              "      <th>3</th>\n",
              "      <td>{'concept-type': 'granule', 'concept-id': 'G26...</td>\n",
              "      <td>{'TemporalExtent': {'RangeDateTime': {'Beginni...</td>\n",
              "      <td>145.737147</td>\n",
              "    </tr>\n",
              "    <tr>\n",
              "      <th>4</th>\n",
              "      <td>{'concept-type': 'granule', 'concept-id': 'G26...</td>\n",
              "      <td>{'TemporalExtent': {'RangeDateTime': {'Beginni...</td>\n",
              "      <td>98.771830</td>\n",
              "    </tr>\n",
              "    <tr>\n",
              "      <th>...</th>\n",
              "      <td>...</td>\n",
              "      <td>...</td>\n",
              "      <td>...</td>\n",
              "    </tr>\n",
              "    <tr>\n",
              "      <th>83</th>\n",
              "      <td>{'concept-type': 'granule', 'concept-id': 'G27...</td>\n",
              "      <td>{'TemporalExtent': {'RangeDateTime': {'Beginni...</td>\n",
              "      <td>156.733950</td>\n",
              "    </tr>\n",
              "    <tr>\n",
              "      <th>84</th>\n",
              "      <td>{'concept-type': 'granule', 'concept-id': 'G27...</td>\n",
              "      <td>{'TemporalExtent': {'RangeDateTime': {'Beginni...</td>\n",
              "      <td>145.328370</td>\n",
              "    </tr>\n",
              "    <tr>\n",
              "      <th>85</th>\n",
              "      <td>{'concept-type': 'granule', 'concept-id': 'G27...</td>\n",
              "      <td>{'TemporalExtent': {'RangeDateTime': {'Beginni...</td>\n",
              "      <td>186.026457</td>\n",
              "    </tr>\n",
              "    <tr>\n",
              "      <th>86</th>\n",
              "      <td>{'concept-type': 'granule', 'concept-id': 'G27...</td>\n",
              "      <td>{'TemporalExtent': {'RangeDateTime': {'Beginni...</td>\n",
              "      <td>97.142883</td>\n",
              "    </tr>\n",
              "    <tr>\n",
              "      <th>87</th>\n",
              "      <td>{'concept-type': 'granule', 'concept-id': 'G27...</td>\n",
              "      <td>{'TemporalExtent': {'RangeDateTime': {'Beginni...</td>\n",
              "      <td>185.032991</td>\n",
              "    </tr>\n",
              "  </tbody>\n",
              "</table>\n",
              "<p>88 rows × 3 columns</p>\n",
              "</div>"
            ],
            "text/plain": [
              "                                                 meta  \\\n",
              "0   {'concept-type': 'granule', 'concept-id': 'G26...   \n",
              "1   {'concept-type': 'granule', 'concept-id': 'G26...   \n",
              "2   {'concept-type': 'granule', 'concept-id': 'G26...   \n",
              "3   {'concept-type': 'granule', 'concept-id': 'G26...   \n",
              "4   {'concept-type': 'granule', 'concept-id': 'G26...   \n",
              "..                                                ...   \n",
              "83  {'concept-type': 'granule', 'concept-id': 'G27...   \n",
              "84  {'concept-type': 'granule', 'concept-id': 'G27...   \n",
              "85  {'concept-type': 'granule', 'concept-id': 'G27...   \n",
              "86  {'concept-type': 'granule', 'concept-id': 'G27...   \n",
              "87  {'concept-type': 'granule', 'concept-id': 'G27...   \n",
              "\n",
              "                                                  umm        size  \n",
              "0   {'TemporalExtent': {'RangeDateTime': {'Beginni...   87.651975  \n",
              "1   {'TemporalExtent': {'RangeDateTime': {'Beginni...  150.901505  \n",
              "2   {'TemporalExtent': {'RangeDateTime': {'Beginni...  182.547405  \n",
              "3   {'TemporalExtent': {'RangeDateTime': {'Beginni...  145.737147  \n",
              "4   {'TemporalExtent': {'RangeDateTime': {'Beginni...   98.771830  \n",
              "..                                                ...         ...  \n",
              "83  {'TemporalExtent': {'RangeDateTime': {'Beginni...  156.733950  \n",
              "84  {'TemporalExtent': {'RangeDateTime': {'Beginni...  145.328370  \n",
              "85  {'TemporalExtent': {'RangeDateTime': {'Beginni...  186.026457  \n",
              "86  {'TemporalExtent': {'RangeDateTime': {'Beginni...   97.142883  \n",
              "87  {'TemporalExtent': {'RangeDateTime': {'Beginni...  185.032991  \n",
              "\n",
              "[88 rows x 3 columns]"
            ]
          },
          "execution_count": 12,
          "metadata": {},
          "output_type": "execute_result"
        }
      ],
      "source": [
        "# add the wbd_hls_results go a geodataframe\n",
        "wbd_hls_gdf = gpd.GeoDataFrame(wbd_hls_results)\n",
        "wbd_hls_gdf"
      ]
    },
    {
      "cell_type": "markdown",
      "id": "1248ad42",
      "metadata": {},
      "source": [
        "### Compile information about each granule\n",
        "\n",
        "I recommend building a GeoDataFrame, as this will allow you to plot the\n",
        "granules you are downloading and make sure they line up with your\n",
        "shapefile. You could also use a DataFrame, dictionary, or a custom\n",
        "object to store this information.\n",
        "\n",
        "<link rel=\"stylesheet\" type=\"text/css\" href=\"./assets/styles.css\"><div class=\"callout callout-style-default callout-titled callout-task\"><div class=\"callout-header\"><div class=\"callout-icon-container\"><i class=\"callout-icon\"></i></div><div class=\"callout-title-container flex-fill\">Try It</div></div><div class=\"callout-body-container callout-body\"><ol type=\"1\">\n",
        "<li>For each search result:\n",
        "<ol type=\"1\">\n",
        "<li>Get the following information (HINT: look at the [‘umm’] values for\n",
        "each search result):\n",
        "<ul>\n",
        "<li>granule id (UR)</li>\n",
        "<li>datetime</li>\n",
        "<li>geometry (HINT: check out the shapely.geometry.Polygon class to\n",
        "convert points to a Polygon)</li>\n",
        "</ul></li>\n",
        "<li>Open the granule files. I recomment opening one granule at a time,\n",
        "e.g. with (<code>earthaccess.open([result]</code>).</li>\n",
        "<li>For each file (band), get the following information:\n",
        "<ul>\n",
        "<li>file handler returned from <code>earthaccess.open()</code></li>\n",
        "<li>tile id</li>\n",
        "<li>band number</li>\n",
        "</ul></li>\n",
        "</ol></li>\n",
        "<li>Compile all the information you collected into a GeoDataFrame</li>\n",
        "</ol></div></div>"
      ]
    },
    {
      "cell_type": "code",
      "execution_count": 13,
      "id": "e8800879",
      "metadata": {},
      "outputs": [
        {
          "data": {
            "text/plain": [
              "{'TemporalExtent': {'RangeDateTime': {'BeginningDateTime': '2023-05-04T16:31:32.101Z',\n",
              "   'EndingDateTime': '2023-05-04T16:31:55.992Z'}},\n",
              " 'GranuleUR': 'HLS.L30.T16RBT.2023124T163132.v2.0',\n",
              " 'AdditionalAttributes': [{'Name': 'LANDSAT_PRODUCT_ID',\n",
              "   'Values': ['LC08_L1TP_022039_20230504_20230504_02_RT',\n",
              "    'LC08_L1TP_022040_20230504_20230504_02_RT']},\n",
              "  {'Name': 'CLOUD_COVERAGE', 'Values': ['21']},\n",
              "  {'Name': 'MGRS_TILE_ID', 'Values': ['16RBT']},\n",
              "  {'Name': 'SPATIAL_COVERAGE', 'Values': ['57']},\n",
              "  {'Name': 'SPATIAL_RESOLUTION', 'Values': ['30.0']},\n",
              "  {'Name': 'SPATIAL_RESAMPLING_ALG', 'Values': ['Cubic Convolution']},\n",
              "  {'Name': 'HLS_PROCESSING_TIME', 'Values': ['2023-05-06T06:52:48Z']},\n",
              "  {'Name': 'SENSING_TIME',\n",
              "   'Values': ['2023-05-04T16:31:32.1012330Z', '2023-05-04T16:31:55.9922730Z']},\n",
              "  {'Name': 'HORIZONTAL_CS_NAME',\n",
              "   'Values': ['UTM, WGS84, UTM ZONE 15', 'UTM, WGS84, UTM ZONE 15']},\n",
              "  {'Name': 'ULX', 'Values': ['199980.0']},\n",
              "  {'Name': 'ULY', 'Values': ['3300000.0']},\n",
              "  {'Name': 'ADD_OFFSET', 'Values': ['0']},\n",
              "  {'Name': 'REF_SCALE_FACTOR', 'Values': ['0.0001']},\n",
              "  {'Name': 'THERM_SCALE_FACTOR', 'Values': ['0.01']},\n",
              "  {'Name': 'ANG_SCALE_FACTOR', 'Values': ['0.01']},\n",
              "  {'Name': 'FILLVALUE', 'Values': ['-9999']},\n",
              "  {'Name': 'QA_FILLVALUE', 'Values': ['255']},\n",
              "  {'Name': 'NCOLS', 'Values': ['3660']},\n",
              "  {'Name': 'NROWS', 'Values': ['3660']},\n",
              "  {'Name': 'MEAN_SUN_AZIMUTH_ANGLE', 'Values': ['119.99467788']},\n",
              "  {'Name': 'MEAN_SUN_ZENITH_ANGLE', 'Values': ['23.45547991']},\n",
              "  {'Name': 'MEAN_VIEW_AZIMUTH_ANGLE', 'Values': ['279.79005746']},\n",
              "  {'Name': 'MEAN_VIEW_ZENITH_ANGLE', 'Values': ['5.60121343']},\n",
              "  {'Name': 'NBAR_SOLAR_ZENITH', 'Values': ['22.2082246']},\n",
              "  {'Name': 'ACCODE', 'Values': ['LaSRC v3.0.5']},\n",
              "  {'Name': 'TIRS_SSM_MODEL', 'Values': ['PRELIMINARY', 'PRELIMINARY']},\n",
              "  {'Name': 'TIRS_SSM_POSITION_STATUS', 'Values': ['ESTIMATED', 'ESTIMATED']},\n",
              "  {'Name': 'USGS_SOFTWARE', 'Values': ['LPGS_16.2.0']},\n",
              "  {'Name': 'IDENTIFIER_PRODUCT_DOI', 'Values': ['10.5067/HLS/HLSL30.002']},\n",
              "  {'Name': 'IDENTIFIER_PRODUCT_DOI_AUTHORITY', 'Values': ['https://doi.org']}],\n",
              " 'SpatialExtent': {'HorizontalSpatialDomain': {'Geometry': {'GPolygons': [{'Boundary': {'Points': [{'Longitude': -90.07372506,\n",
              "         'Latitude': 28.80444525},\n",
              "        {'Longitude': -89.57473392, 'Latitude': 28.81489352},\n",
              "        {'Longitude': -89.30816409, 'Latitude': 29.81030157},\n",
              "        {'Longitude': -90.10353675, 'Latitude': 29.79400715},\n",
              "        {'Longitude': -90.07372506, 'Latitude': 28.80444525}]}}]}}},\n",
              " 'ProviderDates': [{'Date': '2023-05-06T06:54:50.344Z', 'Type': 'Insert'},\n",
              "  {'Date': '2023-05-06T06:54:50.344Z', 'Type': 'Update'}],\n",
              " 'CollectionReference': {'EntryTitle': 'HLS Landsat Operational Land Imager Surface Reflectance and TOA Brightness Daily Global 30m v2.0'},\n",
              " 'RelatedUrls': [{'URL': 'https://data.lpdaac.earthdatacloud.nasa.gov/lp-prod-protected/HLSL30.020/HLS.L30.T16RBT.2023124T163132.v2.0/HLS.L30.T16RBT.2023124T163132.v2.0.B03.tif',\n",
              "   'Type': 'GET DATA',\n",
              "   'Description': 'Download HLS.L30.T16RBT.2023124T163132.v2.0.B03.tif'},\n",
              "  {'URL': 's3://lp-prod-protected/HLSL30.020/HLS.L30.T16RBT.2023124T163132.v2.0/HLS.L30.T16RBT.2023124T163132.v2.0.B03.tif',\n",
              "   'Type': 'GET DATA VIA DIRECT ACCESS',\n",
              "   'Description': 'This link provides direct download access via S3 to the granule'},\n",
              "  {'URL': 'https://data.lpdaac.earthdatacloud.nasa.gov/lp-prod-protected/HLSL30.020/HLS.L30.T16RBT.2023124T163132.v2.0/HLS.L30.T16RBT.2023124T163132.v2.0.B07.tif',\n",
              "   'Type': 'GET DATA',\n",
              "   'Description': 'Download HLS.L30.T16RBT.2023124T163132.v2.0.B07.tif'},\n",
              "  {'URL': 's3://lp-prod-protected/HLSL30.020/HLS.L30.T16RBT.2023124T163132.v2.0/HLS.L30.T16RBT.2023124T163132.v2.0.B07.tif',\n",
              "   'Type': 'GET DATA VIA DIRECT ACCESS',\n",
              "   'Description': 'This link provides direct download access via S3 to the granule'},\n",
              "  {'URL': 'https://data.lpdaac.earthdatacloud.nasa.gov/lp-prod-protected/HLSL30.020/HLS.L30.T16RBT.2023124T163132.v2.0/HLS.L30.T16RBT.2023124T163132.v2.0.B06.tif',\n",
              "   'Type': 'GET DATA',\n",
              "   'Description': 'Download HLS.L30.T16RBT.2023124T163132.v2.0.B06.tif'},\n",
              "  {'URL': 's3://lp-prod-protected/HLSL30.020/HLS.L30.T16RBT.2023124T163132.v2.0/HLS.L30.T16RBT.2023124T163132.v2.0.B06.tif',\n",
              "   'Type': 'GET DATA VIA DIRECT ACCESS',\n",
              "   'Description': 'This link provides direct download access via S3 to the granule'},\n",
              "  {'URL': 'https://data.lpdaac.earthdatacloud.nasa.gov/lp-prod-protected/HLSL30.020/HLS.L30.T16RBT.2023124T163132.v2.0/HLS.L30.T16RBT.2023124T163132.v2.0.B02.tif',\n",
              "   'Type': 'GET DATA',\n",
              "   'Description': 'Download HLS.L30.T16RBT.2023124T163132.v2.0.B02.tif'},\n",
              "  {'URL': 's3://lp-prod-protected/HLSL30.020/HLS.L30.T16RBT.2023124T163132.v2.0/HLS.L30.T16RBT.2023124T163132.v2.0.B02.tif',\n",
              "   'Type': 'GET DATA VIA DIRECT ACCESS',\n",
              "   'Description': 'This link provides direct download access via S3 to the granule'},\n",
              "  {'URL': 'https://data.lpdaac.earthdatacloud.nasa.gov/lp-prod-protected/HLSL30.020/HLS.L30.T16RBT.2023124T163132.v2.0/HLS.L30.T16RBT.2023124T163132.v2.0.B01.tif',\n",
              "   'Type': 'GET DATA',\n",
              "   'Description': 'Download HLS.L30.T16RBT.2023124T163132.v2.0.B01.tif'},\n",
              "  {'URL': 's3://lp-prod-protected/HLSL30.020/HLS.L30.T16RBT.2023124T163132.v2.0/HLS.L30.T16RBT.2023124T163132.v2.0.B01.tif',\n",
              "   'Type': 'GET DATA VIA DIRECT ACCESS',\n",
              "   'Description': 'This link provides direct download access via S3 to the granule'},\n",
              "  {'URL': 'https://data.lpdaac.earthdatacloud.nasa.gov/lp-prod-protected/HLSL30.020/HLS.L30.T16RBT.2023124T163132.v2.0/HLS.L30.T16RBT.2023124T163132.v2.0.Fmask.tif',\n",
              "   'Type': 'GET DATA',\n",
              "   'Description': 'Download HLS.L30.T16RBT.2023124T163132.v2.0.Fmask.tif'},\n",
              "  {'URL': 's3://lp-prod-protected/HLSL30.020/HLS.L30.T16RBT.2023124T163132.v2.0/HLS.L30.T16RBT.2023124T163132.v2.0.Fmask.tif',\n",
              "   'Type': 'GET DATA VIA DIRECT ACCESS',\n",
              "   'Description': 'This link provides direct download access via S3 to the granule'},\n",
              "  {'URL': 'https://data.lpdaac.earthdatacloud.nasa.gov/lp-prod-protected/HLSL30.020/HLS.L30.T16RBT.2023124T163132.v2.0/HLS.L30.T16RBT.2023124T163132.v2.0.SZA.tif',\n",
              "   'Type': 'GET DATA',\n",
              "   'Description': 'Download HLS.L30.T16RBT.2023124T163132.v2.0.SZA.tif'},\n",
              "  {'URL': 's3://lp-prod-protected/HLSL30.020/HLS.L30.T16RBT.2023124T163132.v2.0/HLS.L30.T16RBT.2023124T163132.v2.0.SZA.tif',\n",
              "   'Type': 'GET DATA VIA DIRECT ACCESS',\n",
              "   'Description': 'This link provides direct download access via S3 to the granule'},\n",
              "  {'URL': 'https://data.lpdaac.earthdatacloud.nasa.gov/lp-prod-protected/HLSL30.020/HLS.L30.T16RBT.2023124T163132.v2.0/HLS.L30.T16RBT.2023124T163132.v2.0.SAA.tif',\n",
              "   'Type': 'GET DATA',\n",
              "   'Description': 'Download HLS.L30.T16RBT.2023124T163132.v2.0.SAA.tif'},\n",
              "  {'URL': 's3://lp-prod-protected/HLSL30.020/HLS.L30.T16RBT.2023124T163132.v2.0/HLS.L30.T16RBT.2023124T163132.v2.0.SAA.tif',\n",
              "   'Type': 'GET DATA VIA DIRECT ACCESS',\n",
              "   'Description': 'This link provides direct download access via S3 to the granule'},\n",
              "  {'URL': 'https://data.lpdaac.earthdatacloud.nasa.gov/lp-prod-protected/HLSL30.020/HLS.L30.T16RBT.2023124T163132.v2.0/HLS.L30.T16RBT.2023124T163132.v2.0.B05.tif',\n",
              "   'Type': 'GET DATA',\n",
              "   'Description': 'Download HLS.L30.T16RBT.2023124T163132.v2.0.B05.tif'},\n",
              "  {'URL': 's3://lp-prod-protected/HLSL30.020/HLS.L30.T16RBT.2023124T163132.v2.0/HLS.L30.T16RBT.2023124T163132.v2.0.B05.tif',\n",
              "   'Type': 'GET DATA VIA DIRECT ACCESS',\n",
              "   'Description': 'This link provides direct download access via S3 to the granule'},\n",
              "  {'URL': 'https://data.lpdaac.earthdatacloud.nasa.gov/lp-prod-protected/HLSL30.020/HLS.L30.T16RBT.2023124T163132.v2.0/HLS.L30.T16RBT.2023124T163132.v2.0.VAA.tif',\n",
              "   'Type': 'GET DATA',\n",
              "   'Description': 'Download HLS.L30.T16RBT.2023124T163132.v2.0.VAA.tif'},\n",
              "  {'URL': 's3://lp-prod-protected/HLSL30.020/HLS.L30.T16RBT.2023124T163132.v2.0/HLS.L30.T16RBT.2023124T163132.v2.0.VAA.tif',\n",
              "   'Type': 'GET DATA VIA DIRECT ACCESS',\n",
              "   'Description': 'This link provides direct download access via S3 to the granule'},\n",
              "  {'URL': 'https://data.lpdaac.earthdatacloud.nasa.gov/lp-prod-protected/HLSL30.020/HLS.L30.T16RBT.2023124T163132.v2.0/HLS.L30.T16RBT.2023124T163132.v2.0.B10.tif',\n",
              "   'Type': 'GET DATA',\n",
              "   'Description': 'Download HLS.L30.T16RBT.2023124T163132.v2.0.B10.tif'},\n",
              "  {'URL': 's3://lp-prod-protected/HLSL30.020/HLS.L30.T16RBT.2023124T163132.v2.0/HLS.L30.T16RBT.2023124T163132.v2.0.B10.tif',\n",
              "   'Type': 'GET DATA VIA DIRECT ACCESS',\n",
              "   'Description': 'This link provides direct download access via S3 to the granule'},\n",
              "  {'URL': 'https://data.lpdaac.earthdatacloud.nasa.gov/lp-prod-protected/HLSL30.020/HLS.L30.T16RBT.2023124T163132.v2.0/HLS.L30.T16RBT.2023124T163132.v2.0.B09.tif',\n",
              "   'Type': 'GET DATA',\n",
              "   'Description': 'Download HLS.L30.T16RBT.2023124T163132.v2.0.B09.tif'},\n",
              "  {'URL': 's3://lp-prod-protected/HLSL30.020/HLS.L30.T16RBT.2023124T163132.v2.0/HLS.L30.T16RBT.2023124T163132.v2.0.B09.tif',\n",
              "   'Type': 'GET DATA VIA DIRECT ACCESS',\n",
              "   'Description': 'This link provides direct download access via S3 to the granule'},\n",
              "  {'URL': 'https://data.lpdaac.earthdatacloud.nasa.gov/lp-prod-protected/HLSL30.020/HLS.L30.T16RBT.2023124T163132.v2.0/HLS.L30.T16RBT.2023124T163132.v2.0.B11.tif',\n",
              "   'Type': 'GET DATA',\n",
              "   'Description': 'Download HLS.L30.T16RBT.2023124T163132.v2.0.B11.tif'},\n",
              "  {'URL': 's3://lp-prod-protected/HLSL30.020/HLS.L30.T16RBT.2023124T163132.v2.0/HLS.L30.T16RBT.2023124T163132.v2.0.B11.tif',\n",
              "   'Type': 'GET DATA VIA DIRECT ACCESS',\n",
              "   'Description': 'This link provides direct download access via S3 to the granule'},\n",
              "  {'URL': 'https://data.lpdaac.earthdatacloud.nasa.gov/lp-prod-protected/HLSL30.020/HLS.L30.T16RBT.2023124T163132.v2.0/HLS.L30.T16RBT.2023124T163132.v2.0.B04.tif',\n",
              "   'Type': 'GET DATA',\n",
              "   'Description': 'Download HLS.L30.T16RBT.2023124T163132.v2.0.B04.tif'},\n",
              "  {'URL': 's3://lp-prod-protected/HLSL30.020/HLS.L30.T16RBT.2023124T163132.v2.0/HLS.L30.T16RBT.2023124T163132.v2.0.B04.tif',\n",
              "   'Type': 'GET DATA VIA DIRECT ACCESS',\n",
              "   'Description': 'This link provides direct download access via S3 to the granule'},\n",
              "  {'URL': 'https://data.lpdaac.earthdatacloud.nasa.gov/lp-prod-protected/HLSL30.020/HLS.L30.T16RBT.2023124T163132.v2.0/HLS.L30.T16RBT.2023124T163132.v2.0.VZA.tif',\n",
              "   'Type': 'GET DATA',\n",
              "   'Description': 'Download HLS.L30.T16RBT.2023124T163132.v2.0.VZA.tif'},\n",
              "  {'URL': 's3://lp-prod-protected/HLSL30.020/HLS.L30.T16RBT.2023124T163132.v2.0/HLS.L30.T16RBT.2023124T163132.v2.0.VZA.tif',\n",
              "   'Type': 'GET DATA VIA DIRECT ACCESS',\n",
              "   'Description': 'This link provides direct download access via S3 to the granule'},\n",
              "  {'URL': 'https://data.lpdaac.earthdatacloud.nasa.gov/lp-prod-public/HLSL30.020/HLS.L30.T16RBT.2023124T163132.v2.0/HLS.L30.T16RBT.2023124T163132.v2.0_stac.json',\n",
              "   'Type': 'VIEW RELATED INFORMATION',\n",
              "   'Description': 'Download HLS.L30.T16RBT.2023124T163132.v2.0_stac.json'},\n",
              "  {'URL': 's3://lp-prod-public/HLSL30.020/HLS.L30.T16RBT.2023124T163132.v2.0/HLS.L30.T16RBT.2023124T163132.v2.0_stac.json',\n",
              "   'Type': 'VIEW RELATED INFORMATION',\n",
              "   'Description': 'This link provides direct download access via S3 to the granule'},\n",
              "  {'URL': 'https://data.lpdaac.earthdatacloud.nasa.gov/lp-prod-protected/HLSL30.020/HLS.L30.T16RBT.2023124T163132.v2.0/HLS.L30.T16RBT.2023124T163132.v2.0.cmr.xml',\n",
              "   'Type': 'VIEW RELATED INFORMATION',\n",
              "   'Description': 'Download HLS.L30.T16RBT.2023124T163132.v2.0.cmr.xml'},\n",
              "  {'URL': 's3://lp-prod-protected/HLSL30.020/HLS.L30.T16RBT.2023124T163132.v2.0/HLS.L30.T16RBT.2023124T163132.v2.0.cmr.xml',\n",
              "   'Type': 'VIEW RELATED INFORMATION',\n",
              "   'Description': 'This link provides direct download access via S3 to the granule'},\n",
              "  {'URL': 'https://data.lpdaac.earthdatacloud.nasa.gov/s3credentials',\n",
              "   'Type': 'VIEW RELATED INFORMATION',\n",
              "   'Description': 'api endpoint to retrieve temporary credentials valid for same-region direct s3 access'},\n",
              "  {'URL': 'https://data.lpdaac.earthdatacloud.nasa.gov/lp-prod-public/HLSL30.020/HLS.L30.T16RBT.2023124T163132.v2.0/HLS.L30.T16RBT.2023124T163132.v2.0.jpg',\n",
              "   'Type': 'GET RELATED VISUALIZATION',\n",
              "   'Description': 'Download HLS.L30.T16RBT.2023124T163132.v2.0.jpg'},\n",
              "  {'URL': 's3://lp-prod-public/HLSL30.020/HLS.L30.T16RBT.2023124T163132.v2.0/HLS.L30.T16RBT.2023124T163132.v2.0.jpg',\n",
              "   'Type': 'GET RELATED VISUALIZATION',\n",
              "   'Description': 'This link provides direct download access via S3 to the granule'}],\n",
              " 'DataGranule': {'DayNightFlag': 'Day',\n",
              "  'Identifiers': [{'Identifier': 'HLS.L30.T16RBT.2023124T163132',\n",
              "    'IdentifierType': 'ProducerGranuleId'}],\n",
              "  'ProductionDateTime': '2023-05-06T06:52:48.000Z',\n",
              "  'ArchiveAndDistributionInformation': [{'Name': 'Not provided',\n",
              "    'SizeInBytes': 91909757,\n",
              "    'SizeUnit': 'MB'}]},\n",
              " 'Platforms': [{'ShortName': 'LANDSAT-8',\n",
              "   'Instruments': [{'ShortName': 'OLI'}]}],\n",
              " 'MetadataSpecification': {'URL': 'https://cdn.earthdata.nasa.gov/umm/granule/v1.6.6',\n",
              "  'Name': 'UMM-G',\n",
              "  'Version': '1.6.6'}}"
            ]
          },
          "execution_count": 13,
          "metadata": {},
          "output_type": "execute_result"
        }
      ],
      "source": [
        "# look at the 'umm' column for the first row\n",
        "wbd_hls_gdf['umm'].loc[0]"
      ]
    },
    {
      "cell_type": "code",
      "execution_count": 14,
      "id": "47d361ed",
      "metadata": {},
      "outputs": [
        {
          "data": {
            "text/plain": [
              "'HLS.L30.T16RBT.2023124T163132.v2.0'"
            ]
          },
          "execution_count": 14,
          "metadata": {},
          "output_type": "execute_result"
        }
      ],
      "source": [
        "# isolate the granule ID (UR) for the first row\n",
        "row1 = list(wbd_hls_gdf['umm'].loc[0].values())\n",
        "row1[1]"
      ]
    },
    {
      "cell_type": "code",
      "execution_count": 15,
      "id": "c9940f2a",
      "metadata": {},
      "outputs": [
        {
          "data": {
            "text/plain": [
              "{'RangeDateTime': {'BeginningDateTime': '2023-05-04T16:31:32.101Z',\n",
              "  'EndingDateTime': '2023-05-04T16:31:55.992Z'}}"
            ]
          },
          "execution_count": 15,
          "metadata": {},
          "output_type": "execute_result"
        }
      ],
      "source": [
        "# isolate the datetime for the first row\n",
        "row1[0]\n"
      ]
    },
    {
      "cell_type": "code",
      "execution_count": 16,
      "id": "5be44b18",
      "metadata": {},
      "outputs": [
        {
          "data": {
            "text/plain": [
              "['TemporalExtent',\n",
              " 'GranuleUR',\n",
              " 'AdditionalAttributes',\n",
              " 'SpatialExtent',\n",
              " 'ProviderDates',\n",
              " 'CollectionReference',\n",
              " 'RelatedUrls',\n",
              " 'DataGranule',\n",
              " 'Platforms',\n",
              " 'MetadataSpecification']"
            ]
          },
          "execution_count": 16,
          "metadata": {},
          "output_type": "execute_result"
        }
      ],
      "source": [
        "# identify the keys for the first row\n",
        "# the geometry, 'SpatialExtent' key is index 3\n",
        "row1_keys = list(wbd_hls_gdf['umm'].loc[0].keys())\n",
        "row1_keys\n"
      ]
    },
    {
      "cell_type": "code",
      "execution_count": 17,
      "id": "98029cf1",
      "metadata": {},
      "outputs": [
        {
          "data": {
            "text/plain": [
              "{'HorizontalSpatialDomain': {'Geometry': {'GPolygons': [{'Boundary': {'Points': [{'Longitude': -90.07372506,\n",
              "        'Latitude': 28.80444525},\n",
              "       {'Longitude': -89.57473392, 'Latitude': 28.81489352},\n",
              "       {'Longitude': -89.30816409, 'Latitude': 29.81030157},\n",
              "       {'Longitude': -90.10353675, 'Latitude': 29.79400715},\n",
              "       {'Longitude': -90.07372506, 'Latitude': 28.80444525}]}}]}}}"
            ]
          },
          "execution_count": 17,
          "metadata": {},
          "output_type": "execute_result"
        }
      ],
      "source": [
        "# isolate the SpatialExtent for the first row\n",
        "# this is a dictionary\n",
        "test = row1[3]\n",
        "test"
      ]
    },
    {
      "cell_type": "code",
      "execution_count": 18,
      "id": "1ad10f8a",
      "metadata": {},
      "outputs": [
        {
          "name": "stdout",
          "output_type": "stream",
          "text": [
            "[{'Longitude': -90.07372506, 'Latitude': 28.80444525}, {'Longitude': -89.57473392, 'Latitude': 28.81489352}, {'Longitude': -89.30816409, 'Latitude': 29.81030157}, {'Longitude': -90.10353675, 'Latitude': 29.79400715}, {'Longitude': -90.07372506, 'Latitude': 28.80444525}]\n",
            "POLYGON ((-90.07372506 28.80444525, -89.57473392 28.81489352, -89.30816409 29.81030157, -90.10353675 29.79400715, -90.07372506 28.80444525))\n"
          ]
        }
      ],
      "source": [
        "# The first part of Elsa's loop to compile info abt each granule\n",
        "# granule = the first result\n",
        "granule = wbd_hls_results[0]\n",
        "# look at just the metadata, umm, of the first result\n",
        "info_dict = granule['umm']\n",
        "# create a list of all points, lat/lon, for the first result from the umm column of the first result\n",
        "points = (\n",
        "    info_dict\n",
        "    # select the first thing in the GPolygons list\n",
        "    ['SpatialExtent']['HorizontalSpatialDomain']['Geometry']['GPolygons'][0]\n",
        "    ['Boundary']['Points'])\n",
        "# create the geometry (Polygon) of the first result using Polygon from shapely\n",
        "# loop through all the points in our points list and get the lat/long for each one to create the geometry\n",
        "geometry = Polygon(\n",
        "    [(point['Longitude'], point['Latitude']) for point in points])\n",
        "\n",
        "print(points)\n",
        "print(geometry)"
      ]
    },
    {
      "cell_type": "code",
      "execution_count": 19,
      "id": "67b83f58",
      "metadata": {},
      "outputs": [
        {
          "data": {
            "application/vnd.jupyter.widget-view+json": {
              "model_id": "ead82586fd8047859a4aa89c13f724b2",
              "version_major": 2,
              "version_minor": 0
            },
            "text/plain": [
              "QUEUEING TASKS | :   0%|          | 0/15 [00:00<?, ?it/s]"
            ]
          },
          "metadata": {},
          "output_type": "display_data"
        },
        {
          "data": {
            "application/vnd.jupyter.widget-view+json": {
              "model_id": "c01e86b4445948c6bc19e8d12619c26d",
              "version_major": 2,
              "version_minor": 0
            },
            "text/plain": [
              "PROCESSING TASKS | :   0%|          | 0/15 [00:00<?, ?it/s]"
            ]
          },
          "metadata": {},
          "output_type": "display_data"
        },
        {
          "data": {
            "application/vnd.jupyter.widget-view+json": {
              "model_id": "825aabf2a1b347c3b8c0996655b1a503",
              "version_major": 2,
              "version_minor": 0
            },
            "text/plain": [
              "COLLECTING RESULTS | :   0%|          | 0/15 [00:00<?, ?it/s]"
            ]
          },
          "metadata": {},
          "output_type": "display_data"
        }
      ],
      "source": [
        "# open test granule\n",
        "opened_granule = earthaccess.open([granule])"
      ]
    },
    {
      "cell_type": "code",
      "execution_count": 20,
      "id": "0bad5ebe",
      "metadata": {},
      "outputs": [
        {
          "data": {
            "text/plain": [
              "[<File-like object HTTPFileSystem, https://data.lpdaac.earthdatacloud.nasa.gov/lp-prod-protected/HLSL30.020/HLS.L30.T16RBT.2023124T163132.v2.0/HLS.L30.T16RBT.2023124T163132.v2.0.B03.tif>,\n",
              " <File-like object HTTPFileSystem, https://data.lpdaac.earthdatacloud.nasa.gov/lp-prod-protected/HLSL30.020/HLS.L30.T16RBT.2023124T163132.v2.0/HLS.L30.T16RBT.2023124T163132.v2.0.B07.tif>,\n",
              " <File-like object HTTPFileSystem, https://data.lpdaac.earthdatacloud.nasa.gov/lp-prod-protected/HLSL30.020/HLS.L30.T16RBT.2023124T163132.v2.0/HLS.L30.T16RBT.2023124T163132.v2.0.B06.tif>,\n",
              " <File-like object HTTPFileSystem, https://data.lpdaac.earthdatacloud.nasa.gov/lp-prod-protected/HLSL30.020/HLS.L30.T16RBT.2023124T163132.v2.0/HLS.L30.T16RBT.2023124T163132.v2.0.B02.tif>,\n",
              " <File-like object HTTPFileSystem, https://data.lpdaac.earthdatacloud.nasa.gov/lp-prod-protected/HLSL30.020/HLS.L30.T16RBT.2023124T163132.v2.0/HLS.L30.T16RBT.2023124T163132.v2.0.B01.tif>,\n",
              " <File-like object HTTPFileSystem, https://data.lpdaac.earthdatacloud.nasa.gov/lp-prod-protected/HLSL30.020/HLS.L30.T16RBT.2023124T163132.v2.0/HLS.L30.T16RBT.2023124T163132.v2.0.Fmask.tif>,\n",
              " <File-like object HTTPFileSystem, https://data.lpdaac.earthdatacloud.nasa.gov/lp-prod-protected/HLSL30.020/HLS.L30.T16RBT.2023124T163132.v2.0/HLS.L30.T16RBT.2023124T163132.v2.0.SZA.tif>,\n",
              " <File-like object HTTPFileSystem, https://data.lpdaac.earthdatacloud.nasa.gov/lp-prod-protected/HLSL30.020/HLS.L30.T16RBT.2023124T163132.v2.0/HLS.L30.T16RBT.2023124T163132.v2.0.SAA.tif>,\n",
              " <File-like object HTTPFileSystem, https://data.lpdaac.earthdatacloud.nasa.gov/lp-prod-protected/HLSL30.020/HLS.L30.T16RBT.2023124T163132.v2.0/HLS.L30.T16RBT.2023124T163132.v2.0.B05.tif>,\n",
              " <File-like object HTTPFileSystem, https://data.lpdaac.earthdatacloud.nasa.gov/lp-prod-protected/HLSL30.020/HLS.L30.T16RBT.2023124T163132.v2.0/HLS.L30.T16RBT.2023124T163132.v2.0.VAA.tif>,\n",
              " <File-like object HTTPFileSystem, https://data.lpdaac.earthdatacloud.nasa.gov/lp-prod-protected/HLSL30.020/HLS.L30.T16RBT.2023124T163132.v2.0/HLS.L30.T16RBT.2023124T163132.v2.0.B10.tif>,\n",
              " <File-like object HTTPFileSystem, https://data.lpdaac.earthdatacloud.nasa.gov/lp-prod-protected/HLSL30.020/HLS.L30.T16RBT.2023124T163132.v2.0/HLS.L30.T16RBT.2023124T163132.v2.0.B09.tif>,\n",
              " <File-like object HTTPFileSystem, https://data.lpdaac.earthdatacloud.nasa.gov/lp-prod-protected/HLSL30.020/HLS.L30.T16RBT.2023124T163132.v2.0/HLS.L30.T16RBT.2023124T163132.v2.0.B11.tif>,\n",
              " <File-like object HTTPFileSystem, https://data.lpdaac.earthdatacloud.nasa.gov/lp-prod-protected/HLSL30.020/HLS.L30.T16RBT.2023124T163132.v2.0/HLS.L30.T16RBT.2023124T163132.v2.0.B04.tif>,\n",
              " <File-like object HTTPFileSystem, https://data.lpdaac.earthdatacloud.nasa.gov/lp-prod-protected/HLSL30.020/HLS.L30.T16RBT.2023124T163132.v2.0/HLS.L30.T16RBT.2023124T163132.v2.0.VZA.tif>]"
            ]
          },
          "execution_count": 20,
          "metadata": {},
          "output_type": "execute_result"
        }
      ],
      "source": [
        "# look at opened_granule\n",
        "# 15 different .tif files, each for a different band\n",
        "opened_granule"
      ]
    },
    {
      "cell_type": "code",
      "execution_count": 23,
      "id": "44e2e6b9",
      "metadata": {},
      "outputs": [
        {
          "data": {
            "text/plain": [
              "{'tile_id': 'T16RBT', 'band_id': 'B03'}"
            ]
          },
          "execution_count": 23,
          "metadata": {},
          "output_type": "execute_result"
        }
      ],
      "source": [
        "# get tile ids and band numbers for the granule\n",
        "# Compile a regular expression to search for metadata\n",
        "# the r indicates this is a raw string and highlights all escaped characters (the dots), limits our need to escape special characters\n",
        "uri_re = re.compile(\n",
        "    r\"HLS\\.L30\\.(?P<tile_id>T[0-9A-Z]+)\"\n",
        "    r\"\\.\\d+T\\d+\\.v\\d\\.\\d\\.\"\n",
        "    r\"(?P<band_id>[A-Za-z0-9].+)\\.tif\"\n",
        ")\n",
        "\n",
        "#this yields a dictionary with the tile id, date, and band id\n",
        "# 0 index above is B03, green band\n",
        "# the date is the 124 day of 2023\n",
        "uri_re.search(opened_granule[0].full_name).groupdict()"
      ]
    },
    {
      "cell_type": "markdown",
      "id": "87440baa",
      "metadata": {},
      "source": [
        "Use above code to start trying to craft for loop(s)"
      ]
    },
    {
      "cell_type": "code",
      "execution_count": 24,
      "id": "3232b393",
      "metadata": {},
      "outputs": [
        {
          "data": {
            "application/vnd.jupyter.widget-view+json": {
              "model_id": "5756973812b3494fb6df240364ac4c5a",
              "version_major": 2,
              "version_minor": 0
            },
            "text/plain": [
              "  0%|          | 0/88 [00:00<?, ?it/s]"
            ]
          },
          "metadata": {},
          "output_type": "display_data"
        }
      ],
      "source": [
        "# Get granule metadata (ID (UR), datetime, and geometry)\n",
        "\n",
        "## create empty lists to add metadata to\n",
        "granule_ids = []\n",
        "granule_datetimes = []\n",
        "granule_geometries = []\n",
        "\n",
        "## set up for loop, tqdm creates a progress bar\n",
        "## for each row in the wbd_gls_results...\n",
        "for row in tqdm(wbd_hls_results):\n",
        "    metadata = row['umm']\n",
        "    ## identify the granule_id and append it to the granule_ids list\n",
        "    granule_id = metadata['GranuleUR']\n",
        "    granule_ids.append(granule_id)\n",
        "\n",
        "    ## identify the granule_datetime and append it to the granule_datetimes list\n",
        "    granule_datetime = pd.to_datetime(metadata\n",
        "        ['TemporalExtent']['RangeDateTime']['BeginningDateTime'])\n",
        "    granule_datetimes.append(granule_datetime)\n",
        "\n",
        "    ## identify the granule_geometry and append it to the granule_geometries list\n",
        "    ## create a list of all points, lat/lon, for the first result from the umm column of the first result\n",
        "    points = (\n",
        "        metadata\n",
        "        # select the first thing in the GPolygons list\n",
        "        ['SpatialExtent']['HorizontalSpatialDomain']['Geometry']['GPolygons'][0]\n",
        "        ['Boundary']['Points'])\n",
        "    ## create the geometry (Polygon) of the first result using Polygon from shapely\n",
        "    ## loop through all the points in our points list and get the lat/long for each one to create the geometry\n",
        "    geometry = Polygon(\n",
        "        [(point['Longitude'], point['Latitude']) for point in points])\n",
        "    granule_geometries.append(geometry)"
      ]
    },
    {
      "cell_type": "code",
      "execution_count": 25,
      "id": "c0bd19f2",
      "metadata": {},
      "outputs": [
        {
          "data": {
            "application/vnd.jupyter.widget-view+json": {
              "model_id": "a43a050a5c404e5dbbd1782664ae330b",
              "version_major": 2,
              "version_minor": 0
            },
            "text/plain": [
              "  0%|          | 0/88 [00:00<?, ?it/s]"
            ]
          },
          "metadata": {},
          "output_type": "display_data"
        },
        {
          "data": {
            "application/vnd.jupyter.widget-view+json": {
              "model_id": "2fa4374208a74f86b0c6eb0c0a68d6f5",
              "version_major": 2,
              "version_minor": 0
            },
            "text/plain": [
              "QUEUEING TASKS | :   0%|          | 0/15 [00:00<?, ?it/s]"
            ]
          },
          "metadata": {},
          "output_type": "display_data"
        },
        {
          "data": {
            "application/vnd.jupyter.widget-view+json": {
              "model_id": "9d3451ada19b45368ca4b35c7326d01f",
              "version_major": 2,
              "version_minor": 0
            },
            "text/plain": [
              "PROCESSING TASKS | :   0%|          | 0/15 [00:00<?, ?it/s]"
            ]
          },
          "metadata": {},
          "output_type": "display_data"
        },
        {
          "data": {
            "application/vnd.jupyter.widget-view+json": {
              "model_id": "727456467b324428869a0d35fdd5cd65",
              "version_major": 2,
              "version_minor": 0
            },
            "text/plain": [
              "COLLECTING RESULTS | :   0%|          | 0/15 [00:00<?, ?it/s]"
            ]
          },
          "metadata": {},
          "output_type": "display_data"
        },
        {
          "data": {
            "application/vnd.jupyter.widget-view+json": {
              "model_id": "ea9ec1e1065949b49356a49d02f4550d",
              "version_major": 2,
              "version_minor": 0
            },
            "text/plain": [
              "QUEUEING TASKS | :   0%|          | 0/15 [00:00<?, ?it/s]"
            ]
          },
          "metadata": {},
          "output_type": "display_data"
        },
        {
          "data": {
            "application/vnd.jupyter.widget-view+json": {
              "model_id": "4ed4892d967340f7a5e94da22e59cb32",
              "version_major": 2,
              "version_minor": 0
            },
            "text/plain": [
              "PROCESSING TASKS | :   0%|          | 0/15 [00:00<?, ?it/s]"
            ]
          },
          "metadata": {},
          "output_type": "display_data"
        },
        {
          "data": {
            "application/vnd.jupyter.widget-view+json": {
              "model_id": "4a22146a52c347a3b1449a4cb9f33115",
              "version_major": 2,
              "version_minor": 0
            },
            "text/plain": [
              "COLLECTING RESULTS | :   0%|          | 0/15 [00:00<?, ?it/s]"
            ]
          },
          "metadata": {},
          "output_type": "display_data"
        },
        {
          "data": {
            "application/vnd.jupyter.widget-view+json": {
              "model_id": "6a9e87719fdf4f5887879be2a96d18c2",
              "version_major": 2,
              "version_minor": 0
            },
            "text/plain": [
              "QUEUEING TASKS | :   0%|          | 0/15 [00:00<?, ?it/s]"
            ]
          },
          "metadata": {},
          "output_type": "display_data"
        },
        {
          "data": {
            "application/vnd.jupyter.widget-view+json": {
              "model_id": "ed65a4dd6a7247929222cafecade44c1",
              "version_major": 2,
              "version_minor": 0
            },
            "text/plain": [
              "PROCESSING TASKS | :   0%|          | 0/15 [00:00<?, ?it/s]"
            ]
          },
          "metadata": {},
          "output_type": "display_data"
        },
        {
          "data": {
            "application/vnd.jupyter.widget-view+json": {
              "model_id": "b7a0b397077e497b8a0cad49a84a74e0",
              "version_major": 2,
              "version_minor": 0
            },
            "text/plain": [
              "COLLECTING RESULTS | :   0%|          | 0/15 [00:00<?, ?it/s]"
            ]
          },
          "metadata": {},
          "output_type": "display_data"
        },
        {
          "data": {
            "application/vnd.jupyter.widget-view+json": {
              "model_id": "b9c3fb6b73e541d2a213c23fe819878e",
              "version_major": 2,
              "version_minor": 0
            },
            "text/plain": [
              "QUEUEING TASKS | :   0%|          | 0/15 [00:00<?, ?it/s]"
            ]
          },
          "metadata": {},
          "output_type": "display_data"
        },
        {
          "data": {
            "application/vnd.jupyter.widget-view+json": {
              "model_id": "b03df1d46925401ea149b22695a23bb5",
              "version_major": 2,
              "version_minor": 0
            },
            "text/plain": [
              "PROCESSING TASKS | :   0%|          | 0/15 [00:00<?, ?it/s]"
            ]
          },
          "metadata": {},
          "output_type": "display_data"
        },
        {
          "data": {
            "application/vnd.jupyter.widget-view+json": {
              "model_id": "1c75b2b2daa4495495fbf2bf99ca9d1e",
              "version_major": 2,
              "version_minor": 0
            },
            "text/plain": [
              "COLLECTING RESULTS | :   0%|          | 0/15 [00:00<?, ?it/s]"
            ]
          },
          "metadata": {},
          "output_type": "display_data"
        },
        {
          "data": {
            "application/vnd.jupyter.widget-view+json": {
              "model_id": "57c3e6c39f9e412888b17bb7f3adaf56",
              "version_major": 2,
              "version_minor": 0
            },
            "text/plain": [
              "QUEUEING TASKS | :   0%|          | 0/15 [00:00<?, ?it/s]"
            ]
          },
          "metadata": {},
          "output_type": "display_data"
        },
        {
          "data": {
            "application/vnd.jupyter.widget-view+json": {
              "model_id": "eb23f2a60d294e84bea967b08eaec1cd",
              "version_major": 2,
              "version_minor": 0
            },
            "text/plain": [
              "PROCESSING TASKS | :   0%|          | 0/15 [00:00<?, ?it/s]"
            ]
          },
          "metadata": {},
          "output_type": "display_data"
        },
        {
          "data": {
            "application/vnd.jupyter.widget-view+json": {
              "model_id": "0fad7709919349899f35cf8df3ca65c2",
              "version_major": 2,
              "version_minor": 0
            },
            "text/plain": [
              "COLLECTING RESULTS | :   0%|          | 0/15 [00:00<?, ?it/s]"
            ]
          },
          "metadata": {},
          "output_type": "display_data"
        },
        {
          "data": {
            "application/vnd.jupyter.widget-view+json": {
              "model_id": "e3ee341e0c5848c3952986e11e15667e",
              "version_major": 2,
              "version_minor": 0
            },
            "text/plain": [
              "QUEUEING TASKS | :   0%|          | 0/15 [00:00<?, ?it/s]"
            ]
          },
          "metadata": {},
          "output_type": "display_data"
        },
        {
          "data": {
            "application/vnd.jupyter.widget-view+json": {
              "model_id": "f961f7e6c5414eafb297a446485b0ae4",
              "version_major": 2,
              "version_minor": 0
            },
            "text/plain": [
              "PROCESSING TASKS | :   0%|          | 0/15 [00:00<?, ?it/s]"
            ]
          },
          "metadata": {},
          "output_type": "display_data"
        },
        {
          "data": {
            "application/vnd.jupyter.widget-view+json": {
              "model_id": "d557fb21b89248cb9d4da9672f4deef9",
              "version_major": 2,
              "version_minor": 0
            },
            "text/plain": [
              "COLLECTING RESULTS | :   0%|          | 0/15 [00:00<?, ?it/s]"
            ]
          },
          "metadata": {},
          "output_type": "display_data"
        },
        {
          "data": {
            "application/vnd.jupyter.widget-view+json": {
              "model_id": "66206eb73ed94185b08538b9ba8f447a",
              "version_major": 2,
              "version_minor": 0
            },
            "text/plain": [
              "QUEUEING TASKS | :   0%|          | 0/15 [00:00<?, ?it/s]"
            ]
          },
          "metadata": {},
          "output_type": "display_data"
        },
        {
          "data": {
            "application/vnd.jupyter.widget-view+json": {
              "model_id": "2615d64ffee24a809a611e8f2676159a",
              "version_major": 2,
              "version_minor": 0
            },
            "text/plain": [
              "PROCESSING TASKS | :   0%|          | 0/15 [00:00<?, ?it/s]"
            ]
          },
          "metadata": {},
          "output_type": "display_data"
        },
        {
          "data": {
            "application/vnd.jupyter.widget-view+json": {
              "model_id": "3c12e23376c14cd894f6515b2255dda0",
              "version_major": 2,
              "version_minor": 0
            },
            "text/plain": [
              "COLLECTING RESULTS | :   0%|          | 0/15 [00:00<?, ?it/s]"
            ]
          },
          "metadata": {},
          "output_type": "display_data"
        },
        {
          "data": {
            "application/vnd.jupyter.widget-view+json": {
              "model_id": "7dbd94e69931413da915d4c99955e379",
              "version_major": 2,
              "version_minor": 0
            },
            "text/plain": [
              "QUEUEING TASKS | :   0%|          | 0/15 [00:00<?, ?it/s]"
            ]
          },
          "metadata": {},
          "output_type": "display_data"
        },
        {
          "data": {
            "application/vnd.jupyter.widget-view+json": {
              "model_id": "034b451a8daa4a6b9e6fb30aa911faf5",
              "version_major": 2,
              "version_minor": 0
            },
            "text/plain": [
              "PROCESSING TASKS | :   0%|          | 0/15 [00:00<?, ?it/s]"
            ]
          },
          "metadata": {},
          "output_type": "display_data"
        },
        {
          "data": {
            "application/vnd.jupyter.widget-view+json": {
              "model_id": "77fff28cdbf04ea28edcbe7bcc0d941b",
              "version_major": 2,
              "version_minor": 0
            },
            "text/plain": [
              "COLLECTING RESULTS | :   0%|          | 0/15 [00:00<?, ?it/s]"
            ]
          },
          "metadata": {},
          "output_type": "display_data"
        },
        {
          "data": {
            "application/vnd.jupyter.widget-view+json": {
              "model_id": "7560de2271ad401b840f006f4b47843d",
              "version_major": 2,
              "version_minor": 0
            },
            "text/plain": [
              "QUEUEING TASKS | :   0%|          | 0/15 [00:00<?, ?it/s]"
            ]
          },
          "metadata": {},
          "output_type": "display_data"
        },
        {
          "data": {
            "application/vnd.jupyter.widget-view+json": {
              "model_id": "77e4f4b0b2b943ccbdf0c0e98a7142dd",
              "version_major": 2,
              "version_minor": 0
            },
            "text/plain": [
              "PROCESSING TASKS | :   0%|          | 0/15 [00:00<?, ?it/s]"
            ]
          },
          "metadata": {},
          "output_type": "display_data"
        },
        {
          "data": {
            "application/vnd.jupyter.widget-view+json": {
              "model_id": "c99a0abd64154fada52a4a9ac68d1412",
              "version_major": 2,
              "version_minor": 0
            },
            "text/plain": [
              "COLLECTING RESULTS | :   0%|          | 0/15 [00:00<?, ?it/s]"
            ]
          },
          "metadata": {},
          "output_type": "display_data"
        },
        {
          "data": {
            "application/vnd.jupyter.widget-view+json": {
              "model_id": "9a4d980d09f447289b3f739ab4582837",
              "version_major": 2,
              "version_minor": 0
            },
            "text/plain": [
              "QUEUEING TASKS | :   0%|          | 0/15 [00:00<?, ?it/s]"
            ]
          },
          "metadata": {},
          "output_type": "display_data"
        },
        {
          "data": {
            "application/vnd.jupyter.widget-view+json": {
              "model_id": "de4ec79ccc0e4014948436fedf5b3a3f",
              "version_major": 2,
              "version_minor": 0
            },
            "text/plain": [
              "PROCESSING TASKS | :   0%|          | 0/15 [00:00<?, ?it/s]"
            ]
          },
          "metadata": {},
          "output_type": "display_data"
        },
        {
          "data": {
            "application/vnd.jupyter.widget-view+json": {
              "model_id": "83c6b26750854bc7b7613eb76c65da1c",
              "version_major": 2,
              "version_minor": 0
            },
            "text/plain": [
              "COLLECTING RESULTS | :   0%|          | 0/15 [00:00<?, ?it/s]"
            ]
          },
          "metadata": {},
          "output_type": "display_data"
        },
        {
          "data": {
            "application/vnd.jupyter.widget-view+json": {
              "model_id": "59c261a7f71b4aa7acc4a8a23ff553f1",
              "version_major": 2,
              "version_minor": 0
            },
            "text/plain": [
              "QUEUEING TASKS | :   0%|          | 0/15 [00:00<?, ?it/s]"
            ]
          },
          "metadata": {},
          "output_type": "display_data"
        },
        {
          "data": {
            "application/vnd.jupyter.widget-view+json": {
              "model_id": "8b863a046da34b7c941202ca932f72c4",
              "version_major": 2,
              "version_minor": 0
            },
            "text/plain": [
              "PROCESSING TASKS | :   0%|          | 0/15 [00:00<?, ?it/s]"
            ]
          },
          "metadata": {},
          "output_type": "display_data"
        },
        {
          "data": {
            "application/vnd.jupyter.widget-view+json": {
              "model_id": "d7b472268af441b4acd638cec7696e23",
              "version_major": 2,
              "version_minor": 0
            },
            "text/plain": [
              "COLLECTING RESULTS | :   0%|          | 0/15 [00:00<?, ?it/s]"
            ]
          },
          "metadata": {},
          "output_type": "display_data"
        },
        {
          "data": {
            "application/vnd.jupyter.widget-view+json": {
              "model_id": "2dcebdaf688841a7be6a3f6c0dd8fdba",
              "version_major": 2,
              "version_minor": 0
            },
            "text/plain": [
              "QUEUEING TASKS | :   0%|          | 0/15 [00:00<?, ?it/s]"
            ]
          },
          "metadata": {},
          "output_type": "display_data"
        },
        {
          "data": {
            "application/vnd.jupyter.widget-view+json": {
              "model_id": "f3e69c2f13964b7c8a521b4538a84b24",
              "version_major": 2,
              "version_minor": 0
            },
            "text/plain": [
              "PROCESSING TASKS | :   0%|          | 0/15 [00:00<?, ?it/s]"
            ]
          },
          "metadata": {},
          "output_type": "display_data"
        },
        {
          "data": {
            "application/vnd.jupyter.widget-view+json": {
              "model_id": "f668a0db42f24485926a05e0a5770513",
              "version_major": 2,
              "version_minor": 0
            },
            "text/plain": [
              "COLLECTING RESULTS | :   0%|          | 0/15 [00:00<?, ?it/s]"
            ]
          },
          "metadata": {},
          "output_type": "display_data"
        },
        {
          "data": {
            "application/vnd.jupyter.widget-view+json": {
              "model_id": "7f94762da089472f943b07018606c27c",
              "version_major": 2,
              "version_minor": 0
            },
            "text/plain": [
              "QUEUEING TASKS | :   0%|          | 0/15 [00:00<?, ?it/s]"
            ]
          },
          "metadata": {},
          "output_type": "display_data"
        },
        {
          "data": {
            "application/vnd.jupyter.widget-view+json": {
              "model_id": "05a592ee1343409aa804b055eb5e282b",
              "version_major": 2,
              "version_minor": 0
            },
            "text/plain": [
              "PROCESSING TASKS | :   0%|          | 0/15 [00:00<?, ?it/s]"
            ]
          },
          "metadata": {},
          "output_type": "display_data"
        },
        {
          "data": {
            "application/vnd.jupyter.widget-view+json": {
              "model_id": "e61d8cf2c336482a89ca2ca9177d5663",
              "version_major": 2,
              "version_minor": 0
            },
            "text/plain": [
              "COLLECTING RESULTS | :   0%|          | 0/15 [00:00<?, ?it/s]"
            ]
          },
          "metadata": {},
          "output_type": "display_data"
        },
        {
          "data": {
            "application/vnd.jupyter.widget-view+json": {
              "model_id": "729066627dfd4aca82c771bc4d5c2e25",
              "version_major": 2,
              "version_minor": 0
            },
            "text/plain": [
              "QUEUEING TASKS | :   0%|          | 0/15 [00:00<?, ?it/s]"
            ]
          },
          "metadata": {},
          "output_type": "display_data"
        },
        {
          "data": {
            "application/vnd.jupyter.widget-view+json": {
              "model_id": "0b28ac91cada4dc3bc2361aa80e55476",
              "version_major": 2,
              "version_minor": 0
            },
            "text/plain": [
              "PROCESSING TASKS | :   0%|          | 0/15 [00:00<?, ?it/s]"
            ]
          },
          "metadata": {},
          "output_type": "display_data"
        },
        {
          "data": {
            "application/vnd.jupyter.widget-view+json": {
              "model_id": "1827b7be803a4679b7626046cc7ebe4b",
              "version_major": 2,
              "version_minor": 0
            },
            "text/plain": [
              "COLLECTING RESULTS | :   0%|          | 0/15 [00:00<?, ?it/s]"
            ]
          },
          "metadata": {},
          "output_type": "display_data"
        },
        {
          "data": {
            "application/vnd.jupyter.widget-view+json": {
              "model_id": "f33d2117d26147c9958e0a6c51e28509",
              "version_major": 2,
              "version_minor": 0
            },
            "text/plain": [
              "QUEUEING TASKS | :   0%|          | 0/15 [00:00<?, ?it/s]"
            ]
          },
          "metadata": {},
          "output_type": "display_data"
        },
        {
          "data": {
            "application/vnd.jupyter.widget-view+json": {
              "model_id": "95478d5ba16b42978c1da16d6083ab30",
              "version_major": 2,
              "version_minor": 0
            },
            "text/plain": [
              "PROCESSING TASKS | :   0%|          | 0/15 [00:00<?, ?it/s]"
            ]
          },
          "metadata": {},
          "output_type": "display_data"
        },
        {
          "data": {
            "application/vnd.jupyter.widget-view+json": {
              "model_id": "99a2d4f5799a469bb5b3c711a853bc45",
              "version_major": 2,
              "version_minor": 0
            },
            "text/plain": [
              "COLLECTING RESULTS | :   0%|          | 0/15 [00:00<?, ?it/s]"
            ]
          },
          "metadata": {},
          "output_type": "display_data"
        },
        {
          "data": {
            "application/vnd.jupyter.widget-view+json": {
              "model_id": "e6518ce7a55a4ccc8ce2dbf9f2885a9c",
              "version_major": 2,
              "version_minor": 0
            },
            "text/plain": [
              "QUEUEING TASKS | :   0%|          | 0/15 [00:00<?, ?it/s]"
            ]
          },
          "metadata": {},
          "output_type": "display_data"
        },
        {
          "data": {
            "application/vnd.jupyter.widget-view+json": {
              "model_id": "596e3bb9c0784eac9642d383f63e8f1a",
              "version_major": 2,
              "version_minor": 0
            },
            "text/plain": [
              "PROCESSING TASKS | :   0%|          | 0/15 [00:00<?, ?it/s]"
            ]
          },
          "metadata": {},
          "output_type": "display_data"
        },
        {
          "data": {
            "application/vnd.jupyter.widget-view+json": {
              "model_id": "653c2a6375324e389d5d6d5e77cb2fe0",
              "version_major": 2,
              "version_minor": 0
            },
            "text/plain": [
              "COLLECTING RESULTS | :   0%|          | 0/15 [00:00<?, ?it/s]"
            ]
          },
          "metadata": {},
          "output_type": "display_data"
        },
        {
          "data": {
            "application/vnd.jupyter.widget-view+json": {
              "model_id": "fe30c278746a449194d901b69aa06c3b",
              "version_major": 2,
              "version_minor": 0
            },
            "text/plain": [
              "QUEUEING TASKS | :   0%|          | 0/15 [00:00<?, ?it/s]"
            ]
          },
          "metadata": {},
          "output_type": "display_data"
        },
        {
          "data": {
            "application/vnd.jupyter.widget-view+json": {
              "model_id": "34ee7e41f4fd4a59a4a034a406dc01c6",
              "version_major": 2,
              "version_minor": 0
            },
            "text/plain": [
              "PROCESSING TASKS | :   0%|          | 0/15 [00:00<?, ?it/s]"
            ]
          },
          "metadata": {},
          "output_type": "display_data"
        },
        {
          "data": {
            "application/vnd.jupyter.widget-view+json": {
              "model_id": "58f86b05293f4f089f9506f878eb8d18",
              "version_major": 2,
              "version_minor": 0
            },
            "text/plain": [
              "COLLECTING RESULTS | :   0%|          | 0/15 [00:00<?, ?it/s]"
            ]
          },
          "metadata": {},
          "output_type": "display_data"
        },
        {
          "data": {
            "application/vnd.jupyter.widget-view+json": {
              "model_id": "872a70176bc74289b574e6a79b7033c2",
              "version_major": 2,
              "version_minor": 0
            },
            "text/plain": [
              "QUEUEING TASKS | :   0%|          | 0/15 [00:00<?, ?it/s]"
            ]
          },
          "metadata": {},
          "output_type": "display_data"
        },
        {
          "data": {
            "application/vnd.jupyter.widget-view+json": {
              "model_id": "c430029b45fa45759f81b426e5dca6e4",
              "version_major": 2,
              "version_minor": 0
            },
            "text/plain": [
              "PROCESSING TASKS | :   0%|          | 0/15 [00:00<?, ?it/s]"
            ]
          },
          "metadata": {},
          "output_type": "display_data"
        },
        {
          "data": {
            "application/vnd.jupyter.widget-view+json": {
              "model_id": "21a9f94fbf2d4fb29aeb9dc029d16615",
              "version_major": 2,
              "version_minor": 0
            },
            "text/plain": [
              "COLLECTING RESULTS | :   0%|          | 0/15 [00:00<?, ?it/s]"
            ]
          },
          "metadata": {},
          "output_type": "display_data"
        },
        {
          "data": {
            "application/vnd.jupyter.widget-view+json": {
              "model_id": "633062ee6a764945a7833bc2bebbce28",
              "version_major": 2,
              "version_minor": 0
            },
            "text/plain": [
              "QUEUEING TASKS | :   0%|          | 0/15 [00:00<?, ?it/s]"
            ]
          },
          "metadata": {},
          "output_type": "display_data"
        },
        {
          "data": {
            "application/vnd.jupyter.widget-view+json": {
              "model_id": "d2032800282f4ebd9244703c1f05b213",
              "version_major": 2,
              "version_minor": 0
            },
            "text/plain": [
              "PROCESSING TASKS | :   0%|          | 0/15 [00:00<?, ?it/s]"
            ]
          },
          "metadata": {},
          "output_type": "display_data"
        },
        {
          "data": {
            "application/vnd.jupyter.widget-view+json": {
              "model_id": "734fd08ffd4e4ad1a545d47914122e67",
              "version_major": 2,
              "version_minor": 0
            },
            "text/plain": [
              "COLLECTING RESULTS | :   0%|          | 0/15 [00:00<?, ?it/s]"
            ]
          },
          "metadata": {},
          "output_type": "display_data"
        },
        {
          "data": {
            "application/vnd.jupyter.widget-view+json": {
              "model_id": "96639d5bb49a4139893ca7a6bf2f71b0",
              "version_major": 2,
              "version_minor": 0
            },
            "text/plain": [
              "QUEUEING TASKS | :   0%|          | 0/15 [00:00<?, ?it/s]"
            ]
          },
          "metadata": {},
          "output_type": "display_data"
        },
        {
          "data": {
            "application/vnd.jupyter.widget-view+json": {
              "model_id": "531b1beaa9954f119dc62c0c01fcbe56",
              "version_major": 2,
              "version_minor": 0
            },
            "text/plain": [
              "PROCESSING TASKS | :   0%|          | 0/15 [00:00<?, ?it/s]"
            ]
          },
          "metadata": {},
          "output_type": "display_data"
        },
        {
          "data": {
            "application/vnd.jupyter.widget-view+json": {
              "model_id": "401aaa8ee10448f78b15208a06e7c31a",
              "version_major": 2,
              "version_minor": 0
            },
            "text/plain": [
              "COLLECTING RESULTS | :   0%|          | 0/15 [00:00<?, ?it/s]"
            ]
          },
          "metadata": {},
          "output_type": "display_data"
        },
        {
          "data": {
            "application/vnd.jupyter.widget-view+json": {
              "model_id": "b43d4ff15e2848daaec5ea7f75a3eeb3",
              "version_major": 2,
              "version_minor": 0
            },
            "text/plain": [
              "QUEUEING TASKS | :   0%|          | 0/15 [00:00<?, ?it/s]"
            ]
          },
          "metadata": {},
          "output_type": "display_data"
        },
        {
          "data": {
            "application/vnd.jupyter.widget-view+json": {
              "model_id": "fc2dd3cbe6b14724ac63c4df7c5b6eae",
              "version_major": 2,
              "version_minor": 0
            },
            "text/plain": [
              "PROCESSING TASKS | :   0%|          | 0/15 [00:00<?, ?it/s]"
            ]
          },
          "metadata": {},
          "output_type": "display_data"
        },
        {
          "data": {
            "application/vnd.jupyter.widget-view+json": {
              "model_id": "62645964c4384ce0a253f5f090ea3f33",
              "version_major": 2,
              "version_minor": 0
            },
            "text/plain": [
              "COLLECTING RESULTS | :   0%|          | 0/15 [00:00<?, ?it/s]"
            ]
          },
          "metadata": {},
          "output_type": "display_data"
        },
        {
          "data": {
            "application/vnd.jupyter.widget-view+json": {
              "model_id": "2c4f50f9d1e3429ab5da77ce89f635ce",
              "version_major": 2,
              "version_minor": 0
            },
            "text/plain": [
              "QUEUEING TASKS | :   0%|          | 0/15 [00:00<?, ?it/s]"
            ]
          },
          "metadata": {},
          "output_type": "display_data"
        },
        {
          "data": {
            "application/vnd.jupyter.widget-view+json": {
              "model_id": "3b0e282bd3114eaebe6515f46154f875",
              "version_major": 2,
              "version_minor": 0
            },
            "text/plain": [
              "PROCESSING TASKS | :   0%|          | 0/15 [00:00<?, ?it/s]"
            ]
          },
          "metadata": {},
          "output_type": "display_data"
        },
        {
          "data": {
            "application/vnd.jupyter.widget-view+json": {
              "model_id": "9e018e9915324019b0bf3a3aaef2a86b",
              "version_major": 2,
              "version_minor": 0
            },
            "text/plain": [
              "COLLECTING RESULTS | :   0%|          | 0/15 [00:00<?, ?it/s]"
            ]
          },
          "metadata": {},
          "output_type": "display_data"
        },
        {
          "data": {
            "application/vnd.jupyter.widget-view+json": {
              "model_id": "1ad6c277a5b2463589b3f76e4ebf256c",
              "version_major": 2,
              "version_minor": 0
            },
            "text/plain": [
              "QUEUEING TASKS | :   0%|          | 0/15 [00:00<?, ?it/s]"
            ]
          },
          "metadata": {},
          "output_type": "display_data"
        },
        {
          "data": {
            "application/vnd.jupyter.widget-view+json": {
              "model_id": "b1f69b0e9066468eb444707e39428dac",
              "version_major": 2,
              "version_minor": 0
            },
            "text/plain": [
              "PROCESSING TASKS | :   0%|          | 0/15 [00:00<?, ?it/s]"
            ]
          },
          "metadata": {},
          "output_type": "display_data"
        },
        {
          "data": {
            "application/vnd.jupyter.widget-view+json": {
              "model_id": "15d9879061054e21bd780b0f6f792518",
              "version_major": 2,
              "version_minor": 0
            },
            "text/plain": [
              "COLLECTING RESULTS | :   0%|          | 0/15 [00:00<?, ?it/s]"
            ]
          },
          "metadata": {},
          "output_type": "display_data"
        },
        {
          "data": {
            "application/vnd.jupyter.widget-view+json": {
              "model_id": "2747f605d0234815995239d35ac2bc79",
              "version_major": 2,
              "version_minor": 0
            },
            "text/plain": [
              "QUEUEING TASKS | :   0%|          | 0/15 [00:00<?, ?it/s]"
            ]
          },
          "metadata": {},
          "output_type": "display_data"
        },
        {
          "data": {
            "application/vnd.jupyter.widget-view+json": {
              "model_id": "108aa0860a094b128913311379375abf",
              "version_major": 2,
              "version_minor": 0
            },
            "text/plain": [
              "PROCESSING TASKS | :   0%|          | 0/15 [00:00<?, ?it/s]"
            ]
          },
          "metadata": {},
          "output_type": "display_data"
        },
        {
          "data": {
            "application/vnd.jupyter.widget-view+json": {
              "model_id": "c6f5f60d1e8c4352ad59ebe8a0a91848",
              "version_major": 2,
              "version_minor": 0
            },
            "text/plain": [
              "COLLECTING RESULTS | :   0%|          | 0/15 [00:00<?, ?it/s]"
            ]
          },
          "metadata": {},
          "output_type": "display_data"
        },
        {
          "data": {
            "application/vnd.jupyter.widget-view+json": {
              "model_id": "c56df1911bcf441a95faab16cb77ac56",
              "version_major": 2,
              "version_minor": 0
            },
            "text/plain": [
              "QUEUEING TASKS | :   0%|          | 0/15 [00:00<?, ?it/s]"
            ]
          },
          "metadata": {},
          "output_type": "display_data"
        },
        {
          "data": {
            "application/vnd.jupyter.widget-view+json": {
              "model_id": "87c42473e6dd4685a55a89563f57981f",
              "version_major": 2,
              "version_minor": 0
            },
            "text/plain": [
              "PROCESSING TASKS | :   0%|          | 0/15 [00:00<?, ?it/s]"
            ]
          },
          "metadata": {},
          "output_type": "display_data"
        },
        {
          "data": {
            "application/vnd.jupyter.widget-view+json": {
              "model_id": "78c0e8bc0e3e4f0b8af433602bad968e",
              "version_major": 2,
              "version_minor": 0
            },
            "text/plain": [
              "COLLECTING RESULTS | :   0%|          | 0/15 [00:00<?, ?it/s]"
            ]
          },
          "metadata": {},
          "output_type": "display_data"
        },
        {
          "data": {
            "application/vnd.jupyter.widget-view+json": {
              "model_id": "1b53994e3f9141de83ec48eb4bb19afc",
              "version_major": 2,
              "version_minor": 0
            },
            "text/plain": [
              "QUEUEING TASKS | :   0%|          | 0/15 [00:00<?, ?it/s]"
            ]
          },
          "metadata": {},
          "output_type": "display_data"
        },
        {
          "data": {
            "application/vnd.jupyter.widget-view+json": {
              "model_id": "ba0e47b3855347a3ae2ca4345e19400c",
              "version_major": 2,
              "version_minor": 0
            },
            "text/plain": [
              "PROCESSING TASKS | :   0%|          | 0/15 [00:00<?, ?it/s]"
            ]
          },
          "metadata": {},
          "output_type": "display_data"
        },
        {
          "data": {
            "application/vnd.jupyter.widget-view+json": {
              "model_id": "27a5c0ffb52747db8ffeeed3b7a9a790",
              "version_major": 2,
              "version_minor": 0
            },
            "text/plain": [
              "COLLECTING RESULTS | :   0%|          | 0/15 [00:00<?, ?it/s]"
            ]
          },
          "metadata": {},
          "output_type": "display_data"
        },
        {
          "data": {
            "application/vnd.jupyter.widget-view+json": {
              "model_id": "1170d8d882dc4122ac489a4ae5342ae1",
              "version_major": 2,
              "version_minor": 0
            },
            "text/plain": [
              "QUEUEING TASKS | :   0%|          | 0/15 [00:00<?, ?it/s]"
            ]
          },
          "metadata": {},
          "output_type": "display_data"
        },
        {
          "data": {
            "application/vnd.jupyter.widget-view+json": {
              "model_id": "d89d3fccb83049969df80c4f1fa21932",
              "version_major": 2,
              "version_minor": 0
            },
            "text/plain": [
              "PROCESSING TASKS | :   0%|          | 0/15 [00:00<?, ?it/s]"
            ]
          },
          "metadata": {},
          "output_type": "display_data"
        },
        {
          "data": {
            "application/vnd.jupyter.widget-view+json": {
              "model_id": "5703c95590ed4a4e9b55da80718f39df",
              "version_major": 2,
              "version_minor": 0
            },
            "text/plain": [
              "COLLECTING RESULTS | :   0%|          | 0/15 [00:00<?, ?it/s]"
            ]
          },
          "metadata": {},
          "output_type": "display_data"
        },
        {
          "data": {
            "application/vnd.jupyter.widget-view+json": {
              "model_id": "24c3240ef7694031864f49bef9de4bf4",
              "version_major": 2,
              "version_minor": 0
            },
            "text/plain": [
              "QUEUEING TASKS | :   0%|          | 0/15 [00:00<?, ?it/s]"
            ]
          },
          "metadata": {},
          "output_type": "display_data"
        },
        {
          "data": {
            "application/vnd.jupyter.widget-view+json": {
              "model_id": "7a62b0d8f38a40c7a26f927a5f85f0c7",
              "version_major": 2,
              "version_minor": 0
            },
            "text/plain": [
              "PROCESSING TASKS | :   0%|          | 0/15 [00:00<?, ?it/s]"
            ]
          },
          "metadata": {},
          "output_type": "display_data"
        },
        {
          "data": {
            "application/vnd.jupyter.widget-view+json": {
              "model_id": "3a04d4a4b4274e7ea8880a96a57d8ef7",
              "version_major": 2,
              "version_minor": 0
            },
            "text/plain": [
              "COLLECTING RESULTS | :   0%|          | 0/15 [00:00<?, ?it/s]"
            ]
          },
          "metadata": {},
          "output_type": "display_data"
        },
        {
          "data": {
            "application/vnd.jupyter.widget-view+json": {
              "model_id": "6e133d273fd7482199ff35ccf94b4025",
              "version_major": 2,
              "version_minor": 0
            },
            "text/plain": [
              "QUEUEING TASKS | :   0%|          | 0/15 [00:00<?, ?it/s]"
            ]
          },
          "metadata": {},
          "output_type": "display_data"
        },
        {
          "data": {
            "application/vnd.jupyter.widget-view+json": {
              "model_id": "968393c89aee4dc7986fe3e02bdb931b",
              "version_major": 2,
              "version_minor": 0
            },
            "text/plain": [
              "PROCESSING TASKS | :   0%|          | 0/15 [00:00<?, ?it/s]"
            ]
          },
          "metadata": {},
          "output_type": "display_data"
        },
        {
          "data": {
            "application/vnd.jupyter.widget-view+json": {
              "model_id": "e84b4a053f1e45db8067898805941bb5",
              "version_major": 2,
              "version_minor": 0
            },
            "text/plain": [
              "COLLECTING RESULTS | :   0%|          | 0/15 [00:00<?, ?it/s]"
            ]
          },
          "metadata": {},
          "output_type": "display_data"
        },
        {
          "data": {
            "application/vnd.jupyter.widget-view+json": {
              "model_id": "f961364ccda94ba7be8eedf4ba703857",
              "version_major": 2,
              "version_minor": 0
            },
            "text/plain": [
              "QUEUEING TASKS | :   0%|          | 0/15 [00:00<?, ?it/s]"
            ]
          },
          "metadata": {},
          "output_type": "display_data"
        },
        {
          "data": {
            "application/vnd.jupyter.widget-view+json": {
              "model_id": "b11af1115f314c0a9b5d963ef74ae051",
              "version_major": 2,
              "version_minor": 0
            },
            "text/plain": [
              "PROCESSING TASKS | :   0%|          | 0/15 [00:00<?, ?it/s]"
            ]
          },
          "metadata": {},
          "output_type": "display_data"
        },
        {
          "data": {
            "application/vnd.jupyter.widget-view+json": {
              "model_id": "aeaaac84da734a5fa1425202b3508761",
              "version_major": 2,
              "version_minor": 0
            },
            "text/plain": [
              "COLLECTING RESULTS | :   0%|          | 0/15 [00:00<?, ?it/s]"
            ]
          },
          "metadata": {},
          "output_type": "display_data"
        },
        {
          "data": {
            "application/vnd.jupyter.widget-view+json": {
              "model_id": "6f7bfb167f7740b4b84fe8cfd616775c",
              "version_major": 2,
              "version_minor": 0
            },
            "text/plain": [
              "QUEUEING TASKS | :   0%|          | 0/15 [00:00<?, ?it/s]"
            ]
          },
          "metadata": {},
          "output_type": "display_data"
        },
        {
          "data": {
            "application/vnd.jupyter.widget-view+json": {
              "model_id": "e8f2fc17342046b396e8a95a289e33e0",
              "version_major": 2,
              "version_minor": 0
            },
            "text/plain": [
              "PROCESSING TASKS | :   0%|          | 0/15 [00:00<?, ?it/s]"
            ]
          },
          "metadata": {},
          "output_type": "display_data"
        },
        {
          "data": {
            "application/vnd.jupyter.widget-view+json": {
              "model_id": "dd70a0dce28c4fb1932e850f2b410771",
              "version_major": 2,
              "version_minor": 0
            },
            "text/plain": [
              "COLLECTING RESULTS | :   0%|          | 0/15 [00:00<?, ?it/s]"
            ]
          },
          "metadata": {},
          "output_type": "display_data"
        },
        {
          "data": {
            "application/vnd.jupyter.widget-view+json": {
              "model_id": "5165830953344015b53b88d5764af8c2",
              "version_major": 2,
              "version_minor": 0
            },
            "text/plain": [
              "QUEUEING TASKS | :   0%|          | 0/15 [00:00<?, ?it/s]"
            ]
          },
          "metadata": {},
          "output_type": "display_data"
        },
        {
          "data": {
            "application/vnd.jupyter.widget-view+json": {
              "model_id": "b7f04b5c92de4c809153d8bec9785e81",
              "version_major": 2,
              "version_minor": 0
            },
            "text/plain": [
              "PROCESSING TASKS | :   0%|          | 0/15 [00:00<?, ?it/s]"
            ]
          },
          "metadata": {},
          "output_type": "display_data"
        },
        {
          "data": {
            "application/vnd.jupyter.widget-view+json": {
              "model_id": "d2b09a222ce54299bf137e02053750ad",
              "version_major": 2,
              "version_minor": 0
            },
            "text/plain": [
              "COLLECTING RESULTS | :   0%|          | 0/15 [00:00<?, ?it/s]"
            ]
          },
          "metadata": {},
          "output_type": "display_data"
        },
        {
          "data": {
            "application/vnd.jupyter.widget-view+json": {
              "model_id": "667d59735db743f3b33efc2f033016ae",
              "version_major": 2,
              "version_minor": 0
            },
            "text/plain": [
              "QUEUEING TASKS | :   0%|          | 0/15 [00:00<?, ?it/s]"
            ]
          },
          "metadata": {},
          "output_type": "display_data"
        },
        {
          "data": {
            "application/vnd.jupyter.widget-view+json": {
              "model_id": "237e363e7ad84785854ebce0e5e05748",
              "version_major": 2,
              "version_minor": 0
            },
            "text/plain": [
              "PROCESSING TASKS | :   0%|          | 0/15 [00:00<?, ?it/s]"
            ]
          },
          "metadata": {},
          "output_type": "display_data"
        },
        {
          "data": {
            "application/vnd.jupyter.widget-view+json": {
              "model_id": "89d4662589b646c78cd0cf9646924bfb",
              "version_major": 2,
              "version_minor": 0
            },
            "text/plain": [
              "COLLECTING RESULTS | :   0%|          | 0/15 [00:00<?, ?it/s]"
            ]
          },
          "metadata": {},
          "output_type": "display_data"
        },
        {
          "data": {
            "application/vnd.jupyter.widget-view+json": {
              "model_id": "978561c8ca8343a38f56c898098f2678",
              "version_major": 2,
              "version_minor": 0
            },
            "text/plain": [
              "QUEUEING TASKS | :   0%|          | 0/15 [00:00<?, ?it/s]"
            ]
          },
          "metadata": {},
          "output_type": "display_data"
        },
        {
          "data": {
            "application/vnd.jupyter.widget-view+json": {
              "model_id": "95c6adbe00ce4c41a66251b4edb75506",
              "version_major": 2,
              "version_minor": 0
            },
            "text/plain": [
              "PROCESSING TASKS | :   0%|          | 0/15 [00:00<?, ?it/s]"
            ]
          },
          "metadata": {},
          "output_type": "display_data"
        },
        {
          "data": {
            "application/vnd.jupyter.widget-view+json": {
              "model_id": "92a7dd5d1e9048279947b4265417800e",
              "version_major": 2,
              "version_minor": 0
            },
            "text/plain": [
              "COLLECTING RESULTS | :   0%|          | 0/15 [00:00<?, ?it/s]"
            ]
          },
          "metadata": {},
          "output_type": "display_data"
        },
        {
          "data": {
            "application/vnd.jupyter.widget-view+json": {
              "model_id": "674bd9b1541b41f0b0a233519fa5cf18",
              "version_major": 2,
              "version_minor": 0
            },
            "text/plain": [
              "QUEUEING TASKS | :   0%|          | 0/15 [00:00<?, ?it/s]"
            ]
          },
          "metadata": {},
          "output_type": "display_data"
        },
        {
          "data": {
            "application/vnd.jupyter.widget-view+json": {
              "model_id": "d5b04f6d92f040dcb55ebafe7a7faee7",
              "version_major": 2,
              "version_minor": 0
            },
            "text/plain": [
              "PROCESSING TASKS | :   0%|          | 0/15 [00:00<?, ?it/s]"
            ]
          },
          "metadata": {},
          "output_type": "display_data"
        },
        {
          "data": {
            "application/vnd.jupyter.widget-view+json": {
              "model_id": "8f13eeac40e341fa876628addf6128f5",
              "version_major": 2,
              "version_minor": 0
            },
            "text/plain": [
              "COLLECTING RESULTS | :   0%|          | 0/15 [00:00<?, ?it/s]"
            ]
          },
          "metadata": {},
          "output_type": "display_data"
        },
        {
          "data": {
            "application/vnd.jupyter.widget-view+json": {
              "model_id": "2dc1085932984c278e931c279c658b98",
              "version_major": 2,
              "version_minor": 0
            },
            "text/plain": [
              "QUEUEING TASKS | :   0%|          | 0/15 [00:00<?, ?it/s]"
            ]
          },
          "metadata": {},
          "output_type": "display_data"
        },
        {
          "data": {
            "application/vnd.jupyter.widget-view+json": {
              "model_id": "0fb97f0f140e454c9053b789ec10898b",
              "version_major": 2,
              "version_minor": 0
            },
            "text/plain": [
              "PROCESSING TASKS | :   0%|          | 0/15 [00:00<?, ?it/s]"
            ]
          },
          "metadata": {},
          "output_type": "display_data"
        },
        {
          "data": {
            "application/vnd.jupyter.widget-view+json": {
              "model_id": "1d04e67eb4d446759a082c4b065fd61a",
              "version_major": 2,
              "version_minor": 0
            },
            "text/plain": [
              "COLLECTING RESULTS | :   0%|          | 0/15 [00:00<?, ?it/s]"
            ]
          },
          "metadata": {},
          "output_type": "display_data"
        },
        {
          "data": {
            "application/vnd.jupyter.widget-view+json": {
              "model_id": "abbbd8cb41aa41ea808dc6f7cd016bb2",
              "version_major": 2,
              "version_minor": 0
            },
            "text/plain": [
              "QUEUEING TASKS | :   0%|          | 0/15 [00:00<?, ?it/s]"
            ]
          },
          "metadata": {},
          "output_type": "display_data"
        },
        {
          "data": {
            "application/vnd.jupyter.widget-view+json": {
              "model_id": "04d083d338d449f8b1035203c604e25c",
              "version_major": 2,
              "version_minor": 0
            },
            "text/plain": [
              "PROCESSING TASKS | :   0%|          | 0/15 [00:00<?, ?it/s]"
            ]
          },
          "metadata": {},
          "output_type": "display_data"
        },
        {
          "data": {
            "application/vnd.jupyter.widget-view+json": {
              "model_id": "d0f3d32c92cb49b9b92794879a3aada9",
              "version_major": 2,
              "version_minor": 0
            },
            "text/plain": [
              "COLLECTING RESULTS | :   0%|          | 0/15 [00:00<?, ?it/s]"
            ]
          },
          "metadata": {},
          "output_type": "display_data"
        },
        {
          "data": {
            "application/vnd.jupyter.widget-view+json": {
              "model_id": "dd6f9e7a2c82494ab3682aea4feb2272",
              "version_major": 2,
              "version_minor": 0
            },
            "text/plain": [
              "QUEUEING TASKS | :   0%|          | 0/15 [00:00<?, ?it/s]"
            ]
          },
          "metadata": {},
          "output_type": "display_data"
        },
        {
          "data": {
            "application/vnd.jupyter.widget-view+json": {
              "model_id": "8a94b26b5c534a30b9e2ff3f9014fef0",
              "version_major": 2,
              "version_minor": 0
            },
            "text/plain": [
              "PROCESSING TASKS | :   0%|          | 0/15 [00:00<?, ?it/s]"
            ]
          },
          "metadata": {},
          "output_type": "display_data"
        },
        {
          "data": {
            "application/vnd.jupyter.widget-view+json": {
              "model_id": "73aa5155a5f94a24bbe47136cc86b818",
              "version_major": 2,
              "version_minor": 0
            },
            "text/plain": [
              "COLLECTING RESULTS | :   0%|          | 0/15 [00:00<?, ?it/s]"
            ]
          },
          "metadata": {},
          "output_type": "display_data"
        },
        {
          "data": {
            "application/vnd.jupyter.widget-view+json": {
              "model_id": "28f912583501401a9ff7600eece08d24",
              "version_major": 2,
              "version_minor": 0
            },
            "text/plain": [
              "QUEUEING TASKS | :   0%|          | 0/15 [00:00<?, ?it/s]"
            ]
          },
          "metadata": {},
          "output_type": "display_data"
        },
        {
          "data": {
            "application/vnd.jupyter.widget-view+json": {
              "model_id": "7d93177fb02a4238807692571b0327fc",
              "version_major": 2,
              "version_minor": 0
            },
            "text/plain": [
              "PROCESSING TASKS | :   0%|          | 0/15 [00:00<?, ?it/s]"
            ]
          },
          "metadata": {},
          "output_type": "display_data"
        },
        {
          "data": {
            "application/vnd.jupyter.widget-view+json": {
              "model_id": "b0f6a480c8da43439c581987996e2507",
              "version_major": 2,
              "version_minor": 0
            },
            "text/plain": [
              "COLLECTING RESULTS | :   0%|          | 0/15 [00:00<?, ?it/s]"
            ]
          },
          "metadata": {},
          "output_type": "display_data"
        },
        {
          "data": {
            "application/vnd.jupyter.widget-view+json": {
              "model_id": "963f2232c3c4472c9cdc9b55a0fd7b2e",
              "version_major": 2,
              "version_minor": 0
            },
            "text/plain": [
              "QUEUEING TASKS | :   0%|          | 0/15 [00:00<?, ?it/s]"
            ]
          },
          "metadata": {},
          "output_type": "display_data"
        },
        {
          "data": {
            "application/vnd.jupyter.widget-view+json": {
              "model_id": "b8235373807746cd876de49943d27589",
              "version_major": 2,
              "version_minor": 0
            },
            "text/plain": [
              "PROCESSING TASKS | :   0%|          | 0/15 [00:00<?, ?it/s]"
            ]
          },
          "metadata": {},
          "output_type": "display_data"
        },
        {
          "data": {
            "application/vnd.jupyter.widget-view+json": {
              "model_id": "9f8ca9735fd1408d94945743436c8442",
              "version_major": 2,
              "version_minor": 0
            },
            "text/plain": [
              "COLLECTING RESULTS | :   0%|          | 0/15 [00:00<?, ?it/s]"
            ]
          },
          "metadata": {},
          "output_type": "display_data"
        },
        {
          "data": {
            "application/vnd.jupyter.widget-view+json": {
              "model_id": "0915dcd8885746ff866493f04558565d",
              "version_major": 2,
              "version_minor": 0
            },
            "text/plain": [
              "QUEUEING TASKS | :   0%|          | 0/15 [00:00<?, ?it/s]"
            ]
          },
          "metadata": {},
          "output_type": "display_data"
        },
        {
          "data": {
            "application/vnd.jupyter.widget-view+json": {
              "model_id": "28b2815a9518438382a7805b344b1e42",
              "version_major": 2,
              "version_minor": 0
            },
            "text/plain": [
              "PROCESSING TASKS | :   0%|          | 0/15 [00:00<?, ?it/s]"
            ]
          },
          "metadata": {},
          "output_type": "display_data"
        },
        {
          "data": {
            "application/vnd.jupyter.widget-view+json": {
              "model_id": "1d2aa93a5fc74a73892463f65ddbd9ae",
              "version_major": 2,
              "version_minor": 0
            },
            "text/plain": [
              "COLLECTING RESULTS | :   0%|          | 0/15 [00:00<?, ?it/s]"
            ]
          },
          "metadata": {},
          "output_type": "display_data"
        },
        {
          "data": {
            "application/vnd.jupyter.widget-view+json": {
              "model_id": "6d7869736bd94f189c90567ba4b6c2ab",
              "version_major": 2,
              "version_minor": 0
            },
            "text/plain": [
              "QUEUEING TASKS | :   0%|          | 0/15 [00:00<?, ?it/s]"
            ]
          },
          "metadata": {},
          "output_type": "display_data"
        },
        {
          "data": {
            "application/vnd.jupyter.widget-view+json": {
              "model_id": "abf6f39290cb4d159c8dc310f614e4d4",
              "version_major": 2,
              "version_minor": 0
            },
            "text/plain": [
              "PROCESSING TASKS | :   0%|          | 0/15 [00:00<?, ?it/s]"
            ]
          },
          "metadata": {},
          "output_type": "display_data"
        },
        {
          "data": {
            "application/vnd.jupyter.widget-view+json": {
              "model_id": "e0799a7387b342cb8481a1f174da9081",
              "version_major": 2,
              "version_minor": 0
            },
            "text/plain": [
              "COLLECTING RESULTS | :   0%|          | 0/15 [00:00<?, ?it/s]"
            ]
          },
          "metadata": {},
          "output_type": "display_data"
        },
        {
          "data": {
            "application/vnd.jupyter.widget-view+json": {
              "model_id": "9a573e30219a4477bf4467e589804e79",
              "version_major": 2,
              "version_minor": 0
            },
            "text/plain": [
              "QUEUEING TASKS | :   0%|          | 0/15 [00:00<?, ?it/s]"
            ]
          },
          "metadata": {},
          "output_type": "display_data"
        },
        {
          "data": {
            "application/vnd.jupyter.widget-view+json": {
              "model_id": "2cc7bd4b6480440d87440325c360e35c",
              "version_major": 2,
              "version_minor": 0
            },
            "text/plain": [
              "PROCESSING TASKS | :   0%|          | 0/15 [00:00<?, ?it/s]"
            ]
          },
          "metadata": {},
          "output_type": "display_data"
        },
        {
          "data": {
            "application/vnd.jupyter.widget-view+json": {
              "model_id": "5bdb0f811e5d48228e8e6d945a29af6d",
              "version_major": 2,
              "version_minor": 0
            },
            "text/plain": [
              "COLLECTING RESULTS | :   0%|          | 0/15 [00:00<?, ?it/s]"
            ]
          },
          "metadata": {},
          "output_type": "display_data"
        },
        {
          "data": {
            "application/vnd.jupyter.widget-view+json": {
              "model_id": "5550d1764ea241189ed1290b2ceaf2d9",
              "version_major": 2,
              "version_minor": 0
            },
            "text/plain": [
              "QUEUEING TASKS | :   0%|          | 0/15 [00:00<?, ?it/s]"
            ]
          },
          "metadata": {},
          "output_type": "display_data"
        },
        {
          "data": {
            "application/vnd.jupyter.widget-view+json": {
              "model_id": "75f943bcabac43078b0742773454ed45",
              "version_major": 2,
              "version_minor": 0
            },
            "text/plain": [
              "PROCESSING TASKS | :   0%|          | 0/15 [00:00<?, ?it/s]"
            ]
          },
          "metadata": {},
          "output_type": "display_data"
        },
        {
          "data": {
            "application/vnd.jupyter.widget-view+json": {
              "model_id": "0e1978245cb44f398ebd5295cf49692f",
              "version_major": 2,
              "version_minor": 0
            },
            "text/plain": [
              "COLLECTING RESULTS | :   0%|          | 0/15 [00:00<?, ?it/s]"
            ]
          },
          "metadata": {},
          "output_type": "display_data"
        },
        {
          "data": {
            "application/vnd.jupyter.widget-view+json": {
              "model_id": "f57b858b04034f43bedf5b3825e2bbe7",
              "version_major": 2,
              "version_minor": 0
            },
            "text/plain": [
              "QUEUEING TASKS | :   0%|          | 0/15 [00:00<?, ?it/s]"
            ]
          },
          "metadata": {},
          "output_type": "display_data"
        },
        {
          "data": {
            "application/vnd.jupyter.widget-view+json": {
              "model_id": "cce4cdd6d966469ebab444c69fd53272",
              "version_major": 2,
              "version_minor": 0
            },
            "text/plain": [
              "PROCESSING TASKS | :   0%|          | 0/15 [00:00<?, ?it/s]"
            ]
          },
          "metadata": {},
          "output_type": "display_data"
        },
        {
          "data": {
            "application/vnd.jupyter.widget-view+json": {
              "model_id": "87a5c301a3e34d56813ee889fa49d796",
              "version_major": 2,
              "version_minor": 0
            },
            "text/plain": [
              "COLLECTING RESULTS | :   0%|          | 0/15 [00:00<?, ?it/s]"
            ]
          },
          "metadata": {},
          "output_type": "display_data"
        },
        {
          "data": {
            "application/vnd.jupyter.widget-view+json": {
              "model_id": "2fa4364c2f2b42af92a9fc9305b49662",
              "version_major": 2,
              "version_minor": 0
            },
            "text/plain": [
              "QUEUEING TASKS | :   0%|          | 0/15 [00:00<?, ?it/s]"
            ]
          },
          "metadata": {},
          "output_type": "display_data"
        },
        {
          "data": {
            "application/vnd.jupyter.widget-view+json": {
              "model_id": "08cac7f7c77648ccb6c43d700958c134",
              "version_major": 2,
              "version_minor": 0
            },
            "text/plain": [
              "PROCESSING TASKS | :   0%|          | 0/15 [00:00<?, ?it/s]"
            ]
          },
          "metadata": {},
          "output_type": "display_data"
        },
        {
          "data": {
            "application/vnd.jupyter.widget-view+json": {
              "model_id": "79f75cf7751d4efd941b23f6f4366188",
              "version_major": 2,
              "version_minor": 0
            },
            "text/plain": [
              "COLLECTING RESULTS | :   0%|          | 0/15 [00:00<?, ?it/s]"
            ]
          },
          "metadata": {},
          "output_type": "display_data"
        },
        {
          "data": {
            "application/vnd.jupyter.widget-view+json": {
              "model_id": "dfeba2976bf5443fa330fccba95ddf03",
              "version_major": 2,
              "version_minor": 0
            },
            "text/plain": [
              "QUEUEING TASKS | :   0%|          | 0/15 [00:00<?, ?it/s]"
            ]
          },
          "metadata": {},
          "output_type": "display_data"
        },
        {
          "data": {
            "application/vnd.jupyter.widget-view+json": {
              "model_id": "eb67eb00c01b4e18ad1139e1ac35fa65",
              "version_major": 2,
              "version_minor": 0
            },
            "text/plain": [
              "PROCESSING TASKS | :   0%|          | 0/15 [00:00<?, ?it/s]"
            ]
          },
          "metadata": {},
          "output_type": "display_data"
        },
        {
          "data": {
            "application/vnd.jupyter.widget-view+json": {
              "model_id": "5bf09a8f56e64a17bc160fc1090b57d8",
              "version_major": 2,
              "version_minor": 0
            },
            "text/plain": [
              "COLLECTING RESULTS | :   0%|          | 0/15 [00:00<?, ?it/s]"
            ]
          },
          "metadata": {},
          "output_type": "display_data"
        },
        {
          "data": {
            "application/vnd.jupyter.widget-view+json": {
              "model_id": "b82ad648e4454518b5bd4dc833ebb3ba",
              "version_major": 2,
              "version_minor": 0
            },
            "text/plain": [
              "QUEUEING TASKS | :   0%|          | 0/15 [00:00<?, ?it/s]"
            ]
          },
          "metadata": {},
          "output_type": "display_data"
        },
        {
          "data": {
            "application/vnd.jupyter.widget-view+json": {
              "model_id": "5876aec13121436fa4c25cc1cfdc398d",
              "version_major": 2,
              "version_minor": 0
            },
            "text/plain": [
              "PROCESSING TASKS | :   0%|          | 0/15 [00:00<?, ?it/s]"
            ]
          },
          "metadata": {},
          "output_type": "display_data"
        },
        {
          "data": {
            "application/vnd.jupyter.widget-view+json": {
              "model_id": "a36ff3ca39844d7894c61107533699db",
              "version_major": 2,
              "version_minor": 0
            },
            "text/plain": [
              "COLLECTING RESULTS | :   0%|          | 0/15 [00:00<?, ?it/s]"
            ]
          },
          "metadata": {},
          "output_type": "display_data"
        },
        {
          "data": {
            "application/vnd.jupyter.widget-view+json": {
              "model_id": "e6208b2ed7464ce7986aefef36e7f2c6",
              "version_major": 2,
              "version_minor": 0
            },
            "text/plain": [
              "QUEUEING TASKS | :   0%|          | 0/15 [00:00<?, ?it/s]"
            ]
          },
          "metadata": {},
          "output_type": "display_data"
        },
        {
          "data": {
            "application/vnd.jupyter.widget-view+json": {
              "model_id": "5a0ecbf17b25437da47003c4817a329c",
              "version_major": 2,
              "version_minor": 0
            },
            "text/plain": [
              "PROCESSING TASKS | :   0%|          | 0/15 [00:00<?, ?it/s]"
            ]
          },
          "metadata": {},
          "output_type": "display_data"
        },
        {
          "data": {
            "application/vnd.jupyter.widget-view+json": {
              "model_id": "861ce611190a4352a7ffe8927cb597f1",
              "version_major": 2,
              "version_minor": 0
            },
            "text/plain": [
              "COLLECTING RESULTS | :   0%|          | 0/15 [00:00<?, ?it/s]"
            ]
          },
          "metadata": {},
          "output_type": "display_data"
        },
        {
          "data": {
            "application/vnd.jupyter.widget-view+json": {
              "model_id": "13202c1896274270a6e412e5e05cf626",
              "version_major": 2,
              "version_minor": 0
            },
            "text/plain": [
              "QUEUEING TASKS | :   0%|          | 0/15 [00:00<?, ?it/s]"
            ]
          },
          "metadata": {},
          "output_type": "display_data"
        },
        {
          "data": {
            "application/vnd.jupyter.widget-view+json": {
              "model_id": "d1fcf0ed4a41413b926553bc1fb1cea3",
              "version_major": 2,
              "version_minor": 0
            },
            "text/plain": [
              "PROCESSING TASKS | :   0%|          | 0/15 [00:00<?, ?it/s]"
            ]
          },
          "metadata": {},
          "output_type": "display_data"
        },
        {
          "data": {
            "application/vnd.jupyter.widget-view+json": {
              "model_id": "ecc1805ce71a4e2397b489c3679b9718",
              "version_major": 2,
              "version_minor": 0
            },
            "text/plain": [
              "COLLECTING RESULTS | :   0%|          | 0/15 [00:00<?, ?it/s]"
            ]
          },
          "metadata": {},
          "output_type": "display_data"
        },
        {
          "data": {
            "application/vnd.jupyter.widget-view+json": {
              "model_id": "4a8e85d39272434082615f1d9eecacd1",
              "version_major": 2,
              "version_minor": 0
            },
            "text/plain": [
              "QUEUEING TASKS | :   0%|          | 0/15 [00:00<?, ?it/s]"
            ]
          },
          "metadata": {},
          "output_type": "display_data"
        },
        {
          "data": {
            "application/vnd.jupyter.widget-view+json": {
              "model_id": "9f8fe82533d540fbad744263ee4addbb",
              "version_major": 2,
              "version_minor": 0
            },
            "text/plain": [
              "PROCESSING TASKS | :   0%|          | 0/15 [00:00<?, ?it/s]"
            ]
          },
          "metadata": {},
          "output_type": "display_data"
        },
        {
          "data": {
            "application/vnd.jupyter.widget-view+json": {
              "model_id": "83aca56c96b04c8486cf023de95394f0",
              "version_major": 2,
              "version_minor": 0
            },
            "text/plain": [
              "COLLECTING RESULTS | :   0%|          | 0/15 [00:00<?, ?it/s]"
            ]
          },
          "metadata": {},
          "output_type": "display_data"
        },
        {
          "data": {
            "application/vnd.jupyter.widget-view+json": {
              "model_id": "e07449ddb4ff4c7dbc0a4c5871b88a7b",
              "version_major": 2,
              "version_minor": 0
            },
            "text/plain": [
              "QUEUEING TASKS | :   0%|          | 0/15 [00:00<?, ?it/s]"
            ]
          },
          "metadata": {},
          "output_type": "display_data"
        },
        {
          "data": {
            "application/vnd.jupyter.widget-view+json": {
              "model_id": "fe0b51d234f44a36847c22a24f1dade9",
              "version_major": 2,
              "version_minor": 0
            },
            "text/plain": [
              "PROCESSING TASKS | :   0%|          | 0/15 [00:00<?, ?it/s]"
            ]
          },
          "metadata": {},
          "output_type": "display_data"
        },
        {
          "data": {
            "application/vnd.jupyter.widget-view+json": {
              "model_id": "98572f8aa91f49509bcc17cb4da49405",
              "version_major": 2,
              "version_minor": 0
            },
            "text/plain": [
              "COLLECTING RESULTS | :   0%|          | 0/15 [00:00<?, ?it/s]"
            ]
          },
          "metadata": {},
          "output_type": "display_data"
        },
        {
          "data": {
            "application/vnd.jupyter.widget-view+json": {
              "model_id": "3f75a7805c124fe58648ef4bb427c231",
              "version_major": 2,
              "version_minor": 0
            },
            "text/plain": [
              "QUEUEING TASKS | :   0%|          | 0/15 [00:00<?, ?it/s]"
            ]
          },
          "metadata": {},
          "output_type": "display_data"
        },
        {
          "data": {
            "application/vnd.jupyter.widget-view+json": {
              "model_id": "f26dee146bb546b79a061ed63572fd7c",
              "version_major": 2,
              "version_minor": 0
            },
            "text/plain": [
              "PROCESSING TASKS | :   0%|          | 0/15 [00:00<?, ?it/s]"
            ]
          },
          "metadata": {},
          "output_type": "display_data"
        },
        {
          "data": {
            "application/vnd.jupyter.widget-view+json": {
              "model_id": "4e4038f9dfd346d8b83d1bb433eb0379",
              "version_major": 2,
              "version_minor": 0
            },
            "text/plain": [
              "COLLECTING RESULTS | :   0%|          | 0/15 [00:00<?, ?it/s]"
            ]
          },
          "metadata": {},
          "output_type": "display_data"
        },
        {
          "data": {
            "application/vnd.jupyter.widget-view+json": {
              "model_id": "dab8e229fb134d509e91d0d8a97a7533",
              "version_major": 2,
              "version_minor": 0
            },
            "text/plain": [
              "QUEUEING TASKS | :   0%|          | 0/15 [00:00<?, ?it/s]"
            ]
          },
          "metadata": {},
          "output_type": "display_data"
        },
        {
          "data": {
            "application/vnd.jupyter.widget-view+json": {
              "model_id": "f162dc7eac404caf86df750a2d98d7d5",
              "version_major": 2,
              "version_minor": 0
            },
            "text/plain": [
              "PROCESSING TASKS | :   0%|          | 0/15 [00:00<?, ?it/s]"
            ]
          },
          "metadata": {},
          "output_type": "display_data"
        },
        {
          "data": {
            "application/vnd.jupyter.widget-view+json": {
              "model_id": "09d1f8c430b047bdaf67137bccf02cdb",
              "version_major": 2,
              "version_minor": 0
            },
            "text/plain": [
              "COLLECTING RESULTS | :   0%|          | 0/15 [00:00<?, ?it/s]"
            ]
          },
          "metadata": {},
          "output_type": "display_data"
        },
        {
          "data": {
            "application/vnd.jupyter.widget-view+json": {
              "model_id": "c646e650d04744f7a3b5c4966cf7818f",
              "version_major": 2,
              "version_minor": 0
            },
            "text/plain": [
              "QUEUEING TASKS | :   0%|          | 0/15 [00:00<?, ?it/s]"
            ]
          },
          "metadata": {},
          "output_type": "display_data"
        },
        {
          "data": {
            "application/vnd.jupyter.widget-view+json": {
              "model_id": "f4cd14256211477da73efc5b02fb78b0",
              "version_major": 2,
              "version_minor": 0
            },
            "text/plain": [
              "PROCESSING TASKS | :   0%|          | 0/15 [00:00<?, ?it/s]"
            ]
          },
          "metadata": {},
          "output_type": "display_data"
        },
        {
          "data": {
            "application/vnd.jupyter.widget-view+json": {
              "model_id": "4669e7324d3d4799a1b360f7b3e74894",
              "version_major": 2,
              "version_minor": 0
            },
            "text/plain": [
              "COLLECTING RESULTS | :   0%|          | 0/15 [00:00<?, ?it/s]"
            ]
          },
          "metadata": {},
          "output_type": "display_data"
        },
        {
          "data": {
            "application/vnd.jupyter.widget-view+json": {
              "model_id": "3210969d6d314a9a96bc2c9f95cb67d0",
              "version_major": 2,
              "version_minor": 0
            },
            "text/plain": [
              "QUEUEING TASKS | :   0%|          | 0/15 [00:00<?, ?it/s]"
            ]
          },
          "metadata": {},
          "output_type": "display_data"
        },
        {
          "data": {
            "application/vnd.jupyter.widget-view+json": {
              "model_id": "13255e0c13574c058821873e46b4c771",
              "version_major": 2,
              "version_minor": 0
            },
            "text/plain": [
              "PROCESSING TASKS | :   0%|          | 0/15 [00:00<?, ?it/s]"
            ]
          },
          "metadata": {},
          "output_type": "display_data"
        },
        {
          "data": {
            "application/vnd.jupyter.widget-view+json": {
              "model_id": "aa71393229bb4a7ab70d26d3c769c7d9",
              "version_major": 2,
              "version_minor": 0
            },
            "text/plain": [
              "COLLECTING RESULTS | :   0%|          | 0/15 [00:00<?, ?it/s]"
            ]
          },
          "metadata": {},
          "output_type": "display_data"
        },
        {
          "data": {
            "application/vnd.jupyter.widget-view+json": {
              "model_id": "e59062c627f0443cb5851f4e97168e84",
              "version_major": 2,
              "version_minor": 0
            },
            "text/plain": [
              "QUEUEING TASKS | :   0%|          | 0/15 [00:00<?, ?it/s]"
            ]
          },
          "metadata": {},
          "output_type": "display_data"
        },
        {
          "data": {
            "application/vnd.jupyter.widget-view+json": {
              "model_id": "0b4392022be5496ca02a16f52b706ab5",
              "version_major": 2,
              "version_minor": 0
            },
            "text/plain": [
              "PROCESSING TASKS | :   0%|          | 0/15 [00:00<?, ?it/s]"
            ]
          },
          "metadata": {},
          "output_type": "display_data"
        },
        {
          "data": {
            "application/vnd.jupyter.widget-view+json": {
              "model_id": "1767b2fdf0b84657a2f41c7202462a63",
              "version_major": 2,
              "version_minor": 0
            },
            "text/plain": [
              "COLLECTING RESULTS | :   0%|          | 0/15 [00:00<?, ?it/s]"
            ]
          },
          "metadata": {},
          "output_type": "display_data"
        },
        {
          "data": {
            "application/vnd.jupyter.widget-view+json": {
              "model_id": "4ae3e29e39004aa38059c32f20e58e59",
              "version_major": 2,
              "version_minor": 0
            },
            "text/plain": [
              "QUEUEING TASKS | :   0%|          | 0/15 [00:00<?, ?it/s]"
            ]
          },
          "metadata": {},
          "output_type": "display_data"
        },
        {
          "data": {
            "application/vnd.jupyter.widget-view+json": {
              "model_id": "dd680b1ab59f428a80d8ac3ad6c2c4d8",
              "version_major": 2,
              "version_minor": 0
            },
            "text/plain": [
              "PROCESSING TASKS | :   0%|          | 0/15 [00:00<?, ?it/s]"
            ]
          },
          "metadata": {},
          "output_type": "display_data"
        },
        {
          "data": {
            "application/vnd.jupyter.widget-view+json": {
              "model_id": "85cf78dbf4b544e38cee3b1545f09096",
              "version_major": 2,
              "version_minor": 0
            },
            "text/plain": [
              "COLLECTING RESULTS | :   0%|          | 0/15 [00:00<?, ?it/s]"
            ]
          },
          "metadata": {},
          "output_type": "display_data"
        },
        {
          "data": {
            "application/vnd.jupyter.widget-view+json": {
              "model_id": "6cb639f8432c46879c6d08f4d0fe7efe",
              "version_major": 2,
              "version_minor": 0
            },
            "text/plain": [
              "QUEUEING TASKS | :   0%|          | 0/15 [00:00<?, ?it/s]"
            ]
          },
          "metadata": {},
          "output_type": "display_data"
        },
        {
          "data": {
            "application/vnd.jupyter.widget-view+json": {
              "model_id": "2c43212242e54c59ae38a04fa1fc44fb",
              "version_major": 2,
              "version_minor": 0
            },
            "text/plain": [
              "PROCESSING TASKS | :   0%|          | 0/15 [00:00<?, ?it/s]"
            ]
          },
          "metadata": {},
          "output_type": "display_data"
        },
        {
          "data": {
            "application/vnd.jupyter.widget-view+json": {
              "model_id": "975decf824b945adb399e38b5cbb645b",
              "version_major": 2,
              "version_minor": 0
            },
            "text/plain": [
              "COLLECTING RESULTS | :   0%|          | 0/15 [00:00<?, ?it/s]"
            ]
          },
          "metadata": {},
          "output_type": "display_data"
        },
        {
          "data": {
            "application/vnd.jupyter.widget-view+json": {
              "model_id": "3d2e2704e1304bf48394a10afe60d8d8",
              "version_major": 2,
              "version_minor": 0
            },
            "text/plain": [
              "QUEUEING TASKS | :   0%|          | 0/15 [00:00<?, ?it/s]"
            ]
          },
          "metadata": {},
          "output_type": "display_data"
        },
        {
          "data": {
            "application/vnd.jupyter.widget-view+json": {
              "model_id": "4bc3eaa51c724fde90313a8969ea22b5",
              "version_major": 2,
              "version_minor": 0
            },
            "text/plain": [
              "PROCESSING TASKS | :   0%|          | 0/15 [00:00<?, ?it/s]"
            ]
          },
          "metadata": {},
          "output_type": "display_data"
        },
        {
          "data": {
            "application/vnd.jupyter.widget-view+json": {
              "model_id": "fa5a0b66563b4cf5ae72d9e28ef8d503",
              "version_major": 2,
              "version_minor": 0
            },
            "text/plain": [
              "COLLECTING RESULTS | :   0%|          | 0/15 [00:00<?, ?it/s]"
            ]
          },
          "metadata": {},
          "output_type": "display_data"
        },
        {
          "data": {
            "application/vnd.jupyter.widget-view+json": {
              "model_id": "86def139176b48d28ac12b877fa46564",
              "version_major": 2,
              "version_minor": 0
            },
            "text/plain": [
              "QUEUEING TASKS | :   0%|          | 0/15 [00:00<?, ?it/s]"
            ]
          },
          "metadata": {},
          "output_type": "display_data"
        },
        {
          "data": {
            "application/vnd.jupyter.widget-view+json": {
              "model_id": "e9aabddadac54605847cda144a670d02",
              "version_major": 2,
              "version_minor": 0
            },
            "text/plain": [
              "PROCESSING TASKS | :   0%|          | 0/15 [00:00<?, ?it/s]"
            ]
          },
          "metadata": {},
          "output_type": "display_data"
        },
        {
          "data": {
            "application/vnd.jupyter.widget-view+json": {
              "model_id": "321edf8238e441f391e6f6fa92ddcef7",
              "version_major": 2,
              "version_minor": 0
            },
            "text/plain": [
              "COLLECTING RESULTS | :   0%|          | 0/15 [00:00<?, ?it/s]"
            ]
          },
          "metadata": {},
          "output_type": "display_data"
        },
        {
          "data": {
            "application/vnd.jupyter.widget-view+json": {
              "model_id": "e5176855fbb243f588f62907bf8d7183",
              "version_major": 2,
              "version_minor": 0
            },
            "text/plain": [
              "QUEUEING TASKS | :   0%|          | 0/15 [00:00<?, ?it/s]"
            ]
          },
          "metadata": {},
          "output_type": "display_data"
        },
        {
          "data": {
            "application/vnd.jupyter.widget-view+json": {
              "model_id": "6052ea009ee943f9a24c9a1b4e0e5c23",
              "version_major": 2,
              "version_minor": 0
            },
            "text/plain": [
              "PROCESSING TASKS | :   0%|          | 0/15 [00:00<?, ?it/s]"
            ]
          },
          "metadata": {},
          "output_type": "display_data"
        },
        {
          "data": {
            "application/vnd.jupyter.widget-view+json": {
              "model_id": "0bdff73744b64dc78ea3338c2725a765",
              "version_major": 2,
              "version_minor": 0
            },
            "text/plain": [
              "COLLECTING RESULTS | :   0%|          | 0/15 [00:00<?, ?it/s]"
            ]
          },
          "metadata": {},
          "output_type": "display_data"
        },
        {
          "data": {
            "application/vnd.jupyter.widget-view+json": {
              "model_id": "3ebfe94b8fb54945bea1e9aa187a0a4e",
              "version_major": 2,
              "version_minor": 0
            },
            "text/plain": [
              "QUEUEING TASKS | :   0%|          | 0/15 [00:00<?, ?it/s]"
            ]
          },
          "metadata": {},
          "output_type": "display_data"
        },
        {
          "data": {
            "application/vnd.jupyter.widget-view+json": {
              "model_id": "1034a020889e44e6a85829626f887b58",
              "version_major": 2,
              "version_minor": 0
            },
            "text/plain": [
              "PROCESSING TASKS | :   0%|          | 0/15 [00:00<?, ?it/s]"
            ]
          },
          "metadata": {},
          "output_type": "display_data"
        },
        {
          "data": {
            "application/vnd.jupyter.widget-view+json": {
              "model_id": "ecce8659f8d647e3b67d8fad4cc4e26b",
              "version_major": 2,
              "version_minor": 0
            },
            "text/plain": [
              "COLLECTING RESULTS | :   0%|          | 0/15 [00:00<?, ?it/s]"
            ]
          },
          "metadata": {},
          "output_type": "display_data"
        },
        {
          "data": {
            "application/vnd.jupyter.widget-view+json": {
              "model_id": "cae4e0b8887b4f1c9f5493c2526d1a52",
              "version_major": 2,
              "version_minor": 0
            },
            "text/plain": [
              "QUEUEING TASKS | :   0%|          | 0/15 [00:00<?, ?it/s]"
            ]
          },
          "metadata": {},
          "output_type": "display_data"
        },
        {
          "data": {
            "application/vnd.jupyter.widget-view+json": {
              "model_id": "a476f54ffcba4ee0929e30a7e37af7e9",
              "version_major": 2,
              "version_minor": 0
            },
            "text/plain": [
              "PROCESSING TASKS | :   0%|          | 0/15 [00:00<?, ?it/s]"
            ]
          },
          "metadata": {},
          "output_type": "display_data"
        },
        {
          "data": {
            "application/vnd.jupyter.widget-view+json": {
              "model_id": "bb1b29d5e9324248b00a9ca3decc0345",
              "version_major": 2,
              "version_minor": 0
            },
            "text/plain": [
              "COLLECTING RESULTS | :   0%|          | 0/15 [00:00<?, ?it/s]"
            ]
          },
          "metadata": {},
          "output_type": "display_data"
        },
        {
          "data": {
            "application/vnd.jupyter.widget-view+json": {
              "model_id": "553892ce4b7f4aa49d07a22e0d50300e",
              "version_major": 2,
              "version_minor": 0
            },
            "text/plain": [
              "QUEUEING TASKS | :   0%|          | 0/15 [00:00<?, ?it/s]"
            ]
          },
          "metadata": {},
          "output_type": "display_data"
        },
        {
          "data": {
            "application/vnd.jupyter.widget-view+json": {
              "model_id": "4d82bb5cb62e4f6ab854e73e9062f2c2",
              "version_major": 2,
              "version_minor": 0
            },
            "text/plain": [
              "PROCESSING TASKS | :   0%|          | 0/15 [00:00<?, ?it/s]"
            ]
          },
          "metadata": {},
          "output_type": "display_data"
        },
        {
          "data": {
            "application/vnd.jupyter.widget-view+json": {
              "model_id": "637077636afc40fabe27f060bc350695",
              "version_major": 2,
              "version_minor": 0
            },
            "text/plain": [
              "COLLECTING RESULTS | :   0%|          | 0/15 [00:00<?, ?it/s]"
            ]
          },
          "metadata": {},
          "output_type": "display_data"
        },
        {
          "data": {
            "application/vnd.jupyter.widget-view+json": {
              "model_id": "04779922ab854630b572874ce85fb2ae",
              "version_major": 2,
              "version_minor": 0
            },
            "text/plain": [
              "QUEUEING TASKS | :   0%|          | 0/15 [00:00<?, ?it/s]"
            ]
          },
          "metadata": {},
          "output_type": "display_data"
        },
        {
          "data": {
            "application/vnd.jupyter.widget-view+json": {
              "model_id": "a746f80ed7db477b966e9643da976fcf",
              "version_major": 2,
              "version_minor": 0
            },
            "text/plain": [
              "PROCESSING TASKS | :   0%|          | 0/15 [00:00<?, ?it/s]"
            ]
          },
          "metadata": {},
          "output_type": "display_data"
        },
        {
          "data": {
            "application/vnd.jupyter.widget-view+json": {
              "model_id": "e8158e8a27084fbf8e933502de570eb3",
              "version_major": 2,
              "version_minor": 0
            },
            "text/plain": [
              "COLLECTING RESULTS | :   0%|          | 0/15 [00:00<?, ?it/s]"
            ]
          },
          "metadata": {},
          "output_type": "display_data"
        },
        {
          "data": {
            "application/vnd.jupyter.widget-view+json": {
              "model_id": "8e97aab737af4ee6a54183b0caed6f46",
              "version_major": 2,
              "version_minor": 0
            },
            "text/plain": [
              "QUEUEING TASKS | :   0%|          | 0/15 [00:00<?, ?it/s]"
            ]
          },
          "metadata": {},
          "output_type": "display_data"
        },
        {
          "data": {
            "application/vnd.jupyter.widget-view+json": {
              "model_id": "74f9ed9c11034391a7f34d3a1f8957f7",
              "version_major": 2,
              "version_minor": 0
            },
            "text/plain": [
              "PROCESSING TASKS | :   0%|          | 0/15 [00:00<?, ?it/s]"
            ]
          },
          "metadata": {},
          "output_type": "display_data"
        },
        {
          "data": {
            "application/vnd.jupyter.widget-view+json": {
              "model_id": "c39ac8b51b6f4466b4af030fa6568bfe",
              "version_major": 2,
              "version_minor": 0
            },
            "text/plain": [
              "COLLECTING RESULTS | :   0%|          | 0/15 [00:00<?, ?it/s]"
            ]
          },
          "metadata": {},
          "output_type": "display_data"
        },
        {
          "data": {
            "application/vnd.jupyter.widget-view+json": {
              "model_id": "4b1a778502374628966ac0b240e400fa",
              "version_major": 2,
              "version_minor": 0
            },
            "text/plain": [
              "QUEUEING TASKS | :   0%|          | 0/15 [00:00<?, ?it/s]"
            ]
          },
          "metadata": {},
          "output_type": "display_data"
        },
        {
          "data": {
            "application/vnd.jupyter.widget-view+json": {
              "model_id": "339a6ddb314d4240aeb0d8eb34a7ca95",
              "version_major": 2,
              "version_minor": 0
            },
            "text/plain": [
              "PROCESSING TASKS | :   0%|          | 0/15 [00:00<?, ?it/s]"
            ]
          },
          "metadata": {},
          "output_type": "display_data"
        },
        {
          "data": {
            "application/vnd.jupyter.widget-view+json": {
              "model_id": "4c9df884f6764577bf1fdb8b8cb22c0e",
              "version_major": 2,
              "version_minor": 0
            },
            "text/plain": [
              "COLLECTING RESULTS | :   0%|          | 0/15 [00:00<?, ?it/s]"
            ]
          },
          "metadata": {},
          "output_type": "display_data"
        },
        {
          "data": {
            "application/vnd.jupyter.widget-view+json": {
              "model_id": "37f356e65f964241ba51fb91a855f29c",
              "version_major": 2,
              "version_minor": 0
            },
            "text/plain": [
              "QUEUEING TASKS | :   0%|          | 0/15 [00:00<?, ?it/s]"
            ]
          },
          "metadata": {},
          "output_type": "display_data"
        },
        {
          "data": {
            "application/vnd.jupyter.widget-view+json": {
              "model_id": "180ebf64c2a546c49dfedacdef7c4cda",
              "version_major": 2,
              "version_minor": 0
            },
            "text/plain": [
              "PROCESSING TASKS | :   0%|          | 0/15 [00:00<?, ?it/s]"
            ]
          },
          "metadata": {},
          "output_type": "display_data"
        },
        {
          "data": {
            "application/vnd.jupyter.widget-view+json": {
              "model_id": "257c1140e03d4fde86bbcae79956649e",
              "version_major": 2,
              "version_minor": 0
            },
            "text/plain": [
              "COLLECTING RESULTS | :   0%|          | 0/15 [00:00<?, ?it/s]"
            ]
          },
          "metadata": {},
          "output_type": "display_data"
        },
        {
          "data": {
            "application/vnd.jupyter.widget-view+json": {
              "model_id": "42d1938838b54cc3a3fccf0e30929fc6",
              "version_major": 2,
              "version_minor": 0
            },
            "text/plain": [
              "QUEUEING TASKS | :   0%|          | 0/15 [00:00<?, ?it/s]"
            ]
          },
          "metadata": {},
          "output_type": "display_data"
        },
        {
          "data": {
            "application/vnd.jupyter.widget-view+json": {
              "model_id": "7bc8df0fc822428e960dce020a57fe60",
              "version_major": 2,
              "version_minor": 0
            },
            "text/plain": [
              "PROCESSING TASKS | :   0%|          | 0/15 [00:00<?, ?it/s]"
            ]
          },
          "metadata": {},
          "output_type": "display_data"
        },
        {
          "data": {
            "application/vnd.jupyter.widget-view+json": {
              "model_id": "d2088782a2774a2d98a938adfc061129",
              "version_major": 2,
              "version_minor": 0
            },
            "text/plain": [
              "COLLECTING RESULTS | :   0%|          | 0/15 [00:00<?, ?it/s]"
            ]
          },
          "metadata": {},
          "output_type": "display_data"
        },
        {
          "data": {
            "application/vnd.jupyter.widget-view+json": {
              "model_id": "32ad92ef5faa4cf99893eebce22537a8",
              "version_major": 2,
              "version_minor": 0
            },
            "text/plain": [
              "QUEUEING TASKS | :   0%|          | 0/15 [00:00<?, ?it/s]"
            ]
          },
          "metadata": {},
          "output_type": "display_data"
        },
        {
          "data": {
            "application/vnd.jupyter.widget-view+json": {
              "model_id": "656a4f339b8f40e7907e0eab384dcaa2",
              "version_major": 2,
              "version_minor": 0
            },
            "text/plain": [
              "PROCESSING TASKS | :   0%|          | 0/15 [00:00<?, ?it/s]"
            ]
          },
          "metadata": {},
          "output_type": "display_data"
        },
        {
          "data": {
            "application/vnd.jupyter.widget-view+json": {
              "model_id": "49f2ca327be442ee98d4d178d9f430f7",
              "version_major": 2,
              "version_minor": 0
            },
            "text/plain": [
              "COLLECTING RESULTS | :   0%|          | 0/15 [00:00<?, ?it/s]"
            ]
          },
          "metadata": {},
          "output_type": "display_data"
        },
        {
          "data": {
            "application/vnd.jupyter.widget-view+json": {
              "model_id": "10bd738a818d4ce697b715283eb00820",
              "version_major": 2,
              "version_minor": 0
            },
            "text/plain": [
              "QUEUEING TASKS | :   0%|          | 0/15 [00:00<?, ?it/s]"
            ]
          },
          "metadata": {},
          "output_type": "display_data"
        },
        {
          "data": {
            "application/vnd.jupyter.widget-view+json": {
              "model_id": "23a0c1614b684592b265f2bba32fc2ba",
              "version_major": 2,
              "version_minor": 0
            },
            "text/plain": [
              "PROCESSING TASKS | :   0%|          | 0/15 [00:00<?, ?it/s]"
            ]
          },
          "metadata": {},
          "output_type": "display_data"
        },
        {
          "data": {
            "application/vnd.jupyter.widget-view+json": {
              "model_id": "1da469fddd334887a8f8040bb3d470fb",
              "version_major": 2,
              "version_minor": 0
            },
            "text/plain": [
              "COLLECTING RESULTS | :   0%|          | 0/15 [00:00<?, ?it/s]"
            ]
          },
          "metadata": {},
          "output_type": "display_data"
        },
        {
          "data": {
            "application/vnd.jupyter.widget-view+json": {
              "model_id": "ca5351f14eb042ad93a21046443b4cdf",
              "version_major": 2,
              "version_minor": 0
            },
            "text/plain": [
              "QUEUEING TASKS | :   0%|          | 0/15 [00:00<?, ?it/s]"
            ]
          },
          "metadata": {},
          "output_type": "display_data"
        },
        {
          "data": {
            "application/vnd.jupyter.widget-view+json": {
              "model_id": "24cef3cd41dc46f597567b174c5d2e88",
              "version_major": 2,
              "version_minor": 0
            },
            "text/plain": [
              "PROCESSING TASKS | :   0%|          | 0/15 [00:00<?, ?it/s]"
            ]
          },
          "metadata": {},
          "output_type": "display_data"
        },
        {
          "data": {
            "application/vnd.jupyter.widget-view+json": {
              "model_id": "1ef49354f74446b6a3f781f501a88186",
              "version_major": 2,
              "version_minor": 0
            },
            "text/plain": [
              "COLLECTING RESULTS | :   0%|          | 0/15 [00:00<?, ?it/s]"
            ]
          },
          "metadata": {},
          "output_type": "display_data"
        },
        {
          "data": {
            "application/vnd.jupyter.widget-view+json": {
              "model_id": "d0bd7499ef15450cab4cadf69cdb23c9",
              "version_major": 2,
              "version_minor": 0
            },
            "text/plain": [
              "QUEUEING TASKS | :   0%|          | 0/15 [00:00<?, ?it/s]"
            ]
          },
          "metadata": {},
          "output_type": "display_data"
        },
        {
          "data": {
            "application/vnd.jupyter.widget-view+json": {
              "model_id": "79e2a915489648e3b5f6c90f019edd0e",
              "version_major": 2,
              "version_minor": 0
            },
            "text/plain": [
              "PROCESSING TASKS | :   0%|          | 0/15 [00:00<?, ?it/s]"
            ]
          },
          "metadata": {},
          "output_type": "display_data"
        },
        {
          "data": {
            "application/vnd.jupyter.widget-view+json": {
              "model_id": "424d4cef8ec048c8bf711eb9322775ec",
              "version_major": 2,
              "version_minor": 0
            },
            "text/plain": [
              "COLLECTING RESULTS | :   0%|          | 0/15 [00:00<?, ?it/s]"
            ]
          },
          "metadata": {},
          "output_type": "display_data"
        },
        {
          "data": {
            "application/vnd.jupyter.widget-view+json": {
              "model_id": "319a952b41a34d93866bdbbc6350f535",
              "version_major": 2,
              "version_minor": 0
            },
            "text/plain": [
              "QUEUEING TASKS | :   0%|          | 0/15 [00:00<?, ?it/s]"
            ]
          },
          "metadata": {},
          "output_type": "display_data"
        },
        {
          "data": {
            "application/vnd.jupyter.widget-view+json": {
              "model_id": "fa2db242c40a43b6a5a79c326c8903d6",
              "version_major": 2,
              "version_minor": 0
            },
            "text/plain": [
              "PROCESSING TASKS | :   0%|          | 0/15 [00:00<?, ?it/s]"
            ]
          },
          "metadata": {},
          "output_type": "display_data"
        },
        {
          "data": {
            "application/vnd.jupyter.widget-view+json": {
              "model_id": "bbf67fef48c64ada95abc60a7af58e27",
              "version_major": 2,
              "version_minor": 0
            },
            "text/plain": [
              "COLLECTING RESULTS | :   0%|          | 0/15 [00:00<?, ?it/s]"
            ]
          },
          "metadata": {},
          "output_type": "display_data"
        },
        {
          "data": {
            "application/vnd.jupyter.widget-view+json": {
              "model_id": "7528a78d8db84c69b4da8412320121fe",
              "version_major": 2,
              "version_minor": 0
            },
            "text/plain": [
              "QUEUEING TASKS | :   0%|          | 0/15 [00:00<?, ?it/s]"
            ]
          },
          "metadata": {},
          "output_type": "display_data"
        },
        {
          "data": {
            "application/vnd.jupyter.widget-view+json": {
              "model_id": "39e083c3871045a7aa89be15663d4406",
              "version_major": 2,
              "version_minor": 0
            },
            "text/plain": [
              "PROCESSING TASKS | :   0%|          | 0/15 [00:00<?, ?it/s]"
            ]
          },
          "metadata": {},
          "output_type": "display_data"
        },
        {
          "data": {
            "application/vnd.jupyter.widget-view+json": {
              "model_id": "c18ca3bd9b6643feba96273e4bb220a7",
              "version_major": 2,
              "version_minor": 0
            },
            "text/plain": [
              "COLLECTING RESULTS | :   0%|          | 0/15 [00:00<?, ?it/s]"
            ]
          },
          "metadata": {},
          "output_type": "display_data"
        },
        {
          "data": {
            "application/vnd.jupyter.widget-view+json": {
              "model_id": "18f6e7419348435badee72aceca8650a",
              "version_major": 2,
              "version_minor": 0
            },
            "text/plain": [
              "QUEUEING TASKS | :   0%|          | 0/15 [00:00<?, ?it/s]"
            ]
          },
          "metadata": {},
          "output_type": "display_data"
        },
        {
          "data": {
            "application/vnd.jupyter.widget-view+json": {
              "model_id": "1014e2bff98d4dca927c8b2e18a84dab",
              "version_major": 2,
              "version_minor": 0
            },
            "text/plain": [
              "PROCESSING TASKS | :   0%|          | 0/15 [00:00<?, ?it/s]"
            ]
          },
          "metadata": {},
          "output_type": "display_data"
        },
        {
          "data": {
            "application/vnd.jupyter.widget-view+json": {
              "model_id": "c299b5c713ca49e2ae1dcf63f04b2cc5",
              "version_major": 2,
              "version_minor": 0
            },
            "text/plain": [
              "COLLECTING RESULTS | :   0%|          | 0/15 [00:00<?, ?it/s]"
            ]
          },
          "metadata": {},
          "output_type": "display_data"
        },
        {
          "data": {
            "application/vnd.jupyter.widget-view+json": {
              "model_id": "1ace07e867c44cacbf0b5ae7b8575ac7",
              "version_major": 2,
              "version_minor": 0
            },
            "text/plain": [
              "QUEUEING TASKS | :   0%|          | 0/15 [00:00<?, ?it/s]"
            ]
          },
          "metadata": {},
          "output_type": "display_data"
        },
        {
          "data": {
            "application/vnd.jupyter.widget-view+json": {
              "model_id": "a1877405f10542089bae32f8947c6849",
              "version_major": 2,
              "version_minor": 0
            },
            "text/plain": [
              "PROCESSING TASKS | :   0%|          | 0/15 [00:00<?, ?it/s]"
            ]
          },
          "metadata": {},
          "output_type": "display_data"
        },
        {
          "data": {
            "application/vnd.jupyter.widget-view+json": {
              "model_id": "2cc3e42ad583469ab7643dde6e332597",
              "version_major": 2,
              "version_minor": 0
            },
            "text/plain": [
              "COLLECTING RESULTS | :   0%|          | 0/15 [00:00<?, ?it/s]"
            ]
          },
          "metadata": {},
          "output_type": "display_data"
        },
        {
          "data": {
            "application/vnd.jupyter.widget-view+json": {
              "model_id": "2e5b88b80b844b478819af337feaab86",
              "version_major": 2,
              "version_minor": 0
            },
            "text/plain": [
              "QUEUEING TASKS | :   0%|          | 0/15 [00:00<?, ?it/s]"
            ]
          },
          "metadata": {},
          "output_type": "display_data"
        },
        {
          "data": {
            "application/vnd.jupyter.widget-view+json": {
              "model_id": "16153b690b0443819862102e4fa040b6",
              "version_major": 2,
              "version_minor": 0
            },
            "text/plain": [
              "PROCESSING TASKS | :   0%|          | 0/15 [00:00<?, ?it/s]"
            ]
          },
          "metadata": {},
          "output_type": "display_data"
        },
        {
          "data": {
            "application/vnd.jupyter.widget-view+json": {
              "model_id": "2e988b0cdb87467c86df151653aa939e",
              "version_major": 2,
              "version_minor": 0
            },
            "text/plain": [
              "COLLECTING RESULTS | :   0%|          | 0/15 [00:00<?, ?it/s]"
            ]
          },
          "metadata": {},
          "output_type": "display_data"
        },
        {
          "data": {
            "application/vnd.jupyter.widget-view+json": {
              "model_id": "3cd54bab7c144838a4a4cf7cfc783cca",
              "version_major": 2,
              "version_minor": 0
            },
            "text/plain": [
              "QUEUEING TASKS | :   0%|          | 0/15 [00:00<?, ?it/s]"
            ]
          },
          "metadata": {},
          "output_type": "display_data"
        },
        {
          "data": {
            "application/vnd.jupyter.widget-view+json": {
              "model_id": "fca1f3036412432297f90ad7aed2a2ac",
              "version_major": 2,
              "version_minor": 0
            },
            "text/plain": [
              "PROCESSING TASKS | :   0%|          | 0/15 [00:00<?, ?it/s]"
            ]
          },
          "metadata": {},
          "output_type": "display_data"
        },
        {
          "data": {
            "application/vnd.jupyter.widget-view+json": {
              "model_id": "95822415755c409881ea9198e327df0a",
              "version_major": 2,
              "version_minor": 0
            },
            "text/plain": [
              "COLLECTING RESULTS | :   0%|          | 0/15 [00:00<?, ?it/s]"
            ]
          },
          "metadata": {},
          "output_type": "display_data"
        },
        {
          "data": {
            "application/vnd.jupyter.widget-view+json": {
              "model_id": "9969db574ea647ffbfcd8addbc506e4a",
              "version_major": 2,
              "version_minor": 0
            },
            "text/plain": [
              "QUEUEING TASKS | :   0%|          | 0/15 [00:00<?, ?it/s]"
            ]
          },
          "metadata": {},
          "output_type": "display_data"
        },
        {
          "data": {
            "application/vnd.jupyter.widget-view+json": {
              "model_id": "1cccf062f4f74f2fa8c07bf59e5a9c53",
              "version_major": 2,
              "version_minor": 0
            },
            "text/plain": [
              "PROCESSING TASKS | :   0%|          | 0/15 [00:00<?, ?it/s]"
            ]
          },
          "metadata": {},
          "output_type": "display_data"
        },
        {
          "data": {
            "application/vnd.jupyter.widget-view+json": {
              "model_id": "56ce6ed1abb94e75b460e7c7762ee736",
              "version_major": 2,
              "version_minor": 0
            },
            "text/plain": [
              "COLLECTING RESULTS | :   0%|          | 0/15 [00:00<?, ?it/s]"
            ]
          },
          "metadata": {},
          "output_type": "display_data"
        },
        {
          "data": {
            "application/vnd.jupyter.widget-view+json": {
              "model_id": "4285d2dab4ee471e9e0b61634b4e3314",
              "version_major": 2,
              "version_minor": 0
            },
            "text/plain": [
              "QUEUEING TASKS | :   0%|          | 0/15 [00:00<?, ?it/s]"
            ]
          },
          "metadata": {},
          "output_type": "display_data"
        },
        {
          "data": {
            "application/vnd.jupyter.widget-view+json": {
              "model_id": "7afffa7edc5b465d9282663b319aca1c",
              "version_major": 2,
              "version_minor": 0
            },
            "text/plain": [
              "PROCESSING TASKS | :   0%|          | 0/15 [00:00<?, ?it/s]"
            ]
          },
          "metadata": {},
          "output_type": "display_data"
        },
        {
          "data": {
            "application/vnd.jupyter.widget-view+json": {
              "model_id": "1f5dacd0cbdf4b34b1ebbb8c74cbc29d",
              "version_major": 2,
              "version_minor": 0
            },
            "text/plain": [
              "COLLECTING RESULTS | :   0%|          | 0/15 [00:00<?, ?it/s]"
            ]
          },
          "metadata": {},
          "output_type": "display_data"
        },
        {
          "data": {
            "application/vnd.jupyter.widget-view+json": {
              "model_id": "a1c84fd955df4916893dc42057ba261c",
              "version_major": 2,
              "version_minor": 0
            },
            "text/plain": [
              "QUEUEING TASKS | :   0%|          | 0/15 [00:00<?, ?it/s]"
            ]
          },
          "metadata": {},
          "output_type": "display_data"
        },
        {
          "data": {
            "application/vnd.jupyter.widget-view+json": {
              "model_id": "c1be62b316044540949d0c12a038b067",
              "version_major": 2,
              "version_minor": 0
            },
            "text/plain": [
              "PROCESSING TASKS | :   0%|          | 0/15 [00:00<?, ?it/s]"
            ]
          },
          "metadata": {},
          "output_type": "display_data"
        },
        {
          "data": {
            "application/vnd.jupyter.widget-view+json": {
              "model_id": "857ca338425345039bc478e60ce79ee5",
              "version_major": 2,
              "version_minor": 0
            },
            "text/plain": [
              "COLLECTING RESULTS | :   0%|          | 0/15 [00:00<?, ?it/s]"
            ]
          },
          "metadata": {},
          "output_type": "display_data"
        },
        {
          "data": {
            "application/vnd.jupyter.widget-view+json": {
              "model_id": "22b54c3c618b429bb487691064952354",
              "version_major": 2,
              "version_minor": 0
            },
            "text/plain": [
              "QUEUEING TASKS | :   0%|          | 0/15 [00:00<?, ?it/s]"
            ]
          },
          "metadata": {},
          "output_type": "display_data"
        },
        {
          "data": {
            "application/vnd.jupyter.widget-view+json": {
              "model_id": "74e40f6085174e6b889a87aff45ef090",
              "version_major": 2,
              "version_minor": 0
            },
            "text/plain": [
              "PROCESSING TASKS | :   0%|          | 0/15 [00:00<?, ?it/s]"
            ]
          },
          "metadata": {},
          "output_type": "display_data"
        },
        {
          "data": {
            "application/vnd.jupyter.widget-view+json": {
              "model_id": "fc6835c6d4364397800676e977108300",
              "version_major": 2,
              "version_minor": 0
            },
            "text/plain": [
              "COLLECTING RESULTS | :   0%|          | 0/15 [00:00<?, ?it/s]"
            ]
          },
          "metadata": {},
          "output_type": "display_data"
        },
        {
          "data": {
            "application/vnd.jupyter.widget-view+json": {
              "model_id": "f401894a855b4c9b95f159277c6e0cd7",
              "version_major": 2,
              "version_minor": 0
            },
            "text/plain": [
              "QUEUEING TASKS | :   0%|          | 0/15 [00:00<?, ?it/s]"
            ]
          },
          "metadata": {},
          "output_type": "display_data"
        },
        {
          "data": {
            "application/vnd.jupyter.widget-view+json": {
              "model_id": "61ac5e808d66483185ee8dc382af099d",
              "version_major": 2,
              "version_minor": 0
            },
            "text/plain": [
              "PROCESSING TASKS | :   0%|          | 0/15 [00:00<?, ?it/s]"
            ]
          },
          "metadata": {},
          "output_type": "display_data"
        },
        {
          "data": {
            "application/vnd.jupyter.widget-view+json": {
              "model_id": "15e1d2b05e0d4bd8a29d92130bbdae93",
              "version_major": 2,
              "version_minor": 0
            },
            "text/plain": [
              "COLLECTING RESULTS | :   0%|          | 0/15 [00:00<?, ?it/s]"
            ]
          },
          "metadata": {},
          "output_type": "display_data"
        },
        {
          "data": {
            "application/vnd.jupyter.widget-view+json": {
              "model_id": "072ea028e2224e01980756f30c911d0b",
              "version_major": 2,
              "version_minor": 0
            },
            "text/plain": [
              "QUEUEING TASKS | :   0%|          | 0/15 [00:00<?, ?it/s]"
            ]
          },
          "metadata": {},
          "output_type": "display_data"
        },
        {
          "data": {
            "application/vnd.jupyter.widget-view+json": {
              "model_id": "6f2ff7e9c7824dcfbc624765e416a070",
              "version_major": 2,
              "version_minor": 0
            },
            "text/plain": [
              "PROCESSING TASKS | :   0%|          | 0/15 [00:00<?, ?it/s]"
            ]
          },
          "metadata": {},
          "output_type": "display_data"
        },
        {
          "data": {
            "application/vnd.jupyter.widget-view+json": {
              "model_id": "86c8ca257089418f901212d41402bc9c",
              "version_major": 2,
              "version_minor": 0
            },
            "text/plain": [
              "COLLECTING RESULTS | :   0%|          | 0/15 [00:00<?, ?it/s]"
            ]
          },
          "metadata": {},
          "output_type": "display_data"
        },
        {
          "data": {
            "application/vnd.jupyter.widget-view+json": {
              "model_id": "20f43d972068451bb629cdb7924ec2e4",
              "version_major": 2,
              "version_minor": 0
            },
            "text/plain": [
              "QUEUEING TASKS | :   0%|          | 0/15 [00:00<?, ?it/s]"
            ]
          },
          "metadata": {},
          "output_type": "display_data"
        },
        {
          "data": {
            "application/vnd.jupyter.widget-view+json": {
              "model_id": "ea279084d52c464f8056f8267990d19e",
              "version_major": 2,
              "version_minor": 0
            },
            "text/plain": [
              "PROCESSING TASKS | :   0%|          | 0/15 [00:00<?, ?it/s]"
            ]
          },
          "metadata": {},
          "output_type": "display_data"
        },
        {
          "data": {
            "application/vnd.jupyter.widget-view+json": {
              "model_id": "765ba152acdf4db8a65bd1860c2277d6",
              "version_major": 2,
              "version_minor": 0
            },
            "text/plain": [
              "COLLECTING RESULTS | :   0%|          | 0/15 [00:00<?, ?it/s]"
            ]
          },
          "metadata": {},
          "output_type": "display_data"
        },
        {
          "data": {
            "application/vnd.jupyter.widget-view+json": {
              "model_id": "cc71a11aba034bbf94bc4789545180f8",
              "version_major": 2,
              "version_minor": 0
            },
            "text/plain": [
              "QUEUEING TASKS | :   0%|          | 0/15 [00:00<?, ?it/s]"
            ]
          },
          "metadata": {},
          "output_type": "display_data"
        },
        {
          "data": {
            "application/vnd.jupyter.widget-view+json": {
              "model_id": "b608d4df7938475b9588cf9e7489d0a1",
              "version_major": 2,
              "version_minor": 0
            },
            "text/plain": [
              "PROCESSING TASKS | :   0%|          | 0/15 [00:00<?, ?it/s]"
            ]
          },
          "metadata": {},
          "output_type": "display_data"
        },
        {
          "data": {
            "application/vnd.jupyter.widget-view+json": {
              "model_id": "bcab5330673a4b269a43b6953f6d806b",
              "version_major": 2,
              "version_minor": 0
            },
            "text/plain": [
              "COLLECTING RESULTS | :   0%|          | 0/15 [00:00<?, ?it/s]"
            ]
          },
          "metadata": {},
          "output_type": "display_data"
        }
      ],
      "source": [
        "# get tile ids and band numbers for the granule\n",
        "# Compile a regular expression to search for metadata\n",
        "# the r indicates this is a raw string and highlights all escaped characters (the dots), limits our need to escape special characters\n",
        "# def get_earthaccess_links(results):\n",
        "#     uri_re = re.compile(\n",
        "#         r\"HLS\\.L30\\.(?P<tile_id>T[0-9A-Z]+)\\.(?P<date>\\d+)T\\d+\\.v2\\.0\\.\"\n",
        "#         r\"(?P<band_id>.+)\\.tif\"\n",
        "# )\n",
        "## create empty lists for results\n",
        "files = []\n",
        "files_metadata = []\n",
        "\n",
        "url_re = re.compile(\n",
        "    r\"HLS\\.L30\\.(?P<tile_id>T[0-9A-Z]+)\"\n",
        "    r\"\\.\\d+T\\d+\\.v\\d\\.\\d\\.\"\n",
        "    r\"(?P<band_id>[A-Za-z0-9].+)\\.tif\"\n",
        ")\n",
        "\n",
        "## open each file in wbd_hls_results\n",
        "for row in tqdm(wbd_hls_results):\n",
        "    file = earthaccess.open([row])\n",
        "    files.append(file)\n",
        "\n",
        "for opened_granule in files:\n",
        "    #this yields a dictionary with the tile id, date, and band id\n",
        "    #why does this create such a long list? how to shorten it?\n",
        "    file_metadata = url_re.search(opened_granule[0].full_name).groupdict()\n",
        "    files_metadata.append(file_metadata)\n"
      ]
    },
    {
      "cell_type": "code",
      "execution_count": 26,
      "id": "c6e52c7a",
      "metadata": {},
      "outputs": [
        {
          "data": {
            "text/plain": [
              "list"
            ]
          },
          "execution_count": 26,
          "metadata": {},
          "output_type": "execute_result"
        }
      ],
      "source": [
        "type(files_metadata)"
      ]
    },
    {
      "cell_type": "code",
      "execution_count": 29,
      "id": "f7185b4c",
      "metadata": {},
      "outputs": [
        {
          "data": {
            "text/plain": [
              "[[<File-like object HTTPFileSystem, https://data.lpdaac.earthdatacloud.nasa.gov/lp-prod-protected/HLSL30.020/HLS.L30.T16RBT.2023124T163132.v2.0/HLS.L30.T16RBT.2023124T163132.v2.0.B03.tif>,\n",
              "  <File-like object HTTPFileSystem, https://data.lpdaac.earthdatacloud.nasa.gov/lp-prod-protected/HLSL30.020/HLS.L30.T16RBT.2023124T163132.v2.0/HLS.L30.T16RBT.2023124T163132.v2.0.B07.tif>,\n",
              "  <File-like object HTTPFileSystem, https://data.lpdaac.earthdatacloud.nasa.gov/lp-prod-protected/HLSL30.020/HLS.L30.T16RBT.2023124T163132.v2.0/HLS.L30.T16RBT.2023124T163132.v2.0.B06.tif>,\n",
              "  <File-like object HTTPFileSystem, https://data.lpdaac.earthdatacloud.nasa.gov/lp-prod-protected/HLSL30.020/HLS.L30.T16RBT.2023124T163132.v2.0/HLS.L30.T16RBT.2023124T163132.v2.0.B02.tif>,\n",
              "  <File-like object HTTPFileSystem, https://data.lpdaac.earthdatacloud.nasa.gov/lp-prod-protected/HLSL30.020/HLS.L30.T16RBT.2023124T163132.v2.0/HLS.L30.T16RBT.2023124T163132.v2.0.B01.tif>,\n",
              "  <File-like object HTTPFileSystem, https://data.lpdaac.earthdatacloud.nasa.gov/lp-prod-protected/HLSL30.020/HLS.L30.T16RBT.2023124T163132.v2.0/HLS.L30.T16RBT.2023124T163132.v2.0.Fmask.tif>,\n",
              "  <File-like object HTTPFileSystem, https://data.lpdaac.earthdatacloud.nasa.gov/lp-prod-protected/HLSL30.020/HLS.L30.T16RBT.2023124T163132.v2.0/HLS.L30.T16RBT.2023124T163132.v2.0.SZA.tif>,\n",
              "  <File-like object HTTPFileSystem, https://data.lpdaac.earthdatacloud.nasa.gov/lp-prod-protected/HLSL30.020/HLS.L30.T16RBT.2023124T163132.v2.0/HLS.L30.T16RBT.2023124T163132.v2.0.SAA.tif>,\n",
              "  <File-like object HTTPFileSystem, https://data.lpdaac.earthdatacloud.nasa.gov/lp-prod-protected/HLSL30.020/HLS.L30.T16RBT.2023124T163132.v2.0/HLS.L30.T16RBT.2023124T163132.v2.0.B05.tif>,\n",
              "  <File-like object HTTPFileSystem, https://data.lpdaac.earthdatacloud.nasa.gov/lp-prod-protected/HLSL30.020/HLS.L30.T16RBT.2023124T163132.v2.0/HLS.L30.T16RBT.2023124T163132.v2.0.VAA.tif>,\n",
              "  <File-like object HTTPFileSystem, https://data.lpdaac.earthdatacloud.nasa.gov/lp-prod-protected/HLSL30.020/HLS.L30.T16RBT.2023124T163132.v2.0/HLS.L30.T16RBT.2023124T163132.v2.0.B10.tif>,\n",
              "  <File-like object HTTPFileSystem, https://data.lpdaac.earthdatacloud.nasa.gov/lp-prod-protected/HLSL30.020/HLS.L30.T16RBT.2023124T163132.v2.0/HLS.L30.T16RBT.2023124T163132.v2.0.B09.tif>,\n",
              "  <File-like object HTTPFileSystem, https://data.lpdaac.earthdatacloud.nasa.gov/lp-prod-protected/HLSL30.020/HLS.L30.T16RBT.2023124T163132.v2.0/HLS.L30.T16RBT.2023124T163132.v2.0.B11.tif>,\n",
              "  <File-like object HTTPFileSystem, https://data.lpdaac.earthdatacloud.nasa.gov/lp-prod-protected/HLSL30.020/HLS.L30.T16RBT.2023124T163132.v2.0/HLS.L30.T16RBT.2023124T163132.v2.0.B04.tif>,\n",
              "  <File-like object HTTPFileSystem, https://data.lpdaac.earthdatacloud.nasa.gov/lp-prod-protected/HLSL30.020/HLS.L30.T16RBT.2023124T163132.v2.0/HLS.L30.T16RBT.2023124T163132.v2.0.VZA.tif>],\n",
              " [<File-like object HTTPFileSystem, https://data.lpdaac.earthdatacloud.nasa.gov/lp-prod-protected/HLSL30.020/HLS.L30.T15RYN.2023124T163132.v2.0/HLS.L30.T15RYN.2023124T163132.v2.0.B03.tif>,\n",
              "  <File-like object HTTPFileSystem, https://data.lpdaac.earthdatacloud.nasa.gov/lp-prod-protected/HLSL30.020/HLS.L30.T15RYN.2023124T163132.v2.0/HLS.L30.T15RYN.2023124T163132.v2.0.VAA.tif>,\n",
              "  <File-like object HTTPFileSystem, https://data.lpdaac.earthdatacloud.nasa.gov/lp-prod-protected/HLSL30.020/HLS.L30.T15RYN.2023124T163132.v2.0/HLS.L30.T15RYN.2023124T163132.v2.0.B01.tif>,\n",
              "  <File-like object HTTPFileSystem, https://data.lpdaac.earthdatacloud.nasa.gov/lp-prod-protected/HLSL30.020/HLS.L30.T15RYN.2023124T163132.v2.0/HLS.L30.T15RYN.2023124T163132.v2.0.B02.tif>,\n",
              "  <File-like object HTTPFileSystem, https://data.lpdaac.earthdatacloud.nasa.gov/lp-prod-protected/HLSL30.020/HLS.L30.T15RYN.2023124T163132.v2.0/HLS.L30.T15RYN.2023124T163132.v2.0.B06.tif>,\n",
              "  <File-like object HTTPFileSystem, https://data.lpdaac.earthdatacloud.nasa.gov/lp-prod-protected/HLSL30.020/HLS.L30.T15RYN.2023124T163132.v2.0/HLS.L30.T15RYN.2023124T163132.v2.0.B09.tif>,\n",
              "  <File-like object HTTPFileSystem, https://data.lpdaac.earthdatacloud.nasa.gov/lp-prod-protected/HLSL30.020/HLS.L30.T15RYN.2023124T163132.v2.0/HLS.L30.T15RYN.2023124T163132.v2.0.B04.tif>,\n",
              "  <File-like object HTTPFileSystem, https://data.lpdaac.earthdatacloud.nasa.gov/lp-prod-protected/HLSL30.020/HLS.L30.T15RYN.2023124T163132.v2.0/HLS.L30.T15RYN.2023124T163132.v2.0.B10.tif>,\n",
              "  <File-like object HTTPFileSystem, https://data.lpdaac.earthdatacloud.nasa.gov/lp-prod-protected/HLSL30.020/HLS.L30.T15RYN.2023124T163132.v2.0/HLS.L30.T15RYN.2023124T163132.v2.0.VZA.tif>,\n",
              "  <File-like object HTTPFileSystem, https://data.lpdaac.earthdatacloud.nasa.gov/lp-prod-protected/HLSL30.020/HLS.L30.T15RYN.2023124T163132.v2.0/HLS.L30.T15RYN.2023124T163132.v2.0.SZA.tif>,\n",
              "  <File-like object HTTPFileSystem, https://data.lpdaac.earthdatacloud.nasa.gov/lp-prod-protected/HLSL30.020/HLS.L30.T15RYN.2023124T163132.v2.0/HLS.L30.T15RYN.2023124T163132.v2.0.Fmask.tif>,\n",
              "  <File-like object HTTPFileSystem, https://data.lpdaac.earthdatacloud.nasa.gov/lp-prod-protected/HLSL30.020/HLS.L30.T15RYN.2023124T163132.v2.0/HLS.L30.T15RYN.2023124T163132.v2.0.SAA.tif>,\n",
              "  <File-like object HTTPFileSystem, https://data.lpdaac.earthdatacloud.nasa.gov/lp-prod-protected/HLSL30.020/HLS.L30.T15RYN.2023124T163132.v2.0/HLS.L30.T15RYN.2023124T163132.v2.0.B05.tif>,\n",
              "  <File-like object HTTPFileSystem, https://data.lpdaac.earthdatacloud.nasa.gov/lp-prod-protected/HLSL30.020/HLS.L30.T15RYN.2023124T163132.v2.0/HLS.L30.T15RYN.2023124T163132.v2.0.B11.tif>,\n",
              "  <File-like object HTTPFileSystem, https://data.lpdaac.earthdatacloud.nasa.gov/lp-prod-protected/HLSL30.020/HLS.L30.T15RYN.2023124T163132.v2.0/HLS.L30.T15RYN.2023124T163132.v2.0.B07.tif>],\n",
              " [<File-like object HTTPFileSystem, https://data.lpdaac.earthdatacloud.nasa.gov/lp-prod-protected/HLSL30.020/HLS.L30.T15RYP.2023124T163132.v2.0/HLS.L30.T15RYP.2023124T163132.v2.0.VZA.tif>,\n",
              "  <File-like object HTTPFileSystem, https://data.lpdaac.earthdatacloud.nasa.gov/lp-prod-protected/HLSL30.020/HLS.L30.T15RYP.2023124T163132.v2.0/HLS.L30.T15RYP.2023124T163132.v2.0.B09.tif>,\n",
              "  <File-like object HTTPFileSystem, https://data.lpdaac.earthdatacloud.nasa.gov/lp-prod-protected/HLSL30.020/HLS.L30.T15RYP.2023124T163132.v2.0/HLS.L30.T15RYP.2023124T163132.v2.0.B01.tif>,\n",
              "  <File-like object HTTPFileSystem, https://data.lpdaac.earthdatacloud.nasa.gov/lp-prod-protected/HLSL30.020/HLS.L30.T15RYP.2023124T163132.v2.0/HLS.L30.T15RYP.2023124T163132.v2.0.SAA.tif>,\n",
              "  <File-like object HTTPFileSystem, https://data.lpdaac.earthdatacloud.nasa.gov/lp-prod-protected/HLSL30.020/HLS.L30.T15RYP.2023124T163132.v2.0/HLS.L30.T15RYP.2023124T163132.v2.0.Fmask.tif>,\n",
              "  <File-like object HTTPFileSystem, https://data.lpdaac.earthdatacloud.nasa.gov/lp-prod-protected/HLSL30.020/HLS.L30.T15RYP.2023124T163132.v2.0/HLS.L30.T15RYP.2023124T163132.v2.0.SZA.tif>,\n",
              "  <File-like object HTTPFileSystem, https://data.lpdaac.earthdatacloud.nasa.gov/lp-prod-protected/HLSL30.020/HLS.L30.T15RYP.2023124T163132.v2.0/HLS.L30.T15RYP.2023124T163132.v2.0.B07.tif>,\n",
              "  <File-like object HTTPFileSystem, https://data.lpdaac.earthdatacloud.nasa.gov/lp-prod-protected/HLSL30.020/HLS.L30.T15RYP.2023124T163132.v2.0/HLS.L30.T15RYP.2023124T163132.v2.0.B11.tif>,\n",
              "  <File-like object HTTPFileSystem, https://data.lpdaac.earthdatacloud.nasa.gov/lp-prod-protected/HLSL30.020/HLS.L30.T15RYP.2023124T163132.v2.0/HLS.L30.T15RYP.2023124T163132.v2.0.B02.tif>,\n",
              "  <File-like object HTTPFileSystem, https://data.lpdaac.earthdatacloud.nasa.gov/lp-prod-protected/HLSL30.020/HLS.L30.T15RYP.2023124T163132.v2.0/HLS.L30.T15RYP.2023124T163132.v2.0.B06.tif>,\n",
              "  <File-like object HTTPFileSystem, https://data.lpdaac.earthdatacloud.nasa.gov/lp-prod-protected/HLSL30.020/HLS.L30.T15RYP.2023124T163132.v2.0/HLS.L30.T15RYP.2023124T163132.v2.0.B05.tif>,\n",
              "  <File-like object HTTPFileSystem, https://data.lpdaac.earthdatacloud.nasa.gov/lp-prod-protected/HLSL30.020/HLS.L30.T15RYP.2023124T163132.v2.0/HLS.L30.T15RYP.2023124T163132.v2.0.B04.tif>,\n",
              "  <File-like object HTTPFileSystem, https://data.lpdaac.earthdatacloud.nasa.gov/lp-prod-protected/HLSL30.020/HLS.L30.T15RYP.2023124T163132.v2.0/HLS.L30.T15RYP.2023124T163132.v2.0.B03.tif>,\n",
              "  <File-like object HTTPFileSystem, https://data.lpdaac.earthdatacloud.nasa.gov/lp-prod-protected/HLSL30.020/HLS.L30.T15RYP.2023124T163132.v2.0/HLS.L30.T15RYP.2023124T163132.v2.0.VAA.tif>,\n",
              "  <File-like object HTTPFileSystem, https://data.lpdaac.earthdatacloud.nasa.gov/lp-prod-protected/HLSL30.020/HLS.L30.T15RYP.2023124T163132.v2.0/HLS.L30.T15RYP.2023124T163132.v2.0.B10.tif>],\n",
              " [<File-like object HTTPFileSystem, https://data.lpdaac.earthdatacloud.nasa.gov/lp-prod-protected/HLSL30.020/HLS.L30.T16RBU.2023124T163132.v2.0/HLS.L30.T16RBU.2023124T163132.v2.0.B11.tif>,\n",
              "  <File-like object HTTPFileSystem, https://data.lpdaac.earthdatacloud.nasa.gov/lp-prod-protected/HLSL30.020/HLS.L30.T16RBU.2023124T163132.v2.0/HLS.L30.T16RBU.2023124T163132.v2.0.B09.tif>,\n",
              "  <File-like object HTTPFileSystem, https://data.lpdaac.earthdatacloud.nasa.gov/lp-prod-protected/HLSL30.020/HLS.L30.T16RBU.2023124T163132.v2.0/HLS.L30.T16RBU.2023124T163132.v2.0.B07.tif>,\n",
              "  <File-like object HTTPFileSystem, https://data.lpdaac.earthdatacloud.nasa.gov/lp-prod-protected/HLSL30.020/HLS.L30.T16RBU.2023124T163132.v2.0/HLS.L30.T16RBU.2023124T163132.v2.0.B10.tif>,\n",
              "  <File-like object HTTPFileSystem, https://data.lpdaac.earthdatacloud.nasa.gov/lp-prod-protected/HLSL30.020/HLS.L30.T16RBU.2023124T163132.v2.0/HLS.L30.T16RBU.2023124T163132.v2.0.B06.tif>,\n",
              "  <File-like object HTTPFileSystem, https://data.lpdaac.earthdatacloud.nasa.gov/lp-prod-protected/HLSL30.020/HLS.L30.T16RBU.2023124T163132.v2.0/HLS.L30.T16RBU.2023124T163132.v2.0.SZA.tif>,\n",
              "  <File-like object HTTPFileSystem, https://data.lpdaac.earthdatacloud.nasa.gov/lp-prod-protected/HLSL30.020/HLS.L30.T16RBU.2023124T163132.v2.0/HLS.L30.T16RBU.2023124T163132.v2.0.B02.tif>,\n",
              "  <File-like object HTTPFileSystem, https://data.lpdaac.earthdatacloud.nasa.gov/lp-prod-protected/HLSL30.020/HLS.L30.T16RBU.2023124T163132.v2.0/HLS.L30.T16RBU.2023124T163132.v2.0.SAA.tif>,\n",
              "  <File-like object HTTPFileSystem, https://data.lpdaac.earthdatacloud.nasa.gov/lp-prod-protected/HLSL30.020/HLS.L30.T16RBU.2023124T163132.v2.0/HLS.L30.T16RBU.2023124T163132.v2.0.B04.tif>,\n",
              "  <File-like object HTTPFileSystem, https://data.lpdaac.earthdatacloud.nasa.gov/lp-prod-protected/HLSL30.020/HLS.L30.T16RBU.2023124T163132.v2.0/HLS.L30.T16RBU.2023124T163132.v2.0.VZA.tif>,\n",
              "  <File-like object HTTPFileSystem, https://data.lpdaac.earthdatacloud.nasa.gov/lp-prod-protected/HLSL30.020/HLS.L30.T16RBU.2023124T163132.v2.0/HLS.L30.T16RBU.2023124T163132.v2.0.Fmask.tif>,\n",
              "  <File-like object HTTPFileSystem, https://data.lpdaac.earthdatacloud.nasa.gov/lp-prod-protected/HLSL30.020/HLS.L30.T16RBU.2023124T163132.v2.0/HLS.L30.T16RBU.2023124T163132.v2.0.VAA.tif>,\n",
              "  <File-like object HTTPFileSystem, https://data.lpdaac.earthdatacloud.nasa.gov/lp-prod-protected/HLSL30.020/HLS.L30.T16RBU.2023124T163132.v2.0/HLS.L30.T16RBU.2023124T163132.v2.0.B01.tif>,\n",
              "  <File-like object HTTPFileSystem, https://data.lpdaac.earthdatacloud.nasa.gov/lp-prod-protected/HLSL30.020/HLS.L30.T16RBU.2023124T163132.v2.0/HLS.L30.T16RBU.2023124T163132.v2.0.B05.tif>,\n",
              "  <File-like object HTTPFileSystem, https://data.lpdaac.earthdatacloud.nasa.gov/lp-prod-protected/HLSL30.020/HLS.L30.T16RBU.2023124T163132.v2.0/HLS.L30.T16RBU.2023124T163132.v2.0.B03.tif>],\n",
              " [<File-like object HTTPFileSystem, https://data.lpdaac.earthdatacloud.nasa.gov/lp-prod-protected/HLSL30.020/HLS.L30.T16RBT.2023132T163144.v2.0/HLS.L30.T16RBT.2023132T163144.v2.0.B02.tif>,\n",
              "  <File-like object HTTPFileSystem, https://data.lpdaac.earthdatacloud.nasa.gov/lp-prod-protected/HLSL30.020/HLS.L30.T16RBT.2023132T163144.v2.0/HLS.L30.T16RBT.2023132T163144.v2.0.Fmask.tif>,\n",
              "  <File-like object HTTPFileSystem, https://data.lpdaac.earthdatacloud.nasa.gov/lp-prod-protected/HLSL30.020/HLS.L30.T16RBT.2023132T163144.v2.0/HLS.L30.T16RBT.2023132T163144.v2.0.B01.tif>,\n",
              "  <File-like object HTTPFileSystem, https://data.lpdaac.earthdatacloud.nasa.gov/lp-prod-protected/HLSL30.020/HLS.L30.T16RBT.2023132T163144.v2.0/HLS.L30.T16RBT.2023132T163144.v2.0.B03.tif>,\n",
              "  <File-like object HTTPFileSystem, https://data.lpdaac.earthdatacloud.nasa.gov/lp-prod-protected/HLSL30.020/HLS.L30.T16RBT.2023132T163144.v2.0/HLS.L30.T16RBT.2023132T163144.v2.0.B07.tif>,\n",
              "  <File-like object HTTPFileSystem, https://data.lpdaac.earthdatacloud.nasa.gov/lp-prod-protected/HLSL30.020/HLS.L30.T16RBT.2023132T163144.v2.0/HLS.L30.T16RBT.2023132T163144.v2.0.B10.tif>,\n",
              "  <File-like object HTTPFileSystem, https://data.lpdaac.earthdatacloud.nasa.gov/lp-prod-protected/HLSL30.020/HLS.L30.T16RBT.2023132T163144.v2.0/HLS.L30.T16RBT.2023132T163144.v2.0.SZA.tif>,\n",
              "  <File-like object HTTPFileSystem, https://data.lpdaac.earthdatacloud.nasa.gov/lp-prod-protected/HLSL30.020/HLS.L30.T16RBT.2023132T163144.v2.0/HLS.L30.T16RBT.2023132T163144.v2.0.B04.tif>,\n",
              "  <File-like object HTTPFileSystem, https://data.lpdaac.earthdatacloud.nasa.gov/lp-prod-protected/HLSL30.020/HLS.L30.T16RBT.2023132T163144.v2.0/HLS.L30.T16RBT.2023132T163144.v2.0.VZA.tif>,\n",
              "  <File-like object HTTPFileSystem, https://data.lpdaac.earthdatacloud.nasa.gov/lp-prod-protected/HLSL30.020/HLS.L30.T16RBT.2023132T163144.v2.0/HLS.L30.T16RBT.2023132T163144.v2.0.SAA.tif>,\n",
              "  <File-like object HTTPFileSystem, https://data.lpdaac.earthdatacloud.nasa.gov/lp-prod-protected/HLSL30.020/HLS.L30.T16RBT.2023132T163144.v2.0/HLS.L30.T16RBT.2023132T163144.v2.0.VAA.tif>,\n",
              "  <File-like object HTTPFileSystem, https://data.lpdaac.earthdatacloud.nasa.gov/lp-prod-protected/HLSL30.020/HLS.L30.T16RBT.2023132T163144.v2.0/HLS.L30.T16RBT.2023132T163144.v2.0.B11.tif>,\n",
              "  <File-like object HTTPFileSystem, https://data.lpdaac.earthdatacloud.nasa.gov/lp-prod-protected/HLSL30.020/HLS.L30.T16RBT.2023132T163144.v2.0/HLS.L30.T16RBT.2023132T163144.v2.0.B09.tif>,\n",
              "  <File-like object HTTPFileSystem, https://data.lpdaac.earthdatacloud.nasa.gov/lp-prod-protected/HLSL30.020/HLS.L30.T16RBT.2023132T163144.v2.0/HLS.L30.T16RBT.2023132T163144.v2.0.B05.tif>,\n",
              "  <File-like object HTTPFileSystem, https://data.lpdaac.earthdatacloud.nasa.gov/lp-prod-protected/HLSL30.020/HLS.L30.T16RBT.2023132T163144.v2.0/HLS.L30.T16RBT.2023132T163144.v2.0.B06.tif>],\n",
              " [<File-like object HTTPFileSystem, https://data.lpdaac.earthdatacloud.nasa.gov/lp-prod-protected/HLSL30.020/HLS.L30.T15RYP.2023132T163144.v2.0/HLS.L30.T15RYP.2023132T163144.v2.0.SAA.tif>,\n",
              "  <File-like object HTTPFileSystem, https://data.lpdaac.earthdatacloud.nasa.gov/lp-prod-protected/HLSL30.020/HLS.L30.T15RYP.2023132T163144.v2.0/HLS.L30.T15RYP.2023132T163144.v2.0.B06.tif>,\n",
              "  <File-like object HTTPFileSystem, https://data.lpdaac.earthdatacloud.nasa.gov/lp-prod-protected/HLSL30.020/HLS.L30.T15RYP.2023132T163144.v2.0/HLS.L30.T15RYP.2023132T163144.v2.0.B07.tif>,\n",
              "  <File-like object HTTPFileSystem, https://data.lpdaac.earthdatacloud.nasa.gov/lp-prod-protected/HLSL30.020/HLS.L30.T15RYP.2023132T163144.v2.0/HLS.L30.T15RYP.2023132T163144.v2.0.Fmask.tif>,\n",
              "  <File-like object HTTPFileSystem, https://data.lpdaac.earthdatacloud.nasa.gov/lp-prod-protected/HLSL30.020/HLS.L30.T15RYP.2023132T163144.v2.0/HLS.L30.T15RYP.2023132T163144.v2.0.B03.tif>,\n",
              "  <File-like object HTTPFileSystem, https://data.lpdaac.earthdatacloud.nasa.gov/lp-prod-protected/HLSL30.020/HLS.L30.T15RYP.2023132T163144.v2.0/HLS.L30.T15RYP.2023132T163144.v2.0.B11.tif>,\n",
              "  <File-like object HTTPFileSystem, https://data.lpdaac.earthdatacloud.nasa.gov/lp-prod-protected/HLSL30.020/HLS.L30.T15RYP.2023132T163144.v2.0/HLS.L30.T15RYP.2023132T163144.v2.0.B01.tif>,\n",
              "  <File-like object HTTPFileSystem, https://data.lpdaac.earthdatacloud.nasa.gov/lp-prod-protected/HLSL30.020/HLS.L30.T15RYP.2023132T163144.v2.0/HLS.L30.T15RYP.2023132T163144.v2.0.B04.tif>,\n",
              "  <File-like object HTTPFileSystem, https://data.lpdaac.earthdatacloud.nasa.gov/lp-prod-protected/HLSL30.020/HLS.L30.T15RYP.2023132T163144.v2.0/HLS.L30.T15RYP.2023132T163144.v2.0.B10.tif>,\n",
              "  <File-like object HTTPFileSystem, https://data.lpdaac.earthdatacloud.nasa.gov/lp-prod-protected/HLSL30.020/HLS.L30.T15RYP.2023132T163144.v2.0/HLS.L30.T15RYP.2023132T163144.v2.0.B05.tif>,\n",
              "  <File-like object HTTPFileSystem, https://data.lpdaac.earthdatacloud.nasa.gov/lp-prod-protected/HLSL30.020/HLS.L30.T15RYP.2023132T163144.v2.0/HLS.L30.T15RYP.2023132T163144.v2.0.VAA.tif>,\n",
              "  <File-like object HTTPFileSystem, https://data.lpdaac.earthdatacloud.nasa.gov/lp-prod-protected/HLSL30.020/HLS.L30.T15RYP.2023132T163144.v2.0/HLS.L30.T15RYP.2023132T163144.v2.0.B09.tif>,\n",
              "  <File-like object HTTPFileSystem, https://data.lpdaac.earthdatacloud.nasa.gov/lp-prod-protected/HLSL30.020/HLS.L30.T15RYP.2023132T163144.v2.0/HLS.L30.T15RYP.2023132T163144.v2.0.VZA.tif>,\n",
              "  <File-like object HTTPFileSystem, https://data.lpdaac.earthdatacloud.nasa.gov/lp-prod-protected/HLSL30.020/HLS.L30.T15RYP.2023132T163144.v2.0/HLS.L30.T15RYP.2023132T163144.v2.0.SZA.tif>,\n",
              "  <File-like object HTTPFileSystem, https://data.lpdaac.earthdatacloud.nasa.gov/lp-prod-protected/HLSL30.020/HLS.L30.T15RYP.2023132T163144.v2.0/HLS.L30.T15RYP.2023132T163144.v2.0.B02.tif>],\n",
              " [<File-like object HTTPFileSystem, https://data.lpdaac.earthdatacloud.nasa.gov/lp-prod-protected/HLSL30.020/HLS.L30.T15RYN.2023132T163144.v2.0/HLS.L30.T15RYN.2023132T163144.v2.0.B09.tif>,\n",
              "  <File-like object HTTPFileSystem, https://data.lpdaac.earthdatacloud.nasa.gov/lp-prod-protected/HLSL30.020/HLS.L30.T15RYN.2023132T163144.v2.0/HLS.L30.T15RYN.2023132T163144.v2.0.B07.tif>,\n",
              "  <File-like object HTTPFileSystem, https://data.lpdaac.earthdatacloud.nasa.gov/lp-prod-protected/HLSL30.020/HLS.L30.T15RYN.2023132T163144.v2.0/HLS.L30.T15RYN.2023132T163144.v2.0.B06.tif>,\n",
              "  <File-like object HTTPFileSystem, https://data.lpdaac.earthdatacloud.nasa.gov/lp-prod-protected/HLSL30.020/HLS.L30.T15RYN.2023132T163144.v2.0/HLS.L30.T15RYN.2023132T163144.v2.0.B04.tif>,\n",
              "  <File-like object HTTPFileSystem, https://data.lpdaac.earthdatacloud.nasa.gov/lp-prod-protected/HLSL30.020/HLS.L30.T15RYN.2023132T163144.v2.0/HLS.L30.T15RYN.2023132T163144.v2.0.B02.tif>,\n",
              "  <File-like object HTTPFileSystem, https://data.lpdaac.earthdatacloud.nasa.gov/lp-prod-protected/HLSL30.020/HLS.L30.T15RYN.2023132T163144.v2.0/HLS.L30.T15RYN.2023132T163144.v2.0.B05.tif>,\n",
              "  <File-like object HTTPFileSystem, https://data.lpdaac.earthdatacloud.nasa.gov/lp-prod-protected/HLSL30.020/HLS.L30.T15RYN.2023132T163144.v2.0/HLS.L30.T15RYN.2023132T163144.v2.0.VAA.tif>,\n",
              "  <File-like object HTTPFileSystem, https://data.lpdaac.earthdatacloud.nasa.gov/lp-prod-protected/HLSL30.020/HLS.L30.T15RYN.2023132T163144.v2.0/HLS.L30.T15RYN.2023132T163144.v2.0.VZA.tif>,\n",
              "  <File-like object HTTPFileSystem, https://data.lpdaac.earthdatacloud.nasa.gov/lp-prod-protected/HLSL30.020/HLS.L30.T15RYN.2023132T163144.v2.0/HLS.L30.T15RYN.2023132T163144.v2.0.B10.tif>,\n",
              "  <File-like object HTTPFileSystem, https://data.lpdaac.earthdatacloud.nasa.gov/lp-prod-protected/HLSL30.020/HLS.L30.T15RYN.2023132T163144.v2.0/HLS.L30.T15RYN.2023132T163144.v2.0.SAA.tif>,\n",
              "  <File-like object HTTPFileSystem, https://data.lpdaac.earthdatacloud.nasa.gov/lp-prod-protected/HLSL30.020/HLS.L30.T15RYN.2023132T163144.v2.0/HLS.L30.T15RYN.2023132T163144.v2.0.B11.tif>,\n",
              "  <File-like object HTTPFileSystem, https://data.lpdaac.earthdatacloud.nasa.gov/lp-prod-protected/HLSL30.020/HLS.L30.T15RYN.2023132T163144.v2.0/HLS.L30.T15RYN.2023132T163144.v2.0.B01.tif>,\n",
              "  <File-like object HTTPFileSystem, https://data.lpdaac.earthdatacloud.nasa.gov/lp-prod-protected/HLSL30.020/HLS.L30.T15RYN.2023132T163144.v2.0/HLS.L30.T15RYN.2023132T163144.v2.0.SZA.tif>,\n",
              "  <File-like object HTTPFileSystem, https://data.lpdaac.earthdatacloud.nasa.gov/lp-prod-protected/HLSL30.020/HLS.L30.T15RYN.2023132T163144.v2.0/HLS.L30.T15RYN.2023132T163144.v2.0.B03.tif>,\n",
              "  <File-like object HTTPFileSystem, https://data.lpdaac.earthdatacloud.nasa.gov/lp-prod-protected/HLSL30.020/HLS.L30.T15RYN.2023132T163144.v2.0/HLS.L30.T15RYN.2023132T163144.v2.0.Fmask.tif>],\n",
              " [<File-like object HTTPFileSystem, https://data.lpdaac.earthdatacloud.nasa.gov/lp-prod-protected/HLSL30.020/HLS.L30.T16RBU.2023132T163144.v2.0/HLS.L30.T16RBU.2023132T163144.v2.0.VZA.tif>,\n",
              "  <File-like object HTTPFileSystem, https://data.lpdaac.earthdatacloud.nasa.gov/lp-prod-protected/HLSL30.020/HLS.L30.T16RBU.2023132T163144.v2.0/HLS.L30.T16RBU.2023132T163144.v2.0.SZA.tif>,\n",
              "  <File-like object HTTPFileSystem, https://data.lpdaac.earthdatacloud.nasa.gov/lp-prod-protected/HLSL30.020/HLS.L30.T16RBU.2023132T163144.v2.0/HLS.L30.T16RBU.2023132T163144.v2.0.B11.tif>,\n",
              "  <File-like object HTTPFileSystem, https://data.lpdaac.earthdatacloud.nasa.gov/lp-prod-protected/HLSL30.020/HLS.L30.T16RBU.2023132T163144.v2.0/HLS.L30.T16RBU.2023132T163144.v2.0.B03.tif>,\n",
              "  <File-like object HTTPFileSystem, https://data.lpdaac.earthdatacloud.nasa.gov/lp-prod-protected/HLSL30.020/HLS.L30.T16RBU.2023132T163144.v2.0/HLS.L30.T16RBU.2023132T163144.v2.0.B10.tif>,\n",
              "  <File-like object HTTPFileSystem, https://data.lpdaac.earthdatacloud.nasa.gov/lp-prod-protected/HLSL30.020/HLS.L30.T16RBU.2023132T163144.v2.0/HLS.L30.T16RBU.2023132T163144.v2.0.B02.tif>,\n",
              "  <File-like object HTTPFileSystem, https://data.lpdaac.earthdatacloud.nasa.gov/lp-prod-protected/HLSL30.020/HLS.L30.T16RBU.2023132T163144.v2.0/HLS.L30.T16RBU.2023132T163144.v2.0.B05.tif>,\n",
              "  <File-like object HTTPFileSystem, https://data.lpdaac.earthdatacloud.nasa.gov/lp-prod-protected/HLSL30.020/HLS.L30.T16RBU.2023132T163144.v2.0/HLS.L30.T16RBU.2023132T163144.v2.0.B04.tif>,\n",
              "  <File-like object HTTPFileSystem, https://data.lpdaac.earthdatacloud.nasa.gov/lp-prod-protected/HLSL30.020/HLS.L30.T16RBU.2023132T163144.v2.0/HLS.L30.T16RBU.2023132T163144.v2.0.SAA.tif>,\n",
              "  <File-like object HTTPFileSystem, https://data.lpdaac.earthdatacloud.nasa.gov/lp-prod-protected/HLSL30.020/HLS.L30.T16RBU.2023132T163144.v2.0/HLS.L30.T16RBU.2023132T163144.v2.0.B01.tif>,\n",
              "  <File-like object HTTPFileSystem, https://data.lpdaac.earthdatacloud.nasa.gov/lp-prod-protected/HLSL30.020/HLS.L30.T16RBU.2023132T163144.v2.0/HLS.L30.T16RBU.2023132T163144.v2.0.VAA.tif>,\n",
              "  <File-like object HTTPFileSystem, https://data.lpdaac.earthdatacloud.nasa.gov/lp-prod-protected/HLSL30.020/HLS.L30.T16RBU.2023132T163144.v2.0/HLS.L30.T16RBU.2023132T163144.v2.0.B06.tif>,\n",
              "  <File-like object HTTPFileSystem, https://data.lpdaac.earthdatacloud.nasa.gov/lp-prod-protected/HLSL30.020/HLS.L30.T16RBU.2023132T163144.v2.0/HLS.L30.T16RBU.2023132T163144.v2.0.B07.tif>,\n",
              "  <File-like object HTTPFileSystem, https://data.lpdaac.earthdatacloud.nasa.gov/lp-prod-protected/HLSL30.020/HLS.L30.T16RBU.2023132T163144.v2.0/HLS.L30.T16RBU.2023132T163144.v2.0.Fmask.tif>,\n",
              "  <File-like object HTTPFileSystem, https://data.lpdaac.earthdatacloud.nasa.gov/lp-prod-protected/HLSL30.020/HLS.L30.T16RBU.2023132T163144.v2.0/HLS.L30.T16RBU.2023132T163144.v2.0.B09.tif>],\n",
              " [<File-like object HTTPFileSystem, https://data.lpdaac.earthdatacloud.nasa.gov/lp-prod-protected/HLSL30.020/HLS.L30.T15RYP.2023140T163123.v2.0/HLS.L30.T15RYP.2023140T163123.v2.0.B05.tif>,\n",
              "  <File-like object HTTPFileSystem, https://data.lpdaac.earthdatacloud.nasa.gov/lp-prod-protected/HLSL30.020/HLS.L30.T15RYP.2023140T163123.v2.0/HLS.L30.T15RYP.2023140T163123.v2.0.B11.tif>,\n",
              "  <File-like object HTTPFileSystem, https://data.lpdaac.earthdatacloud.nasa.gov/lp-prod-protected/HLSL30.020/HLS.L30.T15RYP.2023140T163123.v2.0/HLS.L30.T15RYP.2023140T163123.v2.0.B07.tif>,\n",
              "  <File-like object HTTPFileSystem, https://data.lpdaac.earthdatacloud.nasa.gov/lp-prod-protected/HLSL30.020/HLS.L30.T15RYP.2023140T163123.v2.0/HLS.L30.T15RYP.2023140T163123.v2.0.VZA.tif>,\n",
              "  <File-like object HTTPFileSystem, https://data.lpdaac.earthdatacloud.nasa.gov/lp-prod-protected/HLSL30.020/HLS.L30.T15RYP.2023140T163123.v2.0/HLS.L30.T15RYP.2023140T163123.v2.0.B10.tif>,\n",
              "  <File-like object HTTPFileSystem, https://data.lpdaac.earthdatacloud.nasa.gov/lp-prod-protected/HLSL30.020/HLS.L30.T15RYP.2023140T163123.v2.0/HLS.L30.T15RYP.2023140T163123.v2.0.SZA.tif>,\n",
              "  <File-like object HTTPFileSystem, https://data.lpdaac.earthdatacloud.nasa.gov/lp-prod-protected/HLSL30.020/HLS.L30.T15RYP.2023140T163123.v2.0/HLS.L30.T15RYP.2023140T163123.v2.0.B04.tif>,\n",
              "  <File-like object HTTPFileSystem, https://data.lpdaac.earthdatacloud.nasa.gov/lp-prod-protected/HLSL30.020/HLS.L30.T15RYP.2023140T163123.v2.0/HLS.L30.T15RYP.2023140T163123.v2.0.B03.tif>,\n",
              "  <File-like object HTTPFileSystem, https://data.lpdaac.earthdatacloud.nasa.gov/lp-prod-protected/HLSL30.020/HLS.L30.T15RYP.2023140T163123.v2.0/HLS.L30.T15RYP.2023140T163123.v2.0.VAA.tif>,\n",
              "  <File-like object HTTPFileSystem, https://data.lpdaac.earthdatacloud.nasa.gov/lp-prod-protected/HLSL30.020/HLS.L30.T15RYP.2023140T163123.v2.0/HLS.L30.T15RYP.2023140T163123.v2.0.B06.tif>,\n",
              "  <File-like object HTTPFileSystem, https://data.lpdaac.earthdatacloud.nasa.gov/lp-prod-protected/HLSL30.020/HLS.L30.T15RYP.2023140T163123.v2.0/HLS.L30.T15RYP.2023140T163123.v2.0.SAA.tif>,\n",
              "  <File-like object HTTPFileSystem, https://data.lpdaac.earthdatacloud.nasa.gov/lp-prod-protected/HLSL30.020/HLS.L30.T15RYP.2023140T163123.v2.0/HLS.L30.T15RYP.2023140T163123.v2.0.B09.tif>,\n",
              "  <File-like object HTTPFileSystem, https://data.lpdaac.earthdatacloud.nasa.gov/lp-prod-protected/HLSL30.020/HLS.L30.T15RYP.2023140T163123.v2.0/HLS.L30.T15RYP.2023140T163123.v2.0.B02.tif>,\n",
              "  <File-like object HTTPFileSystem, https://data.lpdaac.earthdatacloud.nasa.gov/lp-prod-protected/HLSL30.020/HLS.L30.T15RYP.2023140T163123.v2.0/HLS.L30.T15RYP.2023140T163123.v2.0.B01.tif>,\n",
              "  <File-like object HTTPFileSystem, https://data.lpdaac.earthdatacloud.nasa.gov/lp-prod-protected/HLSL30.020/HLS.L30.T15RYP.2023140T163123.v2.0/HLS.L30.T15RYP.2023140T163123.v2.0.Fmask.tif>],\n",
              " [<File-like object HTTPFileSystem, https://data.lpdaac.earthdatacloud.nasa.gov/lp-prod-protected/HLSL30.020/HLS.L30.T16RBT.2023140T163123.v2.0/HLS.L30.T16RBT.2023140T163123.v2.0.B03.tif>,\n",
              "  <File-like object HTTPFileSystem, https://data.lpdaac.earthdatacloud.nasa.gov/lp-prod-protected/HLSL30.020/HLS.L30.T16RBT.2023140T163123.v2.0/HLS.L30.T16RBT.2023140T163123.v2.0.B07.tif>,\n",
              "  <File-like object HTTPFileSystem, https://data.lpdaac.earthdatacloud.nasa.gov/lp-prod-protected/HLSL30.020/HLS.L30.T16RBT.2023140T163123.v2.0/HLS.L30.T16RBT.2023140T163123.v2.0.VAA.tif>,\n",
              "  <File-like object HTTPFileSystem, https://data.lpdaac.earthdatacloud.nasa.gov/lp-prod-protected/HLSL30.020/HLS.L30.T16RBT.2023140T163123.v2.0/HLS.L30.T16RBT.2023140T163123.v2.0.Fmask.tif>,\n",
              "  <File-like object HTTPFileSystem, https://data.lpdaac.earthdatacloud.nasa.gov/lp-prod-protected/HLSL30.020/HLS.L30.T16RBT.2023140T163123.v2.0/HLS.L30.T16RBT.2023140T163123.v2.0.B06.tif>,\n",
              "  <File-like object HTTPFileSystem, https://data.lpdaac.earthdatacloud.nasa.gov/lp-prod-protected/HLSL30.020/HLS.L30.T16RBT.2023140T163123.v2.0/HLS.L30.T16RBT.2023140T163123.v2.0.B04.tif>,\n",
              "  <File-like object HTTPFileSystem, https://data.lpdaac.earthdatacloud.nasa.gov/lp-prod-protected/HLSL30.020/HLS.L30.T16RBT.2023140T163123.v2.0/HLS.L30.T16RBT.2023140T163123.v2.0.VZA.tif>,\n",
              "  <File-like object HTTPFileSystem, https://data.lpdaac.earthdatacloud.nasa.gov/lp-prod-protected/HLSL30.020/HLS.L30.T16RBT.2023140T163123.v2.0/HLS.L30.T16RBT.2023140T163123.v2.0.B11.tif>,\n",
              "  <File-like object HTTPFileSystem, https://data.lpdaac.earthdatacloud.nasa.gov/lp-prod-protected/HLSL30.020/HLS.L30.T16RBT.2023140T163123.v2.0/HLS.L30.T16RBT.2023140T163123.v2.0.SAA.tif>,\n",
              "  <File-like object HTTPFileSystem, https://data.lpdaac.earthdatacloud.nasa.gov/lp-prod-protected/HLSL30.020/HLS.L30.T16RBT.2023140T163123.v2.0/HLS.L30.T16RBT.2023140T163123.v2.0.B01.tif>,\n",
              "  <File-like object HTTPFileSystem, https://data.lpdaac.earthdatacloud.nasa.gov/lp-prod-protected/HLSL30.020/HLS.L30.T16RBT.2023140T163123.v2.0/HLS.L30.T16RBT.2023140T163123.v2.0.B09.tif>,\n",
              "  <File-like object HTTPFileSystem, https://data.lpdaac.earthdatacloud.nasa.gov/lp-prod-protected/HLSL30.020/HLS.L30.T16RBT.2023140T163123.v2.0/HLS.L30.T16RBT.2023140T163123.v2.0.SZA.tif>,\n",
              "  <File-like object HTTPFileSystem, https://data.lpdaac.earthdatacloud.nasa.gov/lp-prod-protected/HLSL30.020/HLS.L30.T16RBT.2023140T163123.v2.0/HLS.L30.T16RBT.2023140T163123.v2.0.B10.tif>,\n",
              "  <File-like object HTTPFileSystem, https://data.lpdaac.earthdatacloud.nasa.gov/lp-prod-protected/HLSL30.020/HLS.L30.T16RBT.2023140T163123.v2.0/HLS.L30.T16RBT.2023140T163123.v2.0.B05.tif>,\n",
              "  <File-like object HTTPFileSystem, https://data.lpdaac.earthdatacloud.nasa.gov/lp-prod-protected/HLSL30.020/HLS.L30.T16RBT.2023140T163123.v2.0/HLS.L30.T16RBT.2023140T163123.v2.0.B02.tif>],\n",
              " [<File-like object HTTPFileSystem, https://data.lpdaac.earthdatacloud.nasa.gov/lp-prod-protected/HLSL30.020/HLS.L30.T16RBU.2023140T163123.v2.0/HLS.L30.T16RBU.2023140T163123.v2.0.SZA.tif>,\n",
              "  <File-like object HTTPFileSystem, https://data.lpdaac.earthdatacloud.nasa.gov/lp-prod-protected/HLSL30.020/HLS.L30.T16RBU.2023140T163123.v2.0/HLS.L30.T16RBU.2023140T163123.v2.0.VAA.tif>,\n",
              "  <File-like object HTTPFileSystem, https://data.lpdaac.earthdatacloud.nasa.gov/lp-prod-protected/HLSL30.020/HLS.L30.T16RBU.2023140T163123.v2.0/HLS.L30.T16RBU.2023140T163123.v2.0.VZA.tif>,\n",
              "  <File-like object HTTPFileSystem, https://data.lpdaac.earthdatacloud.nasa.gov/lp-prod-protected/HLSL30.020/HLS.L30.T16RBU.2023140T163123.v2.0/HLS.L30.T16RBU.2023140T163123.v2.0.B02.tif>,\n",
              "  <File-like object HTTPFileSystem, https://data.lpdaac.earthdatacloud.nasa.gov/lp-prod-protected/HLSL30.020/HLS.L30.T16RBU.2023140T163123.v2.0/HLS.L30.T16RBU.2023140T163123.v2.0.Fmask.tif>,\n",
              "  <File-like object HTTPFileSystem, https://data.lpdaac.earthdatacloud.nasa.gov/lp-prod-protected/HLSL30.020/HLS.L30.T16RBU.2023140T163123.v2.0/HLS.L30.T16RBU.2023140T163123.v2.0.B05.tif>,\n",
              "  <File-like object HTTPFileSystem, https://data.lpdaac.earthdatacloud.nasa.gov/lp-prod-protected/HLSL30.020/HLS.L30.T16RBU.2023140T163123.v2.0/HLS.L30.T16RBU.2023140T163123.v2.0.B07.tif>,\n",
              "  <File-like object HTTPFileSystem, https://data.lpdaac.earthdatacloud.nasa.gov/lp-prod-protected/HLSL30.020/HLS.L30.T16RBU.2023140T163123.v2.0/HLS.L30.T16RBU.2023140T163123.v2.0.B09.tif>,\n",
              "  <File-like object HTTPFileSystem, https://data.lpdaac.earthdatacloud.nasa.gov/lp-prod-protected/HLSL30.020/HLS.L30.T16RBU.2023140T163123.v2.0/HLS.L30.T16RBU.2023140T163123.v2.0.B04.tif>,\n",
              "  <File-like object HTTPFileSystem, https://data.lpdaac.earthdatacloud.nasa.gov/lp-prod-protected/HLSL30.020/HLS.L30.T16RBU.2023140T163123.v2.0/HLS.L30.T16RBU.2023140T163123.v2.0.B06.tif>,\n",
              "  <File-like object HTTPFileSystem, https://data.lpdaac.earthdatacloud.nasa.gov/lp-prod-protected/HLSL30.020/HLS.L30.T16RBU.2023140T163123.v2.0/HLS.L30.T16RBU.2023140T163123.v2.0.B10.tif>,\n",
              "  <File-like object HTTPFileSystem, https://data.lpdaac.earthdatacloud.nasa.gov/lp-prod-protected/HLSL30.020/HLS.L30.T16RBU.2023140T163123.v2.0/HLS.L30.T16RBU.2023140T163123.v2.0.B11.tif>,\n",
              "  <File-like object HTTPFileSystem, https://data.lpdaac.earthdatacloud.nasa.gov/lp-prod-protected/HLSL30.020/HLS.L30.T16RBU.2023140T163123.v2.0/HLS.L30.T16RBU.2023140T163123.v2.0.SAA.tif>,\n",
              "  <File-like object HTTPFileSystem, https://data.lpdaac.earthdatacloud.nasa.gov/lp-prod-protected/HLSL30.020/HLS.L30.T16RBU.2023140T163123.v2.0/HLS.L30.T16RBU.2023140T163123.v2.0.B01.tif>,\n",
              "  <File-like object HTTPFileSystem, https://data.lpdaac.earthdatacloud.nasa.gov/lp-prod-protected/HLSL30.020/HLS.L30.T16RBU.2023140T163123.v2.0/HLS.L30.T16RBU.2023140T163123.v2.0.B03.tif>],\n",
              " [<File-like object HTTPFileSystem, https://data.lpdaac.earthdatacloud.nasa.gov/lp-prod-protected/HLSL30.020/HLS.L30.T15RYN.2023140T163123.v2.0/HLS.L30.T15RYN.2023140T163123.v2.0.SAA.tif>,\n",
              "  <File-like object HTTPFileSystem, https://data.lpdaac.earthdatacloud.nasa.gov/lp-prod-protected/HLSL30.020/HLS.L30.T15RYN.2023140T163123.v2.0/HLS.L30.T15RYN.2023140T163123.v2.0.VZA.tif>,\n",
              "  <File-like object HTTPFileSystem, https://data.lpdaac.earthdatacloud.nasa.gov/lp-prod-protected/HLSL30.020/HLS.L30.T15RYN.2023140T163123.v2.0/HLS.L30.T15RYN.2023140T163123.v2.0.VAA.tif>,\n",
              "  <File-like object HTTPFileSystem, https://data.lpdaac.earthdatacloud.nasa.gov/lp-prod-protected/HLSL30.020/HLS.L30.T15RYN.2023140T163123.v2.0/HLS.L30.T15RYN.2023140T163123.v2.0.B11.tif>,\n",
              "  <File-like object HTTPFileSystem, https://data.lpdaac.earthdatacloud.nasa.gov/lp-prod-protected/HLSL30.020/HLS.L30.T15RYN.2023140T163123.v2.0/HLS.L30.T15RYN.2023140T163123.v2.0.B07.tif>,\n",
              "  <File-like object HTTPFileSystem, https://data.lpdaac.earthdatacloud.nasa.gov/lp-prod-protected/HLSL30.020/HLS.L30.T15RYN.2023140T163123.v2.0/HLS.L30.T15RYN.2023140T163123.v2.0.B01.tif>,\n",
              "  <File-like object HTTPFileSystem, https://data.lpdaac.earthdatacloud.nasa.gov/lp-prod-protected/HLSL30.020/HLS.L30.T15RYN.2023140T163123.v2.0/HLS.L30.T15RYN.2023140T163123.v2.0.B09.tif>,\n",
              "  <File-like object HTTPFileSystem, https://data.lpdaac.earthdatacloud.nasa.gov/lp-prod-protected/HLSL30.020/HLS.L30.T15RYN.2023140T163123.v2.0/HLS.L30.T15RYN.2023140T163123.v2.0.B05.tif>,\n",
              "  <File-like object HTTPFileSystem, https://data.lpdaac.earthdatacloud.nasa.gov/lp-prod-protected/HLSL30.020/HLS.L30.T15RYN.2023140T163123.v2.0/HLS.L30.T15RYN.2023140T163123.v2.0.B10.tif>,\n",
              "  <File-like object HTTPFileSystem, https://data.lpdaac.earthdatacloud.nasa.gov/lp-prod-protected/HLSL30.020/HLS.L30.T15RYN.2023140T163123.v2.0/HLS.L30.T15RYN.2023140T163123.v2.0.B02.tif>,\n",
              "  <File-like object HTTPFileSystem, https://data.lpdaac.earthdatacloud.nasa.gov/lp-prod-protected/HLSL30.020/HLS.L30.T15RYN.2023140T163123.v2.0/HLS.L30.T15RYN.2023140T163123.v2.0.B03.tif>,\n",
              "  <File-like object HTTPFileSystem, https://data.lpdaac.earthdatacloud.nasa.gov/lp-prod-protected/HLSL30.020/HLS.L30.T15RYN.2023140T163123.v2.0/HLS.L30.T15RYN.2023140T163123.v2.0.Fmask.tif>,\n",
              "  <File-like object HTTPFileSystem, https://data.lpdaac.earthdatacloud.nasa.gov/lp-prod-protected/HLSL30.020/HLS.L30.T15RYN.2023140T163123.v2.0/HLS.L30.T15RYN.2023140T163123.v2.0.B04.tif>,\n",
              "  <File-like object HTTPFileSystem, https://data.lpdaac.earthdatacloud.nasa.gov/lp-prod-protected/HLSL30.020/HLS.L30.T15RYN.2023140T163123.v2.0/HLS.L30.T15RYN.2023140T163123.v2.0.B06.tif>,\n",
              "  <File-like object HTTPFileSystem, https://data.lpdaac.earthdatacloud.nasa.gov/lp-prod-protected/HLSL30.020/HLS.L30.T15RYN.2023140T163123.v2.0/HLS.L30.T15RYN.2023140T163123.v2.0.SZA.tif>],\n",
              " [<File-like object HTTPFileSystem, https://data.lpdaac.earthdatacloud.nasa.gov/lp-prod-protected/HLSL30.020/HLS.L30.T15RYN.2023148T163134.v2.0/HLS.L30.T15RYN.2023148T163134.v2.0.Fmask.tif>,\n",
              "  <File-like object HTTPFileSystem, https://data.lpdaac.earthdatacloud.nasa.gov/lp-prod-protected/HLSL30.020/HLS.L30.T15RYN.2023148T163134.v2.0/HLS.L30.T15RYN.2023148T163134.v2.0.B10.tif>,\n",
              "  <File-like object HTTPFileSystem, https://data.lpdaac.earthdatacloud.nasa.gov/lp-prod-protected/HLSL30.020/HLS.L30.T15RYN.2023148T163134.v2.0/HLS.L30.T15RYN.2023148T163134.v2.0.SAA.tif>,\n",
              "  <File-like object HTTPFileSystem, https://data.lpdaac.earthdatacloud.nasa.gov/lp-prod-protected/HLSL30.020/HLS.L30.T15RYN.2023148T163134.v2.0/HLS.L30.T15RYN.2023148T163134.v2.0.B03.tif>,\n",
              "  <File-like object HTTPFileSystem, https://data.lpdaac.earthdatacloud.nasa.gov/lp-prod-protected/HLSL30.020/HLS.L30.T15RYN.2023148T163134.v2.0/HLS.L30.T15RYN.2023148T163134.v2.0.B07.tif>,\n",
              "  <File-like object HTTPFileSystem, https://data.lpdaac.earthdatacloud.nasa.gov/lp-prod-protected/HLSL30.020/HLS.L30.T15RYN.2023148T163134.v2.0/HLS.L30.T15RYN.2023148T163134.v2.0.B01.tif>,\n",
              "  <File-like object HTTPFileSystem, https://data.lpdaac.earthdatacloud.nasa.gov/lp-prod-protected/HLSL30.020/HLS.L30.T15RYN.2023148T163134.v2.0/HLS.L30.T15RYN.2023148T163134.v2.0.B05.tif>,\n",
              "  <File-like object HTTPFileSystem, https://data.lpdaac.earthdatacloud.nasa.gov/lp-prod-protected/HLSL30.020/HLS.L30.T15RYN.2023148T163134.v2.0/HLS.L30.T15RYN.2023148T163134.v2.0.VAA.tif>,\n",
              "  <File-like object HTTPFileSystem, https://data.lpdaac.earthdatacloud.nasa.gov/lp-prod-protected/HLSL30.020/HLS.L30.T15RYN.2023148T163134.v2.0/HLS.L30.T15RYN.2023148T163134.v2.0.VZA.tif>,\n",
              "  <File-like object HTTPFileSystem, https://data.lpdaac.earthdatacloud.nasa.gov/lp-prod-protected/HLSL30.020/HLS.L30.T15RYN.2023148T163134.v2.0/HLS.L30.T15RYN.2023148T163134.v2.0.B11.tif>,\n",
              "  <File-like object HTTPFileSystem, https://data.lpdaac.earthdatacloud.nasa.gov/lp-prod-protected/HLSL30.020/HLS.L30.T15RYN.2023148T163134.v2.0/HLS.L30.T15RYN.2023148T163134.v2.0.SZA.tif>,\n",
              "  <File-like object HTTPFileSystem, https://data.lpdaac.earthdatacloud.nasa.gov/lp-prod-protected/HLSL30.020/HLS.L30.T15RYN.2023148T163134.v2.0/HLS.L30.T15RYN.2023148T163134.v2.0.B09.tif>,\n",
              "  <File-like object HTTPFileSystem, https://data.lpdaac.earthdatacloud.nasa.gov/lp-prod-protected/HLSL30.020/HLS.L30.T15RYN.2023148T163134.v2.0/HLS.L30.T15RYN.2023148T163134.v2.0.B04.tif>,\n",
              "  <File-like object HTTPFileSystem, https://data.lpdaac.earthdatacloud.nasa.gov/lp-prod-protected/HLSL30.020/HLS.L30.T15RYN.2023148T163134.v2.0/HLS.L30.T15RYN.2023148T163134.v2.0.B06.tif>,\n",
              "  <File-like object HTTPFileSystem, https://data.lpdaac.earthdatacloud.nasa.gov/lp-prod-protected/HLSL30.020/HLS.L30.T15RYN.2023148T163134.v2.0/HLS.L30.T15RYN.2023148T163134.v2.0.B02.tif>],\n",
              " [<File-like object HTTPFileSystem, https://data.lpdaac.earthdatacloud.nasa.gov/lp-prod-protected/HLSL30.020/HLS.L30.T16RBU.2023148T163134.v2.0/HLS.L30.T16RBU.2023148T163134.v2.0.B06.tif>,\n",
              "  <File-like object HTTPFileSystem, https://data.lpdaac.earthdatacloud.nasa.gov/lp-prod-protected/HLSL30.020/HLS.L30.T16RBU.2023148T163134.v2.0/HLS.L30.T16RBU.2023148T163134.v2.0.B01.tif>,\n",
              "  <File-like object HTTPFileSystem, https://data.lpdaac.earthdatacloud.nasa.gov/lp-prod-protected/HLSL30.020/HLS.L30.T16RBU.2023148T163134.v2.0/HLS.L30.T16RBU.2023148T163134.v2.0.B04.tif>,\n",
              "  <File-like object HTTPFileSystem, https://data.lpdaac.earthdatacloud.nasa.gov/lp-prod-protected/HLSL30.020/HLS.L30.T16RBU.2023148T163134.v2.0/HLS.L30.T16RBU.2023148T163134.v2.0.SZA.tif>,\n",
              "  <File-like object HTTPFileSystem, https://data.lpdaac.earthdatacloud.nasa.gov/lp-prod-protected/HLSL30.020/HLS.L30.T16RBU.2023148T163134.v2.0/HLS.L30.T16RBU.2023148T163134.v2.0.SAA.tif>,\n",
              "  <File-like object HTTPFileSystem, https://data.lpdaac.earthdatacloud.nasa.gov/lp-prod-protected/HLSL30.020/HLS.L30.T16RBU.2023148T163134.v2.0/HLS.L30.T16RBU.2023148T163134.v2.0.B02.tif>,\n",
              "  <File-like object HTTPFileSystem, https://data.lpdaac.earthdatacloud.nasa.gov/lp-prod-protected/HLSL30.020/HLS.L30.T16RBU.2023148T163134.v2.0/HLS.L30.T16RBU.2023148T163134.v2.0.B09.tif>,\n",
              "  <File-like object HTTPFileSystem, https://data.lpdaac.earthdatacloud.nasa.gov/lp-prod-protected/HLSL30.020/HLS.L30.T16RBU.2023148T163134.v2.0/HLS.L30.T16RBU.2023148T163134.v2.0.VZA.tif>,\n",
              "  <File-like object HTTPFileSystem, https://data.lpdaac.earthdatacloud.nasa.gov/lp-prod-protected/HLSL30.020/HLS.L30.T16RBU.2023148T163134.v2.0/HLS.L30.T16RBU.2023148T163134.v2.0.B03.tif>,\n",
              "  <File-like object HTTPFileSystem, https://data.lpdaac.earthdatacloud.nasa.gov/lp-prod-protected/HLSL30.020/HLS.L30.T16RBU.2023148T163134.v2.0/HLS.L30.T16RBU.2023148T163134.v2.0.B05.tif>,\n",
              "  <File-like object HTTPFileSystem, https://data.lpdaac.earthdatacloud.nasa.gov/lp-prod-protected/HLSL30.020/HLS.L30.T16RBU.2023148T163134.v2.0/HLS.L30.T16RBU.2023148T163134.v2.0.B07.tif>,\n",
              "  <File-like object HTTPFileSystem, https://data.lpdaac.earthdatacloud.nasa.gov/lp-prod-protected/HLSL30.020/HLS.L30.T16RBU.2023148T163134.v2.0/HLS.L30.T16RBU.2023148T163134.v2.0.Fmask.tif>,\n",
              "  <File-like object HTTPFileSystem, https://data.lpdaac.earthdatacloud.nasa.gov/lp-prod-protected/HLSL30.020/HLS.L30.T16RBU.2023148T163134.v2.0/HLS.L30.T16RBU.2023148T163134.v2.0.B11.tif>,\n",
              "  <File-like object HTTPFileSystem, https://data.lpdaac.earthdatacloud.nasa.gov/lp-prod-protected/HLSL30.020/HLS.L30.T16RBU.2023148T163134.v2.0/HLS.L30.T16RBU.2023148T163134.v2.0.VAA.tif>,\n",
              "  <File-like object HTTPFileSystem, https://data.lpdaac.earthdatacloud.nasa.gov/lp-prod-protected/HLSL30.020/HLS.L30.T16RBU.2023148T163134.v2.0/HLS.L30.T16RBU.2023148T163134.v2.0.B10.tif>],\n",
              " [<File-like object HTTPFileSystem, https://data.lpdaac.earthdatacloud.nasa.gov/lp-prod-protected/HLSL30.020/HLS.L30.T16RBT.2023148T163134.v2.0/HLS.L30.T16RBT.2023148T163134.v2.0.B07.tif>,\n",
              "  <File-like object HTTPFileSystem, https://data.lpdaac.earthdatacloud.nasa.gov/lp-prod-protected/HLSL30.020/HLS.L30.T16RBT.2023148T163134.v2.0/HLS.L30.T16RBT.2023148T163134.v2.0.B11.tif>,\n",
              "  <File-like object HTTPFileSystem, https://data.lpdaac.earthdatacloud.nasa.gov/lp-prod-protected/HLSL30.020/HLS.L30.T16RBT.2023148T163134.v2.0/HLS.L30.T16RBT.2023148T163134.v2.0.SAA.tif>,\n",
              "  <File-like object HTTPFileSystem, https://data.lpdaac.earthdatacloud.nasa.gov/lp-prod-protected/HLSL30.020/HLS.L30.T16RBT.2023148T163134.v2.0/HLS.L30.T16RBT.2023148T163134.v2.0.B05.tif>,\n",
              "  <File-like object HTTPFileSystem, https://data.lpdaac.earthdatacloud.nasa.gov/lp-prod-protected/HLSL30.020/HLS.L30.T16RBT.2023148T163134.v2.0/HLS.L30.T16RBT.2023148T163134.v2.0.B01.tif>,\n",
              "  <File-like object HTTPFileSystem, https://data.lpdaac.earthdatacloud.nasa.gov/lp-prod-protected/HLSL30.020/HLS.L30.T16RBT.2023148T163134.v2.0/HLS.L30.T16RBT.2023148T163134.v2.0.B10.tif>,\n",
              "  <File-like object HTTPFileSystem, https://data.lpdaac.earthdatacloud.nasa.gov/lp-prod-protected/HLSL30.020/HLS.L30.T16RBT.2023148T163134.v2.0/HLS.L30.T16RBT.2023148T163134.v2.0.B02.tif>,\n",
              "  <File-like object HTTPFileSystem, https://data.lpdaac.earthdatacloud.nasa.gov/lp-prod-protected/HLSL30.020/HLS.L30.T16RBT.2023148T163134.v2.0/HLS.L30.T16RBT.2023148T163134.v2.0.B06.tif>,\n",
              "  <File-like object HTTPFileSystem, https://data.lpdaac.earthdatacloud.nasa.gov/lp-prod-protected/HLSL30.020/HLS.L30.T16RBT.2023148T163134.v2.0/HLS.L30.T16RBT.2023148T163134.v2.0.B09.tif>,\n",
              "  <File-like object HTTPFileSystem, https://data.lpdaac.earthdatacloud.nasa.gov/lp-prod-protected/HLSL30.020/HLS.L30.T16RBT.2023148T163134.v2.0/HLS.L30.T16RBT.2023148T163134.v2.0.VZA.tif>,\n",
              "  <File-like object HTTPFileSystem, https://data.lpdaac.earthdatacloud.nasa.gov/lp-prod-protected/HLSL30.020/HLS.L30.T16RBT.2023148T163134.v2.0/HLS.L30.T16RBT.2023148T163134.v2.0.B03.tif>,\n",
              "  <File-like object HTTPFileSystem, https://data.lpdaac.earthdatacloud.nasa.gov/lp-prod-protected/HLSL30.020/HLS.L30.T16RBT.2023148T163134.v2.0/HLS.L30.T16RBT.2023148T163134.v2.0.SZA.tif>,\n",
              "  <File-like object HTTPFileSystem, https://data.lpdaac.earthdatacloud.nasa.gov/lp-prod-protected/HLSL30.020/HLS.L30.T16RBT.2023148T163134.v2.0/HLS.L30.T16RBT.2023148T163134.v2.0.B04.tif>,\n",
              "  <File-like object HTTPFileSystem, https://data.lpdaac.earthdatacloud.nasa.gov/lp-prod-protected/HLSL30.020/HLS.L30.T16RBT.2023148T163134.v2.0/HLS.L30.T16RBT.2023148T163134.v2.0.VAA.tif>,\n",
              "  <File-like object HTTPFileSystem, https://data.lpdaac.earthdatacloud.nasa.gov/lp-prod-protected/HLSL30.020/HLS.L30.T16RBT.2023148T163134.v2.0/HLS.L30.T16RBT.2023148T163134.v2.0.Fmask.tif>],\n",
              " [<File-like object HTTPFileSystem, https://data.lpdaac.earthdatacloud.nasa.gov/lp-prod-protected/HLSL30.020/HLS.L30.T15RYP.2023148T163134.v2.0/HLS.L30.T15RYP.2023148T163134.v2.0.B07.tif>,\n",
              "  <File-like object HTTPFileSystem, https://data.lpdaac.earthdatacloud.nasa.gov/lp-prod-protected/HLSL30.020/HLS.L30.T15RYP.2023148T163134.v2.0/HLS.L30.T15RYP.2023148T163134.v2.0.B05.tif>,\n",
              "  <File-like object HTTPFileSystem, https://data.lpdaac.earthdatacloud.nasa.gov/lp-prod-protected/HLSL30.020/HLS.L30.T15RYP.2023148T163134.v2.0/HLS.L30.T15RYP.2023148T163134.v2.0.SAA.tif>,\n",
              "  <File-like object HTTPFileSystem, https://data.lpdaac.earthdatacloud.nasa.gov/lp-prod-protected/HLSL30.020/HLS.L30.T15RYP.2023148T163134.v2.0/HLS.L30.T15RYP.2023148T163134.v2.0.VAA.tif>,\n",
              "  <File-like object HTTPFileSystem, https://data.lpdaac.earthdatacloud.nasa.gov/lp-prod-protected/HLSL30.020/HLS.L30.T15RYP.2023148T163134.v2.0/HLS.L30.T15RYP.2023148T163134.v2.0.VZA.tif>,\n",
              "  <File-like object HTTPFileSystem, https://data.lpdaac.earthdatacloud.nasa.gov/lp-prod-protected/HLSL30.020/HLS.L30.T15RYP.2023148T163134.v2.0/HLS.L30.T15RYP.2023148T163134.v2.0.B03.tif>,\n",
              "  <File-like object HTTPFileSystem, https://data.lpdaac.earthdatacloud.nasa.gov/lp-prod-protected/HLSL30.020/HLS.L30.T15RYP.2023148T163134.v2.0/HLS.L30.T15RYP.2023148T163134.v2.0.B04.tif>,\n",
              "  <File-like object HTTPFileSystem, https://data.lpdaac.earthdatacloud.nasa.gov/lp-prod-protected/HLSL30.020/HLS.L30.T15RYP.2023148T163134.v2.0/HLS.L30.T15RYP.2023148T163134.v2.0.B09.tif>,\n",
              "  <File-like object HTTPFileSystem, https://data.lpdaac.earthdatacloud.nasa.gov/lp-prod-protected/HLSL30.020/HLS.L30.T15RYP.2023148T163134.v2.0/HLS.L30.T15RYP.2023148T163134.v2.0.B06.tif>,\n",
              "  <File-like object HTTPFileSystem, https://data.lpdaac.earthdatacloud.nasa.gov/lp-prod-protected/HLSL30.020/HLS.L30.T15RYP.2023148T163134.v2.0/HLS.L30.T15RYP.2023148T163134.v2.0.Fmask.tif>,\n",
              "  <File-like object HTTPFileSystem, https://data.lpdaac.earthdatacloud.nasa.gov/lp-prod-protected/HLSL30.020/HLS.L30.T15RYP.2023148T163134.v2.0/HLS.L30.T15RYP.2023148T163134.v2.0.B10.tif>,\n",
              "  <File-like object HTTPFileSystem, https://data.lpdaac.earthdatacloud.nasa.gov/lp-prod-protected/HLSL30.020/HLS.L30.T15RYP.2023148T163134.v2.0/HLS.L30.T15RYP.2023148T163134.v2.0.B01.tif>,\n",
              "  <File-like object HTTPFileSystem, https://data.lpdaac.earthdatacloud.nasa.gov/lp-prod-protected/HLSL30.020/HLS.L30.T15RYP.2023148T163134.v2.0/HLS.L30.T15RYP.2023148T163134.v2.0.B02.tif>,\n",
              "  <File-like object HTTPFileSystem, https://data.lpdaac.earthdatacloud.nasa.gov/lp-prod-protected/HLSL30.020/HLS.L30.T15RYP.2023148T163134.v2.0/HLS.L30.T15RYP.2023148T163134.v2.0.SZA.tif>,\n",
              "  <File-like object HTTPFileSystem, https://data.lpdaac.earthdatacloud.nasa.gov/lp-prod-protected/HLSL30.020/HLS.L30.T15RYP.2023148T163134.v2.0/HLS.L30.T15RYP.2023148T163134.v2.0.B11.tif>],\n",
              " [<File-like object HTTPFileSystem, https://data.lpdaac.earthdatacloud.nasa.gov/lp-prod-protected/HLSL30.020/HLS.L30.T16RBU.2023156T163128.v2.0/HLS.L30.T16RBU.2023156T163128.v2.0.VZA.tif>,\n",
              "  <File-like object HTTPFileSystem, https://data.lpdaac.earthdatacloud.nasa.gov/lp-prod-protected/HLSL30.020/HLS.L30.T16RBU.2023156T163128.v2.0/HLS.L30.T16RBU.2023156T163128.v2.0.B04.tif>,\n",
              "  <File-like object HTTPFileSystem, https://data.lpdaac.earthdatacloud.nasa.gov/lp-prod-protected/HLSL30.020/HLS.L30.T16RBU.2023156T163128.v2.0/HLS.L30.T16RBU.2023156T163128.v2.0.B11.tif>,\n",
              "  <File-like object HTTPFileSystem, https://data.lpdaac.earthdatacloud.nasa.gov/lp-prod-protected/HLSL30.020/HLS.L30.T16RBU.2023156T163128.v2.0/HLS.L30.T16RBU.2023156T163128.v2.0.B01.tif>,\n",
              "  <File-like object HTTPFileSystem, https://data.lpdaac.earthdatacloud.nasa.gov/lp-prod-protected/HLSL30.020/HLS.L30.T16RBU.2023156T163128.v2.0/HLS.L30.T16RBU.2023156T163128.v2.0.B05.tif>,\n",
              "  <File-like object HTTPFileSystem, https://data.lpdaac.earthdatacloud.nasa.gov/lp-prod-protected/HLSL30.020/HLS.L30.T16RBU.2023156T163128.v2.0/HLS.L30.T16RBU.2023156T163128.v2.0.SAA.tif>,\n",
              "  <File-like object HTTPFileSystem, https://data.lpdaac.earthdatacloud.nasa.gov/lp-prod-protected/HLSL30.020/HLS.L30.T16RBU.2023156T163128.v2.0/HLS.L30.T16RBU.2023156T163128.v2.0.Fmask.tif>,\n",
              "  <File-like object HTTPFileSystem, https://data.lpdaac.earthdatacloud.nasa.gov/lp-prod-protected/HLSL30.020/HLS.L30.T16RBU.2023156T163128.v2.0/HLS.L30.T16RBU.2023156T163128.v2.0.B09.tif>,\n",
              "  <File-like object HTTPFileSystem, https://data.lpdaac.earthdatacloud.nasa.gov/lp-prod-protected/HLSL30.020/HLS.L30.T16RBU.2023156T163128.v2.0/HLS.L30.T16RBU.2023156T163128.v2.0.B10.tif>,\n",
              "  <File-like object HTTPFileSystem, https://data.lpdaac.earthdatacloud.nasa.gov/lp-prod-protected/HLSL30.020/HLS.L30.T16RBU.2023156T163128.v2.0/HLS.L30.T16RBU.2023156T163128.v2.0.SZA.tif>,\n",
              "  <File-like object HTTPFileSystem, https://data.lpdaac.earthdatacloud.nasa.gov/lp-prod-protected/HLSL30.020/HLS.L30.T16RBU.2023156T163128.v2.0/HLS.L30.T16RBU.2023156T163128.v2.0.VAA.tif>,\n",
              "  <File-like object HTTPFileSystem, https://data.lpdaac.earthdatacloud.nasa.gov/lp-prod-protected/HLSL30.020/HLS.L30.T16RBU.2023156T163128.v2.0/HLS.L30.T16RBU.2023156T163128.v2.0.B07.tif>,\n",
              "  <File-like object HTTPFileSystem, https://data.lpdaac.earthdatacloud.nasa.gov/lp-prod-protected/HLSL30.020/HLS.L30.T16RBU.2023156T163128.v2.0/HLS.L30.T16RBU.2023156T163128.v2.0.B06.tif>,\n",
              "  <File-like object HTTPFileSystem, https://data.lpdaac.earthdatacloud.nasa.gov/lp-prod-protected/HLSL30.020/HLS.L30.T16RBU.2023156T163128.v2.0/HLS.L30.T16RBU.2023156T163128.v2.0.B02.tif>,\n",
              "  <File-like object HTTPFileSystem, https://data.lpdaac.earthdatacloud.nasa.gov/lp-prod-protected/HLSL30.020/HLS.L30.T16RBU.2023156T163128.v2.0/HLS.L30.T16RBU.2023156T163128.v2.0.B03.tif>],\n",
              " [<File-like object HTTPFileSystem, https://data.lpdaac.earthdatacloud.nasa.gov/lp-prod-protected/HLSL30.020/HLS.L30.T15RYP.2023156T163128.v2.0/HLS.L30.T15RYP.2023156T163128.v2.0.B03.tif>,\n",
              "  <File-like object HTTPFileSystem, https://data.lpdaac.earthdatacloud.nasa.gov/lp-prod-protected/HLSL30.020/HLS.L30.T15RYP.2023156T163128.v2.0/HLS.L30.T15RYP.2023156T163128.v2.0.B05.tif>,\n",
              "  <File-like object HTTPFileSystem, https://data.lpdaac.earthdatacloud.nasa.gov/lp-prod-protected/HLSL30.020/HLS.L30.T15RYP.2023156T163128.v2.0/HLS.L30.T15RYP.2023156T163128.v2.0.SZA.tif>,\n",
              "  <File-like object HTTPFileSystem, https://data.lpdaac.earthdatacloud.nasa.gov/lp-prod-protected/HLSL30.020/HLS.L30.T15RYP.2023156T163128.v2.0/HLS.L30.T15RYP.2023156T163128.v2.0.B07.tif>,\n",
              "  <File-like object HTTPFileSystem, https://data.lpdaac.earthdatacloud.nasa.gov/lp-prod-protected/HLSL30.020/HLS.L30.T15RYP.2023156T163128.v2.0/HLS.L30.T15RYP.2023156T163128.v2.0.B01.tif>,\n",
              "  <File-like object HTTPFileSystem, https://data.lpdaac.earthdatacloud.nasa.gov/lp-prod-protected/HLSL30.020/HLS.L30.T15RYP.2023156T163128.v2.0/HLS.L30.T15RYP.2023156T163128.v2.0.VZA.tif>,\n",
              "  <File-like object HTTPFileSystem, https://data.lpdaac.earthdatacloud.nasa.gov/lp-prod-protected/HLSL30.020/HLS.L30.T15RYP.2023156T163128.v2.0/HLS.L30.T15RYP.2023156T163128.v2.0.VAA.tif>,\n",
              "  <File-like object HTTPFileSystem, https://data.lpdaac.earthdatacloud.nasa.gov/lp-prod-protected/HLSL30.020/HLS.L30.T15RYP.2023156T163128.v2.0/HLS.L30.T15RYP.2023156T163128.v2.0.Fmask.tif>,\n",
              "  <File-like object HTTPFileSystem, https://data.lpdaac.earthdatacloud.nasa.gov/lp-prod-protected/HLSL30.020/HLS.L30.T15RYP.2023156T163128.v2.0/HLS.L30.T15RYP.2023156T163128.v2.0.B11.tif>,\n",
              "  <File-like object HTTPFileSystem, https://data.lpdaac.earthdatacloud.nasa.gov/lp-prod-protected/HLSL30.020/HLS.L30.T15RYP.2023156T163128.v2.0/HLS.L30.T15RYP.2023156T163128.v2.0.SAA.tif>,\n",
              "  <File-like object HTTPFileSystem, https://data.lpdaac.earthdatacloud.nasa.gov/lp-prod-protected/HLSL30.020/HLS.L30.T15RYP.2023156T163128.v2.0/HLS.L30.T15RYP.2023156T163128.v2.0.B04.tif>,\n",
              "  <File-like object HTTPFileSystem, https://data.lpdaac.earthdatacloud.nasa.gov/lp-prod-protected/HLSL30.020/HLS.L30.T15RYP.2023156T163128.v2.0/HLS.L30.T15RYP.2023156T163128.v2.0.B10.tif>,\n",
              "  <File-like object HTTPFileSystem, https://data.lpdaac.earthdatacloud.nasa.gov/lp-prod-protected/HLSL30.020/HLS.L30.T15RYP.2023156T163128.v2.0/HLS.L30.T15RYP.2023156T163128.v2.0.B09.tif>,\n",
              "  <File-like object HTTPFileSystem, https://data.lpdaac.earthdatacloud.nasa.gov/lp-prod-protected/HLSL30.020/HLS.L30.T15RYP.2023156T163128.v2.0/HLS.L30.T15RYP.2023156T163128.v2.0.B02.tif>,\n",
              "  <File-like object HTTPFileSystem, https://data.lpdaac.earthdatacloud.nasa.gov/lp-prod-protected/HLSL30.020/HLS.L30.T15RYP.2023156T163128.v2.0/HLS.L30.T15RYP.2023156T163128.v2.0.B06.tif>],\n",
              " [<File-like object HTTPFileSystem, https://data.lpdaac.earthdatacloud.nasa.gov/lp-prod-protected/HLSL30.020/HLS.L30.T16RBT.2023156T163128.v2.0/HLS.L30.T16RBT.2023156T163128.v2.0.SAA.tif>,\n",
              "  <File-like object HTTPFileSystem, https://data.lpdaac.earthdatacloud.nasa.gov/lp-prod-protected/HLSL30.020/HLS.L30.T16RBT.2023156T163128.v2.0/HLS.L30.T16RBT.2023156T163128.v2.0.B05.tif>,\n",
              "  <File-like object HTTPFileSystem, https://data.lpdaac.earthdatacloud.nasa.gov/lp-prod-protected/HLSL30.020/HLS.L30.T16RBT.2023156T163128.v2.0/HLS.L30.T16RBT.2023156T163128.v2.0.B11.tif>,\n",
              "  <File-like object HTTPFileSystem, https://data.lpdaac.earthdatacloud.nasa.gov/lp-prod-protected/HLSL30.020/HLS.L30.T16RBT.2023156T163128.v2.0/HLS.L30.T16RBT.2023156T163128.v2.0.B03.tif>,\n",
              "  <File-like object HTTPFileSystem, https://data.lpdaac.earthdatacloud.nasa.gov/lp-prod-protected/HLSL30.020/HLS.L30.T16RBT.2023156T163128.v2.0/HLS.L30.T16RBT.2023156T163128.v2.0.B09.tif>,\n",
              "  <File-like object HTTPFileSystem, https://data.lpdaac.earthdatacloud.nasa.gov/lp-prod-protected/HLSL30.020/HLS.L30.T16RBT.2023156T163128.v2.0/HLS.L30.T16RBT.2023156T163128.v2.0.B07.tif>,\n",
              "  <File-like object HTTPFileSystem, https://data.lpdaac.earthdatacloud.nasa.gov/lp-prod-protected/HLSL30.020/HLS.L30.T16RBT.2023156T163128.v2.0/HLS.L30.T16RBT.2023156T163128.v2.0.VAA.tif>,\n",
              "  <File-like object HTTPFileSystem, https://data.lpdaac.earthdatacloud.nasa.gov/lp-prod-protected/HLSL30.020/HLS.L30.T16RBT.2023156T163128.v2.0/HLS.L30.T16RBT.2023156T163128.v2.0.B04.tif>,\n",
              "  <File-like object HTTPFileSystem, https://data.lpdaac.earthdatacloud.nasa.gov/lp-prod-protected/HLSL30.020/HLS.L30.T16RBT.2023156T163128.v2.0/HLS.L30.T16RBT.2023156T163128.v2.0.B06.tif>,\n",
              "  <File-like object HTTPFileSystem, https://data.lpdaac.earthdatacloud.nasa.gov/lp-prod-protected/HLSL30.020/HLS.L30.T16RBT.2023156T163128.v2.0/HLS.L30.T16RBT.2023156T163128.v2.0.Fmask.tif>,\n",
              "  <File-like object HTTPFileSystem, https://data.lpdaac.earthdatacloud.nasa.gov/lp-prod-protected/HLSL30.020/HLS.L30.T16RBT.2023156T163128.v2.0/HLS.L30.T16RBT.2023156T163128.v2.0.B02.tif>,\n",
              "  <File-like object HTTPFileSystem, https://data.lpdaac.earthdatacloud.nasa.gov/lp-prod-protected/HLSL30.020/HLS.L30.T16RBT.2023156T163128.v2.0/HLS.L30.T16RBT.2023156T163128.v2.0.VZA.tif>,\n",
              "  <File-like object HTTPFileSystem, https://data.lpdaac.earthdatacloud.nasa.gov/lp-prod-protected/HLSL30.020/HLS.L30.T16RBT.2023156T163128.v2.0/HLS.L30.T16RBT.2023156T163128.v2.0.SZA.tif>,\n",
              "  <File-like object HTTPFileSystem, https://data.lpdaac.earthdatacloud.nasa.gov/lp-prod-protected/HLSL30.020/HLS.L30.T16RBT.2023156T163128.v2.0/HLS.L30.T16RBT.2023156T163128.v2.0.B01.tif>,\n",
              "  <File-like object HTTPFileSystem, https://data.lpdaac.earthdatacloud.nasa.gov/lp-prod-protected/HLSL30.020/HLS.L30.T16RBT.2023156T163128.v2.0/HLS.L30.T16RBT.2023156T163128.v2.0.B10.tif>],\n",
              " [<File-like object HTTPFileSystem, https://data.lpdaac.earthdatacloud.nasa.gov/lp-prod-protected/HLSL30.020/HLS.L30.T15RYN.2023156T163128.v2.0/HLS.L30.T15RYN.2023156T163128.v2.0.B06.tif>,\n",
              "  <File-like object HTTPFileSystem, https://data.lpdaac.earthdatacloud.nasa.gov/lp-prod-protected/HLSL30.020/HLS.L30.T15RYN.2023156T163128.v2.0/HLS.L30.T15RYN.2023156T163128.v2.0.B07.tif>,\n",
              "  <File-like object HTTPFileSystem, https://data.lpdaac.earthdatacloud.nasa.gov/lp-prod-protected/HLSL30.020/HLS.L30.T15RYN.2023156T163128.v2.0/HLS.L30.T15RYN.2023156T163128.v2.0.SZA.tif>,\n",
              "  <File-like object HTTPFileSystem, https://data.lpdaac.earthdatacloud.nasa.gov/lp-prod-protected/HLSL30.020/HLS.L30.T15RYN.2023156T163128.v2.0/HLS.L30.T15RYN.2023156T163128.v2.0.B10.tif>,\n",
              "  <File-like object HTTPFileSystem, https://data.lpdaac.earthdatacloud.nasa.gov/lp-prod-protected/HLSL30.020/HLS.L30.T15RYN.2023156T163128.v2.0/HLS.L30.T15RYN.2023156T163128.v2.0.B05.tif>,\n",
              "  <File-like object HTTPFileSystem, https://data.lpdaac.earthdatacloud.nasa.gov/lp-prod-protected/HLSL30.020/HLS.L30.T15RYN.2023156T163128.v2.0/HLS.L30.T15RYN.2023156T163128.v2.0.B03.tif>,\n",
              "  <File-like object HTTPFileSystem, https://data.lpdaac.earthdatacloud.nasa.gov/lp-prod-protected/HLSL30.020/HLS.L30.T15RYN.2023156T163128.v2.0/HLS.L30.T15RYN.2023156T163128.v2.0.SAA.tif>,\n",
              "  <File-like object HTTPFileSystem, https://data.lpdaac.earthdatacloud.nasa.gov/lp-prod-protected/HLSL30.020/HLS.L30.T15RYN.2023156T163128.v2.0/HLS.L30.T15RYN.2023156T163128.v2.0.B09.tif>,\n",
              "  <File-like object HTTPFileSystem, https://data.lpdaac.earthdatacloud.nasa.gov/lp-prod-protected/HLSL30.020/HLS.L30.T15RYN.2023156T163128.v2.0/HLS.L30.T15RYN.2023156T163128.v2.0.B02.tif>,\n",
              "  <File-like object HTTPFileSystem, https://data.lpdaac.earthdatacloud.nasa.gov/lp-prod-protected/HLSL30.020/HLS.L30.T15RYN.2023156T163128.v2.0/HLS.L30.T15RYN.2023156T163128.v2.0.VAA.tif>,\n",
              "  <File-like object HTTPFileSystem, https://data.lpdaac.earthdatacloud.nasa.gov/lp-prod-protected/HLSL30.020/HLS.L30.T15RYN.2023156T163128.v2.0/HLS.L30.T15RYN.2023156T163128.v2.0.Fmask.tif>,\n",
              "  <File-like object HTTPFileSystem, https://data.lpdaac.earthdatacloud.nasa.gov/lp-prod-protected/HLSL30.020/HLS.L30.T15RYN.2023156T163128.v2.0/HLS.L30.T15RYN.2023156T163128.v2.0.B01.tif>,\n",
              "  <File-like object HTTPFileSystem, https://data.lpdaac.earthdatacloud.nasa.gov/lp-prod-protected/HLSL30.020/HLS.L30.T15RYN.2023156T163128.v2.0/HLS.L30.T15RYN.2023156T163128.v2.0.B04.tif>,\n",
              "  <File-like object HTTPFileSystem, https://data.lpdaac.earthdatacloud.nasa.gov/lp-prod-protected/HLSL30.020/HLS.L30.T15RYN.2023156T163128.v2.0/HLS.L30.T15RYN.2023156T163128.v2.0.B11.tif>,\n",
              "  <File-like object HTTPFileSystem, https://data.lpdaac.earthdatacloud.nasa.gov/lp-prod-protected/HLSL30.020/HLS.L30.T15RYN.2023156T163128.v2.0/HLS.L30.T15RYN.2023156T163128.v2.0.VZA.tif>],\n",
              " [<File-like object HTTPFileSystem, https://data.lpdaac.earthdatacloud.nasa.gov/lp-prod-protected/HLSL30.020/HLS.L30.T16RBU.2023164T163126.v2.0/HLS.L30.T16RBU.2023164T163126.v2.0.B06.tif>,\n",
              "  <File-like object HTTPFileSystem, https://data.lpdaac.earthdatacloud.nasa.gov/lp-prod-protected/HLSL30.020/HLS.L30.T16RBU.2023164T163126.v2.0/HLS.L30.T16RBU.2023164T163126.v2.0.B11.tif>,\n",
              "  <File-like object HTTPFileSystem, https://data.lpdaac.earthdatacloud.nasa.gov/lp-prod-protected/HLSL30.020/HLS.L30.T16RBU.2023164T163126.v2.0/HLS.L30.T16RBU.2023164T163126.v2.0.Fmask.tif>,\n",
              "  <File-like object HTTPFileSystem, https://data.lpdaac.earthdatacloud.nasa.gov/lp-prod-protected/HLSL30.020/HLS.L30.T16RBU.2023164T163126.v2.0/HLS.L30.T16RBU.2023164T163126.v2.0.B01.tif>,\n",
              "  <File-like object HTTPFileSystem, https://data.lpdaac.earthdatacloud.nasa.gov/lp-prod-protected/HLSL30.020/HLS.L30.T16RBU.2023164T163126.v2.0/HLS.L30.T16RBU.2023164T163126.v2.0.SZA.tif>,\n",
              "  <File-like object HTTPFileSystem, https://data.lpdaac.earthdatacloud.nasa.gov/lp-prod-protected/HLSL30.020/HLS.L30.T16RBU.2023164T163126.v2.0/HLS.L30.T16RBU.2023164T163126.v2.0.B09.tif>,\n",
              "  <File-like object HTTPFileSystem, https://data.lpdaac.earthdatacloud.nasa.gov/lp-prod-protected/HLSL30.020/HLS.L30.T16RBU.2023164T163126.v2.0/HLS.L30.T16RBU.2023164T163126.v2.0.B10.tif>,\n",
              "  <File-like object HTTPFileSystem, https://data.lpdaac.earthdatacloud.nasa.gov/lp-prod-protected/HLSL30.020/HLS.L30.T16RBU.2023164T163126.v2.0/HLS.L30.T16RBU.2023164T163126.v2.0.B02.tif>,\n",
              "  <File-like object HTTPFileSystem, https://data.lpdaac.earthdatacloud.nasa.gov/lp-prod-protected/HLSL30.020/HLS.L30.T16RBU.2023164T163126.v2.0/HLS.L30.T16RBU.2023164T163126.v2.0.SAA.tif>,\n",
              "  <File-like object HTTPFileSystem, https://data.lpdaac.earthdatacloud.nasa.gov/lp-prod-protected/HLSL30.020/HLS.L30.T16RBU.2023164T163126.v2.0/HLS.L30.T16RBU.2023164T163126.v2.0.B07.tif>,\n",
              "  <File-like object HTTPFileSystem, https://data.lpdaac.earthdatacloud.nasa.gov/lp-prod-protected/HLSL30.020/HLS.L30.T16RBU.2023164T163126.v2.0/HLS.L30.T16RBU.2023164T163126.v2.0.B03.tif>,\n",
              "  <File-like object HTTPFileSystem, https://data.lpdaac.earthdatacloud.nasa.gov/lp-prod-protected/HLSL30.020/HLS.L30.T16RBU.2023164T163126.v2.0/HLS.L30.T16RBU.2023164T163126.v2.0.VAA.tif>,\n",
              "  <File-like object HTTPFileSystem, https://data.lpdaac.earthdatacloud.nasa.gov/lp-prod-protected/HLSL30.020/HLS.L30.T16RBU.2023164T163126.v2.0/HLS.L30.T16RBU.2023164T163126.v2.0.VZA.tif>,\n",
              "  <File-like object HTTPFileSystem, https://data.lpdaac.earthdatacloud.nasa.gov/lp-prod-protected/HLSL30.020/HLS.L30.T16RBU.2023164T163126.v2.0/HLS.L30.T16RBU.2023164T163126.v2.0.B05.tif>,\n",
              "  <File-like object HTTPFileSystem, https://data.lpdaac.earthdatacloud.nasa.gov/lp-prod-protected/HLSL30.020/HLS.L30.T16RBU.2023164T163126.v2.0/HLS.L30.T16RBU.2023164T163126.v2.0.B04.tif>],\n",
              " [<File-like object HTTPFileSystem, https://data.lpdaac.earthdatacloud.nasa.gov/lp-prod-protected/HLSL30.020/HLS.L30.T15RYP.2023164T163126.v2.0/HLS.L30.T15RYP.2023164T163126.v2.0.B09.tif>,\n",
              "  <File-like object HTTPFileSystem, https://data.lpdaac.earthdatacloud.nasa.gov/lp-prod-protected/HLSL30.020/HLS.L30.T15RYP.2023164T163126.v2.0/HLS.L30.T15RYP.2023164T163126.v2.0.B01.tif>,\n",
              "  <File-like object HTTPFileSystem, https://data.lpdaac.earthdatacloud.nasa.gov/lp-prod-protected/HLSL30.020/HLS.L30.T15RYP.2023164T163126.v2.0/HLS.L30.T15RYP.2023164T163126.v2.0.B10.tif>,\n",
              "  <File-like object HTTPFileSystem, https://data.lpdaac.earthdatacloud.nasa.gov/lp-prod-protected/HLSL30.020/HLS.L30.T15RYP.2023164T163126.v2.0/HLS.L30.T15RYP.2023164T163126.v2.0.Fmask.tif>,\n",
              "  <File-like object HTTPFileSystem, https://data.lpdaac.earthdatacloud.nasa.gov/lp-prod-protected/HLSL30.020/HLS.L30.T15RYP.2023164T163126.v2.0/HLS.L30.T15RYP.2023164T163126.v2.0.B04.tif>,\n",
              "  <File-like object HTTPFileSystem, https://data.lpdaac.earthdatacloud.nasa.gov/lp-prod-protected/HLSL30.020/HLS.L30.T15RYP.2023164T163126.v2.0/HLS.L30.T15RYP.2023164T163126.v2.0.B03.tif>,\n",
              "  <File-like object HTTPFileSystem, https://data.lpdaac.earthdatacloud.nasa.gov/lp-prod-protected/HLSL30.020/HLS.L30.T15RYP.2023164T163126.v2.0/HLS.L30.T15RYP.2023164T163126.v2.0.B07.tif>,\n",
              "  <File-like object HTTPFileSystem, https://data.lpdaac.earthdatacloud.nasa.gov/lp-prod-protected/HLSL30.020/HLS.L30.T15RYP.2023164T163126.v2.0/HLS.L30.T15RYP.2023164T163126.v2.0.VZA.tif>,\n",
              "  <File-like object HTTPFileSystem, https://data.lpdaac.earthdatacloud.nasa.gov/lp-prod-protected/HLSL30.020/HLS.L30.T15RYP.2023164T163126.v2.0/HLS.L30.T15RYP.2023164T163126.v2.0.B11.tif>,\n",
              "  <File-like object HTTPFileSystem, https://data.lpdaac.earthdatacloud.nasa.gov/lp-prod-protected/HLSL30.020/HLS.L30.T15RYP.2023164T163126.v2.0/HLS.L30.T15RYP.2023164T163126.v2.0.B02.tif>,\n",
              "  <File-like object HTTPFileSystem, https://data.lpdaac.earthdatacloud.nasa.gov/lp-prod-protected/HLSL30.020/HLS.L30.T15RYP.2023164T163126.v2.0/HLS.L30.T15RYP.2023164T163126.v2.0.VAA.tif>,\n",
              "  <File-like object HTTPFileSystem, https://data.lpdaac.earthdatacloud.nasa.gov/lp-prod-protected/HLSL30.020/HLS.L30.T15RYP.2023164T163126.v2.0/HLS.L30.T15RYP.2023164T163126.v2.0.SAA.tif>,\n",
              "  <File-like object HTTPFileSystem, https://data.lpdaac.earthdatacloud.nasa.gov/lp-prod-protected/HLSL30.020/HLS.L30.T15RYP.2023164T163126.v2.0/HLS.L30.T15RYP.2023164T163126.v2.0.SZA.tif>,\n",
              "  <File-like object HTTPFileSystem, https://data.lpdaac.earthdatacloud.nasa.gov/lp-prod-protected/HLSL30.020/HLS.L30.T15RYP.2023164T163126.v2.0/HLS.L30.T15RYP.2023164T163126.v2.0.B05.tif>,\n",
              "  <File-like object HTTPFileSystem, https://data.lpdaac.earthdatacloud.nasa.gov/lp-prod-protected/HLSL30.020/HLS.L30.T15RYP.2023164T163126.v2.0/HLS.L30.T15RYP.2023164T163126.v2.0.B06.tif>],\n",
              " [<File-like object HTTPFileSystem, https://data.lpdaac.earthdatacloud.nasa.gov/lp-prod-protected/HLSL30.020/HLS.L30.T15RYN.2023164T163126.v2.0/HLS.L30.T15RYN.2023164T163126.v2.0.B02.tif>,\n",
              "  <File-like object HTTPFileSystem, https://data.lpdaac.earthdatacloud.nasa.gov/lp-prod-protected/HLSL30.020/HLS.L30.T15RYN.2023164T163126.v2.0/HLS.L30.T15RYN.2023164T163126.v2.0.B04.tif>,\n",
              "  <File-like object HTTPFileSystem, https://data.lpdaac.earthdatacloud.nasa.gov/lp-prod-protected/HLSL30.020/HLS.L30.T15RYN.2023164T163126.v2.0/HLS.L30.T15RYN.2023164T163126.v2.0.Fmask.tif>,\n",
              "  <File-like object HTTPFileSystem, https://data.lpdaac.earthdatacloud.nasa.gov/lp-prod-protected/HLSL30.020/HLS.L30.T15RYN.2023164T163126.v2.0/HLS.L30.T15RYN.2023164T163126.v2.0.B07.tif>,\n",
              "  <File-like object HTTPFileSystem, https://data.lpdaac.earthdatacloud.nasa.gov/lp-prod-protected/HLSL30.020/HLS.L30.T15RYN.2023164T163126.v2.0/HLS.L30.T15RYN.2023164T163126.v2.0.VAA.tif>,\n",
              "  <File-like object HTTPFileSystem, https://data.lpdaac.earthdatacloud.nasa.gov/lp-prod-protected/HLSL30.020/HLS.L30.T15RYN.2023164T163126.v2.0/HLS.L30.T15RYN.2023164T163126.v2.0.B05.tif>,\n",
              "  <File-like object HTTPFileSystem, https://data.lpdaac.earthdatacloud.nasa.gov/lp-prod-protected/HLSL30.020/HLS.L30.T15RYN.2023164T163126.v2.0/HLS.L30.T15RYN.2023164T163126.v2.0.B03.tif>,\n",
              "  <File-like object HTTPFileSystem, https://data.lpdaac.earthdatacloud.nasa.gov/lp-prod-protected/HLSL30.020/HLS.L30.T15RYN.2023164T163126.v2.0/HLS.L30.T15RYN.2023164T163126.v2.0.B10.tif>,\n",
              "  <File-like object HTTPFileSystem, https://data.lpdaac.earthdatacloud.nasa.gov/lp-prod-protected/HLSL30.020/HLS.L30.T15RYN.2023164T163126.v2.0/HLS.L30.T15RYN.2023164T163126.v2.0.B09.tif>,\n",
              "  <File-like object HTTPFileSystem, https://data.lpdaac.earthdatacloud.nasa.gov/lp-prod-protected/HLSL30.020/HLS.L30.T15RYN.2023164T163126.v2.0/HLS.L30.T15RYN.2023164T163126.v2.0.VZA.tif>,\n",
              "  <File-like object HTTPFileSystem, https://data.lpdaac.earthdatacloud.nasa.gov/lp-prod-protected/HLSL30.020/HLS.L30.T15RYN.2023164T163126.v2.0/HLS.L30.T15RYN.2023164T163126.v2.0.B06.tif>,\n",
              "  <File-like object HTTPFileSystem, https://data.lpdaac.earthdatacloud.nasa.gov/lp-prod-protected/HLSL30.020/HLS.L30.T15RYN.2023164T163126.v2.0/HLS.L30.T15RYN.2023164T163126.v2.0.B01.tif>,\n",
              "  <File-like object HTTPFileSystem, https://data.lpdaac.earthdatacloud.nasa.gov/lp-prod-protected/HLSL30.020/HLS.L30.T15RYN.2023164T163126.v2.0/HLS.L30.T15RYN.2023164T163126.v2.0.SZA.tif>,\n",
              "  <File-like object HTTPFileSystem, https://data.lpdaac.earthdatacloud.nasa.gov/lp-prod-protected/HLSL30.020/HLS.L30.T15RYN.2023164T163126.v2.0/HLS.L30.T15RYN.2023164T163126.v2.0.SAA.tif>,\n",
              "  <File-like object HTTPFileSystem, https://data.lpdaac.earthdatacloud.nasa.gov/lp-prod-protected/HLSL30.020/HLS.L30.T15RYN.2023164T163126.v2.0/HLS.L30.T15RYN.2023164T163126.v2.0.B11.tif>],\n",
              " [<File-like object HTTPFileSystem, https://data.lpdaac.earthdatacloud.nasa.gov/lp-prod-protected/HLSL30.020/HLS.L30.T16RBT.2023164T163126.v2.0/HLS.L30.T16RBT.2023164T163126.v2.0.B09.tif>,\n",
              "  <File-like object HTTPFileSystem, https://data.lpdaac.earthdatacloud.nasa.gov/lp-prod-protected/HLSL30.020/HLS.L30.T16RBT.2023164T163126.v2.0/HLS.L30.T16RBT.2023164T163126.v2.0.SAA.tif>,\n",
              "  <File-like object HTTPFileSystem, https://data.lpdaac.earthdatacloud.nasa.gov/lp-prod-protected/HLSL30.020/HLS.L30.T16RBT.2023164T163126.v2.0/HLS.L30.T16RBT.2023164T163126.v2.0.B11.tif>,\n",
              "  <File-like object HTTPFileSystem, https://data.lpdaac.earthdatacloud.nasa.gov/lp-prod-protected/HLSL30.020/HLS.L30.T16RBT.2023164T163126.v2.0/HLS.L30.T16RBT.2023164T163126.v2.0.B01.tif>,\n",
              "  <File-like object HTTPFileSystem, https://data.lpdaac.earthdatacloud.nasa.gov/lp-prod-protected/HLSL30.020/HLS.L30.T16RBT.2023164T163126.v2.0/HLS.L30.T16RBT.2023164T163126.v2.0.B03.tif>,\n",
              "  <File-like object HTTPFileSystem, https://data.lpdaac.earthdatacloud.nasa.gov/lp-prod-protected/HLSL30.020/HLS.L30.T16RBT.2023164T163126.v2.0/HLS.L30.T16RBT.2023164T163126.v2.0.VZA.tif>,\n",
              "  <File-like object HTTPFileSystem, https://data.lpdaac.earthdatacloud.nasa.gov/lp-prod-protected/HLSL30.020/HLS.L30.T16RBT.2023164T163126.v2.0/HLS.L30.T16RBT.2023164T163126.v2.0.B07.tif>,\n",
              "  <File-like object HTTPFileSystem, https://data.lpdaac.earthdatacloud.nasa.gov/lp-prod-protected/HLSL30.020/HLS.L30.T16RBT.2023164T163126.v2.0/HLS.L30.T16RBT.2023164T163126.v2.0.Fmask.tif>,\n",
              "  <File-like object HTTPFileSystem, https://data.lpdaac.earthdatacloud.nasa.gov/lp-prod-protected/HLSL30.020/HLS.L30.T16RBT.2023164T163126.v2.0/HLS.L30.T16RBT.2023164T163126.v2.0.B10.tif>,\n",
              "  <File-like object HTTPFileSystem, https://data.lpdaac.earthdatacloud.nasa.gov/lp-prod-protected/HLSL30.020/HLS.L30.T16RBT.2023164T163126.v2.0/HLS.L30.T16RBT.2023164T163126.v2.0.B04.tif>,\n",
              "  <File-like object HTTPFileSystem, https://data.lpdaac.earthdatacloud.nasa.gov/lp-prod-protected/HLSL30.020/HLS.L30.T16RBT.2023164T163126.v2.0/HLS.L30.T16RBT.2023164T163126.v2.0.B05.tif>,\n",
              "  <File-like object HTTPFileSystem, https://data.lpdaac.earthdatacloud.nasa.gov/lp-prod-protected/HLSL30.020/HLS.L30.T16RBT.2023164T163126.v2.0/HLS.L30.T16RBT.2023164T163126.v2.0.SZA.tif>,\n",
              "  <File-like object HTTPFileSystem, https://data.lpdaac.earthdatacloud.nasa.gov/lp-prod-protected/HLSL30.020/HLS.L30.T16RBT.2023164T163126.v2.0/HLS.L30.T16RBT.2023164T163126.v2.0.VAA.tif>,\n",
              "  <File-like object HTTPFileSystem, https://data.lpdaac.earthdatacloud.nasa.gov/lp-prod-protected/HLSL30.020/HLS.L30.T16RBT.2023164T163126.v2.0/HLS.L30.T16RBT.2023164T163126.v2.0.B02.tif>,\n",
              "  <File-like object HTTPFileSystem, https://data.lpdaac.earthdatacloud.nasa.gov/lp-prod-protected/HLSL30.020/HLS.L30.T16RBT.2023164T163126.v2.0/HLS.L30.T16RBT.2023164T163126.v2.0.B06.tif>],\n",
              " [<File-like object HTTPFileSystem, https://data.lpdaac.earthdatacloud.nasa.gov/lp-prod-protected/HLSL30.020/HLS.L30.T15RYP.2023172T163134.v2.0/HLS.L30.T15RYP.2023172T163134.v2.0.B02.tif>,\n",
              "  <File-like object HTTPFileSystem, https://data.lpdaac.earthdatacloud.nasa.gov/lp-prod-protected/HLSL30.020/HLS.L30.T15RYP.2023172T163134.v2.0/HLS.L30.T15RYP.2023172T163134.v2.0.B03.tif>,\n",
              "  <File-like object HTTPFileSystem, https://data.lpdaac.earthdatacloud.nasa.gov/lp-prod-protected/HLSL30.020/HLS.L30.T15RYP.2023172T163134.v2.0/HLS.L30.T15RYP.2023172T163134.v2.0.VZA.tif>,\n",
              "  <File-like object HTTPFileSystem, https://data.lpdaac.earthdatacloud.nasa.gov/lp-prod-protected/HLSL30.020/HLS.L30.T15RYP.2023172T163134.v2.0/HLS.L30.T15RYP.2023172T163134.v2.0.B04.tif>,\n",
              "  <File-like object HTTPFileSystem, https://data.lpdaac.earthdatacloud.nasa.gov/lp-prod-protected/HLSL30.020/HLS.L30.T15RYP.2023172T163134.v2.0/HLS.L30.T15RYP.2023172T163134.v2.0.Fmask.tif>,\n",
              "  <File-like object HTTPFileSystem, https://data.lpdaac.earthdatacloud.nasa.gov/lp-prod-protected/HLSL30.020/HLS.L30.T15RYP.2023172T163134.v2.0/HLS.L30.T15RYP.2023172T163134.v2.0.B05.tif>,\n",
              "  <File-like object HTTPFileSystem, https://data.lpdaac.earthdatacloud.nasa.gov/lp-prod-protected/HLSL30.020/HLS.L30.T15RYP.2023172T163134.v2.0/HLS.L30.T15RYP.2023172T163134.v2.0.B06.tif>,\n",
              "  <File-like object HTTPFileSystem, https://data.lpdaac.earthdatacloud.nasa.gov/lp-prod-protected/HLSL30.020/HLS.L30.T15RYP.2023172T163134.v2.0/HLS.L30.T15RYP.2023172T163134.v2.0.B11.tif>,\n",
              "  <File-like object HTTPFileSystem, https://data.lpdaac.earthdatacloud.nasa.gov/lp-prod-protected/HLSL30.020/HLS.L30.T15RYP.2023172T163134.v2.0/HLS.L30.T15RYP.2023172T163134.v2.0.B10.tif>,\n",
              "  <File-like object HTTPFileSystem, https://data.lpdaac.earthdatacloud.nasa.gov/lp-prod-protected/HLSL30.020/HLS.L30.T15RYP.2023172T163134.v2.0/HLS.L30.T15RYP.2023172T163134.v2.0.B01.tif>,\n",
              "  <File-like object HTTPFileSystem, https://data.lpdaac.earthdatacloud.nasa.gov/lp-prod-protected/HLSL30.020/HLS.L30.T15RYP.2023172T163134.v2.0/HLS.L30.T15RYP.2023172T163134.v2.0.VAA.tif>,\n",
              "  <File-like object HTTPFileSystem, https://data.lpdaac.earthdatacloud.nasa.gov/lp-prod-protected/HLSL30.020/HLS.L30.T15RYP.2023172T163134.v2.0/HLS.L30.T15RYP.2023172T163134.v2.0.B07.tif>,\n",
              "  <File-like object HTTPFileSystem, https://data.lpdaac.earthdatacloud.nasa.gov/lp-prod-protected/HLSL30.020/HLS.L30.T15RYP.2023172T163134.v2.0/HLS.L30.T15RYP.2023172T163134.v2.0.SAA.tif>,\n",
              "  <File-like object HTTPFileSystem, https://data.lpdaac.earthdatacloud.nasa.gov/lp-prod-protected/HLSL30.020/HLS.L30.T15RYP.2023172T163134.v2.0/HLS.L30.T15RYP.2023172T163134.v2.0.SZA.tif>,\n",
              "  <File-like object HTTPFileSystem, https://data.lpdaac.earthdatacloud.nasa.gov/lp-prod-protected/HLSL30.020/HLS.L30.T15RYP.2023172T163134.v2.0/HLS.L30.T15RYP.2023172T163134.v2.0.B09.tif>],\n",
              " [<File-like object HTTPFileSystem, https://data.lpdaac.earthdatacloud.nasa.gov/lp-prod-protected/HLSL30.020/HLS.L30.T15RYN.2023172T163134.v2.0/HLS.L30.T15RYN.2023172T163134.v2.0.B10.tif>,\n",
              "  <File-like object HTTPFileSystem, https://data.lpdaac.earthdatacloud.nasa.gov/lp-prod-protected/HLSL30.020/HLS.L30.T15RYN.2023172T163134.v2.0/HLS.L30.T15RYN.2023172T163134.v2.0.B01.tif>,\n",
              "  <File-like object HTTPFileSystem, https://data.lpdaac.earthdatacloud.nasa.gov/lp-prod-protected/HLSL30.020/HLS.L30.T15RYN.2023172T163134.v2.0/HLS.L30.T15RYN.2023172T163134.v2.0.B07.tif>,\n",
              "  <File-like object HTTPFileSystem, https://data.lpdaac.earthdatacloud.nasa.gov/lp-prod-protected/HLSL30.020/HLS.L30.T15RYN.2023172T163134.v2.0/HLS.L30.T15RYN.2023172T163134.v2.0.SZA.tif>,\n",
              "  <File-like object HTTPFileSystem, https://data.lpdaac.earthdatacloud.nasa.gov/lp-prod-protected/HLSL30.020/HLS.L30.T15RYN.2023172T163134.v2.0/HLS.L30.T15RYN.2023172T163134.v2.0.B09.tif>,\n",
              "  <File-like object HTTPFileSystem, https://data.lpdaac.earthdatacloud.nasa.gov/lp-prod-protected/HLSL30.020/HLS.L30.T15RYN.2023172T163134.v2.0/HLS.L30.T15RYN.2023172T163134.v2.0.B06.tif>,\n",
              "  <File-like object HTTPFileSystem, https://data.lpdaac.earthdatacloud.nasa.gov/lp-prod-protected/HLSL30.020/HLS.L30.T15RYN.2023172T163134.v2.0/HLS.L30.T15RYN.2023172T163134.v2.0.B05.tif>,\n",
              "  <File-like object HTTPFileSystem, https://data.lpdaac.earthdatacloud.nasa.gov/lp-prod-protected/HLSL30.020/HLS.L30.T15RYN.2023172T163134.v2.0/HLS.L30.T15RYN.2023172T163134.v2.0.VAA.tif>,\n",
              "  <File-like object HTTPFileSystem, https://data.lpdaac.earthdatacloud.nasa.gov/lp-prod-protected/HLSL30.020/HLS.L30.T15RYN.2023172T163134.v2.0/HLS.L30.T15RYN.2023172T163134.v2.0.VZA.tif>,\n",
              "  <File-like object HTTPFileSystem, https://data.lpdaac.earthdatacloud.nasa.gov/lp-prod-protected/HLSL30.020/HLS.L30.T15RYN.2023172T163134.v2.0/HLS.L30.T15RYN.2023172T163134.v2.0.B04.tif>,\n",
              "  <File-like object HTTPFileSystem, https://data.lpdaac.earthdatacloud.nasa.gov/lp-prod-protected/HLSL30.020/HLS.L30.T15RYN.2023172T163134.v2.0/HLS.L30.T15RYN.2023172T163134.v2.0.SAA.tif>,\n",
              "  <File-like object HTTPFileSystem, https://data.lpdaac.earthdatacloud.nasa.gov/lp-prod-protected/HLSL30.020/HLS.L30.T15RYN.2023172T163134.v2.0/HLS.L30.T15RYN.2023172T163134.v2.0.B03.tif>,\n",
              "  <File-like object HTTPFileSystem, https://data.lpdaac.earthdatacloud.nasa.gov/lp-prod-protected/HLSL30.020/HLS.L30.T15RYN.2023172T163134.v2.0/HLS.L30.T15RYN.2023172T163134.v2.0.B11.tif>,\n",
              "  <File-like object HTTPFileSystem, https://data.lpdaac.earthdatacloud.nasa.gov/lp-prod-protected/HLSL30.020/HLS.L30.T15RYN.2023172T163134.v2.0/HLS.L30.T15RYN.2023172T163134.v2.0.Fmask.tif>,\n",
              "  <File-like object HTTPFileSystem, https://data.lpdaac.earthdatacloud.nasa.gov/lp-prod-protected/HLSL30.020/HLS.L30.T15RYN.2023172T163134.v2.0/HLS.L30.T15RYN.2023172T163134.v2.0.B02.tif>],\n",
              " [<File-like object HTTPFileSystem, https://data.lpdaac.earthdatacloud.nasa.gov/lp-prod-protected/HLSL30.020/HLS.L30.T16RBU.2023172T163134.v2.0/HLS.L30.T16RBU.2023172T163134.v2.0.B11.tif>,\n",
              "  <File-like object HTTPFileSystem, https://data.lpdaac.earthdatacloud.nasa.gov/lp-prod-protected/HLSL30.020/HLS.L30.T16RBU.2023172T163134.v2.0/HLS.L30.T16RBU.2023172T163134.v2.0.B05.tif>,\n",
              "  <File-like object HTTPFileSystem, https://data.lpdaac.earthdatacloud.nasa.gov/lp-prod-protected/HLSL30.020/HLS.L30.T16RBU.2023172T163134.v2.0/HLS.L30.T16RBU.2023172T163134.v2.0.B06.tif>,\n",
              "  <File-like object HTTPFileSystem, https://data.lpdaac.earthdatacloud.nasa.gov/lp-prod-protected/HLSL30.020/HLS.L30.T16RBU.2023172T163134.v2.0/HLS.L30.T16RBU.2023172T163134.v2.0.SAA.tif>,\n",
              "  <File-like object HTTPFileSystem, https://data.lpdaac.earthdatacloud.nasa.gov/lp-prod-protected/HLSL30.020/HLS.L30.T16RBU.2023172T163134.v2.0/HLS.L30.T16RBU.2023172T163134.v2.0.B02.tif>,\n",
              "  <File-like object HTTPFileSystem, https://data.lpdaac.earthdatacloud.nasa.gov/lp-prod-protected/HLSL30.020/HLS.L30.T16RBU.2023172T163134.v2.0/HLS.L30.T16RBU.2023172T163134.v2.0.B09.tif>,\n",
              "  <File-like object HTTPFileSystem, https://data.lpdaac.earthdatacloud.nasa.gov/lp-prod-protected/HLSL30.020/HLS.L30.T16RBU.2023172T163134.v2.0/HLS.L30.T16RBU.2023172T163134.v2.0.B10.tif>,\n",
              "  <File-like object HTTPFileSystem, https://data.lpdaac.earthdatacloud.nasa.gov/lp-prod-protected/HLSL30.020/HLS.L30.T16RBU.2023172T163134.v2.0/HLS.L30.T16RBU.2023172T163134.v2.0.VAA.tif>,\n",
              "  <File-like object HTTPFileSystem, https://data.lpdaac.earthdatacloud.nasa.gov/lp-prod-protected/HLSL30.020/HLS.L30.T16RBU.2023172T163134.v2.0/HLS.L30.T16RBU.2023172T163134.v2.0.B04.tif>,\n",
              "  <File-like object HTTPFileSystem, https://data.lpdaac.earthdatacloud.nasa.gov/lp-prod-protected/HLSL30.020/HLS.L30.T16RBU.2023172T163134.v2.0/HLS.L30.T16RBU.2023172T163134.v2.0.SZA.tif>,\n",
              "  <File-like object HTTPFileSystem, https://data.lpdaac.earthdatacloud.nasa.gov/lp-prod-protected/HLSL30.020/HLS.L30.T16RBU.2023172T163134.v2.0/HLS.L30.T16RBU.2023172T163134.v2.0.Fmask.tif>,\n",
              "  <File-like object HTTPFileSystem, https://data.lpdaac.earthdatacloud.nasa.gov/lp-prod-protected/HLSL30.020/HLS.L30.T16RBU.2023172T163134.v2.0/HLS.L30.T16RBU.2023172T163134.v2.0.B07.tif>,\n",
              "  <File-like object HTTPFileSystem, https://data.lpdaac.earthdatacloud.nasa.gov/lp-prod-protected/HLSL30.020/HLS.L30.T16RBU.2023172T163134.v2.0/HLS.L30.T16RBU.2023172T163134.v2.0.B03.tif>,\n",
              "  <File-like object HTTPFileSystem, https://data.lpdaac.earthdatacloud.nasa.gov/lp-prod-protected/HLSL30.020/HLS.L30.T16RBU.2023172T163134.v2.0/HLS.L30.T16RBU.2023172T163134.v2.0.B01.tif>,\n",
              "  <File-like object HTTPFileSystem, https://data.lpdaac.earthdatacloud.nasa.gov/lp-prod-protected/HLSL30.020/HLS.L30.T16RBU.2023172T163134.v2.0/HLS.L30.T16RBU.2023172T163134.v2.0.VZA.tif>],\n",
              " [<File-like object HTTPFileSystem, https://data.lpdaac.earthdatacloud.nasa.gov/lp-prod-protected/HLSL30.020/HLS.L30.T16RBT.2023172T163134.v2.0/HLS.L30.T16RBT.2023172T163134.v2.0.B04.tif>,\n",
              "  <File-like object HTTPFileSystem, https://data.lpdaac.earthdatacloud.nasa.gov/lp-prod-protected/HLSL30.020/HLS.L30.T16RBT.2023172T163134.v2.0/HLS.L30.T16RBT.2023172T163134.v2.0.B07.tif>,\n",
              "  <File-like object HTTPFileSystem, https://data.lpdaac.earthdatacloud.nasa.gov/lp-prod-protected/HLSL30.020/HLS.L30.T16RBT.2023172T163134.v2.0/HLS.L30.T16RBT.2023172T163134.v2.0.VAA.tif>,\n",
              "  <File-like object HTTPFileSystem, https://data.lpdaac.earthdatacloud.nasa.gov/lp-prod-protected/HLSL30.020/HLS.L30.T16RBT.2023172T163134.v2.0/HLS.L30.T16RBT.2023172T163134.v2.0.B11.tif>,\n",
              "  <File-like object HTTPFileSystem, https://data.lpdaac.earthdatacloud.nasa.gov/lp-prod-protected/HLSL30.020/HLS.L30.T16RBT.2023172T163134.v2.0/HLS.L30.T16RBT.2023172T163134.v2.0.B01.tif>,\n",
              "  <File-like object HTTPFileSystem, https://data.lpdaac.earthdatacloud.nasa.gov/lp-prod-protected/HLSL30.020/HLS.L30.T16RBT.2023172T163134.v2.0/HLS.L30.T16RBT.2023172T163134.v2.0.B06.tif>,\n",
              "  <File-like object HTTPFileSystem, https://data.lpdaac.earthdatacloud.nasa.gov/lp-prod-protected/HLSL30.020/HLS.L30.T16RBT.2023172T163134.v2.0/HLS.L30.T16RBT.2023172T163134.v2.0.B03.tif>,\n",
              "  <File-like object HTTPFileSystem, https://data.lpdaac.earthdatacloud.nasa.gov/lp-prod-protected/HLSL30.020/HLS.L30.T16RBT.2023172T163134.v2.0/HLS.L30.T16RBT.2023172T163134.v2.0.SZA.tif>,\n",
              "  <File-like object HTTPFileSystem, https://data.lpdaac.earthdatacloud.nasa.gov/lp-prod-protected/HLSL30.020/HLS.L30.T16RBT.2023172T163134.v2.0/HLS.L30.T16RBT.2023172T163134.v2.0.B02.tif>,\n",
              "  <File-like object HTTPFileSystem, https://data.lpdaac.earthdatacloud.nasa.gov/lp-prod-protected/HLSL30.020/HLS.L30.T16RBT.2023172T163134.v2.0/HLS.L30.T16RBT.2023172T163134.v2.0.Fmask.tif>,\n",
              "  <File-like object HTTPFileSystem, https://data.lpdaac.earthdatacloud.nasa.gov/lp-prod-protected/HLSL30.020/HLS.L30.T16RBT.2023172T163134.v2.0/HLS.L30.T16RBT.2023172T163134.v2.0.B05.tif>,\n",
              "  <File-like object HTTPFileSystem, https://data.lpdaac.earthdatacloud.nasa.gov/lp-prod-protected/HLSL30.020/HLS.L30.T16RBT.2023172T163134.v2.0/HLS.L30.T16RBT.2023172T163134.v2.0.SAA.tif>,\n",
              "  <File-like object HTTPFileSystem, https://data.lpdaac.earthdatacloud.nasa.gov/lp-prod-protected/HLSL30.020/HLS.L30.T16RBT.2023172T163134.v2.0/HLS.L30.T16RBT.2023172T163134.v2.0.B09.tif>,\n",
              "  <File-like object HTTPFileSystem, https://data.lpdaac.earthdatacloud.nasa.gov/lp-prod-protected/HLSL30.020/HLS.L30.T16RBT.2023172T163134.v2.0/HLS.L30.T16RBT.2023172T163134.v2.0.VZA.tif>,\n",
              "  <File-like object HTTPFileSystem, https://data.lpdaac.earthdatacloud.nasa.gov/lp-prod-protected/HLSL30.020/HLS.L30.T16RBT.2023172T163134.v2.0/HLS.L30.T16RBT.2023172T163134.v2.0.B10.tif>],\n",
              " [<File-like object HTTPFileSystem, https://data.lpdaac.earthdatacloud.nasa.gov/lp-prod-protected/HLSL30.020/HLS.L30.T16RBU.2023180T163132.v2.0/HLS.L30.T16RBU.2023180T163132.v2.0.B10.tif>,\n",
              "  <File-like object HTTPFileSystem, https://data.lpdaac.earthdatacloud.nasa.gov/lp-prod-protected/HLSL30.020/HLS.L30.T16RBU.2023180T163132.v2.0/HLS.L30.T16RBU.2023180T163132.v2.0.SZA.tif>,\n",
              "  <File-like object HTTPFileSystem, https://data.lpdaac.earthdatacloud.nasa.gov/lp-prod-protected/HLSL30.020/HLS.L30.T16RBU.2023180T163132.v2.0/HLS.L30.T16RBU.2023180T163132.v2.0.B09.tif>,\n",
              "  <File-like object HTTPFileSystem, https://data.lpdaac.earthdatacloud.nasa.gov/lp-prod-protected/HLSL30.020/HLS.L30.T16RBU.2023180T163132.v2.0/HLS.L30.T16RBU.2023180T163132.v2.0.Fmask.tif>,\n",
              "  <File-like object HTTPFileSystem, https://data.lpdaac.earthdatacloud.nasa.gov/lp-prod-protected/HLSL30.020/HLS.L30.T16RBU.2023180T163132.v2.0/HLS.L30.T16RBU.2023180T163132.v2.0.B03.tif>,\n",
              "  <File-like object HTTPFileSystem, https://data.lpdaac.earthdatacloud.nasa.gov/lp-prod-protected/HLSL30.020/HLS.L30.T16RBU.2023180T163132.v2.0/HLS.L30.T16RBU.2023180T163132.v2.0.B06.tif>,\n",
              "  <File-like object HTTPFileSystem, https://data.lpdaac.earthdatacloud.nasa.gov/lp-prod-protected/HLSL30.020/HLS.L30.T16RBU.2023180T163132.v2.0/HLS.L30.T16RBU.2023180T163132.v2.0.B11.tif>,\n",
              "  <File-like object HTTPFileSystem, https://data.lpdaac.earthdatacloud.nasa.gov/lp-prod-protected/HLSL30.020/HLS.L30.T16RBU.2023180T163132.v2.0/HLS.L30.T16RBU.2023180T163132.v2.0.SAA.tif>,\n",
              "  <File-like object HTTPFileSystem, https://data.lpdaac.earthdatacloud.nasa.gov/lp-prod-protected/HLSL30.020/HLS.L30.T16RBU.2023180T163132.v2.0/HLS.L30.T16RBU.2023180T163132.v2.0.B05.tif>,\n",
              "  <File-like object HTTPFileSystem, https://data.lpdaac.earthdatacloud.nasa.gov/lp-prod-protected/HLSL30.020/HLS.L30.T16RBU.2023180T163132.v2.0/HLS.L30.T16RBU.2023180T163132.v2.0.VZA.tif>,\n",
              "  <File-like object HTTPFileSystem, https://data.lpdaac.earthdatacloud.nasa.gov/lp-prod-protected/HLSL30.020/HLS.L30.T16RBU.2023180T163132.v2.0/HLS.L30.T16RBU.2023180T163132.v2.0.B07.tif>,\n",
              "  <File-like object HTTPFileSystem, https://data.lpdaac.earthdatacloud.nasa.gov/lp-prod-protected/HLSL30.020/HLS.L30.T16RBU.2023180T163132.v2.0/HLS.L30.T16RBU.2023180T163132.v2.0.B01.tif>,\n",
              "  <File-like object HTTPFileSystem, https://data.lpdaac.earthdatacloud.nasa.gov/lp-prod-protected/HLSL30.020/HLS.L30.T16RBU.2023180T163132.v2.0/HLS.L30.T16RBU.2023180T163132.v2.0.VAA.tif>,\n",
              "  <File-like object HTTPFileSystem, https://data.lpdaac.earthdatacloud.nasa.gov/lp-prod-protected/HLSL30.020/HLS.L30.T16RBU.2023180T163132.v2.0/HLS.L30.T16RBU.2023180T163132.v2.0.B02.tif>,\n",
              "  <File-like object HTTPFileSystem, https://data.lpdaac.earthdatacloud.nasa.gov/lp-prod-protected/HLSL30.020/HLS.L30.T16RBU.2023180T163132.v2.0/HLS.L30.T16RBU.2023180T163132.v2.0.B04.tif>],\n",
              " [<File-like object HTTPFileSystem, https://data.lpdaac.earthdatacloud.nasa.gov/lp-prod-protected/HLSL30.020/HLS.L30.T15RYP.2023180T163132.v2.0/HLS.L30.T15RYP.2023180T163132.v2.0.B04.tif>,\n",
              "  <File-like object HTTPFileSystem, https://data.lpdaac.earthdatacloud.nasa.gov/lp-prod-protected/HLSL30.020/HLS.L30.T15RYP.2023180T163132.v2.0/HLS.L30.T15RYP.2023180T163132.v2.0.B02.tif>,\n",
              "  <File-like object HTTPFileSystem, https://data.lpdaac.earthdatacloud.nasa.gov/lp-prod-protected/HLSL30.020/HLS.L30.T15RYP.2023180T163132.v2.0/HLS.L30.T15RYP.2023180T163132.v2.0.B07.tif>,\n",
              "  <File-like object HTTPFileSystem, https://data.lpdaac.earthdatacloud.nasa.gov/lp-prod-protected/HLSL30.020/HLS.L30.T15RYP.2023180T163132.v2.0/HLS.L30.T15RYP.2023180T163132.v2.0.B09.tif>,\n",
              "  <File-like object HTTPFileSystem, https://data.lpdaac.earthdatacloud.nasa.gov/lp-prod-protected/HLSL30.020/HLS.L30.T15RYP.2023180T163132.v2.0/HLS.L30.T15RYP.2023180T163132.v2.0.SZA.tif>,\n",
              "  <File-like object HTTPFileSystem, https://data.lpdaac.earthdatacloud.nasa.gov/lp-prod-protected/HLSL30.020/HLS.L30.T15RYP.2023180T163132.v2.0/HLS.L30.T15RYP.2023180T163132.v2.0.Fmask.tif>,\n",
              "  <File-like object HTTPFileSystem, https://data.lpdaac.earthdatacloud.nasa.gov/lp-prod-protected/HLSL30.020/HLS.L30.T15RYP.2023180T163132.v2.0/HLS.L30.T15RYP.2023180T163132.v2.0.VZA.tif>,\n",
              "  <File-like object HTTPFileSystem, https://data.lpdaac.earthdatacloud.nasa.gov/lp-prod-protected/HLSL30.020/HLS.L30.T15RYP.2023180T163132.v2.0/HLS.L30.T15RYP.2023180T163132.v2.0.B06.tif>,\n",
              "  <File-like object HTTPFileSystem, https://data.lpdaac.earthdatacloud.nasa.gov/lp-prod-protected/HLSL30.020/HLS.L30.T15RYP.2023180T163132.v2.0/HLS.L30.T15RYP.2023180T163132.v2.0.SAA.tif>,\n",
              "  <File-like object HTTPFileSystem, https://data.lpdaac.earthdatacloud.nasa.gov/lp-prod-protected/HLSL30.020/HLS.L30.T15RYP.2023180T163132.v2.0/HLS.L30.T15RYP.2023180T163132.v2.0.B11.tif>,\n",
              "  <File-like object HTTPFileSystem, https://data.lpdaac.earthdatacloud.nasa.gov/lp-prod-protected/HLSL30.020/HLS.L30.T15RYP.2023180T163132.v2.0/HLS.L30.T15RYP.2023180T163132.v2.0.B03.tif>,\n",
              "  <File-like object HTTPFileSystem, https://data.lpdaac.earthdatacloud.nasa.gov/lp-prod-protected/HLSL30.020/HLS.L30.T15RYP.2023180T163132.v2.0/HLS.L30.T15RYP.2023180T163132.v2.0.VAA.tif>,\n",
              "  <File-like object HTTPFileSystem, https://data.lpdaac.earthdatacloud.nasa.gov/lp-prod-protected/HLSL30.020/HLS.L30.T15RYP.2023180T163132.v2.0/HLS.L30.T15RYP.2023180T163132.v2.0.B05.tif>,\n",
              "  <File-like object HTTPFileSystem, https://data.lpdaac.earthdatacloud.nasa.gov/lp-prod-protected/HLSL30.020/HLS.L30.T15RYP.2023180T163132.v2.0/HLS.L30.T15RYP.2023180T163132.v2.0.B10.tif>,\n",
              "  <File-like object HTTPFileSystem, https://data.lpdaac.earthdatacloud.nasa.gov/lp-prod-protected/HLSL30.020/HLS.L30.T15RYP.2023180T163132.v2.0/HLS.L30.T15RYP.2023180T163132.v2.0.B01.tif>],\n",
              " [<File-like object HTTPFileSystem, https://data.lpdaac.earthdatacloud.nasa.gov/lp-prod-protected/HLSL30.020/HLS.L30.T16RBT.2023180T163132.v2.0/HLS.L30.T16RBT.2023180T163132.v2.0.SZA.tif>,\n",
              "  <File-like object HTTPFileSystem, https://data.lpdaac.earthdatacloud.nasa.gov/lp-prod-protected/HLSL30.020/HLS.L30.T16RBT.2023180T163132.v2.0/HLS.L30.T16RBT.2023180T163132.v2.0.B01.tif>,\n",
              "  <File-like object HTTPFileSystem, https://data.lpdaac.earthdatacloud.nasa.gov/lp-prod-protected/HLSL30.020/HLS.L30.T16RBT.2023180T163132.v2.0/HLS.L30.T16RBT.2023180T163132.v2.0.Fmask.tif>,\n",
              "  <File-like object HTTPFileSystem, https://data.lpdaac.earthdatacloud.nasa.gov/lp-prod-protected/HLSL30.020/HLS.L30.T16RBT.2023180T163132.v2.0/HLS.L30.T16RBT.2023180T163132.v2.0.B05.tif>,\n",
              "  <File-like object HTTPFileSystem, https://data.lpdaac.earthdatacloud.nasa.gov/lp-prod-protected/HLSL30.020/HLS.L30.T16RBT.2023180T163132.v2.0/HLS.L30.T16RBT.2023180T163132.v2.0.VAA.tif>,\n",
              "  <File-like object HTTPFileSystem, https://data.lpdaac.earthdatacloud.nasa.gov/lp-prod-protected/HLSL30.020/HLS.L30.T16RBT.2023180T163132.v2.0/HLS.L30.T16RBT.2023180T163132.v2.0.B06.tif>,\n",
              "  <File-like object HTTPFileSystem, https://data.lpdaac.earthdatacloud.nasa.gov/lp-prod-protected/HLSL30.020/HLS.L30.T16RBT.2023180T163132.v2.0/HLS.L30.T16RBT.2023180T163132.v2.0.SAA.tif>,\n",
              "  <File-like object HTTPFileSystem, https://data.lpdaac.earthdatacloud.nasa.gov/lp-prod-protected/HLSL30.020/HLS.L30.T16RBT.2023180T163132.v2.0/HLS.L30.T16RBT.2023180T163132.v2.0.B11.tif>,\n",
              "  <File-like object HTTPFileSystem, https://data.lpdaac.earthdatacloud.nasa.gov/lp-prod-protected/HLSL30.020/HLS.L30.T16RBT.2023180T163132.v2.0/HLS.L30.T16RBT.2023180T163132.v2.0.B02.tif>,\n",
              "  <File-like object HTTPFileSystem, https://data.lpdaac.earthdatacloud.nasa.gov/lp-prod-protected/HLSL30.020/HLS.L30.T16RBT.2023180T163132.v2.0/HLS.L30.T16RBT.2023180T163132.v2.0.B03.tif>,\n",
              "  <File-like object HTTPFileSystem, https://data.lpdaac.earthdatacloud.nasa.gov/lp-prod-protected/HLSL30.020/HLS.L30.T16RBT.2023180T163132.v2.0/HLS.L30.T16RBT.2023180T163132.v2.0.B10.tif>,\n",
              "  <File-like object HTTPFileSystem, https://data.lpdaac.earthdatacloud.nasa.gov/lp-prod-protected/HLSL30.020/HLS.L30.T16RBT.2023180T163132.v2.0/HLS.L30.T16RBT.2023180T163132.v2.0.VZA.tif>,\n",
              "  <File-like object HTTPFileSystem, https://data.lpdaac.earthdatacloud.nasa.gov/lp-prod-protected/HLSL30.020/HLS.L30.T16RBT.2023180T163132.v2.0/HLS.L30.T16RBT.2023180T163132.v2.0.B04.tif>,\n",
              "  <File-like object HTTPFileSystem, https://data.lpdaac.earthdatacloud.nasa.gov/lp-prod-protected/HLSL30.020/HLS.L30.T16RBT.2023180T163132.v2.0/HLS.L30.T16RBT.2023180T163132.v2.0.B07.tif>,\n",
              "  <File-like object HTTPFileSystem, https://data.lpdaac.earthdatacloud.nasa.gov/lp-prod-protected/HLSL30.020/HLS.L30.T16RBT.2023180T163132.v2.0/HLS.L30.T16RBT.2023180T163132.v2.0.B09.tif>],\n",
              " [<File-like object HTTPFileSystem, https://data.lpdaac.earthdatacloud.nasa.gov/lp-prod-protected/HLSL30.020/HLS.L30.T15RYN.2023180T163132.v2.0/HLS.L30.T15RYN.2023180T163132.v2.0.B09.tif>,\n",
              "  <File-like object HTTPFileSystem, https://data.lpdaac.earthdatacloud.nasa.gov/lp-prod-protected/HLSL30.020/HLS.L30.T15RYN.2023180T163132.v2.0/HLS.L30.T15RYN.2023180T163132.v2.0.B05.tif>,\n",
              "  <File-like object HTTPFileSystem, https://data.lpdaac.earthdatacloud.nasa.gov/lp-prod-protected/HLSL30.020/HLS.L30.T15RYN.2023180T163132.v2.0/HLS.L30.T15RYN.2023180T163132.v2.0.B03.tif>,\n",
              "  <File-like object HTTPFileSystem, https://data.lpdaac.earthdatacloud.nasa.gov/lp-prod-protected/HLSL30.020/HLS.L30.T15RYN.2023180T163132.v2.0/HLS.L30.T15RYN.2023180T163132.v2.0.B07.tif>,\n",
              "  <File-like object HTTPFileSystem, https://data.lpdaac.earthdatacloud.nasa.gov/lp-prod-protected/HLSL30.020/HLS.L30.T15RYN.2023180T163132.v2.0/HLS.L30.T15RYN.2023180T163132.v2.0.B11.tif>,\n",
              "  <File-like object HTTPFileSystem, https://data.lpdaac.earthdatacloud.nasa.gov/lp-prod-protected/HLSL30.020/HLS.L30.T15RYN.2023180T163132.v2.0/HLS.L30.T15RYN.2023180T163132.v2.0.B02.tif>,\n",
              "  <File-like object HTTPFileSystem, https://data.lpdaac.earthdatacloud.nasa.gov/lp-prod-protected/HLSL30.020/HLS.L30.T15RYN.2023180T163132.v2.0/HLS.L30.T15RYN.2023180T163132.v2.0.SAA.tif>,\n",
              "  <File-like object HTTPFileSystem, https://data.lpdaac.earthdatacloud.nasa.gov/lp-prod-protected/HLSL30.020/HLS.L30.T15RYN.2023180T163132.v2.0/HLS.L30.T15RYN.2023180T163132.v2.0.SZA.tif>,\n",
              "  <File-like object HTTPFileSystem, https://data.lpdaac.earthdatacloud.nasa.gov/lp-prod-protected/HLSL30.020/HLS.L30.T15RYN.2023180T163132.v2.0/HLS.L30.T15RYN.2023180T163132.v2.0.B04.tif>,\n",
              "  <File-like object HTTPFileSystem, https://data.lpdaac.earthdatacloud.nasa.gov/lp-prod-protected/HLSL30.020/HLS.L30.T15RYN.2023180T163132.v2.0/HLS.L30.T15RYN.2023180T163132.v2.0.VZA.tif>,\n",
              "  <File-like object HTTPFileSystem, https://data.lpdaac.earthdatacloud.nasa.gov/lp-prod-protected/HLSL30.020/HLS.L30.T15RYN.2023180T163132.v2.0/HLS.L30.T15RYN.2023180T163132.v2.0.Fmask.tif>,\n",
              "  <File-like object HTTPFileSystem, https://data.lpdaac.earthdatacloud.nasa.gov/lp-prod-protected/HLSL30.020/HLS.L30.T15RYN.2023180T163132.v2.0/HLS.L30.T15RYN.2023180T163132.v2.0.B10.tif>,\n",
              "  <File-like object HTTPFileSystem, https://data.lpdaac.earthdatacloud.nasa.gov/lp-prod-protected/HLSL30.020/HLS.L30.T15RYN.2023180T163132.v2.0/HLS.L30.T15RYN.2023180T163132.v2.0.B01.tif>,\n",
              "  <File-like object HTTPFileSystem, https://data.lpdaac.earthdatacloud.nasa.gov/lp-prod-protected/HLSL30.020/HLS.L30.T15RYN.2023180T163132.v2.0/HLS.L30.T15RYN.2023180T163132.v2.0.VAA.tif>,\n",
              "  <File-like object HTTPFileSystem, https://data.lpdaac.earthdatacloud.nasa.gov/lp-prod-protected/HLSL30.020/HLS.L30.T15RYN.2023180T163132.v2.0/HLS.L30.T15RYN.2023180T163132.v2.0.B06.tif>],\n",
              " [<File-like object HTTPFileSystem, https://data.lpdaac.earthdatacloud.nasa.gov/lp-prod-protected/HLSL30.020/HLS.L30.T16RBU.2023188T163146.v2.0/HLS.L30.T16RBU.2023188T163146.v2.0.B03.tif>,\n",
              "  <File-like object HTTPFileSystem, https://data.lpdaac.earthdatacloud.nasa.gov/lp-prod-protected/HLSL30.020/HLS.L30.T16RBU.2023188T163146.v2.0/HLS.L30.T16RBU.2023188T163146.v2.0.B04.tif>,\n",
              "  <File-like object HTTPFileSystem, https://data.lpdaac.earthdatacloud.nasa.gov/lp-prod-protected/HLSL30.020/HLS.L30.T16RBU.2023188T163146.v2.0/HLS.L30.T16RBU.2023188T163146.v2.0.B11.tif>,\n",
              "  <File-like object HTTPFileSystem, https://data.lpdaac.earthdatacloud.nasa.gov/lp-prod-protected/HLSL30.020/HLS.L30.T16RBU.2023188T163146.v2.0/HLS.L30.T16RBU.2023188T163146.v2.0.VAA.tif>,\n",
              "  <File-like object HTTPFileSystem, https://data.lpdaac.earthdatacloud.nasa.gov/lp-prod-protected/HLSL30.020/HLS.L30.T16RBU.2023188T163146.v2.0/HLS.L30.T16RBU.2023188T163146.v2.0.SAA.tif>,\n",
              "  <File-like object HTTPFileSystem, https://data.lpdaac.earthdatacloud.nasa.gov/lp-prod-protected/HLSL30.020/HLS.L30.T16RBU.2023188T163146.v2.0/HLS.L30.T16RBU.2023188T163146.v2.0.B07.tif>,\n",
              "  <File-like object HTTPFileSystem, https://data.lpdaac.earthdatacloud.nasa.gov/lp-prod-protected/HLSL30.020/HLS.L30.T16RBU.2023188T163146.v2.0/HLS.L30.T16RBU.2023188T163146.v2.0.B09.tif>,\n",
              "  <File-like object HTTPFileSystem, https://data.lpdaac.earthdatacloud.nasa.gov/lp-prod-protected/HLSL30.020/HLS.L30.T16RBU.2023188T163146.v2.0/HLS.L30.T16RBU.2023188T163146.v2.0.VZA.tif>,\n",
              "  <File-like object HTTPFileSystem, https://data.lpdaac.earthdatacloud.nasa.gov/lp-prod-protected/HLSL30.020/HLS.L30.T16RBU.2023188T163146.v2.0/HLS.L30.T16RBU.2023188T163146.v2.0.SZA.tif>,\n",
              "  <File-like object HTTPFileSystem, https://data.lpdaac.earthdatacloud.nasa.gov/lp-prod-protected/HLSL30.020/HLS.L30.T16RBU.2023188T163146.v2.0/HLS.L30.T16RBU.2023188T163146.v2.0.B01.tif>,\n",
              "  <File-like object HTTPFileSystem, https://data.lpdaac.earthdatacloud.nasa.gov/lp-prod-protected/HLSL30.020/HLS.L30.T16RBU.2023188T163146.v2.0/HLS.L30.T16RBU.2023188T163146.v2.0.B10.tif>,\n",
              "  <File-like object HTTPFileSystem, https://data.lpdaac.earthdatacloud.nasa.gov/lp-prod-protected/HLSL30.020/HLS.L30.T16RBU.2023188T163146.v2.0/HLS.L30.T16RBU.2023188T163146.v2.0.Fmask.tif>,\n",
              "  <File-like object HTTPFileSystem, https://data.lpdaac.earthdatacloud.nasa.gov/lp-prod-protected/HLSL30.020/HLS.L30.T16RBU.2023188T163146.v2.0/HLS.L30.T16RBU.2023188T163146.v2.0.B06.tif>,\n",
              "  <File-like object HTTPFileSystem, https://data.lpdaac.earthdatacloud.nasa.gov/lp-prod-protected/HLSL30.020/HLS.L30.T16RBU.2023188T163146.v2.0/HLS.L30.T16RBU.2023188T163146.v2.0.B05.tif>,\n",
              "  <File-like object HTTPFileSystem, https://data.lpdaac.earthdatacloud.nasa.gov/lp-prod-protected/HLSL30.020/HLS.L30.T16RBU.2023188T163146.v2.0/HLS.L30.T16RBU.2023188T163146.v2.0.B02.tif>],\n",
              " [<File-like object HTTPFileSystem, https://data.lpdaac.earthdatacloud.nasa.gov/lp-prod-protected/HLSL30.020/HLS.L30.T15RYP.2023188T163146.v2.0/HLS.L30.T15RYP.2023188T163146.v2.0.B04.tif>,\n",
              "  <File-like object HTTPFileSystem, https://data.lpdaac.earthdatacloud.nasa.gov/lp-prod-protected/HLSL30.020/HLS.L30.T15RYP.2023188T163146.v2.0/HLS.L30.T15RYP.2023188T163146.v2.0.B01.tif>,\n",
              "  <File-like object HTTPFileSystem, https://data.lpdaac.earthdatacloud.nasa.gov/lp-prod-protected/HLSL30.020/HLS.L30.T15RYP.2023188T163146.v2.0/HLS.L30.T15RYP.2023188T163146.v2.0.B03.tif>,\n",
              "  <File-like object HTTPFileSystem, https://data.lpdaac.earthdatacloud.nasa.gov/lp-prod-protected/HLSL30.020/HLS.L30.T15RYP.2023188T163146.v2.0/HLS.L30.T15RYP.2023188T163146.v2.0.B06.tif>,\n",
              "  <File-like object HTTPFileSystem, https://data.lpdaac.earthdatacloud.nasa.gov/lp-prod-protected/HLSL30.020/HLS.L30.T15RYP.2023188T163146.v2.0/HLS.L30.T15RYP.2023188T163146.v2.0.B05.tif>,\n",
              "  <File-like object HTTPFileSystem, https://data.lpdaac.earthdatacloud.nasa.gov/lp-prod-protected/HLSL30.020/HLS.L30.T15RYP.2023188T163146.v2.0/HLS.L30.T15RYP.2023188T163146.v2.0.B11.tif>,\n",
              "  <File-like object HTTPFileSystem, https://data.lpdaac.earthdatacloud.nasa.gov/lp-prod-protected/HLSL30.020/HLS.L30.T15RYP.2023188T163146.v2.0/HLS.L30.T15RYP.2023188T163146.v2.0.B10.tif>,\n",
              "  <File-like object HTTPFileSystem, https://data.lpdaac.earthdatacloud.nasa.gov/lp-prod-protected/HLSL30.020/HLS.L30.T15RYP.2023188T163146.v2.0/HLS.L30.T15RYP.2023188T163146.v2.0.Fmask.tif>,\n",
              "  <File-like object HTTPFileSystem, https://data.lpdaac.earthdatacloud.nasa.gov/lp-prod-protected/HLSL30.020/HLS.L30.T15RYP.2023188T163146.v2.0/HLS.L30.T15RYP.2023188T163146.v2.0.SZA.tif>,\n",
              "  <File-like object HTTPFileSystem, https://data.lpdaac.earthdatacloud.nasa.gov/lp-prod-protected/HLSL30.020/HLS.L30.T15RYP.2023188T163146.v2.0/HLS.L30.T15RYP.2023188T163146.v2.0.B02.tif>,\n",
              "  <File-like object HTTPFileSystem, https://data.lpdaac.earthdatacloud.nasa.gov/lp-prod-protected/HLSL30.020/HLS.L30.T15RYP.2023188T163146.v2.0/HLS.L30.T15RYP.2023188T163146.v2.0.SAA.tif>,\n",
              "  <File-like object HTTPFileSystem, https://data.lpdaac.earthdatacloud.nasa.gov/lp-prod-protected/HLSL30.020/HLS.L30.T15RYP.2023188T163146.v2.0/HLS.L30.T15RYP.2023188T163146.v2.0.B07.tif>,\n",
              "  <File-like object HTTPFileSystem, https://data.lpdaac.earthdatacloud.nasa.gov/lp-prod-protected/HLSL30.020/HLS.L30.T15RYP.2023188T163146.v2.0/HLS.L30.T15RYP.2023188T163146.v2.0.VZA.tif>,\n",
              "  <File-like object HTTPFileSystem, https://data.lpdaac.earthdatacloud.nasa.gov/lp-prod-protected/HLSL30.020/HLS.L30.T15RYP.2023188T163146.v2.0/HLS.L30.T15RYP.2023188T163146.v2.0.VAA.tif>,\n",
              "  <File-like object HTTPFileSystem, https://data.lpdaac.earthdatacloud.nasa.gov/lp-prod-protected/HLSL30.020/HLS.L30.T15RYP.2023188T163146.v2.0/HLS.L30.T15RYP.2023188T163146.v2.0.B09.tif>],\n",
              " [<File-like object HTTPFileSystem, https://data.lpdaac.earthdatacloud.nasa.gov/lp-prod-protected/HLSL30.020/HLS.L30.T16RBT.2023188T163146.v2.0/HLS.L30.T16RBT.2023188T163146.v2.0.B11.tif>,\n",
              "  <File-like object HTTPFileSystem, https://data.lpdaac.earthdatacloud.nasa.gov/lp-prod-protected/HLSL30.020/HLS.L30.T16RBT.2023188T163146.v2.0/HLS.L30.T16RBT.2023188T163146.v2.0.VZA.tif>,\n",
              "  <File-like object HTTPFileSystem, https://data.lpdaac.earthdatacloud.nasa.gov/lp-prod-protected/HLSL30.020/HLS.L30.T16RBT.2023188T163146.v2.0/HLS.L30.T16RBT.2023188T163146.v2.0.B06.tif>,\n",
              "  <File-like object HTTPFileSystem, https://data.lpdaac.earthdatacloud.nasa.gov/lp-prod-protected/HLSL30.020/HLS.L30.T16RBT.2023188T163146.v2.0/HLS.L30.T16RBT.2023188T163146.v2.0.B09.tif>,\n",
              "  <File-like object HTTPFileSystem, https://data.lpdaac.earthdatacloud.nasa.gov/lp-prod-protected/HLSL30.020/HLS.L30.T16RBT.2023188T163146.v2.0/HLS.L30.T16RBT.2023188T163146.v2.0.SZA.tif>,\n",
              "  <File-like object HTTPFileSystem, https://data.lpdaac.earthdatacloud.nasa.gov/lp-prod-protected/HLSL30.020/HLS.L30.T16RBT.2023188T163146.v2.0/HLS.L30.T16RBT.2023188T163146.v2.0.B04.tif>,\n",
              "  <File-like object HTTPFileSystem, https://data.lpdaac.earthdatacloud.nasa.gov/lp-prod-protected/HLSL30.020/HLS.L30.T16RBT.2023188T163146.v2.0/HLS.L30.T16RBT.2023188T163146.v2.0.B03.tif>,\n",
              "  <File-like object HTTPFileSystem, https://data.lpdaac.earthdatacloud.nasa.gov/lp-prod-protected/HLSL30.020/HLS.L30.T16RBT.2023188T163146.v2.0/HLS.L30.T16RBT.2023188T163146.v2.0.B05.tif>,\n",
              "  <File-like object HTTPFileSystem, https://data.lpdaac.earthdatacloud.nasa.gov/lp-prod-protected/HLSL30.020/HLS.L30.T16RBT.2023188T163146.v2.0/HLS.L30.T16RBT.2023188T163146.v2.0.VAA.tif>,\n",
              "  <File-like object HTTPFileSystem, https://data.lpdaac.earthdatacloud.nasa.gov/lp-prod-protected/HLSL30.020/HLS.L30.T16RBT.2023188T163146.v2.0/HLS.L30.T16RBT.2023188T163146.v2.0.B07.tif>,\n",
              "  <File-like object HTTPFileSystem, https://data.lpdaac.earthdatacloud.nasa.gov/lp-prod-protected/HLSL30.020/HLS.L30.T16RBT.2023188T163146.v2.0/HLS.L30.T16RBT.2023188T163146.v2.0.B01.tif>,\n",
              "  <File-like object HTTPFileSystem, https://data.lpdaac.earthdatacloud.nasa.gov/lp-prod-protected/HLSL30.020/HLS.L30.T16RBT.2023188T163146.v2.0/HLS.L30.T16RBT.2023188T163146.v2.0.SAA.tif>,\n",
              "  <File-like object HTTPFileSystem, https://data.lpdaac.earthdatacloud.nasa.gov/lp-prod-protected/HLSL30.020/HLS.L30.T16RBT.2023188T163146.v2.0/HLS.L30.T16RBT.2023188T163146.v2.0.B02.tif>,\n",
              "  <File-like object HTTPFileSystem, https://data.lpdaac.earthdatacloud.nasa.gov/lp-prod-protected/HLSL30.020/HLS.L30.T16RBT.2023188T163146.v2.0/HLS.L30.T16RBT.2023188T163146.v2.0.Fmask.tif>,\n",
              "  <File-like object HTTPFileSystem, https://data.lpdaac.earthdatacloud.nasa.gov/lp-prod-protected/HLSL30.020/HLS.L30.T16RBT.2023188T163146.v2.0/HLS.L30.T16RBT.2023188T163146.v2.0.B10.tif>],\n",
              " [<File-like object HTTPFileSystem, https://data.lpdaac.earthdatacloud.nasa.gov/lp-prod-protected/HLSL30.020/HLS.L30.T15RYN.2023188T163146.v2.0/HLS.L30.T15RYN.2023188T163146.v2.0.B03.tif>,\n",
              "  <File-like object HTTPFileSystem, https://data.lpdaac.earthdatacloud.nasa.gov/lp-prod-protected/HLSL30.020/HLS.L30.T15RYN.2023188T163146.v2.0/HLS.L30.T15RYN.2023188T163146.v2.0.B11.tif>,\n",
              "  <File-like object HTTPFileSystem, https://data.lpdaac.earthdatacloud.nasa.gov/lp-prod-protected/HLSL30.020/HLS.L30.T15RYN.2023188T163146.v2.0/HLS.L30.T15RYN.2023188T163146.v2.0.B02.tif>,\n",
              "  <File-like object HTTPFileSystem, https://data.lpdaac.earthdatacloud.nasa.gov/lp-prod-protected/HLSL30.020/HLS.L30.T15RYN.2023188T163146.v2.0/HLS.L30.T15RYN.2023188T163146.v2.0.B05.tif>,\n",
              "  <File-like object HTTPFileSystem, https://data.lpdaac.earthdatacloud.nasa.gov/lp-prod-protected/HLSL30.020/HLS.L30.T15RYN.2023188T163146.v2.0/HLS.L30.T15RYN.2023188T163146.v2.0.B04.tif>,\n",
              "  <File-like object HTTPFileSystem, https://data.lpdaac.earthdatacloud.nasa.gov/lp-prod-protected/HLSL30.020/HLS.L30.T15RYN.2023188T163146.v2.0/HLS.L30.T15RYN.2023188T163146.v2.0.SZA.tif>,\n",
              "  <File-like object HTTPFileSystem, https://data.lpdaac.earthdatacloud.nasa.gov/lp-prod-protected/HLSL30.020/HLS.L30.T15RYN.2023188T163146.v2.0/HLS.L30.T15RYN.2023188T163146.v2.0.Fmask.tif>,\n",
              "  <File-like object HTTPFileSystem, https://data.lpdaac.earthdatacloud.nasa.gov/lp-prod-protected/HLSL30.020/HLS.L30.T15RYN.2023188T163146.v2.0/HLS.L30.T15RYN.2023188T163146.v2.0.B07.tif>,\n",
              "  <File-like object HTTPFileSystem, https://data.lpdaac.earthdatacloud.nasa.gov/lp-prod-protected/HLSL30.020/HLS.L30.T15RYN.2023188T163146.v2.0/HLS.L30.T15RYN.2023188T163146.v2.0.B10.tif>,\n",
              "  <File-like object HTTPFileSystem, https://data.lpdaac.earthdatacloud.nasa.gov/lp-prod-protected/HLSL30.020/HLS.L30.T15RYN.2023188T163146.v2.0/HLS.L30.T15RYN.2023188T163146.v2.0.B01.tif>,\n",
              "  <File-like object HTTPFileSystem, https://data.lpdaac.earthdatacloud.nasa.gov/lp-prod-protected/HLSL30.020/HLS.L30.T15RYN.2023188T163146.v2.0/HLS.L30.T15RYN.2023188T163146.v2.0.B06.tif>,\n",
              "  <File-like object HTTPFileSystem, https://data.lpdaac.earthdatacloud.nasa.gov/lp-prod-protected/HLSL30.020/HLS.L30.T15RYN.2023188T163146.v2.0/HLS.L30.T15RYN.2023188T163146.v2.0.VZA.tif>,\n",
              "  <File-like object HTTPFileSystem, https://data.lpdaac.earthdatacloud.nasa.gov/lp-prod-protected/HLSL30.020/HLS.L30.T15RYN.2023188T163146.v2.0/HLS.L30.T15RYN.2023188T163146.v2.0.SAA.tif>,\n",
              "  <File-like object HTTPFileSystem, https://data.lpdaac.earthdatacloud.nasa.gov/lp-prod-protected/HLSL30.020/HLS.L30.T15RYN.2023188T163146.v2.0/HLS.L30.T15RYN.2023188T163146.v2.0.B09.tif>,\n",
              "  <File-like object HTTPFileSystem, https://data.lpdaac.earthdatacloud.nasa.gov/lp-prod-protected/HLSL30.020/HLS.L30.T15RYN.2023188T163146.v2.0/HLS.L30.T15RYN.2023188T163146.v2.0.VAA.tif>],\n",
              " [<File-like object HTTPFileSystem, https://data.lpdaac.earthdatacloud.nasa.gov/lp-prod-protected/HLSL30.020/HLS.L30.T15RYN.2023196T163142.v2.0/HLS.L30.T15RYN.2023196T163142.v2.0.Fmask.tif>,\n",
              "  <File-like object HTTPFileSystem, https://data.lpdaac.earthdatacloud.nasa.gov/lp-prod-protected/HLSL30.020/HLS.L30.T15RYN.2023196T163142.v2.0/HLS.L30.T15RYN.2023196T163142.v2.0.B05.tif>,\n",
              "  <File-like object HTTPFileSystem, https://data.lpdaac.earthdatacloud.nasa.gov/lp-prod-protected/HLSL30.020/HLS.L30.T15RYN.2023196T163142.v2.0/HLS.L30.T15RYN.2023196T163142.v2.0.B09.tif>,\n",
              "  <File-like object HTTPFileSystem, https://data.lpdaac.earthdatacloud.nasa.gov/lp-prod-protected/HLSL30.020/HLS.L30.T15RYN.2023196T163142.v2.0/HLS.L30.T15RYN.2023196T163142.v2.0.VZA.tif>,\n",
              "  <File-like object HTTPFileSystem, https://data.lpdaac.earthdatacloud.nasa.gov/lp-prod-protected/HLSL30.020/HLS.L30.T15RYN.2023196T163142.v2.0/HLS.L30.T15RYN.2023196T163142.v2.0.B01.tif>,\n",
              "  <File-like object HTTPFileSystem, https://data.lpdaac.earthdatacloud.nasa.gov/lp-prod-protected/HLSL30.020/HLS.L30.T15RYN.2023196T163142.v2.0/HLS.L30.T15RYN.2023196T163142.v2.0.SAA.tif>,\n",
              "  <File-like object HTTPFileSystem, https://data.lpdaac.earthdatacloud.nasa.gov/lp-prod-protected/HLSL30.020/HLS.L30.T15RYN.2023196T163142.v2.0/HLS.L30.T15RYN.2023196T163142.v2.0.B06.tif>,\n",
              "  <File-like object HTTPFileSystem, https://data.lpdaac.earthdatacloud.nasa.gov/lp-prod-protected/HLSL30.020/HLS.L30.T15RYN.2023196T163142.v2.0/HLS.L30.T15RYN.2023196T163142.v2.0.B11.tif>,\n",
              "  <File-like object HTTPFileSystem, https://data.lpdaac.earthdatacloud.nasa.gov/lp-prod-protected/HLSL30.020/HLS.L30.T15RYN.2023196T163142.v2.0/HLS.L30.T15RYN.2023196T163142.v2.0.VAA.tif>,\n",
              "  <File-like object HTTPFileSystem, https://data.lpdaac.earthdatacloud.nasa.gov/lp-prod-protected/HLSL30.020/HLS.L30.T15RYN.2023196T163142.v2.0/HLS.L30.T15RYN.2023196T163142.v2.0.B07.tif>,\n",
              "  <File-like object HTTPFileSystem, https://data.lpdaac.earthdatacloud.nasa.gov/lp-prod-protected/HLSL30.020/HLS.L30.T15RYN.2023196T163142.v2.0/HLS.L30.T15RYN.2023196T163142.v2.0.B03.tif>,\n",
              "  <File-like object HTTPFileSystem, https://data.lpdaac.earthdatacloud.nasa.gov/lp-prod-protected/HLSL30.020/HLS.L30.T15RYN.2023196T163142.v2.0/HLS.L30.T15RYN.2023196T163142.v2.0.SZA.tif>,\n",
              "  <File-like object HTTPFileSystem, https://data.lpdaac.earthdatacloud.nasa.gov/lp-prod-protected/HLSL30.020/HLS.L30.T15RYN.2023196T163142.v2.0/HLS.L30.T15RYN.2023196T163142.v2.0.B04.tif>,\n",
              "  <File-like object HTTPFileSystem, https://data.lpdaac.earthdatacloud.nasa.gov/lp-prod-protected/HLSL30.020/HLS.L30.T15RYN.2023196T163142.v2.0/HLS.L30.T15RYN.2023196T163142.v2.0.B10.tif>,\n",
              "  <File-like object HTTPFileSystem, https://data.lpdaac.earthdatacloud.nasa.gov/lp-prod-protected/HLSL30.020/HLS.L30.T15RYN.2023196T163142.v2.0/HLS.L30.T15RYN.2023196T163142.v2.0.B02.tif>],\n",
              " [<File-like object HTTPFileSystem, https://data.lpdaac.earthdatacloud.nasa.gov/lp-prod-protected/HLSL30.020/HLS.L30.T16RBU.2023196T163142.v2.0/HLS.L30.T16RBU.2023196T163142.v2.0.B04.tif>,\n",
              "  <File-like object HTTPFileSystem, https://data.lpdaac.earthdatacloud.nasa.gov/lp-prod-protected/HLSL30.020/HLS.L30.T16RBU.2023196T163142.v2.0/HLS.L30.T16RBU.2023196T163142.v2.0.B05.tif>,\n",
              "  <File-like object HTTPFileSystem, https://data.lpdaac.earthdatacloud.nasa.gov/lp-prod-protected/HLSL30.020/HLS.L30.T16RBU.2023196T163142.v2.0/HLS.L30.T16RBU.2023196T163142.v2.0.B10.tif>,\n",
              "  <File-like object HTTPFileSystem, https://data.lpdaac.earthdatacloud.nasa.gov/lp-prod-protected/HLSL30.020/HLS.L30.T16RBU.2023196T163142.v2.0/HLS.L30.T16RBU.2023196T163142.v2.0.B07.tif>,\n",
              "  <File-like object HTTPFileSystem, https://data.lpdaac.earthdatacloud.nasa.gov/lp-prod-protected/HLSL30.020/HLS.L30.T16RBU.2023196T163142.v2.0/HLS.L30.T16RBU.2023196T163142.v2.0.B02.tif>,\n",
              "  <File-like object HTTPFileSystem, https://data.lpdaac.earthdatacloud.nasa.gov/lp-prod-protected/HLSL30.020/HLS.L30.T16RBU.2023196T163142.v2.0/HLS.L30.T16RBU.2023196T163142.v2.0.Fmask.tif>,\n",
              "  <File-like object HTTPFileSystem, https://data.lpdaac.earthdatacloud.nasa.gov/lp-prod-protected/HLSL30.020/HLS.L30.T16RBU.2023196T163142.v2.0/HLS.L30.T16RBU.2023196T163142.v2.0.VAA.tif>,\n",
              "  <File-like object HTTPFileSystem, https://data.lpdaac.earthdatacloud.nasa.gov/lp-prod-protected/HLSL30.020/HLS.L30.T16RBU.2023196T163142.v2.0/HLS.L30.T16RBU.2023196T163142.v2.0.B01.tif>,\n",
              "  <File-like object HTTPFileSystem, https://data.lpdaac.earthdatacloud.nasa.gov/lp-prod-protected/HLSL30.020/HLS.L30.T16RBU.2023196T163142.v2.0/HLS.L30.T16RBU.2023196T163142.v2.0.SZA.tif>,\n",
              "  <File-like object HTTPFileSystem, https://data.lpdaac.earthdatacloud.nasa.gov/lp-prod-protected/HLSL30.020/HLS.L30.T16RBU.2023196T163142.v2.0/HLS.L30.T16RBU.2023196T163142.v2.0.B06.tif>,\n",
              "  <File-like object HTTPFileSystem, https://data.lpdaac.earthdatacloud.nasa.gov/lp-prod-protected/HLSL30.020/HLS.L30.T16RBU.2023196T163142.v2.0/HLS.L30.T16RBU.2023196T163142.v2.0.B09.tif>,\n",
              "  <File-like object HTTPFileSystem, https://data.lpdaac.earthdatacloud.nasa.gov/lp-prod-protected/HLSL30.020/HLS.L30.T16RBU.2023196T163142.v2.0/HLS.L30.T16RBU.2023196T163142.v2.0.B11.tif>,\n",
              "  <File-like object HTTPFileSystem, https://data.lpdaac.earthdatacloud.nasa.gov/lp-prod-protected/HLSL30.020/HLS.L30.T16RBU.2023196T163142.v2.0/HLS.L30.T16RBU.2023196T163142.v2.0.B03.tif>,\n",
              "  <File-like object HTTPFileSystem, https://data.lpdaac.earthdatacloud.nasa.gov/lp-prod-protected/HLSL30.020/HLS.L30.T16RBU.2023196T163142.v2.0/HLS.L30.T16RBU.2023196T163142.v2.0.VZA.tif>,\n",
              "  <File-like object HTTPFileSystem, https://data.lpdaac.earthdatacloud.nasa.gov/lp-prod-protected/HLSL30.020/HLS.L30.T16RBU.2023196T163142.v2.0/HLS.L30.T16RBU.2023196T163142.v2.0.SAA.tif>],\n",
              " [<File-like object HTTPFileSystem, https://data.lpdaac.earthdatacloud.nasa.gov/lp-prod-protected/HLSL30.020/HLS.L30.T15RYP.2023196T163142.v2.0/HLS.L30.T15RYP.2023196T163142.v2.0.B07.tif>,\n",
              "  <File-like object HTTPFileSystem, https://data.lpdaac.earthdatacloud.nasa.gov/lp-prod-protected/HLSL30.020/HLS.L30.T15RYP.2023196T163142.v2.0/HLS.L30.T15RYP.2023196T163142.v2.0.Fmask.tif>,\n",
              "  <File-like object HTTPFileSystem, https://data.lpdaac.earthdatacloud.nasa.gov/lp-prod-protected/HLSL30.020/HLS.L30.T15RYP.2023196T163142.v2.0/HLS.L30.T15RYP.2023196T163142.v2.0.SZA.tif>,\n",
              "  <File-like object HTTPFileSystem, https://data.lpdaac.earthdatacloud.nasa.gov/lp-prod-protected/HLSL30.020/HLS.L30.T15RYP.2023196T163142.v2.0/HLS.L30.T15RYP.2023196T163142.v2.0.B05.tif>,\n",
              "  <File-like object HTTPFileSystem, https://data.lpdaac.earthdatacloud.nasa.gov/lp-prod-protected/HLSL30.020/HLS.L30.T15RYP.2023196T163142.v2.0/HLS.L30.T15RYP.2023196T163142.v2.0.B01.tif>,\n",
              "  <File-like object HTTPFileSystem, https://data.lpdaac.earthdatacloud.nasa.gov/lp-prod-protected/HLSL30.020/HLS.L30.T15RYP.2023196T163142.v2.0/HLS.L30.T15RYP.2023196T163142.v2.0.B04.tif>,\n",
              "  <File-like object HTTPFileSystem, https://data.lpdaac.earthdatacloud.nasa.gov/lp-prod-protected/HLSL30.020/HLS.L30.T15RYP.2023196T163142.v2.0/HLS.L30.T15RYP.2023196T163142.v2.0.B09.tif>,\n",
              "  <File-like object HTTPFileSystem, https://data.lpdaac.earthdatacloud.nasa.gov/lp-prod-protected/HLSL30.020/HLS.L30.T15RYP.2023196T163142.v2.0/HLS.L30.T15RYP.2023196T163142.v2.0.SAA.tif>,\n",
              "  <File-like object HTTPFileSystem, https://data.lpdaac.earthdatacloud.nasa.gov/lp-prod-protected/HLSL30.020/HLS.L30.T15RYP.2023196T163142.v2.0/HLS.L30.T15RYP.2023196T163142.v2.0.B10.tif>,\n",
              "  <File-like object HTTPFileSystem, https://data.lpdaac.earthdatacloud.nasa.gov/lp-prod-protected/HLSL30.020/HLS.L30.T15RYP.2023196T163142.v2.0/HLS.L30.T15RYP.2023196T163142.v2.0.B02.tif>,\n",
              "  <File-like object HTTPFileSystem, https://data.lpdaac.earthdatacloud.nasa.gov/lp-prod-protected/HLSL30.020/HLS.L30.T15RYP.2023196T163142.v2.0/HLS.L30.T15RYP.2023196T163142.v2.0.VZA.tif>,\n",
              "  <File-like object HTTPFileSystem, https://data.lpdaac.earthdatacloud.nasa.gov/lp-prod-protected/HLSL30.020/HLS.L30.T15RYP.2023196T163142.v2.0/HLS.L30.T15RYP.2023196T163142.v2.0.B03.tif>,\n",
              "  <File-like object HTTPFileSystem, https://data.lpdaac.earthdatacloud.nasa.gov/lp-prod-protected/HLSL30.020/HLS.L30.T15RYP.2023196T163142.v2.0/HLS.L30.T15RYP.2023196T163142.v2.0.B11.tif>,\n",
              "  <File-like object HTTPFileSystem, https://data.lpdaac.earthdatacloud.nasa.gov/lp-prod-protected/HLSL30.020/HLS.L30.T15RYP.2023196T163142.v2.0/HLS.L30.T15RYP.2023196T163142.v2.0.B06.tif>,\n",
              "  <File-like object HTTPFileSystem, https://data.lpdaac.earthdatacloud.nasa.gov/lp-prod-protected/HLSL30.020/HLS.L30.T15RYP.2023196T163142.v2.0/HLS.L30.T15RYP.2023196T163142.v2.0.VAA.tif>],\n",
              " [<File-like object HTTPFileSystem, https://data.lpdaac.earthdatacloud.nasa.gov/lp-prod-protected/HLSL30.020/HLS.L30.T16RBT.2023196T163142.v2.0/HLS.L30.T16RBT.2023196T163142.v2.0.SZA.tif>,\n",
              "  <File-like object HTTPFileSystem, https://data.lpdaac.earthdatacloud.nasa.gov/lp-prod-protected/HLSL30.020/HLS.L30.T16RBT.2023196T163142.v2.0/HLS.L30.T16RBT.2023196T163142.v2.0.B06.tif>,\n",
              "  <File-like object HTTPFileSystem, https://data.lpdaac.earthdatacloud.nasa.gov/lp-prod-protected/HLSL30.020/HLS.L30.T16RBT.2023196T163142.v2.0/HLS.L30.T16RBT.2023196T163142.v2.0.B07.tif>,\n",
              "  <File-like object HTTPFileSystem, https://data.lpdaac.earthdatacloud.nasa.gov/lp-prod-protected/HLSL30.020/HLS.L30.T16RBT.2023196T163142.v2.0/HLS.L30.T16RBT.2023196T163142.v2.0.B10.tif>,\n",
              "  <File-like object HTTPFileSystem, https://data.lpdaac.earthdatacloud.nasa.gov/lp-prod-protected/HLSL30.020/HLS.L30.T16RBT.2023196T163142.v2.0/HLS.L30.T16RBT.2023196T163142.v2.0.Fmask.tif>,\n",
              "  <File-like object HTTPFileSystem, https://data.lpdaac.earthdatacloud.nasa.gov/lp-prod-protected/HLSL30.020/HLS.L30.T16RBT.2023196T163142.v2.0/HLS.L30.T16RBT.2023196T163142.v2.0.B02.tif>,\n",
              "  <File-like object HTTPFileSystem, https://data.lpdaac.earthdatacloud.nasa.gov/lp-prod-protected/HLSL30.020/HLS.L30.T16RBT.2023196T163142.v2.0/HLS.L30.T16RBT.2023196T163142.v2.0.SAA.tif>,\n",
              "  <File-like object HTTPFileSystem, https://data.lpdaac.earthdatacloud.nasa.gov/lp-prod-protected/HLSL30.020/HLS.L30.T16RBT.2023196T163142.v2.0/HLS.L30.T16RBT.2023196T163142.v2.0.B09.tif>,\n",
              "  <File-like object HTTPFileSystem, https://data.lpdaac.earthdatacloud.nasa.gov/lp-prod-protected/HLSL30.020/HLS.L30.T16RBT.2023196T163142.v2.0/HLS.L30.T16RBT.2023196T163142.v2.0.B11.tif>,\n",
              "  <File-like object HTTPFileSystem, https://data.lpdaac.earthdatacloud.nasa.gov/lp-prod-protected/HLSL30.020/HLS.L30.T16RBT.2023196T163142.v2.0/HLS.L30.T16RBT.2023196T163142.v2.0.B04.tif>,\n",
              "  <File-like object HTTPFileSystem, https://data.lpdaac.earthdatacloud.nasa.gov/lp-prod-protected/HLSL30.020/HLS.L30.T16RBT.2023196T163142.v2.0/HLS.L30.T16RBT.2023196T163142.v2.0.VZA.tif>,\n",
              "  <File-like object HTTPFileSystem, https://data.lpdaac.earthdatacloud.nasa.gov/lp-prod-protected/HLSL30.020/HLS.L30.T16RBT.2023196T163142.v2.0/HLS.L30.T16RBT.2023196T163142.v2.0.B05.tif>,\n",
              "  <File-like object HTTPFileSystem, https://data.lpdaac.earthdatacloud.nasa.gov/lp-prod-protected/HLSL30.020/HLS.L30.T16RBT.2023196T163142.v2.0/HLS.L30.T16RBT.2023196T163142.v2.0.B01.tif>,\n",
              "  <File-like object HTTPFileSystem, https://data.lpdaac.earthdatacloud.nasa.gov/lp-prod-protected/HLSL30.020/HLS.L30.T16RBT.2023196T163142.v2.0/HLS.L30.T16RBT.2023196T163142.v2.0.VAA.tif>,\n",
              "  <File-like object HTTPFileSystem, https://data.lpdaac.earthdatacloud.nasa.gov/lp-prod-protected/HLSL30.020/HLS.L30.T16RBT.2023196T163142.v2.0/HLS.L30.T16RBT.2023196T163142.v2.0.B03.tif>],\n",
              " [<File-like object HTTPFileSystem, https://data.lpdaac.earthdatacloud.nasa.gov/lp-prod-protected/HLSL30.020/HLS.L30.T15RYP.2023204T163150.v2.0/HLS.L30.T15RYP.2023204T163150.v2.0.SZA.tif>,\n",
              "  <File-like object HTTPFileSystem, https://data.lpdaac.earthdatacloud.nasa.gov/lp-prod-protected/HLSL30.020/HLS.L30.T15RYP.2023204T163150.v2.0/HLS.L30.T15RYP.2023204T163150.v2.0.Fmask.tif>,\n",
              "  <File-like object HTTPFileSystem, https://data.lpdaac.earthdatacloud.nasa.gov/lp-prod-protected/HLSL30.020/HLS.L30.T15RYP.2023204T163150.v2.0/HLS.L30.T15RYP.2023204T163150.v2.0.B11.tif>,\n",
              "  <File-like object HTTPFileSystem, https://data.lpdaac.earthdatacloud.nasa.gov/lp-prod-protected/HLSL30.020/HLS.L30.T15RYP.2023204T163150.v2.0/HLS.L30.T15RYP.2023204T163150.v2.0.B01.tif>,\n",
              "  <File-like object HTTPFileSystem, https://data.lpdaac.earthdatacloud.nasa.gov/lp-prod-protected/HLSL30.020/HLS.L30.T15RYP.2023204T163150.v2.0/HLS.L30.T15RYP.2023204T163150.v2.0.B10.tif>,\n",
              "  <File-like object HTTPFileSystem, https://data.lpdaac.earthdatacloud.nasa.gov/lp-prod-protected/HLSL30.020/HLS.L30.T15RYP.2023204T163150.v2.0/HLS.L30.T15RYP.2023204T163150.v2.0.VZA.tif>,\n",
              "  <File-like object HTTPFileSystem, https://data.lpdaac.earthdatacloud.nasa.gov/lp-prod-protected/HLSL30.020/HLS.L30.T15RYP.2023204T163150.v2.0/HLS.L30.T15RYP.2023204T163150.v2.0.B09.tif>,\n",
              "  <File-like object HTTPFileSystem, https://data.lpdaac.earthdatacloud.nasa.gov/lp-prod-protected/HLSL30.020/HLS.L30.T15RYP.2023204T163150.v2.0/HLS.L30.T15RYP.2023204T163150.v2.0.B04.tif>,\n",
              "  <File-like object HTTPFileSystem, https://data.lpdaac.earthdatacloud.nasa.gov/lp-prod-protected/HLSL30.020/HLS.L30.T15RYP.2023204T163150.v2.0/HLS.L30.T15RYP.2023204T163150.v2.0.SAA.tif>,\n",
              "  <File-like object HTTPFileSystem, https://data.lpdaac.earthdatacloud.nasa.gov/lp-prod-protected/HLSL30.020/HLS.L30.T15RYP.2023204T163150.v2.0/HLS.L30.T15RYP.2023204T163150.v2.0.B03.tif>,\n",
              "  <File-like object HTTPFileSystem, https://data.lpdaac.earthdatacloud.nasa.gov/lp-prod-protected/HLSL30.020/HLS.L30.T15RYP.2023204T163150.v2.0/HLS.L30.T15RYP.2023204T163150.v2.0.VAA.tif>,\n",
              "  <File-like object HTTPFileSystem, https://data.lpdaac.earthdatacloud.nasa.gov/lp-prod-protected/HLSL30.020/HLS.L30.T15RYP.2023204T163150.v2.0/HLS.L30.T15RYP.2023204T163150.v2.0.B02.tif>,\n",
              "  <File-like object HTTPFileSystem, https://data.lpdaac.earthdatacloud.nasa.gov/lp-prod-protected/HLSL30.020/HLS.L30.T15RYP.2023204T163150.v2.0/HLS.L30.T15RYP.2023204T163150.v2.0.B05.tif>,\n",
              "  <File-like object HTTPFileSystem, https://data.lpdaac.earthdatacloud.nasa.gov/lp-prod-protected/HLSL30.020/HLS.L30.T15RYP.2023204T163150.v2.0/HLS.L30.T15RYP.2023204T163150.v2.0.B06.tif>,\n",
              "  <File-like object HTTPFileSystem, https://data.lpdaac.earthdatacloud.nasa.gov/lp-prod-protected/HLSL30.020/HLS.L30.T15RYP.2023204T163150.v2.0/HLS.L30.T15RYP.2023204T163150.v2.0.B07.tif>],\n",
              " [<File-like object HTTPFileSystem, https://data.lpdaac.earthdatacloud.nasa.gov/lp-prod-protected/HLSL30.020/HLS.L30.T16RBU.2023204T163150.v2.0/HLS.L30.T16RBU.2023204T163150.v2.0.B01.tif>,\n",
              "  <File-like object HTTPFileSystem, https://data.lpdaac.earthdatacloud.nasa.gov/lp-prod-protected/HLSL30.020/HLS.L30.T16RBU.2023204T163150.v2.0/HLS.L30.T16RBU.2023204T163150.v2.0.B06.tif>,\n",
              "  <File-like object HTTPFileSystem, https://data.lpdaac.earthdatacloud.nasa.gov/lp-prod-protected/HLSL30.020/HLS.L30.T16RBU.2023204T163150.v2.0/HLS.L30.T16RBU.2023204T163150.v2.0.B07.tif>,\n",
              "  <File-like object HTTPFileSystem, https://data.lpdaac.earthdatacloud.nasa.gov/lp-prod-protected/HLSL30.020/HLS.L30.T16RBU.2023204T163150.v2.0/HLS.L30.T16RBU.2023204T163150.v2.0.B02.tif>,\n",
              "  <File-like object HTTPFileSystem, https://data.lpdaac.earthdatacloud.nasa.gov/lp-prod-protected/HLSL30.020/HLS.L30.T16RBU.2023204T163150.v2.0/HLS.L30.T16RBU.2023204T163150.v2.0.B03.tif>,\n",
              "  <File-like object HTTPFileSystem, https://data.lpdaac.earthdatacloud.nasa.gov/lp-prod-protected/HLSL30.020/HLS.L30.T16RBU.2023204T163150.v2.0/HLS.L30.T16RBU.2023204T163150.v2.0.VZA.tif>,\n",
              "  <File-like object HTTPFileSystem, https://data.lpdaac.earthdatacloud.nasa.gov/lp-prod-protected/HLSL30.020/HLS.L30.T16RBU.2023204T163150.v2.0/HLS.L30.T16RBU.2023204T163150.v2.0.B09.tif>,\n",
              "  <File-like object HTTPFileSystem, https://data.lpdaac.earthdatacloud.nasa.gov/lp-prod-protected/HLSL30.020/HLS.L30.T16RBU.2023204T163150.v2.0/HLS.L30.T16RBU.2023204T163150.v2.0.SAA.tif>,\n",
              "  <File-like object HTTPFileSystem, https://data.lpdaac.earthdatacloud.nasa.gov/lp-prod-protected/HLSL30.020/HLS.L30.T16RBU.2023204T163150.v2.0/HLS.L30.T16RBU.2023204T163150.v2.0.Fmask.tif>,\n",
              "  <File-like object HTTPFileSystem, https://data.lpdaac.earthdatacloud.nasa.gov/lp-prod-protected/HLSL30.020/HLS.L30.T16RBU.2023204T163150.v2.0/HLS.L30.T16RBU.2023204T163150.v2.0.B04.tif>,\n",
              "  <File-like object HTTPFileSystem, https://data.lpdaac.earthdatacloud.nasa.gov/lp-prod-protected/HLSL30.020/HLS.L30.T16RBU.2023204T163150.v2.0/HLS.L30.T16RBU.2023204T163150.v2.0.B11.tif>,\n",
              "  <File-like object HTTPFileSystem, https://data.lpdaac.earthdatacloud.nasa.gov/lp-prod-protected/HLSL30.020/HLS.L30.T16RBU.2023204T163150.v2.0/HLS.L30.T16RBU.2023204T163150.v2.0.B05.tif>,\n",
              "  <File-like object HTTPFileSystem, https://data.lpdaac.earthdatacloud.nasa.gov/lp-prod-protected/HLSL30.020/HLS.L30.T16RBU.2023204T163150.v2.0/HLS.L30.T16RBU.2023204T163150.v2.0.SZA.tif>,\n",
              "  <File-like object HTTPFileSystem, https://data.lpdaac.earthdatacloud.nasa.gov/lp-prod-protected/HLSL30.020/HLS.L30.T16RBU.2023204T163150.v2.0/HLS.L30.T16RBU.2023204T163150.v2.0.VAA.tif>,\n",
              "  <File-like object HTTPFileSystem, https://data.lpdaac.earthdatacloud.nasa.gov/lp-prod-protected/HLSL30.020/HLS.L30.T16RBU.2023204T163150.v2.0/HLS.L30.T16RBU.2023204T163150.v2.0.B10.tif>],\n",
              " [<File-like object HTTPFileSystem, https://data.lpdaac.earthdatacloud.nasa.gov/lp-prod-protected/HLSL30.020/HLS.L30.T15RYN.2023204T163150.v2.0/HLS.L30.T15RYN.2023204T163150.v2.0.Fmask.tif>,\n",
              "  <File-like object HTTPFileSystem, https://data.lpdaac.earthdatacloud.nasa.gov/lp-prod-protected/HLSL30.020/HLS.L30.T15RYN.2023204T163150.v2.0/HLS.L30.T15RYN.2023204T163150.v2.0.B03.tif>,\n",
              "  <File-like object HTTPFileSystem, https://data.lpdaac.earthdatacloud.nasa.gov/lp-prod-protected/HLSL30.020/HLS.L30.T15RYN.2023204T163150.v2.0/HLS.L30.T15RYN.2023204T163150.v2.0.B10.tif>,\n",
              "  <File-like object HTTPFileSystem, https://data.lpdaac.earthdatacloud.nasa.gov/lp-prod-protected/HLSL30.020/HLS.L30.T15RYN.2023204T163150.v2.0/HLS.L30.T15RYN.2023204T163150.v2.0.B04.tif>,\n",
              "  <File-like object HTTPFileSystem, https://data.lpdaac.earthdatacloud.nasa.gov/lp-prod-protected/HLSL30.020/HLS.L30.T15RYN.2023204T163150.v2.0/HLS.L30.T15RYN.2023204T163150.v2.0.SAA.tif>,\n",
              "  <File-like object HTTPFileSystem, https://data.lpdaac.earthdatacloud.nasa.gov/lp-prod-protected/HLSL30.020/HLS.L30.T15RYN.2023204T163150.v2.0/HLS.L30.T15RYN.2023204T163150.v2.0.SZA.tif>,\n",
              "  <File-like object HTTPFileSystem, https://data.lpdaac.earthdatacloud.nasa.gov/lp-prod-protected/HLSL30.020/HLS.L30.T15RYN.2023204T163150.v2.0/HLS.L30.T15RYN.2023204T163150.v2.0.VAA.tif>,\n",
              "  <File-like object HTTPFileSystem, https://data.lpdaac.earthdatacloud.nasa.gov/lp-prod-protected/HLSL30.020/HLS.L30.T15RYN.2023204T163150.v2.0/HLS.L30.T15RYN.2023204T163150.v2.0.B07.tif>,\n",
              "  <File-like object HTTPFileSystem, https://data.lpdaac.earthdatacloud.nasa.gov/lp-prod-protected/HLSL30.020/HLS.L30.T15RYN.2023204T163150.v2.0/HLS.L30.T15RYN.2023204T163150.v2.0.B09.tif>,\n",
              "  <File-like object HTTPFileSystem, https://data.lpdaac.earthdatacloud.nasa.gov/lp-prod-protected/HLSL30.020/HLS.L30.T15RYN.2023204T163150.v2.0/HLS.L30.T15RYN.2023204T163150.v2.0.B06.tif>,\n",
              "  <File-like object HTTPFileSystem, https://data.lpdaac.earthdatacloud.nasa.gov/lp-prod-protected/HLSL30.020/HLS.L30.T15RYN.2023204T163150.v2.0/HLS.L30.T15RYN.2023204T163150.v2.0.VZA.tif>,\n",
              "  <File-like object HTTPFileSystem, https://data.lpdaac.earthdatacloud.nasa.gov/lp-prod-protected/HLSL30.020/HLS.L30.T15RYN.2023204T163150.v2.0/HLS.L30.T15RYN.2023204T163150.v2.0.B02.tif>,\n",
              "  <File-like object HTTPFileSystem, https://data.lpdaac.earthdatacloud.nasa.gov/lp-prod-protected/HLSL30.020/HLS.L30.T15RYN.2023204T163150.v2.0/HLS.L30.T15RYN.2023204T163150.v2.0.B11.tif>,\n",
              "  <File-like object HTTPFileSystem, https://data.lpdaac.earthdatacloud.nasa.gov/lp-prod-protected/HLSL30.020/HLS.L30.T15RYN.2023204T163150.v2.0/HLS.L30.T15RYN.2023204T163150.v2.0.B05.tif>,\n",
              "  <File-like object HTTPFileSystem, https://data.lpdaac.earthdatacloud.nasa.gov/lp-prod-protected/HLSL30.020/HLS.L30.T15RYN.2023204T163150.v2.0/HLS.L30.T15RYN.2023204T163150.v2.0.B01.tif>],\n",
              " [<File-like object HTTPFileSystem, https://data.lpdaac.earthdatacloud.nasa.gov/lp-prod-protected/HLSL30.020/HLS.L30.T16RBT.2023204T163150.v2.0/HLS.L30.T16RBT.2023204T163150.v2.0.B11.tif>,\n",
              "  <File-like object HTTPFileSystem, https://data.lpdaac.earthdatacloud.nasa.gov/lp-prod-protected/HLSL30.020/HLS.L30.T16RBT.2023204T163150.v2.0/HLS.L30.T16RBT.2023204T163150.v2.0.B03.tif>,\n",
              "  <File-like object HTTPFileSystem, https://data.lpdaac.earthdatacloud.nasa.gov/lp-prod-protected/HLSL30.020/HLS.L30.T16RBT.2023204T163150.v2.0/HLS.L30.T16RBT.2023204T163150.v2.0.B06.tif>,\n",
              "  <File-like object HTTPFileSystem, https://data.lpdaac.earthdatacloud.nasa.gov/lp-prod-protected/HLSL30.020/HLS.L30.T16RBT.2023204T163150.v2.0/HLS.L30.T16RBT.2023204T163150.v2.0.SZA.tif>,\n",
              "  <File-like object HTTPFileSystem, https://data.lpdaac.earthdatacloud.nasa.gov/lp-prod-protected/HLSL30.020/HLS.L30.T16RBT.2023204T163150.v2.0/HLS.L30.T16RBT.2023204T163150.v2.0.SAA.tif>,\n",
              "  <File-like object HTTPFileSystem, https://data.lpdaac.earthdatacloud.nasa.gov/lp-prod-protected/HLSL30.020/HLS.L30.T16RBT.2023204T163150.v2.0/HLS.L30.T16RBT.2023204T163150.v2.0.B09.tif>,\n",
              "  <File-like object HTTPFileSystem, https://data.lpdaac.earthdatacloud.nasa.gov/lp-prod-protected/HLSL30.020/HLS.L30.T16RBT.2023204T163150.v2.0/HLS.L30.T16RBT.2023204T163150.v2.0.VZA.tif>,\n",
              "  <File-like object HTTPFileSystem, https://data.lpdaac.earthdatacloud.nasa.gov/lp-prod-protected/HLSL30.020/HLS.L30.T16RBT.2023204T163150.v2.0/HLS.L30.T16RBT.2023204T163150.v2.0.B10.tif>,\n",
              "  <File-like object HTTPFileSystem, https://data.lpdaac.earthdatacloud.nasa.gov/lp-prod-protected/HLSL30.020/HLS.L30.T16RBT.2023204T163150.v2.0/HLS.L30.T16RBT.2023204T163150.v2.0.B04.tif>,\n",
              "  <File-like object HTTPFileSystem, https://data.lpdaac.earthdatacloud.nasa.gov/lp-prod-protected/HLSL30.020/HLS.L30.T16RBT.2023204T163150.v2.0/HLS.L30.T16RBT.2023204T163150.v2.0.VAA.tif>,\n",
              "  <File-like object HTTPFileSystem, https://data.lpdaac.earthdatacloud.nasa.gov/lp-prod-protected/HLSL30.020/HLS.L30.T16RBT.2023204T163150.v2.0/HLS.L30.T16RBT.2023204T163150.v2.0.B07.tif>,\n",
              "  <File-like object HTTPFileSystem, https://data.lpdaac.earthdatacloud.nasa.gov/lp-prod-protected/HLSL30.020/HLS.L30.T16RBT.2023204T163150.v2.0/HLS.L30.T16RBT.2023204T163150.v2.0.B05.tif>,\n",
              "  <File-like object HTTPFileSystem, https://data.lpdaac.earthdatacloud.nasa.gov/lp-prod-protected/HLSL30.020/HLS.L30.T16RBT.2023204T163150.v2.0/HLS.L30.T16RBT.2023204T163150.v2.0.B02.tif>,\n",
              "  <File-like object HTTPFileSystem, https://data.lpdaac.earthdatacloud.nasa.gov/lp-prod-protected/HLSL30.020/HLS.L30.T16RBT.2023204T163150.v2.0/HLS.L30.T16RBT.2023204T163150.v2.0.B01.tif>,\n",
              "  <File-like object HTTPFileSystem, https://data.lpdaac.earthdatacloud.nasa.gov/lp-prod-protected/HLSL30.020/HLS.L30.T16RBT.2023204T163150.v2.0/HLS.L30.T16RBT.2023204T163150.v2.0.Fmask.tif>],\n",
              " [<File-like object HTTPFileSystem, https://data.lpdaac.earthdatacloud.nasa.gov/lp-prod-protected/HLSL30.020/HLS.L30.T16RBU.2023212T163147.v2.0/HLS.L30.T16RBU.2023212T163147.v2.0.VAA.tif>,\n",
              "  <File-like object HTTPFileSystem, https://data.lpdaac.earthdatacloud.nasa.gov/lp-prod-protected/HLSL30.020/HLS.L30.T16RBU.2023212T163147.v2.0/HLS.L30.T16RBU.2023212T163147.v2.0.B02.tif>,\n",
              "  <File-like object HTTPFileSystem, https://data.lpdaac.earthdatacloud.nasa.gov/lp-prod-protected/HLSL30.020/HLS.L30.T16RBU.2023212T163147.v2.0/HLS.L30.T16RBU.2023212T163147.v2.0.B05.tif>,\n",
              "  <File-like object HTTPFileSystem, https://data.lpdaac.earthdatacloud.nasa.gov/lp-prod-protected/HLSL30.020/HLS.L30.T16RBU.2023212T163147.v2.0/HLS.L30.T16RBU.2023212T163147.v2.0.VZA.tif>,\n",
              "  <File-like object HTTPFileSystem, https://data.lpdaac.earthdatacloud.nasa.gov/lp-prod-protected/HLSL30.020/HLS.L30.T16RBU.2023212T163147.v2.0/HLS.L30.T16RBU.2023212T163147.v2.0.Fmask.tif>,\n",
              "  <File-like object HTTPFileSystem, https://data.lpdaac.earthdatacloud.nasa.gov/lp-prod-protected/HLSL30.020/HLS.L30.T16RBU.2023212T163147.v2.0/HLS.L30.T16RBU.2023212T163147.v2.0.B11.tif>,\n",
              "  <File-like object HTTPFileSystem, https://data.lpdaac.earthdatacloud.nasa.gov/lp-prod-protected/HLSL30.020/HLS.L30.T16RBU.2023212T163147.v2.0/HLS.L30.T16RBU.2023212T163147.v2.0.B06.tif>,\n",
              "  <File-like object HTTPFileSystem, https://data.lpdaac.earthdatacloud.nasa.gov/lp-prod-protected/HLSL30.020/HLS.L30.T16RBU.2023212T163147.v2.0/HLS.L30.T16RBU.2023212T163147.v2.0.B01.tif>,\n",
              "  <File-like object HTTPFileSystem, https://data.lpdaac.earthdatacloud.nasa.gov/lp-prod-protected/HLSL30.020/HLS.L30.T16RBU.2023212T163147.v2.0/HLS.L30.T16RBU.2023212T163147.v2.0.B04.tif>,\n",
              "  <File-like object HTTPFileSystem, https://data.lpdaac.earthdatacloud.nasa.gov/lp-prod-protected/HLSL30.020/HLS.L30.T16RBU.2023212T163147.v2.0/HLS.L30.T16RBU.2023212T163147.v2.0.B07.tif>,\n",
              "  <File-like object HTTPFileSystem, https://data.lpdaac.earthdatacloud.nasa.gov/lp-prod-protected/HLSL30.020/HLS.L30.T16RBU.2023212T163147.v2.0/HLS.L30.T16RBU.2023212T163147.v2.0.B10.tif>,\n",
              "  <File-like object HTTPFileSystem, https://data.lpdaac.earthdatacloud.nasa.gov/lp-prod-protected/HLSL30.020/HLS.L30.T16RBU.2023212T163147.v2.0/HLS.L30.T16RBU.2023212T163147.v2.0.B03.tif>,\n",
              "  <File-like object HTTPFileSystem, https://data.lpdaac.earthdatacloud.nasa.gov/lp-prod-protected/HLSL30.020/HLS.L30.T16RBU.2023212T163147.v2.0/HLS.L30.T16RBU.2023212T163147.v2.0.B09.tif>,\n",
              "  <File-like object HTTPFileSystem, https://data.lpdaac.earthdatacloud.nasa.gov/lp-prod-protected/HLSL30.020/HLS.L30.T16RBU.2023212T163147.v2.0/HLS.L30.T16RBU.2023212T163147.v2.0.SZA.tif>,\n",
              "  <File-like object HTTPFileSystem, https://data.lpdaac.earthdatacloud.nasa.gov/lp-prod-protected/HLSL30.020/HLS.L30.T16RBU.2023212T163147.v2.0/HLS.L30.T16RBU.2023212T163147.v2.0.SAA.tif>],\n",
              " [<File-like object HTTPFileSystem, https://data.lpdaac.earthdatacloud.nasa.gov/lp-prod-protected/HLSL30.020/HLS.L30.T16RBT.2023212T163147.v2.0/HLS.L30.T16RBT.2023212T163147.v2.0.B10.tif>,\n",
              "  <File-like object HTTPFileSystem, https://data.lpdaac.earthdatacloud.nasa.gov/lp-prod-protected/HLSL30.020/HLS.L30.T16RBT.2023212T163147.v2.0/HLS.L30.T16RBT.2023212T163147.v2.0.VAA.tif>,\n",
              "  <File-like object HTTPFileSystem, https://data.lpdaac.earthdatacloud.nasa.gov/lp-prod-protected/HLSL30.020/HLS.L30.T16RBT.2023212T163147.v2.0/HLS.L30.T16RBT.2023212T163147.v2.0.B01.tif>,\n",
              "  <File-like object HTTPFileSystem, https://data.lpdaac.earthdatacloud.nasa.gov/lp-prod-protected/HLSL30.020/HLS.L30.T16RBT.2023212T163147.v2.0/HLS.L30.T16RBT.2023212T163147.v2.0.B02.tif>,\n",
              "  <File-like object HTTPFileSystem, https://data.lpdaac.earthdatacloud.nasa.gov/lp-prod-protected/HLSL30.020/HLS.L30.T16RBT.2023212T163147.v2.0/HLS.L30.T16RBT.2023212T163147.v2.0.SZA.tif>,\n",
              "  <File-like object HTTPFileSystem, https://data.lpdaac.earthdatacloud.nasa.gov/lp-prod-protected/HLSL30.020/HLS.L30.T16RBT.2023212T163147.v2.0/HLS.L30.T16RBT.2023212T163147.v2.0.SAA.tif>,\n",
              "  <File-like object HTTPFileSystem, https://data.lpdaac.earthdatacloud.nasa.gov/lp-prod-protected/HLSL30.020/HLS.L30.T16RBT.2023212T163147.v2.0/HLS.L30.T16RBT.2023212T163147.v2.0.B09.tif>,\n",
              "  <File-like object HTTPFileSystem, https://data.lpdaac.earthdatacloud.nasa.gov/lp-prod-protected/HLSL30.020/HLS.L30.T16RBT.2023212T163147.v2.0/HLS.L30.T16RBT.2023212T163147.v2.0.B05.tif>,\n",
              "  <File-like object HTTPFileSystem, https://data.lpdaac.earthdatacloud.nasa.gov/lp-prod-protected/HLSL30.020/HLS.L30.T16RBT.2023212T163147.v2.0/HLS.L30.T16RBT.2023212T163147.v2.0.B06.tif>,\n",
              "  <File-like object HTTPFileSystem, https://data.lpdaac.earthdatacloud.nasa.gov/lp-prod-protected/HLSL30.020/HLS.L30.T16RBT.2023212T163147.v2.0/HLS.L30.T16RBT.2023212T163147.v2.0.B03.tif>,\n",
              "  <File-like object HTTPFileSystem, https://data.lpdaac.earthdatacloud.nasa.gov/lp-prod-protected/HLSL30.020/HLS.L30.T16RBT.2023212T163147.v2.0/HLS.L30.T16RBT.2023212T163147.v2.0.B04.tif>,\n",
              "  <File-like object HTTPFileSystem, https://data.lpdaac.earthdatacloud.nasa.gov/lp-prod-protected/HLSL30.020/HLS.L30.T16RBT.2023212T163147.v2.0/HLS.L30.T16RBT.2023212T163147.v2.0.VZA.tif>,\n",
              "  <File-like object HTTPFileSystem, https://data.lpdaac.earthdatacloud.nasa.gov/lp-prod-protected/HLSL30.020/HLS.L30.T16RBT.2023212T163147.v2.0/HLS.L30.T16RBT.2023212T163147.v2.0.Fmask.tif>,\n",
              "  <File-like object HTTPFileSystem, https://data.lpdaac.earthdatacloud.nasa.gov/lp-prod-protected/HLSL30.020/HLS.L30.T16RBT.2023212T163147.v2.0/HLS.L30.T16RBT.2023212T163147.v2.0.B07.tif>,\n",
              "  <File-like object HTTPFileSystem, https://data.lpdaac.earthdatacloud.nasa.gov/lp-prod-protected/HLSL30.020/HLS.L30.T16RBT.2023212T163147.v2.0/HLS.L30.T16RBT.2023212T163147.v2.0.B11.tif>],\n",
              " [<File-like object HTTPFileSystem, https://data.lpdaac.earthdatacloud.nasa.gov/lp-prod-protected/HLSL30.020/HLS.L30.T15RYN.2023212T163147.v2.0/HLS.L30.T15RYN.2023212T163147.v2.0.B03.tif>,\n",
              "  <File-like object HTTPFileSystem, https://data.lpdaac.earthdatacloud.nasa.gov/lp-prod-protected/HLSL30.020/HLS.L30.T15RYN.2023212T163147.v2.0/HLS.L30.T15RYN.2023212T163147.v2.0.SZA.tif>,\n",
              "  <File-like object HTTPFileSystem, https://data.lpdaac.earthdatacloud.nasa.gov/lp-prod-protected/HLSL30.020/HLS.L30.T15RYN.2023212T163147.v2.0/HLS.L30.T15RYN.2023212T163147.v2.0.B11.tif>,\n",
              "  <File-like object HTTPFileSystem, https://data.lpdaac.earthdatacloud.nasa.gov/lp-prod-protected/HLSL30.020/HLS.L30.T15RYN.2023212T163147.v2.0/HLS.L30.T15RYN.2023212T163147.v2.0.Fmask.tif>,\n",
              "  <File-like object HTTPFileSystem, https://data.lpdaac.earthdatacloud.nasa.gov/lp-prod-protected/HLSL30.020/HLS.L30.T15RYN.2023212T163147.v2.0/HLS.L30.T15RYN.2023212T163147.v2.0.B04.tif>,\n",
              "  <File-like object HTTPFileSystem, https://data.lpdaac.earthdatacloud.nasa.gov/lp-prod-protected/HLSL30.020/HLS.L30.T15RYN.2023212T163147.v2.0/HLS.L30.T15RYN.2023212T163147.v2.0.B01.tif>,\n",
              "  <File-like object HTTPFileSystem, https://data.lpdaac.earthdatacloud.nasa.gov/lp-prod-protected/HLSL30.020/HLS.L30.T15RYN.2023212T163147.v2.0/HLS.L30.T15RYN.2023212T163147.v2.0.B07.tif>,\n",
              "  <File-like object HTTPFileSystem, https://data.lpdaac.earthdatacloud.nasa.gov/lp-prod-protected/HLSL30.020/HLS.L30.T15RYN.2023212T163147.v2.0/HLS.L30.T15RYN.2023212T163147.v2.0.B09.tif>,\n",
              "  <File-like object HTTPFileSystem, https://data.lpdaac.earthdatacloud.nasa.gov/lp-prod-protected/HLSL30.020/HLS.L30.T15RYN.2023212T163147.v2.0/HLS.L30.T15RYN.2023212T163147.v2.0.B05.tif>,\n",
              "  <File-like object HTTPFileSystem, https://data.lpdaac.earthdatacloud.nasa.gov/lp-prod-protected/HLSL30.020/HLS.L30.T15RYN.2023212T163147.v2.0/HLS.L30.T15RYN.2023212T163147.v2.0.VZA.tif>,\n",
              "  <File-like object HTTPFileSystem, https://data.lpdaac.earthdatacloud.nasa.gov/lp-prod-protected/HLSL30.020/HLS.L30.T15RYN.2023212T163147.v2.0/HLS.L30.T15RYN.2023212T163147.v2.0.B02.tif>,\n",
              "  <File-like object HTTPFileSystem, https://data.lpdaac.earthdatacloud.nasa.gov/lp-prod-protected/HLSL30.020/HLS.L30.T15RYN.2023212T163147.v2.0/HLS.L30.T15RYN.2023212T163147.v2.0.B06.tif>,\n",
              "  <File-like object HTTPFileSystem, https://data.lpdaac.earthdatacloud.nasa.gov/lp-prod-protected/HLSL30.020/HLS.L30.T15RYN.2023212T163147.v2.0/HLS.L30.T15RYN.2023212T163147.v2.0.VAA.tif>,\n",
              "  <File-like object HTTPFileSystem, https://data.lpdaac.earthdatacloud.nasa.gov/lp-prod-protected/HLSL30.020/HLS.L30.T15RYN.2023212T163147.v2.0/HLS.L30.T15RYN.2023212T163147.v2.0.B10.tif>,\n",
              "  <File-like object HTTPFileSystem, https://data.lpdaac.earthdatacloud.nasa.gov/lp-prod-protected/HLSL30.020/HLS.L30.T15RYN.2023212T163147.v2.0/HLS.L30.T15RYN.2023212T163147.v2.0.SAA.tif>],\n",
              " [<File-like object HTTPFileSystem, https://data.lpdaac.earthdatacloud.nasa.gov/lp-prod-protected/HLSL30.020/HLS.L30.T15RYP.2023212T163147.v2.0/HLS.L30.T15RYP.2023212T163147.v2.0.B03.tif>,\n",
              "  <File-like object HTTPFileSystem, https://data.lpdaac.earthdatacloud.nasa.gov/lp-prod-protected/HLSL30.020/HLS.L30.T15RYP.2023212T163147.v2.0/HLS.L30.T15RYP.2023212T163147.v2.0.B04.tif>,\n",
              "  <File-like object HTTPFileSystem, https://data.lpdaac.earthdatacloud.nasa.gov/lp-prod-protected/HLSL30.020/HLS.L30.T15RYP.2023212T163147.v2.0/HLS.L30.T15RYP.2023212T163147.v2.0.B10.tif>,\n",
              "  <File-like object HTTPFileSystem, https://data.lpdaac.earthdatacloud.nasa.gov/lp-prod-protected/HLSL30.020/HLS.L30.T15RYP.2023212T163147.v2.0/HLS.L30.T15RYP.2023212T163147.v2.0.VAA.tif>,\n",
              "  <File-like object HTTPFileSystem, https://data.lpdaac.earthdatacloud.nasa.gov/lp-prod-protected/HLSL30.020/HLS.L30.T15RYP.2023212T163147.v2.0/HLS.L30.T15RYP.2023212T163147.v2.0.SAA.tif>,\n",
              "  <File-like object HTTPFileSystem, https://data.lpdaac.earthdatacloud.nasa.gov/lp-prod-protected/HLSL30.020/HLS.L30.T15RYP.2023212T163147.v2.0/HLS.L30.T15RYP.2023212T163147.v2.0.Fmask.tif>,\n",
              "  <File-like object HTTPFileSystem, https://data.lpdaac.earthdatacloud.nasa.gov/lp-prod-protected/HLSL30.020/HLS.L30.T15RYP.2023212T163147.v2.0/HLS.L30.T15RYP.2023212T163147.v2.0.SZA.tif>,\n",
              "  <File-like object HTTPFileSystem, https://data.lpdaac.earthdatacloud.nasa.gov/lp-prod-protected/HLSL30.020/HLS.L30.T15RYP.2023212T163147.v2.0/HLS.L30.T15RYP.2023212T163147.v2.0.B11.tif>,\n",
              "  <File-like object HTTPFileSystem, https://data.lpdaac.earthdatacloud.nasa.gov/lp-prod-protected/HLSL30.020/HLS.L30.T15RYP.2023212T163147.v2.0/HLS.L30.T15RYP.2023212T163147.v2.0.B06.tif>,\n",
              "  <File-like object HTTPFileSystem, https://data.lpdaac.earthdatacloud.nasa.gov/lp-prod-protected/HLSL30.020/HLS.L30.T15RYP.2023212T163147.v2.0/HLS.L30.T15RYP.2023212T163147.v2.0.B09.tif>,\n",
              "  <File-like object HTTPFileSystem, https://data.lpdaac.earthdatacloud.nasa.gov/lp-prod-protected/HLSL30.020/HLS.L30.T15RYP.2023212T163147.v2.0/HLS.L30.T15RYP.2023212T163147.v2.0.B07.tif>,\n",
              "  <File-like object HTTPFileSystem, https://data.lpdaac.earthdatacloud.nasa.gov/lp-prod-protected/HLSL30.020/HLS.L30.T15RYP.2023212T163147.v2.0/HLS.L30.T15RYP.2023212T163147.v2.0.VZA.tif>,\n",
              "  <File-like object HTTPFileSystem, https://data.lpdaac.earthdatacloud.nasa.gov/lp-prod-protected/HLSL30.020/HLS.L30.T15RYP.2023212T163147.v2.0/HLS.L30.T15RYP.2023212T163147.v2.0.B01.tif>,\n",
              "  <File-like object HTTPFileSystem, https://data.lpdaac.earthdatacloud.nasa.gov/lp-prod-protected/HLSL30.020/HLS.L30.T15RYP.2023212T163147.v2.0/HLS.L30.T15RYP.2023212T163147.v2.0.B02.tif>,\n",
              "  <File-like object HTTPFileSystem, https://data.lpdaac.earthdatacloud.nasa.gov/lp-prod-protected/HLSL30.020/HLS.L30.T15RYP.2023212T163147.v2.0/HLS.L30.T15RYP.2023212T163147.v2.0.B05.tif>],\n",
              " [<File-like object HTTPFileSystem, https://data.lpdaac.earthdatacloud.nasa.gov/lp-prod-protected/HLSL30.020/HLS.L30.T16RBU.2023220T163157.v2.0/HLS.L30.T16RBU.2023220T163157.v2.0.VZA.tif>,\n",
              "  <File-like object HTTPFileSystem, https://data.lpdaac.earthdatacloud.nasa.gov/lp-prod-protected/HLSL30.020/HLS.L30.T16RBU.2023220T163157.v2.0/HLS.L30.T16RBU.2023220T163157.v2.0.SAA.tif>,\n",
              "  <File-like object HTTPFileSystem, https://data.lpdaac.earthdatacloud.nasa.gov/lp-prod-protected/HLSL30.020/HLS.L30.T16RBU.2023220T163157.v2.0/HLS.L30.T16RBU.2023220T163157.v2.0.B01.tif>,\n",
              "  <File-like object HTTPFileSystem, https://data.lpdaac.earthdatacloud.nasa.gov/lp-prod-protected/HLSL30.020/HLS.L30.T16RBU.2023220T163157.v2.0/HLS.L30.T16RBU.2023220T163157.v2.0.B07.tif>,\n",
              "  <File-like object HTTPFileSystem, https://data.lpdaac.earthdatacloud.nasa.gov/lp-prod-protected/HLSL30.020/HLS.L30.T16RBU.2023220T163157.v2.0/HLS.L30.T16RBU.2023220T163157.v2.0.B11.tif>,\n",
              "  <File-like object HTTPFileSystem, https://data.lpdaac.earthdatacloud.nasa.gov/lp-prod-protected/HLSL30.020/HLS.L30.T16RBU.2023220T163157.v2.0/HLS.L30.T16RBU.2023220T163157.v2.0.B04.tif>,\n",
              "  <File-like object HTTPFileSystem, https://data.lpdaac.earthdatacloud.nasa.gov/lp-prod-protected/HLSL30.020/HLS.L30.T16RBU.2023220T163157.v2.0/HLS.L30.T16RBU.2023220T163157.v2.0.SZA.tif>,\n",
              "  <File-like object HTTPFileSystem, https://data.lpdaac.earthdatacloud.nasa.gov/lp-prod-protected/HLSL30.020/HLS.L30.T16RBU.2023220T163157.v2.0/HLS.L30.T16RBU.2023220T163157.v2.0.B03.tif>,\n",
              "  <File-like object HTTPFileSystem, https://data.lpdaac.earthdatacloud.nasa.gov/lp-prod-protected/HLSL30.020/HLS.L30.T16RBU.2023220T163157.v2.0/HLS.L30.T16RBU.2023220T163157.v2.0.VAA.tif>,\n",
              "  <File-like object HTTPFileSystem, https://data.lpdaac.earthdatacloud.nasa.gov/lp-prod-protected/HLSL30.020/HLS.L30.T16RBU.2023220T163157.v2.0/HLS.L30.T16RBU.2023220T163157.v2.0.B02.tif>,\n",
              "  <File-like object HTTPFileSystem, https://data.lpdaac.earthdatacloud.nasa.gov/lp-prod-protected/HLSL30.020/HLS.L30.T16RBU.2023220T163157.v2.0/HLS.L30.T16RBU.2023220T163157.v2.0.Fmask.tif>,\n",
              "  <File-like object HTTPFileSystem, https://data.lpdaac.earthdatacloud.nasa.gov/lp-prod-protected/HLSL30.020/HLS.L30.T16RBU.2023220T163157.v2.0/HLS.L30.T16RBU.2023220T163157.v2.0.B05.tif>,\n",
              "  <File-like object HTTPFileSystem, https://data.lpdaac.earthdatacloud.nasa.gov/lp-prod-protected/HLSL30.020/HLS.L30.T16RBU.2023220T163157.v2.0/HLS.L30.T16RBU.2023220T163157.v2.0.B10.tif>,\n",
              "  <File-like object HTTPFileSystem, https://data.lpdaac.earthdatacloud.nasa.gov/lp-prod-protected/HLSL30.020/HLS.L30.T16RBU.2023220T163157.v2.0/HLS.L30.T16RBU.2023220T163157.v2.0.B06.tif>,\n",
              "  <File-like object HTTPFileSystem, https://data.lpdaac.earthdatacloud.nasa.gov/lp-prod-protected/HLSL30.020/HLS.L30.T16RBU.2023220T163157.v2.0/HLS.L30.T16RBU.2023220T163157.v2.0.B09.tif>],\n",
              " [<File-like object HTTPFileSystem, https://data.lpdaac.earthdatacloud.nasa.gov/lp-prod-protected/HLSL30.020/HLS.L30.T15RYN.2023220T163157.v2.0/HLS.L30.T15RYN.2023220T163157.v2.0.B04.tif>,\n",
              "  <File-like object HTTPFileSystem, https://data.lpdaac.earthdatacloud.nasa.gov/lp-prod-protected/HLSL30.020/HLS.L30.T15RYN.2023220T163157.v2.0/HLS.L30.T15RYN.2023220T163157.v2.0.B03.tif>,\n",
              "  <File-like object HTTPFileSystem, https://data.lpdaac.earthdatacloud.nasa.gov/lp-prod-protected/HLSL30.020/HLS.L30.T15RYN.2023220T163157.v2.0/HLS.L30.T15RYN.2023220T163157.v2.0.VZA.tif>,\n",
              "  <File-like object HTTPFileSystem, https://data.lpdaac.earthdatacloud.nasa.gov/lp-prod-protected/HLSL30.020/HLS.L30.T15RYN.2023220T163157.v2.0/HLS.L30.T15RYN.2023220T163157.v2.0.B01.tif>,\n",
              "  <File-like object HTTPFileSystem, https://data.lpdaac.earthdatacloud.nasa.gov/lp-prod-protected/HLSL30.020/HLS.L30.T15RYN.2023220T163157.v2.0/HLS.L30.T15RYN.2023220T163157.v2.0.VAA.tif>,\n",
              "  <File-like object HTTPFileSystem, https://data.lpdaac.earthdatacloud.nasa.gov/lp-prod-protected/HLSL30.020/HLS.L30.T15RYN.2023220T163157.v2.0/HLS.L30.T15RYN.2023220T163157.v2.0.B07.tif>,\n",
              "  <File-like object HTTPFileSystem, https://data.lpdaac.earthdatacloud.nasa.gov/lp-prod-protected/HLSL30.020/HLS.L30.T15RYN.2023220T163157.v2.0/HLS.L30.T15RYN.2023220T163157.v2.0.SAA.tif>,\n",
              "  <File-like object HTTPFileSystem, https://data.lpdaac.earthdatacloud.nasa.gov/lp-prod-protected/HLSL30.020/HLS.L30.T15RYN.2023220T163157.v2.0/HLS.L30.T15RYN.2023220T163157.v2.0.B06.tif>,\n",
              "  <File-like object HTTPFileSystem, https://data.lpdaac.earthdatacloud.nasa.gov/lp-prod-protected/HLSL30.020/HLS.L30.T15RYN.2023220T163157.v2.0/HLS.L30.T15RYN.2023220T163157.v2.0.B10.tif>,\n",
              "  <File-like object HTTPFileSystem, https://data.lpdaac.earthdatacloud.nasa.gov/lp-prod-protected/HLSL30.020/HLS.L30.T15RYN.2023220T163157.v2.0/HLS.L30.T15RYN.2023220T163157.v2.0.B02.tif>,\n",
              "  <File-like object HTTPFileSystem, https://data.lpdaac.earthdatacloud.nasa.gov/lp-prod-protected/HLSL30.020/HLS.L30.T15RYN.2023220T163157.v2.0/HLS.L30.T15RYN.2023220T163157.v2.0.B05.tif>,\n",
              "  <File-like object HTTPFileSystem, https://data.lpdaac.earthdatacloud.nasa.gov/lp-prod-protected/HLSL30.020/HLS.L30.T15RYN.2023220T163157.v2.0/HLS.L30.T15RYN.2023220T163157.v2.0.SZA.tif>,\n",
              "  <File-like object HTTPFileSystem, https://data.lpdaac.earthdatacloud.nasa.gov/lp-prod-protected/HLSL30.020/HLS.L30.T15RYN.2023220T163157.v2.0/HLS.L30.T15RYN.2023220T163157.v2.0.B09.tif>,\n",
              "  <File-like object HTTPFileSystem, https://data.lpdaac.earthdatacloud.nasa.gov/lp-prod-protected/HLSL30.020/HLS.L30.T15RYN.2023220T163157.v2.0/HLS.L30.T15RYN.2023220T163157.v2.0.B11.tif>,\n",
              "  <File-like object HTTPFileSystem, https://data.lpdaac.earthdatacloud.nasa.gov/lp-prod-protected/HLSL30.020/HLS.L30.T15RYN.2023220T163157.v2.0/HLS.L30.T15RYN.2023220T163157.v2.0.Fmask.tif>],\n",
              " [<File-like object HTTPFileSystem, https://data.lpdaac.earthdatacloud.nasa.gov/lp-prod-protected/HLSL30.020/HLS.L30.T15RYP.2023220T163157.v2.0/HLS.L30.T15RYP.2023220T163157.v2.0.VZA.tif>,\n",
              "  <File-like object HTTPFileSystem, https://data.lpdaac.earthdatacloud.nasa.gov/lp-prod-protected/HLSL30.020/HLS.L30.T15RYP.2023220T163157.v2.0/HLS.L30.T15RYP.2023220T163157.v2.0.VAA.tif>,\n",
              "  <File-like object HTTPFileSystem, https://data.lpdaac.earthdatacloud.nasa.gov/lp-prod-protected/HLSL30.020/HLS.L30.T15RYP.2023220T163157.v2.0/HLS.L30.T15RYP.2023220T163157.v2.0.Fmask.tif>,\n",
              "  <File-like object HTTPFileSystem, https://data.lpdaac.earthdatacloud.nasa.gov/lp-prod-protected/HLSL30.020/HLS.L30.T15RYP.2023220T163157.v2.0/HLS.L30.T15RYP.2023220T163157.v2.0.B07.tif>,\n",
              "  <File-like object HTTPFileSystem, https://data.lpdaac.earthdatacloud.nasa.gov/lp-prod-protected/HLSL30.020/HLS.L30.T15RYP.2023220T163157.v2.0/HLS.L30.T15RYP.2023220T163157.v2.0.B05.tif>,\n",
              "  <File-like object HTTPFileSystem, https://data.lpdaac.earthdatacloud.nasa.gov/lp-prod-protected/HLSL30.020/HLS.L30.T15RYP.2023220T163157.v2.0/HLS.L30.T15RYP.2023220T163157.v2.0.B02.tif>,\n",
              "  <File-like object HTTPFileSystem, https://data.lpdaac.earthdatacloud.nasa.gov/lp-prod-protected/HLSL30.020/HLS.L30.T15RYP.2023220T163157.v2.0/HLS.L30.T15RYP.2023220T163157.v2.0.B10.tif>,\n",
              "  <File-like object HTTPFileSystem, https://data.lpdaac.earthdatacloud.nasa.gov/lp-prod-protected/HLSL30.020/HLS.L30.T15RYP.2023220T163157.v2.0/HLS.L30.T15RYP.2023220T163157.v2.0.B06.tif>,\n",
              "  <File-like object HTTPFileSystem, https://data.lpdaac.earthdatacloud.nasa.gov/lp-prod-protected/HLSL30.020/HLS.L30.T15RYP.2023220T163157.v2.0/HLS.L30.T15RYP.2023220T163157.v2.0.B09.tif>,\n",
              "  <File-like object HTTPFileSystem, https://data.lpdaac.earthdatacloud.nasa.gov/lp-prod-protected/HLSL30.020/HLS.L30.T15RYP.2023220T163157.v2.0/HLS.L30.T15RYP.2023220T163157.v2.0.B03.tif>,\n",
              "  <File-like object HTTPFileSystem, https://data.lpdaac.earthdatacloud.nasa.gov/lp-prod-protected/HLSL30.020/HLS.L30.T15RYP.2023220T163157.v2.0/HLS.L30.T15RYP.2023220T163157.v2.0.SZA.tif>,\n",
              "  <File-like object HTTPFileSystem, https://data.lpdaac.earthdatacloud.nasa.gov/lp-prod-protected/HLSL30.020/HLS.L30.T15RYP.2023220T163157.v2.0/HLS.L30.T15RYP.2023220T163157.v2.0.B04.tif>,\n",
              "  <File-like object HTTPFileSystem, https://data.lpdaac.earthdatacloud.nasa.gov/lp-prod-protected/HLSL30.020/HLS.L30.T15RYP.2023220T163157.v2.0/HLS.L30.T15RYP.2023220T163157.v2.0.B11.tif>,\n",
              "  <File-like object HTTPFileSystem, https://data.lpdaac.earthdatacloud.nasa.gov/lp-prod-protected/HLSL30.020/HLS.L30.T15RYP.2023220T163157.v2.0/HLS.L30.T15RYP.2023220T163157.v2.0.SAA.tif>,\n",
              "  <File-like object HTTPFileSystem, https://data.lpdaac.earthdatacloud.nasa.gov/lp-prod-protected/HLSL30.020/HLS.L30.T15RYP.2023220T163157.v2.0/HLS.L30.T15RYP.2023220T163157.v2.0.B01.tif>],\n",
              " [<File-like object HTTPFileSystem, https://data.lpdaac.earthdatacloud.nasa.gov/lp-prod-protected/HLSL30.020/HLS.L30.T16RBT.2023220T163157.v2.0/HLS.L30.T16RBT.2023220T163157.v2.0.B10.tif>,\n",
              "  <File-like object HTTPFileSystem, https://data.lpdaac.earthdatacloud.nasa.gov/lp-prod-protected/HLSL30.020/HLS.L30.T16RBT.2023220T163157.v2.0/HLS.L30.T16RBT.2023220T163157.v2.0.B02.tif>,\n",
              "  <File-like object HTTPFileSystem, https://data.lpdaac.earthdatacloud.nasa.gov/lp-prod-protected/HLSL30.020/HLS.L30.T16RBT.2023220T163157.v2.0/HLS.L30.T16RBT.2023220T163157.v2.0.B01.tif>,\n",
              "  <File-like object HTTPFileSystem, https://data.lpdaac.earthdatacloud.nasa.gov/lp-prod-protected/HLSL30.020/HLS.L30.T16RBT.2023220T163157.v2.0/HLS.L30.T16RBT.2023220T163157.v2.0.VZA.tif>,\n",
              "  <File-like object HTTPFileSystem, https://data.lpdaac.earthdatacloud.nasa.gov/lp-prod-protected/HLSL30.020/HLS.L30.T16RBT.2023220T163157.v2.0/HLS.L30.T16RBT.2023220T163157.v2.0.VAA.tif>,\n",
              "  <File-like object HTTPFileSystem, https://data.lpdaac.earthdatacloud.nasa.gov/lp-prod-protected/HLSL30.020/HLS.L30.T16RBT.2023220T163157.v2.0/HLS.L30.T16RBT.2023220T163157.v2.0.Fmask.tif>,\n",
              "  <File-like object HTTPFileSystem, https://data.lpdaac.earthdatacloud.nasa.gov/lp-prod-protected/HLSL30.020/HLS.L30.T16RBT.2023220T163157.v2.0/HLS.L30.T16RBT.2023220T163157.v2.0.B06.tif>,\n",
              "  <File-like object HTTPFileSystem, https://data.lpdaac.earthdatacloud.nasa.gov/lp-prod-protected/HLSL30.020/HLS.L30.T16RBT.2023220T163157.v2.0/HLS.L30.T16RBT.2023220T163157.v2.0.B03.tif>,\n",
              "  <File-like object HTTPFileSystem, https://data.lpdaac.earthdatacloud.nasa.gov/lp-prod-protected/HLSL30.020/HLS.L30.T16RBT.2023220T163157.v2.0/HLS.L30.T16RBT.2023220T163157.v2.0.SZA.tif>,\n",
              "  <File-like object HTTPFileSystem, https://data.lpdaac.earthdatacloud.nasa.gov/lp-prod-protected/HLSL30.020/HLS.L30.T16RBT.2023220T163157.v2.0/HLS.L30.T16RBT.2023220T163157.v2.0.B05.tif>,\n",
              "  <File-like object HTTPFileSystem, https://data.lpdaac.earthdatacloud.nasa.gov/lp-prod-protected/HLSL30.020/HLS.L30.T16RBT.2023220T163157.v2.0/HLS.L30.T16RBT.2023220T163157.v2.0.B07.tif>,\n",
              "  <File-like object HTTPFileSystem, https://data.lpdaac.earthdatacloud.nasa.gov/lp-prod-protected/HLSL30.020/HLS.L30.T16RBT.2023220T163157.v2.0/HLS.L30.T16RBT.2023220T163157.v2.0.SAA.tif>,\n",
              "  <File-like object HTTPFileSystem, https://data.lpdaac.earthdatacloud.nasa.gov/lp-prod-protected/HLSL30.020/HLS.L30.T16RBT.2023220T163157.v2.0/HLS.L30.T16RBT.2023220T163157.v2.0.B04.tif>,\n",
              "  <File-like object HTTPFileSystem, https://data.lpdaac.earthdatacloud.nasa.gov/lp-prod-protected/HLSL30.020/HLS.L30.T16RBT.2023220T163157.v2.0/HLS.L30.T16RBT.2023220T163157.v2.0.B11.tif>,\n",
              "  <File-like object HTTPFileSystem, https://data.lpdaac.earthdatacloud.nasa.gov/lp-prod-protected/HLSL30.020/HLS.L30.T16RBT.2023220T163157.v2.0/HLS.L30.T16RBT.2023220T163157.v2.0.B09.tif>],\n",
              " [<File-like object HTTPFileSystem, https://data.lpdaac.earthdatacloud.nasa.gov/lp-prod-protected/HLSL30.020/HLS.L30.T15RYP.2023228T163152.v2.0/HLS.L30.T15RYP.2023228T163152.v2.0.B02.tif>,\n",
              "  <File-like object HTTPFileSystem, https://data.lpdaac.earthdatacloud.nasa.gov/lp-prod-protected/HLSL30.020/HLS.L30.T15RYP.2023228T163152.v2.0/HLS.L30.T15RYP.2023228T163152.v2.0.SAA.tif>,\n",
              "  <File-like object HTTPFileSystem, https://data.lpdaac.earthdatacloud.nasa.gov/lp-prod-protected/HLSL30.020/HLS.L30.T15RYP.2023228T163152.v2.0/HLS.L30.T15RYP.2023228T163152.v2.0.SZA.tif>,\n",
              "  <File-like object HTTPFileSystem, https://data.lpdaac.earthdatacloud.nasa.gov/lp-prod-protected/HLSL30.020/HLS.L30.T15RYP.2023228T163152.v2.0/HLS.L30.T15RYP.2023228T163152.v2.0.B07.tif>,\n",
              "  <File-like object HTTPFileSystem, https://data.lpdaac.earthdatacloud.nasa.gov/lp-prod-protected/HLSL30.020/HLS.L30.T15RYP.2023228T163152.v2.0/HLS.L30.T15RYP.2023228T163152.v2.0.B04.tif>,\n",
              "  <File-like object HTTPFileSystem, https://data.lpdaac.earthdatacloud.nasa.gov/lp-prod-protected/HLSL30.020/HLS.L30.T15RYP.2023228T163152.v2.0/HLS.L30.T15RYP.2023228T163152.v2.0.B05.tif>,\n",
              "  <File-like object HTTPFileSystem, https://data.lpdaac.earthdatacloud.nasa.gov/lp-prod-protected/HLSL30.020/HLS.L30.T15RYP.2023228T163152.v2.0/HLS.L30.T15RYP.2023228T163152.v2.0.Fmask.tif>,\n",
              "  <File-like object HTTPFileSystem, https://data.lpdaac.earthdatacloud.nasa.gov/lp-prod-protected/HLSL30.020/HLS.L30.T15RYP.2023228T163152.v2.0/HLS.L30.T15RYP.2023228T163152.v2.0.B03.tif>,\n",
              "  <File-like object HTTPFileSystem, https://data.lpdaac.earthdatacloud.nasa.gov/lp-prod-protected/HLSL30.020/HLS.L30.T15RYP.2023228T163152.v2.0/HLS.L30.T15RYP.2023228T163152.v2.0.VAA.tif>,\n",
              "  <File-like object HTTPFileSystem, https://data.lpdaac.earthdatacloud.nasa.gov/lp-prod-protected/HLSL30.020/HLS.L30.T15RYP.2023228T163152.v2.0/HLS.L30.T15RYP.2023228T163152.v2.0.B01.tif>,\n",
              "  <File-like object HTTPFileSystem, https://data.lpdaac.earthdatacloud.nasa.gov/lp-prod-protected/HLSL30.020/HLS.L30.T15RYP.2023228T163152.v2.0/HLS.L30.T15RYP.2023228T163152.v2.0.B11.tif>,\n",
              "  <File-like object HTTPFileSystem, https://data.lpdaac.earthdatacloud.nasa.gov/lp-prod-protected/HLSL30.020/HLS.L30.T15RYP.2023228T163152.v2.0/HLS.L30.T15RYP.2023228T163152.v2.0.B09.tif>,\n",
              "  <File-like object HTTPFileSystem, https://data.lpdaac.earthdatacloud.nasa.gov/lp-prod-protected/HLSL30.020/HLS.L30.T15RYP.2023228T163152.v2.0/HLS.L30.T15RYP.2023228T163152.v2.0.B10.tif>,\n",
              "  <File-like object HTTPFileSystem, https://data.lpdaac.earthdatacloud.nasa.gov/lp-prod-protected/HLSL30.020/HLS.L30.T15RYP.2023228T163152.v2.0/HLS.L30.T15RYP.2023228T163152.v2.0.VZA.tif>,\n",
              "  <File-like object HTTPFileSystem, https://data.lpdaac.earthdatacloud.nasa.gov/lp-prod-protected/HLSL30.020/HLS.L30.T15RYP.2023228T163152.v2.0/HLS.L30.T15RYP.2023228T163152.v2.0.B06.tif>],\n",
              " [<File-like object HTTPFileSystem, https://data.lpdaac.earthdatacloud.nasa.gov/lp-prod-protected/HLSL30.020/HLS.L30.T16RBU.2023228T163152.v2.0/HLS.L30.T16RBU.2023228T163152.v2.0.B04.tif>,\n",
              "  <File-like object HTTPFileSystem, https://data.lpdaac.earthdatacloud.nasa.gov/lp-prod-protected/HLSL30.020/HLS.L30.T16RBU.2023228T163152.v2.0/HLS.L30.T16RBU.2023228T163152.v2.0.SAA.tif>,\n",
              "  <File-like object HTTPFileSystem, https://data.lpdaac.earthdatacloud.nasa.gov/lp-prod-protected/HLSL30.020/HLS.L30.T16RBU.2023228T163152.v2.0/HLS.L30.T16RBU.2023228T163152.v2.0.B03.tif>,\n",
              "  <File-like object HTTPFileSystem, https://data.lpdaac.earthdatacloud.nasa.gov/lp-prod-protected/HLSL30.020/HLS.L30.T16RBU.2023228T163152.v2.0/HLS.L30.T16RBU.2023228T163152.v2.0.B09.tif>,\n",
              "  <File-like object HTTPFileSystem, https://data.lpdaac.earthdatacloud.nasa.gov/lp-prod-protected/HLSL30.020/HLS.L30.T16RBU.2023228T163152.v2.0/HLS.L30.T16RBU.2023228T163152.v2.0.B10.tif>,\n",
              "  <File-like object HTTPFileSystem, https://data.lpdaac.earthdatacloud.nasa.gov/lp-prod-protected/HLSL30.020/HLS.L30.T16RBU.2023228T163152.v2.0/HLS.L30.T16RBU.2023228T163152.v2.0.B01.tif>,\n",
              "  <File-like object HTTPFileSystem, https://data.lpdaac.earthdatacloud.nasa.gov/lp-prod-protected/HLSL30.020/HLS.L30.T16RBU.2023228T163152.v2.0/HLS.L30.T16RBU.2023228T163152.v2.0.VAA.tif>,\n",
              "  <File-like object HTTPFileSystem, https://data.lpdaac.earthdatacloud.nasa.gov/lp-prod-protected/HLSL30.020/HLS.L30.T16RBU.2023228T163152.v2.0/HLS.L30.T16RBU.2023228T163152.v2.0.SZA.tif>,\n",
              "  <File-like object HTTPFileSystem, https://data.lpdaac.earthdatacloud.nasa.gov/lp-prod-protected/HLSL30.020/HLS.L30.T16RBU.2023228T163152.v2.0/HLS.L30.T16RBU.2023228T163152.v2.0.B02.tif>,\n",
              "  <File-like object HTTPFileSystem, https://data.lpdaac.earthdatacloud.nasa.gov/lp-prod-protected/HLSL30.020/HLS.L30.T16RBU.2023228T163152.v2.0/HLS.L30.T16RBU.2023228T163152.v2.0.B11.tif>,\n",
              "  <File-like object HTTPFileSystem, https://data.lpdaac.earthdatacloud.nasa.gov/lp-prod-protected/HLSL30.020/HLS.L30.T16RBU.2023228T163152.v2.0/HLS.L30.T16RBU.2023228T163152.v2.0.B07.tif>,\n",
              "  <File-like object HTTPFileSystem, https://data.lpdaac.earthdatacloud.nasa.gov/lp-prod-protected/HLSL30.020/HLS.L30.T16RBU.2023228T163152.v2.0/HLS.L30.T16RBU.2023228T163152.v2.0.B06.tif>,\n",
              "  <File-like object HTTPFileSystem, https://data.lpdaac.earthdatacloud.nasa.gov/lp-prod-protected/HLSL30.020/HLS.L30.T16RBU.2023228T163152.v2.0/HLS.L30.T16RBU.2023228T163152.v2.0.Fmask.tif>,\n",
              "  <File-like object HTTPFileSystem, https://data.lpdaac.earthdatacloud.nasa.gov/lp-prod-protected/HLSL30.020/HLS.L30.T16RBU.2023228T163152.v2.0/HLS.L30.T16RBU.2023228T163152.v2.0.B05.tif>,\n",
              "  <File-like object HTTPFileSystem, https://data.lpdaac.earthdatacloud.nasa.gov/lp-prod-protected/HLSL30.020/HLS.L30.T16RBU.2023228T163152.v2.0/HLS.L30.T16RBU.2023228T163152.v2.0.VZA.tif>],\n",
              " [<File-like object HTTPFileSystem, https://data.lpdaac.earthdatacloud.nasa.gov/lp-prod-protected/HLSL30.020/HLS.L30.T16RBT.2023228T163152.v2.0/HLS.L30.T16RBT.2023228T163152.v2.0.B06.tif>,\n",
              "  <File-like object HTTPFileSystem, https://data.lpdaac.earthdatacloud.nasa.gov/lp-prod-protected/HLSL30.020/HLS.L30.T16RBT.2023228T163152.v2.0/HLS.L30.T16RBT.2023228T163152.v2.0.B10.tif>,\n",
              "  <File-like object HTTPFileSystem, https://data.lpdaac.earthdatacloud.nasa.gov/lp-prod-protected/HLSL30.020/HLS.L30.T16RBT.2023228T163152.v2.0/HLS.L30.T16RBT.2023228T163152.v2.0.B04.tif>,\n",
              "  <File-like object HTTPFileSystem, https://data.lpdaac.earthdatacloud.nasa.gov/lp-prod-protected/HLSL30.020/HLS.L30.T16RBT.2023228T163152.v2.0/HLS.L30.T16RBT.2023228T163152.v2.0.VZA.tif>,\n",
              "  <File-like object HTTPFileSystem, https://data.lpdaac.earthdatacloud.nasa.gov/lp-prod-protected/HLSL30.020/HLS.L30.T16RBT.2023228T163152.v2.0/HLS.L30.T16RBT.2023228T163152.v2.0.B05.tif>,\n",
              "  <File-like object HTTPFileSystem, https://data.lpdaac.earthdatacloud.nasa.gov/lp-prod-protected/HLSL30.020/HLS.L30.T16RBT.2023228T163152.v2.0/HLS.L30.T16RBT.2023228T163152.v2.0.VAA.tif>,\n",
              "  <File-like object HTTPFileSystem, https://data.lpdaac.earthdatacloud.nasa.gov/lp-prod-protected/HLSL30.020/HLS.L30.T16RBT.2023228T163152.v2.0/HLS.L30.T16RBT.2023228T163152.v2.0.B09.tif>,\n",
              "  <File-like object HTTPFileSystem, https://data.lpdaac.earthdatacloud.nasa.gov/lp-prod-protected/HLSL30.020/HLS.L30.T16RBT.2023228T163152.v2.0/HLS.L30.T16RBT.2023228T163152.v2.0.Fmask.tif>,\n",
              "  <File-like object HTTPFileSystem, https://data.lpdaac.earthdatacloud.nasa.gov/lp-prod-protected/HLSL30.020/HLS.L30.T16RBT.2023228T163152.v2.0/HLS.L30.T16RBT.2023228T163152.v2.0.B11.tif>,\n",
              "  <File-like object HTTPFileSystem, https://data.lpdaac.earthdatacloud.nasa.gov/lp-prod-protected/HLSL30.020/HLS.L30.T16RBT.2023228T163152.v2.0/HLS.L30.T16RBT.2023228T163152.v2.0.B03.tif>,\n",
              "  <File-like object HTTPFileSystem, https://data.lpdaac.earthdatacloud.nasa.gov/lp-prod-protected/HLSL30.020/HLS.L30.T16RBT.2023228T163152.v2.0/HLS.L30.T16RBT.2023228T163152.v2.0.SAA.tif>,\n",
              "  <File-like object HTTPFileSystem, https://data.lpdaac.earthdatacloud.nasa.gov/lp-prod-protected/HLSL30.020/HLS.L30.T16RBT.2023228T163152.v2.0/HLS.L30.T16RBT.2023228T163152.v2.0.SZA.tif>,\n",
              "  <File-like object HTTPFileSystem, https://data.lpdaac.earthdatacloud.nasa.gov/lp-prod-protected/HLSL30.020/HLS.L30.T16RBT.2023228T163152.v2.0/HLS.L30.T16RBT.2023228T163152.v2.0.B02.tif>,\n",
              "  <File-like object HTTPFileSystem, https://data.lpdaac.earthdatacloud.nasa.gov/lp-prod-protected/HLSL30.020/HLS.L30.T16RBT.2023228T163152.v2.0/HLS.L30.T16RBT.2023228T163152.v2.0.B01.tif>,\n",
              "  <File-like object HTTPFileSystem, https://data.lpdaac.earthdatacloud.nasa.gov/lp-prod-protected/HLSL30.020/HLS.L30.T16RBT.2023228T163152.v2.0/HLS.L30.T16RBT.2023228T163152.v2.0.B07.tif>],\n",
              " [<File-like object HTTPFileSystem, https://data.lpdaac.earthdatacloud.nasa.gov/lp-prod-protected/HLSL30.020/HLS.L30.T15RYN.2023228T163152.v2.0/HLS.L30.T15RYN.2023228T163152.v2.0.B07.tif>,\n",
              "  <File-like object HTTPFileSystem, https://data.lpdaac.earthdatacloud.nasa.gov/lp-prod-protected/HLSL30.020/HLS.L30.T15RYN.2023228T163152.v2.0/HLS.L30.T15RYN.2023228T163152.v2.0.B01.tif>,\n",
              "  <File-like object HTTPFileSystem, https://data.lpdaac.earthdatacloud.nasa.gov/lp-prod-protected/HLSL30.020/HLS.L30.T15RYN.2023228T163152.v2.0/HLS.L30.T15RYN.2023228T163152.v2.0.B09.tif>,\n",
              "  <File-like object HTTPFileSystem, https://data.lpdaac.earthdatacloud.nasa.gov/lp-prod-protected/HLSL30.020/HLS.L30.T15RYN.2023228T163152.v2.0/HLS.L30.T15RYN.2023228T163152.v2.0.SAA.tif>,\n",
              "  <File-like object HTTPFileSystem, https://data.lpdaac.earthdatacloud.nasa.gov/lp-prod-protected/HLSL30.020/HLS.L30.T15RYN.2023228T163152.v2.0/HLS.L30.T15RYN.2023228T163152.v2.0.B04.tif>,\n",
              "  <File-like object HTTPFileSystem, https://data.lpdaac.earthdatacloud.nasa.gov/lp-prod-protected/HLSL30.020/HLS.L30.T15RYN.2023228T163152.v2.0/HLS.L30.T15RYN.2023228T163152.v2.0.VAA.tif>,\n",
              "  <File-like object HTTPFileSystem, https://data.lpdaac.earthdatacloud.nasa.gov/lp-prod-protected/HLSL30.020/HLS.L30.T15RYN.2023228T163152.v2.0/HLS.L30.T15RYN.2023228T163152.v2.0.B10.tif>,\n",
              "  <File-like object HTTPFileSystem, https://data.lpdaac.earthdatacloud.nasa.gov/lp-prod-protected/HLSL30.020/HLS.L30.T15RYN.2023228T163152.v2.0/HLS.L30.T15RYN.2023228T163152.v2.0.B05.tif>,\n",
              "  <File-like object HTTPFileSystem, https://data.lpdaac.earthdatacloud.nasa.gov/lp-prod-protected/HLSL30.020/HLS.L30.T15RYN.2023228T163152.v2.0/HLS.L30.T15RYN.2023228T163152.v2.0.B11.tif>,\n",
              "  <File-like object HTTPFileSystem, https://data.lpdaac.earthdatacloud.nasa.gov/lp-prod-protected/HLSL30.020/HLS.L30.T15RYN.2023228T163152.v2.0/HLS.L30.T15RYN.2023228T163152.v2.0.SZA.tif>,\n",
              "  <File-like object HTTPFileSystem, https://data.lpdaac.earthdatacloud.nasa.gov/lp-prod-protected/HLSL30.020/HLS.L30.T15RYN.2023228T163152.v2.0/HLS.L30.T15RYN.2023228T163152.v2.0.B02.tif>,\n",
              "  <File-like object HTTPFileSystem, https://data.lpdaac.earthdatacloud.nasa.gov/lp-prod-protected/HLSL30.020/HLS.L30.T15RYN.2023228T163152.v2.0/HLS.L30.T15RYN.2023228T163152.v2.0.B06.tif>,\n",
              "  <File-like object HTTPFileSystem, https://data.lpdaac.earthdatacloud.nasa.gov/lp-prod-protected/HLSL30.020/HLS.L30.T15RYN.2023228T163152.v2.0/HLS.L30.T15RYN.2023228T163152.v2.0.Fmask.tif>,\n",
              "  <File-like object HTTPFileSystem, https://data.lpdaac.earthdatacloud.nasa.gov/lp-prod-protected/HLSL30.020/HLS.L30.T15RYN.2023228T163152.v2.0/HLS.L30.T15RYN.2023228T163152.v2.0.B03.tif>,\n",
              "  <File-like object HTTPFileSystem, https://data.lpdaac.earthdatacloud.nasa.gov/lp-prod-protected/HLSL30.020/HLS.L30.T15RYN.2023228T163152.v2.0/HLS.L30.T15RYN.2023228T163152.v2.0.VZA.tif>],\n",
              " [<File-like object HTTPFileSystem, https://data.lpdaac.earthdatacloud.nasa.gov/lp-prod-protected/HLSL30.020/HLS.L30.T15RYP.2023236T163205.v2.0/HLS.L30.T15RYP.2023236T163205.v2.0.VAA.tif>,\n",
              "  <File-like object HTTPFileSystem, https://data.lpdaac.earthdatacloud.nasa.gov/lp-prod-protected/HLSL30.020/HLS.L30.T15RYP.2023236T163205.v2.0/HLS.L30.T15RYP.2023236T163205.v2.0.B02.tif>,\n",
              "  <File-like object HTTPFileSystem, https://data.lpdaac.earthdatacloud.nasa.gov/lp-prod-protected/HLSL30.020/HLS.L30.T15RYP.2023236T163205.v2.0/HLS.L30.T15RYP.2023236T163205.v2.0.B06.tif>,\n",
              "  <File-like object HTTPFileSystem, https://data.lpdaac.earthdatacloud.nasa.gov/lp-prod-protected/HLSL30.020/HLS.L30.T15RYP.2023236T163205.v2.0/HLS.L30.T15RYP.2023236T163205.v2.0.VZA.tif>,\n",
              "  <File-like object HTTPFileSystem, https://data.lpdaac.earthdatacloud.nasa.gov/lp-prod-protected/HLSL30.020/HLS.L30.T15RYP.2023236T163205.v2.0/HLS.L30.T15RYP.2023236T163205.v2.0.SZA.tif>,\n",
              "  <File-like object HTTPFileSystem, https://data.lpdaac.earthdatacloud.nasa.gov/lp-prod-protected/HLSL30.020/HLS.L30.T15RYP.2023236T163205.v2.0/HLS.L30.T15RYP.2023236T163205.v2.0.B09.tif>,\n",
              "  <File-like object HTTPFileSystem, https://data.lpdaac.earthdatacloud.nasa.gov/lp-prod-protected/HLSL30.020/HLS.L30.T15RYP.2023236T163205.v2.0/HLS.L30.T15RYP.2023236T163205.v2.0.B05.tif>,\n",
              "  <File-like object HTTPFileSystem, https://data.lpdaac.earthdatacloud.nasa.gov/lp-prod-protected/HLSL30.020/HLS.L30.T15RYP.2023236T163205.v2.0/HLS.L30.T15RYP.2023236T163205.v2.0.SAA.tif>,\n",
              "  <File-like object HTTPFileSystem, https://data.lpdaac.earthdatacloud.nasa.gov/lp-prod-protected/HLSL30.020/HLS.L30.T15RYP.2023236T163205.v2.0/HLS.L30.T15RYP.2023236T163205.v2.0.B11.tif>,\n",
              "  <File-like object HTTPFileSystem, https://data.lpdaac.earthdatacloud.nasa.gov/lp-prod-protected/HLSL30.020/HLS.L30.T15RYP.2023236T163205.v2.0/HLS.L30.T15RYP.2023236T163205.v2.0.B10.tif>,\n",
              "  <File-like object HTTPFileSystem, https://data.lpdaac.earthdatacloud.nasa.gov/lp-prod-protected/HLSL30.020/HLS.L30.T15RYP.2023236T163205.v2.0/HLS.L30.T15RYP.2023236T163205.v2.0.B01.tif>,\n",
              "  <File-like object HTTPFileSystem, https://data.lpdaac.earthdatacloud.nasa.gov/lp-prod-protected/HLSL30.020/HLS.L30.T15RYP.2023236T163205.v2.0/HLS.L30.T15RYP.2023236T163205.v2.0.B03.tif>,\n",
              "  <File-like object HTTPFileSystem, https://data.lpdaac.earthdatacloud.nasa.gov/lp-prod-protected/HLSL30.020/HLS.L30.T15RYP.2023236T163205.v2.0/HLS.L30.T15RYP.2023236T163205.v2.0.B07.tif>,\n",
              "  <File-like object HTTPFileSystem, https://data.lpdaac.earthdatacloud.nasa.gov/lp-prod-protected/HLSL30.020/HLS.L30.T15RYP.2023236T163205.v2.0/HLS.L30.T15RYP.2023236T163205.v2.0.Fmask.tif>,\n",
              "  <File-like object HTTPFileSystem, https://data.lpdaac.earthdatacloud.nasa.gov/lp-prod-protected/HLSL30.020/HLS.L30.T15RYP.2023236T163205.v2.0/HLS.L30.T15RYP.2023236T163205.v2.0.B04.tif>],\n",
              " [<File-like object HTTPFileSystem, https://data.lpdaac.earthdatacloud.nasa.gov/lp-prod-protected/HLSL30.020/HLS.L30.T16RBT.2023236T163205.v2.0/HLS.L30.T16RBT.2023236T163205.v2.0.B04.tif>,\n",
              "  <File-like object HTTPFileSystem, https://data.lpdaac.earthdatacloud.nasa.gov/lp-prod-protected/HLSL30.020/HLS.L30.T16RBT.2023236T163205.v2.0/HLS.L30.T16RBT.2023236T163205.v2.0.B10.tif>,\n",
              "  <File-like object HTTPFileSystem, https://data.lpdaac.earthdatacloud.nasa.gov/lp-prod-protected/HLSL30.020/HLS.L30.T16RBT.2023236T163205.v2.0/HLS.L30.T16RBT.2023236T163205.v2.0.SAA.tif>,\n",
              "  <File-like object HTTPFileSystem, https://data.lpdaac.earthdatacloud.nasa.gov/lp-prod-protected/HLSL30.020/HLS.L30.T16RBT.2023236T163205.v2.0/HLS.L30.T16RBT.2023236T163205.v2.0.B07.tif>,\n",
              "  <File-like object HTTPFileSystem, https://data.lpdaac.earthdatacloud.nasa.gov/lp-prod-protected/HLSL30.020/HLS.L30.T16RBT.2023236T163205.v2.0/HLS.L30.T16RBT.2023236T163205.v2.0.B03.tif>,\n",
              "  <File-like object HTTPFileSystem, https://data.lpdaac.earthdatacloud.nasa.gov/lp-prod-protected/HLSL30.020/HLS.L30.T16RBT.2023236T163205.v2.0/HLS.L30.T16RBT.2023236T163205.v2.0.B11.tif>,\n",
              "  <File-like object HTTPFileSystem, https://data.lpdaac.earthdatacloud.nasa.gov/lp-prod-protected/HLSL30.020/HLS.L30.T16RBT.2023236T163205.v2.0/HLS.L30.T16RBT.2023236T163205.v2.0.SZA.tif>,\n",
              "  <File-like object HTTPFileSystem, https://data.lpdaac.earthdatacloud.nasa.gov/lp-prod-protected/HLSL30.020/HLS.L30.T16RBT.2023236T163205.v2.0/HLS.L30.T16RBT.2023236T163205.v2.0.B06.tif>,\n",
              "  <File-like object HTTPFileSystem, https://data.lpdaac.earthdatacloud.nasa.gov/lp-prod-protected/HLSL30.020/HLS.L30.T16RBT.2023236T163205.v2.0/HLS.L30.T16RBT.2023236T163205.v2.0.VAA.tif>,\n",
              "  <File-like object HTTPFileSystem, https://data.lpdaac.earthdatacloud.nasa.gov/lp-prod-protected/HLSL30.020/HLS.L30.T16RBT.2023236T163205.v2.0/HLS.L30.T16RBT.2023236T163205.v2.0.B09.tif>,\n",
              "  <File-like object HTTPFileSystem, https://data.lpdaac.earthdatacloud.nasa.gov/lp-prod-protected/HLSL30.020/HLS.L30.T16RBT.2023236T163205.v2.0/HLS.L30.T16RBT.2023236T163205.v2.0.B02.tif>,\n",
              "  <File-like object HTTPFileSystem, https://data.lpdaac.earthdatacloud.nasa.gov/lp-prod-protected/HLSL30.020/HLS.L30.T16RBT.2023236T163205.v2.0/HLS.L30.T16RBT.2023236T163205.v2.0.Fmask.tif>,\n",
              "  <File-like object HTTPFileSystem, https://data.lpdaac.earthdatacloud.nasa.gov/lp-prod-protected/HLSL30.020/HLS.L30.T16RBT.2023236T163205.v2.0/HLS.L30.T16RBT.2023236T163205.v2.0.B05.tif>,\n",
              "  <File-like object HTTPFileSystem, https://data.lpdaac.earthdatacloud.nasa.gov/lp-prod-protected/HLSL30.020/HLS.L30.T16RBT.2023236T163205.v2.0/HLS.L30.T16RBT.2023236T163205.v2.0.B01.tif>,\n",
              "  <File-like object HTTPFileSystem, https://data.lpdaac.earthdatacloud.nasa.gov/lp-prod-protected/HLSL30.020/HLS.L30.T16RBT.2023236T163205.v2.0/HLS.L30.T16RBT.2023236T163205.v2.0.VZA.tif>],\n",
              " [<File-like object HTTPFileSystem, https://data.lpdaac.earthdatacloud.nasa.gov/lp-prod-protected/HLSL30.020/HLS.L30.T15RYN.2023236T163205.v2.0/HLS.L30.T15RYN.2023236T163205.v2.0.B11.tif>,\n",
              "  <File-like object HTTPFileSystem, https://data.lpdaac.earthdatacloud.nasa.gov/lp-prod-protected/HLSL30.020/HLS.L30.T15RYN.2023236T163205.v2.0/HLS.L30.T15RYN.2023236T163205.v2.0.B06.tif>,\n",
              "  <File-like object HTTPFileSystem, https://data.lpdaac.earthdatacloud.nasa.gov/lp-prod-protected/HLSL30.020/HLS.L30.T15RYN.2023236T163205.v2.0/HLS.L30.T15RYN.2023236T163205.v2.0.B05.tif>,\n",
              "  <File-like object HTTPFileSystem, https://data.lpdaac.earthdatacloud.nasa.gov/lp-prod-protected/HLSL30.020/HLS.L30.T15RYN.2023236T163205.v2.0/HLS.L30.T15RYN.2023236T163205.v2.0.VZA.tif>,\n",
              "  <File-like object HTTPFileSystem, https://data.lpdaac.earthdatacloud.nasa.gov/lp-prod-protected/HLSL30.020/HLS.L30.T15RYN.2023236T163205.v2.0/HLS.L30.T15RYN.2023236T163205.v2.0.B07.tif>,\n",
              "  <File-like object HTTPFileSystem, https://data.lpdaac.earthdatacloud.nasa.gov/lp-prod-protected/HLSL30.020/HLS.L30.T15RYN.2023236T163205.v2.0/HLS.L30.T15RYN.2023236T163205.v2.0.Fmask.tif>,\n",
              "  <File-like object HTTPFileSystem, https://data.lpdaac.earthdatacloud.nasa.gov/lp-prod-protected/HLSL30.020/HLS.L30.T15RYN.2023236T163205.v2.0/HLS.L30.T15RYN.2023236T163205.v2.0.B01.tif>,\n",
              "  <File-like object HTTPFileSystem, https://data.lpdaac.earthdatacloud.nasa.gov/lp-prod-protected/HLSL30.020/HLS.L30.T15RYN.2023236T163205.v2.0/HLS.L30.T15RYN.2023236T163205.v2.0.B10.tif>,\n",
              "  <File-like object HTTPFileSystem, https://data.lpdaac.earthdatacloud.nasa.gov/lp-prod-protected/HLSL30.020/HLS.L30.T15RYN.2023236T163205.v2.0/HLS.L30.T15RYN.2023236T163205.v2.0.B02.tif>,\n",
              "  <File-like object HTTPFileSystem, https://data.lpdaac.earthdatacloud.nasa.gov/lp-prod-protected/HLSL30.020/HLS.L30.T15RYN.2023236T163205.v2.0/HLS.L30.T15RYN.2023236T163205.v2.0.SAA.tif>,\n",
              "  <File-like object HTTPFileSystem, https://data.lpdaac.earthdatacloud.nasa.gov/lp-prod-protected/HLSL30.020/HLS.L30.T15RYN.2023236T163205.v2.0/HLS.L30.T15RYN.2023236T163205.v2.0.SZA.tif>,\n",
              "  <File-like object HTTPFileSystem, https://data.lpdaac.earthdatacloud.nasa.gov/lp-prod-protected/HLSL30.020/HLS.L30.T15RYN.2023236T163205.v2.0/HLS.L30.T15RYN.2023236T163205.v2.0.B03.tif>,\n",
              "  <File-like object HTTPFileSystem, https://data.lpdaac.earthdatacloud.nasa.gov/lp-prod-protected/HLSL30.020/HLS.L30.T15RYN.2023236T163205.v2.0/HLS.L30.T15RYN.2023236T163205.v2.0.B09.tif>,\n",
              "  <File-like object HTTPFileSystem, https://data.lpdaac.earthdatacloud.nasa.gov/lp-prod-protected/HLSL30.020/HLS.L30.T15RYN.2023236T163205.v2.0/HLS.L30.T15RYN.2023236T163205.v2.0.VAA.tif>,\n",
              "  <File-like object HTTPFileSystem, https://data.lpdaac.earthdatacloud.nasa.gov/lp-prod-protected/HLSL30.020/HLS.L30.T15RYN.2023236T163205.v2.0/HLS.L30.T15RYN.2023236T163205.v2.0.B04.tif>],\n",
              " [<File-like object HTTPFileSystem, https://data.lpdaac.earthdatacloud.nasa.gov/lp-prod-protected/HLSL30.020/HLS.L30.T16RBU.2023236T163205.v2.0/HLS.L30.T16RBU.2023236T163205.v2.0.B03.tif>,\n",
              "  <File-like object HTTPFileSystem, https://data.lpdaac.earthdatacloud.nasa.gov/lp-prod-protected/HLSL30.020/HLS.L30.T16RBU.2023236T163205.v2.0/HLS.L30.T16RBU.2023236T163205.v2.0.B07.tif>,\n",
              "  <File-like object HTTPFileSystem, https://data.lpdaac.earthdatacloud.nasa.gov/lp-prod-protected/HLSL30.020/HLS.L30.T16RBU.2023236T163205.v2.0/HLS.L30.T16RBU.2023236T163205.v2.0.B10.tif>,\n",
              "  <File-like object HTTPFileSystem, https://data.lpdaac.earthdatacloud.nasa.gov/lp-prod-protected/HLSL30.020/HLS.L30.T16RBU.2023236T163205.v2.0/HLS.L30.T16RBU.2023236T163205.v2.0.Fmask.tif>,\n",
              "  <File-like object HTTPFileSystem, https://data.lpdaac.earthdatacloud.nasa.gov/lp-prod-protected/HLSL30.020/HLS.L30.T16RBU.2023236T163205.v2.0/HLS.L30.T16RBU.2023236T163205.v2.0.SZA.tif>,\n",
              "  <File-like object HTTPFileSystem, https://data.lpdaac.earthdatacloud.nasa.gov/lp-prod-protected/HLSL30.020/HLS.L30.T16RBU.2023236T163205.v2.0/HLS.L30.T16RBU.2023236T163205.v2.0.B04.tif>,\n",
              "  <File-like object HTTPFileSystem, https://data.lpdaac.earthdatacloud.nasa.gov/lp-prod-protected/HLSL30.020/HLS.L30.T16RBU.2023236T163205.v2.0/HLS.L30.T16RBU.2023236T163205.v2.0.VZA.tif>,\n",
              "  <File-like object HTTPFileSystem, https://data.lpdaac.earthdatacloud.nasa.gov/lp-prod-protected/HLSL30.020/HLS.L30.T16RBU.2023236T163205.v2.0/HLS.L30.T16RBU.2023236T163205.v2.0.VAA.tif>,\n",
              "  <File-like object HTTPFileSystem, https://data.lpdaac.earthdatacloud.nasa.gov/lp-prod-protected/HLSL30.020/HLS.L30.T16RBU.2023236T163205.v2.0/HLS.L30.T16RBU.2023236T163205.v2.0.B01.tif>,\n",
              "  <File-like object HTTPFileSystem, https://data.lpdaac.earthdatacloud.nasa.gov/lp-prod-protected/HLSL30.020/HLS.L30.T16RBU.2023236T163205.v2.0/HLS.L30.T16RBU.2023236T163205.v2.0.B02.tif>,\n",
              "  <File-like object HTTPFileSystem, https://data.lpdaac.earthdatacloud.nasa.gov/lp-prod-protected/HLSL30.020/HLS.L30.T16RBU.2023236T163205.v2.0/HLS.L30.T16RBU.2023236T163205.v2.0.B09.tif>,\n",
              "  <File-like object HTTPFileSystem, https://data.lpdaac.earthdatacloud.nasa.gov/lp-prod-protected/HLSL30.020/HLS.L30.T16RBU.2023236T163205.v2.0/HLS.L30.T16RBU.2023236T163205.v2.0.SAA.tif>,\n",
              "  <File-like object HTTPFileSystem, https://data.lpdaac.earthdatacloud.nasa.gov/lp-prod-protected/HLSL30.020/HLS.L30.T16RBU.2023236T163205.v2.0/HLS.L30.T16RBU.2023236T163205.v2.0.B06.tif>,\n",
              "  <File-like object HTTPFileSystem, https://data.lpdaac.earthdatacloud.nasa.gov/lp-prod-protected/HLSL30.020/HLS.L30.T16RBU.2023236T163205.v2.0/HLS.L30.T16RBU.2023236T163205.v2.0.B05.tif>,\n",
              "  <File-like object HTTPFileSystem, https://data.lpdaac.earthdatacloud.nasa.gov/lp-prod-protected/HLSL30.020/HLS.L30.T16RBU.2023236T163205.v2.0/HLS.L30.T16RBU.2023236T163205.v2.0.B11.tif>],\n",
              " [<File-like object HTTPFileSystem, https://data.lpdaac.earthdatacloud.nasa.gov/lp-prod-protected/HLSL30.020/HLS.L30.T15RYP.2023244T163203.v2.0/HLS.L30.T15RYP.2023244T163203.v2.0.B10.tif>,\n",
              "  <File-like object HTTPFileSystem, https://data.lpdaac.earthdatacloud.nasa.gov/lp-prod-protected/HLSL30.020/HLS.L30.T15RYP.2023244T163203.v2.0/HLS.L30.T15RYP.2023244T163203.v2.0.B07.tif>,\n",
              "  <File-like object HTTPFileSystem, https://data.lpdaac.earthdatacloud.nasa.gov/lp-prod-protected/HLSL30.020/HLS.L30.T15RYP.2023244T163203.v2.0/HLS.L30.T15RYP.2023244T163203.v2.0.Fmask.tif>,\n",
              "  <File-like object HTTPFileSystem, https://data.lpdaac.earthdatacloud.nasa.gov/lp-prod-protected/HLSL30.020/HLS.L30.T15RYP.2023244T163203.v2.0/HLS.L30.T15RYP.2023244T163203.v2.0.B03.tif>,\n",
              "  <File-like object HTTPFileSystem, https://data.lpdaac.earthdatacloud.nasa.gov/lp-prod-protected/HLSL30.020/HLS.L30.T15RYP.2023244T163203.v2.0/HLS.L30.T15RYP.2023244T163203.v2.0.B09.tif>,\n",
              "  <File-like object HTTPFileSystem, https://data.lpdaac.earthdatacloud.nasa.gov/lp-prod-protected/HLSL30.020/HLS.L30.T15RYP.2023244T163203.v2.0/HLS.L30.T15RYP.2023244T163203.v2.0.B01.tif>,\n",
              "  <File-like object HTTPFileSystem, https://data.lpdaac.earthdatacloud.nasa.gov/lp-prod-protected/HLSL30.020/HLS.L30.T15RYP.2023244T163203.v2.0/HLS.L30.T15RYP.2023244T163203.v2.0.B04.tif>,\n",
              "  <File-like object HTTPFileSystem, https://data.lpdaac.earthdatacloud.nasa.gov/lp-prod-protected/HLSL30.020/HLS.L30.T15RYP.2023244T163203.v2.0/HLS.L30.T15RYP.2023244T163203.v2.0.SAA.tif>,\n",
              "  <File-like object HTTPFileSystem, https://data.lpdaac.earthdatacloud.nasa.gov/lp-prod-protected/HLSL30.020/HLS.L30.T15RYP.2023244T163203.v2.0/HLS.L30.T15RYP.2023244T163203.v2.0.B06.tif>,\n",
              "  <File-like object HTTPFileSystem, https://data.lpdaac.earthdatacloud.nasa.gov/lp-prod-protected/HLSL30.020/HLS.L30.T15RYP.2023244T163203.v2.0/HLS.L30.T15RYP.2023244T163203.v2.0.B11.tif>,\n",
              "  <File-like object HTTPFileSystem, https://data.lpdaac.earthdatacloud.nasa.gov/lp-prod-protected/HLSL30.020/HLS.L30.T15RYP.2023244T163203.v2.0/HLS.L30.T15RYP.2023244T163203.v2.0.VAA.tif>,\n",
              "  <File-like object HTTPFileSystem, https://data.lpdaac.earthdatacloud.nasa.gov/lp-prod-protected/HLSL30.020/HLS.L30.T15RYP.2023244T163203.v2.0/HLS.L30.T15RYP.2023244T163203.v2.0.B02.tif>,\n",
              "  <File-like object HTTPFileSystem, https://data.lpdaac.earthdatacloud.nasa.gov/lp-prod-protected/HLSL30.020/HLS.L30.T15RYP.2023244T163203.v2.0/HLS.L30.T15RYP.2023244T163203.v2.0.B05.tif>,\n",
              "  <File-like object HTTPFileSystem, https://data.lpdaac.earthdatacloud.nasa.gov/lp-prod-protected/HLSL30.020/HLS.L30.T15RYP.2023244T163203.v2.0/HLS.L30.T15RYP.2023244T163203.v2.0.VZA.tif>,\n",
              "  <File-like object HTTPFileSystem, https://data.lpdaac.earthdatacloud.nasa.gov/lp-prod-protected/HLSL30.020/HLS.L30.T15RYP.2023244T163203.v2.0/HLS.L30.T15RYP.2023244T163203.v2.0.SZA.tif>],\n",
              " [<File-like object HTTPFileSystem, https://data.lpdaac.earthdatacloud.nasa.gov/lp-prod-protected/HLSL30.020/HLS.L30.T16RBU.2023244T163203.v2.0/HLS.L30.T16RBU.2023244T163203.v2.0.B11.tif>,\n",
              "  <File-like object HTTPFileSystem, https://data.lpdaac.earthdatacloud.nasa.gov/lp-prod-protected/HLSL30.020/HLS.L30.T16RBU.2023244T163203.v2.0/HLS.L30.T16RBU.2023244T163203.v2.0.B01.tif>,\n",
              "  <File-like object HTTPFileSystem, https://data.lpdaac.earthdatacloud.nasa.gov/lp-prod-protected/HLSL30.020/HLS.L30.T16RBU.2023244T163203.v2.0/HLS.L30.T16RBU.2023244T163203.v2.0.B03.tif>,\n",
              "  <File-like object HTTPFileSystem, https://data.lpdaac.earthdatacloud.nasa.gov/lp-prod-protected/HLSL30.020/HLS.L30.T16RBU.2023244T163203.v2.0/HLS.L30.T16RBU.2023244T163203.v2.0.B02.tif>,\n",
              "  <File-like object HTTPFileSystem, https://data.lpdaac.earthdatacloud.nasa.gov/lp-prod-protected/HLSL30.020/HLS.L30.T16RBU.2023244T163203.v2.0/HLS.L30.T16RBU.2023244T163203.v2.0.SZA.tif>,\n",
              "  <File-like object HTTPFileSystem, https://data.lpdaac.earthdatacloud.nasa.gov/lp-prod-protected/HLSL30.020/HLS.L30.T16RBU.2023244T163203.v2.0/HLS.L30.T16RBU.2023244T163203.v2.0.B05.tif>,\n",
              "  <File-like object HTTPFileSystem, https://data.lpdaac.earthdatacloud.nasa.gov/lp-prod-protected/HLSL30.020/HLS.L30.T16RBU.2023244T163203.v2.0/HLS.L30.T16RBU.2023244T163203.v2.0.VAA.tif>,\n",
              "  <File-like object HTTPFileSystem, https://data.lpdaac.earthdatacloud.nasa.gov/lp-prod-protected/HLSL30.020/HLS.L30.T16RBU.2023244T163203.v2.0/HLS.L30.T16RBU.2023244T163203.v2.0.B04.tif>,\n",
              "  <File-like object HTTPFileSystem, https://data.lpdaac.earthdatacloud.nasa.gov/lp-prod-protected/HLSL30.020/HLS.L30.T16RBU.2023244T163203.v2.0/HLS.L30.T16RBU.2023244T163203.v2.0.SAA.tif>,\n",
              "  <File-like object HTTPFileSystem, https://data.lpdaac.earthdatacloud.nasa.gov/lp-prod-protected/HLSL30.020/HLS.L30.T16RBU.2023244T163203.v2.0/HLS.L30.T16RBU.2023244T163203.v2.0.Fmask.tif>,\n",
              "  <File-like object HTTPFileSystem, https://data.lpdaac.earthdatacloud.nasa.gov/lp-prod-protected/HLSL30.020/HLS.L30.T16RBU.2023244T163203.v2.0/HLS.L30.T16RBU.2023244T163203.v2.0.B09.tif>,\n",
              "  <File-like object HTTPFileSystem, https://data.lpdaac.earthdatacloud.nasa.gov/lp-prod-protected/HLSL30.020/HLS.L30.T16RBU.2023244T163203.v2.0/HLS.L30.T16RBU.2023244T163203.v2.0.B10.tif>,\n",
              "  <File-like object HTTPFileSystem, https://data.lpdaac.earthdatacloud.nasa.gov/lp-prod-protected/HLSL30.020/HLS.L30.T16RBU.2023244T163203.v2.0/HLS.L30.T16RBU.2023244T163203.v2.0.B06.tif>,\n",
              "  <File-like object HTTPFileSystem, https://data.lpdaac.earthdatacloud.nasa.gov/lp-prod-protected/HLSL30.020/HLS.L30.T16RBU.2023244T163203.v2.0/HLS.L30.T16RBU.2023244T163203.v2.0.B07.tif>,\n",
              "  <File-like object HTTPFileSystem, https://data.lpdaac.earthdatacloud.nasa.gov/lp-prod-protected/HLSL30.020/HLS.L30.T16RBU.2023244T163203.v2.0/HLS.L30.T16RBU.2023244T163203.v2.0.VZA.tif>],\n",
              " [<File-like object HTTPFileSystem, https://data.lpdaac.earthdatacloud.nasa.gov/lp-prod-protected/HLSL30.020/HLS.L30.T16RBT.2023244T163203.v2.0/HLS.L30.T16RBT.2023244T163203.v2.0.B01.tif>,\n",
              "  <File-like object HTTPFileSystem, https://data.lpdaac.earthdatacloud.nasa.gov/lp-prod-protected/HLSL30.020/HLS.L30.T16RBT.2023244T163203.v2.0/HLS.L30.T16RBT.2023244T163203.v2.0.B03.tif>,\n",
              "  <File-like object HTTPFileSystem, https://data.lpdaac.earthdatacloud.nasa.gov/lp-prod-protected/HLSL30.020/HLS.L30.T16RBT.2023244T163203.v2.0/HLS.L30.T16RBT.2023244T163203.v2.0.B06.tif>,\n",
              "  <File-like object HTTPFileSystem, https://data.lpdaac.earthdatacloud.nasa.gov/lp-prod-protected/HLSL30.020/HLS.L30.T16RBT.2023244T163203.v2.0/HLS.L30.T16RBT.2023244T163203.v2.0.SAA.tif>,\n",
              "  <File-like object HTTPFileSystem, https://data.lpdaac.earthdatacloud.nasa.gov/lp-prod-protected/HLSL30.020/HLS.L30.T16RBT.2023244T163203.v2.0/HLS.L30.T16RBT.2023244T163203.v2.0.SZA.tif>,\n",
              "  <File-like object HTTPFileSystem, https://data.lpdaac.earthdatacloud.nasa.gov/lp-prod-protected/HLSL30.020/HLS.L30.T16RBT.2023244T163203.v2.0/HLS.L30.T16RBT.2023244T163203.v2.0.B09.tif>,\n",
              "  <File-like object HTTPFileSystem, https://data.lpdaac.earthdatacloud.nasa.gov/lp-prod-protected/HLSL30.020/HLS.L30.T16RBT.2023244T163203.v2.0/HLS.L30.T16RBT.2023244T163203.v2.0.B05.tif>,\n",
              "  <File-like object HTTPFileSystem, https://data.lpdaac.earthdatacloud.nasa.gov/lp-prod-protected/HLSL30.020/HLS.L30.T16RBT.2023244T163203.v2.0/HLS.L30.T16RBT.2023244T163203.v2.0.Fmask.tif>,\n",
              "  <File-like object HTTPFileSystem, https://data.lpdaac.earthdatacloud.nasa.gov/lp-prod-protected/HLSL30.020/HLS.L30.T16RBT.2023244T163203.v2.0/HLS.L30.T16RBT.2023244T163203.v2.0.VAA.tif>,\n",
              "  <File-like object HTTPFileSystem, https://data.lpdaac.earthdatacloud.nasa.gov/lp-prod-protected/HLSL30.020/HLS.L30.T16RBT.2023244T163203.v2.0/HLS.L30.T16RBT.2023244T163203.v2.0.B02.tif>,\n",
              "  <File-like object HTTPFileSystem, https://data.lpdaac.earthdatacloud.nasa.gov/lp-prod-protected/HLSL30.020/HLS.L30.T16RBT.2023244T163203.v2.0/HLS.L30.T16RBT.2023244T163203.v2.0.B04.tif>,\n",
              "  <File-like object HTTPFileSystem, https://data.lpdaac.earthdatacloud.nasa.gov/lp-prod-protected/HLSL30.020/HLS.L30.T16RBT.2023244T163203.v2.0/HLS.L30.T16RBT.2023244T163203.v2.0.VZA.tif>,\n",
              "  <File-like object HTTPFileSystem, https://data.lpdaac.earthdatacloud.nasa.gov/lp-prod-protected/HLSL30.020/HLS.L30.T16RBT.2023244T163203.v2.0/HLS.L30.T16RBT.2023244T163203.v2.0.B11.tif>,\n",
              "  <File-like object HTTPFileSystem, https://data.lpdaac.earthdatacloud.nasa.gov/lp-prod-protected/HLSL30.020/HLS.L30.T16RBT.2023244T163203.v2.0/HLS.L30.T16RBT.2023244T163203.v2.0.B10.tif>,\n",
              "  <File-like object HTTPFileSystem, https://data.lpdaac.earthdatacloud.nasa.gov/lp-prod-protected/HLSL30.020/HLS.L30.T16RBT.2023244T163203.v2.0/HLS.L30.T16RBT.2023244T163203.v2.0.B07.tif>],\n",
              " [<File-like object HTTPFileSystem, https://data.lpdaac.earthdatacloud.nasa.gov/lp-prod-protected/HLSL30.020/HLS.L30.T15RYN.2023244T163203.v2.0/HLS.L30.T15RYN.2023244T163203.v2.0.B04.tif>,\n",
              "  <File-like object HTTPFileSystem, https://data.lpdaac.earthdatacloud.nasa.gov/lp-prod-protected/HLSL30.020/HLS.L30.T15RYN.2023244T163203.v2.0/HLS.L30.T15RYN.2023244T163203.v2.0.Fmask.tif>,\n",
              "  <File-like object HTTPFileSystem, https://data.lpdaac.earthdatacloud.nasa.gov/lp-prod-protected/HLSL30.020/HLS.L30.T15RYN.2023244T163203.v2.0/HLS.L30.T15RYN.2023244T163203.v2.0.B09.tif>,\n",
              "  <File-like object HTTPFileSystem, https://data.lpdaac.earthdatacloud.nasa.gov/lp-prod-protected/HLSL30.020/HLS.L30.T15RYN.2023244T163203.v2.0/HLS.L30.T15RYN.2023244T163203.v2.0.B03.tif>,\n",
              "  <File-like object HTTPFileSystem, https://data.lpdaac.earthdatacloud.nasa.gov/lp-prod-protected/HLSL30.020/HLS.L30.T15RYN.2023244T163203.v2.0/HLS.L30.T15RYN.2023244T163203.v2.0.B02.tif>,\n",
              "  <File-like object HTTPFileSystem, https://data.lpdaac.earthdatacloud.nasa.gov/lp-prod-protected/HLSL30.020/HLS.L30.T15RYN.2023244T163203.v2.0/HLS.L30.T15RYN.2023244T163203.v2.0.B10.tif>,\n",
              "  <File-like object HTTPFileSystem, https://data.lpdaac.earthdatacloud.nasa.gov/lp-prod-protected/HLSL30.020/HLS.L30.T15RYN.2023244T163203.v2.0/HLS.L30.T15RYN.2023244T163203.v2.0.B07.tif>,\n",
              "  <File-like object HTTPFileSystem, https://data.lpdaac.earthdatacloud.nasa.gov/lp-prod-protected/HLSL30.020/HLS.L30.T15RYN.2023244T163203.v2.0/HLS.L30.T15RYN.2023244T163203.v2.0.B05.tif>,\n",
              "  <File-like object HTTPFileSystem, https://data.lpdaac.earthdatacloud.nasa.gov/lp-prod-protected/HLSL30.020/HLS.L30.T15RYN.2023244T163203.v2.0/HLS.L30.T15RYN.2023244T163203.v2.0.B01.tif>,\n",
              "  <File-like object HTTPFileSystem, https://data.lpdaac.earthdatacloud.nasa.gov/lp-prod-protected/HLSL30.020/HLS.L30.T15RYN.2023244T163203.v2.0/HLS.L30.T15RYN.2023244T163203.v2.0.B06.tif>,\n",
              "  <File-like object HTTPFileSystem, https://data.lpdaac.earthdatacloud.nasa.gov/lp-prod-protected/HLSL30.020/HLS.L30.T15RYN.2023244T163203.v2.0/HLS.L30.T15RYN.2023244T163203.v2.0.SAA.tif>,\n",
              "  <File-like object HTTPFileSystem, https://data.lpdaac.earthdatacloud.nasa.gov/lp-prod-protected/HLSL30.020/HLS.L30.T15RYN.2023244T163203.v2.0/HLS.L30.T15RYN.2023244T163203.v2.0.VAA.tif>,\n",
              "  <File-like object HTTPFileSystem, https://data.lpdaac.earthdatacloud.nasa.gov/lp-prod-protected/HLSL30.020/HLS.L30.T15RYN.2023244T163203.v2.0/HLS.L30.T15RYN.2023244T163203.v2.0.VZA.tif>,\n",
              "  <File-like object HTTPFileSystem, https://data.lpdaac.earthdatacloud.nasa.gov/lp-prod-protected/HLSL30.020/HLS.L30.T15RYN.2023244T163203.v2.0/HLS.L30.T15RYN.2023244T163203.v2.0.B11.tif>,\n",
              "  <File-like object HTTPFileSystem, https://data.lpdaac.earthdatacloud.nasa.gov/lp-prod-protected/HLSL30.020/HLS.L30.T15RYN.2023244T163203.v2.0/HLS.L30.T15RYN.2023244T163203.v2.0.SZA.tif>],\n",
              " [<File-like object HTTPFileSystem, https://data.lpdaac.earthdatacloud.nasa.gov/lp-prod-protected/HLSL30.020/HLS.L30.T16RBU.2023252T163206.v2.0/HLS.L30.T16RBU.2023252T163206.v2.0.B04.tif>,\n",
              "  <File-like object HTTPFileSystem, https://data.lpdaac.earthdatacloud.nasa.gov/lp-prod-protected/HLSL30.020/HLS.L30.T16RBU.2023252T163206.v2.0/HLS.L30.T16RBU.2023252T163206.v2.0.B06.tif>,\n",
              "  <File-like object HTTPFileSystem, https://data.lpdaac.earthdatacloud.nasa.gov/lp-prod-protected/HLSL30.020/HLS.L30.T16RBU.2023252T163206.v2.0/HLS.L30.T16RBU.2023252T163206.v2.0.B03.tif>,\n",
              "  <File-like object HTTPFileSystem, https://data.lpdaac.earthdatacloud.nasa.gov/lp-prod-protected/HLSL30.020/HLS.L30.T16RBU.2023252T163206.v2.0/HLS.L30.T16RBU.2023252T163206.v2.0.SAA.tif>,\n",
              "  <File-like object HTTPFileSystem, https://data.lpdaac.earthdatacloud.nasa.gov/lp-prod-protected/HLSL30.020/HLS.L30.T16RBU.2023252T163206.v2.0/HLS.L30.T16RBU.2023252T163206.v2.0.Fmask.tif>,\n",
              "  <File-like object HTTPFileSystem, https://data.lpdaac.earthdatacloud.nasa.gov/lp-prod-protected/HLSL30.020/HLS.L30.T16RBU.2023252T163206.v2.0/HLS.L30.T16RBU.2023252T163206.v2.0.B07.tif>,\n",
              "  <File-like object HTTPFileSystem, https://data.lpdaac.earthdatacloud.nasa.gov/lp-prod-protected/HLSL30.020/HLS.L30.T16RBU.2023252T163206.v2.0/HLS.L30.T16RBU.2023252T163206.v2.0.B02.tif>,\n",
              "  <File-like object HTTPFileSystem, https://data.lpdaac.earthdatacloud.nasa.gov/lp-prod-protected/HLSL30.020/HLS.L30.T16RBU.2023252T163206.v2.0/HLS.L30.T16RBU.2023252T163206.v2.0.SZA.tif>,\n",
              "  <File-like object HTTPFileSystem, https://data.lpdaac.earthdatacloud.nasa.gov/lp-prod-protected/HLSL30.020/HLS.L30.T16RBU.2023252T163206.v2.0/HLS.L30.T16RBU.2023252T163206.v2.0.B05.tif>,\n",
              "  <File-like object HTTPFileSystem, https://data.lpdaac.earthdatacloud.nasa.gov/lp-prod-protected/HLSL30.020/HLS.L30.T16RBU.2023252T163206.v2.0/HLS.L30.T16RBU.2023252T163206.v2.0.B11.tif>,\n",
              "  <File-like object HTTPFileSystem, https://data.lpdaac.earthdatacloud.nasa.gov/lp-prod-protected/HLSL30.020/HLS.L30.T16RBU.2023252T163206.v2.0/HLS.L30.T16RBU.2023252T163206.v2.0.B09.tif>,\n",
              "  <File-like object HTTPFileSystem, https://data.lpdaac.earthdatacloud.nasa.gov/lp-prod-protected/HLSL30.020/HLS.L30.T16RBU.2023252T163206.v2.0/HLS.L30.T16RBU.2023252T163206.v2.0.B10.tif>,\n",
              "  <File-like object HTTPFileSystem, https://data.lpdaac.earthdatacloud.nasa.gov/lp-prod-protected/HLSL30.020/HLS.L30.T16RBU.2023252T163206.v2.0/HLS.L30.T16RBU.2023252T163206.v2.0.VAA.tif>,\n",
              "  <File-like object HTTPFileSystem, https://data.lpdaac.earthdatacloud.nasa.gov/lp-prod-protected/HLSL30.020/HLS.L30.T16RBU.2023252T163206.v2.0/HLS.L30.T16RBU.2023252T163206.v2.0.VZA.tif>,\n",
              "  <File-like object HTTPFileSystem, https://data.lpdaac.earthdatacloud.nasa.gov/lp-prod-protected/HLSL30.020/HLS.L30.T16RBU.2023252T163206.v2.0/HLS.L30.T16RBU.2023252T163206.v2.0.B01.tif>],\n",
              " [<File-like object HTTPFileSystem, https://data.lpdaac.earthdatacloud.nasa.gov/lp-prod-protected/HLSL30.020/HLS.L30.T15RYP.2023252T163206.v2.0/HLS.L30.T15RYP.2023252T163206.v2.0.B03.tif>,\n",
              "  <File-like object HTTPFileSystem, https://data.lpdaac.earthdatacloud.nasa.gov/lp-prod-protected/HLSL30.020/HLS.L30.T15RYP.2023252T163206.v2.0/HLS.L30.T15RYP.2023252T163206.v2.0.B01.tif>,\n",
              "  <File-like object HTTPFileSystem, https://data.lpdaac.earthdatacloud.nasa.gov/lp-prod-protected/HLSL30.020/HLS.L30.T15RYP.2023252T163206.v2.0/HLS.L30.T15RYP.2023252T163206.v2.0.Fmask.tif>,\n",
              "  <File-like object HTTPFileSystem, https://data.lpdaac.earthdatacloud.nasa.gov/lp-prod-protected/HLSL30.020/HLS.L30.T15RYP.2023252T163206.v2.0/HLS.L30.T15RYP.2023252T163206.v2.0.B10.tif>,\n",
              "  <File-like object HTTPFileSystem, https://data.lpdaac.earthdatacloud.nasa.gov/lp-prod-protected/HLSL30.020/HLS.L30.T15RYP.2023252T163206.v2.0/HLS.L30.T15RYP.2023252T163206.v2.0.B02.tif>,\n",
              "  <File-like object HTTPFileSystem, https://data.lpdaac.earthdatacloud.nasa.gov/lp-prod-protected/HLSL30.020/HLS.L30.T15RYP.2023252T163206.v2.0/HLS.L30.T15RYP.2023252T163206.v2.0.B09.tif>,\n",
              "  <File-like object HTTPFileSystem, https://data.lpdaac.earthdatacloud.nasa.gov/lp-prod-protected/HLSL30.020/HLS.L30.T15RYP.2023252T163206.v2.0/HLS.L30.T15RYP.2023252T163206.v2.0.SZA.tif>,\n",
              "  <File-like object HTTPFileSystem, https://data.lpdaac.earthdatacloud.nasa.gov/lp-prod-protected/HLSL30.020/HLS.L30.T15RYP.2023252T163206.v2.0/HLS.L30.T15RYP.2023252T163206.v2.0.VAA.tif>,\n",
              "  <File-like object HTTPFileSystem, https://data.lpdaac.earthdatacloud.nasa.gov/lp-prod-protected/HLSL30.020/HLS.L30.T15RYP.2023252T163206.v2.0/HLS.L30.T15RYP.2023252T163206.v2.0.VZA.tif>,\n",
              "  <File-like object HTTPFileSystem, https://data.lpdaac.earthdatacloud.nasa.gov/lp-prod-protected/HLSL30.020/HLS.L30.T15RYP.2023252T163206.v2.0/HLS.L30.T15RYP.2023252T163206.v2.0.B06.tif>,\n",
              "  <File-like object HTTPFileSystem, https://data.lpdaac.earthdatacloud.nasa.gov/lp-prod-protected/HLSL30.020/HLS.L30.T15RYP.2023252T163206.v2.0/HLS.L30.T15RYP.2023252T163206.v2.0.B05.tif>,\n",
              "  <File-like object HTTPFileSystem, https://data.lpdaac.earthdatacloud.nasa.gov/lp-prod-protected/HLSL30.020/HLS.L30.T15RYP.2023252T163206.v2.0/HLS.L30.T15RYP.2023252T163206.v2.0.B11.tif>,\n",
              "  <File-like object HTTPFileSystem, https://data.lpdaac.earthdatacloud.nasa.gov/lp-prod-protected/HLSL30.020/HLS.L30.T15RYP.2023252T163206.v2.0/HLS.L30.T15RYP.2023252T163206.v2.0.B07.tif>,\n",
              "  <File-like object HTTPFileSystem, https://data.lpdaac.earthdatacloud.nasa.gov/lp-prod-protected/HLSL30.020/HLS.L30.T15RYP.2023252T163206.v2.0/HLS.L30.T15RYP.2023252T163206.v2.0.SAA.tif>,\n",
              "  <File-like object HTTPFileSystem, https://data.lpdaac.earthdatacloud.nasa.gov/lp-prod-protected/HLSL30.020/HLS.L30.T15RYP.2023252T163206.v2.0/HLS.L30.T15RYP.2023252T163206.v2.0.B04.tif>],\n",
              " [<File-like object HTTPFileSystem, https://data.lpdaac.earthdatacloud.nasa.gov/lp-prod-protected/HLSL30.020/HLS.L30.T15RYN.2023252T163206.v2.0/HLS.L30.T15RYN.2023252T163206.v2.0.B10.tif>,\n",
              "  <File-like object HTTPFileSystem, https://data.lpdaac.earthdatacloud.nasa.gov/lp-prod-protected/HLSL30.020/HLS.L30.T15RYN.2023252T163206.v2.0/HLS.L30.T15RYN.2023252T163206.v2.0.VZA.tif>,\n",
              "  <File-like object HTTPFileSystem, https://data.lpdaac.earthdatacloud.nasa.gov/lp-prod-protected/HLSL30.020/HLS.L30.T15RYN.2023252T163206.v2.0/HLS.L30.T15RYN.2023252T163206.v2.0.SZA.tif>,\n",
              "  <File-like object HTTPFileSystem, https://data.lpdaac.earthdatacloud.nasa.gov/lp-prod-protected/HLSL30.020/HLS.L30.T15RYN.2023252T163206.v2.0/HLS.L30.T15RYN.2023252T163206.v2.0.SAA.tif>,\n",
              "  <File-like object HTTPFileSystem, https://data.lpdaac.earthdatacloud.nasa.gov/lp-prod-protected/HLSL30.020/HLS.L30.T15RYN.2023252T163206.v2.0/HLS.L30.T15RYN.2023252T163206.v2.0.B05.tif>,\n",
              "  <File-like object HTTPFileSystem, https://data.lpdaac.earthdatacloud.nasa.gov/lp-prod-protected/HLSL30.020/HLS.L30.T15RYN.2023252T163206.v2.0/HLS.L30.T15RYN.2023252T163206.v2.0.VAA.tif>,\n",
              "  <File-like object HTTPFileSystem, https://data.lpdaac.earthdatacloud.nasa.gov/lp-prod-protected/HLSL30.020/HLS.L30.T15RYN.2023252T163206.v2.0/HLS.L30.T15RYN.2023252T163206.v2.0.B02.tif>,\n",
              "  <File-like object HTTPFileSystem, https://data.lpdaac.earthdatacloud.nasa.gov/lp-prod-protected/HLSL30.020/HLS.L30.T15RYN.2023252T163206.v2.0/HLS.L30.T15RYN.2023252T163206.v2.0.B04.tif>,\n",
              "  <File-like object HTTPFileSystem, https://data.lpdaac.earthdatacloud.nasa.gov/lp-prod-protected/HLSL30.020/HLS.L30.T15RYN.2023252T163206.v2.0/HLS.L30.T15RYN.2023252T163206.v2.0.B07.tif>,\n",
              "  <File-like object HTTPFileSystem, https://data.lpdaac.earthdatacloud.nasa.gov/lp-prod-protected/HLSL30.020/HLS.L30.T15RYN.2023252T163206.v2.0/HLS.L30.T15RYN.2023252T163206.v2.0.B06.tif>,\n",
              "  <File-like object HTTPFileSystem, https://data.lpdaac.earthdatacloud.nasa.gov/lp-prod-protected/HLSL30.020/HLS.L30.T15RYN.2023252T163206.v2.0/HLS.L30.T15RYN.2023252T163206.v2.0.B01.tif>,\n",
              "  <File-like object HTTPFileSystem, https://data.lpdaac.earthdatacloud.nasa.gov/lp-prod-protected/HLSL30.020/HLS.L30.T15RYN.2023252T163206.v2.0/HLS.L30.T15RYN.2023252T163206.v2.0.B11.tif>,\n",
              "  <File-like object HTTPFileSystem, https://data.lpdaac.earthdatacloud.nasa.gov/lp-prod-protected/HLSL30.020/HLS.L30.T15RYN.2023252T163206.v2.0/HLS.L30.T15RYN.2023252T163206.v2.0.Fmask.tif>,\n",
              "  <File-like object HTTPFileSystem, https://data.lpdaac.earthdatacloud.nasa.gov/lp-prod-protected/HLSL30.020/HLS.L30.T15RYN.2023252T163206.v2.0/HLS.L30.T15RYN.2023252T163206.v2.0.B03.tif>,\n",
              "  <File-like object HTTPFileSystem, https://data.lpdaac.earthdatacloud.nasa.gov/lp-prod-protected/HLSL30.020/HLS.L30.T15RYN.2023252T163206.v2.0/HLS.L30.T15RYN.2023252T163206.v2.0.B09.tif>],\n",
              " [<File-like object HTTPFileSystem, https://data.lpdaac.earthdatacloud.nasa.gov/lp-prod-protected/HLSL30.020/HLS.L30.T16RBT.2023252T163206.v2.0/HLS.L30.T16RBT.2023252T163206.v2.0.B09.tif>,\n",
              "  <File-like object HTTPFileSystem, https://data.lpdaac.earthdatacloud.nasa.gov/lp-prod-protected/HLSL30.020/HLS.L30.T16RBT.2023252T163206.v2.0/HLS.L30.T16RBT.2023252T163206.v2.0.B03.tif>,\n",
              "  <File-like object HTTPFileSystem, https://data.lpdaac.earthdatacloud.nasa.gov/lp-prod-protected/HLSL30.020/HLS.L30.T16RBT.2023252T163206.v2.0/HLS.L30.T16RBT.2023252T163206.v2.0.B06.tif>,\n",
              "  <File-like object HTTPFileSystem, https://data.lpdaac.earthdatacloud.nasa.gov/lp-prod-protected/HLSL30.020/HLS.L30.T16RBT.2023252T163206.v2.0/HLS.L30.T16RBT.2023252T163206.v2.0.VZA.tif>,\n",
              "  <File-like object HTTPFileSystem, https://data.lpdaac.earthdatacloud.nasa.gov/lp-prod-protected/HLSL30.020/HLS.L30.T16RBT.2023252T163206.v2.0/HLS.L30.T16RBT.2023252T163206.v2.0.SZA.tif>,\n",
              "  <File-like object HTTPFileSystem, https://data.lpdaac.earthdatacloud.nasa.gov/lp-prod-protected/HLSL30.020/HLS.L30.T16RBT.2023252T163206.v2.0/HLS.L30.T16RBT.2023252T163206.v2.0.B10.tif>,\n",
              "  <File-like object HTTPFileSystem, https://data.lpdaac.earthdatacloud.nasa.gov/lp-prod-protected/HLSL30.020/HLS.L30.T16RBT.2023252T163206.v2.0/HLS.L30.T16RBT.2023252T163206.v2.0.B02.tif>,\n",
              "  <File-like object HTTPFileSystem, https://data.lpdaac.earthdatacloud.nasa.gov/lp-prod-protected/HLSL30.020/HLS.L30.T16RBT.2023252T163206.v2.0/HLS.L30.T16RBT.2023252T163206.v2.0.B07.tif>,\n",
              "  <File-like object HTTPFileSystem, https://data.lpdaac.earthdatacloud.nasa.gov/lp-prod-protected/HLSL30.020/HLS.L30.T16RBT.2023252T163206.v2.0/HLS.L30.T16RBT.2023252T163206.v2.0.SAA.tif>,\n",
              "  <File-like object HTTPFileSystem, https://data.lpdaac.earthdatacloud.nasa.gov/lp-prod-protected/HLSL30.020/HLS.L30.T16RBT.2023252T163206.v2.0/HLS.L30.T16RBT.2023252T163206.v2.0.Fmask.tif>,\n",
              "  <File-like object HTTPFileSystem, https://data.lpdaac.earthdatacloud.nasa.gov/lp-prod-protected/HLSL30.020/HLS.L30.T16RBT.2023252T163206.v2.0/HLS.L30.T16RBT.2023252T163206.v2.0.B01.tif>,\n",
              "  <File-like object HTTPFileSystem, https://data.lpdaac.earthdatacloud.nasa.gov/lp-prod-protected/HLSL30.020/HLS.L30.T16RBT.2023252T163206.v2.0/HLS.L30.T16RBT.2023252T163206.v2.0.B11.tif>,\n",
              "  <File-like object HTTPFileSystem, https://data.lpdaac.earthdatacloud.nasa.gov/lp-prod-protected/HLSL30.020/HLS.L30.T16RBT.2023252T163206.v2.0/HLS.L30.T16RBT.2023252T163206.v2.0.VAA.tif>,\n",
              "  <File-like object HTTPFileSystem, https://data.lpdaac.earthdatacloud.nasa.gov/lp-prod-protected/HLSL30.020/HLS.L30.T16RBT.2023252T163206.v2.0/HLS.L30.T16RBT.2023252T163206.v2.0.B05.tif>,\n",
              "  <File-like object HTTPFileSystem, https://data.lpdaac.earthdatacloud.nasa.gov/lp-prod-protected/HLSL30.020/HLS.L30.T16RBT.2023252T163206.v2.0/HLS.L30.T16RBT.2023252T163206.v2.0.B04.tif>],\n",
              " [<File-like object HTTPFileSystem, https://data.lpdaac.earthdatacloud.nasa.gov/lp-prod-protected/HLSL30.020/HLS.L30.T16RBU.2023260T163211.v2.0/HLS.L30.T16RBU.2023260T163211.v2.0.B09.tif>,\n",
              "  <File-like object HTTPFileSystem, https://data.lpdaac.earthdatacloud.nasa.gov/lp-prod-protected/HLSL30.020/HLS.L30.T16RBU.2023260T163211.v2.0/HLS.L30.T16RBU.2023260T163211.v2.0.SZA.tif>,\n",
              "  <File-like object HTTPFileSystem, https://data.lpdaac.earthdatacloud.nasa.gov/lp-prod-protected/HLSL30.020/HLS.L30.T16RBU.2023260T163211.v2.0/HLS.L30.T16RBU.2023260T163211.v2.0.B03.tif>,\n",
              "  <File-like object HTTPFileSystem, https://data.lpdaac.earthdatacloud.nasa.gov/lp-prod-protected/HLSL30.020/HLS.L30.T16RBU.2023260T163211.v2.0/HLS.L30.T16RBU.2023260T163211.v2.0.B02.tif>,\n",
              "  <File-like object HTTPFileSystem, https://data.lpdaac.earthdatacloud.nasa.gov/lp-prod-protected/HLSL30.020/HLS.L30.T16RBU.2023260T163211.v2.0/HLS.L30.T16RBU.2023260T163211.v2.0.B11.tif>,\n",
              "  <File-like object HTTPFileSystem, https://data.lpdaac.earthdatacloud.nasa.gov/lp-prod-protected/HLSL30.020/HLS.L30.T16RBU.2023260T163211.v2.0/HLS.L30.T16RBU.2023260T163211.v2.0.VAA.tif>,\n",
              "  <File-like object HTTPFileSystem, https://data.lpdaac.earthdatacloud.nasa.gov/lp-prod-protected/HLSL30.020/HLS.L30.T16RBU.2023260T163211.v2.0/HLS.L30.T16RBU.2023260T163211.v2.0.Fmask.tif>,\n",
              "  <File-like object HTTPFileSystem, https://data.lpdaac.earthdatacloud.nasa.gov/lp-prod-protected/HLSL30.020/HLS.L30.T16RBU.2023260T163211.v2.0/HLS.L30.T16RBU.2023260T163211.v2.0.SAA.tif>,\n",
              "  <File-like object HTTPFileSystem, https://data.lpdaac.earthdatacloud.nasa.gov/lp-prod-protected/HLSL30.020/HLS.L30.T16RBU.2023260T163211.v2.0/HLS.L30.T16RBU.2023260T163211.v2.0.B06.tif>,\n",
              "  <File-like object HTTPFileSystem, https://data.lpdaac.earthdatacloud.nasa.gov/lp-prod-protected/HLSL30.020/HLS.L30.T16RBU.2023260T163211.v2.0/HLS.L30.T16RBU.2023260T163211.v2.0.B05.tif>,\n",
              "  <File-like object HTTPFileSystem, https://data.lpdaac.earthdatacloud.nasa.gov/lp-prod-protected/HLSL30.020/HLS.L30.T16RBU.2023260T163211.v2.0/HLS.L30.T16RBU.2023260T163211.v2.0.B10.tif>,\n",
              "  <File-like object HTTPFileSystem, https://data.lpdaac.earthdatacloud.nasa.gov/lp-prod-protected/HLSL30.020/HLS.L30.T16RBU.2023260T163211.v2.0/HLS.L30.T16RBU.2023260T163211.v2.0.B07.tif>,\n",
              "  <File-like object HTTPFileSystem, https://data.lpdaac.earthdatacloud.nasa.gov/lp-prod-protected/HLSL30.020/HLS.L30.T16RBU.2023260T163211.v2.0/HLS.L30.T16RBU.2023260T163211.v2.0.VZA.tif>,\n",
              "  <File-like object HTTPFileSystem, https://data.lpdaac.earthdatacloud.nasa.gov/lp-prod-protected/HLSL30.020/HLS.L30.T16RBU.2023260T163211.v2.0/HLS.L30.T16RBU.2023260T163211.v2.0.B04.tif>,\n",
              "  <File-like object HTTPFileSystem, https://data.lpdaac.earthdatacloud.nasa.gov/lp-prod-protected/HLSL30.020/HLS.L30.T16RBU.2023260T163211.v2.0/HLS.L30.T16RBU.2023260T163211.v2.0.B01.tif>],\n",
              " [<File-like object HTTPFileSystem, https://data.lpdaac.earthdatacloud.nasa.gov/lp-prod-protected/HLSL30.020/HLS.L30.T15RYP.2023260T163211.v2.0/HLS.L30.T15RYP.2023260T163211.v2.0.B02.tif>,\n",
              "  <File-like object HTTPFileSystem, https://data.lpdaac.earthdatacloud.nasa.gov/lp-prod-protected/HLSL30.020/HLS.L30.T15RYP.2023260T163211.v2.0/HLS.L30.T15RYP.2023260T163211.v2.0.VZA.tif>,\n",
              "  <File-like object HTTPFileSystem, https://data.lpdaac.earthdatacloud.nasa.gov/lp-prod-protected/HLSL30.020/HLS.L30.T15RYP.2023260T163211.v2.0/HLS.L30.T15RYP.2023260T163211.v2.0.Fmask.tif>,\n",
              "  <File-like object HTTPFileSystem, https://data.lpdaac.earthdatacloud.nasa.gov/lp-prod-protected/HLSL30.020/HLS.L30.T15RYP.2023260T163211.v2.0/HLS.L30.T15RYP.2023260T163211.v2.0.B10.tif>,\n",
              "  <File-like object HTTPFileSystem, https://data.lpdaac.earthdatacloud.nasa.gov/lp-prod-protected/HLSL30.020/HLS.L30.T15RYP.2023260T163211.v2.0/HLS.L30.T15RYP.2023260T163211.v2.0.SAA.tif>,\n",
              "  <File-like object HTTPFileSystem, https://data.lpdaac.earthdatacloud.nasa.gov/lp-prod-protected/HLSL30.020/HLS.L30.T15RYP.2023260T163211.v2.0/HLS.L30.T15RYP.2023260T163211.v2.0.SZA.tif>,\n",
              "  <File-like object HTTPFileSystem, https://data.lpdaac.earthdatacloud.nasa.gov/lp-prod-protected/HLSL30.020/HLS.L30.T15RYP.2023260T163211.v2.0/HLS.L30.T15RYP.2023260T163211.v2.0.B05.tif>,\n",
              "  <File-like object HTTPFileSystem, https://data.lpdaac.earthdatacloud.nasa.gov/lp-prod-protected/HLSL30.020/HLS.L30.T15RYP.2023260T163211.v2.0/HLS.L30.T15RYP.2023260T163211.v2.0.B01.tif>,\n",
              "  <File-like object HTTPFileSystem, https://data.lpdaac.earthdatacloud.nasa.gov/lp-prod-protected/HLSL30.020/HLS.L30.T15RYP.2023260T163211.v2.0/HLS.L30.T15RYP.2023260T163211.v2.0.B07.tif>,\n",
              "  <File-like object HTTPFileSystem, https://data.lpdaac.earthdatacloud.nasa.gov/lp-prod-protected/HLSL30.020/HLS.L30.T15RYP.2023260T163211.v2.0/HLS.L30.T15RYP.2023260T163211.v2.0.B04.tif>,\n",
              "  <File-like object HTTPFileSystem, https://data.lpdaac.earthdatacloud.nasa.gov/lp-prod-protected/HLSL30.020/HLS.L30.T15RYP.2023260T163211.v2.0/HLS.L30.T15RYP.2023260T163211.v2.0.B03.tif>,\n",
              "  <File-like object HTTPFileSystem, https://data.lpdaac.earthdatacloud.nasa.gov/lp-prod-protected/HLSL30.020/HLS.L30.T15RYP.2023260T163211.v2.0/HLS.L30.T15RYP.2023260T163211.v2.0.VAA.tif>,\n",
              "  <File-like object HTTPFileSystem, https://data.lpdaac.earthdatacloud.nasa.gov/lp-prod-protected/HLSL30.020/HLS.L30.T15RYP.2023260T163211.v2.0/HLS.L30.T15RYP.2023260T163211.v2.0.B09.tif>,\n",
              "  <File-like object HTTPFileSystem, https://data.lpdaac.earthdatacloud.nasa.gov/lp-prod-protected/HLSL30.020/HLS.L30.T15RYP.2023260T163211.v2.0/HLS.L30.T15RYP.2023260T163211.v2.0.B11.tif>,\n",
              "  <File-like object HTTPFileSystem, https://data.lpdaac.earthdatacloud.nasa.gov/lp-prod-protected/HLSL30.020/HLS.L30.T15RYP.2023260T163211.v2.0/HLS.L30.T15RYP.2023260T163211.v2.0.B06.tif>],\n",
              " [<File-like object HTTPFileSystem, https://data.lpdaac.earthdatacloud.nasa.gov/lp-prod-protected/HLSL30.020/HLS.L30.T16RBT.2023260T163211.v2.0/HLS.L30.T16RBT.2023260T163211.v2.0.SZA.tif>,\n",
              "  <File-like object HTTPFileSystem, https://data.lpdaac.earthdatacloud.nasa.gov/lp-prod-protected/HLSL30.020/HLS.L30.T16RBT.2023260T163211.v2.0/HLS.L30.T16RBT.2023260T163211.v2.0.Fmask.tif>,\n",
              "  <File-like object HTTPFileSystem, https://data.lpdaac.earthdatacloud.nasa.gov/lp-prod-protected/HLSL30.020/HLS.L30.T16RBT.2023260T163211.v2.0/HLS.L30.T16RBT.2023260T163211.v2.0.B09.tif>,\n",
              "  <File-like object HTTPFileSystem, https://data.lpdaac.earthdatacloud.nasa.gov/lp-prod-protected/HLSL30.020/HLS.L30.T16RBT.2023260T163211.v2.0/HLS.L30.T16RBT.2023260T163211.v2.0.SAA.tif>,\n",
              "  <File-like object HTTPFileSystem, https://data.lpdaac.earthdatacloud.nasa.gov/lp-prod-protected/HLSL30.020/HLS.L30.T16RBT.2023260T163211.v2.0/HLS.L30.T16RBT.2023260T163211.v2.0.VZA.tif>,\n",
              "  <File-like object HTTPFileSystem, https://data.lpdaac.earthdatacloud.nasa.gov/lp-prod-protected/HLSL30.020/HLS.L30.T16RBT.2023260T163211.v2.0/HLS.L30.T16RBT.2023260T163211.v2.0.VAA.tif>,\n",
              "  <File-like object HTTPFileSystem, https://data.lpdaac.earthdatacloud.nasa.gov/lp-prod-protected/HLSL30.020/HLS.L30.T16RBT.2023260T163211.v2.0/HLS.L30.T16RBT.2023260T163211.v2.0.B01.tif>,\n",
              "  <File-like object HTTPFileSystem, https://data.lpdaac.earthdatacloud.nasa.gov/lp-prod-protected/HLSL30.020/HLS.L30.T16RBT.2023260T163211.v2.0/HLS.L30.T16RBT.2023260T163211.v2.0.B03.tif>,\n",
              "  <File-like object HTTPFileSystem, https://data.lpdaac.earthdatacloud.nasa.gov/lp-prod-protected/HLSL30.020/HLS.L30.T16RBT.2023260T163211.v2.0/HLS.L30.T16RBT.2023260T163211.v2.0.B02.tif>,\n",
              "  <File-like object HTTPFileSystem, https://data.lpdaac.earthdatacloud.nasa.gov/lp-prod-protected/HLSL30.020/HLS.L30.T16RBT.2023260T163211.v2.0/HLS.L30.T16RBT.2023260T163211.v2.0.B05.tif>,\n",
              "  <File-like object HTTPFileSystem, https://data.lpdaac.earthdatacloud.nasa.gov/lp-prod-protected/HLSL30.020/HLS.L30.T16RBT.2023260T163211.v2.0/HLS.L30.T16RBT.2023260T163211.v2.0.B11.tif>,\n",
              "  <File-like object HTTPFileSystem, https://data.lpdaac.earthdatacloud.nasa.gov/lp-prod-protected/HLSL30.020/HLS.L30.T16RBT.2023260T163211.v2.0/HLS.L30.T16RBT.2023260T163211.v2.0.B07.tif>,\n",
              "  <File-like object HTTPFileSystem, https://data.lpdaac.earthdatacloud.nasa.gov/lp-prod-protected/HLSL30.020/HLS.L30.T16RBT.2023260T163211.v2.0/HLS.L30.T16RBT.2023260T163211.v2.0.B04.tif>,\n",
              "  <File-like object HTTPFileSystem, https://data.lpdaac.earthdatacloud.nasa.gov/lp-prod-protected/HLSL30.020/HLS.L30.T16RBT.2023260T163211.v2.0/HLS.L30.T16RBT.2023260T163211.v2.0.B06.tif>,\n",
              "  <File-like object HTTPFileSystem, https://data.lpdaac.earthdatacloud.nasa.gov/lp-prod-protected/HLSL30.020/HLS.L30.T16RBT.2023260T163211.v2.0/HLS.L30.T16RBT.2023260T163211.v2.0.B10.tif>],\n",
              " [<File-like object HTTPFileSystem, https://data.lpdaac.earthdatacloud.nasa.gov/lp-prod-protected/HLSL30.020/HLS.L30.T15RYN.2023260T163211.v2.0/HLS.L30.T15RYN.2023260T163211.v2.0.VAA.tif>,\n",
              "  <File-like object HTTPFileSystem, https://data.lpdaac.earthdatacloud.nasa.gov/lp-prod-protected/HLSL30.020/HLS.L30.T15RYN.2023260T163211.v2.0/HLS.L30.T15RYN.2023260T163211.v2.0.SAA.tif>,\n",
              "  <File-like object HTTPFileSystem, https://data.lpdaac.earthdatacloud.nasa.gov/lp-prod-protected/HLSL30.020/HLS.L30.T15RYN.2023260T163211.v2.0/HLS.L30.T15RYN.2023260T163211.v2.0.SZA.tif>,\n",
              "  <File-like object HTTPFileSystem, https://data.lpdaac.earthdatacloud.nasa.gov/lp-prod-protected/HLSL30.020/HLS.L30.T15RYN.2023260T163211.v2.0/HLS.L30.T15RYN.2023260T163211.v2.0.B04.tif>,\n",
              "  <File-like object HTTPFileSystem, https://data.lpdaac.earthdatacloud.nasa.gov/lp-prod-protected/HLSL30.020/HLS.L30.T15RYN.2023260T163211.v2.0/HLS.L30.T15RYN.2023260T163211.v2.0.B05.tif>,\n",
              "  <File-like object HTTPFileSystem, https://data.lpdaac.earthdatacloud.nasa.gov/lp-prod-protected/HLSL30.020/HLS.L30.T15RYN.2023260T163211.v2.0/HLS.L30.T15RYN.2023260T163211.v2.0.B09.tif>,\n",
              "  <File-like object HTTPFileSystem, https://data.lpdaac.earthdatacloud.nasa.gov/lp-prod-protected/HLSL30.020/HLS.L30.T15RYN.2023260T163211.v2.0/HLS.L30.T15RYN.2023260T163211.v2.0.B11.tif>,\n",
              "  <File-like object HTTPFileSystem, https://data.lpdaac.earthdatacloud.nasa.gov/lp-prod-protected/HLSL30.020/HLS.L30.T15RYN.2023260T163211.v2.0/HLS.L30.T15RYN.2023260T163211.v2.0.B03.tif>,\n",
              "  <File-like object HTTPFileSystem, https://data.lpdaac.earthdatacloud.nasa.gov/lp-prod-protected/HLSL30.020/HLS.L30.T15RYN.2023260T163211.v2.0/HLS.L30.T15RYN.2023260T163211.v2.0.B06.tif>,\n",
              "  <File-like object HTTPFileSystem, https://data.lpdaac.earthdatacloud.nasa.gov/lp-prod-protected/HLSL30.020/HLS.L30.T15RYN.2023260T163211.v2.0/HLS.L30.T15RYN.2023260T163211.v2.0.B07.tif>,\n",
              "  <File-like object HTTPFileSystem, https://data.lpdaac.earthdatacloud.nasa.gov/lp-prod-protected/HLSL30.020/HLS.L30.T15RYN.2023260T163211.v2.0/HLS.L30.T15RYN.2023260T163211.v2.0.B10.tif>,\n",
              "  <File-like object HTTPFileSystem, https://data.lpdaac.earthdatacloud.nasa.gov/lp-prod-protected/HLSL30.020/HLS.L30.T15RYN.2023260T163211.v2.0/HLS.L30.T15RYN.2023260T163211.v2.0.B02.tif>,\n",
              "  <File-like object HTTPFileSystem, https://data.lpdaac.earthdatacloud.nasa.gov/lp-prod-protected/HLSL30.020/HLS.L30.T15RYN.2023260T163211.v2.0/HLS.L30.T15RYN.2023260T163211.v2.0.B01.tif>,\n",
              "  <File-like object HTTPFileSystem, https://data.lpdaac.earthdatacloud.nasa.gov/lp-prod-protected/HLSL30.020/HLS.L30.T15RYN.2023260T163211.v2.0/HLS.L30.T15RYN.2023260T163211.v2.0.Fmask.tif>,\n",
              "  <File-like object HTTPFileSystem, https://data.lpdaac.earthdatacloud.nasa.gov/lp-prod-protected/HLSL30.020/HLS.L30.T15RYN.2023260T163211.v2.0/HLS.L30.T15RYN.2023260T163211.v2.0.VZA.tif>],\n",
              " [<File-like object HTTPFileSystem, https://data.lpdaac.earthdatacloud.nasa.gov/lp-prod-protected/HLSL30.020/HLS.L30.T16RBT.2023268T163212.v2.0/HLS.L30.T16RBT.2023268T163212.v2.0.B04.tif>,\n",
              "  <File-like object HTTPFileSystem, https://data.lpdaac.earthdatacloud.nasa.gov/lp-prod-protected/HLSL30.020/HLS.L30.T16RBT.2023268T163212.v2.0/HLS.L30.T16RBT.2023268T163212.v2.0.VAA.tif>,\n",
              "  <File-like object HTTPFileSystem, https://data.lpdaac.earthdatacloud.nasa.gov/lp-prod-protected/HLSL30.020/HLS.L30.T16RBT.2023268T163212.v2.0/HLS.L30.T16RBT.2023268T163212.v2.0.B06.tif>,\n",
              "  <File-like object HTTPFileSystem, https://data.lpdaac.earthdatacloud.nasa.gov/lp-prod-protected/HLSL30.020/HLS.L30.T16RBT.2023268T163212.v2.0/HLS.L30.T16RBT.2023268T163212.v2.0.B09.tif>,\n",
              "  <File-like object HTTPFileSystem, https://data.lpdaac.earthdatacloud.nasa.gov/lp-prod-protected/HLSL30.020/HLS.L30.T16RBT.2023268T163212.v2.0/HLS.L30.T16RBT.2023268T163212.v2.0.B02.tif>,\n",
              "  <File-like object HTTPFileSystem, https://data.lpdaac.earthdatacloud.nasa.gov/lp-prod-protected/HLSL30.020/HLS.L30.T16RBT.2023268T163212.v2.0/HLS.L30.T16RBT.2023268T163212.v2.0.B11.tif>,\n",
              "  <File-like object HTTPFileSystem, https://data.lpdaac.earthdatacloud.nasa.gov/lp-prod-protected/HLSL30.020/HLS.L30.T16RBT.2023268T163212.v2.0/HLS.L30.T16RBT.2023268T163212.v2.0.Fmask.tif>,\n",
              "  <File-like object HTTPFileSystem, https://data.lpdaac.earthdatacloud.nasa.gov/lp-prod-protected/HLSL30.020/HLS.L30.T16RBT.2023268T163212.v2.0/HLS.L30.T16RBT.2023268T163212.v2.0.B07.tif>,\n",
              "  <File-like object HTTPFileSystem, https://data.lpdaac.earthdatacloud.nasa.gov/lp-prod-protected/HLSL30.020/HLS.L30.T16RBT.2023268T163212.v2.0/HLS.L30.T16RBT.2023268T163212.v2.0.SZA.tif>,\n",
              "  <File-like object HTTPFileSystem, https://data.lpdaac.earthdatacloud.nasa.gov/lp-prod-protected/HLSL30.020/HLS.L30.T16RBT.2023268T163212.v2.0/HLS.L30.T16RBT.2023268T163212.v2.0.B01.tif>,\n",
              "  <File-like object HTTPFileSystem, https://data.lpdaac.earthdatacloud.nasa.gov/lp-prod-protected/HLSL30.020/HLS.L30.T16RBT.2023268T163212.v2.0/HLS.L30.T16RBT.2023268T163212.v2.0.B03.tif>,\n",
              "  <File-like object HTTPFileSystem, https://data.lpdaac.earthdatacloud.nasa.gov/lp-prod-protected/HLSL30.020/HLS.L30.T16RBT.2023268T163212.v2.0/HLS.L30.T16RBT.2023268T163212.v2.0.SAA.tif>,\n",
              "  <File-like object HTTPFileSystem, https://data.lpdaac.earthdatacloud.nasa.gov/lp-prod-protected/HLSL30.020/HLS.L30.T16RBT.2023268T163212.v2.0/HLS.L30.T16RBT.2023268T163212.v2.0.B10.tif>,\n",
              "  <File-like object HTTPFileSystem, https://data.lpdaac.earthdatacloud.nasa.gov/lp-prod-protected/HLSL30.020/HLS.L30.T16RBT.2023268T163212.v2.0/HLS.L30.T16RBT.2023268T163212.v2.0.VZA.tif>,\n",
              "  <File-like object HTTPFileSystem, https://data.lpdaac.earthdatacloud.nasa.gov/lp-prod-protected/HLSL30.020/HLS.L30.T16RBT.2023268T163212.v2.0/HLS.L30.T16RBT.2023268T163212.v2.0.B05.tif>],\n",
              " [<File-like object HTTPFileSystem, https://data.lpdaac.earthdatacloud.nasa.gov/lp-prod-protected/HLSL30.020/HLS.L30.T15RYN.2023268T163212.v2.0/HLS.L30.T15RYN.2023268T163212.v2.0.VAA.tif>,\n",
              "  <File-like object HTTPFileSystem, https://data.lpdaac.earthdatacloud.nasa.gov/lp-prod-protected/HLSL30.020/HLS.L30.T15RYN.2023268T163212.v2.0/HLS.L30.T15RYN.2023268T163212.v2.0.Fmask.tif>,\n",
              "  <File-like object HTTPFileSystem, https://data.lpdaac.earthdatacloud.nasa.gov/lp-prod-protected/HLSL30.020/HLS.L30.T15RYN.2023268T163212.v2.0/HLS.L30.T15RYN.2023268T163212.v2.0.SAA.tif>,\n",
              "  <File-like object HTTPFileSystem, https://data.lpdaac.earthdatacloud.nasa.gov/lp-prod-protected/HLSL30.020/HLS.L30.T15RYN.2023268T163212.v2.0/HLS.L30.T15RYN.2023268T163212.v2.0.SZA.tif>,\n",
              "  <File-like object HTTPFileSystem, https://data.lpdaac.earthdatacloud.nasa.gov/lp-prod-protected/HLSL30.020/HLS.L30.T15RYN.2023268T163212.v2.0/HLS.L30.T15RYN.2023268T163212.v2.0.B04.tif>,\n",
              "  <File-like object HTTPFileSystem, https://data.lpdaac.earthdatacloud.nasa.gov/lp-prod-protected/HLSL30.020/HLS.L30.T15RYN.2023268T163212.v2.0/HLS.L30.T15RYN.2023268T163212.v2.0.B06.tif>,\n",
              "  <File-like object HTTPFileSystem, https://data.lpdaac.earthdatacloud.nasa.gov/lp-prod-protected/HLSL30.020/HLS.L30.T15RYN.2023268T163212.v2.0/HLS.L30.T15RYN.2023268T163212.v2.0.B03.tif>,\n",
              "  <File-like object HTTPFileSystem, https://data.lpdaac.earthdatacloud.nasa.gov/lp-prod-protected/HLSL30.020/HLS.L30.T15RYN.2023268T163212.v2.0/HLS.L30.T15RYN.2023268T163212.v2.0.B11.tif>,\n",
              "  <File-like object HTTPFileSystem, https://data.lpdaac.earthdatacloud.nasa.gov/lp-prod-protected/HLSL30.020/HLS.L30.T15RYN.2023268T163212.v2.0/HLS.L30.T15RYN.2023268T163212.v2.0.B07.tif>,\n",
              "  <File-like object HTTPFileSystem, https://data.lpdaac.earthdatacloud.nasa.gov/lp-prod-protected/HLSL30.020/HLS.L30.T15RYN.2023268T163212.v2.0/HLS.L30.T15RYN.2023268T163212.v2.0.B02.tif>,\n",
              "  <File-like object HTTPFileSystem, https://data.lpdaac.earthdatacloud.nasa.gov/lp-prod-protected/HLSL30.020/HLS.L30.T15RYN.2023268T163212.v2.0/HLS.L30.T15RYN.2023268T163212.v2.0.B01.tif>,\n",
              "  <File-like object HTTPFileSystem, https://data.lpdaac.earthdatacloud.nasa.gov/lp-prod-protected/HLSL30.020/HLS.L30.T15RYN.2023268T163212.v2.0/HLS.L30.T15RYN.2023268T163212.v2.0.VZA.tif>,\n",
              "  <File-like object HTTPFileSystem, https://data.lpdaac.earthdatacloud.nasa.gov/lp-prod-protected/HLSL30.020/HLS.L30.T15RYN.2023268T163212.v2.0/HLS.L30.T15RYN.2023268T163212.v2.0.B10.tif>,\n",
              "  <File-like object HTTPFileSystem, https://data.lpdaac.earthdatacloud.nasa.gov/lp-prod-protected/HLSL30.020/HLS.L30.T15RYN.2023268T163212.v2.0/HLS.L30.T15RYN.2023268T163212.v2.0.B09.tif>,\n",
              "  <File-like object HTTPFileSystem, https://data.lpdaac.earthdatacloud.nasa.gov/lp-prod-protected/HLSL30.020/HLS.L30.T15RYN.2023268T163212.v2.0/HLS.L30.T15RYN.2023268T163212.v2.0.B05.tif>],\n",
              " [<File-like object HTTPFileSystem, https://data.lpdaac.earthdatacloud.nasa.gov/lp-prod-protected/HLSL30.020/HLS.L30.T16RBU.2023268T163212.v2.0/HLS.L30.T16RBU.2023268T163212.v2.0.B06.tif>,\n",
              "  <File-like object HTTPFileSystem, https://data.lpdaac.earthdatacloud.nasa.gov/lp-prod-protected/HLSL30.020/HLS.L30.T16RBU.2023268T163212.v2.0/HLS.L30.T16RBU.2023268T163212.v2.0.VAA.tif>,\n",
              "  <File-like object HTTPFileSystem, https://data.lpdaac.earthdatacloud.nasa.gov/lp-prod-protected/HLSL30.020/HLS.L30.T16RBU.2023268T163212.v2.0/HLS.L30.T16RBU.2023268T163212.v2.0.B07.tif>,\n",
              "  <File-like object HTTPFileSystem, https://data.lpdaac.earthdatacloud.nasa.gov/lp-prod-protected/HLSL30.020/HLS.L30.T16RBU.2023268T163212.v2.0/HLS.L30.T16RBU.2023268T163212.v2.0.B04.tif>,\n",
              "  <File-like object HTTPFileSystem, https://data.lpdaac.earthdatacloud.nasa.gov/lp-prod-protected/HLSL30.020/HLS.L30.T16RBU.2023268T163212.v2.0/HLS.L30.T16RBU.2023268T163212.v2.0.B05.tif>,\n",
              "  <File-like object HTTPFileSystem, https://data.lpdaac.earthdatacloud.nasa.gov/lp-prod-protected/HLSL30.020/HLS.L30.T16RBU.2023268T163212.v2.0/HLS.L30.T16RBU.2023268T163212.v2.0.B09.tif>,\n",
              "  <File-like object HTTPFileSystem, https://data.lpdaac.earthdatacloud.nasa.gov/lp-prod-protected/HLSL30.020/HLS.L30.T16RBU.2023268T163212.v2.0/HLS.L30.T16RBU.2023268T163212.v2.0.Fmask.tif>,\n",
              "  <File-like object HTTPFileSystem, https://data.lpdaac.earthdatacloud.nasa.gov/lp-prod-protected/HLSL30.020/HLS.L30.T16RBU.2023268T163212.v2.0/HLS.L30.T16RBU.2023268T163212.v2.0.B02.tif>,\n",
              "  <File-like object HTTPFileSystem, https://data.lpdaac.earthdatacloud.nasa.gov/lp-prod-protected/HLSL30.020/HLS.L30.T16RBU.2023268T163212.v2.0/HLS.L30.T16RBU.2023268T163212.v2.0.VZA.tif>,\n",
              "  <File-like object HTTPFileSystem, https://data.lpdaac.earthdatacloud.nasa.gov/lp-prod-protected/HLSL30.020/HLS.L30.T16RBU.2023268T163212.v2.0/HLS.L30.T16RBU.2023268T163212.v2.0.SAA.tif>,\n",
              "  <File-like object HTTPFileSystem, https://data.lpdaac.earthdatacloud.nasa.gov/lp-prod-protected/HLSL30.020/HLS.L30.T16RBU.2023268T163212.v2.0/HLS.L30.T16RBU.2023268T163212.v2.0.SZA.tif>,\n",
              "  <File-like object HTTPFileSystem, https://data.lpdaac.earthdatacloud.nasa.gov/lp-prod-protected/HLSL30.020/HLS.L30.T16RBU.2023268T163212.v2.0/HLS.L30.T16RBU.2023268T163212.v2.0.B01.tif>,\n",
              "  <File-like object HTTPFileSystem, https://data.lpdaac.earthdatacloud.nasa.gov/lp-prod-protected/HLSL30.020/HLS.L30.T16RBU.2023268T163212.v2.0/HLS.L30.T16RBU.2023268T163212.v2.0.B11.tif>,\n",
              "  <File-like object HTTPFileSystem, https://data.lpdaac.earthdatacloud.nasa.gov/lp-prod-protected/HLSL30.020/HLS.L30.T16RBU.2023268T163212.v2.0/HLS.L30.T16RBU.2023268T163212.v2.0.B03.tif>,\n",
              "  <File-like object HTTPFileSystem, https://data.lpdaac.earthdatacloud.nasa.gov/lp-prod-protected/HLSL30.020/HLS.L30.T16RBU.2023268T163212.v2.0/HLS.L30.T16RBU.2023268T163212.v2.0.B10.tif>],\n",
              " [<File-like object HTTPFileSystem, https://data.lpdaac.earthdatacloud.nasa.gov/lp-prod-protected/HLSL30.020/HLS.L30.T15RYP.2023268T163212.v2.0/HLS.L30.T15RYP.2023268T163212.v2.0.B04.tif>,\n",
              "  <File-like object HTTPFileSystem, https://data.lpdaac.earthdatacloud.nasa.gov/lp-prod-protected/HLSL30.020/HLS.L30.T15RYP.2023268T163212.v2.0/HLS.L30.T15RYP.2023268T163212.v2.0.SAA.tif>,\n",
              "  <File-like object HTTPFileSystem, https://data.lpdaac.earthdatacloud.nasa.gov/lp-prod-protected/HLSL30.020/HLS.L30.T15RYP.2023268T163212.v2.0/HLS.L30.T15RYP.2023268T163212.v2.0.B07.tif>,\n",
              "  <File-like object HTTPFileSystem, https://data.lpdaac.earthdatacloud.nasa.gov/lp-prod-protected/HLSL30.020/HLS.L30.T15RYP.2023268T163212.v2.0/HLS.L30.T15RYP.2023268T163212.v2.0.VZA.tif>,\n",
              "  <File-like object HTTPFileSystem, https://data.lpdaac.earthdatacloud.nasa.gov/lp-prod-protected/HLSL30.020/HLS.L30.T15RYP.2023268T163212.v2.0/HLS.L30.T15RYP.2023268T163212.v2.0.B09.tif>,\n",
              "  <File-like object HTTPFileSystem, https://data.lpdaac.earthdatacloud.nasa.gov/lp-prod-protected/HLSL30.020/HLS.L30.T15RYP.2023268T163212.v2.0/HLS.L30.T15RYP.2023268T163212.v2.0.B01.tif>,\n",
              "  <File-like object HTTPFileSystem, https://data.lpdaac.earthdatacloud.nasa.gov/lp-prod-protected/HLSL30.020/HLS.L30.T15RYP.2023268T163212.v2.0/HLS.L30.T15RYP.2023268T163212.v2.0.B10.tif>,\n",
              "  <File-like object HTTPFileSystem, https://data.lpdaac.earthdatacloud.nasa.gov/lp-prod-protected/HLSL30.020/HLS.L30.T15RYP.2023268T163212.v2.0/HLS.L30.T15RYP.2023268T163212.v2.0.B02.tif>,\n",
              "  <File-like object HTTPFileSystem, https://data.lpdaac.earthdatacloud.nasa.gov/lp-prod-protected/HLSL30.020/HLS.L30.T15RYP.2023268T163212.v2.0/HLS.L30.T15RYP.2023268T163212.v2.0.B11.tif>,\n",
              "  <File-like object HTTPFileSystem, https://data.lpdaac.earthdatacloud.nasa.gov/lp-prod-protected/HLSL30.020/HLS.L30.T15RYP.2023268T163212.v2.0/HLS.L30.T15RYP.2023268T163212.v2.0.B03.tif>,\n",
              "  <File-like object HTTPFileSystem, https://data.lpdaac.earthdatacloud.nasa.gov/lp-prod-protected/HLSL30.020/HLS.L30.T15RYP.2023268T163212.v2.0/HLS.L30.T15RYP.2023268T163212.v2.0.SZA.tif>,\n",
              "  <File-like object HTTPFileSystem, https://data.lpdaac.earthdatacloud.nasa.gov/lp-prod-protected/HLSL30.020/HLS.L30.T15RYP.2023268T163212.v2.0/HLS.L30.T15RYP.2023268T163212.v2.0.B06.tif>,\n",
              "  <File-like object HTTPFileSystem, https://data.lpdaac.earthdatacloud.nasa.gov/lp-prod-protected/HLSL30.020/HLS.L30.T15RYP.2023268T163212.v2.0/HLS.L30.T15RYP.2023268T163212.v2.0.B05.tif>,\n",
              "  <File-like object HTTPFileSystem, https://data.lpdaac.earthdatacloud.nasa.gov/lp-prod-protected/HLSL30.020/HLS.L30.T15RYP.2023268T163212.v2.0/HLS.L30.T15RYP.2023268T163212.v2.0.Fmask.tif>,\n",
              "  <File-like object HTTPFileSystem, https://data.lpdaac.earthdatacloud.nasa.gov/lp-prod-protected/HLSL30.020/HLS.L30.T15RYP.2023268T163212.v2.0/HLS.L30.T15RYP.2023268T163212.v2.0.VAA.tif>],\n",
              " [<File-like object HTTPFileSystem, https://data.lpdaac.earthdatacloud.nasa.gov/lp-prod-protected/HLSL30.020/HLS.L30.T16RBU.2023276T163211.v2.0/HLS.L30.T16RBU.2023276T163211.v2.0.Fmask.tif>,\n",
              "  <File-like object HTTPFileSystem, https://data.lpdaac.earthdatacloud.nasa.gov/lp-prod-protected/HLSL30.020/HLS.L30.T16RBU.2023276T163211.v2.0/HLS.L30.T16RBU.2023276T163211.v2.0.B03.tif>,\n",
              "  <File-like object HTTPFileSystem, https://data.lpdaac.earthdatacloud.nasa.gov/lp-prod-protected/HLSL30.020/HLS.L30.T16RBU.2023276T163211.v2.0/HLS.L30.T16RBU.2023276T163211.v2.0.VZA.tif>,\n",
              "  <File-like object HTTPFileSystem, https://data.lpdaac.earthdatacloud.nasa.gov/lp-prod-protected/HLSL30.020/HLS.L30.T16RBU.2023276T163211.v2.0/HLS.L30.T16RBU.2023276T163211.v2.0.SZA.tif>,\n",
              "  <File-like object HTTPFileSystem, https://data.lpdaac.earthdatacloud.nasa.gov/lp-prod-protected/HLSL30.020/HLS.L30.T16RBU.2023276T163211.v2.0/HLS.L30.T16RBU.2023276T163211.v2.0.B02.tif>,\n",
              "  <File-like object HTTPFileSystem, https://data.lpdaac.earthdatacloud.nasa.gov/lp-prod-protected/HLSL30.020/HLS.L30.T16RBU.2023276T163211.v2.0/HLS.L30.T16RBU.2023276T163211.v2.0.B07.tif>,\n",
              "  <File-like object HTTPFileSystem, https://data.lpdaac.earthdatacloud.nasa.gov/lp-prod-protected/HLSL30.020/HLS.L30.T16RBU.2023276T163211.v2.0/HLS.L30.T16RBU.2023276T163211.v2.0.B04.tif>,\n",
              "  <File-like object HTTPFileSystem, https://data.lpdaac.earthdatacloud.nasa.gov/lp-prod-protected/HLSL30.020/HLS.L30.T16RBU.2023276T163211.v2.0/HLS.L30.T16RBU.2023276T163211.v2.0.SAA.tif>,\n",
              "  <File-like object HTTPFileSystem, https://data.lpdaac.earthdatacloud.nasa.gov/lp-prod-protected/HLSL30.020/HLS.L30.T16RBU.2023276T163211.v2.0/HLS.L30.T16RBU.2023276T163211.v2.0.B05.tif>,\n",
              "  <File-like object HTTPFileSystem, https://data.lpdaac.earthdatacloud.nasa.gov/lp-prod-protected/HLSL30.020/HLS.L30.T16RBU.2023276T163211.v2.0/HLS.L30.T16RBU.2023276T163211.v2.0.B09.tif>,\n",
              "  <File-like object HTTPFileSystem, https://data.lpdaac.earthdatacloud.nasa.gov/lp-prod-protected/HLSL30.020/HLS.L30.T16RBU.2023276T163211.v2.0/HLS.L30.T16RBU.2023276T163211.v2.0.VAA.tif>,\n",
              "  <File-like object HTTPFileSystem, https://data.lpdaac.earthdatacloud.nasa.gov/lp-prod-protected/HLSL30.020/HLS.L30.T16RBU.2023276T163211.v2.0/HLS.L30.T16RBU.2023276T163211.v2.0.B01.tif>,\n",
              "  <File-like object HTTPFileSystem, https://data.lpdaac.earthdatacloud.nasa.gov/lp-prod-protected/HLSL30.020/HLS.L30.T16RBU.2023276T163211.v2.0/HLS.L30.T16RBU.2023276T163211.v2.0.B06.tif>,\n",
              "  <File-like object HTTPFileSystem, https://data.lpdaac.earthdatacloud.nasa.gov/lp-prod-protected/HLSL30.020/HLS.L30.T16RBU.2023276T163211.v2.0/HLS.L30.T16RBU.2023276T163211.v2.0.B10.tif>,\n",
              "  <File-like object HTTPFileSystem, https://data.lpdaac.earthdatacloud.nasa.gov/lp-prod-protected/HLSL30.020/HLS.L30.T16RBU.2023276T163211.v2.0/HLS.L30.T16RBU.2023276T163211.v2.0.B11.tif>],\n",
              " [<File-like object HTTPFileSystem, https://data.lpdaac.earthdatacloud.nasa.gov/lp-prod-protected/HLSL30.020/HLS.L30.T15RYP.2023276T163211.v2.0/HLS.L30.T15RYP.2023276T163211.v2.0.SZA.tif>,\n",
              "  <File-like object HTTPFileSystem, https://data.lpdaac.earthdatacloud.nasa.gov/lp-prod-protected/HLSL30.020/HLS.L30.T15RYP.2023276T163211.v2.0/HLS.L30.T15RYP.2023276T163211.v2.0.B01.tif>,\n",
              "  <File-like object HTTPFileSystem, https://data.lpdaac.earthdatacloud.nasa.gov/lp-prod-protected/HLSL30.020/HLS.L30.T15RYP.2023276T163211.v2.0/HLS.L30.T15RYP.2023276T163211.v2.0.B11.tif>,\n",
              "  <File-like object HTTPFileSystem, https://data.lpdaac.earthdatacloud.nasa.gov/lp-prod-protected/HLSL30.020/HLS.L30.T15RYP.2023276T163211.v2.0/HLS.L30.T15RYP.2023276T163211.v2.0.SAA.tif>,\n",
              "  <File-like object HTTPFileSystem, https://data.lpdaac.earthdatacloud.nasa.gov/lp-prod-protected/HLSL30.020/HLS.L30.T15RYP.2023276T163211.v2.0/HLS.L30.T15RYP.2023276T163211.v2.0.B02.tif>,\n",
              "  <File-like object HTTPFileSystem, https://data.lpdaac.earthdatacloud.nasa.gov/lp-prod-protected/HLSL30.020/HLS.L30.T15RYP.2023276T163211.v2.0/HLS.L30.T15RYP.2023276T163211.v2.0.B05.tif>,\n",
              "  <File-like object HTTPFileSystem, https://data.lpdaac.earthdatacloud.nasa.gov/lp-prod-protected/HLSL30.020/HLS.L30.T15RYP.2023276T163211.v2.0/HLS.L30.T15RYP.2023276T163211.v2.0.B03.tif>,\n",
              "  <File-like object HTTPFileSystem, https://data.lpdaac.earthdatacloud.nasa.gov/lp-prod-protected/HLSL30.020/HLS.L30.T15RYP.2023276T163211.v2.0/HLS.L30.T15RYP.2023276T163211.v2.0.B06.tif>,\n",
              "  <File-like object HTTPFileSystem, https://data.lpdaac.earthdatacloud.nasa.gov/lp-prod-protected/HLSL30.020/HLS.L30.T15RYP.2023276T163211.v2.0/HLS.L30.T15RYP.2023276T163211.v2.0.B10.tif>,\n",
              "  <File-like object HTTPFileSystem, https://data.lpdaac.earthdatacloud.nasa.gov/lp-prod-protected/HLSL30.020/HLS.L30.T15RYP.2023276T163211.v2.0/HLS.L30.T15RYP.2023276T163211.v2.0.VZA.tif>,\n",
              "  <File-like object HTTPFileSystem, https://data.lpdaac.earthdatacloud.nasa.gov/lp-prod-protected/HLSL30.020/HLS.L30.T15RYP.2023276T163211.v2.0/HLS.L30.T15RYP.2023276T163211.v2.0.B09.tif>,\n",
              "  <File-like object HTTPFileSystem, https://data.lpdaac.earthdatacloud.nasa.gov/lp-prod-protected/HLSL30.020/HLS.L30.T15RYP.2023276T163211.v2.0/HLS.L30.T15RYP.2023276T163211.v2.0.B07.tif>,\n",
              "  <File-like object HTTPFileSystem, https://data.lpdaac.earthdatacloud.nasa.gov/lp-prod-protected/HLSL30.020/HLS.L30.T15RYP.2023276T163211.v2.0/HLS.L30.T15RYP.2023276T163211.v2.0.VAA.tif>,\n",
              "  <File-like object HTTPFileSystem, https://data.lpdaac.earthdatacloud.nasa.gov/lp-prod-protected/HLSL30.020/HLS.L30.T15RYP.2023276T163211.v2.0/HLS.L30.T15RYP.2023276T163211.v2.0.B04.tif>,\n",
              "  <File-like object HTTPFileSystem, https://data.lpdaac.earthdatacloud.nasa.gov/lp-prod-protected/HLSL30.020/HLS.L30.T15RYP.2023276T163211.v2.0/HLS.L30.T15RYP.2023276T163211.v2.0.Fmask.tif>],\n",
              " [<File-like object HTTPFileSystem, https://data.lpdaac.earthdatacloud.nasa.gov/lp-prod-protected/HLSL30.020/HLS.L30.T16RBT.2023276T163211.v2.0/HLS.L30.T16RBT.2023276T163211.v2.0.B04.tif>,\n",
              "  <File-like object HTTPFileSystem, https://data.lpdaac.earthdatacloud.nasa.gov/lp-prod-protected/HLSL30.020/HLS.L30.T16RBT.2023276T163211.v2.0/HLS.L30.T16RBT.2023276T163211.v2.0.VZA.tif>,\n",
              "  <File-like object HTTPFileSystem, https://data.lpdaac.earthdatacloud.nasa.gov/lp-prod-protected/HLSL30.020/HLS.L30.T16RBT.2023276T163211.v2.0/HLS.L30.T16RBT.2023276T163211.v2.0.B02.tif>,\n",
              "  <File-like object HTTPFileSystem, https://data.lpdaac.earthdatacloud.nasa.gov/lp-prod-protected/HLSL30.020/HLS.L30.T16RBT.2023276T163211.v2.0/HLS.L30.T16RBT.2023276T163211.v2.0.VAA.tif>,\n",
              "  <File-like object HTTPFileSystem, https://data.lpdaac.earthdatacloud.nasa.gov/lp-prod-protected/HLSL30.020/HLS.L30.T16RBT.2023276T163211.v2.0/HLS.L30.T16RBT.2023276T163211.v2.0.SZA.tif>,\n",
              "  <File-like object HTTPFileSystem, https://data.lpdaac.earthdatacloud.nasa.gov/lp-prod-protected/HLSL30.020/HLS.L30.T16RBT.2023276T163211.v2.0/HLS.L30.T16RBT.2023276T163211.v2.0.B01.tif>,\n",
              "  <File-like object HTTPFileSystem, https://data.lpdaac.earthdatacloud.nasa.gov/lp-prod-protected/HLSL30.020/HLS.L30.T16RBT.2023276T163211.v2.0/HLS.L30.T16RBT.2023276T163211.v2.0.B03.tif>,\n",
              "  <File-like object HTTPFileSystem, https://data.lpdaac.earthdatacloud.nasa.gov/lp-prod-protected/HLSL30.020/HLS.L30.T16RBT.2023276T163211.v2.0/HLS.L30.T16RBT.2023276T163211.v2.0.B05.tif>,\n",
              "  <File-like object HTTPFileSystem, https://data.lpdaac.earthdatacloud.nasa.gov/lp-prod-protected/HLSL30.020/HLS.L30.T16RBT.2023276T163211.v2.0/HLS.L30.T16RBT.2023276T163211.v2.0.B06.tif>,\n",
              "  <File-like object HTTPFileSystem, https://data.lpdaac.earthdatacloud.nasa.gov/lp-prod-protected/HLSL30.020/HLS.L30.T16RBT.2023276T163211.v2.0/HLS.L30.T16RBT.2023276T163211.v2.0.B10.tif>,\n",
              "  <File-like object HTTPFileSystem, https://data.lpdaac.earthdatacloud.nasa.gov/lp-prod-protected/HLSL30.020/HLS.L30.T16RBT.2023276T163211.v2.0/HLS.L30.T16RBT.2023276T163211.v2.0.B11.tif>,\n",
              "  <File-like object HTTPFileSystem, https://data.lpdaac.earthdatacloud.nasa.gov/lp-prod-protected/HLSL30.020/HLS.L30.T16RBT.2023276T163211.v2.0/HLS.L30.T16RBT.2023276T163211.v2.0.SAA.tif>,\n",
              "  <File-like object HTTPFileSystem, https://data.lpdaac.earthdatacloud.nasa.gov/lp-prod-protected/HLSL30.020/HLS.L30.T16RBT.2023276T163211.v2.0/HLS.L30.T16RBT.2023276T163211.v2.0.B09.tif>,\n",
              "  <File-like object HTTPFileSystem, https://data.lpdaac.earthdatacloud.nasa.gov/lp-prod-protected/HLSL30.020/HLS.L30.T16RBT.2023276T163211.v2.0/HLS.L30.T16RBT.2023276T163211.v2.0.B07.tif>,\n",
              "  <File-like object HTTPFileSystem, https://data.lpdaac.earthdatacloud.nasa.gov/lp-prod-protected/HLSL30.020/HLS.L30.T16RBT.2023276T163211.v2.0/HLS.L30.T16RBT.2023276T163211.v2.0.Fmask.tif>],\n",
              " [<File-like object HTTPFileSystem, https://data.lpdaac.earthdatacloud.nasa.gov/lp-prod-protected/HLSL30.020/HLS.L30.T15RYN.2023276T163211.v2.0/HLS.L30.T15RYN.2023276T163211.v2.0.Fmask.tif>,\n",
              "  <File-like object HTTPFileSystem, https://data.lpdaac.earthdatacloud.nasa.gov/lp-prod-protected/HLSL30.020/HLS.L30.T15RYN.2023276T163211.v2.0/HLS.L30.T15RYN.2023276T163211.v2.0.SZA.tif>,\n",
              "  <File-like object HTTPFileSystem, https://data.lpdaac.earthdatacloud.nasa.gov/lp-prod-protected/HLSL30.020/HLS.L30.T15RYN.2023276T163211.v2.0/HLS.L30.T15RYN.2023276T163211.v2.0.B02.tif>,\n",
              "  <File-like object HTTPFileSystem, https://data.lpdaac.earthdatacloud.nasa.gov/lp-prod-protected/HLSL30.020/HLS.L30.T15RYN.2023276T163211.v2.0/HLS.L30.T15RYN.2023276T163211.v2.0.B11.tif>,\n",
              "  <File-like object HTTPFileSystem, https://data.lpdaac.earthdatacloud.nasa.gov/lp-prod-protected/HLSL30.020/HLS.L30.T15RYN.2023276T163211.v2.0/HLS.L30.T15RYN.2023276T163211.v2.0.B01.tif>,\n",
              "  <File-like object HTTPFileSystem, https://data.lpdaac.earthdatacloud.nasa.gov/lp-prod-protected/HLSL30.020/HLS.L30.T15RYN.2023276T163211.v2.0/HLS.L30.T15RYN.2023276T163211.v2.0.VAA.tif>,\n",
              "  <File-like object HTTPFileSystem, https://data.lpdaac.earthdatacloud.nasa.gov/lp-prod-protected/HLSL30.020/HLS.L30.T15RYN.2023276T163211.v2.0/HLS.L30.T15RYN.2023276T163211.v2.0.B05.tif>,\n",
              "  <File-like object HTTPFileSystem, https://data.lpdaac.earthdatacloud.nasa.gov/lp-prod-protected/HLSL30.020/HLS.L30.T15RYN.2023276T163211.v2.0/HLS.L30.T15RYN.2023276T163211.v2.0.B10.tif>,\n",
              "  <File-like object HTTPFileSystem, https://data.lpdaac.earthdatacloud.nasa.gov/lp-prod-protected/HLSL30.020/HLS.L30.T15RYN.2023276T163211.v2.0/HLS.L30.T15RYN.2023276T163211.v2.0.SAA.tif>,\n",
              "  <File-like object HTTPFileSystem, https://data.lpdaac.earthdatacloud.nasa.gov/lp-prod-protected/HLSL30.020/HLS.L30.T15RYN.2023276T163211.v2.0/HLS.L30.T15RYN.2023276T163211.v2.0.VZA.tif>,\n",
              "  <File-like object HTTPFileSystem, https://data.lpdaac.earthdatacloud.nasa.gov/lp-prod-protected/HLSL30.020/HLS.L30.T15RYN.2023276T163211.v2.0/HLS.L30.T15RYN.2023276T163211.v2.0.B07.tif>,\n",
              "  <File-like object HTTPFileSystem, https://data.lpdaac.earthdatacloud.nasa.gov/lp-prod-protected/HLSL30.020/HLS.L30.T15RYN.2023276T163211.v2.0/HLS.L30.T15RYN.2023276T163211.v2.0.B09.tif>,\n",
              "  <File-like object HTTPFileSystem, https://data.lpdaac.earthdatacloud.nasa.gov/lp-prod-protected/HLSL30.020/HLS.L30.T15RYN.2023276T163211.v2.0/HLS.L30.T15RYN.2023276T163211.v2.0.B04.tif>,\n",
              "  <File-like object HTTPFileSystem, https://data.lpdaac.earthdatacloud.nasa.gov/lp-prod-protected/HLSL30.020/HLS.L30.T15RYN.2023276T163211.v2.0/HLS.L30.T15RYN.2023276T163211.v2.0.B03.tif>,\n",
              "  <File-like object HTTPFileSystem, https://data.lpdaac.earthdatacloud.nasa.gov/lp-prod-protected/HLSL30.020/HLS.L30.T15RYN.2023276T163211.v2.0/HLS.L30.T15RYN.2023276T163211.v2.0.B06.tif>],\n",
              " [<File-like object HTTPFileSystem, https://data.lpdaac.earthdatacloud.nasa.gov/lp-prod-protected/HLSL30.020/HLS.L30.T16RBT.2023292T163221.v2.0/HLS.L30.T16RBT.2023292T163221.v2.0.B10.tif>,\n",
              "  <File-like object HTTPFileSystem, https://data.lpdaac.earthdatacloud.nasa.gov/lp-prod-protected/HLSL30.020/HLS.L30.T16RBT.2023292T163221.v2.0/HLS.L30.T16RBT.2023292T163221.v2.0.B02.tif>,\n",
              "  <File-like object HTTPFileSystem, https://data.lpdaac.earthdatacloud.nasa.gov/lp-prod-protected/HLSL30.020/HLS.L30.T16RBT.2023292T163221.v2.0/HLS.L30.T16RBT.2023292T163221.v2.0.B07.tif>,\n",
              "  <File-like object HTTPFileSystem, https://data.lpdaac.earthdatacloud.nasa.gov/lp-prod-protected/HLSL30.020/HLS.L30.T16RBT.2023292T163221.v2.0/HLS.L30.T16RBT.2023292T163221.v2.0.B06.tif>,\n",
              "  <File-like object HTTPFileSystem, https://data.lpdaac.earthdatacloud.nasa.gov/lp-prod-protected/HLSL30.020/HLS.L30.T16RBT.2023292T163221.v2.0/HLS.L30.T16RBT.2023292T163221.v2.0.SZA.tif>,\n",
              "  <File-like object HTTPFileSystem, https://data.lpdaac.earthdatacloud.nasa.gov/lp-prod-protected/HLSL30.020/HLS.L30.T16RBT.2023292T163221.v2.0/HLS.L30.T16RBT.2023292T163221.v2.0.VZA.tif>,\n",
              "  <File-like object HTTPFileSystem, https://data.lpdaac.earthdatacloud.nasa.gov/lp-prod-protected/HLSL30.020/HLS.L30.T16RBT.2023292T163221.v2.0/HLS.L30.T16RBT.2023292T163221.v2.0.B03.tif>,\n",
              "  <File-like object HTTPFileSystem, https://data.lpdaac.earthdatacloud.nasa.gov/lp-prod-protected/HLSL30.020/HLS.L30.T16RBT.2023292T163221.v2.0/HLS.L30.T16RBT.2023292T163221.v2.0.B01.tif>,\n",
              "  <File-like object HTTPFileSystem, https://data.lpdaac.earthdatacloud.nasa.gov/lp-prod-protected/HLSL30.020/HLS.L30.T16RBT.2023292T163221.v2.0/HLS.L30.T16RBT.2023292T163221.v2.0.B09.tif>,\n",
              "  <File-like object HTTPFileSystem, https://data.lpdaac.earthdatacloud.nasa.gov/lp-prod-protected/HLSL30.020/HLS.L30.T16RBT.2023292T163221.v2.0/HLS.L30.T16RBT.2023292T163221.v2.0.B11.tif>,\n",
              "  <File-like object HTTPFileSystem, https://data.lpdaac.earthdatacloud.nasa.gov/lp-prod-protected/HLSL30.020/HLS.L30.T16RBT.2023292T163221.v2.0/HLS.L30.T16RBT.2023292T163221.v2.0.Fmask.tif>,\n",
              "  <File-like object HTTPFileSystem, https://data.lpdaac.earthdatacloud.nasa.gov/lp-prod-protected/HLSL30.020/HLS.L30.T16RBT.2023292T163221.v2.0/HLS.L30.T16RBT.2023292T163221.v2.0.B05.tif>,\n",
              "  <File-like object HTTPFileSystem, https://data.lpdaac.earthdatacloud.nasa.gov/lp-prod-protected/HLSL30.020/HLS.L30.T16RBT.2023292T163221.v2.0/HLS.L30.T16RBT.2023292T163221.v2.0.SAA.tif>,\n",
              "  <File-like object HTTPFileSystem, https://data.lpdaac.earthdatacloud.nasa.gov/lp-prod-protected/HLSL30.020/HLS.L30.T16RBT.2023292T163221.v2.0/HLS.L30.T16RBT.2023292T163221.v2.0.B04.tif>,\n",
              "  <File-like object HTTPFileSystem, https://data.lpdaac.earthdatacloud.nasa.gov/lp-prod-protected/HLSL30.020/HLS.L30.T16RBT.2023292T163221.v2.0/HLS.L30.T16RBT.2023292T163221.v2.0.VAA.tif>],\n",
              " [<File-like object HTTPFileSystem, https://data.lpdaac.earthdatacloud.nasa.gov/lp-prod-protected/HLSL30.020/HLS.L30.T15RYN.2023292T163221.v2.0/HLS.L30.T15RYN.2023292T163221.v2.0.VAA.tif>,\n",
              "  <File-like object HTTPFileSystem, https://data.lpdaac.earthdatacloud.nasa.gov/lp-prod-protected/HLSL30.020/HLS.L30.T15RYN.2023292T163221.v2.0/HLS.L30.T15RYN.2023292T163221.v2.0.B03.tif>,\n",
              "  <File-like object HTTPFileSystem, https://data.lpdaac.earthdatacloud.nasa.gov/lp-prod-protected/HLSL30.020/HLS.L30.T15RYN.2023292T163221.v2.0/HLS.L30.T15RYN.2023292T163221.v2.0.B02.tif>,\n",
              "  <File-like object HTTPFileSystem, https://data.lpdaac.earthdatacloud.nasa.gov/lp-prod-protected/HLSL30.020/HLS.L30.T15RYN.2023292T163221.v2.0/HLS.L30.T15RYN.2023292T163221.v2.0.B06.tif>,\n",
              "  <File-like object HTTPFileSystem, https://data.lpdaac.earthdatacloud.nasa.gov/lp-prod-protected/HLSL30.020/HLS.L30.T15RYN.2023292T163221.v2.0/HLS.L30.T15RYN.2023292T163221.v2.0.SZA.tif>,\n",
              "  <File-like object HTTPFileSystem, https://data.lpdaac.earthdatacloud.nasa.gov/lp-prod-protected/HLSL30.020/HLS.L30.T15RYN.2023292T163221.v2.0/HLS.L30.T15RYN.2023292T163221.v2.0.Fmask.tif>,\n",
              "  <File-like object HTTPFileSystem, https://data.lpdaac.earthdatacloud.nasa.gov/lp-prod-protected/HLSL30.020/HLS.L30.T15RYN.2023292T163221.v2.0/HLS.L30.T15RYN.2023292T163221.v2.0.B09.tif>,\n",
              "  <File-like object HTTPFileSystem, https://data.lpdaac.earthdatacloud.nasa.gov/lp-prod-protected/HLSL30.020/HLS.L30.T15RYN.2023292T163221.v2.0/HLS.L30.T15RYN.2023292T163221.v2.0.B07.tif>,\n",
              "  <File-like object HTTPFileSystem, https://data.lpdaac.earthdatacloud.nasa.gov/lp-prod-protected/HLSL30.020/HLS.L30.T15RYN.2023292T163221.v2.0/HLS.L30.T15RYN.2023292T163221.v2.0.B11.tif>,\n",
              "  <File-like object HTTPFileSystem, https://data.lpdaac.earthdatacloud.nasa.gov/lp-prod-protected/HLSL30.020/HLS.L30.T15RYN.2023292T163221.v2.0/HLS.L30.T15RYN.2023292T163221.v2.0.B04.tif>,\n",
              "  <File-like object HTTPFileSystem, https://data.lpdaac.earthdatacloud.nasa.gov/lp-prod-protected/HLSL30.020/HLS.L30.T15RYN.2023292T163221.v2.0/HLS.L30.T15RYN.2023292T163221.v2.0.B10.tif>,\n",
              "  <File-like object HTTPFileSystem, https://data.lpdaac.earthdatacloud.nasa.gov/lp-prod-protected/HLSL30.020/HLS.L30.T15RYN.2023292T163221.v2.0/HLS.L30.T15RYN.2023292T163221.v2.0.SAA.tif>,\n",
              "  <File-like object HTTPFileSystem, https://data.lpdaac.earthdatacloud.nasa.gov/lp-prod-protected/HLSL30.020/HLS.L30.T15RYN.2023292T163221.v2.0/HLS.L30.T15RYN.2023292T163221.v2.0.VZA.tif>,\n",
              "  <File-like object HTTPFileSystem, https://data.lpdaac.earthdatacloud.nasa.gov/lp-prod-protected/HLSL30.020/HLS.L30.T15RYN.2023292T163221.v2.0/HLS.L30.T15RYN.2023292T163221.v2.0.B01.tif>,\n",
              "  <File-like object HTTPFileSystem, https://data.lpdaac.earthdatacloud.nasa.gov/lp-prod-protected/HLSL30.020/HLS.L30.T15RYN.2023292T163221.v2.0/HLS.L30.T15RYN.2023292T163221.v2.0.B05.tif>],\n",
              " [<File-like object HTTPFileSystem, https://data.lpdaac.earthdatacloud.nasa.gov/lp-prod-protected/HLSL30.020/HLS.L30.T15RYP.2023292T163221.v2.0/HLS.L30.T15RYP.2023292T163221.v2.0.B10.tif>,\n",
              "  <File-like object HTTPFileSystem, https://data.lpdaac.earthdatacloud.nasa.gov/lp-prod-protected/HLSL30.020/HLS.L30.T15RYP.2023292T163221.v2.0/HLS.L30.T15RYP.2023292T163221.v2.0.B11.tif>,\n",
              "  <File-like object HTTPFileSystem, https://data.lpdaac.earthdatacloud.nasa.gov/lp-prod-protected/HLSL30.020/HLS.L30.T15RYP.2023292T163221.v2.0/HLS.L30.T15RYP.2023292T163221.v2.0.B07.tif>,\n",
              "  <File-like object HTTPFileSystem, https://data.lpdaac.earthdatacloud.nasa.gov/lp-prod-protected/HLSL30.020/HLS.L30.T15RYP.2023292T163221.v2.0/HLS.L30.T15RYP.2023292T163221.v2.0.Fmask.tif>,\n",
              "  <File-like object HTTPFileSystem, https://data.lpdaac.earthdatacloud.nasa.gov/lp-prod-protected/HLSL30.020/HLS.L30.T15RYP.2023292T163221.v2.0/HLS.L30.T15RYP.2023292T163221.v2.0.SZA.tif>,\n",
              "  <File-like object HTTPFileSystem, https://data.lpdaac.earthdatacloud.nasa.gov/lp-prod-protected/HLSL30.020/HLS.L30.T15RYP.2023292T163221.v2.0/HLS.L30.T15RYP.2023292T163221.v2.0.B05.tif>,\n",
              "  <File-like object HTTPFileSystem, https://data.lpdaac.earthdatacloud.nasa.gov/lp-prod-protected/HLSL30.020/HLS.L30.T15RYP.2023292T163221.v2.0/HLS.L30.T15RYP.2023292T163221.v2.0.SAA.tif>,\n",
              "  <File-like object HTTPFileSystem, https://data.lpdaac.earthdatacloud.nasa.gov/lp-prod-protected/HLSL30.020/HLS.L30.T15RYP.2023292T163221.v2.0/HLS.L30.T15RYP.2023292T163221.v2.0.VZA.tif>,\n",
              "  <File-like object HTTPFileSystem, https://data.lpdaac.earthdatacloud.nasa.gov/lp-prod-protected/HLSL30.020/HLS.L30.T15RYP.2023292T163221.v2.0/HLS.L30.T15RYP.2023292T163221.v2.0.B06.tif>,\n",
              "  <File-like object HTTPFileSystem, https://data.lpdaac.earthdatacloud.nasa.gov/lp-prod-protected/HLSL30.020/HLS.L30.T15RYP.2023292T163221.v2.0/HLS.L30.T15RYP.2023292T163221.v2.0.VAA.tif>,\n",
              "  <File-like object HTTPFileSystem, https://data.lpdaac.earthdatacloud.nasa.gov/lp-prod-protected/HLSL30.020/HLS.L30.T15RYP.2023292T163221.v2.0/HLS.L30.T15RYP.2023292T163221.v2.0.B03.tif>,\n",
              "  <File-like object HTTPFileSystem, https://data.lpdaac.earthdatacloud.nasa.gov/lp-prod-protected/HLSL30.020/HLS.L30.T15RYP.2023292T163221.v2.0/HLS.L30.T15RYP.2023292T163221.v2.0.B09.tif>,\n",
              "  <File-like object HTTPFileSystem, https://data.lpdaac.earthdatacloud.nasa.gov/lp-prod-protected/HLSL30.020/HLS.L30.T15RYP.2023292T163221.v2.0/HLS.L30.T15RYP.2023292T163221.v2.0.B04.tif>,\n",
              "  <File-like object HTTPFileSystem, https://data.lpdaac.earthdatacloud.nasa.gov/lp-prod-protected/HLSL30.020/HLS.L30.T15RYP.2023292T163221.v2.0/HLS.L30.T15RYP.2023292T163221.v2.0.B01.tif>,\n",
              "  <File-like object HTTPFileSystem, https://data.lpdaac.earthdatacloud.nasa.gov/lp-prod-protected/HLSL30.020/HLS.L30.T15RYP.2023292T163221.v2.0/HLS.L30.T15RYP.2023292T163221.v2.0.B02.tif>],\n",
              " [<File-like object HTTPFileSystem, https://data.lpdaac.earthdatacloud.nasa.gov/lp-prod-protected/HLSL30.020/HLS.L30.T16RBU.2023292T163221.v2.0/HLS.L30.T16RBU.2023292T163221.v2.0.B09.tif>,\n",
              "  <File-like object HTTPFileSystem, https://data.lpdaac.earthdatacloud.nasa.gov/lp-prod-protected/HLSL30.020/HLS.L30.T16RBU.2023292T163221.v2.0/HLS.L30.T16RBU.2023292T163221.v2.0.B04.tif>,\n",
              "  <File-like object HTTPFileSystem, https://data.lpdaac.earthdatacloud.nasa.gov/lp-prod-protected/HLSL30.020/HLS.L30.T16RBU.2023292T163221.v2.0/HLS.L30.T16RBU.2023292T163221.v2.0.VZA.tif>,\n",
              "  <File-like object HTTPFileSystem, https://data.lpdaac.earthdatacloud.nasa.gov/lp-prod-protected/HLSL30.020/HLS.L30.T16RBU.2023292T163221.v2.0/HLS.L30.T16RBU.2023292T163221.v2.0.VAA.tif>,\n",
              "  <File-like object HTTPFileSystem, https://data.lpdaac.earthdatacloud.nasa.gov/lp-prod-protected/HLSL30.020/HLS.L30.T16RBU.2023292T163221.v2.0/HLS.L30.T16RBU.2023292T163221.v2.0.B10.tif>,\n",
              "  <File-like object HTTPFileSystem, https://data.lpdaac.earthdatacloud.nasa.gov/lp-prod-protected/HLSL30.020/HLS.L30.T16RBU.2023292T163221.v2.0/HLS.L30.T16RBU.2023292T163221.v2.0.B01.tif>,\n",
              "  <File-like object HTTPFileSystem, https://data.lpdaac.earthdatacloud.nasa.gov/lp-prod-protected/HLSL30.020/HLS.L30.T16RBU.2023292T163221.v2.0/HLS.L30.T16RBU.2023292T163221.v2.0.B11.tif>,\n",
              "  <File-like object HTTPFileSystem, https://data.lpdaac.earthdatacloud.nasa.gov/lp-prod-protected/HLSL30.020/HLS.L30.T16RBU.2023292T163221.v2.0/HLS.L30.T16RBU.2023292T163221.v2.0.B05.tif>,\n",
              "  <File-like object HTTPFileSystem, https://data.lpdaac.earthdatacloud.nasa.gov/lp-prod-protected/HLSL30.020/HLS.L30.T16RBU.2023292T163221.v2.0/HLS.L30.T16RBU.2023292T163221.v2.0.SZA.tif>,\n",
              "  <File-like object HTTPFileSystem, https://data.lpdaac.earthdatacloud.nasa.gov/lp-prod-protected/HLSL30.020/HLS.L30.T16RBU.2023292T163221.v2.0/HLS.L30.T16RBU.2023292T163221.v2.0.B03.tif>,\n",
              "  <File-like object HTTPFileSystem, https://data.lpdaac.earthdatacloud.nasa.gov/lp-prod-protected/HLSL30.020/HLS.L30.T16RBU.2023292T163221.v2.0/HLS.L30.T16RBU.2023292T163221.v2.0.B02.tif>,\n",
              "  <File-like object HTTPFileSystem, https://data.lpdaac.earthdatacloud.nasa.gov/lp-prod-protected/HLSL30.020/HLS.L30.T16RBU.2023292T163221.v2.0/HLS.L30.T16RBU.2023292T163221.v2.0.Fmask.tif>,\n",
              "  <File-like object HTTPFileSystem, https://data.lpdaac.earthdatacloud.nasa.gov/lp-prod-protected/HLSL30.020/HLS.L30.T16RBU.2023292T163221.v2.0/HLS.L30.T16RBU.2023292T163221.v2.0.B06.tif>,\n",
              "  <File-like object HTTPFileSystem, https://data.lpdaac.earthdatacloud.nasa.gov/lp-prod-protected/HLSL30.020/HLS.L30.T16RBU.2023292T163221.v2.0/HLS.L30.T16RBU.2023292T163221.v2.0.SAA.tif>,\n",
              "  <File-like object HTTPFileSystem, https://data.lpdaac.earthdatacloud.nasa.gov/lp-prod-protected/HLSL30.020/HLS.L30.T16RBU.2023292T163221.v2.0/HLS.L30.T16RBU.2023292T163221.v2.0.B07.tif>],\n",
              " [<File-like object HTTPFileSystem, https://data.lpdaac.earthdatacloud.nasa.gov/lp-prod-protected/HLSL30.020/HLS.L30.T16RBU.2023300T163218.v2.0/HLS.L30.T16RBU.2023300T163218.v2.0.B04.tif>,\n",
              "  <File-like object HTTPFileSystem, https://data.lpdaac.earthdatacloud.nasa.gov/lp-prod-protected/HLSL30.020/HLS.L30.T16RBU.2023300T163218.v2.0/HLS.L30.T16RBU.2023300T163218.v2.0.B10.tif>,\n",
              "  <File-like object HTTPFileSystem, https://data.lpdaac.earthdatacloud.nasa.gov/lp-prod-protected/HLSL30.020/HLS.L30.T16RBU.2023300T163218.v2.0/HLS.L30.T16RBU.2023300T163218.v2.0.SZA.tif>,\n",
              "  <File-like object HTTPFileSystem, https://data.lpdaac.earthdatacloud.nasa.gov/lp-prod-protected/HLSL30.020/HLS.L30.T16RBU.2023300T163218.v2.0/HLS.L30.T16RBU.2023300T163218.v2.0.VAA.tif>,\n",
              "  <File-like object HTTPFileSystem, https://data.lpdaac.earthdatacloud.nasa.gov/lp-prod-protected/HLSL30.020/HLS.L30.T16RBU.2023300T163218.v2.0/HLS.L30.T16RBU.2023300T163218.v2.0.VZA.tif>,\n",
              "  <File-like object HTTPFileSystem, https://data.lpdaac.earthdatacloud.nasa.gov/lp-prod-protected/HLSL30.020/HLS.L30.T16RBU.2023300T163218.v2.0/HLS.L30.T16RBU.2023300T163218.v2.0.SAA.tif>,\n",
              "  <File-like object HTTPFileSystem, https://data.lpdaac.earthdatacloud.nasa.gov/lp-prod-protected/HLSL30.020/HLS.L30.T16RBU.2023300T163218.v2.0/HLS.L30.T16RBU.2023300T163218.v2.0.B09.tif>,\n",
              "  <File-like object HTTPFileSystem, https://data.lpdaac.earthdatacloud.nasa.gov/lp-prod-protected/HLSL30.020/HLS.L30.T16RBU.2023300T163218.v2.0/HLS.L30.T16RBU.2023300T163218.v2.0.B07.tif>,\n",
              "  <File-like object HTTPFileSystem, https://data.lpdaac.earthdatacloud.nasa.gov/lp-prod-protected/HLSL30.020/HLS.L30.T16RBU.2023300T163218.v2.0/HLS.L30.T16RBU.2023300T163218.v2.0.B03.tif>,\n",
              "  <File-like object HTTPFileSystem, https://data.lpdaac.earthdatacloud.nasa.gov/lp-prod-protected/HLSL30.020/HLS.L30.T16RBU.2023300T163218.v2.0/HLS.L30.T16RBU.2023300T163218.v2.0.B05.tif>,\n",
              "  <File-like object HTTPFileSystem, https://data.lpdaac.earthdatacloud.nasa.gov/lp-prod-protected/HLSL30.020/HLS.L30.T16RBU.2023300T163218.v2.0/HLS.L30.T16RBU.2023300T163218.v2.0.Fmask.tif>,\n",
              "  <File-like object HTTPFileSystem, https://data.lpdaac.earthdatacloud.nasa.gov/lp-prod-protected/HLSL30.020/HLS.L30.T16RBU.2023300T163218.v2.0/HLS.L30.T16RBU.2023300T163218.v2.0.B11.tif>,\n",
              "  <File-like object HTTPFileSystem, https://data.lpdaac.earthdatacloud.nasa.gov/lp-prod-protected/HLSL30.020/HLS.L30.T16RBU.2023300T163218.v2.0/HLS.L30.T16RBU.2023300T163218.v2.0.B01.tif>,\n",
              "  <File-like object HTTPFileSystem, https://data.lpdaac.earthdatacloud.nasa.gov/lp-prod-protected/HLSL30.020/HLS.L30.T16RBU.2023300T163218.v2.0/HLS.L30.T16RBU.2023300T163218.v2.0.B02.tif>,\n",
              "  <File-like object HTTPFileSystem, https://data.lpdaac.earthdatacloud.nasa.gov/lp-prod-protected/HLSL30.020/HLS.L30.T16RBU.2023300T163218.v2.0/HLS.L30.T16RBU.2023300T163218.v2.0.B06.tif>],\n",
              " [<File-like object HTTPFileSystem, https://data.lpdaac.earthdatacloud.nasa.gov/lp-prod-protected/HLSL30.020/HLS.L30.T15RYN.2023300T163218.v2.0/HLS.L30.T15RYN.2023300T163218.v2.0.Fmask.tif>,\n",
              "  <File-like object HTTPFileSystem, https://data.lpdaac.earthdatacloud.nasa.gov/lp-prod-protected/HLSL30.020/HLS.L30.T15RYN.2023300T163218.v2.0/HLS.L30.T15RYN.2023300T163218.v2.0.B05.tif>,\n",
              "  <File-like object HTTPFileSystem, https://data.lpdaac.earthdatacloud.nasa.gov/lp-prod-protected/HLSL30.020/HLS.L30.T15RYN.2023300T163218.v2.0/HLS.L30.T15RYN.2023300T163218.v2.0.VAA.tif>,\n",
              "  <File-like object HTTPFileSystem, https://data.lpdaac.earthdatacloud.nasa.gov/lp-prod-protected/HLSL30.020/HLS.L30.T15RYN.2023300T163218.v2.0/HLS.L30.T15RYN.2023300T163218.v2.0.B06.tif>,\n",
              "  <File-like object HTTPFileSystem, https://data.lpdaac.earthdatacloud.nasa.gov/lp-prod-protected/HLSL30.020/HLS.L30.T15RYN.2023300T163218.v2.0/HLS.L30.T15RYN.2023300T163218.v2.0.B03.tif>,\n",
              "  <File-like object HTTPFileSystem, https://data.lpdaac.earthdatacloud.nasa.gov/lp-prod-protected/HLSL30.020/HLS.L30.T15RYN.2023300T163218.v2.0/HLS.L30.T15RYN.2023300T163218.v2.0.B09.tif>,\n",
              "  <File-like object HTTPFileSystem, https://data.lpdaac.earthdatacloud.nasa.gov/lp-prod-protected/HLSL30.020/HLS.L30.T15RYN.2023300T163218.v2.0/HLS.L30.T15RYN.2023300T163218.v2.0.B10.tif>,\n",
              "  <File-like object HTTPFileSystem, https://data.lpdaac.earthdatacloud.nasa.gov/lp-prod-protected/HLSL30.020/HLS.L30.T15RYN.2023300T163218.v2.0/HLS.L30.T15RYN.2023300T163218.v2.0.B11.tif>,\n",
              "  <File-like object HTTPFileSystem, https://data.lpdaac.earthdatacloud.nasa.gov/lp-prod-protected/HLSL30.020/HLS.L30.T15RYN.2023300T163218.v2.0/HLS.L30.T15RYN.2023300T163218.v2.0.B02.tif>,\n",
              "  <File-like object HTTPFileSystem, https://data.lpdaac.earthdatacloud.nasa.gov/lp-prod-protected/HLSL30.020/HLS.L30.T15RYN.2023300T163218.v2.0/HLS.L30.T15RYN.2023300T163218.v2.0.B01.tif>,\n",
              "  <File-like object HTTPFileSystem, https://data.lpdaac.earthdatacloud.nasa.gov/lp-prod-protected/HLSL30.020/HLS.L30.T15RYN.2023300T163218.v2.0/HLS.L30.T15RYN.2023300T163218.v2.0.VZA.tif>,\n",
              "  <File-like object HTTPFileSystem, https://data.lpdaac.earthdatacloud.nasa.gov/lp-prod-protected/HLSL30.020/HLS.L30.T15RYN.2023300T163218.v2.0/HLS.L30.T15RYN.2023300T163218.v2.0.B04.tif>,\n",
              "  <File-like object HTTPFileSystem, https://data.lpdaac.earthdatacloud.nasa.gov/lp-prod-protected/HLSL30.020/HLS.L30.T15RYN.2023300T163218.v2.0/HLS.L30.T15RYN.2023300T163218.v2.0.SAA.tif>,\n",
              "  <File-like object HTTPFileSystem, https://data.lpdaac.earthdatacloud.nasa.gov/lp-prod-protected/HLSL30.020/HLS.L30.T15RYN.2023300T163218.v2.0/HLS.L30.T15RYN.2023300T163218.v2.0.SZA.tif>,\n",
              "  <File-like object HTTPFileSystem, https://data.lpdaac.earthdatacloud.nasa.gov/lp-prod-protected/HLSL30.020/HLS.L30.T15RYN.2023300T163218.v2.0/HLS.L30.T15RYN.2023300T163218.v2.0.B07.tif>],\n",
              " [<File-like object HTTPFileSystem, https://data.lpdaac.earthdatacloud.nasa.gov/lp-prod-protected/HLSL30.020/HLS.L30.T16RBT.2023300T163218.v2.0/HLS.L30.T16RBT.2023300T163218.v2.0.VAA.tif>,\n",
              "  <File-like object HTTPFileSystem, https://data.lpdaac.earthdatacloud.nasa.gov/lp-prod-protected/HLSL30.020/HLS.L30.T16RBT.2023300T163218.v2.0/HLS.L30.T16RBT.2023300T163218.v2.0.B05.tif>,\n",
              "  <File-like object HTTPFileSystem, https://data.lpdaac.earthdatacloud.nasa.gov/lp-prod-protected/HLSL30.020/HLS.L30.T16RBT.2023300T163218.v2.0/HLS.L30.T16RBT.2023300T163218.v2.0.Fmask.tif>,\n",
              "  <File-like object HTTPFileSystem, https://data.lpdaac.earthdatacloud.nasa.gov/lp-prod-protected/HLSL30.020/HLS.L30.T16RBT.2023300T163218.v2.0/HLS.L30.T16RBT.2023300T163218.v2.0.B04.tif>,\n",
              "  <File-like object HTTPFileSystem, https://data.lpdaac.earthdatacloud.nasa.gov/lp-prod-protected/HLSL30.020/HLS.L30.T16RBT.2023300T163218.v2.0/HLS.L30.T16RBT.2023300T163218.v2.0.B06.tif>,\n",
              "  <File-like object HTTPFileSystem, https://data.lpdaac.earthdatacloud.nasa.gov/lp-prod-protected/HLSL30.020/HLS.L30.T16RBT.2023300T163218.v2.0/HLS.L30.T16RBT.2023300T163218.v2.0.SAA.tif>,\n",
              "  <File-like object HTTPFileSystem, https://data.lpdaac.earthdatacloud.nasa.gov/lp-prod-protected/HLSL30.020/HLS.L30.T16RBT.2023300T163218.v2.0/HLS.L30.T16RBT.2023300T163218.v2.0.B11.tif>,\n",
              "  <File-like object HTTPFileSystem, https://data.lpdaac.earthdatacloud.nasa.gov/lp-prod-protected/HLSL30.020/HLS.L30.T16RBT.2023300T163218.v2.0/HLS.L30.T16RBT.2023300T163218.v2.0.VZA.tif>,\n",
              "  <File-like object HTTPFileSystem, https://data.lpdaac.earthdatacloud.nasa.gov/lp-prod-protected/HLSL30.020/HLS.L30.T16RBT.2023300T163218.v2.0/HLS.L30.T16RBT.2023300T163218.v2.0.B01.tif>,\n",
              "  <File-like object HTTPFileSystem, https://data.lpdaac.earthdatacloud.nasa.gov/lp-prod-protected/HLSL30.020/HLS.L30.T16RBT.2023300T163218.v2.0/HLS.L30.T16RBT.2023300T163218.v2.0.B02.tif>,\n",
              "  <File-like object HTTPFileSystem, https://data.lpdaac.earthdatacloud.nasa.gov/lp-prod-protected/HLSL30.020/HLS.L30.T16RBT.2023300T163218.v2.0/HLS.L30.T16RBT.2023300T163218.v2.0.B09.tif>,\n",
              "  <File-like object HTTPFileSystem, https://data.lpdaac.earthdatacloud.nasa.gov/lp-prod-protected/HLSL30.020/HLS.L30.T16RBT.2023300T163218.v2.0/HLS.L30.T16RBT.2023300T163218.v2.0.SZA.tif>,\n",
              "  <File-like object HTTPFileSystem, https://data.lpdaac.earthdatacloud.nasa.gov/lp-prod-protected/HLSL30.020/HLS.L30.T16RBT.2023300T163218.v2.0/HLS.L30.T16RBT.2023300T163218.v2.0.B03.tif>,\n",
              "  <File-like object HTTPFileSystem, https://data.lpdaac.earthdatacloud.nasa.gov/lp-prod-protected/HLSL30.020/HLS.L30.T16RBT.2023300T163218.v2.0/HLS.L30.T16RBT.2023300T163218.v2.0.B07.tif>,\n",
              "  <File-like object HTTPFileSystem, https://data.lpdaac.earthdatacloud.nasa.gov/lp-prod-protected/HLSL30.020/HLS.L30.T16RBT.2023300T163218.v2.0/HLS.L30.T16RBT.2023300T163218.v2.0.B10.tif>],\n",
              " [<File-like object HTTPFileSystem, https://data.lpdaac.earthdatacloud.nasa.gov/lp-prod-protected/HLSL30.020/HLS.L30.T15RYP.2023300T163218.v2.0/HLS.L30.T15RYP.2023300T163218.v2.0.Fmask.tif>,\n",
              "  <File-like object HTTPFileSystem, https://data.lpdaac.earthdatacloud.nasa.gov/lp-prod-protected/HLSL30.020/HLS.L30.T15RYP.2023300T163218.v2.0/HLS.L30.T15RYP.2023300T163218.v2.0.SAA.tif>,\n",
              "  <File-like object HTTPFileSystem, https://data.lpdaac.earthdatacloud.nasa.gov/lp-prod-protected/HLSL30.020/HLS.L30.T15RYP.2023300T163218.v2.0/HLS.L30.T15RYP.2023300T163218.v2.0.SZA.tif>,\n",
              "  <File-like object HTTPFileSystem, https://data.lpdaac.earthdatacloud.nasa.gov/lp-prod-protected/HLSL30.020/HLS.L30.T15RYP.2023300T163218.v2.0/HLS.L30.T15RYP.2023300T163218.v2.0.B10.tif>,\n",
              "  <File-like object HTTPFileSystem, https://data.lpdaac.earthdatacloud.nasa.gov/lp-prod-protected/HLSL30.020/HLS.L30.T15RYP.2023300T163218.v2.0/HLS.L30.T15RYP.2023300T163218.v2.0.VZA.tif>,\n",
              "  <File-like object HTTPFileSystem, https://data.lpdaac.earthdatacloud.nasa.gov/lp-prod-protected/HLSL30.020/HLS.L30.T15RYP.2023300T163218.v2.0/HLS.L30.T15RYP.2023300T163218.v2.0.B11.tif>,\n",
              "  <File-like object HTTPFileSystem, https://data.lpdaac.earthdatacloud.nasa.gov/lp-prod-protected/HLSL30.020/HLS.L30.T15RYP.2023300T163218.v2.0/HLS.L30.T15RYP.2023300T163218.v2.0.B07.tif>,\n",
              "  <File-like object HTTPFileSystem, https://data.lpdaac.earthdatacloud.nasa.gov/lp-prod-protected/HLSL30.020/HLS.L30.T15RYP.2023300T163218.v2.0/HLS.L30.T15RYP.2023300T163218.v2.0.B01.tif>,\n",
              "  <File-like object HTTPFileSystem, https://data.lpdaac.earthdatacloud.nasa.gov/lp-prod-protected/HLSL30.020/HLS.L30.T15RYP.2023300T163218.v2.0/HLS.L30.T15RYP.2023300T163218.v2.0.VAA.tif>,\n",
              "  <File-like object HTTPFileSystem, https://data.lpdaac.earthdatacloud.nasa.gov/lp-prod-protected/HLSL30.020/HLS.L30.T15RYP.2023300T163218.v2.0/HLS.L30.T15RYP.2023300T163218.v2.0.B05.tif>,\n",
              "  <File-like object HTTPFileSystem, https://data.lpdaac.earthdatacloud.nasa.gov/lp-prod-protected/HLSL30.020/HLS.L30.T15RYP.2023300T163218.v2.0/HLS.L30.T15RYP.2023300T163218.v2.0.B06.tif>,\n",
              "  <File-like object HTTPFileSystem, https://data.lpdaac.earthdatacloud.nasa.gov/lp-prod-protected/HLSL30.020/HLS.L30.T15RYP.2023300T163218.v2.0/HLS.L30.T15RYP.2023300T163218.v2.0.B02.tif>,\n",
              "  <File-like object HTTPFileSystem, https://data.lpdaac.earthdatacloud.nasa.gov/lp-prod-protected/HLSL30.020/HLS.L30.T15RYP.2023300T163218.v2.0/HLS.L30.T15RYP.2023300T163218.v2.0.B09.tif>,\n",
              "  <File-like object HTTPFileSystem, https://data.lpdaac.earthdatacloud.nasa.gov/lp-prod-protected/HLSL30.020/HLS.L30.T15RYP.2023300T163218.v2.0/HLS.L30.T15RYP.2023300T163218.v2.0.B03.tif>,\n",
              "  <File-like object HTTPFileSystem, https://data.lpdaac.earthdatacloud.nasa.gov/lp-prod-protected/HLSL30.020/HLS.L30.T15RYP.2023300T163218.v2.0/HLS.L30.T15RYP.2023300T163218.v2.0.B04.tif>]]"
            ]
          },
          "execution_count": 29,
          "metadata": {},
          "output_type": "execute_result"
        }
      ],
      "source": [
        "# check files list\n",
        "files"
      ]
    },
    {
      "cell_type": "code",
      "execution_count": 30,
      "id": "ee14d0a3",
      "metadata": {},
      "outputs": [
        {
          "data": {
            "text/plain": [
              "[{'tile_id': 'T16RBT', 'band_id': 'B03'},\n",
              " {'tile_id': 'T15RYN', 'band_id': 'B03'},\n",
              " {'tile_id': 'T15RYP', 'band_id': 'VZA'},\n",
              " {'tile_id': 'T16RBU', 'band_id': 'B11'},\n",
              " {'tile_id': 'T16RBT', 'band_id': 'B02'},\n",
              " {'tile_id': 'T15RYP', 'band_id': 'SAA'},\n",
              " {'tile_id': 'T15RYN', 'band_id': 'B09'},\n",
              " {'tile_id': 'T16RBU', 'band_id': 'VZA'},\n",
              " {'tile_id': 'T15RYP', 'band_id': 'B05'},\n",
              " {'tile_id': 'T16RBT', 'band_id': 'B03'},\n",
              " {'tile_id': 'T16RBU', 'band_id': 'SZA'},\n",
              " {'tile_id': 'T15RYN', 'band_id': 'SAA'},\n",
              " {'tile_id': 'T15RYN', 'band_id': 'Fmask'},\n",
              " {'tile_id': 'T16RBU', 'band_id': 'B06'},\n",
              " {'tile_id': 'T16RBT', 'band_id': 'B07'},\n",
              " {'tile_id': 'T15RYP', 'band_id': 'B07'},\n",
              " {'tile_id': 'T16RBU', 'band_id': 'VZA'},\n",
              " {'tile_id': 'T15RYP', 'band_id': 'B03'},\n",
              " {'tile_id': 'T16RBT', 'band_id': 'SAA'},\n",
              " {'tile_id': 'T15RYN', 'band_id': 'B06'},\n",
              " {'tile_id': 'T16RBU', 'band_id': 'B06'},\n",
              " {'tile_id': 'T15RYP', 'band_id': 'B09'},\n",
              " {'tile_id': 'T15RYN', 'band_id': 'B02'},\n",
              " {'tile_id': 'T16RBT', 'band_id': 'B09'},\n",
              " {'tile_id': 'T15RYP', 'band_id': 'B02'},\n",
              " {'tile_id': 'T15RYN', 'band_id': 'B10'},\n",
              " {'tile_id': 'T16RBU', 'band_id': 'B11'},\n",
              " {'tile_id': 'T16RBT', 'band_id': 'B04'},\n",
              " {'tile_id': 'T16RBU', 'band_id': 'B10'},\n",
              " {'tile_id': 'T15RYP', 'band_id': 'B04'},\n",
              " {'tile_id': 'T16RBT', 'band_id': 'SZA'},\n",
              " {'tile_id': 'T15RYN', 'band_id': 'B09'},\n",
              " {'tile_id': 'T16RBU', 'band_id': 'B03'},\n",
              " {'tile_id': 'T15RYP', 'band_id': 'B04'},\n",
              " {'tile_id': 'T16RBT', 'band_id': 'B11'},\n",
              " {'tile_id': 'T15RYN', 'band_id': 'B03'},\n",
              " {'tile_id': 'T15RYN', 'band_id': 'Fmask'},\n",
              " {'tile_id': 'T16RBU', 'band_id': 'B04'},\n",
              " {'tile_id': 'T15RYP', 'band_id': 'B07'},\n",
              " {'tile_id': 'T16RBT', 'band_id': 'SZA'},\n",
              " {'tile_id': 'T15RYP', 'band_id': 'SZA'},\n",
              " {'tile_id': 'T16RBU', 'band_id': 'B01'},\n",
              " {'tile_id': 'T15RYN', 'band_id': 'Fmask'},\n",
              " {'tile_id': 'T16RBT', 'band_id': 'B11'},\n",
              " {'tile_id': 'T16RBU', 'band_id': 'VAA'},\n",
              " {'tile_id': 'T16RBT', 'band_id': 'B10'},\n",
              " {'tile_id': 'T15RYN', 'band_id': 'B03'},\n",
              " {'tile_id': 'T15RYP', 'band_id': 'B03'},\n",
              " {'tile_id': 'T16RBU', 'band_id': 'VZA'},\n",
              " {'tile_id': 'T15RYN', 'band_id': 'B04'},\n",
              " {'tile_id': 'T15RYP', 'band_id': 'VZA'},\n",
              " {'tile_id': 'T16RBT', 'band_id': 'B10'},\n",
              " {'tile_id': 'T15RYP', 'band_id': 'B02'},\n",
              " {'tile_id': 'T16RBU', 'band_id': 'B04'},\n",
              " {'tile_id': 'T16RBT', 'band_id': 'B06'},\n",
              " {'tile_id': 'T15RYN', 'band_id': 'B07'},\n",
              " {'tile_id': 'T15RYP', 'band_id': 'VAA'},\n",
              " {'tile_id': 'T16RBT', 'band_id': 'B04'},\n",
              " {'tile_id': 'T15RYN', 'band_id': 'B11'},\n",
              " {'tile_id': 'T16RBU', 'band_id': 'B03'},\n",
              " {'tile_id': 'T15RYP', 'band_id': 'B10'},\n",
              " {'tile_id': 'T16RBU', 'band_id': 'B11'},\n",
              " {'tile_id': 'T16RBT', 'band_id': 'B01'},\n",
              " {'tile_id': 'T15RYN', 'band_id': 'B04'},\n",
              " {'tile_id': 'T16RBU', 'band_id': 'B04'},\n",
              " {'tile_id': 'T15RYP', 'band_id': 'B03'},\n",
              " {'tile_id': 'T15RYN', 'band_id': 'B10'},\n",
              " {'tile_id': 'T16RBT', 'band_id': 'B09'},\n",
              " {'tile_id': 'T16RBU', 'band_id': 'B09'},\n",
              " {'tile_id': 'T15RYP', 'band_id': 'B02'},\n",
              " {'tile_id': 'T16RBT', 'band_id': 'SZA'},\n",
              " {'tile_id': 'T15RYN', 'band_id': 'VAA'},\n",
              " {'tile_id': 'T16RBT', 'band_id': 'B04'},\n",
              " {'tile_id': 'T15RYN', 'band_id': 'VAA'},\n",
              " {'tile_id': 'T16RBU', 'band_id': 'B06'},\n",
              " {'tile_id': 'T15RYP', 'band_id': 'B04'},\n",
              " {'tile_id': 'T16RBU', 'band_id': 'Fmask'},\n",
              " {'tile_id': 'T15RYP', 'band_id': 'SZA'},\n",
              " {'tile_id': 'T16RBT', 'band_id': 'B04'},\n",
              " {'tile_id': 'T15RYN', 'band_id': 'Fmask'},\n",
              " {'tile_id': 'T16RBT', 'band_id': 'B10'},\n",
              " {'tile_id': 'T15RYN', 'band_id': 'VAA'},\n",
              " {'tile_id': 'T15RYP', 'band_id': 'B10'},\n",
              " {'tile_id': 'T16RBU', 'band_id': 'B09'},\n",
              " {'tile_id': 'T16RBU', 'band_id': 'B04'},\n",
              " {'tile_id': 'T15RYN', 'band_id': 'Fmask'},\n",
              " {'tile_id': 'T16RBT', 'band_id': 'VAA'},\n",
              " {'tile_id': 'T15RYP', 'band_id': 'Fmask'}]"
            ]
          },
          "execution_count": 30,
          "metadata": {},
          "output_type": "execute_result"
        }
      ],
      "source": [
        "# check files_metadata list\n",
        "files_metadata"
      ]
    },
    {
      "cell_type": "code",
      "execution_count": 31,
      "id": "1df3734b",
      "metadata": {},
      "outputs": [
        {
          "data": {
            "text/plain": [
              "88"
            ]
          },
          "execution_count": 31,
          "metadata": {},
          "output_type": "execute_result"
        }
      ],
      "source": [
        "len(granule_ids)"
      ]
    },
    {
      "cell_type": "code",
      "execution_count": 32,
      "id": "e84901a6",
      "metadata": {},
      "outputs": [
        {
          "data": {
            "text/plain": [
              "88"
            ]
          },
          "execution_count": 32,
          "metadata": {},
          "output_type": "execute_result"
        }
      ],
      "source": [
        "len(files)"
      ]
    },
    {
      "cell_type": "code",
      "execution_count": 33,
      "id": "40a640c0",
      "metadata": {},
      "outputs": [
        {
          "data": {
            "text/plain": [
              "88"
            ]
          },
          "execution_count": 33,
          "metadata": {},
          "output_type": "execute_result"
        }
      ],
      "source": [
        "len(files_metadata)"
      ]
    },
    {
      "cell_type": "code",
      "execution_count": 35,
      "id": "0f42bc94",
      "metadata": {},
      "outputs": [
        {
          "data": {
            "text/html": [
              "<div>\n",
              "<style scoped>\n",
              "    .dataframe tbody tr th:only-of-type {\n",
              "        vertical-align: middle;\n",
              "    }\n",
              "\n",
              "    .dataframe tbody tr th {\n",
              "        vertical-align: top;\n",
              "    }\n",
              "\n",
              "    .dataframe thead th {\n",
              "        text-align: right;\n",
              "    }\n",
              "</style>\n",
              "<table border=\"1\" class=\"dataframe\">\n",
              "  <thead>\n",
              "    <tr style=\"text-align: right;\">\n",
              "      <th></th>\n",
              "      <th>granule_ids</th>\n",
              "      <th>granule_datetimes</th>\n",
              "      <th>urls</th>\n",
              "      <th>files_metadata</th>\n",
              "      <th>geometry</th>\n",
              "    </tr>\n",
              "  </thead>\n",
              "  <tbody>\n",
              "    <tr>\n",
              "      <th>0</th>\n",
              "      <td>HLS.L30.T16RBT.2023124T163132.v2.0</td>\n",
              "      <td>2023-05-04 16:31:32.101000+00:00</td>\n",
              "      <td>[&lt;File-like object HTTPFileSystem, https://dat...</td>\n",
              "      <td>{'tile_id': 'T16RBT', 'band_id': 'B03'}</td>\n",
              "      <td>POLYGON ((-90.07373 28.80445, -89.57473 28.814...</td>\n",
              "    </tr>\n",
              "    <tr>\n",
              "      <th>1</th>\n",
              "      <td>HLS.L30.T15RYN.2023124T163132.v2.0</td>\n",
              "      <td>2023-05-04 16:31:32.101000+00:00</td>\n",
              "      <td>[&lt;File-like object HTTPFileSystem, https://dat...</td>\n",
              "      <td>{'tile_id': 'T15RYN', 'band_id': 'B03'}</td>\n",
              "      <td>POLYGON ((-89.82661 28.80214, -89.79584 29.791...</td>\n",
              "    </tr>\n",
              "    <tr>\n",
              "      <th>2</th>\n",
              "      <td>HLS.L30.T15RYP.2023124T163132.v2.0</td>\n",
              "      <td>2023-05-04 16:31:32.101000+00:00</td>\n",
              "      <td>[&lt;File-like object HTTPFileSystem, https://dat...</td>\n",
              "      <td>{'tile_id': 'T15RYP', 'band_id': 'VZA'}</td>\n",
              "      <td>POLYGON ((-89.79864 29.70348, -89.76644 30.692...</td>\n",
              "    </tr>\n",
              "    <tr>\n",
              "      <th>3</th>\n",
              "      <td>HLS.L30.T16RBU.2023124T163132.v2.0</td>\n",
              "      <td>2023-05-04 16:31:32.101000+00:00</td>\n",
              "      <td>[&lt;File-like object HTTPFileSystem, https://dat...</td>\n",
              "      <td>{'tile_id': 'T16RBU', 'band_id': 'B11'}</td>\n",
              "      <td>POLYGON ((-90.10082 29.70587, -89.33187 29.721...</td>\n",
              "    </tr>\n",
              "    <tr>\n",
              "      <th>4</th>\n",
              "      <td>HLS.L30.T16RBT.2023132T163144.v2.0</td>\n",
              "      <td>2023-05-12 16:31:44.329000+00:00</td>\n",
              "      <td>[&lt;File-like object HTTPFileSystem, https://dat...</td>\n",
              "      <td>{'tile_id': 'T16RBT', 'band_id': 'B02'}</td>\n",
              "      <td>POLYGON ((-90.07373 28.80445, -89.56183 28.815...</td>\n",
              "    </tr>\n",
              "    <tr>\n",
              "      <th>...</th>\n",
              "      <td>...</td>\n",
              "      <td>...</td>\n",
              "      <td>...</td>\n",
              "      <td>...</td>\n",
              "      <td>...</td>\n",
              "    </tr>\n",
              "    <tr>\n",
              "      <th>83</th>\n",
              "      <td>HLS.L30.T16RBU.2023292T163221.v2.0</td>\n",
              "      <td>2023-10-19 16:32:21.176000+00:00</td>\n",
              "      <td>[&lt;File-like object HTTPFileSystem, https://dat...</td>\n",
              "      <td>{'tile_id': 'T16RBU', 'band_id': 'B09'}</td>\n",
              "      <td>POLYGON ((-90.10082 29.70587, -89.31483 29.722...</td>\n",
              "    </tr>\n",
              "    <tr>\n",
              "      <th>84</th>\n",
              "      <td>HLS.L30.T16RBU.2023300T163218.v2.0</td>\n",
              "      <td>2023-10-27 16:32:18.830000+00:00</td>\n",
              "      <td>[&lt;File-like object HTTPFileSystem, https://dat...</td>\n",
              "      <td>{'tile_id': 'T16RBU', 'band_id': 'B04'}</td>\n",
              "      <td>POLYGON ((-90.10082 29.70587, -89.30583 29.722...</td>\n",
              "    </tr>\n",
              "    <tr>\n",
              "      <th>85</th>\n",
              "      <td>HLS.L30.T15RYN.2023300T163218.v2.0</td>\n",
              "      <td>2023-10-27 16:32:18.830000+00:00</td>\n",
              "      <td>[&lt;File-like object HTTPFileSystem, https://dat...</td>\n",
              "      <td>{'tile_id': 'T15RYN', 'band_id': 'Fmask'}</td>\n",
              "      <td>POLYGON ((-89.82661 28.80214, -89.79584 29.791...</td>\n",
              "    </tr>\n",
              "    <tr>\n",
              "      <th>86</th>\n",
              "      <td>HLS.L30.T16RBT.2023300T163218.v2.0</td>\n",
              "      <td>2023-10-27 16:32:18.830000+00:00</td>\n",
              "      <td>[&lt;File-like object HTTPFileSystem, https://dat...</td>\n",
              "      <td>{'tile_id': 'T16RBT', 'band_id': 'VAA'}</td>\n",
              "      <td>POLYGON ((-90.07373 28.80445, -89.54924 28.815...</td>\n",
              "    </tr>\n",
              "    <tr>\n",
              "      <th>87</th>\n",
              "      <td>HLS.L30.T15RYP.2023300T163218.v2.0</td>\n",
              "      <td>2023-10-27 16:32:18.830000+00:00</td>\n",
              "      <td>[&lt;File-like object HTTPFileSystem, https://dat...</td>\n",
              "      <td>{'tile_id': 'T15RYP', 'band_id': 'Fmask'}</td>\n",
              "      <td>POLYGON ((-89.79864 29.70348, -89.76644 30.692...</td>\n",
              "    </tr>\n",
              "  </tbody>\n",
              "</table>\n",
              "<p>88 rows × 5 columns</p>\n",
              "</div>"
            ],
            "text/plain": [
              "                           granule_ids                granule_datetimes  \\\n",
              "0   HLS.L30.T16RBT.2023124T163132.v2.0 2023-05-04 16:31:32.101000+00:00   \n",
              "1   HLS.L30.T15RYN.2023124T163132.v2.0 2023-05-04 16:31:32.101000+00:00   \n",
              "2   HLS.L30.T15RYP.2023124T163132.v2.0 2023-05-04 16:31:32.101000+00:00   \n",
              "3   HLS.L30.T16RBU.2023124T163132.v2.0 2023-05-04 16:31:32.101000+00:00   \n",
              "4   HLS.L30.T16RBT.2023132T163144.v2.0 2023-05-12 16:31:44.329000+00:00   \n",
              "..                                 ...                              ...   \n",
              "83  HLS.L30.T16RBU.2023292T163221.v2.0 2023-10-19 16:32:21.176000+00:00   \n",
              "84  HLS.L30.T16RBU.2023300T163218.v2.0 2023-10-27 16:32:18.830000+00:00   \n",
              "85  HLS.L30.T15RYN.2023300T163218.v2.0 2023-10-27 16:32:18.830000+00:00   \n",
              "86  HLS.L30.T16RBT.2023300T163218.v2.0 2023-10-27 16:32:18.830000+00:00   \n",
              "87  HLS.L30.T15RYP.2023300T163218.v2.0 2023-10-27 16:32:18.830000+00:00   \n",
              "\n",
              "                                                 urls  \\\n",
              "0   [<File-like object HTTPFileSystem, https://dat...   \n",
              "1   [<File-like object HTTPFileSystem, https://dat...   \n",
              "2   [<File-like object HTTPFileSystem, https://dat...   \n",
              "3   [<File-like object HTTPFileSystem, https://dat...   \n",
              "4   [<File-like object HTTPFileSystem, https://dat...   \n",
              "..                                                ...   \n",
              "83  [<File-like object HTTPFileSystem, https://dat...   \n",
              "84  [<File-like object HTTPFileSystem, https://dat...   \n",
              "85  [<File-like object HTTPFileSystem, https://dat...   \n",
              "86  [<File-like object HTTPFileSystem, https://dat...   \n",
              "87  [<File-like object HTTPFileSystem, https://dat...   \n",
              "\n",
              "                               files_metadata  \\\n",
              "0     {'tile_id': 'T16RBT', 'band_id': 'B03'}   \n",
              "1     {'tile_id': 'T15RYN', 'band_id': 'B03'}   \n",
              "2     {'tile_id': 'T15RYP', 'band_id': 'VZA'}   \n",
              "3     {'tile_id': 'T16RBU', 'band_id': 'B11'}   \n",
              "4     {'tile_id': 'T16RBT', 'band_id': 'B02'}   \n",
              "..                                        ...   \n",
              "83    {'tile_id': 'T16RBU', 'band_id': 'B09'}   \n",
              "84    {'tile_id': 'T16RBU', 'band_id': 'B04'}   \n",
              "85  {'tile_id': 'T15RYN', 'band_id': 'Fmask'}   \n",
              "86    {'tile_id': 'T16RBT', 'band_id': 'VAA'}   \n",
              "87  {'tile_id': 'T15RYP', 'band_id': 'Fmask'}   \n",
              "\n",
              "                                             geometry  \n",
              "0   POLYGON ((-90.07373 28.80445, -89.57473 28.814...  \n",
              "1   POLYGON ((-89.82661 28.80214, -89.79584 29.791...  \n",
              "2   POLYGON ((-89.79864 29.70348, -89.76644 30.692...  \n",
              "3   POLYGON ((-90.10082 29.70587, -89.33187 29.721...  \n",
              "4   POLYGON ((-90.07373 28.80445, -89.56183 28.815...  \n",
              "..                                                ...  \n",
              "83  POLYGON ((-90.10082 29.70587, -89.31483 29.722...  \n",
              "84  POLYGON ((-90.10082 29.70587, -89.30583 29.722...  \n",
              "85  POLYGON ((-89.82661 28.80214, -89.79584 29.791...  \n",
              "86  POLYGON ((-90.07373 28.80445, -89.54924 28.815...  \n",
              "87  POLYGON ((-89.79864 29.70348, -89.76644 30.692...  \n",
              "\n",
              "[88 rows x 5 columns]"
            ]
          },
          "execution_count": 35,
          "metadata": {},
          "output_type": "execute_result"
        }
      ],
      "source": [
        "# Create dictionary to hold metadata lists\n",
        "metadata_dict = ({'granule_ids' : granule_ids,\n",
        "                  'granule_datetimes' : granule_datetimes,\n",
        "                  'urls' : files,\n",
        "                  'files_metadata' : files_metadata,\n",
        "                  'geometry' : granule_geometries})\n",
        "\n",
        "# Create GeoDataFrame out of metadata_dict\n",
        "granule_gdf = gpd.GeoDataFrame(metadata_dict, crs=\"EPSG:4326\")\n",
        "granule_gdf"
      ]
    },
    {
      "cell_type": "code",
      "execution_count": 50,
      "id": "603a5e94",
      "metadata": {},
      "outputs": [
        {
          "data": {
            "text/plain": [
              "[<File-like object HTTPFileSystem, https://data.lpdaac.earthdatacloud.nasa.gov/lp-prod-protected/HLSL30.020/HLS.L30.T15RYN.2023124T163132.v2.0/HLS.L30.T15RYN.2023124T163132.v2.0.B03.tif>,\n",
              " <File-like object HTTPFileSystem, https://data.lpdaac.earthdatacloud.nasa.gov/lp-prod-protected/HLSL30.020/HLS.L30.T15RYN.2023124T163132.v2.0/HLS.L30.T15RYN.2023124T163132.v2.0.VAA.tif>,\n",
              " <File-like object HTTPFileSystem, https://data.lpdaac.earthdatacloud.nasa.gov/lp-prod-protected/HLSL30.020/HLS.L30.T15RYN.2023124T163132.v2.0/HLS.L30.T15RYN.2023124T163132.v2.0.B01.tif>,\n",
              " <File-like object HTTPFileSystem, https://data.lpdaac.earthdatacloud.nasa.gov/lp-prod-protected/HLSL30.020/HLS.L30.T15RYN.2023124T163132.v2.0/HLS.L30.T15RYN.2023124T163132.v2.0.B02.tif>,\n",
              " <File-like object HTTPFileSystem, https://data.lpdaac.earthdatacloud.nasa.gov/lp-prod-protected/HLSL30.020/HLS.L30.T15RYN.2023124T163132.v2.0/HLS.L30.T15RYN.2023124T163132.v2.0.B06.tif>,\n",
              " <File-like object HTTPFileSystem, https://data.lpdaac.earthdatacloud.nasa.gov/lp-prod-protected/HLSL30.020/HLS.L30.T15RYN.2023124T163132.v2.0/HLS.L30.T15RYN.2023124T163132.v2.0.B09.tif>,\n",
              " <File-like object HTTPFileSystem, https://data.lpdaac.earthdatacloud.nasa.gov/lp-prod-protected/HLSL30.020/HLS.L30.T15RYN.2023124T163132.v2.0/HLS.L30.T15RYN.2023124T163132.v2.0.B04.tif>,\n",
              " <File-like object HTTPFileSystem, https://data.lpdaac.earthdatacloud.nasa.gov/lp-prod-protected/HLSL30.020/HLS.L30.T15RYN.2023124T163132.v2.0/HLS.L30.T15RYN.2023124T163132.v2.0.B10.tif>,\n",
              " <File-like object HTTPFileSystem, https://data.lpdaac.earthdatacloud.nasa.gov/lp-prod-protected/HLSL30.020/HLS.L30.T15RYN.2023124T163132.v2.0/HLS.L30.T15RYN.2023124T163132.v2.0.VZA.tif>,\n",
              " <File-like object HTTPFileSystem, https://data.lpdaac.earthdatacloud.nasa.gov/lp-prod-protected/HLSL30.020/HLS.L30.T15RYN.2023124T163132.v2.0/HLS.L30.T15RYN.2023124T163132.v2.0.SZA.tif>,\n",
              " <File-like object HTTPFileSystem, https://data.lpdaac.earthdatacloud.nasa.gov/lp-prod-protected/HLSL30.020/HLS.L30.T15RYN.2023124T163132.v2.0/HLS.L30.T15RYN.2023124T163132.v2.0.Fmask.tif>,\n",
              " <File-like object HTTPFileSystem, https://data.lpdaac.earthdatacloud.nasa.gov/lp-prod-protected/HLSL30.020/HLS.L30.T15RYN.2023124T163132.v2.0/HLS.L30.T15RYN.2023124T163132.v2.0.SAA.tif>,\n",
              " <File-like object HTTPFileSystem, https://data.lpdaac.earthdatacloud.nasa.gov/lp-prod-protected/HLSL30.020/HLS.L30.T15RYN.2023124T163132.v2.0/HLS.L30.T15RYN.2023124T163132.v2.0.B05.tif>,\n",
              " <File-like object HTTPFileSystem, https://data.lpdaac.earthdatacloud.nasa.gov/lp-prod-protected/HLSL30.020/HLS.L30.T15RYN.2023124T163132.v2.0/HLS.L30.T15RYN.2023124T163132.v2.0.B11.tif>,\n",
              " <File-like object HTTPFileSystem, https://data.lpdaac.earthdatacloud.nasa.gov/lp-prod-protected/HLSL30.020/HLS.L30.T15RYN.2023124T163132.v2.0/HLS.L30.T15RYN.2023124T163132.v2.0.B07.tif>]"
            ]
          },
          "execution_count": 50,
          "metadata": {},
          "output_type": "execute_result"
        }
      ],
      "source": [
        "granule_gdf.urls[1]"
      ]
    },
    {
      "cell_type": "markdown",
      "id": "394fc552-7fac-4228-a60b-beb4776718e8",
      "metadata": {},
      "source": [
        "### Open, crop, and mask data\n",
        "\n",
        "This will be the most resource-intensive step. I recommend caching your\n",
        "results using the `cached` decorator or by writing your own caching\n",
        "code. I also recommend testing this step with one or two dates before\n",
        "running the full computation.\n",
        "\n",
        "This code should include at least one **function** including a\n",
        "numpy-style docstring. A good place to start would be a function for\n",
        "opening a single masked raster, applying the appropriate scale\n",
        "parameter, and cropping.\n",
        "\n",
        "<link rel=\"stylesheet\" type=\"text/css\" href=\"./assets/styles.css\"><div class=\"callout callout-style-default callout-titled callout-task\"><div class=\"callout-header\"><div class=\"callout-icon-container\"><i class=\"callout-icon\"></i></div><div class=\"callout-title-container flex-fill\">Try It</div></div><div class=\"callout-body-container callout-body\"><ol type=\"1\">\n",
        "<li>For each granule:\n",
        "<ol type=\"1\">\n",
        "<li><p>Open the Fmask band, crop, and compute a quality mask for the\n",
        "granule. You can use the following code as a starting point, making sure\n",
        "that <code>mask_bits</code> contains the quality bits you want to\n",
        "consider: ```python # Expand into a new dimension of binary bits bits =\n",
        "( np.unpackbits(da.astype(np.uint8), bitorder=‘little’)\n",
        ".reshape(da.shape + (-1,)) )</p>\n",
        "<p># Select the required bits and check if any are flagged mask =\n",
        "np.prod(bits[…, mask_bits]==0, axis=-1) ```</p></li>\n",
        "<li><p>For each band that starts with ‘B’:</p>\n",
        "<ol type=\"1\">\n",
        "<li>Open the band, crop, and apply the scale factor</li>\n",
        "<li>Name the DataArray after the band using the <code>.name</code>\n",
        "attribute</li>\n",
        "<li>Apply the cloud mask using the <code>.where()</code> method</li>\n",
        "<li>Store the DataArray in your data structure (e.g. adding a\n",
        "GeoDataFrame column with the DataArray in it. Note that you will need to\n",
        "remove the rows for unused bands)</li>\n",
        "</ol></li>\n",
        "</ol></li>\n",
        "</ol></div></div>"
      ]
    },
    {
      "cell_type": "code",
      "execution_count": 43,
      "id": "5752c67e",
      "metadata": {},
      "outputs": [
        {
          "data": {
            "text/html": [
              "<div><svg style=\"position: absolute; width: 0; height: 0; overflow: hidden\">\n",
              "<defs>\n",
              "<symbol id=\"icon-database\" viewBox=\"0 0 32 32\">\n",
              "<path d=\"M16 0c-8.837 0-16 2.239-16 5v4c0 2.761 7.163 5 16 5s16-2.239 16-5v-4c0-2.761-7.163-5-16-5z\"></path>\n",
              "<path d=\"M16 17c-8.837 0-16-2.239-16-5v6c0 2.761 7.163 5 16 5s16-2.239 16-5v-6c0 2.761-7.163 5-16 5z\"></path>\n",
              "<path d=\"M16 26c-8.837 0-16-2.239-16-5v6c0 2.761 7.163 5 16 5s16-2.239 16-5v-6c0 2.761-7.163 5-16 5z\"></path>\n",
              "</symbol>\n",
              "<symbol id=\"icon-file-text2\" viewBox=\"0 0 32 32\">\n",
              "<path d=\"M28.681 7.159c-0.694-0.947-1.662-2.053-2.724-3.116s-2.169-2.030-3.116-2.724c-1.612-1.182-2.393-1.319-2.841-1.319h-15.5c-1.378 0-2.5 1.121-2.5 2.5v27c0 1.378 1.122 2.5 2.5 2.5h23c1.378 0 2.5-1.122 2.5-2.5v-19.5c0-0.448-0.137-1.23-1.319-2.841zM24.543 5.457c0.959 0.959 1.712 1.825 2.268 2.543h-4.811v-4.811c0.718 0.556 1.584 1.309 2.543 2.268zM28 29.5c0 0.271-0.229 0.5-0.5 0.5h-23c-0.271 0-0.5-0.229-0.5-0.5v-27c0-0.271 0.229-0.5 0.5-0.5 0 0 15.499-0 15.5 0v7c0 0.552 0.448 1 1 1h7v19.5z\"></path>\n",
              "<path d=\"M23 26h-14c-0.552 0-1-0.448-1-1s0.448-1 1-1h14c0.552 0 1 0.448 1 1s-0.448 1-1 1z\"></path>\n",
              "<path d=\"M23 22h-14c-0.552 0-1-0.448-1-1s0.448-1 1-1h14c0.552 0 1 0.448 1 1s-0.448 1-1 1z\"></path>\n",
              "<path d=\"M23 18h-14c-0.552 0-1-0.448-1-1s0.448-1 1-1h14c0.552 0 1 0.448 1 1s-0.448 1-1 1z\"></path>\n",
              "</symbol>\n",
              "</defs>\n",
              "</svg>\n",
              "<style>/* CSS stylesheet for displaying xarray objects in jupyterlab.\n",
              " *\n",
              " */\n",
              "\n",
              ":root {\n",
              "  --xr-font-color0: var(--jp-content-font-color0, rgba(0, 0, 0, 1));\n",
              "  --xr-font-color2: var(--jp-content-font-color2, rgba(0, 0, 0, 0.54));\n",
              "  --xr-font-color3: var(--jp-content-font-color3, rgba(0, 0, 0, 0.38));\n",
              "  --xr-border-color: var(--jp-border-color2, #e0e0e0);\n",
              "  --xr-disabled-color: var(--jp-layout-color3, #bdbdbd);\n",
              "  --xr-background-color: var(--jp-layout-color0, white);\n",
              "  --xr-background-color-row-even: var(--jp-layout-color1, white);\n",
              "  --xr-background-color-row-odd: var(--jp-layout-color2, #eeeeee);\n",
              "}\n",
              "\n",
              "html[theme=dark],\n",
              "html[data-theme=dark],\n",
              "body[data-theme=dark],\n",
              "body.vscode-dark {\n",
              "  --xr-font-color0: rgba(255, 255, 255, 1);\n",
              "  --xr-font-color2: rgba(255, 255, 255, 0.54);\n",
              "  --xr-font-color3: rgba(255, 255, 255, 0.38);\n",
              "  --xr-border-color: #1F1F1F;\n",
              "  --xr-disabled-color: #515151;\n",
              "  --xr-background-color: #111111;\n",
              "  --xr-background-color-row-even: #111111;\n",
              "  --xr-background-color-row-odd: #313131;\n",
              "}\n",
              "\n",
              ".xr-wrap {\n",
              "  display: block !important;\n",
              "  min-width: 300px;\n",
              "  max-width: 700px;\n",
              "}\n",
              "\n",
              ".xr-text-repr-fallback {\n",
              "  /* fallback to plain text repr when CSS is not injected (untrusted notebook) */\n",
              "  display: none;\n",
              "}\n",
              "\n",
              ".xr-header {\n",
              "  padding-top: 6px;\n",
              "  padding-bottom: 6px;\n",
              "  margin-bottom: 4px;\n",
              "  border-bottom: solid 1px var(--xr-border-color);\n",
              "}\n",
              "\n",
              ".xr-header > div,\n",
              ".xr-header > ul {\n",
              "  display: inline;\n",
              "  margin-top: 0;\n",
              "  margin-bottom: 0;\n",
              "}\n",
              "\n",
              ".xr-obj-type,\n",
              ".xr-array-name {\n",
              "  margin-left: 2px;\n",
              "  margin-right: 10px;\n",
              "}\n",
              "\n",
              ".xr-obj-type {\n",
              "  color: var(--xr-font-color2);\n",
              "}\n",
              "\n",
              ".xr-sections {\n",
              "  padding-left: 0 !important;\n",
              "  display: grid;\n",
              "  grid-template-columns: 150px auto auto 1fr 0 20px 0 20px;\n",
              "}\n",
              "\n",
              ".xr-section-item {\n",
              "  display: contents;\n",
              "}\n",
              "\n",
              ".xr-section-item input {\n",
              "  display: inline-block;\n",
              "  opacity: 0;\n",
              "}\n",
              "\n",
              ".xr-section-item input + label {\n",
              "  color: var(--xr-disabled-color);\n",
              "}\n",
              "\n",
              ".xr-section-item input:enabled + label {\n",
              "  cursor: pointer;\n",
              "  color: var(--xr-font-color2);\n",
              "}\n",
              "\n",
              ".xr-section-item input:focus + label {\n",
              "  border: 2px solid var(--xr-font-color0);\n",
              "}\n",
              "\n",
              ".xr-section-item input:enabled + label:hover {\n",
              "  color: var(--xr-font-color0);\n",
              "}\n",
              "\n",
              ".xr-section-summary {\n",
              "  grid-column: 1;\n",
              "  color: var(--xr-font-color2);\n",
              "  font-weight: 500;\n",
              "}\n",
              "\n",
              ".xr-section-summary > span {\n",
              "  display: inline-block;\n",
              "  padding-left: 0.5em;\n",
              "}\n",
              "\n",
              ".xr-section-summary-in:disabled + label {\n",
              "  color: var(--xr-font-color2);\n",
              "}\n",
              "\n",
              ".xr-section-summary-in + label:before {\n",
              "  display: inline-block;\n",
              "  content: '►';\n",
              "  font-size: 11px;\n",
              "  width: 15px;\n",
              "  text-align: center;\n",
              "}\n",
              "\n",
              ".xr-section-summary-in:disabled + label:before {\n",
              "  color: var(--xr-disabled-color);\n",
              "}\n",
              "\n",
              ".xr-section-summary-in:checked + label:before {\n",
              "  content: '▼';\n",
              "}\n",
              "\n",
              ".xr-section-summary-in:checked + label > span {\n",
              "  display: none;\n",
              "}\n",
              "\n",
              ".xr-section-summary,\n",
              ".xr-section-inline-details {\n",
              "  padding-top: 4px;\n",
              "  padding-bottom: 4px;\n",
              "}\n",
              "\n",
              ".xr-section-inline-details {\n",
              "  grid-column: 2 / -1;\n",
              "}\n",
              "\n",
              ".xr-section-details {\n",
              "  display: none;\n",
              "  grid-column: 1 / -1;\n",
              "  margin-bottom: 5px;\n",
              "}\n",
              "\n",
              ".xr-section-summary-in:checked ~ .xr-section-details {\n",
              "  display: contents;\n",
              "}\n",
              "\n",
              ".xr-array-wrap {\n",
              "  grid-column: 1 / -1;\n",
              "  display: grid;\n",
              "  grid-template-columns: 20px auto;\n",
              "}\n",
              "\n",
              ".xr-array-wrap > label {\n",
              "  grid-column: 1;\n",
              "  vertical-align: top;\n",
              "}\n",
              "\n",
              ".xr-preview {\n",
              "  color: var(--xr-font-color3);\n",
              "}\n",
              "\n",
              ".xr-array-preview,\n",
              ".xr-array-data {\n",
              "  padding: 0 5px !important;\n",
              "  grid-column: 2;\n",
              "}\n",
              "\n",
              ".xr-array-data,\n",
              ".xr-array-in:checked ~ .xr-array-preview {\n",
              "  display: none;\n",
              "}\n",
              "\n",
              ".xr-array-in:checked ~ .xr-array-data,\n",
              ".xr-array-preview {\n",
              "  display: inline-block;\n",
              "}\n",
              "\n",
              ".xr-dim-list {\n",
              "  display: inline-block !important;\n",
              "  list-style: none;\n",
              "  padding: 0 !important;\n",
              "  margin: 0;\n",
              "}\n",
              "\n",
              ".xr-dim-list li {\n",
              "  display: inline-block;\n",
              "  padding: 0;\n",
              "  margin: 0;\n",
              "}\n",
              "\n",
              ".xr-dim-list:before {\n",
              "  content: '(';\n",
              "}\n",
              "\n",
              ".xr-dim-list:after {\n",
              "  content: ')';\n",
              "}\n",
              "\n",
              ".xr-dim-list li:not(:last-child):after {\n",
              "  content: ',';\n",
              "  padding-right: 5px;\n",
              "}\n",
              "\n",
              ".xr-has-index {\n",
              "  font-weight: bold;\n",
              "}\n",
              "\n",
              ".xr-var-list,\n",
              ".xr-var-item {\n",
              "  display: contents;\n",
              "}\n",
              "\n",
              ".xr-var-item > div,\n",
              ".xr-var-item label,\n",
              ".xr-var-item > .xr-var-name span {\n",
              "  background-color: var(--xr-background-color-row-even);\n",
              "  margin-bottom: 0;\n",
              "}\n",
              "\n",
              ".xr-var-item > .xr-var-name:hover span {\n",
              "  padding-right: 5px;\n",
              "}\n",
              "\n",
              ".xr-var-list > li:nth-child(odd) > div,\n",
              ".xr-var-list > li:nth-child(odd) > label,\n",
              ".xr-var-list > li:nth-child(odd) > .xr-var-name span {\n",
              "  background-color: var(--xr-background-color-row-odd);\n",
              "}\n",
              "\n",
              ".xr-var-name {\n",
              "  grid-column: 1;\n",
              "}\n",
              "\n",
              ".xr-var-dims {\n",
              "  grid-column: 2;\n",
              "}\n",
              "\n",
              ".xr-var-dtype {\n",
              "  grid-column: 3;\n",
              "  text-align: right;\n",
              "  color: var(--xr-font-color2);\n",
              "}\n",
              "\n",
              ".xr-var-preview {\n",
              "  grid-column: 4;\n",
              "}\n",
              "\n",
              ".xr-index-preview {\n",
              "  grid-column: 2 / 5;\n",
              "  color: var(--xr-font-color2);\n",
              "}\n",
              "\n",
              ".xr-var-name,\n",
              ".xr-var-dims,\n",
              ".xr-var-dtype,\n",
              ".xr-preview,\n",
              ".xr-attrs dt {\n",
              "  white-space: nowrap;\n",
              "  overflow: hidden;\n",
              "  text-overflow: ellipsis;\n",
              "  padding-right: 10px;\n",
              "}\n",
              "\n",
              ".xr-var-name:hover,\n",
              ".xr-var-dims:hover,\n",
              ".xr-var-dtype:hover,\n",
              ".xr-attrs dt:hover {\n",
              "  overflow: visible;\n",
              "  width: auto;\n",
              "  z-index: 1;\n",
              "}\n",
              "\n",
              ".xr-var-attrs,\n",
              ".xr-var-data,\n",
              ".xr-index-data {\n",
              "  display: none;\n",
              "  background-color: var(--xr-background-color) !important;\n",
              "  padding-bottom: 5px !important;\n",
              "}\n",
              "\n",
              ".xr-var-attrs-in:checked ~ .xr-var-attrs,\n",
              ".xr-var-data-in:checked ~ .xr-var-data,\n",
              ".xr-index-data-in:checked ~ .xr-index-data {\n",
              "  display: block;\n",
              "}\n",
              "\n",
              ".xr-var-data > table {\n",
              "  float: right;\n",
              "}\n",
              "\n",
              ".xr-var-name span,\n",
              ".xr-var-data,\n",
              ".xr-index-name div,\n",
              ".xr-index-data,\n",
              ".xr-attrs {\n",
              "  padding-left: 25px !important;\n",
              "}\n",
              "\n",
              ".xr-attrs,\n",
              ".xr-var-attrs,\n",
              ".xr-var-data,\n",
              ".xr-index-data {\n",
              "  grid-column: 1 / -1;\n",
              "}\n",
              "\n",
              "dl.xr-attrs {\n",
              "  padding: 0;\n",
              "  margin: 0;\n",
              "  display: grid;\n",
              "  grid-template-columns: 125px auto;\n",
              "}\n",
              "\n",
              ".xr-attrs dt,\n",
              ".xr-attrs dd {\n",
              "  padding: 0;\n",
              "  margin: 0;\n",
              "  float: left;\n",
              "  padding-right: 10px;\n",
              "  width: auto;\n",
              "}\n",
              "\n",
              ".xr-attrs dt {\n",
              "  font-weight: normal;\n",
              "  grid-column: 1;\n",
              "}\n",
              "\n",
              ".xr-attrs dt:hover span {\n",
              "  display: inline-block;\n",
              "  background: var(--xr-background-color);\n",
              "  padding-right: 10px;\n",
              "}\n",
              "\n",
              ".xr-attrs dd {\n",
              "  grid-column: 2;\n",
              "  white-space: pre-wrap;\n",
              "  word-break: break-all;\n",
              "}\n",
              "\n",
              ".xr-icon-database,\n",
              ".xr-icon-file-text2,\n",
              ".xr-no-icon {\n",
              "  display: inline-block;\n",
              "  vertical-align: middle;\n",
              "  width: 1em;\n",
              "  height: 1.5em !important;\n",
              "  stroke-width: 0;\n",
              "  stroke: currentColor;\n",
              "  fill: currentColor;\n",
              "}\n",
              "</style><pre class='xr-text-repr-fallback'>&lt;xarray.DataArray (y: 413, x: 559)&gt; Size: 923kB\n",
              "[230867 values with dtype=float32]\n",
              "Coordinates:\n",
              "    band         int64 8B 1\n",
              "  * x            (x) float64 4kB 7.93e+05 7.93e+05 ... 8.097e+05 8.097e+05\n",
              "  * y            (y) float64 3kB 3.3e+06 3.3e+06 3.3e+06 ... 3.288e+06 3.288e+06\n",
              "    spatial_ref  int64 8B 0\n",
              "Attributes: (12/33)\n",
              "    ACCODE:                    Lasrc; Lasrc\n",
              "    arop_ave_xshift(meters):   0, 0\n",
              "    arop_ave_yshift(meters):   0, 0\n",
              "    arop_ncp:                  0, 0\n",
              "    arop_rmse(meters):         0, 0\n",
              "    arop_s2_refimg:            NONE\n",
              "    ...                        ...\n",
              "    TIRS_SSM_MODEL:            PRELIMINARY; PRELIMINARY\n",
              "    TIRS_SSM_POSITION_STATUS:  ESTIMATED; ESTIMATED\n",
              "    ULX:                       699960\n",
              "    ULY:                       3300000\n",
              "    USGS_SOFTWARE:             LPGS_16.2.0\n",
              "    AREA_OR_POINT:             Area</pre><div class='xr-wrap' style='display:none'><div class='xr-header'><div class='xr-obj-type'>xarray.DataArray</div><div class='xr-array-name'></div><ul class='xr-dim-list'><li><span class='xr-has-index'>y</span>: 413</li><li><span class='xr-has-index'>x</span>: 559</li></ul></div><ul class='xr-sections'><li class='xr-section-item'><div class='xr-array-wrap'><input id='section-1eade730-3cf0-42ab-bb7e-7e52cbf66337' class='xr-array-in' type='checkbox' checked><label for='section-1eade730-3cf0-42ab-bb7e-7e52cbf66337' title='Show/hide data repr'><svg class='icon xr-icon-database'><use xlink:href='#icon-database'></use></svg></label><div class='xr-array-preview xr-preview'><span>...</span></div><div class='xr-array-data'><pre>[230867 values with dtype=float32]</pre></div></div></li><li class='xr-section-item'><input id='section-685f5641-ca75-46ef-8b15-d8bc0966c992' class='xr-section-summary-in' type='checkbox'  checked><label for='section-685f5641-ca75-46ef-8b15-d8bc0966c992' class='xr-section-summary' >Coordinates: <span>(4)</span></label><div class='xr-section-inline-details'></div><div class='xr-section-details'><ul class='xr-var-list'><li class='xr-var-item'><div class='xr-var-name'><span>band</span></div><div class='xr-var-dims'>()</div><div class='xr-var-dtype'>int64</div><div class='xr-var-preview xr-preview'>1</div><input id='attrs-dea92009-92d6-42d4-a0cd-321d09f31c8f' class='xr-var-attrs-in' type='checkbox' disabled><label for='attrs-dea92009-92d6-42d4-a0cd-321d09f31c8f' title='Show/Hide attributes'><svg class='icon xr-icon-file-text2'><use xlink:href='#icon-file-text2'></use></svg></label><input id='data-4358097a-f570-41b2-96a0-e1a61e39afc4' class='xr-var-data-in' type='checkbox'><label for='data-4358097a-f570-41b2-96a0-e1a61e39afc4' title='Show/Hide data repr'><svg class='icon xr-icon-database'><use xlink:href='#icon-database'></use></svg></label><div class='xr-var-attrs'><dl class='xr-attrs'></dl></div><div class='xr-var-data'><pre>array(1)</pre></div></li><li class='xr-var-item'><div class='xr-var-name'><span class='xr-has-index'>x</span></div><div class='xr-var-dims'>(x)</div><div class='xr-var-dtype'>float64</div><div class='xr-var-preview xr-preview'>7.93e+05 7.93e+05 ... 8.097e+05</div><input id='attrs-f60ada9c-1829-4d4b-bc02-fd4c8007b5bb' class='xr-var-attrs-in' type='checkbox' ><label for='attrs-f60ada9c-1829-4d4b-bc02-fd4c8007b5bb' title='Show/Hide attributes'><svg class='icon xr-icon-file-text2'><use xlink:href='#icon-file-text2'></use></svg></label><input id='data-cd8afda6-7bda-4e14-a044-2b21bdca5fd2' class='xr-var-data-in' type='checkbox'><label for='data-cd8afda6-7bda-4e14-a044-2b21bdca5fd2' title='Show/Hide data repr'><svg class='icon xr-icon-database'><use xlink:href='#icon-database'></use></svg></label><div class='xr-var-attrs'><dl class='xr-attrs'><dt><span>axis :</span></dt><dd>X</dd><dt><span>long_name :</span></dt><dd>x coordinate of projection</dd><dt><span>standard_name :</span></dt><dd>projection_x_coordinate</dd><dt><span>units :</span></dt><dd>metre</dd></dl></div><div class='xr-var-data'><pre>array([793005., 793035., 793065., ..., 809685., 809715., 809745.])</pre></div></li><li class='xr-var-item'><div class='xr-var-name'><span class='xr-has-index'>y</span></div><div class='xr-var-dims'>(y)</div><div class='xr-var-dtype'>float64</div><div class='xr-var-preview xr-preview'>3.3e+06 3.3e+06 ... 3.288e+06</div><input id='attrs-23971942-1fbf-4367-8292-05d4df6d7f7b' class='xr-var-attrs-in' type='checkbox' ><label for='attrs-23971942-1fbf-4367-8292-05d4df6d7f7b' title='Show/Hide attributes'><svg class='icon xr-icon-file-text2'><use xlink:href='#icon-file-text2'></use></svg></label><input id='data-49501304-2f04-4b99-947f-b487ca8abee7' class='xr-var-data-in' type='checkbox'><label for='data-49501304-2f04-4b99-947f-b487ca8abee7' title='Show/Hide data repr'><svg class='icon xr-icon-database'><use xlink:href='#icon-database'></use></svg></label><div class='xr-var-attrs'><dl class='xr-attrs'><dt><span>axis :</span></dt><dd>Y</dd><dt><span>long_name :</span></dt><dd>y coordinate of projection</dd><dt><span>standard_name :</span></dt><dd>projection_y_coordinate</dd><dt><span>units :</span></dt><dd>metre</dd></dl></div><div class='xr-var-data'><pre>array([3299985., 3299955., 3299925., ..., 3287685., 3287655., 3287625.])</pre></div></li><li class='xr-var-item'><div class='xr-var-name'><span>spatial_ref</span></div><div class='xr-var-dims'>()</div><div class='xr-var-dtype'>int64</div><div class='xr-var-preview xr-preview'>0</div><input id='attrs-ad617e0b-e49e-4bbf-ad8a-4830e7f5a617' class='xr-var-attrs-in' type='checkbox' ><label for='attrs-ad617e0b-e49e-4bbf-ad8a-4830e7f5a617' title='Show/Hide attributes'><svg class='icon xr-icon-file-text2'><use xlink:href='#icon-file-text2'></use></svg></label><input id='data-855ffea0-abac-4212-9a16-e3c68b2247b4' class='xr-var-data-in' type='checkbox'><label for='data-855ffea0-abac-4212-9a16-e3c68b2247b4' title='Show/Hide data repr'><svg class='icon xr-icon-database'><use xlink:href='#icon-database'></use></svg></label><div class='xr-var-attrs'><dl class='xr-attrs'><dt><span>crs_wkt :</span></dt><dd>PROJCS[&quot;WGS 84 / UTM zone 15N&quot;,GEOGCS[&quot;WGS 84&quot;,DATUM[&quot;WGS_1984&quot;,SPHEROID[&quot;WGS 84&quot;,6378137,298.257223563,AUTHORITY[&quot;EPSG&quot;,&quot;7030&quot;]],AUTHORITY[&quot;EPSG&quot;,&quot;6326&quot;]],PRIMEM[&quot;Greenwich&quot;,0,AUTHORITY[&quot;EPSG&quot;,&quot;8901&quot;]],UNIT[&quot;degree&quot;,0.0174532925199433,AUTHORITY[&quot;EPSG&quot;,&quot;9122&quot;]],AUTHORITY[&quot;EPSG&quot;,&quot;4326&quot;]],PROJECTION[&quot;Transverse_Mercator&quot;],PARAMETER[&quot;latitude_of_origin&quot;,0],PARAMETER[&quot;central_meridian&quot;,-93],PARAMETER[&quot;scale_factor&quot;,0.9996],PARAMETER[&quot;false_easting&quot;,500000],PARAMETER[&quot;false_northing&quot;,0],UNIT[&quot;metre&quot;,1,AUTHORITY[&quot;EPSG&quot;,&quot;9001&quot;]],AXIS[&quot;Easting&quot;,EAST],AXIS[&quot;Northing&quot;,NORTH],AUTHORITY[&quot;EPSG&quot;,&quot;32615&quot;]]</dd><dt><span>semi_major_axis :</span></dt><dd>6378137.0</dd><dt><span>semi_minor_axis :</span></dt><dd>6356752.314245179</dd><dt><span>inverse_flattening :</span></dt><dd>298.257223563</dd><dt><span>reference_ellipsoid_name :</span></dt><dd>WGS 84</dd><dt><span>longitude_of_prime_meridian :</span></dt><dd>0.0</dd><dt><span>prime_meridian_name :</span></dt><dd>Greenwich</dd><dt><span>geographic_crs_name :</span></dt><dd>WGS 84</dd><dt><span>horizontal_datum_name :</span></dt><dd>World Geodetic System 1984</dd><dt><span>projected_crs_name :</span></dt><dd>WGS 84 / UTM zone 15N</dd><dt><span>grid_mapping_name :</span></dt><dd>transverse_mercator</dd><dt><span>latitude_of_projection_origin :</span></dt><dd>0.0</dd><dt><span>longitude_of_central_meridian :</span></dt><dd>-93.0</dd><dt><span>false_easting :</span></dt><dd>500000.0</dd><dt><span>false_northing :</span></dt><dd>0.0</dd><dt><span>scale_factor_at_central_meridian :</span></dt><dd>0.9996</dd><dt><span>spatial_ref :</span></dt><dd>PROJCS[&quot;WGS 84 / UTM zone 15N&quot;,GEOGCS[&quot;WGS 84&quot;,DATUM[&quot;WGS_1984&quot;,SPHEROID[&quot;WGS 84&quot;,6378137,298.257223563,AUTHORITY[&quot;EPSG&quot;,&quot;7030&quot;]],AUTHORITY[&quot;EPSG&quot;,&quot;6326&quot;]],PRIMEM[&quot;Greenwich&quot;,0,AUTHORITY[&quot;EPSG&quot;,&quot;8901&quot;]],UNIT[&quot;degree&quot;,0.0174532925199433,AUTHORITY[&quot;EPSG&quot;,&quot;9122&quot;]],AUTHORITY[&quot;EPSG&quot;,&quot;4326&quot;]],PROJECTION[&quot;Transverse_Mercator&quot;],PARAMETER[&quot;latitude_of_origin&quot;,0],PARAMETER[&quot;central_meridian&quot;,-93],PARAMETER[&quot;scale_factor&quot;,0.9996],PARAMETER[&quot;false_easting&quot;,500000],PARAMETER[&quot;false_northing&quot;,0],UNIT[&quot;metre&quot;,1,AUTHORITY[&quot;EPSG&quot;,&quot;9001&quot;]],AXIS[&quot;Easting&quot;,EAST],AXIS[&quot;Northing&quot;,NORTH],AUTHORITY[&quot;EPSG&quot;,&quot;32615&quot;]]</dd><dt><span>GeoTransform :</span></dt><dd>792990.0 30.0 0.0 3300000.0 0.0 -30.0</dd></dl></div><div class='xr-var-data'><pre>array(0)</pre></div></li></ul></div></li><li class='xr-section-item'><input id='section-d97d2c21-d144-48c3-bf48-21b6ee9e82cb' class='xr-section-summary-in' type='checkbox'  ><label for='section-d97d2c21-d144-48c3-bf48-21b6ee9e82cb' class='xr-section-summary' >Indexes: <span>(2)</span></label><div class='xr-section-inline-details'></div><div class='xr-section-details'><ul class='xr-var-list'><li class='xr-var-item'><div class='xr-index-name'><div>x</div></div><div class='xr-index-preview'>PandasIndex</div><div></div><input id='index-75251dd8-5e97-40c6-95da-f4c2fca8d5cc' class='xr-index-data-in' type='checkbox'/><label for='index-75251dd8-5e97-40c6-95da-f4c2fca8d5cc' title='Show/Hide index repr'><svg class='icon xr-icon-database'><use xlink:href='#icon-database'></use></svg></label><div class='xr-index-data'><pre>PandasIndex(Index([793005.0, 793035.0, 793065.0, 793095.0, 793125.0, 793155.0, 793185.0,\n",
              "       793215.0, 793245.0, 793275.0,\n",
              "       ...\n",
              "       809475.0, 809505.0, 809535.0, 809565.0, 809595.0, 809625.0, 809655.0,\n",
              "       809685.0, 809715.0, 809745.0],\n",
              "      dtype=&#x27;float64&#x27;, name=&#x27;x&#x27;, length=559))</pre></div></li><li class='xr-var-item'><div class='xr-index-name'><div>y</div></div><div class='xr-index-preview'>PandasIndex</div><div></div><input id='index-24a3c6d2-f4fa-4b84-bdf3-1a4a14c5e0b1' class='xr-index-data-in' type='checkbox'/><label for='index-24a3c6d2-f4fa-4b84-bdf3-1a4a14c5e0b1' title='Show/Hide index repr'><svg class='icon xr-icon-database'><use xlink:href='#icon-database'></use></svg></label><div class='xr-index-data'><pre>PandasIndex(Index([3299985.0, 3299955.0, 3299925.0, 3299895.0, 3299865.0, 3299835.0,\n",
              "       3299805.0, 3299775.0, 3299745.0, 3299715.0,\n",
              "       ...\n",
              "       3287895.0, 3287865.0, 3287835.0, 3287805.0, 3287775.0, 3287745.0,\n",
              "       3287715.0, 3287685.0, 3287655.0, 3287625.0],\n",
              "      dtype=&#x27;float64&#x27;, name=&#x27;y&#x27;, length=413))</pre></div></li></ul></div></li><li class='xr-section-item'><input id='section-483be0fd-33f6-4cd8-af54-618387817868' class='xr-section-summary-in' type='checkbox'  ><label for='section-483be0fd-33f6-4cd8-af54-618387817868' class='xr-section-summary' >Attributes: <span>(33)</span></label><div class='xr-section-inline-details'></div><div class='xr-section-details'><dl class='xr-attrs'><dt><span>ACCODE :</span></dt><dd>Lasrc; Lasrc</dd><dt><span>arop_ave_xshift(meters) :</span></dt><dd>0, 0</dd><dt><span>arop_ave_yshift(meters) :</span></dt><dd>0, 0</dd><dt><span>arop_ncp :</span></dt><dd>0, 0</dd><dt><span>arop_rmse(meters) :</span></dt><dd>0, 0</dd><dt><span>arop_s2_refimg :</span></dt><dd>NONE</dd><dt><span>cloud_coverage :</span></dt><dd>1</dd><dt><span>Fmask bit description :</span></dt><dd>Bits are listed from the MSB (bit 7) to the LSB (bit 0): \n",
              "7-6    aerosol:\n",
              "       00 - climatology\n",
              "       01 - low\n",
              "       10 - average\n",
              "       11 - high\n",
              "5      water\n",
              "4      snow/ice\n",
              "3      cloud shadow\n",
              "2      adjacent to cloud\n",
              "1      cloud\n",
              "0      cirrus cloud\n",
              "</dd><dt><span>HLS_PROCESSING_TIME :</span></dt><dd>2023-05-06T06:55:36Z</dd><dt><span>HORIZONTAL_CS_NAME :</span></dt><dd>UTM, WGS84, UTM ZONE 15; UTM, WGS84, UTM ZONE 15</dd><dt><span>L1_PROCESSING_TIME :</span></dt><dd>2023-05-04T20:45:41Z; 2023-05-04T20:44:29Z</dd><dt><span>LANDSAT_PRODUCT_ID :</span></dt><dd>LC08_L1TP_022039_20230504_20230504_02_RT; LC08_L1TP_022040_20230504_20230504_02_RT</dd><dt><span>LANDSAT_SCENE_ID :</span></dt><dd>LC80220392023124LGN00; LC80220402023124LGN00</dd><dt><span>MEAN_SUN_AZIMUTH_ANGLE :</span></dt><dd>119.039319349961</dd><dt><span>MEAN_SUN_ZENITH_ANGLE :</span></dt><dd>23.8974018664837</dd><dt><span>MEAN_VIEW_AZIMUTH_ANGLE :</span></dt><dd>192.100011277693</dd><dt><span>MEAN_VIEW_ZENITH_ANGLE :</span></dt><dd>2.58639176709964</dd><dt><span>NBAR_SOLAR_ZENITH :</span></dt><dd>22.2069708384549</dd><dt><span>NCOLS :</span></dt><dd>3660</dd><dt><span>NROWS :</span></dt><dd>3660</dd><dt><span>OVR_RESAMPLING_ALG :</span></dt><dd>NEAREST</dd><dt><span>PROCESSING_LEVEL :</span></dt><dd>L1TP; L1TP</dd><dt><span>SENSING_TIME :</span></dt><dd>2023-05-04T16:31:32.1012330Z; 2023-05-04T16:31:55.9922730Z</dd><dt><span>SENSOR :</span></dt><dd>OLI_TIRS; OLI_TIRS</dd><dt><span>SENTINEL2_TILEID :</span></dt><dd>15RYN</dd><dt><span>spatial_coverage :</span></dt><dd>100</dd><dt><span>SPATIAL_RESOLUTION :</span></dt><dd>30</dd><dt><span>TIRS_SSM_MODEL :</span></dt><dd>PRELIMINARY; PRELIMINARY</dd><dt><span>TIRS_SSM_POSITION_STATUS :</span></dt><dd>ESTIMATED; ESTIMATED</dd><dt><span>ULX :</span></dt><dd>699960</dd><dt><span>ULY :</span></dt><dd>3300000</dd><dt><span>USGS_SOFTWARE :</span></dt><dd>LPGS_16.2.0</dd><dt><span>AREA_OR_POINT :</span></dt><dd>Area</dd></dl></div></li></ul></div></div>"
            ],
            "text/plain": [
              "<xarray.DataArray (y: 413, x: 559)> Size: 923kB\n",
              "[230867 values with dtype=float32]\n",
              "Coordinates:\n",
              "    band         int64 8B 1\n",
              "  * x            (x) float64 4kB 7.93e+05 7.93e+05 ... 8.097e+05 8.097e+05\n",
              "  * y            (y) float64 3kB 3.3e+06 3.3e+06 3.3e+06 ... 3.288e+06 3.288e+06\n",
              "    spatial_ref  int64 8B 0\n",
              "Attributes: (12/33)\n",
              "    ACCODE:                    Lasrc; Lasrc\n",
              "    arop_ave_xshift(meters):   0, 0\n",
              "    arop_ave_yshift(meters):   0, 0\n",
              "    arop_ncp:                  0, 0\n",
              "    arop_rmse(meters):         0, 0\n",
              "    arop_s2_refimg:            NONE\n",
              "    ...                        ...\n",
              "    TIRS_SSM_MODEL:            PRELIMINARY; PRELIMINARY\n",
              "    TIRS_SSM_POSITION_STATUS:  ESTIMATED; ESTIMATED\n",
              "    ULX:                       699960\n",
              "    ULY:                       3300000\n",
              "    USGS_SOFTWARE:             LPGS_16.2.0\n",
              "    AREA_OR_POINT:             Area"
            ]
          },
          "execution_count": 43,
          "metadata": {},
          "output_type": "execute_result"
        }
      ],
      "source": [
        "# define a function to open and crop a raster\n",
        "def process_image(url, bounds_gdf):\n",
        "    \"\"\"\n",
        "    Load, crop, and scale a raster image from earthaccess\n",
        "\n",
        "    Parameters\n",
        "    ----------\n",
        "    uri: file-like or path-like\n",
        "      File accessor downloaded or obtained from earthaccess\n",
        "    bounds_gdf: gpd.GeoDataFrame\n",
        "      Area of interest to crop to\n",
        "\n",
        "    Returns\n",
        "    -------\n",
        "    cropped_da: rxr.DataArray\n",
        "      Processed raster\n",
        "    \"\"\"\n",
        "    #connect to the raster image\n",
        "    da = rxr.open_rasterio(url, mask_and_scale=True).squeeze()\n",
        "    \n",
        "    # Get the study bounds\n",
        "    bounds = (\n",
        "      bounds_gdf\n",
        "      .to_crs(da.rio.crs)\n",
        "      .total_bounds\n",
        "    )\n",
        "\n",
        "    # Crop\n",
        "    cropped_da = da.rio.clip_box(*bounds)\n",
        "\n",
        "    return cropped_da\n",
        "\n",
        "# test function\n",
        "process_image(granule_gdf.urls[1][10], wbd_gdf)"
      ]
    },
    {
      "cell_type": "code",
      "execution_count": null,
      "id": "68e1e0da",
      "metadata": {
        "highlight": true
      },
      "outputs": [],
      "source": [
        "# Loop through each image - each image is one row of the granule_gdf\n",
        "for granule in tqdm(granule_gdf):\n",
        "    # Open granule cloud cover\n",
        "    da = rxr.open_rasterio(granule.urls, mask_and_scale=True).squeeze()\n",
        "\n",
        "    # Compute cloud mask\n",
        "\n",
        "    # Loop through each spectral band\n",
        "\n",
        "        # Open, crop, and mask the band\n",
        "\n",
        "        # Add the DataArray to the metadata DataFrame row\n",
        "\n",
        "    # Reassemble the metadata DataFrame"
      ]
    },
    {
      "cell_type": "markdown",
      "id": "b3f54939-7fcf-44a6-91af-57aa50b1895c",
      "metadata": {},
      "source": [
        "### Merge and Composite Data\n",
        "\n",
        "You will notice for this watershed that: 1. The raster data for each\n",
        "date are spread across 4 granules 2. Any given image is incomplete\n",
        "because of clouds\n",
        "\n",
        "<link rel=\"stylesheet\" type=\"text/css\" href=\"./assets/styles.css\"><div class=\"callout callout-style-default callout-titled callout-task\"><div class=\"callout-header\"><div class=\"callout-icon-container\"><i class=\"callout-icon\"></i></div><div class=\"callout-title-container flex-fill\">Try It</div></div><div class=\"callout-body-container callout-body\"><ol type=\"1\">\n",
        "<li><p>For each band:</p>\n",
        "<ol type=\"1\">\n",
        "<li><p>For each date:</p>\n",
        "<ol type=\"1\">\n",
        "<li>Merge all 4 granules</li>\n",
        "<li>Mask any negative values created by interpolating from the nodata\n",
        "value of -9999 (<code>rioxarray</code> should account for this, but\n",
        "doesn’t appear to when merging. If you leave these values in they will\n",
        "create problems down the line)</li>\n",
        "</ol></li>\n",
        "<li><p>Concatenate the merged DataArrays along a new date\n",
        "dimension</p></li>\n",
        "<li><p>Take the mean in the date dimension to create a composite image\n",
        "that fills cloud gaps</p></li>\n",
        "<li><p>Add the band as a dimension, and give the DataArray a\n",
        "name</p></li>\n",
        "</ol></li>\n",
        "<li><p>Concatenate along the band dimension</p></li>\n",
        "</ol></div></div>"
      ]
    },
    {
      "cell_type": "code",
      "execution_count": 32,
      "id": "6d6ef620",
      "metadata": {
        "highlight": true
      },
      "outputs": [],
      "source": [
        "# Merge and composite and image for each band\n",
        "\n",
        "        # Merge granules for each date\n",
        "\n",
        "        # Mask negative values\n",
        "\n",
        "    # Composite images across dates"
      ]
    },
    {
      "cell_type": "markdown",
      "id": "3d4088b9-6768-4742-90c6-f6d16254db94",
      "metadata": {},
      "source": [
        "## STEP 4: K-MEANS\n",
        "\n",
        "Cluster your data by spectral signature using the k-means algorithm.\n",
        "\n",
        "<link rel=\"stylesheet\" type=\"text/css\" href=\"./assets/styles.css\"><div class=\"callout callout-style-default callout-titled callout-task\"><div class=\"callout-header\"><div class=\"callout-icon-container\"><i class=\"callout-icon\"></i></div><div class=\"callout-title-container flex-fill\">Try It</div></div><div class=\"callout-body-container callout-body\"><ol type=\"1\">\n",
        "<li>Convert your DataArray into a <strong>tidy</strong> DataFrame of\n",
        "reflectance values (hint: check out the <code>.to_dataframe()</code> and\n",
        "<code>.unstack()</code> methods)</li>\n",
        "<li>Filter out all rows with no data (all 0s or any N/A values)</li>\n",
        "<li>Fit a k-means model. You can experiment with the number of groups to\n",
        "find what works best.</li>\n",
        "</ol></div></div>"
      ]
    },
    {
      "cell_type": "code",
      "execution_count": 33,
      "id": "1380d9b6",
      "metadata": {
        "highlight": true
      },
      "outputs": [],
      "source": [
        "# Convert spectral DataArray to a tidy DataFrame\n",
        "# Create a column for each of the bands\n",
        "## model_df = reflectance_df.to_dataframe().reflectance.unstack('band)\n",
        "\n",
        "# drop bands 10 and 11 and any rows w/ NaN values\n",
        "## model_df = model_df.drop(columns = [10,11]).drop(na)\n",
        "\n",
        "# Check that the ranges make sense (should be from 0-1) by checking min and max values\n",
        "## min_values = model_df.min()\n",
        "## max_values = model_df.max()\n",
        "## print(min_values)\n",
        "## pring(max_values)\n",
        "\n",
        "# Initialize k means\n",
        "## k_means = KMeans(n_clusters = 5)\n",
        "\n",
        "# Fit model and predict\n",
        "## prediction = k_means.fit_predict(model_df.values)\n",
        "\n",
        "# Add cluster label to df\n",
        "## model_df['clusters'] = prediction\n",
        "\n",
        "# Running the fit and predict functions at the same time.\n",
        "# We can do this since we don't have target data.\n",
        "\n",
        "# Add the predicted values back to the model DataFrame"
      ]
    },
    {
      "cell_type": "markdown",
      "id": "6417c5c9-b68e-4a7c-824a-2d1bb1aaaae5",
      "metadata": {},
      "source": [
        "## STEP 5: PLOT\n",
        "\n",
        "<link rel=\"stylesheet\" type=\"text/css\" href=\"./assets/styles.css\"><div class=\"callout callout-style-default callout-titled callout-task\"><div class=\"callout-header\"><div class=\"callout-icon-container\"><i class=\"callout-icon\"></i></div><div class=\"callout-title-container flex-fill\">Try It</div></div><div class=\"callout-body-container callout-body\"><p>Create a plot that shows the k-means clusters next to an RGB image of\n",
        "the area. You may need to brighten your RGB image by multiplying it by\n",
        "10. The code for reshaping and plotting the clusters is provided for you\n",
        "below, but you will have to create the RGB plot yourself!</p>\n",
        "<p>So, what is <code>.sortby(['x', 'y'])</code> doing for us? Try the\n",
        "code without it and find out.</p></div></div>"
      ]
    },
    {
      "cell_type": "code",
      "execution_count": 34,
      "id": "9f85cffa",
      "metadata": {},
      "outputs": [],
      "source": [
        "# make dataarray w/ bands to use for rgb\n",
        "## rgb = reflectance_da.sel(band=[4, 3, 2])\n",
        "\n",
        "# hvplot has a rgb plot method. this will not give us a helpful plot b/c the values arent what the rgb plot expects\n",
        "# (\n",
        "#     rgb.hvplot.rgb(y = 'y',\n",
        "#                x = 'x',\n",
        "#                bands = 'band',\n",
        "#                data_aspect = 1,\n",
        "#                xaxis = None, yaxis = None)\n",
        "#                )\n",
        "\n",
        "# Want image pixel values to range from 0-255\n",
        "# Then convert to unsigned 8-bit integers (data type for images)\n",
        "# don't include nan values in calculation\n",
        "# This still yields a very dark plot\n",
        "## rgb_uint8 = (rgb * 255).astype(np.uint8.where(rgb!=np.nan))\n",
        "\n",
        "# We can increase the brightness of the image\n",
        "# After plotting this we may get an error that the data values are too high.\n",
        "## rgb_uint8_bright = (rgb_uint8 * 10)\n",
        "\n",
        "# To fix the error, cap all pixel values at 255\n",
        "# If value is 155, keep that value. if value is greater than 255, replace w/ 255\n",
        "## rgb_sat = rgb_uint8_bright.where(rgb_uint8_bright < 255, 255)"
      ]
    },
    {
      "cell_type": "code",
      "execution_count": 35,
      "id": "b9e7ac5f",
      "metadata": {
        "highlight": true
      },
      "outputs": [
        {
          "ename": "NameError",
          "evalue": "name 'rgb_plot' is not defined",
          "output_type": "error",
          "traceback": [
            "\u001b[1;31m---------------------------------------------------------------------------\u001b[0m",
            "\u001b[1;31mNameError\u001b[0m                                 Traceback (most recent call last)",
            "Cell \u001b[1;32mIn[35], line 3\u001b[0m\n\u001b[0;32m      1\u001b[0m \u001b[38;5;66;03m# Plot the k-means clusters\u001b[39;00m\n\u001b[0;32m      2\u001b[0m (\n\u001b[1;32m----> 3\u001b[0m     \u001b[43mrgb_plot\u001b[49m\n\u001b[0;32m      4\u001b[0m     \u001b[38;5;241m+\u001b[39m \n\u001b[0;32m      5\u001b[0m     model_df\u001b[38;5;241m.\u001b[39mclusters\u001b[38;5;241m.\u001b[39mto_xarray()\u001b[38;5;241m.\u001b[39msortby([\u001b[38;5;124m'\u001b[39m\u001b[38;5;124mx\u001b[39m\u001b[38;5;124m'\u001b[39m, \u001b[38;5;124m'\u001b[39m\u001b[38;5;124my\u001b[39m\u001b[38;5;124m'\u001b[39m])\u001b[38;5;241m.\u001b[39mhvplot(\n\u001b[0;32m      6\u001b[0m         cmap\u001b[38;5;241m=\u001b[39m\u001b[38;5;124m\"\u001b[39m\u001b[38;5;124mColorblind\u001b[39m\u001b[38;5;124m\"\u001b[39m, aspect\u001b[38;5;241m=\u001b[39m\u001b[38;5;124m'\u001b[39m\u001b[38;5;124mequal\u001b[39m\u001b[38;5;124m'\u001b[39m) \n\u001b[0;32m      7\u001b[0m )\n",
            "\u001b[1;31mNameError\u001b[0m: name 'rgb_plot' is not defined"
          ]
        }
      ],
      "source": [
        "# Plot the k-means clusters\n",
        "(\n",
        "    rgb_plot\n",
        "    + \n",
        "    model_df.clusters.to_xarray().sortby(['x', 'y']).hvplot(\n",
        "        cmap=\"Colorblind\", aspect='equal') \n",
        ")"
      ]
    },
    {
      "cell_type": "markdown",
      "id": "1f764ccf-d111-4f47-bcea-8c10a7cac441",
      "metadata": {},
      "source": [
        "<link rel=\"stylesheet\" type=\"text/css\" href=\"./assets/styles.css\"><div class=\"callout callout-style-default callout-titled callout-respond\"><div class=\"callout-header\"><div class=\"callout-icon-container\"><i class=\"callout-icon\"></i></div><div class=\"callout-title-container flex-fill\">Reflect and Respond</div></div><div class=\"callout-body-container callout-body\"><p>Don’t forget to interpret your plot!</p></div></div>"
      ]
    },
    {
      "cell_type": "markdown",
      "id": "4efe872d-a8ab-46bd-816f-fc5194b777a5",
      "metadata": {},
      "source": [
        "**YOUR PLOT HEADLINE AND DESCRIPTION HERE**"
      ]
    }
  ],
  "metadata": {
    "kernelspec": {
      "display_name": "earth-analytics-python",
      "language": "python",
      "name": "python3"
    },
    "language_info": {
      "codemirror_mode": {
        "name": "ipython",
        "version": 3
      },
      "file_extension": ".py",
      "mimetype": "text/x-python",
      "name": "python",
      "nbconvert_exporter": "python",
      "pygments_lexer": "ipython3",
      "version": "3.11.10"
    }
  },
  "nbformat": 4,
  "nbformat_minor": 5
}
