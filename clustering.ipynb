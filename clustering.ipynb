{
  "cells": [
    {
      "cell_type": "markdown",
      "id": "8aede979-068f-489d-a683-139e58cb6013",
      "metadata": {},
      "source": [
        "# Land cover classification at the Mississppi Delta\n",
        "\n",
        "In this notebook, you will use a k-means **unsupervised** clustering\n",
        "algorithm to group pixels by similar spectral signatures. **k-means** is\n",
        "an **exploratory** method for finding patterns in data. Because it is\n",
        "unsupervised, you don’t need any training data for the model. You also\n",
        "can’t measure how well it “performs” because the clusters will not\n",
        "correspond to any particular land cover class. However, we expect at\n",
        "least some of the clusters to be identifiable as different types of land\n",
        "cover.\n",
        "\n",
        "You will use the [harmonized Sentinal/Landsat multispectral\n",
        "dataset](https://lpdaac.usgs.gov/documents/1698/HLS_User_Guide_V2.pdf).\n",
        "You can access the data with an [Earthdata\n",
        "account](https://www.earthdata.nasa.gov/learn/get-started) and the\n",
        "[`earthaccess` library from\n",
        "NSIDC](https://github.com/nsidc/earthaccess):\n",
        "\n",
        "## STEP 1: SET UP\n",
        "\n",
        "<link rel=\"stylesheet\" type=\"text/css\" href=\"./assets/styles.css\"><div class=\"callout callout-style-default callout-titled callout-task\"><div class=\"callout-header\"><div class=\"callout-icon-container\"><i class=\"callout-icon\"></i></div><div class=\"callout-title-container flex-fill\">Try It</div></div><div class=\"callout-body-container callout-body\"><ol type=\"1\">\n",
        "<li>Import all libraries you will need for this analysis</li>\n",
        "<li>Configure GDAL parameters to help avoid connection errors:\n",
        "<code>python      os.environ[\"GDAL_HTTP_MAX_RETRY\"] = \"5\"      os.environ[\"GDAL_HTTP_RETRY_DELAY\"] = \"1\"</code></li>\n",
        "</ol></div></div>"
      ]
    },
    {
      "cell_type": "code",
      "execution_count": 1,
      "id": "e3f0f55c",
      "metadata": {
        "highlight": true
      },
      "outputs": [
        {
          "name": "stderr",
          "output_type": "stream",
          "text": [
            "c:\\Users\\riede\\miniconda3\\envs\\earth-analytics-python\\Lib\\site-packages\\dask\\dataframe\\__init__.py:42: FutureWarning: \n",
            "Dask dataframe query planning is disabled because dask-expr is not installed.\n",
            "\n",
            "You can install it with `pip install dask[dataframe]` or `conda install dask`.\n",
            "This will raise in a future version.\n",
            "\n",
            "  warnings.warn(msg, FutureWarning)\n"
          ]
        },
        {
          "data": {
            "text/html": [
              "<script type=\"esms-options\">{\"shimMode\": true}</script><style>*[data-root-id],\n",
              "*[data-root-id] > * {\n",
              "  box-sizing: border-box;\n",
              "  font-family: var(--jp-ui-font-family);\n",
              "  font-size: var(--jp-ui-font-size1);\n",
              "  color: var(--vscode-editor-foreground, var(--jp-ui-font-color1));\n",
              "}\n",
              "\n",
              "/* Override VSCode background color */\n",
              ".cell-output-ipywidget-background:has(\n",
              "    > .cell-output-ipywidget-background > .lm-Widget > *[data-root-id]\n",
              "  ),\n",
              ".cell-output-ipywidget-background:has(> .lm-Widget > *[data-root-id]) {\n",
              "  background-color: transparent !important;\n",
              "}\n",
              "</style>"
            ]
          },
          "metadata": {},
          "output_type": "display_data"
        },
        {
          "data": {
            "application/javascript": "(function(root) {\n  function now() {\n    return new Date();\n  }\n\n  const force = true;\n  const py_version = '3.5.2'.replace('rc', '-rc.').replace('.dev', '-dev.');\n  const reloading = false;\n  const Bokeh = root.Bokeh;\n\n  // Set a timeout for this load but only if we are not already initializing\n  if (typeof (root._bokeh_timeout) === \"undefined\" || (force || !root._bokeh_is_initializing)) {\n    root._bokeh_timeout = Date.now() + 5000;\n    root._bokeh_failed_load = false;\n  }\n\n  function run_callbacks() {\n    try {\n      root._bokeh_onload_callbacks.forEach(function(callback) {\n        if (callback != null)\n          callback();\n      });\n    } finally {\n      delete root._bokeh_onload_callbacks;\n    }\n    console.debug(\"Bokeh: all callbacks have finished\");\n  }\n\n  function load_libs(css_urls, js_urls, js_modules, js_exports, callback) {\n    if (css_urls == null) css_urls = [];\n    if (js_urls == null) js_urls = [];\n    if (js_modules == null) js_modules = [];\n    if (js_exports == null) js_exports = {};\n\n    root._bokeh_onload_callbacks.push(callback);\n\n    if (root._bokeh_is_loading > 0) {\n      // Don't load bokeh if it is still initializing\n      console.debug(\"Bokeh: BokehJS is being loaded, scheduling callback at\", now());\n      return null;\n    } else if (js_urls.length === 0 && js_modules.length === 0 && Object.keys(js_exports).length === 0) {\n      // There is nothing to load\n      run_callbacks();\n      return null;\n    }\n\n    function on_load() {\n      root._bokeh_is_loading--;\n      if (root._bokeh_is_loading === 0) {\n        console.debug(\"Bokeh: all BokehJS libraries/stylesheets loaded\");\n        run_callbacks()\n      }\n    }\n    window._bokeh_on_load = on_load\n\n    function on_error(e) {\n      const src_el = e.srcElement\n      console.error(\"failed to load \" + (src_el.href || src_el.src));\n    }\n\n    const skip = [];\n    if (window.requirejs) {\n      window.requirejs.config({'packages': {}, 'paths': {}, 'shim': {}});\n      root._bokeh_is_loading = css_urls.length + 0;\n    } else {\n      root._bokeh_is_loading = css_urls.length + js_urls.length + js_modules.length + Object.keys(js_exports).length;\n    }\n\n    const existing_stylesheets = []\n    const links = document.getElementsByTagName('link')\n    for (let i = 0; i < links.length; i++) {\n      const link = links[i]\n      if (link.href != null) {\n        existing_stylesheets.push(link.href)\n      }\n    }\n    for (let i = 0; i < css_urls.length; i++) {\n      const url = css_urls[i];\n      const escaped = encodeURI(url)\n      if (existing_stylesheets.indexOf(escaped) !== -1) {\n        on_load()\n        continue;\n      }\n      const element = document.createElement(\"link\");\n      element.onload = on_load;\n      element.onerror = on_error;\n      element.rel = \"stylesheet\";\n      element.type = \"text/css\";\n      element.href = url;\n      console.debug(\"Bokeh: injecting link tag for BokehJS stylesheet: \", url);\n      document.body.appendChild(element);\n    }    var existing_scripts = []\n    const scripts = document.getElementsByTagName('script')\n    for (let i = 0; i < scripts.length; i++) {\n      var script = scripts[i]\n      if (script.src != null) {\n        existing_scripts.push(script.src)\n      }\n    }\n    for (let i = 0; i < js_urls.length; i++) {\n      const url = js_urls[i];\n      const escaped = encodeURI(url)\n      if (skip.indexOf(escaped) !== -1 || existing_scripts.indexOf(escaped) !== -1) {\n        if (!window.requirejs) {\n          on_load();\n        }\n        continue;\n      }\n      const element = document.createElement('script');\n      element.onload = on_load;\n      element.onerror = on_error;\n      element.async = false;\n      element.src = url;\n      console.debug(\"Bokeh: injecting script tag for BokehJS library: \", url);\n      document.head.appendChild(element);\n    }\n    for (let i = 0; i < js_modules.length; i++) {\n      const url = js_modules[i];\n      const escaped = encodeURI(url)\n      if (skip.indexOf(escaped) !== -1 || existing_scripts.indexOf(escaped) !== -1) {\n        if (!window.requirejs) {\n          on_load();\n        }\n        continue;\n      }\n      var element = document.createElement('script');\n      element.onload = on_load;\n      element.onerror = on_error;\n      element.async = false;\n      element.src = url;\n      element.type = \"module\";\n      console.debug(\"Bokeh: injecting script tag for BokehJS library: \", url);\n      document.head.appendChild(element);\n    }\n    for (const name in js_exports) {\n      const url = js_exports[name];\n      const escaped = encodeURI(url)\n      if (skip.indexOf(escaped) >= 0 || root[name] != null) {\n        if (!window.requirejs) {\n          on_load();\n        }\n        continue;\n      }\n      var element = document.createElement('script');\n      element.onerror = on_error;\n      element.async = false;\n      element.type = \"module\";\n      console.debug(\"Bokeh: injecting script tag for BokehJS library: \", url);\n      element.textContent = `\n      import ${name} from \"${url}\"\n      window.${name} = ${name}\n      window._bokeh_on_load()\n      `\n      document.head.appendChild(element);\n    }\n    if (!js_urls.length && !js_modules.length) {\n      on_load()\n    }\n  };\n\n  function inject_raw_css(css) {\n    const element = document.createElement(\"style\");\n    element.appendChild(document.createTextNode(css));\n    document.body.appendChild(element);\n  }\n\n  const js_urls = [\"https://cdn.holoviz.org/panel/1.5.2/dist/bundled/reactiveesm/es-module-shims@^1.10.0/dist/es-module-shims.min.js\", \"https://cdn.bokeh.org/bokeh/release/bokeh-3.5.2.min.js\", \"https://cdn.bokeh.org/bokeh/release/bokeh-gl-3.5.2.min.js\", \"https://cdn.bokeh.org/bokeh/release/bokeh-widgets-3.5.2.min.js\", \"https://cdn.bokeh.org/bokeh/release/bokeh-tables-3.5.2.min.js\", \"https://cdn.holoviz.org/panel/1.5.2/dist/panel.min.js\", \"https://cdn.jsdelivr.net/npm/@holoviz/geoviews@1.13.0/dist/geoviews.min.js\"];\n  const js_modules = [];\n  const js_exports = {};\n  const css_urls = [];\n  const inline_js = [    function(Bokeh) {\n      Bokeh.set_log_level(\"info\");\n    },\nfunction(Bokeh) {} // ensure no trailing comma for IE\n  ];\n\n  function run_inline_js() {\n    if ((root.Bokeh !== undefined) || (force === true)) {\n      for (let i = 0; i < inline_js.length; i++) {\n        try {\n          inline_js[i].call(root, root.Bokeh);\n        } catch(e) {\n          if (!reloading) {\n            throw e;\n          }\n        }\n      }\n      // Cache old bokeh versions\n      if (Bokeh != undefined && !reloading) {\n        var NewBokeh = root.Bokeh;\n        if (Bokeh.versions === undefined) {\n          Bokeh.versions = new Map();\n        }\n        if (NewBokeh.version !== Bokeh.version) {\n          Bokeh.versions.set(NewBokeh.version, NewBokeh)\n        }\n        root.Bokeh = Bokeh;\n      }\n    } else if (Date.now() < root._bokeh_timeout) {\n      setTimeout(run_inline_js, 100);\n    } else if (!root._bokeh_failed_load) {\n      console.log(\"Bokeh: BokehJS failed to load within specified timeout.\");\n      root._bokeh_failed_load = true;\n    }\n    root._bokeh_is_initializing = false\n  }\n\n  function load_or_wait() {\n    // Implement a backoff loop that tries to ensure we do not load multiple\n    // versions of Bokeh and its dependencies at the same time.\n    // In recent versions we use the root._bokeh_is_initializing flag\n    // to determine whether there is an ongoing attempt to initialize\n    // bokeh, however for backward compatibility we also try to ensure\n    // that we do not start loading a newer (Panel>=1.0 and Bokeh>3) version\n    // before older versions are fully initialized.\n    if (root._bokeh_is_initializing && Date.now() > root._bokeh_timeout) {\n      // If the timeout and bokeh was not successfully loaded we reset\n      // everything and try loading again\n      root._bokeh_timeout = Date.now() + 5000;\n      root._bokeh_is_initializing = false;\n      root._bokeh_onload_callbacks = undefined;\n      root._bokeh_is_loading = 0\n      console.log(\"Bokeh: BokehJS was loaded multiple times but one version failed to initialize.\");\n      load_or_wait();\n    } else if (root._bokeh_is_initializing || (typeof root._bokeh_is_initializing === \"undefined\" && root._bokeh_onload_callbacks !== undefined)) {\n      setTimeout(load_or_wait, 100);\n    } else {\n      root._bokeh_is_initializing = true\n      root._bokeh_onload_callbacks = []\n      const bokeh_loaded = root.Bokeh != null && (root.Bokeh.version === py_version || (root.Bokeh.versions !== undefined && root.Bokeh.versions.has(py_version)));\n      if (!reloading && !bokeh_loaded) {\n        if (root.Bokeh) {\n          root.Bokeh = undefined;\n        }\n        console.debug(\"Bokeh: BokehJS not loaded, scheduling load and callback at\", now());\n      }\n      load_libs(css_urls, js_urls, js_modules, js_exports, function() {\n        console.debug(\"Bokeh: BokehJS plotting callback run at\", now());\n        run_inline_js();\n      });\n    }\n  }\n  // Give older versions of the autoload script a head-start to ensure\n  // they initialize before we start loading newer version.\n  setTimeout(load_or_wait, 100)\n}(window));",
            "application/vnd.holoviews_load.v0+json": ""
          },
          "metadata": {},
          "output_type": "display_data"
        },
        {
          "data": {
            "application/javascript": "\nif ((window.PyViz === undefined) || (window.PyViz instanceof HTMLElement)) {\n  window.PyViz = {comms: {}, comm_status:{}, kernels:{}, receivers: {}, plot_index: []}\n}\n\n\n    function JupyterCommManager() {\n    }\n\n    JupyterCommManager.prototype.register_target = function(plot_id, comm_id, msg_handler) {\n      if (window.comm_manager || ((window.Jupyter !== undefined) && (Jupyter.notebook.kernel != null))) {\n        var comm_manager = window.comm_manager || Jupyter.notebook.kernel.comm_manager;\n        comm_manager.register_target(comm_id, function(comm) {\n          comm.on_msg(msg_handler);\n        });\n      } else if ((plot_id in window.PyViz.kernels) && (window.PyViz.kernels[plot_id])) {\n        window.PyViz.kernels[plot_id].registerCommTarget(comm_id, function(comm) {\n          comm.onMsg = msg_handler;\n        });\n      } else if (typeof google != 'undefined' && google.colab.kernel != null) {\n        google.colab.kernel.comms.registerTarget(comm_id, (comm) => {\n          var messages = comm.messages[Symbol.asyncIterator]();\n          function processIteratorResult(result) {\n            var message = result.value;\n            console.log(message)\n            var content = {data: message.data, comm_id};\n            var buffers = []\n            for (var buffer of message.buffers || []) {\n              buffers.push(new DataView(buffer))\n            }\n            var metadata = message.metadata || {};\n            var msg = {content, buffers, metadata}\n            msg_handler(msg);\n            return messages.next().then(processIteratorResult);\n          }\n          return messages.next().then(processIteratorResult);\n        })\n      }\n    }\n\n    JupyterCommManager.prototype.get_client_comm = function(plot_id, comm_id, msg_handler) {\n      if (comm_id in window.PyViz.comms) {\n        return window.PyViz.comms[comm_id];\n      } else if (window.comm_manager || ((window.Jupyter !== undefined) && (Jupyter.notebook.kernel != null))) {\n        var comm_manager = window.comm_manager || Jupyter.notebook.kernel.comm_manager;\n        var comm = comm_manager.new_comm(comm_id, {}, {}, {}, comm_id);\n        if (msg_handler) {\n          comm.on_msg(msg_handler);\n        }\n      } else if ((plot_id in window.PyViz.kernels) && (window.PyViz.kernels[plot_id])) {\n        var comm = window.PyViz.kernels[plot_id].connectToComm(comm_id);\n        comm.open();\n        if (msg_handler) {\n          comm.onMsg = msg_handler;\n        }\n      } else if (typeof google != 'undefined' && google.colab.kernel != null) {\n        var comm_promise = google.colab.kernel.comms.open(comm_id)\n        comm_promise.then((comm) => {\n          window.PyViz.comms[comm_id] = comm;\n          if (msg_handler) {\n            var messages = comm.messages[Symbol.asyncIterator]();\n            function processIteratorResult(result) {\n              var message = result.value;\n              var content = {data: message.data};\n              var metadata = message.metadata || {comm_id};\n              var msg = {content, metadata}\n              msg_handler(msg);\n              return messages.next().then(processIteratorResult);\n            }\n            return messages.next().then(processIteratorResult);\n          }\n        }) \n        var sendClosure = (data, metadata, buffers, disposeOnDone) => {\n          return comm_promise.then((comm) => {\n            comm.send(data, metadata, buffers, disposeOnDone);\n          });\n        };\n        var comm = {\n          send: sendClosure\n        };\n      }\n      window.PyViz.comms[comm_id] = comm;\n      return comm;\n    }\n    window.PyViz.comm_manager = new JupyterCommManager();\n    \n\n\nvar JS_MIME_TYPE = 'application/javascript';\nvar HTML_MIME_TYPE = 'text/html';\nvar EXEC_MIME_TYPE = 'application/vnd.holoviews_exec.v0+json';\nvar CLASS_NAME = 'output';\n\n/**\n * Render data to the DOM node\n */\nfunction render(props, node) {\n  var div = document.createElement(\"div\");\n  var script = document.createElement(\"script\");\n  node.appendChild(div);\n  node.appendChild(script);\n}\n\n/**\n * Handle when a new output is added\n */\nfunction handle_add_output(event, handle) {\n  var output_area = handle.output_area;\n  var output = handle.output;\n  if ((output.data == undefined) || (!output.data.hasOwnProperty(EXEC_MIME_TYPE))) {\n    return\n  }\n  var id = output.metadata[EXEC_MIME_TYPE][\"id\"];\n  var toinsert = output_area.element.find(\".\" + CLASS_NAME.split(' ')[0]);\n  if (id !== undefined) {\n    var nchildren = toinsert.length;\n    var html_node = toinsert[nchildren-1].children[0];\n    html_node.innerHTML = output.data[HTML_MIME_TYPE];\n    var scripts = [];\n    var nodelist = html_node.querySelectorAll(\"script\");\n    for (var i in nodelist) {\n      if (nodelist.hasOwnProperty(i)) {\n        scripts.push(nodelist[i])\n      }\n    }\n\n    scripts.forEach( function (oldScript) {\n      var newScript = document.createElement(\"script\");\n      var attrs = [];\n      var nodemap = oldScript.attributes;\n      for (var j in nodemap) {\n        if (nodemap.hasOwnProperty(j)) {\n          attrs.push(nodemap[j])\n        }\n      }\n      attrs.forEach(function(attr) { newScript.setAttribute(attr.name, attr.value) });\n      newScript.appendChild(document.createTextNode(oldScript.innerHTML));\n      oldScript.parentNode.replaceChild(newScript, oldScript);\n    });\n    if (JS_MIME_TYPE in output.data) {\n      toinsert[nchildren-1].children[1].textContent = output.data[JS_MIME_TYPE];\n    }\n    output_area._hv_plot_id = id;\n    if ((window.Bokeh !== undefined) && (id in Bokeh.index)) {\n      window.PyViz.plot_index[id] = Bokeh.index[id];\n    } else {\n      window.PyViz.plot_index[id] = null;\n    }\n  } else if (output.metadata[EXEC_MIME_TYPE][\"server_id\"] !== undefined) {\n    var bk_div = document.createElement(\"div\");\n    bk_div.innerHTML = output.data[HTML_MIME_TYPE];\n    var script_attrs = bk_div.children[0].attributes;\n    for (var i = 0; i < script_attrs.length; i++) {\n      toinsert[toinsert.length - 1].childNodes[1].setAttribute(script_attrs[i].name, script_attrs[i].value);\n    }\n    // store reference to server id on output_area\n    output_area._bokeh_server_id = output.metadata[EXEC_MIME_TYPE][\"server_id\"];\n  }\n}\n\n/**\n * Handle when an output is cleared or removed\n */\nfunction handle_clear_output(event, handle) {\n  var id = handle.cell.output_area._hv_plot_id;\n  var server_id = handle.cell.output_area._bokeh_server_id;\n  if (((id === undefined) || !(id in PyViz.plot_index)) && (server_id !== undefined)) { return; }\n  var comm = window.PyViz.comm_manager.get_client_comm(\"hv-extension-comm\", \"hv-extension-comm\", function () {});\n  if (server_id !== null) {\n    comm.send({event_type: 'server_delete', 'id': server_id});\n    return;\n  } else if (comm !== null) {\n    comm.send({event_type: 'delete', 'id': id});\n  }\n  delete PyViz.plot_index[id];\n  if ((window.Bokeh !== undefined) & (id in window.Bokeh.index)) {\n    var doc = window.Bokeh.index[id].model.document\n    doc.clear();\n    const i = window.Bokeh.documents.indexOf(doc);\n    if (i > -1) {\n      window.Bokeh.documents.splice(i, 1);\n    }\n  }\n}\n\n/**\n * Handle kernel restart event\n */\nfunction handle_kernel_cleanup(event, handle) {\n  delete PyViz.comms[\"hv-extension-comm\"];\n  window.PyViz.plot_index = {}\n}\n\n/**\n * Handle update_display_data messages\n */\nfunction handle_update_output(event, handle) {\n  handle_clear_output(event, {cell: {output_area: handle.output_area}})\n  handle_add_output(event, handle)\n}\n\nfunction register_renderer(events, OutputArea) {\n  function append_mime(data, metadata, element) {\n    // create a DOM node to render to\n    var toinsert = this.create_output_subarea(\n    metadata,\n    CLASS_NAME,\n    EXEC_MIME_TYPE\n    );\n    this.keyboard_manager.register_events(toinsert);\n    // Render to node\n    var props = {data: data, metadata: metadata[EXEC_MIME_TYPE]};\n    render(props, toinsert[0]);\n    element.append(toinsert);\n    return toinsert\n  }\n\n  events.on('output_added.OutputArea', handle_add_output);\n  events.on('output_updated.OutputArea', handle_update_output);\n  events.on('clear_output.CodeCell', handle_clear_output);\n  events.on('delete.Cell', handle_clear_output);\n  events.on('kernel_ready.Kernel', handle_kernel_cleanup);\n\n  OutputArea.prototype.register_mime_type(EXEC_MIME_TYPE, append_mime, {\n    safe: true,\n    index: 0\n  });\n}\n\nif (window.Jupyter !== undefined) {\n  try {\n    var events = require('base/js/events');\n    var OutputArea = require('notebook/js/outputarea').OutputArea;\n    if (OutputArea.prototype.mime_types().indexOf(EXEC_MIME_TYPE) == -1) {\n      register_renderer(events, OutputArea);\n    }\n  } catch(err) {\n  }\n}\n",
            "application/vnd.holoviews_load.v0+json": ""
          },
          "metadata": {},
          "output_type": "display_data"
        },
        {
          "data": {
            "application/vnd.holoviews_exec.v0+json": "",
            "text/html": [
              "<div id='p1011'>\n",
              "  <div id=\"f7b32c83-12fd-48f8-b22b-30d4e8e01ec6\" data-root-id=\"p1011\" style=\"display: contents;\"></div>\n",
              "</div>\n",
              "<script type=\"application/javascript\">(function(root) {\n",
              "  var docs_json = {\"1e6c2603-9ea7-4bb2-9239-04ef88b57c47\":{\"version\":\"3.5.2\",\"title\":\"Bokeh Application\",\"roots\":[{\"type\":\"object\",\"name\":\"panel.models.browser.BrowserInfo\",\"id\":\"p1011\"},{\"type\":\"object\",\"name\":\"panel.models.comm_manager.CommManager\",\"id\":\"p1012\",\"attributes\":{\"plot_id\":\"p1011\",\"comm_id\":\"2c6f6dca1f4145ac9f084a2c72dc4683\",\"client_comm_id\":\"36cc8489bbe24006a9f32adaef83f149\"}}],\"defs\":[{\"type\":\"model\",\"name\":\"ReactiveHTML1\"},{\"type\":\"model\",\"name\":\"FlexBox1\",\"properties\":[{\"name\":\"align_content\",\"kind\":\"Any\",\"default\":\"flex-start\"},{\"name\":\"align_items\",\"kind\":\"Any\",\"default\":\"flex-start\"},{\"name\":\"flex_direction\",\"kind\":\"Any\",\"default\":\"row\"},{\"name\":\"flex_wrap\",\"kind\":\"Any\",\"default\":\"wrap\"},{\"name\":\"gap\",\"kind\":\"Any\",\"default\":\"\"},{\"name\":\"justify_content\",\"kind\":\"Any\",\"default\":\"flex-start\"}]},{\"type\":\"model\",\"name\":\"FloatPanel1\",\"properties\":[{\"name\":\"config\",\"kind\":\"Any\",\"default\":{\"type\":\"map\"}},{\"name\":\"contained\",\"kind\":\"Any\",\"default\":true},{\"name\":\"position\",\"kind\":\"Any\",\"default\":\"right-top\"},{\"name\":\"offsetx\",\"kind\":\"Any\",\"default\":null},{\"name\":\"offsety\",\"kind\":\"Any\",\"default\":null},{\"name\":\"theme\",\"kind\":\"Any\",\"default\":\"primary\"},{\"name\":\"status\",\"kind\":\"Any\",\"default\":\"normalized\"}]},{\"type\":\"model\",\"name\":\"GridStack1\",\"properties\":[{\"name\":\"mode\",\"kind\":\"Any\",\"default\":\"warn\"},{\"name\":\"ncols\",\"kind\":\"Any\",\"default\":null},{\"name\":\"nrows\",\"kind\":\"Any\",\"default\":null},{\"name\":\"allow_resize\",\"kind\":\"Any\",\"default\":true},{\"name\":\"allow_drag\",\"kind\":\"Any\",\"default\":true},{\"name\":\"state\",\"kind\":\"Any\",\"default\":[]}]},{\"type\":\"model\",\"name\":\"drag1\",\"properties\":[{\"name\":\"slider_width\",\"kind\":\"Any\",\"default\":5},{\"name\":\"slider_color\",\"kind\":\"Any\",\"default\":\"black\"},{\"name\":\"value\",\"kind\":\"Any\",\"default\":50}]},{\"type\":\"model\",\"name\":\"click1\",\"properties\":[{\"name\":\"terminal_output\",\"kind\":\"Any\",\"default\":\"\"},{\"name\":\"debug_name\",\"kind\":\"Any\",\"default\":\"\"},{\"name\":\"clears\",\"kind\":\"Any\",\"default\":0}]},{\"type\":\"model\",\"name\":\"FastWrapper1\",\"properties\":[{\"name\":\"object\",\"kind\":\"Any\",\"default\":null},{\"name\":\"style\",\"kind\":\"Any\",\"default\":null}]},{\"type\":\"model\",\"name\":\"NotificationAreaBase1\",\"properties\":[{\"name\":\"js_events\",\"kind\":\"Any\",\"default\":{\"type\":\"map\"}},{\"name\":\"position\",\"kind\":\"Any\",\"default\":\"bottom-right\"},{\"name\":\"_clear\",\"kind\":\"Any\",\"default\":0}]},{\"type\":\"model\",\"name\":\"NotificationArea1\",\"properties\":[{\"name\":\"js_events\",\"kind\":\"Any\",\"default\":{\"type\":\"map\"}},{\"name\":\"notifications\",\"kind\":\"Any\",\"default\":[]},{\"name\":\"position\",\"kind\":\"Any\",\"default\":\"bottom-right\"},{\"name\":\"_clear\",\"kind\":\"Any\",\"default\":0},{\"name\":\"types\",\"kind\":\"Any\",\"default\":[{\"type\":\"map\",\"entries\":[[\"type\",\"warning\"],[\"background\",\"#ffc107\"],[\"icon\",{\"type\":\"map\",\"entries\":[[\"className\",\"fas fa-exclamation-triangle\"],[\"tagName\",\"i\"],[\"color\",\"white\"]]}]]},{\"type\":\"map\",\"entries\":[[\"type\",\"info\"],[\"background\",\"#007bff\"],[\"icon\",{\"type\":\"map\",\"entries\":[[\"className\",\"fas fa-info-circle\"],[\"tagName\",\"i\"],[\"color\",\"white\"]]}]]}]}]},{\"type\":\"model\",\"name\":\"Notification\",\"properties\":[{\"name\":\"background\",\"kind\":\"Any\",\"default\":null},{\"name\":\"duration\",\"kind\":\"Any\",\"default\":3000},{\"name\":\"icon\",\"kind\":\"Any\",\"default\":null},{\"name\":\"message\",\"kind\":\"Any\",\"default\":\"\"},{\"name\":\"notification_type\",\"kind\":\"Any\",\"default\":null},{\"name\":\"_destroyed\",\"kind\":\"Any\",\"default\":false}]},{\"type\":\"model\",\"name\":\"TemplateActions1\",\"properties\":[{\"name\":\"open_modal\",\"kind\":\"Any\",\"default\":0},{\"name\":\"close_modal\",\"kind\":\"Any\",\"default\":0}]},{\"type\":\"model\",\"name\":\"BootstrapTemplateActions1\",\"properties\":[{\"name\":\"open_modal\",\"kind\":\"Any\",\"default\":0},{\"name\":\"close_modal\",\"kind\":\"Any\",\"default\":0}]},{\"type\":\"model\",\"name\":\"TemplateEditor1\",\"properties\":[{\"name\":\"layout\",\"kind\":\"Any\",\"default\":[]}]},{\"type\":\"model\",\"name\":\"MaterialTemplateActions1\",\"properties\":[{\"name\":\"open_modal\",\"kind\":\"Any\",\"default\":0},{\"name\":\"close_modal\",\"kind\":\"Any\",\"default\":0}]},{\"type\":\"model\",\"name\":\"ReactiveESM1\"},{\"type\":\"model\",\"name\":\"JSComponent1\"},{\"type\":\"model\",\"name\":\"ReactComponent1\"},{\"type\":\"model\",\"name\":\"AnyWidgetComponent1\"},{\"type\":\"model\",\"name\":\"request_value1\",\"properties\":[{\"name\":\"fill\",\"kind\":\"Any\",\"default\":\"none\"},{\"name\":\"_synced\",\"kind\":\"Any\",\"default\":null},{\"name\":\"_request_sync\",\"kind\":\"Any\",\"default\":0}]}]}};\n",
              "  var render_items = [{\"docid\":\"1e6c2603-9ea7-4bb2-9239-04ef88b57c47\",\"roots\":{\"p1011\":\"f7b32c83-12fd-48f8-b22b-30d4e8e01ec6\"},\"root_ids\":[\"p1011\"]}];\n",
              "  var docs = Object.values(docs_json)\n",
              "  if (!docs) {\n",
              "    return\n",
              "  }\n",
              "  const py_version = docs[0].version.replace('rc', '-rc.').replace('.dev', '-dev.')\n",
              "  async function embed_document(root) {\n",
              "    var Bokeh = get_bokeh(root)\n",
              "    await Bokeh.embed.embed_items_notebook(docs_json, render_items);\n",
              "    for (const render_item of render_items) {\n",
              "      for (const root_id of render_item.root_ids) {\n",
              "\tconst id_el = document.getElementById(root_id)\n",
              "\tif (id_el.children.length && id_el.children[0].hasAttribute('data-root-id')) {\n",
              "\t  const root_el = id_el.children[0]\n",
              "\t  root_el.id = root_el.id + '-rendered'\n",
              "\t  for (const child of root_el.children) {\n",
              "            // Ensure JupyterLab does not capture keyboard shortcuts\n",
              "            // see: https://jupyterlab.readthedocs.io/en/4.1.x/extension/notebook.html#keyboard-interaction-model\n",
              "\t    child.setAttribute('data-lm-suppress-shortcuts', 'true')\n",
              "\t  }\n",
              "\t}\n",
              "      }\n",
              "    }\n",
              "  }\n",
              "  function get_bokeh(root) {\n",
              "    if (root.Bokeh === undefined) {\n",
              "      return null\n",
              "    } else if (root.Bokeh.version !== py_version) {\n",
              "      if (root.Bokeh.versions === undefined || !root.Bokeh.versions.has(py_version)) {\n",
              "\treturn null\n",
              "      }\n",
              "      return root.Bokeh.versions.get(py_version);\n",
              "    } else if (root.Bokeh.version === py_version) {\n",
              "      return root.Bokeh\n",
              "    }\n",
              "    return null\n",
              "  }\n",
              "  function is_loaded(root) {\n",
              "    var Bokeh = get_bokeh(root)\n",
              "    return (Bokeh != null && Bokeh.Panel !== undefined)\n",
              "  }\n",
              "  if (is_loaded(root)) {\n",
              "    embed_document(root);\n",
              "  } else {\n",
              "    var attempts = 0;\n",
              "    var timer = setInterval(function(root) {\n",
              "      if (is_loaded(root)) {\n",
              "        clearInterval(timer);\n",
              "        embed_document(root);\n",
              "      } else if (document.readyState == \"complete\") {\n",
              "        attempts++;\n",
              "        if (attempts > 200) {\n",
              "          clearInterval(timer);\n",
              "\t  var Bokeh = get_bokeh(root)\n",
              "\t  if (Bokeh == null || Bokeh.Panel == null) {\n",
              "            console.warn(\"Panel: ERROR: Unable to run Panel code because Bokeh or Panel library is missing\");\n",
              "\t  } else {\n",
              "\t    console.warn(\"Panel: WARNING: Attempting to render but not all required libraries could be resolved.\")\n",
              "\t    embed_document(root)\n",
              "\t  }\n",
              "        }\n",
              "      }\n",
              "    }, 25, root)\n",
              "  }\n",
              "})(window);</script>"
            ]
          },
          "metadata": {
            "application/vnd.holoviews_exec.v0+json": {
              "id": "p1011"
            }
          },
          "output_type": "display_data"
        },
        {
          "data": {
            "text/html": [
              "<script type=\"esms-options\">{\"shimMode\": true}</script><style>*[data-root-id],\n",
              "*[data-root-id] > * {\n",
              "  box-sizing: border-box;\n",
              "  font-family: var(--jp-ui-font-family);\n",
              "  font-size: var(--jp-ui-font-size1);\n",
              "  color: var(--vscode-editor-foreground, var(--jp-ui-font-color1));\n",
              "}\n",
              "\n",
              "/* Override VSCode background color */\n",
              ".cell-output-ipywidget-background:has(\n",
              "    > .cell-output-ipywidget-background > .lm-Widget > *[data-root-id]\n",
              "  ),\n",
              ".cell-output-ipywidget-background:has(> .lm-Widget > *[data-root-id]) {\n",
              "  background-color: transparent !important;\n",
              "}\n",
              "</style>"
            ]
          },
          "metadata": {},
          "output_type": "display_data"
        },
        {
          "data": {
            "application/javascript": "(function(root) {\n  function now() {\n    return new Date();\n  }\n\n  const force = false;\n  const py_version = '3.5.2'.replace('rc', '-rc.').replace('.dev', '-dev.');\n  const reloading = true;\n  const Bokeh = root.Bokeh;\n\n  // Set a timeout for this load but only if we are not already initializing\n  if (typeof (root._bokeh_timeout) === \"undefined\" || (force || !root._bokeh_is_initializing)) {\n    root._bokeh_timeout = Date.now() + 5000;\n    root._bokeh_failed_load = false;\n  }\n\n  function run_callbacks() {\n    try {\n      root._bokeh_onload_callbacks.forEach(function(callback) {\n        if (callback != null)\n          callback();\n      });\n    } finally {\n      delete root._bokeh_onload_callbacks;\n    }\n    console.debug(\"Bokeh: all callbacks have finished\");\n  }\n\n  function load_libs(css_urls, js_urls, js_modules, js_exports, callback) {\n    if (css_urls == null) css_urls = [];\n    if (js_urls == null) js_urls = [];\n    if (js_modules == null) js_modules = [];\n    if (js_exports == null) js_exports = {};\n\n    root._bokeh_onload_callbacks.push(callback);\n\n    if (root._bokeh_is_loading > 0) {\n      // Don't load bokeh if it is still initializing\n      console.debug(\"Bokeh: BokehJS is being loaded, scheduling callback at\", now());\n      return null;\n    } else if (js_urls.length === 0 && js_modules.length === 0 && Object.keys(js_exports).length === 0) {\n      // There is nothing to load\n      run_callbacks();\n      return null;\n    }\n\n    function on_load() {\n      root._bokeh_is_loading--;\n      if (root._bokeh_is_loading === 0) {\n        console.debug(\"Bokeh: all BokehJS libraries/stylesheets loaded\");\n        run_callbacks()\n      }\n    }\n    window._bokeh_on_load = on_load\n\n    function on_error(e) {\n      const src_el = e.srcElement\n      console.error(\"failed to load \" + (src_el.href || src_el.src));\n    }\n\n    const skip = [];\n    if (window.requirejs) {\n      window.requirejs.config({'packages': {}, 'paths': {}, 'shim': {}});\n      root._bokeh_is_loading = css_urls.length + 0;\n    } else {\n      root._bokeh_is_loading = css_urls.length + js_urls.length + js_modules.length + Object.keys(js_exports).length;\n    }\n\n    const existing_stylesheets = []\n    const links = document.getElementsByTagName('link')\n    for (let i = 0; i < links.length; i++) {\n      const link = links[i]\n      if (link.href != null) {\n        existing_stylesheets.push(link.href)\n      }\n    }\n    for (let i = 0; i < css_urls.length; i++) {\n      const url = css_urls[i];\n      const escaped = encodeURI(url)\n      if (existing_stylesheets.indexOf(escaped) !== -1) {\n        on_load()\n        continue;\n      }\n      const element = document.createElement(\"link\");\n      element.onload = on_load;\n      element.onerror = on_error;\n      element.rel = \"stylesheet\";\n      element.type = \"text/css\";\n      element.href = url;\n      console.debug(\"Bokeh: injecting link tag for BokehJS stylesheet: \", url);\n      document.body.appendChild(element);\n    }    var existing_scripts = []\n    const scripts = document.getElementsByTagName('script')\n    for (let i = 0; i < scripts.length; i++) {\n      var script = scripts[i]\n      if (script.src != null) {\n        existing_scripts.push(script.src)\n      }\n    }\n    for (let i = 0; i < js_urls.length; i++) {\n      const url = js_urls[i];\n      const escaped = encodeURI(url)\n      if (skip.indexOf(escaped) !== -1 || existing_scripts.indexOf(escaped) !== -1) {\n        if (!window.requirejs) {\n          on_load();\n        }\n        continue;\n      }\n      const element = document.createElement('script');\n      element.onload = on_load;\n      element.onerror = on_error;\n      element.async = false;\n      element.src = url;\n      console.debug(\"Bokeh: injecting script tag for BokehJS library: \", url);\n      document.head.appendChild(element);\n    }\n    for (let i = 0; i < js_modules.length; i++) {\n      const url = js_modules[i];\n      const escaped = encodeURI(url)\n      if (skip.indexOf(escaped) !== -1 || existing_scripts.indexOf(escaped) !== -1) {\n        if (!window.requirejs) {\n          on_load();\n        }\n        continue;\n      }\n      var element = document.createElement('script');\n      element.onload = on_load;\n      element.onerror = on_error;\n      element.async = false;\n      element.src = url;\n      element.type = \"module\";\n      console.debug(\"Bokeh: injecting script tag for BokehJS library: \", url);\n      document.head.appendChild(element);\n    }\n    for (const name in js_exports) {\n      const url = js_exports[name];\n      const escaped = encodeURI(url)\n      if (skip.indexOf(escaped) >= 0 || root[name] != null) {\n        if (!window.requirejs) {\n          on_load();\n        }\n        continue;\n      }\n      var element = document.createElement('script');\n      element.onerror = on_error;\n      element.async = false;\n      element.type = \"module\";\n      console.debug(\"Bokeh: injecting script tag for BokehJS library: \", url);\n      element.textContent = `\n      import ${name} from \"${url}\"\n      window.${name} = ${name}\n      window._bokeh_on_load()\n      `\n      document.head.appendChild(element);\n    }\n    if (!js_urls.length && !js_modules.length) {\n      on_load()\n    }\n  };\n\n  function inject_raw_css(css) {\n    const element = document.createElement(\"style\");\n    element.appendChild(document.createTextNode(css));\n    document.body.appendChild(element);\n  }\n\n  const js_urls = [\"https://cdn.holoviz.org/panel/1.5.2/dist/bundled/reactiveesm/es-module-shims@^1.10.0/dist/es-module-shims.min.js\", \"https://cdn.jsdelivr.net/npm/@holoviz/geoviews@1.13.0/dist/geoviews.min.js\"];\n  const js_modules = [];\n  const js_exports = {};\n  const css_urls = [];\n  const inline_js = [    function(Bokeh) {\n      Bokeh.set_log_level(\"info\");\n    },\nfunction(Bokeh) {} // ensure no trailing comma for IE\n  ];\n\n  function run_inline_js() {\n    if ((root.Bokeh !== undefined) || (force === true)) {\n      for (let i = 0; i < inline_js.length; i++) {\n        try {\n          inline_js[i].call(root, root.Bokeh);\n        } catch(e) {\n          if (!reloading) {\n            throw e;\n          }\n        }\n      }\n      // Cache old bokeh versions\n      if (Bokeh != undefined && !reloading) {\n        var NewBokeh = root.Bokeh;\n        if (Bokeh.versions === undefined) {\n          Bokeh.versions = new Map();\n        }\n        if (NewBokeh.version !== Bokeh.version) {\n          Bokeh.versions.set(NewBokeh.version, NewBokeh)\n        }\n        root.Bokeh = Bokeh;\n      }\n    } else if (Date.now() < root._bokeh_timeout) {\n      setTimeout(run_inline_js, 100);\n    } else if (!root._bokeh_failed_load) {\n      console.log(\"Bokeh: BokehJS failed to load within specified timeout.\");\n      root._bokeh_failed_load = true;\n    }\n    root._bokeh_is_initializing = false\n  }\n\n  function load_or_wait() {\n    // Implement a backoff loop that tries to ensure we do not load multiple\n    // versions of Bokeh and its dependencies at the same time.\n    // In recent versions we use the root._bokeh_is_initializing flag\n    // to determine whether there is an ongoing attempt to initialize\n    // bokeh, however for backward compatibility we also try to ensure\n    // that we do not start loading a newer (Panel>=1.0 and Bokeh>3) version\n    // before older versions are fully initialized.\n    if (root._bokeh_is_initializing && Date.now() > root._bokeh_timeout) {\n      // If the timeout and bokeh was not successfully loaded we reset\n      // everything and try loading again\n      root._bokeh_timeout = Date.now() + 5000;\n      root._bokeh_is_initializing = false;\n      root._bokeh_onload_callbacks = undefined;\n      root._bokeh_is_loading = 0\n      console.log(\"Bokeh: BokehJS was loaded multiple times but one version failed to initialize.\");\n      load_or_wait();\n    } else if (root._bokeh_is_initializing || (typeof root._bokeh_is_initializing === \"undefined\" && root._bokeh_onload_callbacks !== undefined)) {\n      setTimeout(load_or_wait, 100);\n    } else {\n      root._bokeh_is_initializing = true\n      root._bokeh_onload_callbacks = []\n      const bokeh_loaded = root.Bokeh != null && (root.Bokeh.version === py_version || (root.Bokeh.versions !== undefined && root.Bokeh.versions.has(py_version)));\n      if (!reloading && !bokeh_loaded) {\n        if (root.Bokeh) {\n          root.Bokeh = undefined;\n        }\n        console.debug(\"Bokeh: BokehJS not loaded, scheduling load and callback at\", now());\n      }\n      load_libs(css_urls, js_urls, js_modules, js_exports, function() {\n        console.debug(\"Bokeh: BokehJS plotting callback run at\", now());\n        run_inline_js();\n      });\n    }\n  }\n  // Give older versions of the autoload script a head-start to ensure\n  // they initialize before we start loading newer version.\n  setTimeout(load_or_wait, 100)\n}(window));",
            "application/vnd.holoviews_load.v0+json": ""
          },
          "metadata": {},
          "output_type": "display_data"
        },
        {
          "data": {
            "application/javascript": "\nif ((window.PyViz === undefined) || (window.PyViz instanceof HTMLElement)) {\n  window.PyViz = {comms: {}, comm_status:{}, kernels:{}, receivers: {}, plot_index: []}\n}\n\n\n    function JupyterCommManager() {\n    }\n\n    JupyterCommManager.prototype.register_target = function(plot_id, comm_id, msg_handler) {\n      if (window.comm_manager || ((window.Jupyter !== undefined) && (Jupyter.notebook.kernel != null))) {\n        var comm_manager = window.comm_manager || Jupyter.notebook.kernel.comm_manager;\n        comm_manager.register_target(comm_id, function(comm) {\n          comm.on_msg(msg_handler);\n        });\n      } else if ((plot_id in window.PyViz.kernels) && (window.PyViz.kernels[plot_id])) {\n        window.PyViz.kernels[plot_id].registerCommTarget(comm_id, function(comm) {\n          comm.onMsg = msg_handler;\n        });\n      } else if (typeof google != 'undefined' && google.colab.kernel != null) {\n        google.colab.kernel.comms.registerTarget(comm_id, (comm) => {\n          var messages = comm.messages[Symbol.asyncIterator]();\n          function processIteratorResult(result) {\n            var message = result.value;\n            console.log(message)\n            var content = {data: message.data, comm_id};\n            var buffers = []\n            for (var buffer of message.buffers || []) {\n              buffers.push(new DataView(buffer))\n            }\n            var metadata = message.metadata || {};\n            var msg = {content, buffers, metadata}\n            msg_handler(msg);\n            return messages.next().then(processIteratorResult);\n          }\n          return messages.next().then(processIteratorResult);\n        })\n      }\n    }\n\n    JupyterCommManager.prototype.get_client_comm = function(plot_id, comm_id, msg_handler) {\n      if (comm_id in window.PyViz.comms) {\n        return window.PyViz.comms[comm_id];\n      } else if (window.comm_manager || ((window.Jupyter !== undefined) && (Jupyter.notebook.kernel != null))) {\n        var comm_manager = window.comm_manager || Jupyter.notebook.kernel.comm_manager;\n        var comm = comm_manager.new_comm(comm_id, {}, {}, {}, comm_id);\n        if (msg_handler) {\n          comm.on_msg(msg_handler);\n        }\n      } else if ((plot_id in window.PyViz.kernels) && (window.PyViz.kernels[plot_id])) {\n        var comm = window.PyViz.kernels[plot_id].connectToComm(comm_id);\n        comm.open();\n        if (msg_handler) {\n          comm.onMsg = msg_handler;\n        }\n      } else if (typeof google != 'undefined' && google.colab.kernel != null) {\n        var comm_promise = google.colab.kernel.comms.open(comm_id)\n        comm_promise.then((comm) => {\n          window.PyViz.comms[comm_id] = comm;\n          if (msg_handler) {\n            var messages = comm.messages[Symbol.asyncIterator]();\n            function processIteratorResult(result) {\n              var message = result.value;\n              var content = {data: message.data};\n              var metadata = message.metadata || {comm_id};\n              var msg = {content, metadata}\n              msg_handler(msg);\n              return messages.next().then(processIteratorResult);\n            }\n            return messages.next().then(processIteratorResult);\n          }\n        }) \n        var sendClosure = (data, metadata, buffers, disposeOnDone) => {\n          return comm_promise.then((comm) => {\n            comm.send(data, metadata, buffers, disposeOnDone);\n          });\n        };\n        var comm = {\n          send: sendClosure\n        };\n      }\n      window.PyViz.comms[comm_id] = comm;\n      return comm;\n    }\n    window.PyViz.comm_manager = new JupyterCommManager();\n    \n\n\nvar JS_MIME_TYPE = 'application/javascript';\nvar HTML_MIME_TYPE = 'text/html';\nvar EXEC_MIME_TYPE = 'application/vnd.holoviews_exec.v0+json';\nvar CLASS_NAME = 'output';\n\n/**\n * Render data to the DOM node\n */\nfunction render(props, node) {\n  var div = document.createElement(\"div\");\n  var script = document.createElement(\"script\");\n  node.appendChild(div);\n  node.appendChild(script);\n}\n\n/**\n * Handle when a new output is added\n */\nfunction handle_add_output(event, handle) {\n  var output_area = handle.output_area;\n  var output = handle.output;\n  if ((output.data == undefined) || (!output.data.hasOwnProperty(EXEC_MIME_TYPE))) {\n    return\n  }\n  var id = output.metadata[EXEC_MIME_TYPE][\"id\"];\n  var toinsert = output_area.element.find(\".\" + CLASS_NAME.split(' ')[0]);\n  if (id !== undefined) {\n    var nchildren = toinsert.length;\n    var html_node = toinsert[nchildren-1].children[0];\n    html_node.innerHTML = output.data[HTML_MIME_TYPE];\n    var scripts = [];\n    var nodelist = html_node.querySelectorAll(\"script\");\n    for (var i in nodelist) {\n      if (nodelist.hasOwnProperty(i)) {\n        scripts.push(nodelist[i])\n      }\n    }\n\n    scripts.forEach( function (oldScript) {\n      var newScript = document.createElement(\"script\");\n      var attrs = [];\n      var nodemap = oldScript.attributes;\n      for (var j in nodemap) {\n        if (nodemap.hasOwnProperty(j)) {\n          attrs.push(nodemap[j])\n        }\n      }\n      attrs.forEach(function(attr) { newScript.setAttribute(attr.name, attr.value) });\n      newScript.appendChild(document.createTextNode(oldScript.innerHTML));\n      oldScript.parentNode.replaceChild(newScript, oldScript);\n    });\n    if (JS_MIME_TYPE in output.data) {\n      toinsert[nchildren-1].children[1].textContent = output.data[JS_MIME_TYPE];\n    }\n    output_area._hv_plot_id = id;\n    if ((window.Bokeh !== undefined) && (id in Bokeh.index)) {\n      window.PyViz.plot_index[id] = Bokeh.index[id];\n    } else {\n      window.PyViz.plot_index[id] = null;\n    }\n  } else if (output.metadata[EXEC_MIME_TYPE][\"server_id\"] !== undefined) {\n    var bk_div = document.createElement(\"div\");\n    bk_div.innerHTML = output.data[HTML_MIME_TYPE];\n    var script_attrs = bk_div.children[0].attributes;\n    for (var i = 0; i < script_attrs.length; i++) {\n      toinsert[toinsert.length - 1].childNodes[1].setAttribute(script_attrs[i].name, script_attrs[i].value);\n    }\n    // store reference to server id on output_area\n    output_area._bokeh_server_id = output.metadata[EXEC_MIME_TYPE][\"server_id\"];\n  }\n}\n\n/**\n * Handle when an output is cleared or removed\n */\nfunction handle_clear_output(event, handle) {\n  var id = handle.cell.output_area._hv_plot_id;\n  var server_id = handle.cell.output_area._bokeh_server_id;\n  if (((id === undefined) || !(id in PyViz.plot_index)) && (server_id !== undefined)) { return; }\n  var comm = window.PyViz.comm_manager.get_client_comm(\"hv-extension-comm\", \"hv-extension-comm\", function () {});\n  if (server_id !== null) {\n    comm.send({event_type: 'server_delete', 'id': server_id});\n    return;\n  } else if (comm !== null) {\n    comm.send({event_type: 'delete', 'id': id});\n  }\n  delete PyViz.plot_index[id];\n  if ((window.Bokeh !== undefined) & (id in window.Bokeh.index)) {\n    var doc = window.Bokeh.index[id].model.document\n    doc.clear();\n    const i = window.Bokeh.documents.indexOf(doc);\n    if (i > -1) {\n      window.Bokeh.documents.splice(i, 1);\n    }\n  }\n}\n\n/**\n * Handle kernel restart event\n */\nfunction handle_kernel_cleanup(event, handle) {\n  delete PyViz.comms[\"hv-extension-comm\"];\n  window.PyViz.plot_index = {}\n}\n\n/**\n * Handle update_display_data messages\n */\nfunction handle_update_output(event, handle) {\n  handle_clear_output(event, {cell: {output_area: handle.output_area}})\n  handle_add_output(event, handle)\n}\n\nfunction register_renderer(events, OutputArea) {\n  function append_mime(data, metadata, element) {\n    // create a DOM node to render to\n    var toinsert = this.create_output_subarea(\n    metadata,\n    CLASS_NAME,\n    EXEC_MIME_TYPE\n    );\n    this.keyboard_manager.register_events(toinsert);\n    // Render to node\n    var props = {data: data, metadata: metadata[EXEC_MIME_TYPE]};\n    render(props, toinsert[0]);\n    element.append(toinsert);\n    return toinsert\n  }\n\n  events.on('output_added.OutputArea', handle_add_output);\n  events.on('output_updated.OutputArea', handle_update_output);\n  events.on('clear_output.CodeCell', handle_clear_output);\n  events.on('delete.Cell', handle_clear_output);\n  events.on('kernel_ready.Kernel', handle_kernel_cleanup);\n\n  OutputArea.prototype.register_mime_type(EXEC_MIME_TYPE, append_mime, {\n    safe: true,\n    index: 0\n  });\n}\n\nif (window.Jupyter !== undefined) {\n  try {\n    var events = require('base/js/events');\n    var OutputArea = require('notebook/js/outputarea').OutputArea;\n    if (OutputArea.prototype.mime_types().indexOf(EXEC_MIME_TYPE) == -1) {\n      register_renderer(events, OutputArea);\n    }\n  } catch(err) {\n  }\n}\n",
            "application/vnd.holoviews_load.v0+json": ""
          },
          "metadata": {},
          "output_type": "display_data"
        }
      ],
      "source": [
        "import os\n",
        "import pathlib\n",
        "import pickle\n",
        "import re\n",
        "import warnings\n",
        "\n",
        "import cartopy.crs as ccrs\n",
        "import earthaccess\n",
        "import earthpy as et\n",
        "import geopandas as gpd\n",
        "import geoviews as gv\n",
        "import hvplot.pandas\n",
        "import hvplot.xarray\n",
        "import numpy as np\n",
        "import pandas as pd\n",
        "import rioxarray as rxr\n",
        "import rioxarray.merge as rxrmerge\n",
        "from tqdm.notebook import tqdm\n",
        "import xarray as xr\n",
        "from shapely.geometry import Polygon\n",
        "from sklearn.cluster import KMeans\n",
        "import zipfile\n",
        "\n",
        "os.environ[\"GDAL_HTTP_MAX_RETRY\"] = \"5\"\n",
        "os.environ[\"GDAL_HTTP_RETRY_DELAY\"] = \"1\"\n",
        "\n",
        "warnings.simplefilter('ignore')"
      ]
    },
    {
      "cell_type": "code",
      "execution_count": 2,
      "id": "acefbe98",
      "metadata": {},
      "outputs": [
        {
          "data": {
            "text/plain": [
              "'C:\\\\Users\\\\riede\\\\earth-analytics\\\\data\\\\mississippi-delta'"
            ]
          },
          "execution_count": 2,
          "metadata": {},
          "output_type": "execute_result"
        }
      ],
      "source": [
        "# Make data directory\n",
        "data_dir = os.path.join(\n",
        "    pathlib.Path.home(),\n",
        "    'earth-analytics',\n",
        "    'data',\n",
        "    'mississippi-delta'\n",
        "    )\n",
        "\n",
        "os.makedirs(data_dir, exist_ok=True)\n",
        "\n",
        "data_dir"
      ]
    },
    {
      "cell_type": "markdown",
      "id": "00d1daa3-a10e-472b-94ff-4ff2db336bf5",
      "metadata": {},
      "source": [
        "Below you can find code for a caching **decorator** which you can use in\n",
        "your code. To use the decorator:\n",
        "\n",
        "``` python\n",
        "@cached(key, override)\n",
        "def do_something(*args, **kwargs):\n",
        "    ...\n",
        "    return item_to_cache\n",
        "```\n",
        "\n",
        "This decorator will **pickle** the results of running the\n",
        "`do_something()` function, and only run the code if the results don’t\n",
        "already exist. To override the caching, for example temporarily after\n",
        "making changes to your code, set `override=True`. Note that to use the\n",
        "caching decorator, you must write your own function to perform each\n",
        "task!"
      ]
    },
    {
      "cell_type": "code",
      "execution_count": 3,
      "id": "ad0a9842",
      "metadata": {},
      "outputs": [],
      "source": [
        "def cached(func_key, override=False):\n",
        "    \"\"\"\n",
        "    A decorator to cache function results\n",
        "    \n",
        "    Parameters\n",
        "    ==========\n",
        "    key: str\n",
        "      File basename used to save pickled results\n",
        "    override: bool\n",
        "      When True, re-compute even if the results are already stored\n",
        "    \"\"\"\n",
        "    def compute_and_cache_decorator(compute_function):\n",
        "        \"\"\"\n",
        "        Wrap the caching function\n",
        "        \n",
        "        Parameters\n",
        "        ==========\n",
        "        compute_function: function\n",
        "          The function to run and cache results\n",
        "        \"\"\"\n",
        "        def compute_and_cache(*args, **kwargs):\n",
        "            \"\"\"\n",
        "            Perform a computation and cache, or load cached result.\n",
        "            \n",
        "            Parameters\n",
        "            ==========\n",
        "            args\n",
        "              Positional arguments for the compute function\n",
        "            kwargs\n",
        "              Keyword arguments for the compute function\n",
        "            \"\"\"\n",
        "            # Add an identifier from the particular function call\n",
        "            if 'cache_key' in kwargs:\n",
        "                key = '_'.join((func_key, kwargs['cache_key']))\n",
        "            else:\n",
        "                key = func_key\n",
        "\n",
        "            path = os.path.join(\n",
        "                et.io.HOME, et.io.DATA_NAME, 'jars', f'{key}.pickle')\n",
        "            \n",
        "            # Check if the cache exists already or override caching\n",
        "            if not os.path.exists(path) or override:\n",
        "                # Make jars directory if needed\n",
        "                os.makedirs(os.path.dirname(path), exist_ok=True)\n",
        "                \n",
        "                # Run the compute function as the user did\n",
        "                result = compute_function(*args, **kwargs)\n",
        "                \n",
        "                # Pickle the object\n",
        "                with open(path, 'wb') as file:\n",
        "                    pickle.dump(result, file)\n",
        "            else:\n",
        "                # Unpickle the object\n",
        "                with open(path, 'rb') as file:\n",
        "                    result = pickle.load(file)\n",
        "                    \n",
        "            return result\n",
        "        \n",
        "        return compute_and_cache\n",
        "    \n",
        "    return compute_and_cache_decorator"
      ]
    },
    {
      "cell_type": "markdown",
      "id": "2f8cf346-8ef9-4c74-8835-411b1815aac2",
      "metadata": {},
      "source": [
        "## STEP 2: STUDY SITE\n",
        "\n",
        "For this analysis, you will use a watershed from the [Water Boundary\n",
        "Dataset](https://www.usgs.gov/national-hydrography/access-national-hydrography-products),\n",
        "HU12 watersheds (WBDHU12.shp).\n",
        "\n",
        "<link rel=\"stylesheet\" type=\"text/css\" href=\"./assets/styles.css\"><div class=\"callout callout-style-default callout-titled callout-task\"><div class=\"callout-header\"><div class=\"callout-icon-container\"><i class=\"callout-icon\"></i></div><div class=\"callout-title-container flex-fill\">Try It</div></div><div class=\"callout-body-container callout-body\"><ol type=\"1\">\n",
        "<li>Download the Water Boundary Dataset for region 8 (Mississippi)</li>\n",
        "<li>Select watershed 080902030506</li>\n",
        "<li>Generate a site map of the watershed</li>\n",
        "</ol>\n",
        "<p>Try to use the <strong>caching decorator</strong></p></div></div>\n",
        "\n",
        "We chose this watershed because it covers parts of New Orleans and is\n",
        "near the Mississippi Delta. Deltas are boundary areas between the land\n",
        "and the ocean, and as a result tend to contain a rich variety of\n",
        "different land cover and land use types.\n",
        "\n",
        "<link rel=\"stylesheet\" type=\"text/css\" href=\"./assets/styles.css\"><div class=\"callout callout-style-default callout-response\"><div class=\"callout-header\"><div class=\"callout-icon-container\"><i class=\"callout-icon\"></i></div></div><div class=\"callout-body-container callout-body\"><p>Write a 2-3 sentence <strong>site description</strong> (with\n",
        "citations) of this area that helps to put your analysis in context.</p></div></div>"
      ]
    },
    {
      "cell_type": "markdown",
      "id": "e779d07a-9ebd-4d84-af53-3fd1c211606c",
      "metadata": {},
      "source": [
        "**SEE SITE DESCRIPTION BELOW SITE MAP**\n",
        "\n",
        "* Helpful links:\n",
        "\n",
        "    * URL for WBD region 8: https://prd-tnm.s3.amazonaws.com/StagedProducts/Hydrography/WBD/HU2/Shape/WBD_08_HU2_Shape.zip\n",
        "\n",
        "    * Documentation for et.data.get_data: https://earthpy.readthedocs.io/en/latest/gallery_vignettes/get_data.html\n",
        "\n",
        "    * Documentation for .dissolve(): https://geopandas.org/en/stable/docs/user_guide/aggregation_with_dissolve.html"
      ]
    },
    {
      "cell_type": "markdown",
      "id": "a01819bd",
      "metadata": {},
      "source": [
        "<span style=\"color: purple;\">\n",
        "\n",
        "#### STEP 2a. Download watershed boundary data for region 8\n",
        "\n",
        "</span>"
      ]
    },
    {
      "cell_type": "code",
      "execution_count": 4,
      "id": "9616f78b",
      "metadata": {},
      "outputs": [
        {
          "data": {
            "text/html": [
              "<div>\n",
              "<style scoped>\n",
              "    .dataframe tbody tr th:only-of-type {\n",
              "        vertical-align: middle;\n",
              "    }\n",
              "\n",
              "    .dataframe tbody tr th {\n",
              "        vertical-align: top;\n",
              "    }\n",
              "\n",
              "    .dataframe thead th {\n",
              "        text-align: right;\n",
              "    }\n",
              "</style>\n",
              "<table border=\"1\" class=\"dataframe\">\n",
              "  <thead>\n",
              "    <tr style=\"text-align: right;\">\n",
              "      <th></th>\n",
              "      <th>tnmid</th>\n",
              "      <th>metasource</th>\n",
              "      <th>sourcedata</th>\n",
              "      <th>sourceorig</th>\n",
              "      <th>sourcefeat</th>\n",
              "      <th>loaddate</th>\n",
              "      <th>referenceg</th>\n",
              "      <th>areaacres</th>\n",
              "      <th>areasqkm</th>\n",
              "      <th>states</th>\n",
              "      <th>...</th>\n",
              "      <th>name</th>\n",
              "      <th>hutype</th>\n",
              "      <th>humod</th>\n",
              "      <th>tohuc</th>\n",
              "      <th>noncontrib</th>\n",
              "      <th>noncontr_1</th>\n",
              "      <th>shape_Leng</th>\n",
              "      <th>shape_Area</th>\n",
              "      <th>ObjectID</th>\n",
              "      <th>geometry</th>\n",
              "    </tr>\n",
              "  </thead>\n",
              "  <tbody>\n",
              "    <tr>\n",
              "      <th>0</th>\n",
              "      <td>{8AFB1AF9-7296-4303-89DE-14CD073B859A}</td>\n",
              "      <td>{511D2AC8-11BA-45FC-AB98-F69D693D4C44}</td>\n",
              "      <td>Watershed Boundary Dataset (WBD)</td>\n",
              "      <td>Natural Resources and Conservation Service and...</td>\n",
              "      <td>None</td>\n",
              "      <td>2024-08-15</td>\n",
              "      <td>535297,540579</td>\n",
              "      <td>29441.81</td>\n",
              "      <td>119.15</td>\n",
              "      <td>LA</td>\n",
              "      <td>...</td>\n",
              "      <td>Gourd Bayou-Youngs Bayou</td>\n",
              "      <td>S</td>\n",
              "      <td>LE,ID,DD</td>\n",
              "      <td>080500011308</td>\n",
              "      <td>0.0</td>\n",
              "      <td>0.0</td>\n",
              "      <td>NaN</td>\n",
              "      <td>NaN</td>\n",
              "      <td>1</td>\n",
              "      <td>POLYGON ((-92.00021 32.53586, -91.99994 32.535...</td>\n",
              "    </tr>\n",
              "    <tr>\n",
              "      <th>1</th>\n",
              "      <td>{916A17A6-B4A0-4FD7-9BB8-FFD1936B15B2}</td>\n",
              "      <td>{511D2AC8-11BA-45FC-AB98-F69D693D4C44}</td>\n",
              "      <td>Watershed Boundary Dataset (WBD)</td>\n",
              "      <td>Natural Resources and Conservation Service and...</td>\n",
              "      <td>None</td>\n",
              "      <td>2024-08-15</td>\n",
              "      <td>535512</td>\n",
              "      <td>11406.67</td>\n",
              "      <td>46.16</td>\n",
              "      <td>LA</td>\n",
              "      <td>...</td>\n",
              "      <td>Hams Creek</td>\n",
              "      <td>S</td>\n",
              "      <td>ID</td>\n",
              "      <td>080802050104</td>\n",
              "      <td>0.0</td>\n",
              "      <td>0.0</td>\n",
              "      <td>NaN</td>\n",
              "      <td>NaN</td>\n",
              "      <td>2</td>\n",
              "      <td>POLYGON ((-93.37574 30.58982, -93.3747 30.5891...</td>\n",
              "    </tr>\n",
              "    <tr>\n",
              "      <th>2</th>\n",
              "      <td>{493C7EC1-2F1C-4B84-AFFB-6F6868A9868E}</td>\n",
              "      <td>{511D2AC8-11BA-45FC-AB98-F69D693D4C44}</td>\n",
              "      <td>Watershed Boundary Dataset (WBD)</td>\n",
              "      <td>Natural Resources and Conservation Service and...</td>\n",
              "      <td>None</td>\n",
              "      <td>2024-08-15</td>\n",
              "      <td>547190,559640</td>\n",
              "      <td>29138.21</td>\n",
              "      <td>117.92</td>\n",
              "      <td>LA</td>\n",
              "      <td>...</td>\n",
              "      <td>Caney Creek-Bayou D'Arbonne</td>\n",
              "      <td>S</td>\n",
              "      <td>NM</td>\n",
              "      <td>080402060503</td>\n",
              "      <td>0.0</td>\n",
              "      <td>0.0</td>\n",
              "      <td>NaN</td>\n",
              "      <td>NaN</td>\n",
              "      <td>3</td>\n",
              "      <td>POLYGON ((-93.07761 32.88752, -93.07784 32.887...</td>\n",
              "    </tr>\n",
              "    <tr>\n",
              "      <th>3</th>\n",
              "      <td>{49A3C087-B460-4F97-9D99-78CBB675248B}</td>\n",
              "      <td>{511D2AC8-11BA-45FC-AB98-F69D693D4C44}</td>\n",
              "      <td>Watershed Boundary Dataset (WBD)</td>\n",
              "      <td>Natural Resources and Conservation Service and...</td>\n",
              "      <td>None</td>\n",
              "      <td>2024-08-15</td>\n",
              "      <td>77417,78285</td>\n",
              "      <td>17759.39</td>\n",
              "      <td>71.87</td>\n",
              "      <td>AR</td>\n",
              "      <td>...</td>\n",
              "      <td>L'Aigle Creek-Saline River</td>\n",
              "      <td>S</td>\n",
              "      <td>NM</td>\n",
              "      <td>080402020206</td>\n",
              "      <td>0.0</td>\n",
              "      <td>0.0</td>\n",
              "      <td>NaN</td>\n",
              "      <td>NaN</td>\n",
              "      <td>4</td>\n",
              "      <td>POLYGON ((-92.08947 33.29383, -92.0897 33.2938...</td>\n",
              "    </tr>\n",
              "    <tr>\n",
              "      <th>4</th>\n",
              "      <td>{0FB41498-11EA-4AB1-AF05-E2A8E5E2E274}</td>\n",
              "      <td>{511D2AC8-11BA-45FC-AB98-F69D693D4C44}</td>\n",
              "      <td>Watershed Boundary Dataset (WBD)</td>\n",
              "      <td>Natural Resources and Conservation Service and...</td>\n",
              "      <td>None</td>\n",
              "      <td>2024-08-15</td>\n",
              "      <td>1628466</td>\n",
              "      <td>98564.62</td>\n",
              "      <td>398.88</td>\n",
              "      <td>LA</td>\n",
              "      <td>...</td>\n",
              "      <td>West Cote Blanche Bay</td>\n",
              "      <td>W</td>\n",
              "      <td>NM</td>\n",
              "      <td>080801030800</td>\n",
              "      <td>0.0</td>\n",
              "      <td>0.0</td>\n",
              "      <td>NaN</td>\n",
              "      <td>NaN</td>\n",
              "      <td>5</td>\n",
              "      <td>POLYGON ((-91.62408 29.73947, -91.62195 29.737...</td>\n",
              "    </tr>\n",
              "  </tbody>\n",
              "</table>\n",
              "<p>5 rows × 21 columns</p>\n",
              "</div>"
            ],
            "text/plain": [
              "                                    tnmid  \\\n",
              "0  {8AFB1AF9-7296-4303-89DE-14CD073B859A}   \n",
              "1  {916A17A6-B4A0-4FD7-9BB8-FFD1936B15B2}   \n",
              "2  {493C7EC1-2F1C-4B84-AFFB-6F6868A9868E}   \n",
              "3  {49A3C087-B460-4F97-9D99-78CBB675248B}   \n",
              "4  {0FB41498-11EA-4AB1-AF05-E2A8E5E2E274}   \n",
              "\n",
              "                               metasource                        sourcedata  \\\n",
              "0  {511D2AC8-11BA-45FC-AB98-F69D693D4C44}  Watershed Boundary Dataset (WBD)   \n",
              "1  {511D2AC8-11BA-45FC-AB98-F69D693D4C44}  Watershed Boundary Dataset (WBD)   \n",
              "2  {511D2AC8-11BA-45FC-AB98-F69D693D4C44}  Watershed Boundary Dataset (WBD)   \n",
              "3  {511D2AC8-11BA-45FC-AB98-F69D693D4C44}  Watershed Boundary Dataset (WBD)   \n",
              "4  {511D2AC8-11BA-45FC-AB98-F69D693D4C44}  Watershed Boundary Dataset (WBD)   \n",
              "\n",
              "                                          sourceorig sourcefeat   loaddate  \\\n",
              "0  Natural Resources and Conservation Service and...       None 2024-08-15   \n",
              "1  Natural Resources and Conservation Service and...       None 2024-08-15   \n",
              "2  Natural Resources and Conservation Service and...       None 2024-08-15   \n",
              "3  Natural Resources and Conservation Service and...       None 2024-08-15   \n",
              "4  Natural Resources and Conservation Service and...       None 2024-08-15   \n",
              "\n",
              "      referenceg  areaacres  areasqkm states  ...  \\\n",
              "0  535297,540579   29441.81    119.15     LA  ...   \n",
              "1         535512   11406.67     46.16     LA  ...   \n",
              "2  547190,559640   29138.21    117.92     LA  ...   \n",
              "3    77417,78285   17759.39     71.87     AR  ...   \n",
              "4        1628466   98564.62    398.88     LA  ...   \n",
              "\n",
              "                          name hutype     humod         tohuc noncontrib  \\\n",
              "0     Gourd Bayou-Youngs Bayou      S  LE,ID,DD  080500011308        0.0   \n",
              "1                   Hams Creek      S        ID  080802050104        0.0   \n",
              "2  Caney Creek-Bayou D'Arbonne      S        NM  080402060503        0.0   \n",
              "3   L'Aigle Creek-Saline River      S        NM  080402020206        0.0   \n",
              "4        West Cote Blanche Bay      W        NM  080801030800        0.0   \n",
              "\n",
              "   noncontr_1  shape_Leng  shape_Area  ObjectID  \\\n",
              "0         0.0         NaN         NaN         1   \n",
              "1         0.0         NaN         NaN         2   \n",
              "2         0.0         NaN         NaN         3   \n",
              "3         0.0         NaN         NaN         4   \n",
              "4         0.0         NaN         NaN         5   \n",
              "\n",
              "                                            geometry  \n",
              "0  POLYGON ((-92.00021 32.53586, -91.99994 32.535...  \n",
              "1  POLYGON ((-93.37574 30.58982, -93.3747 30.5891...  \n",
              "2  POLYGON ((-93.07761 32.88752, -93.07784 32.887...  \n",
              "3  POLYGON ((-92.08947 33.29383, -92.0897 33.2938...  \n",
              "4  POLYGON ((-91.62408 29.73947, -91.62195 29.737...  \n",
              "\n",
              "[5 rows x 21 columns]"
            ]
          },
          "execution_count": 4,
          "metadata": {},
          "output_type": "execute_result"
        }
      ],
      "source": [
        "# call cached decorator\n",
        "@cached('wbd', override=False)\n",
        "# add function to apply decorator abilities to\n",
        "def read_wbd_file(wbd_filename, huc_level, cache_key):\n",
        "    # Define wbd_url\n",
        "    wbd_url = (\n",
        "        \"https://prd-tnm.s3.amazonaws.com\"\n",
        "        \"/StagedProducts/Hydrography/WBD/HU2/Shape/\"\n",
        "        f\"{wbd_filename}.zip\")\n",
        "    # et.data.get_data from earthpy library to download data from a zip file\n",
        "    # can also download Earthpy Dataset Subsets w/ et.data.get_data \n",
        "    wbd_dir = et.data.get_data(url=wbd_url)\n",
        "                  \n",
        "    # Read desired data\n",
        "    wbd_path = os.path.join(wbd_dir, 'Shape', f'WBDHU{huc_level}.shp')\n",
        "    # engine is the library used to read the file\n",
        "    wbd_gdf = gpd.read_file(wbd_path, engine='pyogrio')\n",
        "    return wbd_gdf\n",
        "\n",
        "# define huc_level\n",
        "huc_level = 12\n",
        "\n",
        "# create wbd_total_gdf \n",
        "wbd_total_gdf = read_wbd_file(\n",
        "    # filename found from URL noted above code cell\n",
        "    wbd_filename = 'WBD_08_HU2_Shape',\n",
        "    # huc_level defined above\n",
        "    huc_level = huc_level,\n",
        "    # cache_key is a kwarg for cached decorator\n",
        "    cache_key=f'hu{huc_level}'\n",
        ")\n",
        "\n",
        "# check wbd_total_gdf\n",
        "wbd_total_gdf.head()\n"
      ]
    },
    {
      "cell_type": "markdown",
      "id": "742cd26c",
      "metadata": {},
      "source": [
        "<span style=\"color: purple;\">\n",
        "\n",
        "#### STEP 2b. Select watershed of interest from region 8, 080902030506\n",
        "\n",
        "</span>"
      ]
    },
    {
      "cell_type": "code",
      "execution_count": 5,
      "id": "9756787c",
      "metadata": {},
      "outputs": [
        {
          "data": {
            "text/plain": [
              "Index(['tnmid', 'metasource', 'sourcedata', 'sourceorig', 'sourcefeat',\n",
              "       'loaddate', 'referenceg', 'areaacres', 'areasqkm', 'states', 'huc12',\n",
              "       'name', 'hutype', 'humod', 'tohuc', 'noncontrib', 'noncontr_1',\n",
              "       'shape_Leng', 'shape_Area', 'ObjectID', 'geometry'],\n",
              "      dtype='object')"
            ]
          },
          "execution_count": 5,
          "metadata": {},
          "output_type": "execute_result"
        }
      ],
      "source": [
        "# see all column names of the wbd_total_gdf\n",
        "wbd_total_gdf.columns"
      ]
    },
    {
      "cell_type": "code",
      "execution_count": 6,
      "id": "d06a3f74",
      "metadata": {},
      "outputs": [
        {
          "data": {
            "text/html": [
              "<div>\n",
              "<style scoped>\n",
              "    .dataframe tbody tr th:only-of-type {\n",
              "        vertical-align: middle;\n",
              "    }\n",
              "\n",
              "    .dataframe tbody tr th {\n",
              "        vertical-align: top;\n",
              "    }\n",
              "\n",
              "    .dataframe thead th {\n",
              "        text-align: right;\n",
              "    }\n",
              "</style>\n",
              "<table border=\"1\" class=\"dataframe\">\n",
              "  <thead>\n",
              "    <tr style=\"text-align: right;\">\n",
              "      <th></th>\n",
              "      <th>geometry</th>\n",
              "      <th>tnmid</th>\n",
              "      <th>metasource</th>\n",
              "      <th>sourcedata</th>\n",
              "      <th>sourceorig</th>\n",
              "      <th>sourcefeat</th>\n",
              "      <th>loaddate</th>\n",
              "      <th>referenceg</th>\n",
              "      <th>areaacres</th>\n",
              "      <th>areasqkm</th>\n",
              "      <th>...</th>\n",
              "      <th>huc12</th>\n",
              "      <th>name</th>\n",
              "      <th>hutype</th>\n",
              "      <th>humod</th>\n",
              "      <th>tohuc</th>\n",
              "      <th>noncontrib</th>\n",
              "      <th>noncontr_1</th>\n",
              "      <th>shape_Leng</th>\n",
              "      <th>shape_Area</th>\n",
              "      <th>ObjectID</th>\n",
              "    </tr>\n",
              "  </thead>\n",
              "  <tbody>\n",
              "    <tr>\n",
              "      <th>0</th>\n",
              "      <td>POLYGON ((-89.97047 29.74687, -89.96593 29.750...</td>\n",
              "      <td>{E942B72E-599E-48F5-908A-EA5265701C14}</td>\n",
              "      <td>{511D2AC8-11BA-45FC-AB98-F69D693D4C44}</td>\n",
              "      <td>Watershed Boundary Dataset (WBD)</td>\n",
              "      <td>Natural Resources and Conservation Service and...</td>\n",
              "      <td>None</td>\n",
              "      <td>2024-08-15</td>\n",
              "      <td>536881,539539</td>\n",
              "      <td>37355.86</td>\n",
              "      <td>151.17</td>\n",
              "      <td>...</td>\n",
              "      <td>080902030506</td>\n",
              "      <td>Manuel Canal-Spanish Lake</td>\n",
              "      <td>D</td>\n",
              "      <td>GC</td>\n",
              "      <td>080902030508</td>\n",
              "      <td>0.0</td>\n",
              "      <td>0.0</td>\n",
              "      <td>NaN</td>\n",
              "      <td>NaN</td>\n",
              "      <td>2560</td>\n",
              "    </tr>\n",
              "  </tbody>\n",
              "</table>\n",
              "<p>1 rows × 21 columns</p>\n",
              "</div>"
            ],
            "text/plain": [
              "                                            geometry  \\\n",
              "0  POLYGON ((-89.97047 29.74687, -89.96593 29.750...   \n",
              "\n",
              "                                    tnmid  \\\n",
              "0  {E942B72E-599E-48F5-908A-EA5265701C14}   \n",
              "\n",
              "                               metasource                        sourcedata  \\\n",
              "0  {511D2AC8-11BA-45FC-AB98-F69D693D4C44}  Watershed Boundary Dataset (WBD)   \n",
              "\n",
              "                                          sourceorig sourcefeat   loaddate  \\\n",
              "0  Natural Resources and Conservation Service and...       None 2024-08-15   \n",
              "\n",
              "      referenceg  areaacres  areasqkm  ...         huc12  \\\n",
              "0  536881,539539   37355.86    151.17  ...  080902030506   \n",
              "\n",
              "                        name hutype humod         tohuc noncontrib  \\\n",
              "0  Manuel Canal-Spanish Lake      D    GC  080902030508        0.0   \n",
              "\n",
              "   noncontr_1  shape_Leng  shape_Area  ObjectID  \n",
              "0         0.0         NaN         NaN      2560  \n",
              "\n",
              "[1 rows x 21 columns]"
            ]
          },
          "execution_count": 6,
          "metadata": {},
          "output_type": "execute_result"
        }
      ],
      "source": [
        "# select the 080902030506 rows from the wbd_total_gdf\n",
        "wbd_gdf = (\n",
        "    # from the huc12 column...\n",
        "    wbd_total_gdf[wbd_total_gdf[f'huc{huc_level}']\n",
        "    # select only the rows for 080902030506\n",
        "    .isin(['080902030506'])]\n",
        "    # dissolve all geometries to a single geometric feature\n",
        "    # and aggreagate all rows of data in a group\n",
        "    .dissolve()\n",
        ")\n",
        "\n",
        "# check wbd_gdf\n",
        "wbd_gdf"
      ]
    },
    {
      "cell_type": "code",
      "execution_count": 7,
      "id": "d2fcbea7",
      "metadata": {},
      "outputs": [
        {
          "name": "stdout",
          "output_type": "stream",
          "text": [
            "Watershed 080902030506 is in 0    LA\n",
            "Name: states, dtype: object\n"
          ]
        }
      ],
      "source": [
        "print(f\"Watershed 080902030506 is in {wbd_gdf['states']}\")"
      ]
    },
    {
      "cell_type": "markdown",
      "id": "2f4510fb",
      "metadata": {},
      "source": [
        "<span style=\"color: purple;\">\n",
        "\n",
        "#### STEP 2c. Create site map of watershed 080902030506 in Louisiana, USA & describe watershed\n",
        "\n",
        "</span>"
      ]
    },
    {
      "cell_type": "code",
      "execution_count": 8,
      "id": "6a9587dd",
      "metadata": {},
      "outputs": [
        {
          "data": {},
          "metadata": {},
          "output_type": "display_data"
        },
        {
          "data": {
            "application/vnd.holoviews_exec.v0+json": "",
            "text/html": [
              "<div id='p1013'>\n",
              "  <div id=\"f75b70c7-12a1-4b4a-bb6f-5cac82adb154\" data-root-id=\"p1013\" style=\"display: contents;\"></div>\n",
              "</div>\n",
              "<script type=\"application/javascript\">(function(root) {\n",
              "  var docs_json = {\"a509e873-abfc-4bf8-aac7-213e0d1245a2\":{\"version\":\"3.5.2\",\"title\":\"Bokeh Application\",\"roots\":[{\"type\":\"object\",\"name\":\"Row\",\"id\":\"p1013\",\"attributes\":{\"name\":\"Row01712\",\"tags\":[\"embedded\"],\"stylesheets\":[\"\\n:host(.pn-loading):before, .pn-loading:before {\\n  background-color: #c3c3c3;\\n  mask-size: auto calc(min(50%, 400px));\\n  -webkit-mask-size: auto calc(min(50%, 400px));\\n}\",{\"type\":\"object\",\"name\":\"ImportedStyleSheet\",\"id\":\"p1016\",\"attributes\":{\"url\":\"https://cdn.holoviz.org/panel/1.5.2/dist/css/loading.css\"}},{\"type\":\"object\",\"name\":\"ImportedStyleSheet\",\"id\":\"p1120\",\"attributes\":{\"url\":\"https://cdn.holoviz.org/panel/1.5.2/dist/css/listpanel.css\"}},{\"type\":\"object\",\"name\":\"ImportedStyleSheet\",\"id\":\"p1014\",\"attributes\":{\"url\":\"https://cdn.holoviz.org/panel/1.5.2/dist/bundled/theme/default.css\"}},{\"type\":\"object\",\"name\":\"ImportedStyleSheet\",\"id\":\"p1015\",\"attributes\":{\"url\":\"https://cdn.holoviz.org/panel/1.5.2/dist/bundled/theme/native.css\"}}],\"margin\":0,\"sizing_mode\":\"stretch_width\",\"align\":\"start\",\"children\":[{\"type\":\"object\",\"name\":\"Spacer\",\"id\":\"p1017\",\"attributes\":{\"name\":\"HSpacer01718\",\"stylesheets\":[\"\\n:host(.pn-loading):before, .pn-loading:before {\\n  background-color: #c3c3c3;\\n  mask-size: auto calc(min(50%, 400px));\\n  -webkit-mask-size: auto calc(min(50%, 400px));\\n}\",{\"id\":\"p1016\"},{\"id\":\"p1014\"},{\"id\":\"p1015\"}],\"margin\":0,\"sizing_mode\":\"stretch_width\",\"align\":\"start\"}},{\"type\":\"object\",\"name\":\"Figure\",\"id\":\"p1069\",\"attributes\":{\"width\":null,\"height\":null,\"margin\":[5,10],\"sizing_mode\":\"fixed\",\"align\":\"start\",\"x_range\":{\"type\":\"object\",\"name\":\"Range1d\",\"id\":\"p1033\",\"attributes\":{\"tags\":[[[\"Longitude\",null]],[]],\"start\":-10017511.294466687,\"end\":-9992975.898759374,\"reset_start\":-10017511.294466687,\"reset_end\":-9992975.898759374,\"min_interval\":5}},\"y_range\":{\"type\":\"object\",\"name\":\"Range1d\",\"id\":\"p1034\",\"attributes\":{\"tags\":[[[\"Latitude\",null]],{\"type\":\"map\",\"entries\":[[\"invert_yaxis\",false],[\"autorange\",false]]}],\"start\":3461117.9847856276,\"end\":3482479.510384815,\"reset_start\":3461117.9847856276,\"reset_end\":3482479.510384815,\"min_interval\":5}},\"x_scale\":{\"type\":\"object\",\"name\":\"LinearScale\",\"id\":\"p1079\"},\"y_scale\":{\"type\":\"object\",\"name\":\"LinearScale\",\"id\":\"p1080\"},\"title\":{\"type\":\"object\",\"name\":\"Title\",\"id\":\"p1072\",\"attributes\":{\"text\":\"080902030506 Watershed Boundary in Louisiana, USA\",\"text_color\":\"black\",\"text_font_size\":\"12pt\"}},\"renderers\":[{\"type\":\"object\",\"name\":\"TileRenderer\",\"id\":\"p1102\",\"attributes\":{\"level\":\"underlay\",\"tile_source\":{\"type\":\"object\",\"name\":\"WMTSTileSource\",\"id\":\"p1098\",\"attributes\":{\"url\":\"https://server.arcgisonline.com/ArcGIS/rest/services/World_Imagery/MapServer/tile/{Z}/{Y}/{X}.jpg\",\"attribution\":\"&copy; <a href=\\\"http://downloads.esri.com/ArcGISOnline/docs/tou_summary.pdf\\\">Esri</a>, Earthstar Geographics\"}}}},{\"type\":\"object\",\"name\":\"GlyphRenderer\",\"id\":\"p1113\",\"attributes\":{\"data_source\":{\"type\":\"object\",\"name\":\"ColumnDataSource\",\"id\":\"p1104\",\"attributes\":{\"selected\":{\"type\":\"object\",\"name\":\"Selection\",\"id\":\"p1105\",\"attributes\":{\"indices\":[],\"line_indices\":[]}},\"selection_policy\":{\"type\":\"object\",\"name\":\"UnionRenderers\",\"id\":\"p1106\"},\"data\":{\"type\":\"map\",\"entries\":[[\"xs\",[[[{\"type\":\"ndarray\",\"array\":{\"type\":\"bytes\",\"data\":\"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\"},\"shape\":[454],\"dtype\":\"float64\",\"order\":\"little\"}]]]],[\"ys\",[[[{\"type\":\"ndarray\",\"array\":{\"type\":\"bytes\",\"data\":\"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\"},\"shape\":[454],\"dtype\":\"float64\",\"order\":\"little\"}]]]]]}}},\"view\":{\"type\":\"object\",\"name\":\"CDSView\",\"id\":\"p1114\",\"attributes\":{\"filter\":{\"type\":\"object\",\"name\":\"AllIndices\",\"id\":\"p1115\"}}},\"glyph\":{\"type\":\"object\",\"name\":\"MultiPolygons\",\"id\":\"p1110\",\"attributes\":{\"xs\":{\"type\":\"field\",\"field\":\"xs\"},\"ys\":{\"type\":\"field\",\"field\":\"ys\"},\"line_color\":{\"type\":\"value\",\"value\":\"red\"},\"line_alpha\":{\"type\":\"value\",\"value\":0.4},\"fill_color\":{\"type\":\"value\",\"value\":\"white\"},\"fill_alpha\":{\"type\":\"value\",\"value\":0.4},\"hatch_color\":{\"type\":\"value\",\"value\":\"white\"},\"hatch_alpha\":{\"type\":\"value\",\"value\":0.4}}},\"selection_glyph\":{\"type\":\"object\",\"name\":\"MultiPolygons\",\"id\":\"p1116\",\"attributes\":{\"xs\":{\"type\":\"field\",\"field\":\"xs\"},\"ys\":{\"type\":\"field\",\"field\":\"ys\"},\"line_color\":{\"type\":\"value\",\"value\":\"red\"},\"line_alpha\":{\"type\":\"value\",\"value\":0.4},\"line_width\":{\"type\":\"value\",\"value\":1},\"line_join\":{\"type\":\"value\",\"value\":\"bevel\"},\"line_cap\":{\"type\":\"value\",\"value\":\"butt\"},\"line_dash\":{\"type\":\"value\",\"value\":[]},\"line_dash_offset\":{\"type\":\"value\",\"value\":0},\"fill_color\":{\"type\":\"value\",\"value\":\"white\"},\"fill_alpha\":{\"type\":\"value\",\"value\":0.4},\"hatch_color\":{\"type\":\"value\",\"value\":\"white\"},\"hatch_alpha\":{\"type\":\"value\",\"value\":0.4},\"hatch_scale\":{\"type\":\"value\",\"value\":12.0},\"hatch_pattern\":{\"type\":\"value\",\"value\":null},\"hatch_weight\":{\"type\":\"value\",\"value\":1.0}}},\"nonselection_glyph\":{\"type\":\"object\",\"name\":\"MultiPolygons\",\"id\":\"p1111\",\"attributes\":{\"xs\":{\"type\":\"field\",\"field\":\"xs\"},\"ys\":{\"type\":\"field\",\"field\":\"ys\"},\"line_color\":{\"type\":\"value\",\"value\":\"red\"},\"line_alpha\":{\"type\":\"value\",\"value\":0.4},\"fill_color\":{\"type\":\"value\",\"value\":\"white\"},\"fill_alpha\":{\"type\":\"value\",\"value\":0.4},\"hatch_color\":{\"type\":\"value\",\"value\":\"white\"},\"hatch_alpha\":{\"type\":\"value\",\"value\":0.1}}},\"muted_glyph\":{\"type\":\"object\",\"name\":\"MultiPolygons\",\"id\":\"p1112\",\"attributes\":{\"xs\":{\"type\":\"field\",\"field\":\"xs\"},\"ys\":{\"type\":\"field\",\"field\":\"ys\"},\"line_color\":{\"type\":\"value\",\"value\":\"red\"},\"line_alpha\":{\"type\":\"value\",\"value\":0.2},\"fill_color\":{\"type\":\"value\",\"value\":\"white\"},\"fill_alpha\":{\"type\":\"value\",\"value\":0.2},\"hatch_color\":{\"type\":\"value\",\"value\":\"white\"},\"hatch_alpha\":{\"type\":\"value\",\"value\":0.2}}}}}],\"toolbar\":{\"type\":\"object\",\"name\":\"Toolbar\",\"id\":\"p1078\",\"attributes\":{\"tools\":[{\"type\":\"object\",\"name\":\"WheelZoomTool\",\"id\":\"p1037\",\"attributes\":{\"renderers\":\"auto\",\"zoom_on_axis\":false}},{\"type\":\"object\",\"name\":\"BoxZoomTool\",\"id\":\"p1045\",\"attributes\":{\"overlay\":{\"type\":\"object\",\"name\":\"BoxAnnotation\",\"id\":\"p1038\",\"attributes\":{\"syncable\":false,\"line_color\":\"black\",\"line_alpha\":1.0,\"line_width\":2,\"line_dash\":[4,4],\"fill_color\":\"lightgrey\",\"fill_alpha\":0.5,\"level\":\"overlay\",\"visible\":false,\"left\":{\"type\":\"number\",\"value\":\"nan\"},\"right\":{\"type\":\"number\",\"value\":\"nan\"},\"top\":{\"type\":\"number\",\"value\":\"nan\"},\"bottom\":{\"type\":\"number\",\"value\":\"nan\"},\"left_units\":\"canvas\",\"right_units\":\"canvas\",\"top_units\":\"canvas\",\"bottom_units\":\"canvas\",\"handles\":{\"type\":\"object\",\"name\":\"BoxInteractionHandles\",\"id\":\"p1010\",\"attributes\":{\"all\":{\"type\":\"object\",\"name\":\"AreaVisuals\",\"id\":\"p1009\",\"attributes\":{\"fill_color\":\"white\",\"hover_fill_color\":\"lightgray\"}}}}}},\"match_aspect\":true}},{\"type\":\"object\",\"name\":\"PanTool\",\"id\":\"p1092\"},{\"type\":\"object\",\"name\":\"ResetTool\",\"id\":\"p1093\"}],\"active_drag\":{\"id\":\"p1092\"}}},\"left\":[{\"type\":\"object\",\"name\":\"LinearAxis\",\"id\":\"p1086\",\"attributes\":{\"ticker\":{\"type\":\"object\",\"name\":\"MercatorTicker\",\"id\":\"p1096\",\"attributes\":{\"mantissas\":[1,2,5],\"dimension\":\"lat\"}},\"formatter\":{\"type\":\"object\",\"name\":\"MercatorTickFormatter\",\"id\":\"p1097\",\"attributes\":{\"dimension\":\"lat\"}},\"axis_label\":\"Latitude\",\"major_label_policy\":{\"type\":\"object\",\"name\":\"AllLabels\",\"id\":\"p1089\"}}}],\"below\":[{\"type\":\"object\",\"name\":\"LinearAxis\",\"id\":\"p1081\",\"attributes\":{\"ticker\":{\"type\":\"object\",\"name\":\"MercatorTicker\",\"id\":\"p1094\",\"attributes\":{\"mantissas\":[1,2,5],\"dimension\":\"lon\"}},\"formatter\":{\"type\":\"object\",\"name\":\"MercatorTickFormatter\",\"id\":\"p1095\",\"attributes\":{\"dimension\":\"lon\"}},\"axis_label\":\"Longitude\",\"major_label_policy\":{\"type\":\"object\",\"name\":\"AllLabels\",\"id\":\"p1084\"}}}],\"center\":[{\"type\":\"object\",\"name\":\"Grid\",\"id\":\"p1085\",\"attributes\":{\"axis\":{\"id\":\"p1081\"},\"grid_line_color\":null}},{\"type\":\"object\",\"name\":\"Grid\",\"id\":\"p1090\",\"attributes\":{\"dimension\":1,\"axis\":{\"id\":\"p1086\"},\"grid_line_color\":null}}],\"frame_width\":400,\"frame_height\":348,\"min_border_top\":10,\"min_border_bottom\":10,\"min_border_left\":10,\"min_border_right\":10,\"output_backend\":\"webgl\",\"match_aspect\":true}},{\"type\":\"object\",\"name\":\"Spacer\",\"id\":\"p1118\",\"attributes\":{\"name\":\"HSpacer01719\",\"stylesheets\":[\"\\n:host(.pn-loading):before, .pn-loading:before {\\n  background-color: #c3c3c3;\\n  mask-size: auto calc(min(50%, 400px));\\n  -webkit-mask-size: auto calc(min(50%, 400px));\\n}\",{\"id\":\"p1016\"},{\"id\":\"p1014\"},{\"id\":\"p1015\"}],\"margin\":0,\"sizing_mode\":\"stretch_width\",\"align\":\"start\"}}]}}],\"defs\":[{\"type\":\"model\",\"name\":\"ReactiveHTML1\"},{\"type\":\"model\",\"name\":\"FlexBox1\",\"properties\":[{\"name\":\"align_content\",\"kind\":\"Any\",\"default\":\"flex-start\"},{\"name\":\"align_items\",\"kind\":\"Any\",\"default\":\"flex-start\"},{\"name\":\"flex_direction\",\"kind\":\"Any\",\"default\":\"row\"},{\"name\":\"flex_wrap\",\"kind\":\"Any\",\"default\":\"wrap\"},{\"name\":\"gap\",\"kind\":\"Any\",\"default\":\"\"},{\"name\":\"justify_content\",\"kind\":\"Any\",\"default\":\"flex-start\"}]},{\"type\":\"model\",\"name\":\"FloatPanel1\",\"properties\":[{\"name\":\"config\",\"kind\":\"Any\",\"default\":{\"type\":\"map\"}},{\"name\":\"contained\",\"kind\":\"Any\",\"default\":true},{\"name\":\"position\",\"kind\":\"Any\",\"default\":\"right-top\"},{\"name\":\"offsetx\",\"kind\":\"Any\",\"default\":null},{\"name\":\"offsety\",\"kind\":\"Any\",\"default\":null},{\"name\":\"theme\",\"kind\":\"Any\",\"default\":\"primary\"},{\"name\":\"status\",\"kind\":\"Any\",\"default\":\"normalized\"}]},{\"type\":\"model\",\"name\":\"GridStack1\",\"properties\":[{\"name\":\"mode\",\"kind\":\"Any\",\"default\":\"warn\"},{\"name\":\"ncols\",\"kind\":\"Any\",\"default\":null},{\"name\":\"nrows\",\"kind\":\"Any\",\"default\":null},{\"name\":\"allow_resize\",\"kind\":\"Any\",\"default\":true},{\"name\":\"allow_drag\",\"kind\":\"Any\",\"default\":true},{\"name\":\"state\",\"kind\":\"Any\",\"default\":[]}]},{\"type\":\"model\",\"name\":\"drag1\",\"properties\":[{\"name\":\"slider_width\",\"kind\":\"Any\",\"default\":5},{\"name\":\"slider_color\",\"kind\":\"Any\",\"default\":\"black\"},{\"name\":\"value\",\"kind\":\"Any\",\"default\":50}]},{\"type\":\"model\",\"name\":\"click1\",\"properties\":[{\"name\":\"terminal_output\",\"kind\":\"Any\",\"default\":\"\"},{\"name\":\"debug_name\",\"kind\":\"Any\",\"default\":\"\"},{\"name\":\"clears\",\"kind\":\"Any\",\"default\":0}]},{\"type\":\"model\",\"name\":\"FastWrapper1\",\"properties\":[{\"name\":\"object\",\"kind\":\"Any\",\"default\":null},{\"name\":\"style\",\"kind\":\"Any\",\"default\":null}]},{\"type\":\"model\",\"name\":\"NotificationAreaBase1\",\"properties\":[{\"name\":\"js_events\",\"kind\":\"Any\",\"default\":{\"type\":\"map\"}},{\"name\":\"position\",\"kind\":\"Any\",\"default\":\"bottom-right\"},{\"name\":\"_clear\",\"kind\":\"Any\",\"default\":0}]},{\"type\":\"model\",\"name\":\"NotificationArea1\",\"properties\":[{\"name\":\"js_events\",\"kind\":\"Any\",\"default\":{\"type\":\"map\"}},{\"name\":\"notifications\",\"kind\":\"Any\",\"default\":[]},{\"name\":\"position\",\"kind\":\"Any\",\"default\":\"bottom-right\"},{\"name\":\"_clear\",\"kind\":\"Any\",\"default\":0},{\"name\":\"types\",\"kind\":\"Any\",\"default\":[{\"type\":\"map\",\"entries\":[[\"type\",\"warning\"],[\"background\",\"#ffc107\"],[\"icon\",{\"type\":\"map\",\"entries\":[[\"className\",\"fas fa-exclamation-triangle\"],[\"tagName\",\"i\"],[\"color\",\"white\"]]}]]},{\"type\":\"map\",\"entries\":[[\"type\",\"info\"],[\"background\",\"#007bff\"],[\"icon\",{\"type\":\"map\",\"entries\":[[\"className\",\"fas fa-info-circle\"],[\"tagName\",\"i\"],[\"color\",\"white\"]]}]]}]}]},{\"type\":\"model\",\"name\":\"Notification\",\"properties\":[{\"name\":\"background\",\"kind\":\"Any\",\"default\":null},{\"name\":\"duration\",\"kind\":\"Any\",\"default\":3000},{\"name\":\"icon\",\"kind\":\"Any\",\"default\":null},{\"name\":\"message\",\"kind\":\"Any\",\"default\":\"\"},{\"name\":\"notification_type\",\"kind\":\"Any\",\"default\":null},{\"name\":\"_destroyed\",\"kind\":\"Any\",\"default\":false}]},{\"type\":\"model\",\"name\":\"TemplateActions1\",\"properties\":[{\"name\":\"open_modal\",\"kind\":\"Any\",\"default\":0},{\"name\":\"close_modal\",\"kind\":\"Any\",\"default\":0}]},{\"type\":\"model\",\"name\":\"BootstrapTemplateActions1\",\"properties\":[{\"name\":\"open_modal\",\"kind\":\"Any\",\"default\":0},{\"name\":\"close_modal\",\"kind\":\"Any\",\"default\":0}]},{\"type\":\"model\",\"name\":\"TemplateEditor1\",\"properties\":[{\"name\":\"layout\",\"kind\":\"Any\",\"default\":[]}]},{\"type\":\"model\",\"name\":\"MaterialTemplateActions1\",\"properties\":[{\"name\":\"open_modal\",\"kind\":\"Any\",\"default\":0},{\"name\":\"close_modal\",\"kind\":\"Any\",\"default\":0}]},{\"type\":\"model\",\"name\":\"ReactiveESM1\"},{\"type\":\"model\",\"name\":\"JSComponent1\"},{\"type\":\"model\",\"name\":\"ReactComponent1\"},{\"type\":\"model\",\"name\":\"AnyWidgetComponent1\"},{\"type\":\"model\",\"name\":\"request_value1\",\"properties\":[{\"name\":\"fill\",\"kind\":\"Any\",\"default\":\"none\"},{\"name\":\"_synced\",\"kind\":\"Any\",\"default\":null},{\"name\":\"_request_sync\",\"kind\":\"Any\",\"default\":0}]}]}};\n",
              "  var render_items = [{\"docid\":\"a509e873-abfc-4bf8-aac7-213e0d1245a2\",\"roots\":{\"p1013\":\"f75b70c7-12a1-4b4a-bb6f-5cac82adb154\"},\"root_ids\":[\"p1013\"]}];\n",
              "  var docs = Object.values(docs_json)\n",
              "  if (!docs) {\n",
              "    return\n",
              "  }\n",
              "  const py_version = docs[0].version.replace('rc', '-rc.').replace('.dev', '-dev.')\n",
              "  async function embed_document(root) {\n",
              "    var Bokeh = get_bokeh(root)\n",
              "    await Bokeh.embed.embed_items_notebook(docs_json, render_items);\n",
              "    for (const render_item of render_items) {\n",
              "      for (const root_id of render_item.root_ids) {\n",
              "\tconst id_el = document.getElementById(root_id)\n",
              "\tif (id_el.children.length && id_el.children[0].hasAttribute('data-root-id')) {\n",
              "\t  const root_el = id_el.children[0]\n",
              "\t  root_el.id = root_el.id + '-rendered'\n",
              "\t  for (const child of root_el.children) {\n",
              "            // Ensure JupyterLab does not capture keyboard shortcuts\n",
              "            // see: https://jupyterlab.readthedocs.io/en/4.1.x/extension/notebook.html#keyboard-interaction-model\n",
              "\t    child.setAttribute('data-lm-suppress-shortcuts', 'true')\n",
              "\t  }\n",
              "\t}\n",
              "      }\n",
              "    }\n",
              "  }\n",
              "  function get_bokeh(root) {\n",
              "    if (root.Bokeh === undefined) {\n",
              "      return null\n",
              "    } else if (root.Bokeh.version !== py_version) {\n",
              "      if (root.Bokeh.versions === undefined || !root.Bokeh.versions.has(py_version)) {\n",
              "\treturn null\n",
              "      }\n",
              "      return root.Bokeh.versions.get(py_version);\n",
              "    } else if (root.Bokeh.version === py_version) {\n",
              "      return root.Bokeh\n",
              "    }\n",
              "    return null\n",
              "  }\n",
              "  function is_loaded(root) {\n",
              "    var Bokeh = get_bokeh(root)\n",
              "    return (Bokeh != null && Bokeh.Panel !== undefined)\n",
              "  }\n",
              "  if (is_loaded(root)) {\n",
              "    embed_document(root);\n",
              "  } else {\n",
              "    var attempts = 0;\n",
              "    var timer = setInterval(function(root) {\n",
              "      if (is_loaded(root)) {\n",
              "        clearInterval(timer);\n",
              "        embed_document(root);\n",
              "      } else if (document.readyState == \"complete\") {\n",
              "        attempts++;\n",
              "        if (attempts > 200) {\n",
              "          clearInterval(timer);\n",
              "\t  var Bokeh = get_bokeh(root)\n",
              "\t  if (Bokeh == null || Bokeh.Panel == null) {\n",
              "            console.warn(\"Panel: ERROR: Unable to run Panel code because Bokeh or Panel library is missing\");\n",
              "\t  } else {\n",
              "\t    console.warn(\"Panel: WARNING: Attempting to render but not all required libraries could be resolved.\")\n",
              "\t    embed_document(root)\n",
              "\t  }\n",
              "        }\n",
              "      }\n",
              "    }, 25, root)\n",
              "  }\n",
              "})(window);</script>"
            ],
            "text/plain": [
              ":Overlay\n",
              "   .WMTS.I     :WMTS   [Longitude,Latitude]\n",
              "   .Polygons.I :Polygons   [Longitude,Latitude]"
            ]
          },
          "execution_count": 8,
          "metadata": {
            "application/vnd.holoviews_exec.v0+json": {
              "id": "p1013"
            }
          },
          "output_type": "execute_result"
        }
      ],
      "source": [
        "# create site map with hvplot\n",
        "(\n",
        "    wbd_gdf\n",
        "    .hvplot(\n",
        "        # geographic plot, lat/lon axes\n",
        "        geo=True,\n",
        "        # overlay plot on EsriImagery tiles\n",
        "        tiles='EsriImagery',\n",
        "        # fill color\n",
        "        color='white',\n",
        "        # transparency of fill color\n",
        "        alpha=0.4,\n",
        "        # line color\n",
        "        line_color='red',\n",
        "        # define title\n",
        "        title='080902030506 Watershed Boundary in Louisiana, USA',\n",
        "        # define size of plot\n",
        "        frame_width=400\n",
        "    )\n",
        ")"
      ]
    },
    {
      "cell_type": "markdown",
      "id": "ebfd6cef",
      "metadata": {},
      "source": [
        "<span style=\"color: maroon;\">\n",
        "\n",
        "**SITE DESCRIPTION:**\n",
        "\n",
        "Watershed 080902030506 is in Louisiana, USA, southeast of New Orleans. According to Naitve Land Digital, the watershed is on the Indigenous territories of the [Chahta Yakni (Choctaw)](https://native-land.ca/maps/territories/chahta-choctaw), [Houma](https://native-land.ca/maps/territories/houma-2), and [Chitimacha](https://native-land.ca/maps/territories/chitimacha-2) people. The Mississippi river runs north to south on the east side of the waterhsed. Lake Lery is on the north east side of the watershed. This watershed is in Louisiana's [8th of 9 watersheds](https://watershed.la.gov/watershed-regions). According to [Louisiana's current Region 8 flood risk report](https://d10zxfp0rexahe.cloudfront.net/docs/Region-8-PDF.pdf), this region of Louisiana is subject to 3 main different types of flooding: fluvial/river, costal/surge and tidal, and pluvial/rainfall-induced flash floods and urban flooding. Watershed 080902030506 is also classified as medium-high in the CDC social vulnerability index based on socioeconimic status, household composition and disability, minority status and language, and housing and transportation. \n",
        "\n",
        "</span>\n",
        "\n",
        "Extra links, may or may not use:\n",
        "\n",
        "how's my waterway (water condition info): https://mywaterway.epa.gov/community/080902030506/overview\n",
        "\n",
        "about the wbd: https://www.usgs.gov/national-hydrography/watershed-boundary-dataset\n"
      ]
    },
    {
      "cell_type": "markdown",
      "id": "f9903174-b87c-4026-8564-bd3e62dbfd14",
      "metadata": {},
      "source": [
        "## STEP 3: MULTISPECTRAL DATA\n",
        "\n",
        "### Search for data\n",
        "\n",
        "<link rel=\"stylesheet\" type=\"text/css\" href=\"./assets/styles.css\"><div class=\"callout callout-style-default callout-titled callout-task\"><div class=\"callout-header\"><div class=\"callout-icon-container\"><i class=\"callout-icon\"></i></div><div class=\"callout-title-container flex-fill\">Try It</div></div><div class=\"callout-body-container callout-body\"><ol type=\"1\">\n",
        "<li>Log in to the <code>earthaccess</code> service using your Earthdata\n",
        "credentials:\n",
        "<code>python      earthaccess.login(persist=True)</code></li>\n",
        "<li>Modify the following sample code to search for granules of the\n",
        "HLSL30 product overlapping the watershed boundary from May to October\n",
        "2023 (there should be 76 granules):\n",
        "<code>python      results = earthaccess.search_data(          short_name=\"...\",          cloud_hosted=True,          bounding_box=tuple(gdf.total_bounds),          temporal=(\"...\", \"...\"),      )</code></li>\n",
        "</ol></div></div>"
      ]
    },
    {
      "cell_type": "markdown",
      "id": "e1e30a8d",
      "metadata": {},
      "source": [
        "HLSL30 info from the NASA worldview site:\n",
        "\n",
        "\"The Harmonized Landsat Sentinel-2 (HLS) project brings us 30 meter resolution true color surface reflectance imagery from the Operational Land Imager (OLI) instrument aboard the NASA/USGS Landsat 8 and 9 satellites, and the Multi-Spectral Instrument (MSI) aboard the European Space Agency (ESA) Sentinel-2A and Sentinel-2B satellites.\""
      ]
    },
    {
      "cell_type": "code",
      "execution_count": 9,
      "id": "ec44285e",
      "metadata": {
        "highlight": true
      },
      "outputs": [
        {
          "data": {
            "text/plain": [
              "<earthaccess.auth.Auth at 0x258814a0790>"
            ]
          },
          "execution_count": 9,
          "metadata": {},
          "output_type": "execute_result"
        }
      ],
      "source": [
        "# Log in to earthaccess\n",
        "earthaccess.login(strategy=\"interactive\", persist=True)"
      ]
    },
    {
      "cell_type": "code",
      "execution_count": 10,
      "id": "b0bdc94f",
      "metadata": {},
      "outputs": [
        {
          "data": {
            "text/plain": [
              "[Collection: {'EntryTitle': 'HLS Landsat Operational Land Imager Surface Reflectance and TOA Brightness Daily Global 30m v2.0'}\n",
              " Spatial coverage: {'HorizontalSpatialDomain': {'Geometry': {'GPolygons': [{'Boundary': {'Points': [{'Longitude': -90.07372506, 'Latitude': 28.80444525}, {'Longitude': -89.57473392, 'Latitude': 28.81489352}, {'Longitude': -89.30816409, 'Latitude': 29.81030157}, {'Longitude': -90.10353675, 'Latitude': 29.79400715}, {'Longitude': -90.07372506, 'Latitude': 28.80444525}]}}]}}}\n",
              " Temporal coverage: {'RangeDateTime': {'BeginningDateTime': '2023-05-04T16:31:32.101Z', 'EndingDateTime': '2023-05-04T16:31:55.992Z'}}\n",
              " Size(MB): 87.65197467803955\n",
              " Data: ['https://data.lpdaac.earthdatacloud.nasa.gov/lp-prod-protected/HLSL30.020/HLS.L30.T16RBT.2023124T163132.v2.0/HLS.L30.T16RBT.2023124T163132.v2.0.B03.tif', 'https://data.lpdaac.earthdatacloud.nasa.gov/lp-prod-protected/HLSL30.020/HLS.L30.T16RBT.2023124T163132.v2.0/HLS.L30.T16RBT.2023124T163132.v2.0.B07.tif', 'https://data.lpdaac.earthdatacloud.nasa.gov/lp-prod-protected/HLSL30.020/HLS.L30.T16RBT.2023124T163132.v2.0/HLS.L30.T16RBT.2023124T163132.v2.0.B06.tif', 'https://data.lpdaac.earthdatacloud.nasa.gov/lp-prod-protected/HLSL30.020/HLS.L30.T16RBT.2023124T163132.v2.0/HLS.L30.T16RBT.2023124T163132.v2.0.B02.tif', 'https://data.lpdaac.earthdatacloud.nasa.gov/lp-prod-protected/HLSL30.020/HLS.L30.T16RBT.2023124T163132.v2.0/HLS.L30.T16RBT.2023124T163132.v2.0.B01.tif', 'https://data.lpdaac.earthdatacloud.nasa.gov/lp-prod-protected/HLSL30.020/HLS.L30.T16RBT.2023124T163132.v2.0/HLS.L30.T16RBT.2023124T163132.v2.0.Fmask.tif', 'https://data.lpdaac.earthdatacloud.nasa.gov/lp-prod-protected/HLSL30.020/HLS.L30.T16RBT.2023124T163132.v2.0/HLS.L30.T16RBT.2023124T163132.v2.0.SZA.tif', 'https://data.lpdaac.earthdatacloud.nasa.gov/lp-prod-protected/HLSL30.020/HLS.L30.T16RBT.2023124T163132.v2.0/HLS.L30.T16RBT.2023124T163132.v2.0.SAA.tif', 'https://data.lpdaac.earthdatacloud.nasa.gov/lp-prod-protected/HLSL30.020/HLS.L30.T16RBT.2023124T163132.v2.0/HLS.L30.T16RBT.2023124T163132.v2.0.B05.tif', 'https://data.lpdaac.earthdatacloud.nasa.gov/lp-prod-protected/HLSL30.020/HLS.L30.T16RBT.2023124T163132.v2.0/HLS.L30.T16RBT.2023124T163132.v2.0.VAA.tif', 'https://data.lpdaac.earthdatacloud.nasa.gov/lp-prod-protected/HLSL30.020/HLS.L30.T16RBT.2023124T163132.v2.0/HLS.L30.T16RBT.2023124T163132.v2.0.B10.tif', 'https://data.lpdaac.earthdatacloud.nasa.gov/lp-prod-protected/HLSL30.020/HLS.L30.T16RBT.2023124T163132.v2.0/HLS.L30.T16RBT.2023124T163132.v2.0.B09.tif', 'https://data.lpdaac.earthdatacloud.nasa.gov/lp-prod-protected/HLSL30.020/HLS.L30.T16RBT.2023124T163132.v2.0/HLS.L30.T16RBT.2023124T163132.v2.0.B11.tif', 'https://data.lpdaac.earthdatacloud.nasa.gov/lp-prod-protected/HLSL30.020/HLS.L30.T16RBT.2023124T163132.v2.0/HLS.L30.T16RBT.2023124T163132.v2.0.B04.tif', 'https://data.lpdaac.earthdatacloud.nasa.gov/lp-prod-protected/HLSL30.020/HLS.L30.T16RBT.2023124T163132.v2.0/HLS.L30.T16RBT.2023124T163132.v2.0.VZA.tif'],\n",
              " Collection: {'EntryTitle': 'HLS Landsat Operational Land Imager Surface Reflectance and TOA Brightness Daily Global 30m v2.0'}\n",
              " Spatial coverage: {'HorizontalSpatialDomain': {'Geometry': {'GPolygons': [{'Boundary': {'Points': [{'Longitude': -89.82661214, 'Latitude': 28.80213717}, {'Longitude': -89.79583778, 'Latitude': 29.79160422}, {'Longitude': -90.93082361, 'Latitude': 29.81426153}, {'Longitude': -90.95072084, 'Latitude': 28.82389994}, {'Longitude': -89.82661214, 'Latitude': 28.80213717}]}}]}}}\n",
              " Temporal coverage: {'RangeDateTime': {'BeginningDateTime': '2023-05-04T16:31:32.101Z', 'EndingDateTime': '2023-05-04T16:31:55.992Z'}}\n",
              " Size(MB): 150.90150451660156\n",
              " Data: ['https://data.lpdaac.earthdatacloud.nasa.gov/lp-prod-protected/HLSL30.020/HLS.L30.T15RYN.2023124T163132.v2.0/HLS.L30.T15RYN.2023124T163132.v2.0.B03.tif', 'https://data.lpdaac.earthdatacloud.nasa.gov/lp-prod-protected/HLSL30.020/HLS.L30.T15RYN.2023124T163132.v2.0/HLS.L30.T15RYN.2023124T163132.v2.0.VAA.tif', 'https://data.lpdaac.earthdatacloud.nasa.gov/lp-prod-protected/HLSL30.020/HLS.L30.T15RYN.2023124T163132.v2.0/HLS.L30.T15RYN.2023124T163132.v2.0.B01.tif', 'https://data.lpdaac.earthdatacloud.nasa.gov/lp-prod-protected/HLSL30.020/HLS.L30.T15RYN.2023124T163132.v2.0/HLS.L30.T15RYN.2023124T163132.v2.0.B02.tif', 'https://data.lpdaac.earthdatacloud.nasa.gov/lp-prod-protected/HLSL30.020/HLS.L30.T15RYN.2023124T163132.v2.0/HLS.L30.T15RYN.2023124T163132.v2.0.B06.tif', 'https://data.lpdaac.earthdatacloud.nasa.gov/lp-prod-protected/HLSL30.020/HLS.L30.T15RYN.2023124T163132.v2.0/HLS.L30.T15RYN.2023124T163132.v2.0.B09.tif', 'https://data.lpdaac.earthdatacloud.nasa.gov/lp-prod-protected/HLSL30.020/HLS.L30.T15RYN.2023124T163132.v2.0/HLS.L30.T15RYN.2023124T163132.v2.0.B04.tif', 'https://data.lpdaac.earthdatacloud.nasa.gov/lp-prod-protected/HLSL30.020/HLS.L30.T15RYN.2023124T163132.v2.0/HLS.L30.T15RYN.2023124T163132.v2.0.B10.tif', 'https://data.lpdaac.earthdatacloud.nasa.gov/lp-prod-protected/HLSL30.020/HLS.L30.T15RYN.2023124T163132.v2.0/HLS.L30.T15RYN.2023124T163132.v2.0.VZA.tif', 'https://data.lpdaac.earthdatacloud.nasa.gov/lp-prod-protected/HLSL30.020/HLS.L30.T15RYN.2023124T163132.v2.0/HLS.L30.T15RYN.2023124T163132.v2.0.SZA.tif', 'https://data.lpdaac.earthdatacloud.nasa.gov/lp-prod-protected/HLSL30.020/HLS.L30.T15RYN.2023124T163132.v2.0/HLS.L30.T15RYN.2023124T163132.v2.0.Fmask.tif', 'https://data.lpdaac.earthdatacloud.nasa.gov/lp-prod-protected/HLSL30.020/HLS.L30.T15RYN.2023124T163132.v2.0/HLS.L30.T15RYN.2023124T163132.v2.0.SAA.tif', 'https://data.lpdaac.earthdatacloud.nasa.gov/lp-prod-protected/HLSL30.020/HLS.L30.T15RYN.2023124T163132.v2.0/HLS.L30.T15RYN.2023124T163132.v2.0.B05.tif', 'https://data.lpdaac.earthdatacloud.nasa.gov/lp-prod-protected/HLSL30.020/HLS.L30.T15RYN.2023124T163132.v2.0/HLS.L30.T15RYN.2023124T163132.v2.0.B11.tif', 'https://data.lpdaac.earthdatacloud.nasa.gov/lp-prod-protected/HLSL30.020/HLS.L30.T15RYN.2023124T163132.v2.0/HLS.L30.T15RYN.2023124T163132.v2.0.B07.tif'],\n",
              " Collection: {'EntryTitle': 'HLS Landsat Operational Land Imager Surface Reflectance and TOA Brightness Daily Global 30m v2.0'}\n",
              " Spatial coverage: {'HorizontalSpatialDomain': {'Geometry': {'GPolygons': [{'Boundary': {'Points': [{'Longitude': -89.79864173, 'Latitude': 29.70347853}, {'Longitude': -89.76643746, 'Latitude': 30.69278312}, {'Longitude': -90.91181412, 'Latitude': 30.71627038}, {'Longitude': -90.93263654, 'Latitude': 29.72605548}, {'Longitude': -89.79864173, 'Latitude': 29.70347853}]}}]}}}\n",
              " Temporal coverage: {'RangeDateTime': {'BeginningDateTime': '2023-05-04T16:31:32.101Z', 'EndingDateTime': '2023-05-04T16:31:32.101Z'}}\n",
              " Size(MB): 182.54740524291992\n",
              " Data: ['https://data.lpdaac.earthdatacloud.nasa.gov/lp-prod-protected/HLSL30.020/HLS.L30.T15RYP.2023124T163132.v2.0/HLS.L30.T15RYP.2023124T163132.v2.0.VZA.tif', 'https://data.lpdaac.earthdatacloud.nasa.gov/lp-prod-protected/HLSL30.020/HLS.L30.T15RYP.2023124T163132.v2.0/HLS.L30.T15RYP.2023124T163132.v2.0.B09.tif', 'https://data.lpdaac.earthdatacloud.nasa.gov/lp-prod-protected/HLSL30.020/HLS.L30.T15RYP.2023124T163132.v2.0/HLS.L30.T15RYP.2023124T163132.v2.0.B01.tif', 'https://data.lpdaac.earthdatacloud.nasa.gov/lp-prod-protected/HLSL30.020/HLS.L30.T15RYP.2023124T163132.v2.0/HLS.L30.T15RYP.2023124T163132.v2.0.SAA.tif', 'https://data.lpdaac.earthdatacloud.nasa.gov/lp-prod-protected/HLSL30.020/HLS.L30.T15RYP.2023124T163132.v2.0/HLS.L30.T15RYP.2023124T163132.v2.0.Fmask.tif', 'https://data.lpdaac.earthdatacloud.nasa.gov/lp-prod-protected/HLSL30.020/HLS.L30.T15RYP.2023124T163132.v2.0/HLS.L30.T15RYP.2023124T163132.v2.0.SZA.tif', 'https://data.lpdaac.earthdatacloud.nasa.gov/lp-prod-protected/HLSL30.020/HLS.L30.T15RYP.2023124T163132.v2.0/HLS.L30.T15RYP.2023124T163132.v2.0.B07.tif', 'https://data.lpdaac.earthdatacloud.nasa.gov/lp-prod-protected/HLSL30.020/HLS.L30.T15RYP.2023124T163132.v2.0/HLS.L30.T15RYP.2023124T163132.v2.0.B11.tif', 'https://data.lpdaac.earthdatacloud.nasa.gov/lp-prod-protected/HLSL30.020/HLS.L30.T15RYP.2023124T163132.v2.0/HLS.L30.T15RYP.2023124T163132.v2.0.B02.tif', 'https://data.lpdaac.earthdatacloud.nasa.gov/lp-prod-protected/HLSL30.020/HLS.L30.T15RYP.2023124T163132.v2.0/HLS.L30.T15RYP.2023124T163132.v2.0.B06.tif', 'https://data.lpdaac.earthdatacloud.nasa.gov/lp-prod-protected/HLSL30.020/HLS.L30.T15RYP.2023124T163132.v2.0/HLS.L30.T15RYP.2023124T163132.v2.0.B05.tif', 'https://data.lpdaac.earthdatacloud.nasa.gov/lp-prod-protected/HLSL30.020/HLS.L30.T15RYP.2023124T163132.v2.0/HLS.L30.T15RYP.2023124T163132.v2.0.B04.tif', 'https://data.lpdaac.earthdatacloud.nasa.gov/lp-prod-protected/HLSL30.020/HLS.L30.T15RYP.2023124T163132.v2.0/HLS.L30.T15RYP.2023124T163132.v2.0.B03.tif', 'https://data.lpdaac.earthdatacloud.nasa.gov/lp-prod-protected/HLSL30.020/HLS.L30.T15RYP.2023124T163132.v2.0/HLS.L30.T15RYP.2023124T163132.v2.0.VAA.tif', 'https://data.lpdaac.earthdatacloud.nasa.gov/lp-prod-protected/HLSL30.020/HLS.L30.T15RYP.2023124T163132.v2.0/HLS.L30.T15RYP.2023124T163132.v2.0.B10.tif'],\n",
              " Collection: {'EntryTitle': 'HLS Landsat Operational Land Imager Surface Reflectance and TOA Brightness Daily Global 30m v2.0'}\n",
              " Spatial coverage: {'HorizontalSpatialDomain': {'Geometry': {'GPolygons': [{'Boundary': {'Points': [{'Longitude': -90.10082051, 'Latitude': 29.70587294}, {'Longitude': -89.33186665, 'Latitude': 29.72165875}, {'Longitude': -89.06167519, 'Latitude': 30.71669426}, {'Longitude': -90.13201749, 'Latitude': 30.69527405}, {'Longitude': -90.10082051, 'Latitude': 29.70587294}]}}]}}}\n",
              " Temporal coverage: {'RangeDateTime': {'BeginningDateTime': '2023-05-04T16:31:32.101Z', 'EndingDateTime': '2023-05-04T16:31:32.101Z'}}\n",
              " Size(MB): 145.7371473312378\n",
              " Data: ['https://data.lpdaac.earthdatacloud.nasa.gov/lp-prod-protected/HLSL30.020/HLS.L30.T16RBU.2023124T163132.v2.0/HLS.L30.T16RBU.2023124T163132.v2.0.B11.tif', 'https://data.lpdaac.earthdatacloud.nasa.gov/lp-prod-protected/HLSL30.020/HLS.L30.T16RBU.2023124T163132.v2.0/HLS.L30.T16RBU.2023124T163132.v2.0.B09.tif', 'https://data.lpdaac.earthdatacloud.nasa.gov/lp-prod-protected/HLSL30.020/HLS.L30.T16RBU.2023124T163132.v2.0/HLS.L30.T16RBU.2023124T163132.v2.0.B07.tif', 'https://data.lpdaac.earthdatacloud.nasa.gov/lp-prod-protected/HLSL30.020/HLS.L30.T16RBU.2023124T163132.v2.0/HLS.L30.T16RBU.2023124T163132.v2.0.B10.tif', 'https://data.lpdaac.earthdatacloud.nasa.gov/lp-prod-protected/HLSL30.020/HLS.L30.T16RBU.2023124T163132.v2.0/HLS.L30.T16RBU.2023124T163132.v2.0.B06.tif', 'https://data.lpdaac.earthdatacloud.nasa.gov/lp-prod-protected/HLSL30.020/HLS.L30.T16RBU.2023124T163132.v2.0/HLS.L30.T16RBU.2023124T163132.v2.0.SZA.tif', 'https://data.lpdaac.earthdatacloud.nasa.gov/lp-prod-protected/HLSL30.020/HLS.L30.T16RBU.2023124T163132.v2.0/HLS.L30.T16RBU.2023124T163132.v2.0.B02.tif', 'https://data.lpdaac.earthdatacloud.nasa.gov/lp-prod-protected/HLSL30.020/HLS.L30.T16RBU.2023124T163132.v2.0/HLS.L30.T16RBU.2023124T163132.v2.0.SAA.tif', 'https://data.lpdaac.earthdatacloud.nasa.gov/lp-prod-protected/HLSL30.020/HLS.L30.T16RBU.2023124T163132.v2.0/HLS.L30.T16RBU.2023124T163132.v2.0.B04.tif', 'https://data.lpdaac.earthdatacloud.nasa.gov/lp-prod-protected/HLSL30.020/HLS.L30.T16RBU.2023124T163132.v2.0/HLS.L30.T16RBU.2023124T163132.v2.0.VZA.tif', 'https://data.lpdaac.earthdatacloud.nasa.gov/lp-prod-protected/HLSL30.020/HLS.L30.T16RBU.2023124T163132.v2.0/HLS.L30.T16RBU.2023124T163132.v2.0.Fmask.tif', 'https://data.lpdaac.earthdatacloud.nasa.gov/lp-prod-protected/HLSL30.020/HLS.L30.T16RBU.2023124T163132.v2.0/HLS.L30.T16RBU.2023124T163132.v2.0.VAA.tif', 'https://data.lpdaac.earthdatacloud.nasa.gov/lp-prod-protected/HLSL30.020/HLS.L30.T16RBU.2023124T163132.v2.0/HLS.L30.T16RBU.2023124T163132.v2.0.B01.tif', 'https://data.lpdaac.earthdatacloud.nasa.gov/lp-prod-protected/HLSL30.020/HLS.L30.T16RBU.2023124T163132.v2.0/HLS.L30.T16RBU.2023124T163132.v2.0.B05.tif', 'https://data.lpdaac.earthdatacloud.nasa.gov/lp-prod-protected/HLSL30.020/HLS.L30.T16RBU.2023124T163132.v2.0/HLS.L30.T16RBU.2023124T163132.v2.0.B03.tif'],\n",
              " Collection: {'EntryTitle': 'HLS Landsat Operational Land Imager Surface Reflectance and TOA Brightness Daily Global 30m v2.0'}\n",
              " Spatial coverage: {'HorizontalSpatialDomain': {'Geometry': {'GPolygons': [{'Boundary': {'Points': [{'Longitude': -90.07372506, 'Latitude': 28.80444525}, {'Longitude': -89.56183352, 'Latitude': 28.81513915}, {'Longitude': -89.29513529, 'Latitude': 29.81052861}, {'Longitude': -90.10353675, 'Latitude': 29.79400715}, {'Longitude': -90.07372506, 'Latitude': 28.80444525}]}}]}}}\n",
              " Temporal coverage: {'RangeDateTime': {'BeginningDateTime': '2023-05-12T16:31:44.329Z', 'EndingDateTime': '2023-05-12T16:32:08.220Z'}}\n",
              " Size(MB): 98.77182960510254\n",
              " Data: ['https://data.lpdaac.earthdatacloud.nasa.gov/lp-prod-protected/HLSL30.020/HLS.L30.T16RBT.2023132T163144.v2.0/HLS.L30.T16RBT.2023132T163144.v2.0.B02.tif', 'https://data.lpdaac.earthdatacloud.nasa.gov/lp-prod-protected/HLSL30.020/HLS.L30.T16RBT.2023132T163144.v2.0/HLS.L30.T16RBT.2023132T163144.v2.0.Fmask.tif', 'https://data.lpdaac.earthdatacloud.nasa.gov/lp-prod-protected/HLSL30.020/HLS.L30.T16RBT.2023132T163144.v2.0/HLS.L30.T16RBT.2023132T163144.v2.0.B01.tif', 'https://data.lpdaac.earthdatacloud.nasa.gov/lp-prod-protected/HLSL30.020/HLS.L30.T16RBT.2023132T163144.v2.0/HLS.L30.T16RBT.2023132T163144.v2.0.B03.tif', 'https://data.lpdaac.earthdatacloud.nasa.gov/lp-prod-protected/HLSL30.020/HLS.L30.T16RBT.2023132T163144.v2.0/HLS.L30.T16RBT.2023132T163144.v2.0.B07.tif', 'https://data.lpdaac.earthdatacloud.nasa.gov/lp-prod-protected/HLSL30.020/HLS.L30.T16RBT.2023132T163144.v2.0/HLS.L30.T16RBT.2023132T163144.v2.0.B10.tif', 'https://data.lpdaac.earthdatacloud.nasa.gov/lp-prod-protected/HLSL30.020/HLS.L30.T16RBT.2023132T163144.v2.0/HLS.L30.T16RBT.2023132T163144.v2.0.SZA.tif', 'https://data.lpdaac.earthdatacloud.nasa.gov/lp-prod-protected/HLSL30.020/HLS.L30.T16RBT.2023132T163144.v2.0/HLS.L30.T16RBT.2023132T163144.v2.0.B04.tif', 'https://data.lpdaac.earthdatacloud.nasa.gov/lp-prod-protected/HLSL30.020/HLS.L30.T16RBT.2023132T163144.v2.0/HLS.L30.T16RBT.2023132T163144.v2.0.VZA.tif', 'https://data.lpdaac.earthdatacloud.nasa.gov/lp-prod-protected/HLSL30.020/HLS.L30.T16RBT.2023132T163144.v2.0/HLS.L30.T16RBT.2023132T163144.v2.0.SAA.tif', 'https://data.lpdaac.earthdatacloud.nasa.gov/lp-prod-protected/HLSL30.020/HLS.L30.T16RBT.2023132T163144.v2.0/HLS.L30.T16RBT.2023132T163144.v2.0.VAA.tif', 'https://data.lpdaac.earthdatacloud.nasa.gov/lp-prod-protected/HLSL30.020/HLS.L30.T16RBT.2023132T163144.v2.0/HLS.L30.T16RBT.2023132T163144.v2.0.B11.tif', 'https://data.lpdaac.earthdatacloud.nasa.gov/lp-prod-protected/HLSL30.020/HLS.L30.T16RBT.2023132T163144.v2.0/HLS.L30.T16RBT.2023132T163144.v2.0.B09.tif', 'https://data.lpdaac.earthdatacloud.nasa.gov/lp-prod-protected/HLSL30.020/HLS.L30.T16RBT.2023132T163144.v2.0/HLS.L30.T16RBT.2023132T163144.v2.0.B05.tif', 'https://data.lpdaac.earthdatacloud.nasa.gov/lp-prod-protected/HLSL30.020/HLS.L30.T16RBT.2023132T163144.v2.0/HLS.L30.T16RBT.2023132T163144.v2.0.B06.tif'],\n",
              " Collection: {'EntryTitle': 'HLS Landsat Operational Land Imager Surface Reflectance and TOA Brightness Daily Global 30m v2.0'}\n",
              " Spatial coverage: {'HorizontalSpatialDomain': {'Geometry': {'GPolygons': [{'Boundary': {'Points': [{'Longitude': -89.79864173, 'Latitude': 29.70347853}, {'Longitude': -89.76643746, 'Latitude': 30.69278312}, {'Longitude': -90.91181412, 'Latitude': 30.71627038}, {'Longitude': -90.93263654, 'Latitude': 29.72605548}, {'Longitude': -89.79864173, 'Latitude': 29.70347853}]}}]}}}\n",
              " Temporal coverage: {'RangeDateTime': {'BeginningDateTime': '2023-05-12T16:31:44.329Z', 'EndingDateTime': '2023-05-12T16:31:44.329Z'}}\n",
              " Size(MB): 193.45716381072998\n",
              " Data: ['https://data.lpdaac.earthdatacloud.nasa.gov/lp-prod-protected/HLSL30.020/HLS.L30.T15RYP.2023132T163144.v2.0/HLS.L30.T15RYP.2023132T163144.v2.0.SAA.tif', 'https://data.lpdaac.earthdatacloud.nasa.gov/lp-prod-protected/HLSL30.020/HLS.L30.T15RYP.2023132T163144.v2.0/HLS.L30.T15RYP.2023132T163144.v2.0.B06.tif', 'https://data.lpdaac.earthdatacloud.nasa.gov/lp-prod-protected/HLSL30.020/HLS.L30.T15RYP.2023132T163144.v2.0/HLS.L30.T15RYP.2023132T163144.v2.0.B07.tif', 'https://data.lpdaac.earthdatacloud.nasa.gov/lp-prod-protected/HLSL30.020/HLS.L30.T15RYP.2023132T163144.v2.0/HLS.L30.T15RYP.2023132T163144.v2.0.Fmask.tif', 'https://data.lpdaac.earthdatacloud.nasa.gov/lp-prod-protected/HLSL30.020/HLS.L30.T15RYP.2023132T163144.v2.0/HLS.L30.T15RYP.2023132T163144.v2.0.B03.tif', 'https://data.lpdaac.earthdatacloud.nasa.gov/lp-prod-protected/HLSL30.020/HLS.L30.T15RYP.2023132T163144.v2.0/HLS.L30.T15RYP.2023132T163144.v2.0.B11.tif', 'https://data.lpdaac.earthdatacloud.nasa.gov/lp-prod-protected/HLSL30.020/HLS.L30.T15RYP.2023132T163144.v2.0/HLS.L30.T15RYP.2023132T163144.v2.0.B01.tif', 'https://data.lpdaac.earthdatacloud.nasa.gov/lp-prod-protected/HLSL30.020/HLS.L30.T15RYP.2023132T163144.v2.0/HLS.L30.T15RYP.2023132T163144.v2.0.B04.tif', 'https://data.lpdaac.earthdatacloud.nasa.gov/lp-prod-protected/HLSL30.020/HLS.L30.T15RYP.2023132T163144.v2.0/HLS.L30.T15RYP.2023132T163144.v2.0.B10.tif', 'https://data.lpdaac.earthdatacloud.nasa.gov/lp-prod-protected/HLSL30.020/HLS.L30.T15RYP.2023132T163144.v2.0/HLS.L30.T15RYP.2023132T163144.v2.0.B05.tif', 'https://data.lpdaac.earthdatacloud.nasa.gov/lp-prod-protected/HLSL30.020/HLS.L30.T15RYP.2023132T163144.v2.0/HLS.L30.T15RYP.2023132T163144.v2.0.VAA.tif', 'https://data.lpdaac.earthdatacloud.nasa.gov/lp-prod-protected/HLSL30.020/HLS.L30.T15RYP.2023132T163144.v2.0/HLS.L30.T15RYP.2023132T163144.v2.0.B09.tif', 'https://data.lpdaac.earthdatacloud.nasa.gov/lp-prod-protected/HLSL30.020/HLS.L30.T15RYP.2023132T163144.v2.0/HLS.L30.T15RYP.2023132T163144.v2.0.VZA.tif', 'https://data.lpdaac.earthdatacloud.nasa.gov/lp-prod-protected/HLSL30.020/HLS.L30.T15RYP.2023132T163144.v2.0/HLS.L30.T15RYP.2023132T163144.v2.0.SZA.tif', 'https://data.lpdaac.earthdatacloud.nasa.gov/lp-prod-protected/HLSL30.020/HLS.L30.T15RYP.2023132T163144.v2.0/HLS.L30.T15RYP.2023132T163144.v2.0.B02.tif'],\n",
              " Collection: {'EntryTitle': 'HLS Landsat Operational Land Imager Surface Reflectance and TOA Brightness Daily Global 30m v2.0'}\n",
              " Spatial coverage: {'HorizontalSpatialDomain': {'Geometry': {'GPolygons': [{'Boundary': {'Points': [{'Longitude': -89.82661214, 'Latitude': 28.80213717}, {'Longitude': -89.79583778, 'Latitude': 29.79160422}, {'Longitude': -90.93082361, 'Latitude': 29.81426153}, {'Longitude': -90.95072084, 'Latitude': 28.82389994}, {'Longitude': -89.82661214, 'Latitude': 28.80213717}]}}]}}}\n",
              " Temporal coverage: {'RangeDateTime': {'BeginningDateTime': '2023-05-12T16:31:44.329Z', 'EndingDateTime': '2023-05-12T16:32:08.220Z'}}\n",
              " Size(MB): 178.97075939178467\n",
              " Data: ['https://data.lpdaac.earthdatacloud.nasa.gov/lp-prod-protected/HLSL30.020/HLS.L30.T15RYN.2023132T163144.v2.0/HLS.L30.T15RYN.2023132T163144.v2.0.B09.tif', 'https://data.lpdaac.earthdatacloud.nasa.gov/lp-prod-protected/HLSL30.020/HLS.L30.T15RYN.2023132T163144.v2.0/HLS.L30.T15RYN.2023132T163144.v2.0.B07.tif', 'https://data.lpdaac.earthdatacloud.nasa.gov/lp-prod-protected/HLSL30.020/HLS.L30.T15RYN.2023132T163144.v2.0/HLS.L30.T15RYN.2023132T163144.v2.0.B06.tif', 'https://data.lpdaac.earthdatacloud.nasa.gov/lp-prod-protected/HLSL30.020/HLS.L30.T15RYN.2023132T163144.v2.0/HLS.L30.T15RYN.2023132T163144.v2.0.B04.tif', 'https://data.lpdaac.earthdatacloud.nasa.gov/lp-prod-protected/HLSL30.020/HLS.L30.T15RYN.2023132T163144.v2.0/HLS.L30.T15RYN.2023132T163144.v2.0.B02.tif', 'https://data.lpdaac.earthdatacloud.nasa.gov/lp-prod-protected/HLSL30.020/HLS.L30.T15RYN.2023132T163144.v2.0/HLS.L30.T15RYN.2023132T163144.v2.0.B05.tif', 'https://data.lpdaac.earthdatacloud.nasa.gov/lp-prod-protected/HLSL30.020/HLS.L30.T15RYN.2023132T163144.v2.0/HLS.L30.T15RYN.2023132T163144.v2.0.VAA.tif', 'https://data.lpdaac.earthdatacloud.nasa.gov/lp-prod-protected/HLSL30.020/HLS.L30.T15RYN.2023132T163144.v2.0/HLS.L30.T15RYN.2023132T163144.v2.0.VZA.tif', 'https://data.lpdaac.earthdatacloud.nasa.gov/lp-prod-protected/HLSL30.020/HLS.L30.T15RYN.2023132T163144.v2.0/HLS.L30.T15RYN.2023132T163144.v2.0.B10.tif', 'https://data.lpdaac.earthdatacloud.nasa.gov/lp-prod-protected/HLSL30.020/HLS.L30.T15RYN.2023132T163144.v2.0/HLS.L30.T15RYN.2023132T163144.v2.0.SAA.tif', 'https://data.lpdaac.earthdatacloud.nasa.gov/lp-prod-protected/HLSL30.020/HLS.L30.T15RYN.2023132T163144.v2.0/HLS.L30.T15RYN.2023132T163144.v2.0.B11.tif', 'https://data.lpdaac.earthdatacloud.nasa.gov/lp-prod-protected/HLSL30.020/HLS.L30.T15RYN.2023132T163144.v2.0/HLS.L30.T15RYN.2023132T163144.v2.0.B01.tif', 'https://data.lpdaac.earthdatacloud.nasa.gov/lp-prod-protected/HLSL30.020/HLS.L30.T15RYN.2023132T163144.v2.0/HLS.L30.T15RYN.2023132T163144.v2.0.SZA.tif', 'https://data.lpdaac.earthdatacloud.nasa.gov/lp-prod-protected/HLSL30.020/HLS.L30.T15RYN.2023132T163144.v2.0/HLS.L30.T15RYN.2023132T163144.v2.0.B03.tif', 'https://data.lpdaac.earthdatacloud.nasa.gov/lp-prod-protected/HLSL30.020/HLS.L30.T15RYN.2023132T163144.v2.0/HLS.L30.T15RYN.2023132T163144.v2.0.Fmask.tif'],\n",
              " Collection: {'EntryTitle': 'HLS Landsat Operational Land Imager Surface Reflectance and TOA Brightness Daily Global 30m v2.0'}\n",
              " Spatial coverage: {'HorizontalSpatialDomain': {'Geometry': {'GPolygons': [{'Boundary': {'Points': [{'Longitude': -90.10082051, 'Latitude': 29.70587294}, {'Longitude': -89.31884953, 'Latitude': 29.7218875}, {'Longitude': -89.04852401, 'Latitude': 30.71690253}, {'Longitude': -90.13201749, 'Latitude': 30.69527405}, {'Longitude': -90.10082051, 'Latitude': 29.70587294}]}}]}}}\n",
              " Temporal coverage: {'RangeDateTime': {'BeginningDateTime': '2023-05-12T16:31:44.329Z', 'EndingDateTime': '2023-05-12T16:31:44.329Z'}}\n",
              " Size(MB): 163.3755807876587\n",
              " Data: ['https://data.lpdaac.earthdatacloud.nasa.gov/lp-prod-protected/HLSL30.020/HLS.L30.T16RBU.2023132T163144.v2.0/HLS.L30.T16RBU.2023132T163144.v2.0.VZA.tif', 'https://data.lpdaac.earthdatacloud.nasa.gov/lp-prod-protected/HLSL30.020/HLS.L30.T16RBU.2023132T163144.v2.0/HLS.L30.T16RBU.2023132T163144.v2.0.SZA.tif', 'https://data.lpdaac.earthdatacloud.nasa.gov/lp-prod-protected/HLSL30.020/HLS.L30.T16RBU.2023132T163144.v2.0/HLS.L30.T16RBU.2023132T163144.v2.0.B11.tif', 'https://data.lpdaac.earthdatacloud.nasa.gov/lp-prod-protected/HLSL30.020/HLS.L30.T16RBU.2023132T163144.v2.0/HLS.L30.T16RBU.2023132T163144.v2.0.B03.tif', 'https://data.lpdaac.earthdatacloud.nasa.gov/lp-prod-protected/HLSL30.020/HLS.L30.T16RBU.2023132T163144.v2.0/HLS.L30.T16RBU.2023132T163144.v2.0.B10.tif', 'https://data.lpdaac.earthdatacloud.nasa.gov/lp-prod-protected/HLSL30.020/HLS.L30.T16RBU.2023132T163144.v2.0/HLS.L30.T16RBU.2023132T163144.v2.0.B02.tif', 'https://data.lpdaac.earthdatacloud.nasa.gov/lp-prod-protected/HLSL30.020/HLS.L30.T16RBU.2023132T163144.v2.0/HLS.L30.T16RBU.2023132T163144.v2.0.B05.tif', 'https://data.lpdaac.earthdatacloud.nasa.gov/lp-prod-protected/HLSL30.020/HLS.L30.T16RBU.2023132T163144.v2.0/HLS.L30.T16RBU.2023132T163144.v2.0.B04.tif', 'https://data.lpdaac.earthdatacloud.nasa.gov/lp-prod-protected/HLSL30.020/HLS.L30.T16RBU.2023132T163144.v2.0/HLS.L30.T16RBU.2023132T163144.v2.0.SAA.tif', 'https://data.lpdaac.earthdatacloud.nasa.gov/lp-prod-protected/HLSL30.020/HLS.L30.T16RBU.2023132T163144.v2.0/HLS.L30.T16RBU.2023132T163144.v2.0.B01.tif', 'https://data.lpdaac.earthdatacloud.nasa.gov/lp-prod-protected/HLSL30.020/HLS.L30.T16RBU.2023132T163144.v2.0/HLS.L30.T16RBU.2023132T163144.v2.0.VAA.tif', 'https://data.lpdaac.earthdatacloud.nasa.gov/lp-prod-protected/HLSL30.020/HLS.L30.T16RBU.2023132T163144.v2.0/HLS.L30.T16RBU.2023132T163144.v2.0.B06.tif', 'https://data.lpdaac.earthdatacloud.nasa.gov/lp-prod-protected/HLSL30.020/HLS.L30.T16RBU.2023132T163144.v2.0/HLS.L30.T16RBU.2023132T163144.v2.0.B07.tif', 'https://data.lpdaac.earthdatacloud.nasa.gov/lp-prod-protected/HLSL30.020/HLS.L30.T16RBU.2023132T163144.v2.0/HLS.L30.T16RBU.2023132T163144.v2.0.Fmask.tif', 'https://data.lpdaac.earthdatacloud.nasa.gov/lp-prod-protected/HLSL30.020/HLS.L30.T16RBU.2023132T163144.v2.0/HLS.L30.T16RBU.2023132T163144.v2.0.B09.tif'],\n",
              " Collection: {'EntryTitle': 'HLS Landsat Operational Land Imager Surface Reflectance and TOA Brightness Daily Global 30m v2.0'}\n",
              " Spatial coverage: {'HorizontalSpatialDomain': {'Geometry': {'GPolygons': [{'Boundary': {'Points': [{'Longitude': -89.79864173, 'Latitude': 29.70347853}, {'Longitude': -89.76643746, 'Latitude': 30.69278312}, {'Longitude': -90.91181412, 'Latitude': 30.71627038}, {'Longitude': -90.93263654, 'Latitude': 29.72605548}, {'Longitude': -89.79864173, 'Latitude': 29.70347853}]}}]}}}\n",
              " Temporal coverage: {'RangeDateTime': {'BeginningDateTime': '2023-05-20T16:31:23.029Z', 'EndingDateTime': '2023-05-20T16:31:23.029Z'}}\n",
              " Size(MB): 185.5339870452881\n",
              " Data: ['https://data.lpdaac.earthdatacloud.nasa.gov/lp-prod-protected/HLSL30.020/HLS.L30.T15RYP.2023140T163123.v2.0/HLS.L30.T15RYP.2023140T163123.v2.0.B05.tif', 'https://data.lpdaac.earthdatacloud.nasa.gov/lp-prod-protected/HLSL30.020/HLS.L30.T15RYP.2023140T163123.v2.0/HLS.L30.T15RYP.2023140T163123.v2.0.B11.tif', 'https://data.lpdaac.earthdatacloud.nasa.gov/lp-prod-protected/HLSL30.020/HLS.L30.T15RYP.2023140T163123.v2.0/HLS.L30.T15RYP.2023140T163123.v2.0.B07.tif', 'https://data.lpdaac.earthdatacloud.nasa.gov/lp-prod-protected/HLSL30.020/HLS.L30.T15RYP.2023140T163123.v2.0/HLS.L30.T15RYP.2023140T163123.v2.0.VZA.tif', 'https://data.lpdaac.earthdatacloud.nasa.gov/lp-prod-protected/HLSL30.020/HLS.L30.T15RYP.2023140T163123.v2.0/HLS.L30.T15RYP.2023140T163123.v2.0.B10.tif', 'https://data.lpdaac.earthdatacloud.nasa.gov/lp-prod-protected/HLSL30.020/HLS.L30.T15RYP.2023140T163123.v2.0/HLS.L30.T15RYP.2023140T163123.v2.0.SZA.tif', 'https://data.lpdaac.earthdatacloud.nasa.gov/lp-prod-protected/HLSL30.020/HLS.L30.T15RYP.2023140T163123.v2.0/HLS.L30.T15RYP.2023140T163123.v2.0.B04.tif', 'https://data.lpdaac.earthdatacloud.nasa.gov/lp-prod-protected/HLSL30.020/HLS.L30.T15RYP.2023140T163123.v2.0/HLS.L30.T15RYP.2023140T163123.v2.0.B03.tif', 'https://data.lpdaac.earthdatacloud.nasa.gov/lp-prod-protected/HLSL30.020/HLS.L30.T15RYP.2023140T163123.v2.0/HLS.L30.T15RYP.2023140T163123.v2.0.VAA.tif', 'https://data.lpdaac.earthdatacloud.nasa.gov/lp-prod-protected/HLSL30.020/HLS.L30.T15RYP.2023140T163123.v2.0/HLS.L30.T15RYP.2023140T163123.v2.0.B06.tif', 'https://data.lpdaac.earthdatacloud.nasa.gov/lp-prod-protected/HLSL30.020/HLS.L30.T15RYP.2023140T163123.v2.0/HLS.L30.T15RYP.2023140T163123.v2.0.SAA.tif', 'https://data.lpdaac.earthdatacloud.nasa.gov/lp-prod-protected/HLSL30.020/HLS.L30.T15RYP.2023140T163123.v2.0/HLS.L30.T15RYP.2023140T163123.v2.0.B09.tif', 'https://data.lpdaac.earthdatacloud.nasa.gov/lp-prod-protected/HLSL30.020/HLS.L30.T15RYP.2023140T163123.v2.0/HLS.L30.T15RYP.2023140T163123.v2.0.B02.tif', 'https://data.lpdaac.earthdatacloud.nasa.gov/lp-prod-protected/HLSL30.020/HLS.L30.T15RYP.2023140T163123.v2.0/HLS.L30.T15RYP.2023140T163123.v2.0.B01.tif', 'https://data.lpdaac.earthdatacloud.nasa.gov/lp-prod-protected/HLSL30.020/HLS.L30.T15RYP.2023140T163123.v2.0/HLS.L30.T15RYP.2023140T163123.v2.0.Fmask.tif'],\n",
              " Collection: {'EntryTitle': 'HLS Landsat Operational Land Imager Surface Reflectance and TOA Brightness Daily Global 30m v2.0'}\n",
              " Spatial coverage: {'HorizontalSpatialDomain': {'Geometry': {'GPolygons': [{'Boundary': {'Points': [{'Longitude': -90.07372506, 'Latitude': 28.80444525}, {'Longitude': -89.54433872, 'Latitude': 28.81601158}, {'Longitude': -89.27714289, 'Latitude': 29.81084001}, {'Longitude': -90.10353675, 'Latitude': 29.79400715}, {'Longitude': -90.07372506, 'Latitude': 28.80444525}]}}]}}}\n",
              " Temporal coverage: {'RangeDateTime': {'BeginningDateTime': '2023-05-20T16:31:23.029Z', 'EndingDateTime': '2023-05-20T16:31:46.925Z'}}\n",
              " Size(MB): 112.42044067382812\n",
              " Data: ['https://data.lpdaac.earthdatacloud.nasa.gov/lp-prod-protected/HLSL30.020/HLS.L30.T16RBT.2023140T163123.v2.0/HLS.L30.T16RBT.2023140T163123.v2.0.B03.tif', 'https://data.lpdaac.earthdatacloud.nasa.gov/lp-prod-protected/HLSL30.020/HLS.L30.T16RBT.2023140T163123.v2.0/HLS.L30.T16RBT.2023140T163123.v2.0.B07.tif', 'https://data.lpdaac.earthdatacloud.nasa.gov/lp-prod-protected/HLSL30.020/HLS.L30.T16RBT.2023140T163123.v2.0/HLS.L30.T16RBT.2023140T163123.v2.0.VAA.tif', 'https://data.lpdaac.earthdatacloud.nasa.gov/lp-prod-protected/HLSL30.020/HLS.L30.T16RBT.2023140T163123.v2.0/HLS.L30.T16RBT.2023140T163123.v2.0.Fmask.tif', 'https://data.lpdaac.earthdatacloud.nasa.gov/lp-prod-protected/HLSL30.020/HLS.L30.T16RBT.2023140T163123.v2.0/HLS.L30.T16RBT.2023140T163123.v2.0.B06.tif', 'https://data.lpdaac.earthdatacloud.nasa.gov/lp-prod-protected/HLSL30.020/HLS.L30.T16RBT.2023140T163123.v2.0/HLS.L30.T16RBT.2023140T163123.v2.0.B04.tif', 'https://data.lpdaac.earthdatacloud.nasa.gov/lp-prod-protected/HLSL30.020/HLS.L30.T16RBT.2023140T163123.v2.0/HLS.L30.T16RBT.2023140T163123.v2.0.VZA.tif', 'https://data.lpdaac.earthdatacloud.nasa.gov/lp-prod-protected/HLSL30.020/HLS.L30.T16RBT.2023140T163123.v2.0/HLS.L30.T16RBT.2023140T163123.v2.0.B11.tif', 'https://data.lpdaac.earthdatacloud.nasa.gov/lp-prod-protected/HLSL30.020/HLS.L30.T16RBT.2023140T163123.v2.0/HLS.L30.T16RBT.2023140T163123.v2.0.SAA.tif', 'https://data.lpdaac.earthdatacloud.nasa.gov/lp-prod-protected/HLSL30.020/HLS.L30.T16RBT.2023140T163123.v2.0/HLS.L30.T16RBT.2023140T163123.v2.0.B01.tif', 'https://data.lpdaac.earthdatacloud.nasa.gov/lp-prod-protected/HLSL30.020/HLS.L30.T16RBT.2023140T163123.v2.0/HLS.L30.T16RBT.2023140T163123.v2.0.B09.tif', 'https://data.lpdaac.earthdatacloud.nasa.gov/lp-prod-protected/HLSL30.020/HLS.L30.T16RBT.2023140T163123.v2.0/HLS.L30.T16RBT.2023140T163123.v2.0.SZA.tif', 'https://data.lpdaac.earthdatacloud.nasa.gov/lp-prod-protected/HLSL30.020/HLS.L30.T16RBT.2023140T163123.v2.0/HLS.L30.T16RBT.2023140T163123.v2.0.B10.tif', 'https://data.lpdaac.earthdatacloud.nasa.gov/lp-prod-protected/HLSL30.020/HLS.L30.T16RBT.2023140T163123.v2.0/HLS.L30.T16RBT.2023140T163123.v2.0.B05.tif', 'https://data.lpdaac.earthdatacloud.nasa.gov/lp-prod-protected/HLSL30.020/HLS.L30.T16RBT.2023140T163123.v2.0/HLS.L30.T16RBT.2023140T163123.v2.0.B02.tif'],\n",
              " Collection: {'EntryTitle': 'HLS Landsat Operational Land Imager Surface Reflectance and TOA Brightness Daily Global 30m v2.0'}\n",
              " Spatial coverage: {'HorizontalSpatialDomain': {'Geometry': {'GPolygons': [{'Boundary': {'Points': [{'Longitude': -90.10082051, 'Latitude': 29.70587294}, {'Longitude': -89.30087327, 'Latitude': 29.72220129}, {'Longitude': -89.02973637, 'Latitude': 30.71719774}, {'Longitude': -90.13201749, 'Latitude': 30.69527405}, {'Longitude': -90.10082051, 'Latitude': 29.70587294}]}}]}}}\n",
              " Temporal coverage: {'RangeDateTime': {'BeginningDateTime': '2023-05-20T16:31:23.029Z', 'EndingDateTime': '2023-05-20T16:31:23.029Z'}}\n",
              " Size(MB): 154.05752277374268\n",
              " Data: ['https://data.lpdaac.earthdatacloud.nasa.gov/lp-prod-protected/HLSL30.020/HLS.L30.T16RBU.2023140T163123.v2.0/HLS.L30.T16RBU.2023140T163123.v2.0.SZA.tif', 'https://data.lpdaac.earthdatacloud.nasa.gov/lp-prod-protected/HLSL30.020/HLS.L30.T16RBU.2023140T163123.v2.0/HLS.L30.T16RBU.2023140T163123.v2.0.VAA.tif', 'https://data.lpdaac.earthdatacloud.nasa.gov/lp-prod-protected/HLSL30.020/HLS.L30.T16RBU.2023140T163123.v2.0/HLS.L30.T16RBU.2023140T163123.v2.0.VZA.tif', 'https://data.lpdaac.earthdatacloud.nasa.gov/lp-prod-protected/HLSL30.020/HLS.L30.T16RBU.2023140T163123.v2.0/HLS.L30.T16RBU.2023140T163123.v2.0.B02.tif', 'https://data.lpdaac.earthdatacloud.nasa.gov/lp-prod-protected/HLSL30.020/HLS.L30.T16RBU.2023140T163123.v2.0/HLS.L30.T16RBU.2023140T163123.v2.0.Fmask.tif', 'https://data.lpdaac.earthdatacloud.nasa.gov/lp-prod-protected/HLSL30.020/HLS.L30.T16RBU.2023140T163123.v2.0/HLS.L30.T16RBU.2023140T163123.v2.0.B05.tif', 'https://data.lpdaac.earthdatacloud.nasa.gov/lp-prod-protected/HLSL30.020/HLS.L30.T16RBU.2023140T163123.v2.0/HLS.L30.T16RBU.2023140T163123.v2.0.B07.tif', 'https://data.lpdaac.earthdatacloud.nasa.gov/lp-prod-protected/HLSL30.020/HLS.L30.T16RBU.2023140T163123.v2.0/HLS.L30.T16RBU.2023140T163123.v2.0.B09.tif', 'https://data.lpdaac.earthdatacloud.nasa.gov/lp-prod-protected/HLSL30.020/HLS.L30.T16RBU.2023140T163123.v2.0/HLS.L30.T16RBU.2023140T163123.v2.0.B04.tif', 'https://data.lpdaac.earthdatacloud.nasa.gov/lp-prod-protected/HLSL30.020/HLS.L30.T16RBU.2023140T163123.v2.0/HLS.L30.T16RBU.2023140T163123.v2.0.B06.tif', 'https://data.lpdaac.earthdatacloud.nasa.gov/lp-prod-protected/HLSL30.020/HLS.L30.T16RBU.2023140T163123.v2.0/HLS.L30.T16RBU.2023140T163123.v2.0.B10.tif', 'https://data.lpdaac.earthdatacloud.nasa.gov/lp-prod-protected/HLSL30.020/HLS.L30.T16RBU.2023140T163123.v2.0/HLS.L30.T16RBU.2023140T163123.v2.0.B11.tif', 'https://data.lpdaac.earthdatacloud.nasa.gov/lp-prod-protected/HLSL30.020/HLS.L30.T16RBU.2023140T163123.v2.0/HLS.L30.T16RBU.2023140T163123.v2.0.SAA.tif', 'https://data.lpdaac.earthdatacloud.nasa.gov/lp-prod-protected/HLSL30.020/HLS.L30.T16RBU.2023140T163123.v2.0/HLS.L30.T16RBU.2023140T163123.v2.0.B01.tif', 'https://data.lpdaac.earthdatacloud.nasa.gov/lp-prod-protected/HLSL30.020/HLS.L30.T16RBU.2023140T163123.v2.0/HLS.L30.T16RBU.2023140T163123.v2.0.B03.tif'],\n",
              " Collection: {'EntryTitle': 'HLS Landsat Operational Land Imager Surface Reflectance and TOA Brightness Daily Global 30m v2.0'}\n",
              " Spatial coverage: {'HorizontalSpatialDomain': {'Geometry': {'GPolygons': [{'Boundary': {'Points': [{'Longitude': -89.82661214, 'Latitude': 28.80213717}, {'Longitude': -89.79583778, 'Latitude': 29.79160422}, {'Longitude': -90.93082361, 'Latitude': 29.81426153}, {'Longitude': -90.95072084, 'Latitude': 28.82389994}, {'Longitude': -89.82661214, 'Latitude': 28.80213717}]}}]}}}\n",
              " Temporal coverage: {'RangeDateTime': {'BeginningDateTime': '2023-05-20T16:31:23.029Z', 'EndingDateTime': '2023-05-20T16:31:46.925Z'}}\n",
              " Size(MB): 189.29092693328857\n",
              " Data: ['https://data.lpdaac.earthdatacloud.nasa.gov/lp-prod-protected/HLSL30.020/HLS.L30.T15RYN.2023140T163123.v2.0/HLS.L30.T15RYN.2023140T163123.v2.0.SAA.tif', 'https://data.lpdaac.earthdatacloud.nasa.gov/lp-prod-protected/HLSL30.020/HLS.L30.T15RYN.2023140T163123.v2.0/HLS.L30.T15RYN.2023140T163123.v2.0.VZA.tif', 'https://data.lpdaac.earthdatacloud.nasa.gov/lp-prod-protected/HLSL30.020/HLS.L30.T15RYN.2023140T163123.v2.0/HLS.L30.T15RYN.2023140T163123.v2.0.VAA.tif', 'https://data.lpdaac.earthdatacloud.nasa.gov/lp-prod-protected/HLSL30.020/HLS.L30.T15RYN.2023140T163123.v2.0/HLS.L30.T15RYN.2023140T163123.v2.0.B11.tif', 'https://data.lpdaac.earthdatacloud.nasa.gov/lp-prod-protected/HLSL30.020/HLS.L30.T15RYN.2023140T163123.v2.0/HLS.L30.T15RYN.2023140T163123.v2.0.B07.tif', 'https://data.lpdaac.earthdatacloud.nasa.gov/lp-prod-protected/HLSL30.020/HLS.L30.T15RYN.2023140T163123.v2.0/HLS.L30.T15RYN.2023140T163123.v2.0.B01.tif', 'https://data.lpdaac.earthdatacloud.nasa.gov/lp-prod-protected/HLSL30.020/HLS.L30.T15RYN.2023140T163123.v2.0/HLS.L30.T15RYN.2023140T163123.v2.0.B09.tif', 'https://data.lpdaac.earthdatacloud.nasa.gov/lp-prod-protected/HLSL30.020/HLS.L30.T15RYN.2023140T163123.v2.0/HLS.L30.T15RYN.2023140T163123.v2.0.B05.tif', 'https://data.lpdaac.earthdatacloud.nasa.gov/lp-prod-protected/HLSL30.020/HLS.L30.T15RYN.2023140T163123.v2.0/HLS.L30.T15RYN.2023140T163123.v2.0.B10.tif', 'https://data.lpdaac.earthdatacloud.nasa.gov/lp-prod-protected/HLSL30.020/HLS.L30.T15RYN.2023140T163123.v2.0/HLS.L30.T15RYN.2023140T163123.v2.0.B02.tif', 'https://data.lpdaac.earthdatacloud.nasa.gov/lp-prod-protected/HLSL30.020/HLS.L30.T15RYN.2023140T163123.v2.0/HLS.L30.T15RYN.2023140T163123.v2.0.B03.tif', 'https://data.lpdaac.earthdatacloud.nasa.gov/lp-prod-protected/HLSL30.020/HLS.L30.T15RYN.2023140T163123.v2.0/HLS.L30.T15RYN.2023140T163123.v2.0.Fmask.tif', 'https://data.lpdaac.earthdatacloud.nasa.gov/lp-prod-protected/HLSL30.020/HLS.L30.T15RYN.2023140T163123.v2.0/HLS.L30.T15RYN.2023140T163123.v2.0.B04.tif', 'https://data.lpdaac.earthdatacloud.nasa.gov/lp-prod-protected/HLSL30.020/HLS.L30.T15RYN.2023140T163123.v2.0/HLS.L30.T15RYN.2023140T163123.v2.0.B06.tif', 'https://data.lpdaac.earthdatacloud.nasa.gov/lp-prod-protected/HLSL30.020/HLS.L30.T15RYN.2023140T163123.v2.0/HLS.L30.T15RYN.2023140T163123.v2.0.SZA.tif'],\n",
              " Collection: {'EntryTitle': 'HLS Landsat Operational Land Imager Surface Reflectance and TOA Brightness Daily Global 30m v2.0'}\n",
              " Spatial coverage: {'HorizontalSpatialDomain': {'Geometry': {'GPolygons': [{'Boundary': {'Points': [{'Longitude': -89.82661214, 'Latitude': 28.80213717}, {'Longitude': -89.79583778, 'Latitude': 29.79160422}, {'Longitude': -90.93082361, 'Latitude': 29.81426153}, {'Longitude': -90.95072084, 'Latitude': 28.82389994}, {'Longitude': -89.82661214, 'Latitude': 28.80213717}]}}]}}}\n",
              " Temporal coverage: {'RangeDateTime': {'BeginningDateTime': '2023-05-28T16:31:34.837Z', 'EndingDateTime': '2023-05-28T16:31:58.732Z'}}\n",
              " Size(MB): 166.16224670410156\n",
              " Data: ['https://data.lpdaac.earthdatacloud.nasa.gov/lp-prod-protected/HLSL30.020/HLS.L30.T15RYN.2023148T163134.v2.0/HLS.L30.T15RYN.2023148T163134.v2.0.Fmask.tif', 'https://data.lpdaac.earthdatacloud.nasa.gov/lp-prod-protected/HLSL30.020/HLS.L30.T15RYN.2023148T163134.v2.0/HLS.L30.T15RYN.2023148T163134.v2.0.B10.tif', 'https://data.lpdaac.earthdatacloud.nasa.gov/lp-prod-protected/HLSL30.020/HLS.L30.T15RYN.2023148T163134.v2.0/HLS.L30.T15RYN.2023148T163134.v2.0.SAA.tif', 'https://data.lpdaac.earthdatacloud.nasa.gov/lp-prod-protected/HLSL30.020/HLS.L30.T15RYN.2023148T163134.v2.0/HLS.L30.T15RYN.2023148T163134.v2.0.B03.tif', 'https://data.lpdaac.earthdatacloud.nasa.gov/lp-prod-protected/HLSL30.020/HLS.L30.T15RYN.2023148T163134.v2.0/HLS.L30.T15RYN.2023148T163134.v2.0.B07.tif', 'https://data.lpdaac.earthdatacloud.nasa.gov/lp-prod-protected/HLSL30.020/HLS.L30.T15RYN.2023148T163134.v2.0/HLS.L30.T15RYN.2023148T163134.v2.0.B01.tif', 'https://data.lpdaac.earthdatacloud.nasa.gov/lp-prod-protected/HLSL30.020/HLS.L30.T15RYN.2023148T163134.v2.0/HLS.L30.T15RYN.2023148T163134.v2.0.B05.tif', 'https://data.lpdaac.earthdatacloud.nasa.gov/lp-prod-protected/HLSL30.020/HLS.L30.T15RYN.2023148T163134.v2.0/HLS.L30.T15RYN.2023148T163134.v2.0.VAA.tif', 'https://data.lpdaac.earthdatacloud.nasa.gov/lp-prod-protected/HLSL30.020/HLS.L30.T15RYN.2023148T163134.v2.0/HLS.L30.T15RYN.2023148T163134.v2.0.VZA.tif', 'https://data.lpdaac.earthdatacloud.nasa.gov/lp-prod-protected/HLSL30.020/HLS.L30.T15RYN.2023148T163134.v2.0/HLS.L30.T15RYN.2023148T163134.v2.0.B11.tif', 'https://data.lpdaac.earthdatacloud.nasa.gov/lp-prod-protected/HLSL30.020/HLS.L30.T15RYN.2023148T163134.v2.0/HLS.L30.T15RYN.2023148T163134.v2.0.SZA.tif', 'https://data.lpdaac.earthdatacloud.nasa.gov/lp-prod-protected/HLSL30.020/HLS.L30.T15RYN.2023148T163134.v2.0/HLS.L30.T15RYN.2023148T163134.v2.0.B09.tif', 'https://data.lpdaac.earthdatacloud.nasa.gov/lp-prod-protected/HLSL30.020/HLS.L30.T15RYN.2023148T163134.v2.0/HLS.L30.T15RYN.2023148T163134.v2.0.B04.tif', 'https://data.lpdaac.earthdatacloud.nasa.gov/lp-prod-protected/HLSL30.020/HLS.L30.T15RYN.2023148T163134.v2.0/HLS.L30.T15RYN.2023148T163134.v2.0.B06.tif', 'https://data.lpdaac.earthdatacloud.nasa.gov/lp-prod-protected/HLSL30.020/HLS.L30.T15RYN.2023148T163134.v2.0/HLS.L30.T15RYN.2023148T163134.v2.0.B02.tif'],\n",
              " Collection: {'EntryTitle': 'HLS Landsat Operational Land Imager Surface Reflectance and TOA Brightness Daily Global 30m v2.0'}\n",
              " Spatial coverage: {'HorizontalSpatialDomain': {'Geometry': {'GPolygons': [{'Boundary': {'Points': [{'Longitude': -90.10082051, 'Latitude': 29.70587294}, {'Longitude': -89.32257496, 'Latitude': 29.7220928}, {'Longitude': -89.05259463, 'Latitude': 30.71683821}, {'Longitude': -90.13201749, 'Latitude': 30.69527405}, {'Longitude': -90.10082051, 'Latitude': 29.70587294}]}}]}}}\n",
              " Temporal coverage: {'RangeDateTime': {'BeginningDateTime': '2023-05-28T16:31:34.837Z', 'EndingDateTime': '2023-05-28T16:31:34.837Z'}}\n",
              " Size(MB): 152.09524822235107\n",
              " Data: ['https://data.lpdaac.earthdatacloud.nasa.gov/lp-prod-protected/HLSL30.020/HLS.L30.T16RBU.2023148T163134.v2.0/HLS.L30.T16RBU.2023148T163134.v2.0.B06.tif', 'https://data.lpdaac.earthdatacloud.nasa.gov/lp-prod-protected/HLSL30.020/HLS.L30.T16RBU.2023148T163134.v2.0/HLS.L30.T16RBU.2023148T163134.v2.0.B01.tif', 'https://data.lpdaac.earthdatacloud.nasa.gov/lp-prod-protected/HLSL30.020/HLS.L30.T16RBU.2023148T163134.v2.0/HLS.L30.T16RBU.2023148T163134.v2.0.B04.tif', 'https://data.lpdaac.earthdatacloud.nasa.gov/lp-prod-protected/HLSL30.020/HLS.L30.T16RBU.2023148T163134.v2.0/HLS.L30.T16RBU.2023148T163134.v2.0.SZA.tif', 'https://data.lpdaac.earthdatacloud.nasa.gov/lp-prod-protected/HLSL30.020/HLS.L30.T16RBU.2023148T163134.v2.0/HLS.L30.T16RBU.2023148T163134.v2.0.SAA.tif', 'https://data.lpdaac.earthdatacloud.nasa.gov/lp-prod-protected/HLSL30.020/HLS.L30.T16RBU.2023148T163134.v2.0/HLS.L30.T16RBU.2023148T163134.v2.0.B02.tif', 'https://data.lpdaac.earthdatacloud.nasa.gov/lp-prod-protected/HLSL30.020/HLS.L30.T16RBU.2023148T163134.v2.0/HLS.L30.T16RBU.2023148T163134.v2.0.B09.tif', 'https://data.lpdaac.earthdatacloud.nasa.gov/lp-prod-protected/HLSL30.020/HLS.L30.T16RBU.2023148T163134.v2.0/HLS.L30.T16RBU.2023148T163134.v2.0.VZA.tif', 'https://data.lpdaac.earthdatacloud.nasa.gov/lp-prod-protected/HLSL30.020/HLS.L30.T16RBU.2023148T163134.v2.0/HLS.L30.T16RBU.2023148T163134.v2.0.B03.tif', 'https://data.lpdaac.earthdatacloud.nasa.gov/lp-prod-protected/HLSL30.020/HLS.L30.T16RBU.2023148T163134.v2.0/HLS.L30.T16RBU.2023148T163134.v2.0.B05.tif', 'https://data.lpdaac.earthdatacloud.nasa.gov/lp-prod-protected/HLSL30.020/HLS.L30.T16RBU.2023148T163134.v2.0/HLS.L30.T16RBU.2023148T163134.v2.0.B07.tif', 'https://data.lpdaac.earthdatacloud.nasa.gov/lp-prod-protected/HLSL30.020/HLS.L30.T16RBU.2023148T163134.v2.0/HLS.L30.T16RBU.2023148T163134.v2.0.Fmask.tif', 'https://data.lpdaac.earthdatacloud.nasa.gov/lp-prod-protected/HLSL30.020/HLS.L30.T16RBU.2023148T163134.v2.0/HLS.L30.T16RBU.2023148T163134.v2.0.B11.tif', 'https://data.lpdaac.earthdatacloud.nasa.gov/lp-prod-protected/HLSL30.020/HLS.L30.T16RBU.2023148T163134.v2.0/HLS.L30.T16RBU.2023148T163134.v2.0.VAA.tif', 'https://data.lpdaac.earthdatacloud.nasa.gov/lp-prod-protected/HLSL30.020/HLS.L30.T16RBU.2023148T163134.v2.0/HLS.L30.T16RBU.2023148T163134.v2.0.B10.tif'],\n",
              " Collection: {'EntryTitle': 'HLS Landsat Operational Land Imager Surface Reflectance and TOA Brightness Daily Global 30m v2.0'}\n",
              " Spatial coverage: {'HorizontalSpatialDomain': {'Geometry': {'GPolygons': [{'Boundary': {'Points': [{'Longitude': -90.07372506, 'Latitude': 28.80444525}, {'Longitude': -89.56582652, 'Latitude': 28.81506326}, {'Longitude': -89.29885782, 'Latitude': 29.81046387}, {'Longitude': -90.10353675, 'Latitude': 29.79400715}, {'Longitude': -90.07372506, 'Latitude': 28.80444525}]}}]}}}\n",
              " Temporal coverage: {'RangeDateTime': {'BeginningDateTime': '2023-05-28T16:31:34.837Z', 'EndingDateTime': '2023-05-28T16:31:58.732Z'}}\n",
              " Size(MB): 98.6242561340332\n",
              " Data: ['https://data.lpdaac.earthdatacloud.nasa.gov/lp-prod-protected/HLSL30.020/HLS.L30.T16RBT.2023148T163134.v2.0/HLS.L30.T16RBT.2023148T163134.v2.0.B07.tif', 'https://data.lpdaac.earthdatacloud.nasa.gov/lp-prod-protected/HLSL30.020/HLS.L30.T16RBT.2023148T163134.v2.0/HLS.L30.T16RBT.2023148T163134.v2.0.B11.tif', 'https://data.lpdaac.earthdatacloud.nasa.gov/lp-prod-protected/HLSL30.020/HLS.L30.T16RBT.2023148T163134.v2.0/HLS.L30.T16RBT.2023148T163134.v2.0.SAA.tif', 'https://data.lpdaac.earthdatacloud.nasa.gov/lp-prod-protected/HLSL30.020/HLS.L30.T16RBT.2023148T163134.v2.0/HLS.L30.T16RBT.2023148T163134.v2.0.B05.tif', 'https://data.lpdaac.earthdatacloud.nasa.gov/lp-prod-protected/HLSL30.020/HLS.L30.T16RBT.2023148T163134.v2.0/HLS.L30.T16RBT.2023148T163134.v2.0.B01.tif', 'https://data.lpdaac.earthdatacloud.nasa.gov/lp-prod-protected/HLSL30.020/HLS.L30.T16RBT.2023148T163134.v2.0/HLS.L30.T16RBT.2023148T163134.v2.0.B10.tif', 'https://data.lpdaac.earthdatacloud.nasa.gov/lp-prod-protected/HLSL30.020/HLS.L30.T16RBT.2023148T163134.v2.0/HLS.L30.T16RBT.2023148T163134.v2.0.B02.tif', 'https://data.lpdaac.earthdatacloud.nasa.gov/lp-prod-protected/HLSL30.020/HLS.L30.T16RBT.2023148T163134.v2.0/HLS.L30.T16RBT.2023148T163134.v2.0.B06.tif', 'https://data.lpdaac.earthdatacloud.nasa.gov/lp-prod-protected/HLSL30.020/HLS.L30.T16RBT.2023148T163134.v2.0/HLS.L30.T16RBT.2023148T163134.v2.0.B09.tif', 'https://data.lpdaac.earthdatacloud.nasa.gov/lp-prod-protected/HLSL30.020/HLS.L30.T16RBT.2023148T163134.v2.0/HLS.L30.T16RBT.2023148T163134.v2.0.VZA.tif', 'https://data.lpdaac.earthdatacloud.nasa.gov/lp-prod-protected/HLSL30.020/HLS.L30.T16RBT.2023148T163134.v2.0/HLS.L30.T16RBT.2023148T163134.v2.0.B03.tif', 'https://data.lpdaac.earthdatacloud.nasa.gov/lp-prod-protected/HLSL30.020/HLS.L30.T16RBT.2023148T163134.v2.0/HLS.L30.T16RBT.2023148T163134.v2.0.SZA.tif', 'https://data.lpdaac.earthdatacloud.nasa.gov/lp-prod-protected/HLSL30.020/HLS.L30.T16RBT.2023148T163134.v2.0/HLS.L30.T16RBT.2023148T163134.v2.0.B04.tif', 'https://data.lpdaac.earthdatacloud.nasa.gov/lp-prod-protected/HLSL30.020/HLS.L30.T16RBT.2023148T163134.v2.0/HLS.L30.T16RBT.2023148T163134.v2.0.VAA.tif', 'https://data.lpdaac.earthdatacloud.nasa.gov/lp-prod-protected/HLSL30.020/HLS.L30.T16RBT.2023148T163134.v2.0/HLS.L30.T16RBT.2023148T163134.v2.0.Fmask.tif'],\n",
              " Collection: {'EntryTitle': 'HLS Landsat Operational Land Imager Surface Reflectance and TOA Brightness Daily Global 30m v2.0'}\n",
              " Spatial coverage: {'HorizontalSpatialDomain': {'Geometry': {'GPolygons': [{'Boundary': {'Points': [{'Longitude': -89.79864173, 'Latitude': 29.70347853}, {'Longitude': -89.76643746, 'Latitude': 30.69278312}, {'Longitude': -90.91181412, 'Latitude': 30.71627038}, {'Longitude': -90.93263654, 'Latitude': 29.72605548}, {'Longitude': -89.79864173, 'Latitude': 29.70347853}]}}]}}}\n",
              " Temporal coverage: {'RangeDateTime': {'BeginningDateTime': '2023-05-28T16:31:34.837Z', 'EndingDateTime': '2023-05-28T16:31:34.837Z'}}\n",
              " Size(MB): 172.95240783691406\n",
              " Data: ['https://data.lpdaac.earthdatacloud.nasa.gov/lp-prod-protected/HLSL30.020/HLS.L30.T15RYP.2023148T163134.v2.0/HLS.L30.T15RYP.2023148T163134.v2.0.B07.tif', 'https://data.lpdaac.earthdatacloud.nasa.gov/lp-prod-protected/HLSL30.020/HLS.L30.T15RYP.2023148T163134.v2.0/HLS.L30.T15RYP.2023148T163134.v2.0.B05.tif', 'https://data.lpdaac.earthdatacloud.nasa.gov/lp-prod-protected/HLSL30.020/HLS.L30.T15RYP.2023148T163134.v2.0/HLS.L30.T15RYP.2023148T163134.v2.0.SAA.tif', 'https://data.lpdaac.earthdatacloud.nasa.gov/lp-prod-protected/HLSL30.020/HLS.L30.T15RYP.2023148T163134.v2.0/HLS.L30.T15RYP.2023148T163134.v2.0.VAA.tif', 'https://data.lpdaac.earthdatacloud.nasa.gov/lp-prod-protected/HLSL30.020/HLS.L30.T15RYP.2023148T163134.v2.0/HLS.L30.T15RYP.2023148T163134.v2.0.VZA.tif', 'https://data.lpdaac.earthdatacloud.nasa.gov/lp-prod-protected/HLSL30.020/HLS.L30.T15RYP.2023148T163134.v2.0/HLS.L30.T15RYP.2023148T163134.v2.0.B03.tif', 'https://data.lpdaac.earthdatacloud.nasa.gov/lp-prod-protected/HLSL30.020/HLS.L30.T15RYP.2023148T163134.v2.0/HLS.L30.T15RYP.2023148T163134.v2.0.B04.tif', 'https://data.lpdaac.earthdatacloud.nasa.gov/lp-prod-protected/HLSL30.020/HLS.L30.T15RYP.2023148T163134.v2.0/HLS.L30.T15RYP.2023148T163134.v2.0.B09.tif', 'https://data.lpdaac.earthdatacloud.nasa.gov/lp-prod-protected/HLSL30.020/HLS.L30.T15RYP.2023148T163134.v2.0/HLS.L30.T15RYP.2023148T163134.v2.0.B06.tif', 'https://data.lpdaac.earthdatacloud.nasa.gov/lp-prod-protected/HLSL30.020/HLS.L30.T15RYP.2023148T163134.v2.0/HLS.L30.T15RYP.2023148T163134.v2.0.Fmask.tif', 'https://data.lpdaac.earthdatacloud.nasa.gov/lp-prod-protected/HLSL30.020/HLS.L30.T15RYP.2023148T163134.v2.0/HLS.L30.T15RYP.2023148T163134.v2.0.B10.tif', 'https://data.lpdaac.earthdatacloud.nasa.gov/lp-prod-protected/HLSL30.020/HLS.L30.T15RYP.2023148T163134.v2.0/HLS.L30.T15RYP.2023148T163134.v2.0.B01.tif', 'https://data.lpdaac.earthdatacloud.nasa.gov/lp-prod-protected/HLSL30.020/HLS.L30.T15RYP.2023148T163134.v2.0/HLS.L30.T15RYP.2023148T163134.v2.0.B02.tif', 'https://data.lpdaac.earthdatacloud.nasa.gov/lp-prod-protected/HLSL30.020/HLS.L30.T15RYP.2023148T163134.v2.0/HLS.L30.T15RYP.2023148T163134.v2.0.SZA.tif', 'https://data.lpdaac.earthdatacloud.nasa.gov/lp-prod-protected/HLSL30.020/HLS.L30.T15RYP.2023148T163134.v2.0/HLS.L30.T15RYP.2023148T163134.v2.0.B11.tif'],\n",
              " Collection: {'EntryTitle': 'HLS Landsat Operational Land Imager Surface Reflectance and TOA Brightness Daily Global 30m v2.0'}\n",
              " Spatial coverage: {'HorizontalSpatialDomain': {'Geometry': {'GPolygons': [{'Boundary': {'Points': [{'Longitude': -90.10082051, 'Latitude': 29.70587294}, {'Longitude': -89.28847567, 'Latitude': 29.72241628}, {'Longitude': -89.01721112, 'Latitude': 30.71739304}, {'Longitude': -90.13201749, 'Latitude': 30.69527405}, {'Longitude': -90.10082051, 'Latitude': 29.70587294}]}}]}}}\n",
              " Temporal coverage: {'RangeDateTime': {'BeginningDateTime': '2023-06-05T16:31:28.153Z', 'EndingDateTime': '2023-06-05T16:31:28.153Z'}}\n",
              " Size(MB): 165.66828632354736\n",
              " Data: ['https://data.lpdaac.earthdatacloud.nasa.gov/lp-prod-protected/HLSL30.020/HLS.L30.T16RBU.2023156T163128.v2.0/HLS.L30.T16RBU.2023156T163128.v2.0.VZA.tif', 'https://data.lpdaac.earthdatacloud.nasa.gov/lp-prod-protected/HLSL30.020/HLS.L30.T16RBU.2023156T163128.v2.0/HLS.L30.T16RBU.2023156T163128.v2.0.B04.tif', 'https://data.lpdaac.earthdatacloud.nasa.gov/lp-prod-protected/HLSL30.020/HLS.L30.T16RBU.2023156T163128.v2.0/HLS.L30.T16RBU.2023156T163128.v2.0.B11.tif', 'https://data.lpdaac.earthdatacloud.nasa.gov/lp-prod-protected/HLSL30.020/HLS.L30.T16RBU.2023156T163128.v2.0/HLS.L30.T16RBU.2023156T163128.v2.0.B01.tif', 'https://data.lpdaac.earthdatacloud.nasa.gov/lp-prod-protected/HLSL30.020/HLS.L30.T16RBU.2023156T163128.v2.0/HLS.L30.T16RBU.2023156T163128.v2.0.B05.tif', 'https://data.lpdaac.earthdatacloud.nasa.gov/lp-prod-protected/HLSL30.020/HLS.L30.T16RBU.2023156T163128.v2.0/HLS.L30.T16RBU.2023156T163128.v2.0.SAA.tif', 'https://data.lpdaac.earthdatacloud.nasa.gov/lp-prod-protected/HLSL30.020/HLS.L30.T16RBU.2023156T163128.v2.0/HLS.L30.T16RBU.2023156T163128.v2.0.Fmask.tif', 'https://data.lpdaac.earthdatacloud.nasa.gov/lp-prod-protected/HLSL30.020/HLS.L30.T16RBU.2023156T163128.v2.0/HLS.L30.T16RBU.2023156T163128.v2.0.B09.tif', 'https://data.lpdaac.earthdatacloud.nasa.gov/lp-prod-protected/HLSL30.020/HLS.L30.T16RBU.2023156T163128.v2.0/HLS.L30.T16RBU.2023156T163128.v2.0.B10.tif', 'https://data.lpdaac.earthdatacloud.nasa.gov/lp-prod-protected/HLSL30.020/HLS.L30.T16RBU.2023156T163128.v2.0/HLS.L30.T16RBU.2023156T163128.v2.0.SZA.tif', 'https://data.lpdaac.earthdatacloud.nasa.gov/lp-prod-protected/HLSL30.020/HLS.L30.T16RBU.2023156T163128.v2.0/HLS.L30.T16RBU.2023156T163128.v2.0.VAA.tif', 'https://data.lpdaac.earthdatacloud.nasa.gov/lp-prod-protected/HLSL30.020/HLS.L30.T16RBU.2023156T163128.v2.0/HLS.L30.T16RBU.2023156T163128.v2.0.B07.tif', 'https://data.lpdaac.earthdatacloud.nasa.gov/lp-prod-protected/HLSL30.020/HLS.L30.T16RBU.2023156T163128.v2.0/HLS.L30.T16RBU.2023156T163128.v2.0.B06.tif', 'https://data.lpdaac.earthdatacloud.nasa.gov/lp-prod-protected/HLSL30.020/HLS.L30.T16RBU.2023156T163128.v2.0/HLS.L30.T16RBU.2023156T163128.v2.0.B02.tif', 'https://data.lpdaac.earthdatacloud.nasa.gov/lp-prod-protected/HLSL30.020/HLS.L30.T16RBU.2023156T163128.v2.0/HLS.L30.T16RBU.2023156T163128.v2.0.B03.tif'],\n",
              " Collection: {'EntryTitle': 'HLS Landsat Operational Land Imager Surface Reflectance and TOA Brightness Daily Global 30m v2.0'}\n",
              " Spatial coverage: {'HorizontalSpatialDomain': {'Geometry': {'GPolygons': [{'Boundary': {'Points': [{'Longitude': -89.79864173, 'Latitude': 29.70347853}, {'Longitude': -89.76643746, 'Latitude': 30.69278312}, {'Longitude': -90.91181412, 'Latitude': 30.71627038}, {'Longitude': -90.93263654, 'Latitude': 29.72605548}, {'Longitude': -89.79864173, 'Latitude': 29.70347853}]}}]}}}\n",
              " Temporal coverage: {'RangeDateTime': {'BeginningDateTime': '2023-06-05T16:31:28.153Z', 'EndingDateTime': '2023-06-05T16:31:28.153Z'}}\n",
              " Size(MB): 199.49737548828125\n",
              " Data: ['https://data.lpdaac.earthdatacloud.nasa.gov/lp-prod-protected/HLSL30.020/HLS.L30.T15RYP.2023156T163128.v2.0/HLS.L30.T15RYP.2023156T163128.v2.0.B03.tif', 'https://data.lpdaac.earthdatacloud.nasa.gov/lp-prod-protected/HLSL30.020/HLS.L30.T15RYP.2023156T163128.v2.0/HLS.L30.T15RYP.2023156T163128.v2.0.B05.tif', 'https://data.lpdaac.earthdatacloud.nasa.gov/lp-prod-protected/HLSL30.020/HLS.L30.T15RYP.2023156T163128.v2.0/HLS.L30.T15RYP.2023156T163128.v2.0.SZA.tif', 'https://data.lpdaac.earthdatacloud.nasa.gov/lp-prod-protected/HLSL30.020/HLS.L30.T15RYP.2023156T163128.v2.0/HLS.L30.T15RYP.2023156T163128.v2.0.B07.tif', 'https://data.lpdaac.earthdatacloud.nasa.gov/lp-prod-protected/HLSL30.020/HLS.L30.T15RYP.2023156T163128.v2.0/HLS.L30.T15RYP.2023156T163128.v2.0.B01.tif', 'https://data.lpdaac.earthdatacloud.nasa.gov/lp-prod-protected/HLSL30.020/HLS.L30.T15RYP.2023156T163128.v2.0/HLS.L30.T15RYP.2023156T163128.v2.0.VZA.tif', 'https://data.lpdaac.earthdatacloud.nasa.gov/lp-prod-protected/HLSL30.020/HLS.L30.T15RYP.2023156T163128.v2.0/HLS.L30.T15RYP.2023156T163128.v2.0.VAA.tif', 'https://data.lpdaac.earthdatacloud.nasa.gov/lp-prod-protected/HLSL30.020/HLS.L30.T15RYP.2023156T163128.v2.0/HLS.L30.T15RYP.2023156T163128.v2.0.Fmask.tif', 'https://data.lpdaac.earthdatacloud.nasa.gov/lp-prod-protected/HLSL30.020/HLS.L30.T15RYP.2023156T163128.v2.0/HLS.L30.T15RYP.2023156T163128.v2.0.B11.tif', 'https://data.lpdaac.earthdatacloud.nasa.gov/lp-prod-protected/HLSL30.020/HLS.L30.T15RYP.2023156T163128.v2.0/HLS.L30.T15RYP.2023156T163128.v2.0.SAA.tif', 'https://data.lpdaac.earthdatacloud.nasa.gov/lp-prod-protected/HLSL30.020/HLS.L30.T15RYP.2023156T163128.v2.0/HLS.L30.T15RYP.2023156T163128.v2.0.B04.tif', 'https://data.lpdaac.earthdatacloud.nasa.gov/lp-prod-protected/HLSL30.020/HLS.L30.T15RYP.2023156T163128.v2.0/HLS.L30.T15RYP.2023156T163128.v2.0.B10.tif', 'https://data.lpdaac.earthdatacloud.nasa.gov/lp-prod-protected/HLSL30.020/HLS.L30.T15RYP.2023156T163128.v2.0/HLS.L30.T15RYP.2023156T163128.v2.0.B09.tif', 'https://data.lpdaac.earthdatacloud.nasa.gov/lp-prod-protected/HLSL30.020/HLS.L30.T15RYP.2023156T163128.v2.0/HLS.L30.T15RYP.2023156T163128.v2.0.B02.tif', 'https://data.lpdaac.earthdatacloud.nasa.gov/lp-prod-protected/HLSL30.020/HLS.L30.T15RYP.2023156T163128.v2.0/HLS.L30.T15RYP.2023156T163128.v2.0.B06.tif'],\n",
              " Collection: {'EntryTitle': 'HLS Landsat Operational Land Imager Surface Reflectance and TOA Brightness Daily Global 30m v2.0'}\n",
              " Spatial coverage: {'HorizontalSpatialDomain': {'Geometry': {'GPolygons': [{'Boundary': {'Points': [{'Longitude': -90.07372506, 'Latitude': 28.80444525}, {'Longitude': -89.53234627, 'Latitude': 28.81569598}, {'Longitude': -89.26442395, 'Latitude': 29.81105867}, {'Longitude': -90.10353675, 'Latitude': 29.79400715}, {'Longitude': -90.07372506, 'Latitude': 28.80444525}]}}]}}}\n",
              " Temporal coverage: {'RangeDateTime': {'BeginningDateTime': '2023-06-05T16:31:28.153Z', 'EndingDateTime': '2023-06-05T16:31:52.048Z'}}\n",
              " Size(MB): 118.801344871521\n",
              " Data: ['https://data.lpdaac.earthdatacloud.nasa.gov/lp-prod-protected/HLSL30.020/HLS.L30.T16RBT.2023156T163128.v2.0/HLS.L30.T16RBT.2023156T163128.v2.0.SAA.tif', 'https://data.lpdaac.earthdatacloud.nasa.gov/lp-prod-protected/HLSL30.020/HLS.L30.T16RBT.2023156T163128.v2.0/HLS.L30.T16RBT.2023156T163128.v2.0.B05.tif', 'https://data.lpdaac.earthdatacloud.nasa.gov/lp-prod-protected/HLSL30.020/HLS.L30.T16RBT.2023156T163128.v2.0/HLS.L30.T16RBT.2023156T163128.v2.0.B11.tif', 'https://data.lpdaac.earthdatacloud.nasa.gov/lp-prod-protected/HLSL30.020/HLS.L30.T16RBT.2023156T163128.v2.0/HLS.L30.T16RBT.2023156T163128.v2.0.B03.tif', 'https://data.lpdaac.earthdatacloud.nasa.gov/lp-prod-protected/HLSL30.020/HLS.L30.T16RBT.2023156T163128.v2.0/HLS.L30.T16RBT.2023156T163128.v2.0.B09.tif', 'https://data.lpdaac.earthdatacloud.nasa.gov/lp-prod-protected/HLSL30.020/HLS.L30.T16RBT.2023156T163128.v2.0/HLS.L30.T16RBT.2023156T163128.v2.0.B07.tif', 'https://data.lpdaac.earthdatacloud.nasa.gov/lp-prod-protected/HLSL30.020/HLS.L30.T16RBT.2023156T163128.v2.0/HLS.L30.T16RBT.2023156T163128.v2.0.VAA.tif', 'https://data.lpdaac.earthdatacloud.nasa.gov/lp-prod-protected/HLSL30.020/HLS.L30.T16RBT.2023156T163128.v2.0/HLS.L30.T16RBT.2023156T163128.v2.0.B04.tif', 'https://data.lpdaac.earthdatacloud.nasa.gov/lp-prod-protected/HLSL30.020/HLS.L30.T16RBT.2023156T163128.v2.0/HLS.L30.T16RBT.2023156T163128.v2.0.B06.tif', 'https://data.lpdaac.earthdatacloud.nasa.gov/lp-prod-protected/HLSL30.020/HLS.L30.T16RBT.2023156T163128.v2.0/HLS.L30.T16RBT.2023156T163128.v2.0.Fmask.tif', 'https://data.lpdaac.earthdatacloud.nasa.gov/lp-prod-protected/HLSL30.020/HLS.L30.T16RBT.2023156T163128.v2.0/HLS.L30.T16RBT.2023156T163128.v2.0.B02.tif', 'https://data.lpdaac.earthdatacloud.nasa.gov/lp-prod-protected/HLSL30.020/HLS.L30.T16RBT.2023156T163128.v2.0/HLS.L30.T16RBT.2023156T163128.v2.0.VZA.tif', 'https://data.lpdaac.earthdatacloud.nasa.gov/lp-prod-protected/HLSL30.020/HLS.L30.T16RBT.2023156T163128.v2.0/HLS.L30.T16RBT.2023156T163128.v2.0.SZA.tif', 'https://data.lpdaac.earthdatacloud.nasa.gov/lp-prod-protected/HLSL30.020/HLS.L30.T16RBT.2023156T163128.v2.0/HLS.L30.T16RBT.2023156T163128.v2.0.B01.tif', 'https://data.lpdaac.earthdatacloud.nasa.gov/lp-prod-protected/HLSL30.020/HLS.L30.T16RBT.2023156T163128.v2.0/HLS.L30.T16RBT.2023156T163128.v2.0.B10.tif'],\n",
              " Collection: {'EntryTitle': 'HLS Landsat Operational Land Imager Surface Reflectance and TOA Brightness Daily Global 30m v2.0'}\n",
              " Spatial coverage: {'HorizontalSpatialDomain': {'Geometry': {'GPolygons': [{'Boundary': {'Points': [{'Longitude': -89.82661214, 'Latitude': 28.80213717}, {'Longitude': -89.79583778, 'Latitude': 29.79160422}, {'Longitude': -90.93082361, 'Latitude': 29.81426153}, {'Longitude': -90.95072084, 'Latitude': 28.82389994}, {'Longitude': -89.82661214, 'Latitude': 28.80213717}]}}]}}}\n",
              " Temporal coverage: {'RangeDateTime': {'BeginningDateTime': '2023-06-05T16:31:28.153Z', 'EndingDateTime': '2023-06-05T16:31:52.048Z'}}\n",
              " Size(MB): 197.48943424224854\n",
              " Data: ['https://data.lpdaac.earthdatacloud.nasa.gov/lp-prod-protected/HLSL30.020/HLS.L30.T15RYN.2023156T163128.v2.0/HLS.L30.T15RYN.2023156T163128.v2.0.B06.tif', 'https://data.lpdaac.earthdatacloud.nasa.gov/lp-prod-protected/HLSL30.020/HLS.L30.T15RYN.2023156T163128.v2.0/HLS.L30.T15RYN.2023156T163128.v2.0.B07.tif', 'https://data.lpdaac.earthdatacloud.nasa.gov/lp-prod-protected/HLSL30.020/HLS.L30.T15RYN.2023156T163128.v2.0/HLS.L30.T15RYN.2023156T163128.v2.0.SZA.tif', 'https://data.lpdaac.earthdatacloud.nasa.gov/lp-prod-protected/HLSL30.020/HLS.L30.T15RYN.2023156T163128.v2.0/HLS.L30.T15RYN.2023156T163128.v2.0.B10.tif', 'https://data.lpdaac.earthdatacloud.nasa.gov/lp-prod-protected/HLSL30.020/HLS.L30.T15RYN.2023156T163128.v2.0/HLS.L30.T15RYN.2023156T163128.v2.0.B05.tif', 'https://data.lpdaac.earthdatacloud.nasa.gov/lp-prod-protected/HLSL30.020/HLS.L30.T15RYN.2023156T163128.v2.0/HLS.L30.T15RYN.2023156T163128.v2.0.B03.tif', 'https://data.lpdaac.earthdatacloud.nasa.gov/lp-prod-protected/HLSL30.020/HLS.L30.T15RYN.2023156T163128.v2.0/HLS.L30.T15RYN.2023156T163128.v2.0.SAA.tif', 'https://data.lpdaac.earthdatacloud.nasa.gov/lp-prod-protected/HLSL30.020/HLS.L30.T15RYN.2023156T163128.v2.0/HLS.L30.T15RYN.2023156T163128.v2.0.B09.tif', 'https://data.lpdaac.earthdatacloud.nasa.gov/lp-prod-protected/HLSL30.020/HLS.L30.T15RYN.2023156T163128.v2.0/HLS.L30.T15RYN.2023156T163128.v2.0.B02.tif', 'https://data.lpdaac.earthdatacloud.nasa.gov/lp-prod-protected/HLSL30.020/HLS.L30.T15RYN.2023156T163128.v2.0/HLS.L30.T15RYN.2023156T163128.v2.0.VAA.tif', 'https://data.lpdaac.earthdatacloud.nasa.gov/lp-prod-protected/HLSL30.020/HLS.L30.T15RYN.2023156T163128.v2.0/HLS.L30.T15RYN.2023156T163128.v2.0.Fmask.tif', 'https://data.lpdaac.earthdatacloud.nasa.gov/lp-prod-protected/HLSL30.020/HLS.L30.T15RYN.2023156T163128.v2.0/HLS.L30.T15RYN.2023156T163128.v2.0.B01.tif', 'https://data.lpdaac.earthdatacloud.nasa.gov/lp-prod-protected/HLSL30.020/HLS.L30.T15RYN.2023156T163128.v2.0/HLS.L30.T15RYN.2023156T163128.v2.0.B04.tif', 'https://data.lpdaac.earthdatacloud.nasa.gov/lp-prod-protected/HLSL30.020/HLS.L30.T15RYN.2023156T163128.v2.0/HLS.L30.T15RYN.2023156T163128.v2.0.B11.tif', 'https://data.lpdaac.earthdatacloud.nasa.gov/lp-prod-protected/HLSL30.020/HLS.L30.T15RYN.2023156T163128.v2.0/HLS.L30.T15RYN.2023156T163128.v2.0.VZA.tif'],\n",
              " Collection: {'EntryTitle': 'HLS Landsat Operational Land Imager Surface Reflectance and TOA Brightness Daily Global 30m v2.0'}\n",
              " Spatial coverage: {'HorizontalSpatialDomain': {'Geometry': {'GPolygons': [{'Boundary': {'Points': [{'Longitude': -90.10082051, 'Latitude': 29.70587294}, {'Longitude': -89.33372623, 'Latitude': 29.72162597}, {'Longitude': -89.06355392, 'Latitude': 30.7166644}, {'Longitude': -90.13201749, 'Latitude': 30.69527405}, {'Longitude': -90.10082051, 'Latitude': 29.70587294}]}}]}}}\n",
              " Temporal coverage: {'RangeDateTime': {'BeginningDateTime': '2023-06-13T16:31:26.844Z', 'EndingDateTime': '2023-06-13T16:31:26.844Z'}}\n",
              " Size(MB): 158.39524841308594\n",
              " Data: ['https://data.lpdaac.earthdatacloud.nasa.gov/lp-prod-protected/HLSL30.020/HLS.L30.T16RBU.2023164T163126.v2.0/HLS.L30.T16RBU.2023164T163126.v2.0.B06.tif', 'https://data.lpdaac.earthdatacloud.nasa.gov/lp-prod-protected/HLSL30.020/HLS.L30.T16RBU.2023164T163126.v2.0/HLS.L30.T16RBU.2023164T163126.v2.0.B11.tif', 'https://data.lpdaac.earthdatacloud.nasa.gov/lp-prod-protected/HLSL30.020/HLS.L30.T16RBU.2023164T163126.v2.0/HLS.L30.T16RBU.2023164T163126.v2.0.Fmask.tif', 'https://data.lpdaac.earthdatacloud.nasa.gov/lp-prod-protected/HLSL30.020/HLS.L30.T16RBU.2023164T163126.v2.0/HLS.L30.T16RBU.2023164T163126.v2.0.B01.tif', 'https://data.lpdaac.earthdatacloud.nasa.gov/lp-prod-protected/HLSL30.020/HLS.L30.T16RBU.2023164T163126.v2.0/HLS.L30.T16RBU.2023164T163126.v2.0.SZA.tif', 'https://data.lpdaac.earthdatacloud.nasa.gov/lp-prod-protected/HLSL30.020/HLS.L30.T16RBU.2023164T163126.v2.0/HLS.L30.T16RBU.2023164T163126.v2.0.B09.tif', 'https://data.lpdaac.earthdatacloud.nasa.gov/lp-prod-protected/HLSL30.020/HLS.L30.T16RBU.2023164T163126.v2.0/HLS.L30.T16RBU.2023164T163126.v2.0.B10.tif', 'https://data.lpdaac.earthdatacloud.nasa.gov/lp-prod-protected/HLSL30.020/HLS.L30.T16RBU.2023164T163126.v2.0/HLS.L30.T16RBU.2023164T163126.v2.0.B02.tif', 'https://data.lpdaac.earthdatacloud.nasa.gov/lp-prod-protected/HLSL30.020/HLS.L30.T16RBU.2023164T163126.v2.0/HLS.L30.T16RBU.2023164T163126.v2.0.SAA.tif', 'https://data.lpdaac.earthdatacloud.nasa.gov/lp-prod-protected/HLSL30.020/HLS.L30.T16RBU.2023164T163126.v2.0/HLS.L30.T16RBU.2023164T163126.v2.0.B07.tif', 'https://data.lpdaac.earthdatacloud.nasa.gov/lp-prod-protected/HLSL30.020/HLS.L30.T16RBU.2023164T163126.v2.0/HLS.L30.T16RBU.2023164T163126.v2.0.B03.tif', 'https://data.lpdaac.earthdatacloud.nasa.gov/lp-prod-protected/HLSL30.020/HLS.L30.T16RBU.2023164T163126.v2.0/HLS.L30.T16RBU.2023164T163126.v2.0.VAA.tif', 'https://data.lpdaac.earthdatacloud.nasa.gov/lp-prod-protected/HLSL30.020/HLS.L30.T16RBU.2023164T163126.v2.0/HLS.L30.T16RBU.2023164T163126.v2.0.VZA.tif', 'https://data.lpdaac.earthdatacloud.nasa.gov/lp-prod-protected/HLSL30.020/HLS.L30.T16RBU.2023164T163126.v2.0/HLS.L30.T16RBU.2023164T163126.v2.0.B05.tif', 'https://data.lpdaac.earthdatacloud.nasa.gov/lp-prod-protected/HLSL30.020/HLS.L30.T16RBU.2023164T163126.v2.0/HLS.L30.T16RBU.2023164T163126.v2.0.B04.tif'],\n",
              " Collection: {'EntryTitle': 'HLS Landsat Operational Land Imager Surface Reflectance and TOA Brightness Daily Global 30m v2.0'}\n",
              " Spatial coverage: {'HorizontalSpatialDomain': {'Geometry': {'GPolygons': [{'Boundary': {'Points': [{'Longitude': -89.79864173, 'Latitude': 29.70347853}, {'Longitude': -89.76643746, 'Latitude': 30.69278312}, {'Longitude': -90.91181412, 'Latitude': 30.71627038}, {'Longitude': -90.93263654, 'Latitude': 29.72605548}, {'Longitude': -89.79864173, 'Latitude': 29.70347853}]}}]}}}\n",
              " Temporal coverage: {'RangeDateTime': {'BeginningDateTime': '2023-06-13T16:31:26.844Z', 'EndingDateTime': '2023-06-13T16:31:26.844Z'}}\n",
              " Size(MB): 195.1623773574829\n",
              " Data: ['https://data.lpdaac.earthdatacloud.nasa.gov/lp-prod-protected/HLSL30.020/HLS.L30.T15RYP.2023164T163126.v2.0/HLS.L30.T15RYP.2023164T163126.v2.0.B09.tif', 'https://data.lpdaac.earthdatacloud.nasa.gov/lp-prod-protected/HLSL30.020/HLS.L30.T15RYP.2023164T163126.v2.0/HLS.L30.T15RYP.2023164T163126.v2.0.B01.tif', 'https://data.lpdaac.earthdatacloud.nasa.gov/lp-prod-protected/HLSL30.020/HLS.L30.T15RYP.2023164T163126.v2.0/HLS.L30.T15RYP.2023164T163126.v2.0.B10.tif', 'https://data.lpdaac.earthdatacloud.nasa.gov/lp-prod-protected/HLSL30.020/HLS.L30.T15RYP.2023164T163126.v2.0/HLS.L30.T15RYP.2023164T163126.v2.0.Fmask.tif', 'https://data.lpdaac.earthdatacloud.nasa.gov/lp-prod-protected/HLSL30.020/HLS.L30.T15RYP.2023164T163126.v2.0/HLS.L30.T15RYP.2023164T163126.v2.0.B04.tif', 'https://data.lpdaac.earthdatacloud.nasa.gov/lp-prod-protected/HLSL30.020/HLS.L30.T15RYP.2023164T163126.v2.0/HLS.L30.T15RYP.2023164T163126.v2.0.B03.tif', 'https://data.lpdaac.earthdatacloud.nasa.gov/lp-prod-protected/HLSL30.020/HLS.L30.T15RYP.2023164T163126.v2.0/HLS.L30.T15RYP.2023164T163126.v2.0.B07.tif', 'https://data.lpdaac.earthdatacloud.nasa.gov/lp-prod-protected/HLSL30.020/HLS.L30.T15RYP.2023164T163126.v2.0/HLS.L30.T15RYP.2023164T163126.v2.0.VZA.tif', 'https://data.lpdaac.earthdatacloud.nasa.gov/lp-prod-protected/HLSL30.020/HLS.L30.T15RYP.2023164T163126.v2.0/HLS.L30.T15RYP.2023164T163126.v2.0.B11.tif', 'https://data.lpdaac.earthdatacloud.nasa.gov/lp-prod-protected/HLSL30.020/HLS.L30.T15RYP.2023164T163126.v2.0/HLS.L30.T15RYP.2023164T163126.v2.0.B02.tif', 'https://data.lpdaac.earthdatacloud.nasa.gov/lp-prod-protected/HLSL30.020/HLS.L30.T15RYP.2023164T163126.v2.0/HLS.L30.T15RYP.2023164T163126.v2.0.VAA.tif', 'https://data.lpdaac.earthdatacloud.nasa.gov/lp-prod-protected/HLSL30.020/HLS.L30.T15RYP.2023164T163126.v2.0/HLS.L30.T15RYP.2023164T163126.v2.0.SAA.tif', 'https://data.lpdaac.earthdatacloud.nasa.gov/lp-prod-protected/HLSL30.020/HLS.L30.T15RYP.2023164T163126.v2.0/HLS.L30.T15RYP.2023164T163126.v2.0.SZA.tif', 'https://data.lpdaac.earthdatacloud.nasa.gov/lp-prod-protected/HLSL30.020/HLS.L30.T15RYP.2023164T163126.v2.0/HLS.L30.T15RYP.2023164T163126.v2.0.B05.tif', 'https://data.lpdaac.earthdatacloud.nasa.gov/lp-prod-protected/HLSL30.020/HLS.L30.T15RYP.2023164T163126.v2.0/HLS.L30.T15RYP.2023164T163126.v2.0.B06.tif'],\n",
              " Collection: {'EntryTitle': 'HLS Landsat Operational Land Imager Surface Reflectance and TOA Brightness Daily Global 30m v2.0'}\n",
              " Spatial coverage: {'HorizontalSpatialDomain': {'Geometry': {'GPolygons': [{'Boundary': {'Points': [{'Longitude': -89.82661214, 'Latitude': 28.80213717}, {'Longitude': -89.79583778, 'Latitude': 29.79160422}, {'Longitude': -90.93082361, 'Latitude': 29.81426153}, {'Longitude': -90.95072084, 'Latitude': 28.82389994}, {'Longitude': -89.82661214, 'Latitude': 28.80213717}]}}]}}}\n",
              " Temporal coverage: {'RangeDateTime': {'BeginningDateTime': '2023-06-13T16:31:26.844Z', 'EndingDateTime': '2023-06-13T16:31:50.735Z'}}\n",
              " Size(MB): 171.5450143814087\n",
              " Data: ['https://data.lpdaac.earthdatacloud.nasa.gov/lp-prod-protected/HLSL30.020/HLS.L30.T15RYN.2023164T163126.v2.0/HLS.L30.T15RYN.2023164T163126.v2.0.B02.tif', 'https://data.lpdaac.earthdatacloud.nasa.gov/lp-prod-protected/HLSL30.020/HLS.L30.T15RYN.2023164T163126.v2.0/HLS.L30.T15RYN.2023164T163126.v2.0.B04.tif', 'https://data.lpdaac.earthdatacloud.nasa.gov/lp-prod-protected/HLSL30.020/HLS.L30.T15RYN.2023164T163126.v2.0/HLS.L30.T15RYN.2023164T163126.v2.0.Fmask.tif', 'https://data.lpdaac.earthdatacloud.nasa.gov/lp-prod-protected/HLSL30.020/HLS.L30.T15RYN.2023164T163126.v2.0/HLS.L30.T15RYN.2023164T163126.v2.0.B07.tif', 'https://data.lpdaac.earthdatacloud.nasa.gov/lp-prod-protected/HLSL30.020/HLS.L30.T15RYN.2023164T163126.v2.0/HLS.L30.T15RYN.2023164T163126.v2.0.VAA.tif', 'https://data.lpdaac.earthdatacloud.nasa.gov/lp-prod-protected/HLSL30.020/HLS.L30.T15RYN.2023164T163126.v2.0/HLS.L30.T15RYN.2023164T163126.v2.0.B05.tif', 'https://data.lpdaac.earthdatacloud.nasa.gov/lp-prod-protected/HLSL30.020/HLS.L30.T15RYN.2023164T163126.v2.0/HLS.L30.T15RYN.2023164T163126.v2.0.B03.tif', 'https://data.lpdaac.earthdatacloud.nasa.gov/lp-prod-protected/HLSL30.020/HLS.L30.T15RYN.2023164T163126.v2.0/HLS.L30.T15RYN.2023164T163126.v2.0.B10.tif', 'https://data.lpdaac.earthdatacloud.nasa.gov/lp-prod-protected/HLSL30.020/HLS.L30.T15RYN.2023164T163126.v2.0/HLS.L30.T15RYN.2023164T163126.v2.0.B09.tif', 'https://data.lpdaac.earthdatacloud.nasa.gov/lp-prod-protected/HLSL30.020/HLS.L30.T15RYN.2023164T163126.v2.0/HLS.L30.T15RYN.2023164T163126.v2.0.VZA.tif', 'https://data.lpdaac.earthdatacloud.nasa.gov/lp-prod-protected/HLSL30.020/HLS.L30.T15RYN.2023164T163126.v2.0/HLS.L30.T15RYN.2023164T163126.v2.0.B06.tif', 'https://data.lpdaac.earthdatacloud.nasa.gov/lp-prod-protected/HLSL30.020/HLS.L30.T15RYN.2023164T163126.v2.0/HLS.L30.T15RYN.2023164T163126.v2.0.B01.tif', 'https://data.lpdaac.earthdatacloud.nasa.gov/lp-prod-protected/HLSL30.020/HLS.L30.T15RYN.2023164T163126.v2.0/HLS.L30.T15RYN.2023164T163126.v2.0.SZA.tif', 'https://data.lpdaac.earthdatacloud.nasa.gov/lp-prod-protected/HLSL30.020/HLS.L30.T15RYN.2023164T163126.v2.0/HLS.L30.T15RYN.2023164T163126.v2.0.SAA.tif', 'https://data.lpdaac.earthdatacloud.nasa.gov/lp-prod-protected/HLSL30.020/HLS.L30.T15RYN.2023164T163126.v2.0/HLS.L30.T15RYN.2023164T163126.v2.0.B11.tif'],\n",
              " Collection: {'EntryTitle': 'HLS Landsat Operational Land Imager Surface Reflectance and TOA Brightness Daily Global 30m v2.0'}\n",
              " Spatial coverage: {'HorizontalSpatialDomain': {'Geometry': {'GPolygons': [{'Boundary': {'Points': [{'Longitude': -90.07372506, 'Latitude': 28.80444525}, {'Longitude': -89.57658349, 'Latitude': 28.81512884}, {'Longitude': -89.31002534, 'Latitude': 29.81026904}, {'Longitude': -90.10353675, 'Latitude': 29.79400715}, {'Longitude': -90.07372506, 'Latitude': 28.80444525}]}}]}}}\n",
              " Temporal coverage: {'RangeDateTime': {'BeginningDateTime': '2023-06-13T16:31:26.844Z', 'EndingDateTime': '2023-06-13T16:31:50.735Z'}}\n",
              " Size(MB): 101.45634651184082\n",
              " Data: ['https://data.lpdaac.earthdatacloud.nasa.gov/lp-prod-protected/HLSL30.020/HLS.L30.T16RBT.2023164T163126.v2.0/HLS.L30.T16RBT.2023164T163126.v2.0.B09.tif', 'https://data.lpdaac.earthdatacloud.nasa.gov/lp-prod-protected/HLSL30.020/HLS.L30.T16RBT.2023164T163126.v2.0/HLS.L30.T16RBT.2023164T163126.v2.0.SAA.tif', 'https://data.lpdaac.earthdatacloud.nasa.gov/lp-prod-protected/HLSL30.020/HLS.L30.T16RBT.2023164T163126.v2.0/HLS.L30.T16RBT.2023164T163126.v2.0.B11.tif', 'https://data.lpdaac.earthdatacloud.nasa.gov/lp-prod-protected/HLSL30.020/HLS.L30.T16RBT.2023164T163126.v2.0/HLS.L30.T16RBT.2023164T163126.v2.0.B01.tif', 'https://data.lpdaac.earthdatacloud.nasa.gov/lp-prod-protected/HLSL30.020/HLS.L30.T16RBT.2023164T163126.v2.0/HLS.L30.T16RBT.2023164T163126.v2.0.B03.tif', 'https://data.lpdaac.earthdatacloud.nasa.gov/lp-prod-protected/HLSL30.020/HLS.L30.T16RBT.2023164T163126.v2.0/HLS.L30.T16RBT.2023164T163126.v2.0.VZA.tif', 'https://data.lpdaac.earthdatacloud.nasa.gov/lp-prod-protected/HLSL30.020/HLS.L30.T16RBT.2023164T163126.v2.0/HLS.L30.T16RBT.2023164T163126.v2.0.B07.tif', 'https://data.lpdaac.earthdatacloud.nasa.gov/lp-prod-protected/HLSL30.020/HLS.L30.T16RBT.2023164T163126.v2.0/HLS.L30.T16RBT.2023164T163126.v2.0.Fmask.tif', 'https://data.lpdaac.earthdatacloud.nasa.gov/lp-prod-protected/HLSL30.020/HLS.L30.T16RBT.2023164T163126.v2.0/HLS.L30.T16RBT.2023164T163126.v2.0.B10.tif', 'https://data.lpdaac.earthdatacloud.nasa.gov/lp-prod-protected/HLSL30.020/HLS.L30.T16RBT.2023164T163126.v2.0/HLS.L30.T16RBT.2023164T163126.v2.0.B04.tif', 'https://data.lpdaac.earthdatacloud.nasa.gov/lp-prod-protected/HLSL30.020/HLS.L30.T16RBT.2023164T163126.v2.0/HLS.L30.T16RBT.2023164T163126.v2.0.B05.tif', 'https://data.lpdaac.earthdatacloud.nasa.gov/lp-prod-protected/HLSL30.020/HLS.L30.T16RBT.2023164T163126.v2.0/HLS.L30.T16RBT.2023164T163126.v2.0.SZA.tif', 'https://data.lpdaac.earthdatacloud.nasa.gov/lp-prod-protected/HLSL30.020/HLS.L30.T16RBT.2023164T163126.v2.0/HLS.L30.T16RBT.2023164T163126.v2.0.VAA.tif', 'https://data.lpdaac.earthdatacloud.nasa.gov/lp-prod-protected/HLSL30.020/HLS.L30.T16RBT.2023164T163126.v2.0/HLS.L30.T16RBT.2023164T163126.v2.0.B02.tif', 'https://data.lpdaac.earthdatacloud.nasa.gov/lp-prod-protected/HLSL30.020/HLS.L30.T16RBT.2023164T163126.v2.0/HLS.L30.T16RBT.2023164T163126.v2.0.B06.tif'],\n",
              " Collection: {'EntryTitle': 'HLS Landsat Operational Land Imager Surface Reflectance and TOA Brightness Daily Global 30m v2.0'}\n",
              " Spatial coverage: {'HorizontalSpatialDomain': {'Geometry': {'GPolygons': [{'Boundary': {'Points': [{'Longitude': -89.79864173, 'Latitude': 29.70347853}, {'Longitude': -89.76643746, 'Latitude': 30.69278312}, {'Longitude': -90.91181412, 'Latitude': 30.71627038}, {'Longitude': -90.93263654, 'Latitude': 29.72605548}, {'Longitude': -89.79864173, 'Latitude': 29.70347853}]}}]}}}\n",
              " Temporal coverage: {'RangeDateTime': {'BeginningDateTime': '2023-06-21T16:31:34.135Z', 'EndingDateTime': '2023-06-21T16:31:34.135Z'}}\n",
              " Size(MB): 195.57819747924805\n",
              " Data: ['https://data.lpdaac.earthdatacloud.nasa.gov/lp-prod-protected/HLSL30.020/HLS.L30.T15RYP.2023172T163134.v2.0/HLS.L30.T15RYP.2023172T163134.v2.0.B02.tif', 'https://data.lpdaac.earthdatacloud.nasa.gov/lp-prod-protected/HLSL30.020/HLS.L30.T15RYP.2023172T163134.v2.0/HLS.L30.T15RYP.2023172T163134.v2.0.B03.tif', 'https://data.lpdaac.earthdatacloud.nasa.gov/lp-prod-protected/HLSL30.020/HLS.L30.T15RYP.2023172T163134.v2.0/HLS.L30.T15RYP.2023172T163134.v2.0.VZA.tif', 'https://data.lpdaac.earthdatacloud.nasa.gov/lp-prod-protected/HLSL30.020/HLS.L30.T15RYP.2023172T163134.v2.0/HLS.L30.T15RYP.2023172T163134.v2.0.B04.tif', 'https://data.lpdaac.earthdatacloud.nasa.gov/lp-prod-protected/HLSL30.020/HLS.L30.T15RYP.2023172T163134.v2.0/HLS.L30.T15RYP.2023172T163134.v2.0.Fmask.tif', 'https://data.lpdaac.earthdatacloud.nasa.gov/lp-prod-protected/HLSL30.020/HLS.L30.T15RYP.2023172T163134.v2.0/HLS.L30.T15RYP.2023172T163134.v2.0.B05.tif', 'https://data.lpdaac.earthdatacloud.nasa.gov/lp-prod-protected/HLSL30.020/HLS.L30.T15RYP.2023172T163134.v2.0/HLS.L30.T15RYP.2023172T163134.v2.0.B06.tif', 'https://data.lpdaac.earthdatacloud.nasa.gov/lp-prod-protected/HLSL30.020/HLS.L30.T15RYP.2023172T163134.v2.0/HLS.L30.T15RYP.2023172T163134.v2.0.B11.tif', 'https://data.lpdaac.earthdatacloud.nasa.gov/lp-prod-protected/HLSL30.020/HLS.L30.T15RYP.2023172T163134.v2.0/HLS.L30.T15RYP.2023172T163134.v2.0.B10.tif', 'https://data.lpdaac.earthdatacloud.nasa.gov/lp-prod-protected/HLSL30.020/HLS.L30.T15RYP.2023172T163134.v2.0/HLS.L30.T15RYP.2023172T163134.v2.0.B01.tif', 'https://data.lpdaac.earthdatacloud.nasa.gov/lp-prod-protected/HLSL30.020/HLS.L30.T15RYP.2023172T163134.v2.0/HLS.L30.T15RYP.2023172T163134.v2.0.VAA.tif', 'https://data.lpdaac.earthdatacloud.nasa.gov/lp-prod-protected/HLSL30.020/HLS.L30.T15RYP.2023172T163134.v2.0/HLS.L30.T15RYP.2023172T163134.v2.0.B07.tif', 'https://data.lpdaac.earthdatacloud.nasa.gov/lp-prod-protected/HLSL30.020/HLS.L30.T15RYP.2023172T163134.v2.0/HLS.L30.T15RYP.2023172T163134.v2.0.SAA.tif', 'https://data.lpdaac.earthdatacloud.nasa.gov/lp-prod-protected/HLSL30.020/HLS.L30.T15RYP.2023172T163134.v2.0/HLS.L30.T15RYP.2023172T163134.v2.0.SZA.tif', 'https://data.lpdaac.earthdatacloud.nasa.gov/lp-prod-protected/HLSL30.020/HLS.L30.T15RYP.2023172T163134.v2.0/HLS.L30.T15RYP.2023172T163134.v2.0.B09.tif'],\n",
              " Collection: {'EntryTitle': 'HLS Landsat Operational Land Imager Surface Reflectance and TOA Brightness Daily Global 30m v2.0'}\n",
              " Spatial coverage: {'HorizontalSpatialDomain': {'Geometry': {'GPolygons': [{'Boundary': {'Points': [{'Longitude': -89.82661214, 'Latitude': 28.80213717}, {'Longitude': -89.79583778, 'Latitude': 29.79160422}, {'Longitude': -90.93082361, 'Latitude': 29.81426153}, {'Longitude': -90.95072084, 'Latitude': 28.82389994}, {'Longitude': -89.82661214, 'Latitude': 28.80213717}]}}]}}}\n",
              " Temporal coverage: {'RangeDateTime': {'BeginningDateTime': '2023-06-21T16:31:34.135Z', 'EndingDateTime': '2023-06-21T16:31:58.030Z'}}\n",
              " Size(MB): 171.61441230773926\n",
              " Data: ['https://data.lpdaac.earthdatacloud.nasa.gov/lp-prod-protected/HLSL30.020/HLS.L30.T15RYN.2023172T163134.v2.0/HLS.L30.T15RYN.2023172T163134.v2.0.B10.tif', 'https://data.lpdaac.earthdatacloud.nasa.gov/lp-prod-protected/HLSL30.020/HLS.L30.T15RYN.2023172T163134.v2.0/HLS.L30.T15RYN.2023172T163134.v2.0.B01.tif', 'https://data.lpdaac.earthdatacloud.nasa.gov/lp-prod-protected/HLSL30.020/HLS.L30.T15RYN.2023172T163134.v2.0/HLS.L30.T15RYN.2023172T163134.v2.0.B07.tif', 'https://data.lpdaac.earthdatacloud.nasa.gov/lp-prod-protected/HLSL30.020/HLS.L30.T15RYN.2023172T163134.v2.0/HLS.L30.T15RYN.2023172T163134.v2.0.SZA.tif', 'https://data.lpdaac.earthdatacloud.nasa.gov/lp-prod-protected/HLSL30.020/HLS.L30.T15RYN.2023172T163134.v2.0/HLS.L30.T15RYN.2023172T163134.v2.0.B09.tif', 'https://data.lpdaac.earthdatacloud.nasa.gov/lp-prod-protected/HLSL30.020/HLS.L30.T15RYN.2023172T163134.v2.0/HLS.L30.T15RYN.2023172T163134.v2.0.B06.tif', 'https://data.lpdaac.earthdatacloud.nasa.gov/lp-prod-protected/HLSL30.020/HLS.L30.T15RYN.2023172T163134.v2.0/HLS.L30.T15RYN.2023172T163134.v2.0.B05.tif', 'https://data.lpdaac.earthdatacloud.nasa.gov/lp-prod-protected/HLSL30.020/HLS.L30.T15RYN.2023172T163134.v2.0/HLS.L30.T15RYN.2023172T163134.v2.0.VAA.tif', 'https://data.lpdaac.earthdatacloud.nasa.gov/lp-prod-protected/HLSL30.020/HLS.L30.T15RYN.2023172T163134.v2.0/HLS.L30.T15RYN.2023172T163134.v2.0.VZA.tif', 'https://data.lpdaac.earthdatacloud.nasa.gov/lp-prod-protected/HLSL30.020/HLS.L30.T15RYN.2023172T163134.v2.0/HLS.L30.T15RYN.2023172T163134.v2.0.B04.tif', 'https://data.lpdaac.earthdatacloud.nasa.gov/lp-prod-protected/HLSL30.020/HLS.L30.T15RYN.2023172T163134.v2.0/HLS.L30.T15RYN.2023172T163134.v2.0.SAA.tif', 'https://data.lpdaac.earthdatacloud.nasa.gov/lp-prod-protected/HLSL30.020/HLS.L30.T15RYN.2023172T163134.v2.0/HLS.L30.T15RYN.2023172T163134.v2.0.B03.tif', 'https://data.lpdaac.earthdatacloud.nasa.gov/lp-prod-protected/HLSL30.020/HLS.L30.T15RYN.2023172T163134.v2.0/HLS.L30.T15RYN.2023172T163134.v2.0.B11.tif', 'https://data.lpdaac.earthdatacloud.nasa.gov/lp-prod-protected/HLSL30.020/HLS.L30.T15RYN.2023172T163134.v2.0/HLS.L30.T15RYN.2023172T163134.v2.0.Fmask.tif', 'https://data.lpdaac.earthdatacloud.nasa.gov/lp-prod-protected/HLSL30.020/HLS.L30.T15RYN.2023172T163134.v2.0/HLS.L30.T15RYN.2023172T163134.v2.0.B02.tif'],\n",
              " Collection: {'EntryTitle': 'HLS Landsat Operational Land Imager Surface Reflectance and TOA Brightness Daily Global 30m v2.0'}\n",
              " Spatial coverage: {'HorizontalSpatialDomain': {'Geometry': {'GPolygons': [{'Boundary': {'Points': [{'Longitude': -90.10082051, 'Latitude': 29.70587294}, {'Longitude': -89.27979728, 'Latitude': 29.72256609}, {'Longitude': -89.00844337, 'Latitude': 30.71752903}, {'Longitude': -90.13201749, 'Latitude': 30.69527405}, {'Longitude': -90.10082051, 'Latitude': 29.70587294}]}}]}}}\n",
              " Temporal coverage: {'RangeDateTime': {'BeginningDateTime': '2023-06-21T16:31:34.135Z', 'EndingDateTime': '2023-06-21T16:31:34.135Z'}}\n",
              " Size(MB): 164.33089447021484\n",
              " Data: ['https://data.lpdaac.earthdatacloud.nasa.gov/lp-prod-protected/HLSL30.020/HLS.L30.T16RBU.2023172T163134.v2.0/HLS.L30.T16RBU.2023172T163134.v2.0.B11.tif', 'https://data.lpdaac.earthdatacloud.nasa.gov/lp-prod-protected/HLSL30.020/HLS.L30.T16RBU.2023172T163134.v2.0/HLS.L30.T16RBU.2023172T163134.v2.0.B05.tif', 'https://data.lpdaac.earthdatacloud.nasa.gov/lp-prod-protected/HLSL30.020/HLS.L30.T16RBU.2023172T163134.v2.0/HLS.L30.T16RBU.2023172T163134.v2.0.B06.tif', 'https://data.lpdaac.earthdatacloud.nasa.gov/lp-prod-protected/HLSL30.020/HLS.L30.T16RBU.2023172T163134.v2.0/HLS.L30.T16RBU.2023172T163134.v2.0.SAA.tif', 'https://data.lpdaac.earthdatacloud.nasa.gov/lp-prod-protected/HLSL30.020/HLS.L30.T16RBU.2023172T163134.v2.0/HLS.L30.T16RBU.2023172T163134.v2.0.B02.tif', 'https://data.lpdaac.earthdatacloud.nasa.gov/lp-prod-protected/HLSL30.020/HLS.L30.T16RBU.2023172T163134.v2.0/HLS.L30.T16RBU.2023172T163134.v2.0.B09.tif', 'https://data.lpdaac.earthdatacloud.nasa.gov/lp-prod-protected/HLSL30.020/HLS.L30.T16RBU.2023172T163134.v2.0/HLS.L30.T16RBU.2023172T163134.v2.0.B10.tif', 'https://data.lpdaac.earthdatacloud.nasa.gov/lp-prod-protected/HLSL30.020/HLS.L30.T16RBU.2023172T163134.v2.0/HLS.L30.T16RBU.2023172T163134.v2.0.VAA.tif', 'https://data.lpdaac.earthdatacloud.nasa.gov/lp-prod-protected/HLSL30.020/HLS.L30.T16RBU.2023172T163134.v2.0/HLS.L30.T16RBU.2023172T163134.v2.0.B04.tif', 'https://data.lpdaac.earthdatacloud.nasa.gov/lp-prod-protected/HLSL30.020/HLS.L30.T16RBU.2023172T163134.v2.0/HLS.L30.T16RBU.2023172T163134.v2.0.SZA.tif', 'https://data.lpdaac.earthdatacloud.nasa.gov/lp-prod-protected/HLSL30.020/HLS.L30.T16RBU.2023172T163134.v2.0/HLS.L30.T16RBU.2023172T163134.v2.0.Fmask.tif', 'https://data.lpdaac.earthdatacloud.nasa.gov/lp-prod-protected/HLSL30.020/HLS.L30.T16RBU.2023172T163134.v2.0/HLS.L30.T16RBU.2023172T163134.v2.0.B07.tif', 'https://data.lpdaac.earthdatacloud.nasa.gov/lp-prod-protected/HLSL30.020/HLS.L30.T16RBU.2023172T163134.v2.0/HLS.L30.T16RBU.2023172T163134.v2.0.B03.tif', 'https://data.lpdaac.earthdatacloud.nasa.gov/lp-prod-protected/HLSL30.020/HLS.L30.T16RBU.2023172T163134.v2.0/HLS.L30.T16RBU.2023172T163134.v2.0.B01.tif', 'https://data.lpdaac.earthdatacloud.nasa.gov/lp-prod-protected/HLSL30.020/HLS.L30.T16RBU.2023172T163134.v2.0/HLS.L30.T16RBU.2023172T163134.v2.0.VZA.tif'],\n",
              " Collection: {'EntryTitle': 'HLS Landsat Operational Land Imager Surface Reflectance and TOA Brightness Daily Global 30m v2.0'}\n",
              " Spatial coverage: {'HorizontalSpatialDomain': {'Geometry': {'GPolygons': [{'Boundary': {'Points': [{'Longitude': -90.07372506, 'Latitude': 28.80444525}, {'Longitude': -89.52374567, 'Latitude': 28.81585717}, {'Longitude': -89.25604799, 'Latitude': 29.811202}, {'Longitude': -90.10353675, 'Latitude': 29.79400715}, {'Longitude': -90.07372506, 'Latitude': 28.80444525}]}}]}}}\n",
              " Temporal coverage: {'RangeDateTime': {'BeginningDateTime': '2023-06-21T16:31:34.135Z', 'EndingDateTime': '2023-06-21T16:31:58.030Z'}}\n",
              " Size(MB): 115.42687129974365\n",
              " Data: ['https://data.lpdaac.earthdatacloud.nasa.gov/lp-prod-protected/HLSL30.020/HLS.L30.T16RBT.2023172T163134.v2.0/HLS.L30.T16RBT.2023172T163134.v2.0.B04.tif', 'https://data.lpdaac.earthdatacloud.nasa.gov/lp-prod-protected/HLSL30.020/HLS.L30.T16RBT.2023172T163134.v2.0/HLS.L30.T16RBT.2023172T163134.v2.0.B07.tif', 'https://data.lpdaac.earthdatacloud.nasa.gov/lp-prod-protected/HLSL30.020/HLS.L30.T16RBT.2023172T163134.v2.0/HLS.L30.T16RBT.2023172T163134.v2.0.VAA.tif', 'https://data.lpdaac.earthdatacloud.nasa.gov/lp-prod-protected/HLSL30.020/HLS.L30.T16RBT.2023172T163134.v2.0/HLS.L30.T16RBT.2023172T163134.v2.0.B11.tif', 'https://data.lpdaac.earthdatacloud.nasa.gov/lp-prod-protected/HLSL30.020/HLS.L30.T16RBT.2023172T163134.v2.0/HLS.L30.T16RBT.2023172T163134.v2.0.B01.tif', 'https://data.lpdaac.earthdatacloud.nasa.gov/lp-prod-protected/HLSL30.020/HLS.L30.T16RBT.2023172T163134.v2.0/HLS.L30.T16RBT.2023172T163134.v2.0.B06.tif', 'https://data.lpdaac.earthdatacloud.nasa.gov/lp-prod-protected/HLSL30.020/HLS.L30.T16RBT.2023172T163134.v2.0/HLS.L30.T16RBT.2023172T163134.v2.0.B03.tif', 'https://data.lpdaac.earthdatacloud.nasa.gov/lp-prod-protected/HLSL30.020/HLS.L30.T16RBT.2023172T163134.v2.0/HLS.L30.T16RBT.2023172T163134.v2.0.SZA.tif', 'https://data.lpdaac.earthdatacloud.nasa.gov/lp-prod-protected/HLSL30.020/HLS.L30.T16RBT.2023172T163134.v2.0/HLS.L30.T16RBT.2023172T163134.v2.0.B02.tif', 'https://data.lpdaac.earthdatacloud.nasa.gov/lp-prod-protected/HLSL30.020/HLS.L30.T16RBT.2023172T163134.v2.0/HLS.L30.T16RBT.2023172T163134.v2.0.Fmask.tif', 'https://data.lpdaac.earthdatacloud.nasa.gov/lp-prod-protected/HLSL30.020/HLS.L30.T16RBT.2023172T163134.v2.0/HLS.L30.T16RBT.2023172T163134.v2.0.B05.tif', 'https://data.lpdaac.earthdatacloud.nasa.gov/lp-prod-protected/HLSL30.020/HLS.L30.T16RBT.2023172T163134.v2.0/HLS.L30.T16RBT.2023172T163134.v2.0.SAA.tif', 'https://data.lpdaac.earthdatacloud.nasa.gov/lp-prod-protected/HLSL30.020/HLS.L30.T16RBT.2023172T163134.v2.0/HLS.L30.T16RBT.2023172T163134.v2.0.B09.tif', 'https://data.lpdaac.earthdatacloud.nasa.gov/lp-prod-protected/HLSL30.020/HLS.L30.T16RBT.2023172T163134.v2.0/HLS.L30.T16RBT.2023172T163134.v2.0.VZA.tif', 'https://data.lpdaac.earthdatacloud.nasa.gov/lp-prod-protected/HLSL30.020/HLS.L30.T16RBT.2023172T163134.v2.0/HLS.L30.T16RBT.2023172T163134.v2.0.B10.tif'],\n",
              " Collection: {'EntryTitle': 'HLS Landsat Operational Land Imager Surface Reflectance and TOA Brightness Daily Global 30m v2.0'}\n",
              " Spatial coverage: {'HorizontalSpatialDomain': {'Geometry': {'GPolygons': [{'Boundary': {'Points': [{'Longitude': -90.10082051, 'Latitude': 29.70587294}, {'Longitude': -89.30087944, 'Latitude': 29.72247183}, {'Longitude': -89.02973637, 'Latitude': 30.71719774}, {'Longitude': -90.13201749, 'Latitude': 30.69527405}, {'Longitude': -90.10082051, 'Latitude': 29.70587294}]}}]}}}\n",
              " Temporal coverage: {'RangeDateTime': {'BeginningDateTime': '2023-06-29T16:31:32.405Z', 'EndingDateTime': '2023-06-29T16:31:32.405Z'}}\n",
              " Size(MB): 152.8395118713379\n",
              " Data: ['https://data.lpdaac.earthdatacloud.nasa.gov/lp-prod-protected/HLSL30.020/HLS.L30.T16RBU.2023180T163132.v2.0/HLS.L30.T16RBU.2023180T163132.v2.0.B10.tif', 'https://data.lpdaac.earthdatacloud.nasa.gov/lp-prod-protected/HLSL30.020/HLS.L30.T16RBU.2023180T163132.v2.0/HLS.L30.T16RBU.2023180T163132.v2.0.SZA.tif', 'https://data.lpdaac.earthdatacloud.nasa.gov/lp-prod-protected/HLSL30.020/HLS.L30.T16RBU.2023180T163132.v2.0/HLS.L30.T16RBU.2023180T163132.v2.0.B09.tif', 'https://data.lpdaac.earthdatacloud.nasa.gov/lp-prod-protected/HLSL30.020/HLS.L30.T16RBU.2023180T163132.v2.0/HLS.L30.T16RBU.2023180T163132.v2.0.Fmask.tif', 'https://data.lpdaac.earthdatacloud.nasa.gov/lp-prod-protected/HLSL30.020/HLS.L30.T16RBU.2023180T163132.v2.0/HLS.L30.T16RBU.2023180T163132.v2.0.B03.tif', 'https://data.lpdaac.earthdatacloud.nasa.gov/lp-prod-protected/HLSL30.020/HLS.L30.T16RBU.2023180T163132.v2.0/HLS.L30.T16RBU.2023180T163132.v2.0.B06.tif', 'https://data.lpdaac.earthdatacloud.nasa.gov/lp-prod-protected/HLSL30.020/HLS.L30.T16RBU.2023180T163132.v2.0/HLS.L30.T16RBU.2023180T163132.v2.0.B11.tif', 'https://data.lpdaac.earthdatacloud.nasa.gov/lp-prod-protected/HLSL30.020/HLS.L30.T16RBU.2023180T163132.v2.0/HLS.L30.T16RBU.2023180T163132.v2.0.SAA.tif', 'https://data.lpdaac.earthdatacloud.nasa.gov/lp-prod-protected/HLSL30.020/HLS.L30.T16RBU.2023180T163132.v2.0/HLS.L30.T16RBU.2023180T163132.v2.0.B05.tif', 'https://data.lpdaac.earthdatacloud.nasa.gov/lp-prod-protected/HLSL30.020/HLS.L30.T16RBU.2023180T163132.v2.0/HLS.L30.T16RBU.2023180T163132.v2.0.VZA.tif', 'https://data.lpdaac.earthdatacloud.nasa.gov/lp-prod-protected/HLSL30.020/HLS.L30.T16RBU.2023180T163132.v2.0/HLS.L30.T16RBU.2023180T163132.v2.0.B07.tif', 'https://data.lpdaac.earthdatacloud.nasa.gov/lp-prod-protected/HLSL30.020/HLS.L30.T16RBU.2023180T163132.v2.0/HLS.L30.T16RBU.2023180T163132.v2.0.B01.tif', 'https://data.lpdaac.earthdatacloud.nasa.gov/lp-prod-protected/HLSL30.020/HLS.L30.T16RBU.2023180T163132.v2.0/HLS.L30.T16RBU.2023180T163132.v2.0.VAA.tif', 'https://data.lpdaac.earthdatacloud.nasa.gov/lp-prod-protected/HLSL30.020/HLS.L30.T16RBU.2023180T163132.v2.0/HLS.L30.T16RBU.2023180T163132.v2.0.B02.tif', 'https://data.lpdaac.earthdatacloud.nasa.gov/lp-prod-protected/HLSL30.020/HLS.L30.T16RBU.2023180T163132.v2.0/HLS.L30.T16RBU.2023180T163132.v2.0.B04.tif'],\n",
              " Collection: {'EntryTitle': 'HLS Landsat Operational Land Imager Surface Reflectance and TOA Brightness Daily Global 30m v2.0'}\n",
              " Spatial coverage: {'HorizontalSpatialDomain': {'Geometry': {'GPolygons': [{'Boundary': {'Points': [{'Longitude': -89.79864173, 'Latitude': 29.70347853}, {'Longitude': -89.76643746, 'Latitude': 30.69278312}, {'Longitude': -90.91181412, 'Latitude': 30.71627038}, {'Longitude': -90.93263654, 'Latitude': 29.72605548}, {'Longitude': -89.79864173, 'Latitude': 29.70347853}]}}]}}}\n",
              " Temporal coverage: {'RangeDateTime': {'BeginningDateTime': '2023-06-29T16:31:32.405Z', 'EndingDateTime': '2023-06-29T16:31:32.405Z'}}\n",
              " Size(MB): 176.9731960296631\n",
              " Data: ['https://data.lpdaac.earthdatacloud.nasa.gov/lp-prod-protected/HLSL30.020/HLS.L30.T15RYP.2023180T163132.v2.0/HLS.L30.T15RYP.2023180T163132.v2.0.B04.tif', 'https://data.lpdaac.earthdatacloud.nasa.gov/lp-prod-protected/HLSL30.020/HLS.L30.T15RYP.2023180T163132.v2.0/HLS.L30.T15RYP.2023180T163132.v2.0.B02.tif', 'https://data.lpdaac.earthdatacloud.nasa.gov/lp-prod-protected/HLSL30.020/HLS.L30.T15RYP.2023180T163132.v2.0/HLS.L30.T15RYP.2023180T163132.v2.0.B07.tif', 'https://data.lpdaac.earthdatacloud.nasa.gov/lp-prod-protected/HLSL30.020/HLS.L30.T15RYP.2023180T163132.v2.0/HLS.L30.T15RYP.2023180T163132.v2.0.B09.tif', 'https://data.lpdaac.earthdatacloud.nasa.gov/lp-prod-protected/HLSL30.020/HLS.L30.T15RYP.2023180T163132.v2.0/HLS.L30.T15RYP.2023180T163132.v2.0.SZA.tif', 'https://data.lpdaac.earthdatacloud.nasa.gov/lp-prod-protected/HLSL30.020/HLS.L30.T15RYP.2023180T163132.v2.0/HLS.L30.T15RYP.2023180T163132.v2.0.Fmask.tif', 'https://data.lpdaac.earthdatacloud.nasa.gov/lp-prod-protected/HLSL30.020/HLS.L30.T15RYP.2023180T163132.v2.0/HLS.L30.T15RYP.2023180T163132.v2.0.VZA.tif', 'https://data.lpdaac.earthdatacloud.nasa.gov/lp-prod-protected/HLSL30.020/HLS.L30.T15RYP.2023180T163132.v2.0/HLS.L30.T15RYP.2023180T163132.v2.0.B06.tif', 'https://data.lpdaac.earthdatacloud.nasa.gov/lp-prod-protected/HLSL30.020/HLS.L30.T15RYP.2023180T163132.v2.0/HLS.L30.T15RYP.2023180T163132.v2.0.SAA.tif', 'https://data.lpdaac.earthdatacloud.nasa.gov/lp-prod-protected/HLSL30.020/HLS.L30.T15RYP.2023180T163132.v2.0/HLS.L30.T15RYP.2023180T163132.v2.0.B11.tif', 'https://data.lpdaac.earthdatacloud.nasa.gov/lp-prod-protected/HLSL30.020/HLS.L30.T15RYP.2023180T163132.v2.0/HLS.L30.T15RYP.2023180T163132.v2.0.B03.tif', 'https://data.lpdaac.earthdatacloud.nasa.gov/lp-prod-protected/HLSL30.020/HLS.L30.T15RYP.2023180T163132.v2.0/HLS.L30.T15RYP.2023180T163132.v2.0.VAA.tif', 'https://data.lpdaac.earthdatacloud.nasa.gov/lp-prod-protected/HLSL30.020/HLS.L30.T15RYP.2023180T163132.v2.0/HLS.L30.T15RYP.2023180T163132.v2.0.B05.tif', 'https://data.lpdaac.earthdatacloud.nasa.gov/lp-prod-protected/HLSL30.020/HLS.L30.T15RYP.2023180T163132.v2.0/HLS.L30.T15RYP.2023180T163132.v2.0.B10.tif', 'https://data.lpdaac.earthdatacloud.nasa.gov/lp-prod-protected/HLSL30.020/HLS.L30.T15RYP.2023180T163132.v2.0/HLS.L30.T15RYP.2023180T163132.v2.0.B01.tif'],\n",
              " Collection: {'EntryTitle': 'HLS Landsat Operational Land Imager Surface Reflectance and TOA Brightness Daily Global 30m v2.0'}\n",
              " Spatial coverage: {'HorizontalSpatialDomain': {'Geometry': {'GPolygons': [{'Boundary': {'Points': [{'Longitude': -90.07372506, 'Latitude': 28.80444525}, {'Longitude': -89.54493988, 'Latitude': 28.81545895}, {'Longitude': -89.27714289, 'Latitude': 29.81084001}, {'Longitude': -90.10353675, 'Latitude': 29.79400715}, {'Longitude': -90.07372506, 'Latitude': 28.80444525}]}}]}}}\n",
              " Temporal coverage: {'RangeDateTime': {'BeginningDateTime': '2023-06-29T16:31:32.405Z', 'EndingDateTime': '2023-06-29T16:31:56.296Z'}}\n",
              " Size(MB): 100.81501483917236\n",
              " Data: ['https://data.lpdaac.earthdatacloud.nasa.gov/lp-prod-protected/HLSL30.020/HLS.L30.T16RBT.2023180T163132.v2.0/HLS.L30.T16RBT.2023180T163132.v2.0.SZA.tif', 'https://data.lpdaac.earthdatacloud.nasa.gov/lp-prod-protected/HLSL30.020/HLS.L30.T16RBT.2023180T163132.v2.0/HLS.L30.T16RBT.2023180T163132.v2.0.B01.tif', 'https://data.lpdaac.earthdatacloud.nasa.gov/lp-prod-protected/HLSL30.020/HLS.L30.T16RBT.2023180T163132.v2.0/HLS.L30.T16RBT.2023180T163132.v2.0.Fmask.tif', 'https://data.lpdaac.earthdatacloud.nasa.gov/lp-prod-protected/HLSL30.020/HLS.L30.T16RBT.2023180T163132.v2.0/HLS.L30.T16RBT.2023180T163132.v2.0.B05.tif', 'https://data.lpdaac.earthdatacloud.nasa.gov/lp-prod-protected/HLSL30.020/HLS.L30.T16RBT.2023180T163132.v2.0/HLS.L30.T16RBT.2023180T163132.v2.0.VAA.tif', 'https://data.lpdaac.earthdatacloud.nasa.gov/lp-prod-protected/HLSL30.020/HLS.L30.T16RBT.2023180T163132.v2.0/HLS.L30.T16RBT.2023180T163132.v2.0.B06.tif', 'https://data.lpdaac.earthdatacloud.nasa.gov/lp-prod-protected/HLSL30.020/HLS.L30.T16RBT.2023180T163132.v2.0/HLS.L30.T16RBT.2023180T163132.v2.0.SAA.tif', 'https://data.lpdaac.earthdatacloud.nasa.gov/lp-prod-protected/HLSL30.020/HLS.L30.T16RBT.2023180T163132.v2.0/HLS.L30.T16RBT.2023180T163132.v2.0.B11.tif', 'https://data.lpdaac.earthdatacloud.nasa.gov/lp-prod-protected/HLSL30.020/HLS.L30.T16RBT.2023180T163132.v2.0/HLS.L30.T16RBT.2023180T163132.v2.0.B02.tif', 'https://data.lpdaac.earthdatacloud.nasa.gov/lp-prod-protected/HLSL30.020/HLS.L30.T16RBT.2023180T163132.v2.0/HLS.L30.T16RBT.2023180T163132.v2.0.B03.tif', 'https://data.lpdaac.earthdatacloud.nasa.gov/lp-prod-protected/HLSL30.020/HLS.L30.T16RBT.2023180T163132.v2.0/HLS.L30.T16RBT.2023180T163132.v2.0.B10.tif', 'https://data.lpdaac.earthdatacloud.nasa.gov/lp-prod-protected/HLSL30.020/HLS.L30.T16RBT.2023180T163132.v2.0/HLS.L30.T16RBT.2023180T163132.v2.0.VZA.tif', 'https://data.lpdaac.earthdatacloud.nasa.gov/lp-prod-protected/HLSL30.020/HLS.L30.T16RBT.2023180T163132.v2.0/HLS.L30.T16RBT.2023180T163132.v2.0.B04.tif', 'https://data.lpdaac.earthdatacloud.nasa.gov/lp-prod-protected/HLSL30.020/HLS.L30.T16RBT.2023180T163132.v2.0/HLS.L30.T16RBT.2023180T163132.v2.0.B07.tif', 'https://data.lpdaac.earthdatacloud.nasa.gov/lp-prod-protected/HLSL30.020/HLS.L30.T16RBT.2023180T163132.v2.0/HLS.L30.T16RBT.2023180T163132.v2.0.B09.tif'],\n",
              " Collection: {'EntryTitle': 'HLS Landsat Operational Land Imager Surface Reflectance and TOA Brightness Daily Global 30m v2.0'}\n",
              " Spatial coverage: {'HorizontalSpatialDomain': {'Geometry': {'GPolygons': [{'Boundary': {'Points': [{'Longitude': -89.82661214, 'Latitude': 28.80213717}, {'Longitude': -89.79583778, 'Latitude': 29.79160422}, {'Longitude': -90.93082361, 'Latitude': 29.81426153}, {'Longitude': -90.95072084, 'Latitude': 28.82389994}, {'Longitude': -89.82661214, 'Latitude': 28.80213717}]}}]}}}\n",
              " Temporal coverage: {'RangeDateTime': {'BeginningDateTime': '2023-06-29T16:31:32.405Z', 'EndingDateTime': '2023-06-29T16:31:56.296Z'}}\n",
              " Size(MB): 167.79599571228027\n",
              " Data: ['https://data.lpdaac.earthdatacloud.nasa.gov/lp-prod-protected/HLSL30.020/HLS.L30.T15RYN.2023180T163132.v2.0/HLS.L30.T15RYN.2023180T163132.v2.0.B09.tif', 'https://data.lpdaac.earthdatacloud.nasa.gov/lp-prod-protected/HLSL30.020/HLS.L30.T15RYN.2023180T163132.v2.0/HLS.L30.T15RYN.2023180T163132.v2.0.B05.tif', 'https://data.lpdaac.earthdatacloud.nasa.gov/lp-prod-protected/HLSL30.020/HLS.L30.T15RYN.2023180T163132.v2.0/HLS.L30.T15RYN.2023180T163132.v2.0.B03.tif', 'https://data.lpdaac.earthdatacloud.nasa.gov/lp-prod-protected/HLSL30.020/HLS.L30.T15RYN.2023180T163132.v2.0/HLS.L30.T15RYN.2023180T163132.v2.0.B07.tif', 'https://data.lpdaac.earthdatacloud.nasa.gov/lp-prod-protected/HLSL30.020/HLS.L30.T15RYN.2023180T163132.v2.0/HLS.L30.T15RYN.2023180T163132.v2.0.B11.tif', 'https://data.lpdaac.earthdatacloud.nasa.gov/lp-prod-protected/HLSL30.020/HLS.L30.T15RYN.2023180T163132.v2.0/HLS.L30.T15RYN.2023180T163132.v2.0.B02.tif', 'https://data.lpdaac.earthdatacloud.nasa.gov/lp-prod-protected/HLSL30.020/HLS.L30.T15RYN.2023180T163132.v2.0/HLS.L30.T15RYN.2023180T163132.v2.0.SAA.tif', 'https://data.lpdaac.earthdatacloud.nasa.gov/lp-prod-protected/HLSL30.020/HLS.L30.T15RYN.2023180T163132.v2.0/HLS.L30.T15RYN.2023180T163132.v2.0.SZA.tif', 'https://data.lpdaac.earthdatacloud.nasa.gov/lp-prod-protected/HLSL30.020/HLS.L30.T15RYN.2023180T163132.v2.0/HLS.L30.T15RYN.2023180T163132.v2.0.B04.tif', 'https://data.lpdaac.earthdatacloud.nasa.gov/lp-prod-protected/HLSL30.020/HLS.L30.T15RYN.2023180T163132.v2.0/HLS.L30.T15RYN.2023180T163132.v2.0.VZA.tif', 'https://data.lpdaac.earthdatacloud.nasa.gov/lp-prod-protected/HLSL30.020/HLS.L30.T15RYN.2023180T163132.v2.0/HLS.L30.T15RYN.2023180T163132.v2.0.Fmask.tif', 'https://data.lpdaac.earthdatacloud.nasa.gov/lp-prod-protected/HLSL30.020/HLS.L30.T15RYN.2023180T163132.v2.0/HLS.L30.T15RYN.2023180T163132.v2.0.B10.tif', 'https://data.lpdaac.earthdatacloud.nasa.gov/lp-prod-protected/HLSL30.020/HLS.L30.T15RYN.2023180T163132.v2.0/HLS.L30.T15RYN.2023180T163132.v2.0.B01.tif', 'https://data.lpdaac.earthdatacloud.nasa.gov/lp-prod-protected/HLSL30.020/HLS.L30.T15RYN.2023180T163132.v2.0/HLS.L30.T15RYN.2023180T163132.v2.0.VAA.tif', 'https://data.lpdaac.earthdatacloud.nasa.gov/lp-prod-protected/HLSL30.020/HLS.L30.T15RYN.2023180T163132.v2.0/HLS.L30.T15RYN.2023180T163132.v2.0.B06.tif'],\n",
              " Collection: {'EntryTitle': 'HLS Landsat Operational Land Imager Surface Reflectance and TOA Brightness Daily Global 30m v2.0'}\n",
              " Spatial coverage: {'HorizontalSpatialDomain': {'Geometry': {'GPolygons': [{'Boundary': {'Points': [{'Longitude': -90.10082051, 'Latitude': 29.70587294}, {'Longitude': -89.29839376, 'Latitude': 29.72224438}, {'Longitude': -89.0269182, 'Latitude': 30.71724179}, {'Longitude': -90.13201749, 'Latitude': 30.69527405}, {'Longitude': -90.10082051, 'Latitude': 29.70587294}]}}]}}}\n",
              " Temporal coverage: {'RangeDateTime': {'BeginningDateTime': '2023-07-07T16:31:46.664Z', 'EndingDateTime': '2023-07-07T16:31:46.664Z'}}\n",
              " Size(MB): 158.11985111236572\n",
              " Data: ['https://data.lpdaac.earthdatacloud.nasa.gov/lp-prod-protected/HLSL30.020/HLS.L30.T16RBU.2023188T163146.v2.0/HLS.L30.T16RBU.2023188T163146.v2.0.B03.tif', 'https://data.lpdaac.earthdatacloud.nasa.gov/lp-prod-protected/HLSL30.020/HLS.L30.T16RBU.2023188T163146.v2.0/HLS.L30.T16RBU.2023188T163146.v2.0.B04.tif', 'https://data.lpdaac.earthdatacloud.nasa.gov/lp-prod-protected/HLSL30.020/HLS.L30.T16RBU.2023188T163146.v2.0/HLS.L30.T16RBU.2023188T163146.v2.0.B11.tif', 'https://data.lpdaac.earthdatacloud.nasa.gov/lp-prod-protected/HLSL30.020/HLS.L30.T16RBU.2023188T163146.v2.0/HLS.L30.T16RBU.2023188T163146.v2.0.VAA.tif', 'https://data.lpdaac.earthdatacloud.nasa.gov/lp-prod-protected/HLSL30.020/HLS.L30.T16RBU.2023188T163146.v2.0/HLS.L30.T16RBU.2023188T163146.v2.0.SAA.tif', 'https://data.lpdaac.earthdatacloud.nasa.gov/lp-prod-protected/HLSL30.020/HLS.L30.T16RBU.2023188T163146.v2.0/HLS.L30.T16RBU.2023188T163146.v2.0.B07.tif', 'https://data.lpdaac.earthdatacloud.nasa.gov/lp-prod-protected/HLSL30.020/HLS.L30.T16RBU.2023188T163146.v2.0/HLS.L30.T16RBU.2023188T163146.v2.0.B09.tif', 'https://data.lpdaac.earthdatacloud.nasa.gov/lp-prod-protected/HLSL30.020/HLS.L30.T16RBU.2023188T163146.v2.0/HLS.L30.T16RBU.2023188T163146.v2.0.VZA.tif', 'https://data.lpdaac.earthdatacloud.nasa.gov/lp-prod-protected/HLSL30.020/HLS.L30.T16RBU.2023188T163146.v2.0/HLS.L30.T16RBU.2023188T163146.v2.0.SZA.tif', 'https://data.lpdaac.earthdatacloud.nasa.gov/lp-prod-protected/HLSL30.020/HLS.L30.T16RBU.2023188T163146.v2.0/HLS.L30.T16RBU.2023188T163146.v2.0.B01.tif', 'https://data.lpdaac.earthdatacloud.nasa.gov/lp-prod-protected/HLSL30.020/HLS.L30.T16RBU.2023188T163146.v2.0/HLS.L30.T16RBU.2023188T163146.v2.0.B10.tif', 'https://data.lpdaac.earthdatacloud.nasa.gov/lp-prod-protected/HLSL30.020/HLS.L30.T16RBU.2023188T163146.v2.0/HLS.L30.T16RBU.2023188T163146.v2.0.Fmask.tif', 'https://data.lpdaac.earthdatacloud.nasa.gov/lp-prod-protected/HLSL30.020/HLS.L30.T16RBU.2023188T163146.v2.0/HLS.L30.T16RBU.2023188T163146.v2.0.B06.tif', 'https://data.lpdaac.earthdatacloud.nasa.gov/lp-prod-protected/HLSL30.020/HLS.L30.T16RBU.2023188T163146.v2.0/HLS.L30.T16RBU.2023188T163146.v2.0.B05.tif', 'https://data.lpdaac.earthdatacloud.nasa.gov/lp-prod-protected/HLSL30.020/HLS.L30.T16RBU.2023188T163146.v2.0/HLS.L30.T16RBU.2023188T163146.v2.0.B02.tif'],\n",
              " Collection: {'EntryTitle': 'HLS Landsat Operational Land Imager Surface Reflectance and TOA Brightness Daily Global 30m v2.0'}\n",
              " Spatial coverage: {'HorizontalSpatialDomain': {'Geometry': {'GPolygons': [{'Boundary': {'Points': [{'Longitude': -89.79864173, 'Latitude': 29.70347853}, {'Longitude': -89.76643746, 'Latitude': 30.69278312}, {'Longitude': -90.91181412, 'Latitude': 30.71627038}, {'Longitude': -90.93263654, 'Latitude': 29.72605548}, {'Longitude': -89.79864173, 'Latitude': 29.70347853}]}}]}}}\n",
              " Temporal coverage: {'RangeDateTime': {'BeginningDateTime': '2023-07-07T16:31:46.664Z', 'EndingDateTime': '2023-07-07T16:31:46.664Z'}}\n",
              " Size(MB): 191.48034858703613\n",
              " Data: ['https://data.lpdaac.earthdatacloud.nasa.gov/lp-prod-protected/HLSL30.020/HLS.L30.T15RYP.2023188T163146.v2.0/HLS.L30.T15RYP.2023188T163146.v2.0.B04.tif', 'https://data.lpdaac.earthdatacloud.nasa.gov/lp-prod-protected/HLSL30.020/HLS.L30.T15RYP.2023188T163146.v2.0/HLS.L30.T15RYP.2023188T163146.v2.0.B01.tif', 'https://data.lpdaac.earthdatacloud.nasa.gov/lp-prod-protected/HLSL30.020/HLS.L30.T15RYP.2023188T163146.v2.0/HLS.L30.T15RYP.2023188T163146.v2.0.B03.tif', 'https://data.lpdaac.earthdatacloud.nasa.gov/lp-prod-protected/HLSL30.020/HLS.L30.T15RYP.2023188T163146.v2.0/HLS.L30.T15RYP.2023188T163146.v2.0.B06.tif', 'https://data.lpdaac.earthdatacloud.nasa.gov/lp-prod-protected/HLSL30.020/HLS.L30.T15RYP.2023188T163146.v2.0/HLS.L30.T15RYP.2023188T163146.v2.0.B05.tif', 'https://data.lpdaac.earthdatacloud.nasa.gov/lp-prod-protected/HLSL30.020/HLS.L30.T15RYP.2023188T163146.v2.0/HLS.L30.T15RYP.2023188T163146.v2.0.B11.tif', 'https://data.lpdaac.earthdatacloud.nasa.gov/lp-prod-protected/HLSL30.020/HLS.L30.T15RYP.2023188T163146.v2.0/HLS.L30.T15RYP.2023188T163146.v2.0.B10.tif', 'https://data.lpdaac.earthdatacloud.nasa.gov/lp-prod-protected/HLSL30.020/HLS.L30.T15RYP.2023188T163146.v2.0/HLS.L30.T15RYP.2023188T163146.v2.0.Fmask.tif', 'https://data.lpdaac.earthdatacloud.nasa.gov/lp-prod-protected/HLSL30.020/HLS.L30.T15RYP.2023188T163146.v2.0/HLS.L30.T15RYP.2023188T163146.v2.0.SZA.tif', 'https://data.lpdaac.earthdatacloud.nasa.gov/lp-prod-protected/HLSL30.020/HLS.L30.T15RYP.2023188T163146.v2.0/HLS.L30.T15RYP.2023188T163146.v2.0.B02.tif', 'https://data.lpdaac.earthdatacloud.nasa.gov/lp-prod-protected/HLSL30.020/HLS.L30.T15RYP.2023188T163146.v2.0/HLS.L30.T15RYP.2023188T163146.v2.0.SAA.tif', 'https://data.lpdaac.earthdatacloud.nasa.gov/lp-prod-protected/HLSL30.020/HLS.L30.T15RYP.2023188T163146.v2.0/HLS.L30.T15RYP.2023188T163146.v2.0.B07.tif', 'https://data.lpdaac.earthdatacloud.nasa.gov/lp-prod-protected/HLSL30.020/HLS.L30.T15RYP.2023188T163146.v2.0/HLS.L30.T15RYP.2023188T163146.v2.0.VZA.tif', 'https://data.lpdaac.earthdatacloud.nasa.gov/lp-prod-protected/HLSL30.020/HLS.L30.T15RYP.2023188T163146.v2.0/HLS.L30.T15RYP.2023188T163146.v2.0.VAA.tif', 'https://data.lpdaac.earthdatacloud.nasa.gov/lp-prod-protected/HLSL30.020/HLS.L30.T15RYP.2023188T163146.v2.0/HLS.L30.T15RYP.2023188T163146.v2.0.B09.tif'],\n",
              " Collection: {'EntryTitle': 'HLS Landsat Operational Land Imager Surface Reflectance and TOA Brightness Daily Global 30m v2.0'}\n",
              " Spatial coverage: {'HorizontalSpatialDomain': {'Geometry': {'GPolygons': [{'Boundary': {'Points': [{'Longitude': -90.07372506, 'Latitude': 28.80444525}, {'Longitude': -89.54217545, 'Latitude': 28.81551108}, {'Longitude': -89.27435094, 'Latitude': 29.81088812}, {'Longitude': -90.10353675, 'Latitude': 29.79400715}, {'Longitude': -90.07372506, 'Latitude': 28.80444525}]}}]}}}\n",
              " Temporal coverage: {'RangeDateTime': {'BeginningDateTime': '2023-07-07T16:31:46.664Z', 'EndingDateTime': '2023-07-07T16:32:10.564Z'}}\n",
              " Size(MB): 117.79535293579102\n",
              " Data: ['https://data.lpdaac.earthdatacloud.nasa.gov/lp-prod-protected/HLSL30.020/HLS.L30.T16RBT.2023188T163146.v2.0/HLS.L30.T16RBT.2023188T163146.v2.0.B11.tif', 'https://data.lpdaac.earthdatacloud.nasa.gov/lp-prod-protected/HLSL30.020/HLS.L30.T16RBT.2023188T163146.v2.0/HLS.L30.T16RBT.2023188T163146.v2.0.VZA.tif', 'https://data.lpdaac.earthdatacloud.nasa.gov/lp-prod-protected/HLSL30.020/HLS.L30.T16RBT.2023188T163146.v2.0/HLS.L30.T16RBT.2023188T163146.v2.0.B06.tif', 'https://data.lpdaac.earthdatacloud.nasa.gov/lp-prod-protected/HLSL30.020/HLS.L30.T16RBT.2023188T163146.v2.0/HLS.L30.T16RBT.2023188T163146.v2.0.B09.tif', 'https://data.lpdaac.earthdatacloud.nasa.gov/lp-prod-protected/HLSL30.020/HLS.L30.T16RBT.2023188T163146.v2.0/HLS.L30.T16RBT.2023188T163146.v2.0.SZA.tif', 'https://data.lpdaac.earthdatacloud.nasa.gov/lp-prod-protected/HLSL30.020/HLS.L30.T16RBT.2023188T163146.v2.0/HLS.L30.T16RBT.2023188T163146.v2.0.B04.tif', 'https://data.lpdaac.earthdatacloud.nasa.gov/lp-prod-protected/HLSL30.020/HLS.L30.T16RBT.2023188T163146.v2.0/HLS.L30.T16RBT.2023188T163146.v2.0.B03.tif', 'https://data.lpdaac.earthdatacloud.nasa.gov/lp-prod-protected/HLSL30.020/HLS.L30.T16RBT.2023188T163146.v2.0/HLS.L30.T16RBT.2023188T163146.v2.0.B05.tif', 'https://data.lpdaac.earthdatacloud.nasa.gov/lp-prod-protected/HLSL30.020/HLS.L30.T16RBT.2023188T163146.v2.0/HLS.L30.T16RBT.2023188T163146.v2.0.VAA.tif', 'https://data.lpdaac.earthdatacloud.nasa.gov/lp-prod-protected/HLSL30.020/HLS.L30.T16RBT.2023188T163146.v2.0/HLS.L30.T16RBT.2023188T163146.v2.0.B07.tif', 'https://data.lpdaac.earthdatacloud.nasa.gov/lp-prod-protected/HLSL30.020/HLS.L30.T16RBT.2023188T163146.v2.0/HLS.L30.T16RBT.2023188T163146.v2.0.B01.tif', 'https://data.lpdaac.earthdatacloud.nasa.gov/lp-prod-protected/HLSL30.020/HLS.L30.T16RBT.2023188T163146.v2.0/HLS.L30.T16RBT.2023188T163146.v2.0.SAA.tif', 'https://data.lpdaac.earthdatacloud.nasa.gov/lp-prod-protected/HLSL30.020/HLS.L30.T16RBT.2023188T163146.v2.0/HLS.L30.T16RBT.2023188T163146.v2.0.B02.tif', 'https://data.lpdaac.earthdatacloud.nasa.gov/lp-prod-protected/HLSL30.020/HLS.L30.T16RBT.2023188T163146.v2.0/HLS.L30.T16RBT.2023188T163146.v2.0.Fmask.tif', 'https://data.lpdaac.earthdatacloud.nasa.gov/lp-prod-protected/HLSL30.020/HLS.L30.T16RBT.2023188T163146.v2.0/HLS.L30.T16RBT.2023188T163146.v2.0.B10.tif'],\n",
              " Collection: {'EntryTitle': 'HLS Landsat Operational Land Imager Surface Reflectance and TOA Brightness Daily Global 30m v2.0'}\n",
              " Spatial coverage: {'HorizontalSpatialDomain': {'Geometry': {'GPolygons': [{'Boundary': {'Points': [{'Longitude': -89.82661214, 'Latitude': 28.80213717}, {'Longitude': -89.79583778, 'Latitude': 29.79160422}, {'Longitude': -90.93082361, 'Latitude': 29.81426153}, {'Longitude': -90.95072084, 'Latitude': 28.82389994}, {'Longitude': -89.82661214, 'Latitude': 28.80213717}]}}]}}}\n",
              " Temporal coverage: {'RangeDateTime': {'BeginningDateTime': '2023-07-07T16:31:46.664Z', 'EndingDateTime': '2023-07-07T16:32:10.564Z'}}\n",
              " Size(MB): 193.52160167694092\n",
              " Data: ['https://data.lpdaac.earthdatacloud.nasa.gov/lp-prod-protected/HLSL30.020/HLS.L30.T15RYN.2023188T163146.v2.0/HLS.L30.T15RYN.2023188T163146.v2.0.B03.tif', 'https://data.lpdaac.earthdatacloud.nasa.gov/lp-prod-protected/HLSL30.020/HLS.L30.T15RYN.2023188T163146.v2.0/HLS.L30.T15RYN.2023188T163146.v2.0.B11.tif', 'https://data.lpdaac.earthdatacloud.nasa.gov/lp-prod-protected/HLSL30.020/HLS.L30.T15RYN.2023188T163146.v2.0/HLS.L30.T15RYN.2023188T163146.v2.0.B02.tif', 'https://data.lpdaac.earthdatacloud.nasa.gov/lp-prod-protected/HLSL30.020/HLS.L30.T15RYN.2023188T163146.v2.0/HLS.L30.T15RYN.2023188T163146.v2.0.B05.tif', 'https://data.lpdaac.earthdatacloud.nasa.gov/lp-prod-protected/HLSL30.020/HLS.L30.T15RYN.2023188T163146.v2.0/HLS.L30.T15RYN.2023188T163146.v2.0.B04.tif', 'https://data.lpdaac.earthdatacloud.nasa.gov/lp-prod-protected/HLSL30.020/HLS.L30.T15RYN.2023188T163146.v2.0/HLS.L30.T15RYN.2023188T163146.v2.0.SZA.tif', 'https://data.lpdaac.earthdatacloud.nasa.gov/lp-prod-protected/HLSL30.020/HLS.L30.T15RYN.2023188T163146.v2.0/HLS.L30.T15RYN.2023188T163146.v2.0.Fmask.tif', 'https://data.lpdaac.earthdatacloud.nasa.gov/lp-prod-protected/HLSL30.020/HLS.L30.T15RYN.2023188T163146.v2.0/HLS.L30.T15RYN.2023188T163146.v2.0.B07.tif', 'https://data.lpdaac.earthdatacloud.nasa.gov/lp-prod-protected/HLSL30.020/HLS.L30.T15RYN.2023188T163146.v2.0/HLS.L30.T15RYN.2023188T163146.v2.0.B10.tif', 'https://data.lpdaac.earthdatacloud.nasa.gov/lp-prod-protected/HLSL30.020/HLS.L30.T15RYN.2023188T163146.v2.0/HLS.L30.T15RYN.2023188T163146.v2.0.B01.tif', 'https://data.lpdaac.earthdatacloud.nasa.gov/lp-prod-protected/HLSL30.020/HLS.L30.T15RYN.2023188T163146.v2.0/HLS.L30.T15RYN.2023188T163146.v2.0.B06.tif', 'https://data.lpdaac.earthdatacloud.nasa.gov/lp-prod-protected/HLSL30.020/HLS.L30.T15RYN.2023188T163146.v2.0/HLS.L30.T15RYN.2023188T163146.v2.0.VZA.tif', 'https://data.lpdaac.earthdatacloud.nasa.gov/lp-prod-protected/HLSL30.020/HLS.L30.T15RYN.2023188T163146.v2.0/HLS.L30.T15RYN.2023188T163146.v2.0.SAA.tif', 'https://data.lpdaac.earthdatacloud.nasa.gov/lp-prod-protected/HLSL30.020/HLS.L30.T15RYN.2023188T163146.v2.0/HLS.L30.T15RYN.2023188T163146.v2.0.B09.tif', 'https://data.lpdaac.earthdatacloud.nasa.gov/lp-prod-protected/HLSL30.020/HLS.L30.T15RYN.2023188T163146.v2.0/HLS.L30.T15RYN.2023188T163146.v2.0.VAA.tif'],\n",
              " Collection: {'EntryTitle': 'HLS Landsat Operational Land Imager Surface Reflectance and TOA Brightness Daily Global 30m v2.0'}\n",
              " Spatial coverage: {'HorizontalSpatialDomain': {'Geometry': {'GPolygons': [{'Boundary': {'Points': [{'Longitude': -89.82661214, 'Latitude': 28.80213717}, {'Longitude': -89.79583778, 'Latitude': 29.79160422}, {'Longitude': -90.93082361, 'Latitude': 29.81426153}, {'Longitude': -90.95072084, 'Latitude': 28.82389994}, {'Longitude': -89.82661214, 'Latitude': 28.80213717}]}}]}}}\n",
              " Temporal coverage: {'RangeDateTime': {'BeginningDateTime': '2023-07-15T16:31:42.442Z', 'EndingDateTime': '2023-07-15T16:32:06.333Z'}}\n",
              " Size(MB): 169.20604133605957\n",
              " Data: ['https://data.lpdaac.earthdatacloud.nasa.gov/lp-prod-protected/HLSL30.020/HLS.L30.T15RYN.2023196T163142.v2.0/HLS.L30.T15RYN.2023196T163142.v2.0.Fmask.tif', 'https://data.lpdaac.earthdatacloud.nasa.gov/lp-prod-protected/HLSL30.020/HLS.L30.T15RYN.2023196T163142.v2.0/HLS.L30.T15RYN.2023196T163142.v2.0.B05.tif', 'https://data.lpdaac.earthdatacloud.nasa.gov/lp-prod-protected/HLSL30.020/HLS.L30.T15RYN.2023196T163142.v2.0/HLS.L30.T15RYN.2023196T163142.v2.0.B09.tif', 'https://data.lpdaac.earthdatacloud.nasa.gov/lp-prod-protected/HLSL30.020/HLS.L30.T15RYN.2023196T163142.v2.0/HLS.L30.T15RYN.2023196T163142.v2.0.VZA.tif', 'https://data.lpdaac.earthdatacloud.nasa.gov/lp-prod-protected/HLSL30.020/HLS.L30.T15RYN.2023196T163142.v2.0/HLS.L30.T15RYN.2023196T163142.v2.0.B01.tif', 'https://data.lpdaac.earthdatacloud.nasa.gov/lp-prod-protected/HLSL30.020/HLS.L30.T15RYN.2023196T163142.v2.0/HLS.L30.T15RYN.2023196T163142.v2.0.SAA.tif', 'https://data.lpdaac.earthdatacloud.nasa.gov/lp-prod-protected/HLSL30.020/HLS.L30.T15RYN.2023196T163142.v2.0/HLS.L30.T15RYN.2023196T163142.v2.0.B06.tif', 'https://data.lpdaac.earthdatacloud.nasa.gov/lp-prod-protected/HLSL30.020/HLS.L30.T15RYN.2023196T163142.v2.0/HLS.L30.T15RYN.2023196T163142.v2.0.B11.tif', 'https://data.lpdaac.earthdatacloud.nasa.gov/lp-prod-protected/HLSL30.020/HLS.L30.T15RYN.2023196T163142.v2.0/HLS.L30.T15RYN.2023196T163142.v2.0.VAA.tif', 'https://data.lpdaac.earthdatacloud.nasa.gov/lp-prod-protected/HLSL30.020/HLS.L30.T15RYN.2023196T163142.v2.0/HLS.L30.T15RYN.2023196T163142.v2.0.B07.tif', 'https://data.lpdaac.earthdatacloud.nasa.gov/lp-prod-protected/HLSL30.020/HLS.L30.T15RYN.2023196T163142.v2.0/HLS.L30.T15RYN.2023196T163142.v2.0.B03.tif', 'https://data.lpdaac.earthdatacloud.nasa.gov/lp-prod-protected/HLSL30.020/HLS.L30.T15RYN.2023196T163142.v2.0/HLS.L30.T15RYN.2023196T163142.v2.0.SZA.tif', 'https://data.lpdaac.earthdatacloud.nasa.gov/lp-prod-protected/HLSL30.020/HLS.L30.T15RYN.2023196T163142.v2.0/HLS.L30.T15RYN.2023196T163142.v2.0.B04.tif', 'https://data.lpdaac.earthdatacloud.nasa.gov/lp-prod-protected/HLSL30.020/HLS.L30.T15RYN.2023196T163142.v2.0/HLS.L30.T15RYN.2023196T163142.v2.0.B10.tif', 'https://data.lpdaac.earthdatacloud.nasa.gov/lp-prod-protected/HLSL30.020/HLS.L30.T15RYN.2023196T163142.v2.0/HLS.L30.T15RYN.2023196T163142.v2.0.B02.tif'],\n",
              " Collection: {'EntryTitle': 'HLS Landsat Operational Land Imager Surface Reflectance and TOA Brightness Daily Global 30m v2.0'}\n",
              " Spatial coverage: {'HorizontalSpatialDomain': {'Geometry': {'GPolygons': [{'Boundary': {'Points': [{'Longitude': -90.10082051, 'Latitude': 29.70587294}, {'Longitude': -89.30552233, 'Latitude': 29.72212037}, {'Longitude': -89.03412017, 'Latitude': 30.7171291}, {'Longitude': -90.13201749, 'Latitude': 30.69527405}, {'Longitude': -90.10082051, 'Latitude': 29.70587294}]}}]}}}\n",
              " Temporal coverage: {'RangeDateTime': {'BeginningDateTime': '2023-07-15T16:31:42.442Z', 'EndingDateTime': '2023-07-15T16:31:42.442Z'}}\n",
              " Size(MB): 152.09357166290283\n",
              " Data: ['https://data.lpdaac.earthdatacloud.nasa.gov/lp-prod-protected/HLSL30.020/HLS.L30.T16RBU.2023196T163142.v2.0/HLS.L30.T16RBU.2023196T163142.v2.0.B04.tif', 'https://data.lpdaac.earthdatacloud.nasa.gov/lp-prod-protected/HLSL30.020/HLS.L30.T16RBU.2023196T163142.v2.0/HLS.L30.T16RBU.2023196T163142.v2.0.B05.tif', 'https://data.lpdaac.earthdatacloud.nasa.gov/lp-prod-protected/HLSL30.020/HLS.L30.T16RBU.2023196T163142.v2.0/HLS.L30.T16RBU.2023196T163142.v2.0.B10.tif', 'https://data.lpdaac.earthdatacloud.nasa.gov/lp-prod-protected/HLSL30.020/HLS.L30.T16RBU.2023196T163142.v2.0/HLS.L30.T16RBU.2023196T163142.v2.0.B07.tif', 'https://data.lpdaac.earthdatacloud.nasa.gov/lp-prod-protected/HLSL30.020/HLS.L30.T16RBU.2023196T163142.v2.0/HLS.L30.T16RBU.2023196T163142.v2.0.B02.tif', 'https://data.lpdaac.earthdatacloud.nasa.gov/lp-prod-protected/HLSL30.020/HLS.L30.T16RBU.2023196T163142.v2.0/HLS.L30.T16RBU.2023196T163142.v2.0.Fmask.tif', 'https://data.lpdaac.earthdatacloud.nasa.gov/lp-prod-protected/HLSL30.020/HLS.L30.T16RBU.2023196T163142.v2.0/HLS.L30.T16RBU.2023196T163142.v2.0.VAA.tif', 'https://data.lpdaac.earthdatacloud.nasa.gov/lp-prod-protected/HLSL30.020/HLS.L30.T16RBU.2023196T163142.v2.0/HLS.L30.T16RBU.2023196T163142.v2.0.B01.tif', 'https://data.lpdaac.earthdatacloud.nasa.gov/lp-prod-protected/HLSL30.020/HLS.L30.T16RBU.2023196T163142.v2.0/HLS.L30.T16RBU.2023196T163142.v2.0.SZA.tif', 'https://data.lpdaac.earthdatacloud.nasa.gov/lp-prod-protected/HLSL30.020/HLS.L30.T16RBU.2023196T163142.v2.0/HLS.L30.T16RBU.2023196T163142.v2.0.B06.tif', 'https://data.lpdaac.earthdatacloud.nasa.gov/lp-prod-protected/HLSL30.020/HLS.L30.T16RBU.2023196T163142.v2.0/HLS.L30.T16RBU.2023196T163142.v2.0.B09.tif', 'https://data.lpdaac.earthdatacloud.nasa.gov/lp-prod-protected/HLSL30.020/HLS.L30.T16RBU.2023196T163142.v2.0/HLS.L30.T16RBU.2023196T163142.v2.0.B11.tif', 'https://data.lpdaac.earthdatacloud.nasa.gov/lp-prod-protected/HLSL30.020/HLS.L30.T16RBU.2023196T163142.v2.0/HLS.L30.T16RBU.2023196T163142.v2.0.B03.tif', 'https://data.lpdaac.earthdatacloud.nasa.gov/lp-prod-protected/HLSL30.020/HLS.L30.T16RBU.2023196T163142.v2.0/HLS.L30.T16RBU.2023196T163142.v2.0.VZA.tif', 'https://data.lpdaac.earthdatacloud.nasa.gov/lp-prod-protected/HLSL30.020/HLS.L30.T16RBU.2023196T163142.v2.0/HLS.L30.T16RBU.2023196T163142.v2.0.SAA.tif'],\n",
              " Collection: {'EntryTitle': 'HLS Landsat Operational Land Imager Surface Reflectance and TOA Brightness Daily Global 30m v2.0'}\n",
              " Spatial coverage: {'HorizontalSpatialDomain': {'Geometry': {'GPolygons': [{'Boundary': {'Points': [{'Longitude': -89.79864173, 'Latitude': 29.70347853}, {'Longitude': -89.76643746, 'Latitude': 30.69278312}, {'Longitude': -90.91181412, 'Latitude': 30.71627038}, {'Longitude': -90.93263654, 'Latitude': 29.72605548}, {'Longitude': -89.79864173, 'Latitude': 29.70347853}]}}]}}}\n",
              " Temporal coverage: {'RangeDateTime': {'BeginningDateTime': '2023-07-15T16:31:42.442Z', 'EndingDateTime': '2023-07-15T16:31:42.442Z'}}\n",
              " Size(MB): 186.07622814178467\n",
              " Data: ['https://data.lpdaac.earthdatacloud.nasa.gov/lp-prod-protected/HLSL30.020/HLS.L30.T15RYP.2023196T163142.v2.0/HLS.L30.T15RYP.2023196T163142.v2.0.B07.tif', 'https://data.lpdaac.earthdatacloud.nasa.gov/lp-prod-protected/HLSL30.020/HLS.L30.T15RYP.2023196T163142.v2.0/HLS.L30.T15RYP.2023196T163142.v2.0.Fmask.tif', 'https://data.lpdaac.earthdatacloud.nasa.gov/lp-prod-protected/HLSL30.020/HLS.L30.T15RYP.2023196T163142.v2.0/HLS.L30.T15RYP.2023196T163142.v2.0.SZA.tif', 'https://data.lpdaac.earthdatacloud.nasa.gov/lp-prod-protected/HLSL30.020/HLS.L30.T15RYP.2023196T163142.v2.0/HLS.L30.T15RYP.2023196T163142.v2.0.B05.tif', 'https://data.lpdaac.earthdatacloud.nasa.gov/lp-prod-protected/HLSL30.020/HLS.L30.T15RYP.2023196T163142.v2.0/HLS.L30.T15RYP.2023196T163142.v2.0.B01.tif', 'https://data.lpdaac.earthdatacloud.nasa.gov/lp-prod-protected/HLSL30.020/HLS.L30.T15RYP.2023196T163142.v2.0/HLS.L30.T15RYP.2023196T163142.v2.0.B04.tif', 'https://data.lpdaac.earthdatacloud.nasa.gov/lp-prod-protected/HLSL30.020/HLS.L30.T15RYP.2023196T163142.v2.0/HLS.L30.T15RYP.2023196T163142.v2.0.B09.tif', 'https://data.lpdaac.earthdatacloud.nasa.gov/lp-prod-protected/HLSL30.020/HLS.L30.T15RYP.2023196T163142.v2.0/HLS.L30.T15RYP.2023196T163142.v2.0.SAA.tif', 'https://data.lpdaac.earthdatacloud.nasa.gov/lp-prod-protected/HLSL30.020/HLS.L30.T15RYP.2023196T163142.v2.0/HLS.L30.T15RYP.2023196T163142.v2.0.B10.tif', 'https://data.lpdaac.earthdatacloud.nasa.gov/lp-prod-protected/HLSL30.020/HLS.L30.T15RYP.2023196T163142.v2.0/HLS.L30.T15RYP.2023196T163142.v2.0.B02.tif', 'https://data.lpdaac.earthdatacloud.nasa.gov/lp-prod-protected/HLSL30.020/HLS.L30.T15RYP.2023196T163142.v2.0/HLS.L30.T15RYP.2023196T163142.v2.0.VZA.tif', 'https://data.lpdaac.earthdatacloud.nasa.gov/lp-prod-protected/HLSL30.020/HLS.L30.T15RYP.2023196T163142.v2.0/HLS.L30.T15RYP.2023196T163142.v2.0.B03.tif', 'https://data.lpdaac.earthdatacloud.nasa.gov/lp-prod-protected/HLSL30.020/HLS.L30.T15RYP.2023196T163142.v2.0/HLS.L30.T15RYP.2023196T163142.v2.0.B11.tif', 'https://data.lpdaac.earthdatacloud.nasa.gov/lp-prod-protected/HLSL30.020/HLS.L30.T15RYP.2023196T163142.v2.0/HLS.L30.T15RYP.2023196T163142.v2.0.B06.tif', 'https://data.lpdaac.earthdatacloud.nasa.gov/lp-prod-protected/HLSL30.020/HLS.L30.T15RYP.2023196T163142.v2.0/HLS.L30.T15RYP.2023196T163142.v2.0.VAA.tif'],\n",
              " Collection: {'EntryTitle': 'HLS Landsat Operational Land Imager Surface Reflectance and TOA Brightness Daily Global 30m v2.0'}\n",
              " Spatial coverage: {'HorizontalSpatialDomain': {'Geometry': {'GPolygons': [{'Boundary': {'Points': [{'Longitude': -90.07372506, 'Latitude': 28.80444525}, {'Longitude': -89.5492467, 'Latitude': 28.81564827}, {'Longitude': -89.28148591, 'Latitude': 29.81076507}, {'Longitude': -90.10353675, 'Latitude': 29.79400715}, {'Longitude': -90.07372506, 'Latitude': 28.80444525}]}}]}}}\n",
              " Temporal coverage: {'RangeDateTime': {'BeginningDateTime': '2023-07-15T16:31:42.442Z', 'EndingDateTime': '2023-07-15T16:32:06.333Z'}}\n",
              " Size(MB): 108.53238773345947\n",
              " Data: ['https://data.lpdaac.earthdatacloud.nasa.gov/lp-prod-protected/HLSL30.020/HLS.L30.T16RBT.2023196T163142.v2.0/HLS.L30.T16RBT.2023196T163142.v2.0.SZA.tif', 'https://data.lpdaac.earthdatacloud.nasa.gov/lp-prod-protected/HLSL30.020/HLS.L30.T16RBT.2023196T163142.v2.0/HLS.L30.T16RBT.2023196T163142.v2.0.B06.tif', 'https://data.lpdaac.earthdatacloud.nasa.gov/lp-prod-protected/HLSL30.020/HLS.L30.T16RBT.2023196T163142.v2.0/HLS.L30.T16RBT.2023196T163142.v2.0.B07.tif', 'https://data.lpdaac.earthdatacloud.nasa.gov/lp-prod-protected/HLSL30.020/HLS.L30.T16RBT.2023196T163142.v2.0/HLS.L30.T16RBT.2023196T163142.v2.0.B10.tif', 'https://data.lpdaac.earthdatacloud.nasa.gov/lp-prod-protected/HLSL30.020/HLS.L30.T16RBT.2023196T163142.v2.0/HLS.L30.T16RBT.2023196T163142.v2.0.Fmask.tif', 'https://data.lpdaac.earthdatacloud.nasa.gov/lp-prod-protected/HLSL30.020/HLS.L30.T16RBT.2023196T163142.v2.0/HLS.L30.T16RBT.2023196T163142.v2.0.B02.tif', 'https://data.lpdaac.earthdatacloud.nasa.gov/lp-prod-protected/HLSL30.020/HLS.L30.T16RBT.2023196T163142.v2.0/HLS.L30.T16RBT.2023196T163142.v2.0.SAA.tif', 'https://data.lpdaac.earthdatacloud.nasa.gov/lp-prod-protected/HLSL30.020/HLS.L30.T16RBT.2023196T163142.v2.0/HLS.L30.T16RBT.2023196T163142.v2.0.B09.tif', 'https://data.lpdaac.earthdatacloud.nasa.gov/lp-prod-protected/HLSL30.020/HLS.L30.T16RBT.2023196T163142.v2.0/HLS.L30.T16RBT.2023196T163142.v2.0.B11.tif', 'https://data.lpdaac.earthdatacloud.nasa.gov/lp-prod-protected/HLSL30.020/HLS.L30.T16RBT.2023196T163142.v2.0/HLS.L30.T16RBT.2023196T163142.v2.0.B04.tif', 'https://data.lpdaac.earthdatacloud.nasa.gov/lp-prod-protected/HLSL30.020/HLS.L30.T16RBT.2023196T163142.v2.0/HLS.L30.T16RBT.2023196T163142.v2.0.VZA.tif', 'https://data.lpdaac.earthdatacloud.nasa.gov/lp-prod-protected/HLSL30.020/HLS.L30.T16RBT.2023196T163142.v2.0/HLS.L30.T16RBT.2023196T163142.v2.0.B05.tif', 'https://data.lpdaac.earthdatacloud.nasa.gov/lp-prod-protected/HLSL30.020/HLS.L30.T16RBT.2023196T163142.v2.0/HLS.L30.T16RBT.2023196T163142.v2.0.B01.tif', 'https://data.lpdaac.earthdatacloud.nasa.gov/lp-prod-protected/HLSL30.020/HLS.L30.T16RBT.2023196T163142.v2.0/HLS.L30.T16RBT.2023196T163142.v2.0.VAA.tif', 'https://data.lpdaac.earthdatacloud.nasa.gov/lp-prod-protected/HLSL30.020/HLS.L30.T16RBT.2023196T163142.v2.0/HLS.L30.T16RBT.2023196T163142.v2.0.B03.tif'],\n",
              " Collection: {'EntryTitle': 'HLS Landsat Operational Land Imager Surface Reflectance and TOA Brightness Daily Global 30m v2.0'}\n",
              " Spatial coverage: {'HorizontalSpatialDomain': {'Geometry': {'GPolygons': [{'Boundary': {'Points': [{'Longitude': -89.79864173, 'Latitude': 29.70347853}, {'Longitude': -89.76643746, 'Latitude': 30.69278312}, {'Longitude': -90.91181412, 'Latitude': 30.71627038}, {'Longitude': -90.93263654, 'Latitude': 29.72605548}, {'Longitude': -89.79864173, 'Latitude': 29.70347853}]}}]}}}\n",
              " Temporal coverage: {'RangeDateTime': {'BeginningDateTime': '2023-07-23T16:31:50.873Z', 'EndingDateTime': '2023-07-23T16:31:50.873Z'}}\n",
              " Size(MB): 185.6042709350586\n",
              " Data: ['https://data.lpdaac.earthdatacloud.nasa.gov/lp-prod-protected/HLSL30.020/HLS.L30.T15RYP.2023204T163150.v2.0/HLS.L30.T15RYP.2023204T163150.v2.0.SZA.tif', 'https://data.lpdaac.earthdatacloud.nasa.gov/lp-prod-protected/HLSL30.020/HLS.L30.T15RYP.2023204T163150.v2.0/HLS.L30.T15RYP.2023204T163150.v2.0.Fmask.tif', 'https://data.lpdaac.earthdatacloud.nasa.gov/lp-prod-protected/HLSL30.020/HLS.L30.T15RYP.2023204T163150.v2.0/HLS.L30.T15RYP.2023204T163150.v2.0.B11.tif', 'https://data.lpdaac.earthdatacloud.nasa.gov/lp-prod-protected/HLSL30.020/HLS.L30.T15RYP.2023204T163150.v2.0/HLS.L30.T15RYP.2023204T163150.v2.0.B01.tif', 'https://data.lpdaac.earthdatacloud.nasa.gov/lp-prod-protected/HLSL30.020/HLS.L30.T15RYP.2023204T163150.v2.0/HLS.L30.T15RYP.2023204T163150.v2.0.B10.tif', 'https://data.lpdaac.earthdatacloud.nasa.gov/lp-prod-protected/HLSL30.020/HLS.L30.T15RYP.2023204T163150.v2.0/HLS.L30.T15RYP.2023204T163150.v2.0.VZA.tif', 'https://data.lpdaac.earthdatacloud.nasa.gov/lp-prod-protected/HLSL30.020/HLS.L30.T15RYP.2023204T163150.v2.0/HLS.L30.T15RYP.2023204T163150.v2.0.B09.tif', 'https://data.lpdaac.earthdatacloud.nasa.gov/lp-prod-protected/HLSL30.020/HLS.L30.T15RYP.2023204T163150.v2.0/HLS.L30.T15RYP.2023204T163150.v2.0.B04.tif', 'https://data.lpdaac.earthdatacloud.nasa.gov/lp-prod-protected/HLSL30.020/HLS.L30.T15RYP.2023204T163150.v2.0/HLS.L30.T15RYP.2023204T163150.v2.0.SAA.tif', 'https://data.lpdaac.earthdatacloud.nasa.gov/lp-prod-protected/HLSL30.020/HLS.L30.T15RYP.2023204T163150.v2.0/HLS.L30.T15RYP.2023204T163150.v2.0.B03.tif', 'https://data.lpdaac.earthdatacloud.nasa.gov/lp-prod-protected/HLSL30.020/HLS.L30.T15RYP.2023204T163150.v2.0/HLS.L30.T15RYP.2023204T163150.v2.0.VAA.tif', 'https://data.lpdaac.earthdatacloud.nasa.gov/lp-prod-protected/HLSL30.020/HLS.L30.T15RYP.2023204T163150.v2.0/HLS.L30.T15RYP.2023204T163150.v2.0.B02.tif', 'https://data.lpdaac.earthdatacloud.nasa.gov/lp-prod-protected/HLSL30.020/HLS.L30.T15RYP.2023204T163150.v2.0/HLS.L30.T15RYP.2023204T163150.v2.0.B05.tif', 'https://data.lpdaac.earthdatacloud.nasa.gov/lp-prod-protected/HLSL30.020/HLS.L30.T15RYP.2023204T163150.v2.0/HLS.L30.T15RYP.2023204T163150.v2.0.B06.tif', 'https://data.lpdaac.earthdatacloud.nasa.gov/lp-prod-protected/HLSL30.020/HLS.L30.T15RYP.2023204T163150.v2.0/HLS.L30.T15RYP.2023204T163150.v2.0.B07.tif'],\n",
              " Collection: {'EntryTitle': 'HLS Landsat Operational Land Imager Surface Reflectance and TOA Brightness Daily Global 30m v2.0'}\n",
              " Spatial coverage: {'HorizontalSpatialDomain': {'Geometry': {'GPolygons': [{'Boundary': {'Points': [{'Longitude': -90.10082051, 'Latitude': 29.70587294}, {'Longitude': -89.28600227, 'Latitude': 29.72272968}, {'Longitude': -89.01501919, 'Latitude': 30.71742709}, {'Longitude': -90.13201749, 'Latitude': 30.69527405}, {'Longitude': -90.10082051, 'Latitude': 29.70587294}]}}]}}}\n",
              " Temporal coverage: {'RangeDateTime': {'BeginningDateTime': '2023-07-23T16:31:50.873Z', 'EndingDateTime': '2023-07-23T16:31:50.873Z'}}\n",
              " Size(MB): 160.2919464111328\n",
              " Data: ['https://data.lpdaac.earthdatacloud.nasa.gov/lp-prod-protected/HLSL30.020/HLS.L30.T16RBU.2023204T163150.v2.0/HLS.L30.T16RBU.2023204T163150.v2.0.B01.tif', 'https://data.lpdaac.earthdatacloud.nasa.gov/lp-prod-protected/HLSL30.020/HLS.L30.T16RBU.2023204T163150.v2.0/HLS.L30.T16RBU.2023204T163150.v2.0.B06.tif', 'https://data.lpdaac.earthdatacloud.nasa.gov/lp-prod-protected/HLSL30.020/HLS.L30.T16RBU.2023204T163150.v2.0/HLS.L30.T16RBU.2023204T163150.v2.0.B07.tif', 'https://data.lpdaac.earthdatacloud.nasa.gov/lp-prod-protected/HLSL30.020/HLS.L30.T16RBU.2023204T163150.v2.0/HLS.L30.T16RBU.2023204T163150.v2.0.B02.tif', 'https://data.lpdaac.earthdatacloud.nasa.gov/lp-prod-protected/HLSL30.020/HLS.L30.T16RBU.2023204T163150.v2.0/HLS.L30.T16RBU.2023204T163150.v2.0.B03.tif', 'https://data.lpdaac.earthdatacloud.nasa.gov/lp-prod-protected/HLSL30.020/HLS.L30.T16RBU.2023204T163150.v2.0/HLS.L30.T16RBU.2023204T163150.v2.0.VZA.tif', 'https://data.lpdaac.earthdatacloud.nasa.gov/lp-prod-protected/HLSL30.020/HLS.L30.T16RBU.2023204T163150.v2.0/HLS.L30.T16RBU.2023204T163150.v2.0.B09.tif', 'https://data.lpdaac.earthdatacloud.nasa.gov/lp-prod-protected/HLSL30.020/HLS.L30.T16RBU.2023204T163150.v2.0/HLS.L30.T16RBU.2023204T163150.v2.0.SAA.tif', 'https://data.lpdaac.earthdatacloud.nasa.gov/lp-prod-protected/HLSL30.020/HLS.L30.T16RBU.2023204T163150.v2.0/HLS.L30.T16RBU.2023204T163150.v2.0.Fmask.tif', 'https://data.lpdaac.earthdatacloud.nasa.gov/lp-prod-protected/HLSL30.020/HLS.L30.T16RBU.2023204T163150.v2.0/HLS.L30.T16RBU.2023204T163150.v2.0.B04.tif', 'https://data.lpdaac.earthdatacloud.nasa.gov/lp-prod-protected/HLSL30.020/HLS.L30.T16RBU.2023204T163150.v2.0/HLS.L30.T16RBU.2023204T163150.v2.0.B11.tif', 'https://data.lpdaac.earthdatacloud.nasa.gov/lp-prod-protected/HLSL30.020/HLS.L30.T16RBU.2023204T163150.v2.0/HLS.L30.T16RBU.2023204T163150.v2.0.B05.tif', 'https://data.lpdaac.earthdatacloud.nasa.gov/lp-prod-protected/HLSL30.020/HLS.L30.T16RBU.2023204T163150.v2.0/HLS.L30.T16RBU.2023204T163150.v2.0.SZA.tif', 'https://data.lpdaac.earthdatacloud.nasa.gov/lp-prod-protected/HLSL30.020/HLS.L30.T16RBU.2023204T163150.v2.0/HLS.L30.T16RBU.2023204T163150.v2.0.VAA.tif', 'https://data.lpdaac.earthdatacloud.nasa.gov/lp-prod-protected/HLSL30.020/HLS.L30.T16RBU.2023204T163150.v2.0/HLS.L30.T16RBU.2023204T163150.v2.0.B10.tif'],\n",
              " Collection: {'EntryTitle': 'HLS Landsat Operational Land Imager Surface Reflectance and TOA Brightness Daily Global 30m v2.0'}\n",
              " Spatial coverage: {'HorizontalSpatialDomain': {'Geometry': {'GPolygons': [{'Boundary': {'Points': [{'Longitude': -89.82661214, 'Latitude': 28.80213717}, {'Longitude': -89.79583778, 'Latitude': 29.79160422}, {'Longitude': -90.93082361, 'Latitude': 29.81426153}, {'Longitude': -90.95072084, 'Latitude': 28.82389994}, {'Longitude': -89.82661214, 'Latitude': 28.80213717}]}}]}}}\n",
              " Temporal coverage: {'RangeDateTime': {'BeginningDateTime': '2023-07-23T16:31:50.873Z', 'EndingDateTime': '2023-07-23T16:32:14.764Z'}}\n",
              " Size(MB): 178.58371353149414\n",
              " Data: ['https://data.lpdaac.earthdatacloud.nasa.gov/lp-prod-protected/HLSL30.020/HLS.L30.T15RYN.2023204T163150.v2.0/HLS.L30.T15RYN.2023204T163150.v2.0.Fmask.tif', 'https://data.lpdaac.earthdatacloud.nasa.gov/lp-prod-protected/HLSL30.020/HLS.L30.T15RYN.2023204T163150.v2.0/HLS.L30.T15RYN.2023204T163150.v2.0.B03.tif', 'https://data.lpdaac.earthdatacloud.nasa.gov/lp-prod-protected/HLSL30.020/HLS.L30.T15RYN.2023204T163150.v2.0/HLS.L30.T15RYN.2023204T163150.v2.0.B10.tif', 'https://data.lpdaac.earthdatacloud.nasa.gov/lp-prod-protected/HLSL30.020/HLS.L30.T15RYN.2023204T163150.v2.0/HLS.L30.T15RYN.2023204T163150.v2.0.B04.tif', 'https://data.lpdaac.earthdatacloud.nasa.gov/lp-prod-protected/HLSL30.020/HLS.L30.T15RYN.2023204T163150.v2.0/HLS.L30.T15RYN.2023204T163150.v2.0.SAA.tif', 'https://data.lpdaac.earthdatacloud.nasa.gov/lp-prod-protected/HLSL30.020/HLS.L30.T15RYN.2023204T163150.v2.0/HLS.L30.T15RYN.2023204T163150.v2.0.SZA.tif', 'https://data.lpdaac.earthdatacloud.nasa.gov/lp-prod-protected/HLSL30.020/HLS.L30.T15RYN.2023204T163150.v2.0/HLS.L30.T15RYN.2023204T163150.v2.0.VAA.tif', 'https://data.lpdaac.earthdatacloud.nasa.gov/lp-prod-protected/HLSL30.020/HLS.L30.T15RYN.2023204T163150.v2.0/HLS.L30.T15RYN.2023204T163150.v2.0.B07.tif', 'https://data.lpdaac.earthdatacloud.nasa.gov/lp-prod-protected/HLSL30.020/HLS.L30.T15RYN.2023204T163150.v2.0/HLS.L30.T15RYN.2023204T163150.v2.0.B09.tif', 'https://data.lpdaac.earthdatacloud.nasa.gov/lp-prod-protected/HLSL30.020/HLS.L30.T15RYN.2023204T163150.v2.0/HLS.L30.T15RYN.2023204T163150.v2.0.B06.tif', 'https://data.lpdaac.earthdatacloud.nasa.gov/lp-prod-protected/HLSL30.020/HLS.L30.T15RYN.2023204T163150.v2.0/HLS.L30.T15RYN.2023204T163150.v2.0.VZA.tif', 'https://data.lpdaac.earthdatacloud.nasa.gov/lp-prod-protected/HLSL30.020/HLS.L30.T15RYN.2023204T163150.v2.0/HLS.L30.T15RYN.2023204T163150.v2.0.B02.tif', 'https://data.lpdaac.earthdatacloud.nasa.gov/lp-prod-protected/HLSL30.020/HLS.L30.T15RYN.2023204T163150.v2.0/HLS.L30.T15RYN.2023204T163150.v2.0.B11.tif', 'https://data.lpdaac.earthdatacloud.nasa.gov/lp-prod-protected/HLSL30.020/HLS.L30.T15RYN.2023204T163150.v2.0/HLS.L30.T15RYN.2023204T163150.v2.0.B05.tif', 'https://data.lpdaac.earthdatacloud.nasa.gov/lp-prod-protected/HLSL30.020/HLS.L30.T15RYN.2023204T163150.v2.0/HLS.L30.T15RYN.2023204T163150.v2.0.B01.tif'],\n",
              " Collection: {'EntryTitle': 'HLS Landsat Operational Land Imager Surface Reflectance and TOA Brightness Daily Global 30m v2.0'}\n",
              " Spatial coverage: {'HorizontalSpatialDomain': {'Geometry': {'GPolygons': [{'Boundary': {'Points': [{'Longitude': -90.07372506, 'Latitude': 28.80444525}, {'Longitude': -89.52959488, 'Latitude': 28.81628889}, {'Longitude': -89.26225241, 'Latitude': 29.81109588}, {'Longitude': -90.10353675, 'Latitude': 29.79400715}, {'Longitude': -90.07372506, 'Latitude': 28.80444525}]}}]}}}\n",
              " Temporal coverage: {'RangeDateTime': {'BeginningDateTime': '2023-07-23T16:31:50.873Z', 'EndingDateTime': '2023-07-23T16:32:14.764Z'}}\n",
              " Size(MB): 110.35004425048828\n",
              " Data: ['https://data.lpdaac.earthdatacloud.nasa.gov/lp-prod-protected/HLSL30.020/HLS.L30.T16RBT.2023204T163150.v2.0/HLS.L30.T16RBT.2023204T163150.v2.0.B11.tif', 'https://data.lpdaac.earthdatacloud.nasa.gov/lp-prod-protected/HLSL30.020/HLS.L30.T16RBT.2023204T163150.v2.0/HLS.L30.T16RBT.2023204T163150.v2.0.B03.tif', 'https://data.lpdaac.earthdatacloud.nasa.gov/lp-prod-protected/HLSL30.020/HLS.L30.T16RBT.2023204T163150.v2.0/HLS.L30.T16RBT.2023204T163150.v2.0.B06.tif', 'https://data.lpdaac.earthdatacloud.nasa.gov/lp-prod-protected/HLSL30.020/HLS.L30.T16RBT.2023204T163150.v2.0/HLS.L30.T16RBT.2023204T163150.v2.0.SZA.tif', 'https://data.lpdaac.earthdatacloud.nasa.gov/lp-prod-protected/HLSL30.020/HLS.L30.T16RBT.2023204T163150.v2.0/HLS.L30.T16RBT.2023204T163150.v2.0.SAA.tif', 'https://data.lpdaac.earthdatacloud.nasa.gov/lp-prod-protected/HLSL30.020/HLS.L30.T16RBT.2023204T163150.v2.0/HLS.L30.T16RBT.2023204T163150.v2.0.B09.tif', 'https://data.lpdaac.earthdatacloud.nasa.gov/lp-prod-protected/HLSL30.020/HLS.L30.T16RBT.2023204T163150.v2.0/HLS.L30.T16RBT.2023204T163150.v2.0.VZA.tif', 'https://data.lpdaac.earthdatacloud.nasa.gov/lp-prod-protected/HLSL30.020/HLS.L30.T16RBT.2023204T163150.v2.0/HLS.L30.T16RBT.2023204T163150.v2.0.B10.tif', 'https://data.lpdaac.earthdatacloud.nasa.gov/lp-prod-protected/HLSL30.020/HLS.L30.T16RBT.2023204T163150.v2.0/HLS.L30.T16RBT.2023204T163150.v2.0.B04.tif', 'https://data.lpdaac.earthdatacloud.nasa.gov/lp-prod-protected/HLSL30.020/HLS.L30.T16RBT.2023204T163150.v2.0/HLS.L30.T16RBT.2023204T163150.v2.0.VAA.tif', 'https://data.lpdaac.earthdatacloud.nasa.gov/lp-prod-protected/HLSL30.020/HLS.L30.T16RBT.2023204T163150.v2.0/HLS.L30.T16RBT.2023204T163150.v2.0.B07.tif', 'https://data.lpdaac.earthdatacloud.nasa.gov/lp-prod-protected/HLSL30.020/HLS.L30.T16RBT.2023204T163150.v2.0/HLS.L30.T16RBT.2023204T163150.v2.0.B05.tif', 'https://data.lpdaac.earthdatacloud.nasa.gov/lp-prod-protected/HLSL30.020/HLS.L30.T16RBT.2023204T163150.v2.0/HLS.L30.T16RBT.2023204T163150.v2.0.B02.tif', 'https://data.lpdaac.earthdatacloud.nasa.gov/lp-prod-protected/HLSL30.020/HLS.L30.T16RBT.2023204T163150.v2.0/HLS.L30.T16RBT.2023204T163150.v2.0.B01.tif', 'https://data.lpdaac.earthdatacloud.nasa.gov/lp-prod-protected/HLSL30.020/HLS.L30.T16RBT.2023204T163150.v2.0/HLS.L30.T16RBT.2023204T163150.v2.0.Fmask.tif'],\n",
              " Collection: {'EntryTitle': 'HLS Landsat Operational Land Imager Surface Reflectance and TOA Brightness Daily Global 30m v2.0'}\n",
              " Spatial coverage: {'HorizontalSpatialDomain': {'Geometry': {'GPolygons': [{'Boundary': {'Points': [{'Longitude': -90.10082051, 'Latitude': 29.70587294}, {'Longitude': -89.29250491, 'Latitude': 29.72234654}, {'Longitude': -89.02128184, 'Latitude': 30.7173297}, {'Longitude': -90.13201749, 'Latitude': 30.69527405}, {'Longitude': -90.10082051, 'Latitude': 29.70587294}]}}]}}}\n",
              " Temporal coverage: {'RangeDateTime': {'BeginningDateTime': '2023-07-31T16:31:47.828Z', 'EndingDateTime': '2023-07-31T16:31:47.828Z'}}\n",
              " Size(MB): 148.3355951309204\n",
              " Data: ['https://data.lpdaac.earthdatacloud.nasa.gov/lp-prod-protected/HLSL30.020/HLS.L30.T16RBU.2023212T163147.v2.0/HLS.L30.T16RBU.2023212T163147.v2.0.VAA.tif', 'https://data.lpdaac.earthdatacloud.nasa.gov/lp-prod-protected/HLSL30.020/HLS.L30.T16RBU.2023212T163147.v2.0/HLS.L30.T16RBU.2023212T163147.v2.0.B02.tif', 'https://data.lpdaac.earthdatacloud.nasa.gov/lp-prod-protected/HLSL30.020/HLS.L30.T16RBU.2023212T163147.v2.0/HLS.L30.T16RBU.2023212T163147.v2.0.B05.tif', 'https://data.lpdaac.earthdatacloud.nasa.gov/lp-prod-protected/HLSL30.020/HLS.L30.T16RBU.2023212T163147.v2.0/HLS.L30.T16RBU.2023212T163147.v2.0.VZA.tif', 'https://data.lpdaac.earthdatacloud.nasa.gov/lp-prod-protected/HLSL30.020/HLS.L30.T16RBU.2023212T163147.v2.0/HLS.L30.T16RBU.2023212T163147.v2.0.Fmask.tif', 'https://data.lpdaac.earthdatacloud.nasa.gov/lp-prod-protected/HLSL30.020/HLS.L30.T16RBU.2023212T163147.v2.0/HLS.L30.T16RBU.2023212T163147.v2.0.B11.tif', 'https://data.lpdaac.earthdatacloud.nasa.gov/lp-prod-protected/HLSL30.020/HLS.L30.T16RBU.2023212T163147.v2.0/HLS.L30.T16RBU.2023212T163147.v2.0.B06.tif', 'https://data.lpdaac.earthdatacloud.nasa.gov/lp-prod-protected/HLSL30.020/HLS.L30.T16RBU.2023212T163147.v2.0/HLS.L30.T16RBU.2023212T163147.v2.0.B01.tif', 'https://data.lpdaac.earthdatacloud.nasa.gov/lp-prod-protected/HLSL30.020/HLS.L30.T16RBU.2023212T163147.v2.0/HLS.L30.T16RBU.2023212T163147.v2.0.B04.tif', 'https://data.lpdaac.earthdatacloud.nasa.gov/lp-prod-protected/HLSL30.020/HLS.L30.T16RBU.2023212T163147.v2.0/HLS.L30.T16RBU.2023212T163147.v2.0.B07.tif', 'https://data.lpdaac.earthdatacloud.nasa.gov/lp-prod-protected/HLSL30.020/HLS.L30.T16RBU.2023212T163147.v2.0/HLS.L30.T16RBU.2023212T163147.v2.0.B10.tif', 'https://data.lpdaac.earthdatacloud.nasa.gov/lp-prod-protected/HLSL30.020/HLS.L30.T16RBU.2023212T163147.v2.0/HLS.L30.T16RBU.2023212T163147.v2.0.B03.tif', 'https://data.lpdaac.earthdatacloud.nasa.gov/lp-prod-protected/HLSL30.020/HLS.L30.T16RBU.2023212T163147.v2.0/HLS.L30.T16RBU.2023212T163147.v2.0.B09.tif', 'https://data.lpdaac.earthdatacloud.nasa.gov/lp-prod-protected/HLSL30.020/HLS.L30.T16RBU.2023212T163147.v2.0/HLS.L30.T16RBU.2023212T163147.v2.0.SZA.tif', 'https://data.lpdaac.earthdatacloud.nasa.gov/lp-prod-protected/HLSL30.020/HLS.L30.T16RBU.2023212T163147.v2.0/HLS.L30.T16RBU.2023212T163147.v2.0.SAA.tif'],\n",
              " Collection: {'EntryTitle': 'HLS Landsat Operational Land Imager Surface Reflectance and TOA Brightness Daily Global 30m v2.0'}\n",
              " Spatial coverage: {'HorizontalSpatialDomain': {'Geometry': {'GPolygons': [{'Boundary': {'Points': [{'Longitude': -90.07372506, 'Latitude': 28.80444525}, {'Longitude': -89.53633938, 'Latitude': 28.81562095}, {'Longitude': -89.2684568, 'Latitude': 29.81098947}, {'Longitude': -90.10353675, 'Latitude': 29.79400715}, {'Longitude': -90.07372506, 'Latitude': 28.80444525}]}}]}}}\n",
              " Temporal coverage: {'RangeDateTime': {'BeginningDateTime': '2023-07-31T16:31:47.828Z', 'EndingDateTime': '2023-07-31T16:32:11.724Z'}}\n",
              " Size(MB): 106.62133312225342\n",
              " Data: ['https://data.lpdaac.earthdatacloud.nasa.gov/lp-prod-protected/HLSL30.020/HLS.L30.T16RBT.2023212T163147.v2.0/HLS.L30.T16RBT.2023212T163147.v2.0.B10.tif', 'https://data.lpdaac.earthdatacloud.nasa.gov/lp-prod-protected/HLSL30.020/HLS.L30.T16RBT.2023212T163147.v2.0/HLS.L30.T16RBT.2023212T163147.v2.0.VAA.tif', 'https://data.lpdaac.earthdatacloud.nasa.gov/lp-prod-protected/HLSL30.020/HLS.L30.T16RBT.2023212T163147.v2.0/HLS.L30.T16RBT.2023212T163147.v2.0.B01.tif', 'https://data.lpdaac.earthdatacloud.nasa.gov/lp-prod-protected/HLSL30.020/HLS.L30.T16RBT.2023212T163147.v2.0/HLS.L30.T16RBT.2023212T163147.v2.0.B02.tif', 'https://data.lpdaac.earthdatacloud.nasa.gov/lp-prod-protected/HLSL30.020/HLS.L30.T16RBT.2023212T163147.v2.0/HLS.L30.T16RBT.2023212T163147.v2.0.SZA.tif', 'https://data.lpdaac.earthdatacloud.nasa.gov/lp-prod-protected/HLSL30.020/HLS.L30.T16RBT.2023212T163147.v2.0/HLS.L30.T16RBT.2023212T163147.v2.0.SAA.tif', 'https://data.lpdaac.earthdatacloud.nasa.gov/lp-prod-protected/HLSL30.020/HLS.L30.T16RBT.2023212T163147.v2.0/HLS.L30.T16RBT.2023212T163147.v2.0.B09.tif', 'https://data.lpdaac.earthdatacloud.nasa.gov/lp-prod-protected/HLSL30.020/HLS.L30.T16RBT.2023212T163147.v2.0/HLS.L30.T16RBT.2023212T163147.v2.0.B05.tif', 'https://data.lpdaac.earthdatacloud.nasa.gov/lp-prod-protected/HLSL30.020/HLS.L30.T16RBT.2023212T163147.v2.0/HLS.L30.T16RBT.2023212T163147.v2.0.B06.tif', 'https://data.lpdaac.earthdatacloud.nasa.gov/lp-prod-protected/HLSL30.020/HLS.L30.T16RBT.2023212T163147.v2.0/HLS.L30.T16RBT.2023212T163147.v2.0.B03.tif', 'https://data.lpdaac.earthdatacloud.nasa.gov/lp-prod-protected/HLSL30.020/HLS.L30.T16RBT.2023212T163147.v2.0/HLS.L30.T16RBT.2023212T163147.v2.0.B04.tif', 'https://data.lpdaac.earthdatacloud.nasa.gov/lp-prod-protected/HLSL30.020/HLS.L30.T16RBT.2023212T163147.v2.0/HLS.L30.T16RBT.2023212T163147.v2.0.VZA.tif', 'https://data.lpdaac.earthdatacloud.nasa.gov/lp-prod-protected/HLSL30.020/HLS.L30.T16RBT.2023212T163147.v2.0/HLS.L30.T16RBT.2023212T163147.v2.0.Fmask.tif', 'https://data.lpdaac.earthdatacloud.nasa.gov/lp-prod-protected/HLSL30.020/HLS.L30.T16RBT.2023212T163147.v2.0/HLS.L30.T16RBT.2023212T163147.v2.0.B07.tif', 'https://data.lpdaac.earthdatacloud.nasa.gov/lp-prod-protected/HLSL30.020/HLS.L30.T16RBT.2023212T163147.v2.0/HLS.L30.T16RBT.2023212T163147.v2.0.B11.tif'],\n",
              " Collection: {'EntryTitle': 'HLS Landsat Operational Land Imager Surface Reflectance and TOA Brightness Daily Global 30m v2.0'}\n",
              " Spatial coverage: {'HorizontalSpatialDomain': {'Geometry': {'GPolygons': [{'Boundary': {'Points': [{'Longitude': -89.82661214, 'Latitude': 28.80213717}, {'Longitude': -89.79583778, 'Latitude': 29.79160422}, {'Longitude': -90.93082361, 'Latitude': 29.81426153}, {'Longitude': -90.95072084, 'Latitude': 28.82389994}, {'Longitude': -89.82661214, 'Latitude': 28.80213717}]}}]}}}\n",
              " Temporal coverage: {'RangeDateTime': {'BeginningDateTime': '2023-07-31T16:31:47.828Z', 'EndingDateTime': '2023-07-31T16:32:11.724Z'}}\n",
              " Size(MB): 170.80500507354736\n",
              " Data: ['https://data.lpdaac.earthdatacloud.nasa.gov/lp-prod-protected/HLSL30.020/HLS.L30.T15RYN.2023212T163147.v2.0/HLS.L30.T15RYN.2023212T163147.v2.0.B03.tif', 'https://data.lpdaac.earthdatacloud.nasa.gov/lp-prod-protected/HLSL30.020/HLS.L30.T15RYN.2023212T163147.v2.0/HLS.L30.T15RYN.2023212T163147.v2.0.SZA.tif', 'https://data.lpdaac.earthdatacloud.nasa.gov/lp-prod-protected/HLSL30.020/HLS.L30.T15RYN.2023212T163147.v2.0/HLS.L30.T15RYN.2023212T163147.v2.0.B11.tif', 'https://data.lpdaac.earthdatacloud.nasa.gov/lp-prod-protected/HLSL30.020/HLS.L30.T15RYN.2023212T163147.v2.0/HLS.L30.T15RYN.2023212T163147.v2.0.Fmask.tif', 'https://data.lpdaac.earthdatacloud.nasa.gov/lp-prod-protected/HLSL30.020/HLS.L30.T15RYN.2023212T163147.v2.0/HLS.L30.T15RYN.2023212T163147.v2.0.B04.tif', 'https://data.lpdaac.earthdatacloud.nasa.gov/lp-prod-protected/HLSL30.020/HLS.L30.T15RYN.2023212T163147.v2.0/HLS.L30.T15RYN.2023212T163147.v2.0.B01.tif', 'https://data.lpdaac.earthdatacloud.nasa.gov/lp-prod-protected/HLSL30.020/HLS.L30.T15RYN.2023212T163147.v2.0/HLS.L30.T15RYN.2023212T163147.v2.0.B07.tif', 'https://data.lpdaac.earthdatacloud.nasa.gov/lp-prod-protected/HLSL30.020/HLS.L30.T15RYN.2023212T163147.v2.0/HLS.L30.T15RYN.2023212T163147.v2.0.B09.tif', 'https://data.lpdaac.earthdatacloud.nasa.gov/lp-prod-protected/HLSL30.020/HLS.L30.T15RYN.2023212T163147.v2.0/HLS.L30.T15RYN.2023212T163147.v2.0.B05.tif', 'https://data.lpdaac.earthdatacloud.nasa.gov/lp-prod-protected/HLSL30.020/HLS.L30.T15RYN.2023212T163147.v2.0/HLS.L30.T15RYN.2023212T163147.v2.0.VZA.tif', 'https://data.lpdaac.earthdatacloud.nasa.gov/lp-prod-protected/HLSL30.020/HLS.L30.T15RYN.2023212T163147.v2.0/HLS.L30.T15RYN.2023212T163147.v2.0.B02.tif', 'https://data.lpdaac.earthdatacloud.nasa.gov/lp-prod-protected/HLSL30.020/HLS.L30.T15RYN.2023212T163147.v2.0/HLS.L30.T15RYN.2023212T163147.v2.0.B06.tif', 'https://data.lpdaac.earthdatacloud.nasa.gov/lp-prod-protected/HLSL30.020/HLS.L30.T15RYN.2023212T163147.v2.0/HLS.L30.T15RYN.2023212T163147.v2.0.VAA.tif', 'https://data.lpdaac.earthdatacloud.nasa.gov/lp-prod-protected/HLSL30.020/HLS.L30.T15RYN.2023212T163147.v2.0/HLS.L30.T15RYN.2023212T163147.v2.0.B10.tif', 'https://data.lpdaac.earthdatacloud.nasa.gov/lp-prod-protected/HLSL30.020/HLS.L30.T15RYN.2023212T163147.v2.0/HLS.L30.T15RYN.2023212T163147.v2.0.SAA.tif'],\n",
              " Collection: {'EntryTitle': 'HLS Landsat Operational Land Imager Surface Reflectance and TOA Brightness Daily Global 30m v2.0'}\n",
              " Spatial coverage: {'HorizontalSpatialDomain': {'Geometry': {'GPolygons': [{'Boundary': {'Points': [{'Longitude': -89.79864173, 'Latitude': 29.70347853}, {'Longitude': -89.76643746, 'Latitude': 30.69278312}, {'Longitude': -90.91181412, 'Latitude': 30.71627038}, {'Longitude': -90.93263654, 'Latitude': 29.72605548}, {'Longitude': -89.79864173, 'Latitude': 29.70347853}]}}]}}}\n",
              " Temporal coverage: {'RangeDateTime': {'BeginningDateTime': '2023-07-31T16:31:47.828Z', 'EndingDateTime': '2023-07-31T16:31:47.828Z'}}\n",
              " Size(MB): 173.77996730804443\n",
              " Data: ['https://data.lpdaac.earthdatacloud.nasa.gov/lp-prod-protected/HLSL30.020/HLS.L30.T15RYP.2023212T163147.v2.0/HLS.L30.T15RYP.2023212T163147.v2.0.B03.tif', 'https://data.lpdaac.earthdatacloud.nasa.gov/lp-prod-protected/HLSL30.020/HLS.L30.T15RYP.2023212T163147.v2.0/HLS.L30.T15RYP.2023212T163147.v2.0.B04.tif', 'https://data.lpdaac.earthdatacloud.nasa.gov/lp-prod-protected/HLSL30.020/HLS.L30.T15RYP.2023212T163147.v2.0/HLS.L30.T15RYP.2023212T163147.v2.0.B10.tif', 'https://data.lpdaac.earthdatacloud.nasa.gov/lp-prod-protected/HLSL30.020/HLS.L30.T15RYP.2023212T163147.v2.0/HLS.L30.T15RYP.2023212T163147.v2.0.VAA.tif', 'https://data.lpdaac.earthdatacloud.nasa.gov/lp-prod-protected/HLSL30.020/HLS.L30.T15RYP.2023212T163147.v2.0/HLS.L30.T15RYP.2023212T163147.v2.0.SAA.tif', 'https://data.lpdaac.earthdatacloud.nasa.gov/lp-prod-protected/HLSL30.020/HLS.L30.T15RYP.2023212T163147.v2.0/HLS.L30.T15RYP.2023212T163147.v2.0.Fmask.tif', 'https://data.lpdaac.earthdatacloud.nasa.gov/lp-prod-protected/HLSL30.020/HLS.L30.T15RYP.2023212T163147.v2.0/HLS.L30.T15RYP.2023212T163147.v2.0.SZA.tif', 'https://data.lpdaac.earthdatacloud.nasa.gov/lp-prod-protected/HLSL30.020/HLS.L30.T15RYP.2023212T163147.v2.0/HLS.L30.T15RYP.2023212T163147.v2.0.B11.tif', 'https://data.lpdaac.earthdatacloud.nasa.gov/lp-prod-protected/HLSL30.020/HLS.L30.T15RYP.2023212T163147.v2.0/HLS.L30.T15RYP.2023212T163147.v2.0.B06.tif', 'https://data.lpdaac.earthdatacloud.nasa.gov/lp-prod-protected/HLSL30.020/HLS.L30.T15RYP.2023212T163147.v2.0/HLS.L30.T15RYP.2023212T163147.v2.0.B09.tif', 'https://data.lpdaac.earthdatacloud.nasa.gov/lp-prod-protected/HLSL30.020/HLS.L30.T15RYP.2023212T163147.v2.0/HLS.L30.T15RYP.2023212T163147.v2.0.B07.tif', 'https://data.lpdaac.earthdatacloud.nasa.gov/lp-prod-protected/HLSL30.020/HLS.L30.T15RYP.2023212T163147.v2.0/HLS.L30.T15RYP.2023212T163147.v2.0.VZA.tif', 'https://data.lpdaac.earthdatacloud.nasa.gov/lp-prod-protected/HLSL30.020/HLS.L30.T15RYP.2023212T163147.v2.0/HLS.L30.T15RYP.2023212T163147.v2.0.B01.tif', 'https://data.lpdaac.earthdatacloud.nasa.gov/lp-prod-protected/HLSL30.020/HLS.L30.T15RYP.2023212T163147.v2.0/HLS.L30.T15RYP.2023212T163147.v2.0.B02.tif', 'https://data.lpdaac.earthdatacloud.nasa.gov/lp-prod-protected/HLSL30.020/HLS.L30.T15RYP.2023212T163147.v2.0/HLS.L30.T15RYP.2023212T163147.v2.0.B05.tif'],\n",
              " Collection: {'EntryTitle': 'HLS Landsat Operational Land Imager Surface Reflectance and TOA Brightness Daily Global 30m v2.0'}\n",
              " Spatial coverage: {'HorizontalSpatialDomain': {'Geometry': {'GPolygons': [{'Boundary': {'Points': [{'Longitude': -90.10082051, 'Latitude': 29.70587294}, {'Longitude': -89.29033532, 'Latitude': 29.72238411}, {'Longitude': -89.01908991, 'Latitude': 30.71736382}, {'Longitude': -90.13201749, 'Latitude': 30.69527405}, {'Longitude': -90.10082051, 'Latitude': 29.70587294}]}}]}}}\n",
              " Temporal coverage: {'RangeDateTime': {'BeginningDateTime': '2023-08-08T16:31:57.564Z', 'EndingDateTime': '2023-08-08T16:31:57.564Z'}}\n",
              " Size(MB): 159.18746662139893\n",
              " Data: ['https://data.lpdaac.earthdatacloud.nasa.gov/lp-prod-protected/HLSL30.020/HLS.L30.T16RBU.2023220T163157.v2.0/HLS.L30.T16RBU.2023220T163157.v2.0.VZA.tif', 'https://data.lpdaac.earthdatacloud.nasa.gov/lp-prod-protected/HLSL30.020/HLS.L30.T16RBU.2023220T163157.v2.0/HLS.L30.T16RBU.2023220T163157.v2.0.SAA.tif', 'https://data.lpdaac.earthdatacloud.nasa.gov/lp-prod-protected/HLSL30.020/HLS.L30.T16RBU.2023220T163157.v2.0/HLS.L30.T16RBU.2023220T163157.v2.0.B01.tif', 'https://data.lpdaac.earthdatacloud.nasa.gov/lp-prod-protected/HLSL30.020/HLS.L30.T16RBU.2023220T163157.v2.0/HLS.L30.T16RBU.2023220T163157.v2.0.B07.tif', 'https://data.lpdaac.earthdatacloud.nasa.gov/lp-prod-protected/HLSL30.020/HLS.L30.T16RBU.2023220T163157.v2.0/HLS.L30.T16RBU.2023220T163157.v2.0.B11.tif', 'https://data.lpdaac.earthdatacloud.nasa.gov/lp-prod-protected/HLSL30.020/HLS.L30.T16RBU.2023220T163157.v2.0/HLS.L30.T16RBU.2023220T163157.v2.0.B04.tif', 'https://data.lpdaac.earthdatacloud.nasa.gov/lp-prod-protected/HLSL30.020/HLS.L30.T16RBU.2023220T163157.v2.0/HLS.L30.T16RBU.2023220T163157.v2.0.SZA.tif', 'https://data.lpdaac.earthdatacloud.nasa.gov/lp-prod-protected/HLSL30.020/HLS.L30.T16RBU.2023220T163157.v2.0/HLS.L30.T16RBU.2023220T163157.v2.0.B03.tif', 'https://data.lpdaac.earthdatacloud.nasa.gov/lp-prod-protected/HLSL30.020/HLS.L30.T16RBU.2023220T163157.v2.0/HLS.L30.T16RBU.2023220T163157.v2.0.VAA.tif', 'https://data.lpdaac.earthdatacloud.nasa.gov/lp-prod-protected/HLSL30.020/HLS.L30.T16RBU.2023220T163157.v2.0/HLS.L30.T16RBU.2023220T163157.v2.0.B02.tif', 'https://data.lpdaac.earthdatacloud.nasa.gov/lp-prod-protected/HLSL30.020/HLS.L30.T16RBU.2023220T163157.v2.0/HLS.L30.T16RBU.2023220T163157.v2.0.Fmask.tif', 'https://data.lpdaac.earthdatacloud.nasa.gov/lp-prod-protected/HLSL30.020/HLS.L30.T16RBU.2023220T163157.v2.0/HLS.L30.T16RBU.2023220T163157.v2.0.B05.tif', 'https://data.lpdaac.earthdatacloud.nasa.gov/lp-prod-protected/HLSL30.020/HLS.L30.T16RBU.2023220T163157.v2.0/HLS.L30.T16RBU.2023220T163157.v2.0.B10.tif', 'https://data.lpdaac.earthdatacloud.nasa.gov/lp-prod-protected/HLSL30.020/HLS.L30.T16RBU.2023220T163157.v2.0/HLS.L30.T16RBU.2023220T163157.v2.0.B06.tif', 'https://data.lpdaac.earthdatacloud.nasa.gov/lp-prod-protected/HLSL30.020/HLS.L30.T16RBU.2023220T163157.v2.0/HLS.L30.T16RBU.2023220T163157.v2.0.B09.tif'],\n",
              " Collection: {'EntryTitle': 'HLS Landsat Operational Land Imager Surface Reflectance and TOA Brightness Daily Global 30m v2.0'}\n",
              " Spatial coverage: {'HorizontalSpatialDomain': {'Geometry': {'GPolygons': [{'Boundary': {'Points': [{'Longitude': -89.82661214, 'Latitude': 28.80213717}, {'Longitude': -89.79583778, 'Latitude': 29.79160422}, {'Longitude': -90.93082361, 'Latitude': 29.81426153}, {'Longitude': -90.94979896, 'Latitude': 28.82388593}, {'Longitude': -89.82661214, 'Latitude': 28.80213717}]}}]}}}\n",
              " Temporal coverage: {'RangeDateTime': {'BeginningDateTime': '2023-08-08T16:31:57.564Z', 'EndingDateTime': '2023-08-08T16:32:21.459Z'}}\n",
              " Size(MB): 174.08020496368408\n",
              " Data: ['https://data.lpdaac.earthdatacloud.nasa.gov/lp-prod-protected/HLSL30.020/HLS.L30.T15RYN.2023220T163157.v2.0/HLS.L30.T15RYN.2023220T163157.v2.0.B04.tif', 'https://data.lpdaac.earthdatacloud.nasa.gov/lp-prod-protected/HLSL30.020/HLS.L30.T15RYN.2023220T163157.v2.0/HLS.L30.T15RYN.2023220T163157.v2.0.B03.tif', 'https://data.lpdaac.earthdatacloud.nasa.gov/lp-prod-protected/HLSL30.020/HLS.L30.T15RYN.2023220T163157.v2.0/HLS.L30.T15RYN.2023220T163157.v2.0.VZA.tif', 'https://data.lpdaac.earthdatacloud.nasa.gov/lp-prod-protected/HLSL30.020/HLS.L30.T15RYN.2023220T163157.v2.0/HLS.L30.T15RYN.2023220T163157.v2.0.B01.tif', 'https://data.lpdaac.earthdatacloud.nasa.gov/lp-prod-protected/HLSL30.020/HLS.L30.T15RYN.2023220T163157.v2.0/HLS.L30.T15RYN.2023220T163157.v2.0.VAA.tif', 'https://data.lpdaac.earthdatacloud.nasa.gov/lp-prod-protected/HLSL30.020/HLS.L30.T15RYN.2023220T163157.v2.0/HLS.L30.T15RYN.2023220T163157.v2.0.B07.tif', 'https://data.lpdaac.earthdatacloud.nasa.gov/lp-prod-protected/HLSL30.020/HLS.L30.T15RYN.2023220T163157.v2.0/HLS.L30.T15RYN.2023220T163157.v2.0.SAA.tif', 'https://data.lpdaac.earthdatacloud.nasa.gov/lp-prod-protected/HLSL30.020/HLS.L30.T15RYN.2023220T163157.v2.0/HLS.L30.T15RYN.2023220T163157.v2.0.B06.tif', 'https://data.lpdaac.earthdatacloud.nasa.gov/lp-prod-protected/HLSL30.020/HLS.L30.T15RYN.2023220T163157.v2.0/HLS.L30.T15RYN.2023220T163157.v2.0.B10.tif', 'https://data.lpdaac.earthdatacloud.nasa.gov/lp-prod-protected/HLSL30.020/HLS.L30.T15RYN.2023220T163157.v2.0/HLS.L30.T15RYN.2023220T163157.v2.0.B02.tif', 'https://data.lpdaac.earthdatacloud.nasa.gov/lp-prod-protected/HLSL30.020/HLS.L30.T15RYN.2023220T163157.v2.0/HLS.L30.T15RYN.2023220T163157.v2.0.B05.tif', 'https://data.lpdaac.earthdatacloud.nasa.gov/lp-prod-protected/HLSL30.020/HLS.L30.T15RYN.2023220T163157.v2.0/HLS.L30.T15RYN.2023220T163157.v2.0.SZA.tif', 'https://data.lpdaac.earthdatacloud.nasa.gov/lp-prod-protected/HLSL30.020/HLS.L30.T15RYN.2023220T163157.v2.0/HLS.L30.T15RYN.2023220T163157.v2.0.B09.tif', 'https://data.lpdaac.earthdatacloud.nasa.gov/lp-prod-protected/HLSL30.020/HLS.L30.T15RYN.2023220T163157.v2.0/HLS.L30.T15RYN.2023220T163157.v2.0.B11.tif', 'https://data.lpdaac.earthdatacloud.nasa.gov/lp-prod-protected/HLSL30.020/HLS.L30.T15RYN.2023220T163157.v2.0/HLS.L30.T15RYN.2023220T163157.v2.0.Fmask.tif'],\n",
              " Collection: {'EntryTitle': 'HLS Landsat Operational Land Imager Surface Reflectance and TOA Brightness Daily Global 30m v2.0'}\n",
              " Spatial coverage: {'HorizontalSpatialDomain': {'Geometry': {'GPolygons': [{'Boundary': {'Points': [{'Longitude': -89.79864173, 'Latitude': 29.70347853}, {'Longitude': -89.76643746, 'Latitude': 30.69278312}, {'Longitude': -90.91181412, 'Latitude': 30.71627038}, {'Longitude': -90.93263654, 'Latitude': 29.72605548}, {'Longitude': -89.79864173, 'Latitude': 29.70347853}]}}]}}}\n",
              " Temporal coverage: {'RangeDateTime': {'BeginningDateTime': '2023-08-08T16:31:57.564Z', 'EndingDateTime': '2023-08-08T16:31:57.564Z'}}\n",
              " Size(MB): 190.29038524627686\n",
              " Data: ['https://data.lpdaac.earthdatacloud.nasa.gov/lp-prod-protected/HLSL30.020/HLS.L30.T15RYP.2023220T163157.v2.0/HLS.L30.T15RYP.2023220T163157.v2.0.VZA.tif', 'https://data.lpdaac.earthdatacloud.nasa.gov/lp-prod-protected/HLSL30.020/HLS.L30.T15RYP.2023220T163157.v2.0/HLS.L30.T15RYP.2023220T163157.v2.0.VAA.tif', 'https://data.lpdaac.earthdatacloud.nasa.gov/lp-prod-protected/HLSL30.020/HLS.L30.T15RYP.2023220T163157.v2.0/HLS.L30.T15RYP.2023220T163157.v2.0.Fmask.tif', 'https://data.lpdaac.earthdatacloud.nasa.gov/lp-prod-protected/HLSL30.020/HLS.L30.T15RYP.2023220T163157.v2.0/HLS.L30.T15RYP.2023220T163157.v2.0.B07.tif', 'https://data.lpdaac.earthdatacloud.nasa.gov/lp-prod-protected/HLSL30.020/HLS.L30.T15RYP.2023220T163157.v2.0/HLS.L30.T15RYP.2023220T163157.v2.0.B05.tif', 'https://data.lpdaac.earthdatacloud.nasa.gov/lp-prod-protected/HLSL30.020/HLS.L30.T15RYP.2023220T163157.v2.0/HLS.L30.T15RYP.2023220T163157.v2.0.B02.tif', 'https://data.lpdaac.earthdatacloud.nasa.gov/lp-prod-protected/HLSL30.020/HLS.L30.T15RYP.2023220T163157.v2.0/HLS.L30.T15RYP.2023220T163157.v2.0.B10.tif', 'https://data.lpdaac.earthdatacloud.nasa.gov/lp-prod-protected/HLSL30.020/HLS.L30.T15RYP.2023220T163157.v2.0/HLS.L30.T15RYP.2023220T163157.v2.0.B06.tif', 'https://data.lpdaac.earthdatacloud.nasa.gov/lp-prod-protected/HLSL30.020/HLS.L30.T15RYP.2023220T163157.v2.0/HLS.L30.T15RYP.2023220T163157.v2.0.B09.tif', 'https://data.lpdaac.earthdatacloud.nasa.gov/lp-prod-protected/HLSL30.020/HLS.L30.T15RYP.2023220T163157.v2.0/HLS.L30.T15RYP.2023220T163157.v2.0.B03.tif', 'https://data.lpdaac.earthdatacloud.nasa.gov/lp-prod-protected/HLSL30.020/HLS.L30.T15RYP.2023220T163157.v2.0/HLS.L30.T15RYP.2023220T163157.v2.0.SZA.tif', 'https://data.lpdaac.earthdatacloud.nasa.gov/lp-prod-protected/HLSL30.020/HLS.L30.T15RYP.2023220T163157.v2.0/HLS.L30.T15RYP.2023220T163157.v2.0.B04.tif', 'https://data.lpdaac.earthdatacloud.nasa.gov/lp-prod-protected/HLSL30.020/HLS.L30.T15RYP.2023220T163157.v2.0/HLS.L30.T15RYP.2023220T163157.v2.0.B11.tif', 'https://data.lpdaac.earthdatacloud.nasa.gov/lp-prod-protected/HLSL30.020/HLS.L30.T15RYP.2023220T163157.v2.0/HLS.L30.T15RYP.2023220T163157.v2.0.SAA.tif', 'https://data.lpdaac.earthdatacloud.nasa.gov/lp-prod-protected/HLSL30.020/HLS.L30.T15RYP.2023220T163157.v2.0/HLS.L30.T15RYP.2023220T163157.v2.0.B01.tif'],\n",
              " Collection: {'EntryTitle': 'HLS Landsat Operational Land Imager Surface Reflectance and TOA Brightness Daily Global 30m v2.0'}\n",
              " Spatial coverage: {'HorizontalSpatialDomain': {'Geometry': {'GPolygons': [{'Boundary': {'Points': [{'Longitude': -90.07372506, 'Latitude': 28.80444525}, {'Longitude': -89.53418925, 'Latitude': 28.81566136}, {'Longitude': -89.26659549, 'Latitude': 29.81102143}, {'Longitude': -90.10353675, 'Latitude': 29.79400715}, {'Longitude': -90.07372506, 'Latitude': 28.80444525}]}}]}}}\n",
              " Temporal coverage: {'RangeDateTime': {'BeginningDateTime': '2023-08-08T16:31:57.564Z', 'EndingDateTime': '2023-08-08T16:32:21.459Z'}}\n",
              " Size(MB): 104.74463367462158\n",
              " Data: ['https://data.lpdaac.earthdatacloud.nasa.gov/lp-prod-protected/HLSL30.020/HLS.L30.T16RBT.2023220T163157.v2.0/HLS.L30.T16RBT.2023220T163157.v2.0.B10.tif', 'https://data.lpdaac.earthdatacloud.nasa.gov/lp-prod-protected/HLSL30.020/HLS.L30.T16RBT.2023220T163157.v2.0/HLS.L30.T16RBT.2023220T163157.v2.0.B02.tif', 'https://data.lpdaac.earthdatacloud.nasa.gov/lp-prod-protected/HLSL30.020/HLS.L30.T16RBT.2023220T163157.v2.0/HLS.L30.T16RBT.2023220T163157.v2.0.B01.tif', 'https://data.lpdaac.earthdatacloud.nasa.gov/lp-prod-protected/HLSL30.020/HLS.L30.T16RBT.2023220T163157.v2.0/HLS.L30.T16RBT.2023220T163157.v2.0.VZA.tif', 'https://data.lpdaac.earthdatacloud.nasa.gov/lp-prod-protected/HLSL30.020/HLS.L30.T16RBT.2023220T163157.v2.0/HLS.L30.T16RBT.2023220T163157.v2.0.VAA.tif', 'https://data.lpdaac.earthdatacloud.nasa.gov/lp-prod-protected/HLSL30.020/HLS.L30.T16RBT.2023220T163157.v2.0/HLS.L30.T16RBT.2023220T163157.v2.0.Fmask.tif', 'https://data.lpdaac.earthdatacloud.nasa.gov/lp-prod-protected/HLSL30.020/HLS.L30.T16RBT.2023220T163157.v2.0/HLS.L30.T16RBT.2023220T163157.v2.0.B06.tif', 'https://data.lpdaac.earthdatacloud.nasa.gov/lp-prod-protected/HLSL30.020/HLS.L30.T16RBT.2023220T163157.v2.0/HLS.L30.T16RBT.2023220T163157.v2.0.B03.tif', 'https://data.lpdaac.earthdatacloud.nasa.gov/lp-prod-protected/HLSL30.020/HLS.L30.T16RBT.2023220T163157.v2.0/HLS.L30.T16RBT.2023220T163157.v2.0.SZA.tif', 'https://data.lpdaac.earthdatacloud.nasa.gov/lp-prod-protected/HLSL30.020/HLS.L30.T16RBT.2023220T163157.v2.0/HLS.L30.T16RBT.2023220T163157.v2.0.B05.tif', 'https://data.lpdaac.earthdatacloud.nasa.gov/lp-prod-protected/HLSL30.020/HLS.L30.T16RBT.2023220T163157.v2.0/HLS.L30.T16RBT.2023220T163157.v2.0.B07.tif', 'https://data.lpdaac.earthdatacloud.nasa.gov/lp-prod-protected/HLSL30.020/HLS.L30.T16RBT.2023220T163157.v2.0/HLS.L30.T16RBT.2023220T163157.v2.0.SAA.tif', 'https://data.lpdaac.earthdatacloud.nasa.gov/lp-prod-protected/HLSL30.020/HLS.L30.T16RBT.2023220T163157.v2.0/HLS.L30.T16RBT.2023220T163157.v2.0.B04.tif', 'https://data.lpdaac.earthdatacloud.nasa.gov/lp-prod-protected/HLSL30.020/HLS.L30.T16RBT.2023220T163157.v2.0/HLS.L30.T16RBT.2023220T163157.v2.0.B11.tif', 'https://data.lpdaac.earthdatacloud.nasa.gov/lp-prod-protected/HLSL30.020/HLS.L30.T16RBT.2023220T163157.v2.0/HLS.L30.T16RBT.2023220T163157.v2.0.B09.tif'],\n",
              " Collection: {'EntryTitle': 'HLS Landsat Operational Land Imager Surface Reflectance and TOA Brightness Daily Global 30m v2.0'}\n",
              " Spatial coverage: {'HorizontalSpatialDomain': {'Geometry': {'GPolygons': [{'Boundary': {'Points': [{'Longitude': -89.79864173, 'Latitude': 29.70347853}, {'Longitude': -89.76643746, 'Latitude': 30.69278312}, {'Longitude': -90.91181412, 'Latitude': 30.71627038}, {'Longitude': -90.93263654, 'Latitude': 29.72605548}, {'Longitude': -89.79864173, 'Latitude': 29.70347853}]}}]}}}\n",
              " Temporal coverage: {'RangeDateTime': {'BeginningDateTime': '2023-08-16T16:31:52.083Z', 'EndingDateTime': '2023-08-16T16:31:52.083Z'}}\n",
              " Size(MB): 178.1906862258911\n",
              " Data: ['https://data.lpdaac.earthdatacloud.nasa.gov/lp-prod-protected/HLSL30.020/HLS.L30.T15RYP.2023228T163152.v2.0/HLS.L30.T15RYP.2023228T163152.v2.0.B02.tif', 'https://data.lpdaac.earthdatacloud.nasa.gov/lp-prod-protected/HLSL30.020/HLS.L30.T15RYP.2023228T163152.v2.0/HLS.L30.T15RYP.2023228T163152.v2.0.SAA.tif', 'https://data.lpdaac.earthdatacloud.nasa.gov/lp-prod-protected/HLSL30.020/HLS.L30.T15RYP.2023228T163152.v2.0/HLS.L30.T15RYP.2023228T163152.v2.0.SZA.tif', 'https://data.lpdaac.earthdatacloud.nasa.gov/lp-prod-protected/HLSL30.020/HLS.L30.T15RYP.2023228T163152.v2.0/HLS.L30.T15RYP.2023228T163152.v2.0.B07.tif', 'https://data.lpdaac.earthdatacloud.nasa.gov/lp-prod-protected/HLSL30.020/HLS.L30.T15RYP.2023228T163152.v2.0/HLS.L30.T15RYP.2023228T163152.v2.0.B04.tif', 'https://data.lpdaac.earthdatacloud.nasa.gov/lp-prod-protected/HLSL30.020/HLS.L30.T15RYP.2023228T163152.v2.0/HLS.L30.T15RYP.2023228T163152.v2.0.B05.tif', 'https://data.lpdaac.earthdatacloud.nasa.gov/lp-prod-protected/HLSL30.020/HLS.L30.T15RYP.2023228T163152.v2.0/HLS.L30.T15RYP.2023228T163152.v2.0.Fmask.tif', 'https://data.lpdaac.earthdatacloud.nasa.gov/lp-prod-protected/HLSL30.020/HLS.L30.T15RYP.2023228T163152.v2.0/HLS.L30.T15RYP.2023228T163152.v2.0.B03.tif', 'https://data.lpdaac.earthdatacloud.nasa.gov/lp-prod-protected/HLSL30.020/HLS.L30.T15RYP.2023228T163152.v2.0/HLS.L30.T15RYP.2023228T163152.v2.0.VAA.tif', 'https://data.lpdaac.earthdatacloud.nasa.gov/lp-prod-protected/HLSL30.020/HLS.L30.T15RYP.2023228T163152.v2.0/HLS.L30.T15RYP.2023228T163152.v2.0.B01.tif', 'https://data.lpdaac.earthdatacloud.nasa.gov/lp-prod-protected/HLSL30.020/HLS.L30.T15RYP.2023228T163152.v2.0/HLS.L30.T15RYP.2023228T163152.v2.0.B11.tif', 'https://data.lpdaac.earthdatacloud.nasa.gov/lp-prod-protected/HLSL30.020/HLS.L30.T15RYP.2023228T163152.v2.0/HLS.L30.T15RYP.2023228T163152.v2.0.B09.tif', 'https://data.lpdaac.earthdatacloud.nasa.gov/lp-prod-protected/HLSL30.020/HLS.L30.T15RYP.2023228T163152.v2.0/HLS.L30.T15RYP.2023228T163152.v2.0.B10.tif', 'https://data.lpdaac.earthdatacloud.nasa.gov/lp-prod-protected/HLSL30.020/HLS.L30.T15RYP.2023228T163152.v2.0/HLS.L30.T15RYP.2023228T163152.v2.0.VZA.tif', 'https://data.lpdaac.earthdatacloud.nasa.gov/lp-prod-protected/HLSL30.020/HLS.L30.T15RYP.2023228T163152.v2.0/HLS.L30.T15RYP.2023228T163152.v2.0.B06.tif'],\n",
              " Collection: {'EntryTitle': 'HLS Landsat Operational Land Imager Surface Reflectance and TOA Brightness Daily Global 30m v2.0'}\n",
              " Spatial coverage: {'HorizontalSpatialDomain': {'Geometry': {'GPolygons': [{'Boundary': {'Points': [{'Longitude': -90.10082051, 'Latitude': 29.70587294}, {'Longitude': -89.27795595, 'Latitude': 29.72340972}, {'Longitude': -89.00656456, 'Latitude': 30.71755809}, {'Longitude': -90.13201749, 'Latitude': 30.69527405}, {'Longitude': -90.10082051, 'Latitude': 29.70587294}]}}]}}}\n",
              " Temporal coverage: {'RangeDateTime': {'BeginningDateTime': '2023-08-16T16:31:52.083Z', 'EndingDateTime': '2023-08-16T16:31:52.083Z'}}\n",
              " Size(MB): 157.54631900787354\n",
              " Data: ['https://data.lpdaac.earthdatacloud.nasa.gov/lp-prod-protected/HLSL30.020/HLS.L30.T16RBU.2023228T163152.v2.0/HLS.L30.T16RBU.2023228T163152.v2.0.B04.tif', 'https://data.lpdaac.earthdatacloud.nasa.gov/lp-prod-protected/HLSL30.020/HLS.L30.T16RBU.2023228T163152.v2.0/HLS.L30.T16RBU.2023228T163152.v2.0.SAA.tif', 'https://data.lpdaac.earthdatacloud.nasa.gov/lp-prod-protected/HLSL30.020/HLS.L30.T16RBU.2023228T163152.v2.0/HLS.L30.T16RBU.2023228T163152.v2.0.B03.tif', 'https://data.lpdaac.earthdatacloud.nasa.gov/lp-prod-protected/HLSL30.020/HLS.L30.T16RBU.2023228T163152.v2.0/HLS.L30.T16RBU.2023228T163152.v2.0.B09.tif', 'https://data.lpdaac.earthdatacloud.nasa.gov/lp-prod-protected/HLSL30.020/HLS.L30.T16RBU.2023228T163152.v2.0/HLS.L30.T16RBU.2023228T163152.v2.0.B10.tif', 'https://data.lpdaac.earthdatacloud.nasa.gov/lp-prod-protected/HLSL30.020/HLS.L30.T16RBU.2023228T163152.v2.0/HLS.L30.T16RBU.2023228T163152.v2.0.B01.tif', 'https://data.lpdaac.earthdatacloud.nasa.gov/lp-prod-protected/HLSL30.020/HLS.L30.T16RBU.2023228T163152.v2.0/HLS.L30.T16RBU.2023228T163152.v2.0.VAA.tif', 'https://data.lpdaac.earthdatacloud.nasa.gov/lp-prod-protected/HLSL30.020/HLS.L30.T16RBU.2023228T163152.v2.0/HLS.L30.T16RBU.2023228T163152.v2.0.SZA.tif', 'https://data.lpdaac.earthdatacloud.nasa.gov/lp-prod-protected/HLSL30.020/HLS.L30.T16RBU.2023228T163152.v2.0/HLS.L30.T16RBU.2023228T163152.v2.0.B02.tif', 'https://data.lpdaac.earthdatacloud.nasa.gov/lp-prod-protected/HLSL30.020/HLS.L30.T16RBU.2023228T163152.v2.0/HLS.L30.T16RBU.2023228T163152.v2.0.B11.tif', 'https://data.lpdaac.earthdatacloud.nasa.gov/lp-prod-protected/HLSL30.020/HLS.L30.T16RBU.2023228T163152.v2.0/HLS.L30.T16RBU.2023228T163152.v2.0.B07.tif', 'https://data.lpdaac.earthdatacloud.nasa.gov/lp-prod-protected/HLSL30.020/HLS.L30.T16RBU.2023228T163152.v2.0/HLS.L30.T16RBU.2023228T163152.v2.0.B06.tif', 'https://data.lpdaac.earthdatacloud.nasa.gov/lp-prod-protected/HLSL30.020/HLS.L30.T16RBU.2023228T163152.v2.0/HLS.L30.T16RBU.2023228T163152.v2.0.Fmask.tif', 'https://data.lpdaac.earthdatacloud.nasa.gov/lp-prod-protected/HLSL30.020/HLS.L30.T16RBU.2023228T163152.v2.0/HLS.L30.T16RBU.2023228T163152.v2.0.B05.tif', 'https://data.lpdaac.earthdatacloud.nasa.gov/lp-prod-protected/HLSL30.020/HLS.L30.T16RBU.2023228T163152.v2.0/HLS.L30.T16RBU.2023228T163152.v2.0.VZA.tif'],\n",
              " Collection: {'EntryTitle': 'HLS Landsat Operational Land Imager Surface Reflectance and TOA Brightness Daily Global 30m v2.0'}\n",
              " Spatial coverage: {'HorizontalSpatialDomain': {'Geometry': {'GPolygons': [{'Boundary': {'Points': [{'Longitude': -90.07372506, 'Latitude': 28.80444525}, {'Longitude': -89.52528802, 'Latitude': 28.81609895}, {'Longitude': -89.25418666, 'Latitude': 29.81123378}, {'Longitude': -90.10353675, 'Latitude': 29.79400715}, {'Longitude': -90.07372506, 'Latitude': 28.80444525}]}}]}}}\n",
              " Temporal coverage: {'RangeDateTime': {'BeginningDateTime': '2023-08-16T16:31:52.083Z', 'EndingDateTime': '2023-08-16T16:32:15.974Z'}}\n",
              " Size(MB): 107.4115858078003\n",
              " Data: ['https://data.lpdaac.earthdatacloud.nasa.gov/lp-prod-protected/HLSL30.020/HLS.L30.T16RBT.2023228T163152.v2.0/HLS.L30.T16RBT.2023228T163152.v2.0.B06.tif', 'https://data.lpdaac.earthdatacloud.nasa.gov/lp-prod-protected/HLSL30.020/HLS.L30.T16RBT.2023228T163152.v2.0/HLS.L30.T16RBT.2023228T163152.v2.0.B10.tif', 'https://data.lpdaac.earthdatacloud.nasa.gov/lp-prod-protected/HLSL30.020/HLS.L30.T16RBT.2023228T163152.v2.0/HLS.L30.T16RBT.2023228T163152.v2.0.B04.tif', 'https://data.lpdaac.earthdatacloud.nasa.gov/lp-prod-protected/HLSL30.020/HLS.L30.T16RBT.2023228T163152.v2.0/HLS.L30.T16RBT.2023228T163152.v2.0.VZA.tif', 'https://data.lpdaac.earthdatacloud.nasa.gov/lp-prod-protected/HLSL30.020/HLS.L30.T16RBT.2023228T163152.v2.0/HLS.L30.T16RBT.2023228T163152.v2.0.B05.tif', 'https://data.lpdaac.earthdatacloud.nasa.gov/lp-prod-protected/HLSL30.020/HLS.L30.T16RBT.2023228T163152.v2.0/HLS.L30.T16RBT.2023228T163152.v2.0.VAA.tif', 'https://data.lpdaac.earthdatacloud.nasa.gov/lp-prod-protected/HLSL30.020/HLS.L30.T16RBT.2023228T163152.v2.0/HLS.L30.T16RBT.2023228T163152.v2.0.B09.tif', 'https://data.lpdaac.earthdatacloud.nasa.gov/lp-prod-protected/HLSL30.020/HLS.L30.T16RBT.2023228T163152.v2.0/HLS.L30.T16RBT.2023228T163152.v2.0.Fmask.tif', 'https://data.lpdaac.earthdatacloud.nasa.gov/lp-prod-protected/HLSL30.020/HLS.L30.T16RBT.2023228T163152.v2.0/HLS.L30.T16RBT.2023228T163152.v2.0.B11.tif', 'https://data.lpdaac.earthdatacloud.nasa.gov/lp-prod-protected/HLSL30.020/HLS.L30.T16RBT.2023228T163152.v2.0/HLS.L30.T16RBT.2023228T163152.v2.0.B03.tif', 'https://data.lpdaac.earthdatacloud.nasa.gov/lp-prod-protected/HLSL30.020/HLS.L30.T16RBT.2023228T163152.v2.0/HLS.L30.T16RBT.2023228T163152.v2.0.SAA.tif', 'https://data.lpdaac.earthdatacloud.nasa.gov/lp-prod-protected/HLSL30.020/HLS.L30.T16RBT.2023228T163152.v2.0/HLS.L30.T16RBT.2023228T163152.v2.0.SZA.tif', 'https://data.lpdaac.earthdatacloud.nasa.gov/lp-prod-protected/HLSL30.020/HLS.L30.T16RBT.2023228T163152.v2.0/HLS.L30.T16RBT.2023228T163152.v2.0.B02.tif', 'https://data.lpdaac.earthdatacloud.nasa.gov/lp-prod-protected/HLSL30.020/HLS.L30.T16RBT.2023228T163152.v2.0/HLS.L30.T16RBT.2023228T163152.v2.0.B01.tif', 'https://data.lpdaac.earthdatacloud.nasa.gov/lp-prod-protected/HLSL30.020/HLS.L30.T16RBT.2023228T163152.v2.0/HLS.L30.T16RBT.2023228T163152.v2.0.B07.tif'],\n",
              " Collection: {'EntryTitle': 'HLS Landsat Operational Land Imager Surface Reflectance and TOA Brightness Daily Global 30m v2.0'}\n",
              " Spatial coverage: {'HorizontalSpatialDomain': {'Geometry': {'GPolygons': [{'Boundary': {'Points': [{'Longitude': -89.82661214, 'Latitude': 28.80213717}, {'Longitude': -89.79583778, 'Latitude': 29.79160422}, {'Longitude': -90.93082361, 'Latitude': 29.81426153}, {'Longitude': -90.95072084, 'Latitude': 28.82389994}, {'Longitude': -89.82661214, 'Latitude': 28.80213717}]}}]}}}\n",
              " Temporal coverage: {'RangeDateTime': {'BeginningDateTime': '2023-08-16T16:31:52.083Z', 'EndingDateTime': '2023-08-16T16:32:15.974Z'}}\n",
              " Size(MB): 170.30919456481934\n",
              " Data: ['https://data.lpdaac.earthdatacloud.nasa.gov/lp-prod-protected/HLSL30.020/HLS.L30.T15RYN.2023228T163152.v2.0/HLS.L30.T15RYN.2023228T163152.v2.0.B07.tif', 'https://data.lpdaac.earthdatacloud.nasa.gov/lp-prod-protected/HLSL30.020/HLS.L30.T15RYN.2023228T163152.v2.0/HLS.L30.T15RYN.2023228T163152.v2.0.B01.tif', 'https://data.lpdaac.earthdatacloud.nasa.gov/lp-prod-protected/HLSL30.020/HLS.L30.T15RYN.2023228T163152.v2.0/HLS.L30.T15RYN.2023228T163152.v2.0.B09.tif', 'https://data.lpdaac.earthdatacloud.nasa.gov/lp-prod-protected/HLSL30.020/HLS.L30.T15RYN.2023228T163152.v2.0/HLS.L30.T15RYN.2023228T163152.v2.0.SAA.tif', 'https://data.lpdaac.earthdatacloud.nasa.gov/lp-prod-protected/HLSL30.020/HLS.L30.T15RYN.2023228T163152.v2.0/HLS.L30.T15RYN.2023228T163152.v2.0.B04.tif', 'https://data.lpdaac.earthdatacloud.nasa.gov/lp-prod-protected/HLSL30.020/HLS.L30.T15RYN.2023228T163152.v2.0/HLS.L30.T15RYN.2023228T163152.v2.0.VAA.tif', 'https://data.lpdaac.earthdatacloud.nasa.gov/lp-prod-protected/HLSL30.020/HLS.L30.T15RYN.2023228T163152.v2.0/HLS.L30.T15RYN.2023228T163152.v2.0.B10.tif', 'https://data.lpdaac.earthdatacloud.nasa.gov/lp-prod-protected/HLSL30.020/HLS.L30.T15RYN.2023228T163152.v2.0/HLS.L30.T15RYN.2023228T163152.v2.0.B05.tif', 'https://data.lpdaac.earthdatacloud.nasa.gov/lp-prod-protected/HLSL30.020/HLS.L30.T15RYN.2023228T163152.v2.0/HLS.L30.T15RYN.2023228T163152.v2.0.B11.tif', 'https://data.lpdaac.earthdatacloud.nasa.gov/lp-prod-protected/HLSL30.020/HLS.L30.T15RYN.2023228T163152.v2.0/HLS.L30.T15RYN.2023228T163152.v2.0.SZA.tif', 'https://data.lpdaac.earthdatacloud.nasa.gov/lp-prod-protected/HLSL30.020/HLS.L30.T15RYN.2023228T163152.v2.0/HLS.L30.T15RYN.2023228T163152.v2.0.B02.tif', 'https://data.lpdaac.earthdatacloud.nasa.gov/lp-prod-protected/HLSL30.020/HLS.L30.T15RYN.2023228T163152.v2.0/HLS.L30.T15RYN.2023228T163152.v2.0.B06.tif', 'https://data.lpdaac.earthdatacloud.nasa.gov/lp-prod-protected/HLSL30.020/HLS.L30.T15RYN.2023228T163152.v2.0/HLS.L30.T15RYN.2023228T163152.v2.0.Fmask.tif', 'https://data.lpdaac.earthdatacloud.nasa.gov/lp-prod-protected/HLSL30.020/HLS.L30.T15RYN.2023228T163152.v2.0/HLS.L30.T15RYN.2023228T163152.v2.0.B03.tif', 'https://data.lpdaac.earthdatacloud.nasa.gov/lp-prod-protected/HLSL30.020/HLS.L30.T15RYN.2023228T163152.v2.0/HLS.L30.T15RYN.2023228T163152.v2.0.VZA.tif'],\n",
              " Collection: {'EntryTitle': 'HLS Landsat Operational Land Imager Surface Reflectance and TOA Brightness Daily Global 30m v2.0'}\n",
              " Spatial coverage: {'HorizontalSpatialDomain': {'Geometry': {'GPolygons': [{'Boundary': {'Points': [{'Longitude': -89.79864173, 'Latitude': 29.70347853}, {'Longitude': -89.76643746, 'Latitude': 30.69278312}, {'Longitude': -90.91181412, 'Latitude': 30.71627038}, {'Longitude': -90.93263654, 'Latitude': 29.72605548}, {'Longitude': -89.79864173, 'Latitude': 29.70347853}]}}]}}}\n",
              " Temporal coverage: {'RangeDateTime': {'BeginningDateTime': '2023-08-24T16:32:05.861Z', 'EndingDateTime': '2023-08-24T16:32:05.861Z'}}\n",
              " Size(MB): 182.5469446182251\n",
              " Data: ['https://data.lpdaac.earthdatacloud.nasa.gov/lp-prod-protected/HLSL30.020/HLS.L30.T15RYP.2023236T163205.v2.0/HLS.L30.T15RYP.2023236T163205.v2.0.VAA.tif', 'https://data.lpdaac.earthdatacloud.nasa.gov/lp-prod-protected/HLSL30.020/HLS.L30.T15RYP.2023236T163205.v2.0/HLS.L30.T15RYP.2023236T163205.v2.0.B02.tif', 'https://data.lpdaac.earthdatacloud.nasa.gov/lp-prod-protected/HLSL30.020/HLS.L30.T15RYP.2023236T163205.v2.0/HLS.L30.T15RYP.2023236T163205.v2.0.B06.tif', 'https://data.lpdaac.earthdatacloud.nasa.gov/lp-prod-protected/HLSL30.020/HLS.L30.T15RYP.2023236T163205.v2.0/HLS.L30.T15RYP.2023236T163205.v2.0.VZA.tif', 'https://data.lpdaac.earthdatacloud.nasa.gov/lp-prod-protected/HLSL30.020/HLS.L30.T15RYP.2023236T163205.v2.0/HLS.L30.T15RYP.2023236T163205.v2.0.SZA.tif', 'https://data.lpdaac.earthdatacloud.nasa.gov/lp-prod-protected/HLSL30.020/HLS.L30.T15RYP.2023236T163205.v2.0/HLS.L30.T15RYP.2023236T163205.v2.0.B09.tif', 'https://data.lpdaac.earthdatacloud.nasa.gov/lp-prod-protected/HLSL30.020/HLS.L30.T15RYP.2023236T163205.v2.0/HLS.L30.T15RYP.2023236T163205.v2.0.B05.tif', 'https://data.lpdaac.earthdatacloud.nasa.gov/lp-prod-protected/HLSL30.020/HLS.L30.T15RYP.2023236T163205.v2.0/HLS.L30.T15RYP.2023236T163205.v2.0.SAA.tif', 'https://data.lpdaac.earthdatacloud.nasa.gov/lp-prod-protected/HLSL30.020/HLS.L30.T15RYP.2023236T163205.v2.0/HLS.L30.T15RYP.2023236T163205.v2.0.B11.tif', 'https://data.lpdaac.earthdatacloud.nasa.gov/lp-prod-protected/HLSL30.020/HLS.L30.T15RYP.2023236T163205.v2.0/HLS.L30.T15RYP.2023236T163205.v2.0.B10.tif', 'https://data.lpdaac.earthdatacloud.nasa.gov/lp-prod-protected/HLSL30.020/HLS.L30.T15RYP.2023236T163205.v2.0/HLS.L30.T15RYP.2023236T163205.v2.0.B01.tif', 'https://data.lpdaac.earthdatacloud.nasa.gov/lp-prod-protected/HLSL30.020/HLS.L30.T15RYP.2023236T163205.v2.0/HLS.L30.T15RYP.2023236T163205.v2.0.B03.tif', 'https://data.lpdaac.earthdatacloud.nasa.gov/lp-prod-protected/HLSL30.020/HLS.L30.T15RYP.2023236T163205.v2.0/HLS.L30.T15RYP.2023236T163205.v2.0.B07.tif', 'https://data.lpdaac.earthdatacloud.nasa.gov/lp-prod-protected/HLSL30.020/HLS.L30.T15RYP.2023236T163205.v2.0/HLS.L30.T15RYP.2023236T163205.v2.0.Fmask.tif', 'https://data.lpdaac.earthdatacloud.nasa.gov/lp-prod-protected/HLSL30.020/HLS.L30.T15RYP.2023236T163205.v2.0/HLS.L30.T15RYP.2023236T163205.v2.0.B04.tif'],\n",
              " Collection: {'EntryTitle': 'HLS Landsat Operational Land Imager Surface Reflectance and TOA Brightness Daily Global 30m v2.0'}\n",
              " Spatial coverage: {'HorizontalSpatialDomain': {'Geometry': {'GPolygons': [{'Boundary': {'Points': [{'Longitude': -90.07372506, 'Latitude': 28.80444525}, {'Longitude': -89.54311008, 'Latitude': 28.81603475}, {'Longitude': -89.27590202, 'Latitude': 29.8108614}, {'Longitude': -90.10353675, 'Latitude': 29.79400715}, {'Longitude': -90.07372506, 'Latitude': 28.80444525}]}}]}}}\n",
              " Temporal coverage: {'RangeDateTime': {'BeginningDateTime': '2023-08-24T16:32:05.861Z', 'EndingDateTime': '2023-08-24T16:32:29.757Z'}}\n",
              " Size(MB): 112.39069271087646\n",
              " Data: ['https://data.lpdaac.earthdatacloud.nasa.gov/lp-prod-protected/HLSL30.020/HLS.L30.T16RBT.2023236T163205.v2.0/HLS.L30.T16RBT.2023236T163205.v2.0.B04.tif', 'https://data.lpdaac.earthdatacloud.nasa.gov/lp-prod-protected/HLSL30.020/HLS.L30.T16RBT.2023236T163205.v2.0/HLS.L30.T16RBT.2023236T163205.v2.0.B10.tif', 'https://data.lpdaac.earthdatacloud.nasa.gov/lp-prod-protected/HLSL30.020/HLS.L30.T16RBT.2023236T163205.v2.0/HLS.L30.T16RBT.2023236T163205.v2.0.SAA.tif', 'https://data.lpdaac.earthdatacloud.nasa.gov/lp-prod-protected/HLSL30.020/HLS.L30.T16RBT.2023236T163205.v2.0/HLS.L30.T16RBT.2023236T163205.v2.0.B07.tif', 'https://data.lpdaac.earthdatacloud.nasa.gov/lp-prod-protected/HLSL30.020/HLS.L30.T16RBT.2023236T163205.v2.0/HLS.L30.T16RBT.2023236T163205.v2.0.B03.tif', 'https://data.lpdaac.earthdatacloud.nasa.gov/lp-prod-protected/HLSL30.020/HLS.L30.T16RBT.2023236T163205.v2.0/HLS.L30.T16RBT.2023236T163205.v2.0.B11.tif', 'https://data.lpdaac.earthdatacloud.nasa.gov/lp-prod-protected/HLSL30.020/HLS.L30.T16RBT.2023236T163205.v2.0/HLS.L30.T16RBT.2023236T163205.v2.0.SZA.tif', 'https://data.lpdaac.earthdatacloud.nasa.gov/lp-prod-protected/HLSL30.020/HLS.L30.T16RBT.2023236T163205.v2.0/HLS.L30.T16RBT.2023236T163205.v2.0.B06.tif', 'https://data.lpdaac.earthdatacloud.nasa.gov/lp-prod-protected/HLSL30.020/HLS.L30.T16RBT.2023236T163205.v2.0/HLS.L30.T16RBT.2023236T163205.v2.0.VAA.tif', 'https://data.lpdaac.earthdatacloud.nasa.gov/lp-prod-protected/HLSL30.020/HLS.L30.T16RBT.2023236T163205.v2.0/HLS.L30.T16RBT.2023236T163205.v2.0.B09.tif', 'https://data.lpdaac.earthdatacloud.nasa.gov/lp-prod-protected/HLSL30.020/HLS.L30.T16RBT.2023236T163205.v2.0/HLS.L30.T16RBT.2023236T163205.v2.0.B02.tif', 'https://data.lpdaac.earthdatacloud.nasa.gov/lp-prod-protected/HLSL30.020/HLS.L30.T16RBT.2023236T163205.v2.0/HLS.L30.T16RBT.2023236T163205.v2.0.Fmask.tif', 'https://data.lpdaac.earthdatacloud.nasa.gov/lp-prod-protected/HLSL30.020/HLS.L30.T16RBT.2023236T163205.v2.0/HLS.L30.T16RBT.2023236T163205.v2.0.B05.tif', 'https://data.lpdaac.earthdatacloud.nasa.gov/lp-prod-protected/HLSL30.020/HLS.L30.T16RBT.2023236T163205.v2.0/HLS.L30.T16RBT.2023236T163205.v2.0.B01.tif', 'https://data.lpdaac.earthdatacloud.nasa.gov/lp-prod-protected/HLSL30.020/HLS.L30.T16RBT.2023236T163205.v2.0/HLS.L30.T16RBT.2023236T163205.v2.0.VZA.tif'],\n",
              " Collection: {'EntryTitle': 'HLS Landsat Operational Land Imager Surface Reflectance and TOA Brightness Daily Global 30m v2.0'}\n",
              " Spatial coverage: {'HorizontalSpatialDomain': {'Geometry': {'GPolygons': [{'Boundary': {'Points': [{'Longitude': -89.82661214, 'Latitude': 28.80213717}, {'Longitude': -89.79583778, 'Latitude': 29.79160422}, {'Longitude': -90.93082361, 'Latitude': 29.81426153}, {'Longitude': -90.95072084, 'Latitude': 28.82389994}, {'Longitude': -89.82661214, 'Latitude': 28.80213717}]}}]}}}\n",
              " Temporal coverage: {'RangeDateTime': {'BeginningDateTime': '2023-08-24T16:32:05.861Z', 'EndingDateTime': '2023-08-24T16:32:29.757Z'}}\n",
              " Size(MB): 182.155535697937\n",
              " Data: ['https://data.lpdaac.earthdatacloud.nasa.gov/lp-prod-protected/HLSL30.020/HLS.L30.T15RYN.2023236T163205.v2.0/HLS.L30.T15RYN.2023236T163205.v2.0.B11.tif', 'https://data.lpdaac.earthdatacloud.nasa.gov/lp-prod-protected/HLSL30.020/HLS.L30.T15RYN.2023236T163205.v2.0/HLS.L30.T15RYN.2023236T163205.v2.0.B06.tif', 'https://data.lpdaac.earthdatacloud.nasa.gov/lp-prod-protected/HLSL30.020/HLS.L30.T15RYN.2023236T163205.v2.0/HLS.L30.T15RYN.2023236T163205.v2.0.B05.tif', 'https://data.lpdaac.earthdatacloud.nasa.gov/lp-prod-protected/HLSL30.020/HLS.L30.T15RYN.2023236T163205.v2.0/HLS.L30.T15RYN.2023236T163205.v2.0.VZA.tif', 'https://data.lpdaac.earthdatacloud.nasa.gov/lp-prod-protected/HLSL30.020/HLS.L30.T15RYN.2023236T163205.v2.0/HLS.L30.T15RYN.2023236T163205.v2.0.B07.tif', 'https://data.lpdaac.earthdatacloud.nasa.gov/lp-prod-protected/HLSL30.020/HLS.L30.T15RYN.2023236T163205.v2.0/HLS.L30.T15RYN.2023236T163205.v2.0.Fmask.tif', 'https://data.lpdaac.earthdatacloud.nasa.gov/lp-prod-protected/HLSL30.020/HLS.L30.T15RYN.2023236T163205.v2.0/HLS.L30.T15RYN.2023236T163205.v2.0.B01.tif', 'https://data.lpdaac.earthdatacloud.nasa.gov/lp-prod-protected/HLSL30.020/HLS.L30.T15RYN.2023236T163205.v2.0/HLS.L30.T15RYN.2023236T163205.v2.0.B10.tif', 'https://data.lpdaac.earthdatacloud.nasa.gov/lp-prod-protected/HLSL30.020/HLS.L30.T15RYN.2023236T163205.v2.0/HLS.L30.T15RYN.2023236T163205.v2.0.B02.tif', 'https://data.lpdaac.earthdatacloud.nasa.gov/lp-prod-protected/HLSL30.020/HLS.L30.T15RYN.2023236T163205.v2.0/HLS.L30.T15RYN.2023236T163205.v2.0.SAA.tif', 'https://data.lpdaac.earthdatacloud.nasa.gov/lp-prod-protected/HLSL30.020/HLS.L30.T15RYN.2023236T163205.v2.0/HLS.L30.T15RYN.2023236T163205.v2.0.SZA.tif', 'https://data.lpdaac.earthdatacloud.nasa.gov/lp-prod-protected/HLSL30.020/HLS.L30.T15RYN.2023236T163205.v2.0/HLS.L30.T15RYN.2023236T163205.v2.0.B03.tif', 'https://data.lpdaac.earthdatacloud.nasa.gov/lp-prod-protected/HLSL30.020/HLS.L30.T15RYN.2023236T163205.v2.0/HLS.L30.T15RYN.2023236T163205.v2.0.B09.tif', 'https://data.lpdaac.earthdatacloud.nasa.gov/lp-prod-protected/HLSL30.020/HLS.L30.T15RYN.2023236T163205.v2.0/HLS.L30.T15RYN.2023236T163205.v2.0.VAA.tif', 'https://data.lpdaac.earthdatacloud.nasa.gov/lp-prod-protected/HLSL30.020/HLS.L30.T15RYN.2023236T163205.v2.0/HLS.L30.T15RYN.2023236T163205.v2.0.B04.tif'],\n",
              " Collection: {'EntryTitle': 'HLS Landsat Operational Land Imager Surface Reflectance and TOA Brightness Daily Global 30m v2.0'}\n",
              " Spatial coverage: {'HorizontalSpatialDomain': {'Geometry': {'GPolygons': [{'Boundary': {'Points': [{'Longitude': -90.10082051, 'Latitude': 29.70587294}, {'Longitude': -89.29994345, 'Latitude': 29.72221746}, {'Longitude': -89.02848385, 'Latitude': 30.71721732}, {'Longitude': -90.13201749, 'Latitude': 30.69527405}, {'Longitude': -90.10082051, 'Latitude': 29.70587294}]}}]}}}\n",
              " Temporal coverage: {'RangeDateTime': {'BeginningDateTime': '2023-08-24T16:32:05.861Z', 'EndingDateTime': '2023-08-24T16:32:05.861Z'}}\n",
              " Size(MB): 155.71986961364746\n",
              " Data: ['https://data.lpdaac.earthdatacloud.nasa.gov/lp-prod-protected/HLSL30.020/HLS.L30.T16RBU.2023236T163205.v2.0/HLS.L30.T16RBU.2023236T163205.v2.0.B03.tif', 'https://data.lpdaac.earthdatacloud.nasa.gov/lp-prod-protected/HLSL30.020/HLS.L30.T16RBU.2023236T163205.v2.0/HLS.L30.T16RBU.2023236T163205.v2.0.B07.tif', 'https://data.lpdaac.earthdatacloud.nasa.gov/lp-prod-protected/HLSL30.020/HLS.L30.T16RBU.2023236T163205.v2.0/HLS.L30.T16RBU.2023236T163205.v2.0.B10.tif', 'https://data.lpdaac.earthdatacloud.nasa.gov/lp-prod-protected/HLSL30.020/HLS.L30.T16RBU.2023236T163205.v2.0/HLS.L30.T16RBU.2023236T163205.v2.0.Fmask.tif', 'https://data.lpdaac.earthdatacloud.nasa.gov/lp-prod-protected/HLSL30.020/HLS.L30.T16RBU.2023236T163205.v2.0/HLS.L30.T16RBU.2023236T163205.v2.0.SZA.tif', 'https://data.lpdaac.earthdatacloud.nasa.gov/lp-prod-protected/HLSL30.020/HLS.L30.T16RBU.2023236T163205.v2.0/HLS.L30.T16RBU.2023236T163205.v2.0.B04.tif', 'https://data.lpdaac.earthdatacloud.nasa.gov/lp-prod-protected/HLSL30.020/HLS.L30.T16RBU.2023236T163205.v2.0/HLS.L30.T16RBU.2023236T163205.v2.0.VZA.tif', 'https://data.lpdaac.earthdatacloud.nasa.gov/lp-prod-protected/HLSL30.020/HLS.L30.T16RBU.2023236T163205.v2.0/HLS.L30.T16RBU.2023236T163205.v2.0.VAA.tif', 'https://data.lpdaac.earthdatacloud.nasa.gov/lp-prod-protected/HLSL30.020/HLS.L30.T16RBU.2023236T163205.v2.0/HLS.L30.T16RBU.2023236T163205.v2.0.B01.tif', 'https://data.lpdaac.earthdatacloud.nasa.gov/lp-prod-protected/HLSL30.020/HLS.L30.T16RBU.2023236T163205.v2.0/HLS.L30.T16RBU.2023236T163205.v2.0.B02.tif', 'https://data.lpdaac.earthdatacloud.nasa.gov/lp-prod-protected/HLSL30.020/HLS.L30.T16RBU.2023236T163205.v2.0/HLS.L30.T16RBU.2023236T163205.v2.0.B09.tif', 'https://data.lpdaac.earthdatacloud.nasa.gov/lp-prod-protected/HLSL30.020/HLS.L30.T16RBU.2023236T163205.v2.0/HLS.L30.T16RBU.2023236T163205.v2.0.SAA.tif', 'https://data.lpdaac.earthdatacloud.nasa.gov/lp-prod-protected/HLSL30.020/HLS.L30.T16RBU.2023236T163205.v2.0/HLS.L30.T16RBU.2023236T163205.v2.0.B06.tif', 'https://data.lpdaac.earthdatacloud.nasa.gov/lp-prod-protected/HLSL30.020/HLS.L30.T16RBU.2023236T163205.v2.0/HLS.L30.T16RBU.2023236T163205.v2.0.B05.tif', 'https://data.lpdaac.earthdatacloud.nasa.gov/lp-prod-protected/HLSL30.020/HLS.L30.T16RBU.2023236T163205.v2.0/HLS.L30.T16RBU.2023236T163205.v2.0.B11.tif'],\n",
              " Collection: {'EntryTitle': 'HLS Landsat Operational Land Imager Surface Reflectance and TOA Brightness Daily Global 30m v2.0'}\n",
              " Spatial coverage: {'HorizontalSpatialDomain': {'Geometry': {'GPolygons': [{'Boundary': {'Points': [{'Longitude': -89.79864173, 'Latitude': 29.70347853}, {'Longitude': -89.76643746, 'Latitude': 30.69278312}, {'Longitude': -90.91181412, 'Latitude': 30.71627038}, {'Longitude': -90.93263654, 'Latitude': 29.72605548}, {'Longitude': -89.79864173, 'Latitude': 29.70347853}]}}]}}}\n",
              " Temporal coverage: {'RangeDateTime': {'BeginningDateTime': '2023-09-01T16:32:03.072Z', 'EndingDateTime': '2023-09-01T16:32:03.072Z'}}\n",
              " Size(MB): 196.0640630722046\n",
              " Data: ['https://data.lpdaac.earthdatacloud.nasa.gov/lp-prod-protected/HLSL30.020/HLS.L30.T15RYP.2023244T163203.v2.0/HLS.L30.T15RYP.2023244T163203.v2.0.B10.tif', 'https://data.lpdaac.earthdatacloud.nasa.gov/lp-prod-protected/HLSL30.020/HLS.L30.T15RYP.2023244T163203.v2.0/HLS.L30.T15RYP.2023244T163203.v2.0.B07.tif', 'https://data.lpdaac.earthdatacloud.nasa.gov/lp-prod-protected/HLSL30.020/HLS.L30.T15RYP.2023244T163203.v2.0/HLS.L30.T15RYP.2023244T163203.v2.0.Fmask.tif', 'https://data.lpdaac.earthdatacloud.nasa.gov/lp-prod-protected/HLSL30.020/HLS.L30.T15RYP.2023244T163203.v2.0/HLS.L30.T15RYP.2023244T163203.v2.0.B03.tif', 'https://data.lpdaac.earthdatacloud.nasa.gov/lp-prod-protected/HLSL30.020/HLS.L30.T15RYP.2023244T163203.v2.0/HLS.L30.T15RYP.2023244T163203.v2.0.B09.tif', 'https://data.lpdaac.earthdatacloud.nasa.gov/lp-prod-protected/HLSL30.020/HLS.L30.T15RYP.2023244T163203.v2.0/HLS.L30.T15RYP.2023244T163203.v2.0.B01.tif', 'https://data.lpdaac.earthdatacloud.nasa.gov/lp-prod-protected/HLSL30.020/HLS.L30.T15RYP.2023244T163203.v2.0/HLS.L30.T15RYP.2023244T163203.v2.0.B04.tif', 'https://data.lpdaac.earthdatacloud.nasa.gov/lp-prod-protected/HLSL30.020/HLS.L30.T15RYP.2023244T163203.v2.0/HLS.L30.T15RYP.2023244T163203.v2.0.SAA.tif', 'https://data.lpdaac.earthdatacloud.nasa.gov/lp-prod-protected/HLSL30.020/HLS.L30.T15RYP.2023244T163203.v2.0/HLS.L30.T15RYP.2023244T163203.v2.0.B06.tif', 'https://data.lpdaac.earthdatacloud.nasa.gov/lp-prod-protected/HLSL30.020/HLS.L30.T15RYP.2023244T163203.v2.0/HLS.L30.T15RYP.2023244T163203.v2.0.B11.tif', 'https://data.lpdaac.earthdatacloud.nasa.gov/lp-prod-protected/HLSL30.020/HLS.L30.T15RYP.2023244T163203.v2.0/HLS.L30.T15RYP.2023244T163203.v2.0.VAA.tif', 'https://data.lpdaac.earthdatacloud.nasa.gov/lp-prod-protected/HLSL30.020/HLS.L30.T15RYP.2023244T163203.v2.0/HLS.L30.T15RYP.2023244T163203.v2.0.B02.tif', 'https://data.lpdaac.earthdatacloud.nasa.gov/lp-prod-protected/HLSL30.020/HLS.L30.T15RYP.2023244T163203.v2.0/HLS.L30.T15RYP.2023244T163203.v2.0.B05.tif', 'https://data.lpdaac.earthdatacloud.nasa.gov/lp-prod-protected/HLSL30.020/HLS.L30.T15RYP.2023244T163203.v2.0/HLS.L30.T15RYP.2023244T163203.v2.0.VZA.tif', 'https://data.lpdaac.earthdatacloud.nasa.gov/lp-prod-protected/HLSL30.020/HLS.L30.T15RYP.2023244T163203.v2.0/HLS.L30.T15RYP.2023244T163203.v2.0.SZA.tif'],\n",
              " Collection: {'EntryTitle': 'HLS Landsat Operational Land Imager Surface Reflectance and TOA Brightness Daily Global 30m v2.0'}\n",
              " Spatial coverage: {'HorizontalSpatialDomain': {'Geometry': {'GPolygons': [{'Boundary': {'Points': [{'Longitude': -90.10082051, 'Latitude': 29.70587294}, {'Longitude': -89.2956043, 'Latitude': 29.72229281}, {'Longitude': -89.02441315, 'Latitude': 30.71728089}, {'Longitude': -90.13201749, 'Latitude': 30.69527405}, {'Longitude': -90.10082051, 'Latitude': 29.70587294}]}}]}}}\n",
              " Temporal coverage: {'RangeDateTime': {'BeginningDateTime': '2023-09-01T16:32:03.072Z', 'EndingDateTime': '2023-09-01T16:32:03.072Z'}}\n",
              " Size(MB): 173.69086074829102\n",
              " Data: ['https://data.lpdaac.earthdatacloud.nasa.gov/lp-prod-protected/HLSL30.020/HLS.L30.T16RBU.2023244T163203.v2.0/HLS.L30.T16RBU.2023244T163203.v2.0.B11.tif', 'https://data.lpdaac.earthdatacloud.nasa.gov/lp-prod-protected/HLSL30.020/HLS.L30.T16RBU.2023244T163203.v2.0/HLS.L30.T16RBU.2023244T163203.v2.0.B01.tif', 'https://data.lpdaac.earthdatacloud.nasa.gov/lp-prod-protected/HLSL30.020/HLS.L30.T16RBU.2023244T163203.v2.0/HLS.L30.T16RBU.2023244T163203.v2.0.B03.tif', 'https://data.lpdaac.earthdatacloud.nasa.gov/lp-prod-protected/HLSL30.020/HLS.L30.T16RBU.2023244T163203.v2.0/HLS.L30.T16RBU.2023244T163203.v2.0.B02.tif', 'https://data.lpdaac.earthdatacloud.nasa.gov/lp-prod-protected/HLSL30.020/HLS.L30.T16RBU.2023244T163203.v2.0/HLS.L30.T16RBU.2023244T163203.v2.0.SZA.tif', 'https://data.lpdaac.earthdatacloud.nasa.gov/lp-prod-protected/HLSL30.020/HLS.L30.T16RBU.2023244T163203.v2.0/HLS.L30.T16RBU.2023244T163203.v2.0.B05.tif', 'https://data.lpdaac.earthdatacloud.nasa.gov/lp-prod-protected/HLSL30.020/HLS.L30.T16RBU.2023244T163203.v2.0/HLS.L30.T16RBU.2023244T163203.v2.0.VAA.tif', 'https://data.lpdaac.earthdatacloud.nasa.gov/lp-prod-protected/HLSL30.020/HLS.L30.T16RBU.2023244T163203.v2.0/HLS.L30.T16RBU.2023244T163203.v2.0.B04.tif', 'https://data.lpdaac.earthdatacloud.nasa.gov/lp-prod-protected/HLSL30.020/HLS.L30.T16RBU.2023244T163203.v2.0/HLS.L30.T16RBU.2023244T163203.v2.0.SAA.tif', 'https://data.lpdaac.earthdatacloud.nasa.gov/lp-prod-protected/HLSL30.020/HLS.L30.T16RBU.2023244T163203.v2.0/HLS.L30.T16RBU.2023244T163203.v2.0.Fmask.tif', 'https://data.lpdaac.earthdatacloud.nasa.gov/lp-prod-protected/HLSL30.020/HLS.L30.T16RBU.2023244T163203.v2.0/HLS.L30.T16RBU.2023244T163203.v2.0.B09.tif', 'https://data.lpdaac.earthdatacloud.nasa.gov/lp-prod-protected/HLSL30.020/HLS.L30.T16RBU.2023244T163203.v2.0/HLS.L30.T16RBU.2023244T163203.v2.0.B10.tif', 'https://data.lpdaac.earthdatacloud.nasa.gov/lp-prod-protected/HLSL30.020/HLS.L30.T16RBU.2023244T163203.v2.0/HLS.L30.T16RBU.2023244T163203.v2.0.B06.tif', 'https://data.lpdaac.earthdatacloud.nasa.gov/lp-prod-protected/HLSL30.020/HLS.L30.T16RBU.2023244T163203.v2.0/HLS.L30.T16RBU.2023244T163203.v2.0.B07.tif', 'https://data.lpdaac.earthdatacloud.nasa.gov/lp-prod-protected/HLSL30.020/HLS.L30.T16RBU.2023244T163203.v2.0/HLS.L30.T16RBU.2023244T163203.v2.0.VZA.tif'],\n",
              " Collection: {'EntryTitle': 'HLS Landsat Operational Land Imager Surface Reflectance and TOA Brightness Daily Global 30m v2.0'}\n",
              " Spatial coverage: {'HorizontalSpatialDomain': {'Geometry': {'GPolygons': [{'Boundary': {'Points': [{'Longitude': -90.07372506, 'Latitude': 28.80444525}, {'Longitude': -89.53880981, 'Latitude': 28.81611576}, {'Longitude': -89.27155898, 'Latitude': 29.81093616}, {'Longitude': -90.10353675, 'Latitude': 29.79400715}, {'Longitude': -90.07372506, 'Latitude': 28.80444525}]}}]}}}\n",
              " Temporal coverage: {'RangeDateTime': {'BeginningDateTime': '2023-09-01T16:32:03.072Z', 'EndingDateTime': '2023-09-01T16:32:26.963Z'}}\n",
              " Size(MB): 111.55999374389648\n",
              " Data: ['https://data.lpdaac.earthdatacloud.nasa.gov/lp-prod-protected/HLSL30.020/HLS.L30.T16RBT.2023244T163203.v2.0/HLS.L30.T16RBT.2023244T163203.v2.0.B01.tif', 'https://data.lpdaac.earthdatacloud.nasa.gov/lp-prod-protected/HLSL30.020/HLS.L30.T16RBT.2023244T163203.v2.0/HLS.L30.T16RBT.2023244T163203.v2.0.B03.tif', 'https://data.lpdaac.earthdatacloud.nasa.gov/lp-prod-protected/HLSL30.020/HLS.L30.T16RBT.2023244T163203.v2.0/HLS.L30.T16RBT.2023244T163203.v2.0.B06.tif', 'https://data.lpdaac.earthdatacloud.nasa.gov/lp-prod-protected/HLSL30.020/HLS.L30.T16RBT.2023244T163203.v2.0/HLS.L30.T16RBT.2023244T163203.v2.0.SAA.tif', 'https://data.lpdaac.earthdatacloud.nasa.gov/lp-prod-protected/HLSL30.020/HLS.L30.T16RBT.2023244T163203.v2.0/HLS.L30.T16RBT.2023244T163203.v2.0.SZA.tif', 'https://data.lpdaac.earthdatacloud.nasa.gov/lp-prod-protected/HLSL30.020/HLS.L30.T16RBT.2023244T163203.v2.0/HLS.L30.T16RBT.2023244T163203.v2.0.B09.tif', 'https://data.lpdaac.earthdatacloud.nasa.gov/lp-prod-protected/HLSL30.020/HLS.L30.T16RBT.2023244T163203.v2.0/HLS.L30.T16RBT.2023244T163203.v2.0.B05.tif', 'https://data.lpdaac.earthdatacloud.nasa.gov/lp-prod-protected/HLSL30.020/HLS.L30.T16RBT.2023244T163203.v2.0/HLS.L30.T16RBT.2023244T163203.v2.0.Fmask.tif', 'https://data.lpdaac.earthdatacloud.nasa.gov/lp-prod-protected/HLSL30.020/HLS.L30.T16RBT.2023244T163203.v2.0/HLS.L30.T16RBT.2023244T163203.v2.0.VAA.tif', 'https://data.lpdaac.earthdatacloud.nasa.gov/lp-prod-protected/HLSL30.020/HLS.L30.T16RBT.2023244T163203.v2.0/HLS.L30.T16RBT.2023244T163203.v2.0.B02.tif', 'https://data.lpdaac.earthdatacloud.nasa.gov/lp-prod-protected/HLSL30.020/HLS.L30.T16RBT.2023244T163203.v2.0/HLS.L30.T16RBT.2023244T163203.v2.0.B04.tif', 'https://data.lpdaac.earthdatacloud.nasa.gov/lp-prod-protected/HLSL30.020/HLS.L30.T16RBT.2023244T163203.v2.0/HLS.L30.T16RBT.2023244T163203.v2.0.VZA.tif', 'https://data.lpdaac.earthdatacloud.nasa.gov/lp-prod-protected/HLSL30.020/HLS.L30.T16RBT.2023244T163203.v2.0/HLS.L30.T16RBT.2023244T163203.v2.0.B11.tif', 'https://data.lpdaac.earthdatacloud.nasa.gov/lp-prod-protected/HLSL30.020/HLS.L30.T16RBT.2023244T163203.v2.0/HLS.L30.T16RBT.2023244T163203.v2.0.B10.tif', 'https://data.lpdaac.earthdatacloud.nasa.gov/lp-prod-protected/HLSL30.020/HLS.L30.T16RBT.2023244T163203.v2.0/HLS.L30.T16RBT.2023244T163203.v2.0.B07.tif'],\n",
              " Collection: {'EntryTitle': 'HLS Landsat Operational Land Imager Surface Reflectance and TOA Brightness Daily Global 30m v2.0'}\n",
              " Spatial coverage: {'HorizontalSpatialDomain': {'Geometry': {'GPolygons': [{'Boundary': {'Points': [{'Longitude': -89.82661214, 'Latitude': 28.80213717}, {'Longitude': -89.79583778, 'Latitude': 29.79160422}, {'Longitude': -90.93082361, 'Latitude': 29.81426153}, {'Longitude': -90.95072084, 'Latitude': 28.82389994}, {'Longitude': -89.82661214, 'Latitude': 28.80213717}]}}]}}}\n",
              " Temporal coverage: {'RangeDateTime': {'BeginningDateTime': '2023-09-01T16:32:03.072Z', 'EndingDateTime': '2023-09-01T16:32:26.963Z'}}\n",
              " Size(MB): 194.4248399734497\n",
              " Data: ['https://data.lpdaac.earthdatacloud.nasa.gov/lp-prod-protected/HLSL30.020/HLS.L30.T15RYN.2023244T163203.v2.0/HLS.L30.T15RYN.2023244T163203.v2.0.B04.tif', 'https://data.lpdaac.earthdatacloud.nasa.gov/lp-prod-protected/HLSL30.020/HLS.L30.T15RYN.2023244T163203.v2.0/HLS.L30.T15RYN.2023244T163203.v2.0.Fmask.tif', 'https://data.lpdaac.earthdatacloud.nasa.gov/lp-prod-protected/HLSL30.020/HLS.L30.T15RYN.2023244T163203.v2.0/HLS.L30.T15RYN.2023244T163203.v2.0.B09.tif', 'https://data.lpdaac.earthdatacloud.nasa.gov/lp-prod-protected/HLSL30.020/HLS.L30.T15RYN.2023244T163203.v2.0/HLS.L30.T15RYN.2023244T163203.v2.0.B03.tif', 'https://data.lpdaac.earthdatacloud.nasa.gov/lp-prod-protected/HLSL30.020/HLS.L30.T15RYN.2023244T163203.v2.0/HLS.L30.T15RYN.2023244T163203.v2.0.B02.tif', 'https://data.lpdaac.earthdatacloud.nasa.gov/lp-prod-protected/HLSL30.020/HLS.L30.T15RYN.2023244T163203.v2.0/HLS.L30.T15RYN.2023244T163203.v2.0.B10.tif', 'https://data.lpdaac.earthdatacloud.nasa.gov/lp-prod-protected/HLSL30.020/HLS.L30.T15RYN.2023244T163203.v2.0/HLS.L30.T15RYN.2023244T163203.v2.0.B07.tif', 'https://data.lpdaac.earthdatacloud.nasa.gov/lp-prod-protected/HLSL30.020/HLS.L30.T15RYN.2023244T163203.v2.0/HLS.L30.T15RYN.2023244T163203.v2.0.B05.tif', 'https://data.lpdaac.earthdatacloud.nasa.gov/lp-prod-protected/HLSL30.020/HLS.L30.T15RYN.2023244T163203.v2.0/HLS.L30.T15RYN.2023244T163203.v2.0.B01.tif', 'https://data.lpdaac.earthdatacloud.nasa.gov/lp-prod-protected/HLSL30.020/HLS.L30.T15RYN.2023244T163203.v2.0/HLS.L30.T15RYN.2023244T163203.v2.0.B06.tif', 'https://data.lpdaac.earthdatacloud.nasa.gov/lp-prod-protected/HLSL30.020/HLS.L30.T15RYN.2023244T163203.v2.0/HLS.L30.T15RYN.2023244T163203.v2.0.SAA.tif', 'https://data.lpdaac.earthdatacloud.nasa.gov/lp-prod-protected/HLSL30.020/HLS.L30.T15RYN.2023244T163203.v2.0/HLS.L30.T15RYN.2023244T163203.v2.0.VAA.tif', 'https://data.lpdaac.earthdatacloud.nasa.gov/lp-prod-protected/HLSL30.020/HLS.L30.T15RYN.2023244T163203.v2.0/HLS.L30.T15RYN.2023244T163203.v2.0.VZA.tif', 'https://data.lpdaac.earthdatacloud.nasa.gov/lp-prod-protected/HLSL30.020/HLS.L30.T15RYN.2023244T163203.v2.0/HLS.L30.T15RYN.2023244T163203.v2.0.B11.tif', 'https://data.lpdaac.earthdatacloud.nasa.gov/lp-prod-protected/HLSL30.020/HLS.L30.T15RYN.2023244T163203.v2.0/HLS.L30.T15RYN.2023244T163203.v2.0.SZA.tif'],\n",
              " Collection: {'EntryTitle': 'HLS Landsat Operational Land Imager Surface Reflectance and TOA Brightness Daily Global 30m v2.0'}\n",
              " Spatial coverage: {'HorizontalSpatialDomain': {'Geometry': {'GPolygons': [{'Boundary': {'Points': [{'Longitude': -90.10082051, 'Latitude': 29.70587294}, {'Longitude': -89.28445256, 'Latitude': 29.72275644}, {'Longitude': -89.01345352, 'Latitude': 30.71745139}, {'Longitude': -90.13201749, 'Latitude': 30.69527405}, {'Longitude': -90.10082051, 'Latitude': 29.70587294}]}}]}}}\n",
              " Temporal coverage: {'RangeDateTime': {'BeginningDateTime': '2023-09-09T16:32:06.260Z', 'EndingDateTime': '2023-09-09T16:32:06.260Z'}}\n",
              " Size(MB): 137.82704544067383\n",
              " Data: ['https://data.lpdaac.earthdatacloud.nasa.gov/lp-prod-protected/HLSL30.020/HLS.L30.T16RBU.2023252T163206.v2.0/HLS.L30.T16RBU.2023252T163206.v2.0.B04.tif', 'https://data.lpdaac.earthdatacloud.nasa.gov/lp-prod-protected/HLSL30.020/HLS.L30.T16RBU.2023252T163206.v2.0/HLS.L30.T16RBU.2023252T163206.v2.0.B06.tif', 'https://data.lpdaac.earthdatacloud.nasa.gov/lp-prod-protected/HLSL30.020/HLS.L30.T16RBU.2023252T163206.v2.0/HLS.L30.T16RBU.2023252T163206.v2.0.B03.tif', 'https://data.lpdaac.earthdatacloud.nasa.gov/lp-prod-protected/HLSL30.020/HLS.L30.T16RBU.2023252T163206.v2.0/HLS.L30.T16RBU.2023252T163206.v2.0.SAA.tif', 'https://data.lpdaac.earthdatacloud.nasa.gov/lp-prod-protected/HLSL30.020/HLS.L30.T16RBU.2023252T163206.v2.0/HLS.L30.T16RBU.2023252T163206.v2.0.Fmask.tif', 'https://data.lpdaac.earthdatacloud.nasa.gov/lp-prod-protected/HLSL30.020/HLS.L30.T16RBU.2023252T163206.v2.0/HLS.L30.T16RBU.2023252T163206.v2.0.B07.tif', 'https://data.lpdaac.earthdatacloud.nasa.gov/lp-prod-protected/HLSL30.020/HLS.L30.T16RBU.2023252T163206.v2.0/HLS.L30.T16RBU.2023252T163206.v2.0.B02.tif', 'https://data.lpdaac.earthdatacloud.nasa.gov/lp-prod-protected/HLSL30.020/HLS.L30.T16RBU.2023252T163206.v2.0/HLS.L30.T16RBU.2023252T163206.v2.0.SZA.tif', 'https://data.lpdaac.earthdatacloud.nasa.gov/lp-prod-protected/HLSL30.020/HLS.L30.T16RBU.2023252T163206.v2.0/HLS.L30.T16RBU.2023252T163206.v2.0.B05.tif', 'https://data.lpdaac.earthdatacloud.nasa.gov/lp-prod-protected/HLSL30.020/HLS.L30.T16RBU.2023252T163206.v2.0/HLS.L30.T16RBU.2023252T163206.v2.0.B11.tif', 'https://data.lpdaac.earthdatacloud.nasa.gov/lp-prod-protected/HLSL30.020/HLS.L30.T16RBU.2023252T163206.v2.0/HLS.L30.T16RBU.2023252T163206.v2.0.B09.tif', 'https://data.lpdaac.earthdatacloud.nasa.gov/lp-prod-protected/HLSL30.020/HLS.L30.T16RBU.2023252T163206.v2.0/HLS.L30.T16RBU.2023252T163206.v2.0.B10.tif', 'https://data.lpdaac.earthdatacloud.nasa.gov/lp-prod-protected/HLSL30.020/HLS.L30.T16RBU.2023252T163206.v2.0/HLS.L30.T16RBU.2023252T163206.v2.0.VAA.tif', 'https://data.lpdaac.earthdatacloud.nasa.gov/lp-prod-protected/HLSL30.020/HLS.L30.T16RBU.2023252T163206.v2.0/HLS.L30.T16RBU.2023252T163206.v2.0.VZA.tif', 'https://data.lpdaac.earthdatacloud.nasa.gov/lp-prod-protected/HLSL30.020/HLS.L30.T16RBU.2023252T163206.v2.0/HLS.L30.T16RBU.2023252T163206.v2.0.B01.tif'],\n",
              " Collection: {'EntryTitle': 'HLS Landsat Operational Land Imager Surface Reflectance and TOA Brightness Daily Global 30m v2.0'}\n",
              " Spatial coverage: {'HorizontalSpatialDomain': {'Geometry': {'GPolygons': [{'Boundary': {'Points': [{'Longitude': -89.79864173, 'Latitude': 29.70347853}, {'Longitude': -89.76643746, 'Latitude': 30.69278312}, {'Longitude': -90.91181412, 'Latitude': 30.71627038}, {'Longitude': -90.93263654, 'Latitude': 29.72605548}, {'Longitude': -89.79864173, 'Latitude': 29.70347853}]}}]}}}\n",
              " Temporal coverage: {'RangeDateTime': {'BeginningDateTime': '2023-09-09T16:32:06.260Z', 'EndingDateTime': '2023-09-09T16:32:06.260Z'}}\n",
              " Size(MB): 167.48340797424316\n",
              " Data: ['https://data.lpdaac.earthdatacloud.nasa.gov/lp-prod-protected/HLSL30.020/HLS.L30.T15RYP.2023252T163206.v2.0/HLS.L30.T15RYP.2023252T163206.v2.0.B03.tif', 'https://data.lpdaac.earthdatacloud.nasa.gov/lp-prod-protected/HLSL30.020/HLS.L30.T15RYP.2023252T163206.v2.0/HLS.L30.T15RYP.2023252T163206.v2.0.B01.tif', 'https://data.lpdaac.earthdatacloud.nasa.gov/lp-prod-protected/HLSL30.020/HLS.L30.T15RYP.2023252T163206.v2.0/HLS.L30.T15RYP.2023252T163206.v2.0.Fmask.tif', 'https://data.lpdaac.earthdatacloud.nasa.gov/lp-prod-protected/HLSL30.020/HLS.L30.T15RYP.2023252T163206.v2.0/HLS.L30.T15RYP.2023252T163206.v2.0.B10.tif', 'https://data.lpdaac.earthdatacloud.nasa.gov/lp-prod-protected/HLSL30.020/HLS.L30.T15RYP.2023252T163206.v2.0/HLS.L30.T15RYP.2023252T163206.v2.0.B02.tif', 'https://data.lpdaac.earthdatacloud.nasa.gov/lp-prod-protected/HLSL30.020/HLS.L30.T15RYP.2023252T163206.v2.0/HLS.L30.T15RYP.2023252T163206.v2.0.B09.tif', 'https://data.lpdaac.earthdatacloud.nasa.gov/lp-prod-protected/HLSL30.020/HLS.L30.T15RYP.2023252T163206.v2.0/HLS.L30.T15RYP.2023252T163206.v2.0.SZA.tif', 'https://data.lpdaac.earthdatacloud.nasa.gov/lp-prod-protected/HLSL30.020/HLS.L30.T15RYP.2023252T163206.v2.0/HLS.L30.T15RYP.2023252T163206.v2.0.VAA.tif', 'https://data.lpdaac.earthdatacloud.nasa.gov/lp-prod-protected/HLSL30.020/HLS.L30.T15RYP.2023252T163206.v2.0/HLS.L30.T15RYP.2023252T163206.v2.0.VZA.tif', 'https://data.lpdaac.earthdatacloud.nasa.gov/lp-prod-protected/HLSL30.020/HLS.L30.T15RYP.2023252T163206.v2.0/HLS.L30.T15RYP.2023252T163206.v2.0.B06.tif', 'https://data.lpdaac.earthdatacloud.nasa.gov/lp-prod-protected/HLSL30.020/HLS.L30.T15RYP.2023252T163206.v2.0/HLS.L30.T15RYP.2023252T163206.v2.0.B05.tif', 'https://data.lpdaac.earthdatacloud.nasa.gov/lp-prod-protected/HLSL30.020/HLS.L30.T15RYP.2023252T163206.v2.0/HLS.L30.T15RYP.2023252T163206.v2.0.B11.tif', 'https://data.lpdaac.earthdatacloud.nasa.gov/lp-prod-protected/HLSL30.020/HLS.L30.T15RYP.2023252T163206.v2.0/HLS.L30.T15RYP.2023252T163206.v2.0.B07.tif', 'https://data.lpdaac.earthdatacloud.nasa.gov/lp-prod-protected/HLSL30.020/HLS.L30.T15RYP.2023252T163206.v2.0/HLS.L30.T15RYP.2023252T163206.v2.0.SAA.tif', 'https://data.lpdaac.earthdatacloud.nasa.gov/lp-prod-protected/HLSL30.020/HLS.L30.T15RYP.2023252T163206.v2.0/HLS.L30.T15RYP.2023252T163206.v2.0.B04.tif'],\n",
              " Collection: {'EntryTitle': 'HLS Landsat Operational Land Imager Surface Reflectance and TOA Brightness Daily Global 30m v2.0'}\n",
              " Spatial coverage: {'HorizontalSpatialDomain': {'Geometry': {'GPolygons': [{'Boundary': {'Points': [{'Longitude': -89.82661214, 'Latitude': 28.80213717}, {'Longitude': -89.79583778, 'Latitude': 29.79160422}, {'Longitude': -90.93082361, 'Latitude': 29.81426153}, {'Longitude': -90.95072084, 'Latitude': 28.82389994}, {'Longitude': -89.82661214, 'Latitude': 28.80213717}]}}]}}}\n",
              " Temporal coverage: {'RangeDateTime': {'BeginningDateTime': '2023-09-09T16:32:06.260Z', 'EndingDateTime': '2023-09-09T16:32:30.152Z'}}\n",
              " Size(MB): 149.58776378631592\n",
              " Data: ['https://data.lpdaac.earthdatacloud.nasa.gov/lp-prod-protected/HLSL30.020/HLS.L30.T15RYN.2023252T163206.v2.0/HLS.L30.T15RYN.2023252T163206.v2.0.B10.tif', 'https://data.lpdaac.earthdatacloud.nasa.gov/lp-prod-protected/HLSL30.020/HLS.L30.T15RYN.2023252T163206.v2.0/HLS.L30.T15RYN.2023252T163206.v2.0.VZA.tif', 'https://data.lpdaac.earthdatacloud.nasa.gov/lp-prod-protected/HLSL30.020/HLS.L30.T15RYN.2023252T163206.v2.0/HLS.L30.T15RYN.2023252T163206.v2.0.SZA.tif', 'https://data.lpdaac.earthdatacloud.nasa.gov/lp-prod-protected/HLSL30.020/HLS.L30.T15RYN.2023252T163206.v2.0/HLS.L30.T15RYN.2023252T163206.v2.0.SAA.tif', 'https://data.lpdaac.earthdatacloud.nasa.gov/lp-prod-protected/HLSL30.020/HLS.L30.T15RYN.2023252T163206.v2.0/HLS.L30.T15RYN.2023252T163206.v2.0.B05.tif', 'https://data.lpdaac.earthdatacloud.nasa.gov/lp-prod-protected/HLSL30.020/HLS.L30.T15RYN.2023252T163206.v2.0/HLS.L30.T15RYN.2023252T163206.v2.0.VAA.tif', 'https://data.lpdaac.earthdatacloud.nasa.gov/lp-prod-protected/HLSL30.020/HLS.L30.T15RYN.2023252T163206.v2.0/HLS.L30.T15RYN.2023252T163206.v2.0.B02.tif', 'https://data.lpdaac.earthdatacloud.nasa.gov/lp-prod-protected/HLSL30.020/HLS.L30.T15RYN.2023252T163206.v2.0/HLS.L30.T15RYN.2023252T163206.v2.0.B04.tif', 'https://data.lpdaac.earthdatacloud.nasa.gov/lp-prod-protected/HLSL30.020/HLS.L30.T15RYN.2023252T163206.v2.0/HLS.L30.T15RYN.2023252T163206.v2.0.B07.tif', 'https://data.lpdaac.earthdatacloud.nasa.gov/lp-prod-protected/HLSL30.020/HLS.L30.T15RYN.2023252T163206.v2.0/HLS.L30.T15RYN.2023252T163206.v2.0.B06.tif', 'https://data.lpdaac.earthdatacloud.nasa.gov/lp-prod-protected/HLSL30.020/HLS.L30.T15RYN.2023252T163206.v2.0/HLS.L30.T15RYN.2023252T163206.v2.0.B01.tif', 'https://data.lpdaac.earthdatacloud.nasa.gov/lp-prod-protected/HLSL30.020/HLS.L30.T15RYN.2023252T163206.v2.0/HLS.L30.T15RYN.2023252T163206.v2.0.B11.tif', 'https://data.lpdaac.earthdatacloud.nasa.gov/lp-prod-protected/HLSL30.020/HLS.L30.T15RYN.2023252T163206.v2.0/HLS.L30.T15RYN.2023252T163206.v2.0.Fmask.tif', 'https://data.lpdaac.earthdatacloud.nasa.gov/lp-prod-protected/HLSL30.020/HLS.L30.T15RYN.2023252T163206.v2.0/HLS.L30.T15RYN.2023252T163206.v2.0.B03.tif', 'https://data.lpdaac.earthdatacloud.nasa.gov/lp-prod-protected/HLSL30.020/HLS.L30.T15RYN.2023252T163206.v2.0/HLS.L30.T15RYN.2023252T163206.v2.0.B09.tif'],\n",
              " Collection: {'EntryTitle': 'HLS Landsat Operational Land Imager Surface Reflectance and TOA Brightness Daily Global 30m v2.0'}\n",
              " Spatial coverage: {'HorizontalSpatialDomain': {'Geometry': {'GPolygons': [{'Boundary': {'Points': [{'Longitude': -90.07372506, 'Latitude': 28.80444525}, {'Longitude': -89.52835314, 'Latitude': 28.81577088}, {'Longitude': -89.26070131, 'Latitude': 29.81112244}, {'Longitude': -90.10353675, 'Latitude': 29.79400715}, {'Longitude': -90.07372506, 'Latitude': 28.80444525}]}}]}}}\n",
              " Temporal coverage: {'RangeDateTime': {'BeginningDateTime': '2023-09-09T16:32:06.260Z', 'EndingDateTime': '2023-09-09T16:32:30.152Z'}}\n",
              " Size(MB): 91.62966060638428\n",
              " Data: ['https://data.lpdaac.earthdatacloud.nasa.gov/lp-prod-protected/HLSL30.020/HLS.L30.T16RBT.2023252T163206.v2.0/HLS.L30.T16RBT.2023252T163206.v2.0.B09.tif', 'https://data.lpdaac.earthdatacloud.nasa.gov/lp-prod-protected/HLSL30.020/HLS.L30.T16RBT.2023252T163206.v2.0/HLS.L30.T16RBT.2023252T163206.v2.0.B03.tif', 'https://data.lpdaac.earthdatacloud.nasa.gov/lp-prod-protected/HLSL30.020/HLS.L30.T16RBT.2023252T163206.v2.0/HLS.L30.T16RBT.2023252T163206.v2.0.B06.tif', 'https://data.lpdaac.earthdatacloud.nasa.gov/lp-prod-protected/HLSL30.020/HLS.L30.T16RBT.2023252T163206.v2.0/HLS.L30.T16RBT.2023252T163206.v2.0.VZA.tif', 'https://data.lpdaac.earthdatacloud.nasa.gov/lp-prod-protected/HLSL30.020/HLS.L30.T16RBT.2023252T163206.v2.0/HLS.L30.T16RBT.2023252T163206.v2.0.SZA.tif', 'https://data.lpdaac.earthdatacloud.nasa.gov/lp-prod-protected/HLSL30.020/HLS.L30.T16RBT.2023252T163206.v2.0/HLS.L30.T16RBT.2023252T163206.v2.0.B10.tif', 'https://data.lpdaac.earthdatacloud.nasa.gov/lp-prod-protected/HLSL30.020/HLS.L30.T16RBT.2023252T163206.v2.0/HLS.L30.T16RBT.2023252T163206.v2.0.B02.tif', 'https://data.lpdaac.earthdatacloud.nasa.gov/lp-prod-protected/HLSL30.020/HLS.L30.T16RBT.2023252T163206.v2.0/HLS.L30.T16RBT.2023252T163206.v2.0.B07.tif', 'https://data.lpdaac.earthdatacloud.nasa.gov/lp-prod-protected/HLSL30.020/HLS.L30.T16RBT.2023252T163206.v2.0/HLS.L30.T16RBT.2023252T163206.v2.0.SAA.tif', 'https://data.lpdaac.earthdatacloud.nasa.gov/lp-prod-protected/HLSL30.020/HLS.L30.T16RBT.2023252T163206.v2.0/HLS.L30.T16RBT.2023252T163206.v2.0.Fmask.tif', 'https://data.lpdaac.earthdatacloud.nasa.gov/lp-prod-protected/HLSL30.020/HLS.L30.T16RBT.2023252T163206.v2.0/HLS.L30.T16RBT.2023252T163206.v2.0.B01.tif', 'https://data.lpdaac.earthdatacloud.nasa.gov/lp-prod-protected/HLSL30.020/HLS.L30.T16RBT.2023252T163206.v2.0/HLS.L30.T16RBT.2023252T163206.v2.0.B11.tif', 'https://data.lpdaac.earthdatacloud.nasa.gov/lp-prod-protected/HLSL30.020/HLS.L30.T16RBT.2023252T163206.v2.0/HLS.L30.T16RBT.2023252T163206.v2.0.VAA.tif', 'https://data.lpdaac.earthdatacloud.nasa.gov/lp-prod-protected/HLSL30.020/HLS.L30.T16RBT.2023252T163206.v2.0/HLS.L30.T16RBT.2023252T163206.v2.0.B05.tif', 'https://data.lpdaac.earthdatacloud.nasa.gov/lp-prod-protected/HLSL30.020/HLS.L30.T16RBT.2023252T163206.v2.0/HLS.L30.T16RBT.2023252T163206.v2.0.B04.tif'],\n",
              " Collection: {'EntryTitle': 'HLS Landsat Operational Land Imager Surface Reflectance and TOA Brightness Daily Global 30m v2.0'}\n",
              " Spatial coverage: {'HorizontalSpatialDomain': {'Geometry': {'GPolygons': [{'Boundary': {'Points': [{'Longitude': -90.10082051, 'Latitude': 29.70587294}, {'Longitude': -89.30490864, 'Latitude': 29.7224017}, {'Longitude': -89.03380705, 'Latitude': 30.71713401}, {'Longitude': -90.13201749, 'Latitude': 30.69527405}, {'Longitude': -90.10082051, 'Latitude': 29.70587294}]}}]}}}\n",
              " Temporal coverage: {'RangeDateTime': {'BeginningDateTime': '2023-09-17T16:32:11.040Z', 'EndingDateTime': '2023-09-17T16:32:11.040Z'}}\n",
              " Size(MB): 144.68057537078857\n",
              " Data: ['https://data.lpdaac.earthdatacloud.nasa.gov/lp-prod-protected/HLSL30.020/HLS.L30.T16RBU.2023260T163211.v2.0/HLS.L30.T16RBU.2023260T163211.v2.0.B09.tif', 'https://data.lpdaac.earthdatacloud.nasa.gov/lp-prod-protected/HLSL30.020/HLS.L30.T16RBU.2023260T163211.v2.0/HLS.L30.T16RBU.2023260T163211.v2.0.SZA.tif', 'https://data.lpdaac.earthdatacloud.nasa.gov/lp-prod-protected/HLSL30.020/HLS.L30.T16RBU.2023260T163211.v2.0/HLS.L30.T16RBU.2023260T163211.v2.0.B03.tif', 'https://data.lpdaac.earthdatacloud.nasa.gov/lp-prod-protected/HLSL30.020/HLS.L30.T16RBU.2023260T163211.v2.0/HLS.L30.T16RBU.2023260T163211.v2.0.B02.tif', 'https://data.lpdaac.earthdatacloud.nasa.gov/lp-prod-protected/HLSL30.020/HLS.L30.T16RBU.2023260T163211.v2.0/HLS.L30.T16RBU.2023260T163211.v2.0.B11.tif', 'https://data.lpdaac.earthdatacloud.nasa.gov/lp-prod-protected/HLSL30.020/HLS.L30.T16RBU.2023260T163211.v2.0/HLS.L30.T16RBU.2023260T163211.v2.0.VAA.tif', 'https://data.lpdaac.earthdatacloud.nasa.gov/lp-prod-protected/HLSL30.020/HLS.L30.T16RBU.2023260T163211.v2.0/HLS.L30.T16RBU.2023260T163211.v2.0.Fmask.tif', 'https://data.lpdaac.earthdatacloud.nasa.gov/lp-prod-protected/HLSL30.020/HLS.L30.T16RBU.2023260T163211.v2.0/HLS.L30.T16RBU.2023260T163211.v2.0.SAA.tif', 'https://data.lpdaac.earthdatacloud.nasa.gov/lp-prod-protected/HLSL30.020/HLS.L30.T16RBU.2023260T163211.v2.0/HLS.L30.T16RBU.2023260T163211.v2.0.B06.tif', 'https://data.lpdaac.earthdatacloud.nasa.gov/lp-prod-protected/HLSL30.020/HLS.L30.T16RBU.2023260T163211.v2.0/HLS.L30.T16RBU.2023260T163211.v2.0.B05.tif', 'https://data.lpdaac.earthdatacloud.nasa.gov/lp-prod-protected/HLSL30.020/HLS.L30.T16RBU.2023260T163211.v2.0/HLS.L30.T16RBU.2023260T163211.v2.0.B10.tif', 'https://data.lpdaac.earthdatacloud.nasa.gov/lp-prod-protected/HLSL30.020/HLS.L30.T16RBU.2023260T163211.v2.0/HLS.L30.T16RBU.2023260T163211.v2.0.B07.tif', 'https://data.lpdaac.earthdatacloud.nasa.gov/lp-prod-protected/HLSL30.020/HLS.L30.T16RBU.2023260T163211.v2.0/HLS.L30.T16RBU.2023260T163211.v2.0.VZA.tif', 'https://data.lpdaac.earthdatacloud.nasa.gov/lp-prod-protected/HLSL30.020/HLS.L30.T16RBU.2023260T163211.v2.0/HLS.L30.T16RBU.2023260T163211.v2.0.B04.tif', 'https://data.lpdaac.earthdatacloud.nasa.gov/lp-prod-protected/HLSL30.020/HLS.L30.T16RBU.2023260T163211.v2.0/HLS.L30.T16RBU.2023260T163211.v2.0.B01.tif'],\n",
              " Collection: {'EntryTitle': 'HLS Landsat Operational Land Imager Surface Reflectance and TOA Brightness Daily Global 30m v2.0'}\n",
              " Spatial coverage: {'HorizontalSpatialDomain': {'Geometry': {'GPolygons': [{'Boundary': {'Points': [{'Longitude': -89.79864173, 'Latitude': 29.70347853}, {'Longitude': -89.76643746, 'Latitude': 30.69278312}, {'Longitude': -90.91181412, 'Latitude': 30.71627038}, {'Longitude': -90.93263654, 'Latitude': 29.72605548}, {'Longitude': -89.79864173, 'Latitude': 29.70347853}]}}]}}}\n",
              " Temporal coverage: {'RangeDateTime': {'BeginningDateTime': '2023-09-17T16:32:11.040Z', 'EndingDateTime': '2023-09-17T16:32:11.040Z'}}\n",
              " Size(MB): 177.45374488830566\n",
              " Data: ['https://data.lpdaac.earthdatacloud.nasa.gov/lp-prod-protected/HLSL30.020/HLS.L30.T15RYP.2023260T163211.v2.0/HLS.L30.T15RYP.2023260T163211.v2.0.B02.tif', 'https://data.lpdaac.earthdatacloud.nasa.gov/lp-prod-protected/HLSL30.020/HLS.L30.T15RYP.2023260T163211.v2.0/HLS.L30.T15RYP.2023260T163211.v2.0.VZA.tif', 'https://data.lpdaac.earthdatacloud.nasa.gov/lp-prod-protected/HLSL30.020/HLS.L30.T15RYP.2023260T163211.v2.0/HLS.L30.T15RYP.2023260T163211.v2.0.Fmask.tif', 'https://data.lpdaac.earthdatacloud.nasa.gov/lp-prod-protected/HLSL30.020/HLS.L30.T15RYP.2023260T163211.v2.0/HLS.L30.T15RYP.2023260T163211.v2.0.B10.tif', 'https://data.lpdaac.earthdatacloud.nasa.gov/lp-prod-protected/HLSL30.020/HLS.L30.T15RYP.2023260T163211.v2.0/HLS.L30.T15RYP.2023260T163211.v2.0.SAA.tif', 'https://data.lpdaac.earthdatacloud.nasa.gov/lp-prod-protected/HLSL30.020/HLS.L30.T15RYP.2023260T163211.v2.0/HLS.L30.T15RYP.2023260T163211.v2.0.SZA.tif', 'https://data.lpdaac.earthdatacloud.nasa.gov/lp-prod-protected/HLSL30.020/HLS.L30.T15RYP.2023260T163211.v2.0/HLS.L30.T15RYP.2023260T163211.v2.0.B05.tif', 'https://data.lpdaac.earthdatacloud.nasa.gov/lp-prod-protected/HLSL30.020/HLS.L30.T15RYP.2023260T163211.v2.0/HLS.L30.T15RYP.2023260T163211.v2.0.B01.tif', 'https://data.lpdaac.earthdatacloud.nasa.gov/lp-prod-protected/HLSL30.020/HLS.L30.T15RYP.2023260T163211.v2.0/HLS.L30.T15RYP.2023260T163211.v2.0.B07.tif', 'https://data.lpdaac.earthdatacloud.nasa.gov/lp-prod-protected/HLSL30.020/HLS.L30.T15RYP.2023260T163211.v2.0/HLS.L30.T15RYP.2023260T163211.v2.0.B04.tif', 'https://data.lpdaac.earthdatacloud.nasa.gov/lp-prod-protected/HLSL30.020/HLS.L30.T15RYP.2023260T163211.v2.0/HLS.L30.T15RYP.2023260T163211.v2.0.B03.tif', 'https://data.lpdaac.earthdatacloud.nasa.gov/lp-prod-protected/HLSL30.020/HLS.L30.T15RYP.2023260T163211.v2.0/HLS.L30.T15RYP.2023260T163211.v2.0.VAA.tif', 'https://data.lpdaac.earthdatacloud.nasa.gov/lp-prod-protected/HLSL30.020/HLS.L30.T15RYP.2023260T163211.v2.0/HLS.L30.T15RYP.2023260T163211.v2.0.B09.tif', 'https://data.lpdaac.earthdatacloud.nasa.gov/lp-prod-protected/HLSL30.020/HLS.L30.T15RYP.2023260T163211.v2.0/HLS.L30.T15RYP.2023260T163211.v2.0.B11.tif', 'https://data.lpdaac.earthdatacloud.nasa.gov/lp-prod-protected/HLSL30.020/HLS.L30.T15RYP.2023260T163211.v2.0/HLS.L30.T15RYP.2023260T163211.v2.0.B06.tif'],\n",
              " Collection: {'EntryTitle': 'HLS Landsat Operational Land Imager Surface Reflectance and TOA Brightness Daily Global 30m v2.0'}\n",
              " Spatial coverage: {'HorizontalSpatialDomain': {'Geometry': {'GPolygons': [{'Boundary': {'Points': [{'Longitude': -90.07372506, 'Latitude': 28.80444525}, {'Longitude': -89.54893295, 'Latitude': 28.81538355}, {'Longitude': -89.28117569, 'Latitude': 29.81077043}, {'Longitude': -90.10353675, 'Latitude': 29.79400715}, {'Longitude': -90.07372506, 'Latitude': 28.80444525}]}}]}}}\n",
              " Temporal coverage: {'RangeDateTime': {'BeginningDateTime': '2023-09-17T16:32:11.040Z', 'EndingDateTime': '2023-09-17T16:32:34.931Z'}}\n",
              " Size(MB): 108.96715545654297\n",
              " Data: ['https://data.lpdaac.earthdatacloud.nasa.gov/lp-prod-protected/HLSL30.020/HLS.L30.T16RBT.2023260T163211.v2.0/HLS.L30.T16RBT.2023260T163211.v2.0.SZA.tif', 'https://data.lpdaac.earthdatacloud.nasa.gov/lp-prod-protected/HLSL30.020/HLS.L30.T16RBT.2023260T163211.v2.0/HLS.L30.T16RBT.2023260T163211.v2.0.Fmask.tif', 'https://data.lpdaac.earthdatacloud.nasa.gov/lp-prod-protected/HLSL30.020/HLS.L30.T16RBT.2023260T163211.v2.0/HLS.L30.T16RBT.2023260T163211.v2.0.B09.tif', 'https://data.lpdaac.earthdatacloud.nasa.gov/lp-prod-protected/HLSL30.020/HLS.L30.T16RBT.2023260T163211.v2.0/HLS.L30.T16RBT.2023260T163211.v2.0.SAA.tif', 'https://data.lpdaac.earthdatacloud.nasa.gov/lp-prod-protected/HLSL30.020/HLS.L30.T16RBT.2023260T163211.v2.0/HLS.L30.T16RBT.2023260T163211.v2.0.VZA.tif', 'https://data.lpdaac.earthdatacloud.nasa.gov/lp-prod-protected/HLSL30.020/HLS.L30.T16RBT.2023260T163211.v2.0/HLS.L30.T16RBT.2023260T163211.v2.0.VAA.tif', 'https://data.lpdaac.earthdatacloud.nasa.gov/lp-prod-protected/HLSL30.020/HLS.L30.T16RBT.2023260T163211.v2.0/HLS.L30.T16RBT.2023260T163211.v2.0.B01.tif', 'https://data.lpdaac.earthdatacloud.nasa.gov/lp-prod-protected/HLSL30.020/HLS.L30.T16RBT.2023260T163211.v2.0/HLS.L30.T16RBT.2023260T163211.v2.0.B03.tif', 'https://data.lpdaac.earthdatacloud.nasa.gov/lp-prod-protected/HLSL30.020/HLS.L30.T16RBT.2023260T163211.v2.0/HLS.L30.T16RBT.2023260T163211.v2.0.B02.tif', 'https://data.lpdaac.earthdatacloud.nasa.gov/lp-prod-protected/HLSL30.020/HLS.L30.T16RBT.2023260T163211.v2.0/HLS.L30.T16RBT.2023260T163211.v2.0.B05.tif', 'https://data.lpdaac.earthdatacloud.nasa.gov/lp-prod-protected/HLSL30.020/HLS.L30.T16RBT.2023260T163211.v2.0/HLS.L30.T16RBT.2023260T163211.v2.0.B11.tif', 'https://data.lpdaac.earthdatacloud.nasa.gov/lp-prod-protected/HLSL30.020/HLS.L30.T16RBT.2023260T163211.v2.0/HLS.L30.T16RBT.2023260T163211.v2.0.B07.tif', 'https://data.lpdaac.earthdatacloud.nasa.gov/lp-prod-protected/HLSL30.020/HLS.L30.T16RBT.2023260T163211.v2.0/HLS.L30.T16RBT.2023260T163211.v2.0.B04.tif', 'https://data.lpdaac.earthdatacloud.nasa.gov/lp-prod-protected/HLSL30.020/HLS.L30.T16RBT.2023260T163211.v2.0/HLS.L30.T16RBT.2023260T163211.v2.0.B06.tif', 'https://data.lpdaac.earthdatacloud.nasa.gov/lp-prod-protected/HLSL30.020/HLS.L30.T16RBT.2023260T163211.v2.0/HLS.L30.T16RBT.2023260T163211.v2.0.B10.tif'],\n",
              " Collection: {'EntryTitle': 'HLS Landsat Operational Land Imager Surface Reflectance and TOA Brightness Daily Global 30m v2.0'}\n",
              " Spatial coverage: {'HorizontalSpatialDomain': {'Geometry': {'GPolygons': [{'Boundary': {'Points': [{'Longitude': -89.82661214, 'Latitude': 28.80213717}, {'Longitude': -89.79583778, 'Latitude': 29.79160422}, {'Longitude': -90.93082361, 'Latitude': 29.81426153}, {'Longitude': -90.95072084, 'Latitude': 28.82389994}, {'Longitude': -89.82661214, 'Latitude': 28.80213717}]}}]}}}\n",
              " Temporal coverage: {'RangeDateTime': {'BeginningDateTime': '2023-09-17T16:32:11.040Z', 'EndingDateTime': '2023-09-17T16:32:34.931Z'}}\n",
              " Size(MB): 181.69821071624756\n",
              " Data: ['https://data.lpdaac.earthdatacloud.nasa.gov/lp-prod-protected/HLSL30.020/HLS.L30.T15RYN.2023260T163211.v2.0/HLS.L30.T15RYN.2023260T163211.v2.0.VAA.tif', 'https://data.lpdaac.earthdatacloud.nasa.gov/lp-prod-protected/HLSL30.020/HLS.L30.T15RYN.2023260T163211.v2.0/HLS.L30.T15RYN.2023260T163211.v2.0.SAA.tif', 'https://data.lpdaac.earthdatacloud.nasa.gov/lp-prod-protected/HLSL30.020/HLS.L30.T15RYN.2023260T163211.v2.0/HLS.L30.T15RYN.2023260T163211.v2.0.SZA.tif', 'https://data.lpdaac.earthdatacloud.nasa.gov/lp-prod-protected/HLSL30.020/HLS.L30.T15RYN.2023260T163211.v2.0/HLS.L30.T15RYN.2023260T163211.v2.0.B04.tif', 'https://data.lpdaac.earthdatacloud.nasa.gov/lp-prod-protected/HLSL30.020/HLS.L30.T15RYN.2023260T163211.v2.0/HLS.L30.T15RYN.2023260T163211.v2.0.B05.tif', 'https://data.lpdaac.earthdatacloud.nasa.gov/lp-prod-protected/HLSL30.020/HLS.L30.T15RYN.2023260T163211.v2.0/HLS.L30.T15RYN.2023260T163211.v2.0.B09.tif', 'https://data.lpdaac.earthdatacloud.nasa.gov/lp-prod-protected/HLSL30.020/HLS.L30.T15RYN.2023260T163211.v2.0/HLS.L30.T15RYN.2023260T163211.v2.0.B11.tif', 'https://data.lpdaac.earthdatacloud.nasa.gov/lp-prod-protected/HLSL30.020/HLS.L30.T15RYN.2023260T163211.v2.0/HLS.L30.T15RYN.2023260T163211.v2.0.B03.tif', 'https://data.lpdaac.earthdatacloud.nasa.gov/lp-prod-protected/HLSL30.020/HLS.L30.T15RYN.2023260T163211.v2.0/HLS.L30.T15RYN.2023260T163211.v2.0.B06.tif', 'https://data.lpdaac.earthdatacloud.nasa.gov/lp-prod-protected/HLSL30.020/HLS.L30.T15RYN.2023260T163211.v2.0/HLS.L30.T15RYN.2023260T163211.v2.0.B07.tif', 'https://data.lpdaac.earthdatacloud.nasa.gov/lp-prod-protected/HLSL30.020/HLS.L30.T15RYN.2023260T163211.v2.0/HLS.L30.T15RYN.2023260T163211.v2.0.B10.tif', 'https://data.lpdaac.earthdatacloud.nasa.gov/lp-prod-protected/HLSL30.020/HLS.L30.T15RYN.2023260T163211.v2.0/HLS.L30.T15RYN.2023260T163211.v2.0.B02.tif', 'https://data.lpdaac.earthdatacloud.nasa.gov/lp-prod-protected/HLSL30.020/HLS.L30.T15RYN.2023260T163211.v2.0/HLS.L30.T15RYN.2023260T163211.v2.0.B01.tif', 'https://data.lpdaac.earthdatacloud.nasa.gov/lp-prod-protected/HLSL30.020/HLS.L30.T15RYN.2023260T163211.v2.0/HLS.L30.T15RYN.2023260T163211.v2.0.Fmask.tif', 'https://data.lpdaac.earthdatacloud.nasa.gov/lp-prod-protected/HLSL30.020/HLS.L30.T15RYN.2023260T163211.v2.0/HLS.L30.T15RYN.2023260T163211.v2.0.VZA.tif'],\n",
              " Collection: {'EntryTitle': 'HLS Landsat Operational Land Imager Surface Reflectance and TOA Brightness Daily Global 30m v2.0'}\n",
              " Spatial coverage: {'HorizontalSpatialDomain': {'Geometry': {'GPolygons': [{'Boundary': {'Points': [{'Longitude': -90.07372506, 'Latitude': 28.80444525}, {'Longitude': -89.53756803, 'Latitude': 28.81559784}, {'Longitude': -89.27000789, 'Latitude': 29.81096283}, {'Longitude': -90.10353675, 'Latitude': 29.79400715}, {'Longitude': -90.07372506, 'Latitude': 28.80444525}]}}]}}}\n",
              " Temporal coverage: {'RangeDateTime': {'BeginningDateTime': '2023-09-25T16:32:12.175Z', 'EndingDateTime': '2023-09-25T16:32:36.062Z'}}\n",
              " Size(MB): 107.50523662567139\n",
              " Data: ['https://data.lpdaac.earthdatacloud.nasa.gov/lp-prod-protected/HLSL30.020/HLS.L30.T16RBT.2023268T163212.v2.0/HLS.L30.T16RBT.2023268T163212.v2.0.B04.tif', 'https://data.lpdaac.earthdatacloud.nasa.gov/lp-prod-protected/HLSL30.020/HLS.L30.T16RBT.2023268T163212.v2.0/HLS.L30.T16RBT.2023268T163212.v2.0.VAA.tif', 'https://data.lpdaac.earthdatacloud.nasa.gov/lp-prod-protected/HLSL30.020/HLS.L30.T16RBT.2023268T163212.v2.0/HLS.L30.T16RBT.2023268T163212.v2.0.B06.tif', 'https://data.lpdaac.earthdatacloud.nasa.gov/lp-prod-protected/HLSL30.020/HLS.L30.T16RBT.2023268T163212.v2.0/HLS.L30.T16RBT.2023268T163212.v2.0.B09.tif', 'https://data.lpdaac.earthdatacloud.nasa.gov/lp-prod-protected/HLSL30.020/HLS.L30.T16RBT.2023268T163212.v2.0/HLS.L30.T16RBT.2023268T163212.v2.0.B02.tif', 'https://data.lpdaac.earthdatacloud.nasa.gov/lp-prod-protected/HLSL30.020/HLS.L30.T16RBT.2023268T163212.v2.0/HLS.L30.T16RBT.2023268T163212.v2.0.B11.tif', 'https://data.lpdaac.earthdatacloud.nasa.gov/lp-prod-protected/HLSL30.020/HLS.L30.T16RBT.2023268T163212.v2.0/HLS.L30.T16RBT.2023268T163212.v2.0.Fmask.tif', 'https://data.lpdaac.earthdatacloud.nasa.gov/lp-prod-protected/HLSL30.020/HLS.L30.T16RBT.2023268T163212.v2.0/HLS.L30.T16RBT.2023268T163212.v2.0.B07.tif', 'https://data.lpdaac.earthdatacloud.nasa.gov/lp-prod-protected/HLSL30.020/HLS.L30.T16RBT.2023268T163212.v2.0/HLS.L30.T16RBT.2023268T163212.v2.0.SZA.tif', 'https://data.lpdaac.earthdatacloud.nasa.gov/lp-prod-protected/HLSL30.020/HLS.L30.T16RBT.2023268T163212.v2.0/HLS.L30.T16RBT.2023268T163212.v2.0.B01.tif', 'https://data.lpdaac.earthdatacloud.nasa.gov/lp-prod-protected/HLSL30.020/HLS.L30.T16RBT.2023268T163212.v2.0/HLS.L30.T16RBT.2023268T163212.v2.0.B03.tif', 'https://data.lpdaac.earthdatacloud.nasa.gov/lp-prod-protected/HLSL30.020/HLS.L30.T16RBT.2023268T163212.v2.0/HLS.L30.T16RBT.2023268T163212.v2.0.SAA.tif', 'https://data.lpdaac.earthdatacloud.nasa.gov/lp-prod-protected/HLSL30.020/HLS.L30.T16RBT.2023268T163212.v2.0/HLS.L30.T16RBT.2023268T163212.v2.0.B10.tif', 'https://data.lpdaac.earthdatacloud.nasa.gov/lp-prod-protected/HLSL30.020/HLS.L30.T16RBT.2023268T163212.v2.0/HLS.L30.T16RBT.2023268T163212.v2.0.VZA.tif', 'https://data.lpdaac.earthdatacloud.nasa.gov/lp-prod-protected/HLSL30.020/HLS.L30.T16RBT.2023268T163212.v2.0/HLS.L30.T16RBT.2023268T163212.v2.0.B05.tif'],\n",
              " Collection: {'EntryTitle': 'HLS Landsat Operational Land Imager Surface Reflectance and TOA Brightness Daily Global 30m v2.0'}\n",
              " Spatial coverage: {'HorizontalSpatialDomain': {'Geometry': {'GPolygons': [{'Boundary': {'Points': [{'Longitude': -89.82661214, 'Latitude': 28.80213717}, {'Longitude': -89.79583778, 'Latitude': 29.79160422}, {'Longitude': -90.93082361, 'Latitude': 29.81426153}, {'Longitude': -90.95072084, 'Latitude': 28.82389994}, {'Longitude': -89.82661214, 'Latitude': 28.80213717}]}}]}}}\n",
              " Temporal coverage: {'RangeDateTime': {'BeginningDateTime': '2023-09-25T16:32:12.175Z', 'EndingDateTime': '2023-09-25T16:32:36.062Z'}}\n",
              " Size(MB): 189.36443614959717\n",
              " Data: ['https://data.lpdaac.earthdatacloud.nasa.gov/lp-prod-protected/HLSL30.020/HLS.L30.T15RYN.2023268T163212.v2.0/HLS.L30.T15RYN.2023268T163212.v2.0.VAA.tif', 'https://data.lpdaac.earthdatacloud.nasa.gov/lp-prod-protected/HLSL30.020/HLS.L30.T15RYN.2023268T163212.v2.0/HLS.L30.T15RYN.2023268T163212.v2.0.Fmask.tif', 'https://data.lpdaac.earthdatacloud.nasa.gov/lp-prod-protected/HLSL30.020/HLS.L30.T15RYN.2023268T163212.v2.0/HLS.L30.T15RYN.2023268T163212.v2.0.SAA.tif', 'https://data.lpdaac.earthdatacloud.nasa.gov/lp-prod-protected/HLSL30.020/HLS.L30.T15RYN.2023268T163212.v2.0/HLS.L30.T15RYN.2023268T163212.v2.0.SZA.tif', 'https://data.lpdaac.earthdatacloud.nasa.gov/lp-prod-protected/HLSL30.020/HLS.L30.T15RYN.2023268T163212.v2.0/HLS.L30.T15RYN.2023268T163212.v2.0.B04.tif', 'https://data.lpdaac.earthdatacloud.nasa.gov/lp-prod-protected/HLSL30.020/HLS.L30.T15RYN.2023268T163212.v2.0/HLS.L30.T15RYN.2023268T163212.v2.0.B06.tif', 'https://data.lpdaac.earthdatacloud.nasa.gov/lp-prod-protected/HLSL30.020/HLS.L30.T15RYN.2023268T163212.v2.0/HLS.L30.T15RYN.2023268T163212.v2.0.B03.tif', 'https://data.lpdaac.earthdatacloud.nasa.gov/lp-prod-protected/HLSL30.020/HLS.L30.T15RYN.2023268T163212.v2.0/HLS.L30.T15RYN.2023268T163212.v2.0.B11.tif', 'https://data.lpdaac.earthdatacloud.nasa.gov/lp-prod-protected/HLSL30.020/HLS.L30.T15RYN.2023268T163212.v2.0/HLS.L30.T15RYN.2023268T163212.v2.0.B07.tif', 'https://data.lpdaac.earthdatacloud.nasa.gov/lp-prod-protected/HLSL30.020/HLS.L30.T15RYN.2023268T163212.v2.0/HLS.L30.T15RYN.2023268T163212.v2.0.B02.tif', 'https://data.lpdaac.earthdatacloud.nasa.gov/lp-prod-protected/HLSL30.020/HLS.L30.T15RYN.2023268T163212.v2.0/HLS.L30.T15RYN.2023268T163212.v2.0.B01.tif', 'https://data.lpdaac.earthdatacloud.nasa.gov/lp-prod-protected/HLSL30.020/HLS.L30.T15RYN.2023268T163212.v2.0/HLS.L30.T15RYN.2023268T163212.v2.0.VZA.tif', 'https://data.lpdaac.earthdatacloud.nasa.gov/lp-prod-protected/HLSL30.020/HLS.L30.T15RYN.2023268T163212.v2.0/HLS.L30.T15RYN.2023268T163212.v2.0.B10.tif', 'https://data.lpdaac.earthdatacloud.nasa.gov/lp-prod-protected/HLSL30.020/HLS.L30.T15RYN.2023268T163212.v2.0/HLS.L30.T15RYN.2023268T163212.v2.0.B09.tif', 'https://data.lpdaac.earthdatacloud.nasa.gov/lp-prod-protected/HLSL30.020/HLS.L30.T15RYN.2023268T163212.v2.0/HLS.L30.T15RYN.2023268T163212.v2.0.B05.tif'],\n",
              " Collection: {'EntryTitle': 'HLS Landsat Operational Land Imager Surface Reflectance and TOA Brightness Daily Global 30m v2.0'}\n",
              " Spatial coverage: {'HorizontalSpatialDomain': {'Geometry': {'GPolygons': [{'Boundary': {'Points': [{'Longitude': -90.10082051, 'Latitude': 29.70587294}, {'Longitude': -89.29374467, 'Latitude': 29.72232505}, {'Longitude': -89.0228475, 'Latitude': 30.7173053}, {'Longitude': -90.13201749, 'Latitude': 30.69527405}, {'Longitude': -90.10082051, 'Latitude': 29.70587294}]}}]}}}\n",
              " Temporal coverage: {'RangeDateTime': {'BeginningDateTime': '2023-09-25T16:32:12.175Z', 'EndingDateTime': '2023-09-25T16:32:12.175Z'}}\n",
              " Size(MB): 166.13354778289795\n",
              " Data: ['https://data.lpdaac.earthdatacloud.nasa.gov/lp-prod-protected/HLSL30.020/HLS.L30.T16RBU.2023268T163212.v2.0/HLS.L30.T16RBU.2023268T163212.v2.0.B06.tif', 'https://data.lpdaac.earthdatacloud.nasa.gov/lp-prod-protected/HLSL30.020/HLS.L30.T16RBU.2023268T163212.v2.0/HLS.L30.T16RBU.2023268T163212.v2.0.VAA.tif', 'https://data.lpdaac.earthdatacloud.nasa.gov/lp-prod-protected/HLSL30.020/HLS.L30.T16RBU.2023268T163212.v2.0/HLS.L30.T16RBU.2023268T163212.v2.0.B07.tif', 'https://data.lpdaac.earthdatacloud.nasa.gov/lp-prod-protected/HLSL30.020/HLS.L30.T16RBU.2023268T163212.v2.0/HLS.L30.T16RBU.2023268T163212.v2.0.B04.tif', 'https://data.lpdaac.earthdatacloud.nasa.gov/lp-prod-protected/HLSL30.020/HLS.L30.T16RBU.2023268T163212.v2.0/HLS.L30.T16RBU.2023268T163212.v2.0.B05.tif', 'https://data.lpdaac.earthdatacloud.nasa.gov/lp-prod-protected/HLSL30.020/HLS.L30.T16RBU.2023268T163212.v2.0/HLS.L30.T16RBU.2023268T163212.v2.0.B09.tif', 'https://data.lpdaac.earthdatacloud.nasa.gov/lp-prod-protected/HLSL30.020/HLS.L30.T16RBU.2023268T163212.v2.0/HLS.L30.T16RBU.2023268T163212.v2.0.Fmask.tif', 'https://data.lpdaac.earthdatacloud.nasa.gov/lp-prod-protected/HLSL30.020/HLS.L30.T16RBU.2023268T163212.v2.0/HLS.L30.T16RBU.2023268T163212.v2.0.B02.tif', 'https://data.lpdaac.earthdatacloud.nasa.gov/lp-prod-protected/HLSL30.020/HLS.L30.T16RBU.2023268T163212.v2.0/HLS.L30.T16RBU.2023268T163212.v2.0.VZA.tif', 'https://data.lpdaac.earthdatacloud.nasa.gov/lp-prod-protected/HLSL30.020/HLS.L30.T16RBU.2023268T163212.v2.0/HLS.L30.T16RBU.2023268T163212.v2.0.SAA.tif', 'https://data.lpdaac.earthdatacloud.nasa.gov/lp-prod-protected/HLSL30.020/HLS.L30.T16RBU.2023268T163212.v2.0/HLS.L30.T16RBU.2023268T163212.v2.0.SZA.tif', 'https://data.lpdaac.earthdatacloud.nasa.gov/lp-prod-protected/HLSL30.020/HLS.L30.T16RBU.2023268T163212.v2.0/HLS.L30.T16RBU.2023268T163212.v2.0.B01.tif', 'https://data.lpdaac.earthdatacloud.nasa.gov/lp-prod-protected/HLSL30.020/HLS.L30.T16RBU.2023268T163212.v2.0/HLS.L30.T16RBU.2023268T163212.v2.0.B11.tif', 'https://data.lpdaac.earthdatacloud.nasa.gov/lp-prod-protected/HLSL30.020/HLS.L30.T16RBU.2023268T163212.v2.0/HLS.L30.T16RBU.2023268T163212.v2.0.B03.tif', 'https://data.lpdaac.earthdatacloud.nasa.gov/lp-prod-protected/HLSL30.020/HLS.L30.T16RBU.2023268T163212.v2.0/HLS.L30.T16RBU.2023268T163212.v2.0.B10.tif'],\n",
              " Collection: {'EntryTitle': 'HLS Landsat Operational Land Imager Surface Reflectance and TOA Brightness Daily Global 30m v2.0'}\n",
              " Spatial coverage: {'HorizontalSpatialDomain': {'Geometry': {'GPolygons': [{'Boundary': {'Points': [{'Longitude': -89.79864173, 'Latitude': 29.70347853}, {'Longitude': -89.76643746, 'Latitude': 30.69278312}, {'Longitude': -90.91181412, 'Latitude': 30.71627038}, {'Longitude': -90.93263654, 'Latitude': 29.72605548}, {'Longitude': -89.79864173, 'Latitude': 29.70347853}]}}]}}}\n",
              " Temporal coverage: {'RangeDateTime': {'BeginningDateTime': '2023-09-25T16:32:12.175Z', 'EndingDateTime': '2023-09-25T16:32:12.175Z'}}\n",
              " Size(MB): 206.71337699890137\n",
              " Data: ['https://data.lpdaac.earthdatacloud.nasa.gov/lp-prod-protected/HLSL30.020/HLS.L30.T15RYP.2023268T163212.v2.0/HLS.L30.T15RYP.2023268T163212.v2.0.B04.tif', 'https://data.lpdaac.earthdatacloud.nasa.gov/lp-prod-protected/HLSL30.020/HLS.L30.T15RYP.2023268T163212.v2.0/HLS.L30.T15RYP.2023268T163212.v2.0.SAA.tif', 'https://data.lpdaac.earthdatacloud.nasa.gov/lp-prod-protected/HLSL30.020/HLS.L30.T15RYP.2023268T163212.v2.0/HLS.L30.T15RYP.2023268T163212.v2.0.B07.tif', 'https://data.lpdaac.earthdatacloud.nasa.gov/lp-prod-protected/HLSL30.020/HLS.L30.T15RYP.2023268T163212.v2.0/HLS.L30.T15RYP.2023268T163212.v2.0.VZA.tif', 'https://data.lpdaac.earthdatacloud.nasa.gov/lp-prod-protected/HLSL30.020/HLS.L30.T15RYP.2023268T163212.v2.0/HLS.L30.T15RYP.2023268T163212.v2.0.B09.tif', 'https://data.lpdaac.earthdatacloud.nasa.gov/lp-prod-protected/HLSL30.020/HLS.L30.T15RYP.2023268T163212.v2.0/HLS.L30.T15RYP.2023268T163212.v2.0.B01.tif', 'https://data.lpdaac.earthdatacloud.nasa.gov/lp-prod-protected/HLSL30.020/HLS.L30.T15RYP.2023268T163212.v2.0/HLS.L30.T15RYP.2023268T163212.v2.0.B10.tif', 'https://data.lpdaac.earthdatacloud.nasa.gov/lp-prod-protected/HLSL30.020/HLS.L30.T15RYP.2023268T163212.v2.0/HLS.L30.T15RYP.2023268T163212.v2.0.B02.tif', 'https://data.lpdaac.earthdatacloud.nasa.gov/lp-prod-protected/HLSL30.020/HLS.L30.T15RYP.2023268T163212.v2.0/HLS.L30.T15RYP.2023268T163212.v2.0.B11.tif', 'https://data.lpdaac.earthdatacloud.nasa.gov/lp-prod-protected/HLSL30.020/HLS.L30.T15RYP.2023268T163212.v2.0/HLS.L30.T15RYP.2023268T163212.v2.0.B03.tif', 'https://data.lpdaac.earthdatacloud.nasa.gov/lp-prod-protected/HLSL30.020/HLS.L30.T15RYP.2023268T163212.v2.0/HLS.L30.T15RYP.2023268T163212.v2.0.SZA.tif', 'https://data.lpdaac.earthdatacloud.nasa.gov/lp-prod-protected/HLSL30.020/HLS.L30.T15RYP.2023268T163212.v2.0/HLS.L30.T15RYP.2023268T163212.v2.0.B06.tif', 'https://data.lpdaac.earthdatacloud.nasa.gov/lp-prod-protected/HLSL30.020/HLS.L30.T15RYP.2023268T163212.v2.0/HLS.L30.T15RYP.2023268T163212.v2.0.B05.tif', 'https://data.lpdaac.earthdatacloud.nasa.gov/lp-prod-protected/HLSL30.020/HLS.L30.T15RYP.2023268T163212.v2.0/HLS.L30.T15RYP.2023268T163212.v2.0.Fmask.tif', 'https://data.lpdaac.earthdatacloud.nasa.gov/lp-prod-protected/HLSL30.020/HLS.L30.T15RYP.2023268T163212.v2.0/HLS.L30.T15RYP.2023268T163212.v2.0.VAA.tif'],\n",
              " Collection: {'EntryTitle': 'HLS Landsat Operational Land Imager Surface Reflectance and TOA Brightness Daily Global 30m v2.0'}\n",
              " Spatial coverage: {'HorizontalSpatialDomain': {'Geometry': {'GPolygons': [{'Boundary': {'Points': [{'Longitude': -90.10082051, 'Latitude': 29.70587294}, {'Longitude': -89.28909556, 'Latitude': 29.72240556}, {'Longitude': -89.01783738, 'Latitude': 30.7173833}, {'Longitude': -90.13201749, 'Latitude': 30.69527405}, {'Longitude': -90.10082051, 'Latitude': 29.70587294}]}}]}}}\n",
              " Temporal coverage: {'RangeDateTime': {'BeginningDateTime': '2023-10-03T16:32:11.664Z', 'EndingDateTime': '2023-10-03T16:32:11.664Z'}}\n",
              " Size(MB): 150.51258754730225\n",
              " Data: ['https://data.lpdaac.earthdatacloud.nasa.gov/lp-prod-protected/HLSL30.020/HLS.L30.T16RBU.2023276T163211.v2.0/HLS.L30.T16RBU.2023276T163211.v2.0.Fmask.tif', 'https://data.lpdaac.earthdatacloud.nasa.gov/lp-prod-protected/HLSL30.020/HLS.L30.T16RBU.2023276T163211.v2.0/HLS.L30.T16RBU.2023276T163211.v2.0.B03.tif', 'https://data.lpdaac.earthdatacloud.nasa.gov/lp-prod-protected/HLSL30.020/HLS.L30.T16RBU.2023276T163211.v2.0/HLS.L30.T16RBU.2023276T163211.v2.0.VZA.tif', 'https://data.lpdaac.earthdatacloud.nasa.gov/lp-prod-protected/HLSL30.020/HLS.L30.T16RBU.2023276T163211.v2.0/HLS.L30.T16RBU.2023276T163211.v2.0.SZA.tif', 'https://data.lpdaac.earthdatacloud.nasa.gov/lp-prod-protected/HLSL30.020/HLS.L30.T16RBU.2023276T163211.v2.0/HLS.L30.T16RBU.2023276T163211.v2.0.B02.tif', 'https://data.lpdaac.earthdatacloud.nasa.gov/lp-prod-protected/HLSL30.020/HLS.L30.T16RBU.2023276T163211.v2.0/HLS.L30.T16RBU.2023276T163211.v2.0.B07.tif', 'https://data.lpdaac.earthdatacloud.nasa.gov/lp-prod-protected/HLSL30.020/HLS.L30.T16RBU.2023276T163211.v2.0/HLS.L30.T16RBU.2023276T163211.v2.0.B04.tif', 'https://data.lpdaac.earthdatacloud.nasa.gov/lp-prod-protected/HLSL30.020/HLS.L30.T16RBU.2023276T163211.v2.0/HLS.L30.T16RBU.2023276T163211.v2.0.SAA.tif', 'https://data.lpdaac.earthdatacloud.nasa.gov/lp-prod-protected/HLSL30.020/HLS.L30.T16RBU.2023276T163211.v2.0/HLS.L30.T16RBU.2023276T163211.v2.0.B05.tif', 'https://data.lpdaac.earthdatacloud.nasa.gov/lp-prod-protected/HLSL30.020/HLS.L30.T16RBU.2023276T163211.v2.0/HLS.L30.T16RBU.2023276T163211.v2.0.B09.tif', 'https://data.lpdaac.earthdatacloud.nasa.gov/lp-prod-protected/HLSL30.020/HLS.L30.T16RBU.2023276T163211.v2.0/HLS.L30.T16RBU.2023276T163211.v2.0.VAA.tif', 'https://data.lpdaac.earthdatacloud.nasa.gov/lp-prod-protected/HLSL30.020/HLS.L30.T16RBU.2023276T163211.v2.0/HLS.L30.T16RBU.2023276T163211.v2.0.B01.tif', 'https://data.lpdaac.earthdatacloud.nasa.gov/lp-prod-protected/HLSL30.020/HLS.L30.T16RBU.2023276T163211.v2.0/HLS.L30.T16RBU.2023276T163211.v2.0.B06.tif', 'https://data.lpdaac.earthdatacloud.nasa.gov/lp-prod-protected/HLSL30.020/HLS.L30.T16RBU.2023276T163211.v2.0/HLS.L30.T16RBU.2023276T163211.v2.0.B10.tif', 'https://data.lpdaac.earthdatacloud.nasa.gov/lp-prod-protected/HLSL30.020/HLS.L30.T16RBU.2023276T163211.v2.0/HLS.L30.T16RBU.2023276T163211.v2.0.B11.tif'],\n",
              " Collection: {'EntryTitle': 'HLS Landsat Operational Land Imager Surface Reflectance and TOA Brightness Daily Global 30m v2.0'}\n",
              " Spatial coverage: {'HorizontalSpatialDomain': {'Geometry': {'GPolygons': [{'Boundary': {'Points': [{'Longitude': -89.80266714, 'Latitude': 29.70357587}, {'Longitude': -89.76643746, 'Latitude': 30.69278312}, {'Longitude': -90.91181995, 'Latitude': 30.71599985}, {'Longitude': -90.93263654, 'Latitude': 29.72605548}, {'Longitude': -89.80266714, 'Latitude': 29.70357587}]}}]}}}\n",
              " Temporal coverage: {'RangeDateTime': {'BeginningDateTime': '2023-10-03T16:32:11.664Z', 'EndingDateTime': '2023-10-03T16:32:11.664Z'}}\n",
              " Size(MB): 184.2722396850586\n",
              " Data: ['https://data.lpdaac.earthdatacloud.nasa.gov/lp-prod-protected/HLSL30.020/HLS.L30.T15RYP.2023276T163211.v2.0/HLS.L30.T15RYP.2023276T163211.v2.0.SZA.tif', 'https://data.lpdaac.earthdatacloud.nasa.gov/lp-prod-protected/HLSL30.020/HLS.L30.T15RYP.2023276T163211.v2.0/HLS.L30.T15RYP.2023276T163211.v2.0.B01.tif', 'https://data.lpdaac.earthdatacloud.nasa.gov/lp-prod-protected/HLSL30.020/HLS.L30.T15RYP.2023276T163211.v2.0/HLS.L30.T15RYP.2023276T163211.v2.0.B11.tif', 'https://data.lpdaac.earthdatacloud.nasa.gov/lp-prod-protected/HLSL30.020/HLS.L30.T15RYP.2023276T163211.v2.0/HLS.L30.T15RYP.2023276T163211.v2.0.SAA.tif', 'https://data.lpdaac.earthdatacloud.nasa.gov/lp-prod-protected/HLSL30.020/HLS.L30.T15RYP.2023276T163211.v2.0/HLS.L30.T15RYP.2023276T163211.v2.0.B02.tif', 'https://data.lpdaac.earthdatacloud.nasa.gov/lp-prod-protected/HLSL30.020/HLS.L30.T15RYP.2023276T163211.v2.0/HLS.L30.T15RYP.2023276T163211.v2.0.B05.tif', 'https://data.lpdaac.earthdatacloud.nasa.gov/lp-prod-protected/HLSL30.020/HLS.L30.T15RYP.2023276T163211.v2.0/HLS.L30.T15RYP.2023276T163211.v2.0.B03.tif', 'https://data.lpdaac.earthdatacloud.nasa.gov/lp-prod-protected/HLSL30.020/HLS.L30.T15RYP.2023276T163211.v2.0/HLS.L30.T15RYP.2023276T163211.v2.0.B06.tif', 'https://data.lpdaac.earthdatacloud.nasa.gov/lp-prod-protected/HLSL30.020/HLS.L30.T15RYP.2023276T163211.v2.0/HLS.L30.T15RYP.2023276T163211.v2.0.B10.tif', 'https://data.lpdaac.earthdatacloud.nasa.gov/lp-prod-protected/HLSL30.020/HLS.L30.T15RYP.2023276T163211.v2.0/HLS.L30.T15RYP.2023276T163211.v2.0.VZA.tif', 'https://data.lpdaac.earthdatacloud.nasa.gov/lp-prod-protected/HLSL30.020/HLS.L30.T15RYP.2023276T163211.v2.0/HLS.L30.T15RYP.2023276T163211.v2.0.B09.tif', 'https://data.lpdaac.earthdatacloud.nasa.gov/lp-prod-protected/HLSL30.020/HLS.L30.T15RYP.2023276T163211.v2.0/HLS.L30.T15RYP.2023276T163211.v2.0.B07.tif', 'https://data.lpdaac.earthdatacloud.nasa.gov/lp-prod-protected/HLSL30.020/HLS.L30.T15RYP.2023276T163211.v2.0/HLS.L30.T15RYP.2023276T163211.v2.0.VAA.tif', 'https://data.lpdaac.earthdatacloud.nasa.gov/lp-prod-protected/HLSL30.020/HLS.L30.T15RYP.2023276T163211.v2.0/HLS.L30.T15RYP.2023276T163211.v2.0.B04.tif', 'https://data.lpdaac.earthdatacloud.nasa.gov/lp-prod-protected/HLSL30.020/HLS.L30.T15RYP.2023276T163211.v2.0/HLS.L30.T15RYP.2023276T163211.v2.0.Fmask.tif'],\n",
              " Collection: {'EntryTitle': 'HLS Landsat Operational Land Imager Surface Reflectance and TOA Brightness Daily Global 30m v2.0'}\n",
              " Spatial coverage: {'HorizontalSpatialDomain': {'Geometry': {'GPolygons': [{'Boundary': {'Points': [{'Longitude': -90.07372506, 'Latitude': 28.80444525}, {'Longitude': -89.53235937, 'Latitude': 28.81623702}, {'Longitude': -89.26504439, 'Latitude': 29.81104803}, {'Longitude': -90.10353675, 'Latitude': 29.79400715}, {'Longitude': -90.07372506, 'Latitude': 28.80444525}]}}]}}}\n",
              " Temporal coverage: {'RangeDateTime': {'BeginningDateTime': '2023-10-03T16:32:11.664Z', 'EndingDateTime': '2023-10-03T16:32:35.555Z'}}\n",
              " Size(MB): 98.59119033813477\n",
              " Data: ['https://data.lpdaac.earthdatacloud.nasa.gov/lp-prod-protected/HLSL30.020/HLS.L30.T16RBT.2023276T163211.v2.0/HLS.L30.T16RBT.2023276T163211.v2.0.B04.tif', 'https://data.lpdaac.earthdatacloud.nasa.gov/lp-prod-protected/HLSL30.020/HLS.L30.T16RBT.2023276T163211.v2.0/HLS.L30.T16RBT.2023276T163211.v2.0.VZA.tif', 'https://data.lpdaac.earthdatacloud.nasa.gov/lp-prod-protected/HLSL30.020/HLS.L30.T16RBT.2023276T163211.v2.0/HLS.L30.T16RBT.2023276T163211.v2.0.B02.tif', 'https://data.lpdaac.earthdatacloud.nasa.gov/lp-prod-protected/HLSL30.020/HLS.L30.T16RBT.2023276T163211.v2.0/HLS.L30.T16RBT.2023276T163211.v2.0.VAA.tif', 'https://data.lpdaac.earthdatacloud.nasa.gov/lp-prod-protected/HLSL30.020/HLS.L30.T16RBT.2023276T163211.v2.0/HLS.L30.T16RBT.2023276T163211.v2.0.SZA.tif', 'https://data.lpdaac.earthdatacloud.nasa.gov/lp-prod-protected/HLSL30.020/HLS.L30.T16RBT.2023276T163211.v2.0/HLS.L30.T16RBT.2023276T163211.v2.0.B01.tif', 'https://data.lpdaac.earthdatacloud.nasa.gov/lp-prod-protected/HLSL30.020/HLS.L30.T16RBT.2023276T163211.v2.0/HLS.L30.T16RBT.2023276T163211.v2.0.B03.tif', 'https://data.lpdaac.earthdatacloud.nasa.gov/lp-prod-protected/HLSL30.020/HLS.L30.T16RBT.2023276T163211.v2.0/HLS.L30.T16RBT.2023276T163211.v2.0.B05.tif', 'https://data.lpdaac.earthdatacloud.nasa.gov/lp-prod-protected/HLSL30.020/HLS.L30.T16RBT.2023276T163211.v2.0/HLS.L30.T16RBT.2023276T163211.v2.0.B06.tif', 'https://data.lpdaac.earthdatacloud.nasa.gov/lp-prod-protected/HLSL30.020/HLS.L30.T16RBT.2023276T163211.v2.0/HLS.L30.T16RBT.2023276T163211.v2.0.B10.tif', 'https://data.lpdaac.earthdatacloud.nasa.gov/lp-prod-protected/HLSL30.020/HLS.L30.T16RBT.2023276T163211.v2.0/HLS.L30.T16RBT.2023276T163211.v2.0.B11.tif', 'https://data.lpdaac.earthdatacloud.nasa.gov/lp-prod-protected/HLSL30.020/HLS.L30.T16RBT.2023276T163211.v2.0/HLS.L30.T16RBT.2023276T163211.v2.0.SAA.tif', 'https://data.lpdaac.earthdatacloud.nasa.gov/lp-prod-protected/HLSL30.020/HLS.L30.T16RBT.2023276T163211.v2.0/HLS.L30.T16RBT.2023276T163211.v2.0.B09.tif', 'https://data.lpdaac.earthdatacloud.nasa.gov/lp-prod-protected/HLSL30.020/HLS.L30.T16RBT.2023276T163211.v2.0/HLS.L30.T16RBT.2023276T163211.v2.0.B07.tif', 'https://data.lpdaac.earthdatacloud.nasa.gov/lp-prod-protected/HLSL30.020/HLS.L30.T16RBT.2023276T163211.v2.0/HLS.L30.T16RBT.2023276T163211.v2.0.Fmask.tif'],\n",
              " Collection: {'EntryTitle': 'HLS Landsat Operational Land Imager Surface Reflectance and TOA Brightness Daily Global 30m v2.0'}\n",
              " Spatial coverage: {'HorizontalSpatialDomain': {'Geometry': {'GPolygons': [{'Boundary': {'Points': [{'Longitude': -89.82661214, 'Latitude': 28.80213717}, {'Longitude': -89.79645761, 'Latitude': 29.79161925}, {'Longitude': -90.93082361, 'Latitude': 29.81426153}, {'Longitude': -90.95072084, 'Latitude': 28.82389994}, {'Longitude': -89.82661214, 'Latitude': 28.80213717}]}}]}}}\n",
              " Temporal coverage: {'RangeDateTime': {'BeginningDateTime': '2023-10-03T16:32:11.664Z', 'EndingDateTime': '2023-10-03T16:32:35.555Z'}}\n",
              " Size(MB): 182.3168239593506\n",
              " Data: ['https://data.lpdaac.earthdatacloud.nasa.gov/lp-prod-protected/HLSL30.020/HLS.L30.T15RYN.2023276T163211.v2.0/HLS.L30.T15RYN.2023276T163211.v2.0.Fmask.tif', 'https://data.lpdaac.earthdatacloud.nasa.gov/lp-prod-protected/HLSL30.020/HLS.L30.T15RYN.2023276T163211.v2.0/HLS.L30.T15RYN.2023276T163211.v2.0.SZA.tif', 'https://data.lpdaac.earthdatacloud.nasa.gov/lp-prod-protected/HLSL30.020/HLS.L30.T15RYN.2023276T163211.v2.0/HLS.L30.T15RYN.2023276T163211.v2.0.B02.tif', 'https://data.lpdaac.earthdatacloud.nasa.gov/lp-prod-protected/HLSL30.020/HLS.L30.T15RYN.2023276T163211.v2.0/HLS.L30.T15RYN.2023276T163211.v2.0.B11.tif', 'https://data.lpdaac.earthdatacloud.nasa.gov/lp-prod-protected/HLSL30.020/HLS.L30.T15RYN.2023276T163211.v2.0/HLS.L30.T15RYN.2023276T163211.v2.0.B01.tif', 'https://data.lpdaac.earthdatacloud.nasa.gov/lp-prod-protected/HLSL30.020/HLS.L30.T15RYN.2023276T163211.v2.0/HLS.L30.T15RYN.2023276T163211.v2.0.VAA.tif', 'https://data.lpdaac.earthdatacloud.nasa.gov/lp-prod-protected/HLSL30.020/HLS.L30.T15RYN.2023276T163211.v2.0/HLS.L30.T15RYN.2023276T163211.v2.0.B05.tif', 'https://data.lpdaac.earthdatacloud.nasa.gov/lp-prod-protected/HLSL30.020/HLS.L30.T15RYN.2023276T163211.v2.0/HLS.L30.T15RYN.2023276T163211.v2.0.B10.tif', 'https://data.lpdaac.earthdatacloud.nasa.gov/lp-prod-protected/HLSL30.020/HLS.L30.T15RYN.2023276T163211.v2.0/HLS.L30.T15RYN.2023276T163211.v2.0.SAA.tif', 'https://data.lpdaac.earthdatacloud.nasa.gov/lp-prod-protected/HLSL30.020/HLS.L30.T15RYN.2023276T163211.v2.0/HLS.L30.T15RYN.2023276T163211.v2.0.VZA.tif', 'https://data.lpdaac.earthdatacloud.nasa.gov/lp-prod-protected/HLSL30.020/HLS.L30.T15RYN.2023276T163211.v2.0/HLS.L30.T15RYN.2023276T163211.v2.0.B07.tif', 'https://data.lpdaac.earthdatacloud.nasa.gov/lp-prod-protected/HLSL30.020/HLS.L30.T15RYN.2023276T163211.v2.0/HLS.L30.T15RYN.2023276T163211.v2.0.B09.tif', 'https://data.lpdaac.earthdatacloud.nasa.gov/lp-prod-protected/HLSL30.020/HLS.L30.T15RYN.2023276T163211.v2.0/HLS.L30.T15RYN.2023276T163211.v2.0.B04.tif', 'https://data.lpdaac.earthdatacloud.nasa.gov/lp-prod-protected/HLSL30.020/HLS.L30.T15RYN.2023276T163211.v2.0/HLS.L30.T15RYN.2023276T163211.v2.0.B03.tif', 'https://data.lpdaac.earthdatacloud.nasa.gov/lp-prod-protected/HLSL30.020/HLS.L30.T15RYN.2023276T163211.v2.0/HLS.L30.T15RYN.2023276T163211.v2.0.B06.tif'],\n",
              " Collection: {'EntryTitle': 'HLS Landsat Operational Land Imager Surface Reflectance and TOA Brightness Daily Global 30m v2.0'}\n",
              " Spatial coverage: {'HorizontalSpatialDomain': {'Geometry': {'GPolygons': [{'Boundary': {'Points': [{'Longitude': -90.07372506, 'Latitude': 28.80444525}, {'Longitude': -89.55846143, 'Latitude': 28.8154738}, {'Longitude': -89.29110253, 'Latitude': 29.81059862}, {'Longitude': -90.10353675, 'Latitude': 29.79400715}, {'Longitude': -90.07372506, 'Latitude': 28.80444525}]}}]}}}\n",
              " Temporal coverage: {'RangeDateTime': {'BeginningDateTime': '2023-10-19T16:32:21.176Z', 'EndingDateTime': '2023-10-19T16:32:45.079Z'}}\n",
              " Size(MB): 102.54698371887207\n",
              " Data: ['https://data.lpdaac.earthdatacloud.nasa.gov/lp-prod-protected/HLSL30.020/HLS.L30.T16RBT.2023292T163221.v2.0/HLS.L30.T16RBT.2023292T163221.v2.0.B10.tif', 'https://data.lpdaac.earthdatacloud.nasa.gov/lp-prod-protected/HLSL30.020/HLS.L30.T16RBT.2023292T163221.v2.0/HLS.L30.T16RBT.2023292T163221.v2.0.B02.tif', 'https://data.lpdaac.earthdatacloud.nasa.gov/lp-prod-protected/HLSL30.020/HLS.L30.T16RBT.2023292T163221.v2.0/HLS.L30.T16RBT.2023292T163221.v2.0.B07.tif', 'https://data.lpdaac.earthdatacloud.nasa.gov/lp-prod-protected/HLSL30.020/HLS.L30.T16RBT.2023292T163221.v2.0/HLS.L30.T16RBT.2023292T163221.v2.0.B06.tif', 'https://data.lpdaac.earthdatacloud.nasa.gov/lp-prod-protected/HLSL30.020/HLS.L30.T16RBT.2023292T163221.v2.0/HLS.L30.T16RBT.2023292T163221.v2.0.SZA.tif', 'https://data.lpdaac.earthdatacloud.nasa.gov/lp-prod-protected/HLSL30.020/HLS.L30.T16RBT.2023292T163221.v2.0/HLS.L30.T16RBT.2023292T163221.v2.0.VZA.tif', 'https://data.lpdaac.earthdatacloud.nasa.gov/lp-prod-protected/HLSL30.020/HLS.L30.T16RBT.2023292T163221.v2.0/HLS.L30.T16RBT.2023292T163221.v2.0.B03.tif', 'https://data.lpdaac.earthdatacloud.nasa.gov/lp-prod-protected/HLSL30.020/HLS.L30.T16RBT.2023292T163221.v2.0/HLS.L30.T16RBT.2023292T163221.v2.0.B01.tif', 'https://data.lpdaac.earthdatacloud.nasa.gov/lp-prod-protected/HLSL30.020/HLS.L30.T16RBT.2023292T163221.v2.0/HLS.L30.T16RBT.2023292T163221.v2.0.B09.tif', 'https://data.lpdaac.earthdatacloud.nasa.gov/lp-prod-protected/HLSL30.020/HLS.L30.T16RBT.2023292T163221.v2.0/HLS.L30.T16RBT.2023292T163221.v2.0.B11.tif', 'https://data.lpdaac.earthdatacloud.nasa.gov/lp-prod-protected/HLSL30.020/HLS.L30.T16RBT.2023292T163221.v2.0/HLS.L30.T16RBT.2023292T163221.v2.0.Fmask.tif', 'https://data.lpdaac.earthdatacloud.nasa.gov/lp-prod-protected/HLSL30.020/HLS.L30.T16RBT.2023292T163221.v2.0/HLS.L30.T16RBT.2023292T163221.v2.0.B05.tif', 'https://data.lpdaac.earthdatacloud.nasa.gov/lp-prod-protected/HLSL30.020/HLS.L30.T16RBT.2023292T163221.v2.0/HLS.L30.T16RBT.2023292T163221.v2.0.SAA.tif', 'https://data.lpdaac.earthdatacloud.nasa.gov/lp-prod-protected/HLSL30.020/HLS.L30.T16RBT.2023292T163221.v2.0/HLS.L30.T16RBT.2023292T163221.v2.0.B04.tif', 'https://data.lpdaac.earthdatacloud.nasa.gov/lp-prod-protected/HLSL30.020/HLS.L30.T16RBT.2023292T163221.v2.0/HLS.L30.T16RBT.2023292T163221.v2.0.VAA.tif'],\n",
              " Collection: {'EntryTitle': 'HLS Landsat Operational Land Imager Surface Reflectance and TOA Brightness Daily Global 30m v2.0'}\n",
              " Spatial coverage: {'HorizontalSpatialDomain': {'Geometry': {'GPolygons': [{'Boundary': {'Points': [{'Longitude': -89.82661214, 'Latitude': 28.80213717}, {'Longitude': -89.79583778, 'Latitude': 29.79160422}, {'Longitude': -90.93082361, 'Latitude': 29.81426153}, {'Longitude': -90.95072084, 'Latitude': 28.82389994}, {'Longitude': -89.82661214, 'Latitude': 28.80213717}]}}]}}}\n",
              " Temporal coverage: {'RangeDateTime': {'BeginningDateTime': '2023-10-19T16:32:21.176Z', 'EndingDateTime': '2023-10-19T16:32:45.079Z'}}\n",
              " Size(MB): 175.87995624542236\n",
              " Data: ['https://data.lpdaac.earthdatacloud.nasa.gov/lp-prod-protected/HLSL30.020/HLS.L30.T15RYN.2023292T163221.v2.0/HLS.L30.T15RYN.2023292T163221.v2.0.VAA.tif', 'https://data.lpdaac.earthdatacloud.nasa.gov/lp-prod-protected/HLSL30.020/HLS.L30.T15RYN.2023292T163221.v2.0/HLS.L30.T15RYN.2023292T163221.v2.0.B03.tif', 'https://data.lpdaac.earthdatacloud.nasa.gov/lp-prod-protected/HLSL30.020/HLS.L30.T15RYN.2023292T163221.v2.0/HLS.L30.T15RYN.2023292T163221.v2.0.B02.tif', 'https://data.lpdaac.earthdatacloud.nasa.gov/lp-prod-protected/HLSL30.020/HLS.L30.T15RYN.2023292T163221.v2.0/HLS.L30.T15RYN.2023292T163221.v2.0.B06.tif', 'https://data.lpdaac.earthdatacloud.nasa.gov/lp-prod-protected/HLSL30.020/HLS.L30.T15RYN.2023292T163221.v2.0/HLS.L30.T15RYN.2023292T163221.v2.0.SZA.tif', 'https://data.lpdaac.earthdatacloud.nasa.gov/lp-prod-protected/HLSL30.020/HLS.L30.T15RYN.2023292T163221.v2.0/HLS.L30.T15RYN.2023292T163221.v2.0.Fmask.tif', 'https://data.lpdaac.earthdatacloud.nasa.gov/lp-prod-protected/HLSL30.020/HLS.L30.T15RYN.2023292T163221.v2.0/HLS.L30.T15RYN.2023292T163221.v2.0.B09.tif', 'https://data.lpdaac.earthdatacloud.nasa.gov/lp-prod-protected/HLSL30.020/HLS.L30.T15RYN.2023292T163221.v2.0/HLS.L30.T15RYN.2023292T163221.v2.0.B07.tif', 'https://data.lpdaac.earthdatacloud.nasa.gov/lp-prod-protected/HLSL30.020/HLS.L30.T15RYN.2023292T163221.v2.0/HLS.L30.T15RYN.2023292T163221.v2.0.B11.tif', 'https://data.lpdaac.earthdatacloud.nasa.gov/lp-prod-protected/HLSL30.020/HLS.L30.T15RYN.2023292T163221.v2.0/HLS.L30.T15RYN.2023292T163221.v2.0.B04.tif', 'https://data.lpdaac.earthdatacloud.nasa.gov/lp-prod-protected/HLSL30.020/HLS.L30.T15RYN.2023292T163221.v2.0/HLS.L30.T15RYN.2023292T163221.v2.0.B10.tif', 'https://data.lpdaac.earthdatacloud.nasa.gov/lp-prod-protected/HLSL30.020/HLS.L30.T15RYN.2023292T163221.v2.0/HLS.L30.T15RYN.2023292T163221.v2.0.SAA.tif', 'https://data.lpdaac.earthdatacloud.nasa.gov/lp-prod-protected/HLSL30.020/HLS.L30.T15RYN.2023292T163221.v2.0/HLS.L30.T15RYN.2023292T163221.v2.0.VZA.tif', 'https://data.lpdaac.earthdatacloud.nasa.gov/lp-prod-protected/HLSL30.020/HLS.L30.T15RYN.2023292T163221.v2.0/HLS.L30.T15RYN.2023292T163221.v2.0.B01.tif', 'https://data.lpdaac.earthdatacloud.nasa.gov/lp-prod-protected/HLSL30.020/HLS.L30.T15RYN.2023292T163221.v2.0/HLS.L30.T15RYN.2023292T163221.v2.0.B05.tif'],\n",
              " Collection: {'EntryTitle': 'HLS Landsat Operational Land Imager Surface Reflectance and TOA Brightness Daily Global 30m v2.0'}\n",
              " Spatial coverage: {'HorizontalSpatialDomain': {'Geometry': {'GPolygons': [{'Boundary': {'Points': [{'Longitude': -89.79864173, 'Latitude': 29.70347853}, {'Longitude': -89.76643746, 'Latitude': 30.69278312}, {'Longitude': -90.91181412, 'Latitude': 30.71627038}, {'Longitude': -90.93263654, 'Latitude': 29.72605548}, {'Longitude': -89.79864173, 'Latitude': 29.70347853}]}}]}}}\n",
              " Temporal coverage: {'RangeDateTime': {'BeginningDateTime': '2023-10-19T16:32:21.176Z', 'EndingDateTime': '2023-10-19T16:32:21.176Z'}}\n",
              " Size(MB): 185.59304237365723\n",
              " Data: ['https://data.lpdaac.earthdatacloud.nasa.gov/lp-prod-protected/HLSL30.020/HLS.L30.T15RYP.2023292T163221.v2.0/HLS.L30.T15RYP.2023292T163221.v2.0.B10.tif', 'https://data.lpdaac.earthdatacloud.nasa.gov/lp-prod-protected/HLSL30.020/HLS.L30.T15RYP.2023292T163221.v2.0/HLS.L30.T15RYP.2023292T163221.v2.0.B11.tif', 'https://data.lpdaac.earthdatacloud.nasa.gov/lp-prod-protected/HLSL30.020/HLS.L30.T15RYP.2023292T163221.v2.0/HLS.L30.T15RYP.2023292T163221.v2.0.B07.tif', 'https://data.lpdaac.earthdatacloud.nasa.gov/lp-prod-protected/HLSL30.020/HLS.L30.T15RYP.2023292T163221.v2.0/HLS.L30.T15RYP.2023292T163221.v2.0.Fmask.tif', 'https://data.lpdaac.earthdatacloud.nasa.gov/lp-prod-protected/HLSL30.020/HLS.L30.T15RYP.2023292T163221.v2.0/HLS.L30.T15RYP.2023292T163221.v2.0.SZA.tif', 'https://data.lpdaac.earthdatacloud.nasa.gov/lp-prod-protected/HLSL30.020/HLS.L30.T15RYP.2023292T163221.v2.0/HLS.L30.T15RYP.2023292T163221.v2.0.B05.tif', 'https://data.lpdaac.earthdatacloud.nasa.gov/lp-prod-protected/HLSL30.020/HLS.L30.T15RYP.2023292T163221.v2.0/HLS.L30.T15RYP.2023292T163221.v2.0.SAA.tif', 'https://data.lpdaac.earthdatacloud.nasa.gov/lp-prod-protected/HLSL30.020/HLS.L30.T15RYP.2023292T163221.v2.0/HLS.L30.T15RYP.2023292T163221.v2.0.VZA.tif', 'https://data.lpdaac.earthdatacloud.nasa.gov/lp-prod-protected/HLSL30.020/HLS.L30.T15RYP.2023292T163221.v2.0/HLS.L30.T15RYP.2023292T163221.v2.0.B06.tif', 'https://data.lpdaac.earthdatacloud.nasa.gov/lp-prod-protected/HLSL30.020/HLS.L30.T15RYP.2023292T163221.v2.0/HLS.L30.T15RYP.2023292T163221.v2.0.VAA.tif', 'https://data.lpdaac.earthdatacloud.nasa.gov/lp-prod-protected/HLSL30.020/HLS.L30.T15RYP.2023292T163221.v2.0/HLS.L30.T15RYP.2023292T163221.v2.0.B03.tif', 'https://data.lpdaac.earthdatacloud.nasa.gov/lp-prod-protected/HLSL30.020/HLS.L30.T15RYP.2023292T163221.v2.0/HLS.L30.T15RYP.2023292T163221.v2.0.B09.tif', 'https://data.lpdaac.earthdatacloud.nasa.gov/lp-prod-protected/HLSL30.020/HLS.L30.T15RYP.2023292T163221.v2.0/HLS.L30.T15RYP.2023292T163221.v2.0.B04.tif', 'https://data.lpdaac.earthdatacloud.nasa.gov/lp-prod-protected/HLSL30.020/HLS.L30.T15RYP.2023292T163221.v2.0/HLS.L30.T15RYP.2023292T163221.v2.0.B01.tif', 'https://data.lpdaac.earthdatacloud.nasa.gov/lp-prod-protected/HLSL30.020/HLS.L30.T15RYP.2023292T163221.v2.0/HLS.L30.T15RYP.2023292T163221.v2.0.B02.tif'],\n",
              " Collection: {'EntryTitle': 'HLS Landsat Operational Land Imager Surface Reflectance and TOA Brightness Daily Global 30m v2.0'}\n",
              " Spatial coverage: {'HorizontalSpatialDomain': {'Geometry': {'GPolygons': [{'Boundary': {'Points': [{'Longitude': -90.10082051, 'Latitude': 29.70587294}, {'Longitude': -89.31482661, 'Latitude': 29.72222857}, {'Longitude': -89.04414025, 'Latitude': 30.71697165}, {'Longitude': -90.13201749, 'Latitude': 30.69527405}, {'Longitude': -90.10082051, 'Latitude': 29.70587294}]}}]}}}\n",
              " Temporal coverage: {'RangeDateTime': {'BeginningDateTime': '2023-10-19T16:32:21.176Z', 'EndingDateTime': '2023-10-19T16:32:21.176Z'}}\n",
              " Size(MB): 156.73394966125488\n",
              " Data: ['https://data.lpdaac.earthdatacloud.nasa.gov/lp-prod-protected/HLSL30.020/HLS.L30.T16RBU.2023292T163221.v2.0/HLS.L30.T16RBU.2023292T163221.v2.0.B09.tif', 'https://data.lpdaac.earthdatacloud.nasa.gov/lp-prod-protected/HLSL30.020/HLS.L30.T16RBU.2023292T163221.v2.0/HLS.L30.T16RBU.2023292T163221.v2.0.B04.tif', 'https://data.lpdaac.earthdatacloud.nasa.gov/lp-prod-protected/HLSL30.020/HLS.L30.T16RBU.2023292T163221.v2.0/HLS.L30.T16RBU.2023292T163221.v2.0.VZA.tif', 'https://data.lpdaac.earthdatacloud.nasa.gov/lp-prod-protected/HLSL30.020/HLS.L30.T16RBU.2023292T163221.v2.0/HLS.L30.T16RBU.2023292T163221.v2.0.VAA.tif', 'https://data.lpdaac.earthdatacloud.nasa.gov/lp-prod-protected/HLSL30.020/HLS.L30.T16RBU.2023292T163221.v2.0/HLS.L30.T16RBU.2023292T163221.v2.0.B10.tif', 'https://data.lpdaac.earthdatacloud.nasa.gov/lp-prod-protected/HLSL30.020/HLS.L30.T16RBU.2023292T163221.v2.0/HLS.L30.T16RBU.2023292T163221.v2.0.B01.tif', 'https://data.lpdaac.earthdatacloud.nasa.gov/lp-prod-protected/HLSL30.020/HLS.L30.T16RBU.2023292T163221.v2.0/HLS.L30.T16RBU.2023292T163221.v2.0.B11.tif', 'https://data.lpdaac.earthdatacloud.nasa.gov/lp-prod-protected/HLSL30.020/HLS.L30.T16RBU.2023292T163221.v2.0/HLS.L30.T16RBU.2023292T163221.v2.0.B05.tif', 'https://data.lpdaac.earthdatacloud.nasa.gov/lp-prod-protected/HLSL30.020/HLS.L30.T16RBU.2023292T163221.v2.0/HLS.L30.T16RBU.2023292T163221.v2.0.SZA.tif', 'https://data.lpdaac.earthdatacloud.nasa.gov/lp-prod-protected/HLSL30.020/HLS.L30.T16RBU.2023292T163221.v2.0/HLS.L30.T16RBU.2023292T163221.v2.0.B03.tif', 'https://data.lpdaac.earthdatacloud.nasa.gov/lp-prod-protected/HLSL30.020/HLS.L30.T16RBU.2023292T163221.v2.0/HLS.L30.T16RBU.2023292T163221.v2.0.B02.tif', 'https://data.lpdaac.earthdatacloud.nasa.gov/lp-prod-protected/HLSL30.020/HLS.L30.T16RBU.2023292T163221.v2.0/HLS.L30.T16RBU.2023292T163221.v2.0.Fmask.tif', 'https://data.lpdaac.earthdatacloud.nasa.gov/lp-prod-protected/HLSL30.020/HLS.L30.T16RBU.2023292T163221.v2.0/HLS.L30.T16RBU.2023292T163221.v2.0.B06.tif', 'https://data.lpdaac.earthdatacloud.nasa.gov/lp-prod-protected/HLSL30.020/HLS.L30.T16RBU.2023292T163221.v2.0/HLS.L30.T16RBU.2023292T163221.v2.0.SAA.tif', 'https://data.lpdaac.earthdatacloud.nasa.gov/lp-prod-protected/HLSL30.020/HLS.L30.T16RBU.2023292T163221.v2.0/HLS.L30.T16RBU.2023292T163221.v2.0.B07.tif'],\n",
              " Collection: {'EntryTitle': 'HLS Landsat Operational Land Imager Surface Reflectance and TOA Brightness Daily Global 30m v2.0'}\n",
              " Spatial coverage: {'HorizontalSpatialDomain': {'Geometry': {'GPolygons': [{'Boundary': {'Points': [{'Longitude': -90.10082051, 'Latitude': 29.70587294}, {'Longitude': -89.30583226, 'Latitude': 29.72211497}, {'Longitude': -89.03474643, 'Latitude': 30.71711928}, {'Longitude': -90.13201749, 'Latitude': 30.69527405}, {'Longitude': -90.10082051, 'Latitude': 29.70587294}]}}]}}}\n",
              " Temporal coverage: {'RangeDateTime': {'BeginningDateTime': '2023-10-27T16:32:18.830Z', 'EndingDateTime': '2023-10-27T16:32:18.830Z'}}\n",
              " Size(MB): 145.32837009429932\n",
              " Data: ['https://data.lpdaac.earthdatacloud.nasa.gov/lp-prod-protected/HLSL30.020/HLS.L30.T16RBU.2023300T163218.v2.0/HLS.L30.T16RBU.2023300T163218.v2.0.B04.tif', 'https://data.lpdaac.earthdatacloud.nasa.gov/lp-prod-protected/HLSL30.020/HLS.L30.T16RBU.2023300T163218.v2.0/HLS.L30.T16RBU.2023300T163218.v2.0.B10.tif', 'https://data.lpdaac.earthdatacloud.nasa.gov/lp-prod-protected/HLSL30.020/HLS.L30.T16RBU.2023300T163218.v2.0/HLS.L30.T16RBU.2023300T163218.v2.0.SZA.tif', 'https://data.lpdaac.earthdatacloud.nasa.gov/lp-prod-protected/HLSL30.020/HLS.L30.T16RBU.2023300T163218.v2.0/HLS.L30.T16RBU.2023300T163218.v2.0.VAA.tif', 'https://data.lpdaac.earthdatacloud.nasa.gov/lp-prod-protected/HLSL30.020/HLS.L30.T16RBU.2023300T163218.v2.0/HLS.L30.T16RBU.2023300T163218.v2.0.VZA.tif', 'https://data.lpdaac.earthdatacloud.nasa.gov/lp-prod-protected/HLSL30.020/HLS.L30.T16RBU.2023300T163218.v2.0/HLS.L30.T16RBU.2023300T163218.v2.0.SAA.tif', 'https://data.lpdaac.earthdatacloud.nasa.gov/lp-prod-protected/HLSL30.020/HLS.L30.T16RBU.2023300T163218.v2.0/HLS.L30.T16RBU.2023300T163218.v2.0.B09.tif', 'https://data.lpdaac.earthdatacloud.nasa.gov/lp-prod-protected/HLSL30.020/HLS.L30.T16RBU.2023300T163218.v2.0/HLS.L30.T16RBU.2023300T163218.v2.0.B07.tif', 'https://data.lpdaac.earthdatacloud.nasa.gov/lp-prod-protected/HLSL30.020/HLS.L30.T16RBU.2023300T163218.v2.0/HLS.L30.T16RBU.2023300T163218.v2.0.B03.tif', 'https://data.lpdaac.earthdatacloud.nasa.gov/lp-prod-protected/HLSL30.020/HLS.L30.T16RBU.2023300T163218.v2.0/HLS.L30.T16RBU.2023300T163218.v2.0.B05.tif', 'https://data.lpdaac.earthdatacloud.nasa.gov/lp-prod-protected/HLSL30.020/HLS.L30.T16RBU.2023300T163218.v2.0/HLS.L30.T16RBU.2023300T163218.v2.0.Fmask.tif', 'https://data.lpdaac.earthdatacloud.nasa.gov/lp-prod-protected/HLSL30.020/HLS.L30.T16RBU.2023300T163218.v2.0/HLS.L30.T16RBU.2023300T163218.v2.0.B11.tif', 'https://data.lpdaac.earthdatacloud.nasa.gov/lp-prod-protected/HLSL30.020/HLS.L30.T16RBU.2023300T163218.v2.0/HLS.L30.T16RBU.2023300T163218.v2.0.B01.tif', 'https://data.lpdaac.earthdatacloud.nasa.gov/lp-prod-protected/HLSL30.020/HLS.L30.T16RBU.2023300T163218.v2.0/HLS.L30.T16RBU.2023300T163218.v2.0.B02.tif', 'https://data.lpdaac.earthdatacloud.nasa.gov/lp-prod-protected/HLSL30.020/HLS.L30.T16RBU.2023300T163218.v2.0/HLS.L30.T16RBU.2023300T163218.v2.0.B06.tif'],\n",
              " Collection: {'EntryTitle': 'HLS Landsat Operational Land Imager Surface Reflectance and TOA Brightness Daily Global 30m v2.0'}\n",
              " Spatial coverage: {'HorizontalSpatialDomain': {'Geometry': {'GPolygons': [{'Boundary': {'Points': [{'Longitude': -89.82661214, 'Latitude': 28.80213717}, {'Longitude': -89.79583778, 'Latitude': 29.79160422}, {'Longitude': -90.93082361, 'Latitude': 29.81426153}, {'Longitude': -90.95072084, 'Latitude': 28.82389994}, {'Longitude': -89.82661214, 'Latitude': 28.80213717}]}}]}}}\n",
              " Temporal coverage: {'RangeDateTime': {'BeginningDateTime': '2023-10-27T16:32:18.830Z', 'EndingDateTime': '2023-10-27T16:32:42.725Z'}}\n",
              " Size(MB): 186.02645683288574\n",
              " Data: ['https://data.lpdaac.earthdatacloud.nasa.gov/lp-prod-protected/HLSL30.020/HLS.L30.T15RYN.2023300T163218.v2.0/HLS.L30.T15RYN.2023300T163218.v2.0.Fmask.tif', 'https://data.lpdaac.earthdatacloud.nasa.gov/lp-prod-protected/HLSL30.020/HLS.L30.T15RYN.2023300T163218.v2.0/HLS.L30.T15RYN.2023300T163218.v2.0.B05.tif', 'https://data.lpdaac.earthdatacloud.nasa.gov/lp-prod-protected/HLSL30.020/HLS.L30.T15RYN.2023300T163218.v2.0/HLS.L30.T15RYN.2023300T163218.v2.0.VAA.tif', 'https://data.lpdaac.earthdatacloud.nasa.gov/lp-prod-protected/HLSL30.020/HLS.L30.T15RYN.2023300T163218.v2.0/HLS.L30.T15RYN.2023300T163218.v2.0.B06.tif', 'https://data.lpdaac.earthdatacloud.nasa.gov/lp-prod-protected/HLSL30.020/HLS.L30.T15RYN.2023300T163218.v2.0/HLS.L30.T15RYN.2023300T163218.v2.0.B03.tif', 'https://data.lpdaac.earthdatacloud.nasa.gov/lp-prod-protected/HLSL30.020/HLS.L30.T15RYN.2023300T163218.v2.0/HLS.L30.T15RYN.2023300T163218.v2.0.B09.tif', 'https://data.lpdaac.earthdatacloud.nasa.gov/lp-prod-protected/HLSL30.020/HLS.L30.T15RYN.2023300T163218.v2.0/HLS.L30.T15RYN.2023300T163218.v2.0.B10.tif', 'https://data.lpdaac.earthdatacloud.nasa.gov/lp-prod-protected/HLSL30.020/HLS.L30.T15RYN.2023300T163218.v2.0/HLS.L30.T15RYN.2023300T163218.v2.0.B11.tif', 'https://data.lpdaac.earthdatacloud.nasa.gov/lp-prod-protected/HLSL30.020/HLS.L30.T15RYN.2023300T163218.v2.0/HLS.L30.T15RYN.2023300T163218.v2.0.B02.tif', 'https://data.lpdaac.earthdatacloud.nasa.gov/lp-prod-protected/HLSL30.020/HLS.L30.T15RYN.2023300T163218.v2.0/HLS.L30.T15RYN.2023300T163218.v2.0.B01.tif', 'https://data.lpdaac.earthdatacloud.nasa.gov/lp-prod-protected/HLSL30.020/HLS.L30.T15RYN.2023300T163218.v2.0/HLS.L30.T15RYN.2023300T163218.v2.0.VZA.tif', 'https://data.lpdaac.earthdatacloud.nasa.gov/lp-prod-protected/HLSL30.020/HLS.L30.T15RYN.2023300T163218.v2.0/HLS.L30.T15RYN.2023300T163218.v2.0.B04.tif', 'https://data.lpdaac.earthdatacloud.nasa.gov/lp-prod-protected/HLSL30.020/HLS.L30.T15RYN.2023300T163218.v2.0/HLS.L30.T15RYN.2023300T163218.v2.0.SAA.tif', 'https://data.lpdaac.earthdatacloud.nasa.gov/lp-prod-protected/HLSL30.020/HLS.L30.T15RYN.2023300T163218.v2.0/HLS.L30.T15RYN.2023300T163218.v2.0.SZA.tif', 'https://data.lpdaac.earthdatacloud.nasa.gov/lp-prod-protected/HLSL30.020/HLS.L30.T15RYN.2023300T163218.v2.0/HLS.L30.T15RYN.2023300T163218.v2.0.B07.tif'],\n",
              " Collection: {'EntryTitle': 'HLS Landsat Operational Land Imager Surface Reflectance and TOA Brightness Daily Global 30m v2.0'}\n",
              " Spatial coverage: {'HorizontalSpatialDomain': {'Geometry': {'GPolygons': [{'Boundary': {'Points': [{'Longitude': -90.07372506, 'Latitude': 28.80444525}, {'Longitude': -89.54924011, 'Latitude': 28.81537775}, {'Longitude': -89.28179612, 'Latitude': 29.81075971}, {'Longitude': -90.10353675, 'Latitude': 29.79400715}, {'Longitude': -90.07372506, 'Latitude': 28.80444525}]}}]}}}\n",
              " Temporal coverage: {'RangeDateTime': {'BeginningDateTime': '2023-10-27T16:32:18.830Z', 'EndingDateTime': '2023-10-27T16:32:42.725Z'}}\n",
              " Size(MB): 97.14288330078125\n",
              " Data: ['https://data.lpdaac.earthdatacloud.nasa.gov/lp-prod-protected/HLSL30.020/HLS.L30.T16RBT.2023300T163218.v2.0/HLS.L30.T16RBT.2023300T163218.v2.0.VAA.tif', 'https://data.lpdaac.earthdatacloud.nasa.gov/lp-prod-protected/HLSL30.020/HLS.L30.T16RBT.2023300T163218.v2.0/HLS.L30.T16RBT.2023300T163218.v2.0.B05.tif', 'https://data.lpdaac.earthdatacloud.nasa.gov/lp-prod-protected/HLSL30.020/HLS.L30.T16RBT.2023300T163218.v2.0/HLS.L30.T16RBT.2023300T163218.v2.0.Fmask.tif', 'https://data.lpdaac.earthdatacloud.nasa.gov/lp-prod-protected/HLSL30.020/HLS.L30.T16RBT.2023300T163218.v2.0/HLS.L30.T16RBT.2023300T163218.v2.0.B04.tif', 'https://data.lpdaac.earthdatacloud.nasa.gov/lp-prod-protected/HLSL30.020/HLS.L30.T16RBT.2023300T163218.v2.0/HLS.L30.T16RBT.2023300T163218.v2.0.B06.tif', 'https://data.lpdaac.earthdatacloud.nasa.gov/lp-prod-protected/HLSL30.020/HLS.L30.T16RBT.2023300T163218.v2.0/HLS.L30.T16RBT.2023300T163218.v2.0.SAA.tif', 'https://data.lpdaac.earthdatacloud.nasa.gov/lp-prod-protected/HLSL30.020/HLS.L30.T16RBT.2023300T163218.v2.0/HLS.L30.T16RBT.2023300T163218.v2.0.B11.tif', 'https://data.lpdaac.earthdatacloud.nasa.gov/lp-prod-protected/HLSL30.020/HLS.L30.T16RBT.2023300T163218.v2.0/HLS.L30.T16RBT.2023300T163218.v2.0.VZA.tif', 'https://data.lpdaac.earthdatacloud.nasa.gov/lp-prod-protected/HLSL30.020/HLS.L30.T16RBT.2023300T163218.v2.0/HLS.L30.T16RBT.2023300T163218.v2.0.B01.tif', 'https://data.lpdaac.earthdatacloud.nasa.gov/lp-prod-protected/HLSL30.020/HLS.L30.T16RBT.2023300T163218.v2.0/HLS.L30.T16RBT.2023300T163218.v2.0.B02.tif', 'https://data.lpdaac.earthdatacloud.nasa.gov/lp-prod-protected/HLSL30.020/HLS.L30.T16RBT.2023300T163218.v2.0/HLS.L30.T16RBT.2023300T163218.v2.0.B09.tif', 'https://data.lpdaac.earthdatacloud.nasa.gov/lp-prod-protected/HLSL30.020/HLS.L30.T16RBT.2023300T163218.v2.0/HLS.L30.T16RBT.2023300T163218.v2.0.SZA.tif', 'https://data.lpdaac.earthdatacloud.nasa.gov/lp-prod-protected/HLSL30.020/HLS.L30.T16RBT.2023300T163218.v2.0/HLS.L30.T16RBT.2023300T163218.v2.0.B03.tif', 'https://data.lpdaac.earthdatacloud.nasa.gov/lp-prod-protected/HLSL30.020/HLS.L30.T16RBT.2023300T163218.v2.0/HLS.L30.T16RBT.2023300T163218.v2.0.B07.tif', 'https://data.lpdaac.earthdatacloud.nasa.gov/lp-prod-protected/HLSL30.020/HLS.L30.T16RBT.2023300T163218.v2.0/HLS.L30.T16RBT.2023300T163218.v2.0.B10.tif'],\n",
              " Collection: {'EntryTitle': 'HLS Landsat Operational Land Imager Surface Reflectance and TOA Brightness Daily Global 30m v2.0'}\n",
              " Spatial coverage: {'HorizontalSpatialDomain': {'Geometry': {'GPolygons': [{'Boundary': {'Points': [{'Longitude': -89.79864173, 'Latitude': 29.70347853}, {'Longitude': -89.76643746, 'Latitude': 30.69278312}, {'Longitude': -90.91181412, 'Latitude': 30.71627038}, {'Longitude': -90.93263654, 'Latitude': 29.72605548}, {'Longitude': -89.79864173, 'Latitude': 29.70347853}]}}]}}}\n",
              " Temporal coverage: {'RangeDateTime': {'BeginningDateTime': '2023-10-27T16:32:18.830Z', 'EndingDateTime': '2023-10-27T16:32:18.830Z'}}\n",
              " Size(MB): 185.03299140930176\n",
              " Data: ['https://data.lpdaac.earthdatacloud.nasa.gov/lp-prod-protected/HLSL30.020/HLS.L30.T15RYP.2023300T163218.v2.0/HLS.L30.T15RYP.2023300T163218.v2.0.Fmask.tif', 'https://data.lpdaac.earthdatacloud.nasa.gov/lp-prod-protected/HLSL30.020/HLS.L30.T15RYP.2023300T163218.v2.0/HLS.L30.T15RYP.2023300T163218.v2.0.SAA.tif', 'https://data.lpdaac.earthdatacloud.nasa.gov/lp-prod-protected/HLSL30.020/HLS.L30.T15RYP.2023300T163218.v2.0/HLS.L30.T15RYP.2023300T163218.v2.0.SZA.tif', 'https://data.lpdaac.earthdatacloud.nasa.gov/lp-prod-protected/HLSL30.020/HLS.L30.T15RYP.2023300T163218.v2.0/HLS.L30.T15RYP.2023300T163218.v2.0.B10.tif', 'https://data.lpdaac.earthdatacloud.nasa.gov/lp-prod-protected/HLSL30.020/HLS.L30.T15RYP.2023300T163218.v2.0/HLS.L30.T15RYP.2023300T163218.v2.0.VZA.tif', 'https://data.lpdaac.earthdatacloud.nasa.gov/lp-prod-protected/HLSL30.020/HLS.L30.T15RYP.2023300T163218.v2.0/HLS.L30.T15RYP.2023300T163218.v2.0.B11.tif', 'https://data.lpdaac.earthdatacloud.nasa.gov/lp-prod-protected/HLSL30.020/HLS.L30.T15RYP.2023300T163218.v2.0/HLS.L30.T15RYP.2023300T163218.v2.0.B07.tif', 'https://data.lpdaac.earthdatacloud.nasa.gov/lp-prod-protected/HLSL30.020/HLS.L30.T15RYP.2023300T163218.v2.0/HLS.L30.T15RYP.2023300T163218.v2.0.B01.tif', 'https://data.lpdaac.earthdatacloud.nasa.gov/lp-prod-protected/HLSL30.020/HLS.L30.T15RYP.2023300T163218.v2.0/HLS.L30.T15RYP.2023300T163218.v2.0.VAA.tif', 'https://data.lpdaac.earthdatacloud.nasa.gov/lp-prod-protected/HLSL30.020/HLS.L30.T15RYP.2023300T163218.v2.0/HLS.L30.T15RYP.2023300T163218.v2.0.B05.tif', 'https://data.lpdaac.earthdatacloud.nasa.gov/lp-prod-protected/HLSL30.020/HLS.L30.T15RYP.2023300T163218.v2.0/HLS.L30.T15RYP.2023300T163218.v2.0.B06.tif', 'https://data.lpdaac.earthdatacloud.nasa.gov/lp-prod-protected/HLSL30.020/HLS.L30.T15RYP.2023300T163218.v2.0/HLS.L30.T15RYP.2023300T163218.v2.0.B02.tif', 'https://data.lpdaac.earthdatacloud.nasa.gov/lp-prod-protected/HLSL30.020/HLS.L30.T15RYP.2023300T163218.v2.0/HLS.L30.T15RYP.2023300T163218.v2.0.B09.tif', 'https://data.lpdaac.earthdatacloud.nasa.gov/lp-prod-protected/HLSL30.020/HLS.L30.T15RYP.2023300T163218.v2.0/HLS.L30.T15RYP.2023300T163218.v2.0.B03.tif', 'https://data.lpdaac.earthdatacloud.nasa.gov/lp-prod-protected/HLSL30.020/HLS.L30.T15RYP.2023300T163218.v2.0/HLS.L30.T15RYP.2023300T163218.v2.0.B04.tif']]"
            ]
          },
          "execution_count": 10,
          "metadata": {},
          "output_type": "execute_result"
        }
      ],
      "source": [
        "# Search for HLS tiles\n",
        "wbd_hls_results = earthaccess.search_data(\n",
        "    # dataset short name\n",
        "    short_name='HLSL30',\n",
        "    # the bounding box is the waterhsed boundary\n",
        "    bounding_box=tuple(wbd_gdf.total_bounds),\n",
        "    # temporal bounds from May - Oct 2023\n",
        "    temporal=('2023-05-01', '2023-10-31')\n",
        ")\n",
        "wbd_hls_results\n"
      ]
    },
    {
      "cell_type": "code",
      "execution_count": 11,
      "id": "5a1acaaf",
      "metadata": {},
      "outputs": [],
      "source": [
        "# Open earthaccess results\n",
        "# There are 15 bands per tile, 1320/15 = 88 tiles\n",
        "# commenting this out, don't think these need to be opened right now\n",
        "# wbd_hls_files = earthaccess.open(wbd_hls_results)"
      ]
    },
    {
      "cell_type": "code",
      "execution_count": 12,
      "id": "bf637fc5",
      "metadata": {},
      "outputs": [
        {
          "data": {
            "text/html": [
              "<div>\n",
              "<style scoped>\n",
              "    .dataframe tbody tr th:only-of-type {\n",
              "        vertical-align: middle;\n",
              "    }\n",
              "\n",
              "    .dataframe tbody tr th {\n",
              "        vertical-align: top;\n",
              "    }\n",
              "\n",
              "    .dataframe thead th {\n",
              "        text-align: right;\n",
              "    }\n",
              "</style>\n",
              "<table border=\"1\" class=\"dataframe\">\n",
              "  <thead>\n",
              "    <tr style=\"text-align: right;\">\n",
              "      <th></th>\n",
              "      <th>meta</th>\n",
              "      <th>umm</th>\n",
              "      <th>size</th>\n",
              "    </tr>\n",
              "  </thead>\n",
              "  <tbody>\n",
              "    <tr>\n",
              "      <th>0</th>\n",
              "      <td>{'concept-type': 'granule', 'concept-id': 'G26...</td>\n",
              "      <td>{'TemporalExtent': {'RangeDateTime': {'Beginni...</td>\n",
              "      <td>87.651975</td>\n",
              "    </tr>\n",
              "    <tr>\n",
              "      <th>1</th>\n",
              "      <td>{'concept-type': 'granule', 'concept-id': 'G26...</td>\n",
              "      <td>{'TemporalExtent': {'RangeDateTime': {'Beginni...</td>\n",
              "      <td>150.901505</td>\n",
              "    </tr>\n",
              "    <tr>\n",
              "      <th>2</th>\n",
              "      <td>{'concept-type': 'granule', 'concept-id': 'G26...</td>\n",
              "      <td>{'TemporalExtent': {'RangeDateTime': {'Beginni...</td>\n",
              "      <td>182.547405</td>\n",
              "    </tr>\n",
              "    <tr>\n",
              "      <th>3</th>\n",
              "      <td>{'concept-type': 'granule', 'concept-id': 'G26...</td>\n",
              "      <td>{'TemporalExtent': {'RangeDateTime': {'Beginni...</td>\n",
              "      <td>145.737147</td>\n",
              "    </tr>\n",
              "    <tr>\n",
              "      <th>4</th>\n",
              "      <td>{'concept-type': 'granule', 'concept-id': 'G26...</td>\n",
              "      <td>{'TemporalExtent': {'RangeDateTime': {'Beginni...</td>\n",
              "      <td>98.771830</td>\n",
              "    </tr>\n",
              "    <tr>\n",
              "      <th>...</th>\n",
              "      <td>...</td>\n",
              "      <td>...</td>\n",
              "      <td>...</td>\n",
              "    </tr>\n",
              "    <tr>\n",
              "      <th>83</th>\n",
              "      <td>{'concept-type': 'granule', 'concept-id': 'G27...</td>\n",
              "      <td>{'TemporalExtent': {'RangeDateTime': {'Beginni...</td>\n",
              "      <td>156.733950</td>\n",
              "    </tr>\n",
              "    <tr>\n",
              "      <th>84</th>\n",
              "      <td>{'concept-type': 'granule', 'concept-id': 'G27...</td>\n",
              "      <td>{'TemporalExtent': {'RangeDateTime': {'Beginni...</td>\n",
              "      <td>145.328370</td>\n",
              "    </tr>\n",
              "    <tr>\n",
              "      <th>85</th>\n",
              "      <td>{'concept-type': 'granule', 'concept-id': 'G27...</td>\n",
              "      <td>{'TemporalExtent': {'RangeDateTime': {'Beginni...</td>\n",
              "      <td>186.026457</td>\n",
              "    </tr>\n",
              "    <tr>\n",
              "      <th>86</th>\n",
              "      <td>{'concept-type': 'granule', 'concept-id': 'G27...</td>\n",
              "      <td>{'TemporalExtent': {'RangeDateTime': {'Beginni...</td>\n",
              "      <td>97.142883</td>\n",
              "    </tr>\n",
              "    <tr>\n",
              "      <th>87</th>\n",
              "      <td>{'concept-type': 'granule', 'concept-id': 'G27...</td>\n",
              "      <td>{'TemporalExtent': {'RangeDateTime': {'Beginni...</td>\n",
              "      <td>185.032991</td>\n",
              "    </tr>\n",
              "  </tbody>\n",
              "</table>\n",
              "<p>88 rows × 3 columns</p>\n",
              "</div>"
            ],
            "text/plain": [
              "                                                 meta  \\\n",
              "0   {'concept-type': 'granule', 'concept-id': 'G26...   \n",
              "1   {'concept-type': 'granule', 'concept-id': 'G26...   \n",
              "2   {'concept-type': 'granule', 'concept-id': 'G26...   \n",
              "3   {'concept-type': 'granule', 'concept-id': 'G26...   \n",
              "4   {'concept-type': 'granule', 'concept-id': 'G26...   \n",
              "..                                                ...   \n",
              "83  {'concept-type': 'granule', 'concept-id': 'G27...   \n",
              "84  {'concept-type': 'granule', 'concept-id': 'G27...   \n",
              "85  {'concept-type': 'granule', 'concept-id': 'G27...   \n",
              "86  {'concept-type': 'granule', 'concept-id': 'G27...   \n",
              "87  {'concept-type': 'granule', 'concept-id': 'G27...   \n",
              "\n",
              "                                                  umm        size  \n",
              "0   {'TemporalExtent': {'RangeDateTime': {'Beginni...   87.651975  \n",
              "1   {'TemporalExtent': {'RangeDateTime': {'Beginni...  150.901505  \n",
              "2   {'TemporalExtent': {'RangeDateTime': {'Beginni...  182.547405  \n",
              "3   {'TemporalExtent': {'RangeDateTime': {'Beginni...  145.737147  \n",
              "4   {'TemporalExtent': {'RangeDateTime': {'Beginni...   98.771830  \n",
              "..                                                ...         ...  \n",
              "83  {'TemporalExtent': {'RangeDateTime': {'Beginni...  156.733950  \n",
              "84  {'TemporalExtent': {'RangeDateTime': {'Beginni...  145.328370  \n",
              "85  {'TemporalExtent': {'RangeDateTime': {'Beginni...  186.026457  \n",
              "86  {'TemporalExtent': {'RangeDateTime': {'Beginni...   97.142883  \n",
              "87  {'TemporalExtent': {'RangeDateTime': {'Beginni...  185.032991  \n",
              "\n",
              "[88 rows x 3 columns]"
            ]
          },
          "execution_count": 12,
          "metadata": {},
          "output_type": "execute_result"
        }
      ],
      "source": [
        "# add the wbd_hls_results go a geodataframe\n",
        "wbd_hls_gdf = gpd.GeoDataFrame(wbd_hls_results)\n",
        "wbd_hls_gdf"
      ]
    },
    {
      "cell_type": "code",
      "execution_count": 13,
      "id": "e8800879",
      "metadata": {},
      "outputs": [
        {
          "data": {
            "text/plain": [
              "{'TemporalExtent': {'RangeDateTime': {'BeginningDateTime': '2023-05-04T16:31:32.101Z',\n",
              "   'EndingDateTime': '2023-05-04T16:31:55.992Z'}},\n",
              " 'GranuleUR': 'HLS.L30.T16RBT.2023124T163132.v2.0',\n",
              " 'AdditionalAttributes': [{'Name': 'LANDSAT_PRODUCT_ID',\n",
              "   'Values': ['LC08_L1TP_022039_20230504_20230504_02_RT',\n",
              "    'LC08_L1TP_022040_20230504_20230504_02_RT']},\n",
              "  {'Name': 'CLOUD_COVERAGE', 'Values': ['21']},\n",
              "  {'Name': 'MGRS_TILE_ID', 'Values': ['16RBT']},\n",
              "  {'Name': 'SPATIAL_COVERAGE', 'Values': ['57']},\n",
              "  {'Name': 'SPATIAL_RESOLUTION', 'Values': ['30.0']},\n",
              "  {'Name': 'SPATIAL_RESAMPLING_ALG', 'Values': ['Cubic Convolution']},\n",
              "  {'Name': 'HLS_PROCESSING_TIME', 'Values': ['2023-05-06T06:52:48Z']},\n",
              "  {'Name': 'SENSING_TIME',\n",
              "   'Values': ['2023-05-04T16:31:32.1012330Z', '2023-05-04T16:31:55.9922730Z']},\n",
              "  {'Name': 'HORIZONTAL_CS_NAME',\n",
              "   'Values': ['UTM, WGS84, UTM ZONE 15', 'UTM, WGS84, UTM ZONE 15']},\n",
              "  {'Name': 'ULX', 'Values': ['199980.0']},\n",
              "  {'Name': 'ULY', 'Values': ['3300000.0']},\n",
              "  {'Name': 'ADD_OFFSET', 'Values': ['0']},\n",
              "  {'Name': 'REF_SCALE_FACTOR', 'Values': ['0.0001']},\n",
              "  {'Name': 'THERM_SCALE_FACTOR', 'Values': ['0.01']},\n",
              "  {'Name': 'ANG_SCALE_FACTOR', 'Values': ['0.01']},\n",
              "  {'Name': 'FILLVALUE', 'Values': ['-9999']},\n",
              "  {'Name': 'QA_FILLVALUE', 'Values': ['255']},\n",
              "  {'Name': 'NCOLS', 'Values': ['3660']},\n",
              "  {'Name': 'NROWS', 'Values': ['3660']},\n",
              "  {'Name': 'MEAN_SUN_AZIMUTH_ANGLE', 'Values': ['119.99467788']},\n",
              "  {'Name': 'MEAN_SUN_ZENITH_ANGLE', 'Values': ['23.45547991']},\n",
              "  {'Name': 'MEAN_VIEW_AZIMUTH_ANGLE', 'Values': ['279.79005746']},\n",
              "  {'Name': 'MEAN_VIEW_ZENITH_ANGLE', 'Values': ['5.60121343']},\n",
              "  {'Name': 'NBAR_SOLAR_ZENITH', 'Values': ['22.2082246']},\n",
              "  {'Name': 'ACCODE', 'Values': ['LaSRC v3.0.5']},\n",
              "  {'Name': 'TIRS_SSM_MODEL', 'Values': ['PRELIMINARY', 'PRELIMINARY']},\n",
              "  {'Name': 'TIRS_SSM_POSITION_STATUS', 'Values': ['ESTIMATED', 'ESTIMATED']},\n",
              "  {'Name': 'USGS_SOFTWARE', 'Values': ['LPGS_16.2.0']},\n",
              "  {'Name': 'IDENTIFIER_PRODUCT_DOI', 'Values': ['10.5067/HLS/HLSL30.002']},\n",
              "  {'Name': 'IDENTIFIER_PRODUCT_DOI_AUTHORITY', 'Values': ['https://doi.org']}],\n",
              " 'SpatialExtent': {'HorizontalSpatialDomain': {'Geometry': {'GPolygons': [{'Boundary': {'Points': [{'Longitude': -90.07372506,\n",
              "         'Latitude': 28.80444525},\n",
              "        {'Longitude': -89.57473392, 'Latitude': 28.81489352},\n",
              "        {'Longitude': -89.30816409, 'Latitude': 29.81030157},\n",
              "        {'Longitude': -90.10353675, 'Latitude': 29.79400715},\n",
              "        {'Longitude': -90.07372506, 'Latitude': 28.80444525}]}}]}}},\n",
              " 'ProviderDates': [{'Date': '2023-05-06T06:54:50.344Z', 'Type': 'Insert'},\n",
              "  {'Date': '2023-05-06T06:54:50.344Z', 'Type': 'Update'}],\n",
              " 'CollectionReference': {'EntryTitle': 'HLS Landsat Operational Land Imager Surface Reflectance and TOA Brightness Daily Global 30m v2.0'},\n",
              " 'RelatedUrls': [{'URL': 'https://data.lpdaac.earthdatacloud.nasa.gov/lp-prod-protected/HLSL30.020/HLS.L30.T16RBT.2023124T163132.v2.0/HLS.L30.T16RBT.2023124T163132.v2.0.B03.tif',\n",
              "   'Type': 'GET DATA',\n",
              "   'Description': 'Download HLS.L30.T16RBT.2023124T163132.v2.0.B03.tif'},\n",
              "  {'URL': 's3://lp-prod-protected/HLSL30.020/HLS.L30.T16RBT.2023124T163132.v2.0/HLS.L30.T16RBT.2023124T163132.v2.0.B03.tif',\n",
              "   'Type': 'GET DATA VIA DIRECT ACCESS',\n",
              "   'Description': 'This link provides direct download access via S3 to the granule'},\n",
              "  {'URL': 'https://data.lpdaac.earthdatacloud.nasa.gov/lp-prod-protected/HLSL30.020/HLS.L30.T16RBT.2023124T163132.v2.0/HLS.L30.T16RBT.2023124T163132.v2.0.B07.tif',\n",
              "   'Type': 'GET DATA',\n",
              "   'Description': 'Download HLS.L30.T16RBT.2023124T163132.v2.0.B07.tif'},\n",
              "  {'URL': 's3://lp-prod-protected/HLSL30.020/HLS.L30.T16RBT.2023124T163132.v2.0/HLS.L30.T16RBT.2023124T163132.v2.0.B07.tif',\n",
              "   'Type': 'GET DATA VIA DIRECT ACCESS',\n",
              "   'Description': 'This link provides direct download access via S3 to the granule'},\n",
              "  {'URL': 'https://data.lpdaac.earthdatacloud.nasa.gov/lp-prod-protected/HLSL30.020/HLS.L30.T16RBT.2023124T163132.v2.0/HLS.L30.T16RBT.2023124T163132.v2.0.B06.tif',\n",
              "   'Type': 'GET DATA',\n",
              "   'Description': 'Download HLS.L30.T16RBT.2023124T163132.v2.0.B06.tif'},\n",
              "  {'URL': 's3://lp-prod-protected/HLSL30.020/HLS.L30.T16RBT.2023124T163132.v2.0/HLS.L30.T16RBT.2023124T163132.v2.0.B06.tif',\n",
              "   'Type': 'GET DATA VIA DIRECT ACCESS',\n",
              "   'Description': 'This link provides direct download access via S3 to the granule'},\n",
              "  {'URL': 'https://data.lpdaac.earthdatacloud.nasa.gov/lp-prod-protected/HLSL30.020/HLS.L30.T16RBT.2023124T163132.v2.0/HLS.L30.T16RBT.2023124T163132.v2.0.B02.tif',\n",
              "   'Type': 'GET DATA',\n",
              "   'Description': 'Download HLS.L30.T16RBT.2023124T163132.v2.0.B02.tif'},\n",
              "  {'URL': 's3://lp-prod-protected/HLSL30.020/HLS.L30.T16RBT.2023124T163132.v2.0/HLS.L30.T16RBT.2023124T163132.v2.0.B02.tif',\n",
              "   'Type': 'GET DATA VIA DIRECT ACCESS',\n",
              "   'Description': 'This link provides direct download access via S3 to the granule'},\n",
              "  {'URL': 'https://data.lpdaac.earthdatacloud.nasa.gov/lp-prod-protected/HLSL30.020/HLS.L30.T16RBT.2023124T163132.v2.0/HLS.L30.T16RBT.2023124T163132.v2.0.B01.tif',\n",
              "   'Type': 'GET DATA',\n",
              "   'Description': 'Download HLS.L30.T16RBT.2023124T163132.v2.0.B01.tif'},\n",
              "  {'URL': 's3://lp-prod-protected/HLSL30.020/HLS.L30.T16RBT.2023124T163132.v2.0/HLS.L30.T16RBT.2023124T163132.v2.0.B01.tif',\n",
              "   'Type': 'GET DATA VIA DIRECT ACCESS',\n",
              "   'Description': 'This link provides direct download access via S3 to the granule'},\n",
              "  {'URL': 'https://data.lpdaac.earthdatacloud.nasa.gov/lp-prod-protected/HLSL30.020/HLS.L30.T16RBT.2023124T163132.v2.0/HLS.L30.T16RBT.2023124T163132.v2.0.Fmask.tif',\n",
              "   'Type': 'GET DATA',\n",
              "   'Description': 'Download HLS.L30.T16RBT.2023124T163132.v2.0.Fmask.tif'},\n",
              "  {'URL': 's3://lp-prod-protected/HLSL30.020/HLS.L30.T16RBT.2023124T163132.v2.0/HLS.L30.T16RBT.2023124T163132.v2.0.Fmask.tif',\n",
              "   'Type': 'GET DATA VIA DIRECT ACCESS',\n",
              "   'Description': 'This link provides direct download access via S3 to the granule'},\n",
              "  {'URL': 'https://data.lpdaac.earthdatacloud.nasa.gov/lp-prod-protected/HLSL30.020/HLS.L30.T16RBT.2023124T163132.v2.0/HLS.L30.T16RBT.2023124T163132.v2.0.SZA.tif',\n",
              "   'Type': 'GET DATA',\n",
              "   'Description': 'Download HLS.L30.T16RBT.2023124T163132.v2.0.SZA.tif'},\n",
              "  {'URL': 's3://lp-prod-protected/HLSL30.020/HLS.L30.T16RBT.2023124T163132.v2.0/HLS.L30.T16RBT.2023124T163132.v2.0.SZA.tif',\n",
              "   'Type': 'GET DATA VIA DIRECT ACCESS',\n",
              "   'Description': 'This link provides direct download access via S3 to the granule'},\n",
              "  {'URL': 'https://data.lpdaac.earthdatacloud.nasa.gov/lp-prod-protected/HLSL30.020/HLS.L30.T16RBT.2023124T163132.v2.0/HLS.L30.T16RBT.2023124T163132.v2.0.SAA.tif',\n",
              "   'Type': 'GET DATA',\n",
              "   'Description': 'Download HLS.L30.T16RBT.2023124T163132.v2.0.SAA.tif'},\n",
              "  {'URL': 's3://lp-prod-protected/HLSL30.020/HLS.L30.T16RBT.2023124T163132.v2.0/HLS.L30.T16RBT.2023124T163132.v2.0.SAA.tif',\n",
              "   'Type': 'GET DATA VIA DIRECT ACCESS',\n",
              "   'Description': 'This link provides direct download access via S3 to the granule'},\n",
              "  {'URL': 'https://data.lpdaac.earthdatacloud.nasa.gov/lp-prod-protected/HLSL30.020/HLS.L30.T16RBT.2023124T163132.v2.0/HLS.L30.T16RBT.2023124T163132.v2.0.B05.tif',\n",
              "   'Type': 'GET DATA',\n",
              "   'Description': 'Download HLS.L30.T16RBT.2023124T163132.v2.0.B05.tif'},\n",
              "  {'URL': 's3://lp-prod-protected/HLSL30.020/HLS.L30.T16RBT.2023124T163132.v2.0/HLS.L30.T16RBT.2023124T163132.v2.0.B05.tif',\n",
              "   'Type': 'GET DATA VIA DIRECT ACCESS',\n",
              "   'Description': 'This link provides direct download access via S3 to the granule'},\n",
              "  {'URL': 'https://data.lpdaac.earthdatacloud.nasa.gov/lp-prod-protected/HLSL30.020/HLS.L30.T16RBT.2023124T163132.v2.0/HLS.L30.T16RBT.2023124T163132.v2.0.VAA.tif',\n",
              "   'Type': 'GET DATA',\n",
              "   'Description': 'Download HLS.L30.T16RBT.2023124T163132.v2.0.VAA.tif'},\n",
              "  {'URL': 's3://lp-prod-protected/HLSL30.020/HLS.L30.T16RBT.2023124T163132.v2.0/HLS.L30.T16RBT.2023124T163132.v2.0.VAA.tif',\n",
              "   'Type': 'GET DATA VIA DIRECT ACCESS',\n",
              "   'Description': 'This link provides direct download access via S3 to the granule'},\n",
              "  {'URL': 'https://data.lpdaac.earthdatacloud.nasa.gov/lp-prod-protected/HLSL30.020/HLS.L30.T16RBT.2023124T163132.v2.0/HLS.L30.T16RBT.2023124T163132.v2.0.B10.tif',\n",
              "   'Type': 'GET DATA',\n",
              "   'Description': 'Download HLS.L30.T16RBT.2023124T163132.v2.0.B10.tif'},\n",
              "  {'URL': 's3://lp-prod-protected/HLSL30.020/HLS.L30.T16RBT.2023124T163132.v2.0/HLS.L30.T16RBT.2023124T163132.v2.0.B10.tif',\n",
              "   'Type': 'GET DATA VIA DIRECT ACCESS',\n",
              "   'Description': 'This link provides direct download access via S3 to the granule'},\n",
              "  {'URL': 'https://data.lpdaac.earthdatacloud.nasa.gov/lp-prod-protected/HLSL30.020/HLS.L30.T16RBT.2023124T163132.v2.0/HLS.L30.T16RBT.2023124T163132.v2.0.B09.tif',\n",
              "   'Type': 'GET DATA',\n",
              "   'Description': 'Download HLS.L30.T16RBT.2023124T163132.v2.0.B09.tif'},\n",
              "  {'URL': 's3://lp-prod-protected/HLSL30.020/HLS.L30.T16RBT.2023124T163132.v2.0/HLS.L30.T16RBT.2023124T163132.v2.0.B09.tif',\n",
              "   'Type': 'GET DATA VIA DIRECT ACCESS',\n",
              "   'Description': 'This link provides direct download access via S3 to the granule'},\n",
              "  {'URL': 'https://data.lpdaac.earthdatacloud.nasa.gov/lp-prod-protected/HLSL30.020/HLS.L30.T16RBT.2023124T163132.v2.0/HLS.L30.T16RBT.2023124T163132.v2.0.B11.tif',\n",
              "   'Type': 'GET DATA',\n",
              "   'Description': 'Download HLS.L30.T16RBT.2023124T163132.v2.0.B11.tif'},\n",
              "  {'URL': 's3://lp-prod-protected/HLSL30.020/HLS.L30.T16RBT.2023124T163132.v2.0/HLS.L30.T16RBT.2023124T163132.v2.0.B11.tif',\n",
              "   'Type': 'GET DATA VIA DIRECT ACCESS',\n",
              "   'Description': 'This link provides direct download access via S3 to the granule'},\n",
              "  {'URL': 'https://data.lpdaac.earthdatacloud.nasa.gov/lp-prod-protected/HLSL30.020/HLS.L30.T16RBT.2023124T163132.v2.0/HLS.L30.T16RBT.2023124T163132.v2.0.B04.tif',\n",
              "   'Type': 'GET DATA',\n",
              "   'Description': 'Download HLS.L30.T16RBT.2023124T163132.v2.0.B04.tif'},\n",
              "  {'URL': 's3://lp-prod-protected/HLSL30.020/HLS.L30.T16RBT.2023124T163132.v2.0/HLS.L30.T16RBT.2023124T163132.v2.0.B04.tif',\n",
              "   'Type': 'GET DATA VIA DIRECT ACCESS',\n",
              "   'Description': 'This link provides direct download access via S3 to the granule'},\n",
              "  {'URL': 'https://data.lpdaac.earthdatacloud.nasa.gov/lp-prod-protected/HLSL30.020/HLS.L30.T16RBT.2023124T163132.v2.0/HLS.L30.T16RBT.2023124T163132.v2.0.VZA.tif',\n",
              "   'Type': 'GET DATA',\n",
              "   'Description': 'Download HLS.L30.T16RBT.2023124T163132.v2.0.VZA.tif'},\n",
              "  {'URL': 's3://lp-prod-protected/HLSL30.020/HLS.L30.T16RBT.2023124T163132.v2.0/HLS.L30.T16RBT.2023124T163132.v2.0.VZA.tif',\n",
              "   'Type': 'GET DATA VIA DIRECT ACCESS',\n",
              "   'Description': 'This link provides direct download access via S3 to the granule'},\n",
              "  {'URL': 'https://data.lpdaac.earthdatacloud.nasa.gov/lp-prod-public/HLSL30.020/HLS.L30.T16RBT.2023124T163132.v2.0/HLS.L30.T16RBT.2023124T163132.v2.0_stac.json',\n",
              "   'Type': 'VIEW RELATED INFORMATION',\n",
              "   'Description': 'Download HLS.L30.T16RBT.2023124T163132.v2.0_stac.json'},\n",
              "  {'URL': 's3://lp-prod-public/HLSL30.020/HLS.L30.T16RBT.2023124T163132.v2.0/HLS.L30.T16RBT.2023124T163132.v2.0_stac.json',\n",
              "   'Type': 'VIEW RELATED INFORMATION',\n",
              "   'Description': 'This link provides direct download access via S3 to the granule'},\n",
              "  {'URL': 'https://data.lpdaac.earthdatacloud.nasa.gov/lp-prod-protected/HLSL30.020/HLS.L30.T16RBT.2023124T163132.v2.0/HLS.L30.T16RBT.2023124T163132.v2.0.cmr.xml',\n",
              "   'Type': 'VIEW RELATED INFORMATION',\n",
              "   'Description': 'Download HLS.L30.T16RBT.2023124T163132.v2.0.cmr.xml'},\n",
              "  {'URL': 's3://lp-prod-protected/HLSL30.020/HLS.L30.T16RBT.2023124T163132.v2.0/HLS.L30.T16RBT.2023124T163132.v2.0.cmr.xml',\n",
              "   'Type': 'VIEW RELATED INFORMATION',\n",
              "   'Description': 'This link provides direct download access via S3 to the granule'},\n",
              "  {'URL': 'https://data.lpdaac.earthdatacloud.nasa.gov/s3credentials',\n",
              "   'Type': 'VIEW RELATED INFORMATION',\n",
              "   'Description': 'api endpoint to retrieve temporary credentials valid for same-region direct s3 access'},\n",
              "  {'URL': 'https://data.lpdaac.earthdatacloud.nasa.gov/lp-prod-public/HLSL30.020/HLS.L30.T16RBT.2023124T163132.v2.0/HLS.L30.T16RBT.2023124T163132.v2.0.jpg',\n",
              "   'Type': 'GET RELATED VISUALIZATION',\n",
              "   'Description': 'Download HLS.L30.T16RBT.2023124T163132.v2.0.jpg'},\n",
              "  {'URL': 's3://lp-prod-public/HLSL30.020/HLS.L30.T16RBT.2023124T163132.v2.0/HLS.L30.T16RBT.2023124T163132.v2.0.jpg',\n",
              "   'Type': 'GET RELATED VISUALIZATION',\n",
              "   'Description': 'This link provides direct download access via S3 to the granule'}],\n",
              " 'DataGranule': {'DayNightFlag': 'Day',\n",
              "  'Identifiers': [{'Identifier': 'HLS.L30.T16RBT.2023124T163132',\n",
              "    'IdentifierType': 'ProducerGranuleId'}],\n",
              "  'ProductionDateTime': '2023-05-06T06:52:48.000Z',\n",
              "  'ArchiveAndDistributionInformation': [{'Name': 'Not provided',\n",
              "    'SizeInBytes': 91909757,\n",
              "    'SizeUnit': 'MB'}]},\n",
              " 'Platforms': [{'ShortName': 'LANDSAT-8',\n",
              "   'Instruments': [{'ShortName': 'OLI'}]}],\n",
              " 'MetadataSpecification': {'URL': 'https://cdn.earthdata.nasa.gov/umm/granule/v1.6.6',\n",
              "  'Name': 'UMM-G',\n",
              "  'Version': '1.6.6'}}"
            ]
          },
          "execution_count": 13,
          "metadata": {},
          "output_type": "execute_result"
        }
      ],
      "source": [
        "# look at the 'umm' column for the first row\n",
        "wbd_hls_gdf['umm'].loc[0]"
      ]
    },
    {
      "cell_type": "code",
      "execution_count": 14,
      "id": "47d361ed",
      "metadata": {},
      "outputs": [
        {
          "data": {
            "text/plain": [
              "'HLS.L30.T16RBT.2023124T163132.v2.0'"
            ]
          },
          "execution_count": 14,
          "metadata": {},
          "output_type": "execute_result"
        }
      ],
      "source": [
        "# isolate the granule ID (UR) for the first row\n",
        "row1 = list(wbd_hls_gdf['umm'].loc[0].values())\n",
        "row1[1]"
      ]
    },
    {
      "cell_type": "code",
      "execution_count": 15,
      "id": "c9940f2a",
      "metadata": {},
      "outputs": [
        {
          "data": {
            "text/plain": [
              "{'RangeDateTime': {'BeginningDateTime': '2023-05-04T16:31:32.101Z',\n",
              "  'EndingDateTime': '2023-05-04T16:31:55.992Z'}}"
            ]
          },
          "execution_count": 15,
          "metadata": {},
          "output_type": "execute_result"
        }
      ],
      "source": [
        "# isolate the datetime for the first row\n",
        "row1[0]\n"
      ]
    },
    {
      "cell_type": "code",
      "execution_count": 16,
      "id": "5be44b18",
      "metadata": {},
      "outputs": [
        {
          "data": {
            "text/plain": [
              "['TemporalExtent',\n",
              " 'GranuleUR',\n",
              " 'AdditionalAttributes',\n",
              " 'SpatialExtent',\n",
              " 'ProviderDates',\n",
              " 'CollectionReference',\n",
              " 'RelatedUrls',\n",
              " 'DataGranule',\n",
              " 'Platforms',\n",
              " 'MetadataSpecification']"
            ]
          },
          "execution_count": 16,
          "metadata": {},
          "output_type": "execute_result"
        }
      ],
      "source": [
        "# identify the keys for the first row\n",
        "# the geometry, 'SpatialExtent' key is index 3\n",
        "row1_keys = list(wbd_hls_gdf['umm'].loc[0].keys())\n",
        "row1_keys\n"
      ]
    },
    {
      "cell_type": "code",
      "execution_count": 17,
      "id": "98029cf1",
      "metadata": {},
      "outputs": [
        {
          "data": {
            "text/plain": [
              "{'HorizontalSpatialDomain': {'Geometry': {'GPolygons': [{'Boundary': {'Points': [{'Longitude': -90.07372506,\n",
              "        'Latitude': 28.80444525},\n",
              "       {'Longitude': -89.57473392, 'Latitude': 28.81489352},\n",
              "       {'Longitude': -89.30816409, 'Latitude': 29.81030157},\n",
              "       {'Longitude': -90.10353675, 'Latitude': 29.79400715},\n",
              "       {'Longitude': -90.07372506, 'Latitude': 28.80444525}]}}]}}}"
            ]
          },
          "execution_count": 17,
          "metadata": {},
          "output_type": "execute_result"
        }
      ],
      "source": [
        "# isolate the SpatialExtent for the first row\n",
        "# this is a dictionary\n",
        "test = row1[3]\n",
        "test"
      ]
    },
    {
      "cell_type": "code",
      "execution_count": 18,
      "id": "1ad10f8a",
      "metadata": {},
      "outputs": [
        {
          "name": "stdout",
          "output_type": "stream",
          "text": [
            "[{'Longitude': -90.07372506, 'Latitude': 28.80444525}, {'Longitude': -89.57473392, 'Latitude': 28.81489352}, {'Longitude': -89.30816409, 'Latitude': 29.81030157}, {'Longitude': -90.10353675, 'Latitude': 29.79400715}, {'Longitude': -90.07372506, 'Latitude': 28.80444525}]\n",
            "POLYGON ((-90.07372506 28.80444525, -89.57473392 28.81489352, -89.30816409 29.81030157, -90.10353675 29.79400715, -90.07372506 28.80444525))\n"
          ]
        }
      ],
      "source": [
        "# The first part of Elsa's loop to compile info abt each granule\n",
        "# granule = the first result\n",
        "granule = wbd_hls_results[0]\n",
        "# look at just the metadata, umm, of the first result\n",
        "info_dict = granule['umm']\n",
        "# create a list of all points, lat/lon, for the first result from the umm column of the first result\n",
        "points = (\n",
        "    info_dict\n",
        "    # select the first thing in the GPolygons list\n",
        "    ['SpatialExtent']['HorizontalSpatialDomain']['Geometry']['GPolygons'][0]\n",
        "    ['Boundary']['Points'])\n",
        "# create the geometry (Polygon) of the first result using Polygon from shapely\n",
        "# loop through all the points in our points list and get the lat/long for each one to create the geometry\n",
        "geometry = Polygon(\n",
        "    [(point['Longitude'], point['Latitude']) for point in points])\n",
        "\n",
        "print(points)\n",
        "print(geometry)"
      ]
    },
    {
      "cell_type": "code",
      "execution_count": 19,
      "id": "67b83f58",
      "metadata": {},
      "outputs": [
        {
          "data": {
            "application/vnd.jupyter.widget-view+json": {
              "model_id": "5b44f54569d845ed9c04dcbf23bb1fcd",
              "version_major": 2,
              "version_minor": 0
            },
            "text/plain": [
              "QUEUEING TASKS | :   0%|          | 0/15 [00:00<?, ?it/s]"
            ]
          },
          "metadata": {},
          "output_type": "display_data"
        },
        {
          "data": {
            "application/vnd.jupyter.widget-view+json": {
              "model_id": "99041d10021c4a8b95d7e99b9afcd69c",
              "version_major": 2,
              "version_minor": 0
            },
            "text/plain": [
              "PROCESSING TASKS | :   0%|          | 0/15 [00:00<?, ?it/s]"
            ]
          },
          "metadata": {},
          "output_type": "display_data"
        },
        {
          "data": {
            "application/vnd.jupyter.widget-view+json": {
              "model_id": "cfef501ae6454f08b2440d8d90f136de",
              "version_major": 2,
              "version_minor": 0
            },
            "text/plain": [
              "COLLECTING RESULTS | :   0%|          | 0/15 [00:00<?, ?it/s]"
            ]
          },
          "metadata": {},
          "output_type": "display_data"
        }
      ],
      "source": [
        "# open test granule\n",
        "opened_granule = earthaccess.open([granule])"
      ]
    },
    {
      "cell_type": "code",
      "execution_count": 20,
      "id": "0bad5ebe",
      "metadata": {},
      "outputs": [
        {
          "data": {
            "text/plain": [
              "[<File-like object HTTPFileSystem, https://data.lpdaac.earthdatacloud.nasa.gov/lp-prod-protected/HLSL30.020/HLS.L30.T16RBT.2023124T163132.v2.0/HLS.L30.T16RBT.2023124T163132.v2.0.B03.tif>,\n",
              " <File-like object HTTPFileSystem, https://data.lpdaac.earthdatacloud.nasa.gov/lp-prod-protected/HLSL30.020/HLS.L30.T16RBT.2023124T163132.v2.0/HLS.L30.T16RBT.2023124T163132.v2.0.B07.tif>,\n",
              " <File-like object HTTPFileSystem, https://data.lpdaac.earthdatacloud.nasa.gov/lp-prod-protected/HLSL30.020/HLS.L30.T16RBT.2023124T163132.v2.0/HLS.L30.T16RBT.2023124T163132.v2.0.B06.tif>,\n",
              " <File-like object HTTPFileSystem, https://data.lpdaac.earthdatacloud.nasa.gov/lp-prod-protected/HLSL30.020/HLS.L30.T16RBT.2023124T163132.v2.0/HLS.L30.T16RBT.2023124T163132.v2.0.B02.tif>,\n",
              " <File-like object HTTPFileSystem, https://data.lpdaac.earthdatacloud.nasa.gov/lp-prod-protected/HLSL30.020/HLS.L30.T16RBT.2023124T163132.v2.0/HLS.L30.T16RBT.2023124T163132.v2.0.B01.tif>,\n",
              " <File-like object HTTPFileSystem, https://data.lpdaac.earthdatacloud.nasa.gov/lp-prod-protected/HLSL30.020/HLS.L30.T16RBT.2023124T163132.v2.0/HLS.L30.T16RBT.2023124T163132.v2.0.Fmask.tif>,\n",
              " <File-like object HTTPFileSystem, https://data.lpdaac.earthdatacloud.nasa.gov/lp-prod-protected/HLSL30.020/HLS.L30.T16RBT.2023124T163132.v2.0/HLS.L30.T16RBT.2023124T163132.v2.0.SZA.tif>,\n",
              " <File-like object HTTPFileSystem, https://data.lpdaac.earthdatacloud.nasa.gov/lp-prod-protected/HLSL30.020/HLS.L30.T16RBT.2023124T163132.v2.0/HLS.L30.T16RBT.2023124T163132.v2.0.SAA.tif>,\n",
              " <File-like object HTTPFileSystem, https://data.lpdaac.earthdatacloud.nasa.gov/lp-prod-protected/HLSL30.020/HLS.L30.T16RBT.2023124T163132.v2.0/HLS.L30.T16RBT.2023124T163132.v2.0.B05.tif>,\n",
              " <File-like object HTTPFileSystem, https://data.lpdaac.earthdatacloud.nasa.gov/lp-prod-protected/HLSL30.020/HLS.L30.T16RBT.2023124T163132.v2.0/HLS.L30.T16RBT.2023124T163132.v2.0.VAA.tif>,\n",
              " <File-like object HTTPFileSystem, https://data.lpdaac.earthdatacloud.nasa.gov/lp-prod-protected/HLSL30.020/HLS.L30.T16RBT.2023124T163132.v2.0/HLS.L30.T16RBT.2023124T163132.v2.0.B10.tif>,\n",
              " <File-like object HTTPFileSystem, https://data.lpdaac.earthdatacloud.nasa.gov/lp-prod-protected/HLSL30.020/HLS.L30.T16RBT.2023124T163132.v2.0/HLS.L30.T16RBT.2023124T163132.v2.0.B09.tif>,\n",
              " <File-like object HTTPFileSystem, https://data.lpdaac.earthdatacloud.nasa.gov/lp-prod-protected/HLSL30.020/HLS.L30.T16RBT.2023124T163132.v2.0/HLS.L30.T16RBT.2023124T163132.v2.0.B11.tif>,\n",
              " <File-like object HTTPFileSystem, https://data.lpdaac.earthdatacloud.nasa.gov/lp-prod-protected/HLSL30.020/HLS.L30.T16RBT.2023124T163132.v2.0/HLS.L30.T16RBT.2023124T163132.v2.0.B04.tif>,\n",
              " <File-like object HTTPFileSystem, https://data.lpdaac.earthdatacloud.nasa.gov/lp-prod-protected/HLSL30.020/HLS.L30.T16RBT.2023124T163132.v2.0/HLS.L30.T16RBT.2023124T163132.v2.0.VZA.tif>]"
            ]
          },
          "execution_count": 20,
          "metadata": {},
          "output_type": "execute_result"
        }
      ],
      "source": [
        "# look at opened_granule\n",
        "# 15 different .tif files, each for a different band\n",
        "opened_granule"
      ]
    },
    {
      "cell_type": "code",
      "execution_count": 21,
      "id": "44e2e6b9",
      "metadata": {},
      "outputs": [
        {
          "data": {
            "text/plain": [
              "{'tile_id': 'T16RBT', 'date': '2023124', 'band_id': 'B03'}"
            ]
          },
          "execution_count": 21,
          "metadata": {},
          "output_type": "execute_result"
        }
      ],
      "source": [
        "# get tile ids and band numbers for the granule\n",
        "# Compile a regular expression to search for metadata\n",
        "# the r indicates this is a raw string and highlights all escaped characters (the dots), limits our need to escape special characters\n",
        "uri_re = re.compile(\n",
        "    r\"HLS\\.L30\\.(?P<tile_id>T[0-9A-Z]+)\\.(?P<date>\\d+)T\\d+\\.v2\\.0\\.\"\n",
        "    r\"(?P<band_id>.+)\\.tif\"\n",
        ")\n",
        "\n",
        "#this yields a dictionary with the tile id, date, and band id\n",
        "# 0 index above is B03, green band\n",
        "# the date is the 124 day of 2023\n",
        "uri_re.search(opened_granule[0].full_name).groupdict()"
      ]
    },
    {
      "cell_type": "markdown",
      "id": "87440baa",
      "metadata": {},
      "source": [
        "Use above code to start trying to craft for loop(s)"
      ]
    },
    {
      "cell_type": "code",
      "execution_count": null,
      "id": "3232b393",
      "metadata": {},
      "outputs": [
        {
          "data": {
            "application/vnd.jupyter.widget-view+json": {
              "model_id": "844edd92b6a94059ac90e75f61877996",
              "version_major": 2,
              "version_minor": 0
            },
            "text/plain": [
              "  0%|          | 0/88 [00:00<?, ?it/s]"
            ]
          },
          "metadata": {},
          "output_type": "display_data"
        },
        {
          "data": {
            "text/html": [
              "<div>\n",
              "<style scoped>\n",
              "    .dataframe tbody tr th:only-of-type {\n",
              "        vertical-align: middle;\n",
              "    }\n",
              "\n",
              "    .dataframe tbody tr th {\n",
              "        vertical-align: top;\n",
              "    }\n",
              "\n",
              "    .dataframe thead th {\n",
              "        text-align: right;\n",
              "    }\n",
              "</style>\n",
              "<table border=\"1\" class=\"dataframe\">\n",
              "  <thead>\n",
              "    <tr style=\"text-align: right;\">\n",
              "      <th></th>\n",
              "      <th>granule_ids</th>\n",
              "      <th>granule_datetimes</th>\n",
              "      <th>geometry</th>\n",
              "    </tr>\n",
              "  </thead>\n",
              "  <tbody>\n",
              "    <tr>\n",
              "      <th>0</th>\n",
              "      <td>HLS.L30.T16RBT.2023124T163132.v2.0</td>\n",
              "      <td>2023-05-04 16:31:32.101000+00:00</td>\n",
              "      <td>POLYGON ((-90.07373 28.80445, -89.57473 28.814...</td>\n",
              "    </tr>\n",
              "    <tr>\n",
              "      <th>1</th>\n",
              "      <td>HLS.L30.T15RYN.2023124T163132.v2.0</td>\n",
              "      <td>2023-05-04 16:31:32.101000+00:00</td>\n",
              "      <td>POLYGON ((-89.82661 28.80214, -89.79584 29.791...</td>\n",
              "    </tr>\n",
              "    <tr>\n",
              "      <th>2</th>\n",
              "      <td>HLS.L30.T15RYP.2023124T163132.v2.0</td>\n",
              "      <td>2023-05-04 16:31:32.101000+00:00</td>\n",
              "      <td>POLYGON ((-89.79864 29.70348, -89.76644 30.692...</td>\n",
              "    </tr>\n",
              "    <tr>\n",
              "      <th>3</th>\n",
              "      <td>HLS.L30.T16RBU.2023124T163132.v2.0</td>\n",
              "      <td>2023-05-04 16:31:32.101000+00:00</td>\n",
              "      <td>POLYGON ((-90.10082 29.70587, -89.33187 29.721...</td>\n",
              "    </tr>\n",
              "    <tr>\n",
              "      <th>4</th>\n",
              "      <td>HLS.L30.T16RBT.2023132T163144.v2.0</td>\n",
              "      <td>2023-05-12 16:31:44.329000+00:00</td>\n",
              "      <td>POLYGON ((-90.07373 28.80445, -89.56183 28.815...</td>\n",
              "    </tr>\n",
              "    <tr>\n",
              "      <th>...</th>\n",
              "      <td>...</td>\n",
              "      <td>...</td>\n",
              "      <td>...</td>\n",
              "    </tr>\n",
              "    <tr>\n",
              "      <th>83</th>\n",
              "      <td>HLS.L30.T16RBU.2023292T163221.v2.0</td>\n",
              "      <td>2023-10-19 16:32:21.176000+00:00</td>\n",
              "      <td>POLYGON ((-90.10082 29.70587, -89.31483 29.722...</td>\n",
              "    </tr>\n",
              "    <tr>\n",
              "      <th>84</th>\n",
              "      <td>HLS.L30.T16RBU.2023300T163218.v2.0</td>\n",
              "      <td>2023-10-27 16:32:18.830000+00:00</td>\n",
              "      <td>POLYGON ((-90.10082 29.70587, -89.30583 29.722...</td>\n",
              "    </tr>\n",
              "    <tr>\n",
              "      <th>85</th>\n",
              "      <td>HLS.L30.T15RYN.2023300T163218.v2.0</td>\n",
              "      <td>2023-10-27 16:32:18.830000+00:00</td>\n",
              "      <td>POLYGON ((-89.82661 28.80214, -89.79584 29.791...</td>\n",
              "    </tr>\n",
              "    <tr>\n",
              "      <th>86</th>\n",
              "      <td>HLS.L30.T16RBT.2023300T163218.v2.0</td>\n",
              "      <td>2023-10-27 16:32:18.830000+00:00</td>\n",
              "      <td>POLYGON ((-90.07373 28.80445, -89.54924 28.815...</td>\n",
              "    </tr>\n",
              "    <tr>\n",
              "      <th>87</th>\n",
              "      <td>HLS.L30.T15RYP.2023300T163218.v2.0</td>\n",
              "      <td>2023-10-27 16:32:18.830000+00:00</td>\n",
              "      <td>POLYGON ((-89.79864 29.70348, -89.76644 30.692...</td>\n",
              "    </tr>\n",
              "  </tbody>\n",
              "</table>\n",
              "<p>88 rows × 3 columns</p>\n",
              "</div>"
            ],
            "text/plain": [
              "                           granule_ids                granule_datetimes  \\\n",
              "0   HLS.L30.T16RBT.2023124T163132.v2.0 2023-05-04 16:31:32.101000+00:00   \n",
              "1   HLS.L30.T15RYN.2023124T163132.v2.0 2023-05-04 16:31:32.101000+00:00   \n",
              "2   HLS.L30.T15RYP.2023124T163132.v2.0 2023-05-04 16:31:32.101000+00:00   \n",
              "3   HLS.L30.T16RBU.2023124T163132.v2.0 2023-05-04 16:31:32.101000+00:00   \n",
              "4   HLS.L30.T16RBT.2023132T163144.v2.0 2023-05-12 16:31:44.329000+00:00   \n",
              "..                                 ...                              ...   \n",
              "83  HLS.L30.T16RBU.2023292T163221.v2.0 2023-10-19 16:32:21.176000+00:00   \n",
              "84  HLS.L30.T16RBU.2023300T163218.v2.0 2023-10-27 16:32:18.830000+00:00   \n",
              "85  HLS.L30.T15RYN.2023300T163218.v2.0 2023-10-27 16:32:18.830000+00:00   \n",
              "86  HLS.L30.T16RBT.2023300T163218.v2.0 2023-10-27 16:32:18.830000+00:00   \n",
              "87  HLS.L30.T15RYP.2023300T163218.v2.0 2023-10-27 16:32:18.830000+00:00   \n",
              "\n",
              "                                             geometry  \n",
              "0   POLYGON ((-90.07373 28.80445, -89.57473 28.814...  \n",
              "1   POLYGON ((-89.82661 28.80214, -89.79584 29.791...  \n",
              "2   POLYGON ((-89.79864 29.70348, -89.76644 30.692...  \n",
              "3   POLYGON ((-90.10082 29.70587, -89.33187 29.721...  \n",
              "4   POLYGON ((-90.07373 28.80445, -89.56183 28.815...  \n",
              "..                                                ...  \n",
              "83  POLYGON ((-90.10082 29.70587, -89.31483 29.722...  \n",
              "84  POLYGON ((-90.10082 29.70587, -89.30583 29.722...  \n",
              "85  POLYGON ((-89.82661 28.80214, -89.79584 29.791...  \n",
              "86  POLYGON ((-90.07373 28.80445, -89.54924 28.815...  \n",
              "87  POLYGON ((-89.79864 29.70348, -89.76644 30.692...  \n",
              "\n",
              "[88 rows x 3 columns]"
            ]
          },
          "execution_count": 22,
          "metadata": {},
          "output_type": "execute_result"
        }
      ],
      "source": [
        "# Get granule metadata (ID (UR), datetime, and geometry)\n",
        "\n",
        "## create empty lists to add metadata to\n",
        "granule_ids = []\n",
        "granule_datetimes = []\n",
        "granule_geometries = []\n",
        "\n",
        "## set up for loop, tqdm creates a progress bar\n",
        "## for each row in the wbd_gls_results...\n",
        "for row in tqdm(wbd_hls_results):\n",
        "    metadata = row['umm']\n",
        "    ## identify the granule_id and append it to the granule_ids list\n",
        "    granule_id = metadata['GranuleUR']\n",
        "    granule_ids.append(granule_id)\n",
        "\n",
        "    ## identify the granule_datetime and append it to the granule_datetimes list\n",
        "    granule_datetime = pd.to_datetime(metadata\n",
        "        ['TemporalExtent']['RangeDateTime']['BeginningDateTime'])\n",
        "    granule_datetimes.append(granule_datetime)\n",
        "\n",
        "    ## identify the granule_geometry and append it to the granule_geometries list\n",
        "    ## create a list of all points, lat/lon, for the first result from the umm column of the first result\n",
        "    points = (\n",
        "        metadata\n",
        "        # select the first thing in the GPolygons list\n",
        "        ['SpatialExtent']['HorizontalSpatialDomain']['Geometry']['GPolygons'][0]\n",
        "        ['Boundary']['Points'])\n",
        "    ## create the geometry (Polygon) of the first result using Polygon from shapely\n",
        "    ## loop through all the points in our points list and get the lat/long for each one to create the geometry\n",
        "    geometry = Polygon(\n",
        "        [(point['Longitude'], point['Latitude']) for point in points])\n",
        "    granule_geometries.append(geometry)"
      ]
    },
    {
      "cell_type": "code",
      "execution_count": null,
      "id": "c0bd19f2",
      "metadata": {},
      "outputs": [
        {
          "data": {
            "application/vnd.jupyter.widget-view+json": {
              "model_id": "41fcedd1605d4475bb198b4619bcb8b8",
              "version_major": 2,
              "version_minor": 0
            },
            "text/plain": [
              "  0%|          | 0/88 [00:00<?, ?it/s]"
            ]
          },
          "metadata": {},
          "output_type": "display_data"
        },
        {
          "data": {
            "application/vnd.jupyter.widget-view+json": {
              "model_id": "78eac2e953d44ce1a4dc72726418acd4",
              "version_major": 2,
              "version_minor": 0
            },
            "text/plain": [
              "QUEUEING TASKS | :   0%|          | 0/15 [00:00<?, ?it/s]"
            ]
          },
          "metadata": {},
          "output_type": "display_data"
        },
        {
          "data": {
            "application/vnd.jupyter.widget-view+json": {
              "model_id": "4aee64e2bd3a4b2fb83123fc810d0456",
              "version_major": 2,
              "version_minor": 0
            },
            "text/plain": [
              "PROCESSING TASKS | :   0%|          | 0/15 [00:00<?, ?it/s]"
            ]
          },
          "metadata": {},
          "output_type": "display_data"
        },
        {
          "data": {
            "application/vnd.jupyter.widget-view+json": {
              "model_id": "d2cef5edb1684ca294b090e188138c5d",
              "version_major": 2,
              "version_minor": 0
            },
            "text/plain": [
              "COLLECTING RESULTS | :   0%|          | 0/15 [00:00<?, ?it/s]"
            ]
          },
          "metadata": {},
          "output_type": "display_data"
        },
        {
          "data": {
            "application/vnd.jupyter.widget-view+json": {
              "model_id": "a51c34908a5040ac85e36194764d8be6",
              "version_major": 2,
              "version_minor": 0
            },
            "text/plain": [
              "QUEUEING TASKS | :   0%|          | 0/15 [00:00<?, ?it/s]"
            ]
          },
          "metadata": {},
          "output_type": "display_data"
        },
        {
          "data": {
            "application/vnd.jupyter.widget-view+json": {
              "model_id": "0e769946489f41a89cb363b078a8bcf6",
              "version_major": 2,
              "version_minor": 0
            },
            "text/plain": [
              "PROCESSING TASKS | :   0%|          | 0/15 [00:00<?, ?it/s]"
            ]
          },
          "metadata": {},
          "output_type": "display_data"
        },
        {
          "data": {
            "application/vnd.jupyter.widget-view+json": {
              "model_id": "b10cf994fd0a4a0caffcc74f6f6aab72",
              "version_major": 2,
              "version_minor": 0
            },
            "text/plain": [
              "COLLECTING RESULTS | :   0%|          | 0/15 [00:00<?, ?it/s]"
            ]
          },
          "metadata": {},
          "output_type": "display_data"
        },
        {
          "data": {
            "application/vnd.jupyter.widget-view+json": {
              "model_id": "95ab8d82962b4090baf3f9950b0bf954",
              "version_major": 2,
              "version_minor": 0
            },
            "text/plain": [
              "QUEUEING TASKS | :   0%|          | 0/15 [00:00<?, ?it/s]"
            ]
          },
          "metadata": {},
          "output_type": "display_data"
        },
        {
          "data": {
            "application/vnd.jupyter.widget-view+json": {
              "model_id": "6e96be015e4843ce8ca4b02dbe6d91de",
              "version_major": 2,
              "version_minor": 0
            },
            "text/plain": [
              "PROCESSING TASKS | :   0%|          | 0/15 [00:00<?, ?it/s]"
            ]
          },
          "metadata": {},
          "output_type": "display_data"
        },
        {
          "data": {
            "application/vnd.jupyter.widget-view+json": {
              "model_id": "7985241c45b842d1be914f1e543d1bed",
              "version_major": 2,
              "version_minor": 0
            },
            "text/plain": [
              "COLLECTING RESULTS | :   0%|          | 0/15 [00:00<?, ?it/s]"
            ]
          },
          "metadata": {},
          "output_type": "display_data"
        },
        {
          "data": {
            "application/vnd.jupyter.widget-view+json": {
              "model_id": "70bf1a83f0c24cea8968dea03f30a6bb",
              "version_major": 2,
              "version_minor": 0
            },
            "text/plain": [
              "QUEUEING TASKS | :   0%|          | 0/15 [00:00<?, ?it/s]"
            ]
          },
          "metadata": {},
          "output_type": "display_data"
        },
        {
          "data": {
            "application/vnd.jupyter.widget-view+json": {
              "model_id": "47936b442fb2403c9590782754e1e98f",
              "version_major": 2,
              "version_minor": 0
            },
            "text/plain": [
              "PROCESSING TASKS | :   0%|          | 0/15 [00:00<?, ?it/s]"
            ]
          },
          "metadata": {},
          "output_type": "display_data"
        },
        {
          "data": {
            "application/vnd.jupyter.widget-view+json": {
              "model_id": "11cb648ea3fc4edab67e5fc8c8f1877c",
              "version_major": 2,
              "version_minor": 0
            },
            "text/plain": [
              "COLLECTING RESULTS | :   0%|          | 0/15 [00:00<?, ?it/s]"
            ]
          },
          "metadata": {},
          "output_type": "display_data"
        },
        {
          "data": {
            "application/vnd.jupyter.widget-view+json": {
              "model_id": "a146f58967314d729366755d289d926b",
              "version_major": 2,
              "version_minor": 0
            },
            "text/plain": [
              "QUEUEING TASKS | :   0%|          | 0/15 [00:00<?, ?it/s]"
            ]
          },
          "metadata": {},
          "output_type": "display_data"
        },
        {
          "data": {
            "application/vnd.jupyter.widget-view+json": {
              "model_id": "d70b1822da4b447a882dc3e6f524f00f",
              "version_major": 2,
              "version_minor": 0
            },
            "text/plain": [
              "PROCESSING TASKS | :   0%|          | 0/15 [00:00<?, ?it/s]"
            ]
          },
          "metadata": {},
          "output_type": "display_data"
        },
        {
          "data": {
            "application/vnd.jupyter.widget-view+json": {
              "model_id": "378d9808e06845a98154073edef0b992",
              "version_major": 2,
              "version_minor": 0
            },
            "text/plain": [
              "COLLECTING RESULTS | :   0%|          | 0/15 [00:00<?, ?it/s]"
            ]
          },
          "metadata": {},
          "output_type": "display_data"
        },
        {
          "data": {
            "application/vnd.jupyter.widget-view+json": {
              "model_id": "28b1696f064d4967b2fe55c0b5abc88c",
              "version_major": 2,
              "version_minor": 0
            },
            "text/plain": [
              "QUEUEING TASKS | :   0%|          | 0/15 [00:00<?, ?it/s]"
            ]
          },
          "metadata": {},
          "output_type": "display_data"
        },
        {
          "data": {
            "application/vnd.jupyter.widget-view+json": {
              "model_id": "010b12d8cb65472ea5e41d1e181e949c",
              "version_major": 2,
              "version_minor": 0
            },
            "text/plain": [
              "PROCESSING TASKS | :   0%|          | 0/15 [00:00<?, ?it/s]"
            ]
          },
          "metadata": {},
          "output_type": "display_data"
        },
        {
          "data": {
            "application/vnd.jupyter.widget-view+json": {
              "model_id": "d9751a634e7447d7989d1f9084f167d1",
              "version_major": 2,
              "version_minor": 0
            },
            "text/plain": [
              "COLLECTING RESULTS | :   0%|          | 0/15 [00:00<?, ?it/s]"
            ]
          },
          "metadata": {},
          "output_type": "display_data"
        },
        {
          "data": {
            "application/vnd.jupyter.widget-view+json": {
              "model_id": "ddb096ec86bc41e684d3199130d5da79",
              "version_major": 2,
              "version_minor": 0
            },
            "text/plain": [
              "QUEUEING TASKS | :   0%|          | 0/15 [00:00<?, ?it/s]"
            ]
          },
          "metadata": {},
          "output_type": "display_data"
        },
        {
          "data": {
            "application/vnd.jupyter.widget-view+json": {
              "model_id": "e6fbd217a3504771a13c0c67f419a0ba",
              "version_major": 2,
              "version_minor": 0
            },
            "text/plain": [
              "PROCESSING TASKS | :   0%|          | 0/15 [00:00<?, ?it/s]"
            ]
          },
          "metadata": {},
          "output_type": "display_data"
        },
        {
          "data": {
            "application/vnd.jupyter.widget-view+json": {
              "model_id": "62a89d13d53e4b8585e8d1373ac6ecd4",
              "version_major": 2,
              "version_minor": 0
            },
            "text/plain": [
              "COLLECTING RESULTS | :   0%|          | 0/15 [00:00<?, ?it/s]"
            ]
          },
          "metadata": {},
          "output_type": "display_data"
        },
        {
          "data": {
            "application/vnd.jupyter.widget-view+json": {
              "model_id": "e21276985a2f4873aa718e8e9dbc3625",
              "version_major": 2,
              "version_minor": 0
            },
            "text/plain": [
              "QUEUEING TASKS | :   0%|          | 0/15 [00:00<?, ?it/s]"
            ]
          },
          "metadata": {},
          "output_type": "display_data"
        },
        {
          "data": {
            "application/vnd.jupyter.widget-view+json": {
              "model_id": "7bb5a0888bc7459b841c34ce5c6e520e",
              "version_major": 2,
              "version_minor": 0
            },
            "text/plain": [
              "PROCESSING TASKS | :   0%|          | 0/15 [00:00<?, ?it/s]"
            ]
          },
          "metadata": {},
          "output_type": "display_data"
        },
        {
          "data": {
            "application/vnd.jupyter.widget-view+json": {
              "model_id": "824a11bad2d4412b84d8bcc6ba189c2f",
              "version_major": 2,
              "version_minor": 0
            },
            "text/plain": [
              "COLLECTING RESULTS | :   0%|          | 0/15 [00:00<?, ?it/s]"
            ]
          },
          "metadata": {},
          "output_type": "display_data"
        },
        {
          "data": {
            "application/vnd.jupyter.widget-view+json": {
              "model_id": "7c74a2a3f341474fb7b303a641503208",
              "version_major": 2,
              "version_minor": 0
            },
            "text/plain": [
              "QUEUEING TASKS | :   0%|          | 0/15 [00:00<?, ?it/s]"
            ]
          },
          "metadata": {},
          "output_type": "display_data"
        },
        {
          "data": {
            "application/vnd.jupyter.widget-view+json": {
              "model_id": "253ff4d4062f4d868ce6f636d9d204d7",
              "version_major": 2,
              "version_minor": 0
            },
            "text/plain": [
              "PROCESSING TASKS | :   0%|          | 0/15 [00:00<?, ?it/s]"
            ]
          },
          "metadata": {},
          "output_type": "display_data"
        },
        {
          "data": {
            "application/vnd.jupyter.widget-view+json": {
              "model_id": "765e4bc4d79e41efb863932f7be7059c",
              "version_major": 2,
              "version_minor": 0
            },
            "text/plain": [
              "COLLECTING RESULTS | :   0%|          | 0/15 [00:00<?, ?it/s]"
            ]
          },
          "metadata": {},
          "output_type": "display_data"
        },
        {
          "data": {
            "application/vnd.jupyter.widget-view+json": {
              "model_id": "7d9d557d0f544b308b1214658c578a68",
              "version_major": 2,
              "version_minor": 0
            },
            "text/plain": [
              "QUEUEING TASKS | :   0%|          | 0/15 [00:00<?, ?it/s]"
            ]
          },
          "metadata": {},
          "output_type": "display_data"
        },
        {
          "data": {
            "application/vnd.jupyter.widget-view+json": {
              "model_id": "5feda77f9b4e420fb0208895e4b77ce6",
              "version_major": 2,
              "version_minor": 0
            },
            "text/plain": [
              "PROCESSING TASKS | :   0%|          | 0/15 [00:00<?, ?it/s]"
            ]
          },
          "metadata": {},
          "output_type": "display_data"
        },
        {
          "data": {
            "application/vnd.jupyter.widget-view+json": {
              "model_id": "69dcbc66a3a043e6832fb0c8e8b711ef",
              "version_major": 2,
              "version_minor": 0
            },
            "text/plain": [
              "COLLECTING RESULTS | :   0%|          | 0/15 [00:00<?, ?it/s]"
            ]
          },
          "metadata": {},
          "output_type": "display_data"
        },
        {
          "data": {
            "application/vnd.jupyter.widget-view+json": {
              "model_id": "6ca34deaccdc4ef0bba24611dbc7e220",
              "version_major": 2,
              "version_minor": 0
            },
            "text/plain": [
              "QUEUEING TASKS | :   0%|          | 0/15 [00:00<?, ?it/s]"
            ]
          },
          "metadata": {},
          "output_type": "display_data"
        },
        {
          "data": {
            "application/vnd.jupyter.widget-view+json": {
              "model_id": "d5e607eff1c54aa4b54a32112ff22960",
              "version_major": 2,
              "version_minor": 0
            },
            "text/plain": [
              "PROCESSING TASKS | :   0%|          | 0/15 [00:00<?, ?it/s]"
            ]
          },
          "metadata": {},
          "output_type": "display_data"
        },
        {
          "data": {
            "application/vnd.jupyter.widget-view+json": {
              "model_id": "059edc500c7c4d299e5e06300899fefa",
              "version_major": 2,
              "version_minor": 0
            },
            "text/plain": [
              "COLLECTING RESULTS | :   0%|          | 0/15 [00:00<?, ?it/s]"
            ]
          },
          "metadata": {},
          "output_type": "display_data"
        },
        {
          "data": {
            "application/vnd.jupyter.widget-view+json": {
              "model_id": "02046f3b86354863b60881ba81b0c8be",
              "version_major": 2,
              "version_minor": 0
            },
            "text/plain": [
              "QUEUEING TASKS | :   0%|          | 0/15 [00:00<?, ?it/s]"
            ]
          },
          "metadata": {},
          "output_type": "display_data"
        },
        {
          "data": {
            "application/vnd.jupyter.widget-view+json": {
              "model_id": "c94d47f91509477bbb2a39e395a4f12d",
              "version_major": 2,
              "version_minor": 0
            },
            "text/plain": [
              "PROCESSING TASKS | :   0%|          | 0/15 [00:00<?, ?it/s]"
            ]
          },
          "metadata": {},
          "output_type": "display_data"
        },
        {
          "data": {
            "application/vnd.jupyter.widget-view+json": {
              "model_id": "47d793adad4043e4b4405fa82cbf2612",
              "version_major": 2,
              "version_minor": 0
            },
            "text/plain": [
              "COLLECTING RESULTS | :   0%|          | 0/15 [00:00<?, ?it/s]"
            ]
          },
          "metadata": {},
          "output_type": "display_data"
        },
        {
          "data": {
            "application/vnd.jupyter.widget-view+json": {
              "model_id": "3c156c13d848416fbb561ec5edde4221",
              "version_major": 2,
              "version_minor": 0
            },
            "text/plain": [
              "QUEUEING TASKS | :   0%|          | 0/15 [00:00<?, ?it/s]"
            ]
          },
          "metadata": {},
          "output_type": "display_data"
        },
        {
          "data": {
            "application/vnd.jupyter.widget-view+json": {
              "model_id": "41b04e4461a14286af262b86e09f988b",
              "version_major": 2,
              "version_minor": 0
            },
            "text/plain": [
              "PROCESSING TASKS | :   0%|          | 0/15 [00:00<?, ?it/s]"
            ]
          },
          "metadata": {},
          "output_type": "display_data"
        },
        {
          "data": {
            "application/vnd.jupyter.widget-view+json": {
              "model_id": "d35c8e7cea28442b8dc6d9d9d8fa087a",
              "version_major": 2,
              "version_minor": 0
            },
            "text/plain": [
              "COLLECTING RESULTS | :   0%|          | 0/15 [00:00<?, ?it/s]"
            ]
          },
          "metadata": {},
          "output_type": "display_data"
        },
        {
          "data": {
            "application/vnd.jupyter.widget-view+json": {
              "model_id": "d27a9ebd1c17421b9290e71fa7def962",
              "version_major": 2,
              "version_minor": 0
            },
            "text/plain": [
              "QUEUEING TASKS | :   0%|          | 0/15 [00:00<?, ?it/s]"
            ]
          },
          "metadata": {},
          "output_type": "display_data"
        },
        {
          "data": {
            "application/vnd.jupyter.widget-view+json": {
              "model_id": "643b7668eafc4422bcb79134c00b3e2c",
              "version_major": 2,
              "version_minor": 0
            },
            "text/plain": [
              "PROCESSING TASKS | :   0%|          | 0/15 [00:00<?, ?it/s]"
            ]
          },
          "metadata": {},
          "output_type": "display_data"
        },
        {
          "data": {
            "application/vnd.jupyter.widget-view+json": {
              "model_id": "90d69db5af614cc2ba3dd044cf4306ba",
              "version_major": 2,
              "version_minor": 0
            },
            "text/plain": [
              "COLLECTING RESULTS | :   0%|          | 0/15 [00:00<?, ?it/s]"
            ]
          },
          "metadata": {},
          "output_type": "display_data"
        },
        {
          "data": {
            "application/vnd.jupyter.widget-view+json": {
              "model_id": "1998f94def854767ac11af2825e1816e",
              "version_major": 2,
              "version_minor": 0
            },
            "text/plain": [
              "QUEUEING TASKS | :   0%|          | 0/15 [00:00<?, ?it/s]"
            ]
          },
          "metadata": {},
          "output_type": "display_data"
        },
        {
          "data": {
            "application/vnd.jupyter.widget-view+json": {
              "model_id": "4a8c92bf8823461b9d233973fc5cb4d1",
              "version_major": 2,
              "version_minor": 0
            },
            "text/plain": [
              "PROCESSING TASKS | :   0%|          | 0/15 [00:00<?, ?it/s]"
            ]
          },
          "metadata": {},
          "output_type": "display_data"
        },
        {
          "data": {
            "application/vnd.jupyter.widget-view+json": {
              "model_id": "882ac71ca8714476abd8244175b4d6b9",
              "version_major": 2,
              "version_minor": 0
            },
            "text/plain": [
              "COLLECTING RESULTS | :   0%|          | 0/15 [00:00<?, ?it/s]"
            ]
          },
          "metadata": {},
          "output_type": "display_data"
        },
        {
          "data": {
            "application/vnd.jupyter.widget-view+json": {
              "model_id": "ff539f6401d9477a987e68e539ffdc8f",
              "version_major": 2,
              "version_minor": 0
            },
            "text/plain": [
              "QUEUEING TASKS | :   0%|          | 0/15 [00:00<?, ?it/s]"
            ]
          },
          "metadata": {},
          "output_type": "display_data"
        },
        {
          "data": {
            "application/vnd.jupyter.widget-view+json": {
              "model_id": "c660a48923224f19a5284c47359cee58",
              "version_major": 2,
              "version_minor": 0
            },
            "text/plain": [
              "PROCESSING TASKS | :   0%|          | 0/15 [00:00<?, ?it/s]"
            ]
          },
          "metadata": {},
          "output_type": "display_data"
        },
        {
          "data": {
            "application/vnd.jupyter.widget-view+json": {
              "model_id": "6cf5bb486970455c92a52edde2a29b21",
              "version_major": 2,
              "version_minor": 0
            },
            "text/plain": [
              "COLLECTING RESULTS | :   0%|          | 0/15 [00:00<?, ?it/s]"
            ]
          },
          "metadata": {},
          "output_type": "display_data"
        },
        {
          "data": {
            "application/vnd.jupyter.widget-view+json": {
              "model_id": "72b7b2d5859c4128aa8eb22f14245fa7",
              "version_major": 2,
              "version_minor": 0
            },
            "text/plain": [
              "QUEUEING TASKS | :   0%|          | 0/15 [00:00<?, ?it/s]"
            ]
          },
          "metadata": {},
          "output_type": "display_data"
        },
        {
          "data": {
            "application/vnd.jupyter.widget-view+json": {
              "model_id": "f3eb63acbb344b83b90255c2affb9e80",
              "version_major": 2,
              "version_minor": 0
            },
            "text/plain": [
              "PROCESSING TASKS | :   0%|          | 0/15 [00:00<?, ?it/s]"
            ]
          },
          "metadata": {},
          "output_type": "display_data"
        },
        {
          "data": {
            "application/vnd.jupyter.widget-view+json": {
              "model_id": "e3108c8290fc431d89bbfa28000eb8da",
              "version_major": 2,
              "version_minor": 0
            },
            "text/plain": [
              "COLLECTING RESULTS | :   0%|          | 0/15 [00:00<?, ?it/s]"
            ]
          },
          "metadata": {},
          "output_type": "display_data"
        },
        {
          "data": {
            "application/vnd.jupyter.widget-view+json": {
              "model_id": "5dadc41c952d46708887332860eb6f10",
              "version_major": 2,
              "version_minor": 0
            },
            "text/plain": [
              "QUEUEING TASKS | :   0%|          | 0/15 [00:00<?, ?it/s]"
            ]
          },
          "metadata": {},
          "output_type": "display_data"
        },
        {
          "data": {
            "application/vnd.jupyter.widget-view+json": {
              "model_id": "5e8a26d8ce1d4a5c9d2fbbbcd2a73223",
              "version_major": 2,
              "version_minor": 0
            },
            "text/plain": [
              "PROCESSING TASKS | :   0%|          | 0/15 [00:00<?, ?it/s]"
            ]
          },
          "metadata": {},
          "output_type": "display_data"
        },
        {
          "data": {
            "application/vnd.jupyter.widget-view+json": {
              "model_id": "a6519b4f1ecd451580b5e403580bd59e",
              "version_major": 2,
              "version_minor": 0
            },
            "text/plain": [
              "COLLECTING RESULTS | :   0%|          | 0/15 [00:00<?, ?it/s]"
            ]
          },
          "metadata": {},
          "output_type": "display_data"
        },
        {
          "data": {
            "application/vnd.jupyter.widget-view+json": {
              "model_id": "f649c118917548b9823e634b9814e59c",
              "version_major": 2,
              "version_minor": 0
            },
            "text/plain": [
              "QUEUEING TASKS | :   0%|          | 0/15 [00:00<?, ?it/s]"
            ]
          },
          "metadata": {},
          "output_type": "display_data"
        },
        {
          "data": {
            "application/vnd.jupyter.widget-view+json": {
              "model_id": "435cdd058136486bbc3f1149c394ba81",
              "version_major": 2,
              "version_minor": 0
            },
            "text/plain": [
              "PROCESSING TASKS | :   0%|          | 0/15 [00:00<?, ?it/s]"
            ]
          },
          "metadata": {},
          "output_type": "display_data"
        },
        {
          "data": {
            "application/vnd.jupyter.widget-view+json": {
              "model_id": "b13e3dc0489f4d31b96d7a3e2f99f09f",
              "version_major": 2,
              "version_minor": 0
            },
            "text/plain": [
              "COLLECTING RESULTS | :   0%|          | 0/15 [00:00<?, ?it/s]"
            ]
          },
          "metadata": {},
          "output_type": "display_data"
        },
        {
          "data": {
            "application/vnd.jupyter.widget-view+json": {
              "model_id": "6a637327a4844fa28e4a0cda8222d493",
              "version_major": 2,
              "version_minor": 0
            },
            "text/plain": [
              "QUEUEING TASKS | :   0%|          | 0/15 [00:00<?, ?it/s]"
            ]
          },
          "metadata": {},
          "output_type": "display_data"
        },
        {
          "data": {
            "application/vnd.jupyter.widget-view+json": {
              "model_id": "d243b09fafad4dc5b5867894dda155e0",
              "version_major": 2,
              "version_minor": 0
            },
            "text/plain": [
              "PROCESSING TASKS | :   0%|          | 0/15 [00:00<?, ?it/s]"
            ]
          },
          "metadata": {},
          "output_type": "display_data"
        },
        {
          "data": {
            "application/vnd.jupyter.widget-view+json": {
              "model_id": "9d5f94f8cbff478a912a7d657e3b76d3",
              "version_major": 2,
              "version_minor": 0
            },
            "text/plain": [
              "COLLECTING RESULTS | :   0%|          | 0/15 [00:00<?, ?it/s]"
            ]
          },
          "metadata": {},
          "output_type": "display_data"
        },
        {
          "data": {
            "application/vnd.jupyter.widget-view+json": {
              "model_id": "e53980f909ab403d929267a0bc5eda00",
              "version_major": 2,
              "version_minor": 0
            },
            "text/plain": [
              "QUEUEING TASKS | :   0%|          | 0/15 [00:00<?, ?it/s]"
            ]
          },
          "metadata": {},
          "output_type": "display_data"
        },
        {
          "data": {
            "application/vnd.jupyter.widget-view+json": {
              "model_id": "86e5f928ddc4417ba1a22cd69850bb4a",
              "version_major": 2,
              "version_minor": 0
            },
            "text/plain": [
              "PROCESSING TASKS | :   0%|          | 0/15 [00:00<?, ?it/s]"
            ]
          },
          "metadata": {},
          "output_type": "display_data"
        },
        {
          "data": {
            "application/vnd.jupyter.widget-view+json": {
              "model_id": "3c055b2256474c888754f5e335894070",
              "version_major": 2,
              "version_minor": 0
            },
            "text/plain": [
              "COLLECTING RESULTS | :   0%|          | 0/15 [00:00<?, ?it/s]"
            ]
          },
          "metadata": {},
          "output_type": "display_data"
        },
        {
          "data": {
            "application/vnd.jupyter.widget-view+json": {
              "model_id": "32bbb2a7411647bca5720b704f60f8ed",
              "version_major": 2,
              "version_minor": 0
            },
            "text/plain": [
              "QUEUEING TASKS | :   0%|          | 0/15 [00:00<?, ?it/s]"
            ]
          },
          "metadata": {},
          "output_type": "display_data"
        },
        {
          "data": {
            "application/vnd.jupyter.widget-view+json": {
              "model_id": "6f07014e54204c6086170387f7542515",
              "version_major": 2,
              "version_minor": 0
            },
            "text/plain": [
              "PROCESSING TASKS | :   0%|          | 0/15 [00:00<?, ?it/s]"
            ]
          },
          "metadata": {},
          "output_type": "display_data"
        },
        {
          "data": {
            "application/vnd.jupyter.widget-view+json": {
              "model_id": "371807ddc0c94d348a611b5c79836856",
              "version_major": 2,
              "version_minor": 0
            },
            "text/plain": [
              "COLLECTING RESULTS | :   0%|          | 0/15 [00:00<?, ?it/s]"
            ]
          },
          "metadata": {},
          "output_type": "display_data"
        },
        {
          "data": {
            "application/vnd.jupyter.widget-view+json": {
              "model_id": "385bc45cbc104093bc9c461c2aadf75e",
              "version_major": 2,
              "version_minor": 0
            },
            "text/plain": [
              "QUEUEING TASKS | :   0%|          | 0/15 [00:00<?, ?it/s]"
            ]
          },
          "metadata": {},
          "output_type": "display_data"
        },
        {
          "data": {
            "application/vnd.jupyter.widget-view+json": {
              "model_id": "e6b509d888bc43cca680a37544d9a895",
              "version_major": 2,
              "version_minor": 0
            },
            "text/plain": [
              "PROCESSING TASKS | :   0%|          | 0/15 [00:00<?, ?it/s]"
            ]
          },
          "metadata": {},
          "output_type": "display_data"
        },
        {
          "data": {
            "application/vnd.jupyter.widget-view+json": {
              "model_id": "a759c29002e14122a430d5c9b8d452fe",
              "version_major": 2,
              "version_minor": 0
            },
            "text/plain": [
              "COLLECTING RESULTS | :   0%|          | 0/15 [00:00<?, ?it/s]"
            ]
          },
          "metadata": {},
          "output_type": "display_data"
        },
        {
          "data": {
            "application/vnd.jupyter.widget-view+json": {
              "model_id": "223d8f1ebb0940a0955ea330aba516c5",
              "version_major": 2,
              "version_minor": 0
            },
            "text/plain": [
              "QUEUEING TASKS | :   0%|          | 0/15 [00:00<?, ?it/s]"
            ]
          },
          "metadata": {},
          "output_type": "display_data"
        },
        {
          "data": {
            "application/vnd.jupyter.widget-view+json": {
              "model_id": "feaa039479564228ad5a766a2fb86232",
              "version_major": 2,
              "version_minor": 0
            },
            "text/plain": [
              "PROCESSING TASKS | :   0%|          | 0/15 [00:00<?, ?it/s]"
            ]
          },
          "metadata": {},
          "output_type": "display_data"
        },
        {
          "data": {
            "application/vnd.jupyter.widget-view+json": {
              "model_id": "79bcb4d2f4c34fd09cf70c6ece2ac199",
              "version_major": 2,
              "version_minor": 0
            },
            "text/plain": [
              "COLLECTING RESULTS | :   0%|          | 0/15 [00:00<?, ?it/s]"
            ]
          },
          "metadata": {},
          "output_type": "display_data"
        },
        {
          "data": {
            "application/vnd.jupyter.widget-view+json": {
              "model_id": "a3b4bc5e005749baae5ed36f942bfd90",
              "version_major": 2,
              "version_minor": 0
            },
            "text/plain": [
              "QUEUEING TASKS | :   0%|          | 0/15 [00:00<?, ?it/s]"
            ]
          },
          "metadata": {},
          "output_type": "display_data"
        },
        {
          "data": {
            "application/vnd.jupyter.widget-view+json": {
              "model_id": "f175098cb9864b5dacde1f93c60c90fb",
              "version_major": 2,
              "version_minor": 0
            },
            "text/plain": [
              "PROCESSING TASKS | :   0%|          | 0/15 [00:00<?, ?it/s]"
            ]
          },
          "metadata": {},
          "output_type": "display_data"
        },
        {
          "data": {
            "application/vnd.jupyter.widget-view+json": {
              "model_id": "777a24598bed41bd8b8e354166550793",
              "version_major": 2,
              "version_minor": 0
            },
            "text/plain": [
              "COLLECTING RESULTS | :   0%|          | 0/15 [00:00<?, ?it/s]"
            ]
          },
          "metadata": {},
          "output_type": "display_data"
        },
        {
          "data": {
            "application/vnd.jupyter.widget-view+json": {
              "model_id": "4583fc97cc344fa9b1578da9cc119d22",
              "version_major": 2,
              "version_minor": 0
            },
            "text/plain": [
              "QUEUEING TASKS | :   0%|          | 0/15 [00:00<?, ?it/s]"
            ]
          },
          "metadata": {},
          "output_type": "display_data"
        },
        {
          "data": {
            "application/vnd.jupyter.widget-view+json": {
              "model_id": "0fa4de069bb143b2919ceb0aac1707a5",
              "version_major": 2,
              "version_minor": 0
            },
            "text/plain": [
              "PROCESSING TASKS | :   0%|          | 0/15 [00:00<?, ?it/s]"
            ]
          },
          "metadata": {},
          "output_type": "display_data"
        },
        {
          "data": {
            "application/vnd.jupyter.widget-view+json": {
              "model_id": "5dbead91e96842c09e033c121173c4c7",
              "version_major": 2,
              "version_minor": 0
            },
            "text/plain": [
              "COLLECTING RESULTS | :   0%|          | 0/15 [00:00<?, ?it/s]"
            ]
          },
          "metadata": {},
          "output_type": "display_data"
        },
        {
          "data": {
            "application/vnd.jupyter.widget-view+json": {
              "model_id": "73fc10927d464a2fbafd2a3c65a89af3",
              "version_major": 2,
              "version_minor": 0
            },
            "text/plain": [
              "QUEUEING TASKS | :   0%|          | 0/15 [00:00<?, ?it/s]"
            ]
          },
          "metadata": {},
          "output_type": "display_data"
        },
        {
          "data": {
            "application/vnd.jupyter.widget-view+json": {
              "model_id": "f015408435e046f0b780a29a0c23dd8c",
              "version_major": 2,
              "version_minor": 0
            },
            "text/plain": [
              "PROCESSING TASKS | :   0%|          | 0/15 [00:00<?, ?it/s]"
            ]
          },
          "metadata": {},
          "output_type": "display_data"
        },
        {
          "data": {
            "application/vnd.jupyter.widget-view+json": {
              "model_id": "2eadf96b616e47d0b013eb223610f8be",
              "version_major": 2,
              "version_minor": 0
            },
            "text/plain": [
              "COLLECTING RESULTS | :   0%|          | 0/15 [00:00<?, ?it/s]"
            ]
          },
          "metadata": {},
          "output_type": "display_data"
        },
        {
          "data": {
            "application/vnd.jupyter.widget-view+json": {
              "model_id": "d2e52927245c4494ac8831091cb187d1",
              "version_major": 2,
              "version_minor": 0
            },
            "text/plain": [
              "QUEUEING TASKS | :   0%|          | 0/15 [00:00<?, ?it/s]"
            ]
          },
          "metadata": {},
          "output_type": "display_data"
        },
        {
          "data": {
            "application/vnd.jupyter.widget-view+json": {
              "model_id": "f6963bec331442cd9965404a836dbdfd",
              "version_major": 2,
              "version_minor": 0
            },
            "text/plain": [
              "PROCESSING TASKS | :   0%|          | 0/15 [00:00<?, ?it/s]"
            ]
          },
          "metadata": {},
          "output_type": "display_data"
        },
        {
          "data": {
            "application/vnd.jupyter.widget-view+json": {
              "model_id": "1dffbdf1d85645eda0600628a23be40d",
              "version_major": 2,
              "version_minor": 0
            },
            "text/plain": [
              "COLLECTING RESULTS | :   0%|          | 0/15 [00:00<?, ?it/s]"
            ]
          },
          "metadata": {},
          "output_type": "display_data"
        },
        {
          "data": {
            "application/vnd.jupyter.widget-view+json": {
              "model_id": "efaa6e6292b849faa831aca0689500e0",
              "version_major": 2,
              "version_minor": 0
            },
            "text/plain": [
              "QUEUEING TASKS | :   0%|          | 0/15 [00:00<?, ?it/s]"
            ]
          },
          "metadata": {},
          "output_type": "display_data"
        },
        {
          "data": {
            "application/vnd.jupyter.widget-view+json": {
              "model_id": "2306ee9b3da74d169574c8a66b1a0ebc",
              "version_major": 2,
              "version_minor": 0
            },
            "text/plain": [
              "PROCESSING TASKS | :   0%|          | 0/15 [00:00<?, ?it/s]"
            ]
          },
          "metadata": {},
          "output_type": "display_data"
        },
        {
          "data": {
            "application/vnd.jupyter.widget-view+json": {
              "model_id": "fc24690c3e6a45faa1d055af6c301f6f",
              "version_major": 2,
              "version_minor": 0
            },
            "text/plain": [
              "COLLECTING RESULTS | :   0%|          | 0/15 [00:00<?, ?it/s]"
            ]
          },
          "metadata": {},
          "output_type": "display_data"
        },
        {
          "data": {
            "application/vnd.jupyter.widget-view+json": {
              "model_id": "8400bc08cc8c498196f255f19fd2c2f4",
              "version_major": 2,
              "version_minor": 0
            },
            "text/plain": [
              "QUEUEING TASKS | :   0%|          | 0/15 [00:00<?, ?it/s]"
            ]
          },
          "metadata": {},
          "output_type": "display_data"
        },
        {
          "data": {
            "application/vnd.jupyter.widget-view+json": {
              "model_id": "f356ffcbfd6643e6be8dfe88ddda8b4b",
              "version_major": 2,
              "version_minor": 0
            },
            "text/plain": [
              "PROCESSING TASKS | :   0%|          | 0/15 [00:00<?, ?it/s]"
            ]
          },
          "metadata": {},
          "output_type": "display_data"
        },
        {
          "data": {
            "application/vnd.jupyter.widget-view+json": {
              "model_id": "ab11834e09d54d158105616ae88bf10a",
              "version_major": 2,
              "version_minor": 0
            },
            "text/plain": [
              "COLLECTING RESULTS | :   0%|          | 0/15 [00:00<?, ?it/s]"
            ]
          },
          "metadata": {},
          "output_type": "display_data"
        },
        {
          "data": {
            "application/vnd.jupyter.widget-view+json": {
              "model_id": "ba883c60102c40369e148436e8cf8d1c",
              "version_major": 2,
              "version_minor": 0
            },
            "text/plain": [
              "QUEUEING TASKS | :   0%|          | 0/15 [00:00<?, ?it/s]"
            ]
          },
          "metadata": {},
          "output_type": "display_data"
        },
        {
          "data": {
            "application/vnd.jupyter.widget-view+json": {
              "model_id": "192ac11d10854f9d9b624df08ac94e76",
              "version_major": 2,
              "version_minor": 0
            },
            "text/plain": [
              "PROCESSING TASKS | :   0%|          | 0/15 [00:00<?, ?it/s]"
            ]
          },
          "metadata": {},
          "output_type": "display_data"
        },
        {
          "data": {
            "application/vnd.jupyter.widget-view+json": {
              "model_id": "2c7f1e4b5aa648818a2e2b8b7e686477",
              "version_major": 2,
              "version_minor": 0
            },
            "text/plain": [
              "COLLECTING RESULTS | :   0%|          | 0/15 [00:00<?, ?it/s]"
            ]
          },
          "metadata": {},
          "output_type": "display_data"
        },
        {
          "data": {
            "application/vnd.jupyter.widget-view+json": {
              "model_id": "315bd57477f44255b88a19e3246eae04",
              "version_major": 2,
              "version_minor": 0
            },
            "text/plain": [
              "QUEUEING TASKS | :   0%|          | 0/15 [00:00<?, ?it/s]"
            ]
          },
          "metadata": {},
          "output_type": "display_data"
        },
        {
          "data": {
            "application/vnd.jupyter.widget-view+json": {
              "model_id": "93a2385610e64c17859524ad379aec52",
              "version_major": 2,
              "version_minor": 0
            },
            "text/plain": [
              "PROCESSING TASKS | :   0%|          | 0/15 [00:00<?, ?it/s]"
            ]
          },
          "metadata": {},
          "output_type": "display_data"
        },
        {
          "data": {
            "application/vnd.jupyter.widget-view+json": {
              "model_id": "7775ae0e94304602ab4ae6f26949bcb3",
              "version_major": 2,
              "version_minor": 0
            },
            "text/plain": [
              "COLLECTING RESULTS | :   0%|          | 0/15 [00:00<?, ?it/s]"
            ]
          },
          "metadata": {},
          "output_type": "display_data"
        },
        {
          "data": {
            "application/vnd.jupyter.widget-view+json": {
              "model_id": "1085b38c2ae846a7acf8e6d4b609dba5",
              "version_major": 2,
              "version_minor": 0
            },
            "text/plain": [
              "QUEUEING TASKS | :   0%|          | 0/15 [00:00<?, ?it/s]"
            ]
          },
          "metadata": {},
          "output_type": "display_data"
        },
        {
          "data": {
            "application/vnd.jupyter.widget-view+json": {
              "model_id": "e037236b3e2240bcaef9ab6c5b51c73a",
              "version_major": 2,
              "version_minor": 0
            },
            "text/plain": [
              "PROCESSING TASKS | :   0%|          | 0/15 [00:00<?, ?it/s]"
            ]
          },
          "metadata": {},
          "output_type": "display_data"
        },
        {
          "data": {
            "application/vnd.jupyter.widget-view+json": {
              "model_id": "71cdd149015040abb8c07b3d4bb3dce1",
              "version_major": 2,
              "version_minor": 0
            },
            "text/plain": [
              "COLLECTING RESULTS | :   0%|          | 0/15 [00:00<?, ?it/s]"
            ]
          },
          "metadata": {},
          "output_type": "display_data"
        },
        {
          "data": {
            "application/vnd.jupyter.widget-view+json": {
              "model_id": "15a3a29303ef42b0a30d7441f624c6b6",
              "version_major": 2,
              "version_minor": 0
            },
            "text/plain": [
              "QUEUEING TASKS | :   0%|          | 0/15 [00:00<?, ?it/s]"
            ]
          },
          "metadata": {},
          "output_type": "display_data"
        },
        {
          "data": {
            "application/vnd.jupyter.widget-view+json": {
              "model_id": "f99ca4d1c8a54d6a82df34c7d6f41846",
              "version_major": 2,
              "version_minor": 0
            },
            "text/plain": [
              "PROCESSING TASKS | :   0%|          | 0/15 [00:00<?, ?it/s]"
            ]
          },
          "metadata": {},
          "output_type": "display_data"
        },
        {
          "data": {
            "application/vnd.jupyter.widget-view+json": {
              "model_id": "99b9b95aba6f48f190b0b0f7d810aec9",
              "version_major": 2,
              "version_minor": 0
            },
            "text/plain": [
              "COLLECTING RESULTS | :   0%|          | 0/15 [00:00<?, ?it/s]"
            ]
          },
          "metadata": {},
          "output_type": "display_data"
        },
        {
          "data": {
            "application/vnd.jupyter.widget-view+json": {
              "model_id": "c8b5e17bbac1418da1c011914952976e",
              "version_major": 2,
              "version_minor": 0
            },
            "text/plain": [
              "QUEUEING TASKS | :   0%|          | 0/15 [00:00<?, ?it/s]"
            ]
          },
          "metadata": {},
          "output_type": "display_data"
        },
        {
          "data": {
            "application/vnd.jupyter.widget-view+json": {
              "model_id": "4fe85959f7c343ad8be02ca52fba3735",
              "version_major": 2,
              "version_minor": 0
            },
            "text/plain": [
              "PROCESSING TASKS | :   0%|          | 0/15 [00:00<?, ?it/s]"
            ]
          },
          "metadata": {},
          "output_type": "display_data"
        },
        {
          "data": {
            "application/vnd.jupyter.widget-view+json": {
              "model_id": "d4848796252747ea844c5d3ab891d3e1",
              "version_major": 2,
              "version_minor": 0
            },
            "text/plain": [
              "COLLECTING RESULTS | :   0%|          | 0/15 [00:00<?, ?it/s]"
            ]
          },
          "metadata": {},
          "output_type": "display_data"
        },
        {
          "data": {
            "application/vnd.jupyter.widget-view+json": {
              "model_id": "b024cdb217024a2eb1ab13022f0b4d31",
              "version_major": 2,
              "version_minor": 0
            },
            "text/plain": [
              "QUEUEING TASKS | :   0%|          | 0/15 [00:00<?, ?it/s]"
            ]
          },
          "metadata": {},
          "output_type": "display_data"
        },
        {
          "data": {
            "application/vnd.jupyter.widget-view+json": {
              "model_id": "36b7b6f160fc4105b7ca10cfcff30268",
              "version_major": 2,
              "version_minor": 0
            },
            "text/plain": [
              "PROCESSING TASKS | :   0%|          | 0/15 [00:00<?, ?it/s]"
            ]
          },
          "metadata": {},
          "output_type": "display_data"
        },
        {
          "data": {
            "application/vnd.jupyter.widget-view+json": {
              "model_id": "b5e293b2ee8a45b3823581c10aca7a6e",
              "version_major": 2,
              "version_minor": 0
            },
            "text/plain": [
              "COLLECTING RESULTS | :   0%|          | 0/15 [00:00<?, ?it/s]"
            ]
          },
          "metadata": {},
          "output_type": "display_data"
        },
        {
          "data": {
            "application/vnd.jupyter.widget-view+json": {
              "model_id": "db768ca69e5e4cfc846098ef88d44ff6",
              "version_major": 2,
              "version_minor": 0
            },
            "text/plain": [
              "QUEUEING TASKS | :   0%|          | 0/15 [00:00<?, ?it/s]"
            ]
          },
          "metadata": {},
          "output_type": "display_data"
        },
        {
          "data": {
            "application/vnd.jupyter.widget-view+json": {
              "model_id": "5573fdcbd55547d38db35209d509f9d0",
              "version_major": 2,
              "version_minor": 0
            },
            "text/plain": [
              "PROCESSING TASKS | :   0%|          | 0/15 [00:00<?, ?it/s]"
            ]
          },
          "metadata": {},
          "output_type": "display_data"
        },
        {
          "data": {
            "application/vnd.jupyter.widget-view+json": {
              "model_id": "1544d46b40b34487a074e3b91e9719e9",
              "version_major": 2,
              "version_minor": 0
            },
            "text/plain": [
              "COLLECTING RESULTS | :   0%|          | 0/15 [00:00<?, ?it/s]"
            ]
          },
          "metadata": {},
          "output_type": "display_data"
        },
        {
          "data": {
            "application/vnd.jupyter.widget-view+json": {
              "model_id": "3c6fe4ccc743496293f57027f000270f",
              "version_major": 2,
              "version_minor": 0
            },
            "text/plain": [
              "QUEUEING TASKS | :   0%|          | 0/15 [00:00<?, ?it/s]"
            ]
          },
          "metadata": {},
          "output_type": "display_data"
        },
        {
          "data": {
            "application/vnd.jupyter.widget-view+json": {
              "model_id": "96179134ad604538980358dd327ed8f5",
              "version_major": 2,
              "version_minor": 0
            },
            "text/plain": [
              "PROCESSING TASKS | :   0%|          | 0/15 [00:00<?, ?it/s]"
            ]
          },
          "metadata": {},
          "output_type": "display_data"
        },
        {
          "data": {
            "application/vnd.jupyter.widget-view+json": {
              "model_id": "43ebf47db782451780f9de62d772ddbb",
              "version_major": 2,
              "version_minor": 0
            },
            "text/plain": [
              "COLLECTING RESULTS | :   0%|          | 0/15 [00:00<?, ?it/s]"
            ]
          },
          "metadata": {},
          "output_type": "display_data"
        },
        {
          "data": {
            "application/vnd.jupyter.widget-view+json": {
              "model_id": "052475f4c81944958fd3b9aa717d2b9b",
              "version_major": 2,
              "version_minor": 0
            },
            "text/plain": [
              "QUEUEING TASKS | :   0%|          | 0/15 [00:00<?, ?it/s]"
            ]
          },
          "metadata": {},
          "output_type": "display_data"
        },
        {
          "data": {
            "application/vnd.jupyter.widget-view+json": {
              "model_id": "ac1071e1de3b489494630d15002eee31",
              "version_major": 2,
              "version_minor": 0
            },
            "text/plain": [
              "PROCESSING TASKS | :   0%|          | 0/15 [00:00<?, ?it/s]"
            ]
          },
          "metadata": {},
          "output_type": "display_data"
        },
        {
          "data": {
            "application/vnd.jupyter.widget-view+json": {
              "model_id": "f09fb73973ca4c1ebe70da41976ac37e",
              "version_major": 2,
              "version_minor": 0
            },
            "text/plain": [
              "COLLECTING RESULTS | :   0%|          | 0/15 [00:00<?, ?it/s]"
            ]
          },
          "metadata": {},
          "output_type": "display_data"
        },
        {
          "data": {
            "application/vnd.jupyter.widget-view+json": {
              "model_id": "b294d8fab5a640c2ad28c29f5ba9b24a",
              "version_major": 2,
              "version_minor": 0
            },
            "text/plain": [
              "QUEUEING TASKS | :   0%|          | 0/15 [00:00<?, ?it/s]"
            ]
          },
          "metadata": {},
          "output_type": "display_data"
        },
        {
          "data": {
            "application/vnd.jupyter.widget-view+json": {
              "model_id": "beb7c40b520045bf81a66df0051a2eb9",
              "version_major": 2,
              "version_minor": 0
            },
            "text/plain": [
              "PROCESSING TASKS | :   0%|          | 0/15 [00:00<?, ?it/s]"
            ]
          },
          "metadata": {},
          "output_type": "display_data"
        },
        {
          "data": {
            "application/vnd.jupyter.widget-view+json": {
              "model_id": "d6d502541ec34ae08a2643a7c42944a3",
              "version_major": 2,
              "version_minor": 0
            },
            "text/plain": [
              "COLLECTING RESULTS | :   0%|          | 0/15 [00:00<?, ?it/s]"
            ]
          },
          "metadata": {},
          "output_type": "display_data"
        },
        {
          "data": {
            "application/vnd.jupyter.widget-view+json": {
              "model_id": "f8fc34713aed426fa8a6aa0adca99e34",
              "version_major": 2,
              "version_minor": 0
            },
            "text/plain": [
              "QUEUEING TASKS | :   0%|          | 0/15 [00:00<?, ?it/s]"
            ]
          },
          "metadata": {},
          "output_type": "display_data"
        },
        {
          "data": {
            "application/vnd.jupyter.widget-view+json": {
              "model_id": "8f18c851024b434485ef5cc864d88bd8",
              "version_major": 2,
              "version_minor": 0
            },
            "text/plain": [
              "PROCESSING TASKS | :   0%|          | 0/15 [00:00<?, ?it/s]"
            ]
          },
          "metadata": {},
          "output_type": "display_data"
        },
        {
          "data": {
            "application/vnd.jupyter.widget-view+json": {
              "model_id": "334e7ce5ef0d49889e06721697aea9d3",
              "version_major": 2,
              "version_minor": 0
            },
            "text/plain": [
              "COLLECTING RESULTS | :   0%|          | 0/15 [00:00<?, ?it/s]"
            ]
          },
          "metadata": {},
          "output_type": "display_data"
        },
        {
          "data": {
            "application/vnd.jupyter.widget-view+json": {
              "model_id": "dbf9944954b249c9a7ae1f72c0945039",
              "version_major": 2,
              "version_minor": 0
            },
            "text/plain": [
              "QUEUEING TASKS | :   0%|          | 0/15 [00:00<?, ?it/s]"
            ]
          },
          "metadata": {},
          "output_type": "display_data"
        },
        {
          "data": {
            "application/vnd.jupyter.widget-view+json": {
              "model_id": "7022317d95ea45bc9b007d3b161b88f0",
              "version_major": 2,
              "version_minor": 0
            },
            "text/plain": [
              "PROCESSING TASKS | :   0%|          | 0/15 [00:00<?, ?it/s]"
            ]
          },
          "metadata": {},
          "output_type": "display_data"
        },
        {
          "data": {
            "application/vnd.jupyter.widget-view+json": {
              "model_id": "cb9b60f8fbb34a0581cd68427cc0eb59",
              "version_major": 2,
              "version_minor": 0
            },
            "text/plain": [
              "COLLECTING RESULTS | :   0%|          | 0/15 [00:00<?, ?it/s]"
            ]
          },
          "metadata": {},
          "output_type": "display_data"
        },
        {
          "data": {
            "application/vnd.jupyter.widget-view+json": {
              "model_id": "54771c5b2694469dad17b807a0749852",
              "version_major": 2,
              "version_minor": 0
            },
            "text/plain": [
              "QUEUEING TASKS | :   0%|          | 0/15 [00:00<?, ?it/s]"
            ]
          },
          "metadata": {},
          "output_type": "display_data"
        },
        {
          "data": {
            "application/vnd.jupyter.widget-view+json": {
              "model_id": "334a92e7e02c4055ae70897d3fde52a0",
              "version_major": 2,
              "version_minor": 0
            },
            "text/plain": [
              "PROCESSING TASKS | :   0%|          | 0/15 [00:00<?, ?it/s]"
            ]
          },
          "metadata": {},
          "output_type": "display_data"
        },
        {
          "data": {
            "application/vnd.jupyter.widget-view+json": {
              "model_id": "34cbf5bd74914bf7b5485149650f7398",
              "version_major": 2,
              "version_minor": 0
            },
            "text/plain": [
              "COLLECTING RESULTS | :   0%|          | 0/15 [00:00<?, ?it/s]"
            ]
          },
          "metadata": {},
          "output_type": "display_data"
        },
        {
          "data": {
            "application/vnd.jupyter.widget-view+json": {
              "model_id": "a3ea0ceb57084361a26454d1ad881ea2",
              "version_major": 2,
              "version_minor": 0
            },
            "text/plain": [
              "QUEUEING TASKS | :   0%|          | 0/15 [00:00<?, ?it/s]"
            ]
          },
          "metadata": {},
          "output_type": "display_data"
        },
        {
          "data": {
            "application/vnd.jupyter.widget-view+json": {
              "model_id": "fb7bef8361624a179e75670fda05980f",
              "version_major": 2,
              "version_minor": 0
            },
            "text/plain": [
              "PROCESSING TASKS | :   0%|          | 0/15 [00:00<?, ?it/s]"
            ]
          },
          "metadata": {},
          "output_type": "display_data"
        },
        {
          "data": {
            "application/vnd.jupyter.widget-view+json": {
              "model_id": "7927fdd1b00746a8a61a7a391469a233",
              "version_major": 2,
              "version_minor": 0
            },
            "text/plain": [
              "COLLECTING RESULTS | :   0%|          | 0/15 [00:00<?, ?it/s]"
            ]
          },
          "metadata": {},
          "output_type": "display_data"
        },
        {
          "data": {
            "application/vnd.jupyter.widget-view+json": {
              "model_id": "5818b9ddb8e14f28a4b014463a5d2a55",
              "version_major": 2,
              "version_minor": 0
            },
            "text/plain": [
              "QUEUEING TASKS | :   0%|          | 0/15 [00:00<?, ?it/s]"
            ]
          },
          "metadata": {},
          "output_type": "display_data"
        },
        {
          "data": {
            "application/vnd.jupyter.widget-view+json": {
              "model_id": "4252c5c30ee3413ea8fdbcb4d716ca02",
              "version_major": 2,
              "version_minor": 0
            },
            "text/plain": [
              "PROCESSING TASKS | :   0%|          | 0/15 [00:00<?, ?it/s]"
            ]
          },
          "metadata": {},
          "output_type": "display_data"
        },
        {
          "data": {
            "application/vnd.jupyter.widget-view+json": {
              "model_id": "7cc9cd3f4a6b4646a50c32caf8d765a7",
              "version_major": 2,
              "version_minor": 0
            },
            "text/plain": [
              "COLLECTING RESULTS | :   0%|          | 0/15 [00:00<?, ?it/s]"
            ]
          },
          "metadata": {},
          "output_type": "display_data"
        },
        {
          "data": {
            "application/vnd.jupyter.widget-view+json": {
              "model_id": "dcc34c5ac9ca4b9f83bf072fa230874a",
              "version_major": 2,
              "version_minor": 0
            },
            "text/plain": [
              "QUEUEING TASKS | :   0%|          | 0/15 [00:00<?, ?it/s]"
            ]
          },
          "metadata": {},
          "output_type": "display_data"
        },
        {
          "data": {
            "application/vnd.jupyter.widget-view+json": {
              "model_id": "b332d0d9f7204dbb82d057a377643abc",
              "version_major": 2,
              "version_minor": 0
            },
            "text/plain": [
              "PROCESSING TASKS | :   0%|          | 0/15 [00:00<?, ?it/s]"
            ]
          },
          "metadata": {},
          "output_type": "display_data"
        },
        {
          "data": {
            "application/vnd.jupyter.widget-view+json": {
              "model_id": "cb9407022c5d488f9f22a2295f83384d",
              "version_major": 2,
              "version_minor": 0
            },
            "text/plain": [
              "COLLECTING RESULTS | :   0%|          | 0/15 [00:00<?, ?it/s]"
            ]
          },
          "metadata": {},
          "output_type": "display_data"
        },
        {
          "data": {
            "application/vnd.jupyter.widget-view+json": {
              "model_id": "bf0430121a43423b80b2a0408ed5639d",
              "version_major": 2,
              "version_minor": 0
            },
            "text/plain": [
              "QUEUEING TASKS | :   0%|          | 0/15 [00:00<?, ?it/s]"
            ]
          },
          "metadata": {},
          "output_type": "display_data"
        },
        {
          "data": {
            "application/vnd.jupyter.widget-view+json": {
              "model_id": "46d585dda5624925a49e601282dd99ad",
              "version_major": 2,
              "version_minor": 0
            },
            "text/plain": [
              "PROCESSING TASKS | :   0%|          | 0/15 [00:00<?, ?it/s]"
            ]
          },
          "metadata": {},
          "output_type": "display_data"
        },
        {
          "data": {
            "application/vnd.jupyter.widget-view+json": {
              "model_id": "ff5ba8578d6e49fa8c6e1fd56669fa99",
              "version_major": 2,
              "version_minor": 0
            },
            "text/plain": [
              "COLLECTING RESULTS | :   0%|          | 0/15 [00:00<?, ?it/s]"
            ]
          },
          "metadata": {},
          "output_type": "display_data"
        },
        {
          "data": {
            "application/vnd.jupyter.widget-view+json": {
              "model_id": "71acff8f34bc4bdea6d66d9c2138f889",
              "version_major": 2,
              "version_minor": 0
            },
            "text/plain": [
              "QUEUEING TASKS | :   0%|          | 0/15 [00:00<?, ?it/s]"
            ]
          },
          "metadata": {},
          "output_type": "display_data"
        },
        {
          "data": {
            "application/vnd.jupyter.widget-view+json": {
              "model_id": "fe5d9119a65d4b468fc48c0539c68ccf",
              "version_major": 2,
              "version_minor": 0
            },
            "text/plain": [
              "PROCESSING TASKS | :   0%|          | 0/15 [00:00<?, ?it/s]"
            ]
          },
          "metadata": {},
          "output_type": "display_data"
        },
        {
          "data": {
            "application/vnd.jupyter.widget-view+json": {
              "model_id": "537cadd428c046c6a00f7528a24101ee",
              "version_major": 2,
              "version_minor": 0
            },
            "text/plain": [
              "COLLECTING RESULTS | :   0%|          | 0/15 [00:00<?, ?it/s]"
            ]
          },
          "metadata": {},
          "output_type": "display_data"
        },
        {
          "data": {
            "application/vnd.jupyter.widget-view+json": {
              "model_id": "f73601b40a374ff2ab61eff1559aab3f",
              "version_major": 2,
              "version_minor": 0
            },
            "text/plain": [
              "QUEUEING TASKS | :   0%|          | 0/15 [00:00<?, ?it/s]"
            ]
          },
          "metadata": {},
          "output_type": "display_data"
        },
        {
          "data": {
            "application/vnd.jupyter.widget-view+json": {
              "model_id": "911ae7fa30ff4d9080c64a108566d721",
              "version_major": 2,
              "version_minor": 0
            },
            "text/plain": [
              "PROCESSING TASKS | :   0%|          | 0/15 [00:00<?, ?it/s]"
            ]
          },
          "metadata": {},
          "output_type": "display_data"
        },
        {
          "data": {
            "application/vnd.jupyter.widget-view+json": {
              "model_id": "9bc2ca1c44e54b64ba2c328ecb2608e1",
              "version_major": 2,
              "version_minor": 0
            },
            "text/plain": [
              "COLLECTING RESULTS | :   0%|          | 0/15 [00:00<?, ?it/s]"
            ]
          },
          "metadata": {},
          "output_type": "display_data"
        },
        {
          "data": {
            "application/vnd.jupyter.widget-view+json": {
              "model_id": "17ad383c30c149e4a5757dffeb0c0eb4",
              "version_major": 2,
              "version_minor": 0
            },
            "text/plain": [
              "QUEUEING TASKS | :   0%|          | 0/15 [00:00<?, ?it/s]"
            ]
          },
          "metadata": {},
          "output_type": "display_data"
        },
        {
          "data": {
            "application/vnd.jupyter.widget-view+json": {
              "model_id": "1138d7e9dcc943bebe55109d79cb6ae7",
              "version_major": 2,
              "version_minor": 0
            },
            "text/plain": [
              "PROCESSING TASKS | :   0%|          | 0/15 [00:00<?, ?it/s]"
            ]
          },
          "metadata": {},
          "output_type": "display_data"
        },
        {
          "data": {
            "application/vnd.jupyter.widget-view+json": {
              "model_id": "17bf876313fb4ae1a11c554eed4f022b",
              "version_major": 2,
              "version_minor": 0
            },
            "text/plain": [
              "COLLECTING RESULTS | :   0%|          | 0/15 [00:00<?, ?it/s]"
            ]
          },
          "metadata": {},
          "output_type": "display_data"
        },
        {
          "data": {
            "application/vnd.jupyter.widget-view+json": {
              "model_id": "0f18472a57d742c6b8bade8c29f419d2",
              "version_major": 2,
              "version_minor": 0
            },
            "text/plain": [
              "QUEUEING TASKS | :   0%|          | 0/15 [00:00<?, ?it/s]"
            ]
          },
          "metadata": {},
          "output_type": "display_data"
        },
        {
          "data": {
            "application/vnd.jupyter.widget-view+json": {
              "model_id": "9e5cbd8a99274b329f5a99de607e1c8f",
              "version_major": 2,
              "version_minor": 0
            },
            "text/plain": [
              "PROCESSING TASKS | :   0%|          | 0/15 [00:00<?, ?it/s]"
            ]
          },
          "metadata": {},
          "output_type": "display_data"
        },
        {
          "data": {
            "application/vnd.jupyter.widget-view+json": {
              "model_id": "df45e6a32fcc4437af55a10831caaaf4",
              "version_major": 2,
              "version_minor": 0
            },
            "text/plain": [
              "COLLECTING RESULTS | :   0%|          | 0/15 [00:00<?, ?it/s]"
            ]
          },
          "metadata": {},
          "output_type": "display_data"
        },
        {
          "data": {
            "application/vnd.jupyter.widget-view+json": {
              "model_id": "9cebb3f65bb449ef9825547e6e54516f",
              "version_major": 2,
              "version_minor": 0
            },
            "text/plain": [
              "QUEUEING TASKS | :   0%|          | 0/15 [00:00<?, ?it/s]"
            ]
          },
          "metadata": {},
          "output_type": "display_data"
        },
        {
          "data": {
            "application/vnd.jupyter.widget-view+json": {
              "model_id": "32eede045091442c8c385df981bdd1a6",
              "version_major": 2,
              "version_minor": 0
            },
            "text/plain": [
              "PROCESSING TASKS | :   0%|          | 0/15 [00:00<?, ?it/s]"
            ]
          },
          "metadata": {},
          "output_type": "display_data"
        },
        {
          "data": {
            "application/vnd.jupyter.widget-view+json": {
              "model_id": "2a97a515d8304a039270c4a82b9299f4",
              "version_major": 2,
              "version_minor": 0
            },
            "text/plain": [
              "COLLECTING RESULTS | :   0%|          | 0/15 [00:00<?, ?it/s]"
            ]
          },
          "metadata": {},
          "output_type": "display_data"
        },
        {
          "data": {
            "application/vnd.jupyter.widget-view+json": {
              "model_id": "0cf35fe597684d6893fb38d43e33bc06",
              "version_major": 2,
              "version_minor": 0
            },
            "text/plain": [
              "QUEUEING TASKS | :   0%|          | 0/15 [00:00<?, ?it/s]"
            ]
          },
          "metadata": {},
          "output_type": "display_data"
        },
        {
          "data": {
            "application/vnd.jupyter.widget-view+json": {
              "model_id": "06d3669af0184671bc2474729e78cb2f",
              "version_major": 2,
              "version_minor": 0
            },
            "text/plain": [
              "PROCESSING TASKS | :   0%|          | 0/15 [00:00<?, ?it/s]"
            ]
          },
          "metadata": {},
          "output_type": "display_data"
        },
        {
          "data": {
            "application/vnd.jupyter.widget-view+json": {
              "model_id": "d933c5198aec4006b9ab57efe642e61d",
              "version_major": 2,
              "version_minor": 0
            },
            "text/plain": [
              "COLLECTING RESULTS | :   0%|          | 0/15 [00:00<?, ?it/s]"
            ]
          },
          "metadata": {},
          "output_type": "display_data"
        },
        {
          "data": {
            "application/vnd.jupyter.widget-view+json": {
              "model_id": "590a5996fb424df9b3afe10681397862",
              "version_major": 2,
              "version_minor": 0
            },
            "text/plain": [
              "QUEUEING TASKS | :   0%|          | 0/15 [00:00<?, ?it/s]"
            ]
          },
          "metadata": {},
          "output_type": "display_data"
        },
        {
          "data": {
            "application/vnd.jupyter.widget-view+json": {
              "model_id": "cb895026e69844dda24b7df7449417e2",
              "version_major": 2,
              "version_minor": 0
            },
            "text/plain": [
              "PROCESSING TASKS | :   0%|          | 0/15 [00:00<?, ?it/s]"
            ]
          },
          "metadata": {},
          "output_type": "display_data"
        },
        {
          "data": {
            "application/vnd.jupyter.widget-view+json": {
              "model_id": "a1fa4bdd5f40441db724b376b533f205",
              "version_major": 2,
              "version_minor": 0
            },
            "text/plain": [
              "COLLECTING RESULTS | :   0%|          | 0/15 [00:00<?, ?it/s]"
            ]
          },
          "metadata": {},
          "output_type": "display_data"
        },
        {
          "data": {
            "application/vnd.jupyter.widget-view+json": {
              "model_id": "30b75dc06c55474e8105b7cabc60cce2",
              "version_major": 2,
              "version_minor": 0
            },
            "text/plain": [
              "QUEUEING TASKS | :   0%|          | 0/15 [00:00<?, ?it/s]"
            ]
          },
          "metadata": {},
          "output_type": "display_data"
        },
        {
          "data": {
            "application/vnd.jupyter.widget-view+json": {
              "model_id": "40804bdf561d47e5a5c94ed20c2260cc",
              "version_major": 2,
              "version_minor": 0
            },
            "text/plain": [
              "PROCESSING TASKS | :   0%|          | 0/15 [00:00<?, ?it/s]"
            ]
          },
          "metadata": {},
          "output_type": "display_data"
        },
        {
          "data": {
            "application/vnd.jupyter.widget-view+json": {
              "model_id": "6992cd34e872441e9e2012947ae0ce0d",
              "version_major": 2,
              "version_minor": 0
            },
            "text/plain": [
              "COLLECTING RESULTS | :   0%|          | 0/15 [00:00<?, ?it/s]"
            ]
          },
          "metadata": {},
          "output_type": "display_data"
        },
        {
          "data": {
            "application/vnd.jupyter.widget-view+json": {
              "model_id": "fa7e3897045d44aabc87d74b6735f8df",
              "version_major": 2,
              "version_minor": 0
            },
            "text/plain": [
              "QUEUEING TASKS | :   0%|          | 0/15 [00:00<?, ?it/s]"
            ]
          },
          "metadata": {},
          "output_type": "display_data"
        },
        {
          "data": {
            "application/vnd.jupyter.widget-view+json": {
              "model_id": "985c47011ca64ae3b4893e32f7e209f0",
              "version_major": 2,
              "version_minor": 0
            },
            "text/plain": [
              "PROCESSING TASKS | :   0%|          | 0/15 [00:00<?, ?it/s]"
            ]
          },
          "metadata": {},
          "output_type": "display_data"
        },
        {
          "data": {
            "application/vnd.jupyter.widget-view+json": {
              "model_id": "eb1391c1df6d463d92e0c49cef02a86b",
              "version_major": 2,
              "version_minor": 0
            },
            "text/plain": [
              "COLLECTING RESULTS | :   0%|          | 0/15 [00:00<?, ?it/s]"
            ]
          },
          "metadata": {},
          "output_type": "display_data"
        },
        {
          "data": {
            "application/vnd.jupyter.widget-view+json": {
              "model_id": "80d9888fe0ee4ffaaa7599a798c0368d",
              "version_major": 2,
              "version_minor": 0
            },
            "text/plain": [
              "QUEUEING TASKS | :   0%|          | 0/15 [00:00<?, ?it/s]"
            ]
          },
          "metadata": {},
          "output_type": "display_data"
        },
        {
          "data": {
            "application/vnd.jupyter.widget-view+json": {
              "model_id": "4a1f01eb9f8d481ab4ce035e9e0a4baf",
              "version_major": 2,
              "version_minor": 0
            },
            "text/plain": [
              "PROCESSING TASKS | :   0%|          | 0/15 [00:00<?, ?it/s]"
            ]
          },
          "metadata": {},
          "output_type": "display_data"
        },
        {
          "data": {
            "application/vnd.jupyter.widget-view+json": {
              "model_id": "f33a602f65b041709b17778350e3b4e6",
              "version_major": 2,
              "version_minor": 0
            },
            "text/plain": [
              "COLLECTING RESULTS | :   0%|          | 0/15 [00:00<?, ?it/s]"
            ]
          },
          "metadata": {},
          "output_type": "display_data"
        },
        {
          "data": {
            "application/vnd.jupyter.widget-view+json": {
              "model_id": "d28f2066162648f892a379c1c8c99eda",
              "version_major": 2,
              "version_minor": 0
            },
            "text/plain": [
              "QUEUEING TASKS | :   0%|          | 0/15 [00:00<?, ?it/s]"
            ]
          },
          "metadata": {},
          "output_type": "display_data"
        },
        {
          "data": {
            "application/vnd.jupyter.widget-view+json": {
              "model_id": "4fbf030b6068481fafdca418cef13930",
              "version_major": 2,
              "version_minor": 0
            },
            "text/plain": [
              "PROCESSING TASKS | :   0%|          | 0/15 [00:00<?, ?it/s]"
            ]
          },
          "metadata": {},
          "output_type": "display_data"
        },
        {
          "data": {
            "application/vnd.jupyter.widget-view+json": {
              "model_id": "9a05d9257bab4ee48f2a9ec11a32fd90",
              "version_major": 2,
              "version_minor": 0
            },
            "text/plain": [
              "COLLECTING RESULTS | :   0%|          | 0/15 [00:00<?, ?it/s]"
            ]
          },
          "metadata": {},
          "output_type": "display_data"
        },
        {
          "data": {
            "application/vnd.jupyter.widget-view+json": {
              "model_id": "319960d8d1334ee3be2a677486244cf3",
              "version_major": 2,
              "version_minor": 0
            },
            "text/plain": [
              "QUEUEING TASKS | :   0%|          | 0/15 [00:00<?, ?it/s]"
            ]
          },
          "metadata": {},
          "output_type": "display_data"
        },
        {
          "data": {
            "application/vnd.jupyter.widget-view+json": {
              "model_id": "75433a92521a46ffb08d4c2ddc5a17e9",
              "version_major": 2,
              "version_minor": 0
            },
            "text/plain": [
              "PROCESSING TASKS | :   0%|          | 0/15 [00:00<?, ?it/s]"
            ]
          },
          "metadata": {},
          "output_type": "display_data"
        },
        {
          "data": {
            "application/vnd.jupyter.widget-view+json": {
              "model_id": "129136e435124265b1bcf96f794a4869",
              "version_major": 2,
              "version_minor": 0
            },
            "text/plain": [
              "COLLECTING RESULTS | :   0%|          | 0/15 [00:00<?, ?it/s]"
            ]
          },
          "metadata": {},
          "output_type": "display_data"
        },
        {
          "data": {
            "application/vnd.jupyter.widget-view+json": {
              "model_id": "8e060e435bb443d38801bee02bab2fc9",
              "version_major": 2,
              "version_minor": 0
            },
            "text/plain": [
              "QUEUEING TASKS | :   0%|          | 0/15 [00:00<?, ?it/s]"
            ]
          },
          "metadata": {},
          "output_type": "display_data"
        },
        {
          "data": {
            "application/vnd.jupyter.widget-view+json": {
              "model_id": "d45689c930b8450f9dd7c3432f1e614a",
              "version_major": 2,
              "version_minor": 0
            },
            "text/plain": [
              "PROCESSING TASKS | :   0%|          | 0/15 [00:00<?, ?it/s]"
            ]
          },
          "metadata": {},
          "output_type": "display_data"
        },
        {
          "data": {
            "application/vnd.jupyter.widget-view+json": {
              "model_id": "50adc0fc0ae94aeea001312abd32b880",
              "version_major": 2,
              "version_minor": 0
            },
            "text/plain": [
              "COLLECTING RESULTS | :   0%|          | 0/15 [00:00<?, ?it/s]"
            ]
          },
          "metadata": {},
          "output_type": "display_data"
        },
        {
          "data": {
            "application/vnd.jupyter.widget-view+json": {
              "model_id": "81d605d2a5834ad5bbaecf877bb95bd4",
              "version_major": 2,
              "version_minor": 0
            },
            "text/plain": [
              "QUEUEING TASKS | :   0%|          | 0/15 [00:00<?, ?it/s]"
            ]
          },
          "metadata": {},
          "output_type": "display_data"
        },
        {
          "data": {
            "application/vnd.jupyter.widget-view+json": {
              "model_id": "47a9152ef2c7457a9a43ed3bd03f957a",
              "version_major": 2,
              "version_minor": 0
            },
            "text/plain": [
              "PROCESSING TASKS | :   0%|          | 0/15 [00:00<?, ?it/s]"
            ]
          },
          "metadata": {},
          "output_type": "display_data"
        },
        {
          "data": {
            "application/vnd.jupyter.widget-view+json": {
              "model_id": "20765dc9601a4d0cb46993fddd7628fa",
              "version_major": 2,
              "version_minor": 0
            },
            "text/plain": [
              "COLLECTING RESULTS | :   0%|          | 0/15 [00:00<?, ?it/s]"
            ]
          },
          "metadata": {},
          "output_type": "display_data"
        },
        {
          "data": {
            "application/vnd.jupyter.widget-view+json": {
              "model_id": "0eb41e4b55a6475580b194f5ede6a7ac",
              "version_major": 2,
              "version_minor": 0
            },
            "text/plain": [
              "QUEUEING TASKS | :   0%|          | 0/15 [00:00<?, ?it/s]"
            ]
          },
          "metadata": {},
          "output_type": "display_data"
        },
        {
          "data": {
            "application/vnd.jupyter.widget-view+json": {
              "model_id": "e2005f6f797745868d5094c18fef298a",
              "version_major": 2,
              "version_minor": 0
            },
            "text/plain": [
              "PROCESSING TASKS | :   0%|          | 0/15 [00:00<?, ?it/s]"
            ]
          },
          "metadata": {},
          "output_type": "display_data"
        },
        {
          "data": {
            "application/vnd.jupyter.widget-view+json": {
              "model_id": "d92b943c88424b319343aa4a023a6d8a",
              "version_major": 2,
              "version_minor": 0
            },
            "text/plain": [
              "COLLECTING RESULTS | :   0%|          | 0/15 [00:00<?, ?it/s]"
            ]
          },
          "metadata": {},
          "output_type": "display_data"
        },
        {
          "data": {
            "application/vnd.jupyter.widget-view+json": {
              "model_id": "bb8b29b9f79a4691943c0a2d8792cc5f",
              "version_major": 2,
              "version_minor": 0
            },
            "text/plain": [
              "QUEUEING TASKS | :   0%|          | 0/15 [00:00<?, ?it/s]"
            ]
          },
          "metadata": {},
          "output_type": "display_data"
        },
        {
          "data": {
            "application/vnd.jupyter.widget-view+json": {
              "model_id": "c274692d9b5c45168a2dd41fe24c962e",
              "version_major": 2,
              "version_minor": 0
            },
            "text/plain": [
              "PROCESSING TASKS | :   0%|          | 0/15 [00:00<?, ?it/s]"
            ]
          },
          "metadata": {},
          "output_type": "display_data"
        },
        {
          "data": {
            "application/vnd.jupyter.widget-view+json": {
              "model_id": "55f3de87cc8342eab4905cdf892b1eaf",
              "version_major": 2,
              "version_minor": 0
            },
            "text/plain": [
              "COLLECTING RESULTS | :   0%|          | 0/15 [00:00<?, ?it/s]"
            ]
          },
          "metadata": {},
          "output_type": "display_data"
        },
        {
          "data": {
            "application/vnd.jupyter.widget-view+json": {
              "model_id": "12f28c1d2e2a416a9af0d32bddf65511",
              "version_major": 2,
              "version_minor": 0
            },
            "text/plain": [
              "QUEUEING TASKS | :   0%|          | 0/15 [00:00<?, ?it/s]"
            ]
          },
          "metadata": {},
          "output_type": "display_data"
        },
        {
          "data": {
            "application/vnd.jupyter.widget-view+json": {
              "model_id": "443d066e1b1549f09de929c89aa34195",
              "version_major": 2,
              "version_minor": 0
            },
            "text/plain": [
              "PROCESSING TASKS | :   0%|          | 0/15 [00:00<?, ?it/s]"
            ]
          },
          "metadata": {},
          "output_type": "display_data"
        },
        {
          "data": {
            "application/vnd.jupyter.widget-view+json": {
              "model_id": "8bb2eb2751dd49fe9a29479d492ee1b1",
              "version_major": 2,
              "version_minor": 0
            },
            "text/plain": [
              "COLLECTING RESULTS | :   0%|          | 0/15 [00:00<?, ?it/s]"
            ]
          },
          "metadata": {},
          "output_type": "display_data"
        },
        {
          "data": {
            "application/vnd.jupyter.widget-view+json": {
              "model_id": "a74edad82a9d499098701efedc127c92",
              "version_major": 2,
              "version_minor": 0
            },
            "text/plain": [
              "QUEUEING TASKS | :   0%|          | 0/15 [00:00<?, ?it/s]"
            ]
          },
          "metadata": {},
          "output_type": "display_data"
        },
        {
          "data": {
            "application/vnd.jupyter.widget-view+json": {
              "model_id": "aaf8a8520ea84de8a47f238313ef7130",
              "version_major": 2,
              "version_minor": 0
            },
            "text/plain": [
              "PROCESSING TASKS | :   0%|          | 0/15 [00:00<?, ?it/s]"
            ]
          },
          "metadata": {},
          "output_type": "display_data"
        },
        {
          "data": {
            "application/vnd.jupyter.widget-view+json": {
              "model_id": "e6eaa7b020114991add7f9ffb83adf1a",
              "version_major": 2,
              "version_minor": 0
            },
            "text/plain": [
              "COLLECTING RESULTS | :   0%|          | 0/15 [00:00<?, ?it/s]"
            ]
          },
          "metadata": {},
          "output_type": "display_data"
        },
        {
          "data": {
            "application/vnd.jupyter.widget-view+json": {
              "model_id": "ce2b97ab010047758d85a090ae5727ce",
              "version_major": 2,
              "version_minor": 0
            },
            "text/plain": [
              "QUEUEING TASKS | :   0%|          | 0/15 [00:00<?, ?it/s]"
            ]
          },
          "metadata": {},
          "output_type": "display_data"
        },
        {
          "data": {
            "application/vnd.jupyter.widget-view+json": {
              "model_id": "25e6dd929ae14732a736fd4096a682eb",
              "version_major": 2,
              "version_minor": 0
            },
            "text/plain": [
              "PROCESSING TASKS | :   0%|          | 0/15 [00:00<?, ?it/s]"
            ]
          },
          "metadata": {},
          "output_type": "display_data"
        },
        {
          "data": {
            "application/vnd.jupyter.widget-view+json": {
              "model_id": "87879f3aec14467e86358c6e3f417860",
              "version_major": 2,
              "version_minor": 0
            },
            "text/plain": [
              "COLLECTING RESULTS | :   0%|          | 0/15 [00:00<?, ?it/s]"
            ]
          },
          "metadata": {},
          "output_type": "display_data"
        },
        {
          "data": {
            "application/vnd.jupyter.widget-view+json": {
              "model_id": "1b3c2ba43ef84e9bbe2bb82e58ee5c50",
              "version_major": 2,
              "version_minor": 0
            },
            "text/plain": [
              "QUEUEING TASKS | :   0%|          | 0/15 [00:00<?, ?it/s]"
            ]
          },
          "metadata": {},
          "output_type": "display_data"
        },
        {
          "data": {
            "application/vnd.jupyter.widget-view+json": {
              "model_id": "79c133398fff4c628f86e75b11d5c667",
              "version_major": 2,
              "version_minor": 0
            },
            "text/plain": [
              "PROCESSING TASKS | :   0%|          | 0/15 [00:00<?, ?it/s]"
            ]
          },
          "metadata": {},
          "output_type": "display_data"
        },
        {
          "data": {
            "application/vnd.jupyter.widget-view+json": {
              "model_id": "168a53d4b11e4dd39904bb797e5a26ab",
              "version_major": 2,
              "version_minor": 0
            },
            "text/plain": [
              "COLLECTING RESULTS | :   0%|          | 0/15 [00:00<?, ?it/s]"
            ]
          },
          "metadata": {},
          "output_type": "display_data"
        },
        {
          "data": {
            "application/vnd.jupyter.widget-view+json": {
              "model_id": "809d27ac4390446c9b4e7b2937d1413d",
              "version_major": 2,
              "version_minor": 0
            },
            "text/plain": [
              "QUEUEING TASKS | :   0%|          | 0/15 [00:00<?, ?it/s]"
            ]
          },
          "metadata": {},
          "output_type": "display_data"
        },
        {
          "data": {
            "application/vnd.jupyter.widget-view+json": {
              "model_id": "38248452c76947a2a49f6b2f6a27fd01",
              "version_major": 2,
              "version_minor": 0
            },
            "text/plain": [
              "PROCESSING TASKS | :   0%|          | 0/15 [00:00<?, ?it/s]"
            ]
          },
          "metadata": {},
          "output_type": "display_data"
        },
        {
          "data": {
            "application/vnd.jupyter.widget-view+json": {
              "model_id": "e6ac8f4cb3d4413c9efab381661903e7",
              "version_major": 2,
              "version_minor": 0
            },
            "text/plain": [
              "COLLECTING RESULTS | :   0%|          | 0/15 [00:00<?, ?it/s]"
            ]
          },
          "metadata": {},
          "output_type": "display_data"
        },
        {
          "data": {
            "application/vnd.jupyter.widget-view+json": {
              "model_id": "08e2cc086cad439586a9986328b9ec1f",
              "version_major": 2,
              "version_minor": 0
            },
            "text/plain": [
              "QUEUEING TASKS | :   0%|          | 0/15 [00:00<?, ?it/s]"
            ]
          },
          "metadata": {},
          "output_type": "display_data"
        },
        {
          "data": {
            "application/vnd.jupyter.widget-view+json": {
              "model_id": "c61eae4007ee480b8bd5d26e10af0b88",
              "version_major": 2,
              "version_minor": 0
            },
            "text/plain": [
              "PROCESSING TASKS | :   0%|          | 0/15 [00:00<?, ?it/s]"
            ]
          },
          "metadata": {},
          "output_type": "display_data"
        },
        {
          "data": {
            "application/vnd.jupyter.widget-view+json": {
              "model_id": "065c163751b846c0bf91d33b9e7c1c17",
              "version_major": 2,
              "version_minor": 0
            },
            "text/plain": [
              "COLLECTING RESULTS | :   0%|          | 0/15 [00:00<?, ?it/s]"
            ]
          },
          "metadata": {},
          "output_type": "display_data"
        },
        {
          "data": {
            "application/vnd.jupyter.widget-view+json": {
              "model_id": "583ff563dcf44723a9d5c14886abc8be",
              "version_major": 2,
              "version_minor": 0
            },
            "text/plain": [
              "QUEUEING TASKS | :   0%|          | 0/15 [00:00<?, ?it/s]"
            ]
          },
          "metadata": {},
          "output_type": "display_data"
        },
        {
          "data": {
            "application/vnd.jupyter.widget-view+json": {
              "model_id": "01ab49706e4e4fe988c626a60fce4f2b",
              "version_major": 2,
              "version_minor": 0
            },
            "text/plain": [
              "PROCESSING TASKS | :   0%|          | 0/15 [00:00<?, ?it/s]"
            ]
          },
          "metadata": {},
          "output_type": "display_data"
        },
        {
          "data": {
            "application/vnd.jupyter.widget-view+json": {
              "model_id": "42dcf4485c5f456fa7e63afc77a4d339",
              "version_major": 2,
              "version_minor": 0
            },
            "text/plain": [
              "COLLECTING RESULTS | :   0%|          | 0/15 [00:00<?, ?it/s]"
            ]
          },
          "metadata": {},
          "output_type": "display_data"
        },
        {
          "data": {
            "application/vnd.jupyter.widget-view+json": {
              "model_id": "0499d38c334e4152a394bd49871746ae",
              "version_major": 2,
              "version_minor": 0
            },
            "text/plain": [
              "QUEUEING TASKS | :   0%|          | 0/15 [00:00<?, ?it/s]"
            ]
          },
          "metadata": {},
          "output_type": "display_data"
        },
        {
          "data": {
            "application/vnd.jupyter.widget-view+json": {
              "model_id": "c1edc9fd0ca444628b98c50f0b5e369f",
              "version_major": 2,
              "version_minor": 0
            },
            "text/plain": [
              "PROCESSING TASKS | :   0%|          | 0/15 [00:00<?, ?it/s]"
            ]
          },
          "metadata": {},
          "output_type": "display_data"
        },
        {
          "data": {
            "application/vnd.jupyter.widget-view+json": {
              "model_id": "21e6dbf439764ae89b6d756714c9b983",
              "version_major": 2,
              "version_minor": 0
            },
            "text/plain": [
              "COLLECTING RESULTS | :   0%|          | 0/15 [00:00<?, ?it/s]"
            ]
          },
          "metadata": {},
          "output_type": "display_data"
        },
        {
          "data": {
            "application/vnd.jupyter.widget-view+json": {
              "model_id": "1c1437ff181a49b5b948ab91cb17a9a6",
              "version_major": 2,
              "version_minor": 0
            },
            "text/plain": [
              "QUEUEING TASKS | :   0%|          | 0/15 [00:00<?, ?it/s]"
            ]
          },
          "metadata": {},
          "output_type": "display_data"
        },
        {
          "data": {
            "application/vnd.jupyter.widget-view+json": {
              "model_id": "c5c5273633d347bcb3febda997663b6f",
              "version_major": 2,
              "version_minor": 0
            },
            "text/plain": [
              "PROCESSING TASKS | :   0%|          | 0/15 [00:00<?, ?it/s]"
            ]
          },
          "metadata": {},
          "output_type": "display_data"
        },
        {
          "data": {
            "application/vnd.jupyter.widget-view+json": {
              "model_id": "5f42cc5ce08d46f992755faa9d0290d0",
              "version_major": 2,
              "version_minor": 0
            },
            "text/plain": [
              "COLLECTING RESULTS | :   0%|          | 0/15 [00:00<?, ?it/s]"
            ]
          },
          "metadata": {},
          "output_type": "display_data"
        },
        {
          "data": {
            "application/vnd.jupyter.widget-view+json": {
              "model_id": "1194318e109b4ba2907f38fa1ec36265",
              "version_major": 2,
              "version_minor": 0
            },
            "text/plain": [
              "QUEUEING TASKS | :   0%|          | 0/15 [00:00<?, ?it/s]"
            ]
          },
          "metadata": {},
          "output_type": "display_data"
        },
        {
          "data": {
            "application/vnd.jupyter.widget-view+json": {
              "model_id": "7a5bab16e9a8417bb1128b44bad50cdf",
              "version_major": 2,
              "version_minor": 0
            },
            "text/plain": [
              "PROCESSING TASKS | :   0%|          | 0/15 [00:00<?, ?it/s]"
            ]
          },
          "metadata": {},
          "output_type": "display_data"
        },
        {
          "data": {
            "application/vnd.jupyter.widget-view+json": {
              "model_id": "3463c51081fb4c0f9a4ec3009bd0bc52",
              "version_major": 2,
              "version_minor": 0
            },
            "text/plain": [
              "COLLECTING RESULTS | :   0%|          | 0/15 [00:00<?, ?it/s]"
            ]
          },
          "metadata": {},
          "output_type": "display_data"
        },
        {
          "data": {
            "application/vnd.jupyter.widget-view+json": {
              "model_id": "27bc2223466d49c19336f8720ed144a3",
              "version_major": 2,
              "version_minor": 0
            },
            "text/plain": [
              "QUEUEING TASKS | :   0%|          | 0/15 [00:00<?, ?it/s]"
            ]
          },
          "metadata": {},
          "output_type": "display_data"
        },
        {
          "data": {
            "application/vnd.jupyter.widget-view+json": {
              "model_id": "c3345b0f8db04f0e9785791936640b62",
              "version_major": 2,
              "version_minor": 0
            },
            "text/plain": [
              "PROCESSING TASKS | :   0%|          | 0/15 [00:00<?, ?it/s]"
            ]
          },
          "metadata": {},
          "output_type": "display_data"
        },
        {
          "data": {
            "application/vnd.jupyter.widget-view+json": {
              "model_id": "bc0cdb22e2b049e8ba3a335dc36ca3fd",
              "version_major": 2,
              "version_minor": 0
            },
            "text/plain": [
              "COLLECTING RESULTS | :   0%|          | 0/15 [00:00<?, ?it/s]"
            ]
          },
          "metadata": {},
          "output_type": "display_data"
        },
        {
          "data": {
            "application/vnd.jupyter.widget-view+json": {
              "model_id": "b634455038e040f1b609e9bd8f1bf6cb",
              "version_major": 2,
              "version_minor": 0
            },
            "text/plain": [
              "QUEUEING TASKS | :   0%|          | 0/15 [00:00<?, ?it/s]"
            ]
          },
          "metadata": {},
          "output_type": "display_data"
        },
        {
          "data": {
            "application/vnd.jupyter.widget-view+json": {
              "model_id": "e4b7f7d2e4094cdc85e4984afaed6a67",
              "version_major": 2,
              "version_minor": 0
            },
            "text/plain": [
              "PROCESSING TASKS | :   0%|          | 0/15 [00:00<?, ?it/s]"
            ]
          },
          "metadata": {},
          "output_type": "display_data"
        },
        {
          "data": {
            "application/vnd.jupyter.widget-view+json": {
              "model_id": "32db291a5a994dde93f5560cc752fc17",
              "version_major": 2,
              "version_minor": 0
            },
            "text/plain": [
              "COLLECTING RESULTS | :   0%|          | 0/15 [00:00<?, ?it/s]"
            ]
          },
          "metadata": {},
          "output_type": "display_data"
        },
        {
          "data": {
            "application/vnd.jupyter.widget-view+json": {
              "model_id": "3d498db5331f4d9e87029efe25448da7",
              "version_major": 2,
              "version_minor": 0
            },
            "text/plain": [
              "QUEUEING TASKS | :   0%|          | 0/15 [00:00<?, ?it/s]"
            ]
          },
          "metadata": {},
          "output_type": "display_data"
        },
        {
          "data": {
            "application/vnd.jupyter.widget-view+json": {
              "model_id": "a62eb5c953df4dc9b32effaad412b723",
              "version_major": 2,
              "version_minor": 0
            },
            "text/plain": [
              "PROCESSING TASKS | :   0%|          | 0/15 [00:00<?, ?it/s]"
            ]
          },
          "metadata": {},
          "output_type": "display_data"
        },
        {
          "data": {
            "application/vnd.jupyter.widget-view+json": {
              "model_id": "8d990cfc604148b1b8675d857d8743f3",
              "version_major": 2,
              "version_minor": 0
            },
            "text/plain": [
              "COLLECTING RESULTS | :   0%|          | 0/15 [00:00<?, ?it/s]"
            ]
          },
          "metadata": {},
          "output_type": "display_data"
        },
        {
          "data": {
            "application/vnd.jupyter.widget-view+json": {
              "model_id": "82887b0b460541f88e64a8304c96d0e0",
              "version_major": 2,
              "version_minor": 0
            },
            "text/plain": [
              "QUEUEING TASKS | :   0%|          | 0/15 [00:00<?, ?it/s]"
            ]
          },
          "metadata": {},
          "output_type": "display_data"
        },
        {
          "data": {
            "application/vnd.jupyter.widget-view+json": {
              "model_id": "fc18dc9a675744d29d0d8e8e4166c16e",
              "version_major": 2,
              "version_minor": 0
            },
            "text/plain": [
              "PROCESSING TASKS | :   0%|          | 0/15 [00:00<?, ?it/s]"
            ]
          },
          "metadata": {},
          "output_type": "display_data"
        },
        {
          "data": {
            "application/vnd.jupyter.widget-view+json": {
              "model_id": "4e9f98f13e37456fae69bb5853f6257d",
              "version_major": 2,
              "version_minor": 0
            },
            "text/plain": [
              "COLLECTING RESULTS | :   0%|          | 0/15 [00:00<?, ?it/s]"
            ]
          },
          "metadata": {},
          "output_type": "display_data"
        },
        {
          "data": {
            "application/vnd.jupyter.widget-view+json": {
              "model_id": "5d0df399846d4497a3e484a9b49791d2",
              "version_major": 2,
              "version_minor": 0
            },
            "text/plain": [
              "QUEUEING TASKS | :   0%|          | 0/15 [00:00<?, ?it/s]"
            ]
          },
          "metadata": {},
          "output_type": "display_data"
        },
        {
          "data": {
            "application/vnd.jupyter.widget-view+json": {
              "model_id": "d3dd08262f434400aae6a1d530ab790a",
              "version_major": 2,
              "version_minor": 0
            },
            "text/plain": [
              "PROCESSING TASKS | :   0%|          | 0/15 [00:00<?, ?it/s]"
            ]
          },
          "metadata": {},
          "output_type": "display_data"
        },
        {
          "data": {
            "application/vnd.jupyter.widget-view+json": {
              "model_id": "ca619a0df64146b0b0b6e9ddb37d2391",
              "version_major": 2,
              "version_minor": 0
            },
            "text/plain": [
              "COLLECTING RESULTS | :   0%|          | 0/15 [00:00<?, ?it/s]"
            ]
          },
          "metadata": {},
          "output_type": "display_data"
        },
        {
          "data": {
            "application/vnd.jupyter.widget-view+json": {
              "model_id": "d86d0f75862d4143ae12a7a08ebbcd25",
              "version_major": 2,
              "version_minor": 0
            },
            "text/plain": [
              "QUEUEING TASKS | :   0%|          | 0/15 [00:00<?, ?it/s]"
            ]
          },
          "metadata": {},
          "output_type": "display_data"
        },
        {
          "data": {
            "application/vnd.jupyter.widget-view+json": {
              "model_id": "304db9af6c684c36918728627d041992",
              "version_major": 2,
              "version_minor": 0
            },
            "text/plain": [
              "PROCESSING TASKS | :   0%|          | 0/15 [00:00<?, ?it/s]"
            ]
          },
          "metadata": {},
          "output_type": "display_data"
        },
        {
          "data": {
            "application/vnd.jupyter.widget-view+json": {
              "model_id": "7258c997837a42c6b37582c7f3c6274c",
              "version_major": 2,
              "version_minor": 0
            },
            "text/plain": [
              "COLLECTING RESULTS | :   0%|          | 0/15 [00:00<?, ?it/s]"
            ]
          },
          "metadata": {},
          "output_type": "display_data"
        },
        {
          "data": {
            "application/vnd.jupyter.widget-view+json": {
              "model_id": "aaec1adfe3734efc830d5e7ebed04856",
              "version_major": 2,
              "version_minor": 0
            },
            "text/plain": [
              "QUEUEING TASKS | :   0%|          | 0/15 [00:00<?, ?it/s]"
            ]
          },
          "metadata": {},
          "output_type": "display_data"
        },
        {
          "data": {
            "application/vnd.jupyter.widget-view+json": {
              "model_id": "ea2631895dff4cf78ecbefe4d24d127a",
              "version_major": 2,
              "version_minor": 0
            },
            "text/plain": [
              "PROCESSING TASKS | :   0%|          | 0/15 [00:00<?, ?it/s]"
            ]
          },
          "metadata": {},
          "output_type": "display_data"
        },
        {
          "data": {
            "application/vnd.jupyter.widget-view+json": {
              "model_id": "7c2d5d731852496eb473f599495a7728",
              "version_major": 2,
              "version_minor": 0
            },
            "text/plain": [
              "COLLECTING RESULTS | :   0%|          | 0/15 [00:00<?, ?it/s]"
            ]
          },
          "metadata": {},
          "output_type": "display_data"
        },
        {
          "data": {
            "application/vnd.jupyter.widget-view+json": {
              "model_id": "d7398100ba494b7e82e67229172afa82",
              "version_major": 2,
              "version_minor": 0
            },
            "text/plain": [
              "QUEUEING TASKS | :   0%|          | 0/15 [00:00<?, ?it/s]"
            ]
          },
          "metadata": {},
          "output_type": "display_data"
        },
        {
          "data": {
            "application/vnd.jupyter.widget-view+json": {
              "model_id": "c4d97875ff7149baa9e411a0ceda0114",
              "version_major": 2,
              "version_minor": 0
            },
            "text/plain": [
              "PROCESSING TASKS | :   0%|          | 0/15 [00:00<?, ?it/s]"
            ]
          },
          "metadata": {},
          "output_type": "display_data"
        },
        {
          "data": {
            "application/vnd.jupyter.widget-view+json": {
              "model_id": "a799d72985294030b50a7e4ecdf4dd62",
              "version_major": 2,
              "version_minor": 0
            },
            "text/plain": [
              "COLLECTING RESULTS | :   0%|          | 0/15 [00:00<?, ?it/s]"
            ]
          },
          "metadata": {},
          "output_type": "display_data"
        },
        {
          "data": {
            "application/vnd.jupyter.widget-view+json": {
              "model_id": "f60d2c5da0194a68bc4670e8ee4d2319",
              "version_major": 2,
              "version_minor": 0
            },
            "text/plain": [
              "QUEUEING TASKS | :   0%|          | 0/15 [00:00<?, ?it/s]"
            ]
          },
          "metadata": {},
          "output_type": "display_data"
        },
        {
          "data": {
            "application/vnd.jupyter.widget-view+json": {
              "model_id": "f82060483fb6446f8e760d553dcb171a",
              "version_major": 2,
              "version_minor": 0
            },
            "text/plain": [
              "PROCESSING TASKS | :   0%|          | 0/15 [00:00<?, ?it/s]"
            ]
          },
          "metadata": {},
          "output_type": "display_data"
        },
        {
          "data": {
            "application/vnd.jupyter.widget-view+json": {
              "model_id": "b7206863d4eb472082d1952fbee81b4c",
              "version_major": 2,
              "version_minor": 0
            },
            "text/plain": [
              "COLLECTING RESULTS | :   0%|          | 0/15 [00:00<?, ?it/s]"
            ]
          },
          "metadata": {},
          "output_type": "display_data"
        },
        {
          "data": {
            "application/vnd.jupyter.widget-view+json": {
              "model_id": "8c04661451c7492994802a6b4da77206",
              "version_major": 2,
              "version_minor": 0
            },
            "text/plain": [
              "QUEUEING TASKS | :   0%|          | 0/15 [00:00<?, ?it/s]"
            ]
          },
          "metadata": {},
          "output_type": "display_data"
        },
        {
          "data": {
            "application/vnd.jupyter.widget-view+json": {
              "model_id": "f685ba3e43804adbb284d04f02283942",
              "version_major": 2,
              "version_minor": 0
            },
            "text/plain": [
              "PROCESSING TASKS | :   0%|          | 0/15 [00:00<?, ?it/s]"
            ]
          },
          "metadata": {},
          "output_type": "display_data"
        },
        {
          "data": {
            "application/vnd.jupyter.widget-view+json": {
              "model_id": "c8577c3d09ff42b98c2980118b45d7e9",
              "version_major": 2,
              "version_minor": 0
            },
            "text/plain": [
              "COLLECTING RESULTS | :   0%|          | 0/15 [00:00<?, ?it/s]"
            ]
          },
          "metadata": {},
          "output_type": "display_data"
        },
        {
          "data": {
            "application/vnd.jupyter.widget-view+json": {
              "model_id": "386c377fc40d4a03adea70f89d6005f0",
              "version_major": 2,
              "version_minor": 0
            },
            "text/plain": [
              "QUEUEING TASKS | :   0%|          | 0/15 [00:00<?, ?it/s]"
            ]
          },
          "metadata": {},
          "output_type": "display_data"
        },
        {
          "data": {
            "application/vnd.jupyter.widget-view+json": {
              "model_id": "509ef18b47e248a4a2cd3429a0c78b27",
              "version_major": 2,
              "version_minor": 0
            },
            "text/plain": [
              "PROCESSING TASKS | :   0%|          | 0/15 [00:00<?, ?it/s]"
            ]
          },
          "metadata": {},
          "output_type": "display_data"
        },
        {
          "data": {
            "application/vnd.jupyter.widget-view+json": {
              "model_id": "40ae07bacfa0400fb48fd4f4cf7449e0",
              "version_major": 2,
              "version_minor": 0
            },
            "text/plain": [
              "COLLECTING RESULTS | :   0%|          | 0/15 [00:00<?, ?it/s]"
            ]
          },
          "metadata": {},
          "output_type": "display_data"
        },
        {
          "data": {
            "application/vnd.jupyter.widget-view+json": {
              "model_id": "d77954a3fc4a4d9cb93f10788b820725",
              "version_major": 2,
              "version_minor": 0
            },
            "text/plain": [
              "QUEUEING TASKS | :   0%|          | 0/15 [00:00<?, ?it/s]"
            ]
          },
          "metadata": {},
          "output_type": "display_data"
        },
        {
          "data": {
            "application/vnd.jupyter.widget-view+json": {
              "model_id": "c489b1278d95465a92e645629338b592",
              "version_major": 2,
              "version_minor": 0
            },
            "text/plain": [
              "PROCESSING TASKS | :   0%|          | 0/15 [00:00<?, ?it/s]"
            ]
          },
          "metadata": {},
          "output_type": "display_data"
        },
        {
          "data": {
            "application/vnd.jupyter.widget-view+json": {
              "model_id": "4e172d587c854dce9dd02190050d0595",
              "version_major": 2,
              "version_minor": 0
            },
            "text/plain": [
              "COLLECTING RESULTS | :   0%|          | 0/15 [00:00<?, ?it/s]"
            ]
          },
          "metadata": {},
          "output_type": "display_data"
        },
        {
          "data": {
            "application/vnd.jupyter.widget-view+json": {
              "model_id": "1209462b75564276baedd0bee7c84bcb",
              "version_major": 2,
              "version_minor": 0
            },
            "text/plain": [
              "QUEUEING TASKS | :   0%|          | 0/15 [00:00<?, ?it/s]"
            ]
          },
          "metadata": {},
          "output_type": "display_data"
        },
        {
          "data": {
            "application/vnd.jupyter.widget-view+json": {
              "model_id": "c9f3f8181f6b489e9a714fdc4c6ab668",
              "version_major": 2,
              "version_minor": 0
            },
            "text/plain": [
              "PROCESSING TASKS | :   0%|          | 0/15 [00:00<?, ?it/s]"
            ]
          },
          "metadata": {},
          "output_type": "display_data"
        },
        {
          "data": {
            "application/vnd.jupyter.widget-view+json": {
              "model_id": "16f5f8ee79364dc4a6fc21af27a1b5b6",
              "version_major": 2,
              "version_minor": 0
            },
            "text/plain": [
              "COLLECTING RESULTS | :   0%|          | 0/15 [00:00<?, ?it/s]"
            ]
          },
          "metadata": {},
          "output_type": "display_data"
        },
        {
          "data": {
            "application/vnd.jupyter.widget-view+json": {
              "model_id": "3319bbae119f477db69e427c1dd182cd",
              "version_major": 2,
              "version_minor": 0
            },
            "text/plain": [
              "QUEUEING TASKS | :   0%|          | 0/15 [00:00<?, ?it/s]"
            ]
          },
          "metadata": {},
          "output_type": "display_data"
        },
        {
          "data": {
            "application/vnd.jupyter.widget-view+json": {
              "model_id": "9c06afd032754555afe472b346479676",
              "version_major": 2,
              "version_minor": 0
            },
            "text/plain": [
              "PROCESSING TASKS | :   0%|          | 0/15 [00:00<?, ?it/s]"
            ]
          },
          "metadata": {},
          "output_type": "display_data"
        },
        {
          "data": {
            "application/vnd.jupyter.widget-view+json": {
              "model_id": "6c3cfe92dea44e2bbb24c39cd4728914",
              "version_major": 2,
              "version_minor": 0
            },
            "text/plain": [
              "COLLECTING RESULTS | :   0%|          | 0/15 [00:00<?, ?it/s]"
            ]
          },
          "metadata": {},
          "output_type": "display_data"
        },
        {
          "data": {
            "application/vnd.jupyter.widget-view+json": {
              "model_id": "ccc2a21d36d648a1b15ee309a634c4b6",
              "version_major": 2,
              "version_minor": 0
            },
            "text/plain": [
              "QUEUEING TASKS | :   0%|          | 0/15 [00:00<?, ?it/s]"
            ]
          },
          "metadata": {},
          "output_type": "display_data"
        },
        {
          "data": {
            "application/vnd.jupyter.widget-view+json": {
              "model_id": "72fb5f0f8260498d838bdfb666b95c71",
              "version_major": 2,
              "version_minor": 0
            },
            "text/plain": [
              "PROCESSING TASKS | :   0%|          | 0/15 [00:00<?, ?it/s]"
            ]
          },
          "metadata": {},
          "output_type": "display_data"
        },
        {
          "data": {
            "application/vnd.jupyter.widget-view+json": {
              "model_id": "7c50a3998a08456287d2950ae50e939b",
              "version_major": 2,
              "version_minor": 0
            },
            "text/plain": [
              "COLLECTING RESULTS | :   0%|          | 0/15 [00:00<?, ?it/s]"
            ]
          },
          "metadata": {},
          "output_type": "display_data"
        }
      ],
      "source": [
        "# get tile ids and band numbers for the granule\n",
        "# Compile a regular expression to search for metadata\n",
        "# the r indicates this is a raw string and highlights all escaped characters (the dots), limits our need to escape special characters\n",
        "# def get_earthaccess_links(results):\n",
        "#     uri_re = re.compile(\n",
        "#         r\"HLS\\.L30\\.(?P<tile_id>T[0-9A-Z]+)\\.(?P<date>\\d+)T\\d+\\.v2\\.0\\.\"\n",
        "#         r\"(?P<band_id>.+)\\.tif\"\n",
        "# )\n",
        "## create empty lists for results\n",
        "files = []\n",
        "files_metadata = []\n",
        "\n",
        "## open each file in wbd_hls_results\n",
        "for row in tqdm(wbd_hls_results):\n",
        "    file = earthaccess.open([row])\n",
        "    files.append(file)\n",
        "\n",
        "    for opened_granule in files:\n",
        "        uri_re = re.compile(\n",
        "            r\"HLS\\.L30\\.(?P<tile_id>T[0-9A-Z]+)\\.(?P<date>\\d+)T\\d+\\.v2\\.0\\.\"\n",
        "            r\"(?P<band_id>.+)\\.tif\")\n",
        "        #this yields a dictionary with the tile id, date, and band id\n",
        "        #why does this create such a long list? how to shorten it?\n",
        "        file_metadata = uri_re.search(opened_granule[0].full_name)\n",
        "        files_metadata.append(file_metadata)\n"
      ]
    },
    {
      "cell_type": "code",
      "execution_count": 43,
      "id": "f7185b4c",
      "metadata": {},
      "outputs": [
        {
          "data": {
            "text/plain": [
              "[[<File-like object HTTPFileSystem, https://data.lpdaac.earthdatacloud.nasa.gov/lp-prod-protected/HLSL30.020/HLS.L30.T16RBT.2023124T163132.v2.0/HLS.L30.T16RBT.2023124T163132.v2.0.B03.tif>,\n",
              "  <File-like object HTTPFileSystem, https://data.lpdaac.earthdatacloud.nasa.gov/lp-prod-protected/HLSL30.020/HLS.L30.T16RBT.2023124T163132.v2.0/HLS.L30.T16RBT.2023124T163132.v2.0.B07.tif>,\n",
              "  <File-like object HTTPFileSystem, https://data.lpdaac.earthdatacloud.nasa.gov/lp-prod-protected/HLSL30.020/HLS.L30.T16RBT.2023124T163132.v2.0/HLS.L30.T16RBT.2023124T163132.v2.0.B06.tif>,\n",
              "  <File-like object HTTPFileSystem, https://data.lpdaac.earthdatacloud.nasa.gov/lp-prod-protected/HLSL30.020/HLS.L30.T16RBT.2023124T163132.v2.0/HLS.L30.T16RBT.2023124T163132.v2.0.B02.tif>,\n",
              "  <File-like object HTTPFileSystem, https://data.lpdaac.earthdatacloud.nasa.gov/lp-prod-protected/HLSL30.020/HLS.L30.T16RBT.2023124T163132.v2.0/HLS.L30.T16RBT.2023124T163132.v2.0.B01.tif>,\n",
              "  <File-like object HTTPFileSystem, https://data.lpdaac.earthdatacloud.nasa.gov/lp-prod-protected/HLSL30.020/HLS.L30.T16RBT.2023124T163132.v2.0/HLS.L30.T16RBT.2023124T163132.v2.0.Fmask.tif>,\n",
              "  <File-like object HTTPFileSystem, https://data.lpdaac.earthdatacloud.nasa.gov/lp-prod-protected/HLSL30.020/HLS.L30.T16RBT.2023124T163132.v2.0/HLS.L30.T16RBT.2023124T163132.v2.0.SZA.tif>,\n",
              "  <File-like object HTTPFileSystem, https://data.lpdaac.earthdatacloud.nasa.gov/lp-prod-protected/HLSL30.020/HLS.L30.T16RBT.2023124T163132.v2.0/HLS.L30.T16RBT.2023124T163132.v2.0.SAA.tif>,\n",
              "  <File-like object HTTPFileSystem, https://data.lpdaac.earthdatacloud.nasa.gov/lp-prod-protected/HLSL30.020/HLS.L30.T16RBT.2023124T163132.v2.0/HLS.L30.T16RBT.2023124T163132.v2.0.B05.tif>,\n",
              "  <File-like object HTTPFileSystem, https://data.lpdaac.earthdatacloud.nasa.gov/lp-prod-protected/HLSL30.020/HLS.L30.T16RBT.2023124T163132.v2.0/HLS.L30.T16RBT.2023124T163132.v2.0.VAA.tif>,\n",
              "  <File-like object HTTPFileSystem, https://data.lpdaac.earthdatacloud.nasa.gov/lp-prod-protected/HLSL30.020/HLS.L30.T16RBT.2023124T163132.v2.0/HLS.L30.T16RBT.2023124T163132.v2.0.B10.tif>,\n",
              "  <File-like object HTTPFileSystem, https://data.lpdaac.earthdatacloud.nasa.gov/lp-prod-protected/HLSL30.020/HLS.L30.T16RBT.2023124T163132.v2.0/HLS.L30.T16RBT.2023124T163132.v2.0.B09.tif>,\n",
              "  <File-like object HTTPFileSystem, https://data.lpdaac.earthdatacloud.nasa.gov/lp-prod-protected/HLSL30.020/HLS.L30.T16RBT.2023124T163132.v2.0/HLS.L30.T16RBT.2023124T163132.v2.0.B11.tif>,\n",
              "  <File-like object HTTPFileSystem, https://data.lpdaac.earthdatacloud.nasa.gov/lp-prod-protected/HLSL30.020/HLS.L30.T16RBT.2023124T163132.v2.0/HLS.L30.T16RBT.2023124T163132.v2.0.B04.tif>,\n",
              "  <File-like object HTTPFileSystem, https://data.lpdaac.earthdatacloud.nasa.gov/lp-prod-protected/HLSL30.020/HLS.L30.T16RBT.2023124T163132.v2.0/HLS.L30.T16RBT.2023124T163132.v2.0.VZA.tif>],\n",
              " [<File-like object HTTPFileSystem, https://data.lpdaac.earthdatacloud.nasa.gov/lp-prod-protected/HLSL30.020/HLS.L30.T15RYN.2023124T163132.v2.0/HLS.L30.T15RYN.2023124T163132.v2.0.B03.tif>,\n",
              "  <File-like object HTTPFileSystem, https://data.lpdaac.earthdatacloud.nasa.gov/lp-prod-protected/HLSL30.020/HLS.L30.T15RYN.2023124T163132.v2.0/HLS.L30.T15RYN.2023124T163132.v2.0.VAA.tif>,\n",
              "  <File-like object HTTPFileSystem, https://data.lpdaac.earthdatacloud.nasa.gov/lp-prod-protected/HLSL30.020/HLS.L30.T15RYN.2023124T163132.v2.0/HLS.L30.T15RYN.2023124T163132.v2.0.B01.tif>,\n",
              "  <File-like object HTTPFileSystem, https://data.lpdaac.earthdatacloud.nasa.gov/lp-prod-protected/HLSL30.020/HLS.L30.T15RYN.2023124T163132.v2.0/HLS.L30.T15RYN.2023124T163132.v2.0.B02.tif>,\n",
              "  <File-like object HTTPFileSystem, https://data.lpdaac.earthdatacloud.nasa.gov/lp-prod-protected/HLSL30.020/HLS.L30.T15RYN.2023124T163132.v2.0/HLS.L30.T15RYN.2023124T163132.v2.0.B06.tif>,\n",
              "  <File-like object HTTPFileSystem, https://data.lpdaac.earthdatacloud.nasa.gov/lp-prod-protected/HLSL30.020/HLS.L30.T15RYN.2023124T163132.v2.0/HLS.L30.T15RYN.2023124T163132.v2.0.B09.tif>,\n",
              "  <File-like object HTTPFileSystem, https://data.lpdaac.earthdatacloud.nasa.gov/lp-prod-protected/HLSL30.020/HLS.L30.T15RYN.2023124T163132.v2.0/HLS.L30.T15RYN.2023124T163132.v2.0.B04.tif>,\n",
              "  <File-like object HTTPFileSystem, https://data.lpdaac.earthdatacloud.nasa.gov/lp-prod-protected/HLSL30.020/HLS.L30.T15RYN.2023124T163132.v2.0/HLS.L30.T15RYN.2023124T163132.v2.0.B10.tif>,\n",
              "  <File-like object HTTPFileSystem, https://data.lpdaac.earthdatacloud.nasa.gov/lp-prod-protected/HLSL30.020/HLS.L30.T15RYN.2023124T163132.v2.0/HLS.L30.T15RYN.2023124T163132.v2.0.VZA.tif>,\n",
              "  <File-like object HTTPFileSystem, https://data.lpdaac.earthdatacloud.nasa.gov/lp-prod-protected/HLSL30.020/HLS.L30.T15RYN.2023124T163132.v2.0/HLS.L30.T15RYN.2023124T163132.v2.0.SZA.tif>,\n",
              "  <File-like object HTTPFileSystem, https://data.lpdaac.earthdatacloud.nasa.gov/lp-prod-protected/HLSL30.020/HLS.L30.T15RYN.2023124T163132.v2.0/HLS.L30.T15RYN.2023124T163132.v2.0.Fmask.tif>,\n",
              "  <File-like object HTTPFileSystem, https://data.lpdaac.earthdatacloud.nasa.gov/lp-prod-protected/HLSL30.020/HLS.L30.T15RYN.2023124T163132.v2.0/HLS.L30.T15RYN.2023124T163132.v2.0.SAA.tif>,\n",
              "  <File-like object HTTPFileSystem, https://data.lpdaac.earthdatacloud.nasa.gov/lp-prod-protected/HLSL30.020/HLS.L30.T15RYN.2023124T163132.v2.0/HLS.L30.T15RYN.2023124T163132.v2.0.B05.tif>,\n",
              "  <File-like object HTTPFileSystem, https://data.lpdaac.earthdatacloud.nasa.gov/lp-prod-protected/HLSL30.020/HLS.L30.T15RYN.2023124T163132.v2.0/HLS.L30.T15RYN.2023124T163132.v2.0.B11.tif>,\n",
              "  <File-like object HTTPFileSystem, https://data.lpdaac.earthdatacloud.nasa.gov/lp-prod-protected/HLSL30.020/HLS.L30.T15RYN.2023124T163132.v2.0/HLS.L30.T15RYN.2023124T163132.v2.0.B07.tif>],\n",
              " [<File-like object HTTPFileSystem, https://data.lpdaac.earthdatacloud.nasa.gov/lp-prod-protected/HLSL30.020/HLS.L30.T15RYP.2023124T163132.v2.0/HLS.L30.T15RYP.2023124T163132.v2.0.VZA.tif>,\n",
              "  <File-like object HTTPFileSystem, https://data.lpdaac.earthdatacloud.nasa.gov/lp-prod-protected/HLSL30.020/HLS.L30.T15RYP.2023124T163132.v2.0/HLS.L30.T15RYP.2023124T163132.v2.0.B09.tif>,\n",
              "  <File-like object HTTPFileSystem, https://data.lpdaac.earthdatacloud.nasa.gov/lp-prod-protected/HLSL30.020/HLS.L30.T15RYP.2023124T163132.v2.0/HLS.L30.T15RYP.2023124T163132.v2.0.B01.tif>,\n",
              "  <File-like object HTTPFileSystem, https://data.lpdaac.earthdatacloud.nasa.gov/lp-prod-protected/HLSL30.020/HLS.L30.T15RYP.2023124T163132.v2.0/HLS.L30.T15RYP.2023124T163132.v2.0.SAA.tif>,\n",
              "  <File-like object HTTPFileSystem, https://data.lpdaac.earthdatacloud.nasa.gov/lp-prod-protected/HLSL30.020/HLS.L30.T15RYP.2023124T163132.v2.0/HLS.L30.T15RYP.2023124T163132.v2.0.Fmask.tif>,\n",
              "  <File-like object HTTPFileSystem, https://data.lpdaac.earthdatacloud.nasa.gov/lp-prod-protected/HLSL30.020/HLS.L30.T15RYP.2023124T163132.v2.0/HLS.L30.T15RYP.2023124T163132.v2.0.SZA.tif>,\n",
              "  <File-like object HTTPFileSystem, https://data.lpdaac.earthdatacloud.nasa.gov/lp-prod-protected/HLSL30.020/HLS.L30.T15RYP.2023124T163132.v2.0/HLS.L30.T15RYP.2023124T163132.v2.0.B07.tif>,\n",
              "  <File-like object HTTPFileSystem, https://data.lpdaac.earthdatacloud.nasa.gov/lp-prod-protected/HLSL30.020/HLS.L30.T15RYP.2023124T163132.v2.0/HLS.L30.T15RYP.2023124T163132.v2.0.B11.tif>,\n",
              "  <File-like object HTTPFileSystem, https://data.lpdaac.earthdatacloud.nasa.gov/lp-prod-protected/HLSL30.020/HLS.L30.T15RYP.2023124T163132.v2.0/HLS.L30.T15RYP.2023124T163132.v2.0.B02.tif>,\n",
              "  <File-like object HTTPFileSystem, https://data.lpdaac.earthdatacloud.nasa.gov/lp-prod-protected/HLSL30.020/HLS.L30.T15RYP.2023124T163132.v2.0/HLS.L30.T15RYP.2023124T163132.v2.0.B06.tif>,\n",
              "  <File-like object HTTPFileSystem, https://data.lpdaac.earthdatacloud.nasa.gov/lp-prod-protected/HLSL30.020/HLS.L30.T15RYP.2023124T163132.v2.0/HLS.L30.T15RYP.2023124T163132.v2.0.B05.tif>,\n",
              "  <File-like object HTTPFileSystem, https://data.lpdaac.earthdatacloud.nasa.gov/lp-prod-protected/HLSL30.020/HLS.L30.T15RYP.2023124T163132.v2.0/HLS.L30.T15RYP.2023124T163132.v2.0.B04.tif>,\n",
              "  <File-like object HTTPFileSystem, https://data.lpdaac.earthdatacloud.nasa.gov/lp-prod-protected/HLSL30.020/HLS.L30.T15RYP.2023124T163132.v2.0/HLS.L30.T15RYP.2023124T163132.v2.0.B03.tif>,\n",
              "  <File-like object HTTPFileSystem, https://data.lpdaac.earthdatacloud.nasa.gov/lp-prod-protected/HLSL30.020/HLS.L30.T15RYP.2023124T163132.v2.0/HLS.L30.T15RYP.2023124T163132.v2.0.VAA.tif>,\n",
              "  <File-like object HTTPFileSystem, https://data.lpdaac.earthdatacloud.nasa.gov/lp-prod-protected/HLSL30.020/HLS.L30.T15RYP.2023124T163132.v2.0/HLS.L30.T15RYP.2023124T163132.v2.0.B10.tif>],\n",
              " [<File-like object HTTPFileSystem, https://data.lpdaac.earthdatacloud.nasa.gov/lp-prod-protected/HLSL30.020/HLS.L30.T16RBU.2023124T163132.v2.0/HLS.L30.T16RBU.2023124T163132.v2.0.B11.tif>,\n",
              "  <File-like object HTTPFileSystem, https://data.lpdaac.earthdatacloud.nasa.gov/lp-prod-protected/HLSL30.020/HLS.L30.T16RBU.2023124T163132.v2.0/HLS.L30.T16RBU.2023124T163132.v2.0.B09.tif>,\n",
              "  <File-like object HTTPFileSystem, https://data.lpdaac.earthdatacloud.nasa.gov/lp-prod-protected/HLSL30.020/HLS.L30.T16RBU.2023124T163132.v2.0/HLS.L30.T16RBU.2023124T163132.v2.0.B07.tif>,\n",
              "  <File-like object HTTPFileSystem, https://data.lpdaac.earthdatacloud.nasa.gov/lp-prod-protected/HLSL30.020/HLS.L30.T16RBU.2023124T163132.v2.0/HLS.L30.T16RBU.2023124T163132.v2.0.B10.tif>,\n",
              "  <File-like object HTTPFileSystem, https://data.lpdaac.earthdatacloud.nasa.gov/lp-prod-protected/HLSL30.020/HLS.L30.T16RBU.2023124T163132.v2.0/HLS.L30.T16RBU.2023124T163132.v2.0.B06.tif>,\n",
              "  <File-like object HTTPFileSystem, https://data.lpdaac.earthdatacloud.nasa.gov/lp-prod-protected/HLSL30.020/HLS.L30.T16RBU.2023124T163132.v2.0/HLS.L30.T16RBU.2023124T163132.v2.0.SZA.tif>,\n",
              "  <File-like object HTTPFileSystem, https://data.lpdaac.earthdatacloud.nasa.gov/lp-prod-protected/HLSL30.020/HLS.L30.T16RBU.2023124T163132.v2.0/HLS.L30.T16RBU.2023124T163132.v2.0.B02.tif>,\n",
              "  <File-like object HTTPFileSystem, https://data.lpdaac.earthdatacloud.nasa.gov/lp-prod-protected/HLSL30.020/HLS.L30.T16RBU.2023124T163132.v2.0/HLS.L30.T16RBU.2023124T163132.v2.0.SAA.tif>,\n",
              "  <File-like object HTTPFileSystem, https://data.lpdaac.earthdatacloud.nasa.gov/lp-prod-protected/HLSL30.020/HLS.L30.T16RBU.2023124T163132.v2.0/HLS.L30.T16RBU.2023124T163132.v2.0.B04.tif>,\n",
              "  <File-like object HTTPFileSystem, https://data.lpdaac.earthdatacloud.nasa.gov/lp-prod-protected/HLSL30.020/HLS.L30.T16RBU.2023124T163132.v2.0/HLS.L30.T16RBU.2023124T163132.v2.0.VZA.tif>,\n",
              "  <File-like object HTTPFileSystem, https://data.lpdaac.earthdatacloud.nasa.gov/lp-prod-protected/HLSL30.020/HLS.L30.T16RBU.2023124T163132.v2.0/HLS.L30.T16RBU.2023124T163132.v2.0.Fmask.tif>,\n",
              "  <File-like object HTTPFileSystem, https://data.lpdaac.earthdatacloud.nasa.gov/lp-prod-protected/HLSL30.020/HLS.L30.T16RBU.2023124T163132.v2.0/HLS.L30.T16RBU.2023124T163132.v2.0.VAA.tif>,\n",
              "  <File-like object HTTPFileSystem, https://data.lpdaac.earthdatacloud.nasa.gov/lp-prod-protected/HLSL30.020/HLS.L30.T16RBU.2023124T163132.v2.0/HLS.L30.T16RBU.2023124T163132.v2.0.B01.tif>,\n",
              "  <File-like object HTTPFileSystem, https://data.lpdaac.earthdatacloud.nasa.gov/lp-prod-protected/HLSL30.020/HLS.L30.T16RBU.2023124T163132.v2.0/HLS.L30.T16RBU.2023124T163132.v2.0.B05.tif>,\n",
              "  <File-like object HTTPFileSystem, https://data.lpdaac.earthdatacloud.nasa.gov/lp-prod-protected/HLSL30.020/HLS.L30.T16RBU.2023124T163132.v2.0/HLS.L30.T16RBU.2023124T163132.v2.0.B03.tif>],\n",
              " [<File-like object HTTPFileSystem, https://data.lpdaac.earthdatacloud.nasa.gov/lp-prod-protected/HLSL30.020/HLS.L30.T16RBT.2023132T163144.v2.0/HLS.L30.T16RBT.2023132T163144.v2.0.B02.tif>,\n",
              "  <File-like object HTTPFileSystem, https://data.lpdaac.earthdatacloud.nasa.gov/lp-prod-protected/HLSL30.020/HLS.L30.T16RBT.2023132T163144.v2.0/HLS.L30.T16RBT.2023132T163144.v2.0.Fmask.tif>,\n",
              "  <File-like object HTTPFileSystem, https://data.lpdaac.earthdatacloud.nasa.gov/lp-prod-protected/HLSL30.020/HLS.L30.T16RBT.2023132T163144.v2.0/HLS.L30.T16RBT.2023132T163144.v2.0.B01.tif>,\n",
              "  <File-like object HTTPFileSystem, https://data.lpdaac.earthdatacloud.nasa.gov/lp-prod-protected/HLSL30.020/HLS.L30.T16RBT.2023132T163144.v2.0/HLS.L30.T16RBT.2023132T163144.v2.0.B03.tif>,\n",
              "  <File-like object HTTPFileSystem, https://data.lpdaac.earthdatacloud.nasa.gov/lp-prod-protected/HLSL30.020/HLS.L30.T16RBT.2023132T163144.v2.0/HLS.L30.T16RBT.2023132T163144.v2.0.B07.tif>,\n",
              "  <File-like object HTTPFileSystem, https://data.lpdaac.earthdatacloud.nasa.gov/lp-prod-protected/HLSL30.020/HLS.L30.T16RBT.2023132T163144.v2.0/HLS.L30.T16RBT.2023132T163144.v2.0.B10.tif>,\n",
              "  <File-like object HTTPFileSystem, https://data.lpdaac.earthdatacloud.nasa.gov/lp-prod-protected/HLSL30.020/HLS.L30.T16RBT.2023132T163144.v2.0/HLS.L30.T16RBT.2023132T163144.v2.0.SZA.tif>,\n",
              "  <File-like object HTTPFileSystem, https://data.lpdaac.earthdatacloud.nasa.gov/lp-prod-protected/HLSL30.020/HLS.L30.T16RBT.2023132T163144.v2.0/HLS.L30.T16RBT.2023132T163144.v2.0.B04.tif>,\n",
              "  <File-like object HTTPFileSystem, https://data.lpdaac.earthdatacloud.nasa.gov/lp-prod-protected/HLSL30.020/HLS.L30.T16RBT.2023132T163144.v2.0/HLS.L30.T16RBT.2023132T163144.v2.0.VZA.tif>,\n",
              "  <File-like object HTTPFileSystem, https://data.lpdaac.earthdatacloud.nasa.gov/lp-prod-protected/HLSL30.020/HLS.L30.T16RBT.2023132T163144.v2.0/HLS.L30.T16RBT.2023132T163144.v2.0.SAA.tif>,\n",
              "  <File-like object HTTPFileSystem, https://data.lpdaac.earthdatacloud.nasa.gov/lp-prod-protected/HLSL30.020/HLS.L30.T16RBT.2023132T163144.v2.0/HLS.L30.T16RBT.2023132T163144.v2.0.VAA.tif>,\n",
              "  <File-like object HTTPFileSystem, https://data.lpdaac.earthdatacloud.nasa.gov/lp-prod-protected/HLSL30.020/HLS.L30.T16RBT.2023132T163144.v2.0/HLS.L30.T16RBT.2023132T163144.v2.0.B11.tif>,\n",
              "  <File-like object HTTPFileSystem, https://data.lpdaac.earthdatacloud.nasa.gov/lp-prod-protected/HLSL30.020/HLS.L30.T16RBT.2023132T163144.v2.0/HLS.L30.T16RBT.2023132T163144.v2.0.B09.tif>,\n",
              "  <File-like object HTTPFileSystem, https://data.lpdaac.earthdatacloud.nasa.gov/lp-prod-protected/HLSL30.020/HLS.L30.T16RBT.2023132T163144.v2.0/HLS.L30.T16RBT.2023132T163144.v2.0.B05.tif>,\n",
              "  <File-like object HTTPFileSystem, https://data.lpdaac.earthdatacloud.nasa.gov/lp-prod-protected/HLSL30.020/HLS.L30.T16RBT.2023132T163144.v2.0/HLS.L30.T16RBT.2023132T163144.v2.0.B06.tif>],\n",
              " [<File-like object HTTPFileSystem, https://data.lpdaac.earthdatacloud.nasa.gov/lp-prod-protected/HLSL30.020/HLS.L30.T15RYP.2023132T163144.v2.0/HLS.L30.T15RYP.2023132T163144.v2.0.SAA.tif>,\n",
              "  <File-like object HTTPFileSystem, https://data.lpdaac.earthdatacloud.nasa.gov/lp-prod-protected/HLSL30.020/HLS.L30.T15RYP.2023132T163144.v2.0/HLS.L30.T15RYP.2023132T163144.v2.0.B06.tif>,\n",
              "  <File-like object HTTPFileSystem, https://data.lpdaac.earthdatacloud.nasa.gov/lp-prod-protected/HLSL30.020/HLS.L30.T15RYP.2023132T163144.v2.0/HLS.L30.T15RYP.2023132T163144.v2.0.B07.tif>,\n",
              "  <File-like object HTTPFileSystem, https://data.lpdaac.earthdatacloud.nasa.gov/lp-prod-protected/HLSL30.020/HLS.L30.T15RYP.2023132T163144.v2.0/HLS.L30.T15RYP.2023132T163144.v2.0.Fmask.tif>,\n",
              "  <File-like object HTTPFileSystem, https://data.lpdaac.earthdatacloud.nasa.gov/lp-prod-protected/HLSL30.020/HLS.L30.T15RYP.2023132T163144.v2.0/HLS.L30.T15RYP.2023132T163144.v2.0.B03.tif>,\n",
              "  <File-like object HTTPFileSystem, https://data.lpdaac.earthdatacloud.nasa.gov/lp-prod-protected/HLSL30.020/HLS.L30.T15RYP.2023132T163144.v2.0/HLS.L30.T15RYP.2023132T163144.v2.0.B11.tif>,\n",
              "  <File-like object HTTPFileSystem, https://data.lpdaac.earthdatacloud.nasa.gov/lp-prod-protected/HLSL30.020/HLS.L30.T15RYP.2023132T163144.v2.0/HLS.L30.T15RYP.2023132T163144.v2.0.B01.tif>,\n",
              "  <File-like object HTTPFileSystem, https://data.lpdaac.earthdatacloud.nasa.gov/lp-prod-protected/HLSL30.020/HLS.L30.T15RYP.2023132T163144.v2.0/HLS.L30.T15RYP.2023132T163144.v2.0.B04.tif>,\n",
              "  <File-like object HTTPFileSystem, https://data.lpdaac.earthdatacloud.nasa.gov/lp-prod-protected/HLSL30.020/HLS.L30.T15RYP.2023132T163144.v2.0/HLS.L30.T15RYP.2023132T163144.v2.0.B10.tif>,\n",
              "  <File-like object HTTPFileSystem, https://data.lpdaac.earthdatacloud.nasa.gov/lp-prod-protected/HLSL30.020/HLS.L30.T15RYP.2023132T163144.v2.0/HLS.L30.T15RYP.2023132T163144.v2.0.B05.tif>,\n",
              "  <File-like object HTTPFileSystem, https://data.lpdaac.earthdatacloud.nasa.gov/lp-prod-protected/HLSL30.020/HLS.L30.T15RYP.2023132T163144.v2.0/HLS.L30.T15RYP.2023132T163144.v2.0.VAA.tif>,\n",
              "  <File-like object HTTPFileSystem, https://data.lpdaac.earthdatacloud.nasa.gov/lp-prod-protected/HLSL30.020/HLS.L30.T15RYP.2023132T163144.v2.0/HLS.L30.T15RYP.2023132T163144.v2.0.B09.tif>,\n",
              "  <File-like object HTTPFileSystem, https://data.lpdaac.earthdatacloud.nasa.gov/lp-prod-protected/HLSL30.020/HLS.L30.T15RYP.2023132T163144.v2.0/HLS.L30.T15RYP.2023132T163144.v2.0.VZA.tif>,\n",
              "  <File-like object HTTPFileSystem, https://data.lpdaac.earthdatacloud.nasa.gov/lp-prod-protected/HLSL30.020/HLS.L30.T15RYP.2023132T163144.v2.0/HLS.L30.T15RYP.2023132T163144.v2.0.SZA.tif>,\n",
              "  <File-like object HTTPFileSystem, https://data.lpdaac.earthdatacloud.nasa.gov/lp-prod-protected/HLSL30.020/HLS.L30.T15RYP.2023132T163144.v2.0/HLS.L30.T15RYP.2023132T163144.v2.0.B02.tif>],\n",
              " [<File-like object HTTPFileSystem, https://data.lpdaac.earthdatacloud.nasa.gov/lp-prod-protected/HLSL30.020/HLS.L30.T15RYN.2023132T163144.v2.0/HLS.L30.T15RYN.2023132T163144.v2.0.B09.tif>,\n",
              "  <File-like object HTTPFileSystem, https://data.lpdaac.earthdatacloud.nasa.gov/lp-prod-protected/HLSL30.020/HLS.L30.T15RYN.2023132T163144.v2.0/HLS.L30.T15RYN.2023132T163144.v2.0.B07.tif>,\n",
              "  <File-like object HTTPFileSystem, https://data.lpdaac.earthdatacloud.nasa.gov/lp-prod-protected/HLSL30.020/HLS.L30.T15RYN.2023132T163144.v2.0/HLS.L30.T15RYN.2023132T163144.v2.0.B06.tif>,\n",
              "  <File-like object HTTPFileSystem, https://data.lpdaac.earthdatacloud.nasa.gov/lp-prod-protected/HLSL30.020/HLS.L30.T15RYN.2023132T163144.v2.0/HLS.L30.T15RYN.2023132T163144.v2.0.B04.tif>,\n",
              "  <File-like object HTTPFileSystem, https://data.lpdaac.earthdatacloud.nasa.gov/lp-prod-protected/HLSL30.020/HLS.L30.T15RYN.2023132T163144.v2.0/HLS.L30.T15RYN.2023132T163144.v2.0.B02.tif>,\n",
              "  <File-like object HTTPFileSystem, https://data.lpdaac.earthdatacloud.nasa.gov/lp-prod-protected/HLSL30.020/HLS.L30.T15RYN.2023132T163144.v2.0/HLS.L30.T15RYN.2023132T163144.v2.0.B05.tif>,\n",
              "  <File-like object HTTPFileSystem, https://data.lpdaac.earthdatacloud.nasa.gov/lp-prod-protected/HLSL30.020/HLS.L30.T15RYN.2023132T163144.v2.0/HLS.L30.T15RYN.2023132T163144.v2.0.VAA.tif>,\n",
              "  <File-like object HTTPFileSystem, https://data.lpdaac.earthdatacloud.nasa.gov/lp-prod-protected/HLSL30.020/HLS.L30.T15RYN.2023132T163144.v2.0/HLS.L30.T15RYN.2023132T163144.v2.0.VZA.tif>,\n",
              "  <File-like object HTTPFileSystem, https://data.lpdaac.earthdatacloud.nasa.gov/lp-prod-protected/HLSL30.020/HLS.L30.T15RYN.2023132T163144.v2.0/HLS.L30.T15RYN.2023132T163144.v2.0.B10.tif>,\n",
              "  <File-like object HTTPFileSystem, https://data.lpdaac.earthdatacloud.nasa.gov/lp-prod-protected/HLSL30.020/HLS.L30.T15RYN.2023132T163144.v2.0/HLS.L30.T15RYN.2023132T163144.v2.0.SAA.tif>,\n",
              "  <File-like object HTTPFileSystem, https://data.lpdaac.earthdatacloud.nasa.gov/lp-prod-protected/HLSL30.020/HLS.L30.T15RYN.2023132T163144.v2.0/HLS.L30.T15RYN.2023132T163144.v2.0.B11.tif>,\n",
              "  <File-like object HTTPFileSystem, https://data.lpdaac.earthdatacloud.nasa.gov/lp-prod-protected/HLSL30.020/HLS.L30.T15RYN.2023132T163144.v2.0/HLS.L30.T15RYN.2023132T163144.v2.0.B01.tif>,\n",
              "  <File-like object HTTPFileSystem, https://data.lpdaac.earthdatacloud.nasa.gov/lp-prod-protected/HLSL30.020/HLS.L30.T15RYN.2023132T163144.v2.0/HLS.L30.T15RYN.2023132T163144.v2.0.SZA.tif>,\n",
              "  <File-like object HTTPFileSystem, https://data.lpdaac.earthdatacloud.nasa.gov/lp-prod-protected/HLSL30.020/HLS.L30.T15RYN.2023132T163144.v2.0/HLS.L30.T15RYN.2023132T163144.v2.0.B03.tif>,\n",
              "  <File-like object HTTPFileSystem, https://data.lpdaac.earthdatacloud.nasa.gov/lp-prod-protected/HLSL30.020/HLS.L30.T15RYN.2023132T163144.v2.0/HLS.L30.T15RYN.2023132T163144.v2.0.Fmask.tif>],\n",
              " [<File-like object HTTPFileSystem, https://data.lpdaac.earthdatacloud.nasa.gov/lp-prod-protected/HLSL30.020/HLS.L30.T16RBU.2023132T163144.v2.0/HLS.L30.T16RBU.2023132T163144.v2.0.VZA.tif>,\n",
              "  <File-like object HTTPFileSystem, https://data.lpdaac.earthdatacloud.nasa.gov/lp-prod-protected/HLSL30.020/HLS.L30.T16RBU.2023132T163144.v2.0/HLS.L30.T16RBU.2023132T163144.v2.0.SZA.tif>,\n",
              "  <File-like object HTTPFileSystem, https://data.lpdaac.earthdatacloud.nasa.gov/lp-prod-protected/HLSL30.020/HLS.L30.T16RBU.2023132T163144.v2.0/HLS.L30.T16RBU.2023132T163144.v2.0.B11.tif>,\n",
              "  <File-like object HTTPFileSystem, https://data.lpdaac.earthdatacloud.nasa.gov/lp-prod-protected/HLSL30.020/HLS.L30.T16RBU.2023132T163144.v2.0/HLS.L30.T16RBU.2023132T163144.v2.0.B03.tif>,\n",
              "  <File-like object HTTPFileSystem, https://data.lpdaac.earthdatacloud.nasa.gov/lp-prod-protected/HLSL30.020/HLS.L30.T16RBU.2023132T163144.v2.0/HLS.L30.T16RBU.2023132T163144.v2.0.B10.tif>,\n",
              "  <File-like object HTTPFileSystem, https://data.lpdaac.earthdatacloud.nasa.gov/lp-prod-protected/HLSL30.020/HLS.L30.T16RBU.2023132T163144.v2.0/HLS.L30.T16RBU.2023132T163144.v2.0.B02.tif>,\n",
              "  <File-like object HTTPFileSystem, https://data.lpdaac.earthdatacloud.nasa.gov/lp-prod-protected/HLSL30.020/HLS.L30.T16RBU.2023132T163144.v2.0/HLS.L30.T16RBU.2023132T163144.v2.0.B05.tif>,\n",
              "  <File-like object HTTPFileSystem, https://data.lpdaac.earthdatacloud.nasa.gov/lp-prod-protected/HLSL30.020/HLS.L30.T16RBU.2023132T163144.v2.0/HLS.L30.T16RBU.2023132T163144.v2.0.B04.tif>,\n",
              "  <File-like object HTTPFileSystem, https://data.lpdaac.earthdatacloud.nasa.gov/lp-prod-protected/HLSL30.020/HLS.L30.T16RBU.2023132T163144.v2.0/HLS.L30.T16RBU.2023132T163144.v2.0.SAA.tif>,\n",
              "  <File-like object HTTPFileSystem, https://data.lpdaac.earthdatacloud.nasa.gov/lp-prod-protected/HLSL30.020/HLS.L30.T16RBU.2023132T163144.v2.0/HLS.L30.T16RBU.2023132T163144.v2.0.B01.tif>,\n",
              "  <File-like object HTTPFileSystem, https://data.lpdaac.earthdatacloud.nasa.gov/lp-prod-protected/HLSL30.020/HLS.L30.T16RBU.2023132T163144.v2.0/HLS.L30.T16RBU.2023132T163144.v2.0.VAA.tif>,\n",
              "  <File-like object HTTPFileSystem, https://data.lpdaac.earthdatacloud.nasa.gov/lp-prod-protected/HLSL30.020/HLS.L30.T16RBU.2023132T163144.v2.0/HLS.L30.T16RBU.2023132T163144.v2.0.B06.tif>,\n",
              "  <File-like object HTTPFileSystem, https://data.lpdaac.earthdatacloud.nasa.gov/lp-prod-protected/HLSL30.020/HLS.L30.T16RBU.2023132T163144.v2.0/HLS.L30.T16RBU.2023132T163144.v2.0.B07.tif>,\n",
              "  <File-like object HTTPFileSystem, https://data.lpdaac.earthdatacloud.nasa.gov/lp-prod-protected/HLSL30.020/HLS.L30.T16RBU.2023132T163144.v2.0/HLS.L30.T16RBU.2023132T163144.v2.0.Fmask.tif>,\n",
              "  <File-like object HTTPFileSystem, https://data.lpdaac.earthdatacloud.nasa.gov/lp-prod-protected/HLSL30.020/HLS.L30.T16RBU.2023132T163144.v2.0/HLS.L30.T16RBU.2023132T163144.v2.0.B09.tif>],\n",
              " [<File-like object HTTPFileSystem, https://data.lpdaac.earthdatacloud.nasa.gov/lp-prod-protected/HLSL30.020/HLS.L30.T15RYP.2023140T163123.v2.0/HLS.L30.T15RYP.2023140T163123.v2.0.B05.tif>,\n",
              "  <File-like object HTTPFileSystem, https://data.lpdaac.earthdatacloud.nasa.gov/lp-prod-protected/HLSL30.020/HLS.L30.T15RYP.2023140T163123.v2.0/HLS.L30.T15RYP.2023140T163123.v2.0.B11.tif>,\n",
              "  <File-like object HTTPFileSystem, https://data.lpdaac.earthdatacloud.nasa.gov/lp-prod-protected/HLSL30.020/HLS.L30.T15RYP.2023140T163123.v2.0/HLS.L30.T15RYP.2023140T163123.v2.0.B07.tif>,\n",
              "  <File-like object HTTPFileSystem, https://data.lpdaac.earthdatacloud.nasa.gov/lp-prod-protected/HLSL30.020/HLS.L30.T15RYP.2023140T163123.v2.0/HLS.L30.T15RYP.2023140T163123.v2.0.VZA.tif>,\n",
              "  <File-like object HTTPFileSystem, https://data.lpdaac.earthdatacloud.nasa.gov/lp-prod-protected/HLSL30.020/HLS.L30.T15RYP.2023140T163123.v2.0/HLS.L30.T15RYP.2023140T163123.v2.0.B10.tif>,\n",
              "  <File-like object HTTPFileSystem, https://data.lpdaac.earthdatacloud.nasa.gov/lp-prod-protected/HLSL30.020/HLS.L30.T15RYP.2023140T163123.v2.0/HLS.L30.T15RYP.2023140T163123.v2.0.SZA.tif>,\n",
              "  <File-like object HTTPFileSystem, https://data.lpdaac.earthdatacloud.nasa.gov/lp-prod-protected/HLSL30.020/HLS.L30.T15RYP.2023140T163123.v2.0/HLS.L30.T15RYP.2023140T163123.v2.0.B04.tif>,\n",
              "  <File-like object HTTPFileSystem, https://data.lpdaac.earthdatacloud.nasa.gov/lp-prod-protected/HLSL30.020/HLS.L30.T15RYP.2023140T163123.v2.0/HLS.L30.T15RYP.2023140T163123.v2.0.B03.tif>,\n",
              "  <File-like object HTTPFileSystem, https://data.lpdaac.earthdatacloud.nasa.gov/lp-prod-protected/HLSL30.020/HLS.L30.T15RYP.2023140T163123.v2.0/HLS.L30.T15RYP.2023140T163123.v2.0.VAA.tif>,\n",
              "  <File-like object HTTPFileSystem, https://data.lpdaac.earthdatacloud.nasa.gov/lp-prod-protected/HLSL30.020/HLS.L30.T15RYP.2023140T163123.v2.0/HLS.L30.T15RYP.2023140T163123.v2.0.B06.tif>,\n",
              "  <File-like object HTTPFileSystem, https://data.lpdaac.earthdatacloud.nasa.gov/lp-prod-protected/HLSL30.020/HLS.L30.T15RYP.2023140T163123.v2.0/HLS.L30.T15RYP.2023140T163123.v2.0.SAA.tif>,\n",
              "  <File-like object HTTPFileSystem, https://data.lpdaac.earthdatacloud.nasa.gov/lp-prod-protected/HLSL30.020/HLS.L30.T15RYP.2023140T163123.v2.0/HLS.L30.T15RYP.2023140T163123.v2.0.B09.tif>,\n",
              "  <File-like object HTTPFileSystem, https://data.lpdaac.earthdatacloud.nasa.gov/lp-prod-protected/HLSL30.020/HLS.L30.T15RYP.2023140T163123.v2.0/HLS.L30.T15RYP.2023140T163123.v2.0.B02.tif>,\n",
              "  <File-like object HTTPFileSystem, https://data.lpdaac.earthdatacloud.nasa.gov/lp-prod-protected/HLSL30.020/HLS.L30.T15RYP.2023140T163123.v2.0/HLS.L30.T15RYP.2023140T163123.v2.0.B01.tif>,\n",
              "  <File-like object HTTPFileSystem, https://data.lpdaac.earthdatacloud.nasa.gov/lp-prod-protected/HLSL30.020/HLS.L30.T15RYP.2023140T163123.v2.0/HLS.L30.T15RYP.2023140T163123.v2.0.Fmask.tif>],\n",
              " [<File-like object HTTPFileSystem, https://data.lpdaac.earthdatacloud.nasa.gov/lp-prod-protected/HLSL30.020/HLS.L30.T16RBT.2023140T163123.v2.0/HLS.L30.T16RBT.2023140T163123.v2.0.B03.tif>,\n",
              "  <File-like object HTTPFileSystem, https://data.lpdaac.earthdatacloud.nasa.gov/lp-prod-protected/HLSL30.020/HLS.L30.T16RBT.2023140T163123.v2.0/HLS.L30.T16RBT.2023140T163123.v2.0.B07.tif>,\n",
              "  <File-like object HTTPFileSystem, https://data.lpdaac.earthdatacloud.nasa.gov/lp-prod-protected/HLSL30.020/HLS.L30.T16RBT.2023140T163123.v2.0/HLS.L30.T16RBT.2023140T163123.v2.0.VAA.tif>,\n",
              "  <File-like object HTTPFileSystem, https://data.lpdaac.earthdatacloud.nasa.gov/lp-prod-protected/HLSL30.020/HLS.L30.T16RBT.2023140T163123.v2.0/HLS.L30.T16RBT.2023140T163123.v2.0.Fmask.tif>,\n",
              "  <File-like object HTTPFileSystem, https://data.lpdaac.earthdatacloud.nasa.gov/lp-prod-protected/HLSL30.020/HLS.L30.T16RBT.2023140T163123.v2.0/HLS.L30.T16RBT.2023140T163123.v2.0.B06.tif>,\n",
              "  <File-like object HTTPFileSystem, https://data.lpdaac.earthdatacloud.nasa.gov/lp-prod-protected/HLSL30.020/HLS.L30.T16RBT.2023140T163123.v2.0/HLS.L30.T16RBT.2023140T163123.v2.0.B04.tif>,\n",
              "  <File-like object HTTPFileSystem, https://data.lpdaac.earthdatacloud.nasa.gov/lp-prod-protected/HLSL30.020/HLS.L30.T16RBT.2023140T163123.v2.0/HLS.L30.T16RBT.2023140T163123.v2.0.VZA.tif>,\n",
              "  <File-like object HTTPFileSystem, https://data.lpdaac.earthdatacloud.nasa.gov/lp-prod-protected/HLSL30.020/HLS.L30.T16RBT.2023140T163123.v2.0/HLS.L30.T16RBT.2023140T163123.v2.0.B11.tif>,\n",
              "  <File-like object HTTPFileSystem, https://data.lpdaac.earthdatacloud.nasa.gov/lp-prod-protected/HLSL30.020/HLS.L30.T16RBT.2023140T163123.v2.0/HLS.L30.T16RBT.2023140T163123.v2.0.SAA.tif>,\n",
              "  <File-like object HTTPFileSystem, https://data.lpdaac.earthdatacloud.nasa.gov/lp-prod-protected/HLSL30.020/HLS.L30.T16RBT.2023140T163123.v2.0/HLS.L30.T16RBT.2023140T163123.v2.0.B01.tif>,\n",
              "  <File-like object HTTPFileSystem, https://data.lpdaac.earthdatacloud.nasa.gov/lp-prod-protected/HLSL30.020/HLS.L30.T16RBT.2023140T163123.v2.0/HLS.L30.T16RBT.2023140T163123.v2.0.B09.tif>,\n",
              "  <File-like object HTTPFileSystem, https://data.lpdaac.earthdatacloud.nasa.gov/lp-prod-protected/HLSL30.020/HLS.L30.T16RBT.2023140T163123.v2.0/HLS.L30.T16RBT.2023140T163123.v2.0.SZA.tif>,\n",
              "  <File-like object HTTPFileSystem, https://data.lpdaac.earthdatacloud.nasa.gov/lp-prod-protected/HLSL30.020/HLS.L30.T16RBT.2023140T163123.v2.0/HLS.L30.T16RBT.2023140T163123.v2.0.B10.tif>,\n",
              "  <File-like object HTTPFileSystem, https://data.lpdaac.earthdatacloud.nasa.gov/lp-prod-protected/HLSL30.020/HLS.L30.T16RBT.2023140T163123.v2.0/HLS.L30.T16RBT.2023140T163123.v2.0.B05.tif>,\n",
              "  <File-like object HTTPFileSystem, https://data.lpdaac.earthdatacloud.nasa.gov/lp-prod-protected/HLSL30.020/HLS.L30.T16RBT.2023140T163123.v2.0/HLS.L30.T16RBT.2023140T163123.v2.0.B02.tif>],\n",
              " [<File-like object HTTPFileSystem, https://data.lpdaac.earthdatacloud.nasa.gov/lp-prod-protected/HLSL30.020/HLS.L30.T16RBU.2023140T163123.v2.0/HLS.L30.T16RBU.2023140T163123.v2.0.SZA.tif>,\n",
              "  <File-like object HTTPFileSystem, https://data.lpdaac.earthdatacloud.nasa.gov/lp-prod-protected/HLSL30.020/HLS.L30.T16RBU.2023140T163123.v2.0/HLS.L30.T16RBU.2023140T163123.v2.0.VAA.tif>,\n",
              "  <File-like object HTTPFileSystem, https://data.lpdaac.earthdatacloud.nasa.gov/lp-prod-protected/HLSL30.020/HLS.L30.T16RBU.2023140T163123.v2.0/HLS.L30.T16RBU.2023140T163123.v2.0.VZA.tif>,\n",
              "  <File-like object HTTPFileSystem, https://data.lpdaac.earthdatacloud.nasa.gov/lp-prod-protected/HLSL30.020/HLS.L30.T16RBU.2023140T163123.v2.0/HLS.L30.T16RBU.2023140T163123.v2.0.B02.tif>,\n",
              "  <File-like object HTTPFileSystem, https://data.lpdaac.earthdatacloud.nasa.gov/lp-prod-protected/HLSL30.020/HLS.L30.T16RBU.2023140T163123.v2.0/HLS.L30.T16RBU.2023140T163123.v2.0.Fmask.tif>,\n",
              "  <File-like object HTTPFileSystem, https://data.lpdaac.earthdatacloud.nasa.gov/lp-prod-protected/HLSL30.020/HLS.L30.T16RBU.2023140T163123.v2.0/HLS.L30.T16RBU.2023140T163123.v2.0.B05.tif>,\n",
              "  <File-like object HTTPFileSystem, https://data.lpdaac.earthdatacloud.nasa.gov/lp-prod-protected/HLSL30.020/HLS.L30.T16RBU.2023140T163123.v2.0/HLS.L30.T16RBU.2023140T163123.v2.0.B07.tif>,\n",
              "  <File-like object HTTPFileSystem, https://data.lpdaac.earthdatacloud.nasa.gov/lp-prod-protected/HLSL30.020/HLS.L30.T16RBU.2023140T163123.v2.0/HLS.L30.T16RBU.2023140T163123.v2.0.B09.tif>,\n",
              "  <File-like object HTTPFileSystem, https://data.lpdaac.earthdatacloud.nasa.gov/lp-prod-protected/HLSL30.020/HLS.L30.T16RBU.2023140T163123.v2.0/HLS.L30.T16RBU.2023140T163123.v2.0.B04.tif>,\n",
              "  <File-like object HTTPFileSystem, https://data.lpdaac.earthdatacloud.nasa.gov/lp-prod-protected/HLSL30.020/HLS.L30.T16RBU.2023140T163123.v2.0/HLS.L30.T16RBU.2023140T163123.v2.0.B06.tif>,\n",
              "  <File-like object HTTPFileSystem, https://data.lpdaac.earthdatacloud.nasa.gov/lp-prod-protected/HLSL30.020/HLS.L30.T16RBU.2023140T163123.v2.0/HLS.L30.T16RBU.2023140T163123.v2.0.B10.tif>,\n",
              "  <File-like object HTTPFileSystem, https://data.lpdaac.earthdatacloud.nasa.gov/lp-prod-protected/HLSL30.020/HLS.L30.T16RBU.2023140T163123.v2.0/HLS.L30.T16RBU.2023140T163123.v2.0.B11.tif>,\n",
              "  <File-like object HTTPFileSystem, https://data.lpdaac.earthdatacloud.nasa.gov/lp-prod-protected/HLSL30.020/HLS.L30.T16RBU.2023140T163123.v2.0/HLS.L30.T16RBU.2023140T163123.v2.0.SAA.tif>,\n",
              "  <File-like object HTTPFileSystem, https://data.lpdaac.earthdatacloud.nasa.gov/lp-prod-protected/HLSL30.020/HLS.L30.T16RBU.2023140T163123.v2.0/HLS.L30.T16RBU.2023140T163123.v2.0.B01.tif>,\n",
              "  <File-like object HTTPFileSystem, https://data.lpdaac.earthdatacloud.nasa.gov/lp-prod-protected/HLSL30.020/HLS.L30.T16RBU.2023140T163123.v2.0/HLS.L30.T16RBU.2023140T163123.v2.0.B03.tif>],\n",
              " [<File-like object HTTPFileSystem, https://data.lpdaac.earthdatacloud.nasa.gov/lp-prod-protected/HLSL30.020/HLS.L30.T15RYN.2023140T163123.v2.0/HLS.L30.T15RYN.2023140T163123.v2.0.SAA.tif>,\n",
              "  <File-like object HTTPFileSystem, https://data.lpdaac.earthdatacloud.nasa.gov/lp-prod-protected/HLSL30.020/HLS.L30.T15RYN.2023140T163123.v2.0/HLS.L30.T15RYN.2023140T163123.v2.0.VZA.tif>,\n",
              "  <File-like object HTTPFileSystem, https://data.lpdaac.earthdatacloud.nasa.gov/lp-prod-protected/HLSL30.020/HLS.L30.T15RYN.2023140T163123.v2.0/HLS.L30.T15RYN.2023140T163123.v2.0.VAA.tif>,\n",
              "  <File-like object HTTPFileSystem, https://data.lpdaac.earthdatacloud.nasa.gov/lp-prod-protected/HLSL30.020/HLS.L30.T15RYN.2023140T163123.v2.0/HLS.L30.T15RYN.2023140T163123.v2.0.B11.tif>,\n",
              "  <File-like object HTTPFileSystem, https://data.lpdaac.earthdatacloud.nasa.gov/lp-prod-protected/HLSL30.020/HLS.L30.T15RYN.2023140T163123.v2.0/HLS.L30.T15RYN.2023140T163123.v2.0.B07.tif>,\n",
              "  <File-like object HTTPFileSystem, https://data.lpdaac.earthdatacloud.nasa.gov/lp-prod-protected/HLSL30.020/HLS.L30.T15RYN.2023140T163123.v2.0/HLS.L30.T15RYN.2023140T163123.v2.0.B01.tif>,\n",
              "  <File-like object HTTPFileSystem, https://data.lpdaac.earthdatacloud.nasa.gov/lp-prod-protected/HLSL30.020/HLS.L30.T15RYN.2023140T163123.v2.0/HLS.L30.T15RYN.2023140T163123.v2.0.B09.tif>,\n",
              "  <File-like object HTTPFileSystem, https://data.lpdaac.earthdatacloud.nasa.gov/lp-prod-protected/HLSL30.020/HLS.L30.T15RYN.2023140T163123.v2.0/HLS.L30.T15RYN.2023140T163123.v2.0.B05.tif>,\n",
              "  <File-like object HTTPFileSystem, https://data.lpdaac.earthdatacloud.nasa.gov/lp-prod-protected/HLSL30.020/HLS.L30.T15RYN.2023140T163123.v2.0/HLS.L30.T15RYN.2023140T163123.v2.0.B10.tif>,\n",
              "  <File-like object HTTPFileSystem, https://data.lpdaac.earthdatacloud.nasa.gov/lp-prod-protected/HLSL30.020/HLS.L30.T15RYN.2023140T163123.v2.0/HLS.L30.T15RYN.2023140T163123.v2.0.B02.tif>,\n",
              "  <File-like object HTTPFileSystem, https://data.lpdaac.earthdatacloud.nasa.gov/lp-prod-protected/HLSL30.020/HLS.L30.T15RYN.2023140T163123.v2.0/HLS.L30.T15RYN.2023140T163123.v2.0.B03.tif>,\n",
              "  <File-like object HTTPFileSystem, https://data.lpdaac.earthdatacloud.nasa.gov/lp-prod-protected/HLSL30.020/HLS.L30.T15RYN.2023140T163123.v2.0/HLS.L30.T15RYN.2023140T163123.v2.0.Fmask.tif>,\n",
              "  <File-like object HTTPFileSystem, https://data.lpdaac.earthdatacloud.nasa.gov/lp-prod-protected/HLSL30.020/HLS.L30.T15RYN.2023140T163123.v2.0/HLS.L30.T15RYN.2023140T163123.v2.0.B04.tif>,\n",
              "  <File-like object HTTPFileSystem, https://data.lpdaac.earthdatacloud.nasa.gov/lp-prod-protected/HLSL30.020/HLS.L30.T15RYN.2023140T163123.v2.0/HLS.L30.T15RYN.2023140T163123.v2.0.B06.tif>,\n",
              "  <File-like object HTTPFileSystem, https://data.lpdaac.earthdatacloud.nasa.gov/lp-prod-protected/HLSL30.020/HLS.L30.T15RYN.2023140T163123.v2.0/HLS.L30.T15RYN.2023140T163123.v2.0.SZA.tif>],\n",
              " [<File-like object HTTPFileSystem, https://data.lpdaac.earthdatacloud.nasa.gov/lp-prod-protected/HLSL30.020/HLS.L30.T15RYN.2023148T163134.v2.0/HLS.L30.T15RYN.2023148T163134.v2.0.Fmask.tif>,\n",
              "  <File-like object HTTPFileSystem, https://data.lpdaac.earthdatacloud.nasa.gov/lp-prod-protected/HLSL30.020/HLS.L30.T15RYN.2023148T163134.v2.0/HLS.L30.T15RYN.2023148T163134.v2.0.B10.tif>,\n",
              "  <File-like object HTTPFileSystem, https://data.lpdaac.earthdatacloud.nasa.gov/lp-prod-protected/HLSL30.020/HLS.L30.T15RYN.2023148T163134.v2.0/HLS.L30.T15RYN.2023148T163134.v2.0.SAA.tif>,\n",
              "  <File-like object HTTPFileSystem, https://data.lpdaac.earthdatacloud.nasa.gov/lp-prod-protected/HLSL30.020/HLS.L30.T15RYN.2023148T163134.v2.0/HLS.L30.T15RYN.2023148T163134.v2.0.B03.tif>,\n",
              "  <File-like object HTTPFileSystem, https://data.lpdaac.earthdatacloud.nasa.gov/lp-prod-protected/HLSL30.020/HLS.L30.T15RYN.2023148T163134.v2.0/HLS.L30.T15RYN.2023148T163134.v2.0.B07.tif>,\n",
              "  <File-like object HTTPFileSystem, https://data.lpdaac.earthdatacloud.nasa.gov/lp-prod-protected/HLSL30.020/HLS.L30.T15RYN.2023148T163134.v2.0/HLS.L30.T15RYN.2023148T163134.v2.0.B01.tif>,\n",
              "  <File-like object HTTPFileSystem, https://data.lpdaac.earthdatacloud.nasa.gov/lp-prod-protected/HLSL30.020/HLS.L30.T15RYN.2023148T163134.v2.0/HLS.L30.T15RYN.2023148T163134.v2.0.B05.tif>,\n",
              "  <File-like object HTTPFileSystem, https://data.lpdaac.earthdatacloud.nasa.gov/lp-prod-protected/HLSL30.020/HLS.L30.T15RYN.2023148T163134.v2.0/HLS.L30.T15RYN.2023148T163134.v2.0.VAA.tif>,\n",
              "  <File-like object HTTPFileSystem, https://data.lpdaac.earthdatacloud.nasa.gov/lp-prod-protected/HLSL30.020/HLS.L30.T15RYN.2023148T163134.v2.0/HLS.L30.T15RYN.2023148T163134.v2.0.VZA.tif>,\n",
              "  <File-like object HTTPFileSystem, https://data.lpdaac.earthdatacloud.nasa.gov/lp-prod-protected/HLSL30.020/HLS.L30.T15RYN.2023148T163134.v2.0/HLS.L30.T15RYN.2023148T163134.v2.0.B11.tif>,\n",
              "  <File-like object HTTPFileSystem, https://data.lpdaac.earthdatacloud.nasa.gov/lp-prod-protected/HLSL30.020/HLS.L30.T15RYN.2023148T163134.v2.0/HLS.L30.T15RYN.2023148T163134.v2.0.SZA.tif>,\n",
              "  <File-like object HTTPFileSystem, https://data.lpdaac.earthdatacloud.nasa.gov/lp-prod-protected/HLSL30.020/HLS.L30.T15RYN.2023148T163134.v2.0/HLS.L30.T15RYN.2023148T163134.v2.0.B09.tif>,\n",
              "  <File-like object HTTPFileSystem, https://data.lpdaac.earthdatacloud.nasa.gov/lp-prod-protected/HLSL30.020/HLS.L30.T15RYN.2023148T163134.v2.0/HLS.L30.T15RYN.2023148T163134.v2.0.B04.tif>,\n",
              "  <File-like object HTTPFileSystem, https://data.lpdaac.earthdatacloud.nasa.gov/lp-prod-protected/HLSL30.020/HLS.L30.T15RYN.2023148T163134.v2.0/HLS.L30.T15RYN.2023148T163134.v2.0.B06.tif>,\n",
              "  <File-like object HTTPFileSystem, https://data.lpdaac.earthdatacloud.nasa.gov/lp-prod-protected/HLSL30.020/HLS.L30.T15RYN.2023148T163134.v2.0/HLS.L30.T15RYN.2023148T163134.v2.0.B02.tif>],\n",
              " [<File-like object HTTPFileSystem, https://data.lpdaac.earthdatacloud.nasa.gov/lp-prod-protected/HLSL30.020/HLS.L30.T16RBU.2023148T163134.v2.0/HLS.L30.T16RBU.2023148T163134.v2.0.B06.tif>,\n",
              "  <File-like object HTTPFileSystem, https://data.lpdaac.earthdatacloud.nasa.gov/lp-prod-protected/HLSL30.020/HLS.L30.T16RBU.2023148T163134.v2.0/HLS.L30.T16RBU.2023148T163134.v2.0.B01.tif>,\n",
              "  <File-like object HTTPFileSystem, https://data.lpdaac.earthdatacloud.nasa.gov/lp-prod-protected/HLSL30.020/HLS.L30.T16RBU.2023148T163134.v2.0/HLS.L30.T16RBU.2023148T163134.v2.0.B04.tif>,\n",
              "  <File-like object HTTPFileSystem, https://data.lpdaac.earthdatacloud.nasa.gov/lp-prod-protected/HLSL30.020/HLS.L30.T16RBU.2023148T163134.v2.0/HLS.L30.T16RBU.2023148T163134.v2.0.SZA.tif>,\n",
              "  <File-like object HTTPFileSystem, https://data.lpdaac.earthdatacloud.nasa.gov/lp-prod-protected/HLSL30.020/HLS.L30.T16RBU.2023148T163134.v2.0/HLS.L30.T16RBU.2023148T163134.v2.0.SAA.tif>,\n",
              "  <File-like object HTTPFileSystem, https://data.lpdaac.earthdatacloud.nasa.gov/lp-prod-protected/HLSL30.020/HLS.L30.T16RBU.2023148T163134.v2.0/HLS.L30.T16RBU.2023148T163134.v2.0.B02.tif>,\n",
              "  <File-like object HTTPFileSystem, https://data.lpdaac.earthdatacloud.nasa.gov/lp-prod-protected/HLSL30.020/HLS.L30.T16RBU.2023148T163134.v2.0/HLS.L30.T16RBU.2023148T163134.v2.0.B09.tif>,\n",
              "  <File-like object HTTPFileSystem, https://data.lpdaac.earthdatacloud.nasa.gov/lp-prod-protected/HLSL30.020/HLS.L30.T16RBU.2023148T163134.v2.0/HLS.L30.T16RBU.2023148T163134.v2.0.VZA.tif>,\n",
              "  <File-like object HTTPFileSystem, https://data.lpdaac.earthdatacloud.nasa.gov/lp-prod-protected/HLSL30.020/HLS.L30.T16RBU.2023148T163134.v2.0/HLS.L30.T16RBU.2023148T163134.v2.0.B03.tif>,\n",
              "  <File-like object HTTPFileSystem, https://data.lpdaac.earthdatacloud.nasa.gov/lp-prod-protected/HLSL30.020/HLS.L30.T16RBU.2023148T163134.v2.0/HLS.L30.T16RBU.2023148T163134.v2.0.B05.tif>,\n",
              "  <File-like object HTTPFileSystem, https://data.lpdaac.earthdatacloud.nasa.gov/lp-prod-protected/HLSL30.020/HLS.L30.T16RBU.2023148T163134.v2.0/HLS.L30.T16RBU.2023148T163134.v2.0.B07.tif>,\n",
              "  <File-like object HTTPFileSystem, https://data.lpdaac.earthdatacloud.nasa.gov/lp-prod-protected/HLSL30.020/HLS.L30.T16RBU.2023148T163134.v2.0/HLS.L30.T16RBU.2023148T163134.v2.0.Fmask.tif>,\n",
              "  <File-like object HTTPFileSystem, https://data.lpdaac.earthdatacloud.nasa.gov/lp-prod-protected/HLSL30.020/HLS.L30.T16RBU.2023148T163134.v2.0/HLS.L30.T16RBU.2023148T163134.v2.0.B11.tif>,\n",
              "  <File-like object HTTPFileSystem, https://data.lpdaac.earthdatacloud.nasa.gov/lp-prod-protected/HLSL30.020/HLS.L30.T16RBU.2023148T163134.v2.0/HLS.L30.T16RBU.2023148T163134.v2.0.VAA.tif>,\n",
              "  <File-like object HTTPFileSystem, https://data.lpdaac.earthdatacloud.nasa.gov/lp-prod-protected/HLSL30.020/HLS.L30.T16RBU.2023148T163134.v2.0/HLS.L30.T16RBU.2023148T163134.v2.0.B10.tif>],\n",
              " [<File-like object HTTPFileSystem, https://data.lpdaac.earthdatacloud.nasa.gov/lp-prod-protected/HLSL30.020/HLS.L30.T16RBT.2023148T163134.v2.0/HLS.L30.T16RBT.2023148T163134.v2.0.B07.tif>,\n",
              "  <File-like object HTTPFileSystem, https://data.lpdaac.earthdatacloud.nasa.gov/lp-prod-protected/HLSL30.020/HLS.L30.T16RBT.2023148T163134.v2.0/HLS.L30.T16RBT.2023148T163134.v2.0.B11.tif>,\n",
              "  <File-like object HTTPFileSystem, https://data.lpdaac.earthdatacloud.nasa.gov/lp-prod-protected/HLSL30.020/HLS.L30.T16RBT.2023148T163134.v2.0/HLS.L30.T16RBT.2023148T163134.v2.0.SAA.tif>,\n",
              "  <File-like object HTTPFileSystem, https://data.lpdaac.earthdatacloud.nasa.gov/lp-prod-protected/HLSL30.020/HLS.L30.T16RBT.2023148T163134.v2.0/HLS.L30.T16RBT.2023148T163134.v2.0.B05.tif>,\n",
              "  <File-like object HTTPFileSystem, https://data.lpdaac.earthdatacloud.nasa.gov/lp-prod-protected/HLSL30.020/HLS.L30.T16RBT.2023148T163134.v2.0/HLS.L30.T16RBT.2023148T163134.v2.0.B01.tif>,\n",
              "  <File-like object HTTPFileSystem, https://data.lpdaac.earthdatacloud.nasa.gov/lp-prod-protected/HLSL30.020/HLS.L30.T16RBT.2023148T163134.v2.0/HLS.L30.T16RBT.2023148T163134.v2.0.B10.tif>,\n",
              "  <File-like object HTTPFileSystem, https://data.lpdaac.earthdatacloud.nasa.gov/lp-prod-protected/HLSL30.020/HLS.L30.T16RBT.2023148T163134.v2.0/HLS.L30.T16RBT.2023148T163134.v2.0.B02.tif>,\n",
              "  <File-like object HTTPFileSystem, https://data.lpdaac.earthdatacloud.nasa.gov/lp-prod-protected/HLSL30.020/HLS.L30.T16RBT.2023148T163134.v2.0/HLS.L30.T16RBT.2023148T163134.v2.0.B06.tif>,\n",
              "  <File-like object HTTPFileSystem, https://data.lpdaac.earthdatacloud.nasa.gov/lp-prod-protected/HLSL30.020/HLS.L30.T16RBT.2023148T163134.v2.0/HLS.L30.T16RBT.2023148T163134.v2.0.B09.tif>,\n",
              "  <File-like object HTTPFileSystem, https://data.lpdaac.earthdatacloud.nasa.gov/lp-prod-protected/HLSL30.020/HLS.L30.T16RBT.2023148T163134.v2.0/HLS.L30.T16RBT.2023148T163134.v2.0.VZA.tif>,\n",
              "  <File-like object HTTPFileSystem, https://data.lpdaac.earthdatacloud.nasa.gov/lp-prod-protected/HLSL30.020/HLS.L30.T16RBT.2023148T163134.v2.0/HLS.L30.T16RBT.2023148T163134.v2.0.B03.tif>,\n",
              "  <File-like object HTTPFileSystem, https://data.lpdaac.earthdatacloud.nasa.gov/lp-prod-protected/HLSL30.020/HLS.L30.T16RBT.2023148T163134.v2.0/HLS.L30.T16RBT.2023148T163134.v2.0.SZA.tif>,\n",
              "  <File-like object HTTPFileSystem, https://data.lpdaac.earthdatacloud.nasa.gov/lp-prod-protected/HLSL30.020/HLS.L30.T16RBT.2023148T163134.v2.0/HLS.L30.T16RBT.2023148T163134.v2.0.B04.tif>,\n",
              "  <File-like object HTTPFileSystem, https://data.lpdaac.earthdatacloud.nasa.gov/lp-prod-protected/HLSL30.020/HLS.L30.T16RBT.2023148T163134.v2.0/HLS.L30.T16RBT.2023148T163134.v2.0.VAA.tif>,\n",
              "  <File-like object HTTPFileSystem, https://data.lpdaac.earthdatacloud.nasa.gov/lp-prod-protected/HLSL30.020/HLS.L30.T16RBT.2023148T163134.v2.0/HLS.L30.T16RBT.2023148T163134.v2.0.Fmask.tif>],\n",
              " [<File-like object HTTPFileSystem, https://data.lpdaac.earthdatacloud.nasa.gov/lp-prod-protected/HLSL30.020/HLS.L30.T15RYP.2023148T163134.v2.0/HLS.L30.T15RYP.2023148T163134.v2.0.B07.tif>,\n",
              "  <File-like object HTTPFileSystem, https://data.lpdaac.earthdatacloud.nasa.gov/lp-prod-protected/HLSL30.020/HLS.L30.T15RYP.2023148T163134.v2.0/HLS.L30.T15RYP.2023148T163134.v2.0.B05.tif>,\n",
              "  <File-like object HTTPFileSystem, https://data.lpdaac.earthdatacloud.nasa.gov/lp-prod-protected/HLSL30.020/HLS.L30.T15RYP.2023148T163134.v2.0/HLS.L30.T15RYP.2023148T163134.v2.0.SAA.tif>,\n",
              "  <File-like object HTTPFileSystem, https://data.lpdaac.earthdatacloud.nasa.gov/lp-prod-protected/HLSL30.020/HLS.L30.T15RYP.2023148T163134.v2.0/HLS.L30.T15RYP.2023148T163134.v2.0.VAA.tif>,\n",
              "  <File-like object HTTPFileSystem, https://data.lpdaac.earthdatacloud.nasa.gov/lp-prod-protected/HLSL30.020/HLS.L30.T15RYP.2023148T163134.v2.0/HLS.L30.T15RYP.2023148T163134.v2.0.VZA.tif>,\n",
              "  <File-like object HTTPFileSystem, https://data.lpdaac.earthdatacloud.nasa.gov/lp-prod-protected/HLSL30.020/HLS.L30.T15RYP.2023148T163134.v2.0/HLS.L30.T15RYP.2023148T163134.v2.0.B03.tif>,\n",
              "  <File-like object HTTPFileSystem, https://data.lpdaac.earthdatacloud.nasa.gov/lp-prod-protected/HLSL30.020/HLS.L30.T15RYP.2023148T163134.v2.0/HLS.L30.T15RYP.2023148T163134.v2.0.B04.tif>,\n",
              "  <File-like object HTTPFileSystem, https://data.lpdaac.earthdatacloud.nasa.gov/lp-prod-protected/HLSL30.020/HLS.L30.T15RYP.2023148T163134.v2.0/HLS.L30.T15RYP.2023148T163134.v2.0.B09.tif>,\n",
              "  <File-like object HTTPFileSystem, https://data.lpdaac.earthdatacloud.nasa.gov/lp-prod-protected/HLSL30.020/HLS.L30.T15RYP.2023148T163134.v2.0/HLS.L30.T15RYP.2023148T163134.v2.0.B06.tif>,\n",
              "  <File-like object HTTPFileSystem, https://data.lpdaac.earthdatacloud.nasa.gov/lp-prod-protected/HLSL30.020/HLS.L30.T15RYP.2023148T163134.v2.0/HLS.L30.T15RYP.2023148T163134.v2.0.Fmask.tif>,\n",
              "  <File-like object HTTPFileSystem, https://data.lpdaac.earthdatacloud.nasa.gov/lp-prod-protected/HLSL30.020/HLS.L30.T15RYP.2023148T163134.v2.0/HLS.L30.T15RYP.2023148T163134.v2.0.B10.tif>,\n",
              "  <File-like object HTTPFileSystem, https://data.lpdaac.earthdatacloud.nasa.gov/lp-prod-protected/HLSL30.020/HLS.L30.T15RYP.2023148T163134.v2.0/HLS.L30.T15RYP.2023148T163134.v2.0.B01.tif>,\n",
              "  <File-like object HTTPFileSystem, https://data.lpdaac.earthdatacloud.nasa.gov/lp-prod-protected/HLSL30.020/HLS.L30.T15RYP.2023148T163134.v2.0/HLS.L30.T15RYP.2023148T163134.v2.0.B02.tif>,\n",
              "  <File-like object HTTPFileSystem, https://data.lpdaac.earthdatacloud.nasa.gov/lp-prod-protected/HLSL30.020/HLS.L30.T15RYP.2023148T163134.v2.0/HLS.L30.T15RYP.2023148T163134.v2.0.SZA.tif>,\n",
              "  <File-like object HTTPFileSystem, https://data.lpdaac.earthdatacloud.nasa.gov/lp-prod-protected/HLSL30.020/HLS.L30.T15RYP.2023148T163134.v2.0/HLS.L30.T15RYP.2023148T163134.v2.0.B11.tif>],\n",
              " [<File-like object HTTPFileSystem, https://data.lpdaac.earthdatacloud.nasa.gov/lp-prod-protected/HLSL30.020/HLS.L30.T16RBU.2023156T163128.v2.0/HLS.L30.T16RBU.2023156T163128.v2.0.VZA.tif>,\n",
              "  <File-like object HTTPFileSystem, https://data.lpdaac.earthdatacloud.nasa.gov/lp-prod-protected/HLSL30.020/HLS.L30.T16RBU.2023156T163128.v2.0/HLS.L30.T16RBU.2023156T163128.v2.0.B04.tif>,\n",
              "  <File-like object HTTPFileSystem, https://data.lpdaac.earthdatacloud.nasa.gov/lp-prod-protected/HLSL30.020/HLS.L30.T16RBU.2023156T163128.v2.0/HLS.L30.T16RBU.2023156T163128.v2.0.B11.tif>,\n",
              "  <File-like object HTTPFileSystem, https://data.lpdaac.earthdatacloud.nasa.gov/lp-prod-protected/HLSL30.020/HLS.L30.T16RBU.2023156T163128.v2.0/HLS.L30.T16RBU.2023156T163128.v2.0.B01.tif>,\n",
              "  <File-like object HTTPFileSystem, https://data.lpdaac.earthdatacloud.nasa.gov/lp-prod-protected/HLSL30.020/HLS.L30.T16RBU.2023156T163128.v2.0/HLS.L30.T16RBU.2023156T163128.v2.0.B05.tif>,\n",
              "  <File-like object HTTPFileSystem, https://data.lpdaac.earthdatacloud.nasa.gov/lp-prod-protected/HLSL30.020/HLS.L30.T16RBU.2023156T163128.v2.0/HLS.L30.T16RBU.2023156T163128.v2.0.SAA.tif>,\n",
              "  <File-like object HTTPFileSystem, https://data.lpdaac.earthdatacloud.nasa.gov/lp-prod-protected/HLSL30.020/HLS.L30.T16RBU.2023156T163128.v2.0/HLS.L30.T16RBU.2023156T163128.v2.0.Fmask.tif>,\n",
              "  <File-like object HTTPFileSystem, https://data.lpdaac.earthdatacloud.nasa.gov/lp-prod-protected/HLSL30.020/HLS.L30.T16RBU.2023156T163128.v2.0/HLS.L30.T16RBU.2023156T163128.v2.0.B09.tif>,\n",
              "  <File-like object HTTPFileSystem, https://data.lpdaac.earthdatacloud.nasa.gov/lp-prod-protected/HLSL30.020/HLS.L30.T16RBU.2023156T163128.v2.0/HLS.L30.T16RBU.2023156T163128.v2.0.B10.tif>,\n",
              "  <File-like object HTTPFileSystem, https://data.lpdaac.earthdatacloud.nasa.gov/lp-prod-protected/HLSL30.020/HLS.L30.T16RBU.2023156T163128.v2.0/HLS.L30.T16RBU.2023156T163128.v2.0.SZA.tif>,\n",
              "  <File-like object HTTPFileSystem, https://data.lpdaac.earthdatacloud.nasa.gov/lp-prod-protected/HLSL30.020/HLS.L30.T16RBU.2023156T163128.v2.0/HLS.L30.T16RBU.2023156T163128.v2.0.VAA.tif>,\n",
              "  <File-like object HTTPFileSystem, https://data.lpdaac.earthdatacloud.nasa.gov/lp-prod-protected/HLSL30.020/HLS.L30.T16RBU.2023156T163128.v2.0/HLS.L30.T16RBU.2023156T163128.v2.0.B07.tif>,\n",
              "  <File-like object HTTPFileSystem, https://data.lpdaac.earthdatacloud.nasa.gov/lp-prod-protected/HLSL30.020/HLS.L30.T16RBU.2023156T163128.v2.0/HLS.L30.T16RBU.2023156T163128.v2.0.B06.tif>,\n",
              "  <File-like object HTTPFileSystem, https://data.lpdaac.earthdatacloud.nasa.gov/lp-prod-protected/HLSL30.020/HLS.L30.T16RBU.2023156T163128.v2.0/HLS.L30.T16RBU.2023156T163128.v2.0.B02.tif>,\n",
              "  <File-like object HTTPFileSystem, https://data.lpdaac.earthdatacloud.nasa.gov/lp-prod-protected/HLSL30.020/HLS.L30.T16RBU.2023156T163128.v2.0/HLS.L30.T16RBU.2023156T163128.v2.0.B03.tif>],\n",
              " [<File-like object HTTPFileSystem, https://data.lpdaac.earthdatacloud.nasa.gov/lp-prod-protected/HLSL30.020/HLS.L30.T15RYP.2023156T163128.v2.0/HLS.L30.T15RYP.2023156T163128.v2.0.B03.tif>,\n",
              "  <File-like object HTTPFileSystem, https://data.lpdaac.earthdatacloud.nasa.gov/lp-prod-protected/HLSL30.020/HLS.L30.T15RYP.2023156T163128.v2.0/HLS.L30.T15RYP.2023156T163128.v2.0.B05.tif>,\n",
              "  <File-like object HTTPFileSystem, https://data.lpdaac.earthdatacloud.nasa.gov/lp-prod-protected/HLSL30.020/HLS.L30.T15RYP.2023156T163128.v2.0/HLS.L30.T15RYP.2023156T163128.v2.0.SZA.tif>,\n",
              "  <File-like object HTTPFileSystem, https://data.lpdaac.earthdatacloud.nasa.gov/lp-prod-protected/HLSL30.020/HLS.L30.T15RYP.2023156T163128.v2.0/HLS.L30.T15RYP.2023156T163128.v2.0.B07.tif>,\n",
              "  <File-like object HTTPFileSystem, https://data.lpdaac.earthdatacloud.nasa.gov/lp-prod-protected/HLSL30.020/HLS.L30.T15RYP.2023156T163128.v2.0/HLS.L30.T15RYP.2023156T163128.v2.0.B01.tif>,\n",
              "  <File-like object HTTPFileSystem, https://data.lpdaac.earthdatacloud.nasa.gov/lp-prod-protected/HLSL30.020/HLS.L30.T15RYP.2023156T163128.v2.0/HLS.L30.T15RYP.2023156T163128.v2.0.VZA.tif>,\n",
              "  <File-like object HTTPFileSystem, https://data.lpdaac.earthdatacloud.nasa.gov/lp-prod-protected/HLSL30.020/HLS.L30.T15RYP.2023156T163128.v2.0/HLS.L30.T15RYP.2023156T163128.v2.0.VAA.tif>,\n",
              "  <File-like object HTTPFileSystem, https://data.lpdaac.earthdatacloud.nasa.gov/lp-prod-protected/HLSL30.020/HLS.L30.T15RYP.2023156T163128.v2.0/HLS.L30.T15RYP.2023156T163128.v2.0.Fmask.tif>,\n",
              "  <File-like object HTTPFileSystem, https://data.lpdaac.earthdatacloud.nasa.gov/lp-prod-protected/HLSL30.020/HLS.L30.T15RYP.2023156T163128.v2.0/HLS.L30.T15RYP.2023156T163128.v2.0.B11.tif>,\n",
              "  <File-like object HTTPFileSystem, https://data.lpdaac.earthdatacloud.nasa.gov/lp-prod-protected/HLSL30.020/HLS.L30.T15RYP.2023156T163128.v2.0/HLS.L30.T15RYP.2023156T163128.v2.0.SAA.tif>,\n",
              "  <File-like object HTTPFileSystem, https://data.lpdaac.earthdatacloud.nasa.gov/lp-prod-protected/HLSL30.020/HLS.L30.T15RYP.2023156T163128.v2.0/HLS.L30.T15RYP.2023156T163128.v2.0.B04.tif>,\n",
              "  <File-like object HTTPFileSystem, https://data.lpdaac.earthdatacloud.nasa.gov/lp-prod-protected/HLSL30.020/HLS.L30.T15RYP.2023156T163128.v2.0/HLS.L30.T15RYP.2023156T163128.v2.0.B10.tif>,\n",
              "  <File-like object HTTPFileSystem, https://data.lpdaac.earthdatacloud.nasa.gov/lp-prod-protected/HLSL30.020/HLS.L30.T15RYP.2023156T163128.v2.0/HLS.L30.T15RYP.2023156T163128.v2.0.B09.tif>,\n",
              "  <File-like object HTTPFileSystem, https://data.lpdaac.earthdatacloud.nasa.gov/lp-prod-protected/HLSL30.020/HLS.L30.T15RYP.2023156T163128.v2.0/HLS.L30.T15RYP.2023156T163128.v2.0.B02.tif>,\n",
              "  <File-like object HTTPFileSystem, https://data.lpdaac.earthdatacloud.nasa.gov/lp-prod-protected/HLSL30.020/HLS.L30.T15RYP.2023156T163128.v2.0/HLS.L30.T15RYP.2023156T163128.v2.0.B06.tif>],\n",
              " [<File-like object HTTPFileSystem, https://data.lpdaac.earthdatacloud.nasa.gov/lp-prod-protected/HLSL30.020/HLS.L30.T16RBT.2023156T163128.v2.0/HLS.L30.T16RBT.2023156T163128.v2.0.SAA.tif>,\n",
              "  <File-like object HTTPFileSystem, https://data.lpdaac.earthdatacloud.nasa.gov/lp-prod-protected/HLSL30.020/HLS.L30.T16RBT.2023156T163128.v2.0/HLS.L30.T16RBT.2023156T163128.v2.0.B05.tif>,\n",
              "  <File-like object HTTPFileSystem, https://data.lpdaac.earthdatacloud.nasa.gov/lp-prod-protected/HLSL30.020/HLS.L30.T16RBT.2023156T163128.v2.0/HLS.L30.T16RBT.2023156T163128.v2.0.B11.tif>,\n",
              "  <File-like object HTTPFileSystem, https://data.lpdaac.earthdatacloud.nasa.gov/lp-prod-protected/HLSL30.020/HLS.L30.T16RBT.2023156T163128.v2.0/HLS.L30.T16RBT.2023156T163128.v2.0.B03.tif>,\n",
              "  <File-like object HTTPFileSystem, https://data.lpdaac.earthdatacloud.nasa.gov/lp-prod-protected/HLSL30.020/HLS.L30.T16RBT.2023156T163128.v2.0/HLS.L30.T16RBT.2023156T163128.v2.0.B09.tif>,\n",
              "  <File-like object HTTPFileSystem, https://data.lpdaac.earthdatacloud.nasa.gov/lp-prod-protected/HLSL30.020/HLS.L30.T16RBT.2023156T163128.v2.0/HLS.L30.T16RBT.2023156T163128.v2.0.B07.tif>,\n",
              "  <File-like object HTTPFileSystem, https://data.lpdaac.earthdatacloud.nasa.gov/lp-prod-protected/HLSL30.020/HLS.L30.T16RBT.2023156T163128.v2.0/HLS.L30.T16RBT.2023156T163128.v2.0.VAA.tif>,\n",
              "  <File-like object HTTPFileSystem, https://data.lpdaac.earthdatacloud.nasa.gov/lp-prod-protected/HLSL30.020/HLS.L30.T16RBT.2023156T163128.v2.0/HLS.L30.T16RBT.2023156T163128.v2.0.B04.tif>,\n",
              "  <File-like object HTTPFileSystem, https://data.lpdaac.earthdatacloud.nasa.gov/lp-prod-protected/HLSL30.020/HLS.L30.T16RBT.2023156T163128.v2.0/HLS.L30.T16RBT.2023156T163128.v2.0.B06.tif>,\n",
              "  <File-like object HTTPFileSystem, https://data.lpdaac.earthdatacloud.nasa.gov/lp-prod-protected/HLSL30.020/HLS.L30.T16RBT.2023156T163128.v2.0/HLS.L30.T16RBT.2023156T163128.v2.0.Fmask.tif>,\n",
              "  <File-like object HTTPFileSystem, https://data.lpdaac.earthdatacloud.nasa.gov/lp-prod-protected/HLSL30.020/HLS.L30.T16RBT.2023156T163128.v2.0/HLS.L30.T16RBT.2023156T163128.v2.0.B02.tif>,\n",
              "  <File-like object HTTPFileSystem, https://data.lpdaac.earthdatacloud.nasa.gov/lp-prod-protected/HLSL30.020/HLS.L30.T16RBT.2023156T163128.v2.0/HLS.L30.T16RBT.2023156T163128.v2.0.VZA.tif>,\n",
              "  <File-like object HTTPFileSystem, https://data.lpdaac.earthdatacloud.nasa.gov/lp-prod-protected/HLSL30.020/HLS.L30.T16RBT.2023156T163128.v2.0/HLS.L30.T16RBT.2023156T163128.v2.0.SZA.tif>,\n",
              "  <File-like object HTTPFileSystem, https://data.lpdaac.earthdatacloud.nasa.gov/lp-prod-protected/HLSL30.020/HLS.L30.T16RBT.2023156T163128.v2.0/HLS.L30.T16RBT.2023156T163128.v2.0.B01.tif>,\n",
              "  <File-like object HTTPFileSystem, https://data.lpdaac.earthdatacloud.nasa.gov/lp-prod-protected/HLSL30.020/HLS.L30.T16RBT.2023156T163128.v2.0/HLS.L30.T16RBT.2023156T163128.v2.0.B10.tif>],\n",
              " [<File-like object HTTPFileSystem, https://data.lpdaac.earthdatacloud.nasa.gov/lp-prod-protected/HLSL30.020/HLS.L30.T15RYN.2023156T163128.v2.0/HLS.L30.T15RYN.2023156T163128.v2.0.B06.tif>,\n",
              "  <File-like object HTTPFileSystem, https://data.lpdaac.earthdatacloud.nasa.gov/lp-prod-protected/HLSL30.020/HLS.L30.T15RYN.2023156T163128.v2.0/HLS.L30.T15RYN.2023156T163128.v2.0.B07.tif>,\n",
              "  <File-like object HTTPFileSystem, https://data.lpdaac.earthdatacloud.nasa.gov/lp-prod-protected/HLSL30.020/HLS.L30.T15RYN.2023156T163128.v2.0/HLS.L30.T15RYN.2023156T163128.v2.0.SZA.tif>,\n",
              "  <File-like object HTTPFileSystem, https://data.lpdaac.earthdatacloud.nasa.gov/lp-prod-protected/HLSL30.020/HLS.L30.T15RYN.2023156T163128.v2.0/HLS.L30.T15RYN.2023156T163128.v2.0.B10.tif>,\n",
              "  <File-like object HTTPFileSystem, https://data.lpdaac.earthdatacloud.nasa.gov/lp-prod-protected/HLSL30.020/HLS.L30.T15RYN.2023156T163128.v2.0/HLS.L30.T15RYN.2023156T163128.v2.0.B05.tif>,\n",
              "  <File-like object HTTPFileSystem, https://data.lpdaac.earthdatacloud.nasa.gov/lp-prod-protected/HLSL30.020/HLS.L30.T15RYN.2023156T163128.v2.0/HLS.L30.T15RYN.2023156T163128.v2.0.B03.tif>,\n",
              "  <File-like object HTTPFileSystem, https://data.lpdaac.earthdatacloud.nasa.gov/lp-prod-protected/HLSL30.020/HLS.L30.T15RYN.2023156T163128.v2.0/HLS.L30.T15RYN.2023156T163128.v2.0.SAA.tif>,\n",
              "  <File-like object HTTPFileSystem, https://data.lpdaac.earthdatacloud.nasa.gov/lp-prod-protected/HLSL30.020/HLS.L30.T15RYN.2023156T163128.v2.0/HLS.L30.T15RYN.2023156T163128.v2.0.B09.tif>,\n",
              "  <File-like object HTTPFileSystem, https://data.lpdaac.earthdatacloud.nasa.gov/lp-prod-protected/HLSL30.020/HLS.L30.T15RYN.2023156T163128.v2.0/HLS.L30.T15RYN.2023156T163128.v2.0.B02.tif>,\n",
              "  <File-like object HTTPFileSystem, https://data.lpdaac.earthdatacloud.nasa.gov/lp-prod-protected/HLSL30.020/HLS.L30.T15RYN.2023156T163128.v2.0/HLS.L30.T15RYN.2023156T163128.v2.0.VAA.tif>,\n",
              "  <File-like object HTTPFileSystem, https://data.lpdaac.earthdatacloud.nasa.gov/lp-prod-protected/HLSL30.020/HLS.L30.T15RYN.2023156T163128.v2.0/HLS.L30.T15RYN.2023156T163128.v2.0.Fmask.tif>,\n",
              "  <File-like object HTTPFileSystem, https://data.lpdaac.earthdatacloud.nasa.gov/lp-prod-protected/HLSL30.020/HLS.L30.T15RYN.2023156T163128.v2.0/HLS.L30.T15RYN.2023156T163128.v2.0.B01.tif>,\n",
              "  <File-like object HTTPFileSystem, https://data.lpdaac.earthdatacloud.nasa.gov/lp-prod-protected/HLSL30.020/HLS.L30.T15RYN.2023156T163128.v2.0/HLS.L30.T15RYN.2023156T163128.v2.0.B04.tif>,\n",
              "  <File-like object HTTPFileSystem, https://data.lpdaac.earthdatacloud.nasa.gov/lp-prod-protected/HLSL30.020/HLS.L30.T15RYN.2023156T163128.v2.0/HLS.L30.T15RYN.2023156T163128.v2.0.B11.tif>,\n",
              "  <File-like object HTTPFileSystem, https://data.lpdaac.earthdatacloud.nasa.gov/lp-prod-protected/HLSL30.020/HLS.L30.T15RYN.2023156T163128.v2.0/HLS.L30.T15RYN.2023156T163128.v2.0.VZA.tif>],\n",
              " [<File-like object HTTPFileSystem, https://data.lpdaac.earthdatacloud.nasa.gov/lp-prod-protected/HLSL30.020/HLS.L30.T16RBU.2023164T163126.v2.0/HLS.L30.T16RBU.2023164T163126.v2.0.B06.tif>,\n",
              "  <File-like object HTTPFileSystem, https://data.lpdaac.earthdatacloud.nasa.gov/lp-prod-protected/HLSL30.020/HLS.L30.T16RBU.2023164T163126.v2.0/HLS.L30.T16RBU.2023164T163126.v2.0.B11.tif>,\n",
              "  <File-like object HTTPFileSystem, https://data.lpdaac.earthdatacloud.nasa.gov/lp-prod-protected/HLSL30.020/HLS.L30.T16RBU.2023164T163126.v2.0/HLS.L30.T16RBU.2023164T163126.v2.0.Fmask.tif>,\n",
              "  <File-like object HTTPFileSystem, https://data.lpdaac.earthdatacloud.nasa.gov/lp-prod-protected/HLSL30.020/HLS.L30.T16RBU.2023164T163126.v2.0/HLS.L30.T16RBU.2023164T163126.v2.0.B01.tif>,\n",
              "  <File-like object HTTPFileSystem, https://data.lpdaac.earthdatacloud.nasa.gov/lp-prod-protected/HLSL30.020/HLS.L30.T16RBU.2023164T163126.v2.0/HLS.L30.T16RBU.2023164T163126.v2.0.SZA.tif>,\n",
              "  <File-like object HTTPFileSystem, https://data.lpdaac.earthdatacloud.nasa.gov/lp-prod-protected/HLSL30.020/HLS.L30.T16RBU.2023164T163126.v2.0/HLS.L30.T16RBU.2023164T163126.v2.0.B09.tif>,\n",
              "  <File-like object HTTPFileSystem, https://data.lpdaac.earthdatacloud.nasa.gov/lp-prod-protected/HLSL30.020/HLS.L30.T16RBU.2023164T163126.v2.0/HLS.L30.T16RBU.2023164T163126.v2.0.B10.tif>,\n",
              "  <File-like object HTTPFileSystem, https://data.lpdaac.earthdatacloud.nasa.gov/lp-prod-protected/HLSL30.020/HLS.L30.T16RBU.2023164T163126.v2.0/HLS.L30.T16RBU.2023164T163126.v2.0.B02.tif>,\n",
              "  <File-like object HTTPFileSystem, https://data.lpdaac.earthdatacloud.nasa.gov/lp-prod-protected/HLSL30.020/HLS.L30.T16RBU.2023164T163126.v2.0/HLS.L30.T16RBU.2023164T163126.v2.0.SAA.tif>,\n",
              "  <File-like object HTTPFileSystem, https://data.lpdaac.earthdatacloud.nasa.gov/lp-prod-protected/HLSL30.020/HLS.L30.T16RBU.2023164T163126.v2.0/HLS.L30.T16RBU.2023164T163126.v2.0.B07.tif>,\n",
              "  <File-like object HTTPFileSystem, https://data.lpdaac.earthdatacloud.nasa.gov/lp-prod-protected/HLSL30.020/HLS.L30.T16RBU.2023164T163126.v2.0/HLS.L30.T16RBU.2023164T163126.v2.0.B03.tif>,\n",
              "  <File-like object HTTPFileSystem, https://data.lpdaac.earthdatacloud.nasa.gov/lp-prod-protected/HLSL30.020/HLS.L30.T16RBU.2023164T163126.v2.0/HLS.L30.T16RBU.2023164T163126.v2.0.VAA.tif>,\n",
              "  <File-like object HTTPFileSystem, https://data.lpdaac.earthdatacloud.nasa.gov/lp-prod-protected/HLSL30.020/HLS.L30.T16RBU.2023164T163126.v2.0/HLS.L30.T16RBU.2023164T163126.v2.0.VZA.tif>,\n",
              "  <File-like object HTTPFileSystem, https://data.lpdaac.earthdatacloud.nasa.gov/lp-prod-protected/HLSL30.020/HLS.L30.T16RBU.2023164T163126.v2.0/HLS.L30.T16RBU.2023164T163126.v2.0.B05.tif>,\n",
              "  <File-like object HTTPFileSystem, https://data.lpdaac.earthdatacloud.nasa.gov/lp-prod-protected/HLSL30.020/HLS.L30.T16RBU.2023164T163126.v2.0/HLS.L30.T16RBU.2023164T163126.v2.0.B04.tif>],\n",
              " [<File-like object HTTPFileSystem, https://data.lpdaac.earthdatacloud.nasa.gov/lp-prod-protected/HLSL30.020/HLS.L30.T15RYP.2023164T163126.v2.0/HLS.L30.T15RYP.2023164T163126.v2.0.B09.tif>,\n",
              "  <File-like object HTTPFileSystem, https://data.lpdaac.earthdatacloud.nasa.gov/lp-prod-protected/HLSL30.020/HLS.L30.T15RYP.2023164T163126.v2.0/HLS.L30.T15RYP.2023164T163126.v2.0.B01.tif>,\n",
              "  <File-like object HTTPFileSystem, https://data.lpdaac.earthdatacloud.nasa.gov/lp-prod-protected/HLSL30.020/HLS.L30.T15RYP.2023164T163126.v2.0/HLS.L30.T15RYP.2023164T163126.v2.0.B10.tif>,\n",
              "  <File-like object HTTPFileSystem, https://data.lpdaac.earthdatacloud.nasa.gov/lp-prod-protected/HLSL30.020/HLS.L30.T15RYP.2023164T163126.v2.0/HLS.L30.T15RYP.2023164T163126.v2.0.Fmask.tif>,\n",
              "  <File-like object HTTPFileSystem, https://data.lpdaac.earthdatacloud.nasa.gov/lp-prod-protected/HLSL30.020/HLS.L30.T15RYP.2023164T163126.v2.0/HLS.L30.T15RYP.2023164T163126.v2.0.B04.tif>,\n",
              "  <File-like object HTTPFileSystem, https://data.lpdaac.earthdatacloud.nasa.gov/lp-prod-protected/HLSL30.020/HLS.L30.T15RYP.2023164T163126.v2.0/HLS.L30.T15RYP.2023164T163126.v2.0.B03.tif>,\n",
              "  <File-like object HTTPFileSystem, https://data.lpdaac.earthdatacloud.nasa.gov/lp-prod-protected/HLSL30.020/HLS.L30.T15RYP.2023164T163126.v2.0/HLS.L30.T15RYP.2023164T163126.v2.0.B07.tif>,\n",
              "  <File-like object HTTPFileSystem, https://data.lpdaac.earthdatacloud.nasa.gov/lp-prod-protected/HLSL30.020/HLS.L30.T15RYP.2023164T163126.v2.0/HLS.L30.T15RYP.2023164T163126.v2.0.VZA.tif>,\n",
              "  <File-like object HTTPFileSystem, https://data.lpdaac.earthdatacloud.nasa.gov/lp-prod-protected/HLSL30.020/HLS.L30.T15RYP.2023164T163126.v2.0/HLS.L30.T15RYP.2023164T163126.v2.0.B11.tif>,\n",
              "  <File-like object HTTPFileSystem, https://data.lpdaac.earthdatacloud.nasa.gov/lp-prod-protected/HLSL30.020/HLS.L30.T15RYP.2023164T163126.v2.0/HLS.L30.T15RYP.2023164T163126.v2.0.B02.tif>,\n",
              "  <File-like object HTTPFileSystem, https://data.lpdaac.earthdatacloud.nasa.gov/lp-prod-protected/HLSL30.020/HLS.L30.T15RYP.2023164T163126.v2.0/HLS.L30.T15RYP.2023164T163126.v2.0.VAA.tif>,\n",
              "  <File-like object HTTPFileSystem, https://data.lpdaac.earthdatacloud.nasa.gov/lp-prod-protected/HLSL30.020/HLS.L30.T15RYP.2023164T163126.v2.0/HLS.L30.T15RYP.2023164T163126.v2.0.SAA.tif>,\n",
              "  <File-like object HTTPFileSystem, https://data.lpdaac.earthdatacloud.nasa.gov/lp-prod-protected/HLSL30.020/HLS.L30.T15RYP.2023164T163126.v2.0/HLS.L30.T15RYP.2023164T163126.v2.0.SZA.tif>,\n",
              "  <File-like object HTTPFileSystem, https://data.lpdaac.earthdatacloud.nasa.gov/lp-prod-protected/HLSL30.020/HLS.L30.T15RYP.2023164T163126.v2.0/HLS.L30.T15RYP.2023164T163126.v2.0.B05.tif>,\n",
              "  <File-like object HTTPFileSystem, https://data.lpdaac.earthdatacloud.nasa.gov/lp-prod-protected/HLSL30.020/HLS.L30.T15RYP.2023164T163126.v2.0/HLS.L30.T15RYP.2023164T163126.v2.0.B06.tif>],\n",
              " [<File-like object HTTPFileSystem, https://data.lpdaac.earthdatacloud.nasa.gov/lp-prod-protected/HLSL30.020/HLS.L30.T15RYN.2023164T163126.v2.0/HLS.L30.T15RYN.2023164T163126.v2.0.B02.tif>,\n",
              "  <File-like object HTTPFileSystem, https://data.lpdaac.earthdatacloud.nasa.gov/lp-prod-protected/HLSL30.020/HLS.L30.T15RYN.2023164T163126.v2.0/HLS.L30.T15RYN.2023164T163126.v2.0.B04.tif>,\n",
              "  <File-like object HTTPFileSystem, https://data.lpdaac.earthdatacloud.nasa.gov/lp-prod-protected/HLSL30.020/HLS.L30.T15RYN.2023164T163126.v2.0/HLS.L30.T15RYN.2023164T163126.v2.0.Fmask.tif>,\n",
              "  <File-like object HTTPFileSystem, https://data.lpdaac.earthdatacloud.nasa.gov/lp-prod-protected/HLSL30.020/HLS.L30.T15RYN.2023164T163126.v2.0/HLS.L30.T15RYN.2023164T163126.v2.0.B07.tif>,\n",
              "  <File-like object HTTPFileSystem, https://data.lpdaac.earthdatacloud.nasa.gov/lp-prod-protected/HLSL30.020/HLS.L30.T15RYN.2023164T163126.v2.0/HLS.L30.T15RYN.2023164T163126.v2.0.VAA.tif>,\n",
              "  <File-like object HTTPFileSystem, https://data.lpdaac.earthdatacloud.nasa.gov/lp-prod-protected/HLSL30.020/HLS.L30.T15RYN.2023164T163126.v2.0/HLS.L30.T15RYN.2023164T163126.v2.0.B05.tif>,\n",
              "  <File-like object HTTPFileSystem, https://data.lpdaac.earthdatacloud.nasa.gov/lp-prod-protected/HLSL30.020/HLS.L30.T15RYN.2023164T163126.v2.0/HLS.L30.T15RYN.2023164T163126.v2.0.B03.tif>,\n",
              "  <File-like object HTTPFileSystem, https://data.lpdaac.earthdatacloud.nasa.gov/lp-prod-protected/HLSL30.020/HLS.L30.T15RYN.2023164T163126.v2.0/HLS.L30.T15RYN.2023164T163126.v2.0.B10.tif>,\n",
              "  <File-like object HTTPFileSystem, https://data.lpdaac.earthdatacloud.nasa.gov/lp-prod-protected/HLSL30.020/HLS.L30.T15RYN.2023164T163126.v2.0/HLS.L30.T15RYN.2023164T163126.v2.0.B09.tif>,\n",
              "  <File-like object HTTPFileSystem, https://data.lpdaac.earthdatacloud.nasa.gov/lp-prod-protected/HLSL30.020/HLS.L30.T15RYN.2023164T163126.v2.0/HLS.L30.T15RYN.2023164T163126.v2.0.VZA.tif>,\n",
              "  <File-like object HTTPFileSystem, https://data.lpdaac.earthdatacloud.nasa.gov/lp-prod-protected/HLSL30.020/HLS.L30.T15RYN.2023164T163126.v2.0/HLS.L30.T15RYN.2023164T163126.v2.0.B06.tif>,\n",
              "  <File-like object HTTPFileSystem, https://data.lpdaac.earthdatacloud.nasa.gov/lp-prod-protected/HLSL30.020/HLS.L30.T15RYN.2023164T163126.v2.0/HLS.L30.T15RYN.2023164T163126.v2.0.B01.tif>,\n",
              "  <File-like object HTTPFileSystem, https://data.lpdaac.earthdatacloud.nasa.gov/lp-prod-protected/HLSL30.020/HLS.L30.T15RYN.2023164T163126.v2.0/HLS.L30.T15RYN.2023164T163126.v2.0.SZA.tif>,\n",
              "  <File-like object HTTPFileSystem, https://data.lpdaac.earthdatacloud.nasa.gov/lp-prod-protected/HLSL30.020/HLS.L30.T15RYN.2023164T163126.v2.0/HLS.L30.T15RYN.2023164T163126.v2.0.SAA.tif>,\n",
              "  <File-like object HTTPFileSystem, https://data.lpdaac.earthdatacloud.nasa.gov/lp-prod-protected/HLSL30.020/HLS.L30.T15RYN.2023164T163126.v2.0/HLS.L30.T15RYN.2023164T163126.v2.0.B11.tif>],\n",
              " [<File-like object HTTPFileSystem, https://data.lpdaac.earthdatacloud.nasa.gov/lp-prod-protected/HLSL30.020/HLS.L30.T16RBT.2023164T163126.v2.0/HLS.L30.T16RBT.2023164T163126.v2.0.B09.tif>,\n",
              "  <File-like object HTTPFileSystem, https://data.lpdaac.earthdatacloud.nasa.gov/lp-prod-protected/HLSL30.020/HLS.L30.T16RBT.2023164T163126.v2.0/HLS.L30.T16RBT.2023164T163126.v2.0.SAA.tif>,\n",
              "  <File-like object HTTPFileSystem, https://data.lpdaac.earthdatacloud.nasa.gov/lp-prod-protected/HLSL30.020/HLS.L30.T16RBT.2023164T163126.v2.0/HLS.L30.T16RBT.2023164T163126.v2.0.B11.tif>,\n",
              "  <File-like object HTTPFileSystem, https://data.lpdaac.earthdatacloud.nasa.gov/lp-prod-protected/HLSL30.020/HLS.L30.T16RBT.2023164T163126.v2.0/HLS.L30.T16RBT.2023164T163126.v2.0.B01.tif>,\n",
              "  <File-like object HTTPFileSystem, https://data.lpdaac.earthdatacloud.nasa.gov/lp-prod-protected/HLSL30.020/HLS.L30.T16RBT.2023164T163126.v2.0/HLS.L30.T16RBT.2023164T163126.v2.0.B03.tif>,\n",
              "  <File-like object HTTPFileSystem, https://data.lpdaac.earthdatacloud.nasa.gov/lp-prod-protected/HLSL30.020/HLS.L30.T16RBT.2023164T163126.v2.0/HLS.L30.T16RBT.2023164T163126.v2.0.VZA.tif>,\n",
              "  <File-like object HTTPFileSystem, https://data.lpdaac.earthdatacloud.nasa.gov/lp-prod-protected/HLSL30.020/HLS.L30.T16RBT.2023164T163126.v2.0/HLS.L30.T16RBT.2023164T163126.v2.0.B07.tif>,\n",
              "  <File-like object HTTPFileSystem, https://data.lpdaac.earthdatacloud.nasa.gov/lp-prod-protected/HLSL30.020/HLS.L30.T16RBT.2023164T163126.v2.0/HLS.L30.T16RBT.2023164T163126.v2.0.Fmask.tif>,\n",
              "  <File-like object HTTPFileSystem, https://data.lpdaac.earthdatacloud.nasa.gov/lp-prod-protected/HLSL30.020/HLS.L30.T16RBT.2023164T163126.v2.0/HLS.L30.T16RBT.2023164T163126.v2.0.B10.tif>,\n",
              "  <File-like object HTTPFileSystem, https://data.lpdaac.earthdatacloud.nasa.gov/lp-prod-protected/HLSL30.020/HLS.L30.T16RBT.2023164T163126.v2.0/HLS.L30.T16RBT.2023164T163126.v2.0.B04.tif>,\n",
              "  <File-like object HTTPFileSystem, https://data.lpdaac.earthdatacloud.nasa.gov/lp-prod-protected/HLSL30.020/HLS.L30.T16RBT.2023164T163126.v2.0/HLS.L30.T16RBT.2023164T163126.v2.0.B05.tif>,\n",
              "  <File-like object HTTPFileSystem, https://data.lpdaac.earthdatacloud.nasa.gov/lp-prod-protected/HLSL30.020/HLS.L30.T16RBT.2023164T163126.v2.0/HLS.L30.T16RBT.2023164T163126.v2.0.SZA.tif>,\n",
              "  <File-like object HTTPFileSystem, https://data.lpdaac.earthdatacloud.nasa.gov/lp-prod-protected/HLSL30.020/HLS.L30.T16RBT.2023164T163126.v2.0/HLS.L30.T16RBT.2023164T163126.v2.0.VAA.tif>,\n",
              "  <File-like object HTTPFileSystem, https://data.lpdaac.earthdatacloud.nasa.gov/lp-prod-protected/HLSL30.020/HLS.L30.T16RBT.2023164T163126.v2.0/HLS.L30.T16RBT.2023164T163126.v2.0.B02.tif>,\n",
              "  <File-like object HTTPFileSystem, https://data.lpdaac.earthdatacloud.nasa.gov/lp-prod-protected/HLSL30.020/HLS.L30.T16RBT.2023164T163126.v2.0/HLS.L30.T16RBT.2023164T163126.v2.0.B06.tif>],\n",
              " [<File-like object HTTPFileSystem, https://data.lpdaac.earthdatacloud.nasa.gov/lp-prod-protected/HLSL30.020/HLS.L30.T15RYP.2023172T163134.v2.0/HLS.L30.T15RYP.2023172T163134.v2.0.B02.tif>,\n",
              "  <File-like object HTTPFileSystem, https://data.lpdaac.earthdatacloud.nasa.gov/lp-prod-protected/HLSL30.020/HLS.L30.T15RYP.2023172T163134.v2.0/HLS.L30.T15RYP.2023172T163134.v2.0.B03.tif>,\n",
              "  <File-like object HTTPFileSystem, https://data.lpdaac.earthdatacloud.nasa.gov/lp-prod-protected/HLSL30.020/HLS.L30.T15RYP.2023172T163134.v2.0/HLS.L30.T15RYP.2023172T163134.v2.0.VZA.tif>,\n",
              "  <File-like object HTTPFileSystem, https://data.lpdaac.earthdatacloud.nasa.gov/lp-prod-protected/HLSL30.020/HLS.L30.T15RYP.2023172T163134.v2.0/HLS.L30.T15RYP.2023172T163134.v2.0.B04.tif>,\n",
              "  <File-like object HTTPFileSystem, https://data.lpdaac.earthdatacloud.nasa.gov/lp-prod-protected/HLSL30.020/HLS.L30.T15RYP.2023172T163134.v2.0/HLS.L30.T15RYP.2023172T163134.v2.0.Fmask.tif>,\n",
              "  <File-like object HTTPFileSystem, https://data.lpdaac.earthdatacloud.nasa.gov/lp-prod-protected/HLSL30.020/HLS.L30.T15RYP.2023172T163134.v2.0/HLS.L30.T15RYP.2023172T163134.v2.0.B05.tif>,\n",
              "  <File-like object HTTPFileSystem, https://data.lpdaac.earthdatacloud.nasa.gov/lp-prod-protected/HLSL30.020/HLS.L30.T15RYP.2023172T163134.v2.0/HLS.L30.T15RYP.2023172T163134.v2.0.B06.tif>,\n",
              "  <File-like object HTTPFileSystem, https://data.lpdaac.earthdatacloud.nasa.gov/lp-prod-protected/HLSL30.020/HLS.L30.T15RYP.2023172T163134.v2.0/HLS.L30.T15RYP.2023172T163134.v2.0.B11.tif>,\n",
              "  <File-like object HTTPFileSystem, https://data.lpdaac.earthdatacloud.nasa.gov/lp-prod-protected/HLSL30.020/HLS.L30.T15RYP.2023172T163134.v2.0/HLS.L30.T15RYP.2023172T163134.v2.0.B10.tif>,\n",
              "  <File-like object HTTPFileSystem, https://data.lpdaac.earthdatacloud.nasa.gov/lp-prod-protected/HLSL30.020/HLS.L30.T15RYP.2023172T163134.v2.0/HLS.L30.T15RYP.2023172T163134.v2.0.B01.tif>,\n",
              "  <File-like object HTTPFileSystem, https://data.lpdaac.earthdatacloud.nasa.gov/lp-prod-protected/HLSL30.020/HLS.L30.T15RYP.2023172T163134.v2.0/HLS.L30.T15RYP.2023172T163134.v2.0.VAA.tif>,\n",
              "  <File-like object HTTPFileSystem, https://data.lpdaac.earthdatacloud.nasa.gov/lp-prod-protected/HLSL30.020/HLS.L30.T15RYP.2023172T163134.v2.0/HLS.L30.T15RYP.2023172T163134.v2.0.B07.tif>,\n",
              "  <File-like object HTTPFileSystem, https://data.lpdaac.earthdatacloud.nasa.gov/lp-prod-protected/HLSL30.020/HLS.L30.T15RYP.2023172T163134.v2.0/HLS.L30.T15RYP.2023172T163134.v2.0.SAA.tif>,\n",
              "  <File-like object HTTPFileSystem, https://data.lpdaac.earthdatacloud.nasa.gov/lp-prod-protected/HLSL30.020/HLS.L30.T15RYP.2023172T163134.v2.0/HLS.L30.T15RYP.2023172T163134.v2.0.SZA.tif>,\n",
              "  <File-like object HTTPFileSystem, https://data.lpdaac.earthdatacloud.nasa.gov/lp-prod-protected/HLSL30.020/HLS.L30.T15RYP.2023172T163134.v2.0/HLS.L30.T15RYP.2023172T163134.v2.0.B09.tif>],\n",
              " [<File-like object HTTPFileSystem, https://data.lpdaac.earthdatacloud.nasa.gov/lp-prod-protected/HLSL30.020/HLS.L30.T15RYN.2023172T163134.v2.0/HLS.L30.T15RYN.2023172T163134.v2.0.B10.tif>,\n",
              "  <File-like object HTTPFileSystem, https://data.lpdaac.earthdatacloud.nasa.gov/lp-prod-protected/HLSL30.020/HLS.L30.T15RYN.2023172T163134.v2.0/HLS.L30.T15RYN.2023172T163134.v2.0.B01.tif>,\n",
              "  <File-like object HTTPFileSystem, https://data.lpdaac.earthdatacloud.nasa.gov/lp-prod-protected/HLSL30.020/HLS.L30.T15RYN.2023172T163134.v2.0/HLS.L30.T15RYN.2023172T163134.v2.0.B07.tif>,\n",
              "  <File-like object HTTPFileSystem, https://data.lpdaac.earthdatacloud.nasa.gov/lp-prod-protected/HLSL30.020/HLS.L30.T15RYN.2023172T163134.v2.0/HLS.L30.T15RYN.2023172T163134.v2.0.SZA.tif>,\n",
              "  <File-like object HTTPFileSystem, https://data.lpdaac.earthdatacloud.nasa.gov/lp-prod-protected/HLSL30.020/HLS.L30.T15RYN.2023172T163134.v2.0/HLS.L30.T15RYN.2023172T163134.v2.0.B09.tif>,\n",
              "  <File-like object HTTPFileSystem, https://data.lpdaac.earthdatacloud.nasa.gov/lp-prod-protected/HLSL30.020/HLS.L30.T15RYN.2023172T163134.v2.0/HLS.L30.T15RYN.2023172T163134.v2.0.B06.tif>,\n",
              "  <File-like object HTTPFileSystem, https://data.lpdaac.earthdatacloud.nasa.gov/lp-prod-protected/HLSL30.020/HLS.L30.T15RYN.2023172T163134.v2.0/HLS.L30.T15RYN.2023172T163134.v2.0.B05.tif>,\n",
              "  <File-like object HTTPFileSystem, https://data.lpdaac.earthdatacloud.nasa.gov/lp-prod-protected/HLSL30.020/HLS.L30.T15RYN.2023172T163134.v2.0/HLS.L30.T15RYN.2023172T163134.v2.0.VAA.tif>,\n",
              "  <File-like object HTTPFileSystem, https://data.lpdaac.earthdatacloud.nasa.gov/lp-prod-protected/HLSL30.020/HLS.L30.T15RYN.2023172T163134.v2.0/HLS.L30.T15RYN.2023172T163134.v2.0.VZA.tif>,\n",
              "  <File-like object HTTPFileSystem, https://data.lpdaac.earthdatacloud.nasa.gov/lp-prod-protected/HLSL30.020/HLS.L30.T15RYN.2023172T163134.v2.0/HLS.L30.T15RYN.2023172T163134.v2.0.B04.tif>,\n",
              "  <File-like object HTTPFileSystem, https://data.lpdaac.earthdatacloud.nasa.gov/lp-prod-protected/HLSL30.020/HLS.L30.T15RYN.2023172T163134.v2.0/HLS.L30.T15RYN.2023172T163134.v2.0.SAA.tif>,\n",
              "  <File-like object HTTPFileSystem, https://data.lpdaac.earthdatacloud.nasa.gov/lp-prod-protected/HLSL30.020/HLS.L30.T15RYN.2023172T163134.v2.0/HLS.L30.T15RYN.2023172T163134.v2.0.B03.tif>,\n",
              "  <File-like object HTTPFileSystem, https://data.lpdaac.earthdatacloud.nasa.gov/lp-prod-protected/HLSL30.020/HLS.L30.T15RYN.2023172T163134.v2.0/HLS.L30.T15RYN.2023172T163134.v2.0.B11.tif>,\n",
              "  <File-like object HTTPFileSystem, https://data.lpdaac.earthdatacloud.nasa.gov/lp-prod-protected/HLSL30.020/HLS.L30.T15RYN.2023172T163134.v2.0/HLS.L30.T15RYN.2023172T163134.v2.0.Fmask.tif>,\n",
              "  <File-like object HTTPFileSystem, https://data.lpdaac.earthdatacloud.nasa.gov/lp-prod-protected/HLSL30.020/HLS.L30.T15RYN.2023172T163134.v2.0/HLS.L30.T15RYN.2023172T163134.v2.0.B02.tif>],\n",
              " [<File-like object HTTPFileSystem, https://data.lpdaac.earthdatacloud.nasa.gov/lp-prod-protected/HLSL30.020/HLS.L30.T16RBU.2023172T163134.v2.0/HLS.L30.T16RBU.2023172T163134.v2.0.B11.tif>,\n",
              "  <File-like object HTTPFileSystem, https://data.lpdaac.earthdatacloud.nasa.gov/lp-prod-protected/HLSL30.020/HLS.L30.T16RBU.2023172T163134.v2.0/HLS.L30.T16RBU.2023172T163134.v2.0.B05.tif>,\n",
              "  <File-like object HTTPFileSystem, https://data.lpdaac.earthdatacloud.nasa.gov/lp-prod-protected/HLSL30.020/HLS.L30.T16RBU.2023172T163134.v2.0/HLS.L30.T16RBU.2023172T163134.v2.0.B06.tif>,\n",
              "  <File-like object HTTPFileSystem, https://data.lpdaac.earthdatacloud.nasa.gov/lp-prod-protected/HLSL30.020/HLS.L30.T16RBU.2023172T163134.v2.0/HLS.L30.T16RBU.2023172T163134.v2.0.SAA.tif>,\n",
              "  <File-like object HTTPFileSystem, https://data.lpdaac.earthdatacloud.nasa.gov/lp-prod-protected/HLSL30.020/HLS.L30.T16RBU.2023172T163134.v2.0/HLS.L30.T16RBU.2023172T163134.v2.0.B02.tif>,\n",
              "  <File-like object HTTPFileSystem, https://data.lpdaac.earthdatacloud.nasa.gov/lp-prod-protected/HLSL30.020/HLS.L30.T16RBU.2023172T163134.v2.0/HLS.L30.T16RBU.2023172T163134.v2.0.B09.tif>,\n",
              "  <File-like object HTTPFileSystem, https://data.lpdaac.earthdatacloud.nasa.gov/lp-prod-protected/HLSL30.020/HLS.L30.T16RBU.2023172T163134.v2.0/HLS.L30.T16RBU.2023172T163134.v2.0.B10.tif>,\n",
              "  <File-like object HTTPFileSystem, https://data.lpdaac.earthdatacloud.nasa.gov/lp-prod-protected/HLSL30.020/HLS.L30.T16RBU.2023172T163134.v2.0/HLS.L30.T16RBU.2023172T163134.v2.0.VAA.tif>,\n",
              "  <File-like object HTTPFileSystem, https://data.lpdaac.earthdatacloud.nasa.gov/lp-prod-protected/HLSL30.020/HLS.L30.T16RBU.2023172T163134.v2.0/HLS.L30.T16RBU.2023172T163134.v2.0.B04.tif>,\n",
              "  <File-like object HTTPFileSystem, https://data.lpdaac.earthdatacloud.nasa.gov/lp-prod-protected/HLSL30.020/HLS.L30.T16RBU.2023172T163134.v2.0/HLS.L30.T16RBU.2023172T163134.v2.0.SZA.tif>,\n",
              "  <File-like object HTTPFileSystem, https://data.lpdaac.earthdatacloud.nasa.gov/lp-prod-protected/HLSL30.020/HLS.L30.T16RBU.2023172T163134.v2.0/HLS.L30.T16RBU.2023172T163134.v2.0.Fmask.tif>,\n",
              "  <File-like object HTTPFileSystem, https://data.lpdaac.earthdatacloud.nasa.gov/lp-prod-protected/HLSL30.020/HLS.L30.T16RBU.2023172T163134.v2.0/HLS.L30.T16RBU.2023172T163134.v2.0.B07.tif>,\n",
              "  <File-like object HTTPFileSystem, https://data.lpdaac.earthdatacloud.nasa.gov/lp-prod-protected/HLSL30.020/HLS.L30.T16RBU.2023172T163134.v2.0/HLS.L30.T16RBU.2023172T163134.v2.0.B03.tif>,\n",
              "  <File-like object HTTPFileSystem, https://data.lpdaac.earthdatacloud.nasa.gov/lp-prod-protected/HLSL30.020/HLS.L30.T16RBU.2023172T163134.v2.0/HLS.L30.T16RBU.2023172T163134.v2.0.B01.tif>,\n",
              "  <File-like object HTTPFileSystem, https://data.lpdaac.earthdatacloud.nasa.gov/lp-prod-protected/HLSL30.020/HLS.L30.T16RBU.2023172T163134.v2.0/HLS.L30.T16RBU.2023172T163134.v2.0.VZA.tif>],\n",
              " [<File-like object HTTPFileSystem, https://data.lpdaac.earthdatacloud.nasa.gov/lp-prod-protected/HLSL30.020/HLS.L30.T16RBT.2023172T163134.v2.0/HLS.L30.T16RBT.2023172T163134.v2.0.B04.tif>,\n",
              "  <File-like object HTTPFileSystem, https://data.lpdaac.earthdatacloud.nasa.gov/lp-prod-protected/HLSL30.020/HLS.L30.T16RBT.2023172T163134.v2.0/HLS.L30.T16RBT.2023172T163134.v2.0.B07.tif>,\n",
              "  <File-like object HTTPFileSystem, https://data.lpdaac.earthdatacloud.nasa.gov/lp-prod-protected/HLSL30.020/HLS.L30.T16RBT.2023172T163134.v2.0/HLS.L30.T16RBT.2023172T163134.v2.0.VAA.tif>,\n",
              "  <File-like object HTTPFileSystem, https://data.lpdaac.earthdatacloud.nasa.gov/lp-prod-protected/HLSL30.020/HLS.L30.T16RBT.2023172T163134.v2.0/HLS.L30.T16RBT.2023172T163134.v2.0.B11.tif>,\n",
              "  <File-like object HTTPFileSystem, https://data.lpdaac.earthdatacloud.nasa.gov/lp-prod-protected/HLSL30.020/HLS.L30.T16RBT.2023172T163134.v2.0/HLS.L30.T16RBT.2023172T163134.v2.0.B01.tif>,\n",
              "  <File-like object HTTPFileSystem, https://data.lpdaac.earthdatacloud.nasa.gov/lp-prod-protected/HLSL30.020/HLS.L30.T16RBT.2023172T163134.v2.0/HLS.L30.T16RBT.2023172T163134.v2.0.B06.tif>,\n",
              "  <File-like object HTTPFileSystem, https://data.lpdaac.earthdatacloud.nasa.gov/lp-prod-protected/HLSL30.020/HLS.L30.T16RBT.2023172T163134.v2.0/HLS.L30.T16RBT.2023172T163134.v2.0.B03.tif>,\n",
              "  <File-like object HTTPFileSystem, https://data.lpdaac.earthdatacloud.nasa.gov/lp-prod-protected/HLSL30.020/HLS.L30.T16RBT.2023172T163134.v2.0/HLS.L30.T16RBT.2023172T163134.v2.0.SZA.tif>,\n",
              "  <File-like object HTTPFileSystem, https://data.lpdaac.earthdatacloud.nasa.gov/lp-prod-protected/HLSL30.020/HLS.L30.T16RBT.2023172T163134.v2.0/HLS.L30.T16RBT.2023172T163134.v2.0.B02.tif>,\n",
              "  <File-like object HTTPFileSystem, https://data.lpdaac.earthdatacloud.nasa.gov/lp-prod-protected/HLSL30.020/HLS.L30.T16RBT.2023172T163134.v2.0/HLS.L30.T16RBT.2023172T163134.v2.0.Fmask.tif>,\n",
              "  <File-like object HTTPFileSystem, https://data.lpdaac.earthdatacloud.nasa.gov/lp-prod-protected/HLSL30.020/HLS.L30.T16RBT.2023172T163134.v2.0/HLS.L30.T16RBT.2023172T163134.v2.0.B05.tif>,\n",
              "  <File-like object HTTPFileSystem, https://data.lpdaac.earthdatacloud.nasa.gov/lp-prod-protected/HLSL30.020/HLS.L30.T16RBT.2023172T163134.v2.0/HLS.L30.T16RBT.2023172T163134.v2.0.SAA.tif>,\n",
              "  <File-like object HTTPFileSystem, https://data.lpdaac.earthdatacloud.nasa.gov/lp-prod-protected/HLSL30.020/HLS.L30.T16RBT.2023172T163134.v2.0/HLS.L30.T16RBT.2023172T163134.v2.0.B09.tif>,\n",
              "  <File-like object HTTPFileSystem, https://data.lpdaac.earthdatacloud.nasa.gov/lp-prod-protected/HLSL30.020/HLS.L30.T16RBT.2023172T163134.v2.0/HLS.L30.T16RBT.2023172T163134.v2.0.VZA.tif>,\n",
              "  <File-like object HTTPFileSystem, https://data.lpdaac.earthdatacloud.nasa.gov/lp-prod-protected/HLSL30.020/HLS.L30.T16RBT.2023172T163134.v2.0/HLS.L30.T16RBT.2023172T163134.v2.0.B10.tif>],\n",
              " [<File-like object HTTPFileSystem, https://data.lpdaac.earthdatacloud.nasa.gov/lp-prod-protected/HLSL30.020/HLS.L30.T16RBU.2023180T163132.v2.0/HLS.L30.T16RBU.2023180T163132.v2.0.B10.tif>,\n",
              "  <File-like object HTTPFileSystem, https://data.lpdaac.earthdatacloud.nasa.gov/lp-prod-protected/HLSL30.020/HLS.L30.T16RBU.2023180T163132.v2.0/HLS.L30.T16RBU.2023180T163132.v2.0.SZA.tif>,\n",
              "  <File-like object HTTPFileSystem, https://data.lpdaac.earthdatacloud.nasa.gov/lp-prod-protected/HLSL30.020/HLS.L30.T16RBU.2023180T163132.v2.0/HLS.L30.T16RBU.2023180T163132.v2.0.B09.tif>,\n",
              "  <File-like object HTTPFileSystem, https://data.lpdaac.earthdatacloud.nasa.gov/lp-prod-protected/HLSL30.020/HLS.L30.T16RBU.2023180T163132.v2.0/HLS.L30.T16RBU.2023180T163132.v2.0.Fmask.tif>,\n",
              "  <File-like object HTTPFileSystem, https://data.lpdaac.earthdatacloud.nasa.gov/lp-prod-protected/HLSL30.020/HLS.L30.T16RBU.2023180T163132.v2.0/HLS.L30.T16RBU.2023180T163132.v2.0.B03.tif>,\n",
              "  <File-like object HTTPFileSystem, https://data.lpdaac.earthdatacloud.nasa.gov/lp-prod-protected/HLSL30.020/HLS.L30.T16RBU.2023180T163132.v2.0/HLS.L30.T16RBU.2023180T163132.v2.0.B06.tif>,\n",
              "  <File-like object HTTPFileSystem, https://data.lpdaac.earthdatacloud.nasa.gov/lp-prod-protected/HLSL30.020/HLS.L30.T16RBU.2023180T163132.v2.0/HLS.L30.T16RBU.2023180T163132.v2.0.B11.tif>,\n",
              "  <File-like object HTTPFileSystem, https://data.lpdaac.earthdatacloud.nasa.gov/lp-prod-protected/HLSL30.020/HLS.L30.T16RBU.2023180T163132.v2.0/HLS.L30.T16RBU.2023180T163132.v2.0.SAA.tif>,\n",
              "  <File-like object HTTPFileSystem, https://data.lpdaac.earthdatacloud.nasa.gov/lp-prod-protected/HLSL30.020/HLS.L30.T16RBU.2023180T163132.v2.0/HLS.L30.T16RBU.2023180T163132.v2.0.B05.tif>,\n",
              "  <File-like object HTTPFileSystem, https://data.lpdaac.earthdatacloud.nasa.gov/lp-prod-protected/HLSL30.020/HLS.L30.T16RBU.2023180T163132.v2.0/HLS.L30.T16RBU.2023180T163132.v2.0.VZA.tif>,\n",
              "  <File-like object HTTPFileSystem, https://data.lpdaac.earthdatacloud.nasa.gov/lp-prod-protected/HLSL30.020/HLS.L30.T16RBU.2023180T163132.v2.0/HLS.L30.T16RBU.2023180T163132.v2.0.B07.tif>,\n",
              "  <File-like object HTTPFileSystem, https://data.lpdaac.earthdatacloud.nasa.gov/lp-prod-protected/HLSL30.020/HLS.L30.T16RBU.2023180T163132.v2.0/HLS.L30.T16RBU.2023180T163132.v2.0.B01.tif>,\n",
              "  <File-like object HTTPFileSystem, https://data.lpdaac.earthdatacloud.nasa.gov/lp-prod-protected/HLSL30.020/HLS.L30.T16RBU.2023180T163132.v2.0/HLS.L30.T16RBU.2023180T163132.v2.0.VAA.tif>,\n",
              "  <File-like object HTTPFileSystem, https://data.lpdaac.earthdatacloud.nasa.gov/lp-prod-protected/HLSL30.020/HLS.L30.T16RBU.2023180T163132.v2.0/HLS.L30.T16RBU.2023180T163132.v2.0.B02.tif>,\n",
              "  <File-like object HTTPFileSystem, https://data.lpdaac.earthdatacloud.nasa.gov/lp-prod-protected/HLSL30.020/HLS.L30.T16RBU.2023180T163132.v2.0/HLS.L30.T16RBU.2023180T163132.v2.0.B04.tif>],\n",
              " [<File-like object HTTPFileSystem, https://data.lpdaac.earthdatacloud.nasa.gov/lp-prod-protected/HLSL30.020/HLS.L30.T15RYP.2023180T163132.v2.0/HLS.L30.T15RYP.2023180T163132.v2.0.B04.tif>,\n",
              "  <File-like object HTTPFileSystem, https://data.lpdaac.earthdatacloud.nasa.gov/lp-prod-protected/HLSL30.020/HLS.L30.T15RYP.2023180T163132.v2.0/HLS.L30.T15RYP.2023180T163132.v2.0.B02.tif>,\n",
              "  <File-like object HTTPFileSystem, https://data.lpdaac.earthdatacloud.nasa.gov/lp-prod-protected/HLSL30.020/HLS.L30.T15RYP.2023180T163132.v2.0/HLS.L30.T15RYP.2023180T163132.v2.0.B07.tif>,\n",
              "  <File-like object HTTPFileSystem, https://data.lpdaac.earthdatacloud.nasa.gov/lp-prod-protected/HLSL30.020/HLS.L30.T15RYP.2023180T163132.v2.0/HLS.L30.T15RYP.2023180T163132.v2.0.B09.tif>,\n",
              "  <File-like object HTTPFileSystem, https://data.lpdaac.earthdatacloud.nasa.gov/lp-prod-protected/HLSL30.020/HLS.L30.T15RYP.2023180T163132.v2.0/HLS.L30.T15RYP.2023180T163132.v2.0.SZA.tif>,\n",
              "  <File-like object HTTPFileSystem, https://data.lpdaac.earthdatacloud.nasa.gov/lp-prod-protected/HLSL30.020/HLS.L30.T15RYP.2023180T163132.v2.0/HLS.L30.T15RYP.2023180T163132.v2.0.Fmask.tif>,\n",
              "  <File-like object HTTPFileSystem, https://data.lpdaac.earthdatacloud.nasa.gov/lp-prod-protected/HLSL30.020/HLS.L30.T15RYP.2023180T163132.v2.0/HLS.L30.T15RYP.2023180T163132.v2.0.VZA.tif>,\n",
              "  <File-like object HTTPFileSystem, https://data.lpdaac.earthdatacloud.nasa.gov/lp-prod-protected/HLSL30.020/HLS.L30.T15RYP.2023180T163132.v2.0/HLS.L30.T15RYP.2023180T163132.v2.0.B06.tif>,\n",
              "  <File-like object HTTPFileSystem, https://data.lpdaac.earthdatacloud.nasa.gov/lp-prod-protected/HLSL30.020/HLS.L30.T15RYP.2023180T163132.v2.0/HLS.L30.T15RYP.2023180T163132.v2.0.SAA.tif>,\n",
              "  <File-like object HTTPFileSystem, https://data.lpdaac.earthdatacloud.nasa.gov/lp-prod-protected/HLSL30.020/HLS.L30.T15RYP.2023180T163132.v2.0/HLS.L30.T15RYP.2023180T163132.v2.0.B11.tif>,\n",
              "  <File-like object HTTPFileSystem, https://data.lpdaac.earthdatacloud.nasa.gov/lp-prod-protected/HLSL30.020/HLS.L30.T15RYP.2023180T163132.v2.0/HLS.L30.T15RYP.2023180T163132.v2.0.B03.tif>,\n",
              "  <File-like object HTTPFileSystem, https://data.lpdaac.earthdatacloud.nasa.gov/lp-prod-protected/HLSL30.020/HLS.L30.T15RYP.2023180T163132.v2.0/HLS.L30.T15RYP.2023180T163132.v2.0.VAA.tif>,\n",
              "  <File-like object HTTPFileSystem, https://data.lpdaac.earthdatacloud.nasa.gov/lp-prod-protected/HLSL30.020/HLS.L30.T15RYP.2023180T163132.v2.0/HLS.L30.T15RYP.2023180T163132.v2.0.B05.tif>,\n",
              "  <File-like object HTTPFileSystem, https://data.lpdaac.earthdatacloud.nasa.gov/lp-prod-protected/HLSL30.020/HLS.L30.T15RYP.2023180T163132.v2.0/HLS.L30.T15RYP.2023180T163132.v2.0.B10.tif>,\n",
              "  <File-like object HTTPFileSystem, https://data.lpdaac.earthdatacloud.nasa.gov/lp-prod-protected/HLSL30.020/HLS.L30.T15RYP.2023180T163132.v2.0/HLS.L30.T15RYP.2023180T163132.v2.0.B01.tif>],\n",
              " [<File-like object HTTPFileSystem, https://data.lpdaac.earthdatacloud.nasa.gov/lp-prod-protected/HLSL30.020/HLS.L30.T16RBT.2023180T163132.v2.0/HLS.L30.T16RBT.2023180T163132.v2.0.SZA.tif>,\n",
              "  <File-like object HTTPFileSystem, https://data.lpdaac.earthdatacloud.nasa.gov/lp-prod-protected/HLSL30.020/HLS.L30.T16RBT.2023180T163132.v2.0/HLS.L30.T16RBT.2023180T163132.v2.0.B01.tif>,\n",
              "  <File-like object HTTPFileSystem, https://data.lpdaac.earthdatacloud.nasa.gov/lp-prod-protected/HLSL30.020/HLS.L30.T16RBT.2023180T163132.v2.0/HLS.L30.T16RBT.2023180T163132.v2.0.Fmask.tif>,\n",
              "  <File-like object HTTPFileSystem, https://data.lpdaac.earthdatacloud.nasa.gov/lp-prod-protected/HLSL30.020/HLS.L30.T16RBT.2023180T163132.v2.0/HLS.L30.T16RBT.2023180T163132.v2.0.B05.tif>,\n",
              "  <File-like object HTTPFileSystem, https://data.lpdaac.earthdatacloud.nasa.gov/lp-prod-protected/HLSL30.020/HLS.L30.T16RBT.2023180T163132.v2.0/HLS.L30.T16RBT.2023180T163132.v2.0.VAA.tif>,\n",
              "  <File-like object HTTPFileSystem, https://data.lpdaac.earthdatacloud.nasa.gov/lp-prod-protected/HLSL30.020/HLS.L30.T16RBT.2023180T163132.v2.0/HLS.L30.T16RBT.2023180T163132.v2.0.B06.tif>,\n",
              "  <File-like object HTTPFileSystem, https://data.lpdaac.earthdatacloud.nasa.gov/lp-prod-protected/HLSL30.020/HLS.L30.T16RBT.2023180T163132.v2.0/HLS.L30.T16RBT.2023180T163132.v2.0.SAA.tif>,\n",
              "  <File-like object HTTPFileSystem, https://data.lpdaac.earthdatacloud.nasa.gov/lp-prod-protected/HLSL30.020/HLS.L30.T16RBT.2023180T163132.v2.0/HLS.L30.T16RBT.2023180T163132.v2.0.B11.tif>,\n",
              "  <File-like object HTTPFileSystem, https://data.lpdaac.earthdatacloud.nasa.gov/lp-prod-protected/HLSL30.020/HLS.L30.T16RBT.2023180T163132.v2.0/HLS.L30.T16RBT.2023180T163132.v2.0.B02.tif>,\n",
              "  <File-like object HTTPFileSystem, https://data.lpdaac.earthdatacloud.nasa.gov/lp-prod-protected/HLSL30.020/HLS.L30.T16RBT.2023180T163132.v2.0/HLS.L30.T16RBT.2023180T163132.v2.0.B03.tif>,\n",
              "  <File-like object HTTPFileSystem, https://data.lpdaac.earthdatacloud.nasa.gov/lp-prod-protected/HLSL30.020/HLS.L30.T16RBT.2023180T163132.v2.0/HLS.L30.T16RBT.2023180T163132.v2.0.B10.tif>,\n",
              "  <File-like object HTTPFileSystem, https://data.lpdaac.earthdatacloud.nasa.gov/lp-prod-protected/HLSL30.020/HLS.L30.T16RBT.2023180T163132.v2.0/HLS.L30.T16RBT.2023180T163132.v2.0.VZA.tif>,\n",
              "  <File-like object HTTPFileSystem, https://data.lpdaac.earthdatacloud.nasa.gov/lp-prod-protected/HLSL30.020/HLS.L30.T16RBT.2023180T163132.v2.0/HLS.L30.T16RBT.2023180T163132.v2.0.B04.tif>,\n",
              "  <File-like object HTTPFileSystem, https://data.lpdaac.earthdatacloud.nasa.gov/lp-prod-protected/HLSL30.020/HLS.L30.T16RBT.2023180T163132.v2.0/HLS.L30.T16RBT.2023180T163132.v2.0.B07.tif>,\n",
              "  <File-like object HTTPFileSystem, https://data.lpdaac.earthdatacloud.nasa.gov/lp-prod-protected/HLSL30.020/HLS.L30.T16RBT.2023180T163132.v2.0/HLS.L30.T16RBT.2023180T163132.v2.0.B09.tif>],\n",
              " [<File-like object HTTPFileSystem, https://data.lpdaac.earthdatacloud.nasa.gov/lp-prod-protected/HLSL30.020/HLS.L30.T15RYN.2023180T163132.v2.0/HLS.L30.T15RYN.2023180T163132.v2.0.B09.tif>,\n",
              "  <File-like object HTTPFileSystem, https://data.lpdaac.earthdatacloud.nasa.gov/lp-prod-protected/HLSL30.020/HLS.L30.T15RYN.2023180T163132.v2.0/HLS.L30.T15RYN.2023180T163132.v2.0.B05.tif>,\n",
              "  <File-like object HTTPFileSystem, https://data.lpdaac.earthdatacloud.nasa.gov/lp-prod-protected/HLSL30.020/HLS.L30.T15RYN.2023180T163132.v2.0/HLS.L30.T15RYN.2023180T163132.v2.0.B03.tif>,\n",
              "  <File-like object HTTPFileSystem, https://data.lpdaac.earthdatacloud.nasa.gov/lp-prod-protected/HLSL30.020/HLS.L30.T15RYN.2023180T163132.v2.0/HLS.L30.T15RYN.2023180T163132.v2.0.B07.tif>,\n",
              "  <File-like object HTTPFileSystem, https://data.lpdaac.earthdatacloud.nasa.gov/lp-prod-protected/HLSL30.020/HLS.L30.T15RYN.2023180T163132.v2.0/HLS.L30.T15RYN.2023180T163132.v2.0.B11.tif>,\n",
              "  <File-like object HTTPFileSystem, https://data.lpdaac.earthdatacloud.nasa.gov/lp-prod-protected/HLSL30.020/HLS.L30.T15RYN.2023180T163132.v2.0/HLS.L30.T15RYN.2023180T163132.v2.0.B02.tif>,\n",
              "  <File-like object HTTPFileSystem, https://data.lpdaac.earthdatacloud.nasa.gov/lp-prod-protected/HLSL30.020/HLS.L30.T15RYN.2023180T163132.v2.0/HLS.L30.T15RYN.2023180T163132.v2.0.SAA.tif>,\n",
              "  <File-like object HTTPFileSystem, https://data.lpdaac.earthdatacloud.nasa.gov/lp-prod-protected/HLSL30.020/HLS.L30.T15RYN.2023180T163132.v2.0/HLS.L30.T15RYN.2023180T163132.v2.0.SZA.tif>,\n",
              "  <File-like object HTTPFileSystem, https://data.lpdaac.earthdatacloud.nasa.gov/lp-prod-protected/HLSL30.020/HLS.L30.T15RYN.2023180T163132.v2.0/HLS.L30.T15RYN.2023180T163132.v2.0.B04.tif>,\n",
              "  <File-like object HTTPFileSystem, https://data.lpdaac.earthdatacloud.nasa.gov/lp-prod-protected/HLSL30.020/HLS.L30.T15RYN.2023180T163132.v2.0/HLS.L30.T15RYN.2023180T163132.v2.0.VZA.tif>,\n",
              "  <File-like object HTTPFileSystem, https://data.lpdaac.earthdatacloud.nasa.gov/lp-prod-protected/HLSL30.020/HLS.L30.T15RYN.2023180T163132.v2.0/HLS.L30.T15RYN.2023180T163132.v2.0.Fmask.tif>,\n",
              "  <File-like object HTTPFileSystem, https://data.lpdaac.earthdatacloud.nasa.gov/lp-prod-protected/HLSL30.020/HLS.L30.T15RYN.2023180T163132.v2.0/HLS.L30.T15RYN.2023180T163132.v2.0.B10.tif>,\n",
              "  <File-like object HTTPFileSystem, https://data.lpdaac.earthdatacloud.nasa.gov/lp-prod-protected/HLSL30.020/HLS.L30.T15RYN.2023180T163132.v2.0/HLS.L30.T15RYN.2023180T163132.v2.0.B01.tif>,\n",
              "  <File-like object HTTPFileSystem, https://data.lpdaac.earthdatacloud.nasa.gov/lp-prod-protected/HLSL30.020/HLS.L30.T15RYN.2023180T163132.v2.0/HLS.L30.T15RYN.2023180T163132.v2.0.VAA.tif>,\n",
              "  <File-like object HTTPFileSystem, https://data.lpdaac.earthdatacloud.nasa.gov/lp-prod-protected/HLSL30.020/HLS.L30.T15RYN.2023180T163132.v2.0/HLS.L30.T15RYN.2023180T163132.v2.0.B06.tif>],\n",
              " [<File-like object HTTPFileSystem, https://data.lpdaac.earthdatacloud.nasa.gov/lp-prod-protected/HLSL30.020/HLS.L30.T16RBU.2023188T163146.v2.0/HLS.L30.T16RBU.2023188T163146.v2.0.B03.tif>,\n",
              "  <File-like object HTTPFileSystem, https://data.lpdaac.earthdatacloud.nasa.gov/lp-prod-protected/HLSL30.020/HLS.L30.T16RBU.2023188T163146.v2.0/HLS.L30.T16RBU.2023188T163146.v2.0.B04.tif>,\n",
              "  <File-like object HTTPFileSystem, https://data.lpdaac.earthdatacloud.nasa.gov/lp-prod-protected/HLSL30.020/HLS.L30.T16RBU.2023188T163146.v2.0/HLS.L30.T16RBU.2023188T163146.v2.0.B11.tif>,\n",
              "  <File-like object HTTPFileSystem, https://data.lpdaac.earthdatacloud.nasa.gov/lp-prod-protected/HLSL30.020/HLS.L30.T16RBU.2023188T163146.v2.0/HLS.L30.T16RBU.2023188T163146.v2.0.VAA.tif>,\n",
              "  <File-like object HTTPFileSystem, https://data.lpdaac.earthdatacloud.nasa.gov/lp-prod-protected/HLSL30.020/HLS.L30.T16RBU.2023188T163146.v2.0/HLS.L30.T16RBU.2023188T163146.v2.0.SAA.tif>,\n",
              "  <File-like object HTTPFileSystem, https://data.lpdaac.earthdatacloud.nasa.gov/lp-prod-protected/HLSL30.020/HLS.L30.T16RBU.2023188T163146.v2.0/HLS.L30.T16RBU.2023188T163146.v2.0.B07.tif>,\n",
              "  <File-like object HTTPFileSystem, https://data.lpdaac.earthdatacloud.nasa.gov/lp-prod-protected/HLSL30.020/HLS.L30.T16RBU.2023188T163146.v2.0/HLS.L30.T16RBU.2023188T163146.v2.0.B09.tif>,\n",
              "  <File-like object HTTPFileSystem, https://data.lpdaac.earthdatacloud.nasa.gov/lp-prod-protected/HLSL30.020/HLS.L30.T16RBU.2023188T163146.v2.0/HLS.L30.T16RBU.2023188T163146.v2.0.VZA.tif>,\n",
              "  <File-like object HTTPFileSystem, https://data.lpdaac.earthdatacloud.nasa.gov/lp-prod-protected/HLSL30.020/HLS.L30.T16RBU.2023188T163146.v2.0/HLS.L30.T16RBU.2023188T163146.v2.0.SZA.tif>,\n",
              "  <File-like object HTTPFileSystem, https://data.lpdaac.earthdatacloud.nasa.gov/lp-prod-protected/HLSL30.020/HLS.L30.T16RBU.2023188T163146.v2.0/HLS.L30.T16RBU.2023188T163146.v2.0.B01.tif>,\n",
              "  <File-like object HTTPFileSystem, https://data.lpdaac.earthdatacloud.nasa.gov/lp-prod-protected/HLSL30.020/HLS.L30.T16RBU.2023188T163146.v2.0/HLS.L30.T16RBU.2023188T163146.v2.0.B10.tif>,\n",
              "  <File-like object HTTPFileSystem, https://data.lpdaac.earthdatacloud.nasa.gov/lp-prod-protected/HLSL30.020/HLS.L30.T16RBU.2023188T163146.v2.0/HLS.L30.T16RBU.2023188T163146.v2.0.Fmask.tif>,\n",
              "  <File-like object HTTPFileSystem, https://data.lpdaac.earthdatacloud.nasa.gov/lp-prod-protected/HLSL30.020/HLS.L30.T16RBU.2023188T163146.v2.0/HLS.L30.T16RBU.2023188T163146.v2.0.B06.tif>,\n",
              "  <File-like object HTTPFileSystem, https://data.lpdaac.earthdatacloud.nasa.gov/lp-prod-protected/HLSL30.020/HLS.L30.T16RBU.2023188T163146.v2.0/HLS.L30.T16RBU.2023188T163146.v2.0.B05.tif>,\n",
              "  <File-like object HTTPFileSystem, https://data.lpdaac.earthdatacloud.nasa.gov/lp-prod-protected/HLSL30.020/HLS.L30.T16RBU.2023188T163146.v2.0/HLS.L30.T16RBU.2023188T163146.v2.0.B02.tif>],\n",
              " [<File-like object HTTPFileSystem, https://data.lpdaac.earthdatacloud.nasa.gov/lp-prod-protected/HLSL30.020/HLS.L30.T15RYP.2023188T163146.v2.0/HLS.L30.T15RYP.2023188T163146.v2.0.B04.tif>,\n",
              "  <File-like object HTTPFileSystem, https://data.lpdaac.earthdatacloud.nasa.gov/lp-prod-protected/HLSL30.020/HLS.L30.T15RYP.2023188T163146.v2.0/HLS.L30.T15RYP.2023188T163146.v2.0.B01.tif>,\n",
              "  <File-like object HTTPFileSystem, https://data.lpdaac.earthdatacloud.nasa.gov/lp-prod-protected/HLSL30.020/HLS.L30.T15RYP.2023188T163146.v2.0/HLS.L30.T15RYP.2023188T163146.v2.0.B03.tif>,\n",
              "  <File-like object HTTPFileSystem, https://data.lpdaac.earthdatacloud.nasa.gov/lp-prod-protected/HLSL30.020/HLS.L30.T15RYP.2023188T163146.v2.0/HLS.L30.T15RYP.2023188T163146.v2.0.B06.tif>,\n",
              "  <File-like object HTTPFileSystem, https://data.lpdaac.earthdatacloud.nasa.gov/lp-prod-protected/HLSL30.020/HLS.L30.T15RYP.2023188T163146.v2.0/HLS.L30.T15RYP.2023188T163146.v2.0.B05.tif>,\n",
              "  <File-like object HTTPFileSystem, https://data.lpdaac.earthdatacloud.nasa.gov/lp-prod-protected/HLSL30.020/HLS.L30.T15RYP.2023188T163146.v2.0/HLS.L30.T15RYP.2023188T163146.v2.0.B11.tif>,\n",
              "  <File-like object HTTPFileSystem, https://data.lpdaac.earthdatacloud.nasa.gov/lp-prod-protected/HLSL30.020/HLS.L30.T15RYP.2023188T163146.v2.0/HLS.L30.T15RYP.2023188T163146.v2.0.B10.tif>,\n",
              "  <File-like object HTTPFileSystem, https://data.lpdaac.earthdatacloud.nasa.gov/lp-prod-protected/HLSL30.020/HLS.L30.T15RYP.2023188T163146.v2.0/HLS.L30.T15RYP.2023188T163146.v2.0.Fmask.tif>,\n",
              "  <File-like object HTTPFileSystem, https://data.lpdaac.earthdatacloud.nasa.gov/lp-prod-protected/HLSL30.020/HLS.L30.T15RYP.2023188T163146.v2.0/HLS.L30.T15RYP.2023188T163146.v2.0.SZA.tif>,\n",
              "  <File-like object HTTPFileSystem, https://data.lpdaac.earthdatacloud.nasa.gov/lp-prod-protected/HLSL30.020/HLS.L30.T15RYP.2023188T163146.v2.0/HLS.L30.T15RYP.2023188T163146.v2.0.B02.tif>,\n",
              "  <File-like object HTTPFileSystem, https://data.lpdaac.earthdatacloud.nasa.gov/lp-prod-protected/HLSL30.020/HLS.L30.T15RYP.2023188T163146.v2.0/HLS.L30.T15RYP.2023188T163146.v2.0.SAA.tif>,\n",
              "  <File-like object HTTPFileSystem, https://data.lpdaac.earthdatacloud.nasa.gov/lp-prod-protected/HLSL30.020/HLS.L30.T15RYP.2023188T163146.v2.0/HLS.L30.T15RYP.2023188T163146.v2.0.B07.tif>,\n",
              "  <File-like object HTTPFileSystem, https://data.lpdaac.earthdatacloud.nasa.gov/lp-prod-protected/HLSL30.020/HLS.L30.T15RYP.2023188T163146.v2.0/HLS.L30.T15RYP.2023188T163146.v2.0.VZA.tif>,\n",
              "  <File-like object HTTPFileSystem, https://data.lpdaac.earthdatacloud.nasa.gov/lp-prod-protected/HLSL30.020/HLS.L30.T15RYP.2023188T163146.v2.0/HLS.L30.T15RYP.2023188T163146.v2.0.VAA.tif>,\n",
              "  <File-like object HTTPFileSystem, https://data.lpdaac.earthdatacloud.nasa.gov/lp-prod-protected/HLSL30.020/HLS.L30.T15RYP.2023188T163146.v2.0/HLS.L30.T15RYP.2023188T163146.v2.0.B09.tif>],\n",
              " [<File-like object HTTPFileSystem, https://data.lpdaac.earthdatacloud.nasa.gov/lp-prod-protected/HLSL30.020/HLS.L30.T16RBT.2023188T163146.v2.0/HLS.L30.T16RBT.2023188T163146.v2.0.B11.tif>,\n",
              "  <File-like object HTTPFileSystem, https://data.lpdaac.earthdatacloud.nasa.gov/lp-prod-protected/HLSL30.020/HLS.L30.T16RBT.2023188T163146.v2.0/HLS.L30.T16RBT.2023188T163146.v2.0.VZA.tif>,\n",
              "  <File-like object HTTPFileSystem, https://data.lpdaac.earthdatacloud.nasa.gov/lp-prod-protected/HLSL30.020/HLS.L30.T16RBT.2023188T163146.v2.0/HLS.L30.T16RBT.2023188T163146.v2.0.B06.tif>,\n",
              "  <File-like object HTTPFileSystem, https://data.lpdaac.earthdatacloud.nasa.gov/lp-prod-protected/HLSL30.020/HLS.L30.T16RBT.2023188T163146.v2.0/HLS.L30.T16RBT.2023188T163146.v2.0.B09.tif>,\n",
              "  <File-like object HTTPFileSystem, https://data.lpdaac.earthdatacloud.nasa.gov/lp-prod-protected/HLSL30.020/HLS.L30.T16RBT.2023188T163146.v2.0/HLS.L30.T16RBT.2023188T163146.v2.0.SZA.tif>,\n",
              "  <File-like object HTTPFileSystem, https://data.lpdaac.earthdatacloud.nasa.gov/lp-prod-protected/HLSL30.020/HLS.L30.T16RBT.2023188T163146.v2.0/HLS.L30.T16RBT.2023188T163146.v2.0.B04.tif>,\n",
              "  <File-like object HTTPFileSystem, https://data.lpdaac.earthdatacloud.nasa.gov/lp-prod-protected/HLSL30.020/HLS.L30.T16RBT.2023188T163146.v2.0/HLS.L30.T16RBT.2023188T163146.v2.0.B03.tif>,\n",
              "  <File-like object HTTPFileSystem, https://data.lpdaac.earthdatacloud.nasa.gov/lp-prod-protected/HLSL30.020/HLS.L30.T16RBT.2023188T163146.v2.0/HLS.L30.T16RBT.2023188T163146.v2.0.B05.tif>,\n",
              "  <File-like object HTTPFileSystem, https://data.lpdaac.earthdatacloud.nasa.gov/lp-prod-protected/HLSL30.020/HLS.L30.T16RBT.2023188T163146.v2.0/HLS.L30.T16RBT.2023188T163146.v2.0.VAA.tif>,\n",
              "  <File-like object HTTPFileSystem, https://data.lpdaac.earthdatacloud.nasa.gov/lp-prod-protected/HLSL30.020/HLS.L30.T16RBT.2023188T163146.v2.0/HLS.L30.T16RBT.2023188T163146.v2.0.B07.tif>,\n",
              "  <File-like object HTTPFileSystem, https://data.lpdaac.earthdatacloud.nasa.gov/lp-prod-protected/HLSL30.020/HLS.L30.T16RBT.2023188T163146.v2.0/HLS.L30.T16RBT.2023188T163146.v2.0.B01.tif>,\n",
              "  <File-like object HTTPFileSystem, https://data.lpdaac.earthdatacloud.nasa.gov/lp-prod-protected/HLSL30.020/HLS.L30.T16RBT.2023188T163146.v2.0/HLS.L30.T16RBT.2023188T163146.v2.0.SAA.tif>,\n",
              "  <File-like object HTTPFileSystem, https://data.lpdaac.earthdatacloud.nasa.gov/lp-prod-protected/HLSL30.020/HLS.L30.T16RBT.2023188T163146.v2.0/HLS.L30.T16RBT.2023188T163146.v2.0.B02.tif>,\n",
              "  <File-like object HTTPFileSystem, https://data.lpdaac.earthdatacloud.nasa.gov/lp-prod-protected/HLSL30.020/HLS.L30.T16RBT.2023188T163146.v2.0/HLS.L30.T16RBT.2023188T163146.v2.0.Fmask.tif>,\n",
              "  <File-like object HTTPFileSystem, https://data.lpdaac.earthdatacloud.nasa.gov/lp-prod-protected/HLSL30.020/HLS.L30.T16RBT.2023188T163146.v2.0/HLS.L30.T16RBT.2023188T163146.v2.0.B10.tif>],\n",
              " [<File-like object HTTPFileSystem, https://data.lpdaac.earthdatacloud.nasa.gov/lp-prod-protected/HLSL30.020/HLS.L30.T15RYN.2023188T163146.v2.0/HLS.L30.T15RYN.2023188T163146.v2.0.B03.tif>,\n",
              "  <File-like object HTTPFileSystem, https://data.lpdaac.earthdatacloud.nasa.gov/lp-prod-protected/HLSL30.020/HLS.L30.T15RYN.2023188T163146.v2.0/HLS.L30.T15RYN.2023188T163146.v2.0.B11.tif>,\n",
              "  <File-like object HTTPFileSystem, https://data.lpdaac.earthdatacloud.nasa.gov/lp-prod-protected/HLSL30.020/HLS.L30.T15RYN.2023188T163146.v2.0/HLS.L30.T15RYN.2023188T163146.v2.0.B02.tif>,\n",
              "  <File-like object HTTPFileSystem, https://data.lpdaac.earthdatacloud.nasa.gov/lp-prod-protected/HLSL30.020/HLS.L30.T15RYN.2023188T163146.v2.0/HLS.L30.T15RYN.2023188T163146.v2.0.B05.tif>,\n",
              "  <File-like object HTTPFileSystem, https://data.lpdaac.earthdatacloud.nasa.gov/lp-prod-protected/HLSL30.020/HLS.L30.T15RYN.2023188T163146.v2.0/HLS.L30.T15RYN.2023188T163146.v2.0.B04.tif>,\n",
              "  <File-like object HTTPFileSystem, https://data.lpdaac.earthdatacloud.nasa.gov/lp-prod-protected/HLSL30.020/HLS.L30.T15RYN.2023188T163146.v2.0/HLS.L30.T15RYN.2023188T163146.v2.0.SZA.tif>,\n",
              "  <File-like object HTTPFileSystem, https://data.lpdaac.earthdatacloud.nasa.gov/lp-prod-protected/HLSL30.020/HLS.L30.T15RYN.2023188T163146.v2.0/HLS.L30.T15RYN.2023188T163146.v2.0.Fmask.tif>,\n",
              "  <File-like object HTTPFileSystem, https://data.lpdaac.earthdatacloud.nasa.gov/lp-prod-protected/HLSL30.020/HLS.L30.T15RYN.2023188T163146.v2.0/HLS.L30.T15RYN.2023188T163146.v2.0.B07.tif>,\n",
              "  <File-like object HTTPFileSystem, https://data.lpdaac.earthdatacloud.nasa.gov/lp-prod-protected/HLSL30.020/HLS.L30.T15RYN.2023188T163146.v2.0/HLS.L30.T15RYN.2023188T163146.v2.0.B10.tif>,\n",
              "  <File-like object HTTPFileSystem, https://data.lpdaac.earthdatacloud.nasa.gov/lp-prod-protected/HLSL30.020/HLS.L30.T15RYN.2023188T163146.v2.0/HLS.L30.T15RYN.2023188T163146.v2.0.B01.tif>,\n",
              "  <File-like object HTTPFileSystem, https://data.lpdaac.earthdatacloud.nasa.gov/lp-prod-protected/HLSL30.020/HLS.L30.T15RYN.2023188T163146.v2.0/HLS.L30.T15RYN.2023188T163146.v2.0.B06.tif>,\n",
              "  <File-like object HTTPFileSystem, https://data.lpdaac.earthdatacloud.nasa.gov/lp-prod-protected/HLSL30.020/HLS.L30.T15RYN.2023188T163146.v2.0/HLS.L30.T15RYN.2023188T163146.v2.0.VZA.tif>,\n",
              "  <File-like object HTTPFileSystem, https://data.lpdaac.earthdatacloud.nasa.gov/lp-prod-protected/HLSL30.020/HLS.L30.T15RYN.2023188T163146.v2.0/HLS.L30.T15RYN.2023188T163146.v2.0.SAA.tif>,\n",
              "  <File-like object HTTPFileSystem, https://data.lpdaac.earthdatacloud.nasa.gov/lp-prod-protected/HLSL30.020/HLS.L30.T15RYN.2023188T163146.v2.0/HLS.L30.T15RYN.2023188T163146.v2.0.B09.tif>,\n",
              "  <File-like object HTTPFileSystem, https://data.lpdaac.earthdatacloud.nasa.gov/lp-prod-protected/HLSL30.020/HLS.L30.T15RYN.2023188T163146.v2.0/HLS.L30.T15RYN.2023188T163146.v2.0.VAA.tif>],\n",
              " [<File-like object HTTPFileSystem, https://data.lpdaac.earthdatacloud.nasa.gov/lp-prod-protected/HLSL30.020/HLS.L30.T15RYN.2023196T163142.v2.0/HLS.L30.T15RYN.2023196T163142.v2.0.Fmask.tif>,\n",
              "  <File-like object HTTPFileSystem, https://data.lpdaac.earthdatacloud.nasa.gov/lp-prod-protected/HLSL30.020/HLS.L30.T15RYN.2023196T163142.v2.0/HLS.L30.T15RYN.2023196T163142.v2.0.B05.tif>,\n",
              "  <File-like object HTTPFileSystem, https://data.lpdaac.earthdatacloud.nasa.gov/lp-prod-protected/HLSL30.020/HLS.L30.T15RYN.2023196T163142.v2.0/HLS.L30.T15RYN.2023196T163142.v2.0.B09.tif>,\n",
              "  <File-like object HTTPFileSystem, https://data.lpdaac.earthdatacloud.nasa.gov/lp-prod-protected/HLSL30.020/HLS.L30.T15RYN.2023196T163142.v2.0/HLS.L30.T15RYN.2023196T163142.v2.0.VZA.tif>,\n",
              "  <File-like object HTTPFileSystem, https://data.lpdaac.earthdatacloud.nasa.gov/lp-prod-protected/HLSL30.020/HLS.L30.T15RYN.2023196T163142.v2.0/HLS.L30.T15RYN.2023196T163142.v2.0.B01.tif>,\n",
              "  <File-like object HTTPFileSystem, https://data.lpdaac.earthdatacloud.nasa.gov/lp-prod-protected/HLSL30.020/HLS.L30.T15RYN.2023196T163142.v2.0/HLS.L30.T15RYN.2023196T163142.v2.0.SAA.tif>,\n",
              "  <File-like object HTTPFileSystem, https://data.lpdaac.earthdatacloud.nasa.gov/lp-prod-protected/HLSL30.020/HLS.L30.T15RYN.2023196T163142.v2.0/HLS.L30.T15RYN.2023196T163142.v2.0.B06.tif>,\n",
              "  <File-like object HTTPFileSystem, https://data.lpdaac.earthdatacloud.nasa.gov/lp-prod-protected/HLSL30.020/HLS.L30.T15RYN.2023196T163142.v2.0/HLS.L30.T15RYN.2023196T163142.v2.0.B11.tif>,\n",
              "  <File-like object HTTPFileSystem, https://data.lpdaac.earthdatacloud.nasa.gov/lp-prod-protected/HLSL30.020/HLS.L30.T15RYN.2023196T163142.v2.0/HLS.L30.T15RYN.2023196T163142.v2.0.VAA.tif>,\n",
              "  <File-like object HTTPFileSystem, https://data.lpdaac.earthdatacloud.nasa.gov/lp-prod-protected/HLSL30.020/HLS.L30.T15RYN.2023196T163142.v2.0/HLS.L30.T15RYN.2023196T163142.v2.0.B07.tif>,\n",
              "  <File-like object HTTPFileSystem, https://data.lpdaac.earthdatacloud.nasa.gov/lp-prod-protected/HLSL30.020/HLS.L30.T15RYN.2023196T163142.v2.0/HLS.L30.T15RYN.2023196T163142.v2.0.B03.tif>,\n",
              "  <File-like object HTTPFileSystem, https://data.lpdaac.earthdatacloud.nasa.gov/lp-prod-protected/HLSL30.020/HLS.L30.T15RYN.2023196T163142.v2.0/HLS.L30.T15RYN.2023196T163142.v2.0.SZA.tif>,\n",
              "  <File-like object HTTPFileSystem, https://data.lpdaac.earthdatacloud.nasa.gov/lp-prod-protected/HLSL30.020/HLS.L30.T15RYN.2023196T163142.v2.0/HLS.L30.T15RYN.2023196T163142.v2.0.B04.tif>,\n",
              "  <File-like object HTTPFileSystem, https://data.lpdaac.earthdatacloud.nasa.gov/lp-prod-protected/HLSL30.020/HLS.L30.T15RYN.2023196T163142.v2.0/HLS.L30.T15RYN.2023196T163142.v2.0.B10.tif>,\n",
              "  <File-like object HTTPFileSystem, https://data.lpdaac.earthdatacloud.nasa.gov/lp-prod-protected/HLSL30.020/HLS.L30.T15RYN.2023196T163142.v2.0/HLS.L30.T15RYN.2023196T163142.v2.0.B02.tif>],\n",
              " [<File-like object HTTPFileSystem, https://data.lpdaac.earthdatacloud.nasa.gov/lp-prod-protected/HLSL30.020/HLS.L30.T16RBU.2023196T163142.v2.0/HLS.L30.T16RBU.2023196T163142.v2.0.B04.tif>,\n",
              "  <File-like object HTTPFileSystem, https://data.lpdaac.earthdatacloud.nasa.gov/lp-prod-protected/HLSL30.020/HLS.L30.T16RBU.2023196T163142.v2.0/HLS.L30.T16RBU.2023196T163142.v2.0.B05.tif>,\n",
              "  <File-like object HTTPFileSystem, https://data.lpdaac.earthdatacloud.nasa.gov/lp-prod-protected/HLSL30.020/HLS.L30.T16RBU.2023196T163142.v2.0/HLS.L30.T16RBU.2023196T163142.v2.0.B10.tif>,\n",
              "  <File-like object HTTPFileSystem, https://data.lpdaac.earthdatacloud.nasa.gov/lp-prod-protected/HLSL30.020/HLS.L30.T16RBU.2023196T163142.v2.0/HLS.L30.T16RBU.2023196T163142.v2.0.B07.tif>,\n",
              "  <File-like object HTTPFileSystem, https://data.lpdaac.earthdatacloud.nasa.gov/lp-prod-protected/HLSL30.020/HLS.L30.T16RBU.2023196T163142.v2.0/HLS.L30.T16RBU.2023196T163142.v2.0.B02.tif>,\n",
              "  <File-like object HTTPFileSystem, https://data.lpdaac.earthdatacloud.nasa.gov/lp-prod-protected/HLSL30.020/HLS.L30.T16RBU.2023196T163142.v2.0/HLS.L30.T16RBU.2023196T163142.v2.0.Fmask.tif>,\n",
              "  <File-like object HTTPFileSystem, https://data.lpdaac.earthdatacloud.nasa.gov/lp-prod-protected/HLSL30.020/HLS.L30.T16RBU.2023196T163142.v2.0/HLS.L30.T16RBU.2023196T163142.v2.0.VAA.tif>,\n",
              "  <File-like object HTTPFileSystem, https://data.lpdaac.earthdatacloud.nasa.gov/lp-prod-protected/HLSL30.020/HLS.L30.T16RBU.2023196T163142.v2.0/HLS.L30.T16RBU.2023196T163142.v2.0.B01.tif>,\n",
              "  <File-like object HTTPFileSystem, https://data.lpdaac.earthdatacloud.nasa.gov/lp-prod-protected/HLSL30.020/HLS.L30.T16RBU.2023196T163142.v2.0/HLS.L30.T16RBU.2023196T163142.v2.0.SZA.tif>,\n",
              "  <File-like object HTTPFileSystem, https://data.lpdaac.earthdatacloud.nasa.gov/lp-prod-protected/HLSL30.020/HLS.L30.T16RBU.2023196T163142.v2.0/HLS.L30.T16RBU.2023196T163142.v2.0.B06.tif>,\n",
              "  <File-like object HTTPFileSystem, https://data.lpdaac.earthdatacloud.nasa.gov/lp-prod-protected/HLSL30.020/HLS.L30.T16RBU.2023196T163142.v2.0/HLS.L30.T16RBU.2023196T163142.v2.0.B09.tif>,\n",
              "  <File-like object HTTPFileSystem, https://data.lpdaac.earthdatacloud.nasa.gov/lp-prod-protected/HLSL30.020/HLS.L30.T16RBU.2023196T163142.v2.0/HLS.L30.T16RBU.2023196T163142.v2.0.B11.tif>,\n",
              "  <File-like object HTTPFileSystem, https://data.lpdaac.earthdatacloud.nasa.gov/lp-prod-protected/HLSL30.020/HLS.L30.T16RBU.2023196T163142.v2.0/HLS.L30.T16RBU.2023196T163142.v2.0.B03.tif>,\n",
              "  <File-like object HTTPFileSystem, https://data.lpdaac.earthdatacloud.nasa.gov/lp-prod-protected/HLSL30.020/HLS.L30.T16RBU.2023196T163142.v2.0/HLS.L30.T16RBU.2023196T163142.v2.0.VZA.tif>,\n",
              "  <File-like object HTTPFileSystem, https://data.lpdaac.earthdatacloud.nasa.gov/lp-prod-protected/HLSL30.020/HLS.L30.T16RBU.2023196T163142.v2.0/HLS.L30.T16RBU.2023196T163142.v2.0.SAA.tif>],\n",
              " [<File-like object HTTPFileSystem, https://data.lpdaac.earthdatacloud.nasa.gov/lp-prod-protected/HLSL30.020/HLS.L30.T15RYP.2023196T163142.v2.0/HLS.L30.T15RYP.2023196T163142.v2.0.B07.tif>,\n",
              "  <File-like object HTTPFileSystem, https://data.lpdaac.earthdatacloud.nasa.gov/lp-prod-protected/HLSL30.020/HLS.L30.T15RYP.2023196T163142.v2.0/HLS.L30.T15RYP.2023196T163142.v2.0.Fmask.tif>,\n",
              "  <File-like object HTTPFileSystem, https://data.lpdaac.earthdatacloud.nasa.gov/lp-prod-protected/HLSL30.020/HLS.L30.T15RYP.2023196T163142.v2.0/HLS.L30.T15RYP.2023196T163142.v2.0.SZA.tif>,\n",
              "  <File-like object HTTPFileSystem, https://data.lpdaac.earthdatacloud.nasa.gov/lp-prod-protected/HLSL30.020/HLS.L30.T15RYP.2023196T163142.v2.0/HLS.L30.T15RYP.2023196T163142.v2.0.B05.tif>,\n",
              "  <File-like object HTTPFileSystem, https://data.lpdaac.earthdatacloud.nasa.gov/lp-prod-protected/HLSL30.020/HLS.L30.T15RYP.2023196T163142.v2.0/HLS.L30.T15RYP.2023196T163142.v2.0.B01.tif>,\n",
              "  <File-like object HTTPFileSystem, https://data.lpdaac.earthdatacloud.nasa.gov/lp-prod-protected/HLSL30.020/HLS.L30.T15RYP.2023196T163142.v2.0/HLS.L30.T15RYP.2023196T163142.v2.0.B04.tif>,\n",
              "  <File-like object HTTPFileSystem, https://data.lpdaac.earthdatacloud.nasa.gov/lp-prod-protected/HLSL30.020/HLS.L30.T15RYP.2023196T163142.v2.0/HLS.L30.T15RYP.2023196T163142.v2.0.B09.tif>,\n",
              "  <File-like object HTTPFileSystem, https://data.lpdaac.earthdatacloud.nasa.gov/lp-prod-protected/HLSL30.020/HLS.L30.T15RYP.2023196T163142.v2.0/HLS.L30.T15RYP.2023196T163142.v2.0.SAA.tif>,\n",
              "  <File-like object HTTPFileSystem, https://data.lpdaac.earthdatacloud.nasa.gov/lp-prod-protected/HLSL30.020/HLS.L30.T15RYP.2023196T163142.v2.0/HLS.L30.T15RYP.2023196T163142.v2.0.B10.tif>,\n",
              "  <File-like object HTTPFileSystem, https://data.lpdaac.earthdatacloud.nasa.gov/lp-prod-protected/HLSL30.020/HLS.L30.T15RYP.2023196T163142.v2.0/HLS.L30.T15RYP.2023196T163142.v2.0.B02.tif>,\n",
              "  <File-like object HTTPFileSystem, https://data.lpdaac.earthdatacloud.nasa.gov/lp-prod-protected/HLSL30.020/HLS.L30.T15RYP.2023196T163142.v2.0/HLS.L30.T15RYP.2023196T163142.v2.0.VZA.tif>,\n",
              "  <File-like object HTTPFileSystem, https://data.lpdaac.earthdatacloud.nasa.gov/lp-prod-protected/HLSL30.020/HLS.L30.T15RYP.2023196T163142.v2.0/HLS.L30.T15RYP.2023196T163142.v2.0.B03.tif>,\n",
              "  <File-like object HTTPFileSystem, https://data.lpdaac.earthdatacloud.nasa.gov/lp-prod-protected/HLSL30.020/HLS.L30.T15RYP.2023196T163142.v2.0/HLS.L30.T15RYP.2023196T163142.v2.0.B11.tif>,\n",
              "  <File-like object HTTPFileSystem, https://data.lpdaac.earthdatacloud.nasa.gov/lp-prod-protected/HLSL30.020/HLS.L30.T15RYP.2023196T163142.v2.0/HLS.L30.T15RYP.2023196T163142.v2.0.B06.tif>,\n",
              "  <File-like object HTTPFileSystem, https://data.lpdaac.earthdatacloud.nasa.gov/lp-prod-protected/HLSL30.020/HLS.L30.T15RYP.2023196T163142.v2.0/HLS.L30.T15RYP.2023196T163142.v2.0.VAA.tif>],\n",
              " [<File-like object HTTPFileSystem, https://data.lpdaac.earthdatacloud.nasa.gov/lp-prod-protected/HLSL30.020/HLS.L30.T16RBT.2023196T163142.v2.0/HLS.L30.T16RBT.2023196T163142.v2.0.SZA.tif>,\n",
              "  <File-like object HTTPFileSystem, https://data.lpdaac.earthdatacloud.nasa.gov/lp-prod-protected/HLSL30.020/HLS.L30.T16RBT.2023196T163142.v2.0/HLS.L30.T16RBT.2023196T163142.v2.0.B06.tif>,\n",
              "  <File-like object HTTPFileSystem, https://data.lpdaac.earthdatacloud.nasa.gov/lp-prod-protected/HLSL30.020/HLS.L30.T16RBT.2023196T163142.v2.0/HLS.L30.T16RBT.2023196T163142.v2.0.B07.tif>,\n",
              "  <File-like object HTTPFileSystem, https://data.lpdaac.earthdatacloud.nasa.gov/lp-prod-protected/HLSL30.020/HLS.L30.T16RBT.2023196T163142.v2.0/HLS.L30.T16RBT.2023196T163142.v2.0.B10.tif>,\n",
              "  <File-like object HTTPFileSystem, https://data.lpdaac.earthdatacloud.nasa.gov/lp-prod-protected/HLSL30.020/HLS.L30.T16RBT.2023196T163142.v2.0/HLS.L30.T16RBT.2023196T163142.v2.0.Fmask.tif>,\n",
              "  <File-like object HTTPFileSystem, https://data.lpdaac.earthdatacloud.nasa.gov/lp-prod-protected/HLSL30.020/HLS.L30.T16RBT.2023196T163142.v2.0/HLS.L30.T16RBT.2023196T163142.v2.0.B02.tif>,\n",
              "  <File-like object HTTPFileSystem, https://data.lpdaac.earthdatacloud.nasa.gov/lp-prod-protected/HLSL30.020/HLS.L30.T16RBT.2023196T163142.v2.0/HLS.L30.T16RBT.2023196T163142.v2.0.SAA.tif>,\n",
              "  <File-like object HTTPFileSystem, https://data.lpdaac.earthdatacloud.nasa.gov/lp-prod-protected/HLSL30.020/HLS.L30.T16RBT.2023196T163142.v2.0/HLS.L30.T16RBT.2023196T163142.v2.0.B09.tif>,\n",
              "  <File-like object HTTPFileSystem, https://data.lpdaac.earthdatacloud.nasa.gov/lp-prod-protected/HLSL30.020/HLS.L30.T16RBT.2023196T163142.v2.0/HLS.L30.T16RBT.2023196T163142.v2.0.B11.tif>,\n",
              "  <File-like object HTTPFileSystem, https://data.lpdaac.earthdatacloud.nasa.gov/lp-prod-protected/HLSL30.020/HLS.L30.T16RBT.2023196T163142.v2.0/HLS.L30.T16RBT.2023196T163142.v2.0.B04.tif>,\n",
              "  <File-like object HTTPFileSystem, https://data.lpdaac.earthdatacloud.nasa.gov/lp-prod-protected/HLSL30.020/HLS.L30.T16RBT.2023196T163142.v2.0/HLS.L30.T16RBT.2023196T163142.v2.0.VZA.tif>,\n",
              "  <File-like object HTTPFileSystem, https://data.lpdaac.earthdatacloud.nasa.gov/lp-prod-protected/HLSL30.020/HLS.L30.T16RBT.2023196T163142.v2.0/HLS.L30.T16RBT.2023196T163142.v2.0.B05.tif>,\n",
              "  <File-like object HTTPFileSystem, https://data.lpdaac.earthdatacloud.nasa.gov/lp-prod-protected/HLSL30.020/HLS.L30.T16RBT.2023196T163142.v2.0/HLS.L30.T16RBT.2023196T163142.v2.0.B01.tif>,\n",
              "  <File-like object HTTPFileSystem, https://data.lpdaac.earthdatacloud.nasa.gov/lp-prod-protected/HLSL30.020/HLS.L30.T16RBT.2023196T163142.v2.0/HLS.L30.T16RBT.2023196T163142.v2.0.VAA.tif>,\n",
              "  <File-like object HTTPFileSystem, https://data.lpdaac.earthdatacloud.nasa.gov/lp-prod-protected/HLSL30.020/HLS.L30.T16RBT.2023196T163142.v2.0/HLS.L30.T16RBT.2023196T163142.v2.0.B03.tif>],\n",
              " [<File-like object HTTPFileSystem, https://data.lpdaac.earthdatacloud.nasa.gov/lp-prod-protected/HLSL30.020/HLS.L30.T15RYP.2023204T163150.v2.0/HLS.L30.T15RYP.2023204T163150.v2.0.SZA.tif>,\n",
              "  <File-like object HTTPFileSystem, https://data.lpdaac.earthdatacloud.nasa.gov/lp-prod-protected/HLSL30.020/HLS.L30.T15RYP.2023204T163150.v2.0/HLS.L30.T15RYP.2023204T163150.v2.0.Fmask.tif>,\n",
              "  <File-like object HTTPFileSystem, https://data.lpdaac.earthdatacloud.nasa.gov/lp-prod-protected/HLSL30.020/HLS.L30.T15RYP.2023204T163150.v2.0/HLS.L30.T15RYP.2023204T163150.v2.0.B11.tif>,\n",
              "  <File-like object HTTPFileSystem, https://data.lpdaac.earthdatacloud.nasa.gov/lp-prod-protected/HLSL30.020/HLS.L30.T15RYP.2023204T163150.v2.0/HLS.L30.T15RYP.2023204T163150.v2.0.B01.tif>,\n",
              "  <File-like object HTTPFileSystem, https://data.lpdaac.earthdatacloud.nasa.gov/lp-prod-protected/HLSL30.020/HLS.L30.T15RYP.2023204T163150.v2.0/HLS.L30.T15RYP.2023204T163150.v2.0.B10.tif>,\n",
              "  <File-like object HTTPFileSystem, https://data.lpdaac.earthdatacloud.nasa.gov/lp-prod-protected/HLSL30.020/HLS.L30.T15RYP.2023204T163150.v2.0/HLS.L30.T15RYP.2023204T163150.v2.0.VZA.tif>,\n",
              "  <File-like object HTTPFileSystem, https://data.lpdaac.earthdatacloud.nasa.gov/lp-prod-protected/HLSL30.020/HLS.L30.T15RYP.2023204T163150.v2.0/HLS.L30.T15RYP.2023204T163150.v2.0.B09.tif>,\n",
              "  <File-like object HTTPFileSystem, https://data.lpdaac.earthdatacloud.nasa.gov/lp-prod-protected/HLSL30.020/HLS.L30.T15RYP.2023204T163150.v2.0/HLS.L30.T15RYP.2023204T163150.v2.0.B04.tif>,\n",
              "  <File-like object HTTPFileSystem, https://data.lpdaac.earthdatacloud.nasa.gov/lp-prod-protected/HLSL30.020/HLS.L30.T15RYP.2023204T163150.v2.0/HLS.L30.T15RYP.2023204T163150.v2.0.SAA.tif>,\n",
              "  <File-like object HTTPFileSystem, https://data.lpdaac.earthdatacloud.nasa.gov/lp-prod-protected/HLSL30.020/HLS.L30.T15RYP.2023204T163150.v2.0/HLS.L30.T15RYP.2023204T163150.v2.0.B03.tif>,\n",
              "  <File-like object HTTPFileSystem, https://data.lpdaac.earthdatacloud.nasa.gov/lp-prod-protected/HLSL30.020/HLS.L30.T15RYP.2023204T163150.v2.0/HLS.L30.T15RYP.2023204T163150.v2.0.VAA.tif>,\n",
              "  <File-like object HTTPFileSystem, https://data.lpdaac.earthdatacloud.nasa.gov/lp-prod-protected/HLSL30.020/HLS.L30.T15RYP.2023204T163150.v2.0/HLS.L30.T15RYP.2023204T163150.v2.0.B02.tif>,\n",
              "  <File-like object HTTPFileSystem, https://data.lpdaac.earthdatacloud.nasa.gov/lp-prod-protected/HLSL30.020/HLS.L30.T15RYP.2023204T163150.v2.0/HLS.L30.T15RYP.2023204T163150.v2.0.B05.tif>,\n",
              "  <File-like object HTTPFileSystem, https://data.lpdaac.earthdatacloud.nasa.gov/lp-prod-protected/HLSL30.020/HLS.L30.T15RYP.2023204T163150.v2.0/HLS.L30.T15RYP.2023204T163150.v2.0.B06.tif>,\n",
              "  <File-like object HTTPFileSystem, https://data.lpdaac.earthdatacloud.nasa.gov/lp-prod-protected/HLSL30.020/HLS.L30.T15RYP.2023204T163150.v2.0/HLS.L30.T15RYP.2023204T163150.v2.0.B07.tif>],\n",
              " [<File-like object HTTPFileSystem, https://data.lpdaac.earthdatacloud.nasa.gov/lp-prod-protected/HLSL30.020/HLS.L30.T16RBU.2023204T163150.v2.0/HLS.L30.T16RBU.2023204T163150.v2.0.B01.tif>,\n",
              "  <File-like object HTTPFileSystem, https://data.lpdaac.earthdatacloud.nasa.gov/lp-prod-protected/HLSL30.020/HLS.L30.T16RBU.2023204T163150.v2.0/HLS.L30.T16RBU.2023204T163150.v2.0.B06.tif>,\n",
              "  <File-like object HTTPFileSystem, https://data.lpdaac.earthdatacloud.nasa.gov/lp-prod-protected/HLSL30.020/HLS.L30.T16RBU.2023204T163150.v2.0/HLS.L30.T16RBU.2023204T163150.v2.0.B07.tif>,\n",
              "  <File-like object HTTPFileSystem, https://data.lpdaac.earthdatacloud.nasa.gov/lp-prod-protected/HLSL30.020/HLS.L30.T16RBU.2023204T163150.v2.0/HLS.L30.T16RBU.2023204T163150.v2.0.B02.tif>,\n",
              "  <File-like object HTTPFileSystem, https://data.lpdaac.earthdatacloud.nasa.gov/lp-prod-protected/HLSL30.020/HLS.L30.T16RBU.2023204T163150.v2.0/HLS.L30.T16RBU.2023204T163150.v2.0.B03.tif>,\n",
              "  <File-like object HTTPFileSystem, https://data.lpdaac.earthdatacloud.nasa.gov/lp-prod-protected/HLSL30.020/HLS.L30.T16RBU.2023204T163150.v2.0/HLS.L30.T16RBU.2023204T163150.v2.0.VZA.tif>,\n",
              "  <File-like object HTTPFileSystem, https://data.lpdaac.earthdatacloud.nasa.gov/lp-prod-protected/HLSL30.020/HLS.L30.T16RBU.2023204T163150.v2.0/HLS.L30.T16RBU.2023204T163150.v2.0.B09.tif>,\n",
              "  <File-like object HTTPFileSystem, https://data.lpdaac.earthdatacloud.nasa.gov/lp-prod-protected/HLSL30.020/HLS.L30.T16RBU.2023204T163150.v2.0/HLS.L30.T16RBU.2023204T163150.v2.0.SAA.tif>,\n",
              "  <File-like object HTTPFileSystem, https://data.lpdaac.earthdatacloud.nasa.gov/lp-prod-protected/HLSL30.020/HLS.L30.T16RBU.2023204T163150.v2.0/HLS.L30.T16RBU.2023204T163150.v2.0.Fmask.tif>,\n",
              "  <File-like object HTTPFileSystem, https://data.lpdaac.earthdatacloud.nasa.gov/lp-prod-protected/HLSL30.020/HLS.L30.T16RBU.2023204T163150.v2.0/HLS.L30.T16RBU.2023204T163150.v2.0.B04.tif>,\n",
              "  <File-like object HTTPFileSystem, https://data.lpdaac.earthdatacloud.nasa.gov/lp-prod-protected/HLSL30.020/HLS.L30.T16RBU.2023204T163150.v2.0/HLS.L30.T16RBU.2023204T163150.v2.0.B11.tif>,\n",
              "  <File-like object HTTPFileSystem, https://data.lpdaac.earthdatacloud.nasa.gov/lp-prod-protected/HLSL30.020/HLS.L30.T16RBU.2023204T163150.v2.0/HLS.L30.T16RBU.2023204T163150.v2.0.B05.tif>,\n",
              "  <File-like object HTTPFileSystem, https://data.lpdaac.earthdatacloud.nasa.gov/lp-prod-protected/HLSL30.020/HLS.L30.T16RBU.2023204T163150.v2.0/HLS.L30.T16RBU.2023204T163150.v2.0.SZA.tif>,\n",
              "  <File-like object HTTPFileSystem, https://data.lpdaac.earthdatacloud.nasa.gov/lp-prod-protected/HLSL30.020/HLS.L30.T16RBU.2023204T163150.v2.0/HLS.L30.T16RBU.2023204T163150.v2.0.VAA.tif>,\n",
              "  <File-like object HTTPFileSystem, https://data.lpdaac.earthdatacloud.nasa.gov/lp-prod-protected/HLSL30.020/HLS.L30.T16RBU.2023204T163150.v2.0/HLS.L30.T16RBU.2023204T163150.v2.0.B10.tif>],\n",
              " [<File-like object HTTPFileSystem, https://data.lpdaac.earthdatacloud.nasa.gov/lp-prod-protected/HLSL30.020/HLS.L30.T15RYN.2023204T163150.v2.0/HLS.L30.T15RYN.2023204T163150.v2.0.Fmask.tif>,\n",
              "  <File-like object HTTPFileSystem, https://data.lpdaac.earthdatacloud.nasa.gov/lp-prod-protected/HLSL30.020/HLS.L30.T15RYN.2023204T163150.v2.0/HLS.L30.T15RYN.2023204T163150.v2.0.B03.tif>,\n",
              "  <File-like object HTTPFileSystem, https://data.lpdaac.earthdatacloud.nasa.gov/lp-prod-protected/HLSL30.020/HLS.L30.T15RYN.2023204T163150.v2.0/HLS.L30.T15RYN.2023204T163150.v2.0.B10.tif>,\n",
              "  <File-like object HTTPFileSystem, https://data.lpdaac.earthdatacloud.nasa.gov/lp-prod-protected/HLSL30.020/HLS.L30.T15RYN.2023204T163150.v2.0/HLS.L30.T15RYN.2023204T163150.v2.0.B04.tif>,\n",
              "  <File-like object HTTPFileSystem, https://data.lpdaac.earthdatacloud.nasa.gov/lp-prod-protected/HLSL30.020/HLS.L30.T15RYN.2023204T163150.v2.0/HLS.L30.T15RYN.2023204T163150.v2.0.SAA.tif>,\n",
              "  <File-like object HTTPFileSystem, https://data.lpdaac.earthdatacloud.nasa.gov/lp-prod-protected/HLSL30.020/HLS.L30.T15RYN.2023204T163150.v2.0/HLS.L30.T15RYN.2023204T163150.v2.0.SZA.tif>,\n",
              "  <File-like object HTTPFileSystem, https://data.lpdaac.earthdatacloud.nasa.gov/lp-prod-protected/HLSL30.020/HLS.L30.T15RYN.2023204T163150.v2.0/HLS.L30.T15RYN.2023204T163150.v2.0.VAA.tif>,\n",
              "  <File-like object HTTPFileSystem, https://data.lpdaac.earthdatacloud.nasa.gov/lp-prod-protected/HLSL30.020/HLS.L30.T15RYN.2023204T163150.v2.0/HLS.L30.T15RYN.2023204T163150.v2.0.B07.tif>,\n",
              "  <File-like object HTTPFileSystem, https://data.lpdaac.earthdatacloud.nasa.gov/lp-prod-protected/HLSL30.020/HLS.L30.T15RYN.2023204T163150.v2.0/HLS.L30.T15RYN.2023204T163150.v2.0.B09.tif>,\n",
              "  <File-like object HTTPFileSystem, https://data.lpdaac.earthdatacloud.nasa.gov/lp-prod-protected/HLSL30.020/HLS.L30.T15RYN.2023204T163150.v2.0/HLS.L30.T15RYN.2023204T163150.v2.0.B06.tif>,\n",
              "  <File-like object HTTPFileSystem, https://data.lpdaac.earthdatacloud.nasa.gov/lp-prod-protected/HLSL30.020/HLS.L30.T15RYN.2023204T163150.v2.0/HLS.L30.T15RYN.2023204T163150.v2.0.VZA.tif>,\n",
              "  <File-like object HTTPFileSystem, https://data.lpdaac.earthdatacloud.nasa.gov/lp-prod-protected/HLSL30.020/HLS.L30.T15RYN.2023204T163150.v2.0/HLS.L30.T15RYN.2023204T163150.v2.0.B02.tif>,\n",
              "  <File-like object HTTPFileSystem, https://data.lpdaac.earthdatacloud.nasa.gov/lp-prod-protected/HLSL30.020/HLS.L30.T15RYN.2023204T163150.v2.0/HLS.L30.T15RYN.2023204T163150.v2.0.B11.tif>,\n",
              "  <File-like object HTTPFileSystem, https://data.lpdaac.earthdatacloud.nasa.gov/lp-prod-protected/HLSL30.020/HLS.L30.T15RYN.2023204T163150.v2.0/HLS.L30.T15RYN.2023204T163150.v2.0.B05.tif>,\n",
              "  <File-like object HTTPFileSystem, https://data.lpdaac.earthdatacloud.nasa.gov/lp-prod-protected/HLSL30.020/HLS.L30.T15RYN.2023204T163150.v2.0/HLS.L30.T15RYN.2023204T163150.v2.0.B01.tif>],\n",
              " [<File-like object HTTPFileSystem, https://data.lpdaac.earthdatacloud.nasa.gov/lp-prod-protected/HLSL30.020/HLS.L30.T16RBT.2023204T163150.v2.0/HLS.L30.T16RBT.2023204T163150.v2.0.B11.tif>,\n",
              "  <File-like object HTTPFileSystem, https://data.lpdaac.earthdatacloud.nasa.gov/lp-prod-protected/HLSL30.020/HLS.L30.T16RBT.2023204T163150.v2.0/HLS.L30.T16RBT.2023204T163150.v2.0.B03.tif>,\n",
              "  <File-like object HTTPFileSystem, https://data.lpdaac.earthdatacloud.nasa.gov/lp-prod-protected/HLSL30.020/HLS.L30.T16RBT.2023204T163150.v2.0/HLS.L30.T16RBT.2023204T163150.v2.0.B06.tif>,\n",
              "  <File-like object HTTPFileSystem, https://data.lpdaac.earthdatacloud.nasa.gov/lp-prod-protected/HLSL30.020/HLS.L30.T16RBT.2023204T163150.v2.0/HLS.L30.T16RBT.2023204T163150.v2.0.SZA.tif>,\n",
              "  <File-like object HTTPFileSystem, https://data.lpdaac.earthdatacloud.nasa.gov/lp-prod-protected/HLSL30.020/HLS.L30.T16RBT.2023204T163150.v2.0/HLS.L30.T16RBT.2023204T163150.v2.0.SAA.tif>,\n",
              "  <File-like object HTTPFileSystem, https://data.lpdaac.earthdatacloud.nasa.gov/lp-prod-protected/HLSL30.020/HLS.L30.T16RBT.2023204T163150.v2.0/HLS.L30.T16RBT.2023204T163150.v2.0.B09.tif>,\n",
              "  <File-like object HTTPFileSystem, https://data.lpdaac.earthdatacloud.nasa.gov/lp-prod-protected/HLSL30.020/HLS.L30.T16RBT.2023204T163150.v2.0/HLS.L30.T16RBT.2023204T163150.v2.0.VZA.tif>,\n",
              "  <File-like object HTTPFileSystem, https://data.lpdaac.earthdatacloud.nasa.gov/lp-prod-protected/HLSL30.020/HLS.L30.T16RBT.2023204T163150.v2.0/HLS.L30.T16RBT.2023204T163150.v2.0.B10.tif>,\n",
              "  <File-like object HTTPFileSystem, https://data.lpdaac.earthdatacloud.nasa.gov/lp-prod-protected/HLSL30.020/HLS.L30.T16RBT.2023204T163150.v2.0/HLS.L30.T16RBT.2023204T163150.v2.0.B04.tif>,\n",
              "  <File-like object HTTPFileSystem, https://data.lpdaac.earthdatacloud.nasa.gov/lp-prod-protected/HLSL30.020/HLS.L30.T16RBT.2023204T163150.v2.0/HLS.L30.T16RBT.2023204T163150.v2.0.VAA.tif>,\n",
              "  <File-like object HTTPFileSystem, https://data.lpdaac.earthdatacloud.nasa.gov/lp-prod-protected/HLSL30.020/HLS.L30.T16RBT.2023204T163150.v2.0/HLS.L30.T16RBT.2023204T163150.v2.0.B07.tif>,\n",
              "  <File-like object HTTPFileSystem, https://data.lpdaac.earthdatacloud.nasa.gov/lp-prod-protected/HLSL30.020/HLS.L30.T16RBT.2023204T163150.v2.0/HLS.L30.T16RBT.2023204T163150.v2.0.B05.tif>,\n",
              "  <File-like object HTTPFileSystem, https://data.lpdaac.earthdatacloud.nasa.gov/lp-prod-protected/HLSL30.020/HLS.L30.T16RBT.2023204T163150.v2.0/HLS.L30.T16RBT.2023204T163150.v2.0.B02.tif>,\n",
              "  <File-like object HTTPFileSystem, https://data.lpdaac.earthdatacloud.nasa.gov/lp-prod-protected/HLSL30.020/HLS.L30.T16RBT.2023204T163150.v2.0/HLS.L30.T16RBT.2023204T163150.v2.0.B01.tif>,\n",
              "  <File-like object HTTPFileSystem, https://data.lpdaac.earthdatacloud.nasa.gov/lp-prod-protected/HLSL30.020/HLS.L30.T16RBT.2023204T163150.v2.0/HLS.L30.T16RBT.2023204T163150.v2.0.Fmask.tif>],\n",
              " [<File-like object HTTPFileSystem, https://data.lpdaac.earthdatacloud.nasa.gov/lp-prod-protected/HLSL30.020/HLS.L30.T16RBU.2023212T163147.v2.0/HLS.L30.T16RBU.2023212T163147.v2.0.VAA.tif>,\n",
              "  <File-like object HTTPFileSystem, https://data.lpdaac.earthdatacloud.nasa.gov/lp-prod-protected/HLSL30.020/HLS.L30.T16RBU.2023212T163147.v2.0/HLS.L30.T16RBU.2023212T163147.v2.0.B02.tif>,\n",
              "  <File-like object HTTPFileSystem, https://data.lpdaac.earthdatacloud.nasa.gov/lp-prod-protected/HLSL30.020/HLS.L30.T16RBU.2023212T163147.v2.0/HLS.L30.T16RBU.2023212T163147.v2.0.B05.tif>,\n",
              "  <File-like object HTTPFileSystem, https://data.lpdaac.earthdatacloud.nasa.gov/lp-prod-protected/HLSL30.020/HLS.L30.T16RBU.2023212T163147.v2.0/HLS.L30.T16RBU.2023212T163147.v2.0.VZA.tif>,\n",
              "  <File-like object HTTPFileSystem, https://data.lpdaac.earthdatacloud.nasa.gov/lp-prod-protected/HLSL30.020/HLS.L30.T16RBU.2023212T163147.v2.0/HLS.L30.T16RBU.2023212T163147.v2.0.Fmask.tif>,\n",
              "  <File-like object HTTPFileSystem, https://data.lpdaac.earthdatacloud.nasa.gov/lp-prod-protected/HLSL30.020/HLS.L30.T16RBU.2023212T163147.v2.0/HLS.L30.T16RBU.2023212T163147.v2.0.B11.tif>,\n",
              "  <File-like object HTTPFileSystem, https://data.lpdaac.earthdatacloud.nasa.gov/lp-prod-protected/HLSL30.020/HLS.L30.T16RBU.2023212T163147.v2.0/HLS.L30.T16RBU.2023212T163147.v2.0.B06.tif>,\n",
              "  <File-like object HTTPFileSystem, https://data.lpdaac.earthdatacloud.nasa.gov/lp-prod-protected/HLSL30.020/HLS.L30.T16RBU.2023212T163147.v2.0/HLS.L30.T16RBU.2023212T163147.v2.0.B01.tif>,\n",
              "  <File-like object HTTPFileSystem, https://data.lpdaac.earthdatacloud.nasa.gov/lp-prod-protected/HLSL30.020/HLS.L30.T16RBU.2023212T163147.v2.0/HLS.L30.T16RBU.2023212T163147.v2.0.B04.tif>,\n",
              "  <File-like object HTTPFileSystem, https://data.lpdaac.earthdatacloud.nasa.gov/lp-prod-protected/HLSL30.020/HLS.L30.T16RBU.2023212T163147.v2.0/HLS.L30.T16RBU.2023212T163147.v2.0.B07.tif>,\n",
              "  <File-like object HTTPFileSystem, https://data.lpdaac.earthdatacloud.nasa.gov/lp-prod-protected/HLSL30.020/HLS.L30.T16RBU.2023212T163147.v2.0/HLS.L30.T16RBU.2023212T163147.v2.0.B10.tif>,\n",
              "  <File-like object HTTPFileSystem, https://data.lpdaac.earthdatacloud.nasa.gov/lp-prod-protected/HLSL30.020/HLS.L30.T16RBU.2023212T163147.v2.0/HLS.L30.T16RBU.2023212T163147.v2.0.B03.tif>,\n",
              "  <File-like object HTTPFileSystem, https://data.lpdaac.earthdatacloud.nasa.gov/lp-prod-protected/HLSL30.020/HLS.L30.T16RBU.2023212T163147.v2.0/HLS.L30.T16RBU.2023212T163147.v2.0.B09.tif>,\n",
              "  <File-like object HTTPFileSystem, https://data.lpdaac.earthdatacloud.nasa.gov/lp-prod-protected/HLSL30.020/HLS.L30.T16RBU.2023212T163147.v2.0/HLS.L30.T16RBU.2023212T163147.v2.0.SZA.tif>,\n",
              "  <File-like object HTTPFileSystem, https://data.lpdaac.earthdatacloud.nasa.gov/lp-prod-protected/HLSL30.020/HLS.L30.T16RBU.2023212T163147.v2.0/HLS.L30.T16RBU.2023212T163147.v2.0.SAA.tif>],\n",
              " [<File-like object HTTPFileSystem, https://data.lpdaac.earthdatacloud.nasa.gov/lp-prod-protected/HLSL30.020/HLS.L30.T16RBT.2023212T163147.v2.0/HLS.L30.T16RBT.2023212T163147.v2.0.B10.tif>,\n",
              "  <File-like object HTTPFileSystem, https://data.lpdaac.earthdatacloud.nasa.gov/lp-prod-protected/HLSL30.020/HLS.L30.T16RBT.2023212T163147.v2.0/HLS.L30.T16RBT.2023212T163147.v2.0.VAA.tif>,\n",
              "  <File-like object HTTPFileSystem, https://data.lpdaac.earthdatacloud.nasa.gov/lp-prod-protected/HLSL30.020/HLS.L30.T16RBT.2023212T163147.v2.0/HLS.L30.T16RBT.2023212T163147.v2.0.B01.tif>,\n",
              "  <File-like object HTTPFileSystem, https://data.lpdaac.earthdatacloud.nasa.gov/lp-prod-protected/HLSL30.020/HLS.L30.T16RBT.2023212T163147.v2.0/HLS.L30.T16RBT.2023212T163147.v2.0.B02.tif>,\n",
              "  <File-like object HTTPFileSystem, https://data.lpdaac.earthdatacloud.nasa.gov/lp-prod-protected/HLSL30.020/HLS.L30.T16RBT.2023212T163147.v2.0/HLS.L30.T16RBT.2023212T163147.v2.0.SZA.tif>,\n",
              "  <File-like object HTTPFileSystem, https://data.lpdaac.earthdatacloud.nasa.gov/lp-prod-protected/HLSL30.020/HLS.L30.T16RBT.2023212T163147.v2.0/HLS.L30.T16RBT.2023212T163147.v2.0.SAA.tif>,\n",
              "  <File-like object HTTPFileSystem, https://data.lpdaac.earthdatacloud.nasa.gov/lp-prod-protected/HLSL30.020/HLS.L30.T16RBT.2023212T163147.v2.0/HLS.L30.T16RBT.2023212T163147.v2.0.B09.tif>,\n",
              "  <File-like object HTTPFileSystem, https://data.lpdaac.earthdatacloud.nasa.gov/lp-prod-protected/HLSL30.020/HLS.L30.T16RBT.2023212T163147.v2.0/HLS.L30.T16RBT.2023212T163147.v2.0.B05.tif>,\n",
              "  <File-like object HTTPFileSystem, https://data.lpdaac.earthdatacloud.nasa.gov/lp-prod-protected/HLSL30.020/HLS.L30.T16RBT.2023212T163147.v2.0/HLS.L30.T16RBT.2023212T163147.v2.0.B06.tif>,\n",
              "  <File-like object HTTPFileSystem, https://data.lpdaac.earthdatacloud.nasa.gov/lp-prod-protected/HLSL30.020/HLS.L30.T16RBT.2023212T163147.v2.0/HLS.L30.T16RBT.2023212T163147.v2.0.B03.tif>,\n",
              "  <File-like object HTTPFileSystem, https://data.lpdaac.earthdatacloud.nasa.gov/lp-prod-protected/HLSL30.020/HLS.L30.T16RBT.2023212T163147.v2.0/HLS.L30.T16RBT.2023212T163147.v2.0.B04.tif>,\n",
              "  <File-like object HTTPFileSystem, https://data.lpdaac.earthdatacloud.nasa.gov/lp-prod-protected/HLSL30.020/HLS.L30.T16RBT.2023212T163147.v2.0/HLS.L30.T16RBT.2023212T163147.v2.0.VZA.tif>,\n",
              "  <File-like object HTTPFileSystem, https://data.lpdaac.earthdatacloud.nasa.gov/lp-prod-protected/HLSL30.020/HLS.L30.T16RBT.2023212T163147.v2.0/HLS.L30.T16RBT.2023212T163147.v2.0.Fmask.tif>,\n",
              "  <File-like object HTTPFileSystem, https://data.lpdaac.earthdatacloud.nasa.gov/lp-prod-protected/HLSL30.020/HLS.L30.T16RBT.2023212T163147.v2.0/HLS.L30.T16RBT.2023212T163147.v2.0.B07.tif>,\n",
              "  <File-like object HTTPFileSystem, https://data.lpdaac.earthdatacloud.nasa.gov/lp-prod-protected/HLSL30.020/HLS.L30.T16RBT.2023212T163147.v2.0/HLS.L30.T16RBT.2023212T163147.v2.0.B11.tif>],\n",
              " [<File-like object HTTPFileSystem, https://data.lpdaac.earthdatacloud.nasa.gov/lp-prod-protected/HLSL30.020/HLS.L30.T15RYN.2023212T163147.v2.0/HLS.L30.T15RYN.2023212T163147.v2.0.B03.tif>,\n",
              "  <File-like object HTTPFileSystem, https://data.lpdaac.earthdatacloud.nasa.gov/lp-prod-protected/HLSL30.020/HLS.L30.T15RYN.2023212T163147.v2.0/HLS.L30.T15RYN.2023212T163147.v2.0.SZA.tif>,\n",
              "  <File-like object HTTPFileSystem, https://data.lpdaac.earthdatacloud.nasa.gov/lp-prod-protected/HLSL30.020/HLS.L30.T15RYN.2023212T163147.v2.0/HLS.L30.T15RYN.2023212T163147.v2.0.B11.tif>,\n",
              "  <File-like object HTTPFileSystem, https://data.lpdaac.earthdatacloud.nasa.gov/lp-prod-protected/HLSL30.020/HLS.L30.T15RYN.2023212T163147.v2.0/HLS.L30.T15RYN.2023212T163147.v2.0.Fmask.tif>,\n",
              "  <File-like object HTTPFileSystem, https://data.lpdaac.earthdatacloud.nasa.gov/lp-prod-protected/HLSL30.020/HLS.L30.T15RYN.2023212T163147.v2.0/HLS.L30.T15RYN.2023212T163147.v2.0.B04.tif>,\n",
              "  <File-like object HTTPFileSystem, https://data.lpdaac.earthdatacloud.nasa.gov/lp-prod-protected/HLSL30.020/HLS.L30.T15RYN.2023212T163147.v2.0/HLS.L30.T15RYN.2023212T163147.v2.0.B01.tif>,\n",
              "  <File-like object HTTPFileSystem, https://data.lpdaac.earthdatacloud.nasa.gov/lp-prod-protected/HLSL30.020/HLS.L30.T15RYN.2023212T163147.v2.0/HLS.L30.T15RYN.2023212T163147.v2.0.B07.tif>,\n",
              "  <File-like object HTTPFileSystem, https://data.lpdaac.earthdatacloud.nasa.gov/lp-prod-protected/HLSL30.020/HLS.L30.T15RYN.2023212T163147.v2.0/HLS.L30.T15RYN.2023212T163147.v2.0.B09.tif>,\n",
              "  <File-like object HTTPFileSystem, https://data.lpdaac.earthdatacloud.nasa.gov/lp-prod-protected/HLSL30.020/HLS.L30.T15RYN.2023212T163147.v2.0/HLS.L30.T15RYN.2023212T163147.v2.0.B05.tif>,\n",
              "  <File-like object HTTPFileSystem, https://data.lpdaac.earthdatacloud.nasa.gov/lp-prod-protected/HLSL30.020/HLS.L30.T15RYN.2023212T163147.v2.0/HLS.L30.T15RYN.2023212T163147.v2.0.VZA.tif>,\n",
              "  <File-like object HTTPFileSystem, https://data.lpdaac.earthdatacloud.nasa.gov/lp-prod-protected/HLSL30.020/HLS.L30.T15RYN.2023212T163147.v2.0/HLS.L30.T15RYN.2023212T163147.v2.0.B02.tif>,\n",
              "  <File-like object HTTPFileSystem, https://data.lpdaac.earthdatacloud.nasa.gov/lp-prod-protected/HLSL30.020/HLS.L30.T15RYN.2023212T163147.v2.0/HLS.L30.T15RYN.2023212T163147.v2.0.B06.tif>,\n",
              "  <File-like object HTTPFileSystem, https://data.lpdaac.earthdatacloud.nasa.gov/lp-prod-protected/HLSL30.020/HLS.L30.T15RYN.2023212T163147.v2.0/HLS.L30.T15RYN.2023212T163147.v2.0.VAA.tif>,\n",
              "  <File-like object HTTPFileSystem, https://data.lpdaac.earthdatacloud.nasa.gov/lp-prod-protected/HLSL30.020/HLS.L30.T15RYN.2023212T163147.v2.0/HLS.L30.T15RYN.2023212T163147.v2.0.B10.tif>,\n",
              "  <File-like object HTTPFileSystem, https://data.lpdaac.earthdatacloud.nasa.gov/lp-prod-protected/HLSL30.020/HLS.L30.T15RYN.2023212T163147.v2.0/HLS.L30.T15RYN.2023212T163147.v2.0.SAA.tif>],\n",
              " [<File-like object HTTPFileSystem, https://data.lpdaac.earthdatacloud.nasa.gov/lp-prod-protected/HLSL30.020/HLS.L30.T15RYP.2023212T163147.v2.0/HLS.L30.T15RYP.2023212T163147.v2.0.B03.tif>,\n",
              "  <File-like object HTTPFileSystem, https://data.lpdaac.earthdatacloud.nasa.gov/lp-prod-protected/HLSL30.020/HLS.L30.T15RYP.2023212T163147.v2.0/HLS.L30.T15RYP.2023212T163147.v2.0.B04.tif>,\n",
              "  <File-like object HTTPFileSystem, https://data.lpdaac.earthdatacloud.nasa.gov/lp-prod-protected/HLSL30.020/HLS.L30.T15RYP.2023212T163147.v2.0/HLS.L30.T15RYP.2023212T163147.v2.0.B10.tif>,\n",
              "  <File-like object HTTPFileSystem, https://data.lpdaac.earthdatacloud.nasa.gov/lp-prod-protected/HLSL30.020/HLS.L30.T15RYP.2023212T163147.v2.0/HLS.L30.T15RYP.2023212T163147.v2.0.VAA.tif>,\n",
              "  <File-like object HTTPFileSystem, https://data.lpdaac.earthdatacloud.nasa.gov/lp-prod-protected/HLSL30.020/HLS.L30.T15RYP.2023212T163147.v2.0/HLS.L30.T15RYP.2023212T163147.v2.0.SAA.tif>,\n",
              "  <File-like object HTTPFileSystem, https://data.lpdaac.earthdatacloud.nasa.gov/lp-prod-protected/HLSL30.020/HLS.L30.T15RYP.2023212T163147.v2.0/HLS.L30.T15RYP.2023212T163147.v2.0.Fmask.tif>,\n",
              "  <File-like object HTTPFileSystem, https://data.lpdaac.earthdatacloud.nasa.gov/lp-prod-protected/HLSL30.020/HLS.L30.T15RYP.2023212T163147.v2.0/HLS.L30.T15RYP.2023212T163147.v2.0.SZA.tif>,\n",
              "  <File-like object HTTPFileSystem, https://data.lpdaac.earthdatacloud.nasa.gov/lp-prod-protected/HLSL30.020/HLS.L30.T15RYP.2023212T163147.v2.0/HLS.L30.T15RYP.2023212T163147.v2.0.B11.tif>,\n",
              "  <File-like object HTTPFileSystem, https://data.lpdaac.earthdatacloud.nasa.gov/lp-prod-protected/HLSL30.020/HLS.L30.T15RYP.2023212T163147.v2.0/HLS.L30.T15RYP.2023212T163147.v2.0.B06.tif>,\n",
              "  <File-like object HTTPFileSystem, https://data.lpdaac.earthdatacloud.nasa.gov/lp-prod-protected/HLSL30.020/HLS.L30.T15RYP.2023212T163147.v2.0/HLS.L30.T15RYP.2023212T163147.v2.0.B09.tif>,\n",
              "  <File-like object HTTPFileSystem, https://data.lpdaac.earthdatacloud.nasa.gov/lp-prod-protected/HLSL30.020/HLS.L30.T15RYP.2023212T163147.v2.0/HLS.L30.T15RYP.2023212T163147.v2.0.B07.tif>,\n",
              "  <File-like object HTTPFileSystem, https://data.lpdaac.earthdatacloud.nasa.gov/lp-prod-protected/HLSL30.020/HLS.L30.T15RYP.2023212T163147.v2.0/HLS.L30.T15RYP.2023212T163147.v2.0.VZA.tif>,\n",
              "  <File-like object HTTPFileSystem, https://data.lpdaac.earthdatacloud.nasa.gov/lp-prod-protected/HLSL30.020/HLS.L30.T15RYP.2023212T163147.v2.0/HLS.L30.T15RYP.2023212T163147.v2.0.B01.tif>,\n",
              "  <File-like object HTTPFileSystem, https://data.lpdaac.earthdatacloud.nasa.gov/lp-prod-protected/HLSL30.020/HLS.L30.T15RYP.2023212T163147.v2.0/HLS.L30.T15RYP.2023212T163147.v2.0.B02.tif>,\n",
              "  <File-like object HTTPFileSystem, https://data.lpdaac.earthdatacloud.nasa.gov/lp-prod-protected/HLSL30.020/HLS.L30.T15RYP.2023212T163147.v2.0/HLS.L30.T15RYP.2023212T163147.v2.0.B05.tif>],\n",
              " [<File-like object HTTPFileSystem, https://data.lpdaac.earthdatacloud.nasa.gov/lp-prod-protected/HLSL30.020/HLS.L30.T16RBU.2023220T163157.v2.0/HLS.L30.T16RBU.2023220T163157.v2.0.VZA.tif>,\n",
              "  <File-like object HTTPFileSystem, https://data.lpdaac.earthdatacloud.nasa.gov/lp-prod-protected/HLSL30.020/HLS.L30.T16RBU.2023220T163157.v2.0/HLS.L30.T16RBU.2023220T163157.v2.0.SAA.tif>,\n",
              "  <File-like object HTTPFileSystem, https://data.lpdaac.earthdatacloud.nasa.gov/lp-prod-protected/HLSL30.020/HLS.L30.T16RBU.2023220T163157.v2.0/HLS.L30.T16RBU.2023220T163157.v2.0.B01.tif>,\n",
              "  <File-like object HTTPFileSystem, https://data.lpdaac.earthdatacloud.nasa.gov/lp-prod-protected/HLSL30.020/HLS.L30.T16RBU.2023220T163157.v2.0/HLS.L30.T16RBU.2023220T163157.v2.0.B07.tif>,\n",
              "  <File-like object HTTPFileSystem, https://data.lpdaac.earthdatacloud.nasa.gov/lp-prod-protected/HLSL30.020/HLS.L30.T16RBU.2023220T163157.v2.0/HLS.L30.T16RBU.2023220T163157.v2.0.B11.tif>,\n",
              "  <File-like object HTTPFileSystem, https://data.lpdaac.earthdatacloud.nasa.gov/lp-prod-protected/HLSL30.020/HLS.L30.T16RBU.2023220T163157.v2.0/HLS.L30.T16RBU.2023220T163157.v2.0.B04.tif>,\n",
              "  <File-like object HTTPFileSystem, https://data.lpdaac.earthdatacloud.nasa.gov/lp-prod-protected/HLSL30.020/HLS.L30.T16RBU.2023220T163157.v2.0/HLS.L30.T16RBU.2023220T163157.v2.0.SZA.tif>,\n",
              "  <File-like object HTTPFileSystem, https://data.lpdaac.earthdatacloud.nasa.gov/lp-prod-protected/HLSL30.020/HLS.L30.T16RBU.2023220T163157.v2.0/HLS.L30.T16RBU.2023220T163157.v2.0.B03.tif>,\n",
              "  <File-like object HTTPFileSystem, https://data.lpdaac.earthdatacloud.nasa.gov/lp-prod-protected/HLSL30.020/HLS.L30.T16RBU.2023220T163157.v2.0/HLS.L30.T16RBU.2023220T163157.v2.0.VAA.tif>,\n",
              "  <File-like object HTTPFileSystem, https://data.lpdaac.earthdatacloud.nasa.gov/lp-prod-protected/HLSL30.020/HLS.L30.T16RBU.2023220T163157.v2.0/HLS.L30.T16RBU.2023220T163157.v2.0.B02.tif>,\n",
              "  <File-like object HTTPFileSystem, https://data.lpdaac.earthdatacloud.nasa.gov/lp-prod-protected/HLSL30.020/HLS.L30.T16RBU.2023220T163157.v2.0/HLS.L30.T16RBU.2023220T163157.v2.0.Fmask.tif>,\n",
              "  <File-like object HTTPFileSystem, https://data.lpdaac.earthdatacloud.nasa.gov/lp-prod-protected/HLSL30.020/HLS.L30.T16RBU.2023220T163157.v2.0/HLS.L30.T16RBU.2023220T163157.v2.0.B05.tif>,\n",
              "  <File-like object HTTPFileSystem, https://data.lpdaac.earthdatacloud.nasa.gov/lp-prod-protected/HLSL30.020/HLS.L30.T16RBU.2023220T163157.v2.0/HLS.L30.T16RBU.2023220T163157.v2.0.B10.tif>,\n",
              "  <File-like object HTTPFileSystem, https://data.lpdaac.earthdatacloud.nasa.gov/lp-prod-protected/HLSL30.020/HLS.L30.T16RBU.2023220T163157.v2.0/HLS.L30.T16RBU.2023220T163157.v2.0.B06.tif>,\n",
              "  <File-like object HTTPFileSystem, https://data.lpdaac.earthdatacloud.nasa.gov/lp-prod-protected/HLSL30.020/HLS.L30.T16RBU.2023220T163157.v2.0/HLS.L30.T16RBU.2023220T163157.v2.0.B09.tif>],\n",
              " [<File-like object HTTPFileSystem, https://data.lpdaac.earthdatacloud.nasa.gov/lp-prod-protected/HLSL30.020/HLS.L30.T15RYN.2023220T163157.v2.0/HLS.L30.T15RYN.2023220T163157.v2.0.B04.tif>,\n",
              "  <File-like object HTTPFileSystem, https://data.lpdaac.earthdatacloud.nasa.gov/lp-prod-protected/HLSL30.020/HLS.L30.T15RYN.2023220T163157.v2.0/HLS.L30.T15RYN.2023220T163157.v2.0.B03.tif>,\n",
              "  <File-like object HTTPFileSystem, https://data.lpdaac.earthdatacloud.nasa.gov/lp-prod-protected/HLSL30.020/HLS.L30.T15RYN.2023220T163157.v2.0/HLS.L30.T15RYN.2023220T163157.v2.0.VZA.tif>,\n",
              "  <File-like object HTTPFileSystem, https://data.lpdaac.earthdatacloud.nasa.gov/lp-prod-protected/HLSL30.020/HLS.L30.T15RYN.2023220T163157.v2.0/HLS.L30.T15RYN.2023220T163157.v2.0.B01.tif>,\n",
              "  <File-like object HTTPFileSystem, https://data.lpdaac.earthdatacloud.nasa.gov/lp-prod-protected/HLSL30.020/HLS.L30.T15RYN.2023220T163157.v2.0/HLS.L30.T15RYN.2023220T163157.v2.0.VAA.tif>,\n",
              "  <File-like object HTTPFileSystem, https://data.lpdaac.earthdatacloud.nasa.gov/lp-prod-protected/HLSL30.020/HLS.L30.T15RYN.2023220T163157.v2.0/HLS.L30.T15RYN.2023220T163157.v2.0.B07.tif>,\n",
              "  <File-like object HTTPFileSystem, https://data.lpdaac.earthdatacloud.nasa.gov/lp-prod-protected/HLSL30.020/HLS.L30.T15RYN.2023220T163157.v2.0/HLS.L30.T15RYN.2023220T163157.v2.0.SAA.tif>,\n",
              "  <File-like object HTTPFileSystem, https://data.lpdaac.earthdatacloud.nasa.gov/lp-prod-protected/HLSL30.020/HLS.L30.T15RYN.2023220T163157.v2.0/HLS.L30.T15RYN.2023220T163157.v2.0.B06.tif>,\n",
              "  <File-like object HTTPFileSystem, https://data.lpdaac.earthdatacloud.nasa.gov/lp-prod-protected/HLSL30.020/HLS.L30.T15RYN.2023220T163157.v2.0/HLS.L30.T15RYN.2023220T163157.v2.0.B10.tif>,\n",
              "  <File-like object HTTPFileSystem, https://data.lpdaac.earthdatacloud.nasa.gov/lp-prod-protected/HLSL30.020/HLS.L30.T15RYN.2023220T163157.v2.0/HLS.L30.T15RYN.2023220T163157.v2.0.B02.tif>,\n",
              "  <File-like object HTTPFileSystem, https://data.lpdaac.earthdatacloud.nasa.gov/lp-prod-protected/HLSL30.020/HLS.L30.T15RYN.2023220T163157.v2.0/HLS.L30.T15RYN.2023220T163157.v2.0.B05.tif>,\n",
              "  <File-like object HTTPFileSystem, https://data.lpdaac.earthdatacloud.nasa.gov/lp-prod-protected/HLSL30.020/HLS.L30.T15RYN.2023220T163157.v2.0/HLS.L30.T15RYN.2023220T163157.v2.0.SZA.tif>,\n",
              "  <File-like object HTTPFileSystem, https://data.lpdaac.earthdatacloud.nasa.gov/lp-prod-protected/HLSL30.020/HLS.L30.T15RYN.2023220T163157.v2.0/HLS.L30.T15RYN.2023220T163157.v2.0.B09.tif>,\n",
              "  <File-like object HTTPFileSystem, https://data.lpdaac.earthdatacloud.nasa.gov/lp-prod-protected/HLSL30.020/HLS.L30.T15RYN.2023220T163157.v2.0/HLS.L30.T15RYN.2023220T163157.v2.0.B11.tif>,\n",
              "  <File-like object HTTPFileSystem, https://data.lpdaac.earthdatacloud.nasa.gov/lp-prod-protected/HLSL30.020/HLS.L30.T15RYN.2023220T163157.v2.0/HLS.L30.T15RYN.2023220T163157.v2.0.Fmask.tif>],\n",
              " [<File-like object HTTPFileSystem, https://data.lpdaac.earthdatacloud.nasa.gov/lp-prod-protected/HLSL30.020/HLS.L30.T15RYP.2023220T163157.v2.0/HLS.L30.T15RYP.2023220T163157.v2.0.VZA.tif>,\n",
              "  <File-like object HTTPFileSystem, https://data.lpdaac.earthdatacloud.nasa.gov/lp-prod-protected/HLSL30.020/HLS.L30.T15RYP.2023220T163157.v2.0/HLS.L30.T15RYP.2023220T163157.v2.0.VAA.tif>,\n",
              "  <File-like object HTTPFileSystem, https://data.lpdaac.earthdatacloud.nasa.gov/lp-prod-protected/HLSL30.020/HLS.L30.T15RYP.2023220T163157.v2.0/HLS.L30.T15RYP.2023220T163157.v2.0.Fmask.tif>,\n",
              "  <File-like object HTTPFileSystem, https://data.lpdaac.earthdatacloud.nasa.gov/lp-prod-protected/HLSL30.020/HLS.L30.T15RYP.2023220T163157.v2.0/HLS.L30.T15RYP.2023220T163157.v2.0.B07.tif>,\n",
              "  <File-like object HTTPFileSystem, https://data.lpdaac.earthdatacloud.nasa.gov/lp-prod-protected/HLSL30.020/HLS.L30.T15RYP.2023220T163157.v2.0/HLS.L30.T15RYP.2023220T163157.v2.0.B05.tif>,\n",
              "  <File-like object HTTPFileSystem, https://data.lpdaac.earthdatacloud.nasa.gov/lp-prod-protected/HLSL30.020/HLS.L30.T15RYP.2023220T163157.v2.0/HLS.L30.T15RYP.2023220T163157.v2.0.B02.tif>,\n",
              "  <File-like object HTTPFileSystem, https://data.lpdaac.earthdatacloud.nasa.gov/lp-prod-protected/HLSL30.020/HLS.L30.T15RYP.2023220T163157.v2.0/HLS.L30.T15RYP.2023220T163157.v2.0.B10.tif>,\n",
              "  <File-like object HTTPFileSystem, https://data.lpdaac.earthdatacloud.nasa.gov/lp-prod-protected/HLSL30.020/HLS.L30.T15RYP.2023220T163157.v2.0/HLS.L30.T15RYP.2023220T163157.v2.0.B06.tif>,\n",
              "  <File-like object HTTPFileSystem, https://data.lpdaac.earthdatacloud.nasa.gov/lp-prod-protected/HLSL30.020/HLS.L30.T15RYP.2023220T163157.v2.0/HLS.L30.T15RYP.2023220T163157.v2.0.B09.tif>,\n",
              "  <File-like object HTTPFileSystem, https://data.lpdaac.earthdatacloud.nasa.gov/lp-prod-protected/HLSL30.020/HLS.L30.T15RYP.2023220T163157.v2.0/HLS.L30.T15RYP.2023220T163157.v2.0.B03.tif>,\n",
              "  <File-like object HTTPFileSystem, https://data.lpdaac.earthdatacloud.nasa.gov/lp-prod-protected/HLSL30.020/HLS.L30.T15RYP.2023220T163157.v2.0/HLS.L30.T15RYP.2023220T163157.v2.0.SZA.tif>,\n",
              "  <File-like object HTTPFileSystem, https://data.lpdaac.earthdatacloud.nasa.gov/lp-prod-protected/HLSL30.020/HLS.L30.T15RYP.2023220T163157.v2.0/HLS.L30.T15RYP.2023220T163157.v2.0.B04.tif>,\n",
              "  <File-like object HTTPFileSystem, https://data.lpdaac.earthdatacloud.nasa.gov/lp-prod-protected/HLSL30.020/HLS.L30.T15RYP.2023220T163157.v2.0/HLS.L30.T15RYP.2023220T163157.v2.0.B11.tif>,\n",
              "  <File-like object HTTPFileSystem, https://data.lpdaac.earthdatacloud.nasa.gov/lp-prod-protected/HLSL30.020/HLS.L30.T15RYP.2023220T163157.v2.0/HLS.L30.T15RYP.2023220T163157.v2.0.SAA.tif>,\n",
              "  <File-like object HTTPFileSystem, https://data.lpdaac.earthdatacloud.nasa.gov/lp-prod-protected/HLSL30.020/HLS.L30.T15RYP.2023220T163157.v2.0/HLS.L30.T15RYP.2023220T163157.v2.0.B01.tif>],\n",
              " [<File-like object HTTPFileSystem, https://data.lpdaac.earthdatacloud.nasa.gov/lp-prod-protected/HLSL30.020/HLS.L30.T16RBT.2023220T163157.v2.0/HLS.L30.T16RBT.2023220T163157.v2.0.B10.tif>,\n",
              "  <File-like object HTTPFileSystem, https://data.lpdaac.earthdatacloud.nasa.gov/lp-prod-protected/HLSL30.020/HLS.L30.T16RBT.2023220T163157.v2.0/HLS.L30.T16RBT.2023220T163157.v2.0.B02.tif>,\n",
              "  <File-like object HTTPFileSystem, https://data.lpdaac.earthdatacloud.nasa.gov/lp-prod-protected/HLSL30.020/HLS.L30.T16RBT.2023220T163157.v2.0/HLS.L30.T16RBT.2023220T163157.v2.0.B01.tif>,\n",
              "  <File-like object HTTPFileSystem, https://data.lpdaac.earthdatacloud.nasa.gov/lp-prod-protected/HLSL30.020/HLS.L30.T16RBT.2023220T163157.v2.0/HLS.L30.T16RBT.2023220T163157.v2.0.VZA.tif>,\n",
              "  <File-like object HTTPFileSystem, https://data.lpdaac.earthdatacloud.nasa.gov/lp-prod-protected/HLSL30.020/HLS.L30.T16RBT.2023220T163157.v2.0/HLS.L30.T16RBT.2023220T163157.v2.0.VAA.tif>,\n",
              "  <File-like object HTTPFileSystem, https://data.lpdaac.earthdatacloud.nasa.gov/lp-prod-protected/HLSL30.020/HLS.L30.T16RBT.2023220T163157.v2.0/HLS.L30.T16RBT.2023220T163157.v2.0.Fmask.tif>,\n",
              "  <File-like object HTTPFileSystem, https://data.lpdaac.earthdatacloud.nasa.gov/lp-prod-protected/HLSL30.020/HLS.L30.T16RBT.2023220T163157.v2.0/HLS.L30.T16RBT.2023220T163157.v2.0.B06.tif>,\n",
              "  <File-like object HTTPFileSystem, https://data.lpdaac.earthdatacloud.nasa.gov/lp-prod-protected/HLSL30.020/HLS.L30.T16RBT.2023220T163157.v2.0/HLS.L30.T16RBT.2023220T163157.v2.0.B03.tif>,\n",
              "  <File-like object HTTPFileSystem, https://data.lpdaac.earthdatacloud.nasa.gov/lp-prod-protected/HLSL30.020/HLS.L30.T16RBT.2023220T163157.v2.0/HLS.L30.T16RBT.2023220T163157.v2.0.SZA.tif>,\n",
              "  <File-like object HTTPFileSystem, https://data.lpdaac.earthdatacloud.nasa.gov/lp-prod-protected/HLSL30.020/HLS.L30.T16RBT.2023220T163157.v2.0/HLS.L30.T16RBT.2023220T163157.v2.0.B05.tif>,\n",
              "  <File-like object HTTPFileSystem, https://data.lpdaac.earthdatacloud.nasa.gov/lp-prod-protected/HLSL30.020/HLS.L30.T16RBT.2023220T163157.v2.0/HLS.L30.T16RBT.2023220T163157.v2.0.B07.tif>,\n",
              "  <File-like object HTTPFileSystem, https://data.lpdaac.earthdatacloud.nasa.gov/lp-prod-protected/HLSL30.020/HLS.L30.T16RBT.2023220T163157.v2.0/HLS.L30.T16RBT.2023220T163157.v2.0.SAA.tif>,\n",
              "  <File-like object HTTPFileSystem, https://data.lpdaac.earthdatacloud.nasa.gov/lp-prod-protected/HLSL30.020/HLS.L30.T16RBT.2023220T163157.v2.0/HLS.L30.T16RBT.2023220T163157.v2.0.B04.tif>,\n",
              "  <File-like object HTTPFileSystem, https://data.lpdaac.earthdatacloud.nasa.gov/lp-prod-protected/HLSL30.020/HLS.L30.T16RBT.2023220T163157.v2.0/HLS.L30.T16RBT.2023220T163157.v2.0.B11.tif>,\n",
              "  <File-like object HTTPFileSystem, https://data.lpdaac.earthdatacloud.nasa.gov/lp-prod-protected/HLSL30.020/HLS.L30.T16RBT.2023220T163157.v2.0/HLS.L30.T16RBT.2023220T163157.v2.0.B09.tif>],\n",
              " [<File-like object HTTPFileSystem, https://data.lpdaac.earthdatacloud.nasa.gov/lp-prod-protected/HLSL30.020/HLS.L30.T15RYP.2023228T163152.v2.0/HLS.L30.T15RYP.2023228T163152.v2.0.B02.tif>,\n",
              "  <File-like object HTTPFileSystem, https://data.lpdaac.earthdatacloud.nasa.gov/lp-prod-protected/HLSL30.020/HLS.L30.T15RYP.2023228T163152.v2.0/HLS.L30.T15RYP.2023228T163152.v2.0.SAA.tif>,\n",
              "  <File-like object HTTPFileSystem, https://data.lpdaac.earthdatacloud.nasa.gov/lp-prod-protected/HLSL30.020/HLS.L30.T15RYP.2023228T163152.v2.0/HLS.L30.T15RYP.2023228T163152.v2.0.SZA.tif>,\n",
              "  <File-like object HTTPFileSystem, https://data.lpdaac.earthdatacloud.nasa.gov/lp-prod-protected/HLSL30.020/HLS.L30.T15RYP.2023228T163152.v2.0/HLS.L30.T15RYP.2023228T163152.v2.0.B07.tif>,\n",
              "  <File-like object HTTPFileSystem, https://data.lpdaac.earthdatacloud.nasa.gov/lp-prod-protected/HLSL30.020/HLS.L30.T15RYP.2023228T163152.v2.0/HLS.L30.T15RYP.2023228T163152.v2.0.B04.tif>,\n",
              "  <File-like object HTTPFileSystem, https://data.lpdaac.earthdatacloud.nasa.gov/lp-prod-protected/HLSL30.020/HLS.L30.T15RYP.2023228T163152.v2.0/HLS.L30.T15RYP.2023228T163152.v2.0.B05.tif>,\n",
              "  <File-like object HTTPFileSystem, https://data.lpdaac.earthdatacloud.nasa.gov/lp-prod-protected/HLSL30.020/HLS.L30.T15RYP.2023228T163152.v2.0/HLS.L30.T15RYP.2023228T163152.v2.0.Fmask.tif>,\n",
              "  <File-like object HTTPFileSystem, https://data.lpdaac.earthdatacloud.nasa.gov/lp-prod-protected/HLSL30.020/HLS.L30.T15RYP.2023228T163152.v2.0/HLS.L30.T15RYP.2023228T163152.v2.0.B03.tif>,\n",
              "  <File-like object HTTPFileSystem, https://data.lpdaac.earthdatacloud.nasa.gov/lp-prod-protected/HLSL30.020/HLS.L30.T15RYP.2023228T163152.v2.0/HLS.L30.T15RYP.2023228T163152.v2.0.VAA.tif>,\n",
              "  <File-like object HTTPFileSystem, https://data.lpdaac.earthdatacloud.nasa.gov/lp-prod-protected/HLSL30.020/HLS.L30.T15RYP.2023228T163152.v2.0/HLS.L30.T15RYP.2023228T163152.v2.0.B01.tif>,\n",
              "  <File-like object HTTPFileSystem, https://data.lpdaac.earthdatacloud.nasa.gov/lp-prod-protected/HLSL30.020/HLS.L30.T15RYP.2023228T163152.v2.0/HLS.L30.T15RYP.2023228T163152.v2.0.B11.tif>,\n",
              "  <File-like object HTTPFileSystem, https://data.lpdaac.earthdatacloud.nasa.gov/lp-prod-protected/HLSL30.020/HLS.L30.T15RYP.2023228T163152.v2.0/HLS.L30.T15RYP.2023228T163152.v2.0.B09.tif>,\n",
              "  <File-like object HTTPFileSystem, https://data.lpdaac.earthdatacloud.nasa.gov/lp-prod-protected/HLSL30.020/HLS.L30.T15RYP.2023228T163152.v2.0/HLS.L30.T15RYP.2023228T163152.v2.0.B10.tif>,\n",
              "  <File-like object HTTPFileSystem, https://data.lpdaac.earthdatacloud.nasa.gov/lp-prod-protected/HLSL30.020/HLS.L30.T15RYP.2023228T163152.v2.0/HLS.L30.T15RYP.2023228T163152.v2.0.VZA.tif>,\n",
              "  <File-like object HTTPFileSystem, https://data.lpdaac.earthdatacloud.nasa.gov/lp-prod-protected/HLSL30.020/HLS.L30.T15RYP.2023228T163152.v2.0/HLS.L30.T15RYP.2023228T163152.v2.0.B06.tif>],\n",
              " [<File-like object HTTPFileSystem, https://data.lpdaac.earthdatacloud.nasa.gov/lp-prod-protected/HLSL30.020/HLS.L30.T16RBU.2023228T163152.v2.0/HLS.L30.T16RBU.2023228T163152.v2.0.B04.tif>,\n",
              "  <File-like object HTTPFileSystem, https://data.lpdaac.earthdatacloud.nasa.gov/lp-prod-protected/HLSL30.020/HLS.L30.T16RBU.2023228T163152.v2.0/HLS.L30.T16RBU.2023228T163152.v2.0.SAA.tif>,\n",
              "  <File-like object HTTPFileSystem, https://data.lpdaac.earthdatacloud.nasa.gov/lp-prod-protected/HLSL30.020/HLS.L30.T16RBU.2023228T163152.v2.0/HLS.L30.T16RBU.2023228T163152.v2.0.B03.tif>,\n",
              "  <File-like object HTTPFileSystem, https://data.lpdaac.earthdatacloud.nasa.gov/lp-prod-protected/HLSL30.020/HLS.L30.T16RBU.2023228T163152.v2.0/HLS.L30.T16RBU.2023228T163152.v2.0.B09.tif>,\n",
              "  <File-like object HTTPFileSystem, https://data.lpdaac.earthdatacloud.nasa.gov/lp-prod-protected/HLSL30.020/HLS.L30.T16RBU.2023228T163152.v2.0/HLS.L30.T16RBU.2023228T163152.v2.0.B10.tif>,\n",
              "  <File-like object HTTPFileSystem, https://data.lpdaac.earthdatacloud.nasa.gov/lp-prod-protected/HLSL30.020/HLS.L30.T16RBU.2023228T163152.v2.0/HLS.L30.T16RBU.2023228T163152.v2.0.B01.tif>,\n",
              "  <File-like object HTTPFileSystem, https://data.lpdaac.earthdatacloud.nasa.gov/lp-prod-protected/HLSL30.020/HLS.L30.T16RBU.2023228T163152.v2.0/HLS.L30.T16RBU.2023228T163152.v2.0.VAA.tif>,\n",
              "  <File-like object HTTPFileSystem, https://data.lpdaac.earthdatacloud.nasa.gov/lp-prod-protected/HLSL30.020/HLS.L30.T16RBU.2023228T163152.v2.0/HLS.L30.T16RBU.2023228T163152.v2.0.SZA.tif>,\n",
              "  <File-like object HTTPFileSystem, https://data.lpdaac.earthdatacloud.nasa.gov/lp-prod-protected/HLSL30.020/HLS.L30.T16RBU.2023228T163152.v2.0/HLS.L30.T16RBU.2023228T163152.v2.0.B02.tif>,\n",
              "  <File-like object HTTPFileSystem, https://data.lpdaac.earthdatacloud.nasa.gov/lp-prod-protected/HLSL30.020/HLS.L30.T16RBU.2023228T163152.v2.0/HLS.L30.T16RBU.2023228T163152.v2.0.B11.tif>,\n",
              "  <File-like object HTTPFileSystem, https://data.lpdaac.earthdatacloud.nasa.gov/lp-prod-protected/HLSL30.020/HLS.L30.T16RBU.2023228T163152.v2.0/HLS.L30.T16RBU.2023228T163152.v2.0.B07.tif>,\n",
              "  <File-like object HTTPFileSystem, https://data.lpdaac.earthdatacloud.nasa.gov/lp-prod-protected/HLSL30.020/HLS.L30.T16RBU.2023228T163152.v2.0/HLS.L30.T16RBU.2023228T163152.v2.0.B06.tif>,\n",
              "  <File-like object HTTPFileSystem, https://data.lpdaac.earthdatacloud.nasa.gov/lp-prod-protected/HLSL30.020/HLS.L30.T16RBU.2023228T163152.v2.0/HLS.L30.T16RBU.2023228T163152.v2.0.Fmask.tif>,\n",
              "  <File-like object HTTPFileSystem, https://data.lpdaac.earthdatacloud.nasa.gov/lp-prod-protected/HLSL30.020/HLS.L30.T16RBU.2023228T163152.v2.0/HLS.L30.T16RBU.2023228T163152.v2.0.B05.tif>,\n",
              "  <File-like object HTTPFileSystem, https://data.lpdaac.earthdatacloud.nasa.gov/lp-prod-protected/HLSL30.020/HLS.L30.T16RBU.2023228T163152.v2.0/HLS.L30.T16RBU.2023228T163152.v2.0.VZA.tif>],\n",
              " [<File-like object HTTPFileSystem, https://data.lpdaac.earthdatacloud.nasa.gov/lp-prod-protected/HLSL30.020/HLS.L30.T16RBT.2023228T163152.v2.0/HLS.L30.T16RBT.2023228T163152.v2.0.B06.tif>,\n",
              "  <File-like object HTTPFileSystem, https://data.lpdaac.earthdatacloud.nasa.gov/lp-prod-protected/HLSL30.020/HLS.L30.T16RBT.2023228T163152.v2.0/HLS.L30.T16RBT.2023228T163152.v2.0.B10.tif>,\n",
              "  <File-like object HTTPFileSystem, https://data.lpdaac.earthdatacloud.nasa.gov/lp-prod-protected/HLSL30.020/HLS.L30.T16RBT.2023228T163152.v2.0/HLS.L30.T16RBT.2023228T163152.v2.0.B04.tif>,\n",
              "  <File-like object HTTPFileSystem, https://data.lpdaac.earthdatacloud.nasa.gov/lp-prod-protected/HLSL30.020/HLS.L30.T16RBT.2023228T163152.v2.0/HLS.L30.T16RBT.2023228T163152.v2.0.VZA.tif>,\n",
              "  <File-like object HTTPFileSystem, https://data.lpdaac.earthdatacloud.nasa.gov/lp-prod-protected/HLSL30.020/HLS.L30.T16RBT.2023228T163152.v2.0/HLS.L30.T16RBT.2023228T163152.v2.0.B05.tif>,\n",
              "  <File-like object HTTPFileSystem, https://data.lpdaac.earthdatacloud.nasa.gov/lp-prod-protected/HLSL30.020/HLS.L30.T16RBT.2023228T163152.v2.0/HLS.L30.T16RBT.2023228T163152.v2.0.VAA.tif>,\n",
              "  <File-like object HTTPFileSystem, https://data.lpdaac.earthdatacloud.nasa.gov/lp-prod-protected/HLSL30.020/HLS.L30.T16RBT.2023228T163152.v2.0/HLS.L30.T16RBT.2023228T163152.v2.0.B09.tif>,\n",
              "  <File-like object HTTPFileSystem, https://data.lpdaac.earthdatacloud.nasa.gov/lp-prod-protected/HLSL30.020/HLS.L30.T16RBT.2023228T163152.v2.0/HLS.L30.T16RBT.2023228T163152.v2.0.Fmask.tif>,\n",
              "  <File-like object HTTPFileSystem, https://data.lpdaac.earthdatacloud.nasa.gov/lp-prod-protected/HLSL30.020/HLS.L30.T16RBT.2023228T163152.v2.0/HLS.L30.T16RBT.2023228T163152.v2.0.B11.tif>,\n",
              "  <File-like object HTTPFileSystem, https://data.lpdaac.earthdatacloud.nasa.gov/lp-prod-protected/HLSL30.020/HLS.L30.T16RBT.2023228T163152.v2.0/HLS.L30.T16RBT.2023228T163152.v2.0.B03.tif>,\n",
              "  <File-like object HTTPFileSystem, https://data.lpdaac.earthdatacloud.nasa.gov/lp-prod-protected/HLSL30.020/HLS.L30.T16RBT.2023228T163152.v2.0/HLS.L30.T16RBT.2023228T163152.v2.0.SAA.tif>,\n",
              "  <File-like object HTTPFileSystem, https://data.lpdaac.earthdatacloud.nasa.gov/lp-prod-protected/HLSL30.020/HLS.L30.T16RBT.2023228T163152.v2.0/HLS.L30.T16RBT.2023228T163152.v2.0.SZA.tif>,\n",
              "  <File-like object HTTPFileSystem, https://data.lpdaac.earthdatacloud.nasa.gov/lp-prod-protected/HLSL30.020/HLS.L30.T16RBT.2023228T163152.v2.0/HLS.L30.T16RBT.2023228T163152.v2.0.B02.tif>,\n",
              "  <File-like object HTTPFileSystem, https://data.lpdaac.earthdatacloud.nasa.gov/lp-prod-protected/HLSL30.020/HLS.L30.T16RBT.2023228T163152.v2.0/HLS.L30.T16RBT.2023228T163152.v2.0.B01.tif>,\n",
              "  <File-like object HTTPFileSystem, https://data.lpdaac.earthdatacloud.nasa.gov/lp-prod-protected/HLSL30.020/HLS.L30.T16RBT.2023228T163152.v2.0/HLS.L30.T16RBT.2023228T163152.v2.0.B07.tif>],\n",
              " [<File-like object HTTPFileSystem, https://data.lpdaac.earthdatacloud.nasa.gov/lp-prod-protected/HLSL30.020/HLS.L30.T15RYN.2023228T163152.v2.0/HLS.L30.T15RYN.2023228T163152.v2.0.B07.tif>,\n",
              "  <File-like object HTTPFileSystem, https://data.lpdaac.earthdatacloud.nasa.gov/lp-prod-protected/HLSL30.020/HLS.L30.T15RYN.2023228T163152.v2.0/HLS.L30.T15RYN.2023228T163152.v2.0.B01.tif>,\n",
              "  <File-like object HTTPFileSystem, https://data.lpdaac.earthdatacloud.nasa.gov/lp-prod-protected/HLSL30.020/HLS.L30.T15RYN.2023228T163152.v2.0/HLS.L30.T15RYN.2023228T163152.v2.0.B09.tif>,\n",
              "  <File-like object HTTPFileSystem, https://data.lpdaac.earthdatacloud.nasa.gov/lp-prod-protected/HLSL30.020/HLS.L30.T15RYN.2023228T163152.v2.0/HLS.L30.T15RYN.2023228T163152.v2.0.SAA.tif>,\n",
              "  <File-like object HTTPFileSystem, https://data.lpdaac.earthdatacloud.nasa.gov/lp-prod-protected/HLSL30.020/HLS.L30.T15RYN.2023228T163152.v2.0/HLS.L30.T15RYN.2023228T163152.v2.0.B04.tif>,\n",
              "  <File-like object HTTPFileSystem, https://data.lpdaac.earthdatacloud.nasa.gov/lp-prod-protected/HLSL30.020/HLS.L30.T15RYN.2023228T163152.v2.0/HLS.L30.T15RYN.2023228T163152.v2.0.VAA.tif>,\n",
              "  <File-like object HTTPFileSystem, https://data.lpdaac.earthdatacloud.nasa.gov/lp-prod-protected/HLSL30.020/HLS.L30.T15RYN.2023228T163152.v2.0/HLS.L30.T15RYN.2023228T163152.v2.0.B10.tif>,\n",
              "  <File-like object HTTPFileSystem, https://data.lpdaac.earthdatacloud.nasa.gov/lp-prod-protected/HLSL30.020/HLS.L30.T15RYN.2023228T163152.v2.0/HLS.L30.T15RYN.2023228T163152.v2.0.B05.tif>,\n",
              "  <File-like object HTTPFileSystem, https://data.lpdaac.earthdatacloud.nasa.gov/lp-prod-protected/HLSL30.020/HLS.L30.T15RYN.2023228T163152.v2.0/HLS.L30.T15RYN.2023228T163152.v2.0.B11.tif>,\n",
              "  <File-like object HTTPFileSystem, https://data.lpdaac.earthdatacloud.nasa.gov/lp-prod-protected/HLSL30.020/HLS.L30.T15RYN.2023228T163152.v2.0/HLS.L30.T15RYN.2023228T163152.v2.0.SZA.tif>,\n",
              "  <File-like object HTTPFileSystem, https://data.lpdaac.earthdatacloud.nasa.gov/lp-prod-protected/HLSL30.020/HLS.L30.T15RYN.2023228T163152.v2.0/HLS.L30.T15RYN.2023228T163152.v2.0.B02.tif>,\n",
              "  <File-like object HTTPFileSystem, https://data.lpdaac.earthdatacloud.nasa.gov/lp-prod-protected/HLSL30.020/HLS.L30.T15RYN.2023228T163152.v2.0/HLS.L30.T15RYN.2023228T163152.v2.0.B06.tif>,\n",
              "  <File-like object HTTPFileSystem, https://data.lpdaac.earthdatacloud.nasa.gov/lp-prod-protected/HLSL30.020/HLS.L30.T15RYN.2023228T163152.v2.0/HLS.L30.T15RYN.2023228T163152.v2.0.Fmask.tif>,\n",
              "  <File-like object HTTPFileSystem, https://data.lpdaac.earthdatacloud.nasa.gov/lp-prod-protected/HLSL30.020/HLS.L30.T15RYN.2023228T163152.v2.0/HLS.L30.T15RYN.2023228T163152.v2.0.B03.tif>,\n",
              "  <File-like object HTTPFileSystem, https://data.lpdaac.earthdatacloud.nasa.gov/lp-prod-protected/HLSL30.020/HLS.L30.T15RYN.2023228T163152.v2.0/HLS.L30.T15RYN.2023228T163152.v2.0.VZA.tif>],\n",
              " [<File-like object HTTPFileSystem, https://data.lpdaac.earthdatacloud.nasa.gov/lp-prod-protected/HLSL30.020/HLS.L30.T15RYP.2023236T163205.v2.0/HLS.L30.T15RYP.2023236T163205.v2.0.VAA.tif>,\n",
              "  <File-like object HTTPFileSystem, https://data.lpdaac.earthdatacloud.nasa.gov/lp-prod-protected/HLSL30.020/HLS.L30.T15RYP.2023236T163205.v2.0/HLS.L30.T15RYP.2023236T163205.v2.0.B02.tif>,\n",
              "  <File-like object HTTPFileSystem, https://data.lpdaac.earthdatacloud.nasa.gov/lp-prod-protected/HLSL30.020/HLS.L30.T15RYP.2023236T163205.v2.0/HLS.L30.T15RYP.2023236T163205.v2.0.B06.tif>,\n",
              "  <File-like object HTTPFileSystem, https://data.lpdaac.earthdatacloud.nasa.gov/lp-prod-protected/HLSL30.020/HLS.L30.T15RYP.2023236T163205.v2.0/HLS.L30.T15RYP.2023236T163205.v2.0.VZA.tif>,\n",
              "  <File-like object HTTPFileSystem, https://data.lpdaac.earthdatacloud.nasa.gov/lp-prod-protected/HLSL30.020/HLS.L30.T15RYP.2023236T163205.v2.0/HLS.L30.T15RYP.2023236T163205.v2.0.SZA.tif>,\n",
              "  <File-like object HTTPFileSystem, https://data.lpdaac.earthdatacloud.nasa.gov/lp-prod-protected/HLSL30.020/HLS.L30.T15RYP.2023236T163205.v2.0/HLS.L30.T15RYP.2023236T163205.v2.0.B09.tif>,\n",
              "  <File-like object HTTPFileSystem, https://data.lpdaac.earthdatacloud.nasa.gov/lp-prod-protected/HLSL30.020/HLS.L30.T15RYP.2023236T163205.v2.0/HLS.L30.T15RYP.2023236T163205.v2.0.B05.tif>,\n",
              "  <File-like object HTTPFileSystem, https://data.lpdaac.earthdatacloud.nasa.gov/lp-prod-protected/HLSL30.020/HLS.L30.T15RYP.2023236T163205.v2.0/HLS.L30.T15RYP.2023236T163205.v2.0.SAA.tif>,\n",
              "  <File-like object HTTPFileSystem, https://data.lpdaac.earthdatacloud.nasa.gov/lp-prod-protected/HLSL30.020/HLS.L30.T15RYP.2023236T163205.v2.0/HLS.L30.T15RYP.2023236T163205.v2.0.B11.tif>,\n",
              "  <File-like object HTTPFileSystem, https://data.lpdaac.earthdatacloud.nasa.gov/lp-prod-protected/HLSL30.020/HLS.L30.T15RYP.2023236T163205.v2.0/HLS.L30.T15RYP.2023236T163205.v2.0.B10.tif>,\n",
              "  <File-like object HTTPFileSystem, https://data.lpdaac.earthdatacloud.nasa.gov/lp-prod-protected/HLSL30.020/HLS.L30.T15RYP.2023236T163205.v2.0/HLS.L30.T15RYP.2023236T163205.v2.0.B01.tif>,\n",
              "  <File-like object HTTPFileSystem, https://data.lpdaac.earthdatacloud.nasa.gov/lp-prod-protected/HLSL30.020/HLS.L30.T15RYP.2023236T163205.v2.0/HLS.L30.T15RYP.2023236T163205.v2.0.B03.tif>,\n",
              "  <File-like object HTTPFileSystem, https://data.lpdaac.earthdatacloud.nasa.gov/lp-prod-protected/HLSL30.020/HLS.L30.T15RYP.2023236T163205.v2.0/HLS.L30.T15RYP.2023236T163205.v2.0.B07.tif>,\n",
              "  <File-like object HTTPFileSystem, https://data.lpdaac.earthdatacloud.nasa.gov/lp-prod-protected/HLSL30.020/HLS.L30.T15RYP.2023236T163205.v2.0/HLS.L30.T15RYP.2023236T163205.v2.0.Fmask.tif>,\n",
              "  <File-like object HTTPFileSystem, https://data.lpdaac.earthdatacloud.nasa.gov/lp-prod-protected/HLSL30.020/HLS.L30.T15RYP.2023236T163205.v2.0/HLS.L30.T15RYP.2023236T163205.v2.0.B04.tif>],\n",
              " [<File-like object HTTPFileSystem, https://data.lpdaac.earthdatacloud.nasa.gov/lp-prod-protected/HLSL30.020/HLS.L30.T16RBT.2023236T163205.v2.0/HLS.L30.T16RBT.2023236T163205.v2.0.B04.tif>,\n",
              "  <File-like object HTTPFileSystem, https://data.lpdaac.earthdatacloud.nasa.gov/lp-prod-protected/HLSL30.020/HLS.L30.T16RBT.2023236T163205.v2.0/HLS.L30.T16RBT.2023236T163205.v2.0.B10.tif>,\n",
              "  <File-like object HTTPFileSystem, https://data.lpdaac.earthdatacloud.nasa.gov/lp-prod-protected/HLSL30.020/HLS.L30.T16RBT.2023236T163205.v2.0/HLS.L30.T16RBT.2023236T163205.v2.0.SAA.tif>,\n",
              "  <File-like object HTTPFileSystem, https://data.lpdaac.earthdatacloud.nasa.gov/lp-prod-protected/HLSL30.020/HLS.L30.T16RBT.2023236T163205.v2.0/HLS.L30.T16RBT.2023236T163205.v2.0.B07.tif>,\n",
              "  <File-like object HTTPFileSystem, https://data.lpdaac.earthdatacloud.nasa.gov/lp-prod-protected/HLSL30.020/HLS.L30.T16RBT.2023236T163205.v2.0/HLS.L30.T16RBT.2023236T163205.v2.0.B03.tif>,\n",
              "  <File-like object HTTPFileSystem, https://data.lpdaac.earthdatacloud.nasa.gov/lp-prod-protected/HLSL30.020/HLS.L30.T16RBT.2023236T163205.v2.0/HLS.L30.T16RBT.2023236T163205.v2.0.B11.tif>,\n",
              "  <File-like object HTTPFileSystem, https://data.lpdaac.earthdatacloud.nasa.gov/lp-prod-protected/HLSL30.020/HLS.L30.T16RBT.2023236T163205.v2.0/HLS.L30.T16RBT.2023236T163205.v2.0.SZA.tif>,\n",
              "  <File-like object HTTPFileSystem, https://data.lpdaac.earthdatacloud.nasa.gov/lp-prod-protected/HLSL30.020/HLS.L30.T16RBT.2023236T163205.v2.0/HLS.L30.T16RBT.2023236T163205.v2.0.B06.tif>,\n",
              "  <File-like object HTTPFileSystem, https://data.lpdaac.earthdatacloud.nasa.gov/lp-prod-protected/HLSL30.020/HLS.L30.T16RBT.2023236T163205.v2.0/HLS.L30.T16RBT.2023236T163205.v2.0.VAA.tif>,\n",
              "  <File-like object HTTPFileSystem, https://data.lpdaac.earthdatacloud.nasa.gov/lp-prod-protected/HLSL30.020/HLS.L30.T16RBT.2023236T163205.v2.0/HLS.L30.T16RBT.2023236T163205.v2.0.B09.tif>,\n",
              "  <File-like object HTTPFileSystem, https://data.lpdaac.earthdatacloud.nasa.gov/lp-prod-protected/HLSL30.020/HLS.L30.T16RBT.2023236T163205.v2.0/HLS.L30.T16RBT.2023236T163205.v2.0.B02.tif>,\n",
              "  <File-like object HTTPFileSystem, https://data.lpdaac.earthdatacloud.nasa.gov/lp-prod-protected/HLSL30.020/HLS.L30.T16RBT.2023236T163205.v2.0/HLS.L30.T16RBT.2023236T163205.v2.0.Fmask.tif>,\n",
              "  <File-like object HTTPFileSystem, https://data.lpdaac.earthdatacloud.nasa.gov/lp-prod-protected/HLSL30.020/HLS.L30.T16RBT.2023236T163205.v2.0/HLS.L30.T16RBT.2023236T163205.v2.0.B05.tif>,\n",
              "  <File-like object HTTPFileSystem, https://data.lpdaac.earthdatacloud.nasa.gov/lp-prod-protected/HLSL30.020/HLS.L30.T16RBT.2023236T163205.v2.0/HLS.L30.T16RBT.2023236T163205.v2.0.B01.tif>,\n",
              "  <File-like object HTTPFileSystem, https://data.lpdaac.earthdatacloud.nasa.gov/lp-prod-protected/HLSL30.020/HLS.L30.T16RBT.2023236T163205.v2.0/HLS.L30.T16RBT.2023236T163205.v2.0.VZA.tif>],\n",
              " [<File-like object HTTPFileSystem, https://data.lpdaac.earthdatacloud.nasa.gov/lp-prod-protected/HLSL30.020/HLS.L30.T15RYN.2023236T163205.v2.0/HLS.L30.T15RYN.2023236T163205.v2.0.B11.tif>,\n",
              "  <File-like object HTTPFileSystem, https://data.lpdaac.earthdatacloud.nasa.gov/lp-prod-protected/HLSL30.020/HLS.L30.T15RYN.2023236T163205.v2.0/HLS.L30.T15RYN.2023236T163205.v2.0.B06.tif>,\n",
              "  <File-like object HTTPFileSystem, https://data.lpdaac.earthdatacloud.nasa.gov/lp-prod-protected/HLSL30.020/HLS.L30.T15RYN.2023236T163205.v2.0/HLS.L30.T15RYN.2023236T163205.v2.0.B05.tif>,\n",
              "  <File-like object HTTPFileSystem, https://data.lpdaac.earthdatacloud.nasa.gov/lp-prod-protected/HLSL30.020/HLS.L30.T15RYN.2023236T163205.v2.0/HLS.L30.T15RYN.2023236T163205.v2.0.VZA.tif>,\n",
              "  <File-like object HTTPFileSystem, https://data.lpdaac.earthdatacloud.nasa.gov/lp-prod-protected/HLSL30.020/HLS.L30.T15RYN.2023236T163205.v2.0/HLS.L30.T15RYN.2023236T163205.v2.0.B07.tif>,\n",
              "  <File-like object HTTPFileSystem, https://data.lpdaac.earthdatacloud.nasa.gov/lp-prod-protected/HLSL30.020/HLS.L30.T15RYN.2023236T163205.v2.0/HLS.L30.T15RYN.2023236T163205.v2.0.Fmask.tif>,\n",
              "  <File-like object HTTPFileSystem, https://data.lpdaac.earthdatacloud.nasa.gov/lp-prod-protected/HLSL30.020/HLS.L30.T15RYN.2023236T163205.v2.0/HLS.L30.T15RYN.2023236T163205.v2.0.B01.tif>,\n",
              "  <File-like object HTTPFileSystem, https://data.lpdaac.earthdatacloud.nasa.gov/lp-prod-protected/HLSL30.020/HLS.L30.T15RYN.2023236T163205.v2.0/HLS.L30.T15RYN.2023236T163205.v2.0.B10.tif>,\n",
              "  <File-like object HTTPFileSystem, https://data.lpdaac.earthdatacloud.nasa.gov/lp-prod-protected/HLSL30.020/HLS.L30.T15RYN.2023236T163205.v2.0/HLS.L30.T15RYN.2023236T163205.v2.0.B02.tif>,\n",
              "  <File-like object HTTPFileSystem, https://data.lpdaac.earthdatacloud.nasa.gov/lp-prod-protected/HLSL30.020/HLS.L30.T15RYN.2023236T163205.v2.0/HLS.L30.T15RYN.2023236T163205.v2.0.SAA.tif>,\n",
              "  <File-like object HTTPFileSystem, https://data.lpdaac.earthdatacloud.nasa.gov/lp-prod-protected/HLSL30.020/HLS.L30.T15RYN.2023236T163205.v2.0/HLS.L30.T15RYN.2023236T163205.v2.0.SZA.tif>,\n",
              "  <File-like object HTTPFileSystem, https://data.lpdaac.earthdatacloud.nasa.gov/lp-prod-protected/HLSL30.020/HLS.L30.T15RYN.2023236T163205.v2.0/HLS.L30.T15RYN.2023236T163205.v2.0.B03.tif>,\n",
              "  <File-like object HTTPFileSystem, https://data.lpdaac.earthdatacloud.nasa.gov/lp-prod-protected/HLSL30.020/HLS.L30.T15RYN.2023236T163205.v2.0/HLS.L30.T15RYN.2023236T163205.v2.0.B09.tif>,\n",
              "  <File-like object HTTPFileSystem, https://data.lpdaac.earthdatacloud.nasa.gov/lp-prod-protected/HLSL30.020/HLS.L30.T15RYN.2023236T163205.v2.0/HLS.L30.T15RYN.2023236T163205.v2.0.VAA.tif>,\n",
              "  <File-like object HTTPFileSystem, https://data.lpdaac.earthdatacloud.nasa.gov/lp-prod-protected/HLSL30.020/HLS.L30.T15RYN.2023236T163205.v2.0/HLS.L30.T15RYN.2023236T163205.v2.0.B04.tif>],\n",
              " [<File-like object HTTPFileSystem, https://data.lpdaac.earthdatacloud.nasa.gov/lp-prod-protected/HLSL30.020/HLS.L30.T16RBU.2023236T163205.v2.0/HLS.L30.T16RBU.2023236T163205.v2.0.B03.tif>,\n",
              "  <File-like object HTTPFileSystem, https://data.lpdaac.earthdatacloud.nasa.gov/lp-prod-protected/HLSL30.020/HLS.L30.T16RBU.2023236T163205.v2.0/HLS.L30.T16RBU.2023236T163205.v2.0.B07.tif>,\n",
              "  <File-like object HTTPFileSystem, https://data.lpdaac.earthdatacloud.nasa.gov/lp-prod-protected/HLSL30.020/HLS.L30.T16RBU.2023236T163205.v2.0/HLS.L30.T16RBU.2023236T163205.v2.0.B10.tif>,\n",
              "  <File-like object HTTPFileSystem, https://data.lpdaac.earthdatacloud.nasa.gov/lp-prod-protected/HLSL30.020/HLS.L30.T16RBU.2023236T163205.v2.0/HLS.L30.T16RBU.2023236T163205.v2.0.Fmask.tif>,\n",
              "  <File-like object HTTPFileSystem, https://data.lpdaac.earthdatacloud.nasa.gov/lp-prod-protected/HLSL30.020/HLS.L30.T16RBU.2023236T163205.v2.0/HLS.L30.T16RBU.2023236T163205.v2.0.SZA.tif>,\n",
              "  <File-like object HTTPFileSystem, https://data.lpdaac.earthdatacloud.nasa.gov/lp-prod-protected/HLSL30.020/HLS.L30.T16RBU.2023236T163205.v2.0/HLS.L30.T16RBU.2023236T163205.v2.0.B04.tif>,\n",
              "  <File-like object HTTPFileSystem, https://data.lpdaac.earthdatacloud.nasa.gov/lp-prod-protected/HLSL30.020/HLS.L30.T16RBU.2023236T163205.v2.0/HLS.L30.T16RBU.2023236T163205.v2.0.VZA.tif>,\n",
              "  <File-like object HTTPFileSystem, https://data.lpdaac.earthdatacloud.nasa.gov/lp-prod-protected/HLSL30.020/HLS.L30.T16RBU.2023236T163205.v2.0/HLS.L30.T16RBU.2023236T163205.v2.0.VAA.tif>,\n",
              "  <File-like object HTTPFileSystem, https://data.lpdaac.earthdatacloud.nasa.gov/lp-prod-protected/HLSL30.020/HLS.L30.T16RBU.2023236T163205.v2.0/HLS.L30.T16RBU.2023236T163205.v2.0.B01.tif>,\n",
              "  <File-like object HTTPFileSystem, https://data.lpdaac.earthdatacloud.nasa.gov/lp-prod-protected/HLSL30.020/HLS.L30.T16RBU.2023236T163205.v2.0/HLS.L30.T16RBU.2023236T163205.v2.0.B02.tif>,\n",
              "  <File-like object HTTPFileSystem, https://data.lpdaac.earthdatacloud.nasa.gov/lp-prod-protected/HLSL30.020/HLS.L30.T16RBU.2023236T163205.v2.0/HLS.L30.T16RBU.2023236T163205.v2.0.B09.tif>,\n",
              "  <File-like object HTTPFileSystem, https://data.lpdaac.earthdatacloud.nasa.gov/lp-prod-protected/HLSL30.020/HLS.L30.T16RBU.2023236T163205.v2.0/HLS.L30.T16RBU.2023236T163205.v2.0.SAA.tif>,\n",
              "  <File-like object HTTPFileSystem, https://data.lpdaac.earthdatacloud.nasa.gov/lp-prod-protected/HLSL30.020/HLS.L30.T16RBU.2023236T163205.v2.0/HLS.L30.T16RBU.2023236T163205.v2.0.B06.tif>,\n",
              "  <File-like object HTTPFileSystem, https://data.lpdaac.earthdatacloud.nasa.gov/lp-prod-protected/HLSL30.020/HLS.L30.T16RBU.2023236T163205.v2.0/HLS.L30.T16RBU.2023236T163205.v2.0.B05.tif>,\n",
              "  <File-like object HTTPFileSystem, https://data.lpdaac.earthdatacloud.nasa.gov/lp-prod-protected/HLSL30.020/HLS.L30.T16RBU.2023236T163205.v2.0/HLS.L30.T16RBU.2023236T163205.v2.0.B11.tif>],\n",
              " [<File-like object HTTPFileSystem, https://data.lpdaac.earthdatacloud.nasa.gov/lp-prod-protected/HLSL30.020/HLS.L30.T15RYP.2023244T163203.v2.0/HLS.L30.T15RYP.2023244T163203.v2.0.B10.tif>,\n",
              "  <File-like object HTTPFileSystem, https://data.lpdaac.earthdatacloud.nasa.gov/lp-prod-protected/HLSL30.020/HLS.L30.T15RYP.2023244T163203.v2.0/HLS.L30.T15RYP.2023244T163203.v2.0.B07.tif>,\n",
              "  <File-like object HTTPFileSystem, https://data.lpdaac.earthdatacloud.nasa.gov/lp-prod-protected/HLSL30.020/HLS.L30.T15RYP.2023244T163203.v2.0/HLS.L30.T15RYP.2023244T163203.v2.0.Fmask.tif>,\n",
              "  <File-like object HTTPFileSystem, https://data.lpdaac.earthdatacloud.nasa.gov/lp-prod-protected/HLSL30.020/HLS.L30.T15RYP.2023244T163203.v2.0/HLS.L30.T15RYP.2023244T163203.v2.0.B03.tif>,\n",
              "  <File-like object HTTPFileSystem, https://data.lpdaac.earthdatacloud.nasa.gov/lp-prod-protected/HLSL30.020/HLS.L30.T15RYP.2023244T163203.v2.0/HLS.L30.T15RYP.2023244T163203.v2.0.B09.tif>,\n",
              "  <File-like object HTTPFileSystem, https://data.lpdaac.earthdatacloud.nasa.gov/lp-prod-protected/HLSL30.020/HLS.L30.T15RYP.2023244T163203.v2.0/HLS.L30.T15RYP.2023244T163203.v2.0.B01.tif>,\n",
              "  <File-like object HTTPFileSystem, https://data.lpdaac.earthdatacloud.nasa.gov/lp-prod-protected/HLSL30.020/HLS.L30.T15RYP.2023244T163203.v2.0/HLS.L30.T15RYP.2023244T163203.v2.0.B04.tif>,\n",
              "  <File-like object HTTPFileSystem, https://data.lpdaac.earthdatacloud.nasa.gov/lp-prod-protected/HLSL30.020/HLS.L30.T15RYP.2023244T163203.v2.0/HLS.L30.T15RYP.2023244T163203.v2.0.SAA.tif>,\n",
              "  <File-like object HTTPFileSystem, https://data.lpdaac.earthdatacloud.nasa.gov/lp-prod-protected/HLSL30.020/HLS.L30.T15RYP.2023244T163203.v2.0/HLS.L30.T15RYP.2023244T163203.v2.0.B06.tif>,\n",
              "  <File-like object HTTPFileSystem, https://data.lpdaac.earthdatacloud.nasa.gov/lp-prod-protected/HLSL30.020/HLS.L30.T15RYP.2023244T163203.v2.0/HLS.L30.T15RYP.2023244T163203.v2.0.B11.tif>,\n",
              "  <File-like object HTTPFileSystem, https://data.lpdaac.earthdatacloud.nasa.gov/lp-prod-protected/HLSL30.020/HLS.L30.T15RYP.2023244T163203.v2.0/HLS.L30.T15RYP.2023244T163203.v2.0.VAA.tif>,\n",
              "  <File-like object HTTPFileSystem, https://data.lpdaac.earthdatacloud.nasa.gov/lp-prod-protected/HLSL30.020/HLS.L30.T15RYP.2023244T163203.v2.0/HLS.L30.T15RYP.2023244T163203.v2.0.B02.tif>,\n",
              "  <File-like object HTTPFileSystem, https://data.lpdaac.earthdatacloud.nasa.gov/lp-prod-protected/HLSL30.020/HLS.L30.T15RYP.2023244T163203.v2.0/HLS.L30.T15RYP.2023244T163203.v2.0.B05.tif>,\n",
              "  <File-like object HTTPFileSystem, https://data.lpdaac.earthdatacloud.nasa.gov/lp-prod-protected/HLSL30.020/HLS.L30.T15RYP.2023244T163203.v2.0/HLS.L30.T15RYP.2023244T163203.v2.0.VZA.tif>,\n",
              "  <File-like object HTTPFileSystem, https://data.lpdaac.earthdatacloud.nasa.gov/lp-prod-protected/HLSL30.020/HLS.L30.T15RYP.2023244T163203.v2.0/HLS.L30.T15RYP.2023244T163203.v2.0.SZA.tif>],\n",
              " [<File-like object HTTPFileSystem, https://data.lpdaac.earthdatacloud.nasa.gov/lp-prod-protected/HLSL30.020/HLS.L30.T16RBU.2023244T163203.v2.0/HLS.L30.T16RBU.2023244T163203.v2.0.B11.tif>,\n",
              "  <File-like object HTTPFileSystem, https://data.lpdaac.earthdatacloud.nasa.gov/lp-prod-protected/HLSL30.020/HLS.L30.T16RBU.2023244T163203.v2.0/HLS.L30.T16RBU.2023244T163203.v2.0.B01.tif>,\n",
              "  <File-like object HTTPFileSystem, https://data.lpdaac.earthdatacloud.nasa.gov/lp-prod-protected/HLSL30.020/HLS.L30.T16RBU.2023244T163203.v2.0/HLS.L30.T16RBU.2023244T163203.v2.0.B03.tif>,\n",
              "  <File-like object HTTPFileSystem, https://data.lpdaac.earthdatacloud.nasa.gov/lp-prod-protected/HLSL30.020/HLS.L30.T16RBU.2023244T163203.v2.0/HLS.L30.T16RBU.2023244T163203.v2.0.B02.tif>,\n",
              "  <File-like object HTTPFileSystem, https://data.lpdaac.earthdatacloud.nasa.gov/lp-prod-protected/HLSL30.020/HLS.L30.T16RBU.2023244T163203.v2.0/HLS.L30.T16RBU.2023244T163203.v2.0.SZA.tif>,\n",
              "  <File-like object HTTPFileSystem, https://data.lpdaac.earthdatacloud.nasa.gov/lp-prod-protected/HLSL30.020/HLS.L30.T16RBU.2023244T163203.v2.0/HLS.L30.T16RBU.2023244T163203.v2.0.B05.tif>,\n",
              "  <File-like object HTTPFileSystem, https://data.lpdaac.earthdatacloud.nasa.gov/lp-prod-protected/HLSL30.020/HLS.L30.T16RBU.2023244T163203.v2.0/HLS.L30.T16RBU.2023244T163203.v2.0.VAA.tif>,\n",
              "  <File-like object HTTPFileSystem, https://data.lpdaac.earthdatacloud.nasa.gov/lp-prod-protected/HLSL30.020/HLS.L30.T16RBU.2023244T163203.v2.0/HLS.L30.T16RBU.2023244T163203.v2.0.B04.tif>,\n",
              "  <File-like object HTTPFileSystem, https://data.lpdaac.earthdatacloud.nasa.gov/lp-prod-protected/HLSL30.020/HLS.L30.T16RBU.2023244T163203.v2.0/HLS.L30.T16RBU.2023244T163203.v2.0.SAA.tif>,\n",
              "  <File-like object HTTPFileSystem, https://data.lpdaac.earthdatacloud.nasa.gov/lp-prod-protected/HLSL30.020/HLS.L30.T16RBU.2023244T163203.v2.0/HLS.L30.T16RBU.2023244T163203.v2.0.Fmask.tif>,\n",
              "  <File-like object HTTPFileSystem, https://data.lpdaac.earthdatacloud.nasa.gov/lp-prod-protected/HLSL30.020/HLS.L30.T16RBU.2023244T163203.v2.0/HLS.L30.T16RBU.2023244T163203.v2.0.B09.tif>,\n",
              "  <File-like object HTTPFileSystem, https://data.lpdaac.earthdatacloud.nasa.gov/lp-prod-protected/HLSL30.020/HLS.L30.T16RBU.2023244T163203.v2.0/HLS.L30.T16RBU.2023244T163203.v2.0.B10.tif>,\n",
              "  <File-like object HTTPFileSystem, https://data.lpdaac.earthdatacloud.nasa.gov/lp-prod-protected/HLSL30.020/HLS.L30.T16RBU.2023244T163203.v2.0/HLS.L30.T16RBU.2023244T163203.v2.0.B06.tif>,\n",
              "  <File-like object HTTPFileSystem, https://data.lpdaac.earthdatacloud.nasa.gov/lp-prod-protected/HLSL30.020/HLS.L30.T16RBU.2023244T163203.v2.0/HLS.L30.T16RBU.2023244T163203.v2.0.B07.tif>,\n",
              "  <File-like object HTTPFileSystem, https://data.lpdaac.earthdatacloud.nasa.gov/lp-prod-protected/HLSL30.020/HLS.L30.T16RBU.2023244T163203.v2.0/HLS.L30.T16RBU.2023244T163203.v2.0.VZA.tif>],\n",
              " [<File-like object HTTPFileSystem, https://data.lpdaac.earthdatacloud.nasa.gov/lp-prod-protected/HLSL30.020/HLS.L30.T16RBT.2023244T163203.v2.0/HLS.L30.T16RBT.2023244T163203.v2.0.B01.tif>,\n",
              "  <File-like object HTTPFileSystem, https://data.lpdaac.earthdatacloud.nasa.gov/lp-prod-protected/HLSL30.020/HLS.L30.T16RBT.2023244T163203.v2.0/HLS.L30.T16RBT.2023244T163203.v2.0.B03.tif>,\n",
              "  <File-like object HTTPFileSystem, https://data.lpdaac.earthdatacloud.nasa.gov/lp-prod-protected/HLSL30.020/HLS.L30.T16RBT.2023244T163203.v2.0/HLS.L30.T16RBT.2023244T163203.v2.0.B06.tif>,\n",
              "  <File-like object HTTPFileSystem, https://data.lpdaac.earthdatacloud.nasa.gov/lp-prod-protected/HLSL30.020/HLS.L30.T16RBT.2023244T163203.v2.0/HLS.L30.T16RBT.2023244T163203.v2.0.SAA.tif>,\n",
              "  <File-like object HTTPFileSystem, https://data.lpdaac.earthdatacloud.nasa.gov/lp-prod-protected/HLSL30.020/HLS.L30.T16RBT.2023244T163203.v2.0/HLS.L30.T16RBT.2023244T163203.v2.0.SZA.tif>,\n",
              "  <File-like object HTTPFileSystem, https://data.lpdaac.earthdatacloud.nasa.gov/lp-prod-protected/HLSL30.020/HLS.L30.T16RBT.2023244T163203.v2.0/HLS.L30.T16RBT.2023244T163203.v2.0.B09.tif>,\n",
              "  <File-like object HTTPFileSystem, https://data.lpdaac.earthdatacloud.nasa.gov/lp-prod-protected/HLSL30.020/HLS.L30.T16RBT.2023244T163203.v2.0/HLS.L30.T16RBT.2023244T163203.v2.0.B05.tif>,\n",
              "  <File-like object HTTPFileSystem, https://data.lpdaac.earthdatacloud.nasa.gov/lp-prod-protected/HLSL30.020/HLS.L30.T16RBT.2023244T163203.v2.0/HLS.L30.T16RBT.2023244T163203.v2.0.Fmask.tif>,\n",
              "  <File-like object HTTPFileSystem, https://data.lpdaac.earthdatacloud.nasa.gov/lp-prod-protected/HLSL30.020/HLS.L30.T16RBT.2023244T163203.v2.0/HLS.L30.T16RBT.2023244T163203.v2.0.VAA.tif>,\n",
              "  <File-like object HTTPFileSystem, https://data.lpdaac.earthdatacloud.nasa.gov/lp-prod-protected/HLSL30.020/HLS.L30.T16RBT.2023244T163203.v2.0/HLS.L30.T16RBT.2023244T163203.v2.0.B02.tif>,\n",
              "  <File-like object HTTPFileSystem, https://data.lpdaac.earthdatacloud.nasa.gov/lp-prod-protected/HLSL30.020/HLS.L30.T16RBT.2023244T163203.v2.0/HLS.L30.T16RBT.2023244T163203.v2.0.B04.tif>,\n",
              "  <File-like object HTTPFileSystem, https://data.lpdaac.earthdatacloud.nasa.gov/lp-prod-protected/HLSL30.020/HLS.L30.T16RBT.2023244T163203.v2.0/HLS.L30.T16RBT.2023244T163203.v2.0.VZA.tif>,\n",
              "  <File-like object HTTPFileSystem, https://data.lpdaac.earthdatacloud.nasa.gov/lp-prod-protected/HLSL30.020/HLS.L30.T16RBT.2023244T163203.v2.0/HLS.L30.T16RBT.2023244T163203.v2.0.B11.tif>,\n",
              "  <File-like object HTTPFileSystem, https://data.lpdaac.earthdatacloud.nasa.gov/lp-prod-protected/HLSL30.020/HLS.L30.T16RBT.2023244T163203.v2.0/HLS.L30.T16RBT.2023244T163203.v2.0.B10.tif>,\n",
              "  <File-like object HTTPFileSystem, https://data.lpdaac.earthdatacloud.nasa.gov/lp-prod-protected/HLSL30.020/HLS.L30.T16RBT.2023244T163203.v2.0/HLS.L30.T16RBT.2023244T163203.v2.0.B07.tif>],\n",
              " [<File-like object HTTPFileSystem, https://data.lpdaac.earthdatacloud.nasa.gov/lp-prod-protected/HLSL30.020/HLS.L30.T15RYN.2023244T163203.v2.0/HLS.L30.T15RYN.2023244T163203.v2.0.B04.tif>,\n",
              "  <File-like object HTTPFileSystem, https://data.lpdaac.earthdatacloud.nasa.gov/lp-prod-protected/HLSL30.020/HLS.L30.T15RYN.2023244T163203.v2.0/HLS.L30.T15RYN.2023244T163203.v2.0.Fmask.tif>,\n",
              "  <File-like object HTTPFileSystem, https://data.lpdaac.earthdatacloud.nasa.gov/lp-prod-protected/HLSL30.020/HLS.L30.T15RYN.2023244T163203.v2.0/HLS.L30.T15RYN.2023244T163203.v2.0.B09.tif>,\n",
              "  <File-like object HTTPFileSystem, https://data.lpdaac.earthdatacloud.nasa.gov/lp-prod-protected/HLSL30.020/HLS.L30.T15RYN.2023244T163203.v2.0/HLS.L30.T15RYN.2023244T163203.v2.0.B03.tif>,\n",
              "  <File-like object HTTPFileSystem, https://data.lpdaac.earthdatacloud.nasa.gov/lp-prod-protected/HLSL30.020/HLS.L30.T15RYN.2023244T163203.v2.0/HLS.L30.T15RYN.2023244T163203.v2.0.B02.tif>,\n",
              "  <File-like object HTTPFileSystem, https://data.lpdaac.earthdatacloud.nasa.gov/lp-prod-protected/HLSL30.020/HLS.L30.T15RYN.2023244T163203.v2.0/HLS.L30.T15RYN.2023244T163203.v2.0.B10.tif>,\n",
              "  <File-like object HTTPFileSystem, https://data.lpdaac.earthdatacloud.nasa.gov/lp-prod-protected/HLSL30.020/HLS.L30.T15RYN.2023244T163203.v2.0/HLS.L30.T15RYN.2023244T163203.v2.0.B07.tif>,\n",
              "  <File-like object HTTPFileSystem, https://data.lpdaac.earthdatacloud.nasa.gov/lp-prod-protected/HLSL30.020/HLS.L30.T15RYN.2023244T163203.v2.0/HLS.L30.T15RYN.2023244T163203.v2.0.B05.tif>,\n",
              "  <File-like object HTTPFileSystem, https://data.lpdaac.earthdatacloud.nasa.gov/lp-prod-protected/HLSL30.020/HLS.L30.T15RYN.2023244T163203.v2.0/HLS.L30.T15RYN.2023244T163203.v2.0.B01.tif>,\n",
              "  <File-like object HTTPFileSystem, https://data.lpdaac.earthdatacloud.nasa.gov/lp-prod-protected/HLSL30.020/HLS.L30.T15RYN.2023244T163203.v2.0/HLS.L30.T15RYN.2023244T163203.v2.0.B06.tif>,\n",
              "  <File-like object HTTPFileSystem, https://data.lpdaac.earthdatacloud.nasa.gov/lp-prod-protected/HLSL30.020/HLS.L30.T15RYN.2023244T163203.v2.0/HLS.L30.T15RYN.2023244T163203.v2.0.SAA.tif>,\n",
              "  <File-like object HTTPFileSystem, https://data.lpdaac.earthdatacloud.nasa.gov/lp-prod-protected/HLSL30.020/HLS.L30.T15RYN.2023244T163203.v2.0/HLS.L30.T15RYN.2023244T163203.v2.0.VAA.tif>,\n",
              "  <File-like object HTTPFileSystem, https://data.lpdaac.earthdatacloud.nasa.gov/lp-prod-protected/HLSL30.020/HLS.L30.T15RYN.2023244T163203.v2.0/HLS.L30.T15RYN.2023244T163203.v2.0.VZA.tif>,\n",
              "  <File-like object HTTPFileSystem, https://data.lpdaac.earthdatacloud.nasa.gov/lp-prod-protected/HLSL30.020/HLS.L30.T15RYN.2023244T163203.v2.0/HLS.L30.T15RYN.2023244T163203.v2.0.B11.tif>,\n",
              "  <File-like object HTTPFileSystem, https://data.lpdaac.earthdatacloud.nasa.gov/lp-prod-protected/HLSL30.020/HLS.L30.T15RYN.2023244T163203.v2.0/HLS.L30.T15RYN.2023244T163203.v2.0.SZA.tif>],\n",
              " [<File-like object HTTPFileSystem, https://data.lpdaac.earthdatacloud.nasa.gov/lp-prod-protected/HLSL30.020/HLS.L30.T16RBU.2023252T163206.v2.0/HLS.L30.T16RBU.2023252T163206.v2.0.B04.tif>,\n",
              "  <File-like object HTTPFileSystem, https://data.lpdaac.earthdatacloud.nasa.gov/lp-prod-protected/HLSL30.020/HLS.L30.T16RBU.2023252T163206.v2.0/HLS.L30.T16RBU.2023252T163206.v2.0.B06.tif>,\n",
              "  <File-like object HTTPFileSystem, https://data.lpdaac.earthdatacloud.nasa.gov/lp-prod-protected/HLSL30.020/HLS.L30.T16RBU.2023252T163206.v2.0/HLS.L30.T16RBU.2023252T163206.v2.0.B03.tif>,\n",
              "  <File-like object HTTPFileSystem, https://data.lpdaac.earthdatacloud.nasa.gov/lp-prod-protected/HLSL30.020/HLS.L30.T16RBU.2023252T163206.v2.0/HLS.L30.T16RBU.2023252T163206.v2.0.SAA.tif>,\n",
              "  <File-like object HTTPFileSystem, https://data.lpdaac.earthdatacloud.nasa.gov/lp-prod-protected/HLSL30.020/HLS.L30.T16RBU.2023252T163206.v2.0/HLS.L30.T16RBU.2023252T163206.v2.0.Fmask.tif>,\n",
              "  <File-like object HTTPFileSystem, https://data.lpdaac.earthdatacloud.nasa.gov/lp-prod-protected/HLSL30.020/HLS.L30.T16RBU.2023252T163206.v2.0/HLS.L30.T16RBU.2023252T163206.v2.0.B07.tif>,\n",
              "  <File-like object HTTPFileSystem, https://data.lpdaac.earthdatacloud.nasa.gov/lp-prod-protected/HLSL30.020/HLS.L30.T16RBU.2023252T163206.v2.0/HLS.L30.T16RBU.2023252T163206.v2.0.B02.tif>,\n",
              "  <File-like object HTTPFileSystem, https://data.lpdaac.earthdatacloud.nasa.gov/lp-prod-protected/HLSL30.020/HLS.L30.T16RBU.2023252T163206.v2.0/HLS.L30.T16RBU.2023252T163206.v2.0.SZA.tif>,\n",
              "  <File-like object HTTPFileSystem, https://data.lpdaac.earthdatacloud.nasa.gov/lp-prod-protected/HLSL30.020/HLS.L30.T16RBU.2023252T163206.v2.0/HLS.L30.T16RBU.2023252T163206.v2.0.B05.tif>,\n",
              "  <File-like object HTTPFileSystem, https://data.lpdaac.earthdatacloud.nasa.gov/lp-prod-protected/HLSL30.020/HLS.L30.T16RBU.2023252T163206.v2.0/HLS.L30.T16RBU.2023252T163206.v2.0.B11.tif>,\n",
              "  <File-like object HTTPFileSystem, https://data.lpdaac.earthdatacloud.nasa.gov/lp-prod-protected/HLSL30.020/HLS.L30.T16RBU.2023252T163206.v2.0/HLS.L30.T16RBU.2023252T163206.v2.0.B09.tif>,\n",
              "  <File-like object HTTPFileSystem, https://data.lpdaac.earthdatacloud.nasa.gov/lp-prod-protected/HLSL30.020/HLS.L30.T16RBU.2023252T163206.v2.0/HLS.L30.T16RBU.2023252T163206.v2.0.B10.tif>,\n",
              "  <File-like object HTTPFileSystem, https://data.lpdaac.earthdatacloud.nasa.gov/lp-prod-protected/HLSL30.020/HLS.L30.T16RBU.2023252T163206.v2.0/HLS.L30.T16RBU.2023252T163206.v2.0.VAA.tif>,\n",
              "  <File-like object HTTPFileSystem, https://data.lpdaac.earthdatacloud.nasa.gov/lp-prod-protected/HLSL30.020/HLS.L30.T16RBU.2023252T163206.v2.0/HLS.L30.T16RBU.2023252T163206.v2.0.VZA.tif>,\n",
              "  <File-like object HTTPFileSystem, https://data.lpdaac.earthdatacloud.nasa.gov/lp-prod-protected/HLSL30.020/HLS.L30.T16RBU.2023252T163206.v2.0/HLS.L30.T16RBU.2023252T163206.v2.0.B01.tif>],\n",
              " [<File-like object HTTPFileSystem, https://data.lpdaac.earthdatacloud.nasa.gov/lp-prod-protected/HLSL30.020/HLS.L30.T15RYP.2023252T163206.v2.0/HLS.L30.T15RYP.2023252T163206.v2.0.B03.tif>,\n",
              "  <File-like object HTTPFileSystem, https://data.lpdaac.earthdatacloud.nasa.gov/lp-prod-protected/HLSL30.020/HLS.L30.T15RYP.2023252T163206.v2.0/HLS.L30.T15RYP.2023252T163206.v2.0.B01.tif>,\n",
              "  <File-like object HTTPFileSystem, https://data.lpdaac.earthdatacloud.nasa.gov/lp-prod-protected/HLSL30.020/HLS.L30.T15RYP.2023252T163206.v2.0/HLS.L30.T15RYP.2023252T163206.v2.0.Fmask.tif>,\n",
              "  <File-like object HTTPFileSystem, https://data.lpdaac.earthdatacloud.nasa.gov/lp-prod-protected/HLSL30.020/HLS.L30.T15RYP.2023252T163206.v2.0/HLS.L30.T15RYP.2023252T163206.v2.0.B10.tif>,\n",
              "  <File-like object HTTPFileSystem, https://data.lpdaac.earthdatacloud.nasa.gov/lp-prod-protected/HLSL30.020/HLS.L30.T15RYP.2023252T163206.v2.0/HLS.L30.T15RYP.2023252T163206.v2.0.B02.tif>,\n",
              "  <File-like object HTTPFileSystem, https://data.lpdaac.earthdatacloud.nasa.gov/lp-prod-protected/HLSL30.020/HLS.L30.T15RYP.2023252T163206.v2.0/HLS.L30.T15RYP.2023252T163206.v2.0.B09.tif>,\n",
              "  <File-like object HTTPFileSystem, https://data.lpdaac.earthdatacloud.nasa.gov/lp-prod-protected/HLSL30.020/HLS.L30.T15RYP.2023252T163206.v2.0/HLS.L30.T15RYP.2023252T163206.v2.0.SZA.tif>,\n",
              "  <File-like object HTTPFileSystem, https://data.lpdaac.earthdatacloud.nasa.gov/lp-prod-protected/HLSL30.020/HLS.L30.T15RYP.2023252T163206.v2.0/HLS.L30.T15RYP.2023252T163206.v2.0.VAA.tif>,\n",
              "  <File-like object HTTPFileSystem, https://data.lpdaac.earthdatacloud.nasa.gov/lp-prod-protected/HLSL30.020/HLS.L30.T15RYP.2023252T163206.v2.0/HLS.L30.T15RYP.2023252T163206.v2.0.VZA.tif>,\n",
              "  <File-like object HTTPFileSystem, https://data.lpdaac.earthdatacloud.nasa.gov/lp-prod-protected/HLSL30.020/HLS.L30.T15RYP.2023252T163206.v2.0/HLS.L30.T15RYP.2023252T163206.v2.0.B06.tif>,\n",
              "  <File-like object HTTPFileSystem, https://data.lpdaac.earthdatacloud.nasa.gov/lp-prod-protected/HLSL30.020/HLS.L30.T15RYP.2023252T163206.v2.0/HLS.L30.T15RYP.2023252T163206.v2.0.B05.tif>,\n",
              "  <File-like object HTTPFileSystem, https://data.lpdaac.earthdatacloud.nasa.gov/lp-prod-protected/HLSL30.020/HLS.L30.T15RYP.2023252T163206.v2.0/HLS.L30.T15RYP.2023252T163206.v2.0.B11.tif>,\n",
              "  <File-like object HTTPFileSystem, https://data.lpdaac.earthdatacloud.nasa.gov/lp-prod-protected/HLSL30.020/HLS.L30.T15RYP.2023252T163206.v2.0/HLS.L30.T15RYP.2023252T163206.v2.0.B07.tif>,\n",
              "  <File-like object HTTPFileSystem, https://data.lpdaac.earthdatacloud.nasa.gov/lp-prod-protected/HLSL30.020/HLS.L30.T15RYP.2023252T163206.v2.0/HLS.L30.T15RYP.2023252T163206.v2.0.SAA.tif>,\n",
              "  <File-like object HTTPFileSystem, https://data.lpdaac.earthdatacloud.nasa.gov/lp-prod-protected/HLSL30.020/HLS.L30.T15RYP.2023252T163206.v2.0/HLS.L30.T15RYP.2023252T163206.v2.0.B04.tif>],\n",
              " [<File-like object HTTPFileSystem, https://data.lpdaac.earthdatacloud.nasa.gov/lp-prod-protected/HLSL30.020/HLS.L30.T15RYN.2023252T163206.v2.0/HLS.L30.T15RYN.2023252T163206.v2.0.B10.tif>,\n",
              "  <File-like object HTTPFileSystem, https://data.lpdaac.earthdatacloud.nasa.gov/lp-prod-protected/HLSL30.020/HLS.L30.T15RYN.2023252T163206.v2.0/HLS.L30.T15RYN.2023252T163206.v2.0.VZA.tif>,\n",
              "  <File-like object HTTPFileSystem, https://data.lpdaac.earthdatacloud.nasa.gov/lp-prod-protected/HLSL30.020/HLS.L30.T15RYN.2023252T163206.v2.0/HLS.L30.T15RYN.2023252T163206.v2.0.SZA.tif>,\n",
              "  <File-like object HTTPFileSystem, https://data.lpdaac.earthdatacloud.nasa.gov/lp-prod-protected/HLSL30.020/HLS.L30.T15RYN.2023252T163206.v2.0/HLS.L30.T15RYN.2023252T163206.v2.0.SAA.tif>,\n",
              "  <File-like object HTTPFileSystem, https://data.lpdaac.earthdatacloud.nasa.gov/lp-prod-protected/HLSL30.020/HLS.L30.T15RYN.2023252T163206.v2.0/HLS.L30.T15RYN.2023252T163206.v2.0.B05.tif>,\n",
              "  <File-like object HTTPFileSystem, https://data.lpdaac.earthdatacloud.nasa.gov/lp-prod-protected/HLSL30.020/HLS.L30.T15RYN.2023252T163206.v2.0/HLS.L30.T15RYN.2023252T163206.v2.0.VAA.tif>,\n",
              "  <File-like object HTTPFileSystem, https://data.lpdaac.earthdatacloud.nasa.gov/lp-prod-protected/HLSL30.020/HLS.L30.T15RYN.2023252T163206.v2.0/HLS.L30.T15RYN.2023252T163206.v2.0.B02.tif>,\n",
              "  <File-like object HTTPFileSystem, https://data.lpdaac.earthdatacloud.nasa.gov/lp-prod-protected/HLSL30.020/HLS.L30.T15RYN.2023252T163206.v2.0/HLS.L30.T15RYN.2023252T163206.v2.0.B04.tif>,\n",
              "  <File-like object HTTPFileSystem, https://data.lpdaac.earthdatacloud.nasa.gov/lp-prod-protected/HLSL30.020/HLS.L30.T15RYN.2023252T163206.v2.0/HLS.L30.T15RYN.2023252T163206.v2.0.B07.tif>,\n",
              "  <File-like object HTTPFileSystem, https://data.lpdaac.earthdatacloud.nasa.gov/lp-prod-protected/HLSL30.020/HLS.L30.T15RYN.2023252T163206.v2.0/HLS.L30.T15RYN.2023252T163206.v2.0.B06.tif>,\n",
              "  <File-like object HTTPFileSystem, https://data.lpdaac.earthdatacloud.nasa.gov/lp-prod-protected/HLSL30.020/HLS.L30.T15RYN.2023252T163206.v2.0/HLS.L30.T15RYN.2023252T163206.v2.0.B01.tif>,\n",
              "  <File-like object HTTPFileSystem, https://data.lpdaac.earthdatacloud.nasa.gov/lp-prod-protected/HLSL30.020/HLS.L30.T15RYN.2023252T163206.v2.0/HLS.L30.T15RYN.2023252T163206.v2.0.B11.tif>,\n",
              "  <File-like object HTTPFileSystem, https://data.lpdaac.earthdatacloud.nasa.gov/lp-prod-protected/HLSL30.020/HLS.L30.T15RYN.2023252T163206.v2.0/HLS.L30.T15RYN.2023252T163206.v2.0.Fmask.tif>,\n",
              "  <File-like object HTTPFileSystem, https://data.lpdaac.earthdatacloud.nasa.gov/lp-prod-protected/HLSL30.020/HLS.L30.T15RYN.2023252T163206.v2.0/HLS.L30.T15RYN.2023252T163206.v2.0.B03.tif>,\n",
              "  <File-like object HTTPFileSystem, https://data.lpdaac.earthdatacloud.nasa.gov/lp-prod-protected/HLSL30.020/HLS.L30.T15RYN.2023252T163206.v2.0/HLS.L30.T15RYN.2023252T163206.v2.0.B09.tif>],\n",
              " [<File-like object HTTPFileSystem, https://data.lpdaac.earthdatacloud.nasa.gov/lp-prod-protected/HLSL30.020/HLS.L30.T16RBT.2023252T163206.v2.0/HLS.L30.T16RBT.2023252T163206.v2.0.B09.tif>,\n",
              "  <File-like object HTTPFileSystem, https://data.lpdaac.earthdatacloud.nasa.gov/lp-prod-protected/HLSL30.020/HLS.L30.T16RBT.2023252T163206.v2.0/HLS.L30.T16RBT.2023252T163206.v2.0.B03.tif>,\n",
              "  <File-like object HTTPFileSystem, https://data.lpdaac.earthdatacloud.nasa.gov/lp-prod-protected/HLSL30.020/HLS.L30.T16RBT.2023252T163206.v2.0/HLS.L30.T16RBT.2023252T163206.v2.0.B06.tif>,\n",
              "  <File-like object HTTPFileSystem, https://data.lpdaac.earthdatacloud.nasa.gov/lp-prod-protected/HLSL30.020/HLS.L30.T16RBT.2023252T163206.v2.0/HLS.L30.T16RBT.2023252T163206.v2.0.VZA.tif>,\n",
              "  <File-like object HTTPFileSystem, https://data.lpdaac.earthdatacloud.nasa.gov/lp-prod-protected/HLSL30.020/HLS.L30.T16RBT.2023252T163206.v2.0/HLS.L30.T16RBT.2023252T163206.v2.0.SZA.tif>,\n",
              "  <File-like object HTTPFileSystem, https://data.lpdaac.earthdatacloud.nasa.gov/lp-prod-protected/HLSL30.020/HLS.L30.T16RBT.2023252T163206.v2.0/HLS.L30.T16RBT.2023252T163206.v2.0.B10.tif>,\n",
              "  <File-like object HTTPFileSystem, https://data.lpdaac.earthdatacloud.nasa.gov/lp-prod-protected/HLSL30.020/HLS.L30.T16RBT.2023252T163206.v2.0/HLS.L30.T16RBT.2023252T163206.v2.0.B02.tif>,\n",
              "  <File-like object HTTPFileSystem, https://data.lpdaac.earthdatacloud.nasa.gov/lp-prod-protected/HLSL30.020/HLS.L30.T16RBT.2023252T163206.v2.0/HLS.L30.T16RBT.2023252T163206.v2.0.B07.tif>,\n",
              "  <File-like object HTTPFileSystem, https://data.lpdaac.earthdatacloud.nasa.gov/lp-prod-protected/HLSL30.020/HLS.L30.T16RBT.2023252T163206.v2.0/HLS.L30.T16RBT.2023252T163206.v2.0.SAA.tif>,\n",
              "  <File-like object HTTPFileSystem, https://data.lpdaac.earthdatacloud.nasa.gov/lp-prod-protected/HLSL30.020/HLS.L30.T16RBT.2023252T163206.v2.0/HLS.L30.T16RBT.2023252T163206.v2.0.Fmask.tif>,\n",
              "  <File-like object HTTPFileSystem, https://data.lpdaac.earthdatacloud.nasa.gov/lp-prod-protected/HLSL30.020/HLS.L30.T16RBT.2023252T163206.v2.0/HLS.L30.T16RBT.2023252T163206.v2.0.B01.tif>,\n",
              "  <File-like object HTTPFileSystem, https://data.lpdaac.earthdatacloud.nasa.gov/lp-prod-protected/HLSL30.020/HLS.L30.T16RBT.2023252T163206.v2.0/HLS.L30.T16RBT.2023252T163206.v2.0.B11.tif>,\n",
              "  <File-like object HTTPFileSystem, https://data.lpdaac.earthdatacloud.nasa.gov/lp-prod-protected/HLSL30.020/HLS.L30.T16RBT.2023252T163206.v2.0/HLS.L30.T16RBT.2023252T163206.v2.0.VAA.tif>,\n",
              "  <File-like object HTTPFileSystem, https://data.lpdaac.earthdatacloud.nasa.gov/lp-prod-protected/HLSL30.020/HLS.L30.T16RBT.2023252T163206.v2.0/HLS.L30.T16RBT.2023252T163206.v2.0.B05.tif>,\n",
              "  <File-like object HTTPFileSystem, https://data.lpdaac.earthdatacloud.nasa.gov/lp-prod-protected/HLSL30.020/HLS.L30.T16RBT.2023252T163206.v2.0/HLS.L30.T16RBT.2023252T163206.v2.0.B04.tif>],\n",
              " [<File-like object HTTPFileSystem, https://data.lpdaac.earthdatacloud.nasa.gov/lp-prod-protected/HLSL30.020/HLS.L30.T16RBU.2023260T163211.v2.0/HLS.L30.T16RBU.2023260T163211.v2.0.B09.tif>,\n",
              "  <File-like object HTTPFileSystem, https://data.lpdaac.earthdatacloud.nasa.gov/lp-prod-protected/HLSL30.020/HLS.L30.T16RBU.2023260T163211.v2.0/HLS.L30.T16RBU.2023260T163211.v2.0.SZA.tif>,\n",
              "  <File-like object HTTPFileSystem, https://data.lpdaac.earthdatacloud.nasa.gov/lp-prod-protected/HLSL30.020/HLS.L30.T16RBU.2023260T163211.v2.0/HLS.L30.T16RBU.2023260T163211.v2.0.B03.tif>,\n",
              "  <File-like object HTTPFileSystem, https://data.lpdaac.earthdatacloud.nasa.gov/lp-prod-protected/HLSL30.020/HLS.L30.T16RBU.2023260T163211.v2.0/HLS.L30.T16RBU.2023260T163211.v2.0.B02.tif>,\n",
              "  <File-like object HTTPFileSystem, https://data.lpdaac.earthdatacloud.nasa.gov/lp-prod-protected/HLSL30.020/HLS.L30.T16RBU.2023260T163211.v2.0/HLS.L30.T16RBU.2023260T163211.v2.0.B11.tif>,\n",
              "  <File-like object HTTPFileSystem, https://data.lpdaac.earthdatacloud.nasa.gov/lp-prod-protected/HLSL30.020/HLS.L30.T16RBU.2023260T163211.v2.0/HLS.L30.T16RBU.2023260T163211.v2.0.VAA.tif>,\n",
              "  <File-like object HTTPFileSystem, https://data.lpdaac.earthdatacloud.nasa.gov/lp-prod-protected/HLSL30.020/HLS.L30.T16RBU.2023260T163211.v2.0/HLS.L30.T16RBU.2023260T163211.v2.0.Fmask.tif>,\n",
              "  <File-like object HTTPFileSystem, https://data.lpdaac.earthdatacloud.nasa.gov/lp-prod-protected/HLSL30.020/HLS.L30.T16RBU.2023260T163211.v2.0/HLS.L30.T16RBU.2023260T163211.v2.0.SAA.tif>,\n",
              "  <File-like object HTTPFileSystem, https://data.lpdaac.earthdatacloud.nasa.gov/lp-prod-protected/HLSL30.020/HLS.L30.T16RBU.2023260T163211.v2.0/HLS.L30.T16RBU.2023260T163211.v2.0.B06.tif>,\n",
              "  <File-like object HTTPFileSystem, https://data.lpdaac.earthdatacloud.nasa.gov/lp-prod-protected/HLSL30.020/HLS.L30.T16RBU.2023260T163211.v2.0/HLS.L30.T16RBU.2023260T163211.v2.0.B05.tif>,\n",
              "  <File-like object HTTPFileSystem, https://data.lpdaac.earthdatacloud.nasa.gov/lp-prod-protected/HLSL30.020/HLS.L30.T16RBU.2023260T163211.v2.0/HLS.L30.T16RBU.2023260T163211.v2.0.B10.tif>,\n",
              "  <File-like object HTTPFileSystem, https://data.lpdaac.earthdatacloud.nasa.gov/lp-prod-protected/HLSL30.020/HLS.L30.T16RBU.2023260T163211.v2.0/HLS.L30.T16RBU.2023260T163211.v2.0.B07.tif>,\n",
              "  <File-like object HTTPFileSystem, https://data.lpdaac.earthdatacloud.nasa.gov/lp-prod-protected/HLSL30.020/HLS.L30.T16RBU.2023260T163211.v2.0/HLS.L30.T16RBU.2023260T163211.v2.0.VZA.tif>,\n",
              "  <File-like object HTTPFileSystem, https://data.lpdaac.earthdatacloud.nasa.gov/lp-prod-protected/HLSL30.020/HLS.L30.T16RBU.2023260T163211.v2.0/HLS.L30.T16RBU.2023260T163211.v2.0.B04.tif>,\n",
              "  <File-like object HTTPFileSystem, https://data.lpdaac.earthdatacloud.nasa.gov/lp-prod-protected/HLSL30.020/HLS.L30.T16RBU.2023260T163211.v2.0/HLS.L30.T16RBU.2023260T163211.v2.0.B01.tif>],\n",
              " [<File-like object HTTPFileSystem, https://data.lpdaac.earthdatacloud.nasa.gov/lp-prod-protected/HLSL30.020/HLS.L30.T15RYP.2023260T163211.v2.0/HLS.L30.T15RYP.2023260T163211.v2.0.B02.tif>,\n",
              "  <File-like object HTTPFileSystem, https://data.lpdaac.earthdatacloud.nasa.gov/lp-prod-protected/HLSL30.020/HLS.L30.T15RYP.2023260T163211.v2.0/HLS.L30.T15RYP.2023260T163211.v2.0.VZA.tif>,\n",
              "  <File-like object HTTPFileSystem, https://data.lpdaac.earthdatacloud.nasa.gov/lp-prod-protected/HLSL30.020/HLS.L30.T15RYP.2023260T163211.v2.0/HLS.L30.T15RYP.2023260T163211.v2.0.Fmask.tif>,\n",
              "  <File-like object HTTPFileSystem, https://data.lpdaac.earthdatacloud.nasa.gov/lp-prod-protected/HLSL30.020/HLS.L30.T15RYP.2023260T163211.v2.0/HLS.L30.T15RYP.2023260T163211.v2.0.B10.tif>,\n",
              "  <File-like object HTTPFileSystem, https://data.lpdaac.earthdatacloud.nasa.gov/lp-prod-protected/HLSL30.020/HLS.L30.T15RYP.2023260T163211.v2.0/HLS.L30.T15RYP.2023260T163211.v2.0.SAA.tif>,\n",
              "  <File-like object HTTPFileSystem, https://data.lpdaac.earthdatacloud.nasa.gov/lp-prod-protected/HLSL30.020/HLS.L30.T15RYP.2023260T163211.v2.0/HLS.L30.T15RYP.2023260T163211.v2.0.SZA.tif>,\n",
              "  <File-like object HTTPFileSystem, https://data.lpdaac.earthdatacloud.nasa.gov/lp-prod-protected/HLSL30.020/HLS.L30.T15RYP.2023260T163211.v2.0/HLS.L30.T15RYP.2023260T163211.v2.0.B05.tif>,\n",
              "  <File-like object HTTPFileSystem, https://data.lpdaac.earthdatacloud.nasa.gov/lp-prod-protected/HLSL30.020/HLS.L30.T15RYP.2023260T163211.v2.0/HLS.L30.T15RYP.2023260T163211.v2.0.B01.tif>,\n",
              "  <File-like object HTTPFileSystem, https://data.lpdaac.earthdatacloud.nasa.gov/lp-prod-protected/HLSL30.020/HLS.L30.T15RYP.2023260T163211.v2.0/HLS.L30.T15RYP.2023260T163211.v2.0.B07.tif>,\n",
              "  <File-like object HTTPFileSystem, https://data.lpdaac.earthdatacloud.nasa.gov/lp-prod-protected/HLSL30.020/HLS.L30.T15RYP.2023260T163211.v2.0/HLS.L30.T15RYP.2023260T163211.v2.0.B04.tif>,\n",
              "  <File-like object HTTPFileSystem, https://data.lpdaac.earthdatacloud.nasa.gov/lp-prod-protected/HLSL30.020/HLS.L30.T15RYP.2023260T163211.v2.0/HLS.L30.T15RYP.2023260T163211.v2.0.B03.tif>,\n",
              "  <File-like object HTTPFileSystem, https://data.lpdaac.earthdatacloud.nasa.gov/lp-prod-protected/HLSL30.020/HLS.L30.T15RYP.2023260T163211.v2.0/HLS.L30.T15RYP.2023260T163211.v2.0.VAA.tif>,\n",
              "  <File-like object HTTPFileSystem, https://data.lpdaac.earthdatacloud.nasa.gov/lp-prod-protected/HLSL30.020/HLS.L30.T15RYP.2023260T163211.v2.0/HLS.L30.T15RYP.2023260T163211.v2.0.B09.tif>,\n",
              "  <File-like object HTTPFileSystem, https://data.lpdaac.earthdatacloud.nasa.gov/lp-prod-protected/HLSL30.020/HLS.L30.T15RYP.2023260T163211.v2.0/HLS.L30.T15RYP.2023260T163211.v2.0.B11.tif>,\n",
              "  <File-like object HTTPFileSystem, https://data.lpdaac.earthdatacloud.nasa.gov/lp-prod-protected/HLSL30.020/HLS.L30.T15RYP.2023260T163211.v2.0/HLS.L30.T15RYP.2023260T163211.v2.0.B06.tif>],\n",
              " [<File-like object HTTPFileSystem, https://data.lpdaac.earthdatacloud.nasa.gov/lp-prod-protected/HLSL30.020/HLS.L30.T16RBT.2023260T163211.v2.0/HLS.L30.T16RBT.2023260T163211.v2.0.SZA.tif>,\n",
              "  <File-like object HTTPFileSystem, https://data.lpdaac.earthdatacloud.nasa.gov/lp-prod-protected/HLSL30.020/HLS.L30.T16RBT.2023260T163211.v2.0/HLS.L30.T16RBT.2023260T163211.v2.0.Fmask.tif>,\n",
              "  <File-like object HTTPFileSystem, https://data.lpdaac.earthdatacloud.nasa.gov/lp-prod-protected/HLSL30.020/HLS.L30.T16RBT.2023260T163211.v2.0/HLS.L30.T16RBT.2023260T163211.v2.0.B09.tif>,\n",
              "  <File-like object HTTPFileSystem, https://data.lpdaac.earthdatacloud.nasa.gov/lp-prod-protected/HLSL30.020/HLS.L30.T16RBT.2023260T163211.v2.0/HLS.L30.T16RBT.2023260T163211.v2.0.SAA.tif>,\n",
              "  <File-like object HTTPFileSystem, https://data.lpdaac.earthdatacloud.nasa.gov/lp-prod-protected/HLSL30.020/HLS.L30.T16RBT.2023260T163211.v2.0/HLS.L30.T16RBT.2023260T163211.v2.0.VZA.tif>,\n",
              "  <File-like object HTTPFileSystem, https://data.lpdaac.earthdatacloud.nasa.gov/lp-prod-protected/HLSL30.020/HLS.L30.T16RBT.2023260T163211.v2.0/HLS.L30.T16RBT.2023260T163211.v2.0.VAA.tif>,\n",
              "  <File-like object HTTPFileSystem, https://data.lpdaac.earthdatacloud.nasa.gov/lp-prod-protected/HLSL30.020/HLS.L30.T16RBT.2023260T163211.v2.0/HLS.L30.T16RBT.2023260T163211.v2.0.B01.tif>,\n",
              "  <File-like object HTTPFileSystem, https://data.lpdaac.earthdatacloud.nasa.gov/lp-prod-protected/HLSL30.020/HLS.L30.T16RBT.2023260T163211.v2.0/HLS.L30.T16RBT.2023260T163211.v2.0.B03.tif>,\n",
              "  <File-like object HTTPFileSystem, https://data.lpdaac.earthdatacloud.nasa.gov/lp-prod-protected/HLSL30.020/HLS.L30.T16RBT.2023260T163211.v2.0/HLS.L30.T16RBT.2023260T163211.v2.0.B02.tif>,\n",
              "  <File-like object HTTPFileSystem, https://data.lpdaac.earthdatacloud.nasa.gov/lp-prod-protected/HLSL30.020/HLS.L30.T16RBT.2023260T163211.v2.0/HLS.L30.T16RBT.2023260T163211.v2.0.B05.tif>,\n",
              "  <File-like object HTTPFileSystem, https://data.lpdaac.earthdatacloud.nasa.gov/lp-prod-protected/HLSL30.020/HLS.L30.T16RBT.2023260T163211.v2.0/HLS.L30.T16RBT.2023260T163211.v2.0.B11.tif>,\n",
              "  <File-like object HTTPFileSystem, https://data.lpdaac.earthdatacloud.nasa.gov/lp-prod-protected/HLSL30.020/HLS.L30.T16RBT.2023260T163211.v2.0/HLS.L30.T16RBT.2023260T163211.v2.0.B07.tif>,\n",
              "  <File-like object HTTPFileSystem, https://data.lpdaac.earthdatacloud.nasa.gov/lp-prod-protected/HLSL30.020/HLS.L30.T16RBT.2023260T163211.v2.0/HLS.L30.T16RBT.2023260T163211.v2.0.B04.tif>,\n",
              "  <File-like object HTTPFileSystem, https://data.lpdaac.earthdatacloud.nasa.gov/lp-prod-protected/HLSL30.020/HLS.L30.T16RBT.2023260T163211.v2.0/HLS.L30.T16RBT.2023260T163211.v2.0.B06.tif>,\n",
              "  <File-like object HTTPFileSystem, https://data.lpdaac.earthdatacloud.nasa.gov/lp-prod-protected/HLSL30.020/HLS.L30.T16RBT.2023260T163211.v2.0/HLS.L30.T16RBT.2023260T163211.v2.0.B10.tif>],\n",
              " [<File-like object HTTPFileSystem, https://data.lpdaac.earthdatacloud.nasa.gov/lp-prod-protected/HLSL30.020/HLS.L30.T15RYN.2023260T163211.v2.0/HLS.L30.T15RYN.2023260T163211.v2.0.VAA.tif>,\n",
              "  <File-like object HTTPFileSystem, https://data.lpdaac.earthdatacloud.nasa.gov/lp-prod-protected/HLSL30.020/HLS.L30.T15RYN.2023260T163211.v2.0/HLS.L30.T15RYN.2023260T163211.v2.0.SAA.tif>,\n",
              "  <File-like object HTTPFileSystem, https://data.lpdaac.earthdatacloud.nasa.gov/lp-prod-protected/HLSL30.020/HLS.L30.T15RYN.2023260T163211.v2.0/HLS.L30.T15RYN.2023260T163211.v2.0.SZA.tif>,\n",
              "  <File-like object HTTPFileSystem, https://data.lpdaac.earthdatacloud.nasa.gov/lp-prod-protected/HLSL30.020/HLS.L30.T15RYN.2023260T163211.v2.0/HLS.L30.T15RYN.2023260T163211.v2.0.B04.tif>,\n",
              "  <File-like object HTTPFileSystem, https://data.lpdaac.earthdatacloud.nasa.gov/lp-prod-protected/HLSL30.020/HLS.L30.T15RYN.2023260T163211.v2.0/HLS.L30.T15RYN.2023260T163211.v2.0.B05.tif>,\n",
              "  <File-like object HTTPFileSystem, https://data.lpdaac.earthdatacloud.nasa.gov/lp-prod-protected/HLSL30.020/HLS.L30.T15RYN.2023260T163211.v2.0/HLS.L30.T15RYN.2023260T163211.v2.0.B09.tif>,\n",
              "  <File-like object HTTPFileSystem, https://data.lpdaac.earthdatacloud.nasa.gov/lp-prod-protected/HLSL30.020/HLS.L30.T15RYN.2023260T163211.v2.0/HLS.L30.T15RYN.2023260T163211.v2.0.B11.tif>,\n",
              "  <File-like object HTTPFileSystem, https://data.lpdaac.earthdatacloud.nasa.gov/lp-prod-protected/HLSL30.020/HLS.L30.T15RYN.2023260T163211.v2.0/HLS.L30.T15RYN.2023260T163211.v2.0.B03.tif>,\n",
              "  <File-like object HTTPFileSystem, https://data.lpdaac.earthdatacloud.nasa.gov/lp-prod-protected/HLSL30.020/HLS.L30.T15RYN.2023260T163211.v2.0/HLS.L30.T15RYN.2023260T163211.v2.0.B06.tif>,\n",
              "  <File-like object HTTPFileSystem, https://data.lpdaac.earthdatacloud.nasa.gov/lp-prod-protected/HLSL30.020/HLS.L30.T15RYN.2023260T163211.v2.0/HLS.L30.T15RYN.2023260T163211.v2.0.B07.tif>,\n",
              "  <File-like object HTTPFileSystem, https://data.lpdaac.earthdatacloud.nasa.gov/lp-prod-protected/HLSL30.020/HLS.L30.T15RYN.2023260T163211.v2.0/HLS.L30.T15RYN.2023260T163211.v2.0.B10.tif>,\n",
              "  <File-like object HTTPFileSystem, https://data.lpdaac.earthdatacloud.nasa.gov/lp-prod-protected/HLSL30.020/HLS.L30.T15RYN.2023260T163211.v2.0/HLS.L30.T15RYN.2023260T163211.v2.0.B02.tif>,\n",
              "  <File-like object HTTPFileSystem, https://data.lpdaac.earthdatacloud.nasa.gov/lp-prod-protected/HLSL30.020/HLS.L30.T15RYN.2023260T163211.v2.0/HLS.L30.T15RYN.2023260T163211.v2.0.B01.tif>,\n",
              "  <File-like object HTTPFileSystem, https://data.lpdaac.earthdatacloud.nasa.gov/lp-prod-protected/HLSL30.020/HLS.L30.T15RYN.2023260T163211.v2.0/HLS.L30.T15RYN.2023260T163211.v2.0.Fmask.tif>,\n",
              "  <File-like object HTTPFileSystem, https://data.lpdaac.earthdatacloud.nasa.gov/lp-prod-protected/HLSL30.020/HLS.L30.T15RYN.2023260T163211.v2.0/HLS.L30.T15RYN.2023260T163211.v2.0.VZA.tif>],\n",
              " [<File-like object HTTPFileSystem, https://data.lpdaac.earthdatacloud.nasa.gov/lp-prod-protected/HLSL30.020/HLS.L30.T16RBT.2023268T163212.v2.0/HLS.L30.T16RBT.2023268T163212.v2.0.B04.tif>,\n",
              "  <File-like object HTTPFileSystem, https://data.lpdaac.earthdatacloud.nasa.gov/lp-prod-protected/HLSL30.020/HLS.L30.T16RBT.2023268T163212.v2.0/HLS.L30.T16RBT.2023268T163212.v2.0.VAA.tif>,\n",
              "  <File-like object HTTPFileSystem, https://data.lpdaac.earthdatacloud.nasa.gov/lp-prod-protected/HLSL30.020/HLS.L30.T16RBT.2023268T163212.v2.0/HLS.L30.T16RBT.2023268T163212.v2.0.B06.tif>,\n",
              "  <File-like object HTTPFileSystem, https://data.lpdaac.earthdatacloud.nasa.gov/lp-prod-protected/HLSL30.020/HLS.L30.T16RBT.2023268T163212.v2.0/HLS.L30.T16RBT.2023268T163212.v2.0.B09.tif>,\n",
              "  <File-like object HTTPFileSystem, https://data.lpdaac.earthdatacloud.nasa.gov/lp-prod-protected/HLSL30.020/HLS.L30.T16RBT.2023268T163212.v2.0/HLS.L30.T16RBT.2023268T163212.v2.0.B02.tif>,\n",
              "  <File-like object HTTPFileSystem, https://data.lpdaac.earthdatacloud.nasa.gov/lp-prod-protected/HLSL30.020/HLS.L30.T16RBT.2023268T163212.v2.0/HLS.L30.T16RBT.2023268T163212.v2.0.B11.tif>,\n",
              "  <File-like object HTTPFileSystem, https://data.lpdaac.earthdatacloud.nasa.gov/lp-prod-protected/HLSL30.020/HLS.L30.T16RBT.2023268T163212.v2.0/HLS.L30.T16RBT.2023268T163212.v2.0.Fmask.tif>,\n",
              "  <File-like object HTTPFileSystem, https://data.lpdaac.earthdatacloud.nasa.gov/lp-prod-protected/HLSL30.020/HLS.L30.T16RBT.2023268T163212.v2.0/HLS.L30.T16RBT.2023268T163212.v2.0.B07.tif>,\n",
              "  <File-like object HTTPFileSystem, https://data.lpdaac.earthdatacloud.nasa.gov/lp-prod-protected/HLSL30.020/HLS.L30.T16RBT.2023268T163212.v2.0/HLS.L30.T16RBT.2023268T163212.v2.0.SZA.tif>,\n",
              "  <File-like object HTTPFileSystem, https://data.lpdaac.earthdatacloud.nasa.gov/lp-prod-protected/HLSL30.020/HLS.L30.T16RBT.2023268T163212.v2.0/HLS.L30.T16RBT.2023268T163212.v2.0.B01.tif>,\n",
              "  <File-like object HTTPFileSystem, https://data.lpdaac.earthdatacloud.nasa.gov/lp-prod-protected/HLSL30.020/HLS.L30.T16RBT.2023268T163212.v2.0/HLS.L30.T16RBT.2023268T163212.v2.0.B03.tif>,\n",
              "  <File-like object HTTPFileSystem, https://data.lpdaac.earthdatacloud.nasa.gov/lp-prod-protected/HLSL30.020/HLS.L30.T16RBT.2023268T163212.v2.0/HLS.L30.T16RBT.2023268T163212.v2.0.SAA.tif>,\n",
              "  <File-like object HTTPFileSystem, https://data.lpdaac.earthdatacloud.nasa.gov/lp-prod-protected/HLSL30.020/HLS.L30.T16RBT.2023268T163212.v2.0/HLS.L30.T16RBT.2023268T163212.v2.0.B10.tif>,\n",
              "  <File-like object HTTPFileSystem, https://data.lpdaac.earthdatacloud.nasa.gov/lp-prod-protected/HLSL30.020/HLS.L30.T16RBT.2023268T163212.v2.0/HLS.L30.T16RBT.2023268T163212.v2.0.VZA.tif>,\n",
              "  <File-like object HTTPFileSystem, https://data.lpdaac.earthdatacloud.nasa.gov/lp-prod-protected/HLSL30.020/HLS.L30.T16RBT.2023268T163212.v2.0/HLS.L30.T16RBT.2023268T163212.v2.0.B05.tif>],\n",
              " [<File-like object HTTPFileSystem, https://data.lpdaac.earthdatacloud.nasa.gov/lp-prod-protected/HLSL30.020/HLS.L30.T15RYN.2023268T163212.v2.0/HLS.L30.T15RYN.2023268T163212.v2.0.VAA.tif>,\n",
              "  <File-like object HTTPFileSystem, https://data.lpdaac.earthdatacloud.nasa.gov/lp-prod-protected/HLSL30.020/HLS.L30.T15RYN.2023268T163212.v2.0/HLS.L30.T15RYN.2023268T163212.v2.0.Fmask.tif>,\n",
              "  <File-like object HTTPFileSystem, https://data.lpdaac.earthdatacloud.nasa.gov/lp-prod-protected/HLSL30.020/HLS.L30.T15RYN.2023268T163212.v2.0/HLS.L30.T15RYN.2023268T163212.v2.0.SAA.tif>,\n",
              "  <File-like object HTTPFileSystem, https://data.lpdaac.earthdatacloud.nasa.gov/lp-prod-protected/HLSL30.020/HLS.L30.T15RYN.2023268T163212.v2.0/HLS.L30.T15RYN.2023268T163212.v2.0.SZA.tif>,\n",
              "  <File-like object HTTPFileSystem, https://data.lpdaac.earthdatacloud.nasa.gov/lp-prod-protected/HLSL30.020/HLS.L30.T15RYN.2023268T163212.v2.0/HLS.L30.T15RYN.2023268T163212.v2.0.B04.tif>,\n",
              "  <File-like object HTTPFileSystem, https://data.lpdaac.earthdatacloud.nasa.gov/lp-prod-protected/HLSL30.020/HLS.L30.T15RYN.2023268T163212.v2.0/HLS.L30.T15RYN.2023268T163212.v2.0.B06.tif>,\n",
              "  <File-like object HTTPFileSystem, https://data.lpdaac.earthdatacloud.nasa.gov/lp-prod-protected/HLSL30.020/HLS.L30.T15RYN.2023268T163212.v2.0/HLS.L30.T15RYN.2023268T163212.v2.0.B03.tif>,\n",
              "  <File-like object HTTPFileSystem, https://data.lpdaac.earthdatacloud.nasa.gov/lp-prod-protected/HLSL30.020/HLS.L30.T15RYN.2023268T163212.v2.0/HLS.L30.T15RYN.2023268T163212.v2.0.B11.tif>,\n",
              "  <File-like object HTTPFileSystem, https://data.lpdaac.earthdatacloud.nasa.gov/lp-prod-protected/HLSL30.020/HLS.L30.T15RYN.2023268T163212.v2.0/HLS.L30.T15RYN.2023268T163212.v2.0.B07.tif>,\n",
              "  <File-like object HTTPFileSystem, https://data.lpdaac.earthdatacloud.nasa.gov/lp-prod-protected/HLSL30.020/HLS.L30.T15RYN.2023268T163212.v2.0/HLS.L30.T15RYN.2023268T163212.v2.0.B02.tif>,\n",
              "  <File-like object HTTPFileSystem, https://data.lpdaac.earthdatacloud.nasa.gov/lp-prod-protected/HLSL30.020/HLS.L30.T15RYN.2023268T163212.v2.0/HLS.L30.T15RYN.2023268T163212.v2.0.B01.tif>,\n",
              "  <File-like object HTTPFileSystem, https://data.lpdaac.earthdatacloud.nasa.gov/lp-prod-protected/HLSL30.020/HLS.L30.T15RYN.2023268T163212.v2.0/HLS.L30.T15RYN.2023268T163212.v2.0.VZA.tif>,\n",
              "  <File-like object HTTPFileSystem, https://data.lpdaac.earthdatacloud.nasa.gov/lp-prod-protected/HLSL30.020/HLS.L30.T15RYN.2023268T163212.v2.0/HLS.L30.T15RYN.2023268T163212.v2.0.B10.tif>,\n",
              "  <File-like object HTTPFileSystem, https://data.lpdaac.earthdatacloud.nasa.gov/lp-prod-protected/HLSL30.020/HLS.L30.T15RYN.2023268T163212.v2.0/HLS.L30.T15RYN.2023268T163212.v2.0.B09.tif>,\n",
              "  <File-like object HTTPFileSystem, https://data.lpdaac.earthdatacloud.nasa.gov/lp-prod-protected/HLSL30.020/HLS.L30.T15RYN.2023268T163212.v2.0/HLS.L30.T15RYN.2023268T163212.v2.0.B05.tif>],\n",
              " [<File-like object HTTPFileSystem, https://data.lpdaac.earthdatacloud.nasa.gov/lp-prod-protected/HLSL30.020/HLS.L30.T16RBU.2023268T163212.v2.0/HLS.L30.T16RBU.2023268T163212.v2.0.B06.tif>,\n",
              "  <File-like object HTTPFileSystem, https://data.lpdaac.earthdatacloud.nasa.gov/lp-prod-protected/HLSL30.020/HLS.L30.T16RBU.2023268T163212.v2.0/HLS.L30.T16RBU.2023268T163212.v2.0.VAA.tif>,\n",
              "  <File-like object HTTPFileSystem, https://data.lpdaac.earthdatacloud.nasa.gov/lp-prod-protected/HLSL30.020/HLS.L30.T16RBU.2023268T163212.v2.0/HLS.L30.T16RBU.2023268T163212.v2.0.B07.tif>,\n",
              "  <File-like object HTTPFileSystem, https://data.lpdaac.earthdatacloud.nasa.gov/lp-prod-protected/HLSL30.020/HLS.L30.T16RBU.2023268T163212.v2.0/HLS.L30.T16RBU.2023268T163212.v2.0.B04.tif>,\n",
              "  <File-like object HTTPFileSystem, https://data.lpdaac.earthdatacloud.nasa.gov/lp-prod-protected/HLSL30.020/HLS.L30.T16RBU.2023268T163212.v2.0/HLS.L30.T16RBU.2023268T163212.v2.0.B05.tif>,\n",
              "  <File-like object HTTPFileSystem, https://data.lpdaac.earthdatacloud.nasa.gov/lp-prod-protected/HLSL30.020/HLS.L30.T16RBU.2023268T163212.v2.0/HLS.L30.T16RBU.2023268T163212.v2.0.B09.tif>,\n",
              "  <File-like object HTTPFileSystem, https://data.lpdaac.earthdatacloud.nasa.gov/lp-prod-protected/HLSL30.020/HLS.L30.T16RBU.2023268T163212.v2.0/HLS.L30.T16RBU.2023268T163212.v2.0.Fmask.tif>,\n",
              "  <File-like object HTTPFileSystem, https://data.lpdaac.earthdatacloud.nasa.gov/lp-prod-protected/HLSL30.020/HLS.L30.T16RBU.2023268T163212.v2.0/HLS.L30.T16RBU.2023268T163212.v2.0.B02.tif>,\n",
              "  <File-like object HTTPFileSystem, https://data.lpdaac.earthdatacloud.nasa.gov/lp-prod-protected/HLSL30.020/HLS.L30.T16RBU.2023268T163212.v2.0/HLS.L30.T16RBU.2023268T163212.v2.0.VZA.tif>,\n",
              "  <File-like object HTTPFileSystem, https://data.lpdaac.earthdatacloud.nasa.gov/lp-prod-protected/HLSL30.020/HLS.L30.T16RBU.2023268T163212.v2.0/HLS.L30.T16RBU.2023268T163212.v2.0.SAA.tif>,\n",
              "  <File-like object HTTPFileSystem, https://data.lpdaac.earthdatacloud.nasa.gov/lp-prod-protected/HLSL30.020/HLS.L30.T16RBU.2023268T163212.v2.0/HLS.L30.T16RBU.2023268T163212.v2.0.SZA.tif>,\n",
              "  <File-like object HTTPFileSystem, https://data.lpdaac.earthdatacloud.nasa.gov/lp-prod-protected/HLSL30.020/HLS.L30.T16RBU.2023268T163212.v2.0/HLS.L30.T16RBU.2023268T163212.v2.0.B01.tif>,\n",
              "  <File-like object HTTPFileSystem, https://data.lpdaac.earthdatacloud.nasa.gov/lp-prod-protected/HLSL30.020/HLS.L30.T16RBU.2023268T163212.v2.0/HLS.L30.T16RBU.2023268T163212.v2.0.B11.tif>,\n",
              "  <File-like object HTTPFileSystem, https://data.lpdaac.earthdatacloud.nasa.gov/lp-prod-protected/HLSL30.020/HLS.L30.T16RBU.2023268T163212.v2.0/HLS.L30.T16RBU.2023268T163212.v2.0.B03.tif>,\n",
              "  <File-like object HTTPFileSystem, https://data.lpdaac.earthdatacloud.nasa.gov/lp-prod-protected/HLSL30.020/HLS.L30.T16RBU.2023268T163212.v2.0/HLS.L30.T16RBU.2023268T163212.v2.0.B10.tif>],\n",
              " [<File-like object HTTPFileSystem, https://data.lpdaac.earthdatacloud.nasa.gov/lp-prod-protected/HLSL30.020/HLS.L30.T15RYP.2023268T163212.v2.0/HLS.L30.T15RYP.2023268T163212.v2.0.B04.tif>,\n",
              "  <File-like object HTTPFileSystem, https://data.lpdaac.earthdatacloud.nasa.gov/lp-prod-protected/HLSL30.020/HLS.L30.T15RYP.2023268T163212.v2.0/HLS.L30.T15RYP.2023268T163212.v2.0.SAA.tif>,\n",
              "  <File-like object HTTPFileSystem, https://data.lpdaac.earthdatacloud.nasa.gov/lp-prod-protected/HLSL30.020/HLS.L30.T15RYP.2023268T163212.v2.0/HLS.L30.T15RYP.2023268T163212.v2.0.B07.tif>,\n",
              "  <File-like object HTTPFileSystem, https://data.lpdaac.earthdatacloud.nasa.gov/lp-prod-protected/HLSL30.020/HLS.L30.T15RYP.2023268T163212.v2.0/HLS.L30.T15RYP.2023268T163212.v2.0.VZA.tif>,\n",
              "  <File-like object HTTPFileSystem, https://data.lpdaac.earthdatacloud.nasa.gov/lp-prod-protected/HLSL30.020/HLS.L30.T15RYP.2023268T163212.v2.0/HLS.L30.T15RYP.2023268T163212.v2.0.B09.tif>,\n",
              "  <File-like object HTTPFileSystem, https://data.lpdaac.earthdatacloud.nasa.gov/lp-prod-protected/HLSL30.020/HLS.L30.T15RYP.2023268T163212.v2.0/HLS.L30.T15RYP.2023268T163212.v2.0.B01.tif>,\n",
              "  <File-like object HTTPFileSystem, https://data.lpdaac.earthdatacloud.nasa.gov/lp-prod-protected/HLSL30.020/HLS.L30.T15RYP.2023268T163212.v2.0/HLS.L30.T15RYP.2023268T163212.v2.0.B10.tif>,\n",
              "  <File-like object HTTPFileSystem, https://data.lpdaac.earthdatacloud.nasa.gov/lp-prod-protected/HLSL30.020/HLS.L30.T15RYP.2023268T163212.v2.0/HLS.L30.T15RYP.2023268T163212.v2.0.B02.tif>,\n",
              "  <File-like object HTTPFileSystem, https://data.lpdaac.earthdatacloud.nasa.gov/lp-prod-protected/HLSL30.020/HLS.L30.T15RYP.2023268T163212.v2.0/HLS.L30.T15RYP.2023268T163212.v2.0.B11.tif>,\n",
              "  <File-like object HTTPFileSystem, https://data.lpdaac.earthdatacloud.nasa.gov/lp-prod-protected/HLSL30.020/HLS.L30.T15RYP.2023268T163212.v2.0/HLS.L30.T15RYP.2023268T163212.v2.0.B03.tif>,\n",
              "  <File-like object HTTPFileSystem, https://data.lpdaac.earthdatacloud.nasa.gov/lp-prod-protected/HLSL30.020/HLS.L30.T15RYP.2023268T163212.v2.0/HLS.L30.T15RYP.2023268T163212.v2.0.SZA.tif>,\n",
              "  <File-like object HTTPFileSystem, https://data.lpdaac.earthdatacloud.nasa.gov/lp-prod-protected/HLSL30.020/HLS.L30.T15RYP.2023268T163212.v2.0/HLS.L30.T15RYP.2023268T163212.v2.0.B06.tif>,\n",
              "  <File-like object HTTPFileSystem, https://data.lpdaac.earthdatacloud.nasa.gov/lp-prod-protected/HLSL30.020/HLS.L30.T15RYP.2023268T163212.v2.0/HLS.L30.T15RYP.2023268T163212.v2.0.B05.tif>,\n",
              "  <File-like object HTTPFileSystem, https://data.lpdaac.earthdatacloud.nasa.gov/lp-prod-protected/HLSL30.020/HLS.L30.T15RYP.2023268T163212.v2.0/HLS.L30.T15RYP.2023268T163212.v2.0.Fmask.tif>,\n",
              "  <File-like object HTTPFileSystem, https://data.lpdaac.earthdatacloud.nasa.gov/lp-prod-protected/HLSL30.020/HLS.L30.T15RYP.2023268T163212.v2.0/HLS.L30.T15RYP.2023268T163212.v2.0.VAA.tif>],\n",
              " [<File-like object HTTPFileSystem, https://data.lpdaac.earthdatacloud.nasa.gov/lp-prod-protected/HLSL30.020/HLS.L30.T16RBU.2023276T163211.v2.0/HLS.L30.T16RBU.2023276T163211.v2.0.Fmask.tif>,\n",
              "  <File-like object HTTPFileSystem, https://data.lpdaac.earthdatacloud.nasa.gov/lp-prod-protected/HLSL30.020/HLS.L30.T16RBU.2023276T163211.v2.0/HLS.L30.T16RBU.2023276T163211.v2.0.B03.tif>,\n",
              "  <File-like object HTTPFileSystem, https://data.lpdaac.earthdatacloud.nasa.gov/lp-prod-protected/HLSL30.020/HLS.L30.T16RBU.2023276T163211.v2.0/HLS.L30.T16RBU.2023276T163211.v2.0.VZA.tif>,\n",
              "  <File-like object HTTPFileSystem, https://data.lpdaac.earthdatacloud.nasa.gov/lp-prod-protected/HLSL30.020/HLS.L30.T16RBU.2023276T163211.v2.0/HLS.L30.T16RBU.2023276T163211.v2.0.SZA.tif>,\n",
              "  <File-like object HTTPFileSystem, https://data.lpdaac.earthdatacloud.nasa.gov/lp-prod-protected/HLSL30.020/HLS.L30.T16RBU.2023276T163211.v2.0/HLS.L30.T16RBU.2023276T163211.v2.0.B02.tif>,\n",
              "  <File-like object HTTPFileSystem, https://data.lpdaac.earthdatacloud.nasa.gov/lp-prod-protected/HLSL30.020/HLS.L30.T16RBU.2023276T163211.v2.0/HLS.L30.T16RBU.2023276T163211.v2.0.B07.tif>,\n",
              "  <File-like object HTTPFileSystem, https://data.lpdaac.earthdatacloud.nasa.gov/lp-prod-protected/HLSL30.020/HLS.L30.T16RBU.2023276T163211.v2.0/HLS.L30.T16RBU.2023276T163211.v2.0.B04.tif>,\n",
              "  <File-like object HTTPFileSystem, https://data.lpdaac.earthdatacloud.nasa.gov/lp-prod-protected/HLSL30.020/HLS.L30.T16RBU.2023276T163211.v2.0/HLS.L30.T16RBU.2023276T163211.v2.0.SAA.tif>,\n",
              "  <File-like object HTTPFileSystem, https://data.lpdaac.earthdatacloud.nasa.gov/lp-prod-protected/HLSL30.020/HLS.L30.T16RBU.2023276T163211.v2.0/HLS.L30.T16RBU.2023276T163211.v2.0.B05.tif>,\n",
              "  <File-like object HTTPFileSystem, https://data.lpdaac.earthdatacloud.nasa.gov/lp-prod-protected/HLSL30.020/HLS.L30.T16RBU.2023276T163211.v2.0/HLS.L30.T16RBU.2023276T163211.v2.0.B09.tif>,\n",
              "  <File-like object HTTPFileSystem, https://data.lpdaac.earthdatacloud.nasa.gov/lp-prod-protected/HLSL30.020/HLS.L30.T16RBU.2023276T163211.v2.0/HLS.L30.T16RBU.2023276T163211.v2.0.VAA.tif>,\n",
              "  <File-like object HTTPFileSystem, https://data.lpdaac.earthdatacloud.nasa.gov/lp-prod-protected/HLSL30.020/HLS.L30.T16RBU.2023276T163211.v2.0/HLS.L30.T16RBU.2023276T163211.v2.0.B01.tif>,\n",
              "  <File-like object HTTPFileSystem, https://data.lpdaac.earthdatacloud.nasa.gov/lp-prod-protected/HLSL30.020/HLS.L30.T16RBU.2023276T163211.v2.0/HLS.L30.T16RBU.2023276T163211.v2.0.B06.tif>,\n",
              "  <File-like object HTTPFileSystem, https://data.lpdaac.earthdatacloud.nasa.gov/lp-prod-protected/HLSL30.020/HLS.L30.T16RBU.2023276T163211.v2.0/HLS.L30.T16RBU.2023276T163211.v2.0.B10.tif>,\n",
              "  <File-like object HTTPFileSystem, https://data.lpdaac.earthdatacloud.nasa.gov/lp-prod-protected/HLSL30.020/HLS.L30.T16RBU.2023276T163211.v2.0/HLS.L30.T16RBU.2023276T163211.v2.0.B11.tif>],\n",
              " [<File-like object HTTPFileSystem, https://data.lpdaac.earthdatacloud.nasa.gov/lp-prod-protected/HLSL30.020/HLS.L30.T15RYP.2023276T163211.v2.0/HLS.L30.T15RYP.2023276T163211.v2.0.SZA.tif>,\n",
              "  <File-like object HTTPFileSystem, https://data.lpdaac.earthdatacloud.nasa.gov/lp-prod-protected/HLSL30.020/HLS.L30.T15RYP.2023276T163211.v2.0/HLS.L30.T15RYP.2023276T163211.v2.0.B01.tif>,\n",
              "  <File-like object HTTPFileSystem, https://data.lpdaac.earthdatacloud.nasa.gov/lp-prod-protected/HLSL30.020/HLS.L30.T15RYP.2023276T163211.v2.0/HLS.L30.T15RYP.2023276T163211.v2.0.B11.tif>,\n",
              "  <File-like object HTTPFileSystem, https://data.lpdaac.earthdatacloud.nasa.gov/lp-prod-protected/HLSL30.020/HLS.L30.T15RYP.2023276T163211.v2.0/HLS.L30.T15RYP.2023276T163211.v2.0.SAA.tif>,\n",
              "  <File-like object HTTPFileSystem, https://data.lpdaac.earthdatacloud.nasa.gov/lp-prod-protected/HLSL30.020/HLS.L30.T15RYP.2023276T163211.v2.0/HLS.L30.T15RYP.2023276T163211.v2.0.B02.tif>,\n",
              "  <File-like object HTTPFileSystem, https://data.lpdaac.earthdatacloud.nasa.gov/lp-prod-protected/HLSL30.020/HLS.L30.T15RYP.2023276T163211.v2.0/HLS.L30.T15RYP.2023276T163211.v2.0.B05.tif>,\n",
              "  <File-like object HTTPFileSystem, https://data.lpdaac.earthdatacloud.nasa.gov/lp-prod-protected/HLSL30.020/HLS.L30.T15RYP.2023276T163211.v2.0/HLS.L30.T15RYP.2023276T163211.v2.0.B03.tif>,\n",
              "  <File-like object HTTPFileSystem, https://data.lpdaac.earthdatacloud.nasa.gov/lp-prod-protected/HLSL30.020/HLS.L30.T15RYP.2023276T163211.v2.0/HLS.L30.T15RYP.2023276T163211.v2.0.B06.tif>,\n",
              "  <File-like object HTTPFileSystem, https://data.lpdaac.earthdatacloud.nasa.gov/lp-prod-protected/HLSL30.020/HLS.L30.T15RYP.2023276T163211.v2.0/HLS.L30.T15RYP.2023276T163211.v2.0.B10.tif>,\n",
              "  <File-like object HTTPFileSystem, https://data.lpdaac.earthdatacloud.nasa.gov/lp-prod-protected/HLSL30.020/HLS.L30.T15RYP.2023276T163211.v2.0/HLS.L30.T15RYP.2023276T163211.v2.0.VZA.tif>,\n",
              "  <File-like object HTTPFileSystem, https://data.lpdaac.earthdatacloud.nasa.gov/lp-prod-protected/HLSL30.020/HLS.L30.T15RYP.2023276T163211.v2.0/HLS.L30.T15RYP.2023276T163211.v2.0.B09.tif>,\n",
              "  <File-like object HTTPFileSystem, https://data.lpdaac.earthdatacloud.nasa.gov/lp-prod-protected/HLSL30.020/HLS.L30.T15RYP.2023276T163211.v2.0/HLS.L30.T15RYP.2023276T163211.v2.0.B07.tif>,\n",
              "  <File-like object HTTPFileSystem, https://data.lpdaac.earthdatacloud.nasa.gov/lp-prod-protected/HLSL30.020/HLS.L30.T15RYP.2023276T163211.v2.0/HLS.L30.T15RYP.2023276T163211.v2.0.VAA.tif>,\n",
              "  <File-like object HTTPFileSystem, https://data.lpdaac.earthdatacloud.nasa.gov/lp-prod-protected/HLSL30.020/HLS.L30.T15RYP.2023276T163211.v2.0/HLS.L30.T15RYP.2023276T163211.v2.0.B04.tif>,\n",
              "  <File-like object HTTPFileSystem, https://data.lpdaac.earthdatacloud.nasa.gov/lp-prod-protected/HLSL30.020/HLS.L30.T15RYP.2023276T163211.v2.0/HLS.L30.T15RYP.2023276T163211.v2.0.Fmask.tif>],\n",
              " [<File-like object HTTPFileSystem, https://data.lpdaac.earthdatacloud.nasa.gov/lp-prod-protected/HLSL30.020/HLS.L30.T16RBT.2023276T163211.v2.0/HLS.L30.T16RBT.2023276T163211.v2.0.B04.tif>,\n",
              "  <File-like object HTTPFileSystem, https://data.lpdaac.earthdatacloud.nasa.gov/lp-prod-protected/HLSL30.020/HLS.L30.T16RBT.2023276T163211.v2.0/HLS.L30.T16RBT.2023276T163211.v2.0.VZA.tif>,\n",
              "  <File-like object HTTPFileSystem, https://data.lpdaac.earthdatacloud.nasa.gov/lp-prod-protected/HLSL30.020/HLS.L30.T16RBT.2023276T163211.v2.0/HLS.L30.T16RBT.2023276T163211.v2.0.B02.tif>,\n",
              "  <File-like object HTTPFileSystem, https://data.lpdaac.earthdatacloud.nasa.gov/lp-prod-protected/HLSL30.020/HLS.L30.T16RBT.2023276T163211.v2.0/HLS.L30.T16RBT.2023276T163211.v2.0.VAA.tif>,\n",
              "  <File-like object HTTPFileSystem, https://data.lpdaac.earthdatacloud.nasa.gov/lp-prod-protected/HLSL30.020/HLS.L30.T16RBT.2023276T163211.v2.0/HLS.L30.T16RBT.2023276T163211.v2.0.SZA.tif>,\n",
              "  <File-like object HTTPFileSystem, https://data.lpdaac.earthdatacloud.nasa.gov/lp-prod-protected/HLSL30.020/HLS.L30.T16RBT.2023276T163211.v2.0/HLS.L30.T16RBT.2023276T163211.v2.0.B01.tif>,\n",
              "  <File-like object HTTPFileSystem, https://data.lpdaac.earthdatacloud.nasa.gov/lp-prod-protected/HLSL30.020/HLS.L30.T16RBT.2023276T163211.v2.0/HLS.L30.T16RBT.2023276T163211.v2.0.B03.tif>,\n",
              "  <File-like object HTTPFileSystem, https://data.lpdaac.earthdatacloud.nasa.gov/lp-prod-protected/HLSL30.020/HLS.L30.T16RBT.2023276T163211.v2.0/HLS.L30.T16RBT.2023276T163211.v2.0.B05.tif>,\n",
              "  <File-like object HTTPFileSystem, https://data.lpdaac.earthdatacloud.nasa.gov/lp-prod-protected/HLSL30.020/HLS.L30.T16RBT.2023276T163211.v2.0/HLS.L30.T16RBT.2023276T163211.v2.0.B06.tif>,\n",
              "  <File-like object HTTPFileSystem, https://data.lpdaac.earthdatacloud.nasa.gov/lp-prod-protected/HLSL30.020/HLS.L30.T16RBT.2023276T163211.v2.0/HLS.L30.T16RBT.2023276T163211.v2.0.B10.tif>,\n",
              "  <File-like object HTTPFileSystem, https://data.lpdaac.earthdatacloud.nasa.gov/lp-prod-protected/HLSL30.020/HLS.L30.T16RBT.2023276T163211.v2.0/HLS.L30.T16RBT.2023276T163211.v2.0.B11.tif>,\n",
              "  <File-like object HTTPFileSystem, https://data.lpdaac.earthdatacloud.nasa.gov/lp-prod-protected/HLSL30.020/HLS.L30.T16RBT.2023276T163211.v2.0/HLS.L30.T16RBT.2023276T163211.v2.0.SAA.tif>,\n",
              "  <File-like object HTTPFileSystem, https://data.lpdaac.earthdatacloud.nasa.gov/lp-prod-protected/HLSL30.020/HLS.L30.T16RBT.2023276T163211.v2.0/HLS.L30.T16RBT.2023276T163211.v2.0.B09.tif>,\n",
              "  <File-like object HTTPFileSystem, https://data.lpdaac.earthdatacloud.nasa.gov/lp-prod-protected/HLSL30.020/HLS.L30.T16RBT.2023276T163211.v2.0/HLS.L30.T16RBT.2023276T163211.v2.0.B07.tif>,\n",
              "  <File-like object HTTPFileSystem, https://data.lpdaac.earthdatacloud.nasa.gov/lp-prod-protected/HLSL30.020/HLS.L30.T16RBT.2023276T163211.v2.0/HLS.L30.T16RBT.2023276T163211.v2.0.Fmask.tif>],\n",
              " [<File-like object HTTPFileSystem, https://data.lpdaac.earthdatacloud.nasa.gov/lp-prod-protected/HLSL30.020/HLS.L30.T15RYN.2023276T163211.v2.0/HLS.L30.T15RYN.2023276T163211.v2.0.Fmask.tif>,\n",
              "  <File-like object HTTPFileSystem, https://data.lpdaac.earthdatacloud.nasa.gov/lp-prod-protected/HLSL30.020/HLS.L30.T15RYN.2023276T163211.v2.0/HLS.L30.T15RYN.2023276T163211.v2.0.SZA.tif>,\n",
              "  <File-like object HTTPFileSystem, https://data.lpdaac.earthdatacloud.nasa.gov/lp-prod-protected/HLSL30.020/HLS.L30.T15RYN.2023276T163211.v2.0/HLS.L30.T15RYN.2023276T163211.v2.0.B02.tif>,\n",
              "  <File-like object HTTPFileSystem, https://data.lpdaac.earthdatacloud.nasa.gov/lp-prod-protected/HLSL30.020/HLS.L30.T15RYN.2023276T163211.v2.0/HLS.L30.T15RYN.2023276T163211.v2.0.B11.tif>,\n",
              "  <File-like object HTTPFileSystem, https://data.lpdaac.earthdatacloud.nasa.gov/lp-prod-protected/HLSL30.020/HLS.L30.T15RYN.2023276T163211.v2.0/HLS.L30.T15RYN.2023276T163211.v2.0.B01.tif>,\n",
              "  <File-like object HTTPFileSystem, https://data.lpdaac.earthdatacloud.nasa.gov/lp-prod-protected/HLSL30.020/HLS.L30.T15RYN.2023276T163211.v2.0/HLS.L30.T15RYN.2023276T163211.v2.0.VAA.tif>,\n",
              "  <File-like object HTTPFileSystem, https://data.lpdaac.earthdatacloud.nasa.gov/lp-prod-protected/HLSL30.020/HLS.L30.T15RYN.2023276T163211.v2.0/HLS.L30.T15RYN.2023276T163211.v2.0.B05.tif>,\n",
              "  <File-like object HTTPFileSystem, https://data.lpdaac.earthdatacloud.nasa.gov/lp-prod-protected/HLSL30.020/HLS.L30.T15RYN.2023276T163211.v2.0/HLS.L30.T15RYN.2023276T163211.v2.0.B10.tif>,\n",
              "  <File-like object HTTPFileSystem, https://data.lpdaac.earthdatacloud.nasa.gov/lp-prod-protected/HLSL30.020/HLS.L30.T15RYN.2023276T163211.v2.0/HLS.L30.T15RYN.2023276T163211.v2.0.SAA.tif>,\n",
              "  <File-like object HTTPFileSystem, https://data.lpdaac.earthdatacloud.nasa.gov/lp-prod-protected/HLSL30.020/HLS.L30.T15RYN.2023276T163211.v2.0/HLS.L30.T15RYN.2023276T163211.v2.0.VZA.tif>,\n",
              "  <File-like object HTTPFileSystem, https://data.lpdaac.earthdatacloud.nasa.gov/lp-prod-protected/HLSL30.020/HLS.L30.T15RYN.2023276T163211.v2.0/HLS.L30.T15RYN.2023276T163211.v2.0.B07.tif>,\n",
              "  <File-like object HTTPFileSystem, https://data.lpdaac.earthdatacloud.nasa.gov/lp-prod-protected/HLSL30.020/HLS.L30.T15RYN.2023276T163211.v2.0/HLS.L30.T15RYN.2023276T163211.v2.0.B09.tif>,\n",
              "  <File-like object HTTPFileSystem, https://data.lpdaac.earthdatacloud.nasa.gov/lp-prod-protected/HLSL30.020/HLS.L30.T15RYN.2023276T163211.v2.0/HLS.L30.T15RYN.2023276T163211.v2.0.B04.tif>,\n",
              "  <File-like object HTTPFileSystem, https://data.lpdaac.earthdatacloud.nasa.gov/lp-prod-protected/HLSL30.020/HLS.L30.T15RYN.2023276T163211.v2.0/HLS.L30.T15RYN.2023276T163211.v2.0.B03.tif>,\n",
              "  <File-like object HTTPFileSystem, https://data.lpdaac.earthdatacloud.nasa.gov/lp-prod-protected/HLSL30.020/HLS.L30.T15RYN.2023276T163211.v2.0/HLS.L30.T15RYN.2023276T163211.v2.0.B06.tif>],\n",
              " [<File-like object HTTPFileSystem, https://data.lpdaac.earthdatacloud.nasa.gov/lp-prod-protected/HLSL30.020/HLS.L30.T16RBT.2023292T163221.v2.0/HLS.L30.T16RBT.2023292T163221.v2.0.B10.tif>,\n",
              "  <File-like object HTTPFileSystem, https://data.lpdaac.earthdatacloud.nasa.gov/lp-prod-protected/HLSL30.020/HLS.L30.T16RBT.2023292T163221.v2.0/HLS.L30.T16RBT.2023292T163221.v2.0.B02.tif>,\n",
              "  <File-like object HTTPFileSystem, https://data.lpdaac.earthdatacloud.nasa.gov/lp-prod-protected/HLSL30.020/HLS.L30.T16RBT.2023292T163221.v2.0/HLS.L30.T16RBT.2023292T163221.v2.0.B07.tif>,\n",
              "  <File-like object HTTPFileSystem, https://data.lpdaac.earthdatacloud.nasa.gov/lp-prod-protected/HLSL30.020/HLS.L30.T16RBT.2023292T163221.v2.0/HLS.L30.T16RBT.2023292T163221.v2.0.B06.tif>,\n",
              "  <File-like object HTTPFileSystem, https://data.lpdaac.earthdatacloud.nasa.gov/lp-prod-protected/HLSL30.020/HLS.L30.T16RBT.2023292T163221.v2.0/HLS.L30.T16RBT.2023292T163221.v2.0.SZA.tif>,\n",
              "  <File-like object HTTPFileSystem, https://data.lpdaac.earthdatacloud.nasa.gov/lp-prod-protected/HLSL30.020/HLS.L30.T16RBT.2023292T163221.v2.0/HLS.L30.T16RBT.2023292T163221.v2.0.VZA.tif>,\n",
              "  <File-like object HTTPFileSystem, https://data.lpdaac.earthdatacloud.nasa.gov/lp-prod-protected/HLSL30.020/HLS.L30.T16RBT.2023292T163221.v2.0/HLS.L30.T16RBT.2023292T163221.v2.0.B03.tif>,\n",
              "  <File-like object HTTPFileSystem, https://data.lpdaac.earthdatacloud.nasa.gov/lp-prod-protected/HLSL30.020/HLS.L30.T16RBT.2023292T163221.v2.0/HLS.L30.T16RBT.2023292T163221.v2.0.B01.tif>,\n",
              "  <File-like object HTTPFileSystem, https://data.lpdaac.earthdatacloud.nasa.gov/lp-prod-protected/HLSL30.020/HLS.L30.T16RBT.2023292T163221.v2.0/HLS.L30.T16RBT.2023292T163221.v2.0.B09.tif>,\n",
              "  <File-like object HTTPFileSystem, https://data.lpdaac.earthdatacloud.nasa.gov/lp-prod-protected/HLSL30.020/HLS.L30.T16RBT.2023292T163221.v2.0/HLS.L30.T16RBT.2023292T163221.v2.0.B11.tif>,\n",
              "  <File-like object HTTPFileSystem, https://data.lpdaac.earthdatacloud.nasa.gov/lp-prod-protected/HLSL30.020/HLS.L30.T16RBT.2023292T163221.v2.0/HLS.L30.T16RBT.2023292T163221.v2.0.Fmask.tif>,\n",
              "  <File-like object HTTPFileSystem, https://data.lpdaac.earthdatacloud.nasa.gov/lp-prod-protected/HLSL30.020/HLS.L30.T16RBT.2023292T163221.v2.0/HLS.L30.T16RBT.2023292T163221.v2.0.B05.tif>,\n",
              "  <File-like object HTTPFileSystem, https://data.lpdaac.earthdatacloud.nasa.gov/lp-prod-protected/HLSL30.020/HLS.L30.T16RBT.2023292T163221.v2.0/HLS.L30.T16RBT.2023292T163221.v2.0.SAA.tif>,\n",
              "  <File-like object HTTPFileSystem, https://data.lpdaac.earthdatacloud.nasa.gov/lp-prod-protected/HLSL30.020/HLS.L30.T16RBT.2023292T163221.v2.0/HLS.L30.T16RBT.2023292T163221.v2.0.B04.tif>,\n",
              "  <File-like object HTTPFileSystem, https://data.lpdaac.earthdatacloud.nasa.gov/lp-prod-protected/HLSL30.020/HLS.L30.T16RBT.2023292T163221.v2.0/HLS.L30.T16RBT.2023292T163221.v2.0.VAA.tif>],\n",
              " [<File-like object HTTPFileSystem, https://data.lpdaac.earthdatacloud.nasa.gov/lp-prod-protected/HLSL30.020/HLS.L30.T15RYN.2023292T163221.v2.0/HLS.L30.T15RYN.2023292T163221.v2.0.VAA.tif>,\n",
              "  <File-like object HTTPFileSystem, https://data.lpdaac.earthdatacloud.nasa.gov/lp-prod-protected/HLSL30.020/HLS.L30.T15RYN.2023292T163221.v2.0/HLS.L30.T15RYN.2023292T163221.v2.0.B03.tif>,\n",
              "  <File-like object HTTPFileSystem, https://data.lpdaac.earthdatacloud.nasa.gov/lp-prod-protected/HLSL30.020/HLS.L30.T15RYN.2023292T163221.v2.0/HLS.L30.T15RYN.2023292T163221.v2.0.B02.tif>,\n",
              "  <File-like object HTTPFileSystem, https://data.lpdaac.earthdatacloud.nasa.gov/lp-prod-protected/HLSL30.020/HLS.L30.T15RYN.2023292T163221.v2.0/HLS.L30.T15RYN.2023292T163221.v2.0.B06.tif>,\n",
              "  <File-like object HTTPFileSystem, https://data.lpdaac.earthdatacloud.nasa.gov/lp-prod-protected/HLSL30.020/HLS.L30.T15RYN.2023292T163221.v2.0/HLS.L30.T15RYN.2023292T163221.v2.0.SZA.tif>,\n",
              "  <File-like object HTTPFileSystem, https://data.lpdaac.earthdatacloud.nasa.gov/lp-prod-protected/HLSL30.020/HLS.L30.T15RYN.2023292T163221.v2.0/HLS.L30.T15RYN.2023292T163221.v2.0.Fmask.tif>,\n",
              "  <File-like object HTTPFileSystem, https://data.lpdaac.earthdatacloud.nasa.gov/lp-prod-protected/HLSL30.020/HLS.L30.T15RYN.2023292T163221.v2.0/HLS.L30.T15RYN.2023292T163221.v2.0.B09.tif>,\n",
              "  <File-like object HTTPFileSystem, https://data.lpdaac.earthdatacloud.nasa.gov/lp-prod-protected/HLSL30.020/HLS.L30.T15RYN.2023292T163221.v2.0/HLS.L30.T15RYN.2023292T163221.v2.0.B07.tif>,\n",
              "  <File-like object HTTPFileSystem, https://data.lpdaac.earthdatacloud.nasa.gov/lp-prod-protected/HLSL30.020/HLS.L30.T15RYN.2023292T163221.v2.0/HLS.L30.T15RYN.2023292T163221.v2.0.B11.tif>,\n",
              "  <File-like object HTTPFileSystem, https://data.lpdaac.earthdatacloud.nasa.gov/lp-prod-protected/HLSL30.020/HLS.L30.T15RYN.2023292T163221.v2.0/HLS.L30.T15RYN.2023292T163221.v2.0.B04.tif>,\n",
              "  <File-like object HTTPFileSystem, https://data.lpdaac.earthdatacloud.nasa.gov/lp-prod-protected/HLSL30.020/HLS.L30.T15RYN.2023292T163221.v2.0/HLS.L30.T15RYN.2023292T163221.v2.0.B10.tif>,\n",
              "  <File-like object HTTPFileSystem, https://data.lpdaac.earthdatacloud.nasa.gov/lp-prod-protected/HLSL30.020/HLS.L30.T15RYN.2023292T163221.v2.0/HLS.L30.T15RYN.2023292T163221.v2.0.SAA.tif>,\n",
              "  <File-like object HTTPFileSystem, https://data.lpdaac.earthdatacloud.nasa.gov/lp-prod-protected/HLSL30.020/HLS.L30.T15RYN.2023292T163221.v2.0/HLS.L30.T15RYN.2023292T163221.v2.0.VZA.tif>,\n",
              "  <File-like object HTTPFileSystem, https://data.lpdaac.earthdatacloud.nasa.gov/lp-prod-protected/HLSL30.020/HLS.L30.T15RYN.2023292T163221.v2.0/HLS.L30.T15RYN.2023292T163221.v2.0.B01.tif>,\n",
              "  <File-like object HTTPFileSystem, https://data.lpdaac.earthdatacloud.nasa.gov/lp-prod-protected/HLSL30.020/HLS.L30.T15RYN.2023292T163221.v2.0/HLS.L30.T15RYN.2023292T163221.v2.0.B05.tif>],\n",
              " [<File-like object HTTPFileSystem, https://data.lpdaac.earthdatacloud.nasa.gov/lp-prod-protected/HLSL30.020/HLS.L30.T15RYP.2023292T163221.v2.0/HLS.L30.T15RYP.2023292T163221.v2.0.B10.tif>,\n",
              "  <File-like object HTTPFileSystem, https://data.lpdaac.earthdatacloud.nasa.gov/lp-prod-protected/HLSL30.020/HLS.L30.T15RYP.2023292T163221.v2.0/HLS.L30.T15RYP.2023292T163221.v2.0.B11.tif>,\n",
              "  <File-like object HTTPFileSystem, https://data.lpdaac.earthdatacloud.nasa.gov/lp-prod-protected/HLSL30.020/HLS.L30.T15RYP.2023292T163221.v2.0/HLS.L30.T15RYP.2023292T163221.v2.0.B07.tif>,\n",
              "  <File-like object HTTPFileSystem, https://data.lpdaac.earthdatacloud.nasa.gov/lp-prod-protected/HLSL30.020/HLS.L30.T15RYP.2023292T163221.v2.0/HLS.L30.T15RYP.2023292T163221.v2.0.Fmask.tif>,\n",
              "  <File-like object HTTPFileSystem, https://data.lpdaac.earthdatacloud.nasa.gov/lp-prod-protected/HLSL30.020/HLS.L30.T15RYP.2023292T163221.v2.0/HLS.L30.T15RYP.2023292T163221.v2.0.SZA.tif>,\n",
              "  <File-like object HTTPFileSystem, https://data.lpdaac.earthdatacloud.nasa.gov/lp-prod-protected/HLSL30.020/HLS.L30.T15RYP.2023292T163221.v2.0/HLS.L30.T15RYP.2023292T163221.v2.0.B05.tif>,\n",
              "  <File-like object HTTPFileSystem, https://data.lpdaac.earthdatacloud.nasa.gov/lp-prod-protected/HLSL30.020/HLS.L30.T15RYP.2023292T163221.v2.0/HLS.L30.T15RYP.2023292T163221.v2.0.SAA.tif>,\n",
              "  <File-like object HTTPFileSystem, https://data.lpdaac.earthdatacloud.nasa.gov/lp-prod-protected/HLSL30.020/HLS.L30.T15RYP.2023292T163221.v2.0/HLS.L30.T15RYP.2023292T163221.v2.0.VZA.tif>,\n",
              "  <File-like object HTTPFileSystem, https://data.lpdaac.earthdatacloud.nasa.gov/lp-prod-protected/HLSL30.020/HLS.L30.T15RYP.2023292T163221.v2.0/HLS.L30.T15RYP.2023292T163221.v2.0.B06.tif>,\n",
              "  <File-like object HTTPFileSystem, https://data.lpdaac.earthdatacloud.nasa.gov/lp-prod-protected/HLSL30.020/HLS.L30.T15RYP.2023292T163221.v2.0/HLS.L30.T15RYP.2023292T163221.v2.0.VAA.tif>,\n",
              "  <File-like object HTTPFileSystem, https://data.lpdaac.earthdatacloud.nasa.gov/lp-prod-protected/HLSL30.020/HLS.L30.T15RYP.2023292T163221.v2.0/HLS.L30.T15RYP.2023292T163221.v2.0.B03.tif>,\n",
              "  <File-like object HTTPFileSystem, https://data.lpdaac.earthdatacloud.nasa.gov/lp-prod-protected/HLSL30.020/HLS.L30.T15RYP.2023292T163221.v2.0/HLS.L30.T15RYP.2023292T163221.v2.0.B09.tif>,\n",
              "  <File-like object HTTPFileSystem, https://data.lpdaac.earthdatacloud.nasa.gov/lp-prod-protected/HLSL30.020/HLS.L30.T15RYP.2023292T163221.v2.0/HLS.L30.T15RYP.2023292T163221.v2.0.B04.tif>,\n",
              "  <File-like object HTTPFileSystem, https://data.lpdaac.earthdatacloud.nasa.gov/lp-prod-protected/HLSL30.020/HLS.L30.T15RYP.2023292T163221.v2.0/HLS.L30.T15RYP.2023292T163221.v2.0.B01.tif>,\n",
              "  <File-like object HTTPFileSystem, https://data.lpdaac.earthdatacloud.nasa.gov/lp-prod-protected/HLSL30.020/HLS.L30.T15RYP.2023292T163221.v2.0/HLS.L30.T15RYP.2023292T163221.v2.0.B02.tif>],\n",
              " [<File-like object HTTPFileSystem, https://data.lpdaac.earthdatacloud.nasa.gov/lp-prod-protected/HLSL30.020/HLS.L30.T16RBU.2023292T163221.v2.0/HLS.L30.T16RBU.2023292T163221.v2.0.B09.tif>,\n",
              "  <File-like object HTTPFileSystem, https://data.lpdaac.earthdatacloud.nasa.gov/lp-prod-protected/HLSL30.020/HLS.L30.T16RBU.2023292T163221.v2.0/HLS.L30.T16RBU.2023292T163221.v2.0.B04.tif>,\n",
              "  <File-like object HTTPFileSystem, https://data.lpdaac.earthdatacloud.nasa.gov/lp-prod-protected/HLSL30.020/HLS.L30.T16RBU.2023292T163221.v2.0/HLS.L30.T16RBU.2023292T163221.v2.0.VZA.tif>,\n",
              "  <File-like object HTTPFileSystem, https://data.lpdaac.earthdatacloud.nasa.gov/lp-prod-protected/HLSL30.020/HLS.L30.T16RBU.2023292T163221.v2.0/HLS.L30.T16RBU.2023292T163221.v2.0.VAA.tif>,\n",
              "  <File-like object HTTPFileSystem, https://data.lpdaac.earthdatacloud.nasa.gov/lp-prod-protected/HLSL30.020/HLS.L30.T16RBU.2023292T163221.v2.0/HLS.L30.T16RBU.2023292T163221.v2.0.B10.tif>,\n",
              "  <File-like object HTTPFileSystem, https://data.lpdaac.earthdatacloud.nasa.gov/lp-prod-protected/HLSL30.020/HLS.L30.T16RBU.2023292T163221.v2.0/HLS.L30.T16RBU.2023292T163221.v2.0.B01.tif>,\n",
              "  <File-like object HTTPFileSystem, https://data.lpdaac.earthdatacloud.nasa.gov/lp-prod-protected/HLSL30.020/HLS.L30.T16RBU.2023292T163221.v2.0/HLS.L30.T16RBU.2023292T163221.v2.0.B11.tif>,\n",
              "  <File-like object HTTPFileSystem, https://data.lpdaac.earthdatacloud.nasa.gov/lp-prod-protected/HLSL30.020/HLS.L30.T16RBU.2023292T163221.v2.0/HLS.L30.T16RBU.2023292T163221.v2.0.B05.tif>,\n",
              "  <File-like object HTTPFileSystem, https://data.lpdaac.earthdatacloud.nasa.gov/lp-prod-protected/HLSL30.020/HLS.L30.T16RBU.2023292T163221.v2.0/HLS.L30.T16RBU.2023292T163221.v2.0.SZA.tif>,\n",
              "  <File-like object HTTPFileSystem, https://data.lpdaac.earthdatacloud.nasa.gov/lp-prod-protected/HLSL30.020/HLS.L30.T16RBU.2023292T163221.v2.0/HLS.L30.T16RBU.2023292T163221.v2.0.B03.tif>,\n",
              "  <File-like object HTTPFileSystem, https://data.lpdaac.earthdatacloud.nasa.gov/lp-prod-protected/HLSL30.020/HLS.L30.T16RBU.2023292T163221.v2.0/HLS.L30.T16RBU.2023292T163221.v2.0.B02.tif>,\n",
              "  <File-like object HTTPFileSystem, https://data.lpdaac.earthdatacloud.nasa.gov/lp-prod-protected/HLSL30.020/HLS.L30.T16RBU.2023292T163221.v2.0/HLS.L30.T16RBU.2023292T163221.v2.0.Fmask.tif>,\n",
              "  <File-like object HTTPFileSystem, https://data.lpdaac.earthdatacloud.nasa.gov/lp-prod-protected/HLSL30.020/HLS.L30.T16RBU.2023292T163221.v2.0/HLS.L30.T16RBU.2023292T163221.v2.0.B06.tif>,\n",
              "  <File-like object HTTPFileSystem, https://data.lpdaac.earthdatacloud.nasa.gov/lp-prod-protected/HLSL30.020/HLS.L30.T16RBU.2023292T163221.v2.0/HLS.L30.T16RBU.2023292T163221.v2.0.SAA.tif>,\n",
              "  <File-like object HTTPFileSystem, https://data.lpdaac.earthdatacloud.nasa.gov/lp-prod-protected/HLSL30.020/HLS.L30.T16RBU.2023292T163221.v2.0/HLS.L30.T16RBU.2023292T163221.v2.0.B07.tif>],\n",
              " [<File-like object HTTPFileSystem, https://data.lpdaac.earthdatacloud.nasa.gov/lp-prod-protected/HLSL30.020/HLS.L30.T16RBU.2023300T163218.v2.0/HLS.L30.T16RBU.2023300T163218.v2.0.B04.tif>,\n",
              "  <File-like object HTTPFileSystem, https://data.lpdaac.earthdatacloud.nasa.gov/lp-prod-protected/HLSL30.020/HLS.L30.T16RBU.2023300T163218.v2.0/HLS.L30.T16RBU.2023300T163218.v2.0.B10.tif>,\n",
              "  <File-like object HTTPFileSystem, https://data.lpdaac.earthdatacloud.nasa.gov/lp-prod-protected/HLSL30.020/HLS.L30.T16RBU.2023300T163218.v2.0/HLS.L30.T16RBU.2023300T163218.v2.0.SZA.tif>,\n",
              "  <File-like object HTTPFileSystem, https://data.lpdaac.earthdatacloud.nasa.gov/lp-prod-protected/HLSL30.020/HLS.L30.T16RBU.2023300T163218.v2.0/HLS.L30.T16RBU.2023300T163218.v2.0.VAA.tif>,\n",
              "  <File-like object HTTPFileSystem, https://data.lpdaac.earthdatacloud.nasa.gov/lp-prod-protected/HLSL30.020/HLS.L30.T16RBU.2023300T163218.v2.0/HLS.L30.T16RBU.2023300T163218.v2.0.VZA.tif>,\n",
              "  <File-like object HTTPFileSystem, https://data.lpdaac.earthdatacloud.nasa.gov/lp-prod-protected/HLSL30.020/HLS.L30.T16RBU.2023300T163218.v2.0/HLS.L30.T16RBU.2023300T163218.v2.0.SAA.tif>,\n",
              "  <File-like object HTTPFileSystem, https://data.lpdaac.earthdatacloud.nasa.gov/lp-prod-protected/HLSL30.020/HLS.L30.T16RBU.2023300T163218.v2.0/HLS.L30.T16RBU.2023300T163218.v2.0.B09.tif>,\n",
              "  <File-like object HTTPFileSystem, https://data.lpdaac.earthdatacloud.nasa.gov/lp-prod-protected/HLSL30.020/HLS.L30.T16RBU.2023300T163218.v2.0/HLS.L30.T16RBU.2023300T163218.v2.0.B07.tif>,\n",
              "  <File-like object HTTPFileSystem, https://data.lpdaac.earthdatacloud.nasa.gov/lp-prod-protected/HLSL30.020/HLS.L30.T16RBU.2023300T163218.v2.0/HLS.L30.T16RBU.2023300T163218.v2.0.B03.tif>,\n",
              "  <File-like object HTTPFileSystem, https://data.lpdaac.earthdatacloud.nasa.gov/lp-prod-protected/HLSL30.020/HLS.L30.T16RBU.2023300T163218.v2.0/HLS.L30.T16RBU.2023300T163218.v2.0.B05.tif>,\n",
              "  <File-like object HTTPFileSystem, https://data.lpdaac.earthdatacloud.nasa.gov/lp-prod-protected/HLSL30.020/HLS.L30.T16RBU.2023300T163218.v2.0/HLS.L30.T16RBU.2023300T163218.v2.0.Fmask.tif>,\n",
              "  <File-like object HTTPFileSystem, https://data.lpdaac.earthdatacloud.nasa.gov/lp-prod-protected/HLSL30.020/HLS.L30.T16RBU.2023300T163218.v2.0/HLS.L30.T16RBU.2023300T163218.v2.0.B11.tif>,\n",
              "  <File-like object HTTPFileSystem, https://data.lpdaac.earthdatacloud.nasa.gov/lp-prod-protected/HLSL30.020/HLS.L30.T16RBU.2023300T163218.v2.0/HLS.L30.T16RBU.2023300T163218.v2.0.B01.tif>,\n",
              "  <File-like object HTTPFileSystem, https://data.lpdaac.earthdatacloud.nasa.gov/lp-prod-protected/HLSL30.020/HLS.L30.T16RBU.2023300T163218.v2.0/HLS.L30.T16RBU.2023300T163218.v2.0.B02.tif>,\n",
              "  <File-like object HTTPFileSystem, https://data.lpdaac.earthdatacloud.nasa.gov/lp-prod-protected/HLSL30.020/HLS.L30.T16RBU.2023300T163218.v2.0/HLS.L30.T16RBU.2023300T163218.v2.0.B06.tif>],\n",
              " [<File-like object HTTPFileSystem, https://data.lpdaac.earthdatacloud.nasa.gov/lp-prod-protected/HLSL30.020/HLS.L30.T15RYN.2023300T163218.v2.0/HLS.L30.T15RYN.2023300T163218.v2.0.Fmask.tif>,\n",
              "  <File-like object HTTPFileSystem, https://data.lpdaac.earthdatacloud.nasa.gov/lp-prod-protected/HLSL30.020/HLS.L30.T15RYN.2023300T163218.v2.0/HLS.L30.T15RYN.2023300T163218.v2.0.B05.tif>,\n",
              "  <File-like object HTTPFileSystem, https://data.lpdaac.earthdatacloud.nasa.gov/lp-prod-protected/HLSL30.020/HLS.L30.T15RYN.2023300T163218.v2.0/HLS.L30.T15RYN.2023300T163218.v2.0.VAA.tif>,\n",
              "  <File-like object HTTPFileSystem, https://data.lpdaac.earthdatacloud.nasa.gov/lp-prod-protected/HLSL30.020/HLS.L30.T15RYN.2023300T163218.v2.0/HLS.L30.T15RYN.2023300T163218.v2.0.B06.tif>,\n",
              "  <File-like object HTTPFileSystem, https://data.lpdaac.earthdatacloud.nasa.gov/lp-prod-protected/HLSL30.020/HLS.L30.T15RYN.2023300T163218.v2.0/HLS.L30.T15RYN.2023300T163218.v2.0.B03.tif>,\n",
              "  <File-like object HTTPFileSystem, https://data.lpdaac.earthdatacloud.nasa.gov/lp-prod-protected/HLSL30.020/HLS.L30.T15RYN.2023300T163218.v2.0/HLS.L30.T15RYN.2023300T163218.v2.0.B09.tif>,\n",
              "  <File-like object HTTPFileSystem, https://data.lpdaac.earthdatacloud.nasa.gov/lp-prod-protected/HLSL30.020/HLS.L30.T15RYN.2023300T163218.v2.0/HLS.L30.T15RYN.2023300T163218.v2.0.B10.tif>,\n",
              "  <File-like object HTTPFileSystem, https://data.lpdaac.earthdatacloud.nasa.gov/lp-prod-protected/HLSL30.020/HLS.L30.T15RYN.2023300T163218.v2.0/HLS.L30.T15RYN.2023300T163218.v2.0.B11.tif>,\n",
              "  <File-like object HTTPFileSystem, https://data.lpdaac.earthdatacloud.nasa.gov/lp-prod-protected/HLSL30.020/HLS.L30.T15RYN.2023300T163218.v2.0/HLS.L30.T15RYN.2023300T163218.v2.0.B02.tif>,\n",
              "  <File-like object HTTPFileSystem, https://data.lpdaac.earthdatacloud.nasa.gov/lp-prod-protected/HLSL30.020/HLS.L30.T15RYN.2023300T163218.v2.0/HLS.L30.T15RYN.2023300T163218.v2.0.B01.tif>,\n",
              "  <File-like object HTTPFileSystem, https://data.lpdaac.earthdatacloud.nasa.gov/lp-prod-protected/HLSL30.020/HLS.L30.T15RYN.2023300T163218.v2.0/HLS.L30.T15RYN.2023300T163218.v2.0.VZA.tif>,\n",
              "  <File-like object HTTPFileSystem, https://data.lpdaac.earthdatacloud.nasa.gov/lp-prod-protected/HLSL30.020/HLS.L30.T15RYN.2023300T163218.v2.0/HLS.L30.T15RYN.2023300T163218.v2.0.B04.tif>,\n",
              "  <File-like object HTTPFileSystem, https://data.lpdaac.earthdatacloud.nasa.gov/lp-prod-protected/HLSL30.020/HLS.L30.T15RYN.2023300T163218.v2.0/HLS.L30.T15RYN.2023300T163218.v2.0.SAA.tif>,\n",
              "  <File-like object HTTPFileSystem, https://data.lpdaac.earthdatacloud.nasa.gov/lp-prod-protected/HLSL30.020/HLS.L30.T15RYN.2023300T163218.v2.0/HLS.L30.T15RYN.2023300T163218.v2.0.SZA.tif>,\n",
              "  <File-like object HTTPFileSystem, https://data.lpdaac.earthdatacloud.nasa.gov/lp-prod-protected/HLSL30.020/HLS.L30.T15RYN.2023300T163218.v2.0/HLS.L30.T15RYN.2023300T163218.v2.0.B07.tif>],\n",
              " [<File-like object HTTPFileSystem, https://data.lpdaac.earthdatacloud.nasa.gov/lp-prod-protected/HLSL30.020/HLS.L30.T16RBT.2023300T163218.v2.0/HLS.L30.T16RBT.2023300T163218.v2.0.VAA.tif>,\n",
              "  <File-like object HTTPFileSystem, https://data.lpdaac.earthdatacloud.nasa.gov/lp-prod-protected/HLSL30.020/HLS.L30.T16RBT.2023300T163218.v2.0/HLS.L30.T16RBT.2023300T163218.v2.0.B05.tif>,\n",
              "  <File-like object HTTPFileSystem, https://data.lpdaac.earthdatacloud.nasa.gov/lp-prod-protected/HLSL30.020/HLS.L30.T16RBT.2023300T163218.v2.0/HLS.L30.T16RBT.2023300T163218.v2.0.Fmask.tif>,\n",
              "  <File-like object HTTPFileSystem, https://data.lpdaac.earthdatacloud.nasa.gov/lp-prod-protected/HLSL30.020/HLS.L30.T16RBT.2023300T163218.v2.0/HLS.L30.T16RBT.2023300T163218.v2.0.B04.tif>,\n",
              "  <File-like object HTTPFileSystem, https://data.lpdaac.earthdatacloud.nasa.gov/lp-prod-protected/HLSL30.020/HLS.L30.T16RBT.2023300T163218.v2.0/HLS.L30.T16RBT.2023300T163218.v2.0.B06.tif>,\n",
              "  <File-like object HTTPFileSystem, https://data.lpdaac.earthdatacloud.nasa.gov/lp-prod-protected/HLSL30.020/HLS.L30.T16RBT.2023300T163218.v2.0/HLS.L30.T16RBT.2023300T163218.v2.0.SAA.tif>,\n",
              "  <File-like object HTTPFileSystem, https://data.lpdaac.earthdatacloud.nasa.gov/lp-prod-protected/HLSL30.020/HLS.L30.T16RBT.2023300T163218.v2.0/HLS.L30.T16RBT.2023300T163218.v2.0.B11.tif>,\n",
              "  <File-like object HTTPFileSystem, https://data.lpdaac.earthdatacloud.nasa.gov/lp-prod-protected/HLSL30.020/HLS.L30.T16RBT.2023300T163218.v2.0/HLS.L30.T16RBT.2023300T163218.v2.0.VZA.tif>,\n",
              "  <File-like object HTTPFileSystem, https://data.lpdaac.earthdatacloud.nasa.gov/lp-prod-protected/HLSL30.020/HLS.L30.T16RBT.2023300T163218.v2.0/HLS.L30.T16RBT.2023300T163218.v2.0.B01.tif>,\n",
              "  <File-like object HTTPFileSystem, https://data.lpdaac.earthdatacloud.nasa.gov/lp-prod-protected/HLSL30.020/HLS.L30.T16RBT.2023300T163218.v2.0/HLS.L30.T16RBT.2023300T163218.v2.0.B02.tif>,\n",
              "  <File-like object HTTPFileSystem, https://data.lpdaac.earthdatacloud.nasa.gov/lp-prod-protected/HLSL30.020/HLS.L30.T16RBT.2023300T163218.v2.0/HLS.L30.T16RBT.2023300T163218.v2.0.B09.tif>,\n",
              "  <File-like object HTTPFileSystem, https://data.lpdaac.earthdatacloud.nasa.gov/lp-prod-protected/HLSL30.020/HLS.L30.T16RBT.2023300T163218.v2.0/HLS.L30.T16RBT.2023300T163218.v2.0.SZA.tif>,\n",
              "  <File-like object HTTPFileSystem, https://data.lpdaac.earthdatacloud.nasa.gov/lp-prod-protected/HLSL30.020/HLS.L30.T16RBT.2023300T163218.v2.0/HLS.L30.T16RBT.2023300T163218.v2.0.B03.tif>,\n",
              "  <File-like object HTTPFileSystem, https://data.lpdaac.earthdatacloud.nasa.gov/lp-prod-protected/HLSL30.020/HLS.L30.T16RBT.2023300T163218.v2.0/HLS.L30.T16RBT.2023300T163218.v2.0.B07.tif>,\n",
              "  <File-like object HTTPFileSystem, https://data.lpdaac.earthdatacloud.nasa.gov/lp-prod-protected/HLSL30.020/HLS.L30.T16RBT.2023300T163218.v2.0/HLS.L30.T16RBT.2023300T163218.v2.0.B10.tif>],\n",
              " [<File-like object HTTPFileSystem, https://data.lpdaac.earthdatacloud.nasa.gov/lp-prod-protected/HLSL30.020/HLS.L30.T15RYP.2023300T163218.v2.0/HLS.L30.T15RYP.2023300T163218.v2.0.Fmask.tif>,\n",
              "  <File-like object HTTPFileSystem, https://data.lpdaac.earthdatacloud.nasa.gov/lp-prod-protected/HLSL30.020/HLS.L30.T15RYP.2023300T163218.v2.0/HLS.L30.T15RYP.2023300T163218.v2.0.SAA.tif>,\n",
              "  <File-like object HTTPFileSystem, https://data.lpdaac.earthdatacloud.nasa.gov/lp-prod-protected/HLSL30.020/HLS.L30.T15RYP.2023300T163218.v2.0/HLS.L30.T15RYP.2023300T163218.v2.0.SZA.tif>,\n",
              "  <File-like object HTTPFileSystem, https://data.lpdaac.earthdatacloud.nasa.gov/lp-prod-protected/HLSL30.020/HLS.L30.T15RYP.2023300T163218.v2.0/HLS.L30.T15RYP.2023300T163218.v2.0.B10.tif>,\n",
              "  <File-like object HTTPFileSystem, https://data.lpdaac.earthdatacloud.nasa.gov/lp-prod-protected/HLSL30.020/HLS.L30.T15RYP.2023300T163218.v2.0/HLS.L30.T15RYP.2023300T163218.v2.0.VZA.tif>,\n",
              "  <File-like object HTTPFileSystem, https://data.lpdaac.earthdatacloud.nasa.gov/lp-prod-protected/HLSL30.020/HLS.L30.T15RYP.2023300T163218.v2.0/HLS.L30.T15RYP.2023300T163218.v2.0.B11.tif>,\n",
              "  <File-like object HTTPFileSystem, https://data.lpdaac.earthdatacloud.nasa.gov/lp-prod-protected/HLSL30.020/HLS.L30.T15RYP.2023300T163218.v2.0/HLS.L30.T15RYP.2023300T163218.v2.0.B07.tif>,\n",
              "  <File-like object HTTPFileSystem, https://data.lpdaac.earthdatacloud.nasa.gov/lp-prod-protected/HLSL30.020/HLS.L30.T15RYP.2023300T163218.v2.0/HLS.L30.T15RYP.2023300T163218.v2.0.B01.tif>,\n",
              "  <File-like object HTTPFileSystem, https://data.lpdaac.earthdatacloud.nasa.gov/lp-prod-protected/HLSL30.020/HLS.L30.T15RYP.2023300T163218.v2.0/HLS.L30.T15RYP.2023300T163218.v2.0.VAA.tif>,\n",
              "  <File-like object HTTPFileSystem, https://data.lpdaac.earthdatacloud.nasa.gov/lp-prod-protected/HLSL30.020/HLS.L30.T15RYP.2023300T163218.v2.0/HLS.L30.T15RYP.2023300T163218.v2.0.B05.tif>,\n",
              "  <File-like object HTTPFileSystem, https://data.lpdaac.earthdatacloud.nasa.gov/lp-prod-protected/HLSL30.020/HLS.L30.T15RYP.2023300T163218.v2.0/HLS.L30.T15RYP.2023300T163218.v2.0.B06.tif>,\n",
              "  <File-like object HTTPFileSystem, https://data.lpdaac.earthdatacloud.nasa.gov/lp-prod-protected/HLSL30.020/HLS.L30.T15RYP.2023300T163218.v2.0/HLS.L30.T15RYP.2023300T163218.v2.0.B02.tif>,\n",
              "  <File-like object HTTPFileSystem, https://data.lpdaac.earthdatacloud.nasa.gov/lp-prod-protected/HLSL30.020/HLS.L30.T15RYP.2023300T163218.v2.0/HLS.L30.T15RYP.2023300T163218.v2.0.B09.tif>,\n",
              "  <File-like object HTTPFileSystem, https://data.lpdaac.earthdatacloud.nasa.gov/lp-prod-protected/HLSL30.020/HLS.L30.T15RYP.2023300T163218.v2.0/HLS.L30.T15RYP.2023300T163218.v2.0.B03.tif>,\n",
              "  <File-like object HTTPFileSystem, https://data.lpdaac.earthdatacloud.nasa.gov/lp-prod-protected/HLSL30.020/HLS.L30.T15RYP.2023300T163218.v2.0/HLS.L30.T15RYP.2023300T163218.v2.0.B04.tif>]]"
            ]
          },
          "execution_count": 43,
          "metadata": {},
          "output_type": "execute_result"
        }
      ],
      "source": [
        "# check files list\n",
        "files"
      ]
    },
    {
      "cell_type": "code",
      "execution_count": 44,
      "id": "ee14d0a3",
      "metadata": {},
      "outputs": [
        {
          "data": {
            "text/plain": [
              "[<re.Match object; span=(108, 150), match='HLS.L30.T16RBT.2023124T163132.v2.0.B03.tif'>,\n",
              " <re.Match object; span=(108, 150), match='HLS.L30.T16RBT.2023124T163132.v2.0.B03.tif'>,\n",
              " <re.Match object; span=(108, 150), match='HLS.L30.T15RYN.2023124T163132.v2.0.B03.tif'>,\n",
              " <re.Match object; span=(108, 150), match='HLS.L30.T16RBT.2023124T163132.v2.0.B03.tif'>,\n",
              " <re.Match object; span=(108, 150), match='HLS.L30.T15RYN.2023124T163132.v2.0.B03.tif'>,\n",
              " <re.Match object; span=(108, 150), match='HLS.L30.T15RYP.2023124T163132.v2.0.VZA.tif'>,\n",
              " <re.Match object; span=(108, 150), match='HLS.L30.T16RBT.2023124T163132.v2.0.B03.tif'>,\n",
              " <re.Match object; span=(108, 150), match='HLS.L30.T15RYN.2023124T163132.v2.0.B03.tif'>,\n",
              " <re.Match object; span=(108, 150), match='HLS.L30.T15RYP.2023124T163132.v2.0.VZA.tif'>,\n",
              " <re.Match object; span=(108, 150), match='HLS.L30.T16RBU.2023124T163132.v2.0.B11.tif'>,\n",
              " <re.Match object; span=(108, 150), match='HLS.L30.T16RBT.2023124T163132.v2.0.B03.tif'>,\n",
              " <re.Match object; span=(108, 150), match='HLS.L30.T15RYN.2023124T163132.v2.0.B03.tif'>,\n",
              " <re.Match object; span=(108, 150), match='HLS.L30.T15RYP.2023124T163132.v2.0.VZA.tif'>,\n",
              " <re.Match object; span=(108, 150), match='HLS.L30.T16RBU.2023124T163132.v2.0.B11.tif'>,\n",
              " <re.Match object; span=(108, 150), match='HLS.L30.T16RBT.2023132T163144.v2.0.B02.tif'>,\n",
              " <re.Match object; span=(108, 150), match='HLS.L30.T16RBT.2023124T163132.v2.0.B03.tif'>,\n",
              " <re.Match object; span=(108, 150), match='HLS.L30.T15RYN.2023124T163132.v2.0.B03.tif'>,\n",
              " <re.Match object; span=(108, 150), match='HLS.L30.T15RYP.2023124T163132.v2.0.VZA.tif'>,\n",
              " <re.Match object; span=(108, 150), match='HLS.L30.T16RBU.2023124T163132.v2.0.B11.tif'>,\n",
              " <re.Match object; span=(108, 150), match='HLS.L30.T16RBT.2023132T163144.v2.0.B02.tif'>,\n",
              " <re.Match object; span=(108, 150), match='HLS.L30.T15RYP.2023132T163144.v2.0.SAA.tif'>,\n",
              " <re.Match object; span=(108, 150), match='HLS.L30.T16RBT.2023124T163132.v2.0.B03.tif'>,\n",
              " <re.Match object; span=(108, 150), match='HLS.L30.T15RYN.2023124T163132.v2.0.B03.tif'>,\n",
              " <re.Match object; span=(108, 150), match='HLS.L30.T15RYP.2023124T163132.v2.0.VZA.tif'>,\n",
              " <re.Match object; span=(108, 150), match='HLS.L30.T16RBU.2023124T163132.v2.0.B11.tif'>,\n",
              " <re.Match object; span=(108, 150), match='HLS.L30.T16RBT.2023132T163144.v2.0.B02.tif'>,\n",
              " <re.Match object; span=(108, 150), match='HLS.L30.T15RYP.2023132T163144.v2.0.SAA.tif'>,\n",
              " <re.Match object; span=(108, 150), match='HLS.L30.T15RYN.2023132T163144.v2.0.B09.tif'>,\n",
              " <re.Match object; span=(108, 150), match='HLS.L30.T16RBT.2023124T163132.v2.0.B03.tif'>,\n",
              " <re.Match object; span=(108, 150), match='HLS.L30.T15RYN.2023124T163132.v2.0.B03.tif'>,\n",
              " <re.Match object; span=(108, 150), match='HLS.L30.T15RYP.2023124T163132.v2.0.VZA.tif'>,\n",
              " <re.Match object; span=(108, 150), match='HLS.L30.T16RBU.2023124T163132.v2.0.B11.tif'>,\n",
              " <re.Match object; span=(108, 150), match='HLS.L30.T16RBT.2023132T163144.v2.0.B02.tif'>,\n",
              " <re.Match object; span=(108, 150), match='HLS.L30.T15RYP.2023132T163144.v2.0.SAA.tif'>,\n",
              " <re.Match object; span=(108, 150), match='HLS.L30.T15RYN.2023132T163144.v2.0.B09.tif'>,\n",
              " <re.Match object; span=(108, 150), match='HLS.L30.T16RBU.2023132T163144.v2.0.VZA.tif'>,\n",
              " <re.Match object; span=(108, 150), match='HLS.L30.T16RBT.2023124T163132.v2.0.B03.tif'>,\n",
              " <re.Match object; span=(108, 150), match='HLS.L30.T15RYN.2023124T163132.v2.0.B03.tif'>,\n",
              " <re.Match object; span=(108, 150), match='HLS.L30.T15RYP.2023124T163132.v2.0.VZA.tif'>,\n",
              " <re.Match object; span=(108, 150), match='HLS.L30.T16RBU.2023124T163132.v2.0.B11.tif'>,\n",
              " <re.Match object; span=(108, 150), match='HLS.L30.T16RBT.2023132T163144.v2.0.B02.tif'>,\n",
              " <re.Match object; span=(108, 150), match='HLS.L30.T15RYP.2023132T163144.v2.0.SAA.tif'>,\n",
              " <re.Match object; span=(108, 150), match='HLS.L30.T15RYN.2023132T163144.v2.0.B09.tif'>,\n",
              " <re.Match object; span=(108, 150), match='HLS.L30.T16RBU.2023132T163144.v2.0.VZA.tif'>,\n",
              " <re.Match object; span=(108, 150), match='HLS.L30.T15RYP.2023140T163123.v2.0.B05.tif'>,\n",
              " <re.Match object; span=(108, 150), match='HLS.L30.T16RBT.2023124T163132.v2.0.B03.tif'>,\n",
              " <re.Match object; span=(108, 150), match='HLS.L30.T15RYN.2023124T163132.v2.0.B03.tif'>,\n",
              " <re.Match object; span=(108, 150), match='HLS.L30.T15RYP.2023124T163132.v2.0.VZA.tif'>,\n",
              " <re.Match object; span=(108, 150), match='HLS.L30.T16RBU.2023124T163132.v2.0.B11.tif'>,\n",
              " <re.Match object; span=(108, 150), match='HLS.L30.T16RBT.2023132T163144.v2.0.B02.tif'>,\n",
              " <re.Match object; span=(108, 150), match='HLS.L30.T15RYP.2023132T163144.v2.0.SAA.tif'>,\n",
              " <re.Match object; span=(108, 150), match='HLS.L30.T15RYN.2023132T163144.v2.0.B09.tif'>,\n",
              " <re.Match object; span=(108, 150), match='HLS.L30.T16RBU.2023132T163144.v2.0.VZA.tif'>,\n",
              " <re.Match object; span=(108, 150), match='HLS.L30.T15RYP.2023140T163123.v2.0.B05.tif'>,\n",
              " <re.Match object; span=(108, 150), match='HLS.L30.T16RBT.2023140T163123.v2.0.B03.tif'>,\n",
              " <re.Match object; span=(108, 150), match='HLS.L30.T16RBT.2023124T163132.v2.0.B03.tif'>,\n",
              " <re.Match object; span=(108, 150), match='HLS.L30.T15RYN.2023124T163132.v2.0.B03.tif'>,\n",
              " <re.Match object; span=(108, 150), match='HLS.L30.T15RYP.2023124T163132.v2.0.VZA.tif'>,\n",
              " <re.Match object; span=(108, 150), match='HLS.L30.T16RBU.2023124T163132.v2.0.B11.tif'>,\n",
              " <re.Match object; span=(108, 150), match='HLS.L30.T16RBT.2023132T163144.v2.0.B02.tif'>,\n",
              " <re.Match object; span=(108, 150), match='HLS.L30.T15RYP.2023132T163144.v2.0.SAA.tif'>,\n",
              " <re.Match object; span=(108, 150), match='HLS.L30.T15RYN.2023132T163144.v2.0.B09.tif'>,\n",
              " <re.Match object; span=(108, 150), match='HLS.L30.T16RBU.2023132T163144.v2.0.VZA.tif'>,\n",
              " <re.Match object; span=(108, 150), match='HLS.L30.T15RYP.2023140T163123.v2.0.B05.tif'>,\n",
              " <re.Match object; span=(108, 150), match='HLS.L30.T16RBT.2023140T163123.v2.0.B03.tif'>,\n",
              " <re.Match object; span=(108, 150), match='HLS.L30.T16RBU.2023140T163123.v2.0.SZA.tif'>,\n",
              " <re.Match object; span=(108, 150), match='HLS.L30.T16RBT.2023124T163132.v2.0.B03.tif'>,\n",
              " <re.Match object; span=(108, 150), match='HLS.L30.T15RYN.2023124T163132.v2.0.B03.tif'>,\n",
              " <re.Match object; span=(108, 150), match='HLS.L30.T15RYP.2023124T163132.v2.0.VZA.tif'>,\n",
              " <re.Match object; span=(108, 150), match='HLS.L30.T16RBU.2023124T163132.v2.0.B11.tif'>,\n",
              " <re.Match object; span=(108, 150), match='HLS.L30.T16RBT.2023132T163144.v2.0.B02.tif'>,\n",
              " <re.Match object; span=(108, 150), match='HLS.L30.T15RYP.2023132T163144.v2.0.SAA.tif'>,\n",
              " <re.Match object; span=(108, 150), match='HLS.L30.T15RYN.2023132T163144.v2.0.B09.tif'>,\n",
              " <re.Match object; span=(108, 150), match='HLS.L30.T16RBU.2023132T163144.v2.0.VZA.tif'>,\n",
              " <re.Match object; span=(108, 150), match='HLS.L30.T15RYP.2023140T163123.v2.0.B05.tif'>,\n",
              " <re.Match object; span=(108, 150), match='HLS.L30.T16RBT.2023140T163123.v2.0.B03.tif'>,\n",
              " <re.Match object; span=(108, 150), match='HLS.L30.T16RBU.2023140T163123.v2.0.SZA.tif'>,\n",
              " <re.Match object; span=(108, 150), match='HLS.L30.T15RYN.2023140T163123.v2.0.SAA.tif'>,\n",
              " <re.Match object; span=(108, 150), match='HLS.L30.T16RBT.2023124T163132.v2.0.B03.tif'>,\n",
              " <re.Match object; span=(108, 150), match='HLS.L30.T15RYN.2023124T163132.v2.0.B03.tif'>,\n",
              " <re.Match object; span=(108, 150), match='HLS.L30.T15RYP.2023124T163132.v2.0.VZA.tif'>,\n",
              " <re.Match object; span=(108, 150), match='HLS.L30.T16RBU.2023124T163132.v2.0.B11.tif'>,\n",
              " <re.Match object; span=(108, 150), match='HLS.L30.T16RBT.2023132T163144.v2.0.B02.tif'>,\n",
              " <re.Match object; span=(108, 150), match='HLS.L30.T15RYP.2023132T163144.v2.0.SAA.tif'>,\n",
              " <re.Match object; span=(108, 150), match='HLS.L30.T15RYN.2023132T163144.v2.0.B09.tif'>,\n",
              " <re.Match object; span=(108, 150), match='HLS.L30.T16RBU.2023132T163144.v2.0.VZA.tif'>,\n",
              " <re.Match object; span=(108, 150), match='HLS.L30.T15RYP.2023140T163123.v2.0.B05.tif'>,\n",
              " <re.Match object; span=(108, 150), match='HLS.L30.T16RBT.2023140T163123.v2.0.B03.tif'>,\n",
              " <re.Match object; span=(108, 150), match='HLS.L30.T16RBU.2023140T163123.v2.0.SZA.tif'>,\n",
              " <re.Match object; span=(108, 150), match='HLS.L30.T15RYN.2023140T163123.v2.0.SAA.tif'>,\n",
              " <re.Match object; span=(108, 152), match='HLS.L30.T15RYN.2023148T163134.v2.0.Fmask.tif'>,\n",
              " <re.Match object; span=(108, 150), match='HLS.L30.T16RBT.2023124T163132.v2.0.B03.tif'>,\n",
              " <re.Match object; span=(108, 150), match='HLS.L30.T15RYN.2023124T163132.v2.0.B03.tif'>,\n",
              " <re.Match object; span=(108, 150), match='HLS.L30.T15RYP.2023124T163132.v2.0.VZA.tif'>,\n",
              " <re.Match object; span=(108, 150), match='HLS.L30.T16RBU.2023124T163132.v2.0.B11.tif'>,\n",
              " <re.Match object; span=(108, 150), match='HLS.L30.T16RBT.2023132T163144.v2.0.B02.tif'>,\n",
              " <re.Match object; span=(108, 150), match='HLS.L30.T15RYP.2023132T163144.v2.0.SAA.tif'>,\n",
              " <re.Match object; span=(108, 150), match='HLS.L30.T15RYN.2023132T163144.v2.0.B09.tif'>,\n",
              " <re.Match object; span=(108, 150), match='HLS.L30.T16RBU.2023132T163144.v2.0.VZA.tif'>,\n",
              " <re.Match object; span=(108, 150), match='HLS.L30.T15RYP.2023140T163123.v2.0.B05.tif'>,\n",
              " <re.Match object; span=(108, 150), match='HLS.L30.T16RBT.2023140T163123.v2.0.B03.tif'>,\n",
              " <re.Match object; span=(108, 150), match='HLS.L30.T16RBU.2023140T163123.v2.0.SZA.tif'>,\n",
              " <re.Match object; span=(108, 150), match='HLS.L30.T15RYN.2023140T163123.v2.0.SAA.tif'>,\n",
              " <re.Match object; span=(108, 152), match='HLS.L30.T15RYN.2023148T163134.v2.0.Fmask.tif'>,\n",
              " <re.Match object; span=(108, 150), match='HLS.L30.T16RBU.2023148T163134.v2.0.B06.tif'>,\n",
              " <re.Match object; span=(108, 150), match='HLS.L30.T16RBT.2023124T163132.v2.0.B03.tif'>,\n",
              " <re.Match object; span=(108, 150), match='HLS.L30.T15RYN.2023124T163132.v2.0.B03.tif'>,\n",
              " <re.Match object; span=(108, 150), match='HLS.L30.T15RYP.2023124T163132.v2.0.VZA.tif'>,\n",
              " <re.Match object; span=(108, 150), match='HLS.L30.T16RBU.2023124T163132.v2.0.B11.tif'>,\n",
              " <re.Match object; span=(108, 150), match='HLS.L30.T16RBT.2023132T163144.v2.0.B02.tif'>,\n",
              " <re.Match object; span=(108, 150), match='HLS.L30.T15RYP.2023132T163144.v2.0.SAA.tif'>,\n",
              " <re.Match object; span=(108, 150), match='HLS.L30.T15RYN.2023132T163144.v2.0.B09.tif'>,\n",
              " <re.Match object; span=(108, 150), match='HLS.L30.T16RBU.2023132T163144.v2.0.VZA.tif'>,\n",
              " <re.Match object; span=(108, 150), match='HLS.L30.T15RYP.2023140T163123.v2.0.B05.tif'>,\n",
              " <re.Match object; span=(108, 150), match='HLS.L30.T16RBT.2023140T163123.v2.0.B03.tif'>,\n",
              " <re.Match object; span=(108, 150), match='HLS.L30.T16RBU.2023140T163123.v2.0.SZA.tif'>,\n",
              " <re.Match object; span=(108, 150), match='HLS.L30.T15RYN.2023140T163123.v2.0.SAA.tif'>,\n",
              " <re.Match object; span=(108, 152), match='HLS.L30.T15RYN.2023148T163134.v2.0.Fmask.tif'>,\n",
              " <re.Match object; span=(108, 150), match='HLS.L30.T16RBU.2023148T163134.v2.0.B06.tif'>,\n",
              " <re.Match object; span=(108, 150), match='HLS.L30.T16RBT.2023148T163134.v2.0.B07.tif'>,\n",
              " <re.Match object; span=(108, 150), match='HLS.L30.T16RBT.2023124T163132.v2.0.B03.tif'>,\n",
              " <re.Match object; span=(108, 150), match='HLS.L30.T15RYN.2023124T163132.v2.0.B03.tif'>,\n",
              " <re.Match object; span=(108, 150), match='HLS.L30.T15RYP.2023124T163132.v2.0.VZA.tif'>,\n",
              " <re.Match object; span=(108, 150), match='HLS.L30.T16RBU.2023124T163132.v2.0.B11.tif'>,\n",
              " <re.Match object; span=(108, 150), match='HLS.L30.T16RBT.2023132T163144.v2.0.B02.tif'>,\n",
              " <re.Match object; span=(108, 150), match='HLS.L30.T15RYP.2023132T163144.v2.0.SAA.tif'>,\n",
              " <re.Match object; span=(108, 150), match='HLS.L30.T15RYN.2023132T163144.v2.0.B09.tif'>,\n",
              " <re.Match object; span=(108, 150), match='HLS.L30.T16RBU.2023132T163144.v2.0.VZA.tif'>,\n",
              " <re.Match object; span=(108, 150), match='HLS.L30.T15RYP.2023140T163123.v2.0.B05.tif'>,\n",
              " <re.Match object; span=(108, 150), match='HLS.L30.T16RBT.2023140T163123.v2.0.B03.tif'>,\n",
              " <re.Match object; span=(108, 150), match='HLS.L30.T16RBU.2023140T163123.v2.0.SZA.tif'>,\n",
              " <re.Match object; span=(108, 150), match='HLS.L30.T15RYN.2023140T163123.v2.0.SAA.tif'>,\n",
              " <re.Match object; span=(108, 152), match='HLS.L30.T15RYN.2023148T163134.v2.0.Fmask.tif'>,\n",
              " <re.Match object; span=(108, 150), match='HLS.L30.T16RBU.2023148T163134.v2.0.B06.tif'>,\n",
              " <re.Match object; span=(108, 150), match='HLS.L30.T16RBT.2023148T163134.v2.0.B07.tif'>,\n",
              " <re.Match object; span=(108, 150), match='HLS.L30.T15RYP.2023148T163134.v2.0.B07.tif'>,\n",
              " <re.Match object; span=(108, 150), match='HLS.L30.T16RBT.2023124T163132.v2.0.B03.tif'>,\n",
              " <re.Match object; span=(108, 150), match='HLS.L30.T15RYN.2023124T163132.v2.0.B03.tif'>,\n",
              " <re.Match object; span=(108, 150), match='HLS.L30.T15RYP.2023124T163132.v2.0.VZA.tif'>,\n",
              " <re.Match object; span=(108, 150), match='HLS.L30.T16RBU.2023124T163132.v2.0.B11.tif'>,\n",
              " <re.Match object; span=(108, 150), match='HLS.L30.T16RBT.2023132T163144.v2.0.B02.tif'>,\n",
              " <re.Match object; span=(108, 150), match='HLS.L30.T15RYP.2023132T163144.v2.0.SAA.tif'>,\n",
              " <re.Match object; span=(108, 150), match='HLS.L30.T15RYN.2023132T163144.v2.0.B09.tif'>,\n",
              " <re.Match object; span=(108, 150), match='HLS.L30.T16RBU.2023132T163144.v2.0.VZA.tif'>,\n",
              " <re.Match object; span=(108, 150), match='HLS.L30.T15RYP.2023140T163123.v2.0.B05.tif'>,\n",
              " <re.Match object; span=(108, 150), match='HLS.L30.T16RBT.2023140T163123.v2.0.B03.tif'>,\n",
              " <re.Match object; span=(108, 150), match='HLS.L30.T16RBU.2023140T163123.v2.0.SZA.tif'>,\n",
              " <re.Match object; span=(108, 150), match='HLS.L30.T15RYN.2023140T163123.v2.0.SAA.tif'>,\n",
              " <re.Match object; span=(108, 152), match='HLS.L30.T15RYN.2023148T163134.v2.0.Fmask.tif'>,\n",
              " <re.Match object; span=(108, 150), match='HLS.L30.T16RBU.2023148T163134.v2.0.B06.tif'>,\n",
              " <re.Match object; span=(108, 150), match='HLS.L30.T16RBT.2023148T163134.v2.0.B07.tif'>,\n",
              " <re.Match object; span=(108, 150), match='HLS.L30.T15RYP.2023148T163134.v2.0.B07.tif'>,\n",
              " <re.Match object; span=(108, 150), match='HLS.L30.T16RBU.2023156T163128.v2.0.VZA.tif'>,\n",
              " <re.Match object; span=(108, 150), match='HLS.L30.T16RBT.2023124T163132.v2.0.B03.tif'>,\n",
              " <re.Match object; span=(108, 150), match='HLS.L30.T15RYN.2023124T163132.v2.0.B03.tif'>,\n",
              " <re.Match object; span=(108, 150), match='HLS.L30.T15RYP.2023124T163132.v2.0.VZA.tif'>,\n",
              " <re.Match object; span=(108, 150), match='HLS.L30.T16RBU.2023124T163132.v2.0.B11.tif'>,\n",
              " <re.Match object; span=(108, 150), match='HLS.L30.T16RBT.2023132T163144.v2.0.B02.tif'>,\n",
              " <re.Match object; span=(108, 150), match='HLS.L30.T15RYP.2023132T163144.v2.0.SAA.tif'>,\n",
              " <re.Match object; span=(108, 150), match='HLS.L30.T15RYN.2023132T163144.v2.0.B09.tif'>,\n",
              " <re.Match object; span=(108, 150), match='HLS.L30.T16RBU.2023132T163144.v2.0.VZA.tif'>,\n",
              " <re.Match object; span=(108, 150), match='HLS.L30.T15RYP.2023140T163123.v2.0.B05.tif'>,\n",
              " <re.Match object; span=(108, 150), match='HLS.L30.T16RBT.2023140T163123.v2.0.B03.tif'>,\n",
              " <re.Match object; span=(108, 150), match='HLS.L30.T16RBU.2023140T163123.v2.0.SZA.tif'>,\n",
              " <re.Match object; span=(108, 150), match='HLS.L30.T15RYN.2023140T163123.v2.0.SAA.tif'>,\n",
              " <re.Match object; span=(108, 152), match='HLS.L30.T15RYN.2023148T163134.v2.0.Fmask.tif'>,\n",
              " <re.Match object; span=(108, 150), match='HLS.L30.T16RBU.2023148T163134.v2.0.B06.tif'>,\n",
              " <re.Match object; span=(108, 150), match='HLS.L30.T16RBT.2023148T163134.v2.0.B07.tif'>,\n",
              " <re.Match object; span=(108, 150), match='HLS.L30.T15RYP.2023148T163134.v2.0.B07.tif'>,\n",
              " <re.Match object; span=(108, 150), match='HLS.L30.T16RBU.2023156T163128.v2.0.VZA.tif'>,\n",
              " <re.Match object; span=(108, 150), match='HLS.L30.T15RYP.2023156T163128.v2.0.B03.tif'>,\n",
              " <re.Match object; span=(108, 150), match='HLS.L30.T16RBT.2023124T163132.v2.0.B03.tif'>,\n",
              " <re.Match object; span=(108, 150), match='HLS.L30.T15RYN.2023124T163132.v2.0.B03.tif'>,\n",
              " <re.Match object; span=(108, 150), match='HLS.L30.T15RYP.2023124T163132.v2.0.VZA.tif'>,\n",
              " <re.Match object; span=(108, 150), match='HLS.L30.T16RBU.2023124T163132.v2.0.B11.tif'>,\n",
              " <re.Match object; span=(108, 150), match='HLS.L30.T16RBT.2023132T163144.v2.0.B02.tif'>,\n",
              " <re.Match object; span=(108, 150), match='HLS.L30.T15RYP.2023132T163144.v2.0.SAA.tif'>,\n",
              " <re.Match object; span=(108, 150), match='HLS.L30.T15RYN.2023132T163144.v2.0.B09.tif'>,\n",
              " <re.Match object; span=(108, 150), match='HLS.L30.T16RBU.2023132T163144.v2.0.VZA.tif'>,\n",
              " <re.Match object; span=(108, 150), match='HLS.L30.T15RYP.2023140T163123.v2.0.B05.tif'>,\n",
              " <re.Match object; span=(108, 150), match='HLS.L30.T16RBT.2023140T163123.v2.0.B03.tif'>,\n",
              " <re.Match object; span=(108, 150), match='HLS.L30.T16RBU.2023140T163123.v2.0.SZA.tif'>,\n",
              " <re.Match object; span=(108, 150), match='HLS.L30.T15RYN.2023140T163123.v2.0.SAA.tif'>,\n",
              " <re.Match object; span=(108, 152), match='HLS.L30.T15RYN.2023148T163134.v2.0.Fmask.tif'>,\n",
              " <re.Match object; span=(108, 150), match='HLS.L30.T16RBU.2023148T163134.v2.0.B06.tif'>,\n",
              " <re.Match object; span=(108, 150), match='HLS.L30.T16RBT.2023148T163134.v2.0.B07.tif'>,\n",
              " <re.Match object; span=(108, 150), match='HLS.L30.T15RYP.2023148T163134.v2.0.B07.tif'>,\n",
              " <re.Match object; span=(108, 150), match='HLS.L30.T16RBU.2023156T163128.v2.0.VZA.tif'>,\n",
              " <re.Match object; span=(108, 150), match='HLS.L30.T15RYP.2023156T163128.v2.0.B03.tif'>,\n",
              " <re.Match object; span=(108, 150), match='HLS.L30.T16RBT.2023156T163128.v2.0.SAA.tif'>,\n",
              " <re.Match object; span=(108, 150), match='HLS.L30.T16RBT.2023124T163132.v2.0.B03.tif'>,\n",
              " <re.Match object; span=(108, 150), match='HLS.L30.T15RYN.2023124T163132.v2.0.B03.tif'>,\n",
              " <re.Match object; span=(108, 150), match='HLS.L30.T15RYP.2023124T163132.v2.0.VZA.tif'>,\n",
              " <re.Match object; span=(108, 150), match='HLS.L30.T16RBU.2023124T163132.v2.0.B11.tif'>,\n",
              " <re.Match object; span=(108, 150), match='HLS.L30.T16RBT.2023132T163144.v2.0.B02.tif'>,\n",
              " <re.Match object; span=(108, 150), match='HLS.L30.T15RYP.2023132T163144.v2.0.SAA.tif'>,\n",
              " <re.Match object; span=(108, 150), match='HLS.L30.T15RYN.2023132T163144.v2.0.B09.tif'>,\n",
              " <re.Match object; span=(108, 150), match='HLS.L30.T16RBU.2023132T163144.v2.0.VZA.tif'>,\n",
              " <re.Match object; span=(108, 150), match='HLS.L30.T15RYP.2023140T163123.v2.0.B05.tif'>,\n",
              " <re.Match object; span=(108, 150), match='HLS.L30.T16RBT.2023140T163123.v2.0.B03.tif'>,\n",
              " <re.Match object; span=(108, 150), match='HLS.L30.T16RBU.2023140T163123.v2.0.SZA.tif'>,\n",
              " <re.Match object; span=(108, 150), match='HLS.L30.T15RYN.2023140T163123.v2.0.SAA.tif'>,\n",
              " <re.Match object; span=(108, 152), match='HLS.L30.T15RYN.2023148T163134.v2.0.Fmask.tif'>,\n",
              " <re.Match object; span=(108, 150), match='HLS.L30.T16RBU.2023148T163134.v2.0.B06.tif'>,\n",
              " <re.Match object; span=(108, 150), match='HLS.L30.T16RBT.2023148T163134.v2.0.B07.tif'>,\n",
              " <re.Match object; span=(108, 150), match='HLS.L30.T15RYP.2023148T163134.v2.0.B07.tif'>,\n",
              " <re.Match object; span=(108, 150), match='HLS.L30.T16RBU.2023156T163128.v2.0.VZA.tif'>,\n",
              " <re.Match object; span=(108, 150), match='HLS.L30.T15RYP.2023156T163128.v2.0.B03.tif'>,\n",
              " <re.Match object; span=(108, 150), match='HLS.L30.T16RBT.2023156T163128.v2.0.SAA.tif'>,\n",
              " <re.Match object; span=(108, 150), match='HLS.L30.T15RYN.2023156T163128.v2.0.B06.tif'>,\n",
              " <re.Match object; span=(108, 150), match='HLS.L30.T16RBT.2023124T163132.v2.0.B03.tif'>,\n",
              " <re.Match object; span=(108, 150), match='HLS.L30.T15RYN.2023124T163132.v2.0.B03.tif'>,\n",
              " <re.Match object; span=(108, 150), match='HLS.L30.T15RYP.2023124T163132.v2.0.VZA.tif'>,\n",
              " <re.Match object; span=(108, 150), match='HLS.L30.T16RBU.2023124T163132.v2.0.B11.tif'>,\n",
              " <re.Match object; span=(108, 150), match='HLS.L30.T16RBT.2023132T163144.v2.0.B02.tif'>,\n",
              " <re.Match object; span=(108, 150), match='HLS.L30.T15RYP.2023132T163144.v2.0.SAA.tif'>,\n",
              " <re.Match object; span=(108, 150), match='HLS.L30.T15RYN.2023132T163144.v2.0.B09.tif'>,\n",
              " <re.Match object; span=(108, 150), match='HLS.L30.T16RBU.2023132T163144.v2.0.VZA.tif'>,\n",
              " <re.Match object; span=(108, 150), match='HLS.L30.T15RYP.2023140T163123.v2.0.B05.tif'>,\n",
              " <re.Match object; span=(108, 150), match='HLS.L30.T16RBT.2023140T163123.v2.0.B03.tif'>,\n",
              " <re.Match object; span=(108, 150), match='HLS.L30.T16RBU.2023140T163123.v2.0.SZA.tif'>,\n",
              " <re.Match object; span=(108, 150), match='HLS.L30.T15RYN.2023140T163123.v2.0.SAA.tif'>,\n",
              " <re.Match object; span=(108, 152), match='HLS.L30.T15RYN.2023148T163134.v2.0.Fmask.tif'>,\n",
              " <re.Match object; span=(108, 150), match='HLS.L30.T16RBU.2023148T163134.v2.0.B06.tif'>,\n",
              " <re.Match object; span=(108, 150), match='HLS.L30.T16RBT.2023148T163134.v2.0.B07.tif'>,\n",
              " <re.Match object; span=(108, 150), match='HLS.L30.T15RYP.2023148T163134.v2.0.B07.tif'>,\n",
              " <re.Match object; span=(108, 150), match='HLS.L30.T16RBU.2023156T163128.v2.0.VZA.tif'>,\n",
              " <re.Match object; span=(108, 150), match='HLS.L30.T15RYP.2023156T163128.v2.0.B03.tif'>,\n",
              " <re.Match object; span=(108, 150), match='HLS.L30.T16RBT.2023156T163128.v2.0.SAA.tif'>,\n",
              " <re.Match object; span=(108, 150), match='HLS.L30.T15RYN.2023156T163128.v2.0.B06.tif'>,\n",
              " <re.Match object; span=(108, 150), match='HLS.L30.T16RBU.2023164T163126.v2.0.B06.tif'>,\n",
              " <re.Match object; span=(108, 150), match='HLS.L30.T16RBT.2023124T163132.v2.0.B03.tif'>,\n",
              " <re.Match object; span=(108, 150), match='HLS.L30.T15RYN.2023124T163132.v2.0.B03.tif'>,\n",
              " <re.Match object; span=(108, 150), match='HLS.L30.T15RYP.2023124T163132.v2.0.VZA.tif'>,\n",
              " <re.Match object; span=(108, 150), match='HLS.L30.T16RBU.2023124T163132.v2.0.B11.tif'>,\n",
              " <re.Match object; span=(108, 150), match='HLS.L30.T16RBT.2023132T163144.v2.0.B02.tif'>,\n",
              " <re.Match object; span=(108, 150), match='HLS.L30.T15RYP.2023132T163144.v2.0.SAA.tif'>,\n",
              " <re.Match object; span=(108, 150), match='HLS.L30.T15RYN.2023132T163144.v2.0.B09.tif'>,\n",
              " <re.Match object; span=(108, 150), match='HLS.L30.T16RBU.2023132T163144.v2.0.VZA.tif'>,\n",
              " <re.Match object; span=(108, 150), match='HLS.L30.T15RYP.2023140T163123.v2.0.B05.tif'>,\n",
              " <re.Match object; span=(108, 150), match='HLS.L30.T16RBT.2023140T163123.v2.0.B03.tif'>,\n",
              " <re.Match object; span=(108, 150), match='HLS.L30.T16RBU.2023140T163123.v2.0.SZA.tif'>,\n",
              " <re.Match object; span=(108, 150), match='HLS.L30.T15RYN.2023140T163123.v2.0.SAA.tif'>,\n",
              " <re.Match object; span=(108, 152), match='HLS.L30.T15RYN.2023148T163134.v2.0.Fmask.tif'>,\n",
              " <re.Match object; span=(108, 150), match='HLS.L30.T16RBU.2023148T163134.v2.0.B06.tif'>,\n",
              " <re.Match object; span=(108, 150), match='HLS.L30.T16RBT.2023148T163134.v2.0.B07.tif'>,\n",
              " <re.Match object; span=(108, 150), match='HLS.L30.T15RYP.2023148T163134.v2.0.B07.tif'>,\n",
              " <re.Match object; span=(108, 150), match='HLS.L30.T16RBU.2023156T163128.v2.0.VZA.tif'>,\n",
              " <re.Match object; span=(108, 150), match='HLS.L30.T15RYP.2023156T163128.v2.0.B03.tif'>,\n",
              " <re.Match object; span=(108, 150), match='HLS.L30.T16RBT.2023156T163128.v2.0.SAA.tif'>,\n",
              " <re.Match object; span=(108, 150), match='HLS.L30.T15RYN.2023156T163128.v2.0.B06.tif'>,\n",
              " <re.Match object; span=(108, 150), match='HLS.L30.T16RBU.2023164T163126.v2.0.B06.tif'>,\n",
              " <re.Match object; span=(108, 150), match='HLS.L30.T15RYP.2023164T163126.v2.0.B09.tif'>,\n",
              " <re.Match object; span=(108, 150), match='HLS.L30.T16RBT.2023124T163132.v2.0.B03.tif'>,\n",
              " <re.Match object; span=(108, 150), match='HLS.L30.T15RYN.2023124T163132.v2.0.B03.tif'>,\n",
              " <re.Match object; span=(108, 150), match='HLS.L30.T15RYP.2023124T163132.v2.0.VZA.tif'>,\n",
              " <re.Match object; span=(108, 150), match='HLS.L30.T16RBU.2023124T163132.v2.0.B11.tif'>,\n",
              " <re.Match object; span=(108, 150), match='HLS.L30.T16RBT.2023132T163144.v2.0.B02.tif'>,\n",
              " <re.Match object; span=(108, 150), match='HLS.L30.T15RYP.2023132T163144.v2.0.SAA.tif'>,\n",
              " <re.Match object; span=(108, 150), match='HLS.L30.T15RYN.2023132T163144.v2.0.B09.tif'>,\n",
              " <re.Match object; span=(108, 150), match='HLS.L30.T16RBU.2023132T163144.v2.0.VZA.tif'>,\n",
              " <re.Match object; span=(108, 150), match='HLS.L30.T15RYP.2023140T163123.v2.0.B05.tif'>,\n",
              " <re.Match object; span=(108, 150), match='HLS.L30.T16RBT.2023140T163123.v2.0.B03.tif'>,\n",
              " <re.Match object; span=(108, 150), match='HLS.L30.T16RBU.2023140T163123.v2.0.SZA.tif'>,\n",
              " <re.Match object; span=(108, 150), match='HLS.L30.T15RYN.2023140T163123.v2.0.SAA.tif'>,\n",
              " <re.Match object; span=(108, 152), match='HLS.L30.T15RYN.2023148T163134.v2.0.Fmask.tif'>,\n",
              " <re.Match object; span=(108, 150), match='HLS.L30.T16RBU.2023148T163134.v2.0.B06.tif'>,\n",
              " <re.Match object; span=(108, 150), match='HLS.L30.T16RBT.2023148T163134.v2.0.B07.tif'>,\n",
              " <re.Match object; span=(108, 150), match='HLS.L30.T15RYP.2023148T163134.v2.0.B07.tif'>,\n",
              " <re.Match object; span=(108, 150), match='HLS.L30.T16RBU.2023156T163128.v2.0.VZA.tif'>,\n",
              " <re.Match object; span=(108, 150), match='HLS.L30.T15RYP.2023156T163128.v2.0.B03.tif'>,\n",
              " <re.Match object; span=(108, 150), match='HLS.L30.T16RBT.2023156T163128.v2.0.SAA.tif'>,\n",
              " <re.Match object; span=(108, 150), match='HLS.L30.T15RYN.2023156T163128.v2.0.B06.tif'>,\n",
              " <re.Match object; span=(108, 150), match='HLS.L30.T16RBU.2023164T163126.v2.0.B06.tif'>,\n",
              " <re.Match object; span=(108, 150), match='HLS.L30.T15RYP.2023164T163126.v2.0.B09.tif'>,\n",
              " <re.Match object; span=(108, 150), match='HLS.L30.T15RYN.2023164T163126.v2.0.B02.tif'>,\n",
              " <re.Match object; span=(108, 150), match='HLS.L30.T16RBT.2023124T163132.v2.0.B03.tif'>,\n",
              " <re.Match object; span=(108, 150), match='HLS.L30.T15RYN.2023124T163132.v2.0.B03.tif'>,\n",
              " <re.Match object; span=(108, 150), match='HLS.L30.T15RYP.2023124T163132.v2.0.VZA.tif'>,\n",
              " <re.Match object; span=(108, 150), match='HLS.L30.T16RBU.2023124T163132.v2.0.B11.tif'>,\n",
              " <re.Match object; span=(108, 150), match='HLS.L30.T16RBT.2023132T163144.v2.0.B02.tif'>,\n",
              " <re.Match object; span=(108, 150), match='HLS.L30.T15RYP.2023132T163144.v2.0.SAA.tif'>,\n",
              " <re.Match object; span=(108, 150), match='HLS.L30.T15RYN.2023132T163144.v2.0.B09.tif'>,\n",
              " <re.Match object; span=(108, 150), match='HLS.L30.T16RBU.2023132T163144.v2.0.VZA.tif'>,\n",
              " <re.Match object; span=(108, 150), match='HLS.L30.T15RYP.2023140T163123.v2.0.B05.tif'>,\n",
              " <re.Match object; span=(108, 150), match='HLS.L30.T16RBT.2023140T163123.v2.0.B03.tif'>,\n",
              " <re.Match object; span=(108, 150), match='HLS.L30.T16RBU.2023140T163123.v2.0.SZA.tif'>,\n",
              " <re.Match object; span=(108, 150), match='HLS.L30.T15RYN.2023140T163123.v2.0.SAA.tif'>,\n",
              " <re.Match object; span=(108, 152), match='HLS.L30.T15RYN.2023148T163134.v2.0.Fmask.tif'>,\n",
              " <re.Match object; span=(108, 150), match='HLS.L30.T16RBU.2023148T163134.v2.0.B06.tif'>,\n",
              " <re.Match object; span=(108, 150), match='HLS.L30.T16RBT.2023148T163134.v2.0.B07.tif'>,\n",
              " <re.Match object; span=(108, 150), match='HLS.L30.T15RYP.2023148T163134.v2.0.B07.tif'>,\n",
              " <re.Match object; span=(108, 150), match='HLS.L30.T16RBU.2023156T163128.v2.0.VZA.tif'>,\n",
              " <re.Match object; span=(108, 150), match='HLS.L30.T15RYP.2023156T163128.v2.0.B03.tif'>,\n",
              " <re.Match object; span=(108, 150), match='HLS.L30.T16RBT.2023156T163128.v2.0.SAA.tif'>,\n",
              " <re.Match object; span=(108, 150), match='HLS.L30.T15RYN.2023156T163128.v2.0.B06.tif'>,\n",
              " <re.Match object; span=(108, 150), match='HLS.L30.T16RBU.2023164T163126.v2.0.B06.tif'>,\n",
              " <re.Match object; span=(108, 150), match='HLS.L30.T15RYP.2023164T163126.v2.0.B09.tif'>,\n",
              " <re.Match object; span=(108, 150), match='HLS.L30.T15RYN.2023164T163126.v2.0.B02.tif'>,\n",
              " <re.Match object; span=(108, 150), match='HLS.L30.T16RBT.2023164T163126.v2.0.B09.tif'>,\n",
              " <re.Match object; span=(108, 150), match='HLS.L30.T16RBT.2023124T163132.v2.0.B03.tif'>,\n",
              " <re.Match object; span=(108, 150), match='HLS.L30.T15RYN.2023124T163132.v2.0.B03.tif'>,\n",
              " <re.Match object; span=(108, 150), match='HLS.L30.T15RYP.2023124T163132.v2.0.VZA.tif'>,\n",
              " <re.Match object; span=(108, 150), match='HLS.L30.T16RBU.2023124T163132.v2.0.B11.tif'>,\n",
              " <re.Match object; span=(108, 150), match='HLS.L30.T16RBT.2023132T163144.v2.0.B02.tif'>,\n",
              " <re.Match object; span=(108, 150), match='HLS.L30.T15RYP.2023132T163144.v2.0.SAA.tif'>,\n",
              " <re.Match object; span=(108, 150), match='HLS.L30.T15RYN.2023132T163144.v2.0.B09.tif'>,\n",
              " <re.Match object; span=(108, 150), match='HLS.L30.T16RBU.2023132T163144.v2.0.VZA.tif'>,\n",
              " <re.Match object; span=(108, 150), match='HLS.L30.T15RYP.2023140T163123.v2.0.B05.tif'>,\n",
              " <re.Match object; span=(108, 150), match='HLS.L30.T16RBT.2023140T163123.v2.0.B03.tif'>,\n",
              " <re.Match object; span=(108, 150), match='HLS.L30.T16RBU.2023140T163123.v2.0.SZA.tif'>,\n",
              " <re.Match object; span=(108, 150), match='HLS.L30.T15RYN.2023140T163123.v2.0.SAA.tif'>,\n",
              " <re.Match object; span=(108, 152), match='HLS.L30.T15RYN.2023148T163134.v2.0.Fmask.tif'>,\n",
              " <re.Match object; span=(108, 150), match='HLS.L30.T16RBU.2023148T163134.v2.0.B06.tif'>,\n",
              " <re.Match object; span=(108, 150), match='HLS.L30.T16RBT.2023148T163134.v2.0.B07.tif'>,\n",
              " <re.Match object; span=(108, 150), match='HLS.L30.T15RYP.2023148T163134.v2.0.B07.tif'>,\n",
              " <re.Match object; span=(108, 150), match='HLS.L30.T16RBU.2023156T163128.v2.0.VZA.tif'>,\n",
              " <re.Match object; span=(108, 150), match='HLS.L30.T15RYP.2023156T163128.v2.0.B03.tif'>,\n",
              " <re.Match object; span=(108, 150), match='HLS.L30.T16RBT.2023156T163128.v2.0.SAA.tif'>,\n",
              " <re.Match object; span=(108, 150), match='HLS.L30.T15RYN.2023156T163128.v2.0.B06.tif'>,\n",
              " <re.Match object; span=(108, 150), match='HLS.L30.T16RBU.2023164T163126.v2.0.B06.tif'>,\n",
              " <re.Match object; span=(108, 150), match='HLS.L30.T15RYP.2023164T163126.v2.0.B09.tif'>,\n",
              " <re.Match object; span=(108, 150), match='HLS.L30.T15RYN.2023164T163126.v2.0.B02.tif'>,\n",
              " <re.Match object; span=(108, 150), match='HLS.L30.T16RBT.2023164T163126.v2.0.B09.tif'>,\n",
              " <re.Match object; span=(108, 150), match='HLS.L30.T15RYP.2023172T163134.v2.0.B02.tif'>,\n",
              " <re.Match object; span=(108, 150), match='HLS.L30.T16RBT.2023124T163132.v2.0.B03.tif'>,\n",
              " <re.Match object; span=(108, 150), match='HLS.L30.T15RYN.2023124T163132.v2.0.B03.tif'>,\n",
              " <re.Match object; span=(108, 150), match='HLS.L30.T15RYP.2023124T163132.v2.0.VZA.tif'>,\n",
              " <re.Match object; span=(108, 150), match='HLS.L30.T16RBU.2023124T163132.v2.0.B11.tif'>,\n",
              " <re.Match object; span=(108, 150), match='HLS.L30.T16RBT.2023132T163144.v2.0.B02.tif'>,\n",
              " <re.Match object; span=(108, 150), match='HLS.L30.T15RYP.2023132T163144.v2.0.SAA.tif'>,\n",
              " <re.Match object; span=(108, 150), match='HLS.L30.T15RYN.2023132T163144.v2.0.B09.tif'>,\n",
              " <re.Match object; span=(108, 150), match='HLS.L30.T16RBU.2023132T163144.v2.0.VZA.tif'>,\n",
              " <re.Match object; span=(108, 150), match='HLS.L30.T15RYP.2023140T163123.v2.0.B05.tif'>,\n",
              " <re.Match object; span=(108, 150), match='HLS.L30.T16RBT.2023140T163123.v2.0.B03.tif'>,\n",
              " <re.Match object; span=(108, 150), match='HLS.L30.T16RBU.2023140T163123.v2.0.SZA.tif'>,\n",
              " <re.Match object; span=(108, 150), match='HLS.L30.T15RYN.2023140T163123.v2.0.SAA.tif'>,\n",
              " <re.Match object; span=(108, 152), match='HLS.L30.T15RYN.2023148T163134.v2.0.Fmask.tif'>,\n",
              " <re.Match object; span=(108, 150), match='HLS.L30.T16RBU.2023148T163134.v2.0.B06.tif'>,\n",
              " <re.Match object; span=(108, 150), match='HLS.L30.T16RBT.2023148T163134.v2.0.B07.tif'>,\n",
              " <re.Match object; span=(108, 150), match='HLS.L30.T15RYP.2023148T163134.v2.0.B07.tif'>,\n",
              " <re.Match object; span=(108, 150), match='HLS.L30.T16RBU.2023156T163128.v2.0.VZA.tif'>,\n",
              " <re.Match object; span=(108, 150), match='HLS.L30.T15RYP.2023156T163128.v2.0.B03.tif'>,\n",
              " <re.Match object; span=(108, 150), match='HLS.L30.T16RBT.2023156T163128.v2.0.SAA.tif'>,\n",
              " <re.Match object; span=(108, 150), match='HLS.L30.T15RYN.2023156T163128.v2.0.B06.tif'>,\n",
              " <re.Match object; span=(108, 150), match='HLS.L30.T16RBU.2023164T163126.v2.0.B06.tif'>,\n",
              " <re.Match object; span=(108, 150), match='HLS.L30.T15RYP.2023164T163126.v2.0.B09.tif'>,\n",
              " <re.Match object; span=(108, 150), match='HLS.L30.T15RYN.2023164T163126.v2.0.B02.tif'>,\n",
              " <re.Match object; span=(108, 150), match='HLS.L30.T16RBT.2023164T163126.v2.0.B09.tif'>,\n",
              " <re.Match object; span=(108, 150), match='HLS.L30.T15RYP.2023172T163134.v2.0.B02.tif'>,\n",
              " <re.Match object; span=(108, 150), match='HLS.L30.T15RYN.2023172T163134.v2.0.B10.tif'>,\n",
              " <re.Match object; span=(108, 150), match='HLS.L30.T16RBT.2023124T163132.v2.0.B03.tif'>,\n",
              " <re.Match object; span=(108, 150), match='HLS.L30.T15RYN.2023124T163132.v2.0.B03.tif'>,\n",
              " <re.Match object; span=(108, 150), match='HLS.L30.T15RYP.2023124T163132.v2.0.VZA.tif'>,\n",
              " <re.Match object; span=(108, 150), match='HLS.L30.T16RBU.2023124T163132.v2.0.B11.tif'>,\n",
              " <re.Match object; span=(108, 150), match='HLS.L30.T16RBT.2023132T163144.v2.0.B02.tif'>,\n",
              " <re.Match object; span=(108, 150), match='HLS.L30.T15RYP.2023132T163144.v2.0.SAA.tif'>,\n",
              " <re.Match object; span=(108, 150), match='HLS.L30.T15RYN.2023132T163144.v2.0.B09.tif'>,\n",
              " <re.Match object; span=(108, 150), match='HLS.L30.T16RBU.2023132T163144.v2.0.VZA.tif'>,\n",
              " <re.Match object; span=(108, 150), match='HLS.L30.T15RYP.2023140T163123.v2.0.B05.tif'>,\n",
              " <re.Match object; span=(108, 150), match='HLS.L30.T16RBT.2023140T163123.v2.0.B03.tif'>,\n",
              " <re.Match object; span=(108, 150), match='HLS.L30.T16RBU.2023140T163123.v2.0.SZA.tif'>,\n",
              " <re.Match object; span=(108, 150), match='HLS.L30.T15RYN.2023140T163123.v2.0.SAA.tif'>,\n",
              " <re.Match object; span=(108, 152), match='HLS.L30.T15RYN.2023148T163134.v2.0.Fmask.tif'>,\n",
              " <re.Match object; span=(108, 150), match='HLS.L30.T16RBU.2023148T163134.v2.0.B06.tif'>,\n",
              " <re.Match object; span=(108, 150), match='HLS.L30.T16RBT.2023148T163134.v2.0.B07.tif'>,\n",
              " <re.Match object; span=(108, 150), match='HLS.L30.T15RYP.2023148T163134.v2.0.B07.tif'>,\n",
              " <re.Match object; span=(108, 150), match='HLS.L30.T16RBU.2023156T163128.v2.0.VZA.tif'>,\n",
              " <re.Match object; span=(108, 150), match='HLS.L30.T15RYP.2023156T163128.v2.0.B03.tif'>,\n",
              " <re.Match object; span=(108, 150), match='HLS.L30.T16RBT.2023156T163128.v2.0.SAA.tif'>,\n",
              " <re.Match object; span=(108, 150), match='HLS.L30.T15RYN.2023156T163128.v2.0.B06.tif'>,\n",
              " <re.Match object; span=(108, 150), match='HLS.L30.T16RBU.2023164T163126.v2.0.B06.tif'>,\n",
              " <re.Match object; span=(108, 150), match='HLS.L30.T15RYP.2023164T163126.v2.0.B09.tif'>,\n",
              " <re.Match object; span=(108, 150), match='HLS.L30.T15RYN.2023164T163126.v2.0.B02.tif'>,\n",
              " <re.Match object; span=(108, 150), match='HLS.L30.T16RBT.2023164T163126.v2.0.B09.tif'>,\n",
              " <re.Match object; span=(108, 150), match='HLS.L30.T15RYP.2023172T163134.v2.0.B02.tif'>,\n",
              " <re.Match object; span=(108, 150), match='HLS.L30.T15RYN.2023172T163134.v2.0.B10.tif'>,\n",
              " <re.Match object; span=(108, 150), match='HLS.L30.T16RBU.2023172T163134.v2.0.B11.tif'>,\n",
              " <re.Match object; span=(108, 150), match='HLS.L30.T16RBT.2023124T163132.v2.0.B03.tif'>,\n",
              " <re.Match object; span=(108, 150), match='HLS.L30.T15RYN.2023124T163132.v2.0.B03.tif'>,\n",
              " <re.Match object; span=(108, 150), match='HLS.L30.T15RYP.2023124T163132.v2.0.VZA.tif'>,\n",
              " <re.Match object; span=(108, 150), match='HLS.L30.T16RBU.2023124T163132.v2.0.B11.tif'>,\n",
              " <re.Match object; span=(108, 150), match='HLS.L30.T16RBT.2023132T163144.v2.0.B02.tif'>,\n",
              " <re.Match object; span=(108, 150), match='HLS.L30.T15RYP.2023132T163144.v2.0.SAA.tif'>,\n",
              " <re.Match object; span=(108, 150), match='HLS.L30.T15RYN.2023132T163144.v2.0.B09.tif'>,\n",
              " <re.Match object; span=(108, 150), match='HLS.L30.T16RBU.2023132T163144.v2.0.VZA.tif'>,\n",
              " <re.Match object; span=(108, 150), match='HLS.L30.T15RYP.2023140T163123.v2.0.B05.tif'>,\n",
              " <re.Match object; span=(108, 150), match='HLS.L30.T16RBT.2023140T163123.v2.0.B03.tif'>,\n",
              " <re.Match object; span=(108, 150), match='HLS.L30.T16RBU.2023140T163123.v2.0.SZA.tif'>,\n",
              " <re.Match object; span=(108, 150), match='HLS.L30.T15RYN.2023140T163123.v2.0.SAA.tif'>,\n",
              " <re.Match object; span=(108, 152), match='HLS.L30.T15RYN.2023148T163134.v2.0.Fmask.tif'>,\n",
              " <re.Match object; span=(108, 150), match='HLS.L30.T16RBU.2023148T163134.v2.0.B06.tif'>,\n",
              " <re.Match object; span=(108, 150), match='HLS.L30.T16RBT.2023148T163134.v2.0.B07.tif'>,\n",
              " <re.Match object; span=(108, 150), match='HLS.L30.T15RYP.2023148T163134.v2.0.B07.tif'>,\n",
              " <re.Match object; span=(108, 150), match='HLS.L30.T16RBU.2023156T163128.v2.0.VZA.tif'>,\n",
              " <re.Match object; span=(108, 150), match='HLS.L30.T15RYP.2023156T163128.v2.0.B03.tif'>,\n",
              " <re.Match object; span=(108, 150), match='HLS.L30.T16RBT.2023156T163128.v2.0.SAA.tif'>,\n",
              " <re.Match object; span=(108, 150), match='HLS.L30.T15RYN.2023156T163128.v2.0.B06.tif'>,\n",
              " <re.Match object; span=(108, 150), match='HLS.L30.T16RBU.2023164T163126.v2.0.B06.tif'>,\n",
              " <re.Match object; span=(108, 150), match='HLS.L30.T15RYP.2023164T163126.v2.0.B09.tif'>,\n",
              " <re.Match object; span=(108, 150), match='HLS.L30.T15RYN.2023164T163126.v2.0.B02.tif'>,\n",
              " <re.Match object; span=(108, 150), match='HLS.L30.T16RBT.2023164T163126.v2.0.B09.tif'>,\n",
              " <re.Match object; span=(108, 150), match='HLS.L30.T15RYP.2023172T163134.v2.0.B02.tif'>,\n",
              " <re.Match object; span=(108, 150), match='HLS.L30.T15RYN.2023172T163134.v2.0.B10.tif'>,\n",
              " <re.Match object; span=(108, 150), match='HLS.L30.T16RBU.2023172T163134.v2.0.B11.tif'>,\n",
              " <re.Match object; span=(108, 150), match='HLS.L30.T16RBT.2023172T163134.v2.0.B04.tif'>,\n",
              " <re.Match object; span=(108, 150), match='HLS.L30.T16RBT.2023124T163132.v2.0.B03.tif'>,\n",
              " <re.Match object; span=(108, 150), match='HLS.L30.T15RYN.2023124T163132.v2.0.B03.tif'>,\n",
              " <re.Match object; span=(108, 150), match='HLS.L30.T15RYP.2023124T163132.v2.0.VZA.tif'>,\n",
              " <re.Match object; span=(108, 150), match='HLS.L30.T16RBU.2023124T163132.v2.0.B11.tif'>,\n",
              " <re.Match object; span=(108, 150), match='HLS.L30.T16RBT.2023132T163144.v2.0.B02.tif'>,\n",
              " <re.Match object; span=(108, 150), match='HLS.L30.T15RYP.2023132T163144.v2.0.SAA.tif'>,\n",
              " <re.Match object; span=(108, 150), match='HLS.L30.T15RYN.2023132T163144.v2.0.B09.tif'>,\n",
              " <re.Match object; span=(108, 150), match='HLS.L30.T16RBU.2023132T163144.v2.0.VZA.tif'>,\n",
              " <re.Match object; span=(108, 150), match='HLS.L30.T15RYP.2023140T163123.v2.0.B05.tif'>,\n",
              " <re.Match object; span=(108, 150), match='HLS.L30.T16RBT.2023140T163123.v2.0.B03.tif'>,\n",
              " <re.Match object; span=(108, 150), match='HLS.L30.T16RBU.2023140T163123.v2.0.SZA.tif'>,\n",
              " <re.Match object; span=(108, 150), match='HLS.L30.T15RYN.2023140T163123.v2.0.SAA.tif'>,\n",
              " <re.Match object; span=(108, 152), match='HLS.L30.T15RYN.2023148T163134.v2.0.Fmask.tif'>,\n",
              " <re.Match object; span=(108, 150), match='HLS.L30.T16RBU.2023148T163134.v2.0.B06.tif'>,\n",
              " <re.Match object; span=(108, 150), match='HLS.L30.T16RBT.2023148T163134.v2.0.B07.tif'>,\n",
              " <re.Match object; span=(108, 150), match='HLS.L30.T15RYP.2023148T163134.v2.0.B07.tif'>,\n",
              " <re.Match object; span=(108, 150), match='HLS.L30.T16RBU.2023156T163128.v2.0.VZA.tif'>,\n",
              " <re.Match object; span=(108, 150), match='HLS.L30.T15RYP.2023156T163128.v2.0.B03.tif'>,\n",
              " <re.Match object; span=(108, 150), match='HLS.L30.T16RBT.2023156T163128.v2.0.SAA.tif'>,\n",
              " <re.Match object; span=(108, 150), match='HLS.L30.T15RYN.2023156T163128.v2.0.B06.tif'>,\n",
              " <re.Match object; span=(108, 150), match='HLS.L30.T16RBU.2023164T163126.v2.0.B06.tif'>,\n",
              " <re.Match object; span=(108, 150), match='HLS.L30.T15RYP.2023164T163126.v2.0.B09.tif'>,\n",
              " <re.Match object; span=(108, 150), match='HLS.L30.T15RYN.2023164T163126.v2.0.B02.tif'>,\n",
              " <re.Match object; span=(108, 150), match='HLS.L30.T16RBT.2023164T163126.v2.0.B09.tif'>,\n",
              " <re.Match object; span=(108, 150), match='HLS.L30.T15RYP.2023172T163134.v2.0.B02.tif'>,\n",
              " <re.Match object; span=(108, 150), match='HLS.L30.T15RYN.2023172T163134.v2.0.B10.tif'>,\n",
              " <re.Match object; span=(108, 150), match='HLS.L30.T16RBU.2023172T163134.v2.0.B11.tif'>,\n",
              " <re.Match object; span=(108, 150), match='HLS.L30.T16RBT.2023172T163134.v2.0.B04.tif'>,\n",
              " <re.Match object; span=(108, 150), match='HLS.L30.T16RBU.2023180T163132.v2.0.B10.tif'>,\n",
              " <re.Match object; span=(108, 150), match='HLS.L30.T16RBT.2023124T163132.v2.0.B03.tif'>,\n",
              " <re.Match object; span=(108, 150), match='HLS.L30.T15RYN.2023124T163132.v2.0.B03.tif'>,\n",
              " <re.Match object; span=(108, 150), match='HLS.L30.T15RYP.2023124T163132.v2.0.VZA.tif'>,\n",
              " <re.Match object; span=(108, 150), match='HLS.L30.T16RBU.2023124T163132.v2.0.B11.tif'>,\n",
              " <re.Match object; span=(108, 150), match='HLS.L30.T16RBT.2023132T163144.v2.0.B02.tif'>,\n",
              " <re.Match object; span=(108, 150), match='HLS.L30.T15RYP.2023132T163144.v2.0.SAA.tif'>,\n",
              " <re.Match object; span=(108, 150), match='HLS.L30.T15RYN.2023132T163144.v2.0.B09.tif'>,\n",
              " <re.Match object; span=(108, 150), match='HLS.L30.T16RBU.2023132T163144.v2.0.VZA.tif'>,\n",
              " <re.Match object; span=(108, 150), match='HLS.L30.T15RYP.2023140T163123.v2.0.B05.tif'>,\n",
              " <re.Match object; span=(108, 150), match='HLS.L30.T16RBT.2023140T163123.v2.0.B03.tif'>,\n",
              " <re.Match object; span=(108, 150), match='HLS.L30.T16RBU.2023140T163123.v2.0.SZA.tif'>,\n",
              " <re.Match object; span=(108, 150), match='HLS.L30.T15RYN.2023140T163123.v2.0.SAA.tif'>,\n",
              " <re.Match object; span=(108, 152), match='HLS.L30.T15RYN.2023148T163134.v2.0.Fmask.tif'>,\n",
              " <re.Match object; span=(108, 150), match='HLS.L30.T16RBU.2023148T163134.v2.0.B06.tif'>,\n",
              " <re.Match object; span=(108, 150), match='HLS.L30.T16RBT.2023148T163134.v2.0.B07.tif'>,\n",
              " <re.Match object; span=(108, 150), match='HLS.L30.T15RYP.2023148T163134.v2.0.B07.tif'>,\n",
              " <re.Match object; span=(108, 150), match='HLS.L30.T16RBU.2023156T163128.v2.0.VZA.tif'>,\n",
              " <re.Match object; span=(108, 150), match='HLS.L30.T15RYP.2023156T163128.v2.0.B03.tif'>,\n",
              " <re.Match object; span=(108, 150), match='HLS.L30.T16RBT.2023156T163128.v2.0.SAA.tif'>,\n",
              " <re.Match object; span=(108, 150), match='HLS.L30.T15RYN.2023156T163128.v2.0.B06.tif'>,\n",
              " <re.Match object; span=(108, 150), match='HLS.L30.T16RBU.2023164T163126.v2.0.B06.tif'>,\n",
              " <re.Match object; span=(108, 150), match='HLS.L30.T15RYP.2023164T163126.v2.0.B09.tif'>,\n",
              " <re.Match object; span=(108, 150), match='HLS.L30.T15RYN.2023164T163126.v2.0.B02.tif'>,\n",
              " <re.Match object; span=(108, 150), match='HLS.L30.T16RBT.2023164T163126.v2.0.B09.tif'>,\n",
              " <re.Match object; span=(108, 150), match='HLS.L30.T15RYP.2023172T163134.v2.0.B02.tif'>,\n",
              " <re.Match object; span=(108, 150), match='HLS.L30.T15RYN.2023172T163134.v2.0.B10.tif'>,\n",
              " <re.Match object; span=(108, 150), match='HLS.L30.T16RBU.2023172T163134.v2.0.B11.tif'>,\n",
              " <re.Match object; span=(108, 150), match='HLS.L30.T16RBT.2023172T163134.v2.0.B04.tif'>,\n",
              " <re.Match object; span=(108, 150), match='HLS.L30.T16RBU.2023180T163132.v2.0.B10.tif'>,\n",
              " <re.Match object; span=(108, 150), match='HLS.L30.T15RYP.2023180T163132.v2.0.B04.tif'>,\n",
              " <re.Match object; span=(108, 150), match='HLS.L30.T16RBT.2023124T163132.v2.0.B03.tif'>,\n",
              " <re.Match object; span=(108, 150), match='HLS.L30.T15RYN.2023124T163132.v2.0.B03.tif'>,\n",
              " <re.Match object; span=(108, 150), match='HLS.L30.T15RYP.2023124T163132.v2.0.VZA.tif'>,\n",
              " <re.Match object; span=(108, 150), match='HLS.L30.T16RBU.2023124T163132.v2.0.B11.tif'>,\n",
              " <re.Match object; span=(108, 150), match='HLS.L30.T16RBT.2023132T163144.v2.0.B02.tif'>,\n",
              " <re.Match object; span=(108, 150), match='HLS.L30.T15RYP.2023132T163144.v2.0.SAA.tif'>,\n",
              " <re.Match object; span=(108, 150), match='HLS.L30.T15RYN.2023132T163144.v2.0.B09.tif'>,\n",
              " <re.Match object; span=(108, 150), match='HLS.L30.T16RBU.2023132T163144.v2.0.VZA.tif'>,\n",
              " <re.Match object; span=(108, 150), match='HLS.L30.T15RYP.2023140T163123.v2.0.B05.tif'>,\n",
              " <re.Match object; span=(108, 150), match='HLS.L30.T16RBT.2023140T163123.v2.0.B03.tif'>,\n",
              " <re.Match object; span=(108, 150), match='HLS.L30.T16RBU.2023140T163123.v2.0.SZA.tif'>,\n",
              " <re.Match object; span=(108, 150), match='HLS.L30.T15RYN.2023140T163123.v2.0.SAA.tif'>,\n",
              " <re.Match object; span=(108, 152), match='HLS.L30.T15RYN.2023148T163134.v2.0.Fmask.tif'>,\n",
              " <re.Match object; span=(108, 150), match='HLS.L30.T16RBU.2023148T163134.v2.0.B06.tif'>,\n",
              " <re.Match object; span=(108, 150), match='HLS.L30.T16RBT.2023148T163134.v2.0.B07.tif'>,\n",
              " <re.Match object; span=(108, 150), match='HLS.L30.T15RYP.2023148T163134.v2.0.B07.tif'>,\n",
              " <re.Match object; span=(108, 150), match='HLS.L30.T16RBU.2023156T163128.v2.0.VZA.tif'>,\n",
              " <re.Match object; span=(108, 150), match='HLS.L30.T15RYP.2023156T163128.v2.0.B03.tif'>,\n",
              " <re.Match object; span=(108, 150), match='HLS.L30.T16RBT.2023156T163128.v2.0.SAA.tif'>,\n",
              " <re.Match object; span=(108, 150), match='HLS.L30.T15RYN.2023156T163128.v2.0.B06.tif'>,\n",
              " <re.Match object; span=(108, 150), match='HLS.L30.T16RBU.2023164T163126.v2.0.B06.tif'>,\n",
              " <re.Match object; span=(108, 150), match='HLS.L30.T15RYP.2023164T163126.v2.0.B09.tif'>,\n",
              " <re.Match object; span=(108, 150), match='HLS.L30.T15RYN.2023164T163126.v2.0.B02.tif'>,\n",
              " <re.Match object; span=(108, 150), match='HLS.L30.T16RBT.2023164T163126.v2.0.B09.tif'>,\n",
              " <re.Match object; span=(108, 150), match='HLS.L30.T15RYP.2023172T163134.v2.0.B02.tif'>,\n",
              " <re.Match object; span=(108, 150), match='HLS.L30.T15RYN.2023172T163134.v2.0.B10.tif'>,\n",
              " <re.Match object; span=(108, 150), match='HLS.L30.T16RBU.2023172T163134.v2.0.B11.tif'>,\n",
              " <re.Match object; span=(108, 150), match='HLS.L30.T16RBT.2023172T163134.v2.0.B04.tif'>,\n",
              " <re.Match object; span=(108, 150), match='HLS.L30.T16RBU.2023180T163132.v2.0.B10.tif'>,\n",
              " <re.Match object; span=(108, 150), match='HLS.L30.T15RYP.2023180T163132.v2.0.B04.tif'>,\n",
              " <re.Match object; span=(108, 150), match='HLS.L30.T16RBT.2023180T163132.v2.0.SZA.tif'>,\n",
              " <re.Match object; span=(108, 150), match='HLS.L30.T16RBT.2023124T163132.v2.0.B03.tif'>,\n",
              " <re.Match object; span=(108, 150), match='HLS.L30.T15RYN.2023124T163132.v2.0.B03.tif'>,\n",
              " <re.Match object; span=(108, 150), match='HLS.L30.T15RYP.2023124T163132.v2.0.VZA.tif'>,\n",
              " <re.Match object; span=(108, 150), match='HLS.L30.T16RBU.2023124T163132.v2.0.B11.tif'>,\n",
              " <re.Match object; span=(108, 150), match='HLS.L30.T16RBT.2023132T163144.v2.0.B02.tif'>,\n",
              " <re.Match object; span=(108, 150), match='HLS.L30.T15RYP.2023132T163144.v2.0.SAA.tif'>,\n",
              " <re.Match object; span=(108, 150), match='HLS.L30.T15RYN.2023132T163144.v2.0.B09.tif'>,\n",
              " <re.Match object; span=(108, 150), match='HLS.L30.T16RBU.2023132T163144.v2.0.VZA.tif'>,\n",
              " <re.Match object; span=(108, 150), match='HLS.L30.T15RYP.2023140T163123.v2.0.B05.tif'>,\n",
              " <re.Match object; span=(108, 150), match='HLS.L30.T16RBT.2023140T163123.v2.0.B03.tif'>,\n",
              " <re.Match object; span=(108, 150), match='HLS.L30.T16RBU.2023140T163123.v2.0.SZA.tif'>,\n",
              " <re.Match object; span=(108, 150), match='HLS.L30.T15RYN.2023140T163123.v2.0.SAA.tif'>,\n",
              " <re.Match object; span=(108, 152), match='HLS.L30.T15RYN.2023148T163134.v2.0.Fmask.tif'>,\n",
              " <re.Match object; span=(108, 150), match='HLS.L30.T16RBU.2023148T163134.v2.0.B06.tif'>,\n",
              " <re.Match object; span=(108, 150), match='HLS.L30.T16RBT.2023148T163134.v2.0.B07.tif'>,\n",
              " <re.Match object; span=(108, 150), match='HLS.L30.T15RYP.2023148T163134.v2.0.B07.tif'>,\n",
              " <re.Match object; span=(108, 150), match='HLS.L30.T16RBU.2023156T163128.v2.0.VZA.tif'>,\n",
              " <re.Match object; span=(108, 150), match='HLS.L30.T15RYP.2023156T163128.v2.0.B03.tif'>,\n",
              " <re.Match object; span=(108, 150), match='HLS.L30.T16RBT.2023156T163128.v2.0.SAA.tif'>,\n",
              " <re.Match object; span=(108, 150), match='HLS.L30.T15RYN.2023156T163128.v2.0.B06.tif'>,\n",
              " <re.Match object; span=(108, 150), match='HLS.L30.T16RBU.2023164T163126.v2.0.B06.tif'>,\n",
              " <re.Match object; span=(108, 150), match='HLS.L30.T15RYP.2023164T163126.v2.0.B09.tif'>,\n",
              " <re.Match object; span=(108, 150), match='HLS.L30.T15RYN.2023164T163126.v2.0.B02.tif'>,\n",
              " <re.Match object; span=(108, 150), match='HLS.L30.T16RBT.2023164T163126.v2.0.B09.tif'>,\n",
              " <re.Match object; span=(108, 150), match='HLS.L30.T15RYP.2023172T163134.v2.0.B02.tif'>,\n",
              " <re.Match object; span=(108, 150), match='HLS.L30.T15RYN.2023172T163134.v2.0.B10.tif'>,\n",
              " <re.Match object; span=(108, 150), match='HLS.L30.T16RBU.2023172T163134.v2.0.B11.tif'>,\n",
              " <re.Match object; span=(108, 150), match='HLS.L30.T16RBT.2023172T163134.v2.0.B04.tif'>,\n",
              " <re.Match object; span=(108, 150), match='HLS.L30.T16RBU.2023180T163132.v2.0.B10.tif'>,\n",
              " <re.Match object; span=(108, 150), match='HLS.L30.T15RYP.2023180T163132.v2.0.B04.tif'>,\n",
              " <re.Match object; span=(108, 150), match='HLS.L30.T16RBT.2023180T163132.v2.0.SZA.tif'>,\n",
              " <re.Match object; span=(108, 150), match='HLS.L30.T15RYN.2023180T163132.v2.0.B09.tif'>,\n",
              " <re.Match object; span=(108, 150), match='HLS.L30.T16RBT.2023124T163132.v2.0.B03.tif'>,\n",
              " <re.Match object; span=(108, 150), match='HLS.L30.T15RYN.2023124T163132.v2.0.B03.tif'>,\n",
              " <re.Match object; span=(108, 150), match='HLS.L30.T15RYP.2023124T163132.v2.0.VZA.tif'>,\n",
              " <re.Match object; span=(108, 150), match='HLS.L30.T16RBU.2023124T163132.v2.0.B11.tif'>,\n",
              " <re.Match object; span=(108, 150), match='HLS.L30.T16RBT.2023132T163144.v2.0.B02.tif'>,\n",
              " <re.Match object; span=(108, 150), match='HLS.L30.T15RYP.2023132T163144.v2.0.SAA.tif'>,\n",
              " <re.Match object; span=(108, 150), match='HLS.L30.T15RYN.2023132T163144.v2.0.B09.tif'>,\n",
              " <re.Match object; span=(108, 150), match='HLS.L30.T16RBU.2023132T163144.v2.0.VZA.tif'>,\n",
              " <re.Match object; span=(108, 150), match='HLS.L30.T15RYP.2023140T163123.v2.0.B05.tif'>,\n",
              " <re.Match object; span=(108, 150), match='HLS.L30.T16RBT.2023140T163123.v2.0.B03.tif'>,\n",
              " <re.Match object; span=(108, 150), match='HLS.L30.T16RBU.2023140T163123.v2.0.SZA.tif'>,\n",
              " <re.Match object; span=(108, 150), match='HLS.L30.T15RYN.2023140T163123.v2.0.SAA.tif'>,\n",
              " <re.Match object; span=(108, 152), match='HLS.L30.T15RYN.2023148T163134.v2.0.Fmask.tif'>,\n",
              " <re.Match object; span=(108, 150), match='HLS.L30.T16RBU.2023148T163134.v2.0.B06.tif'>,\n",
              " <re.Match object; span=(108, 150), match='HLS.L30.T16RBT.2023148T163134.v2.0.B07.tif'>,\n",
              " <re.Match object; span=(108, 150), match='HLS.L30.T15RYP.2023148T163134.v2.0.B07.tif'>,\n",
              " <re.Match object; span=(108, 150), match='HLS.L30.T16RBU.2023156T163128.v2.0.VZA.tif'>,\n",
              " <re.Match object; span=(108, 150), match='HLS.L30.T15RYP.2023156T163128.v2.0.B03.tif'>,\n",
              " <re.Match object; span=(108, 150), match='HLS.L30.T16RBT.2023156T163128.v2.0.SAA.tif'>,\n",
              " <re.Match object; span=(108, 150), match='HLS.L30.T15RYN.2023156T163128.v2.0.B06.tif'>,\n",
              " <re.Match object; span=(108, 150), match='HLS.L30.T16RBU.2023164T163126.v2.0.B06.tif'>,\n",
              " <re.Match object; span=(108, 150), match='HLS.L30.T15RYP.2023164T163126.v2.0.B09.tif'>,\n",
              " <re.Match object; span=(108, 150), match='HLS.L30.T15RYN.2023164T163126.v2.0.B02.tif'>,\n",
              " <re.Match object; span=(108, 150), match='HLS.L30.T16RBT.2023164T163126.v2.0.B09.tif'>,\n",
              " <re.Match object; span=(108, 150), match='HLS.L30.T15RYP.2023172T163134.v2.0.B02.tif'>,\n",
              " <re.Match object; span=(108, 150), match='HLS.L30.T15RYN.2023172T163134.v2.0.B10.tif'>,\n",
              " <re.Match object; span=(108, 150), match='HLS.L30.T16RBU.2023172T163134.v2.0.B11.tif'>,\n",
              " <re.Match object; span=(108, 150), match='HLS.L30.T16RBT.2023172T163134.v2.0.B04.tif'>,\n",
              " <re.Match object; span=(108, 150), match='HLS.L30.T16RBU.2023180T163132.v2.0.B10.tif'>,\n",
              " <re.Match object; span=(108, 150), match='HLS.L30.T15RYP.2023180T163132.v2.0.B04.tif'>,\n",
              " <re.Match object; span=(108, 150), match='HLS.L30.T16RBT.2023180T163132.v2.0.SZA.tif'>,\n",
              " <re.Match object; span=(108, 150), match='HLS.L30.T15RYN.2023180T163132.v2.0.B09.tif'>,\n",
              " <re.Match object; span=(108, 150), match='HLS.L30.T16RBU.2023188T163146.v2.0.B03.tif'>,\n",
              " <re.Match object; span=(108, 150), match='HLS.L30.T16RBT.2023124T163132.v2.0.B03.tif'>,\n",
              " <re.Match object; span=(108, 150), match='HLS.L30.T15RYN.2023124T163132.v2.0.B03.tif'>,\n",
              " <re.Match object; span=(108, 150), match='HLS.L30.T15RYP.2023124T163132.v2.0.VZA.tif'>,\n",
              " <re.Match object; span=(108, 150), match='HLS.L30.T16RBU.2023124T163132.v2.0.B11.tif'>,\n",
              " <re.Match object; span=(108, 150), match='HLS.L30.T16RBT.2023132T163144.v2.0.B02.tif'>,\n",
              " <re.Match object; span=(108, 150), match='HLS.L30.T15RYP.2023132T163144.v2.0.SAA.tif'>,\n",
              " <re.Match object; span=(108, 150), match='HLS.L30.T15RYN.2023132T163144.v2.0.B09.tif'>,\n",
              " <re.Match object; span=(108, 150), match='HLS.L30.T16RBU.2023132T163144.v2.0.VZA.tif'>,\n",
              " <re.Match object; span=(108, 150), match='HLS.L30.T15RYP.2023140T163123.v2.0.B05.tif'>,\n",
              " <re.Match object; span=(108, 150), match='HLS.L30.T16RBT.2023140T163123.v2.0.B03.tif'>,\n",
              " <re.Match object; span=(108, 150), match='HLS.L30.T16RBU.2023140T163123.v2.0.SZA.tif'>,\n",
              " <re.Match object; span=(108, 150), match='HLS.L30.T15RYN.2023140T163123.v2.0.SAA.tif'>,\n",
              " <re.Match object; span=(108, 152), match='HLS.L30.T15RYN.2023148T163134.v2.0.Fmask.tif'>,\n",
              " <re.Match object; span=(108, 150), match='HLS.L30.T16RBU.2023148T163134.v2.0.B06.tif'>,\n",
              " <re.Match object; span=(108, 150), match='HLS.L30.T16RBT.2023148T163134.v2.0.B07.tif'>,\n",
              " <re.Match object; span=(108, 150), match='HLS.L30.T15RYP.2023148T163134.v2.0.B07.tif'>,\n",
              " <re.Match object; span=(108, 150), match='HLS.L30.T16RBU.2023156T163128.v2.0.VZA.tif'>,\n",
              " <re.Match object; span=(108, 150), match='HLS.L30.T15RYP.2023156T163128.v2.0.B03.tif'>,\n",
              " <re.Match object; span=(108, 150), match='HLS.L30.T16RBT.2023156T163128.v2.0.SAA.tif'>,\n",
              " <re.Match object; span=(108, 150), match='HLS.L30.T15RYN.2023156T163128.v2.0.B06.tif'>,\n",
              " <re.Match object; span=(108, 150), match='HLS.L30.T16RBU.2023164T163126.v2.0.B06.tif'>,\n",
              " <re.Match object; span=(108, 150), match='HLS.L30.T15RYP.2023164T163126.v2.0.B09.tif'>,\n",
              " <re.Match object; span=(108, 150), match='HLS.L30.T15RYN.2023164T163126.v2.0.B02.tif'>,\n",
              " <re.Match object; span=(108, 150), match='HLS.L30.T16RBT.2023164T163126.v2.0.B09.tif'>,\n",
              " <re.Match object; span=(108, 150), match='HLS.L30.T15RYP.2023172T163134.v2.0.B02.tif'>,\n",
              " <re.Match object; span=(108, 150), match='HLS.L30.T15RYN.2023172T163134.v2.0.B10.tif'>,\n",
              " <re.Match object; span=(108, 150), match='HLS.L30.T16RBU.2023172T163134.v2.0.B11.tif'>,\n",
              " <re.Match object; span=(108, 150), match='HLS.L30.T16RBT.2023172T163134.v2.0.B04.tif'>,\n",
              " <re.Match object; span=(108, 150), match='HLS.L30.T16RBU.2023180T163132.v2.0.B10.tif'>,\n",
              " <re.Match object; span=(108, 150), match='HLS.L30.T15RYP.2023180T163132.v2.0.B04.tif'>,\n",
              " <re.Match object; span=(108, 150), match='HLS.L30.T16RBT.2023180T163132.v2.0.SZA.tif'>,\n",
              " <re.Match object; span=(108, 150), match='HLS.L30.T15RYN.2023180T163132.v2.0.B09.tif'>,\n",
              " <re.Match object; span=(108, 150), match='HLS.L30.T16RBU.2023188T163146.v2.0.B03.tif'>,\n",
              " <re.Match object; span=(108, 150), match='HLS.L30.T15RYP.2023188T163146.v2.0.B04.tif'>,\n",
              " <re.Match object; span=(108, 150), match='HLS.L30.T16RBT.2023124T163132.v2.0.B03.tif'>,\n",
              " <re.Match object; span=(108, 150), match='HLS.L30.T15RYN.2023124T163132.v2.0.B03.tif'>,\n",
              " <re.Match object; span=(108, 150), match='HLS.L30.T15RYP.2023124T163132.v2.0.VZA.tif'>,\n",
              " <re.Match object; span=(108, 150), match='HLS.L30.T16RBU.2023124T163132.v2.0.B11.tif'>,\n",
              " <re.Match object; span=(108, 150), match='HLS.L30.T16RBT.2023132T163144.v2.0.B02.tif'>,\n",
              " <re.Match object; span=(108, 150), match='HLS.L30.T15RYP.2023132T163144.v2.0.SAA.tif'>,\n",
              " <re.Match object; span=(108, 150), match='HLS.L30.T15RYN.2023132T163144.v2.0.B09.tif'>,\n",
              " <re.Match object; span=(108, 150), match='HLS.L30.T16RBU.2023132T163144.v2.0.VZA.tif'>,\n",
              " <re.Match object; span=(108, 150), match='HLS.L30.T15RYP.2023140T163123.v2.0.B05.tif'>,\n",
              " <re.Match object; span=(108, 150), match='HLS.L30.T16RBT.2023140T163123.v2.0.B03.tif'>,\n",
              " <re.Match object; span=(108, 150), match='HLS.L30.T16RBU.2023140T163123.v2.0.SZA.tif'>,\n",
              " <re.Match object; span=(108, 150), match='HLS.L30.T15RYN.2023140T163123.v2.0.SAA.tif'>,\n",
              " <re.Match object; span=(108, 152), match='HLS.L30.T15RYN.2023148T163134.v2.0.Fmask.tif'>,\n",
              " <re.Match object; span=(108, 150), match='HLS.L30.T16RBU.2023148T163134.v2.0.B06.tif'>,\n",
              " <re.Match object; span=(108, 150), match='HLS.L30.T16RBT.2023148T163134.v2.0.B07.tif'>,\n",
              " <re.Match object; span=(108, 150), match='HLS.L30.T15RYP.2023148T163134.v2.0.B07.tif'>,\n",
              " <re.Match object; span=(108, 150), match='HLS.L30.T16RBU.2023156T163128.v2.0.VZA.tif'>,\n",
              " <re.Match object; span=(108, 150), match='HLS.L30.T15RYP.2023156T163128.v2.0.B03.tif'>,\n",
              " <re.Match object; span=(108, 150), match='HLS.L30.T16RBT.2023156T163128.v2.0.SAA.tif'>,\n",
              " <re.Match object; span=(108, 150), match='HLS.L30.T15RYN.2023156T163128.v2.0.B06.tif'>,\n",
              " <re.Match object; span=(108, 150), match='HLS.L30.T16RBU.2023164T163126.v2.0.B06.tif'>,\n",
              " <re.Match object; span=(108, 150), match='HLS.L30.T15RYP.2023164T163126.v2.0.B09.tif'>,\n",
              " <re.Match object; span=(108, 150), match='HLS.L30.T15RYN.2023164T163126.v2.0.B02.tif'>,\n",
              " <re.Match object; span=(108, 150), match='HLS.L30.T16RBT.2023164T163126.v2.0.B09.tif'>,\n",
              " <re.Match object; span=(108, 150), match='HLS.L30.T15RYP.2023172T163134.v2.0.B02.tif'>,\n",
              " <re.Match object; span=(108, 150), match='HLS.L30.T15RYN.2023172T163134.v2.0.B10.tif'>,\n",
              " <re.Match object; span=(108, 150), match='HLS.L30.T16RBU.2023172T163134.v2.0.B11.tif'>,\n",
              " <re.Match object; span=(108, 150), match='HLS.L30.T16RBT.2023172T163134.v2.0.B04.tif'>,\n",
              " <re.Match object; span=(108, 150), match='HLS.L30.T16RBU.2023180T163132.v2.0.B10.tif'>,\n",
              " <re.Match object; span=(108, 150), match='HLS.L30.T15RYP.2023180T163132.v2.0.B04.tif'>,\n",
              " <re.Match object; span=(108, 150), match='HLS.L30.T16RBT.2023180T163132.v2.0.SZA.tif'>,\n",
              " <re.Match object; span=(108, 150), match='HLS.L30.T15RYN.2023180T163132.v2.0.B09.tif'>,\n",
              " <re.Match object; span=(108, 150), match='HLS.L30.T16RBU.2023188T163146.v2.0.B03.tif'>,\n",
              " <re.Match object; span=(108, 150), match='HLS.L30.T15RYP.2023188T163146.v2.0.B04.tif'>,\n",
              " <re.Match object; span=(108, 150), match='HLS.L30.T16RBT.2023188T163146.v2.0.B11.tif'>,\n",
              " <re.Match object; span=(108, 150), match='HLS.L30.T16RBT.2023124T163132.v2.0.B03.tif'>,\n",
              " <re.Match object; span=(108, 150), match='HLS.L30.T15RYN.2023124T163132.v2.0.B03.tif'>,\n",
              " <re.Match object; span=(108, 150), match='HLS.L30.T15RYP.2023124T163132.v2.0.VZA.tif'>,\n",
              " <re.Match object; span=(108, 150), match='HLS.L30.T16RBU.2023124T163132.v2.0.B11.tif'>,\n",
              " <re.Match object; span=(108, 150), match='HLS.L30.T16RBT.2023132T163144.v2.0.B02.tif'>,\n",
              " <re.Match object; span=(108, 150), match='HLS.L30.T15RYP.2023132T163144.v2.0.SAA.tif'>,\n",
              " <re.Match object; span=(108, 150), match='HLS.L30.T15RYN.2023132T163144.v2.0.B09.tif'>,\n",
              " <re.Match object; span=(108, 150), match='HLS.L30.T16RBU.2023132T163144.v2.0.VZA.tif'>,\n",
              " <re.Match object; span=(108, 150), match='HLS.L30.T15RYP.2023140T163123.v2.0.B05.tif'>,\n",
              " <re.Match object; span=(108, 150), match='HLS.L30.T16RBT.2023140T163123.v2.0.B03.tif'>,\n",
              " <re.Match object; span=(108, 150), match='HLS.L30.T16RBU.2023140T163123.v2.0.SZA.tif'>,\n",
              " <re.Match object; span=(108, 150), match='HLS.L30.T15RYN.2023140T163123.v2.0.SAA.tif'>,\n",
              " <re.Match object; span=(108, 152), match='HLS.L30.T15RYN.2023148T163134.v2.0.Fmask.tif'>,\n",
              " <re.Match object; span=(108, 150), match='HLS.L30.T16RBU.2023148T163134.v2.0.B06.tif'>,\n",
              " <re.Match object; span=(108, 150), match='HLS.L30.T16RBT.2023148T163134.v2.0.B07.tif'>,\n",
              " <re.Match object; span=(108, 150), match='HLS.L30.T15RYP.2023148T163134.v2.0.B07.tif'>,\n",
              " <re.Match object; span=(108, 150), match='HLS.L30.T16RBU.2023156T163128.v2.0.VZA.tif'>,\n",
              " <re.Match object; span=(108, 150), match='HLS.L30.T15RYP.2023156T163128.v2.0.B03.tif'>,\n",
              " <re.Match object; span=(108, 150), match='HLS.L30.T16RBT.2023156T163128.v2.0.SAA.tif'>,\n",
              " <re.Match object; span=(108, 150), match='HLS.L30.T15RYN.2023156T163128.v2.0.B06.tif'>,\n",
              " <re.Match object; span=(108, 150), match='HLS.L30.T16RBU.2023164T163126.v2.0.B06.tif'>,\n",
              " <re.Match object; span=(108, 150), match='HLS.L30.T15RYP.2023164T163126.v2.0.B09.tif'>,\n",
              " <re.Match object; span=(108, 150), match='HLS.L30.T15RYN.2023164T163126.v2.0.B02.tif'>,\n",
              " <re.Match object; span=(108, 150), match='HLS.L30.T16RBT.2023164T163126.v2.0.B09.tif'>,\n",
              " <re.Match object; span=(108, 150), match='HLS.L30.T15RYP.2023172T163134.v2.0.B02.tif'>,\n",
              " <re.Match object; span=(108, 150), match='HLS.L30.T15RYN.2023172T163134.v2.0.B10.tif'>,\n",
              " <re.Match object; span=(108, 150), match='HLS.L30.T16RBU.2023172T163134.v2.0.B11.tif'>,\n",
              " <re.Match object; span=(108, 150), match='HLS.L30.T16RBT.2023172T163134.v2.0.B04.tif'>,\n",
              " <re.Match object; span=(108, 150), match='HLS.L30.T16RBU.2023180T163132.v2.0.B10.tif'>,\n",
              " <re.Match object; span=(108, 150), match='HLS.L30.T15RYP.2023180T163132.v2.0.B04.tif'>,\n",
              " <re.Match object; span=(108, 150), match='HLS.L30.T16RBT.2023180T163132.v2.0.SZA.tif'>,\n",
              " <re.Match object; span=(108, 150), match='HLS.L30.T15RYN.2023180T163132.v2.0.B09.tif'>,\n",
              " <re.Match object; span=(108, 150), match='HLS.L30.T16RBU.2023188T163146.v2.0.B03.tif'>,\n",
              " <re.Match object; span=(108, 150), match='HLS.L30.T15RYP.2023188T163146.v2.0.B04.tif'>,\n",
              " <re.Match object; span=(108, 150), match='HLS.L30.T16RBT.2023188T163146.v2.0.B11.tif'>,\n",
              " <re.Match object; span=(108, 150), match='HLS.L30.T15RYN.2023188T163146.v2.0.B03.tif'>,\n",
              " <re.Match object; span=(108, 150), match='HLS.L30.T16RBT.2023124T163132.v2.0.B03.tif'>,\n",
              " <re.Match object; span=(108, 150), match='HLS.L30.T15RYN.2023124T163132.v2.0.B03.tif'>,\n",
              " <re.Match object; span=(108, 150), match='HLS.L30.T15RYP.2023124T163132.v2.0.VZA.tif'>,\n",
              " <re.Match object; span=(108, 150), match='HLS.L30.T16RBU.2023124T163132.v2.0.B11.tif'>,\n",
              " <re.Match object; span=(108, 150), match='HLS.L30.T16RBT.2023132T163144.v2.0.B02.tif'>,\n",
              " <re.Match object; span=(108, 150), match='HLS.L30.T15RYP.2023132T163144.v2.0.SAA.tif'>,\n",
              " <re.Match object; span=(108, 150), match='HLS.L30.T15RYN.2023132T163144.v2.0.B09.tif'>,\n",
              " <re.Match object; span=(108, 150), match='HLS.L30.T16RBU.2023132T163144.v2.0.VZA.tif'>,\n",
              " <re.Match object; span=(108, 150), match='HLS.L30.T15RYP.2023140T163123.v2.0.B05.tif'>,\n",
              " <re.Match object; span=(108, 150), match='HLS.L30.T16RBT.2023140T163123.v2.0.B03.tif'>,\n",
              " <re.Match object; span=(108, 150), match='HLS.L30.T16RBU.2023140T163123.v2.0.SZA.tif'>,\n",
              " <re.Match object; span=(108, 150), match='HLS.L30.T15RYN.2023140T163123.v2.0.SAA.tif'>,\n",
              " <re.Match object; span=(108, 152), match='HLS.L30.T15RYN.2023148T163134.v2.0.Fmask.tif'>,\n",
              " <re.Match object; span=(108, 150), match='HLS.L30.T16RBU.2023148T163134.v2.0.B06.tif'>,\n",
              " <re.Match object; span=(108, 150), match='HLS.L30.T16RBT.2023148T163134.v2.0.B07.tif'>,\n",
              " <re.Match object; span=(108, 150), match='HLS.L30.T15RYP.2023148T163134.v2.0.B07.tif'>,\n",
              " <re.Match object; span=(108, 150), match='HLS.L30.T16RBU.2023156T163128.v2.0.VZA.tif'>,\n",
              " <re.Match object; span=(108, 150), match='HLS.L30.T15RYP.2023156T163128.v2.0.B03.tif'>,\n",
              " <re.Match object; span=(108, 150), match='HLS.L30.T16RBT.2023156T163128.v2.0.SAA.tif'>,\n",
              " <re.Match object; span=(108, 150), match='HLS.L30.T15RYN.2023156T163128.v2.0.B06.tif'>,\n",
              " <re.Match object; span=(108, 150), match='HLS.L30.T16RBU.2023164T163126.v2.0.B06.tif'>,\n",
              " <re.Match object; span=(108, 150), match='HLS.L30.T15RYP.2023164T163126.v2.0.B09.tif'>,\n",
              " <re.Match object; span=(108, 150), match='HLS.L30.T15RYN.2023164T163126.v2.0.B02.tif'>,\n",
              " <re.Match object; span=(108, 150), match='HLS.L30.T16RBT.2023164T163126.v2.0.B09.tif'>,\n",
              " <re.Match object; span=(108, 150), match='HLS.L30.T15RYP.2023172T163134.v2.0.B02.tif'>,\n",
              " <re.Match object; span=(108, 150), match='HLS.L30.T15RYN.2023172T163134.v2.0.B10.tif'>,\n",
              " <re.Match object; span=(108, 150), match='HLS.L30.T16RBU.2023172T163134.v2.0.B11.tif'>,\n",
              " <re.Match object; span=(108, 150), match='HLS.L30.T16RBT.2023172T163134.v2.0.B04.tif'>,\n",
              " <re.Match object; span=(108, 150), match='HLS.L30.T16RBU.2023180T163132.v2.0.B10.tif'>,\n",
              " <re.Match object; span=(108, 150), match='HLS.L30.T15RYP.2023180T163132.v2.0.B04.tif'>,\n",
              " <re.Match object; span=(108, 150), match='HLS.L30.T16RBT.2023180T163132.v2.0.SZA.tif'>,\n",
              " <re.Match object; span=(108, 150), match='HLS.L30.T15RYN.2023180T163132.v2.0.B09.tif'>,\n",
              " <re.Match object; span=(108, 150), match='HLS.L30.T16RBU.2023188T163146.v2.0.B03.tif'>,\n",
              " <re.Match object; span=(108, 150), match='HLS.L30.T15RYP.2023188T163146.v2.0.B04.tif'>,\n",
              " <re.Match object; span=(108, 150), match='HLS.L30.T16RBT.2023188T163146.v2.0.B11.tif'>,\n",
              " <re.Match object; span=(108, 150), match='HLS.L30.T15RYN.2023188T163146.v2.0.B03.tif'>,\n",
              " <re.Match object; span=(108, 152), match='HLS.L30.T15RYN.2023196T163142.v2.0.Fmask.tif'>,\n",
              " <re.Match object; span=(108, 150), match='HLS.L30.T16RBT.2023124T163132.v2.0.B03.tif'>,\n",
              " <re.Match object; span=(108, 150), match='HLS.L30.T15RYN.2023124T163132.v2.0.B03.tif'>,\n",
              " <re.Match object; span=(108, 150), match='HLS.L30.T15RYP.2023124T163132.v2.0.VZA.tif'>,\n",
              " <re.Match object; span=(108, 150), match='HLS.L30.T16RBU.2023124T163132.v2.0.B11.tif'>,\n",
              " <re.Match object; span=(108, 150), match='HLS.L30.T16RBT.2023132T163144.v2.0.B02.tif'>,\n",
              " <re.Match object; span=(108, 150), match='HLS.L30.T15RYP.2023132T163144.v2.0.SAA.tif'>,\n",
              " <re.Match object; span=(108, 150), match='HLS.L30.T15RYN.2023132T163144.v2.0.B09.tif'>,\n",
              " <re.Match object; span=(108, 150), match='HLS.L30.T16RBU.2023132T163144.v2.0.VZA.tif'>,\n",
              " <re.Match object; span=(108, 150), match='HLS.L30.T15RYP.2023140T163123.v2.0.B05.tif'>,\n",
              " <re.Match object; span=(108, 150), match='HLS.L30.T16RBT.2023140T163123.v2.0.B03.tif'>,\n",
              " <re.Match object; span=(108, 150), match='HLS.L30.T16RBU.2023140T163123.v2.0.SZA.tif'>,\n",
              " <re.Match object; span=(108, 150), match='HLS.L30.T15RYN.2023140T163123.v2.0.SAA.tif'>,\n",
              " <re.Match object; span=(108, 152), match='HLS.L30.T15RYN.2023148T163134.v2.0.Fmask.tif'>,\n",
              " <re.Match object; span=(108, 150), match='HLS.L30.T16RBU.2023148T163134.v2.0.B06.tif'>,\n",
              " <re.Match object; span=(108, 150), match='HLS.L30.T16RBT.2023148T163134.v2.0.B07.tif'>,\n",
              " <re.Match object; span=(108, 150), match='HLS.L30.T15RYP.2023148T163134.v2.0.B07.tif'>,\n",
              " <re.Match object; span=(108, 150), match='HLS.L30.T16RBU.2023156T163128.v2.0.VZA.tif'>,\n",
              " <re.Match object; span=(108, 150), match='HLS.L30.T15RYP.2023156T163128.v2.0.B03.tif'>,\n",
              " <re.Match object; span=(108, 150), match='HLS.L30.T16RBT.2023156T163128.v2.0.SAA.tif'>,\n",
              " <re.Match object; span=(108, 150), match='HLS.L30.T15RYN.2023156T163128.v2.0.B06.tif'>,\n",
              " <re.Match object; span=(108, 150), match='HLS.L30.T16RBU.2023164T163126.v2.0.B06.tif'>,\n",
              " <re.Match object; span=(108, 150), match='HLS.L30.T15RYP.2023164T163126.v2.0.B09.tif'>,\n",
              " <re.Match object; span=(108, 150), match='HLS.L30.T15RYN.2023164T163126.v2.0.B02.tif'>,\n",
              " <re.Match object; span=(108, 150), match='HLS.L30.T16RBT.2023164T163126.v2.0.B09.tif'>,\n",
              " <re.Match object; span=(108, 150), match='HLS.L30.T15RYP.2023172T163134.v2.0.B02.tif'>,\n",
              " <re.Match object; span=(108, 150), match='HLS.L30.T15RYN.2023172T163134.v2.0.B10.tif'>,\n",
              " <re.Match object; span=(108, 150), match='HLS.L30.T16RBU.2023172T163134.v2.0.B11.tif'>,\n",
              " <re.Match object; span=(108, 150), match='HLS.L30.T16RBT.2023172T163134.v2.0.B04.tif'>,\n",
              " <re.Match object; span=(108, 150), match='HLS.L30.T16RBU.2023180T163132.v2.0.B10.tif'>,\n",
              " <re.Match object; span=(108, 150), match='HLS.L30.T15RYP.2023180T163132.v2.0.B04.tif'>,\n",
              " <re.Match object; span=(108, 150), match='HLS.L30.T16RBT.2023180T163132.v2.0.SZA.tif'>,\n",
              " <re.Match object; span=(108, 150), match='HLS.L30.T15RYN.2023180T163132.v2.0.B09.tif'>,\n",
              " <re.Match object; span=(108, 150), match='HLS.L30.T16RBU.2023188T163146.v2.0.B03.tif'>,\n",
              " <re.Match object; span=(108, 150), match='HLS.L30.T15RYP.2023188T163146.v2.0.B04.tif'>,\n",
              " <re.Match object; span=(108, 150), match='HLS.L30.T16RBT.2023188T163146.v2.0.B11.tif'>,\n",
              " <re.Match object; span=(108, 150), match='HLS.L30.T15RYN.2023188T163146.v2.0.B03.tif'>,\n",
              " <re.Match object; span=(108, 152), match='HLS.L30.T15RYN.2023196T163142.v2.0.Fmask.tif'>,\n",
              " <re.Match object; span=(108, 150), match='HLS.L30.T16RBU.2023196T163142.v2.0.B04.tif'>,\n",
              " <re.Match object; span=(108, 150), match='HLS.L30.T16RBT.2023124T163132.v2.0.B03.tif'>,\n",
              " <re.Match object; span=(108, 150), match='HLS.L30.T15RYN.2023124T163132.v2.0.B03.tif'>,\n",
              " <re.Match object; span=(108, 150), match='HLS.L30.T15RYP.2023124T163132.v2.0.VZA.tif'>,\n",
              " <re.Match object; span=(108, 150), match='HLS.L30.T16RBU.2023124T163132.v2.0.B11.tif'>,\n",
              " <re.Match object; span=(108, 150), match='HLS.L30.T16RBT.2023132T163144.v2.0.B02.tif'>,\n",
              " <re.Match object; span=(108, 150), match='HLS.L30.T15RYP.2023132T163144.v2.0.SAA.tif'>,\n",
              " <re.Match object; span=(108, 150), match='HLS.L30.T15RYN.2023132T163144.v2.0.B09.tif'>,\n",
              " <re.Match object; span=(108, 150), match='HLS.L30.T16RBU.2023132T163144.v2.0.VZA.tif'>,\n",
              " <re.Match object; span=(108, 150), match='HLS.L30.T15RYP.2023140T163123.v2.0.B05.tif'>,\n",
              " <re.Match object; span=(108, 150), match='HLS.L30.T16RBT.2023140T163123.v2.0.B03.tif'>,\n",
              " <re.Match object; span=(108, 150), match='HLS.L30.T16RBU.2023140T163123.v2.0.SZA.tif'>,\n",
              " <re.Match object; span=(108, 150), match='HLS.L30.T15RYN.2023140T163123.v2.0.SAA.tif'>,\n",
              " <re.Match object; span=(108, 152), match='HLS.L30.T15RYN.2023148T163134.v2.0.Fmask.tif'>,\n",
              " <re.Match object; span=(108, 150), match='HLS.L30.T16RBU.2023148T163134.v2.0.B06.tif'>,\n",
              " <re.Match object; span=(108, 150), match='HLS.L30.T16RBT.2023148T163134.v2.0.B07.tif'>,\n",
              " <re.Match object; span=(108, 150), match='HLS.L30.T15RYP.2023148T163134.v2.0.B07.tif'>,\n",
              " <re.Match object; span=(108, 150), match='HLS.L30.T16RBU.2023156T163128.v2.0.VZA.tif'>,\n",
              " <re.Match object; span=(108, 150), match='HLS.L30.T15RYP.2023156T163128.v2.0.B03.tif'>,\n",
              " <re.Match object; span=(108, 150), match='HLS.L30.T16RBT.2023156T163128.v2.0.SAA.tif'>,\n",
              " <re.Match object; span=(108, 150), match='HLS.L30.T15RYN.2023156T163128.v2.0.B06.tif'>,\n",
              " <re.Match object; span=(108, 150), match='HLS.L30.T16RBU.2023164T163126.v2.0.B06.tif'>,\n",
              " <re.Match object; span=(108, 150), match='HLS.L30.T15RYP.2023164T163126.v2.0.B09.tif'>,\n",
              " <re.Match object; span=(108, 150), match='HLS.L30.T15RYN.2023164T163126.v2.0.B02.tif'>,\n",
              " <re.Match object; span=(108, 150), match='HLS.L30.T16RBT.2023164T163126.v2.0.B09.tif'>,\n",
              " <re.Match object; span=(108, 150), match='HLS.L30.T15RYP.2023172T163134.v2.0.B02.tif'>,\n",
              " <re.Match object; span=(108, 150), match='HLS.L30.T15RYN.2023172T163134.v2.0.B10.tif'>,\n",
              " <re.Match object; span=(108, 150), match='HLS.L30.T16RBU.2023172T163134.v2.0.B11.tif'>,\n",
              " <re.Match object; span=(108, 150), match='HLS.L30.T16RBT.2023172T163134.v2.0.B04.tif'>,\n",
              " <re.Match object; span=(108, 150), match='HLS.L30.T16RBU.2023180T163132.v2.0.B10.tif'>,\n",
              " <re.Match object; span=(108, 150), match='HLS.L30.T15RYP.2023180T163132.v2.0.B04.tif'>,\n",
              " <re.Match object; span=(108, 150), match='HLS.L30.T16RBT.2023180T163132.v2.0.SZA.tif'>,\n",
              " <re.Match object; span=(108, 150), match='HLS.L30.T15RYN.2023180T163132.v2.0.B09.tif'>,\n",
              " <re.Match object; span=(108, 150), match='HLS.L30.T16RBU.2023188T163146.v2.0.B03.tif'>,\n",
              " <re.Match object; span=(108, 150), match='HLS.L30.T15RYP.2023188T163146.v2.0.B04.tif'>,\n",
              " <re.Match object; span=(108, 150), match='HLS.L30.T16RBT.2023188T163146.v2.0.B11.tif'>,\n",
              " <re.Match object; span=(108, 150), match='HLS.L30.T15RYN.2023188T163146.v2.0.B03.tif'>,\n",
              " <re.Match object; span=(108, 152), match='HLS.L30.T15RYN.2023196T163142.v2.0.Fmask.tif'>,\n",
              " <re.Match object; span=(108, 150), match='HLS.L30.T16RBU.2023196T163142.v2.0.B04.tif'>,\n",
              " <re.Match object; span=(108, 150), match='HLS.L30.T15RYP.2023196T163142.v2.0.B07.tif'>,\n",
              " <re.Match object; span=(108, 150), match='HLS.L30.T16RBT.2023124T163132.v2.0.B03.tif'>,\n",
              " <re.Match object; span=(108, 150), match='HLS.L30.T15RYN.2023124T163132.v2.0.B03.tif'>,\n",
              " <re.Match object; span=(108, 150), match='HLS.L30.T15RYP.2023124T163132.v2.0.VZA.tif'>,\n",
              " <re.Match object; span=(108, 150), match='HLS.L30.T16RBU.2023124T163132.v2.0.B11.tif'>,\n",
              " <re.Match object; span=(108, 150), match='HLS.L30.T16RBT.2023132T163144.v2.0.B02.tif'>,\n",
              " <re.Match object; span=(108, 150), match='HLS.L30.T15RYP.2023132T163144.v2.0.SAA.tif'>,\n",
              " <re.Match object; span=(108, 150), match='HLS.L30.T15RYN.2023132T163144.v2.0.B09.tif'>,\n",
              " <re.Match object; span=(108, 150), match='HLS.L30.T16RBU.2023132T163144.v2.0.VZA.tif'>,\n",
              " <re.Match object; span=(108, 150), match='HLS.L30.T15RYP.2023140T163123.v2.0.B05.tif'>,\n",
              " <re.Match object; span=(108, 150), match='HLS.L30.T16RBT.2023140T163123.v2.0.B03.tif'>,\n",
              " <re.Match object; span=(108, 150), match='HLS.L30.T16RBU.2023140T163123.v2.0.SZA.tif'>,\n",
              " <re.Match object; span=(108, 150), match='HLS.L30.T15RYN.2023140T163123.v2.0.SAA.tif'>,\n",
              " <re.Match object; span=(108, 152), match='HLS.L30.T15RYN.2023148T163134.v2.0.Fmask.tif'>,\n",
              " <re.Match object; span=(108, 150), match='HLS.L30.T16RBU.2023148T163134.v2.0.B06.tif'>,\n",
              " <re.Match object; span=(108, 150), match='HLS.L30.T16RBT.2023148T163134.v2.0.B07.tif'>,\n",
              " <re.Match object; span=(108, 150), match='HLS.L30.T15RYP.2023148T163134.v2.0.B07.tif'>,\n",
              " <re.Match object; span=(108, 150), match='HLS.L30.T16RBU.2023156T163128.v2.0.VZA.tif'>,\n",
              " <re.Match object; span=(108, 150), match='HLS.L30.T15RYP.2023156T163128.v2.0.B03.tif'>,\n",
              " <re.Match object; span=(108, 150), match='HLS.L30.T16RBT.2023156T163128.v2.0.SAA.tif'>,\n",
              " <re.Match object; span=(108, 150), match='HLS.L30.T15RYN.2023156T163128.v2.0.B06.tif'>,\n",
              " <re.Match object; span=(108, 150), match='HLS.L30.T16RBU.2023164T163126.v2.0.B06.tif'>,\n",
              " <re.Match object; span=(108, 150), match='HLS.L30.T15RYP.2023164T163126.v2.0.B09.tif'>,\n",
              " <re.Match object; span=(108, 150), match='HLS.L30.T15RYN.2023164T163126.v2.0.B02.tif'>,\n",
              " <re.Match object; span=(108, 150), match='HLS.L30.T16RBT.2023164T163126.v2.0.B09.tif'>,\n",
              " <re.Match object; span=(108, 150), match='HLS.L30.T15RYP.2023172T163134.v2.0.B02.tif'>,\n",
              " <re.Match object; span=(108, 150), match='HLS.L30.T15RYN.2023172T163134.v2.0.B10.tif'>,\n",
              " <re.Match object; span=(108, 150), match='HLS.L30.T16RBU.2023172T163134.v2.0.B11.tif'>,\n",
              " <re.Match object; span=(108, 150), match='HLS.L30.T16RBT.2023172T163134.v2.0.B04.tif'>,\n",
              " <re.Match object; span=(108, 150), match='HLS.L30.T16RBU.2023180T163132.v2.0.B10.tif'>,\n",
              " <re.Match object; span=(108, 150), match='HLS.L30.T15RYP.2023180T163132.v2.0.B04.tif'>,\n",
              " <re.Match object; span=(108, 150), match='HLS.L30.T16RBT.2023180T163132.v2.0.SZA.tif'>,\n",
              " <re.Match object; span=(108, 150), match='HLS.L30.T15RYN.2023180T163132.v2.0.B09.tif'>,\n",
              " <re.Match object; span=(108, 150), match='HLS.L30.T16RBU.2023188T163146.v2.0.B03.tif'>,\n",
              " <re.Match object; span=(108, 150), match='HLS.L30.T15RYP.2023188T163146.v2.0.B04.tif'>,\n",
              " <re.Match object; span=(108, 150), match='HLS.L30.T16RBT.2023188T163146.v2.0.B11.tif'>,\n",
              " <re.Match object; span=(108, 150), match='HLS.L30.T15RYN.2023188T163146.v2.0.B03.tif'>,\n",
              " <re.Match object; span=(108, 152), match='HLS.L30.T15RYN.2023196T163142.v2.0.Fmask.tif'>,\n",
              " <re.Match object; span=(108, 150), match='HLS.L30.T16RBU.2023196T163142.v2.0.B04.tif'>,\n",
              " <re.Match object; span=(108, 150), match='HLS.L30.T15RYP.2023196T163142.v2.0.B07.tif'>,\n",
              " <re.Match object; span=(108, 150), match='HLS.L30.T16RBT.2023196T163142.v2.0.SZA.tif'>,\n",
              " <re.Match object; span=(108, 150), match='HLS.L30.T16RBT.2023124T163132.v2.0.B03.tif'>,\n",
              " <re.Match object; span=(108, 150), match='HLS.L30.T15RYN.2023124T163132.v2.0.B03.tif'>,\n",
              " <re.Match object; span=(108, 150), match='HLS.L30.T15RYP.2023124T163132.v2.0.VZA.tif'>,\n",
              " <re.Match object; span=(108, 150), match='HLS.L30.T16RBU.2023124T163132.v2.0.B11.tif'>,\n",
              " <re.Match object; span=(108, 150), match='HLS.L30.T16RBT.2023132T163144.v2.0.B02.tif'>,\n",
              " <re.Match object; span=(108, 150), match='HLS.L30.T15RYP.2023132T163144.v2.0.SAA.tif'>,\n",
              " <re.Match object; span=(108, 150), match='HLS.L30.T15RYN.2023132T163144.v2.0.B09.tif'>,\n",
              " <re.Match object; span=(108, 150), match='HLS.L30.T16RBU.2023132T163144.v2.0.VZA.tif'>,\n",
              " <re.Match object; span=(108, 150), match='HLS.L30.T15RYP.2023140T163123.v2.0.B05.tif'>,\n",
              " <re.Match object; span=(108, 150), match='HLS.L30.T16RBT.2023140T163123.v2.0.B03.tif'>,\n",
              " <re.Match object; span=(108, 150), match='HLS.L30.T16RBU.2023140T163123.v2.0.SZA.tif'>,\n",
              " <re.Match object; span=(108, 150), match='HLS.L30.T15RYN.2023140T163123.v2.0.SAA.tif'>,\n",
              " <re.Match object; span=(108, 152), match='HLS.L30.T15RYN.2023148T163134.v2.0.Fmask.tif'>,\n",
              " <re.Match object; span=(108, 150), match='HLS.L30.T16RBU.2023148T163134.v2.0.B06.tif'>,\n",
              " <re.Match object; span=(108, 150), match='HLS.L30.T16RBT.2023148T163134.v2.0.B07.tif'>,\n",
              " <re.Match object; span=(108, 150), match='HLS.L30.T15RYP.2023148T163134.v2.0.B07.tif'>,\n",
              " <re.Match object; span=(108, 150), match='HLS.L30.T16RBU.2023156T163128.v2.0.VZA.tif'>,\n",
              " <re.Match object; span=(108, 150), match='HLS.L30.T15RYP.2023156T163128.v2.0.B03.tif'>,\n",
              " <re.Match object; span=(108, 150), match='HLS.L30.T16RBT.2023156T163128.v2.0.SAA.tif'>,\n",
              " <re.Match object; span=(108, 150), match='HLS.L30.T15RYN.2023156T163128.v2.0.B06.tif'>,\n",
              " <re.Match object; span=(108, 150), match='HLS.L30.T16RBU.2023164T163126.v2.0.B06.tif'>,\n",
              " <re.Match object; span=(108, 150), match='HLS.L30.T15RYP.2023164T163126.v2.0.B09.tif'>,\n",
              " <re.Match object; span=(108, 150), match='HLS.L30.T15RYN.2023164T163126.v2.0.B02.tif'>,\n",
              " <re.Match object; span=(108, 150), match='HLS.L30.T16RBT.2023164T163126.v2.0.B09.tif'>,\n",
              " <re.Match object; span=(108, 150), match='HLS.L30.T15RYP.2023172T163134.v2.0.B02.tif'>,\n",
              " <re.Match object; span=(108, 150), match='HLS.L30.T15RYN.2023172T163134.v2.0.B10.tif'>,\n",
              " <re.Match object; span=(108, 150), match='HLS.L30.T16RBU.2023172T163134.v2.0.B11.tif'>,\n",
              " <re.Match object; span=(108, 150), match='HLS.L30.T16RBT.2023172T163134.v2.0.B04.tif'>,\n",
              " <re.Match object; span=(108, 150), match='HLS.L30.T16RBU.2023180T163132.v2.0.B10.tif'>,\n",
              " <re.Match object; span=(108, 150), match='HLS.L30.T15RYP.2023180T163132.v2.0.B04.tif'>,\n",
              " <re.Match object; span=(108, 150), match='HLS.L30.T16RBT.2023180T163132.v2.0.SZA.tif'>,\n",
              " <re.Match object; span=(108, 150), match='HLS.L30.T15RYN.2023180T163132.v2.0.B09.tif'>,\n",
              " <re.Match object; span=(108, 150), match='HLS.L30.T16RBU.2023188T163146.v2.0.B03.tif'>,\n",
              " <re.Match object; span=(108, 150), match='HLS.L30.T15RYP.2023188T163146.v2.0.B04.tif'>,\n",
              " <re.Match object; span=(108, 150), match='HLS.L30.T16RBT.2023188T163146.v2.0.B11.tif'>,\n",
              " <re.Match object; span=(108, 150), match='HLS.L30.T15RYN.2023188T163146.v2.0.B03.tif'>,\n",
              " <re.Match object; span=(108, 152), match='HLS.L30.T15RYN.2023196T163142.v2.0.Fmask.tif'>,\n",
              " <re.Match object; span=(108, 150), match='HLS.L30.T16RBU.2023196T163142.v2.0.B04.tif'>,\n",
              " <re.Match object; span=(108, 150), match='HLS.L30.T15RYP.2023196T163142.v2.0.B07.tif'>,\n",
              " <re.Match object; span=(108, 150), match='HLS.L30.T16RBT.2023196T163142.v2.0.SZA.tif'>,\n",
              " <re.Match object; span=(108, 150), match='HLS.L30.T15RYP.2023204T163150.v2.0.SZA.tif'>,\n",
              " <re.Match object; span=(108, 150), match='HLS.L30.T16RBT.2023124T163132.v2.0.B03.tif'>,\n",
              " <re.Match object; span=(108, 150), match='HLS.L30.T15RYN.2023124T163132.v2.0.B03.tif'>,\n",
              " <re.Match object; span=(108, 150), match='HLS.L30.T15RYP.2023124T163132.v2.0.VZA.tif'>,\n",
              " <re.Match object; span=(108, 150), match='HLS.L30.T16RBU.2023124T163132.v2.0.B11.tif'>,\n",
              " <re.Match object; span=(108, 150), match='HLS.L30.T16RBT.2023132T163144.v2.0.B02.tif'>,\n",
              " <re.Match object; span=(108, 150), match='HLS.L30.T15RYP.2023132T163144.v2.0.SAA.tif'>,\n",
              " <re.Match object; span=(108, 150), match='HLS.L30.T15RYN.2023132T163144.v2.0.B09.tif'>,\n",
              " <re.Match object; span=(108, 150), match='HLS.L30.T16RBU.2023132T163144.v2.0.VZA.tif'>,\n",
              " <re.Match object; span=(108, 150), match='HLS.L30.T15RYP.2023140T163123.v2.0.B05.tif'>,\n",
              " <re.Match object; span=(108, 150), match='HLS.L30.T16RBT.2023140T163123.v2.0.B03.tif'>,\n",
              " <re.Match object; span=(108, 150), match='HLS.L30.T16RBU.2023140T163123.v2.0.SZA.tif'>,\n",
              " <re.Match object; span=(108, 150), match='HLS.L30.T15RYN.2023140T163123.v2.0.SAA.tif'>,\n",
              " <re.Match object; span=(108, 152), match='HLS.L30.T15RYN.2023148T163134.v2.0.Fmask.tif'>,\n",
              " <re.Match object; span=(108, 150), match='HLS.L30.T16RBU.2023148T163134.v2.0.B06.tif'>,\n",
              " <re.Match object; span=(108, 150), match='HLS.L30.T16RBT.2023148T163134.v2.0.B07.tif'>,\n",
              " <re.Match object; span=(108, 150), match='HLS.L30.T15RYP.2023148T163134.v2.0.B07.tif'>,\n",
              " <re.Match object; span=(108, 150), match='HLS.L30.T16RBU.2023156T163128.v2.0.VZA.tif'>,\n",
              " <re.Match object; span=(108, 150), match='HLS.L30.T15RYP.2023156T163128.v2.0.B03.tif'>,\n",
              " <re.Match object; span=(108, 150), match='HLS.L30.T16RBT.2023156T163128.v2.0.SAA.tif'>,\n",
              " <re.Match object; span=(108, 150), match='HLS.L30.T15RYN.2023156T163128.v2.0.B06.tif'>,\n",
              " <re.Match object; span=(108, 150), match='HLS.L30.T16RBU.2023164T163126.v2.0.B06.tif'>,\n",
              " <re.Match object; span=(108, 150), match='HLS.L30.T15RYP.2023164T163126.v2.0.B09.tif'>,\n",
              " <re.Match object; span=(108, 150), match='HLS.L30.T15RYN.2023164T163126.v2.0.B02.tif'>,\n",
              " <re.Match object; span=(108, 150), match='HLS.L30.T16RBT.2023164T163126.v2.0.B09.tif'>,\n",
              " <re.Match object; span=(108, 150), match='HLS.L30.T15RYP.2023172T163134.v2.0.B02.tif'>,\n",
              " <re.Match object; span=(108, 150), match='HLS.L30.T15RYN.2023172T163134.v2.0.B10.tif'>,\n",
              " <re.Match object; span=(108, 150), match='HLS.L30.T16RBU.2023172T163134.v2.0.B11.tif'>,\n",
              " <re.Match object; span=(108, 150), match='HLS.L30.T16RBT.2023172T163134.v2.0.B04.tif'>,\n",
              " <re.Match object; span=(108, 150), match='HLS.L30.T16RBU.2023180T163132.v2.0.B10.tif'>,\n",
              " <re.Match object; span=(108, 150), match='HLS.L30.T15RYP.2023180T163132.v2.0.B04.tif'>,\n",
              " <re.Match object; span=(108, 150), match='HLS.L30.T16RBT.2023180T163132.v2.0.SZA.tif'>,\n",
              " <re.Match object; span=(108, 150), match='HLS.L30.T15RYN.2023180T163132.v2.0.B09.tif'>,\n",
              " <re.Match object; span=(108, 150), match='HLS.L30.T16RBU.2023188T163146.v2.0.B03.tif'>,\n",
              " <re.Match object; span=(108, 150), match='HLS.L30.T15RYP.2023188T163146.v2.0.B04.tif'>,\n",
              " <re.Match object; span=(108, 150), match='HLS.L30.T16RBT.2023188T163146.v2.0.B11.tif'>,\n",
              " <re.Match object; span=(108, 150), match='HLS.L30.T15RYN.2023188T163146.v2.0.B03.tif'>,\n",
              " <re.Match object; span=(108, 152), match='HLS.L30.T15RYN.2023196T163142.v2.0.Fmask.tif'>,\n",
              " <re.Match object; span=(108, 150), match='HLS.L30.T16RBU.2023196T163142.v2.0.B04.tif'>,\n",
              " <re.Match object; span=(108, 150), match='HLS.L30.T15RYP.2023196T163142.v2.0.B07.tif'>,\n",
              " <re.Match object; span=(108, 150), match='HLS.L30.T16RBT.2023196T163142.v2.0.SZA.tif'>,\n",
              " <re.Match object; span=(108, 150), match='HLS.L30.T15RYP.2023204T163150.v2.0.SZA.tif'>,\n",
              " <re.Match object; span=(108, 150), match='HLS.L30.T16RBU.2023204T163150.v2.0.B01.tif'>,\n",
              " <re.Match object; span=(108, 150), match='HLS.L30.T16RBT.2023124T163132.v2.0.B03.tif'>,\n",
              " <re.Match object; span=(108, 150), match='HLS.L30.T15RYN.2023124T163132.v2.0.B03.tif'>,\n",
              " <re.Match object; span=(108, 150), match='HLS.L30.T15RYP.2023124T163132.v2.0.VZA.tif'>,\n",
              " <re.Match object; span=(108, 150), match='HLS.L30.T16RBU.2023124T163132.v2.0.B11.tif'>,\n",
              " <re.Match object; span=(108, 150), match='HLS.L30.T16RBT.2023132T163144.v2.0.B02.tif'>,\n",
              " <re.Match object; span=(108, 150), match='HLS.L30.T15RYP.2023132T163144.v2.0.SAA.tif'>,\n",
              " <re.Match object; span=(108, 150), match='HLS.L30.T15RYN.2023132T163144.v2.0.B09.tif'>,\n",
              " <re.Match object; span=(108, 150), match='HLS.L30.T16RBU.2023132T163144.v2.0.VZA.tif'>,\n",
              " <re.Match object; span=(108, 150), match='HLS.L30.T15RYP.2023140T163123.v2.0.B05.tif'>,\n",
              " <re.Match object; span=(108, 150), match='HLS.L30.T16RBT.2023140T163123.v2.0.B03.tif'>,\n",
              " <re.Match object; span=(108, 150), match='HLS.L30.T16RBU.2023140T163123.v2.0.SZA.tif'>,\n",
              " <re.Match object; span=(108, 150), match='HLS.L30.T15RYN.2023140T163123.v2.0.SAA.tif'>,\n",
              " <re.Match object; span=(108, 152), match='HLS.L30.T15RYN.2023148T163134.v2.0.Fmask.tif'>,\n",
              " <re.Match object; span=(108, 150), match='HLS.L30.T16RBU.2023148T163134.v2.0.B06.tif'>,\n",
              " <re.Match object; span=(108, 150), match='HLS.L30.T16RBT.2023148T163134.v2.0.B07.tif'>,\n",
              " <re.Match object; span=(108, 150), match='HLS.L30.T15RYP.2023148T163134.v2.0.B07.tif'>,\n",
              " <re.Match object; span=(108, 150), match='HLS.L30.T16RBU.2023156T163128.v2.0.VZA.tif'>,\n",
              " <re.Match object; span=(108, 150), match='HLS.L30.T15RYP.2023156T163128.v2.0.B03.tif'>,\n",
              " <re.Match object; span=(108, 150), match='HLS.L30.T16RBT.2023156T163128.v2.0.SAA.tif'>,\n",
              " <re.Match object; span=(108, 150), match='HLS.L30.T15RYN.2023156T163128.v2.0.B06.tif'>,\n",
              " <re.Match object; span=(108, 150), match='HLS.L30.T16RBU.2023164T163126.v2.0.B06.tif'>,\n",
              " <re.Match object; span=(108, 150), match='HLS.L30.T15RYP.2023164T163126.v2.0.B09.tif'>,\n",
              " <re.Match object; span=(108, 150), match='HLS.L30.T15RYN.2023164T163126.v2.0.B02.tif'>,\n",
              " <re.Match object; span=(108, 150), match='HLS.L30.T16RBT.2023164T163126.v2.0.B09.tif'>,\n",
              " <re.Match object; span=(108, 150), match='HLS.L30.T15RYP.2023172T163134.v2.0.B02.tif'>,\n",
              " <re.Match object; span=(108, 150), match='HLS.L30.T15RYN.2023172T163134.v2.0.B10.tif'>,\n",
              " <re.Match object; span=(108, 150), match='HLS.L30.T16RBU.2023172T163134.v2.0.B11.tif'>,\n",
              " <re.Match object; span=(108, 150), match='HLS.L30.T16RBT.2023172T163134.v2.0.B04.tif'>,\n",
              " <re.Match object; span=(108, 150), match='HLS.L30.T16RBU.2023180T163132.v2.0.B10.tif'>,\n",
              " <re.Match object; span=(108, 150), match='HLS.L30.T15RYP.2023180T163132.v2.0.B04.tif'>,\n",
              " <re.Match object; span=(108, 150), match='HLS.L30.T16RBT.2023180T163132.v2.0.SZA.tif'>,\n",
              " <re.Match object; span=(108, 150), match='HLS.L30.T15RYN.2023180T163132.v2.0.B09.tif'>,\n",
              " <re.Match object; span=(108, 150), match='HLS.L30.T16RBU.2023188T163146.v2.0.B03.tif'>,\n",
              " <re.Match object; span=(108, 150), match='HLS.L30.T15RYP.2023188T163146.v2.0.B04.tif'>,\n",
              " <re.Match object; span=(108, 150), match='HLS.L30.T16RBT.2023188T163146.v2.0.B11.tif'>,\n",
              " <re.Match object; span=(108, 150), match='HLS.L30.T15RYN.2023188T163146.v2.0.B03.tif'>,\n",
              " <re.Match object; span=(108, 152), match='HLS.L30.T15RYN.2023196T163142.v2.0.Fmask.tif'>,\n",
              " <re.Match object; span=(108, 150), match='HLS.L30.T16RBU.2023196T163142.v2.0.B04.tif'>,\n",
              " <re.Match object; span=(108, 150), match='HLS.L30.T15RYP.2023196T163142.v2.0.B07.tif'>,\n",
              " <re.Match object; span=(108, 150), match='HLS.L30.T16RBT.2023196T163142.v2.0.SZA.tif'>,\n",
              " <re.Match object; span=(108, 150), match='HLS.L30.T15RYP.2023204T163150.v2.0.SZA.tif'>,\n",
              " <re.Match object; span=(108, 150), match='HLS.L30.T16RBU.2023204T163150.v2.0.B01.tif'>,\n",
              " <re.Match object; span=(108, 152), match='HLS.L30.T15RYN.2023204T163150.v2.0.Fmask.tif'>,\n",
              " <re.Match object; span=(108, 150), match='HLS.L30.T16RBT.2023124T163132.v2.0.B03.tif'>,\n",
              " <re.Match object; span=(108, 150), match='HLS.L30.T15RYN.2023124T163132.v2.0.B03.tif'>,\n",
              " <re.Match object; span=(108, 150), match='HLS.L30.T15RYP.2023124T163132.v2.0.VZA.tif'>,\n",
              " <re.Match object; span=(108, 150), match='HLS.L30.T16RBU.2023124T163132.v2.0.B11.tif'>,\n",
              " <re.Match object; span=(108, 150), match='HLS.L30.T16RBT.2023132T163144.v2.0.B02.tif'>,\n",
              " <re.Match object; span=(108, 150), match='HLS.L30.T15RYP.2023132T163144.v2.0.SAA.tif'>,\n",
              " <re.Match object; span=(108, 150), match='HLS.L30.T15RYN.2023132T163144.v2.0.B09.tif'>,\n",
              " <re.Match object; span=(108, 150), match='HLS.L30.T16RBU.2023132T163144.v2.0.VZA.tif'>,\n",
              " <re.Match object; span=(108, 150), match='HLS.L30.T15RYP.2023140T163123.v2.0.B05.tif'>,\n",
              " <re.Match object; span=(108, 150), match='HLS.L30.T16RBT.2023140T163123.v2.0.B03.tif'>,\n",
              " <re.Match object; span=(108, 150), match='HLS.L30.T16RBU.2023140T163123.v2.0.SZA.tif'>,\n",
              " <re.Match object; span=(108, 150), match='HLS.L30.T15RYN.2023140T163123.v2.0.SAA.tif'>,\n",
              " <re.Match object; span=(108, 152), match='HLS.L30.T15RYN.2023148T163134.v2.0.Fmask.tif'>,\n",
              " <re.Match object; span=(108, 150), match='HLS.L30.T16RBU.2023148T163134.v2.0.B06.tif'>,\n",
              " <re.Match object; span=(108, 150), match='HLS.L30.T16RBT.2023148T163134.v2.0.B07.tif'>,\n",
              " <re.Match object; span=(108, 150), match='HLS.L30.T15RYP.2023148T163134.v2.0.B07.tif'>,\n",
              " <re.Match object; span=(108, 150), match='HLS.L30.T16RBU.2023156T163128.v2.0.VZA.tif'>,\n",
              " <re.Match object; span=(108, 150), match='HLS.L30.T15RYP.2023156T163128.v2.0.B03.tif'>,\n",
              " <re.Match object; span=(108, 150), match='HLS.L30.T16RBT.2023156T163128.v2.0.SAA.tif'>,\n",
              " <re.Match object; span=(108, 150), match='HLS.L30.T15RYN.2023156T163128.v2.0.B06.tif'>,\n",
              " <re.Match object; span=(108, 150), match='HLS.L30.T16RBU.2023164T163126.v2.0.B06.tif'>,\n",
              " <re.Match object; span=(108, 150), match='HLS.L30.T15RYP.2023164T163126.v2.0.B09.tif'>,\n",
              " <re.Match object; span=(108, 150), match='HLS.L30.T15RYN.2023164T163126.v2.0.B02.tif'>,\n",
              " <re.Match object; span=(108, 150), match='HLS.L30.T16RBT.2023164T163126.v2.0.B09.tif'>,\n",
              " <re.Match object; span=(108, 150), match='HLS.L30.T15RYP.2023172T163134.v2.0.B02.tif'>,\n",
              " <re.Match object; span=(108, 150), match='HLS.L30.T15RYN.2023172T163134.v2.0.B10.tif'>,\n",
              " <re.Match object; span=(108, 150), match='HLS.L30.T16RBU.2023172T163134.v2.0.B11.tif'>,\n",
              " <re.Match object; span=(108, 150), match='HLS.L30.T16RBT.2023172T163134.v2.0.B04.tif'>,\n",
              " <re.Match object; span=(108, 150), match='HLS.L30.T16RBU.2023180T163132.v2.0.B10.tif'>,\n",
              " <re.Match object; span=(108, 150), match='HLS.L30.T15RYP.2023180T163132.v2.0.B04.tif'>,\n",
              " <re.Match object; span=(108, 150), match='HLS.L30.T16RBT.2023180T163132.v2.0.SZA.tif'>,\n",
              " <re.Match object; span=(108, 150), match='HLS.L30.T15RYN.2023180T163132.v2.0.B09.tif'>,\n",
              " <re.Match object; span=(108, 150), match='HLS.L30.T16RBU.2023188T163146.v2.0.B03.tif'>,\n",
              " <re.Match object; span=(108, 150), match='HLS.L30.T15RYP.2023188T163146.v2.0.B04.tif'>,\n",
              " <re.Match object; span=(108, 150), match='HLS.L30.T16RBT.2023188T163146.v2.0.B11.tif'>,\n",
              " <re.Match object; span=(108, 150), match='HLS.L30.T15RYN.2023188T163146.v2.0.B03.tif'>,\n",
              " <re.Match object; span=(108, 152), match='HLS.L30.T15RYN.2023196T163142.v2.0.Fmask.tif'>,\n",
              " <re.Match object; span=(108, 150), match='HLS.L30.T16RBU.2023196T163142.v2.0.B04.tif'>,\n",
              " <re.Match object; span=(108, 150), match='HLS.L30.T15RYP.2023196T163142.v2.0.B07.tif'>,\n",
              " <re.Match object; span=(108, 150), match='HLS.L30.T16RBT.2023196T163142.v2.0.SZA.tif'>,\n",
              " <re.Match object; span=(108, 150), match='HLS.L30.T15RYP.2023204T163150.v2.0.SZA.tif'>,\n",
              " <re.Match object; span=(108, 150), match='HLS.L30.T16RBU.2023204T163150.v2.0.B01.tif'>,\n",
              " <re.Match object; span=(108, 152), match='HLS.L30.T15RYN.2023204T163150.v2.0.Fmask.tif'>,\n",
              " <re.Match object; span=(108, 150), match='HLS.L30.T16RBT.2023204T163150.v2.0.B11.tif'>,\n",
              " <re.Match object; span=(108, 150), match='HLS.L30.T16RBT.2023124T163132.v2.0.B03.tif'>,\n",
              " <re.Match object; span=(108, 150), match='HLS.L30.T15RYN.2023124T163132.v2.0.B03.tif'>,\n",
              " <re.Match object; span=(108, 150), match='HLS.L30.T15RYP.2023124T163132.v2.0.VZA.tif'>,\n",
              " <re.Match object; span=(108, 150), match='HLS.L30.T16RBU.2023124T163132.v2.0.B11.tif'>,\n",
              " <re.Match object; span=(108, 150), match='HLS.L30.T16RBT.2023132T163144.v2.0.B02.tif'>,\n",
              " <re.Match object; span=(108, 150), match='HLS.L30.T15RYP.2023132T163144.v2.0.SAA.tif'>,\n",
              " <re.Match object; span=(108, 150), match='HLS.L30.T15RYN.2023132T163144.v2.0.B09.tif'>,\n",
              " <re.Match object; span=(108, 150), match='HLS.L30.T16RBU.2023132T163144.v2.0.VZA.tif'>,\n",
              " <re.Match object; span=(108, 150), match='HLS.L30.T15RYP.2023140T163123.v2.0.B05.tif'>,\n",
              " <re.Match object; span=(108, 150), match='HLS.L30.T16RBT.2023140T163123.v2.0.B03.tif'>,\n",
              " ...]"
            ]
          },
          "execution_count": 44,
          "metadata": {},
          "output_type": "execute_result"
        }
      ],
      "source": [
        "# check files_metadata list\n",
        "files_metadata"
      ]
    },
    {
      "cell_type": "code",
      "execution_count": 45,
      "id": "1df3734b",
      "metadata": {},
      "outputs": [
        {
          "data": {
            "text/plain": [
              "88"
            ]
          },
          "execution_count": 45,
          "metadata": {},
          "output_type": "execute_result"
        }
      ],
      "source": [
        "len(granule_ids)"
      ]
    },
    {
      "cell_type": "code",
      "execution_count": 46,
      "id": "e84901a6",
      "metadata": {},
      "outputs": [
        {
          "data": {
            "text/plain": [
              "88"
            ]
          },
          "execution_count": 46,
          "metadata": {},
          "output_type": "execute_result"
        }
      ],
      "source": [
        "len(files)"
      ]
    },
    {
      "cell_type": "code",
      "execution_count": 47,
      "id": "40a640c0",
      "metadata": {},
      "outputs": [
        {
          "data": {
            "text/plain": [
              "3916"
            ]
          },
          "execution_count": 47,
          "metadata": {},
          "output_type": "execute_result"
        }
      ],
      "source": [
        "len(files_metadata)"
      ]
    },
    {
      "cell_type": "code",
      "execution_count": 41,
      "id": "0f42bc94",
      "metadata": {},
      "outputs": [
        {
          "data": {
            "text/html": [
              "<div>\n",
              "<style scoped>\n",
              "    .dataframe tbody tr th:only-of-type {\n",
              "        vertical-align: middle;\n",
              "    }\n",
              "\n",
              "    .dataframe tbody tr th {\n",
              "        vertical-align: top;\n",
              "    }\n",
              "\n",
              "    .dataframe thead th {\n",
              "        text-align: right;\n",
              "    }\n",
              "</style>\n",
              "<table border=\"1\" class=\"dataframe\">\n",
              "  <thead>\n",
              "    <tr style=\"text-align: right;\">\n",
              "      <th></th>\n",
              "      <th>granule_ids</th>\n",
              "      <th>granule_datetimes</th>\n",
              "      <th>files</th>\n",
              "      <th>geometry</th>\n",
              "    </tr>\n",
              "  </thead>\n",
              "  <tbody>\n",
              "    <tr>\n",
              "      <th>0</th>\n",
              "      <td>HLS.L30.T16RBT.2023124T163132.v2.0</td>\n",
              "      <td>2023-05-04 16:31:32.101000+00:00</td>\n",
              "      <td>[&lt;File-like object HTTPFileSystem, https://dat...</td>\n",
              "      <td>POLYGON ((-90.07373 28.80445, -89.57473 28.814...</td>\n",
              "    </tr>\n",
              "    <tr>\n",
              "      <th>1</th>\n",
              "      <td>HLS.L30.T15RYN.2023124T163132.v2.0</td>\n",
              "      <td>2023-05-04 16:31:32.101000+00:00</td>\n",
              "      <td>[&lt;File-like object HTTPFileSystem, https://dat...</td>\n",
              "      <td>POLYGON ((-89.82661 28.80214, -89.79584 29.791...</td>\n",
              "    </tr>\n",
              "    <tr>\n",
              "      <th>2</th>\n",
              "      <td>HLS.L30.T15RYP.2023124T163132.v2.0</td>\n",
              "      <td>2023-05-04 16:31:32.101000+00:00</td>\n",
              "      <td>[&lt;File-like object HTTPFileSystem, https://dat...</td>\n",
              "      <td>POLYGON ((-89.79864 29.70348, -89.76644 30.692...</td>\n",
              "    </tr>\n",
              "    <tr>\n",
              "      <th>3</th>\n",
              "      <td>HLS.L30.T16RBU.2023124T163132.v2.0</td>\n",
              "      <td>2023-05-04 16:31:32.101000+00:00</td>\n",
              "      <td>[&lt;File-like object HTTPFileSystem, https://dat...</td>\n",
              "      <td>POLYGON ((-90.10082 29.70587, -89.33187 29.721...</td>\n",
              "    </tr>\n",
              "    <tr>\n",
              "      <th>4</th>\n",
              "      <td>HLS.L30.T16RBT.2023132T163144.v2.0</td>\n",
              "      <td>2023-05-12 16:31:44.329000+00:00</td>\n",
              "      <td>[&lt;File-like object HTTPFileSystem, https://dat...</td>\n",
              "      <td>POLYGON ((-90.07373 28.80445, -89.56183 28.815...</td>\n",
              "    </tr>\n",
              "    <tr>\n",
              "      <th>...</th>\n",
              "      <td>...</td>\n",
              "      <td>...</td>\n",
              "      <td>...</td>\n",
              "      <td>...</td>\n",
              "    </tr>\n",
              "    <tr>\n",
              "      <th>83</th>\n",
              "      <td>HLS.L30.T16RBU.2023292T163221.v2.0</td>\n",
              "      <td>2023-10-19 16:32:21.176000+00:00</td>\n",
              "      <td>[&lt;File-like object HTTPFileSystem, https://dat...</td>\n",
              "      <td>POLYGON ((-90.10082 29.70587, -89.31483 29.722...</td>\n",
              "    </tr>\n",
              "    <tr>\n",
              "      <th>84</th>\n",
              "      <td>HLS.L30.T16RBU.2023300T163218.v2.0</td>\n",
              "      <td>2023-10-27 16:32:18.830000+00:00</td>\n",
              "      <td>[&lt;File-like object HTTPFileSystem, https://dat...</td>\n",
              "      <td>POLYGON ((-90.10082 29.70587, -89.30583 29.722...</td>\n",
              "    </tr>\n",
              "    <tr>\n",
              "      <th>85</th>\n",
              "      <td>HLS.L30.T15RYN.2023300T163218.v2.0</td>\n",
              "      <td>2023-10-27 16:32:18.830000+00:00</td>\n",
              "      <td>[&lt;File-like object HTTPFileSystem, https://dat...</td>\n",
              "      <td>POLYGON ((-89.82661 28.80214, -89.79584 29.791...</td>\n",
              "    </tr>\n",
              "    <tr>\n",
              "      <th>86</th>\n",
              "      <td>HLS.L30.T16RBT.2023300T163218.v2.0</td>\n",
              "      <td>2023-10-27 16:32:18.830000+00:00</td>\n",
              "      <td>[&lt;File-like object HTTPFileSystem, https://dat...</td>\n",
              "      <td>POLYGON ((-90.07373 28.80445, -89.54924 28.815...</td>\n",
              "    </tr>\n",
              "    <tr>\n",
              "      <th>87</th>\n",
              "      <td>HLS.L30.T15RYP.2023300T163218.v2.0</td>\n",
              "      <td>2023-10-27 16:32:18.830000+00:00</td>\n",
              "      <td>[&lt;File-like object HTTPFileSystem, https://dat...</td>\n",
              "      <td>POLYGON ((-89.79864 29.70348, -89.76644 30.692...</td>\n",
              "    </tr>\n",
              "  </tbody>\n",
              "</table>\n",
              "<p>88 rows × 4 columns</p>\n",
              "</div>"
            ],
            "text/plain": [
              "                           granule_ids                granule_datetimes  \\\n",
              "0   HLS.L30.T16RBT.2023124T163132.v2.0 2023-05-04 16:31:32.101000+00:00   \n",
              "1   HLS.L30.T15RYN.2023124T163132.v2.0 2023-05-04 16:31:32.101000+00:00   \n",
              "2   HLS.L30.T15RYP.2023124T163132.v2.0 2023-05-04 16:31:32.101000+00:00   \n",
              "3   HLS.L30.T16RBU.2023124T163132.v2.0 2023-05-04 16:31:32.101000+00:00   \n",
              "4   HLS.L30.T16RBT.2023132T163144.v2.0 2023-05-12 16:31:44.329000+00:00   \n",
              "..                                 ...                              ...   \n",
              "83  HLS.L30.T16RBU.2023292T163221.v2.0 2023-10-19 16:32:21.176000+00:00   \n",
              "84  HLS.L30.T16RBU.2023300T163218.v2.0 2023-10-27 16:32:18.830000+00:00   \n",
              "85  HLS.L30.T15RYN.2023300T163218.v2.0 2023-10-27 16:32:18.830000+00:00   \n",
              "86  HLS.L30.T16RBT.2023300T163218.v2.0 2023-10-27 16:32:18.830000+00:00   \n",
              "87  HLS.L30.T15RYP.2023300T163218.v2.0 2023-10-27 16:32:18.830000+00:00   \n",
              "\n",
              "                                                files  \\\n",
              "0   [<File-like object HTTPFileSystem, https://dat...   \n",
              "1   [<File-like object HTTPFileSystem, https://dat...   \n",
              "2   [<File-like object HTTPFileSystem, https://dat...   \n",
              "3   [<File-like object HTTPFileSystem, https://dat...   \n",
              "4   [<File-like object HTTPFileSystem, https://dat...   \n",
              "..                                                ...   \n",
              "83  [<File-like object HTTPFileSystem, https://dat...   \n",
              "84  [<File-like object HTTPFileSystem, https://dat...   \n",
              "85  [<File-like object HTTPFileSystem, https://dat...   \n",
              "86  [<File-like object HTTPFileSystem, https://dat...   \n",
              "87  [<File-like object HTTPFileSystem, https://dat...   \n",
              "\n",
              "                                             geometry  \n",
              "0   POLYGON ((-90.07373 28.80445, -89.57473 28.814...  \n",
              "1   POLYGON ((-89.82661 28.80214, -89.79584 29.791...  \n",
              "2   POLYGON ((-89.79864 29.70348, -89.76644 30.692...  \n",
              "3   POLYGON ((-90.10082 29.70587, -89.33187 29.721...  \n",
              "4   POLYGON ((-90.07373 28.80445, -89.56183 28.815...  \n",
              "..                                                ...  \n",
              "83  POLYGON ((-90.10082 29.70587, -89.31483 29.722...  \n",
              "84  POLYGON ((-90.10082 29.70587, -89.30583 29.722...  \n",
              "85  POLYGON ((-89.82661 28.80214, -89.79584 29.791...  \n",
              "86  POLYGON ((-90.07373 28.80445, -89.54924 28.815...  \n",
              "87  POLYGON ((-89.79864 29.70348, -89.76644 30.692...  \n",
              "\n",
              "[88 rows x 4 columns]"
            ]
          },
          "execution_count": 41,
          "metadata": {},
          "output_type": "execute_result"
        }
      ],
      "source": [
        "# Create dictionary to hold metadata lists\n",
        "metadata_dict = ({'granule_ids' : granule_ids,\n",
        "                  'granule_datetimes' : granule_datetimes,\n",
        "                  'files' : files,\n",
        "                  #'files_metadata' : files_metadata,\n",
        "                  'geometry' : granule_geometries})\n",
        "\n",
        "# Create GeoDataFrame out of metadata_dict\n",
        "granule_gdf = gpd.GeoDataFrame(metadata_dict, crs=\"EPSG:4326\")\n",
        "granule_gdf"
      ]
    },
    {
      "cell_type": "markdown",
      "id": "c2e7859c-156a-4357-a1cd-b38192090811",
      "metadata": {},
      "source": [
        "### Compile information about each granule\n",
        "\n",
        "I recommend building a GeoDataFrame, as this will allow you to plot the\n",
        "granules you are downloading and make sure they line up with your\n",
        "shapefile. You could also use a DataFrame, dictionary, or a custom\n",
        "object to store this information.\n",
        "\n",
        "<link rel=\"stylesheet\" type=\"text/css\" href=\"./assets/styles.css\"><div class=\"callout callout-style-default callout-titled callout-task\"><div class=\"callout-header\"><div class=\"callout-icon-container\"><i class=\"callout-icon\"></i></div><div class=\"callout-title-container flex-fill\">Try It</div></div><div class=\"callout-body-container callout-body\"><ol type=\"1\">\n",
        "<li>For each search result:\n",
        "<ol type=\"1\">\n",
        "<li>Get the following information (HINT: look at the [‘umm’] values for\n",
        "each search result):\n",
        "<ul>\n",
        "<li>granule id (UR)</li>\n",
        "<li>datetime</li>\n",
        "<li>geometry (HINT: check out the shapely.geometry.Polygon class to\n",
        "convert points to a Polygon)</li>\n",
        "</ul></li>\n",
        "<li>Open the granule files. I recomment opening one granule at a time,\n",
        "e.g. with (<code>earthaccess.open([result]</code>).</li>\n",
        "<li>For each file (band), get the following information:\n",
        "<ul>\n",
        "<li>file handler returned from <code>earthaccess.open()</code></li>\n",
        "<li>tile id</li>\n",
        "<li>band number</li>\n",
        "</ul></li>\n",
        "</ol></li>\n",
        "<li>Compile all the information you collected into a GeoDataFrame</li>\n",
        "</ol></div></div>"
      ]
    },
    {
      "cell_type": "code",
      "execution_count": 7,
      "id": "82469397",
      "metadata": {
        "highlight": true
      },
      "outputs": [],
      "source": [
        "# Loop through each granule\n",
        "\n",
        "    # Get granule information\n",
        "\n",
        "    # Get URL\n",
        "\n",
        "    # Build metadata DataFrame rows\n",
        "\n",
        "# Concatenate metadata DataFrame"
      ]
    },
    {
      "cell_type": "markdown",
      "id": "394fc552-7fac-4228-a60b-beb4776718e8",
      "metadata": {},
      "source": [
        "### Open, crop, and mask data\n",
        "\n",
        "This will be the most resource-intensive step. I recommend caching your\n",
        "results using the `cached` decorator or by writing your own caching\n",
        "code. I also recommend testing this step with one or two dates before\n",
        "running the full computation.\n",
        "\n",
        "This code should include at least one **function** including a\n",
        "numpy-style docstring. A good place to start would be a function for\n",
        "opening a single masked raster, applying the appropriate scale\n",
        "parameter, and cropping.\n",
        "\n",
        "<link rel=\"stylesheet\" type=\"text/css\" href=\"./assets/styles.css\"><div class=\"callout callout-style-default callout-titled callout-task\"><div class=\"callout-header\"><div class=\"callout-icon-container\"><i class=\"callout-icon\"></i></div><div class=\"callout-title-container flex-fill\">Try It</div></div><div class=\"callout-body-container callout-body\"><ol type=\"1\">\n",
        "<li>For each granule:\n",
        "<ol type=\"1\">\n",
        "<li><p>Open the Fmask band, crop, and compute a quality mask for the\n",
        "granule. You can use the following code as a starting point, making sure\n",
        "that <code>mask_bits</code> contains the quality bits you want to\n",
        "consider: ```python # Expand into a new dimension of binary bits bits =\n",
        "( np.unpackbits(da.astype(np.uint8), bitorder=‘little’)\n",
        ".reshape(da.shape + (-1,)) )</p>\n",
        "<p># Select the required bits and check if any are flagged mask =\n",
        "np.prod(bits[…, mask_bits]==0, axis=-1) ```</p></li>\n",
        "<li><p>For each band that starts with ‘B’:</p>\n",
        "<ol type=\"1\">\n",
        "<li>Open the band, crop, and apply the scale factor</li>\n",
        "<li>Name the DataArray after the band using the <code>.name</code>\n",
        "attribute</li>\n",
        "<li>Apply the cloud mask using the <code>.where()</code> method</li>\n",
        "<li>Store the DataArray in your data structure (e.g. adding a\n",
        "GeoDataFrame column with the DataArray in it. Note that you will need to\n",
        "remove the rows for unused bands)</li>\n",
        "</ol></li>\n",
        "</ol></li>\n",
        "</ol></div></div>"
      ]
    },
    {
      "cell_type": "code",
      "execution_count": 9,
      "id": "68e1e0da",
      "metadata": {
        "highlight": true
      },
      "outputs": [],
      "source": [
        "# Loop through each image\n",
        "\n",
        "    # Open granule cloud cover\n",
        "\n",
        "    # Compute cloud mask\n",
        "\n",
        "    # Loop through each spectral band\n",
        "\n",
        "        # Open, crop, and mask the band\n",
        "\n",
        "        # Add the DataArray to the metadata DataFrame row\n",
        "\n",
        "    # Reassemble the metadata DataFrame"
      ]
    },
    {
      "cell_type": "markdown",
      "id": "b3f54939-7fcf-44a6-91af-57aa50b1895c",
      "metadata": {},
      "source": [
        "### Merge and Composite Data\n",
        "\n",
        "You will notice for this watershed that: 1. The raster data for each\n",
        "date are spread across 4 granules 2. Any given image is incomplete\n",
        "because of clouds\n",
        "\n",
        "<link rel=\"stylesheet\" type=\"text/css\" href=\"./assets/styles.css\"><div class=\"callout callout-style-default callout-titled callout-task\"><div class=\"callout-header\"><div class=\"callout-icon-container\"><i class=\"callout-icon\"></i></div><div class=\"callout-title-container flex-fill\">Try It</div></div><div class=\"callout-body-container callout-body\"><ol type=\"1\">\n",
        "<li><p>For each band:</p>\n",
        "<ol type=\"1\">\n",
        "<li><p>For each date:</p>\n",
        "<ol type=\"1\">\n",
        "<li>Merge all 4 granules</li>\n",
        "<li>Mask any negative values created by interpolating from the nodata\n",
        "value of -9999 (<code>rioxarray</code> should account for this, but\n",
        "doesn’t appear to when merging. If you leave these values in they will\n",
        "create problems down the line)</li>\n",
        "</ol></li>\n",
        "<li><p>Concatenate the merged DataArrays along a new date\n",
        "dimension</p></li>\n",
        "<li><p>Take the mean in the date dimension to create a composite image\n",
        "that fills cloud gaps</p></li>\n",
        "<li><p>Add the band as a dimension, and give the DataArray a\n",
        "name</p></li>\n",
        "</ol></li>\n",
        "<li><p>Concatenate along the band dimension</p></li>\n",
        "</ol></div></div>"
      ]
    },
    {
      "cell_type": "code",
      "execution_count": 11,
      "id": "6d6ef620",
      "metadata": {
        "highlight": true
      },
      "outputs": [],
      "source": [
        "# Merge and composite and image for each band\n",
        "\n",
        "        # Merge granules for each date\n",
        "\n",
        "        # Mask negative values\n",
        "\n",
        "    # Composite images across dates"
      ]
    },
    {
      "cell_type": "markdown",
      "id": "3d4088b9-6768-4742-90c6-f6d16254db94",
      "metadata": {},
      "source": [
        "## STEP 4: K-MEANS\n",
        "\n",
        "Cluster your data by spectral signature using the k-means algorithm.\n",
        "\n",
        "<link rel=\"stylesheet\" type=\"text/css\" href=\"./assets/styles.css\"><div class=\"callout callout-style-default callout-titled callout-task\"><div class=\"callout-header\"><div class=\"callout-icon-container\"><i class=\"callout-icon\"></i></div><div class=\"callout-title-container flex-fill\">Try It</div></div><div class=\"callout-body-container callout-body\"><ol type=\"1\">\n",
        "<li>Convert your DataArray into a <strong>tidy</strong> DataFrame of\n",
        "reflectance values (hint: check out the <code>.to_dataframe()</code> and\n",
        "<code>.unstack()</code> methods)</li>\n",
        "<li>Filter out all rows with no data (all 0s or any N/A values)</li>\n",
        "<li>Fit a k-means model. You can experiment with the number of groups to\n",
        "find what works best.</li>\n",
        "</ol></div></div>"
      ]
    },
    {
      "cell_type": "code",
      "execution_count": null,
      "id": "1380d9b6",
      "metadata": {
        "highlight": true
      },
      "outputs": [],
      "source": [
        "# Convert spectral DataArray to a tidy DataFrame\n",
        "# Create a column for each of the bands\n",
        "## model_df = reflectance_df.to_dataframe().reflectance.unstack('band)\n",
        "\n",
        "# drop bands 10 and 11 and any rows w/ NaN values\n",
        "## model_df = model_df.drop(columns = [10,11]).drop(na)\n",
        "\n",
        "# Check that the ranges make sense (should be from 0-1) by checking min and max values\n",
        "## min_values = model_df.min()\n",
        "## max_values = model_df.max()\n",
        "## print(min_values)\n",
        "## pring(max_values)\n",
        "\n",
        "# Initialize k means\n",
        "## k_means = KMeans(n_clusters = 5)\n",
        "\n",
        "# Fit model and predict\n",
        "## prediction = k_means.fit_predict(model_df.values)\n",
        "\n",
        "# Add cluster label to df\n",
        "## model_df['clusters'] = prediction\n",
        "\n",
        "# Running the fit and predict functions at the same time.\n",
        "# We can do this since we don't have target data.\n",
        "\n",
        "# Add the predicted values back to the model DataFrame"
      ]
    },
    {
      "cell_type": "markdown",
      "id": "6417c5c9-b68e-4a7c-824a-2d1bb1aaaae5",
      "metadata": {},
      "source": [
        "## STEP 5: PLOT\n",
        "\n",
        "<link rel=\"stylesheet\" type=\"text/css\" href=\"./assets/styles.css\"><div class=\"callout callout-style-default callout-titled callout-task\"><div class=\"callout-header\"><div class=\"callout-icon-container\"><i class=\"callout-icon\"></i></div><div class=\"callout-title-container flex-fill\">Try It</div></div><div class=\"callout-body-container callout-body\"><p>Create a plot that shows the k-means clusters next to an RGB image of\n",
        "the area. You may need to brighten your RGB image by multiplying it by\n",
        "10. The code for reshaping and plotting the clusters is provided for you\n",
        "below, but you will have to create the RGB plot yourself!</p>\n",
        "<p>So, what is <code>.sortby(['x', 'y'])</code> doing for us? Try the\n",
        "code without it and find out.</p></div></div>"
      ]
    },
    {
      "cell_type": "code",
      "execution_count": null,
      "id": "9f85cffa",
      "metadata": {},
      "outputs": [],
      "source": [
        "# make dataarray w/ bands to use for rgb\n",
        "## rgb = reflectance_da.sel(band=[4, 3, 2])\n",
        "\n",
        "# hvplot has a rgb plot method. this will not give us a helpful plot b/c the values arent what the rgb plot expects\n",
        "# (\n",
        "#     rgb.hvplot.rgb(y = 'y',\n",
        "#                x = 'x',\n",
        "#                bands = 'band',\n",
        "#                data_aspect = 1,\n",
        "#                xaxis = None, yaxis = None)\n",
        "#                )\n",
        "\n",
        "# Want image pixel values to range from 0-255\n",
        "# Then convert to unsigned 8-bit integers (data type for images)\n",
        "# don't include nan values in calculation\n",
        "# This still yields a very dark plot\n",
        "## rgb_uint8 = (rgb * 255).astype(np.uint8.where(rgb!=np.nan))\n",
        "\n",
        "# We can increase the brightness of the image\n",
        "# After plotting this we may get an error that the data values are too high.\n",
        "## rgb_uint8_bright = (rgb_uint8 * 10)\n",
        "\n",
        "# To fix the error, cap all pixel values at 255\n",
        "# If value is 155, keep that value. if value is greater than 255, replace w/ 255\n",
        "## rgb_sat = rgb_uint8_bright.where(rgb_uint8_bright < 255, 255)"
      ]
    },
    {
      "cell_type": "code",
      "execution_count": 15,
      "id": "b9e7ac5f",
      "metadata": {
        "highlight": true
      },
      "outputs": [],
      "source": [
        "# Plot the k-means clusters\n",
        "(\n",
        "    rgb_plot\n",
        "    + \n",
        "    model_df.clusters.to_xarray().sortby(['x', 'y']).hvplot(\n",
        "        cmap=\"Colorblind\", aspect='equal') \n",
        ")"
      ]
    },
    {
      "cell_type": "markdown",
      "id": "1f764ccf-d111-4f47-bcea-8c10a7cac441",
      "metadata": {},
      "source": [
        "<link rel=\"stylesheet\" type=\"text/css\" href=\"./assets/styles.css\"><div class=\"callout callout-style-default callout-titled callout-respond\"><div class=\"callout-header\"><div class=\"callout-icon-container\"><i class=\"callout-icon\"></i></div><div class=\"callout-title-container flex-fill\">Reflect and Respond</div></div><div class=\"callout-body-container callout-body\"><p>Don’t forget to interpret your plot!</p></div></div>"
      ]
    },
    {
      "cell_type": "markdown",
      "id": "4efe872d-a8ab-46bd-816f-fc5194b777a5",
      "metadata": {},
      "source": [
        "**YOUR PLOT HEADLINE AND DESCRIPTION HERE**"
      ]
    }
  ],
  "metadata": {
    "kernelspec": {
      "display_name": "earth-analytics-python",
      "language": "python",
      "name": "python3"
    },
    "language_info": {
      "codemirror_mode": {
        "name": "ipython",
        "version": 3
      },
      "file_extension": ".py",
      "mimetype": "text/x-python",
      "name": "python",
      "nbconvert_exporter": "python",
      "pygments_lexer": "ipython3",
      "version": "3.11.10"
    }
  },
  "nbformat": 4,
  "nbformat_minor": 5
}
