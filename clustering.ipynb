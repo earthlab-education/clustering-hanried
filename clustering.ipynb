{
  "cells": [
    {
      "cell_type": "markdown",
      "id": "8aede979-068f-489d-a683-139e58cb6013",
      "metadata": {},
      "source": [
        "# Land cover classification at the Mississppi Delta\n",
        "\n",
        "In this notebook, you will use a k-means **unsupervised** clustering\n",
        "algorithm to group pixels by similar spectral signatures. **k-means** is\n",
        "an **exploratory** method for finding patterns in data. Because it is\n",
        "unsupervised, you don’t need any training data for the model. You also\n",
        "can’t measure how well it “performs” because the clusters will not\n",
        "correspond to any particular land cover class. However, we expect at\n",
        "least some of the clusters to be identifiable as different types of land\n",
        "cover.\n",
        "\n",
        "You will use the [harmonized Sentinal/Landsat multispectral\n",
        "dataset](https://lpdaac.usgs.gov/documents/1698/HLS_User_Guide_V2.pdf).\n",
        "You can access the data with an [Earthdata\n",
        "account](https://www.earthdata.nasa.gov/learn/get-started) and the\n",
        "[`earthaccess` library from\n",
        "NSIDC](https://github.com/nsidc/earthaccess):\n",
        "\n",
        "## STEP 1: SET UP\n",
        "\n",
        "<link rel=\"stylesheet\" type=\"text/css\" href=\"./assets/styles.css\"><div class=\"callout callout-style-default callout-titled callout-task\"><div class=\"callout-header\"><div class=\"callout-icon-container\"><i class=\"callout-icon\"></i></div><div class=\"callout-title-container flex-fill\">Try It</div></div><div class=\"callout-body-container callout-body\"><ol type=\"1\">\n",
        "<li>Import all libraries you will need for this analysis</li>\n",
        "<li>Configure GDAL parameters to help avoid connection errors:\n",
        "<code>python      os.environ[\"GDAL_HTTP_MAX_RETRY\"] = \"5\"      os.environ[\"GDAL_HTTP_RETRY_DELAY\"] = \"1\"</code></li>\n",
        "</ol></div></div>"
      ]
    },
    {
      "cell_type": "code",
      "execution_count": 1,
      "id": "e3f0f55c",
      "metadata": {
        "highlight": true
      },
      "outputs": [
        {
          "name": "stderr",
          "output_type": "stream",
          "text": [
            "c:\\Users\\riede\\miniconda3\\envs\\earth-analytics-python\\Lib\\site-packages\\dask\\dataframe\\__init__.py:42: FutureWarning: \n",
            "Dask dataframe query planning is disabled because dask-expr is not installed.\n",
            "\n",
            "You can install it with `pip install dask[dataframe]` or `conda install dask`.\n",
            "This will raise in a future version.\n",
            "\n",
            "  warnings.warn(msg, FutureWarning)\n"
          ]
        },
        {
          "data": {
            "text/html": [
              "<script type=\"esms-options\">{\"shimMode\": true}</script><style>*[data-root-id],\n",
              "*[data-root-id] > * {\n",
              "  box-sizing: border-box;\n",
              "  font-family: var(--jp-ui-font-family);\n",
              "  font-size: var(--jp-ui-font-size1);\n",
              "  color: var(--vscode-editor-foreground, var(--jp-ui-font-color1));\n",
              "}\n",
              "\n",
              "/* Override VSCode background color */\n",
              ".cell-output-ipywidget-background:has(\n",
              "    > .cell-output-ipywidget-background > .lm-Widget > *[data-root-id]\n",
              "  ),\n",
              ".cell-output-ipywidget-background:has(> .lm-Widget > *[data-root-id]) {\n",
              "  background-color: transparent !important;\n",
              "}\n",
              "</style>"
            ]
          },
          "metadata": {},
          "output_type": "display_data"
        },
        {
          "data": {
            "application/javascript": "(function(root) {\n  function now() {\n    return new Date();\n  }\n\n  const force = true;\n  const py_version = '3.5.2'.replace('rc', '-rc.').replace('.dev', '-dev.');\n  const reloading = false;\n  const Bokeh = root.Bokeh;\n\n  // Set a timeout for this load but only if we are not already initializing\n  if (typeof (root._bokeh_timeout) === \"undefined\" || (force || !root._bokeh_is_initializing)) {\n    root._bokeh_timeout = Date.now() + 5000;\n    root._bokeh_failed_load = false;\n  }\n\n  function run_callbacks() {\n    try {\n      root._bokeh_onload_callbacks.forEach(function(callback) {\n        if (callback != null)\n          callback();\n      });\n    } finally {\n      delete root._bokeh_onload_callbacks;\n    }\n    console.debug(\"Bokeh: all callbacks have finished\");\n  }\n\n  function load_libs(css_urls, js_urls, js_modules, js_exports, callback) {\n    if (css_urls == null) css_urls = [];\n    if (js_urls == null) js_urls = [];\n    if (js_modules == null) js_modules = [];\n    if (js_exports == null) js_exports = {};\n\n    root._bokeh_onload_callbacks.push(callback);\n\n    if (root._bokeh_is_loading > 0) {\n      // Don't load bokeh if it is still initializing\n      console.debug(\"Bokeh: BokehJS is being loaded, scheduling callback at\", now());\n      return null;\n    } else if (js_urls.length === 0 && js_modules.length === 0 && Object.keys(js_exports).length === 0) {\n      // There is nothing to load\n      run_callbacks();\n      return null;\n    }\n\n    function on_load() {\n      root._bokeh_is_loading--;\n      if (root._bokeh_is_loading === 0) {\n        console.debug(\"Bokeh: all BokehJS libraries/stylesheets loaded\");\n        run_callbacks()\n      }\n    }\n    window._bokeh_on_load = on_load\n\n    function on_error(e) {\n      const src_el = e.srcElement\n      console.error(\"failed to load \" + (src_el.href || src_el.src));\n    }\n\n    const skip = [];\n    if (window.requirejs) {\n      window.requirejs.config({'packages': {}, 'paths': {}, 'shim': {}});\n      root._bokeh_is_loading = css_urls.length + 0;\n    } else {\n      root._bokeh_is_loading = css_urls.length + js_urls.length + js_modules.length + Object.keys(js_exports).length;\n    }\n\n    const existing_stylesheets = []\n    const links = document.getElementsByTagName('link')\n    for (let i = 0; i < links.length; i++) {\n      const link = links[i]\n      if (link.href != null) {\n        existing_stylesheets.push(link.href)\n      }\n    }\n    for (let i = 0; i < css_urls.length; i++) {\n      const url = css_urls[i];\n      const escaped = encodeURI(url)\n      if (existing_stylesheets.indexOf(escaped) !== -1) {\n        on_load()\n        continue;\n      }\n      const element = document.createElement(\"link\");\n      element.onload = on_load;\n      element.onerror = on_error;\n      element.rel = \"stylesheet\";\n      element.type = \"text/css\";\n      element.href = url;\n      console.debug(\"Bokeh: injecting link tag for BokehJS stylesheet: \", url);\n      document.body.appendChild(element);\n    }    var existing_scripts = []\n    const scripts = document.getElementsByTagName('script')\n    for (let i = 0; i < scripts.length; i++) {\n      var script = scripts[i]\n      if (script.src != null) {\n        existing_scripts.push(script.src)\n      }\n    }\n    for (let i = 0; i < js_urls.length; i++) {\n      const url = js_urls[i];\n      const escaped = encodeURI(url)\n      if (skip.indexOf(escaped) !== -1 || existing_scripts.indexOf(escaped) !== -1) {\n        if (!window.requirejs) {\n          on_load();\n        }\n        continue;\n      }\n      const element = document.createElement('script');\n      element.onload = on_load;\n      element.onerror = on_error;\n      element.async = false;\n      element.src = url;\n      console.debug(\"Bokeh: injecting script tag for BokehJS library: \", url);\n      document.head.appendChild(element);\n    }\n    for (let i = 0; i < js_modules.length; i++) {\n      const url = js_modules[i];\n      const escaped = encodeURI(url)\n      if (skip.indexOf(escaped) !== -1 || existing_scripts.indexOf(escaped) !== -1) {\n        if (!window.requirejs) {\n          on_load();\n        }\n        continue;\n      }\n      var element = document.createElement('script');\n      element.onload = on_load;\n      element.onerror = on_error;\n      element.async = false;\n      element.src = url;\n      element.type = \"module\";\n      console.debug(\"Bokeh: injecting script tag for BokehJS library: \", url);\n      document.head.appendChild(element);\n    }\n    for (const name in js_exports) {\n      const url = js_exports[name];\n      const escaped = encodeURI(url)\n      if (skip.indexOf(escaped) >= 0 || root[name] != null) {\n        if (!window.requirejs) {\n          on_load();\n        }\n        continue;\n      }\n      var element = document.createElement('script');\n      element.onerror = on_error;\n      element.async = false;\n      element.type = \"module\";\n      console.debug(\"Bokeh: injecting script tag for BokehJS library: \", url);\n      element.textContent = `\n      import ${name} from \"${url}\"\n      window.${name} = ${name}\n      window._bokeh_on_load()\n      `\n      document.head.appendChild(element);\n    }\n    if (!js_urls.length && !js_modules.length) {\n      on_load()\n    }\n  };\n\n  function inject_raw_css(css) {\n    const element = document.createElement(\"style\");\n    element.appendChild(document.createTextNode(css));\n    document.body.appendChild(element);\n  }\n\n  const js_urls = [\"https://cdn.holoviz.org/panel/1.5.2/dist/bundled/reactiveesm/es-module-shims@^1.10.0/dist/es-module-shims.min.js\", \"https://cdn.bokeh.org/bokeh/release/bokeh-3.5.2.min.js\", \"https://cdn.bokeh.org/bokeh/release/bokeh-gl-3.5.2.min.js\", \"https://cdn.bokeh.org/bokeh/release/bokeh-widgets-3.5.2.min.js\", \"https://cdn.bokeh.org/bokeh/release/bokeh-tables-3.5.2.min.js\", \"https://cdn.holoviz.org/panel/1.5.2/dist/panel.min.js\", \"https://cdn.jsdelivr.net/npm/@holoviz/geoviews@1.13.0/dist/geoviews.min.js\"];\n  const js_modules = [];\n  const js_exports = {};\n  const css_urls = [];\n  const inline_js = [    function(Bokeh) {\n      Bokeh.set_log_level(\"info\");\n    },\nfunction(Bokeh) {} // ensure no trailing comma for IE\n  ];\n\n  function run_inline_js() {\n    if ((root.Bokeh !== undefined) || (force === true)) {\n      for (let i = 0; i < inline_js.length; i++) {\n        try {\n          inline_js[i].call(root, root.Bokeh);\n        } catch(e) {\n          if (!reloading) {\n            throw e;\n          }\n        }\n      }\n      // Cache old bokeh versions\n      if (Bokeh != undefined && !reloading) {\n        var NewBokeh = root.Bokeh;\n        if (Bokeh.versions === undefined) {\n          Bokeh.versions = new Map();\n        }\n        if (NewBokeh.version !== Bokeh.version) {\n          Bokeh.versions.set(NewBokeh.version, NewBokeh)\n        }\n        root.Bokeh = Bokeh;\n      }\n    } else if (Date.now() < root._bokeh_timeout) {\n      setTimeout(run_inline_js, 100);\n    } else if (!root._bokeh_failed_load) {\n      console.log(\"Bokeh: BokehJS failed to load within specified timeout.\");\n      root._bokeh_failed_load = true;\n    }\n    root._bokeh_is_initializing = false\n  }\n\n  function load_or_wait() {\n    // Implement a backoff loop that tries to ensure we do not load multiple\n    // versions of Bokeh and its dependencies at the same time.\n    // In recent versions we use the root._bokeh_is_initializing flag\n    // to determine whether there is an ongoing attempt to initialize\n    // bokeh, however for backward compatibility we also try to ensure\n    // that we do not start loading a newer (Panel>=1.0 and Bokeh>3) version\n    // before older versions are fully initialized.\n    if (root._bokeh_is_initializing && Date.now() > root._bokeh_timeout) {\n      // If the timeout and bokeh was not successfully loaded we reset\n      // everything and try loading again\n      root._bokeh_timeout = Date.now() + 5000;\n      root._bokeh_is_initializing = false;\n      root._bokeh_onload_callbacks = undefined;\n      root._bokeh_is_loading = 0\n      console.log(\"Bokeh: BokehJS was loaded multiple times but one version failed to initialize.\");\n      load_or_wait();\n    } else if (root._bokeh_is_initializing || (typeof root._bokeh_is_initializing === \"undefined\" && root._bokeh_onload_callbacks !== undefined)) {\n      setTimeout(load_or_wait, 100);\n    } else {\n      root._bokeh_is_initializing = true\n      root._bokeh_onload_callbacks = []\n      const bokeh_loaded = root.Bokeh != null && (root.Bokeh.version === py_version || (root.Bokeh.versions !== undefined && root.Bokeh.versions.has(py_version)));\n      if (!reloading && !bokeh_loaded) {\n        if (root.Bokeh) {\n          root.Bokeh = undefined;\n        }\n        console.debug(\"Bokeh: BokehJS not loaded, scheduling load and callback at\", now());\n      }\n      load_libs(css_urls, js_urls, js_modules, js_exports, function() {\n        console.debug(\"Bokeh: BokehJS plotting callback run at\", now());\n        run_inline_js();\n      });\n    }\n  }\n  // Give older versions of the autoload script a head-start to ensure\n  // they initialize before we start loading newer version.\n  setTimeout(load_or_wait, 100)\n}(window));",
            "application/vnd.holoviews_load.v0+json": ""
          },
          "metadata": {},
          "output_type": "display_data"
        },
        {
          "data": {
            "application/javascript": "\nif ((window.PyViz === undefined) || (window.PyViz instanceof HTMLElement)) {\n  window.PyViz = {comms: {}, comm_status:{}, kernels:{}, receivers: {}, plot_index: []}\n}\n\n\n    function JupyterCommManager() {\n    }\n\n    JupyterCommManager.prototype.register_target = function(plot_id, comm_id, msg_handler) {\n      if (window.comm_manager || ((window.Jupyter !== undefined) && (Jupyter.notebook.kernel != null))) {\n        var comm_manager = window.comm_manager || Jupyter.notebook.kernel.comm_manager;\n        comm_manager.register_target(comm_id, function(comm) {\n          comm.on_msg(msg_handler);\n        });\n      } else if ((plot_id in window.PyViz.kernels) && (window.PyViz.kernels[plot_id])) {\n        window.PyViz.kernels[plot_id].registerCommTarget(comm_id, function(comm) {\n          comm.onMsg = msg_handler;\n        });\n      } else if (typeof google != 'undefined' && google.colab.kernel != null) {\n        google.colab.kernel.comms.registerTarget(comm_id, (comm) => {\n          var messages = comm.messages[Symbol.asyncIterator]();\n          function processIteratorResult(result) {\n            var message = result.value;\n            console.log(message)\n            var content = {data: message.data, comm_id};\n            var buffers = []\n            for (var buffer of message.buffers || []) {\n              buffers.push(new DataView(buffer))\n            }\n            var metadata = message.metadata || {};\n            var msg = {content, buffers, metadata}\n            msg_handler(msg);\n            return messages.next().then(processIteratorResult);\n          }\n          return messages.next().then(processIteratorResult);\n        })\n      }\n    }\n\n    JupyterCommManager.prototype.get_client_comm = function(plot_id, comm_id, msg_handler) {\n      if (comm_id in window.PyViz.comms) {\n        return window.PyViz.comms[comm_id];\n      } else if (window.comm_manager || ((window.Jupyter !== undefined) && (Jupyter.notebook.kernel != null))) {\n        var comm_manager = window.comm_manager || Jupyter.notebook.kernel.comm_manager;\n        var comm = comm_manager.new_comm(comm_id, {}, {}, {}, comm_id);\n        if (msg_handler) {\n          comm.on_msg(msg_handler);\n        }\n      } else if ((plot_id in window.PyViz.kernels) && (window.PyViz.kernels[plot_id])) {\n        var comm = window.PyViz.kernels[plot_id].connectToComm(comm_id);\n        comm.open();\n        if (msg_handler) {\n          comm.onMsg = msg_handler;\n        }\n      } else if (typeof google != 'undefined' && google.colab.kernel != null) {\n        var comm_promise = google.colab.kernel.comms.open(comm_id)\n        comm_promise.then((comm) => {\n          window.PyViz.comms[comm_id] = comm;\n          if (msg_handler) {\n            var messages = comm.messages[Symbol.asyncIterator]();\n            function processIteratorResult(result) {\n              var message = result.value;\n              var content = {data: message.data};\n              var metadata = message.metadata || {comm_id};\n              var msg = {content, metadata}\n              msg_handler(msg);\n              return messages.next().then(processIteratorResult);\n            }\n            return messages.next().then(processIteratorResult);\n          }\n        }) \n        var sendClosure = (data, metadata, buffers, disposeOnDone) => {\n          return comm_promise.then((comm) => {\n            comm.send(data, metadata, buffers, disposeOnDone);\n          });\n        };\n        var comm = {\n          send: sendClosure\n        };\n      }\n      window.PyViz.comms[comm_id] = comm;\n      return comm;\n    }\n    window.PyViz.comm_manager = new JupyterCommManager();\n    \n\n\nvar JS_MIME_TYPE = 'application/javascript';\nvar HTML_MIME_TYPE = 'text/html';\nvar EXEC_MIME_TYPE = 'application/vnd.holoviews_exec.v0+json';\nvar CLASS_NAME = 'output';\n\n/**\n * Render data to the DOM node\n */\nfunction render(props, node) {\n  var div = document.createElement(\"div\");\n  var script = document.createElement(\"script\");\n  node.appendChild(div);\n  node.appendChild(script);\n}\n\n/**\n * Handle when a new output is added\n */\nfunction handle_add_output(event, handle) {\n  var output_area = handle.output_area;\n  var output = handle.output;\n  if ((output.data == undefined) || (!output.data.hasOwnProperty(EXEC_MIME_TYPE))) {\n    return\n  }\n  var id = output.metadata[EXEC_MIME_TYPE][\"id\"];\n  var toinsert = output_area.element.find(\".\" + CLASS_NAME.split(' ')[0]);\n  if (id !== undefined) {\n    var nchildren = toinsert.length;\n    var html_node = toinsert[nchildren-1].children[0];\n    html_node.innerHTML = output.data[HTML_MIME_TYPE];\n    var scripts = [];\n    var nodelist = html_node.querySelectorAll(\"script\");\n    for (var i in nodelist) {\n      if (nodelist.hasOwnProperty(i)) {\n        scripts.push(nodelist[i])\n      }\n    }\n\n    scripts.forEach( function (oldScript) {\n      var newScript = document.createElement(\"script\");\n      var attrs = [];\n      var nodemap = oldScript.attributes;\n      for (var j in nodemap) {\n        if (nodemap.hasOwnProperty(j)) {\n          attrs.push(nodemap[j])\n        }\n      }\n      attrs.forEach(function(attr) { newScript.setAttribute(attr.name, attr.value) });\n      newScript.appendChild(document.createTextNode(oldScript.innerHTML));\n      oldScript.parentNode.replaceChild(newScript, oldScript);\n    });\n    if (JS_MIME_TYPE in output.data) {\n      toinsert[nchildren-1].children[1].textContent = output.data[JS_MIME_TYPE];\n    }\n    output_area._hv_plot_id = id;\n    if ((window.Bokeh !== undefined) && (id in Bokeh.index)) {\n      window.PyViz.plot_index[id] = Bokeh.index[id];\n    } else {\n      window.PyViz.plot_index[id] = null;\n    }\n  } else if (output.metadata[EXEC_MIME_TYPE][\"server_id\"] !== undefined) {\n    var bk_div = document.createElement(\"div\");\n    bk_div.innerHTML = output.data[HTML_MIME_TYPE];\n    var script_attrs = bk_div.children[0].attributes;\n    for (var i = 0; i < script_attrs.length; i++) {\n      toinsert[toinsert.length - 1].childNodes[1].setAttribute(script_attrs[i].name, script_attrs[i].value);\n    }\n    // store reference to server id on output_area\n    output_area._bokeh_server_id = output.metadata[EXEC_MIME_TYPE][\"server_id\"];\n  }\n}\n\n/**\n * Handle when an output is cleared or removed\n */\nfunction handle_clear_output(event, handle) {\n  var id = handle.cell.output_area._hv_plot_id;\n  var server_id = handle.cell.output_area._bokeh_server_id;\n  if (((id === undefined) || !(id in PyViz.plot_index)) && (server_id !== undefined)) { return; }\n  var comm = window.PyViz.comm_manager.get_client_comm(\"hv-extension-comm\", \"hv-extension-comm\", function () {});\n  if (server_id !== null) {\n    comm.send({event_type: 'server_delete', 'id': server_id});\n    return;\n  } else if (comm !== null) {\n    comm.send({event_type: 'delete', 'id': id});\n  }\n  delete PyViz.plot_index[id];\n  if ((window.Bokeh !== undefined) & (id in window.Bokeh.index)) {\n    var doc = window.Bokeh.index[id].model.document\n    doc.clear();\n    const i = window.Bokeh.documents.indexOf(doc);\n    if (i > -1) {\n      window.Bokeh.documents.splice(i, 1);\n    }\n  }\n}\n\n/**\n * Handle kernel restart event\n */\nfunction handle_kernel_cleanup(event, handle) {\n  delete PyViz.comms[\"hv-extension-comm\"];\n  window.PyViz.plot_index = {}\n}\n\n/**\n * Handle update_display_data messages\n */\nfunction handle_update_output(event, handle) {\n  handle_clear_output(event, {cell: {output_area: handle.output_area}})\n  handle_add_output(event, handle)\n}\n\nfunction register_renderer(events, OutputArea) {\n  function append_mime(data, metadata, element) {\n    // create a DOM node to render to\n    var toinsert = this.create_output_subarea(\n    metadata,\n    CLASS_NAME,\n    EXEC_MIME_TYPE\n    );\n    this.keyboard_manager.register_events(toinsert);\n    // Render to node\n    var props = {data: data, metadata: metadata[EXEC_MIME_TYPE]};\n    render(props, toinsert[0]);\n    element.append(toinsert);\n    return toinsert\n  }\n\n  events.on('output_added.OutputArea', handle_add_output);\n  events.on('output_updated.OutputArea', handle_update_output);\n  events.on('clear_output.CodeCell', handle_clear_output);\n  events.on('delete.Cell', handle_clear_output);\n  events.on('kernel_ready.Kernel', handle_kernel_cleanup);\n\n  OutputArea.prototype.register_mime_type(EXEC_MIME_TYPE, append_mime, {\n    safe: true,\n    index: 0\n  });\n}\n\nif (window.Jupyter !== undefined) {\n  try {\n    var events = require('base/js/events');\n    var OutputArea = require('notebook/js/outputarea').OutputArea;\n    if (OutputArea.prototype.mime_types().indexOf(EXEC_MIME_TYPE) == -1) {\n      register_renderer(events, OutputArea);\n    }\n  } catch(err) {\n  }\n}\n",
            "application/vnd.holoviews_load.v0+json": ""
          },
          "metadata": {},
          "output_type": "display_data"
        },
        {
          "data": {
            "application/vnd.holoviews_exec.v0+json": "",
            "text/html": [
              "<div id='p1011'>\n",
              "  <div id=\"b6505a02-b9ca-493d-bce6-4e35aea53f2f\" data-root-id=\"p1011\" style=\"display: contents;\"></div>\n",
              "</div>\n",
              "<script type=\"application/javascript\">(function(root) {\n",
              "  var docs_json = {\"39bfbf62-a587-4e0b-ac14-c7e7d0f92e65\":{\"version\":\"3.5.2\",\"title\":\"Bokeh Application\",\"roots\":[{\"type\":\"object\",\"name\":\"panel.models.browser.BrowserInfo\",\"id\":\"p1011\"},{\"type\":\"object\",\"name\":\"panel.models.comm_manager.CommManager\",\"id\":\"p1012\",\"attributes\":{\"plot_id\":\"p1011\",\"comm_id\":\"714e745d0fa249fcb51f13e526087e34\",\"client_comm_id\":\"004f557beaca49b09c347ed262b515c1\"}}],\"defs\":[{\"type\":\"model\",\"name\":\"ReactiveHTML1\"},{\"type\":\"model\",\"name\":\"FlexBox1\",\"properties\":[{\"name\":\"align_content\",\"kind\":\"Any\",\"default\":\"flex-start\"},{\"name\":\"align_items\",\"kind\":\"Any\",\"default\":\"flex-start\"},{\"name\":\"flex_direction\",\"kind\":\"Any\",\"default\":\"row\"},{\"name\":\"flex_wrap\",\"kind\":\"Any\",\"default\":\"wrap\"},{\"name\":\"gap\",\"kind\":\"Any\",\"default\":\"\"},{\"name\":\"justify_content\",\"kind\":\"Any\",\"default\":\"flex-start\"}]},{\"type\":\"model\",\"name\":\"FloatPanel1\",\"properties\":[{\"name\":\"config\",\"kind\":\"Any\",\"default\":{\"type\":\"map\"}},{\"name\":\"contained\",\"kind\":\"Any\",\"default\":true},{\"name\":\"position\",\"kind\":\"Any\",\"default\":\"right-top\"},{\"name\":\"offsetx\",\"kind\":\"Any\",\"default\":null},{\"name\":\"offsety\",\"kind\":\"Any\",\"default\":null},{\"name\":\"theme\",\"kind\":\"Any\",\"default\":\"primary\"},{\"name\":\"status\",\"kind\":\"Any\",\"default\":\"normalized\"}]},{\"type\":\"model\",\"name\":\"GridStack1\",\"properties\":[{\"name\":\"mode\",\"kind\":\"Any\",\"default\":\"warn\"},{\"name\":\"ncols\",\"kind\":\"Any\",\"default\":null},{\"name\":\"nrows\",\"kind\":\"Any\",\"default\":null},{\"name\":\"allow_resize\",\"kind\":\"Any\",\"default\":true},{\"name\":\"allow_drag\",\"kind\":\"Any\",\"default\":true},{\"name\":\"state\",\"kind\":\"Any\",\"default\":[]}]},{\"type\":\"model\",\"name\":\"drag1\",\"properties\":[{\"name\":\"slider_width\",\"kind\":\"Any\",\"default\":5},{\"name\":\"slider_color\",\"kind\":\"Any\",\"default\":\"black\"},{\"name\":\"value\",\"kind\":\"Any\",\"default\":50}]},{\"type\":\"model\",\"name\":\"click1\",\"properties\":[{\"name\":\"terminal_output\",\"kind\":\"Any\",\"default\":\"\"},{\"name\":\"debug_name\",\"kind\":\"Any\",\"default\":\"\"},{\"name\":\"clears\",\"kind\":\"Any\",\"default\":0}]},{\"type\":\"model\",\"name\":\"FastWrapper1\",\"properties\":[{\"name\":\"object\",\"kind\":\"Any\",\"default\":null},{\"name\":\"style\",\"kind\":\"Any\",\"default\":null}]},{\"type\":\"model\",\"name\":\"NotificationAreaBase1\",\"properties\":[{\"name\":\"js_events\",\"kind\":\"Any\",\"default\":{\"type\":\"map\"}},{\"name\":\"position\",\"kind\":\"Any\",\"default\":\"bottom-right\"},{\"name\":\"_clear\",\"kind\":\"Any\",\"default\":0}]},{\"type\":\"model\",\"name\":\"NotificationArea1\",\"properties\":[{\"name\":\"js_events\",\"kind\":\"Any\",\"default\":{\"type\":\"map\"}},{\"name\":\"notifications\",\"kind\":\"Any\",\"default\":[]},{\"name\":\"position\",\"kind\":\"Any\",\"default\":\"bottom-right\"},{\"name\":\"_clear\",\"kind\":\"Any\",\"default\":0},{\"name\":\"types\",\"kind\":\"Any\",\"default\":[{\"type\":\"map\",\"entries\":[[\"type\",\"warning\"],[\"background\",\"#ffc107\"],[\"icon\",{\"type\":\"map\",\"entries\":[[\"className\",\"fas fa-exclamation-triangle\"],[\"tagName\",\"i\"],[\"color\",\"white\"]]}]]},{\"type\":\"map\",\"entries\":[[\"type\",\"info\"],[\"background\",\"#007bff\"],[\"icon\",{\"type\":\"map\",\"entries\":[[\"className\",\"fas fa-info-circle\"],[\"tagName\",\"i\"],[\"color\",\"white\"]]}]]}]}]},{\"type\":\"model\",\"name\":\"Notification\",\"properties\":[{\"name\":\"background\",\"kind\":\"Any\",\"default\":null},{\"name\":\"duration\",\"kind\":\"Any\",\"default\":3000},{\"name\":\"icon\",\"kind\":\"Any\",\"default\":null},{\"name\":\"message\",\"kind\":\"Any\",\"default\":\"\"},{\"name\":\"notification_type\",\"kind\":\"Any\",\"default\":null},{\"name\":\"_destroyed\",\"kind\":\"Any\",\"default\":false}]},{\"type\":\"model\",\"name\":\"TemplateActions1\",\"properties\":[{\"name\":\"open_modal\",\"kind\":\"Any\",\"default\":0},{\"name\":\"close_modal\",\"kind\":\"Any\",\"default\":0}]},{\"type\":\"model\",\"name\":\"BootstrapTemplateActions1\",\"properties\":[{\"name\":\"open_modal\",\"kind\":\"Any\",\"default\":0},{\"name\":\"close_modal\",\"kind\":\"Any\",\"default\":0}]},{\"type\":\"model\",\"name\":\"TemplateEditor1\",\"properties\":[{\"name\":\"layout\",\"kind\":\"Any\",\"default\":[]}]},{\"type\":\"model\",\"name\":\"MaterialTemplateActions1\",\"properties\":[{\"name\":\"open_modal\",\"kind\":\"Any\",\"default\":0},{\"name\":\"close_modal\",\"kind\":\"Any\",\"default\":0}]},{\"type\":\"model\",\"name\":\"ReactiveESM1\"},{\"type\":\"model\",\"name\":\"JSComponent1\"},{\"type\":\"model\",\"name\":\"ReactComponent1\"},{\"type\":\"model\",\"name\":\"AnyWidgetComponent1\"},{\"type\":\"model\",\"name\":\"request_value1\",\"properties\":[{\"name\":\"fill\",\"kind\":\"Any\",\"default\":\"none\"},{\"name\":\"_synced\",\"kind\":\"Any\",\"default\":null},{\"name\":\"_request_sync\",\"kind\":\"Any\",\"default\":0}]}]}};\n",
              "  var render_items = [{\"docid\":\"39bfbf62-a587-4e0b-ac14-c7e7d0f92e65\",\"roots\":{\"p1011\":\"b6505a02-b9ca-493d-bce6-4e35aea53f2f\"},\"root_ids\":[\"p1011\"]}];\n",
              "  var docs = Object.values(docs_json)\n",
              "  if (!docs) {\n",
              "    return\n",
              "  }\n",
              "  const py_version = docs[0].version.replace('rc', '-rc.').replace('.dev', '-dev.')\n",
              "  async function embed_document(root) {\n",
              "    var Bokeh = get_bokeh(root)\n",
              "    await Bokeh.embed.embed_items_notebook(docs_json, render_items);\n",
              "    for (const render_item of render_items) {\n",
              "      for (const root_id of render_item.root_ids) {\n",
              "\tconst id_el = document.getElementById(root_id)\n",
              "\tif (id_el.children.length && id_el.children[0].hasAttribute('data-root-id')) {\n",
              "\t  const root_el = id_el.children[0]\n",
              "\t  root_el.id = root_el.id + '-rendered'\n",
              "\t  for (const child of root_el.children) {\n",
              "            // Ensure JupyterLab does not capture keyboard shortcuts\n",
              "            // see: https://jupyterlab.readthedocs.io/en/4.1.x/extension/notebook.html#keyboard-interaction-model\n",
              "\t    child.setAttribute('data-lm-suppress-shortcuts', 'true')\n",
              "\t  }\n",
              "\t}\n",
              "      }\n",
              "    }\n",
              "  }\n",
              "  function get_bokeh(root) {\n",
              "    if (root.Bokeh === undefined) {\n",
              "      return null\n",
              "    } else if (root.Bokeh.version !== py_version) {\n",
              "      if (root.Bokeh.versions === undefined || !root.Bokeh.versions.has(py_version)) {\n",
              "\treturn null\n",
              "      }\n",
              "      return root.Bokeh.versions.get(py_version);\n",
              "    } else if (root.Bokeh.version === py_version) {\n",
              "      return root.Bokeh\n",
              "    }\n",
              "    return null\n",
              "  }\n",
              "  function is_loaded(root) {\n",
              "    var Bokeh = get_bokeh(root)\n",
              "    return (Bokeh != null && Bokeh.Panel !== undefined)\n",
              "  }\n",
              "  if (is_loaded(root)) {\n",
              "    embed_document(root);\n",
              "  } else {\n",
              "    var attempts = 0;\n",
              "    var timer = setInterval(function(root) {\n",
              "      if (is_loaded(root)) {\n",
              "        clearInterval(timer);\n",
              "        embed_document(root);\n",
              "      } else if (document.readyState == \"complete\") {\n",
              "        attempts++;\n",
              "        if (attempts > 200) {\n",
              "          clearInterval(timer);\n",
              "\t  var Bokeh = get_bokeh(root)\n",
              "\t  if (Bokeh == null || Bokeh.Panel == null) {\n",
              "            console.warn(\"Panel: ERROR: Unable to run Panel code because Bokeh or Panel library is missing\");\n",
              "\t  } else {\n",
              "\t    console.warn(\"Panel: WARNING: Attempting to render but not all required libraries could be resolved.\")\n",
              "\t    embed_document(root)\n",
              "\t  }\n",
              "        }\n",
              "      }\n",
              "    }, 25, root)\n",
              "  }\n",
              "})(window);</script>"
            ]
          },
          "metadata": {
            "application/vnd.holoviews_exec.v0+json": {
              "id": "p1011"
            }
          },
          "output_type": "display_data"
        },
        {
          "data": {
            "text/html": [
              "<script type=\"esms-options\">{\"shimMode\": true}</script><style>*[data-root-id],\n",
              "*[data-root-id] > * {\n",
              "  box-sizing: border-box;\n",
              "  font-family: var(--jp-ui-font-family);\n",
              "  font-size: var(--jp-ui-font-size1);\n",
              "  color: var(--vscode-editor-foreground, var(--jp-ui-font-color1));\n",
              "}\n",
              "\n",
              "/* Override VSCode background color */\n",
              ".cell-output-ipywidget-background:has(\n",
              "    > .cell-output-ipywidget-background > .lm-Widget > *[data-root-id]\n",
              "  ),\n",
              ".cell-output-ipywidget-background:has(> .lm-Widget > *[data-root-id]) {\n",
              "  background-color: transparent !important;\n",
              "}\n",
              "</style>"
            ]
          },
          "metadata": {},
          "output_type": "display_data"
        },
        {
          "data": {
            "application/javascript": "(function(root) {\n  function now() {\n    return new Date();\n  }\n\n  const force = false;\n  const py_version = '3.5.2'.replace('rc', '-rc.').replace('.dev', '-dev.');\n  const reloading = true;\n  const Bokeh = root.Bokeh;\n\n  // Set a timeout for this load but only if we are not already initializing\n  if (typeof (root._bokeh_timeout) === \"undefined\" || (force || !root._bokeh_is_initializing)) {\n    root._bokeh_timeout = Date.now() + 5000;\n    root._bokeh_failed_load = false;\n  }\n\n  function run_callbacks() {\n    try {\n      root._bokeh_onload_callbacks.forEach(function(callback) {\n        if (callback != null)\n          callback();\n      });\n    } finally {\n      delete root._bokeh_onload_callbacks;\n    }\n    console.debug(\"Bokeh: all callbacks have finished\");\n  }\n\n  function load_libs(css_urls, js_urls, js_modules, js_exports, callback) {\n    if (css_urls == null) css_urls = [];\n    if (js_urls == null) js_urls = [];\n    if (js_modules == null) js_modules = [];\n    if (js_exports == null) js_exports = {};\n\n    root._bokeh_onload_callbacks.push(callback);\n\n    if (root._bokeh_is_loading > 0) {\n      // Don't load bokeh if it is still initializing\n      console.debug(\"Bokeh: BokehJS is being loaded, scheduling callback at\", now());\n      return null;\n    } else if (js_urls.length === 0 && js_modules.length === 0 && Object.keys(js_exports).length === 0) {\n      // There is nothing to load\n      run_callbacks();\n      return null;\n    }\n\n    function on_load() {\n      root._bokeh_is_loading--;\n      if (root._bokeh_is_loading === 0) {\n        console.debug(\"Bokeh: all BokehJS libraries/stylesheets loaded\");\n        run_callbacks()\n      }\n    }\n    window._bokeh_on_load = on_load\n\n    function on_error(e) {\n      const src_el = e.srcElement\n      console.error(\"failed to load \" + (src_el.href || src_el.src));\n    }\n\n    const skip = [];\n    if (window.requirejs) {\n      window.requirejs.config({'packages': {}, 'paths': {}, 'shim': {}});\n      root._bokeh_is_loading = css_urls.length + 0;\n    } else {\n      root._bokeh_is_loading = css_urls.length + js_urls.length + js_modules.length + Object.keys(js_exports).length;\n    }\n\n    const existing_stylesheets = []\n    const links = document.getElementsByTagName('link')\n    for (let i = 0; i < links.length; i++) {\n      const link = links[i]\n      if (link.href != null) {\n        existing_stylesheets.push(link.href)\n      }\n    }\n    for (let i = 0; i < css_urls.length; i++) {\n      const url = css_urls[i];\n      const escaped = encodeURI(url)\n      if (existing_stylesheets.indexOf(escaped) !== -1) {\n        on_load()\n        continue;\n      }\n      const element = document.createElement(\"link\");\n      element.onload = on_load;\n      element.onerror = on_error;\n      element.rel = \"stylesheet\";\n      element.type = \"text/css\";\n      element.href = url;\n      console.debug(\"Bokeh: injecting link tag for BokehJS stylesheet: \", url);\n      document.body.appendChild(element);\n    }    var existing_scripts = []\n    const scripts = document.getElementsByTagName('script')\n    for (let i = 0; i < scripts.length; i++) {\n      var script = scripts[i]\n      if (script.src != null) {\n        existing_scripts.push(script.src)\n      }\n    }\n    for (let i = 0; i < js_urls.length; i++) {\n      const url = js_urls[i];\n      const escaped = encodeURI(url)\n      if (skip.indexOf(escaped) !== -1 || existing_scripts.indexOf(escaped) !== -1) {\n        if (!window.requirejs) {\n          on_load();\n        }\n        continue;\n      }\n      const element = document.createElement('script');\n      element.onload = on_load;\n      element.onerror = on_error;\n      element.async = false;\n      element.src = url;\n      console.debug(\"Bokeh: injecting script tag for BokehJS library: \", url);\n      document.head.appendChild(element);\n    }\n    for (let i = 0; i < js_modules.length; i++) {\n      const url = js_modules[i];\n      const escaped = encodeURI(url)\n      if (skip.indexOf(escaped) !== -1 || existing_scripts.indexOf(escaped) !== -1) {\n        if (!window.requirejs) {\n          on_load();\n        }\n        continue;\n      }\n      var element = document.createElement('script');\n      element.onload = on_load;\n      element.onerror = on_error;\n      element.async = false;\n      element.src = url;\n      element.type = \"module\";\n      console.debug(\"Bokeh: injecting script tag for BokehJS library: \", url);\n      document.head.appendChild(element);\n    }\n    for (const name in js_exports) {\n      const url = js_exports[name];\n      const escaped = encodeURI(url)\n      if (skip.indexOf(escaped) >= 0 || root[name] != null) {\n        if (!window.requirejs) {\n          on_load();\n        }\n        continue;\n      }\n      var element = document.createElement('script');\n      element.onerror = on_error;\n      element.async = false;\n      element.type = \"module\";\n      console.debug(\"Bokeh: injecting script tag for BokehJS library: \", url);\n      element.textContent = `\n      import ${name} from \"${url}\"\n      window.${name} = ${name}\n      window._bokeh_on_load()\n      `\n      document.head.appendChild(element);\n    }\n    if (!js_urls.length && !js_modules.length) {\n      on_load()\n    }\n  };\n\n  function inject_raw_css(css) {\n    const element = document.createElement(\"style\");\n    element.appendChild(document.createTextNode(css));\n    document.body.appendChild(element);\n  }\n\n  const js_urls = [\"https://cdn.holoviz.org/panel/1.5.2/dist/bundled/reactiveesm/es-module-shims@^1.10.0/dist/es-module-shims.min.js\", \"https://cdn.jsdelivr.net/npm/@holoviz/geoviews@1.13.0/dist/geoviews.min.js\"];\n  const js_modules = [];\n  const js_exports = {};\n  const css_urls = [];\n  const inline_js = [    function(Bokeh) {\n      Bokeh.set_log_level(\"info\");\n    },\nfunction(Bokeh) {} // ensure no trailing comma for IE\n  ];\n\n  function run_inline_js() {\n    if ((root.Bokeh !== undefined) || (force === true)) {\n      for (let i = 0; i < inline_js.length; i++) {\n        try {\n          inline_js[i].call(root, root.Bokeh);\n        } catch(e) {\n          if (!reloading) {\n            throw e;\n          }\n        }\n      }\n      // Cache old bokeh versions\n      if (Bokeh != undefined && !reloading) {\n        var NewBokeh = root.Bokeh;\n        if (Bokeh.versions === undefined) {\n          Bokeh.versions = new Map();\n        }\n        if (NewBokeh.version !== Bokeh.version) {\n          Bokeh.versions.set(NewBokeh.version, NewBokeh)\n        }\n        root.Bokeh = Bokeh;\n      }\n    } else if (Date.now() < root._bokeh_timeout) {\n      setTimeout(run_inline_js, 100);\n    } else if (!root._bokeh_failed_load) {\n      console.log(\"Bokeh: BokehJS failed to load within specified timeout.\");\n      root._bokeh_failed_load = true;\n    }\n    root._bokeh_is_initializing = false\n  }\n\n  function load_or_wait() {\n    // Implement a backoff loop that tries to ensure we do not load multiple\n    // versions of Bokeh and its dependencies at the same time.\n    // In recent versions we use the root._bokeh_is_initializing flag\n    // to determine whether there is an ongoing attempt to initialize\n    // bokeh, however for backward compatibility we also try to ensure\n    // that we do not start loading a newer (Panel>=1.0 and Bokeh>3) version\n    // before older versions are fully initialized.\n    if (root._bokeh_is_initializing && Date.now() > root._bokeh_timeout) {\n      // If the timeout and bokeh was not successfully loaded we reset\n      // everything and try loading again\n      root._bokeh_timeout = Date.now() + 5000;\n      root._bokeh_is_initializing = false;\n      root._bokeh_onload_callbacks = undefined;\n      root._bokeh_is_loading = 0\n      console.log(\"Bokeh: BokehJS was loaded multiple times but one version failed to initialize.\");\n      load_or_wait();\n    } else if (root._bokeh_is_initializing || (typeof root._bokeh_is_initializing === \"undefined\" && root._bokeh_onload_callbacks !== undefined)) {\n      setTimeout(load_or_wait, 100);\n    } else {\n      root._bokeh_is_initializing = true\n      root._bokeh_onload_callbacks = []\n      const bokeh_loaded = root.Bokeh != null && (root.Bokeh.version === py_version || (root.Bokeh.versions !== undefined && root.Bokeh.versions.has(py_version)));\n      if (!reloading && !bokeh_loaded) {\n        if (root.Bokeh) {\n          root.Bokeh = undefined;\n        }\n        console.debug(\"Bokeh: BokehJS not loaded, scheduling load and callback at\", now());\n      }\n      load_libs(css_urls, js_urls, js_modules, js_exports, function() {\n        console.debug(\"Bokeh: BokehJS plotting callback run at\", now());\n        run_inline_js();\n      });\n    }\n  }\n  // Give older versions of the autoload script a head-start to ensure\n  // they initialize before we start loading newer version.\n  setTimeout(load_or_wait, 100)\n}(window));",
            "application/vnd.holoviews_load.v0+json": ""
          },
          "metadata": {},
          "output_type": "display_data"
        },
        {
          "data": {
            "application/javascript": "\nif ((window.PyViz === undefined) || (window.PyViz instanceof HTMLElement)) {\n  window.PyViz = {comms: {}, comm_status:{}, kernels:{}, receivers: {}, plot_index: []}\n}\n\n\n    function JupyterCommManager() {\n    }\n\n    JupyterCommManager.prototype.register_target = function(plot_id, comm_id, msg_handler) {\n      if (window.comm_manager || ((window.Jupyter !== undefined) && (Jupyter.notebook.kernel != null))) {\n        var comm_manager = window.comm_manager || Jupyter.notebook.kernel.comm_manager;\n        comm_manager.register_target(comm_id, function(comm) {\n          comm.on_msg(msg_handler);\n        });\n      } else if ((plot_id in window.PyViz.kernels) && (window.PyViz.kernels[plot_id])) {\n        window.PyViz.kernels[plot_id].registerCommTarget(comm_id, function(comm) {\n          comm.onMsg = msg_handler;\n        });\n      } else if (typeof google != 'undefined' && google.colab.kernel != null) {\n        google.colab.kernel.comms.registerTarget(comm_id, (comm) => {\n          var messages = comm.messages[Symbol.asyncIterator]();\n          function processIteratorResult(result) {\n            var message = result.value;\n            console.log(message)\n            var content = {data: message.data, comm_id};\n            var buffers = []\n            for (var buffer of message.buffers || []) {\n              buffers.push(new DataView(buffer))\n            }\n            var metadata = message.metadata || {};\n            var msg = {content, buffers, metadata}\n            msg_handler(msg);\n            return messages.next().then(processIteratorResult);\n          }\n          return messages.next().then(processIteratorResult);\n        })\n      }\n    }\n\n    JupyterCommManager.prototype.get_client_comm = function(plot_id, comm_id, msg_handler) {\n      if (comm_id in window.PyViz.comms) {\n        return window.PyViz.comms[comm_id];\n      } else if (window.comm_manager || ((window.Jupyter !== undefined) && (Jupyter.notebook.kernel != null))) {\n        var comm_manager = window.comm_manager || Jupyter.notebook.kernel.comm_manager;\n        var comm = comm_manager.new_comm(comm_id, {}, {}, {}, comm_id);\n        if (msg_handler) {\n          comm.on_msg(msg_handler);\n        }\n      } else if ((plot_id in window.PyViz.kernels) && (window.PyViz.kernels[plot_id])) {\n        var comm = window.PyViz.kernels[plot_id].connectToComm(comm_id);\n        comm.open();\n        if (msg_handler) {\n          comm.onMsg = msg_handler;\n        }\n      } else if (typeof google != 'undefined' && google.colab.kernel != null) {\n        var comm_promise = google.colab.kernel.comms.open(comm_id)\n        comm_promise.then((comm) => {\n          window.PyViz.comms[comm_id] = comm;\n          if (msg_handler) {\n            var messages = comm.messages[Symbol.asyncIterator]();\n            function processIteratorResult(result) {\n              var message = result.value;\n              var content = {data: message.data};\n              var metadata = message.metadata || {comm_id};\n              var msg = {content, metadata}\n              msg_handler(msg);\n              return messages.next().then(processIteratorResult);\n            }\n            return messages.next().then(processIteratorResult);\n          }\n        }) \n        var sendClosure = (data, metadata, buffers, disposeOnDone) => {\n          return comm_promise.then((comm) => {\n            comm.send(data, metadata, buffers, disposeOnDone);\n          });\n        };\n        var comm = {\n          send: sendClosure\n        };\n      }\n      window.PyViz.comms[comm_id] = comm;\n      return comm;\n    }\n    window.PyViz.comm_manager = new JupyterCommManager();\n    \n\n\nvar JS_MIME_TYPE = 'application/javascript';\nvar HTML_MIME_TYPE = 'text/html';\nvar EXEC_MIME_TYPE = 'application/vnd.holoviews_exec.v0+json';\nvar CLASS_NAME = 'output';\n\n/**\n * Render data to the DOM node\n */\nfunction render(props, node) {\n  var div = document.createElement(\"div\");\n  var script = document.createElement(\"script\");\n  node.appendChild(div);\n  node.appendChild(script);\n}\n\n/**\n * Handle when a new output is added\n */\nfunction handle_add_output(event, handle) {\n  var output_area = handle.output_area;\n  var output = handle.output;\n  if ((output.data == undefined) || (!output.data.hasOwnProperty(EXEC_MIME_TYPE))) {\n    return\n  }\n  var id = output.metadata[EXEC_MIME_TYPE][\"id\"];\n  var toinsert = output_area.element.find(\".\" + CLASS_NAME.split(' ')[0]);\n  if (id !== undefined) {\n    var nchildren = toinsert.length;\n    var html_node = toinsert[nchildren-1].children[0];\n    html_node.innerHTML = output.data[HTML_MIME_TYPE];\n    var scripts = [];\n    var nodelist = html_node.querySelectorAll(\"script\");\n    for (var i in nodelist) {\n      if (nodelist.hasOwnProperty(i)) {\n        scripts.push(nodelist[i])\n      }\n    }\n\n    scripts.forEach( function (oldScript) {\n      var newScript = document.createElement(\"script\");\n      var attrs = [];\n      var nodemap = oldScript.attributes;\n      for (var j in nodemap) {\n        if (nodemap.hasOwnProperty(j)) {\n          attrs.push(nodemap[j])\n        }\n      }\n      attrs.forEach(function(attr) { newScript.setAttribute(attr.name, attr.value) });\n      newScript.appendChild(document.createTextNode(oldScript.innerHTML));\n      oldScript.parentNode.replaceChild(newScript, oldScript);\n    });\n    if (JS_MIME_TYPE in output.data) {\n      toinsert[nchildren-1].children[1].textContent = output.data[JS_MIME_TYPE];\n    }\n    output_area._hv_plot_id = id;\n    if ((window.Bokeh !== undefined) && (id in Bokeh.index)) {\n      window.PyViz.plot_index[id] = Bokeh.index[id];\n    } else {\n      window.PyViz.plot_index[id] = null;\n    }\n  } else if (output.metadata[EXEC_MIME_TYPE][\"server_id\"] !== undefined) {\n    var bk_div = document.createElement(\"div\");\n    bk_div.innerHTML = output.data[HTML_MIME_TYPE];\n    var script_attrs = bk_div.children[0].attributes;\n    for (var i = 0; i < script_attrs.length; i++) {\n      toinsert[toinsert.length - 1].childNodes[1].setAttribute(script_attrs[i].name, script_attrs[i].value);\n    }\n    // store reference to server id on output_area\n    output_area._bokeh_server_id = output.metadata[EXEC_MIME_TYPE][\"server_id\"];\n  }\n}\n\n/**\n * Handle when an output is cleared or removed\n */\nfunction handle_clear_output(event, handle) {\n  var id = handle.cell.output_area._hv_plot_id;\n  var server_id = handle.cell.output_area._bokeh_server_id;\n  if (((id === undefined) || !(id in PyViz.plot_index)) && (server_id !== undefined)) { return; }\n  var comm = window.PyViz.comm_manager.get_client_comm(\"hv-extension-comm\", \"hv-extension-comm\", function () {});\n  if (server_id !== null) {\n    comm.send({event_type: 'server_delete', 'id': server_id});\n    return;\n  } else if (comm !== null) {\n    comm.send({event_type: 'delete', 'id': id});\n  }\n  delete PyViz.plot_index[id];\n  if ((window.Bokeh !== undefined) & (id in window.Bokeh.index)) {\n    var doc = window.Bokeh.index[id].model.document\n    doc.clear();\n    const i = window.Bokeh.documents.indexOf(doc);\n    if (i > -1) {\n      window.Bokeh.documents.splice(i, 1);\n    }\n  }\n}\n\n/**\n * Handle kernel restart event\n */\nfunction handle_kernel_cleanup(event, handle) {\n  delete PyViz.comms[\"hv-extension-comm\"];\n  window.PyViz.plot_index = {}\n}\n\n/**\n * Handle update_display_data messages\n */\nfunction handle_update_output(event, handle) {\n  handle_clear_output(event, {cell: {output_area: handle.output_area}})\n  handle_add_output(event, handle)\n}\n\nfunction register_renderer(events, OutputArea) {\n  function append_mime(data, metadata, element) {\n    // create a DOM node to render to\n    var toinsert = this.create_output_subarea(\n    metadata,\n    CLASS_NAME,\n    EXEC_MIME_TYPE\n    );\n    this.keyboard_manager.register_events(toinsert);\n    // Render to node\n    var props = {data: data, metadata: metadata[EXEC_MIME_TYPE]};\n    render(props, toinsert[0]);\n    element.append(toinsert);\n    return toinsert\n  }\n\n  events.on('output_added.OutputArea', handle_add_output);\n  events.on('output_updated.OutputArea', handle_update_output);\n  events.on('clear_output.CodeCell', handle_clear_output);\n  events.on('delete.Cell', handle_clear_output);\n  events.on('kernel_ready.Kernel', handle_kernel_cleanup);\n\n  OutputArea.prototype.register_mime_type(EXEC_MIME_TYPE, append_mime, {\n    safe: true,\n    index: 0\n  });\n}\n\nif (window.Jupyter !== undefined) {\n  try {\n    var events = require('base/js/events');\n    var OutputArea = require('notebook/js/outputarea').OutputArea;\n    if (OutputArea.prototype.mime_types().indexOf(EXEC_MIME_TYPE) == -1) {\n      register_renderer(events, OutputArea);\n    }\n  } catch(err) {\n  }\n}\n",
            "application/vnd.holoviews_load.v0+json": ""
          },
          "metadata": {},
          "output_type": "display_data"
        }
      ],
      "source": [
        "import os\n",
        "import pathlib\n",
        "import pickle\n",
        "import re\n",
        "import warnings\n",
        "\n",
        "import cartopy.crs as ccrs\n",
        "import earthaccess\n",
        "import earthpy as et\n",
        "import geopandas as gpd\n",
        "import geoviews as gv\n",
        "import hvplot.pandas\n",
        "import hvplot.xarray\n",
        "import numpy as np\n",
        "import pandas as pd\n",
        "import rioxarray as rxr\n",
        "import rioxarray.merge as rxrmerge\n",
        "from tqdm.notebook import tqdm\n",
        "import xarray as xr\n",
        "from shapely.geometry import Polygon\n",
        "from sklearn.cluster import KMeans\n",
        "import zipfile\n",
        "\n",
        "os.environ[\"GDAL_HTTP_MAX_RETRY\"] = \"5\"\n",
        "os.environ[\"GDAL_HTTP_RETRY_DELAY\"] = \"1\"\n",
        "\n",
        "warnings.simplefilter('ignore')"
      ]
    },
    {
      "cell_type": "code",
      "execution_count": 2,
      "id": "acefbe98",
      "metadata": {},
      "outputs": [
        {
          "data": {
            "text/plain": [
              "'C:\\\\Users\\\\riede\\\\earth-analytics\\\\data\\\\mississippi-delta'"
            ]
          },
          "execution_count": 2,
          "metadata": {},
          "output_type": "execute_result"
        }
      ],
      "source": [
        "# Make data directory\n",
        "data_dir = os.path.join(\n",
        "    pathlib.Path.home(),\n",
        "    'earth-analytics',\n",
        "    'data',\n",
        "    'mississippi-delta'\n",
        "    )\n",
        "\n",
        "os.makedirs(data_dir, exist_ok=True)\n",
        "\n",
        "data_dir"
      ]
    },
    {
      "cell_type": "markdown",
      "id": "00d1daa3-a10e-472b-94ff-4ff2db336bf5",
      "metadata": {},
      "source": [
        "Below you can find code for a caching **decorator** which you can use in\n",
        "your code. To use the decorator:\n",
        "\n",
        "``` python\n",
        "@cached(key, override)\n",
        "def do_something(*args, **kwargs):\n",
        "    ...\n",
        "    return item_to_cache\n",
        "```\n",
        "\n",
        "This decorator will **pickle** the results of running the\n",
        "`do_something()` function, and only run the code if the results don’t\n",
        "already exist. To override the caching, for example temporarily after\n",
        "making changes to your code, set `override=True`. Note that to use the\n",
        "caching decorator, you must write your own function to perform each\n",
        "task!"
      ]
    },
    {
      "cell_type": "code",
      "execution_count": 3,
      "id": "ad0a9842",
      "metadata": {},
      "outputs": [],
      "source": [
        "def cached(func_key, override=False):\n",
        "    \"\"\"\n",
        "    A decorator to cache function results\n",
        "    \n",
        "    Parameters\n",
        "    ==========\n",
        "    key: str\n",
        "      File basename used to save pickled results\n",
        "    override: bool\n",
        "      When True, re-compute even if the results are already stored\n",
        "    \"\"\"\n",
        "    def compute_and_cache_decorator(compute_function):\n",
        "        \"\"\"\n",
        "        Wrap the caching function\n",
        "        \n",
        "        Parameters\n",
        "        ==========\n",
        "        compute_function: function\n",
        "          The function to run and cache results\n",
        "        \"\"\"\n",
        "        def compute_and_cache(*args, **kwargs):\n",
        "            \"\"\"\n",
        "            Perform a computation and cache, or load cached result.\n",
        "            \n",
        "            Parameters\n",
        "            ==========\n",
        "            args\n",
        "              Positional arguments for the compute function\n",
        "            kwargs\n",
        "              Keyword arguments for the compute function\n",
        "            \"\"\"\n",
        "            # Add an identifier from the particular function call\n",
        "            if 'cache_key' in kwargs:\n",
        "                key = '_'.join((func_key, kwargs['cache_key']))\n",
        "            else:\n",
        "                key = func_key\n",
        "\n",
        "            path = os.path.join(\n",
        "                et.io.HOME, et.io.DATA_NAME, 'jars', f'{key}.pickle')\n",
        "            \n",
        "            # Check if the cache exists already or override caching\n",
        "            if not os.path.exists(path) or override:\n",
        "                # Make jars directory if needed\n",
        "                os.makedirs(os.path.dirname(path), exist_ok=True)\n",
        "                \n",
        "                # Run the compute function as the user did\n",
        "                result = compute_function(*args, **kwargs)\n",
        "                \n",
        "                # Pickle the object\n",
        "                with open(path, 'wb') as file:\n",
        "                    pickle.dump(result, file)\n",
        "            else:\n",
        "                # Unpickle the object\n",
        "                with open(path, 'rb') as file:\n",
        "                    result = pickle.load(file)\n",
        "                    \n",
        "            return result\n",
        "        \n",
        "        return compute_and_cache\n",
        "    \n",
        "    return compute_and_cache_decorator"
      ]
    },
    {
      "cell_type": "markdown",
      "id": "2f8cf346-8ef9-4c74-8835-411b1815aac2",
      "metadata": {},
      "source": [
        "## STEP 2: STUDY SITE\n",
        "\n",
        "For this analysis, you will use a watershed from the [Water Boundary\n",
        "Dataset](https://www.usgs.gov/national-hydrography/access-national-hydrography-products),\n",
        "HU12 watersheds (WBDHU12.shp).\n",
        "\n",
        "<link rel=\"stylesheet\" type=\"text/css\" href=\"./assets/styles.css\"><div class=\"callout callout-style-default callout-titled callout-task\"><div class=\"callout-header\"><div class=\"callout-icon-container\"><i class=\"callout-icon\"></i></div><div class=\"callout-title-container flex-fill\">Try It</div></div><div class=\"callout-body-container callout-body\"><ol type=\"1\">\n",
        "<li>Download the Water Boundary Dataset for region 8 (Mississippi)</li>\n",
        "<li>Select watershed 080902030506</li>\n",
        "<li>Generate a site map of the watershed</li>\n",
        "</ol>\n",
        "<p>Try to use the <strong>caching decorator</strong></p></div></div>\n",
        "\n",
        "We chose this watershed because it covers parts of New Orleans and is\n",
        "near the Mississippi Delta. Deltas are boundary areas between the land\n",
        "and the ocean, and as a result tend to contain a rich variety of\n",
        "different land cover and land use types.\n",
        "\n",
        "<link rel=\"stylesheet\" type=\"text/css\" href=\"./assets/styles.css\"><div class=\"callout callout-style-default callout-response\"><div class=\"callout-header\"><div class=\"callout-icon-container\"><i class=\"callout-icon\"></i></div></div><div class=\"callout-body-container callout-body\"><p>Write a 2-3 sentence <strong>site description</strong> (with\n",
        "citations) of this area that helps to put your analysis in context.</p></div></div>"
      ]
    },
    {
      "cell_type": "markdown",
      "id": "e779d07a-9ebd-4d84-af53-3fd1c211606c",
      "metadata": {},
      "source": [
        "**SEE SITE DESCRIPTION BELOW SITE MAP**\n",
        "\n",
        "* Helpful links:\n",
        "\n",
        "    * URL for WBD region 8: https://prd-tnm.s3.amazonaws.com/StagedProducts/Hydrography/WBD/HU2/Shape/WBD_08_HU2_Shape.zip\n",
        "\n",
        "    * Documentation for et.data.get_data: https://earthpy.readthedocs.io/en/latest/gallery_vignettes/get_data.html\n",
        "\n",
        "    * Documentation for .dissolve(): https://geopandas.org/en/stable/docs/user_guide/aggregation_with_dissolve.html"
      ]
    },
    {
      "cell_type": "markdown",
      "id": "a01819bd",
      "metadata": {},
      "source": [
        "<span style=\"color: purple;\">\n",
        "\n",
        "#### STEP 2a. Download watershed boundary data for region 8\n",
        "\n",
        "</span>"
      ]
    },
    {
      "cell_type": "code",
      "execution_count": 4,
      "id": "9616f78b",
      "metadata": {},
      "outputs": [
        {
          "data": {
            "text/html": [
              "<div>\n",
              "<style scoped>\n",
              "    .dataframe tbody tr th:only-of-type {\n",
              "        vertical-align: middle;\n",
              "    }\n",
              "\n",
              "    .dataframe tbody tr th {\n",
              "        vertical-align: top;\n",
              "    }\n",
              "\n",
              "    .dataframe thead th {\n",
              "        text-align: right;\n",
              "    }\n",
              "</style>\n",
              "<table border=\"1\" class=\"dataframe\">\n",
              "  <thead>\n",
              "    <tr style=\"text-align: right;\">\n",
              "      <th></th>\n",
              "      <th>tnmid</th>\n",
              "      <th>metasource</th>\n",
              "      <th>sourcedata</th>\n",
              "      <th>sourceorig</th>\n",
              "      <th>sourcefeat</th>\n",
              "      <th>loaddate</th>\n",
              "      <th>referenceg</th>\n",
              "      <th>areaacres</th>\n",
              "      <th>areasqkm</th>\n",
              "      <th>states</th>\n",
              "      <th>...</th>\n",
              "      <th>name</th>\n",
              "      <th>hutype</th>\n",
              "      <th>humod</th>\n",
              "      <th>tohuc</th>\n",
              "      <th>noncontrib</th>\n",
              "      <th>noncontr_1</th>\n",
              "      <th>shape_Leng</th>\n",
              "      <th>shape_Area</th>\n",
              "      <th>ObjectID</th>\n",
              "      <th>geometry</th>\n",
              "    </tr>\n",
              "  </thead>\n",
              "  <tbody>\n",
              "    <tr>\n",
              "      <th>0</th>\n",
              "      <td>{8AFB1AF9-7296-4303-89DE-14CD073B859A}</td>\n",
              "      <td>{511D2AC8-11BA-45FC-AB98-F69D693D4C44}</td>\n",
              "      <td>Watershed Boundary Dataset (WBD)</td>\n",
              "      <td>Natural Resources and Conservation Service and...</td>\n",
              "      <td>None</td>\n",
              "      <td>2024-08-15</td>\n",
              "      <td>535297,540579</td>\n",
              "      <td>29441.81</td>\n",
              "      <td>119.15</td>\n",
              "      <td>LA</td>\n",
              "      <td>...</td>\n",
              "      <td>Gourd Bayou-Youngs Bayou</td>\n",
              "      <td>S</td>\n",
              "      <td>LE,ID,DD</td>\n",
              "      <td>080500011308</td>\n",
              "      <td>0.0</td>\n",
              "      <td>0.0</td>\n",
              "      <td>NaN</td>\n",
              "      <td>NaN</td>\n",
              "      <td>1</td>\n",
              "      <td>POLYGON ((-92.00021 32.53586, -91.99994 32.535...</td>\n",
              "    </tr>\n",
              "    <tr>\n",
              "      <th>1</th>\n",
              "      <td>{916A17A6-B4A0-4FD7-9BB8-FFD1936B15B2}</td>\n",
              "      <td>{511D2AC8-11BA-45FC-AB98-F69D693D4C44}</td>\n",
              "      <td>Watershed Boundary Dataset (WBD)</td>\n",
              "      <td>Natural Resources and Conservation Service and...</td>\n",
              "      <td>None</td>\n",
              "      <td>2024-08-15</td>\n",
              "      <td>535512</td>\n",
              "      <td>11406.67</td>\n",
              "      <td>46.16</td>\n",
              "      <td>LA</td>\n",
              "      <td>...</td>\n",
              "      <td>Hams Creek</td>\n",
              "      <td>S</td>\n",
              "      <td>ID</td>\n",
              "      <td>080802050104</td>\n",
              "      <td>0.0</td>\n",
              "      <td>0.0</td>\n",
              "      <td>NaN</td>\n",
              "      <td>NaN</td>\n",
              "      <td>2</td>\n",
              "      <td>POLYGON ((-93.37574 30.58982, -93.3747 30.5891...</td>\n",
              "    </tr>\n",
              "    <tr>\n",
              "      <th>2</th>\n",
              "      <td>{493C7EC1-2F1C-4B84-AFFB-6F6868A9868E}</td>\n",
              "      <td>{511D2AC8-11BA-45FC-AB98-F69D693D4C44}</td>\n",
              "      <td>Watershed Boundary Dataset (WBD)</td>\n",
              "      <td>Natural Resources and Conservation Service and...</td>\n",
              "      <td>None</td>\n",
              "      <td>2024-08-15</td>\n",
              "      <td>547190,559640</td>\n",
              "      <td>29138.21</td>\n",
              "      <td>117.92</td>\n",
              "      <td>LA</td>\n",
              "      <td>...</td>\n",
              "      <td>Caney Creek-Bayou D'Arbonne</td>\n",
              "      <td>S</td>\n",
              "      <td>NM</td>\n",
              "      <td>080402060503</td>\n",
              "      <td>0.0</td>\n",
              "      <td>0.0</td>\n",
              "      <td>NaN</td>\n",
              "      <td>NaN</td>\n",
              "      <td>3</td>\n",
              "      <td>POLYGON ((-93.07761 32.88752, -93.07784 32.887...</td>\n",
              "    </tr>\n",
              "    <tr>\n",
              "      <th>3</th>\n",
              "      <td>{49A3C087-B460-4F97-9D99-78CBB675248B}</td>\n",
              "      <td>{511D2AC8-11BA-45FC-AB98-F69D693D4C44}</td>\n",
              "      <td>Watershed Boundary Dataset (WBD)</td>\n",
              "      <td>Natural Resources and Conservation Service and...</td>\n",
              "      <td>None</td>\n",
              "      <td>2024-08-15</td>\n",
              "      <td>77417,78285</td>\n",
              "      <td>17759.39</td>\n",
              "      <td>71.87</td>\n",
              "      <td>AR</td>\n",
              "      <td>...</td>\n",
              "      <td>L'Aigle Creek-Saline River</td>\n",
              "      <td>S</td>\n",
              "      <td>NM</td>\n",
              "      <td>080402020206</td>\n",
              "      <td>0.0</td>\n",
              "      <td>0.0</td>\n",
              "      <td>NaN</td>\n",
              "      <td>NaN</td>\n",
              "      <td>4</td>\n",
              "      <td>POLYGON ((-92.08947 33.29383, -92.0897 33.2938...</td>\n",
              "    </tr>\n",
              "    <tr>\n",
              "      <th>4</th>\n",
              "      <td>{0FB41498-11EA-4AB1-AF05-E2A8E5E2E274}</td>\n",
              "      <td>{511D2AC8-11BA-45FC-AB98-F69D693D4C44}</td>\n",
              "      <td>Watershed Boundary Dataset (WBD)</td>\n",
              "      <td>Natural Resources and Conservation Service and...</td>\n",
              "      <td>None</td>\n",
              "      <td>2024-08-15</td>\n",
              "      <td>1628466</td>\n",
              "      <td>98564.62</td>\n",
              "      <td>398.88</td>\n",
              "      <td>LA</td>\n",
              "      <td>...</td>\n",
              "      <td>West Cote Blanche Bay</td>\n",
              "      <td>W</td>\n",
              "      <td>NM</td>\n",
              "      <td>080801030800</td>\n",
              "      <td>0.0</td>\n",
              "      <td>0.0</td>\n",
              "      <td>NaN</td>\n",
              "      <td>NaN</td>\n",
              "      <td>5</td>\n",
              "      <td>POLYGON ((-91.62408 29.73947, -91.62195 29.737...</td>\n",
              "    </tr>\n",
              "  </tbody>\n",
              "</table>\n",
              "<p>5 rows × 21 columns</p>\n",
              "</div>"
            ],
            "text/plain": [
              "                                    tnmid  \\\n",
              "0  {8AFB1AF9-7296-4303-89DE-14CD073B859A}   \n",
              "1  {916A17A6-B4A0-4FD7-9BB8-FFD1936B15B2}   \n",
              "2  {493C7EC1-2F1C-4B84-AFFB-6F6868A9868E}   \n",
              "3  {49A3C087-B460-4F97-9D99-78CBB675248B}   \n",
              "4  {0FB41498-11EA-4AB1-AF05-E2A8E5E2E274}   \n",
              "\n",
              "                               metasource                        sourcedata  \\\n",
              "0  {511D2AC8-11BA-45FC-AB98-F69D693D4C44}  Watershed Boundary Dataset (WBD)   \n",
              "1  {511D2AC8-11BA-45FC-AB98-F69D693D4C44}  Watershed Boundary Dataset (WBD)   \n",
              "2  {511D2AC8-11BA-45FC-AB98-F69D693D4C44}  Watershed Boundary Dataset (WBD)   \n",
              "3  {511D2AC8-11BA-45FC-AB98-F69D693D4C44}  Watershed Boundary Dataset (WBD)   \n",
              "4  {511D2AC8-11BA-45FC-AB98-F69D693D4C44}  Watershed Boundary Dataset (WBD)   \n",
              "\n",
              "                                          sourceorig sourcefeat   loaddate  \\\n",
              "0  Natural Resources and Conservation Service and...       None 2024-08-15   \n",
              "1  Natural Resources and Conservation Service and...       None 2024-08-15   \n",
              "2  Natural Resources and Conservation Service and...       None 2024-08-15   \n",
              "3  Natural Resources and Conservation Service and...       None 2024-08-15   \n",
              "4  Natural Resources and Conservation Service and...       None 2024-08-15   \n",
              "\n",
              "      referenceg  areaacres  areasqkm states  ...  \\\n",
              "0  535297,540579   29441.81    119.15     LA  ...   \n",
              "1         535512   11406.67     46.16     LA  ...   \n",
              "2  547190,559640   29138.21    117.92     LA  ...   \n",
              "3    77417,78285   17759.39     71.87     AR  ...   \n",
              "4        1628466   98564.62    398.88     LA  ...   \n",
              "\n",
              "                          name hutype     humod         tohuc noncontrib  \\\n",
              "0     Gourd Bayou-Youngs Bayou      S  LE,ID,DD  080500011308        0.0   \n",
              "1                   Hams Creek      S        ID  080802050104        0.0   \n",
              "2  Caney Creek-Bayou D'Arbonne      S        NM  080402060503        0.0   \n",
              "3   L'Aigle Creek-Saline River      S        NM  080402020206        0.0   \n",
              "4        West Cote Blanche Bay      W        NM  080801030800        0.0   \n",
              "\n",
              "   noncontr_1  shape_Leng  shape_Area  ObjectID  \\\n",
              "0         0.0         NaN         NaN         1   \n",
              "1         0.0         NaN         NaN         2   \n",
              "2         0.0         NaN         NaN         3   \n",
              "3         0.0         NaN         NaN         4   \n",
              "4         0.0         NaN         NaN         5   \n",
              "\n",
              "                                            geometry  \n",
              "0  POLYGON ((-92.00021 32.53586, -91.99994 32.535...  \n",
              "1  POLYGON ((-93.37574 30.58982, -93.3747 30.5891...  \n",
              "2  POLYGON ((-93.07761 32.88752, -93.07784 32.887...  \n",
              "3  POLYGON ((-92.08947 33.29383, -92.0897 33.2938...  \n",
              "4  POLYGON ((-91.62408 29.73947, -91.62195 29.737...  \n",
              "\n",
              "[5 rows x 21 columns]"
            ]
          },
          "execution_count": 4,
          "metadata": {},
          "output_type": "execute_result"
        }
      ],
      "source": [
        "# call cached decorator\n",
        "@cached('wbd', override=False)\n",
        "# add function to apply decorator abilities to\n",
        "def read_wbd_file(wbd_filename, huc_level, cache_key):\n",
        "    # Define wbd_url\n",
        "    wbd_url = (\n",
        "        \"https://prd-tnm.s3.amazonaws.com\"\n",
        "        \"/StagedProducts/Hydrography/WBD/HU2/Shape/\"\n",
        "        f\"{wbd_filename}.zip\")\n",
        "    # et.data.get_data from earthpy library to download data from a zip file\n",
        "    # can also download Earthpy Dataset Subsets w/ et.data.get_data \n",
        "    wbd_dir = et.data.get_data(url=wbd_url)\n",
        "                  \n",
        "    # Read desired data\n",
        "    wbd_path = os.path.join(wbd_dir, 'Shape', f'WBDHU{huc_level}.shp')\n",
        "    # engine is the library used to read the file\n",
        "    wbd_gdf = gpd.read_file(wbd_path, engine='pyogrio')\n",
        "    return wbd_gdf\n",
        "\n",
        "# define huc_level\n",
        "huc_level = 12\n",
        "\n",
        "# create wbd_total_gdf \n",
        "wbd_total_gdf = read_wbd_file(\n",
        "    # filename found from URL noted above code cell\n",
        "    wbd_filename = 'WBD_08_HU2_Shape',\n",
        "    # huc_level defined above\n",
        "    huc_level = huc_level,\n",
        "    # cache_key is a kwarg for cached decorator\n",
        "    cache_key=f'hu{huc_level}'\n",
        ")\n",
        "\n",
        "# check wbd_total_gdf\n",
        "wbd_total_gdf.head()\n"
      ]
    },
    {
      "cell_type": "markdown",
      "id": "742cd26c",
      "metadata": {},
      "source": [
        "<span style=\"color: purple;\">\n",
        "\n",
        "#### STEP 2b. Select watershed of interest from region 8, 080902030506\n",
        "\n",
        "</span>"
      ]
    },
    {
      "cell_type": "code",
      "execution_count": 5,
      "id": "9756787c",
      "metadata": {},
      "outputs": [
        {
          "data": {
            "text/plain": [
              "Index(['tnmid', 'metasource', 'sourcedata', 'sourceorig', 'sourcefeat',\n",
              "       'loaddate', 'referenceg', 'areaacres', 'areasqkm', 'states', 'huc12',\n",
              "       'name', 'hutype', 'humod', 'tohuc', 'noncontrib', 'noncontr_1',\n",
              "       'shape_Leng', 'shape_Area', 'ObjectID', 'geometry'],\n",
              "      dtype='object')"
            ]
          },
          "execution_count": 5,
          "metadata": {},
          "output_type": "execute_result"
        }
      ],
      "source": [
        "# see all column names of the wbd_total_gdf\n",
        "wbd_total_gdf.columns"
      ]
    },
    {
      "cell_type": "code",
      "execution_count": 6,
      "id": "d06a3f74",
      "metadata": {},
      "outputs": [
        {
          "data": {
            "text/html": [
              "<div>\n",
              "<style scoped>\n",
              "    .dataframe tbody tr th:only-of-type {\n",
              "        vertical-align: middle;\n",
              "    }\n",
              "\n",
              "    .dataframe tbody tr th {\n",
              "        vertical-align: top;\n",
              "    }\n",
              "\n",
              "    .dataframe thead th {\n",
              "        text-align: right;\n",
              "    }\n",
              "</style>\n",
              "<table border=\"1\" class=\"dataframe\">\n",
              "  <thead>\n",
              "    <tr style=\"text-align: right;\">\n",
              "      <th></th>\n",
              "      <th>geometry</th>\n",
              "      <th>tnmid</th>\n",
              "      <th>metasource</th>\n",
              "      <th>sourcedata</th>\n",
              "      <th>sourceorig</th>\n",
              "      <th>sourcefeat</th>\n",
              "      <th>loaddate</th>\n",
              "      <th>referenceg</th>\n",
              "      <th>areaacres</th>\n",
              "      <th>areasqkm</th>\n",
              "      <th>...</th>\n",
              "      <th>huc12</th>\n",
              "      <th>name</th>\n",
              "      <th>hutype</th>\n",
              "      <th>humod</th>\n",
              "      <th>tohuc</th>\n",
              "      <th>noncontrib</th>\n",
              "      <th>noncontr_1</th>\n",
              "      <th>shape_Leng</th>\n",
              "      <th>shape_Area</th>\n",
              "      <th>ObjectID</th>\n",
              "    </tr>\n",
              "  </thead>\n",
              "  <tbody>\n",
              "    <tr>\n",
              "      <th>0</th>\n",
              "      <td>POLYGON ((-89.97047 29.74687, -89.96593 29.750...</td>\n",
              "      <td>{E942B72E-599E-48F5-908A-EA5265701C14}</td>\n",
              "      <td>{511D2AC8-11BA-45FC-AB98-F69D693D4C44}</td>\n",
              "      <td>Watershed Boundary Dataset (WBD)</td>\n",
              "      <td>Natural Resources and Conservation Service and...</td>\n",
              "      <td>None</td>\n",
              "      <td>2024-08-15</td>\n",
              "      <td>536881,539539</td>\n",
              "      <td>37355.86</td>\n",
              "      <td>151.17</td>\n",
              "      <td>...</td>\n",
              "      <td>080902030506</td>\n",
              "      <td>Manuel Canal-Spanish Lake</td>\n",
              "      <td>D</td>\n",
              "      <td>GC</td>\n",
              "      <td>080902030508</td>\n",
              "      <td>0.0</td>\n",
              "      <td>0.0</td>\n",
              "      <td>NaN</td>\n",
              "      <td>NaN</td>\n",
              "      <td>2560</td>\n",
              "    </tr>\n",
              "  </tbody>\n",
              "</table>\n",
              "<p>1 rows × 21 columns</p>\n",
              "</div>"
            ],
            "text/plain": [
              "                                            geometry  \\\n",
              "0  POLYGON ((-89.97047 29.74687, -89.96593 29.750...   \n",
              "\n",
              "                                    tnmid  \\\n",
              "0  {E942B72E-599E-48F5-908A-EA5265701C14}   \n",
              "\n",
              "                               metasource                        sourcedata  \\\n",
              "0  {511D2AC8-11BA-45FC-AB98-F69D693D4C44}  Watershed Boundary Dataset (WBD)   \n",
              "\n",
              "                                          sourceorig sourcefeat   loaddate  \\\n",
              "0  Natural Resources and Conservation Service and...       None 2024-08-15   \n",
              "\n",
              "      referenceg  areaacres  areasqkm  ...         huc12  \\\n",
              "0  536881,539539   37355.86    151.17  ...  080902030506   \n",
              "\n",
              "                        name hutype humod         tohuc noncontrib  \\\n",
              "0  Manuel Canal-Spanish Lake      D    GC  080902030508        0.0   \n",
              "\n",
              "   noncontr_1  shape_Leng  shape_Area  ObjectID  \n",
              "0         0.0         NaN         NaN      2560  \n",
              "\n",
              "[1 rows x 21 columns]"
            ]
          },
          "execution_count": 6,
          "metadata": {},
          "output_type": "execute_result"
        }
      ],
      "source": [
        "# select the 080902030506 rows from the wbd_total_gdf\n",
        "wbd_gdf = (\n",
        "    # from the huc12 column...\n",
        "    wbd_total_gdf[wbd_total_gdf[f'huc{huc_level}']\n",
        "    # select only the rows for 080902030506\n",
        "    .isin(['080902030506'])]\n",
        "    # dissolve all geometries to a single geometric feature\n",
        "    # and aggreagate all rows of data in a group\n",
        "    .dissolve()\n",
        ")\n",
        "\n",
        "# check wbd_gdf\n",
        "wbd_gdf"
      ]
    },
    {
      "cell_type": "code",
      "execution_count": 7,
      "id": "d2fcbea7",
      "metadata": {},
      "outputs": [
        {
          "name": "stdout",
          "output_type": "stream",
          "text": [
            "Watershed 080902030506 is in 0    LA\n",
            "Name: states, dtype: object\n"
          ]
        }
      ],
      "source": [
        "print(f\"Watershed 080902030506 is in {wbd_gdf['states']}\")"
      ]
    },
    {
      "cell_type": "markdown",
      "id": "2f4510fb",
      "metadata": {},
      "source": [
        "<span style=\"color: purple;\">\n",
        "\n",
        "#### STEP 2c. Create site map of watershed 080902030506 in Louisiana, USA & describe watershed\n",
        "\n",
        "</span>"
      ]
    },
    {
      "cell_type": "code",
      "execution_count": 8,
      "id": "6a9587dd",
      "metadata": {},
      "outputs": [
        {
          "data": {},
          "metadata": {},
          "output_type": "display_data"
        },
        {
          "data": {
            "application/vnd.holoviews_exec.v0+json": "",
            "text/html": [
              "<div id='p1013'>\n",
              "  <div id=\"c45ff44a-55a8-4032-a2af-2872231c5dbf\" data-root-id=\"p1013\" style=\"display: contents;\"></div>\n",
              "</div>\n",
              "<script type=\"application/javascript\">(function(root) {\n",
              "  var docs_json = {\"a615193c-e159-439d-9d98-12df99737da5\":{\"version\":\"3.5.2\",\"title\":\"Bokeh Application\",\"roots\":[{\"type\":\"object\",\"name\":\"Row\",\"id\":\"p1013\",\"attributes\":{\"name\":\"Row01712\",\"tags\":[\"embedded\"],\"stylesheets\":[\"\\n:host(.pn-loading):before, .pn-loading:before {\\n  background-color: #c3c3c3;\\n  mask-size: auto calc(min(50%, 400px));\\n  -webkit-mask-size: auto calc(min(50%, 400px));\\n}\",{\"type\":\"object\",\"name\":\"ImportedStyleSheet\",\"id\":\"p1016\",\"attributes\":{\"url\":\"https://cdn.holoviz.org/panel/1.5.2/dist/css/loading.css\"}},{\"type\":\"object\",\"name\":\"ImportedStyleSheet\",\"id\":\"p1120\",\"attributes\":{\"url\":\"https://cdn.holoviz.org/panel/1.5.2/dist/css/listpanel.css\"}},{\"type\":\"object\",\"name\":\"ImportedStyleSheet\",\"id\":\"p1014\",\"attributes\":{\"url\":\"https://cdn.holoviz.org/panel/1.5.2/dist/bundled/theme/default.css\"}},{\"type\":\"object\",\"name\":\"ImportedStyleSheet\",\"id\":\"p1015\",\"attributes\":{\"url\":\"https://cdn.holoviz.org/panel/1.5.2/dist/bundled/theme/native.css\"}}],\"margin\":0,\"sizing_mode\":\"stretch_width\",\"align\":\"start\",\"children\":[{\"type\":\"object\",\"name\":\"Spacer\",\"id\":\"p1017\",\"attributes\":{\"name\":\"HSpacer01718\",\"stylesheets\":[\"\\n:host(.pn-loading):before, .pn-loading:before {\\n  background-color: #c3c3c3;\\n  mask-size: auto calc(min(50%, 400px));\\n  -webkit-mask-size: auto calc(min(50%, 400px));\\n}\",{\"id\":\"p1016\"},{\"id\":\"p1014\"},{\"id\":\"p1015\"}],\"margin\":0,\"sizing_mode\":\"stretch_width\",\"align\":\"start\"}},{\"type\":\"object\",\"name\":\"Figure\",\"id\":\"p1069\",\"attributes\":{\"width\":null,\"height\":null,\"margin\":[5,10],\"sizing_mode\":\"fixed\",\"align\":\"start\",\"x_range\":{\"type\":\"object\",\"name\":\"Range1d\",\"id\":\"p1033\",\"attributes\":{\"tags\":[[[\"Longitude\",null]],[]],\"start\":-10017511.294466687,\"end\":-9992975.898759374,\"reset_start\":-10017511.294466687,\"reset_end\":-9992975.898759374,\"min_interval\":5}},\"y_range\":{\"type\":\"object\",\"name\":\"Range1d\",\"id\":\"p1034\",\"attributes\":{\"tags\":[[[\"Latitude\",null]],{\"type\":\"map\",\"entries\":[[\"invert_yaxis\",false],[\"autorange\",false]]}],\"start\":3461117.9847856276,\"end\":3482479.510384815,\"reset_start\":3461117.9847856276,\"reset_end\":3482479.510384815,\"min_interval\":5}},\"x_scale\":{\"type\":\"object\",\"name\":\"LinearScale\",\"id\":\"p1079\"},\"y_scale\":{\"type\":\"object\",\"name\":\"LinearScale\",\"id\":\"p1080\"},\"title\":{\"type\":\"object\",\"name\":\"Title\",\"id\":\"p1072\",\"attributes\":{\"text\":\"080902030506 Watershed Boundary in Louisiana, USA\",\"text_color\":\"black\",\"text_font_size\":\"12pt\"}},\"renderers\":[{\"type\":\"object\",\"name\":\"TileRenderer\",\"id\":\"p1102\",\"attributes\":{\"level\":\"underlay\",\"tile_source\":{\"type\":\"object\",\"name\":\"WMTSTileSource\",\"id\":\"p1098\",\"attributes\":{\"url\":\"https://server.arcgisonline.com/ArcGIS/rest/services/World_Imagery/MapServer/tile/{Z}/{Y}/{X}.jpg\",\"attribution\":\"&copy; <a href=\\\"http://downloads.esri.com/ArcGISOnline/docs/tou_summary.pdf\\\">Esri</a>, Earthstar Geographics\"}}}},{\"type\":\"object\",\"name\":\"GlyphRenderer\",\"id\":\"p1113\",\"attributes\":{\"data_source\":{\"type\":\"object\",\"name\":\"ColumnDataSource\",\"id\":\"p1104\",\"attributes\":{\"selected\":{\"type\":\"object\",\"name\":\"Selection\",\"id\":\"p1105\",\"attributes\":{\"indices\":[],\"line_indices\":[]}},\"selection_policy\":{\"type\":\"object\",\"name\":\"UnionRenderers\",\"id\":\"p1106\"},\"data\":{\"type\":\"map\",\"entries\":[[\"xs\",[[[{\"type\":\"ndarray\",\"array\":{\"type\":\"bytes\",\"data\":\"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\"},\"shape\":[454],\"dtype\":\"float64\",\"order\":\"little\"}]]]],[\"ys\",[[[{\"type\":\"ndarray\",\"array\":{\"type\":\"bytes\",\"data\":\"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\"},\"shape\":[454],\"dtype\":\"float64\",\"order\":\"little\"}]]]]]}}},\"view\":{\"type\":\"object\",\"name\":\"CDSView\",\"id\":\"p1114\",\"attributes\":{\"filter\":{\"type\":\"object\",\"name\":\"AllIndices\",\"id\":\"p1115\"}}},\"glyph\":{\"type\":\"object\",\"name\":\"MultiPolygons\",\"id\":\"p1110\",\"attributes\":{\"xs\":{\"type\":\"field\",\"field\":\"xs\"},\"ys\":{\"type\":\"field\",\"field\":\"ys\"},\"line_color\":{\"type\":\"value\",\"value\":\"red\"},\"line_alpha\":{\"type\":\"value\",\"value\":0.4},\"fill_color\":{\"type\":\"value\",\"value\":\"white\"},\"fill_alpha\":{\"type\":\"value\",\"value\":0.4},\"hatch_color\":{\"type\":\"value\",\"value\":\"white\"},\"hatch_alpha\":{\"type\":\"value\",\"value\":0.4}}},\"selection_glyph\":{\"type\":\"object\",\"name\":\"MultiPolygons\",\"id\":\"p1116\",\"attributes\":{\"xs\":{\"type\":\"field\",\"field\":\"xs\"},\"ys\":{\"type\":\"field\",\"field\":\"ys\"},\"line_color\":{\"type\":\"value\",\"value\":\"red\"},\"line_alpha\":{\"type\":\"value\",\"value\":0.4},\"line_width\":{\"type\":\"value\",\"value\":1},\"line_join\":{\"type\":\"value\",\"value\":\"bevel\"},\"line_cap\":{\"type\":\"value\",\"value\":\"butt\"},\"line_dash\":{\"type\":\"value\",\"value\":[]},\"line_dash_offset\":{\"type\":\"value\",\"value\":0},\"fill_color\":{\"type\":\"value\",\"value\":\"white\"},\"fill_alpha\":{\"type\":\"value\",\"value\":0.4},\"hatch_color\":{\"type\":\"value\",\"value\":\"white\"},\"hatch_alpha\":{\"type\":\"value\",\"value\":0.4},\"hatch_scale\":{\"type\":\"value\",\"value\":12.0},\"hatch_pattern\":{\"type\":\"value\",\"value\":null},\"hatch_weight\":{\"type\":\"value\",\"value\":1.0}}},\"nonselection_glyph\":{\"type\":\"object\",\"name\":\"MultiPolygons\",\"id\":\"p1111\",\"attributes\":{\"xs\":{\"type\":\"field\",\"field\":\"xs\"},\"ys\":{\"type\":\"field\",\"field\":\"ys\"},\"line_color\":{\"type\":\"value\",\"value\":\"red\"},\"line_alpha\":{\"type\":\"value\",\"value\":0.4},\"fill_color\":{\"type\":\"value\",\"value\":\"white\"},\"fill_alpha\":{\"type\":\"value\",\"value\":0.4},\"hatch_color\":{\"type\":\"value\",\"value\":\"white\"},\"hatch_alpha\":{\"type\":\"value\",\"value\":0.1}}},\"muted_glyph\":{\"type\":\"object\",\"name\":\"MultiPolygons\",\"id\":\"p1112\",\"attributes\":{\"xs\":{\"type\":\"field\",\"field\":\"xs\"},\"ys\":{\"type\":\"field\",\"field\":\"ys\"},\"line_color\":{\"type\":\"value\",\"value\":\"red\"},\"line_alpha\":{\"type\":\"value\",\"value\":0.2},\"fill_color\":{\"type\":\"value\",\"value\":\"white\"},\"fill_alpha\":{\"type\":\"value\",\"value\":0.2},\"hatch_color\":{\"type\":\"value\",\"value\":\"white\"},\"hatch_alpha\":{\"type\":\"value\",\"value\":0.2}}}}}],\"toolbar\":{\"type\":\"object\",\"name\":\"Toolbar\",\"id\":\"p1078\",\"attributes\":{\"tools\":[{\"type\":\"object\",\"name\":\"WheelZoomTool\",\"id\":\"p1037\",\"attributes\":{\"renderers\":\"auto\",\"zoom_on_axis\":false}},{\"type\":\"object\",\"name\":\"BoxZoomTool\",\"id\":\"p1045\",\"attributes\":{\"overlay\":{\"type\":\"object\",\"name\":\"BoxAnnotation\",\"id\":\"p1038\",\"attributes\":{\"syncable\":false,\"line_color\":\"black\",\"line_alpha\":1.0,\"line_width\":2,\"line_dash\":[4,4],\"fill_color\":\"lightgrey\",\"fill_alpha\":0.5,\"level\":\"overlay\",\"visible\":false,\"left\":{\"type\":\"number\",\"value\":\"nan\"},\"right\":{\"type\":\"number\",\"value\":\"nan\"},\"top\":{\"type\":\"number\",\"value\":\"nan\"},\"bottom\":{\"type\":\"number\",\"value\":\"nan\"},\"left_units\":\"canvas\",\"right_units\":\"canvas\",\"top_units\":\"canvas\",\"bottom_units\":\"canvas\",\"handles\":{\"type\":\"object\",\"name\":\"BoxInteractionHandles\",\"id\":\"p1010\",\"attributes\":{\"all\":{\"type\":\"object\",\"name\":\"AreaVisuals\",\"id\":\"p1009\",\"attributes\":{\"fill_color\":\"white\",\"hover_fill_color\":\"lightgray\"}}}}}},\"match_aspect\":true}},{\"type\":\"object\",\"name\":\"PanTool\",\"id\":\"p1092\"},{\"type\":\"object\",\"name\":\"ResetTool\",\"id\":\"p1093\"}],\"active_drag\":{\"id\":\"p1092\"}}},\"left\":[{\"type\":\"object\",\"name\":\"LinearAxis\",\"id\":\"p1086\",\"attributes\":{\"ticker\":{\"type\":\"object\",\"name\":\"MercatorTicker\",\"id\":\"p1096\",\"attributes\":{\"mantissas\":[1,2,5],\"dimension\":\"lat\"}},\"formatter\":{\"type\":\"object\",\"name\":\"MercatorTickFormatter\",\"id\":\"p1097\",\"attributes\":{\"dimension\":\"lat\"}},\"axis_label\":\"Latitude\",\"major_label_policy\":{\"type\":\"object\",\"name\":\"AllLabels\",\"id\":\"p1089\"}}}],\"below\":[{\"type\":\"object\",\"name\":\"LinearAxis\",\"id\":\"p1081\",\"attributes\":{\"ticker\":{\"type\":\"object\",\"name\":\"MercatorTicker\",\"id\":\"p1094\",\"attributes\":{\"mantissas\":[1,2,5],\"dimension\":\"lon\"}},\"formatter\":{\"type\":\"object\",\"name\":\"MercatorTickFormatter\",\"id\":\"p1095\",\"attributes\":{\"dimension\":\"lon\"}},\"axis_label\":\"Longitude\",\"major_label_policy\":{\"type\":\"object\",\"name\":\"AllLabels\",\"id\":\"p1084\"}}}],\"center\":[{\"type\":\"object\",\"name\":\"Grid\",\"id\":\"p1085\",\"attributes\":{\"axis\":{\"id\":\"p1081\"},\"grid_line_color\":null}},{\"type\":\"object\",\"name\":\"Grid\",\"id\":\"p1090\",\"attributes\":{\"dimension\":1,\"axis\":{\"id\":\"p1086\"},\"grid_line_color\":null}}],\"frame_width\":400,\"frame_height\":348,\"min_border_top\":10,\"min_border_bottom\":10,\"min_border_left\":10,\"min_border_right\":10,\"output_backend\":\"webgl\",\"match_aspect\":true}},{\"type\":\"object\",\"name\":\"Spacer\",\"id\":\"p1118\",\"attributes\":{\"name\":\"HSpacer01719\",\"stylesheets\":[\"\\n:host(.pn-loading):before, .pn-loading:before {\\n  background-color: #c3c3c3;\\n  mask-size: auto calc(min(50%, 400px));\\n  -webkit-mask-size: auto calc(min(50%, 400px));\\n}\",{\"id\":\"p1016\"},{\"id\":\"p1014\"},{\"id\":\"p1015\"}],\"margin\":0,\"sizing_mode\":\"stretch_width\",\"align\":\"start\"}}]}}],\"defs\":[{\"type\":\"model\",\"name\":\"ReactiveHTML1\"},{\"type\":\"model\",\"name\":\"FlexBox1\",\"properties\":[{\"name\":\"align_content\",\"kind\":\"Any\",\"default\":\"flex-start\"},{\"name\":\"align_items\",\"kind\":\"Any\",\"default\":\"flex-start\"},{\"name\":\"flex_direction\",\"kind\":\"Any\",\"default\":\"row\"},{\"name\":\"flex_wrap\",\"kind\":\"Any\",\"default\":\"wrap\"},{\"name\":\"gap\",\"kind\":\"Any\",\"default\":\"\"},{\"name\":\"justify_content\",\"kind\":\"Any\",\"default\":\"flex-start\"}]},{\"type\":\"model\",\"name\":\"FloatPanel1\",\"properties\":[{\"name\":\"config\",\"kind\":\"Any\",\"default\":{\"type\":\"map\"}},{\"name\":\"contained\",\"kind\":\"Any\",\"default\":true},{\"name\":\"position\",\"kind\":\"Any\",\"default\":\"right-top\"},{\"name\":\"offsetx\",\"kind\":\"Any\",\"default\":null},{\"name\":\"offsety\",\"kind\":\"Any\",\"default\":null},{\"name\":\"theme\",\"kind\":\"Any\",\"default\":\"primary\"},{\"name\":\"status\",\"kind\":\"Any\",\"default\":\"normalized\"}]},{\"type\":\"model\",\"name\":\"GridStack1\",\"properties\":[{\"name\":\"mode\",\"kind\":\"Any\",\"default\":\"warn\"},{\"name\":\"ncols\",\"kind\":\"Any\",\"default\":null},{\"name\":\"nrows\",\"kind\":\"Any\",\"default\":null},{\"name\":\"allow_resize\",\"kind\":\"Any\",\"default\":true},{\"name\":\"allow_drag\",\"kind\":\"Any\",\"default\":true},{\"name\":\"state\",\"kind\":\"Any\",\"default\":[]}]},{\"type\":\"model\",\"name\":\"drag1\",\"properties\":[{\"name\":\"slider_width\",\"kind\":\"Any\",\"default\":5},{\"name\":\"slider_color\",\"kind\":\"Any\",\"default\":\"black\"},{\"name\":\"value\",\"kind\":\"Any\",\"default\":50}]},{\"type\":\"model\",\"name\":\"click1\",\"properties\":[{\"name\":\"terminal_output\",\"kind\":\"Any\",\"default\":\"\"},{\"name\":\"debug_name\",\"kind\":\"Any\",\"default\":\"\"},{\"name\":\"clears\",\"kind\":\"Any\",\"default\":0}]},{\"type\":\"model\",\"name\":\"FastWrapper1\",\"properties\":[{\"name\":\"object\",\"kind\":\"Any\",\"default\":null},{\"name\":\"style\",\"kind\":\"Any\",\"default\":null}]},{\"type\":\"model\",\"name\":\"NotificationAreaBase1\",\"properties\":[{\"name\":\"js_events\",\"kind\":\"Any\",\"default\":{\"type\":\"map\"}},{\"name\":\"position\",\"kind\":\"Any\",\"default\":\"bottom-right\"},{\"name\":\"_clear\",\"kind\":\"Any\",\"default\":0}]},{\"type\":\"model\",\"name\":\"NotificationArea1\",\"properties\":[{\"name\":\"js_events\",\"kind\":\"Any\",\"default\":{\"type\":\"map\"}},{\"name\":\"notifications\",\"kind\":\"Any\",\"default\":[]},{\"name\":\"position\",\"kind\":\"Any\",\"default\":\"bottom-right\"},{\"name\":\"_clear\",\"kind\":\"Any\",\"default\":0},{\"name\":\"types\",\"kind\":\"Any\",\"default\":[{\"type\":\"map\",\"entries\":[[\"type\",\"warning\"],[\"background\",\"#ffc107\"],[\"icon\",{\"type\":\"map\",\"entries\":[[\"className\",\"fas fa-exclamation-triangle\"],[\"tagName\",\"i\"],[\"color\",\"white\"]]}]]},{\"type\":\"map\",\"entries\":[[\"type\",\"info\"],[\"background\",\"#007bff\"],[\"icon\",{\"type\":\"map\",\"entries\":[[\"className\",\"fas fa-info-circle\"],[\"tagName\",\"i\"],[\"color\",\"white\"]]}]]}]}]},{\"type\":\"model\",\"name\":\"Notification\",\"properties\":[{\"name\":\"background\",\"kind\":\"Any\",\"default\":null},{\"name\":\"duration\",\"kind\":\"Any\",\"default\":3000},{\"name\":\"icon\",\"kind\":\"Any\",\"default\":null},{\"name\":\"message\",\"kind\":\"Any\",\"default\":\"\"},{\"name\":\"notification_type\",\"kind\":\"Any\",\"default\":null},{\"name\":\"_destroyed\",\"kind\":\"Any\",\"default\":false}]},{\"type\":\"model\",\"name\":\"TemplateActions1\",\"properties\":[{\"name\":\"open_modal\",\"kind\":\"Any\",\"default\":0},{\"name\":\"close_modal\",\"kind\":\"Any\",\"default\":0}]},{\"type\":\"model\",\"name\":\"BootstrapTemplateActions1\",\"properties\":[{\"name\":\"open_modal\",\"kind\":\"Any\",\"default\":0},{\"name\":\"close_modal\",\"kind\":\"Any\",\"default\":0}]},{\"type\":\"model\",\"name\":\"TemplateEditor1\",\"properties\":[{\"name\":\"layout\",\"kind\":\"Any\",\"default\":[]}]},{\"type\":\"model\",\"name\":\"MaterialTemplateActions1\",\"properties\":[{\"name\":\"open_modal\",\"kind\":\"Any\",\"default\":0},{\"name\":\"close_modal\",\"kind\":\"Any\",\"default\":0}]},{\"type\":\"model\",\"name\":\"ReactiveESM1\"},{\"type\":\"model\",\"name\":\"JSComponent1\"},{\"type\":\"model\",\"name\":\"ReactComponent1\"},{\"type\":\"model\",\"name\":\"AnyWidgetComponent1\"},{\"type\":\"model\",\"name\":\"request_value1\",\"properties\":[{\"name\":\"fill\",\"kind\":\"Any\",\"default\":\"none\"},{\"name\":\"_synced\",\"kind\":\"Any\",\"default\":null},{\"name\":\"_request_sync\",\"kind\":\"Any\",\"default\":0}]}]}};\n",
              "  var render_items = [{\"docid\":\"a615193c-e159-439d-9d98-12df99737da5\",\"roots\":{\"p1013\":\"c45ff44a-55a8-4032-a2af-2872231c5dbf\"},\"root_ids\":[\"p1013\"]}];\n",
              "  var docs = Object.values(docs_json)\n",
              "  if (!docs) {\n",
              "    return\n",
              "  }\n",
              "  const py_version = docs[0].version.replace('rc', '-rc.').replace('.dev', '-dev.')\n",
              "  async function embed_document(root) {\n",
              "    var Bokeh = get_bokeh(root)\n",
              "    await Bokeh.embed.embed_items_notebook(docs_json, render_items);\n",
              "    for (const render_item of render_items) {\n",
              "      for (const root_id of render_item.root_ids) {\n",
              "\tconst id_el = document.getElementById(root_id)\n",
              "\tif (id_el.children.length && id_el.children[0].hasAttribute('data-root-id')) {\n",
              "\t  const root_el = id_el.children[0]\n",
              "\t  root_el.id = root_el.id + '-rendered'\n",
              "\t  for (const child of root_el.children) {\n",
              "            // Ensure JupyterLab does not capture keyboard shortcuts\n",
              "            // see: https://jupyterlab.readthedocs.io/en/4.1.x/extension/notebook.html#keyboard-interaction-model\n",
              "\t    child.setAttribute('data-lm-suppress-shortcuts', 'true')\n",
              "\t  }\n",
              "\t}\n",
              "      }\n",
              "    }\n",
              "  }\n",
              "  function get_bokeh(root) {\n",
              "    if (root.Bokeh === undefined) {\n",
              "      return null\n",
              "    } else if (root.Bokeh.version !== py_version) {\n",
              "      if (root.Bokeh.versions === undefined || !root.Bokeh.versions.has(py_version)) {\n",
              "\treturn null\n",
              "      }\n",
              "      return root.Bokeh.versions.get(py_version);\n",
              "    } else if (root.Bokeh.version === py_version) {\n",
              "      return root.Bokeh\n",
              "    }\n",
              "    return null\n",
              "  }\n",
              "  function is_loaded(root) {\n",
              "    var Bokeh = get_bokeh(root)\n",
              "    return (Bokeh != null && Bokeh.Panel !== undefined)\n",
              "  }\n",
              "  if (is_loaded(root)) {\n",
              "    embed_document(root);\n",
              "  } else {\n",
              "    var attempts = 0;\n",
              "    var timer = setInterval(function(root) {\n",
              "      if (is_loaded(root)) {\n",
              "        clearInterval(timer);\n",
              "        embed_document(root);\n",
              "      } else if (document.readyState == \"complete\") {\n",
              "        attempts++;\n",
              "        if (attempts > 200) {\n",
              "          clearInterval(timer);\n",
              "\t  var Bokeh = get_bokeh(root)\n",
              "\t  if (Bokeh == null || Bokeh.Panel == null) {\n",
              "            console.warn(\"Panel: ERROR: Unable to run Panel code because Bokeh or Panel library is missing\");\n",
              "\t  } else {\n",
              "\t    console.warn(\"Panel: WARNING: Attempting to render but not all required libraries could be resolved.\")\n",
              "\t    embed_document(root)\n",
              "\t  }\n",
              "        }\n",
              "      }\n",
              "    }, 25, root)\n",
              "  }\n",
              "})(window);</script>"
            ],
            "text/plain": [
              ":Overlay\n",
              "   .WMTS.I     :WMTS   [Longitude,Latitude]\n",
              "   .Polygons.I :Polygons   [Longitude,Latitude]"
            ]
          },
          "execution_count": 8,
          "metadata": {
            "application/vnd.holoviews_exec.v0+json": {
              "id": "p1013"
            }
          },
          "output_type": "execute_result"
        }
      ],
      "source": [
        "# create site map with hvplot\n",
        "(\n",
        "    wbd_gdf\n",
        "    .hvplot(\n",
        "        # geographic plot, lat/lon axes\n",
        "        geo=True,\n",
        "        # overlay plot on EsriImagery tiles\n",
        "        tiles='EsriImagery',\n",
        "        # fill color\n",
        "        color='white',\n",
        "        # transparency of fill color\n",
        "        alpha=0.4,\n",
        "        # line color\n",
        "        line_color='red',\n",
        "        # define title\n",
        "        title='080902030506 Watershed Boundary in Louisiana, USA',\n",
        "        # define size of plot\n",
        "        frame_width=400\n",
        "    )\n",
        ")"
      ]
    },
    {
      "cell_type": "markdown",
      "id": "ebfd6cef",
      "metadata": {},
      "source": [
        "<span style=\"color: maroon;\">\n",
        "\n",
        "**SITE DESCRIPTION:**\n",
        "\n",
        "Watershed 080902030506 is in Louisiana, USA, southeast of New Orleans. According to Naitve Land Digital, the watershed is on the Indigenous territories of the [Chahta Yakni (Choctaw)](https://native-land.ca/maps/territories/chahta-choctaw), [Houma](https://native-land.ca/maps/territories/houma-2), and [Chitimacha](https://native-land.ca/maps/territories/chitimacha-2) people. The Mississippi river runs north to south on the east side of the waterhsed. Lake Lery is on the north east side of the watershed. This watershed is in Louisiana's [8th of 9 watersheds](https://watershed.la.gov/watershed-regions). According to [Louisiana's current Region 8 flood risk report](https://d10zxfp0rexahe.cloudfront.net/docs/Region-8-PDF.pdf), this region of Louisiana is subject to 3 main different types of flooding: fluvial/river, costal/surge and tidal, and pluvial/rainfall-induced flash floods and urban flooding. Watershed 080902030506 is also classified as medium-high in the CDC social vulnerability index based on socioeconimic status, household composition and disability, minority status and language, and housing and transportation. \n",
        "\n",
        "</span>\n",
        "\n",
        "Extra links, may or may not use:\n",
        "\n",
        "how's my waterway (water condition info): https://mywaterway.epa.gov/community/080902030506/overview\n",
        "\n",
        "about the wbd: https://www.usgs.gov/national-hydrography/watershed-boundary-dataset\n"
      ]
    },
    {
      "cell_type": "markdown",
      "id": "f9903174-b87c-4026-8564-bd3e62dbfd14",
      "metadata": {},
      "source": [
        "## STEP 3: MULTISPECTRAL DATA\n",
        "\n",
        "### Search for data\n",
        "\n",
        "<link rel=\"stylesheet\" type=\"text/css\" href=\"./assets/styles.css\"><div class=\"callout callout-style-default callout-titled callout-task\"><div class=\"callout-header\"><div class=\"callout-icon-container\"><i class=\"callout-icon\"></i></div><div class=\"callout-title-container flex-fill\">Try It</div></div><div class=\"callout-body-container callout-body\"><ol type=\"1\">\n",
        "<li>Log in to the <code>earthaccess</code> service using your Earthdata\n",
        "credentials:\n",
        "<code>python      earthaccess.login(persist=True)</code></li>\n",
        "<li>Modify the following sample code to search for granules of the\n",
        "HLSL30 product overlapping the watershed boundary from May to October\n",
        "2023 (there should be 76 granules):\n",
        "<code>python      results = earthaccess.search_data(          short_name=\"...\",          cloud_hosted=True,          bounding_box=tuple(gdf.total_bounds),          temporal=(\"...\", \"...\"),      )</code></li>\n",
        "</ol></div></div>"
      ]
    },
    {
      "cell_type": "markdown",
      "id": "e1e30a8d",
      "metadata": {},
      "source": [
        "HLSL30 info from the NASA worldview site:\n",
        "\n",
        "\"The Harmonized Landsat Sentinel-2 (HLS) project brings us 30 meter resolution true color surface reflectance imagery from the Operational Land Imager (OLI) instrument aboard the NASA/USGS Landsat 8 and 9 satellites, and the Multi-Spectral Instrument (MSI) aboard the European Space Agency (ESA) Sentinel-2A and Sentinel-2B satellites.\""
      ]
    },
    {
      "cell_type": "code",
      "execution_count": 9,
      "id": "ec44285e",
      "metadata": {
        "highlight": true
      },
      "outputs": [
        {
          "data": {
            "text/plain": [
              "<earthaccess.auth.Auth at 0x1ad15bc1710>"
            ]
          },
          "execution_count": 9,
          "metadata": {},
          "output_type": "execute_result"
        }
      ],
      "source": [
        "# Log in to earthaccess\n",
        "earthaccess.login(strategy=\"interactive\", persist=True)"
      ]
    },
    {
      "cell_type": "code",
      "execution_count": 10,
      "id": "b0bdc94f",
      "metadata": {},
      "outputs": [
        {
          "data": {
            "text/plain": [
              "[Collection: {'EntryTitle': 'HLS Landsat Operational Land Imager Surface Reflectance and TOA Brightness Daily Global 30m v2.0'}\n",
              " Spatial coverage: {'HorizontalSpatialDomain': {'Geometry': {'GPolygons': [{'Boundary': {'Points': [{'Longitude': -90.07372506, 'Latitude': 28.80444525}, {'Longitude': -89.57473392, 'Latitude': 28.81489352}, {'Longitude': -89.30816409, 'Latitude': 29.81030157}, {'Longitude': -90.10353675, 'Latitude': 29.79400715}, {'Longitude': -90.07372506, 'Latitude': 28.80444525}]}}]}}}\n",
              " Temporal coverage: {'RangeDateTime': {'BeginningDateTime': '2023-05-04T16:31:32.101Z', 'EndingDateTime': '2023-05-04T16:31:55.992Z'}}\n",
              " Size(MB): 87.65197467803955\n",
              " Data: ['https://data.lpdaac.earthdatacloud.nasa.gov/lp-prod-protected/HLSL30.020/HLS.L30.T16RBT.2023124T163132.v2.0/HLS.L30.T16RBT.2023124T163132.v2.0.B03.tif', 'https://data.lpdaac.earthdatacloud.nasa.gov/lp-prod-protected/HLSL30.020/HLS.L30.T16RBT.2023124T163132.v2.0/HLS.L30.T16RBT.2023124T163132.v2.0.B07.tif', 'https://data.lpdaac.earthdatacloud.nasa.gov/lp-prod-protected/HLSL30.020/HLS.L30.T16RBT.2023124T163132.v2.0/HLS.L30.T16RBT.2023124T163132.v2.0.B06.tif', 'https://data.lpdaac.earthdatacloud.nasa.gov/lp-prod-protected/HLSL30.020/HLS.L30.T16RBT.2023124T163132.v2.0/HLS.L30.T16RBT.2023124T163132.v2.0.B02.tif', 'https://data.lpdaac.earthdatacloud.nasa.gov/lp-prod-protected/HLSL30.020/HLS.L30.T16RBT.2023124T163132.v2.0/HLS.L30.T16RBT.2023124T163132.v2.0.B01.tif', 'https://data.lpdaac.earthdatacloud.nasa.gov/lp-prod-protected/HLSL30.020/HLS.L30.T16RBT.2023124T163132.v2.0/HLS.L30.T16RBT.2023124T163132.v2.0.Fmask.tif', 'https://data.lpdaac.earthdatacloud.nasa.gov/lp-prod-protected/HLSL30.020/HLS.L30.T16RBT.2023124T163132.v2.0/HLS.L30.T16RBT.2023124T163132.v2.0.SZA.tif', 'https://data.lpdaac.earthdatacloud.nasa.gov/lp-prod-protected/HLSL30.020/HLS.L30.T16RBT.2023124T163132.v2.0/HLS.L30.T16RBT.2023124T163132.v2.0.SAA.tif', 'https://data.lpdaac.earthdatacloud.nasa.gov/lp-prod-protected/HLSL30.020/HLS.L30.T16RBT.2023124T163132.v2.0/HLS.L30.T16RBT.2023124T163132.v2.0.B05.tif', 'https://data.lpdaac.earthdatacloud.nasa.gov/lp-prod-protected/HLSL30.020/HLS.L30.T16RBT.2023124T163132.v2.0/HLS.L30.T16RBT.2023124T163132.v2.0.VAA.tif', 'https://data.lpdaac.earthdatacloud.nasa.gov/lp-prod-protected/HLSL30.020/HLS.L30.T16RBT.2023124T163132.v2.0/HLS.L30.T16RBT.2023124T163132.v2.0.B10.tif', 'https://data.lpdaac.earthdatacloud.nasa.gov/lp-prod-protected/HLSL30.020/HLS.L30.T16RBT.2023124T163132.v2.0/HLS.L30.T16RBT.2023124T163132.v2.0.B09.tif', 'https://data.lpdaac.earthdatacloud.nasa.gov/lp-prod-protected/HLSL30.020/HLS.L30.T16RBT.2023124T163132.v2.0/HLS.L30.T16RBT.2023124T163132.v2.0.B11.tif', 'https://data.lpdaac.earthdatacloud.nasa.gov/lp-prod-protected/HLSL30.020/HLS.L30.T16RBT.2023124T163132.v2.0/HLS.L30.T16RBT.2023124T163132.v2.0.B04.tif', 'https://data.lpdaac.earthdatacloud.nasa.gov/lp-prod-protected/HLSL30.020/HLS.L30.T16RBT.2023124T163132.v2.0/HLS.L30.T16RBT.2023124T163132.v2.0.VZA.tif'],\n",
              " Collection: {'EntryTitle': 'HLS Landsat Operational Land Imager Surface Reflectance and TOA Brightness Daily Global 30m v2.0'}\n",
              " Spatial coverage: {'HorizontalSpatialDomain': {'Geometry': {'GPolygons': [{'Boundary': {'Points': [{'Longitude': -89.82661214, 'Latitude': 28.80213717}, {'Longitude': -89.79583778, 'Latitude': 29.79160422}, {'Longitude': -90.93082361, 'Latitude': 29.81426153}, {'Longitude': -90.95072084, 'Latitude': 28.82389994}, {'Longitude': -89.82661214, 'Latitude': 28.80213717}]}}]}}}\n",
              " Temporal coverage: {'RangeDateTime': {'BeginningDateTime': '2023-05-04T16:31:32.101Z', 'EndingDateTime': '2023-05-04T16:31:55.992Z'}}\n",
              " Size(MB): 150.90150451660156\n",
              " Data: ['https://data.lpdaac.earthdatacloud.nasa.gov/lp-prod-protected/HLSL30.020/HLS.L30.T15RYN.2023124T163132.v2.0/HLS.L30.T15RYN.2023124T163132.v2.0.B03.tif', 'https://data.lpdaac.earthdatacloud.nasa.gov/lp-prod-protected/HLSL30.020/HLS.L30.T15RYN.2023124T163132.v2.0/HLS.L30.T15RYN.2023124T163132.v2.0.VAA.tif', 'https://data.lpdaac.earthdatacloud.nasa.gov/lp-prod-protected/HLSL30.020/HLS.L30.T15RYN.2023124T163132.v2.0/HLS.L30.T15RYN.2023124T163132.v2.0.B01.tif', 'https://data.lpdaac.earthdatacloud.nasa.gov/lp-prod-protected/HLSL30.020/HLS.L30.T15RYN.2023124T163132.v2.0/HLS.L30.T15RYN.2023124T163132.v2.0.B02.tif', 'https://data.lpdaac.earthdatacloud.nasa.gov/lp-prod-protected/HLSL30.020/HLS.L30.T15RYN.2023124T163132.v2.0/HLS.L30.T15RYN.2023124T163132.v2.0.B06.tif', 'https://data.lpdaac.earthdatacloud.nasa.gov/lp-prod-protected/HLSL30.020/HLS.L30.T15RYN.2023124T163132.v2.0/HLS.L30.T15RYN.2023124T163132.v2.0.B09.tif', 'https://data.lpdaac.earthdatacloud.nasa.gov/lp-prod-protected/HLSL30.020/HLS.L30.T15RYN.2023124T163132.v2.0/HLS.L30.T15RYN.2023124T163132.v2.0.B04.tif', 'https://data.lpdaac.earthdatacloud.nasa.gov/lp-prod-protected/HLSL30.020/HLS.L30.T15RYN.2023124T163132.v2.0/HLS.L30.T15RYN.2023124T163132.v2.0.B10.tif', 'https://data.lpdaac.earthdatacloud.nasa.gov/lp-prod-protected/HLSL30.020/HLS.L30.T15RYN.2023124T163132.v2.0/HLS.L30.T15RYN.2023124T163132.v2.0.VZA.tif', 'https://data.lpdaac.earthdatacloud.nasa.gov/lp-prod-protected/HLSL30.020/HLS.L30.T15RYN.2023124T163132.v2.0/HLS.L30.T15RYN.2023124T163132.v2.0.SZA.tif', 'https://data.lpdaac.earthdatacloud.nasa.gov/lp-prod-protected/HLSL30.020/HLS.L30.T15RYN.2023124T163132.v2.0/HLS.L30.T15RYN.2023124T163132.v2.0.Fmask.tif', 'https://data.lpdaac.earthdatacloud.nasa.gov/lp-prod-protected/HLSL30.020/HLS.L30.T15RYN.2023124T163132.v2.0/HLS.L30.T15RYN.2023124T163132.v2.0.SAA.tif', 'https://data.lpdaac.earthdatacloud.nasa.gov/lp-prod-protected/HLSL30.020/HLS.L30.T15RYN.2023124T163132.v2.0/HLS.L30.T15RYN.2023124T163132.v2.0.B05.tif', 'https://data.lpdaac.earthdatacloud.nasa.gov/lp-prod-protected/HLSL30.020/HLS.L30.T15RYN.2023124T163132.v2.0/HLS.L30.T15RYN.2023124T163132.v2.0.B11.tif', 'https://data.lpdaac.earthdatacloud.nasa.gov/lp-prod-protected/HLSL30.020/HLS.L30.T15RYN.2023124T163132.v2.0/HLS.L30.T15RYN.2023124T163132.v2.0.B07.tif'],\n",
              " Collection: {'EntryTitle': 'HLS Landsat Operational Land Imager Surface Reflectance and TOA Brightness Daily Global 30m v2.0'}\n",
              " Spatial coverage: {'HorizontalSpatialDomain': {'Geometry': {'GPolygons': [{'Boundary': {'Points': [{'Longitude': -89.79864173, 'Latitude': 29.70347853}, {'Longitude': -89.76643746, 'Latitude': 30.69278312}, {'Longitude': -90.91181412, 'Latitude': 30.71627038}, {'Longitude': -90.93263654, 'Latitude': 29.72605548}, {'Longitude': -89.79864173, 'Latitude': 29.70347853}]}}]}}}\n",
              " Temporal coverage: {'RangeDateTime': {'BeginningDateTime': '2023-05-04T16:31:32.101Z', 'EndingDateTime': '2023-05-04T16:31:32.101Z'}}\n",
              " Size(MB): 182.54740524291992\n",
              " Data: ['https://data.lpdaac.earthdatacloud.nasa.gov/lp-prod-protected/HLSL30.020/HLS.L30.T15RYP.2023124T163132.v2.0/HLS.L30.T15RYP.2023124T163132.v2.0.VZA.tif', 'https://data.lpdaac.earthdatacloud.nasa.gov/lp-prod-protected/HLSL30.020/HLS.L30.T15RYP.2023124T163132.v2.0/HLS.L30.T15RYP.2023124T163132.v2.0.B09.tif', 'https://data.lpdaac.earthdatacloud.nasa.gov/lp-prod-protected/HLSL30.020/HLS.L30.T15RYP.2023124T163132.v2.0/HLS.L30.T15RYP.2023124T163132.v2.0.B01.tif', 'https://data.lpdaac.earthdatacloud.nasa.gov/lp-prod-protected/HLSL30.020/HLS.L30.T15RYP.2023124T163132.v2.0/HLS.L30.T15RYP.2023124T163132.v2.0.SAA.tif', 'https://data.lpdaac.earthdatacloud.nasa.gov/lp-prod-protected/HLSL30.020/HLS.L30.T15RYP.2023124T163132.v2.0/HLS.L30.T15RYP.2023124T163132.v2.0.Fmask.tif', 'https://data.lpdaac.earthdatacloud.nasa.gov/lp-prod-protected/HLSL30.020/HLS.L30.T15RYP.2023124T163132.v2.0/HLS.L30.T15RYP.2023124T163132.v2.0.SZA.tif', 'https://data.lpdaac.earthdatacloud.nasa.gov/lp-prod-protected/HLSL30.020/HLS.L30.T15RYP.2023124T163132.v2.0/HLS.L30.T15RYP.2023124T163132.v2.0.B07.tif', 'https://data.lpdaac.earthdatacloud.nasa.gov/lp-prod-protected/HLSL30.020/HLS.L30.T15RYP.2023124T163132.v2.0/HLS.L30.T15RYP.2023124T163132.v2.0.B11.tif', 'https://data.lpdaac.earthdatacloud.nasa.gov/lp-prod-protected/HLSL30.020/HLS.L30.T15RYP.2023124T163132.v2.0/HLS.L30.T15RYP.2023124T163132.v2.0.B02.tif', 'https://data.lpdaac.earthdatacloud.nasa.gov/lp-prod-protected/HLSL30.020/HLS.L30.T15RYP.2023124T163132.v2.0/HLS.L30.T15RYP.2023124T163132.v2.0.B06.tif', 'https://data.lpdaac.earthdatacloud.nasa.gov/lp-prod-protected/HLSL30.020/HLS.L30.T15RYP.2023124T163132.v2.0/HLS.L30.T15RYP.2023124T163132.v2.0.B05.tif', 'https://data.lpdaac.earthdatacloud.nasa.gov/lp-prod-protected/HLSL30.020/HLS.L30.T15RYP.2023124T163132.v2.0/HLS.L30.T15RYP.2023124T163132.v2.0.B04.tif', 'https://data.lpdaac.earthdatacloud.nasa.gov/lp-prod-protected/HLSL30.020/HLS.L30.T15RYP.2023124T163132.v2.0/HLS.L30.T15RYP.2023124T163132.v2.0.B03.tif', 'https://data.lpdaac.earthdatacloud.nasa.gov/lp-prod-protected/HLSL30.020/HLS.L30.T15RYP.2023124T163132.v2.0/HLS.L30.T15RYP.2023124T163132.v2.0.VAA.tif', 'https://data.lpdaac.earthdatacloud.nasa.gov/lp-prod-protected/HLSL30.020/HLS.L30.T15RYP.2023124T163132.v2.0/HLS.L30.T15RYP.2023124T163132.v2.0.B10.tif'],\n",
              " Collection: {'EntryTitle': 'HLS Landsat Operational Land Imager Surface Reflectance and TOA Brightness Daily Global 30m v2.0'}\n",
              " Spatial coverage: {'HorizontalSpatialDomain': {'Geometry': {'GPolygons': [{'Boundary': {'Points': [{'Longitude': -90.10082051, 'Latitude': 29.70587294}, {'Longitude': -89.33186665, 'Latitude': 29.72165875}, {'Longitude': -89.06167519, 'Latitude': 30.71669426}, {'Longitude': -90.13201749, 'Latitude': 30.69527405}, {'Longitude': -90.10082051, 'Latitude': 29.70587294}]}}]}}}\n",
              " Temporal coverage: {'RangeDateTime': {'BeginningDateTime': '2023-05-04T16:31:32.101Z', 'EndingDateTime': '2023-05-04T16:31:32.101Z'}}\n",
              " Size(MB): 145.7371473312378\n",
              " Data: ['https://data.lpdaac.earthdatacloud.nasa.gov/lp-prod-protected/HLSL30.020/HLS.L30.T16RBU.2023124T163132.v2.0/HLS.L30.T16RBU.2023124T163132.v2.0.B11.tif', 'https://data.lpdaac.earthdatacloud.nasa.gov/lp-prod-protected/HLSL30.020/HLS.L30.T16RBU.2023124T163132.v2.0/HLS.L30.T16RBU.2023124T163132.v2.0.B09.tif', 'https://data.lpdaac.earthdatacloud.nasa.gov/lp-prod-protected/HLSL30.020/HLS.L30.T16RBU.2023124T163132.v2.0/HLS.L30.T16RBU.2023124T163132.v2.0.B07.tif', 'https://data.lpdaac.earthdatacloud.nasa.gov/lp-prod-protected/HLSL30.020/HLS.L30.T16RBU.2023124T163132.v2.0/HLS.L30.T16RBU.2023124T163132.v2.0.B10.tif', 'https://data.lpdaac.earthdatacloud.nasa.gov/lp-prod-protected/HLSL30.020/HLS.L30.T16RBU.2023124T163132.v2.0/HLS.L30.T16RBU.2023124T163132.v2.0.B06.tif', 'https://data.lpdaac.earthdatacloud.nasa.gov/lp-prod-protected/HLSL30.020/HLS.L30.T16RBU.2023124T163132.v2.0/HLS.L30.T16RBU.2023124T163132.v2.0.SZA.tif', 'https://data.lpdaac.earthdatacloud.nasa.gov/lp-prod-protected/HLSL30.020/HLS.L30.T16RBU.2023124T163132.v2.0/HLS.L30.T16RBU.2023124T163132.v2.0.B02.tif', 'https://data.lpdaac.earthdatacloud.nasa.gov/lp-prod-protected/HLSL30.020/HLS.L30.T16RBU.2023124T163132.v2.0/HLS.L30.T16RBU.2023124T163132.v2.0.SAA.tif', 'https://data.lpdaac.earthdatacloud.nasa.gov/lp-prod-protected/HLSL30.020/HLS.L30.T16RBU.2023124T163132.v2.0/HLS.L30.T16RBU.2023124T163132.v2.0.B04.tif', 'https://data.lpdaac.earthdatacloud.nasa.gov/lp-prod-protected/HLSL30.020/HLS.L30.T16RBU.2023124T163132.v2.0/HLS.L30.T16RBU.2023124T163132.v2.0.VZA.tif', 'https://data.lpdaac.earthdatacloud.nasa.gov/lp-prod-protected/HLSL30.020/HLS.L30.T16RBU.2023124T163132.v2.0/HLS.L30.T16RBU.2023124T163132.v2.0.Fmask.tif', 'https://data.lpdaac.earthdatacloud.nasa.gov/lp-prod-protected/HLSL30.020/HLS.L30.T16RBU.2023124T163132.v2.0/HLS.L30.T16RBU.2023124T163132.v2.0.VAA.tif', 'https://data.lpdaac.earthdatacloud.nasa.gov/lp-prod-protected/HLSL30.020/HLS.L30.T16RBU.2023124T163132.v2.0/HLS.L30.T16RBU.2023124T163132.v2.0.B01.tif', 'https://data.lpdaac.earthdatacloud.nasa.gov/lp-prod-protected/HLSL30.020/HLS.L30.T16RBU.2023124T163132.v2.0/HLS.L30.T16RBU.2023124T163132.v2.0.B05.tif', 'https://data.lpdaac.earthdatacloud.nasa.gov/lp-prod-protected/HLSL30.020/HLS.L30.T16RBU.2023124T163132.v2.0/HLS.L30.T16RBU.2023124T163132.v2.0.B03.tif'],\n",
              " Collection: {'EntryTitle': 'HLS Landsat Operational Land Imager Surface Reflectance and TOA Brightness Daily Global 30m v2.0'}\n",
              " Spatial coverage: {'HorizontalSpatialDomain': {'Geometry': {'GPolygons': [{'Boundary': {'Points': [{'Longitude': -90.07372506, 'Latitude': 28.80444525}, {'Longitude': -89.56183352, 'Latitude': 28.81513915}, {'Longitude': -89.29513529, 'Latitude': 29.81052861}, {'Longitude': -90.10353675, 'Latitude': 29.79400715}, {'Longitude': -90.07372506, 'Latitude': 28.80444525}]}}]}}}\n",
              " Temporal coverage: {'RangeDateTime': {'BeginningDateTime': '2023-05-12T16:31:44.329Z', 'EndingDateTime': '2023-05-12T16:32:08.220Z'}}\n",
              " Size(MB): 98.77182960510254\n",
              " Data: ['https://data.lpdaac.earthdatacloud.nasa.gov/lp-prod-protected/HLSL30.020/HLS.L30.T16RBT.2023132T163144.v2.0/HLS.L30.T16RBT.2023132T163144.v2.0.B02.tif', 'https://data.lpdaac.earthdatacloud.nasa.gov/lp-prod-protected/HLSL30.020/HLS.L30.T16RBT.2023132T163144.v2.0/HLS.L30.T16RBT.2023132T163144.v2.0.Fmask.tif', 'https://data.lpdaac.earthdatacloud.nasa.gov/lp-prod-protected/HLSL30.020/HLS.L30.T16RBT.2023132T163144.v2.0/HLS.L30.T16RBT.2023132T163144.v2.0.B01.tif', 'https://data.lpdaac.earthdatacloud.nasa.gov/lp-prod-protected/HLSL30.020/HLS.L30.T16RBT.2023132T163144.v2.0/HLS.L30.T16RBT.2023132T163144.v2.0.B03.tif', 'https://data.lpdaac.earthdatacloud.nasa.gov/lp-prod-protected/HLSL30.020/HLS.L30.T16RBT.2023132T163144.v2.0/HLS.L30.T16RBT.2023132T163144.v2.0.B07.tif', 'https://data.lpdaac.earthdatacloud.nasa.gov/lp-prod-protected/HLSL30.020/HLS.L30.T16RBT.2023132T163144.v2.0/HLS.L30.T16RBT.2023132T163144.v2.0.B10.tif', 'https://data.lpdaac.earthdatacloud.nasa.gov/lp-prod-protected/HLSL30.020/HLS.L30.T16RBT.2023132T163144.v2.0/HLS.L30.T16RBT.2023132T163144.v2.0.SZA.tif', 'https://data.lpdaac.earthdatacloud.nasa.gov/lp-prod-protected/HLSL30.020/HLS.L30.T16RBT.2023132T163144.v2.0/HLS.L30.T16RBT.2023132T163144.v2.0.B04.tif', 'https://data.lpdaac.earthdatacloud.nasa.gov/lp-prod-protected/HLSL30.020/HLS.L30.T16RBT.2023132T163144.v2.0/HLS.L30.T16RBT.2023132T163144.v2.0.VZA.tif', 'https://data.lpdaac.earthdatacloud.nasa.gov/lp-prod-protected/HLSL30.020/HLS.L30.T16RBT.2023132T163144.v2.0/HLS.L30.T16RBT.2023132T163144.v2.0.SAA.tif', 'https://data.lpdaac.earthdatacloud.nasa.gov/lp-prod-protected/HLSL30.020/HLS.L30.T16RBT.2023132T163144.v2.0/HLS.L30.T16RBT.2023132T163144.v2.0.VAA.tif', 'https://data.lpdaac.earthdatacloud.nasa.gov/lp-prod-protected/HLSL30.020/HLS.L30.T16RBT.2023132T163144.v2.0/HLS.L30.T16RBT.2023132T163144.v2.0.B11.tif', 'https://data.lpdaac.earthdatacloud.nasa.gov/lp-prod-protected/HLSL30.020/HLS.L30.T16RBT.2023132T163144.v2.0/HLS.L30.T16RBT.2023132T163144.v2.0.B09.tif', 'https://data.lpdaac.earthdatacloud.nasa.gov/lp-prod-protected/HLSL30.020/HLS.L30.T16RBT.2023132T163144.v2.0/HLS.L30.T16RBT.2023132T163144.v2.0.B05.tif', 'https://data.lpdaac.earthdatacloud.nasa.gov/lp-prod-protected/HLSL30.020/HLS.L30.T16RBT.2023132T163144.v2.0/HLS.L30.T16RBT.2023132T163144.v2.0.B06.tif'],\n",
              " Collection: {'EntryTitle': 'HLS Landsat Operational Land Imager Surface Reflectance and TOA Brightness Daily Global 30m v2.0'}\n",
              " Spatial coverage: {'HorizontalSpatialDomain': {'Geometry': {'GPolygons': [{'Boundary': {'Points': [{'Longitude': -89.79864173, 'Latitude': 29.70347853}, {'Longitude': -89.76643746, 'Latitude': 30.69278312}, {'Longitude': -90.91181412, 'Latitude': 30.71627038}, {'Longitude': -90.93263654, 'Latitude': 29.72605548}, {'Longitude': -89.79864173, 'Latitude': 29.70347853}]}}]}}}\n",
              " Temporal coverage: {'RangeDateTime': {'BeginningDateTime': '2023-05-12T16:31:44.329Z', 'EndingDateTime': '2023-05-12T16:31:44.329Z'}}\n",
              " Size(MB): 193.45716381072998\n",
              " Data: ['https://data.lpdaac.earthdatacloud.nasa.gov/lp-prod-protected/HLSL30.020/HLS.L30.T15RYP.2023132T163144.v2.0/HLS.L30.T15RYP.2023132T163144.v2.0.SAA.tif', 'https://data.lpdaac.earthdatacloud.nasa.gov/lp-prod-protected/HLSL30.020/HLS.L30.T15RYP.2023132T163144.v2.0/HLS.L30.T15RYP.2023132T163144.v2.0.B06.tif', 'https://data.lpdaac.earthdatacloud.nasa.gov/lp-prod-protected/HLSL30.020/HLS.L30.T15RYP.2023132T163144.v2.0/HLS.L30.T15RYP.2023132T163144.v2.0.B07.tif', 'https://data.lpdaac.earthdatacloud.nasa.gov/lp-prod-protected/HLSL30.020/HLS.L30.T15RYP.2023132T163144.v2.0/HLS.L30.T15RYP.2023132T163144.v2.0.Fmask.tif', 'https://data.lpdaac.earthdatacloud.nasa.gov/lp-prod-protected/HLSL30.020/HLS.L30.T15RYP.2023132T163144.v2.0/HLS.L30.T15RYP.2023132T163144.v2.0.B03.tif', 'https://data.lpdaac.earthdatacloud.nasa.gov/lp-prod-protected/HLSL30.020/HLS.L30.T15RYP.2023132T163144.v2.0/HLS.L30.T15RYP.2023132T163144.v2.0.B11.tif', 'https://data.lpdaac.earthdatacloud.nasa.gov/lp-prod-protected/HLSL30.020/HLS.L30.T15RYP.2023132T163144.v2.0/HLS.L30.T15RYP.2023132T163144.v2.0.B01.tif', 'https://data.lpdaac.earthdatacloud.nasa.gov/lp-prod-protected/HLSL30.020/HLS.L30.T15RYP.2023132T163144.v2.0/HLS.L30.T15RYP.2023132T163144.v2.0.B04.tif', 'https://data.lpdaac.earthdatacloud.nasa.gov/lp-prod-protected/HLSL30.020/HLS.L30.T15RYP.2023132T163144.v2.0/HLS.L30.T15RYP.2023132T163144.v2.0.B10.tif', 'https://data.lpdaac.earthdatacloud.nasa.gov/lp-prod-protected/HLSL30.020/HLS.L30.T15RYP.2023132T163144.v2.0/HLS.L30.T15RYP.2023132T163144.v2.0.B05.tif', 'https://data.lpdaac.earthdatacloud.nasa.gov/lp-prod-protected/HLSL30.020/HLS.L30.T15RYP.2023132T163144.v2.0/HLS.L30.T15RYP.2023132T163144.v2.0.VAA.tif', 'https://data.lpdaac.earthdatacloud.nasa.gov/lp-prod-protected/HLSL30.020/HLS.L30.T15RYP.2023132T163144.v2.0/HLS.L30.T15RYP.2023132T163144.v2.0.B09.tif', 'https://data.lpdaac.earthdatacloud.nasa.gov/lp-prod-protected/HLSL30.020/HLS.L30.T15RYP.2023132T163144.v2.0/HLS.L30.T15RYP.2023132T163144.v2.0.VZA.tif', 'https://data.lpdaac.earthdatacloud.nasa.gov/lp-prod-protected/HLSL30.020/HLS.L30.T15RYP.2023132T163144.v2.0/HLS.L30.T15RYP.2023132T163144.v2.0.SZA.tif', 'https://data.lpdaac.earthdatacloud.nasa.gov/lp-prod-protected/HLSL30.020/HLS.L30.T15RYP.2023132T163144.v2.0/HLS.L30.T15RYP.2023132T163144.v2.0.B02.tif'],\n",
              " Collection: {'EntryTitle': 'HLS Landsat Operational Land Imager Surface Reflectance and TOA Brightness Daily Global 30m v2.0'}\n",
              " Spatial coverage: {'HorizontalSpatialDomain': {'Geometry': {'GPolygons': [{'Boundary': {'Points': [{'Longitude': -89.82661214, 'Latitude': 28.80213717}, {'Longitude': -89.79583778, 'Latitude': 29.79160422}, {'Longitude': -90.93082361, 'Latitude': 29.81426153}, {'Longitude': -90.95072084, 'Latitude': 28.82389994}, {'Longitude': -89.82661214, 'Latitude': 28.80213717}]}}]}}}\n",
              " Temporal coverage: {'RangeDateTime': {'BeginningDateTime': '2023-05-12T16:31:44.329Z', 'EndingDateTime': '2023-05-12T16:32:08.220Z'}}\n",
              " Size(MB): 178.97075939178467\n",
              " Data: ['https://data.lpdaac.earthdatacloud.nasa.gov/lp-prod-protected/HLSL30.020/HLS.L30.T15RYN.2023132T163144.v2.0/HLS.L30.T15RYN.2023132T163144.v2.0.B09.tif', 'https://data.lpdaac.earthdatacloud.nasa.gov/lp-prod-protected/HLSL30.020/HLS.L30.T15RYN.2023132T163144.v2.0/HLS.L30.T15RYN.2023132T163144.v2.0.B07.tif', 'https://data.lpdaac.earthdatacloud.nasa.gov/lp-prod-protected/HLSL30.020/HLS.L30.T15RYN.2023132T163144.v2.0/HLS.L30.T15RYN.2023132T163144.v2.0.B06.tif', 'https://data.lpdaac.earthdatacloud.nasa.gov/lp-prod-protected/HLSL30.020/HLS.L30.T15RYN.2023132T163144.v2.0/HLS.L30.T15RYN.2023132T163144.v2.0.B04.tif', 'https://data.lpdaac.earthdatacloud.nasa.gov/lp-prod-protected/HLSL30.020/HLS.L30.T15RYN.2023132T163144.v2.0/HLS.L30.T15RYN.2023132T163144.v2.0.B02.tif', 'https://data.lpdaac.earthdatacloud.nasa.gov/lp-prod-protected/HLSL30.020/HLS.L30.T15RYN.2023132T163144.v2.0/HLS.L30.T15RYN.2023132T163144.v2.0.B05.tif', 'https://data.lpdaac.earthdatacloud.nasa.gov/lp-prod-protected/HLSL30.020/HLS.L30.T15RYN.2023132T163144.v2.0/HLS.L30.T15RYN.2023132T163144.v2.0.VAA.tif', 'https://data.lpdaac.earthdatacloud.nasa.gov/lp-prod-protected/HLSL30.020/HLS.L30.T15RYN.2023132T163144.v2.0/HLS.L30.T15RYN.2023132T163144.v2.0.VZA.tif', 'https://data.lpdaac.earthdatacloud.nasa.gov/lp-prod-protected/HLSL30.020/HLS.L30.T15RYN.2023132T163144.v2.0/HLS.L30.T15RYN.2023132T163144.v2.0.B10.tif', 'https://data.lpdaac.earthdatacloud.nasa.gov/lp-prod-protected/HLSL30.020/HLS.L30.T15RYN.2023132T163144.v2.0/HLS.L30.T15RYN.2023132T163144.v2.0.SAA.tif', 'https://data.lpdaac.earthdatacloud.nasa.gov/lp-prod-protected/HLSL30.020/HLS.L30.T15RYN.2023132T163144.v2.0/HLS.L30.T15RYN.2023132T163144.v2.0.B11.tif', 'https://data.lpdaac.earthdatacloud.nasa.gov/lp-prod-protected/HLSL30.020/HLS.L30.T15RYN.2023132T163144.v2.0/HLS.L30.T15RYN.2023132T163144.v2.0.B01.tif', 'https://data.lpdaac.earthdatacloud.nasa.gov/lp-prod-protected/HLSL30.020/HLS.L30.T15RYN.2023132T163144.v2.0/HLS.L30.T15RYN.2023132T163144.v2.0.SZA.tif', 'https://data.lpdaac.earthdatacloud.nasa.gov/lp-prod-protected/HLSL30.020/HLS.L30.T15RYN.2023132T163144.v2.0/HLS.L30.T15RYN.2023132T163144.v2.0.B03.tif', 'https://data.lpdaac.earthdatacloud.nasa.gov/lp-prod-protected/HLSL30.020/HLS.L30.T15RYN.2023132T163144.v2.0/HLS.L30.T15RYN.2023132T163144.v2.0.Fmask.tif'],\n",
              " Collection: {'EntryTitle': 'HLS Landsat Operational Land Imager Surface Reflectance and TOA Brightness Daily Global 30m v2.0'}\n",
              " Spatial coverage: {'HorizontalSpatialDomain': {'Geometry': {'GPolygons': [{'Boundary': {'Points': [{'Longitude': -90.10082051, 'Latitude': 29.70587294}, {'Longitude': -89.31884953, 'Latitude': 29.7218875}, {'Longitude': -89.04852401, 'Latitude': 30.71690253}, {'Longitude': -90.13201749, 'Latitude': 30.69527405}, {'Longitude': -90.10082051, 'Latitude': 29.70587294}]}}]}}}\n",
              " Temporal coverage: {'RangeDateTime': {'BeginningDateTime': '2023-05-12T16:31:44.329Z', 'EndingDateTime': '2023-05-12T16:31:44.329Z'}}\n",
              " Size(MB): 163.3755807876587\n",
              " Data: ['https://data.lpdaac.earthdatacloud.nasa.gov/lp-prod-protected/HLSL30.020/HLS.L30.T16RBU.2023132T163144.v2.0/HLS.L30.T16RBU.2023132T163144.v2.0.VZA.tif', 'https://data.lpdaac.earthdatacloud.nasa.gov/lp-prod-protected/HLSL30.020/HLS.L30.T16RBU.2023132T163144.v2.0/HLS.L30.T16RBU.2023132T163144.v2.0.SZA.tif', 'https://data.lpdaac.earthdatacloud.nasa.gov/lp-prod-protected/HLSL30.020/HLS.L30.T16RBU.2023132T163144.v2.0/HLS.L30.T16RBU.2023132T163144.v2.0.B11.tif', 'https://data.lpdaac.earthdatacloud.nasa.gov/lp-prod-protected/HLSL30.020/HLS.L30.T16RBU.2023132T163144.v2.0/HLS.L30.T16RBU.2023132T163144.v2.0.B03.tif', 'https://data.lpdaac.earthdatacloud.nasa.gov/lp-prod-protected/HLSL30.020/HLS.L30.T16RBU.2023132T163144.v2.0/HLS.L30.T16RBU.2023132T163144.v2.0.B10.tif', 'https://data.lpdaac.earthdatacloud.nasa.gov/lp-prod-protected/HLSL30.020/HLS.L30.T16RBU.2023132T163144.v2.0/HLS.L30.T16RBU.2023132T163144.v2.0.B02.tif', 'https://data.lpdaac.earthdatacloud.nasa.gov/lp-prod-protected/HLSL30.020/HLS.L30.T16RBU.2023132T163144.v2.0/HLS.L30.T16RBU.2023132T163144.v2.0.B05.tif', 'https://data.lpdaac.earthdatacloud.nasa.gov/lp-prod-protected/HLSL30.020/HLS.L30.T16RBU.2023132T163144.v2.0/HLS.L30.T16RBU.2023132T163144.v2.0.B04.tif', 'https://data.lpdaac.earthdatacloud.nasa.gov/lp-prod-protected/HLSL30.020/HLS.L30.T16RBU.2023132T163144.v2.0/HLS.L30.T16RBU.2023132T163144.v2.0.SAA.tif', 'https://data.lpdaac.earthdatacloud.nasa.gov/lp-prod-protected/HLSL30.020/HLS.L30.T16RBU.2023132T163144.v2.0/HLS.L30.T16RBU.2023132T163144.v2.0.B01.tif', 'https://data.lpdaac.earthdatacloud.nasa.gov/lp-prod-protected/HLSL30.020/HLS.L30.T16RBU.2023132T163144.v2.0/HLS.L30.T16RBU.2023132T163144.v2.0.VAA.tif', 'https://data.lpdaac.earthdatacloud.nasa.gov/lp-prod-protected/HLSL30.020/HLS.L30.T16RBU.2023132T163144.v2.0/HLS.L30.T16RBU.2023132T163144.v2.0.B06.tif', 'https://data.lpdaac.earthdatacloud.nasa.gov/lp-prod-protected/HLSL30.020/HLS.L30.T16RBU.2023132T163144.v2.0/HLS.L30.T16RBU.2023132T163144.v2.0.B07.tif', 'https://data.lpdaac.earthdatacloud.nasa.gov/lp-prod-protected/HLSL30.020/HLS.L30.T16RBU.2023132T163144.v2.0/HLS.L30.T16RBU.2023132T163144.v2.0.Fmask.tif', 'https://data.lpdaac.earthdatacloud.nasa.gov/lp-prod-protected/HLSL30.020/HLS.L30.T16RBU.2023132T163144.v2.0/HLS.L30.T16RBU.2023132T163144.v2.0.B09.tif'],\n",
              " Collection: {'EntryTitle': 'HLS Landsat Operational Land Imager Surface Reflectance and TOA Brightness Daily Global 30m v2.0'}\n",
              " Spatial coverage: {'HorizontalSpatialDomain': {'Geometry': {'GPolygons': [{'Boundary': {'Points': [{'Longitude': -89.79864173, 'Latitude': 29.70347853}, {'Longitude': -89.76643746, 'Latitude': 30.69278312}, {'Longitude': -90.91181412, 'Latitude': 30.71627038}, {'Longitude': -90.93263654, 'Latitude': 29.72605548}, {'Longitude': -89.79864173, 'Latitude': 29.70347853}]}}]}}}\n",
              " Temporal coverage: {'RangeDateTime': {'BeginningDateTime': '2023-05-20T16:31:23.029Z', 'EndingDateTime': '2023-05-20T16:31:23.029Z'}}\n",
              " Size(MB): 185.5339870452881\n",
              " Data: ['https://data.lpdaac.earthdatacloud.nasa.gov/lp-prod-protected/HLSL30.020/HLS.L30.T15RYP.2023140T163123.v2.0/HLS.L30.T15RYP.2023140T163123.v2.0.B05.tif', 'https://data.lpdaac.earthdatacloud.nasa.gov/lp-prod-protected/HLSL30.020/HLS.L30.T15RYP.2023140T163123.v2.0/HLS.L30.T15RYP.2023140T163123.v2.0.B11.tif', 'https://data.lpdaac.earthdatacloud.nasa.gov/lp-prod-protected/HLSL30.020/HLS.L30.T15RYP.2023140T163123.v2.0/HLS.L30.T15RYP.2023140T163123.v2.0.B07.tif', 'https://data.lpdaac.earthdatacloud.nasa.gov/lp-prod-protected/HLSL30.020/HLS.L30.T15RYP.2023140T163123.v2.0/HLS.L30.T15RYP.2023140T163123.v2.0.VZA.tif', 'https://data.lpdaac.earthdatacloud.nasa.gov/lp-prod-protected/HLSL30.020/HLS.L30.T15RYP.2023140T163123.v2.0/HLS.L30.T15RYP.2023140T163123.v2.0.B10.tif', 'https://data.lpdaac.earthdatacloud.nasa.gov/lp-prod-protected/HLSL30.020/HLS.L30.T15RYP.2023140T163123.v2.0/HLS.L30.T15RYP.2023140T163123.v2.0.SZA.tif', 'https://data.lpdaac.earthdatacloud.nasa.gov/lp-prod-protected/HLSL30.020/HLS.L30.T15RYP.2023140T163123.v2.0/HLS.L30.T15RYP.2023140T163123.v2.0.B04.tif', 'https://data.lpdaac.earthdatacloud.nasa.gov/lp-prod-protected/HLSL30.020/HLS.L30.T15RYP.2023140T163123.v2.0/HLS.L30.T15RYP.2023140T163123.v2.0.B03.tif', 'https://data.lpdaac.earthdatacloud.nasa.gov/lp-prod-protected/HLSL30.020/HLS.L30.T15RYP.2023140T163123.v2.0/HLS.L30.T15RYP.2023140T163123.v2.0.VAA.tif', 'https://data.lpdaac.earthdatacloud.nasa.gov/lp-prod-protected/HLSL30.020/HLS.L30.T15RYP.2023140T163123.v2.0/HLS.L30.T15RYP.2023140T163123.v2.0.B06.tif', 'https://data.lpdaac.earthdatacloud.nasa.gov/lp-prod-protected/HLSL30.020/HLS.L30.T15RYP.2023140T163123.v2.0/HLS.L30.T15RYP.2023140T163123.v2.0.SAA.tif', 'https://data.lpdaac.earthdatacloud.nasa.gov/lp-prod-protected/HLSL30.020/HLS.L30.T15RYP.2023140T163123.v2.0/HLS.L30.T15RYP.2023140T163123.v2.0.B09.tif', 'https://data.lpdaac.earthdatacloud.nasa.gov/lp-prod-protected/HLSL30.020/HLS.L30.T15RYP.2023140T163123.v2.0/HLS.L30.T15RYP.2023140T163123.v2.0.B02.tif', 'https://data.lpdaac.earthdatacloud.nasa.gov/lp-prod-protected/HLSL30.020/HLS.L30.T15RYP.2023140T163123.v2.0/HLS.L30.T15RYP.2023140T163123.v2.0.B01.tif', 'https://data.lpdaac.earthdatacloud.nasa.gov/lp-prod-protected/HLSL30.020/HLS.L30.T15RYP.2023140T163123.v2.0/HLS.L30.T15RYP.2023140T163123.v2.0.Fmask.tif'],\n",
              " Collection: {'EntryTitle': 'HLS Landsat Operational Land Imager Surface Reflectance and TOA Brightness Daily Global 30m v2.0'}\n",
              " Spatial coverage: {'HorizontalSpatialDomain': {'Geometry': {'GPolygons': [{'Boundary': {'Points': [{'Longitude': -90.07372506, 'Latitude': 28.80444525}, {'Longitude': -89.54433872, 'Latitude': 28.81601158}, {'Longitude': -89.27714289, 'Latitude': 29.81084001}, {'Longitude': -90.10353675, 'Latitude': 29.79400715}, {'Longitude': -90.07372506, 'Latitude': 28.80444525}]}}]}}}\n",
              " Temporal coverage: {'RangeDateTime': {'BeginningDateTime': '2023-05-20T16:31:23.029Z', 'EndingDateTime': '2023-05-20T16:31:46.925Z'}}\n",
              " Size(MB): 112.42044067382812\n",
              " Data: ['https://data.lpdaac.earthdatacloud.nasa.gov/lp-prod-protected/HLSL30.020/HLS.L30.T16RBT.2023140T163123.v2.0/HLS.L30.T16RBT.2023140T163123.v2.0.B03.tif', 'https://data.lpdaac.earthdatacloud.nasa.gov/lp-prod-protected/HLSL30.020/HLS.L30.T16RBT.2023140T163123.v2.0/HLS.L30.T16RBT.2023140T163123.v2.0.B07.tif', 'https://data.lpdaac.earthdatacloud.nasa.gov/lp-prod-protected/HLSL30.020/HLS.L30.T16RBT.2023140T163123.v2.0/HLS.L30.T16RBT.2023140T163123.v2.0.VAA.tif', 'https://data.lpdaac.earthdatacloud.nasa.gov/lp-prod-protected/HLSL30.020/HLS.L30.T16RBT.2023140T163123.v2.0/HLS.L30.T16RBT.2023140T163123.v2.0.Fmask.tif', 'https://data.lpdaac.earthdatacloud.nasa.gov/lp-prod-protected/HLSL30.020/HLS.L30.T16RBT.2023140T163123.v2.0/HLS.L30.T16RBT.2023140T163123.v2.0.B06.tif', 'https://data.lpdaac.earthdatacloud.nasa.gov/lp-prod-protected/HLSL30.020/HLS.L30.T16RBT.2023140T163123.v2.0/HLS.L30.T16RBT.2023140T163123.v2.0.B04.tif', 'https://data.lpdaac.earthdatacloud.nasa.gov/lp-prod-protected/HLSL30.020/HLS.L30.T16RBT.2023140T163123.v2.0/HLS.L30.T16RBT.2023140T163123.v2.0.VZA.tif', 'https://data.lpdaac.earthdatacloud.nasa.gov/lp-prod-protected/HLSL30.020/HLS.L30.T16RBT.2023140T163123.v2.0/HLS.L30.T16RBT.2023140T163123.v2.0.B11.tif', 'https://data.lpdaac.earthdatacloud.nasa.gov/lp-prod-protected/HLSL30.020/HLS.L30.T16RBT.2023140T163123.v2.0/HLS.L30.T16RBT.2023140T163123.v2.0.SAA.tif', 'https://data.lpdaac.earthdatacloud.nasa.gov/lp-prod-protected/HLSL30.020/HLS.L30.T16RBT.2023140T163123.v2.0/HLS.L30.T16RBT.2023140T163123.v2.0.B01.tif', 'https://data.lpdaac.earthdatacloud.nasa.gov/lp-prod-protected/HLSL30.020/HLS.L30.T16RBT.2023140T163123.v2.0/HLS.L30.T16RBT.2023140T163123.v2.0.B09.tif', 'https://data.lpdaac.earthdatacloud.nasa.gov/lp-prod-protected/HLSL30.020/HLS.L30.T16RBT.2023140T163123.v2.0/HLS.L30.T16RBT.2023140T163123.v2.0.SZA.tif', 'https://data.lpdaac.earthdatacloud.nasa.gov/lp-prod-protected/HLSL30.020/HLS.L30.T16RBT.2023140T163123.v2.0/HLS.L30.T16RBT.2023140T163123.v2.0.B10.tif', 'https://data.lpdaac.earthdatacloud.nasa.gov/lp-prod-protected/HLSL30.020/HLS.L30.T16RBT.2023140T163123.v2.0/HLS.L30.T16RBT.2023140T163123.v2.0.B05.tif', 'https://data.lpdaac.earthdatacloud.nasa.gov/lp-prod-protected/HLSL30.020/HLS.L30.T16RBT.2023140T163123.v2.0/HLS.L30.T16RBT.2023140T163123.v2.0.B02.tif'],\n",
              " Collection: {'EntryTitle': 'HLS Landsat Operational Land Imager Surface Reflectance and TOA Brightness Daily Global 30m v2.0'}\n",
              " Spatial coverage: {'HorizontalSpatialDomain': {'Geometry': {'GPolygons': [{'Boundary': {'Points': [{'Longitude': -90.10082051, 'Latitude': 29.70587294}, {'Longitude': -89.30087327, 'Latitude': 29.72220129}, {'Longitude': -89.02973637, 'Latitude': 30.71719774}, {'Longitude': -90.13201749, 'Latitude': 30.69527405}, {'Longitude': -90.10082051, 'Latitude': 29.70587294}]}}]}}}\n",
              " Temporal coverage: {'RangeDateTime': {'BeginningDateTime': '2023-05-20T16:31:23.029Z', 'EndingDateTime': '2023-05-20T16:31:23.029Z'}}\n",
              " Size(MB): 154.05752277374268\n",
              " Data: ['https://data.lpdaac.earthdatacloud.nasa.gov/lp-prod-protected/HLSL30.020/HLS.L30.T16RBU.2023140T163123.v2.0/HLS.L30.T16RBU.2023140T163123.v2.0.SZA.tif', 'https://data.lpdaac.earthdatacloud.nasa.gov/lp-prod-protected/HLSL30.020/HLS.L30.T16RBU.2023140T163123.v2.0/HLS.L30.T16RBU.2023140T163123.v2.0.VAA.tif', 'https://data.lpdaac.earthdatacloud.nasa.gov/lp-prod-protected/HLSL30.020/HLS.L30.T16RBU.2023140T163123.v2.0/HLS.L30.T16RBU.2023140T163123.v2.0.VZA.tif', 'https://data.lpdaac.earthdatacloud.nasa.gov/lp-prod-protected/HLSL30.020/HLS.L30.T16RBU.2023140T163123.v2.0/HLS.L30.T16RBU.2023140T163123.v2.0.B02.tif', 'https://data.lpdaac.earthdatacloud.nasa.gov/lp-prod-protected/HLSL30.020/HLS.L30.T16RBU.2023140T163123.v2.0/HLS.L30.T16RBU.2023140T163123.v2.0.Fmask.tif', 'https://data.lpdaac.earthdatacloud.nasa.gov/lp-prod-protected/HLSL30.020/HLS.L30.T16RBU.2023140T163123.v2.0/HLS.L30.T16RBU.2023140T163123.v2.0.B05.tif', 'https://data.lpdaac.earthdatacloud.nasa.gov/lp-prod-protected/HLSL30.020/HLS.L30.T16RBU.2023140T163123.v2.0/HLS.L30.T16RBU.2023140T163123.v2.0.B07.tif', 'https://data.lpdaac.earthdatacloud.nasa.gov/lp-prod-protected/HLSL30.020/HLS.L30.T16RBU.2023140T163123.v2.0/HLS.L30.T16RBU.2023140T163123.v2.0.B09.tif', 'https://data.lpdaac.earthdatacloud.nasa.gov/lp-prod-protected/HLSL30.020/HLS.L30.T16RBU.2023140T163123.v2.0/HLS.L30.T16RBU.2023140T163123.v2.0.B04.tif', 'https://data.lpdaac.earthdatacloud.nasa.gov/lp-prod-protected/HLSL30.020/HLS.L30.T16RBU.2023140T163123.v2.0/HLS.L30.T16RBU.2023140T163123.v2.0.B06.tif', 'https://data.lpdaac.earthdatacloud.nasa.gov/lp-prod-protected/HLSL30.020/HLS.L30.T16RBU.2023140T163123.v2.0/HLS.L30.T16RBU.2023140T163123.v2.0.B10.tif', 'https://data.lpdaac.earthdatacloud.nasa.gov/lp-prod-protected/HLSL30.020/HLS.L30.T16RBU.2023140T163123.v2.0/HLS.L30.T16RBU.2023140T163123.v2.0.B11.tif', 'https://data.lpdaac.earthdatacloud.nasa.gov/lp-prod-protected/HLSL30.020/HLS.L30.T16RBU.2023140T163123.v2.0/HLS.L30.T16RBU.2023140T163123.v2.0.SAA.tif', 'https://data.lpdaac.earthdatacloud.nasa.gov/lp-prod-protected/HLSL30.020/HLS.L30.T16RBU.2023140T163123.v2.0/HLS.L30.T16RBU.2023140T163123.v2.0.B01.tif', 'https://data.lpdaac.earthdatacloud.nasa.gov/lp-prod-protected/HLSL30.020/HLS.L30.T16RBU.2023140T163123.v2.0/HLS.L30.T16RBU.2023140T163123.v2.0.B03.tif'],\n",
              " Collection: {'EntryTitle': 'HLS Landsat Operational Land Imager Surface Reflectance and TOA Brightness Daily Global 30m v2.0'}\n",
              " Spatial coverage: {'HorizontalSpatialDomain': {'Geometry': {'GPolygons': [{'Boundary': {'Points': [{'Longitude': -89.82661214, 'Latitude': 28.80213717}, {'Longitude': -89.79583778, 'Latitude': 29.79160422}, {'Longitude': -90.93082361, 'Latitude': 29.81426153}, {'Longitude': -90.95072084, 'Latitude': 28.82389994}, {'Longitude': -89.82661214, 'Latitude': 28.80213717}]}}]}}}\n",
              " Temporal coverage: {'RangeDateTime': {'BeginningDateTime': '2023-05-20T16:31:23.029Z', 'EndingDateTime': '2023-05-20T16:31:46.925Z'}}\n",
              " Size(MB): 189.29092693328857\n",
              " Data: ['https://data.lpdaac.earthdatacloud.nasa.gov/lp-prod-protected/HLSL30.020/HLS.L30.T15RYN.2023140T163123.v2.0/HLS.L30.T15RYN.2023140T163123.v2.0.SAA.tif', 'https://data.lpdaac.earthdatacloud.nasa.gov/lp-prod-protected/HLSL30.020/HLS.L30.T15RYN.2023140T163123.v2.0/HLS.L30.T15RYN.2023140T163123.v2.0.VZA.tif', 'https://data.lpdaac.earthdatacloud.nasa.gov/lp-prod-protected/HLSL30.020/HLS.L30.T15RYN.2023140T163123.v2.0/HLS.L30.T15RYN.2023140T163123.v2.0.VAA.tif', 'https://data.lpdaac.earthdatacloud.nasa.gov/lp-prod-protected/HLSL30.020/HLS.L30.T15RYN.2023140T163123.v2.0/HLS.L30.T15RYN.2023140T163123.v2.0.B11.tif', 'https://data.lpdaac.earthdatacloud.nasa.gov/lp-prod-protected/HLSL30.020/HLS.L30.T15RYN.2023140T163123.v2.0/HLS.L30.T15RYN.2023140T163123.v2.0.B07.tif', 'https://data.lpdaac.earthdatacloud.nasa.gov/lp-prod-protected/HLSL30.020/HLS.L30.T15RYN.2023140T163123.v2.0/HLS.L30.T15RYN.2023140T163123.v2.0.B01.tif', 'https://data.lpdaac.earthdatacloud.nasa.gov/lp-prod-protected/HLSL30.020/HLS.L30.T15RYN.2023140T163123.v2.0/HLS.L30.T15RYN.2023140T163123.v2.0.B09.tif', 'https://data.lpdaac.earthdatacloud.nasa.gov/lp-prod-protected/HLSL30.020/HLS.L30.T15RYN.2023140T163123.v2.0/HLS.L30.T15RYN.2023140T163123.v2.0.B05.tif', 'https://data.lpdaac.earthdatacloud.nasa.gov/lp-prod-protected/HLSL30.020/HLS.L30.T15RYN.2023140T163123.v2.0/HLS.L30.T15RYN.2023140T163123.v2.0.B10.tif', 'https://data.lpdaac.earthdatacloud.nasa.gov/lp-prod-protected/HLSL30.020/HLS.L30.T15RYN.2023140T163123.v2.0/HLS.L30.T15RYN.2023140T163123.v2.0.B02.tif', 'https://data.lpdaac.earthdatacloud.nasa.gov/lp-prod-protected/HLSL30.020/HLS.L30.T15RYN.2023140T163123.v2.0/HLS.L30.T15RYN.2023140T163123.v2.0.B03.tif', 'https://data.lpdaac.earthdatacloud.nasa.gov/lp-prod-protected/HLSL30.020/HLS.L30.T15RYN.2023140T163123.v2.0/HLS.L30.T15RYN.2023140T163123.v2.0.Fmask.tif', 'https://data.lpdaac.earthdatacloud.nasa.gov/lp-prod-protected/HLSL30.020/HLS.L30.T15RYN.2023140T163123.v2.0/HLS.L30.T15RYN.2023140T163123.v2.0.B04.tif', 'https://data.lpdaac.earthdatacloud.nasa.gov/lp-prod-protected/HLSL30.020/HLS.L30.T15RYN.2023140T163123.v2.0/HLS.L30.T15RYN.2023140T163123.v2.0.B06.tif', 'https://data.lpdaac.earthdatacloud.nasa.gov/lp-prod-protected/HLSL30.020/HLS.L30.T15RYN.2023140T163123.v2.0/HLS.L30.T15RYN.2023140T163123.v2.0.SZA.tif'],\n",
              " Collection: {'EntryTitle': 'HLS Landsat Operational Land Imager Surface Reflectance and TOA Brightness Daily Global 30m v2.0'}\n",
              " Spatial coverage: {'HorizontalSpatialDomain': {'Geometry': {'GPolygons': [{'Boundary': {'Points': [{'Longitude': -89.82661214, 'Latitude': 28.80213717}, {'Longitude': -89.79583778, 'Latitude': 29.79160422}, {'Longitude': -90.93082361, 'Latitude': 29.81426153}, {'Longitude': -90.95072084, 'Latitude': 28.82389994}, {'Longitude': -89.82661214, 'Latitude': 28.80213717}]}}]}}}\n",
              " Temporal coverage: {'RangeDateTime': {'BeginningDateTime': '2023-05-28T16:31:34.837Z', 'EndingDateTime': '2023-05-28T16:31:58.732Z'}}\n",
              " Size(MB): 166.16224670410156\n",
              " Data: ['https://data.lpdaac.earthdatacloud.nasa.gov/lp-prod-protected/HLSL30.020/HLS.L30.T15RYN.2023148T163134.v2.0/HLS.L30.T15RYN.2023148T163134.v2.0.Fmask.tif', 'https://data.lpdaac.earthdatacloud.nasa.gov/lp-prod-protected/HLSL30.020/HLS.L30.T15RYN.2023148T163134.v2.0/HLS.L30.T15RYN.2023148T163134.v2.0.B10.tif', 'https://data.lpdaac.earthdatacloud.nasa.gov/lp-prod-protected/HLSL30.020/HLS.L30.T15RYN.2023148T163134.v2.0/HLS.L30.T15RYN.2023148T163134.v2.0.SAA.tif', 'https://data.lpdaac.earthdatacloud.nasa.gov/lp-prod-protected/HLSL30.020/HLS.L30.T15RYN.2023148T163134.v2.0/HLS.L30.T15RYN.2023148T163134.v2.0.B03.tif', 'https://data.lpdaac.earthdatacloud.nasa.gov/lp-prod-protected/HLSL30.020/HLS.L30.T15RYN.2023148T163134.v2.0/HLS.L30.T15RYN.2023148T163134.v2.0.B07.tif', 'https://data.lpdaac.earthdatacloud.nasa.gov/lp-prod-protected/HLSL30.020/HLS.L30.T15RYN.2023148T163134.v2.0/HLS.L30.T15RYN.2023148T163134.v2.0.B01.tif', 'https://data.lpdaac.earthdatacloud.nasa.gov/lp-prod-protected/HLSL30.020/HLS.L30.T15RYN.2023148T163134.v2.0/HLS.L30.T15RYN.2023148T163134.v2.0.B05.tif', 'https://data.lpdaac.earthdatacloud.nasa.gov/lp-prod-protected/HLSL30.020/HLS.L30.T15RYN.2023148T163134.v2.0/HLS.L30.T15RYN.2023148T163134.v2.0.VAA.tif', 'https://data.lpdaac.earthdatacloud.nasa.gov/lp-prod-protected/HLSL30.020/HLS.L30.T15RYN.2023148T163134.v2.0/HLS.L30.T15RYN.2023148T163134.v2.0.VZA.tif', 'https://data.lpdaac.earthdatacloud.nasa.gov/lp-prod-protected/HLSL30.020/HLS.L30.T15RYN.2023148T163134.v2.0/HLS.L30.T15RYN.2023148T163134.v2.0.B11.tif', 'https://data.lpdaac.earthdatacloud.nasa.gov/lp-prod-protected/HLSL30.020/HLS.L30.T15RYN.2023148T163134.v2.0/HLS.L30.T15RYN.2023148T163134.v2.0.SZA.tif', 'https://data.lpdaac.earthdatacloud.nasa.gov/lp-prod-protected/HLSL30.020/HLS.L30.T15RYN.2023148T163134.v2.0/HLS.L30.T15RYN.2023148T163134.v2.0.B09.tif', 'https://data.lpdaac.earthdatacloud.nasa.gov/lp-prod-protected/HLSL30.020/HLS.L30.T15RYN.2023148T163134.v2.0/HLS.L30.T15RYN.2023148T163134.v2.0.B04.tif', 'https://data.lpdaac.earthdatacloud.nasa.gov/lp-prod-protected/HLSL30.020/HLS.L30.T15RYN.2023148T163134.v2.0/HLS.L30.T15RYN.2023148T163134.v2.0.B06.tif', 'https://data.lpdaac.earthdatacloud.nasa.gov/lp-prod-protected/HLSL30.020/HLS.L30.T15RYN.2023148T163134.v2.0/HLS.L30.T15RYN.2023148T163134.v2.0.B02.tif'],\n",
              " Collection: {'EntryTitle': 'HLS Landsat Operational Land Imager Surface Reflectance and TOA Brightness Daily Global 30m v2.0'}\n",
              " Spatial coverage: {'HorizontalSpatialDomain': {'Geometry': {'GPolygons': [{'Boundary': {'Points': [{'Longitude': -90.10082051, 'Latitude': 29.70587294}, {'Longitude': -89.32257496, 'Latitude': 29.7220928}, {'Longitude': -89.05259463, 'Latitude': 30.71683821}, {'Longitude': -90.13201749, 'Latitude': 30.69527405}, {'Longitude': -90.10082051, 'Latitude': 29.70587294}]}}]}}}\n",
              " Temporal coverage: {'RangeDateTime': {'BeginningDateTime': '2023-05-28T16:31:34.837Z', 'EndingDateTime': '2023-05-28T16:31:34.837Z'}}\n",
              " Size(MB): 152.09524822235107\n",
              " Data: ['https://data.lpdaac.earthdatacloud.nasa.gov/lp-prod-protected/HLSL30.020/HLS.L30.T16RBU.2023148T163134.v2.0/HLS.L30.T16RBU.2023148T163134.v2.0.B06.tif', 'https://data.lpdaac.earthdatacloud.nasa.gov/lp-prod-protected/HLSL30.020/HLS.L30.T16RBU.2023148T163134.v2.0/HLS.L30.T16RBU.2023148T163134.v2.0.B01.tif', 'https://data.lpdaac.earthdatacloud.nasa.gov/lp-prod-protected/HLSL30.020/HLS.L30.T16RBU.2023148T163134.v2.0/HLS.L30.T16RBU.2023148T163134.v2.0.B04.tif', 'https://data.lpdaac.earthdatacloud.nasa.gov/lp-prod-protected/HLSL30.020/HLS.L30.T16RBU.2023148T163134.v2.0/HLS.L30.T16RBU.2023148T163134.v2.0.SZA.tif', 'https://data.lpdaac.earthdatacloud.nasa.gov/lp-prod-protected/HLSL30.020/HLS.L30.T16RBU.2023148T163134.v2.0/HLS.L30.T16RBU.2023148T163134.v2.0.SAA.tif', 'https://data.lpdaac.earthdatacloud.nasa.gov/lp-prod-protected/HLSL30.020/HLS.L30.T16RBU.2023148T163134.v2.0/HLS.L30.T16RBU.2023148T163134.v2.0.B02.tif', 'https://data.lpdaac.earthdatacloud.nasa.gov/lp-prod-protected/HLSL30.020/HLS.L30.T16RBU.2023148T163134.v2.0/HLS.L30.T16RBU.2023148T163134.v2.0.B09.tif', 'https://data.lpdaac.earthdatacloud.nasa.gov/lp-prod-protected/HLSL30.020/HLS.L30.T16RBU.2023148T163134.v2.0/HLS.L30.T16RBU.2023148T163134.v2.0.VZA.tif', 'https://data.lpdaac.earthdatacloud.nasa.gov/lp-prod-protected/HLSL30.020/HLS.L30.T16RBU.2023148T163134.v2.0/HLS.L30.T16RBU.2023148T163134.v2.0.B03.tif', 'https://data.lpdaac.earthdatacloud.nasa.gov/lp-prod-protected/HLSL30.020/HLS.L30.T16RBU.2023148T163134.v2.0/HLS.L30.T16RBU.2023148T163134.v2.0.B05.tif', 'https://data.lpdaac.earthdatacloud.nasa.gov/lp-prod-protected/HLSL30.020/HLS.L30.T16RBU.2023148T163134.v2.0/HLS.L30.T16RBU.2023148T163134.v2.0.B07.tif', 'https://data.lpdaac.earthdatacloud.nasa.gov/lp-prod-protected/HLSL30.020/HLS.L30.T16RBU.2023148T163134.v2.0/HLS.L30.T16RBU.2023148T163134.v2.0.Fmask.tif', 'https://data.lpdaac.earthdatacloud.nasa.gov/lp-prod-protected/HLSL30.020/HLS.L30.T16RBU.2023148T163134.v2.0/HLS.L30.T16RBU.2023148T163134.v2.0.B11.tif', 'https://data.lpdaac.earthdatacloud.nasa.gov/lp-prod-protected/HLSL30.020/HLS.L30.T16RBU.2023148T163134.v2.0/HLS.L30.T16RBU.2023148T163134.v2.0.VAA.tif', 'https://data.lpdaac.earthdatacloud.nasa.gov/lp-prod-protected/HLSL30.020/HLS.L30.T16RBU.2023148T163134.v2.0/HLS.L30.T16RBU.2023148T163134.v2.0.B10.tif'],\n",
              " Collection: {'EntryTitle': 'HLS Landsat Operational Land Imager Surface Reflectance and TOA Brightness Daily Global 30m v2.0'}\n",
              " Spatial coverage: {'HorizontalSpatialDomain': {'Geometry': {'GPolygons': [{'Boundary': {'Points': [{'Longitude': -90.07372506, 'Latitude': 28.80444525}, {'Longitude': -89.56582652, 'Latitude': 28.81506326}, {'Longitude': -89.29885782, 'Latitude': 29.81046387}, {'Longitude': -90.10353675, 'Latitude': 29.79400715}, {'Longitude': -90.07372506, 'Latitude': 28.80444525}]}}]}}}\n",
              " Temporal coverage: {'RangeDateTime': {'BeginningDateTime': '2023-05-28T16:31:34.837Z', 'EndingDateTime': '2023-05-28T16:31:58.732Z'}}\n",
              " Size(MB): 98.6242561340332\n",
              " Data: ['https://data.lpdaac.earthdatacloud.nasa.gov/lp-prod-protected/HLSL30.020/HLS.L30.T16RBT.2023148T163134.v2.0/HLS.L30.T16RBT.2023148T163134.v2.0.B07.tif', 'https://data.lpdaac.earthdatacloud.nasa.gov/lp-prod-protected/HLSL30.020/HLS.L30.T16RBT.2023148T163134.v2.0/HLS.L30.T16RBT.2023148T163134.v2.0.B11.tif', 'https://data.lpdaac.earthdatacloud.nasa.gov/lp-prod-protected/HLSL30.020/HLS.L30.T16RBT.2023148T163134.v2.0/HLS.L30.T16RBT.2023148T163134.v2.0.SAA.tif', 'https://data.lpdaac.earthdatacloud.nasa.gov/lp-prod-protected/HLSL30.020/HLS.L30.T16RBT.2023148T163134.v2.0/HLS.L30.T16RBT.2023148T163134.v2.0.B05.tif', 'https://data.lpdaac.earthdatacloud.nasa.gov/lp-prod-protected/HLSL30.020/HLS.L30.T16RBT.2023148T163134.v2.0/HLS.L30.T16RBT.2023148T163134.v2.0.B01.tif', 'https://data.lpdaac.earthdatacloud.nasa.gov/lp-prod-protected/HLSL30.020/HLS.L30.T16RBT.2023148T163134.v2.0/HLS.L30.T16RBT.2023148T163134.v2.0.B10.tif', 'https://data.lpdaac.earthdatacloud.nasa.gov/lp-prod-protected/HLSL30.020/HLS.L30.T16RBT.2023148T163134.v2.0/HLS.L30.T16RBT.2023148T163134.v2.0.B02.tif', 'https://data.lpdaac.earthdatacloud.nasa.gov/lp-prod-protected/HLSL30.020/HLS.L30.T16RBT.2023148T163134.v2.0/HLS.L30.T16RBT.2023148T163134.v2.0.B06.tif', 'https://data.lpdaac.earthdatacloud.nasa.gov/lp-prod-protected/HLSL30.020/HLS.L30.T16RBT.2023148T163134.v2.0/HLS.L30.T16RBT.2023148T163134.v2.0.B09.tif', 'https://data.lpdaac.earthdatacloud.nasa.gov/lp-prod-protected/HLSL30.020/HLS.L30.T16RBT.2023148T163134.v2.0/HLS.L30.T16RBT.2023148T163134.v2.0.VZA.tif', 'https://data.lpdaac.earthdatacloud.nasa.gov/lp-prod-protected/HLSL30.020/HLS.L30.T16RBT.2023148T163134.v2.0/HLS.L30.T16RBT.2023148T163134.v2.0.B03.tif', 'https://data.lpdaac.earthdatacloud.nasa.gov/lp-prod-protected/HLSL30.020/HLS.L30.T16RBT.2023148T163134.v2.0/HLS.L30.T16RBT.2023148T163134.v2.0.SZA.tif', 'https://data.lpdaac.earthdatacloud.nasa.gov/lp-prod-protected/HLSL30.020/HLS.L30.T16RBT.2023148T163134.v2.0/HLS.L30.T16RBT.2023148T163134.v2.0.B04.tif', 'https://data.lpdaac.earthdatacloud.nasa.gov/lp-prod-protected/HLSL30.020/HLS.L30.T16RBT.2023148T163134.v2.0/HLS.L30.T16RBT.2023148T163134.v2.0.VAA.tif', 'https://data.lpdaac.earthdatacloud.nasa.gov/lp-prod-protected/HLSL30.020/HLS.L30.T16RBT.2023148T163134.v2.0/HLS.L30.T16RBT.2023148T163134.v2.0.Fmask.tif'],\n",
              " Collection: {'EntryTitle': 'HLS Landsat Operational Land Imager Surface Reflectance and TOA Brightness Daily Global 30m v2.0'}\n",
              " Spatial coverage: {'HorizontalSpatialDomain': {'Geometry': {'GPolygons': [{'Boundary': {'Points': [{'Longitude': -89.79864173, 'Latitude': 29.70347853}, {'Longitude': -89.76643746, 'Latitude': 30.69278312}, {'Longitude': -90.91181412, 'Latitude': 30.71627038}, {'Longitude': -90.93263654, 'Latitude': 29.72605548}, {'Longitude': -89.79864173, 'Latitude': 29.70347853}]}}]}}}\n",
              " Temporal coverage: {'RangeDateTime': {'BeginningDateTime': '2023-05-28T16:31:34.837Z', 'EndingDateTime': '2023-05-28T16:31:34.837Z'}}\n",
              " Size(MB): 172.95240783691406\n",
              " Data: ['https://data.lpdaac.earthdatacloud.nasa.gov/lp-prod-protected/HLSL30.020/HLS.L30.T15RYP.2023148T163134.v2.0/HLS.L30.T15RYP.2023148T163134.v2.0.B07.tif', 'https://data.lpdaac.earthdatacloud.nasa.gov/lp-prod-protected/HLSL30.020/HLS.L30.T15RYP.2023148T163134.v2.0/HLS.L30.T15RYP.2023148T163134.v2.0.B05.tif', 'https://data.lpdaac.earthdatacloud.nasa.gov/lp-prod-protected/HLSL30.020/HLS.L30.T15RYP.2023148T163134.v2.0/HLS.L30.T15RYP.2023148T163134.v2.0.SAA.tif', 'https://data.lpdaac.earthdatacloud.nasa.gov/lp-prod-protected/HLSL30.020/HLS.L30.T15RYP.2023148T163134.v2.0/HLS.L30.T15RYP.2023148T163134.v2.0.VAA.tif', 'https://data.lpdaac.earthdatacloud.nasa.gov/lp-prod-protected/HLSL30.020/HLS.L30.T15RYP.2023148T163134.v2.0/HLS.L30.T15RYP.2023148T163134.v2.0.VZA.tif', 'https://data.lpdaac.earthdatacloud.nasa.gov/lp-prod-protected/HLSL30.020/HLS.L30.T15RYP.2023148T163134.v2.0/HLS.L30.T15RYP.2023148T163134.v2.0.B03.tif', 'https://data.lpdaac.earthdatacloud.nasa.gov/lp-prod-protected/HLSL30.020/HLS.L30.T15RYP.2023148T163134.v2.0/HLS.L30.T15RYP.2023148T163134.v2.0.B04.tif', 'https://data.lpdaac.earthdatacloud.nasa.gov/lp-prod-protected/HLSL30.020/HLS.L30.T15RYP.2023148T163134.v2.0/HLS.L30.T15RYP.2023148T163134.v2.0.B09.tif', 'https://data.lpdaac.earthdatacloud.nasa.gov/lp-prod-protected/HLSL30.020/HLS.L30.T15RYP.2023148T163134.v2.0/HLS.L30.T15RYP.2023148T163134.v2.0.B06.tif', 'https://data.lpdaac.earthdatacloud.nasa.gov/lp-prod-protected/HLSL30.020/HLS.L30.T15RYP.2023148T163134.v2.0/HLS.L30.T15RYP.2023148T163134.v2.0.Fmask.tif', 'https://data.lpdaac.earthdatacloud.nasa.gov/lp-prod-protected/HLSL30.020/HLS.L30.T15RYP.2023148T163134.v2.0/HLS.L30.T15RYP.2023148T163134.v2.0.B10.tif', 'https://data.lpdaac.earthdatacloud.nasa.gov/lp-prod-protected/HLSL30.020/HLS.L30.T15RYP.2023148T163134.v2.0/HLS.L30.T15RYP.2023148T163134.v2.0.B01.tif', 'https://data.lpdaac.earthdatacloud.nasa.gov/lp-prod-protected/HLSL30.020/HLS.L30.T15RYP.2023148T163134.v2.0/HLS.L30.T15RYP.2023148T163134.v2.0.B02.tif', 'https://data.lpdaac.earthdatacloud.nasa.gov/lp-prod-protected/HLSL30.020/HLS.L30.T15RYP.2023148T163134.v2.0/HLS.L30.T15RYP.2023148T163134.v2.0.SZA.tif', 'https://data.lpdaac.earthdatacloud.nasa.gov/lp-prod-protected/HLSL30.020/HLS.L30.T15RYP.2023148T163134.v2.0/HLS.L30.T15RYP.2023148T163134.v2.0.B11.tif'],\n",
              " Collection: {'EntryTitle': 'HLS Landsat Operational Land Imager Surface Reflectance and TOA Brightness Daily Global 30m v2.0'}\n",
              " Spatial coverage: {'HorizontalSpatialDomain': {'Geometry': {'GPolygons': [{'Boundary': {'Points': [{'Longitude': -90.10082051, 'Latitude': 29.70587294}, {'Longitude': -89.28847567, 'Latitude': 29.72241628}, {'Longitude': -89.01721112, 'Latitude': 30.71739304}, {'Longitude': -90.13201749, 'Latitude': 30.69527405}, {'Longitude': -90.10082051, 'Latitude': 29.70587294}]}}]}}}\n",
              " Temporal coverage: {'RangeDateTime': {'BeginningDateTime': '2023-06-05T16:31:28.153Z', 'EndingDateTime': '2023-06-05T16:31:28.153Z'}}\n",
              " Size(MB): 165.66828632354736\n",
              " Data: ['https://data.lpdaac.earthdatacloud.nasa.gov/lp-prod-protected/HLSL30.020/HLS.L30.T16RBU.2023156T163128.v2.0/HLS.L30.T16RBU.2023156T163128.v2.0.VZA.tif', 'https://data.lpdaac.earthdatacloud.nasa.gov/lp-prod-protected/HLSL30.020/HLS.L30.T16RBU.2023156T163128.v2.0/HLS.L30.T16RBU.2023156T163128.v2.0.B04.tif', 'https://data.lpdaac.earthdatacloud.nasa.gov/lp-prod-protected/HLSL30.020/HLS.L30.T16RBU.2023156T163128.v2.0/HLS.L30.T16RBU.2023156T163128.v2.0.B11.tif', 'https://data.lpdaac.earthdatacloud.nasa.gov/lp-prod-protected/HLSL30.020/HLS.L30.T16RBU.2023156T163128.v2.0/HLS.L30.T16RBU.2023156T163128.v2.0.B01.tif', 'https://data.lpdaac.earthdatacloud.nasa.gov/lp-prod-protected/HLSL30.020/HLS.L30.T16RBU.2023156T163128.v2.0/HLS.L30.T16RBU.2023156T163128.v2.0.B05.tif', 'https://data.lpdaac.earthdatacloud.nasa.gov/lp-prod-protected/HLSL30.020/HLS.L30.T16RBU.2023156T163128.v2.0/HLS.L30.T16RBU.2023156T163128.v2.0.SAA.tif', 'https://data.lpdaac.earthdatacloud.nasa.gov/lp-prod-protected/HLSL30.020/HLS.L30.T16RBU.2023156T163128.v2.0/HLS.L30.T16RBU.2023156T163128.v2.0.Fmask.tif', 'https://data.lpdaac.earthdatacloud.nasa.gov/lp-prod-protected/HLSL30.020/HLS.L30.T16RBU.2023156T163128.v2.0/HLS.L30.T16RBU.2023156T163128.v2.0.B09.tif', 'https://data.lpdaac.earthdatacloud.nasa.gov/lp-prod-protected/HLSL30.020/HLS.L30.T16RBU.2023156T163128.v2.0/HLS.L30.T16RBU.2023156T163128.v2.0.B10.tif', 'https://data.lpdaac.earthdatacloud.nasa.gov/lp-prod-protected/HLSL30.020/HLS.L30.T16RBU.2023156T163128.v2.0/HLS.L30.T16RBU.2023156T163128.v2.0.SZA.tif', 'https://data.lpdaac.earthdatacloud.nasa.gov/lp-prod-protected/HLSL30.020/HLS.L30.T16RBU.2023156T163128.v2.0/HLS.L30.T16RBU.2023156T163128.v2.0.VAA.tif', 'https://data.lpdaac.earthdatacloud.nasa.gov/lp-prod-protected/HLSL30.020/HLS.L30.T16RBU.2023156T163128.v2.0/HLS.L30.T16RBU.2023156T163128.v2.0.B07.tif', 'https://data.lpdaac.earthdatacloud.nasa.gov/lp-prod-protected/HLSL30.020/HLS.L30.T16RBU.2023156T163128.v2.0/HLS.L30.T16RBU.2023156T163128.v2.0.B06.tif', 'https://data.lpdaac.earthdatacloud.nasa.gov/lp-prod-protected/HLSL30.020/HLS.L30.T16RBU.2023156T163128.v2.0/HLS.L30.T16RBU.2023156T163128.v2.0.B02.tif', 'https://data.lpdaac.earthdatacloud.nasa.gov/lp-prod-protected/HLSL30.020/HLS.L30.T16RBU.2023156T163128.v2.0/HLS.L30.T16RBU.2023156T163128.v2.0.B03.tif'],\n",
              " Collection: {'EntryTitle': 'HLS Landsat Operational Land Imager Surface Reflectance and TOA Brightness Daily Global 30m v2.0'}\n",
              " Spatial coverage: {'HorizontalSpatialDomain': {'Geometry': {'GPolygons': [{'Boundary': {'Points': [{'Longitude': -89.79864173, 'Latitude': 29.70347853}, {'Longitude': -89.76643746, 'Latitude': 30.69278312}, {'Longitude': -90.91181412, 'Latitude': 30.71627038}, {'Longitude': -90.93263654, 'Latitude': 29.72605548}, {'Longitude': -89.79864173, 'Latitude': 29.70347853}]}}]}}}\n",
              " Temporal coverage: {'RangeDateTime': {'BeginningDateTime': '2023-06-05T16:31:28.153Z', 'EndingDateTime': '2023-06-05T16:31:28.153Z'}}\n",
              " Size(MB): 199.49737548828125\n",
              " Data: ['https://data.lpdaac.earthdatacloud.nasa.gov/lp-prod-protected/HLSL30.020/HLS.L30.T15RYP.2023156T163128.v2.0/HLS.L30.T15RYP.2023156T163128.v2.0.B03.tif', 'https://data.lpdaac.earthdatacloud.nasa.gov/lp-prod-protected/HLSL30.020/HLS.L30.T15RYP.2023156T163128.v2.0/HLS.L30.T15RYP.2023156T163128.v2.0.B05.tif', 'https://data.lpdaac.earthdatacloud.nasa.gov/lp-prod-protected/HLSL30.020/HLS.L30.T15RYP.2023156T163128.v2.0/HLS.L30.T15RYP.2023156T163128.v2.0.SZA.tif', 'https://data.lpdaac.earthdatacloud.nasa.gov/lp-prod-protected/HLSL30.020/HLS.L30.T15RYP.2023156T163128.v2.0/HLS.L30.T15RYP.2023156T163128.v2.0.B07.tif', 'https://data.lpdaac.earthdatacloud.nasa.gov/lp-prod-protected/HLSL30.020/HLS.L30.T15RYP.2023156T163128.v2.0/HLS.L30.T15RYP.2023156T163128.v2.0.B01.tif', 'https://data.lpdaac.earthdatacloud.nasa.gov/lp-prod-protected/HLSL30.020/HLS.L30.T15RYP.2023156T163128.v2.0/HLS.L30.T15RYP.2023156T163128.v2.0.VZA.tif', 'https://data.lpdaac.earthdatacloud.nasa.gov/lp-prod-protected/HLSL30.020/HLS.L30.T15RYP.2023156T163128.v2.0/HLS.L30.T15RYP.2023156T163128.v2.0.VAA.tif', 'https://data.lpdaac.earthdatacloud.nasa.gov/lp-prod-protected/HLSL30.020/HLS.L30.T15RYP.2023156T163128.v2.0/HLS.L30.T15RYP.2023156T163128.v2.0.Fmask.tif', 'https://data.lpdaac.earthdatacloud.nasa.gov/lp-prod-protected/HLSL30.020/HLS.L30.T15RYP.2023156T163128.v2.0/HLS.L30.T15RYP.2023156T163128.v2.0.B11.tif', 'https://data.lpdaac.earthdatacloud.nasa.gov/lp-prod-protected/HLSL30.020/HLS.L30.T15RYP.2023156T163128.v2.0/HLS.L30.T15RYP.2023156T163128.v2.0.SAA.tif', 'https://data.lpdaac.earthdatacloud.nasa.gov/lp-prod-protected/HLSL30.020/HLS.L30.T15RYP.2023156T163128.v2.0/HLS.L30.T15RYP.2023156T163128.v2.0.B04.tif', 'https://data.lpdaac.earthdatacloud.nasa.gov/lp-prod-protected/HLSL30.020/HLS.L30.T15RYP.2023156T163128.v2.0/HLS.L30.T15RYP.2023156T163128.v2.0.B10.tif', 'https://data.lpdaac.earthdatacloud.nasa.gov/lp-prod-protected/HLSL30.020/HLS.L30.T15RYP.2023156T163128.v2.0/HLS.L30.T15RYP.2023156T163128.v2.0.B09.tif', 'https://data.lpdaac.earthdatacloud.nasa.gov/lp-prod-protected/HLSL30.020/HLS.L30.T15RYP.2023156T163128.v2.0/HLS.L30.T15RYP.2023156T163128.v2.0.B02.tif', 'https://data.lpdaac.earthdatacloud.nasa.gov/lp-prod-protected/HLSL30.020/HLS.L30.T15RYP.2023156T163128.v2.0/HLS.L30.T15RYP.2023156T163128.v2.0.B06.tif'],\n",
              " Collection: {'EntryTitle': 'HLS Landsat Operational Land Imager Surface Reflectance and TOA Brightness Daily Global 30m v2.0'}\n",
              " Spatial coverage: {'HorizontalSpatialDomain': {'Geometry': {'GPolygons': [{'Boundary': {'Points': [{'Longitude': -90.07372506, 'Latitude': 28.80444525}, {'Longitude': -89.53234627, 'Latitude': 28.81569598}, {'Longitude': -89.26442395, 'Latitude': 29.81105867}, {'Longitude': -90.10353675, 'Latitude': 29.79400715}, {'Longitude': -90.07372506, 'Latitude': 28.80444525}]}}]}}}\n",
              " Temporal coverage: {'RangeDateTime': {'BeginningDateTime': '2023-06-05T16:31:28.153Z', 'EndingDateTime': '2023-06-05T16:31:52.048Z'}}\n",
              " Size(MB): 118.801344871521\n",
              " Data: ['https://data.lpdaac.earthdatacloud.nasa.gov/lp-prod-protected/HLSL30.020/HLS.L30.T16RBT.2023156T163128.v2.0/HLS.L30.T16RBT.2023156T163128.v2.0.SAA.tif', 'https://data.lpdaac.earthdatacloud.nasa.gov/lp-prod-protected/HLSL30.020/HLS.L30.T16RBT.2023156T163128.v2.0/HLS.L30.T16RBT.2023156T163128.v2.0.B05.tif', 'https://data.lpdaac.earthdatacloud.nasa.gov/lp-prod-protected/HLSL30.020/HLS.L30.T16RBT.2023156T163128.v2.0/HLS.L30.T16RBT.2023156T163128.v2.0.B11.tif', 'https://data.lpdaac.earthdatacloud.nasa.gov/lp-prod-protected/HLSL30.020/HLS.L30.T16RBT.2023156T163128.v2.0/HLS.L30.T16RBT.2023156T163128.v2.0.B03.tif', 'https://data.lpdaac.earthdatacloud.nasa.gov/lp-prod-protected/HLSL30.020/HLS.L30.T16RBT.2023156T163128.v2.0/HLS.L30.T16RBT.2023156T163128.v2.0.B09.tif', 'https://data.lpdaac.earthdatacloud.nasa.gov/lp-prod-protected/HLSL30.020/HLS.L30.T16RBT.2023156T163128.v2.0/HLS.L30.T16RBT.2023156T163128.v2.0.B07.tif', 'https://data.lpdaac.earthdatacloud.nasa.gov/lp-prod-protected/HLSL30.020/HLS.L30.T16RBT.2023156T163128.v2.0/HLS.L30.T16RBT.2023156T163128.v2.0.VAA.tif', 'https://data.lpdaac.earthdatacloud.nasa.gov/lp-prod-protected/HLSL30.020/HLS.L30.T16RBT.2023156T163128.v2.0/HLS.L30.T16RBT.2023156T163128.v2.0.B04.tif', 'https://data.lpdaac.earthdatacloud.nasa.gov/lp-prod-protected/HLSL30.020/HLS.L30.T16RBT.2023156T163128.v2.0/HLS.L30.T16RBT.2023156T163128.v2.0.B06.tif', 'https://data.lpdaac.earthdatacloud.nasa.gov/lp-prod-protected/HLSL30.020/HLS.L30.T16RBT.2023156T163128.v2.0/HLS.L30.T16RBT.2023156T163128.v2.0.Fmask.tif', 'https://data.lpdaac.earthdatacloud.nasa.gov/lp-prod-protected/HLSL30.020/HLS.L30.T16RBT.2023156T163128.v2.0/HLS.L30.T16RBT.2023156T163128.v2.0.B02.tif', 'https://data.lpdaac.earthdatacloud.nasa.gov/lp-prod-protected/HLSL30.020/HLS.L30.T16RBT.2023156T163128.v2.0/HLS.L30.T16RBT.2023156T163128.v2.0.VZA.tif', 'https://data.lpdaac.earthdatacloud.nasa.gov/lp-prod-protected/HLSL30.020/HLS.L30.T16RBT.2023156T163128.v2.0/HLS.L30.T16RBT.2023156T163128.v2.0.SZA.tif', 'https://data.lpdaac.earthdatacloud.nasa.gov/lp-prod-protected/HLSL30.020/HLS.L30.T16RBT.2023156T163128.v2.0/HLS.L30.T16RBT.2023156T163128.v2.0.B01.tif', 'https://data.lpdaac.earthdatacloud.nasa.gov/lp-prod-protected/HLSL30.020/HLS.L30.T16RBT.2023156T163128.v2.0/HLS.L30.T16RBT.2023156T163128.v2.0.B10.tif'],\n",
              " Collection: {'EntryTitle': 'HLS Landsat Operational Land Imager Surface Reflectance and TOA Brightness Daily Global 30m v2.0'}\n",
              " Spatial coverage: {'HorizontalSpatialDomain': {'Geometry': {'GPolygons': [{'Boundary': {'Points': [{'Longitude': -89.82661214, 'Latitude': 28.80213717}, {'Longitude': -89.79583778, 'Latitude': 29.79160422}, {'Longitude': -90.93082361, 'Latitude': 29.81426153}, {'Longitude': -90.95072084, 'Latitude': 28.82389994}, {'Longitude': -89.82661214, 'Latitude': 28.80213717}]}}]}}}\n",
              " Temporal coverage: {'RangeDateTime': {'BeginningDateTime': '2023-06-05T16:31:28.153Z', 'EndingDateTime': '2023-06-05T16:31:52.048Z'}}\n",
              " Size(MB): 197.48943424224854\n",
              " Data: ['https://data.lpdaac.earthdatacloud.nasa.gov/lp-prod-protected/HLSL30.020/HLS.L30.T15RYN.2023156T163128.v2.0/HLS.L30.T15RYN.2023156T163128.v2.0.B06.tif', 'https://data.lpdaac.earthdatacloud.nasa.gov/lp-prod-protected/HLSL30.020/HLS.L30.T15RYN.2023156T163128.v2.0/HLS.L30.T15RYN.2023156T163128.v2.0.B07.tif', 'https://data.lpdaac.earthdatacloud.nasa.gov/lp-prod-protected/HLSL30.020/HLS.L30.T15RYN.2023156T163128.v2.0/HLS.L30.T15RYN.2023156T163128.v2.0.SZA.tif', 'https://data.lpdaac.earthdatacloud.nasa.gov/lp-prod-protected/HLSL30.020/HLS.L30.T15RYN.2023156T163128.v2.0/HLS.L30.T15RYN.2023156T163128.v2.0.B10.tif', 'https://data.lpdaac.earthdatacloud.nasa.gov/lp-prod-protected/HLSL30.020/HLS.L30.T15RYN.2023156T163128.v2.0/HLS.L30.T15RYN.2023156T163128.v2.0.B05.tif', 'https://data.lpdaac.earthdatacloud.nasa.gov/lp-prod-protected/HLSL30.020/HLS.L30.T15RYN.2023156T163128.v2.0/HLS.L30.T15RYN.2023156T163128.v2.0.B03.tif', 'https://data.lpdaac.earthdatacloud.nasa.gov/lp-prod-protected/HLSL30.020/HLS.L30.T15RYN.2023156T163128.v2.0/HLS.L30.T15RYN.2023156T163128.v2.0.SAA.tif', 'https://data.lpdaac.earthdatacloud.nasa.gov/lp-prod-protected/HLSL30.020/HLS.L30.T15RYN.2023156T163128.v2.0/HLS.L30.T15RYN.2023156T163128.v2.0.B09.tif', 'https://data.lpdaac.earthdatacloud.nasa.gov/lp-prod-protected/HLSL30.020/HLS.L30.T15RYN.2023156T163128.v2.0/HLS.L30.T15RYN.2023156T163128.v2.0.B02.tif', 'https://data.lpdaac.earthdatacloud.nasa.gov/lp-prod-protected/HLSL30.020/HLS.L30.T15RYN.2023156T163128.v2.0/HLS.L30.T15RYN.2023156T163128.v2.0.VAA.tif', 'https://data.lpdaac.earthdatacloud.nasa.gov/lp-prod-protected/HLSL30.020/HLS.L30.T15RYN.2023156T163128.v2.0/HLS.L30.T15RYN.2023156T163128.v2.0.Fmask.tif', 'https://data.lpdaac.earthdatacloud.nasa.gov/lp-prod-protected/HLSL30.020/HLS.L30.T15RYN.2023156T163128.v2.0/HLS.L30.T15RYN.2023156T163128.v2.0.B01.tif', 'https://data.lpdaac.earthdatacloud.nasa.gov/lp-prod-protected/HLSL30.020/HLS.L30.T15RYN.2023156T163128.v2.0/HLS.L30.T15RYN.2023156T163128.v2.0.B04.tif', 'https://data.lpdaac.earthdatacloud.nasa.gov/lp-prod-protected/HLSL30.020/HLS.L30.T15RYN.2023156T163128.v2.0/HLS.L30.T15RYN.2023156T163128.v2.0.B11.tif', 'https://data.lpdaac.earthdatacloud.nasa.gov/lp-prod-protected/HLSL30.020/HLS.L30.T15RYN.2023156T163128.v2.0/HLS.L30.T15RYN.2023156T163128.v2.0.VZA.tif'],\n",
              " Collection: {'EntryTitle': 'HLS Landsat Operational Land Imager Surface Reflectance and TOA Brightness Daily Global 30m v2.0'}\n",
              " Spatial coverage: {'HorizontalSpatialDomain': {'Geometry': {'GPolygons': [{'Boundary': {'Points': [{'Longitude': -90.10082051, 'Latitude': 29.70587294}, {'Longitude': -89.33372623, 'Latitude': 29.72162597}, {'Longitude': -89.06355392, 'Latitude': 30.7166644}, {'Longitude': -90.13201749, 'Latitude': 30.69527405}, {'Longitude': -90.10082051, 'Latitude': 29.70587294}]}}]}}}\n",
              " Temporal coverage: {'RangeDateTime': {'BeginningDateTime': '2023-06-13T16:31:26.844Z', 'EndingDateTime': '2023-06-13T16:31:26.844Z'}}\n",
              " Size(MB): 158.39524841308594\n",
              " Data: ['https://data.lpdaac.earthdatacloud.nasa.gov/lp-prod-protected/HLSL30.020/HLS.L30.T16RBU.2023164T163126.v2.0/HLS.L30.T16RBU.2023164T163126.v2.0.B06.tif', 'https://data.lpdaac.earthdatacloud.nasa.gov/lp-prod-protected/HLSL30.020/HLS.L30.T16RBU.2023164T163126.v2.0/HLS.L30.T16RBU.2023164T163126.v2.0.B11.tif', 'https://data.lpdaac.earthdatacloud.nasa.gov/lp-prod-protected/HLSL30.020/HLS.L30.T16RBU.2023164T163126.v2.0/HLS.L30.T16RBU.2023164T163126.v2.0.Fmask.tif', 'https://data.lpdaac.earthdatacloud.nasa.gov/lp-prod-protected/HLSL30.020/HLS.L30.T16RBU.2023164T163126.v2.0/HLS.L30.T16RBU.2023164T163126.v2.0.B01.tif', 'https://data.lpdaac.earthdatacloud.nasa.gov/lp-prod-protected/HLSL30.020/HLS.L30.T16RBU.2023164T163126.v2.0/HLS.L30.T16RBU.2023164T163126.v2.0.SZA.tif', 'https://data.lpdaac.earthdatacloud.nasa.gov/lp-prod-protected/HLSL30.020/HLS.L30.T16RBU.2023164T163126.v2.0/HLS.L30.T16RBU.2023164T163126.v2.0.B09.tif', 'https://data.lpdaac.earthdatacloud.nasa.gov/lp-prod-protected/HLSL30.020/HLS.L30.T16RBU.2023164T163126.v2.0/HLS.L30.T16RBU.2023164T163126.v2.0.B10.tif', 'https://data.lpdaac.earthdatacloud.nasa.gov/lp-prod-protected/HLSL30.020/HLS.L30.T16RBU.2023164T163126.v2.0/HLS.L30.T16RBU.2023164T163126.v2.0.B02.tif', 'https://data.lpdaac.earthdatacloud.nasa.gov/lp-prod-protected/HLSL30.020/HLS.L30.T16RBU.2023164T163126.v2.0/HLS.L30.T16RBU.2023164T163126.v2.0.SAA.tif', 'https://data.lpdaac.earthdatacloud.nasa.gov/lp-prod-protected/HLSL30.020/HLS.L30.T16RBU.2023164T163126.v2.0/HLS.L30.T16RBU.2023164T163126.v2.0.B07.tif', 'https://data.lpdaac.earthdatacloud.nasa.gov/lp-prod-protected/HLSL30.020/HLS.L30.T16RBU.2023164T163126.v2.0/HLS.L30.T16RBU.2023164T163126.v2.0.B03.tif', 'https://data.lpdaac.earthdatacloud.nasa.gov/lp-prod-protected/HLSL30.020/HLS.L30.T16RBU.2023164T163126.v2.0/HLS.L30.T16RBU.2023164T163126.v2.0.VAA.tif', 'https://data.lpdaac.earthdatacloud.nasa.gov/lp-prod-protected/HLSL30.020/HLS.L30.T16RBU.2023164T163126.v2.0/HLS.L30.T16RBU.2023164T163126.v2.0.VZA.tif', 'https://data.lpdaac.earthdatacloud.nasa.gov/lp-prod-protected/HLSL30.020/HLS.L30.T16RBU.2023164T163126.v2.0/HLS.L30.T16RBU.2023164T163126.v2.0.B05.tif', 'https://data.lpdaac.earthdatacloud.nasa.gov/lp-prod-protected/HLSL30.020/HLS.L30.T16RBU.2023164T163126.v2.0/HLS.L30.T16RBU.2023164T163126.v2.0.B04.tif'],\n",
              " Collection: {'EntryTitle': 'HLS Landsat Operational Land Imager Surface Reflectance and TOA Brightness Daily Global 30m v2.0'}\n",
              " Spatial coverage: {'HorizontalSpatialDomain': {'Geometry': {'GPolygons': [{'Boundary': {'Points': [{'Longitude': -89.79864173, 'Latitude': 29.70347853}, {'Longitude': -89.76643746, 'Latitude': 30.69278312}, {'Longitude': -90.91181412, 'Latitude': 30.71627038}, {'Longitude': -90.93263654, 'Latitude': 29.72605548}, {'Longitude': -89.79864173, 'Latitude': 29.70347853}]}}]}}}\n",
              " Temporal coverage: {'RangeDateTime': {'BeginningDateTime': '2023-06-13T16:31:26.844Z', 'EndingDateTime': '2023-06-13T16:31:26.844Z'}}\n",
              " Size(MB): 195.1623773574829\n",
              " Data: ['https://data.lpdaac.earthdatacloud.nasa.gov/lp-prod-protected/HLSL30.020/HLS.L30.T15RYP.2023164T163126.v2.0/HLS.L30.T15RYP.2023164T163126.v2.0.B09.tif', 'https://data.lpdaac.earthdatacloud.nasa.gov/lp-prod-protected/HLSL30.020/HLS.L30.T15RYP.2023164T163126.v2.0/HLS.L30.T15RYP.2023164T163126.v2.0.B01.tif', 'https://data.lpdaac.earthdatacloud.nasa.gov/lp-prod-protected/HLSL30.020/HLS.L30.T15RYP.2023164T163126.v2.0/HLS.L30.T15RYP.2023164T163126.v2.0.B10.tif', 'https://data.lpdaac.earthdatacloud.nasa.gov/lp-prod-protected/HLSL30.020/HLS.L30.T15RYP.2023164T163126.v2.0/HLS.L30.T15RYP.2023164T163126.v2.0.Fmask.tif', 'https://data.lpdaac.earthdatacloud.nasa.gov/lp-prod-protected/HLSL30.020/HLS.L30.T15RYP.2023164T163126.v2.0/HLS.L30.T15RYP.2023164T163126.v2.0.B04.tif', 'https://data.lpdaac.earthdatacloud.nasa.gov/lp-prod-protected/HLSL30.020/HLS.L30.T15RYP.2023164T163126.v2.0/HLS.L30.T15RYP.2023164T163126.v2.0.B03.tif', 'https://data.lpdaac.earthdatacloud.nasa.gov/lp-prod-protected/HLSL30.020/HLS.L30.T15RYP.2023164T163126.v2.0/HLS.L30.T15RYP.2023164T163126.v2.0.B07.tif', 'https://data.lpdaac.earthdatacloud.nasa.gov/lp-prod-protected/HLSL30.020/HLS.L30.T15RYP.2023164T163126.v2.0/HLS.L30.T15RYP.2023164T163126.v2.0.VZA.tif', 'https://data.lpdaac.earthdatacloud.nasa.gov/lp-prod-protected/HLSL30.020/HLS.L30.T15RYP.2023164T163126.v2.0/HLS.L30.T15RYP.2023164T163126.v2.0.B11.tif', 'https://data.lpdaac.earthdatacloud.nasa.gov/lp-prod-protected/HLSL30.020/HLS.L30.T15RYP.2023164T163126.v2.0/HLS.L30.T15RYP.2023164T163126.v2.0.B02.tif', 'https://data.lpdaac.earthdatacloud.nasa.gov/lp-prod-protected/HLSL30.020/HLS.L30.T15RYP.2023164T163126.v2.0/HLS.L30.T15RYP.2023164T163126.v2.0.VAA.tif', 'https://data.lpdaac.earthdatacloud.nasa.gov/lp-prod-protected/HLSL30.020/HLS.L30.T15RYP.2023164T163126.v2.0/HLS.L30.T15RYP.2023164T163126.v2.0.SAA.tif', 'https://data.lpdaac.earthdatacloud.nasa.gov/lp-prod-protected/HLSL30.020/HLS.L30.T15RYP.2023164T163126.v2.0/HLS.L30.T15RYP.2023164T163126.v2.0.SZA.tif', 'https://data.lpdaac.earthdatacloud.nasa.gov/lp-prod-protected/HLSL30.020/HLS.L30.T15RYP.2023164T163126.v2.0/HLS.L30.T15RYP.2023164T163126.v2.0.B05.tif', 'https://data.lpdaac.earthdatacloud.nasa.gov/lp-prod-protected/HLSL30.020/HLS.L30.T15RYP.2023164T163126.v2.0/HLS.L30.T15RYP.2023164T163126.v2.0.B06.tif'],\n",
              " Collection: {'EntryTitle': 'HLS Landsat Operational Land Imager Surface Reflectance and TOA Brightness Daily Global 30m v2.0'}\n",
              " Spatial coverage: {'HorizontalSpatialDomain': {'Geometry': {'GPolygons': [{'Boundary': {'Points': [{'Longitude': -89.82661214, 'Latitude': 28.80213717}, {'Longitude': -89.79583778, 'Latitude': 29.79160422}, {'Longitude': -90.93082361, 'Latitude': 29.81426153}, {'Longitude': -90.95072084, 'Latitude': 28.82389994}, {'Longitude': -89.82661214, 'Latitude': 28.80213717}]}}]}}}\n",
              " Temporal coverage: {'RangeDateTime': {'BeginningDateTime': '2023-06-13T16:31:26.844Z', 'EndingDateTime': '2023-06-13T16:31:50.735Z'}}\n",
              " Size(MB): 171.5450143814087\n",
              " Data: ['https://data.lpdaac.earthdatacloud.nasa.gov/lp-prod-protected/HLSL30.020/HLS.L30.T15RYN.2023164T163126.v2.0/HLS.L30.T15RYN.2023164T163126.v2.0.B02.tif', 'https://data.lpdaac.earthdatacloud.nasa.gov/lp-prod-protected/HLSL30.020/HLS.L30.T15RYN.2023164T163126.v2.0/HLS.L30.T15RYN.2023164T163126.v2.0.B04.tif', 'https://data.lpdaac.earthdatacloud.nasa.gov/lp-prod-protected/HLSL30.020/HLS.L30.T15RYN.2023164T163126.v2.0/HLS.L30.T15RYN.2023164T163126.v2.0.Fmask.tif', 'https://data.lpdaac.earthdatacloud.nasa.gov/lp-prod-protected/HLSL30.020/HLS.L30.T15RYN.2023164T163126.v2.0/HLS.L30.T15RYN.2023164T163126.v2.0.B07.tif', 'https://data.lpdaac.earthdatacloud.nasa.gov/lp-prod-protected/HLSL30.020/HLS.L30.T15RYN.2023164T163126.v2.0/HLS.L30.T15RYN.2023164T163126.v2.0.VAA.tif', 'https://data.lpdaac.earthdatacloud.nasa.gov/lp-prod-protected/HLSL30.020/HLS.L30.T15RYN.2023164T163126.v2.0/HLS.L30.T15RYN.2023164T163126.v2.0.B05.tif', 'https://data.lpdaac.earthdatacloud.nasa.gov/lp-prod-protected/HLSL30.020/HLS.L30.T15RYN.2023164T163126.v2.0/HLS.L30.T15RYN.2023164T163126.v2.0.B03.tif', 'https://data.lpdaac.earthdatacloud.nasa.gov/lp-prod-protected/HLSL30.020/HLS.L30.T15RYN.2023164T163126.v2.0/HLS.L30.T15RYN.2023164T163126.v2.0.B10.tif', 'https://data.lpdaac.earthdatacloud.nasa.gov/lp-prod-protected/HLSL30.020/HLS.L30.T15RYN.2023164T163126.v2.0/HLS.L30.T15RYN.2023164T163126.v2.0.B09.tif', 'https://data.lpdaac.earthdatacloud.nasa.gov/lp-prod-protected/HLSL30.020/HLS.L30.T15RYN.2023164T163126.v2.0/HLS.L30.T15RYN.2023164T163126.v2.0.VZA.tif', 'https://data.lpdaac.earthdatacloud.nasa.gov/lp-prod-protected/HLSL30.020/HLS.L30.T15RYN.2023164T163126.v2.0/HLS.L30.T15RYN.2023164T163126.v2.0.B06.tif', 'https://data.lpdaac.earthdatacloud.nasa.gov/lp-prod-protected/HLSL30.020/HLS.L30.T15RYN.2023164T163126.v2.0/HLS.L30.T15RYN.2023164T163126.v2.0.B01.tif', 'https://data.lpdaac.earthdatacloud.nasa.gov/lp-prod-protected/HLSL30.020/HLS.L30.T15RYN.2023164T163126.v2.0/HLS.L30.T15RYN.2023164T163126.v2.0.SZA.tif', 'https://data.lpdaac.earthdatacloud.nasa.gov/lp-prod-protected/HLSL30.020/HLS.L30.T15RYN.2023164T163126.v2.0/HLS.L30.T15RYN.2023164T163126.v2.0.SAA.tif', 'https://data.lpdaac.earthdatacloud.nasa.gov/lp-prod-protected/HLSL30.020/HLS.L30.T15RYN.2023164T163126.v2.0/HLS.L30.T15RYN.2023164T163126.v2.0.B11.tif'],\n",
              " Collection: {'EntryTitle': 'HLS Landsat Operational Land Imager Surface Reflectance and TOA Brightness Daily Global 30m v2.0'}\n",
              " Spatial coverage: {'HorizontalSpatialDomain': {'Geometry': {'GPolygons': [{'Boundary': {'Points': [{'Longitude': -90.07372506, 'Latitude': 28.80444525}, {'Longitude': -89.57658349, 'Latitude': 28.81512884}, {'Longitude': -89.31002534, 'Latitude': 29.81026904}, {'Longitude': -90.10353675, 'Latitude': 29.79400715}, {'Longitude': -90.07372506, 'Latitude': 28.80444525}]}}]}}}\n",
              " Temporal coverage: {'RangeDateTime': {'BeginningDateTime': '2023-06-13T16:31:26.844Z', 'EndingDateTime': '2023-06-13T16:31:50.735Z'}}\n",
              " Size(MB): 101.45634651184082\n",
              " Data: ['https://data.lpdaac.earthdatacloud.nasa.gov/lp-prod-protected/HLSL30.020/HLS.L30.T16RBT.2023164T163126.v2.0/HLS.L30.T16RBT.2023164T163126.v2.0.B09.tif', 'https://data.lpdaac.earthdatacloud.nasa.gov/lp-prod-protected/HLSL30.020/HLS.L30.T16RBT.2023164T163126.v2.0/HLS.L30.T16RBT.2023164T163126.v2.0.SAA.tif', 'https://data.lpdaac.earthdatacloud.nasa.gov/lp-prod-protected/HLSL30.020/HLS.L30.T16RBT.2023164T163126.v2.0/HLS.L30.T16RBT.2023164T163126.v2.0.B11.tif', 'https://data.lpdaac.earthdatacloud.nasa.gov/lp-prod-protected/HLSL30.020/HLS.L30.T16RBT.2023164T163126.v2.0/HLS.L30.T16RBT.2023164T163126.v2.0.B01.tif', 'https://data.lpdaac.earthdatacloud.nasa.gov/lp-prod-protected/HLSL30.020/HLS.L30.T16RBT.2023164T163126.v2.0/HLS.L30.T16RBT.2023164T163126.v2.0.B03.tif', 'https://data.lpdaac.earthdatacloud.nasa.gov/lp-prod-protected/HLSL30.020/HLS.L30.T16RBT.2023164T163126.v2.0/HLS.L30.T16RBT.2023164T163126.v2.0.VZA.tif', 'https://data.lpdaac.earthdatacloud.nasa.gov/lp-prod-protected/HLSL30.020/HLS.L30.T16RBT.2023164T163126.v2.0/HLS.L30.T16RBT.2023164T163126.v2.0.B07.tif', 'https://data.lpdaac.earthdatacloud.nasa.gov/lp-prod-protected/HLSL30.020/HLS.L30.T16RBT.2023164T163126.v2.0/HLS.L30.T16RBT.2023164T163126.v2.0.Fmask.tif', 'https://data.lpdaac.earthdatacloud.nasa.gov/lp-prod-protected/HLSL30.020/HLS.L30.T16RBT.2023164T163126.v2.0/HLS.L30.T16RBT.2023164T163126.v2.0.B10.tif', 'https://data.lpdaac.earthdatacloud.nasa.gov/lp-prod-protected/HLSL30.020/HLS.L30.T16RBT.2023164T163126.v2.0/HLS.L30.T16RBT.2023164T163126.v2.0.B04.tif', 'https://data.lpdaac.earthdatacloud.nasa.gov/lp-prod-protected/HLSL30.020/HLS.L30.T16RBT.2023164T163126.v2.0/HLS.L30.T16RBT.2023164T163126.v2.0.B05.tif', 'https://data.lpdaac.earthdatacloud.nasa.gov/lp-prod-protected/HLSL30.020/HLS.L30.T16RBT.2023164T163126.v2.0/HLS.L30.T16RBT.2023164T163126.v2.0.SZA.tif', 'https://data.lpdaac.earthdatacloud.nasa.gov/lp-prod-protected/HLSL30.020/HLS.L30.T16RBT.2023164T163126.v2.0/HLS.L30.T16RBT.2023164T163126.v2.0.VAA.tif', 'https://data.lpdaac.earthdatacloud.nasa.gov/lp-prod-protected/HLSL30.020/HLS.L30.T16RBT.2023164T163126.v2.0/HLS.L30.T16RBT.2023164T163126.v2.0.B02.tif', 'https://data.lpdaac.earthdatacloud.nasa.gov/lp-prod-protected/HLSL30.020/HLS.L30.T16RBT.2023164T163126.v2.0/HLS.L30.T16RBT.2023164T163126.v2.0.B06.tif'],\n",
              " Collection: {'EntryTitle': 'HLS Landsat Operational Land Imager Surface Reflectance and TOA Brightness Daily Global 30m v2.0'}\n",
              " Spatial coverage: {'HorizontalSpatialDomain': {'Geometry': {'GPolygons': [{'Boundary': {'Points': [{'Longitude': -89.79864173, 'Latitude': 29.70347853}, {'Longitude': -89.76643746, 'Latitude': 30.69278312}, {'Longitude': -90.91181412, 'Latitude': 30.71627038}, {'Longitude': -90.93263654, 'Latitude': 29.72605548}, {'Longitude': -89.79864173, 'Latitude': 29.70347853}]}}]}}}\n",
              " Temporal coverage: {'RangeDateTime': {'BeginningDateTime': '2023-06-21T16:31:34.135Z', 'EndingDateTime': '2023-06-21T16:31:34.135Z'}}\n",
              " Size(MB): 195.57819747924805\n",
              " Data: ['https://data.lpdaac.earthdatacloud.nasa.gov/lp-prod-protected/HLSL30.020/HLS.L30.T15RYP.2023172T163134.v2.0/HLS.L30.T15RYP.2023172T163134.v2.0.B02.tif', 'https://data.lpdaac.earthdatacloud.nasa.gov/lp-prod-protected/HLSL30.020/HLS.L30.T15RYP.2023172T163134.v2.0/HLS.L30.T15RYP.2023172T163134.v2.0.B03.tif', 'https://data.lpdaac.earthdatacloud.nasa.gov/lp-prod-protected/HLSL30.020/HLS.L30.T15RYP.2023172T163134.v2.0/HLS.L30.T15RYP.2023172T163134.v2.0.VZA.tif', 'https://data.lpdaac.earthdatacloud.nasa.gov/lp-prod-protected/HLSL30.020/HLS.L30.T15RYP.2023172T163134.v2.0/HLS.L30.T15RYP.2023172T163134.v2.0.B04.tif', 'https://data.lpdaac.earthdatacloud.nasa.gov/lp-prod-protected/HLSL30.020/HLS.L30.T15RYP.2023172T163134.v2.0/HLS.L30.T15RYP.2023172T163134.v2.0.Fmask.tif', 'https://data.lpdaac.earthdatacloud.nasa.gov/lp-prod-protected/HLSL30.020/HLS.L30.T15RYP.2023172T163134.v2.0/HLS.L30.T15RYP.2023172T163134.v2.0.B05.tif', 'https://data.lpdaac.earthdatacloud.nasa.gov/lp-prod-protected/HLSL30.020/HLS.L30.T15RYP.2023172T163134.v2.0/HLS.L30.T15RYP.2023172T163134.v2.0.B06.tif', 'https://data.lpdaac.earthdatacloud.nasa.gov/lp-prod-protected/HLSL30.020/HLS.L30.T15RYP.2023172T163134.v2.0/HLS.L30.T15RYP.2023172T163134.v2.0.B11.tif', 'https://data.lpdaac.earthdatacloud.nasa.gov/lp-prod-protected/HLSL30.020/HLS.L30.T15RYP.2023172T163134.v2.0/HLS.L30.T15RYP.2023172T163134.v2.0.B10.tif', 'https://data.lpdaac.earthdatacloud.nasa.gov/lp-prod-protected/HLSL30.020/HLS.L30.T15RYP.2023172T163134.v2.0/HLS.L30.T15RYP.2023172T163134.v2.0.B01.tif', 'https://data.lpdaac.earthdatacloud.nasa.gov/lp-prod-protected/HLSL30.020/HLS.L30.T15RYP.2023172T163134.v2.0/HLS.L30.T15RYP.2023172T163134.v2.0.VAA.tif', 'https://data.lpdaac.earthdatacloud.nasa.gov/lp-prod-protected/HLSL30.020/HLS.L30.T15RYP.2023172T163134.v2.0/HLS.L30.T15RYP.2023172T163134.v2.0.B07.tif', 'https://data.lpdaac.earthdatacloud.nasa.gov/lp-prod-protected/HLSL30.020/HLS.L30.T15RYP.2023172T163134.v2.0/HLS.L30.T15RYP.2023172T163134.v2.0.SAA.tif', 'https://data.lpdaac.earthdatacloud.nasa.gov/lp-prod-protected/HLSL30.020/HLS.L30.T15RYP.2023172T163134.v2.0/HLS.L30.T15RYP.2023172T163134.v2.0.SZA.tif', 'https://data.lpdaac.earthdatacloud.nasa.gov/lp-prod-protected/HLSL30.020/HLS.L30.T15RYP.2023172T163134.v2.0/HLS.L30.T15RYP.2023172T163134.v2.0.B09.tif'],\n",
              " Collection: {'EntryTitle': 'HLS Landsat Operational Land Imager Surface Reflectance and TOA Brightness Daily Global 30m v2.0'}\n",
              " Spatial coverage: {'HorizontalSpatialDomain': {'Geometry': {'GPolygons': [{'Boundary': {'Points': [{'Longitude': -89.82661214, 'Latitude': 28.80213717}, {'Longitude': -89.79583778, 'Latitude': 29.79160422}, {'Longitude': -90.93082361, 'Latitude': 29.81426153}, {'Longitude': -90.95072084, 'Latitude': 28.82389994}, {'Longitude': -89.82661214, 'Latitude': 28.80213717}]}}]}}}\n",
              " Temporal coverage: {'RangeDateTime': {'BeginningDateTime': '2023-06-21T16:31:34.135Z', 'EndingDateTime': '2023-06-21T16:31:58.030Z'}}\n",
              " Size(MB): 171.61441230773926\n",
              " Data: ['https://data.lpdaac.earthdatacloud.nasa.gov/lp-prod-protected/HLSL30.020/HLS.L30.T15RYN.2023172T163134.v2.0/HLS.L30.T15RYN.2023172T163134.v2.0.B10.tif', 'https://data.lpdaac.earthdatacloud.nasa.gov/lp-prod-protected/HLSL30.020/HLS.L30.T15RYN.2023172T163134.v2.0/HLS.L30.T15RYN.2023172T163134.v2.0.B01.tif', 'https://data.lpdaac.earthdatacloud.nasa.gov/lp-prod-protected/HLSL30.020/HLS.L30.T15RYN.2023172T163134.v2.0/HLS.L30.T15RYN.2023172T163134.v2.0.B07.tif', 'https://data.lpdaac.earthdatacloud.nasa.gov/lp-prod-protected/HLSL30.020/HLS.L30.T15RYN.2023172T163134.v2.0/HLS.L30.T15RYN.2023172T163134.v2.0.SZA.tif', 'https://data.lpdaac.earthdatacloud.nasa.gov/lp-prod-protected/HLSL30.020/HLS.L30.T15RYN.2023172T163134.v2.0/HLS.L30.T15RYN.2023172T163134.v2.0.B09.tif', 'https://data.lpdaac.earthdatacloud.nasa.gov/lp-prod-protected/HLSL30.020/HLS.L30.T15RYN.2023172T163134.v2.0/HLS.L30.T15RYN.2023172T163134.v2.0.B06.tif', 'https://data.lpdaac.earthdatacloud.nasa.gov/lp-prod-protected/HLSL30.020/HLS.L30.T15RYN.2023172T163134.v2.0/HLS.L30.T15RYN.2023172T163134.v2.0.B05.tif', 'https://data.lpdaac.earthdatacloud.nasa.gov/lp-prod-protected/HLSL30.020/HLS.L30.T15RYN.2023172T163134.v2.0/HLS.L30.T15RYN.2023172T163134.v2.0.VAA.tif', 'https://data.lpdaac.earthdatacloud.nasa.gov/lp-prod-protected/HLSL30.020/HLS.L30.T15RYN.2023172T163134.v2.0/HLS.L30.T15RYN.2023172T163134.v2.0.VZA.tif', 'https://data.lpdaac.earthdatacloud.nasa.gov/lp-prod-protected/HLSL30.020/HLS.L30.T15RYN.2023172T163134.v2.0/HLS.L30.T15RYN.2023172T163134.v2.0.B04.tif', 'https://data.lpdaac.earthdatacloud.nasa.gov/lp-prod-protected/HLSL30.020/HLS.L30.T15RYN.2023172T163134.v2.0/HLS.L30.T15RYN.2023172T163134.v2.0.SAA.tif', 'https://data.lpdaac.earthdatacloud.nasa.gov/lp-prod-protected/HLSL30.020/HLS.L30.T15RYN.2023172T163134.v2.0/HLS.L30.T15RYN.2023172T163134.v2.0.B03.tif', 'https://data.lpdaac.earthdatacloud.nasa.gov/lp-prod-protected/HLSL30.020/HLS.L30.T15RYN.2023172T163134.v2.0/HLS.L30.T15RYN.2023172T163134.v2.0.B11.tif', 'https://data.lpdaac.earthdatacloud.nasa.gov/lp-prod-protected/HLSL30.020/HLS.L30.T15RYN.2023172T163134.v2.0/HLS.L30.T15RYN.2023172T163134.v2.0.Fmask.tif', 'https://data.lpdaac.earthdatacloud.nasa.gov/lp-prod-protected/HLSL30.020/HLS.L30.T15RYN.2023172T163134.v2.0/HLS.L30.T15RYN.2023172T163134.v2.0.B02.tif'],\n",
              " Collection: {'EntryTitle': 'HLS Landsat Operational Land Imager Surface Reflectance and TOA Brightness Daily Global 30m v2.0'}\n",
              " Spatial coverage: {'HorizontalSpatialDomain': {'Geometry': {'GPolygons': [{'Boundary': {'Points': [{'Longitude': -90.10082051, 'Latitude': 29.70587294}, {'Longitude': -89.27979728, 'Latitude': 29.72256609}, {'Longitude': -89.00844337, 'Latitude': 30.71752903}, {'Longitude': -90.13201749, 'Latitude': 30.69527405}, {'Longitude': -90.10082051, 'Latitude': 29.70587294}]}}]}}}\n",
              " Temporal coverage: {'RangeDateTime': {'BeginningDateTime': '2023-06-21T16:31:34.135Z', 'EndingDateTime': '2023-06-21T16:31:34.135Z'}}\n",
              " Size(MB): 164.33089447021484\n",
              " Data: ['https://data.lpdaac.earthdatacloud.nasa.gov/lp-prod-protected/HLSL30.020/HLS.L30.T16RBU.2023172T163134.v2.0/HLS.L30.T16RBU.2023172T163134.v2.0.B11.tif', 'https://data.lpdaac.earthdatacloud.nasa.gov/lp-prod-protected/HLSL30.020/HLS.L30.T16RBU.2023172T163134.v2.0/HLS.L30.T16RBU.2023172T163134.v2.0.B05.tif', 'https://data.lpdaac.earthdatacloud.nasa.gov/lp-prod-protected/HLSL30.020/HLS.L30.T16RBU.2023172T163134.v2.0/HLS.L30.T16RBU.2023172T163134.v2.0.B06.tif', 'https://data.lpdaac.earthdatacloud.nasa.gov/lp-prod-protected/HLSL30.020/HLS.L30.T16RBU.2023172T163134.v2.0/HLS.L30.T16RBU.2023172T163134.v2.0.SAA.tif', 'https://data.lpdaac.earthdatacloud.nasa.gov/lp-prod-protected/HLSL30.020/HLS.L30.T16RBU.2023172T163134.v2.0/HLS.L30.T16RBU.2023172T163134.v2.0.B02.tif', 'https://data.lpdaac.earthdatacloud.nasa.gov/lp-prod-protected/HLSL30.020/HLS.L30.T16RBU.2023172T163134.v2.0/HLS.L30.T16RBU.2023172T163134.v2.0.B09.tif', 'https://data.lpdaac.earthdatacloud.nasa.gov/lp-prod-protected/HLSL30.020/HLS.L30.T16RBU.2023172T163134.v2.0/HLS.L30.T16RBU.2023172T163134.v2.0.B10.tif', 'https://data.lpdaac.earthdatacloud.nasa.gov/lp-prod-protected/HLSL30.020/HLS.L30.T16RBU.2023172T163134.v2.0/HLS.L30.T16RBU.2023172T163134.v2.0.VAA.tif', 'https://data.lpdaac.earthdatacloud.nasa.gov/lp-prod-protected/HLSL30.020/HLS.L30.T16RBU.2023172T163134.v2.0/HLS.L30.T16RBU.2023172T163134.v2.0.B04.tif', 'https://data.lpdaac.earthdatacloud.nasa.gov/lp-prod-protected/HLSL30.020/HLS.L30.T16RBU.2023172T163134.v2.0/HLS.L30.T16RBU.2023172T163134.v2.0.SZA.tif', 'https://data.lpdaac.earthdatacloud.nasa.gov/lp-prod-protected/HLSL30.020/HLS.L30.T16RBU.2023172T163134.v2.0/HLS.L30.T16RBU.2023172T163134.v2.0.Fmask.tif', 'https://data.lpdaac.earthdatacloud.nasa.gov/lp-prod-protected/HLSL30.020/HLS.L30.T16RBU.2023172T163134.v2.0/HLS.L30.T16RBU.2023172T163134.v2.0.B07.tif', 'https://data.lpdaac.earthdatacloud.nasa.gov/lp-prod-protected/HLSL30.020/HLS.L30.T16RBU.2023172T163134.v2.0/HLS.L30.T16RBU.2023172T163134.v2.0.B03.tif', 'https://data.lpdaac.earthdatacloud.nasa.gov/lp-prod-protected/HLSL30.020/HLS.L30.T16RBU.2023172T163134.v2.0/HLS.L30.T16RBU.2023172T163134.v2.0.B01.tif', 'https://data.lpdaac.earthdatacloud.nasa.gov/lp-prod-protected/HLSL30.020/HLS.L30.T16RBU.2023172T163134.v2.0/HLS.L30.T16RBU.2023172T163134.v2.0.VZA.tif'],\n",
              " Collection: {'EntryTitle': 'HLS Landsat Operational Land Imager Surface Reflectance and TOA Brightness Daily Global 30m v2.0'}\n",
              " Spatial coverage: {'HorizontalSpatialDomain': {'Geometry': {'GPolygons': [{'Boundary': {'Points': [{'Longitude': -90.07372506, 'Latitude': 28.80444525}, {'Longitude': -89.52374567, 'Latitude': 28.81585717}, {'Longitude': -89.25604799, 'Latitude': 29.811202}, {'Longitude': -90.10353675, 'Latitude': 29.79400715}, {'Longitude': -90.07372506, 'Latitude': 28.80444525}]}}]}}}\n",
              " Temporal coverage: {'RangeDateTime': {'BeginningDateTime': '2023-06-21T16:31:34.135Z', 'EndingDateTime': '2023-06-21T16:31:58.030Z'}}\n",
              " Size(MB): 115.42687129974365\n",
              " Data: ['https://data.lpdaac.earthdatacloud.nasa.gov/lp-prod-protected/HLSL30.020/HLS.L30.T16RBT.2023172T163134.v2.0/HLS.L30.T16RBT.2023172T163134.v2.0.B04.tif', 'https://data.lpdaac.earthdatacloud.nasa.gov/lp-prod-protected/HLSL30.020/HLS.L30.T16RBT.2023172T163134.v2.0/HLS.L30.T16RBT.2023172T163134.v2.0.B07.tif', 'https://data.lpdaac.earthdatacloud.nasa.gov/lp-prod-protected/HLSL30.020/HLS.L30.T16RBT.2023172T163134.v2.0/HLS.L30.T16RBT.2023172T163134.v2.0.VAA.tif', 'https://data.lpdaac.earthdatacloud.nasa.gov/lp-prod-protected/HLSL30.020/HLS.L30.T16RBT.2023172T163134.v2.0/HLS.L30.T16RBT.2023172T163134.v2.0.B11.tif', 'https://data.lpdaac.earthdatacloud.nasa.gov/lp-prod-protected/HLSL30.020/HLS.L30.T16RBT.2023172T163134.v2.0/HLS.L30.T16RBT.2023172T163134.v2.0.B01.tif', 'https://data.lpdaac.earthdatacloud.nasa.gov/lp-prod-protected/HLSL30.020/HLS.L30.T16RBT.2023172T163134.v2.0/HLS.L30.T16RBT.2023172T163134.v2.0.B06.tif', 'https://data.lpdaac.earthdatacloud.nasa.gov/lp-prod-protected/HLSL30.020/HLS.L30.T16RBT.2023172T163134.v2.0/HLS.L30.T16RBT.2023172T163134.v2.0.B03.tif', 'https://data.lpdaac.earthdatacloud.nasa.gov/lp-prod-protected/HLSL30.020/HLS.L30.T16RBT.2023172T163134.v2.0/HLS.L30.T16RBT.2023172T163134.v2.0.SZA.tif', 'https://data.lpdaac.earthdatacloud.nasa.gov/lp-prod-protected/HLSL30.020/HLS.L30.T16RBT.2023172T163134.v2.0/HLS.L30.T16RBT.2023172T163134.v2.0.B02.tif', 'https://data.lpdaac.earthdatacloud.nasa.gov/lp-prod-protected/HLSL30.020/HLS.L30.T16RBT.2023172T163134.v2.0/HLS.L30.T16RBT.2023172T163134.v2.0.Fmask.tif', 'https://data.lpdaac.earthdatacloud.nasa.gov/lp-prod-protected/HLSL30.020/HLS.L30.T16RBT.2023172T163134.v2.0/HLS.L30.T16RBT.2023172T163134.v2.0.B05.tif', 'https://data.lpdaac.earthdatacloud.nasa.gov/lp-prod-protected/HLSL30.020/HLS.L30.T16RBT.2023172T163134.v2.0/HLS.L30.T16RBT.2023172T163134.v2.0.SAA.tif', 'https://data.lpdaac.earthdatacloud.nasa.gov/lp-prod-protected/HLSL30.020/HLS.L30.T16RBT.2023172T163134.v2.0/HLS.L30.T16RBT.2023172T163134.v2.0.B09.tif', 'https://data.lpdaac.earthdatacloud.nasa.gov/lp-prod-protected/HLSL30.020/HLS.L30.T16RBT.2023172T163134.v2.0/HLS.L30.T16RBT.2023172T163134.v2.0.VZA.tif', 'https://data.lpdaac.earthdatacloud.nasa.gov/lp-prod-protected/HLSL30.020/HLS.L30.T16RBT.2023172T163134.v2.0/HLS.L30.T16RBT.2023172T163134.v2.0.B10.tif'],\n",
              " Collection: {'EntryTitle': 'HLS Landsat Operational Land Imager Surface Reflectance and TOA Brightness Daily Global 30m v2.0'}\n",
              " Spatial coverage: {'HorizontalSpatialDomain': {'Geometry': {'GPolygons': [{'Boundary': {'Points': [{'Longitude': -90.10082051, 'Latitude': 29.70587294}, {'Longitude': -89.30087944, 'Latitude': 29.72247183}, {'Longitude': -89.02973637, 'Latitude': 30.71719774}, {'Longitude': -90.13201749, 'Latitude': 30.69527405}, {'Longitude': -90.10082051, 'Latitude': 29.70587294}]}}]}}}\n",
              " Temporal coverage: {'RangeDateTime': {'BeginningDateTime': '2023-06-29T16:31:32.405Z', 'EndingDateTime': '2023-06-29T16:31:32.405Z'}}\n",
              " Size(MB): 152.8395118713379\n",
              " Data: ['https://data.lpdaac.earthdatacloud.nasa.gov/lp-prod-protected/HLSL30.020/HLS.L30.T16RBU.2023180T163132.v2.0/HLS.L30.T16RBU.2023180T163132.v2.0.B10.tif', 'https://data.lpdaac.earthdatacloud.nasa.gov/lp-prod-protected/HLSL30.020/HLS.L30.T16RBU.2023180T163132.v2.0/HLS.L30.T16RBU.2023180T163132.v2.0.SZA.tif', 'https://data.lpdaac.earthdatacloud.nasa.gov/lp-prod-protected/HLSL30.020/HLS.L30.T16RBU.2023180T163132.v2.0/HLS.L30.T16RBU.2023180T163132.v2.0.B09.tif', 'https://data.lpdaac.earthdatacloud.nasa.gov/lp-prod-protected/HLSL30.020/HLS.L30.T16RBU.2023180T163132.v2.0/HLS.L30.T16RBU.2023180T163132.v2.0.Fmask.tif', 'https://data.lpdaac.earthdatacloud.nasa.gov/lp-prod-protected/HLSL30.020/HLS.L30.T16RBU.2023180T163132.v2.0/HLS.L30.T16RBU.2023180T163132.v2.0.B03.tif', 'https://data.lpdaac.earthdatacloud.nasa.gov/lp-prod-protected/HLSL30.020/HLS.L30.T16RBU.2023180T163132.v2.0/HLS.L30.T16RBU.2023180T163132.v2.0.B06.tif', 'https://data.lpdaac.earthdatacloud.nasa.gov/lp-prod-protected/HLSL30.020/HLS.L30.T16RBU.2023180T163132.v2.0/HLS.L30.T16RBU.2023180T163132.v2.0.B11.tif', 'https://data.lpdaac.earthdatacloud.nasa.gov/lp-prod-protected/HLSL30.020/HLS.L30.T16RBU.2023180T163132.v2.0/HLS.L30.T16RBU.2023180T163132.v2.0.SAA.tif', 'https://data.lpdaac.earthdatacloud.nasa.gov/lp-prod-protected/HLSL30.020/HLS.L30.T16RBU.2023180T163132.v2.0/HLS.L30.T16RBU.2023180T163132.v2.0.B05.tif', 'https://data.lpdaac.earthdatacloud.nasa.gov/lp-prod-protected/HLSL30.020/HLS.L30.T16RBU.2023180T163132.v2.0/HLS.L30.T16RBU.2023180T163132.v2.0.VZA.tif', 'https://data.lpdaac.earthdatacloud.nasa.gov/lp-prod-protected/HLSL30.020/HLS.L30.T16RBU.2023180T163132.v2.0/HLS.L30.T16RBU.2023180T163132.v2.0.B07.tif', 'https://data.lpdaac.earthdatacloud.nasa.gov/lp-prod-protected/HLSL30.020/HLS.L30.T16RBU.2023180T163132.v2.0/HLS.L30.T16RBU.2023180T163132.v2.0.B01.tif', 'https://data.lpdaac.earthdatacloud.nasa.gov/lp-prod-protected/HLSL30.020/HLS.L30.T16RBU.2023180T163132.v2.0/HLS.L30.T16RBU.2023180T163132.v2.0.VAA.tif', 'https://data.lpdaac.earthdatacloud.nasa.gov/lp-prod-protected/HLSL30.020/HLS.L30.T16RBU.2023180T163132.v2.0/HLS.L30.T16RBU.2023180T163132.v2.0.B02.tif', 'https://data.lpdaac.earthdatacloud.nasa.gov/lp-prod-protected/HLSL30.020/HLS.L30.T16RBU.2023180T163132.v2.0/HLS.L30.T16RBU.2023180T163132.v2.0.B04.tif'],\n",
              " Collection: {'EntryTitle': 'HLS Landsat Operational Land Imager Surface Reflectance and TOA Brightness Daily Global 30m v2.0'}\n",
              " Spatial coverage: {'HorizontalSpatialDomain': {'Geometry': {'GPolygons': [{'Boundary': {'Points': [{'Longitude': -89.79864173, 'Latitude': 29.70347853}, {'Longitude': -89.76643746, 'Latitude': 30.69278312}, {'Longitude': -90.91181412, 'Latitude': 30.71627038}, {'Longitude': -90.93263654, 'Latitude': 29.72605548}, {'Longitude': -89.79864173, 'Latitude': 29.70347853}]}}]}}}\n",
              " Temporal coverage: {'RangeDateTime': {'BeginningDateTime': '2023-06-29T16:31:32.405Z', 'EndingDateTime': '2023-06-29T16:31:32.405Z'}}\n",
              " Size(MB): 176.9731960296631\n",
              " Data: ['https://data.lpdaac.earthdatacloud.nasa.gov/lp-prod-protected/HLSL30.020/HLS.L30.T15RYP.2023180T163132.v2.0/HLS.L30.T15RYP.2023180T163132.v2.0.B04.tif', 'https://data.lpdaac.earthdatacloud.nasa.gov/lp-prod-protected/HLSL30.020/HLS.L30.T15RYP.2023180T163132.v2.0/HLS.L30.T15RYP.2023180T163132.v2.0.B02.tif', 'https://data.lpdaac.earthdatacloud.nasa.gov/lp-prod-protected/HLSL30.020/HLS.L30.T15RYP.2023180T163132.v2.0/HLS.L30.T15RYP.2023180T163132.v2.0.B07.tif', 'https://data.lpdaac.earthdatacloud.nasa.gov/lp-prod-protected/HLSL30.020/HLS.L30.T15RYP.2023180T163132.v2.0/HLS.L30.T15RYP.2023180T163132.v2.0.B09.tif', 'https://data.lpdaac.earthdatacloud.nasa.gov/lp-prod-protected/HLSL30.020/HLS.L30.T15RYP.2023180T163132.v2.0/HLS.L30.T15RYP.2023180T163132.v2.0.SZA.tif', 'https://data.lpdaac.earthdatacloud.nasa.gov/lp-prod-protected/HLSL30.020/HLS.L30.T15RYP.2023180T163132.v2.0/HLS.L30.T15RYP.2023180T163132.v2.0.Fmask.tif', 'https://data.lpdaac.earthdatacloud.nasa.gov/lp-prod-protected/HLSL30.020/HLS.L30.T15RYP.2023180T163132.v2.0/HLS.L30.T15RYP.2023180T163132.v2.0.VZA.tif', 'https://data.lpdaac.earthdatacloud.nasa.gov/lp-prod-protected/HLSL30.020/HLS.L30.T15RYP.2023180T163132.v2.0/HLS.L30.T15RYP.2023180T163132.v2.0.B06.tif', 'https://data.lpdaac.earthdatacloud.nasa.gov/lp-prod-protected/HLSL30.020/HLS.L30.T15RYP.2023180T163132.v2.0/HLS.L30.T15RYP.2023180T163132.v2.0.SAA.tif', 'https://data.lpdaac.earthdatacloud.nasa.gov/lp-prod-protected/HLSL30.020/HLS.L30.T15RYP.2023180T163132.v2.0/HLS.L30.T15RYP.2023180T163132.v2.0.B11.tif', 'https://data.lpdaac.earthdatacloud.nasa.gov/lp-prod-protected/HLSL30.020/HLS.L30.T15RYP.2023180T163132.v2.0/HLS.L30.T15RYP.2023180T163132.v2.0.B03.tif', 'https://data.lpdaac.earthdatacloud.nasa.gov/lp-prod-protected/HLSL30.020/HLS.L30.T15RYP.2023180T163132.v2.0/HLS.L30.T15RYP.2023180T163132.v2.0.VAA.tif', 'https://data.lpdaac.earthdatacloud.nasa.gov/lp-prod-protected/HLSL30.020/HLS.L30.T15RYP.2023180T163132.v2.0/HLS.L30.T15RYP.2023180T163132.v2.0.B05.tif', 'https://data.lpdaac.earthdatacloud.nasa.gov/lp-prod-protected/HLSL30.020/HLS.L30.T15RYP.2023180T163132.v2.0/HLS.L30.T15RYP.2023180T163132.v2.0.B10.tif', 'https://data.lpdaac.earthdatacloud.nasa.gov/lp-prod-protected/HLSL30.020/HLS.L30.T15RYP.2023180T163132.v2.0/HLS.L30.T15RYP.2023180T163132.v2.0.B01.tif'],\n",
              " Collection: {'EntryTitle': 'HLS Landsat Operational Land Imager Surface Reflectance and TOA Brightness Daily Global 30m v2.0'}\n",
              " Spatial coverage: {'HorizontalSpatialDomain': {'Geometry': {'GPolygons': [{'Boundary': {'Points': [{'Longitude': -90.07372506, 'Latitude': 28.80444525}, {'Longitude': -89.54493988, 'Latitude': 28.81545895}, {'Longitude': -89.27714289, 'Latitude': 29.81084001}, {'Longitude': -90.10353675, 'Latitude': 29.79400715}, {'Longitude': -90.07372506, 'Latitude': 28.80444525}]}}]}}}\n",
              " Temporal coverage: {'RangeDateTime': {'BeginningDateTime': '2023-06-29T16:31:32.405Z', 'EndingDateTime': '2023-06-29T16:31:56.296Z'}}\n",
              " Size(MB): 100.81501483917236\n",
              " Data: ['https://data.lpdaac.earthdatacloud.nasa.gov/lp-prod-protected/HLSL30.020/HLS.L30.T16RBT.2023180T163132.v2.0/HLS.L30.T16RBT.2023180T163132.v2.0.SZA.tif', 'https://data.lpdaac.earthdatacloud.nasa.gov/lp-prod-protected/HLSL30.020/HLS.L30.T16RBT.2023180T163132.v2.0/HLS.L30.T16RBT.2023180T163132.v2.0.B01.tif', 'https://data.lpdaac.earthdatacloud.nasa.gov/lp-prod-protected/HLSL30.020/HLS.L30.T16RBT.2023180T163132.v2.0/HLS.L30.T16RBT.2023180T163132.v2.0.Fmask.tif', 'https://data.lpdaac.earthdatacloud.nasa.gov/lp-prod-protected/HLSL30.020/HLS.L30.T16RBT.2023180T163132.v2.0/HLS.L30.T16RBT.2023180T163132.v2.0.B05.tif', 'https://data.lpdaac.earthdatacloud.nasa.gov/lp-prod-protected/HLSL30.020/HLS.L30.T16RBT.2023180T163132.v2.0/HLS.L30.T16RBT.2023180T163132.v2.0.VAA.tif', 'https://data.lpdaac.earthdatacloud.nasa.gov/lp-prod-protected/HLSL30.020/HLS.L30.T16RBT.2023180T163132.v2.0/HLS.L30.T16RBT.2023180T163132.v2.0.B06.tif', 'https://data.lpdaac.earthdatacloud.nasa.gov/lp-prod-protected/HLSL30.020/HLS.L30.T16RBT.2023180T163132.v2.0/HLS.L30.T16RBT.2023180T163132.v2.0.SAA.tif', 'https://data.lpdaac.earthdatacloud.nasa.gov/lp-prod-protected/HLSL30.020/HLS.L30.T16RBT.2023180T163132.v2.0/HLS.L30.T16RBT.2023180T163132.v2.0.B11.tif', 'https://data.lpdaac.earthdatacloud.nasa.gov/lp-prod-protected/HLSL30.020/HLS.L30.T16RBT.2023180T163132.v2.0/HLS.L30.T16RBT.2023180T163132.v2.0.B02.tif', 'https://data.lpdaac.earthdatacloud.nasa.gov/lp-prod-protected/HLSL30.020/HLS.L30.T16RBT.2023180T163132.v2.0/HLS.L30.T16RBT.2023180T163132.v2.0.B03.tif', 'https://data.lpdaac.earthdatacloud.nasa.gov/lp-prod-protected/HLSL30.020/HLS.L30.T16RBT.2023180T163132.v2.0/HLS.L30.T16RBT.2023180T163132.v2.0.B10.tif', 'https://data.lpdaac.earthdatacloud.nasa.gov/lp-prod-protected/HLSL30.020/HLS.L30.T16RBT.2023180T163132.v2.0/HLS.L30.T16RBT.2023180T163132.v2.0.VZA.tif', 'https://data.lpdaac.earthdatacloud.nasa.gov/lp-prod-protected/HLSL30.020/HLS.L30.T16RBT.2023180T163132.v2.0/HLS.L30.T16RBT.2023180T163132.v2.0.B04.tif', 'https://data.lpdaac.earthdatacloud.nasa.gov/lp-prod-protected/HLSL30.020/HLS.L30.T16RBT.2023180T163132.v2.0/HLS.L30.T16RBT.2023180T163132.v2.0.B07.tif', 'https://data.lpdaac.earthdatacloud.nasa.gov/lp-prod-protected/HLSL30.020/HLS.L30.T16RBT.2023180T163132.v2.0/HLS.L30.T16RBT.2023180T163132.v2.0.B09.tif'],\n",
              " Collection: {'EntryTitle': 'HLS Landsat Operational Land Imager Surface Reflectance and TOA Brightness Daily Global 30m v2.0'}\n",
              " Spatial coverage: {'HorizontalSpatialDomain': {'Geometry': {'GPolygons': [{'Boundary': {'Points': [{'Longitude': -89.82661214, 'Latitude': 28.80213717}, {'Longitude': -89.79583778, 'Latitude': 29.79160422}, {'Longitude': -90.93082361, 'Latitude': 29.81426153}, {'Longitude': -90.95072084, 'Latitude': 28.82389994}, {'Longitude': -89.82661214, 'Latitude': 28.80213717}]}}]}}}\n",
              " Temporal coverage: {'RangeDateTime': {'BeginningDateTime': '2023-06-29T16:31:32.405Z', 'EndingDateTime': '2023-06-29T16:31:56.296Z'}}\n",
              " Size(MB): 167.79599571228027\n",
              " Data: ['https://data.lpdaac.earthdatacloud.nasa.gov/lp-prod-protected/HLSL30.020/HLS.L30.T15RYN.2023180T163132.v2.0/HLS.L30.T15RYN.2023180T163132.v2.0.B09.tif', 'https://data.lpdaac.earthdatacloud.nasa.gov/lp-prod-protected/HLSL30.020/HLS.L30.T15RYN.2023180T163132.v2.0/HLS.L30.T15RYN.2023180T163132.v2.0.B05.tif', 'https://data.lpdaac.earthdatacloud.nasa.gov/lp-prod-protected/HLSL30.020/HLS.L30.T15RYN.2023180T163132.v2.0/HLS.L30.T15RYN.2023180T163132.v2.0.B03.tif', 'https://data.lpdaac.earthdatacloud.nasa.gov/lp-prod-protected/HLSL30.020/HLS.L30.T15RYN.2023180T163132.v2.0/HLS.L30.T15RYN.2023180T163132.v2.0.B07.tif', 'https://data.lpdaac.earthdatacloud.nasa.gov/lp-prod-protected/HLSL30.020/HLS.L30.T15RYN.2023180T163132.v2.0/HLS.L30.T15RYN.2023180T163132.v2.0.B11.tif', 'https://data.lpdaac.earthdatacloud.nasa.gov/lp-prod-protected/HLSL30.020/HLS.L30.T15RYN.2023180T163132.v2.0/HLS.L30.T15RYN.2023180T163132.v2.0.B02.tif', 'https://data.lpdaac.earthdatacloud.nasa.gov/lp-prod-protected/HLSL30.020/HLS.L30.T15RYN.2023180T163132.v2.0/HLS.L30.T15RYN.2023180T163132.v2.0.SAA.tif', 'https://data.lpdaac.earthdatacloud.nasa.gov/lp-prod-protected/HLSL30.020/HLS.L30.T15RYN.2023180T163132.v2.0/HLS.L30.T15RYN.2023180T163132.v2.0.SZA.tif', 'https://data.lpdaac.earthdatacloud.nasa.gov/lp-prod-protected/HLSL30.020/HLS.L30.T15RYN.2023180T163132.v2.0/HLS.L30.T15RYN.2023180T163132.v2.0.B04.tif', 'https://data.lpdaac.earthdatacloud.nasa.gov/lp-prod-protected/HLSL30.020/HLS.L30.T15RYN.2023180T163132.v2.0/HLS.L30.T15RYN.2023180T163132.v2.0.VZA.tif', 'https://data.lpdaac.earthdatacloud.nasa.gov/lp-prod-protected/HLSL30.020/HLS.L30.T15RYN.2023180T163132.v2.0/HLS.L30.T15RYN.2023180T163132.v2.0.Fmask.tif', 'https://data.lpdaac.earthdatacloud.nasa.gov/lp-prod-protected/HLSL30.020/HLS.L30.T15RYN.2023180T163132.v2.0/HLS.L30.T15RYN.2023180T163132.v2.0.B10.tif', 'https://data.lpdaac.earthdatacloud.nasa.gov/lp-prod-protected/HLSL30.020/HLS.L30.T15RYN.2023180T163132.v2.0/HLS.L30.T15RYN.2023180T163132.v2.0.B01.tif', 'https://data.lpdaac.earthdatacloud.nasa.gov/lp-prod-protected/HLSL30.020/HLS.L30.T15RYN.2023180T163132.v2.0/HLS.L30.T15RYN.2023180T163132.v2.0.VAA.tif', 'https://data.lpdaac.earthdatacloud.nasa.gov/lp-prod-protected/HLSL30.020/HLS.L30.T15RYN.2023180T163132.v2.0/HLS.L30.T15RYN.2023180T163132.v2.0.B06.tif'],\n",
              " Collection: {'EntryTitle': 'HLS Landsat Operational Land Imager Surface Reflectance and TOA Brightness Daily Global 30m v2.0'}\n",
              " Spatial coverage: {'HorizontalSpatialDomain': {'Geometry': {'GPolygons': [{'Boundary': {'Points': [{'Longitude': -90.10082051, 'Latitude': 29.70587294}, {'Longitude': -89.29839376, 'Latitude': 29.72224438}, {'Longitude': -89.0269182, 'Latitude': 30.71724179}, {'Longitude': -90.13201749, 'Latitude': 30.69527405}, {'Longitude': -90.10082051, 'Latitude': 29.70587294}]}}]}}}\n",
              " Temporal coverage: {'RangeDateTime': {'BeginningDateTime': '2023-07-07T16:31:46.664Z', 'EndingDateTime': '2023-07-07T16:31:46.664Z'}}\n",
              " Size(MB): 158.11985111236572\n",
              " Data: ['https://data.lpdaac.earthdatacloud.nasa.gov/lp-prod-protected/HLSL30.020/HLS.L30.T16RBU.2023188T163146.v2.0/HLS.L30.T16RBU.2023188T163146.v2.0.B03.tif', 'https://data.lpdaac.earthdatacloud.nasa.gov/lp-prod-protected/HLSL30.020/HLS.L30.T16RBU.2023188T163146.v2.0/HLS.L30.T16RBU.2023188T163146.v2.0.B04.tif', 'https://data.lpdaac.earthdatacloud.nasa.gov/lp-prod-protected/HLSL30.020/HLS.L30.T16RBU.2023188T163146.v2.0/HLS.L30.T16RBU.2023188T163146.v2.0.B11.tif', 'https://data.lpdaac.earthdatacloud.nasa.gov/lp-prod-protected/HLSL30.020/HLS.L30.T16RBU.2023188T163146.v2.0/HLS.L30.T16RBU.2023188T163146.v2.0.VAA.tif', 'https://data.lpdaac.earthdatacloud.nasa.gov/lp-prod-protected/HLSL30.020/HLS.L30.T16RBU.2023188T163146.v2.0/HLS.L30.T16RBU.2023188T163146.v2.0.SAA.tif', 'https://data.lpdaac.earthdatacloud.nasa.gov/lp-prod-protected/HLSL30.020/HLS.L30.T16RBU.2023188T163146.v2.0/HLS.L30.T16RBU.2023188T163146.v2.0.B07.tif', 'https://data.lpdaac.earthdatacloud.nasa.gov/lp-prod-protected/HLSL30.020/HLS.L30.T16RBU.2023188T163146.v2.0/HLS.L30.T16RBU.2023188T163146.v2.0.B09.tif', 'https://data.lpdaac.earthdatacloud.nasa.gov/lp-prod-protected/HLSL30.020/HLS.L30.T16RBU.2023188T163146.v2.0/HLS.L30.T16RBU.2023188T163146.v2.0.VZA.tif', 'https://data.lpdaac.earthdatacloud.nasa.gov/lp-prod-protected/HLSL30.020/HLS.L30.T16RBU.2023188T163146.v2.0/HLS.L30.T16RBU.2023188T163146.v2.0.SZA.tif', 'https://data.lpdaac.earthdatacloud.nasa.gov/lp-prod-protected/HLSL30.020/HLS.L30.T16RBU.2023188T163146.v2.0/HLS.L30.T16RBU.2023188T163146.v2.0.B01.tif', 'https://data.lpdaac.earthdatacloud.nasa.gov/lp-prod-protected/HLSL30.020/HLS.L30.T16RBU.2023188T163146.v2.0/HLS.L30.T16RBU.2023188T163146.v2.0.B10.tif', 'https://data.lpdaac.earthdatacloud.nasa.gov/lp-prod-protected/HLSL30.020/HLS.L30.T16RBU.2023188T163146.v2.0/HLS.L30.T16RBU.2023188T163146.v2.0.Fmask.tif', 'https://data.lpdaac.earthdatacloud.nasa.gov/lp-prod-protected/HLSL30.020/HLS.L30.T16RBU.2023188T163146.v2.0/HLS.L30.T16RBU.2023188T163146.v2.0.B06.tif', 'https://data.lpdaac.earthdatacloud.nasa.gov/lp-prod-protected/HLSL30.020/HLS.L30.T16RBU.2023188T163146.v2.0/HLS.L30.T16RBU.2023188T163146.v2.0.B05.tif', 'https://data.lpdaac.earthdatacloud.nasa.gov/lp-prod-protected/HLSL30.020/HLS.L30.T16RBU.2023188T163146.v2.0/HLS.L30.T16RBU.2023188T163146.v2.0.B02.tif'],\n",
              " Collection: {'EntryTitle': 'HLS Landsat Operational Land Imager Surface Reflectance and TOA Brightness Daily Global 30m v2.0'}\n",
              " Spatial coverage: {'HorizontalSpatialDomain': {'Geometry': {'GPolygons': [{'Boundary': {'Points': [{'Longitude': -89.79864173, 'Latitude': 29.70347853}, {'Longitude': -89.76643746, 'Latitude': 30.69278312}, {'Longitude': -90.91181412, 'Latitude': 30.71627038}, {'Longitude': -90.93263654, 'Latitude': 29.72605548}, {'Longitude': -89.79864173, 'Latitude': 29.70347853}]}}]}}}\n",
              " Temporal coverage: {'RangeDateTime': {'BeginningDateTime': '2023-07-07T16:31:46.664Z', 'EndingDateTime': '2023-07-07T16:31:46.664Z'}}\n",
              " Size(MB): 191.48034858703613\n",
              " Data: ['https://data.lpdaac.earthdatacloud.nasa.gov/lp-prod-protected/HLSL30.020/HLS.L30.T15RYP.2023188T163146.v2.0/HLS.L30.T15RYP.2023188T163146.v2.0.B04.tif', 'https://data.lpdaac.earthdatacloud.nasa.gov/lp-prod-protected/HLSL30.020/HLS.L30.T15RYP.2023188T163146.v2.0/HLS.L30.T15RYP.2023188T163146.v2.0.B01.tif', 'https://data.lpdaac.earthdatacloud.nasa.gov/lp-prod-protected/HLSL30.020/HLS.L30.T15RYP.2023188T163146.v2.0/HLS.L30.T15RYP.2023188T163146.v2.0.B03.tif', 'https://data.lpdaac.earthdatacloud.nasa.gov/lp-prod-protected/HLSL30.020/HLS.L30.T15RYP.2023188T163146.v2.0/HLS.L30.T15RYP.2023188T163146.v2.0.B06.tif', 'https://data.lpdaac.earthdatacloud.nasa.gov/lp-prod-protected/HLSL30.020/HLS.L30.T15RYP.2023188T163146.v2.0/HLS.L30.T15RYP.2023188T163146.v2.0.B05.tif', 'https://data.lpdaac.earthdatacloud.nasa.gov/lp-prod-protected/HLSL30.020/HLS.L30.T15RYP.2023188T163146.v2.0/HLS.L30.T15RYP.2023188T163146.v2.0.B11.tif', 'https://data.lpdaac.earthdatacloud.nasa.gov/lp-prod-protected/HLSL30.020/HLS.L30.T15RYP.2023188T163146.v2.0/HLS.L30.T15RYP.2023188T163146.v2.0.B10.tif', 'https://data.lpdaac.earthdatacloud.nasa.gov/lp-prod-protected/HLSL30.020/HLS.L30.T15RYP.2023188T163146.v2.0/HLS.L30.T15RYP.2023188T163146.v2.0.Fmask.tif', 'https://data.lpdaac.earthdatacloud.nasa.gov/lp-prod-protected/HLSL30.020/HLS.L30.T15RYP.2023188T163146.v2.0/HLS.L30.T15RYP.2023188T163146.v2.0.SZA.tif', 'https://data.lpdaac.earthdatacloud.nasa.gov/lp-prod-protected/HLSL30.020/HLS.L30.T15RYP.2023188T163146.v2.0/HLS.L30.T15RYP.2023188T163146.v2.0.B02.tif', 'https://data.lpdaac.earthdatacloud.nasa.gov/lp-prod-protected/HLSL30.020/HLS.L30.T15RYP.2023188T163146.v2.0/HLS.L30.T15RYP.2023188T163146.v2.0.SAA.tif', 'https://data.lpdaac.earthdatacloud.nasa.gov/lp-prod-protected/HLSL30.020/HLS.L30.T15RYP.2023188T163146.v2.0/HLS.L30.T15RYP.2023188T163146.v2.0.B07.tif', 'https://data.lpdaac.earthdatacloud.nasa.gov/lp-prod-protected/HLSL30.020/HLS.L30.T15RYP.2023188T163146.v2.0/HLS.L30.T15RYP.2023188T163146.v2.0.VZA.tif', 'https://data.lpdaac.earthdatacloud.nasa.gov/lp-prod-protected/HLSL30.020/HLS.L30.T15RYP.2023188T163146.v2.0/HLS.L30.T15RYP.2023188T163146.v2.0.VAA.tif', 'https://data.lpdaac.earthdatacloud.nasa.gov/lp-prod-protected/HLSL30.020/HLS.L30.T15RYP.2023188T163146.v2.0/HLS.L30.T15RYP.2023188T163146.v2.0.B09.tif'],\n",
              " Collection: {'EntryTitle': 'HLS Landsat Operational Land Imager Surface Reflectance and TOA Brightness Daily Global 30m v2.0'}\n",
              " Spatial coverage: {'HorizontalSpatialDomain': {'Geometry': {'GPolygons': [{'Boundary': {'Points': [{'Longitude': -90.07372506, 'Latitude': 28.80444525}, {'Longitude': -89.54217545, 'Latitude': 28.81551108}, {'Longitude': -89.27435094, 'Latitude': 29.81088812}, {'Longitude': -90.10353675, 'Latitude': 29.79400715}, {'Longitude': -90.07372506, 'Latitude': 28.80444525}]}}]}}}\n",
              " Temporal coverage: {'RangeDateTime': {'BeginningDateTime': '2023-07-07T16:31:46.664Z', 'EndingDateTime': '2023-07-07T16:32:10.564Z'}}\n",
              " Size(MB): 117.79535293579102\n",
              " Data: ['https://data.lpdaac.earthdatacloud.nasa.gov/lp-prod-protected/HLSL30.020/HLS.L30.T16RBT.2023188T163146.v2.0/HLS.L30.T16RBT.2023188T163146.v2.0.B11.tif', 'https://data.lpdaac.earthdatacloud.nasa.gov/lp-prod-protected/HLSL30.020/HLS.L30.T16RBT.2023188T163146.v2.0/HLS.L30.T16RBT.2023188T163146.v2.0.VZA.tif', 'https://data.lpdaac.earthdatacloud.nasa.gov/lp-prod-protected/HLSL30.020/HLS.L30.T16RBT.2023188T163146.v2.0/HLS.L30.T16RBT.2023188T163146.v2.0.B06.tif', 'https://data.lpdaac.earthdatacloud.nasa.gov/lp-prod-protected/HLSL30.020/HLS.L30.T16RBT.2023188T163146.v2.0/HLS.L30.T16RBT.2023188T163146.v2.0.B09.tif', 'https://data.lpdaac.earthdatacloud.nasa.gov/lp-prod-protected/HLSL30.020/HLS.L30.T16RBT.2023188T163146.v2.0/HLS.L30.T16RBT.2023188T163146.v2.0.SZA.tif', 'https://data.lpdaac.earthdatacloud.nasa.gov/lp-prod-protected/HLSL30.020/HLS.L30.T16RBT.2023188T163146.v2.0/HLS.L30.T16RBT.2023188T163146.v2.0.B04.tif', 'https://data.lpdaac.earthdatacloud.nasa.gov/lp-prod-protected/HLSL30.020/HLS.L30.T16RBT.2023188T163146.v2.0/HLS.L30.T16RBT.2023188T163146.v2.0.B03.tif', 'https://data.lpdaac.earthdatacloud.nasa.gov/lp-prod-protected/HLSL30.020/HLS.L30.T16RBT.2023188T163146.v2.0/HLS.L30.T16RBT.2023188T163146.v2.0.B05.tif', 'https://data.lpdaac.earthdatacloud.nasa.gov/lp-prod-protected/HLSL30.020/HLS.L30.T16RBT.2023188T163146.v2.0/HLS.L30.T16RBT.2023188T163146.v2.0.VAA.tif', 'https://data.lpdaac.earthdatacloud.nasa.gov/lp-prod-protected/HLSL30.020/HLS.L30.T16RBT.2023188T163146.v2.0/HLS.L30.T16RBT.2023188T163146.v2.0.B07.tif', 'https://data.lpdaac.earthdatacloud.nasa.gov/lp-prod-protected/HLSL30.020/HLS.L30.T16RBT.2023188T163146.v2.0/HLS.L30.T16RBT.2023188T163146.v2.0.B01.tif', 'https://data.lpdaac.earthdatacloud.nasa.gov/lp-prod-protected/HLSL30.020/HLS.L30.T16RBT.2023188T163146.v2.0/HLS.L30.T16RBT.2023188T163146.v2.0.SAA.tif', 'https://data.lpdaac.earthdatacloud.nasa.gov/lp-prod-protected/HLSL30.020/HLS.L30.T16RBT.2023188T163146.v2.0/HLS.L30.T16RBT.2023188T163146.v2.0.B02.tif', 'https://data.lpdaac.earthdatacloud.nasa.gov/lp-prod-protected/HLSL30.020/HLS.L30.T16RBT.2023188T163146.v2.0/HLS.L30.T16RBT.2023188T163146.v2.0.Fmask.tif', 'https://data.lpdaac.earthdatacloud.nasa.gov/lp-prod-protected/HLSL30.020/HLS.L30.T16RBT.2023188T163146.v2.0/HLS.L30.T16RBT.2023188T163146.v2.0.B10.tif'],\n",
              " Collection: {'EntryTitle': 'HLS Landsat Operational Land Imager Surface Reflectance and TOA Brightness Daily Global 30m v2.0'}\n",
              " Spatial coverage: {'HorizontalSpatialDomain': {'Geometry': {'GPolygons': [{'Boundary': {'Points': [{'Longitude': -89.82661214, 'Latitude': 28.80213717}, {'Longitude': -89.79583778, 'Latitude': 29.79160422}, {'Longitude': -90.93082361, 'Latitude': 29.81426153}, {'Longitude': -90.95072084, 'Latitude': 28.82389994}, {'Longitude': -89.82661214, 'Latitude': 28.80213717}]}}]}}}\n",
              " Temporal coverage: {'RangeDateTime': {'BeginningDateTime': '2023-07-07T16:31:46.664Z', 'EndingDateTime': '2023-07-07T16:32:10.564Z'}}\n",
              " Size(MB): 193.52160167694092\n",
              " Data: ['https://data.lpdaac.earthdatacloud.nasa.gov/lp-prod-protected/HLSL30.020/HLS.L30.T15RYN.2023188T163146.v2.0/HLS.L30.T15RYN.2023188T163146.v2.0.B03.tif', 'https://data.lpdaac.earthdatacloud.nasa.gov/lp-prod-protected/HLSL30.020/HLS.L30.T15RYN.2023188T163146.v2.0/HLS.L30.T15RYN.2023188T163146.v2.0.B11.tif', 'https://data.lpdaac.earthdatacloud.nasa.gov/lp-prod-protected/HLSL30.020/HLS.L30.T15RYN.2023188T163146.v2.0/HLS.L30.T15RYN.2023188T163146.v2.0.B02.tif', 'https://data.lpdaac.earthdatacloud.nasa.gov/lp-prod-protected/HLSL30.020/HLS.L30.T15RYN.2023188T163146.v2.0/HLS.L30.T15RYN.2023188T163146.v2.0.B05.tif', 'https://data.lpdaac.earthdatacloud.nasa.gov/lp-prod-protected/HLSL30.020/HLS.L30.T15RYN.2023188T163146.v2.0/HLS.L30.T15RYN.2023188T163146.v2.0.B04.tif', 'https://data.lpdaac.earthdatacloud.nasa.gov/lp-prod-protected/HLSL30.020/HLS.L30.T15RYN.2023188T163146.v2.0/HLS.L30.T15RYN.2023188T163146.v2.0.SZA.tif', 'https://data.lpdaac.earthdatacloud.nasa.gov/lp-prod-protected/HLSL30.020/HLS.L30.T15RYN.2023188T163146.v2.0/HLS.L30.T15RYN.2023188T163146.v2.0.Fmask.tif', 'https://data.lpdaac.earthdatacloud.nasa.gov/lp-prod-protected/HLSL30.020/HLS.L30.T15RYN.2023188T163146.v2.0/HLS.L30.T15RYN.2023188T163146.v2.0.B07.tif', 'https://data.lpdaac.earthdatacloud.nasa.gov/lp-prod-protected/HLSL30.020/HLS.L30.T15RYN.2023188T163146.v2.0/HLS.L30.T15RYN.2023188T163146.v2.0.B10.tif', 'https://data.lpdaac.earthdatacloud.nasa.gov/lp-prod-protected/HLSL30.020/HLS.L30.T15RYN.2023188T163146.v2.0/HLS.L30.T15RYN.2023188T163146.v2.0.B01.tif', 'https://data.lpdaac.earthdatacloud.nasa.gov/lp-prod-protected/HLSL30.020/HLS.L30.T15RYN.2023188T163146.v2.0/HLS.L30.T15RYN.2023188T163146.v2.0.B06.tif', 'https://data.lpdaac.earthdatacloud.nasa.gov/lp-prod-protected/HLSL30.020/HLS.L30.T15RYN.2023188T163146.v2.0/HLS.L30.T15RYN.2023188T163146.v2.0.VZA.tif', 'https://data.lpdaac.earthdatacloud.nasa.gov/lp-prod-protected/HLSL30.020/HLS.L30.T15RYN.2023188T163146.v2.0/HLS.L30.T15RYN.2023188T163146.v2.0.SAA.tif', 'https://data.lpdaac.earthdatacloud.nasa.gov/lp-prod-protected/HLSL30.020/HLS.L30.T15RYN.2023188T163146.v2.0/HLS.L30.T15RYN.2023188T163146.v2.0.B09.tif', 'https://data.lpdaac.earthdatacloud.nasa.gov/lp-prod-protected/HLSL30.020/HLS.L30.T15RYN.2023188T163146.v2.0/HLS.L30.T15RYN.2023188T163146.v2.0.VAA.tif'],\n",
              " Collection: {'EntryTitle': 'HLS Landsat Operational Land Imager Surface Reflectance and TOA Brightness Daily Global 30m v2.0'}\n",
              " Spatial coverage: {'HorizontalSpatialDomain': {'Geometry': {'GPolygons': [{'Boundary': {'Points': [{'Longitude': -89.82661214, 'Latitude': 28.80213717}, {'Longitude': -89.79583778, 'Latitude': 29.79160422}, {'Longitude': -90.93082361, 'Latitude': 29.81426153}, {'Longitude': -90.95072084, 'Latitude': 28.82389994}, {'Longitude': -89.82661214, 'Latitude': 28.80213717}]}}]}}}\n",
              " Temporal coverage: {'RangeDateTime': {'BeginningDateTime': '2023-07-15T16:31:42.442Z', 'EndingDateTime': '2023-07-15T16:32:06.333Z'}}\n",
              " Size(MB): 169.20604133605957\n",
              " Data: ['https://data.lpdaac.earthdatacloud.nasa.gov/lp-prod-protected/HLSL30.020/HLS.L30.T15RYN.2023196T163142.v2.0/HLS.L30.T15RYN.2023196T163142.v2.0.Fmask.tif', 'https://data.lpdaac.earthdatacloud.nasa.gov/lp-prod-protected/HLSL30.020/HLS.L30.T15RYN.2023196T163142.v2.0/HLS.L30.T15RYN.2023196T163142.v2.0.B05.tif', 'https://data.lpdaac.earthdatacloud.nasa.gov/lp-prod-protected/HLSL30.020/HLS.L30.T15RYN.2023196T163142.v2.0/HLS.L30.T15RYN.2023196T163142.v2.0.B09.tif', 'https://data.lpdaac.earthdatacloud.nasa.gov/lp-prod-protected/HLSL30.020/HLS.L30.T15RYN.2023196T163142.v2.0/HLS.L30.T15RYN.2023196T163142.v2.0.VZA.tif', 'https://data.lpdaac.earthdatacloud.nasa.gov/lp-prod-protected/HLSL30.020/HLS.L30.T15RYN.2023196T163142.v2.0/HLS.L30.T15RYN.2023196T163142.v2.0.B01.tif', 'https://data.lpdaac.earthdatacloud.nasa.gov/lp-prod-protected/HLSL30.020/HLS.L30.T15RYN.2023196T163142.v2.0/HLS.L30.T15RYN.2023196T163142.v2.0.SAA.tif', 'https://data.lpdaac.earthdatacloud.nasa.gov/lp-prod-protected/HLSL30.020/HLS.L30.T15RYN.2023196T163142.v2.0/HLS.L30.T15RYN.2023196T163142.v2.0.B06.tif', 'https://data.lpdaac.earthdatacloud.nasa.gov/lp-prod-protected/HLSL30.020/HLS.L30.T15RYN.2023196T163142.v2.0/HLS.L30.T15RYN.2023196T163142.v2.0.B11.tif', 'https://data.lpdaac.earthdatacloud.nasa.gov/lp-prod-protected/HLSL30.020/HLS.L30.T15RYN.2023196T163142.v2.0/HLS.L30.T15RYN.2023196T163142.v2.0.VAA.tif', 'https://data.lpdaac.earthdatacloud.nasa.gov/lp-prod-protected/HLSL30.020/HLS.L30.T15RYN.2023196T163142.v2.0/HLS.L30.T15RYN.2023196T163142.v2.0.B07.tif', 'https://data.lpdaac.earthdatacloud.nasa.gov/lp-prod-protected/HLSL30.020/HLS.L30.T15RYN.2023196T163142.v2.0/HLS.L30.T15RYN.2023196T163142.v2.0.B03.tif', 'https://data.lpdaac.earthdatacloud.nasa.gov/lp-prod-protected/HLSL30.020/HLS.L30.T15RYN.2023196T163142.v2.0/HLS.L30.T15RYN.2023196T163142.v2.0.SZA.tif', 'https://data.lpdaac.earthdatacloud.nasa.gov/lp-prod-protected/HLSL30.020/HLS.L30.T15RYN.2023196T163142.v2.0/HLS.L30.T15RYN.2023196T163142.v2.0.B04.tif', 'https://data.lpdaac.earthdatacloud.nasa.gov/lp-prod-protected/HLSL30.020/HLS.L30.T15RYN.2023196T163142.v2.0/HLS.L30.T15RYN.2023196T163142.v2.0.B10.tif', 'https://data.lpdaac.earthdatacloud.nasa.gov/lp-prod-protected/HLSL30.020/HLS.L30.T15RYN.2023196T163142.v2.0/HLS.L30.T15RYN.2023196T163142.v2.0.B02.tif'],\n",
              " Collection: {'EntryTitle': 'HLS Landsat Operational Land Imager Surface Reflectance and TOA Brightness Daily Global 30m v2.0'}\n",
              " Spatial coverage: {'HorizontalSpatialDomain': {'Geometry': {'GPolygons': [{'Boundary': {'Points': [{'Longitude': -90.10082051, 'Latitude': 29.70587294}, {'Longitude': -89.30552233, 'Latitude': 29.72212037}, {'Longitude': -89.03412017, 'Latitude': 30.7171291}, {'Longitude': -90.13201749, 'Latitude': 30.69527405}, {'Longitude': -90.10082051, 'Latitude': 29.70587294}]}}]}}}\n",
              " Temporal coverage: {'RangeDateTime': {'BeginningDateTime': '2023-07-15T16:31:42.442Z', 'EndingDateTime': '2023-07-15T16:31:42.442Z'}}\n",
              " Size(MB): 152.09357166290283\n",
              " Data: ['https://data.lpdaac.earthdatacloud.nasa.gov/lp-prod-protected/HLSL30.020/HLS.L30.T16RBU.2023196T163142.v2.0/HLS.L30.T16RBU.2023196T163142.v2.0.B04.tif', 'https://data.lpdaac.earthdatacloud.nasa.gov/lp-prod-protected/HLSL30.020/HLS.L30.T16RBU.2023196T163142.v2.0/HLS.L30.T16RBU.2023196T163142.v2.0.B05.tif', 'https://data.lpdaac.earthdatacloud.nasa.gov/lp-prod-protected/HLSL30.020/HLS.L30.T16RBU.2023196T163142.v2.0/HLS.L30.T16RBU.2023196T163142.v2.0.B10.tif', 'https://data.lpdaac.earthdatacloud.nasa.gov/lp-prod-protected/HLSL30.020/HLS.L30.T16RBU.2023196T163142.v2.0/HLS.L30.T16RBU.2023196T163142.v2.0.B07.tif', 'https://data.lpdaac.earthdatacloud.nasa.gov/lp-prod-protected/HLSL30.020/HLS.L30.T16RBU.2023196T163142.v2.0/HLS.L30.T16RBU.2023196T163142.v2.0.B02.tif', 'https://data.lpdaac.earthdatacloud.nasa.gov/lp-prod-protected/HLSL30.020/HLS.L30.T16RBU.2023196T163142.v2.0/HLS.L30.T16RBU.2023196T163142.v2.0.Fmask.tif', 'https://data.lpdaac.earthdatacloud.nasa.gov/lp-prod-protected/HLSL30.020/HLS.L30.T16RBU.2023196T163142.v2.0/HLS.L30.T16RBU.2023196T163142.v2.0.VAA.tif', 'https://data.lpdaac.earthdatacloud.nasa.gov/lp-prod-protected/HLSL30.020/HLS.L30.T16RBU.2023196T163142.v2.0/HLS.L30.T16RBU.2023196T163142.v2.0.B01.tif', 'https://data.lpdaac.earthdatacloud.nasa.gov/lp-prod-protected/HLSL30.020/HLS.L30.T16RBU.2023196T163142.v2.0/HLS.L30.T16RBU.2023196T163142.v2.0.SZA.tif', 'https://data.lpdaac.earthdatacloud.nasa.gov/lp-prod-protected/HLSL30.020/HLS.L30.T16RBU.2023196T163142.v2.0/HLS.L30.T16RBU.2023196T163142.v2.0.B06.tif', 'https://data.lpdaac.earthdatacloud.nasa.gov/lp-prod-protected/HLSL30.020/HLS.L30.T16RBU.2023196T163142.v2.0/HLS.L30.T16RBU.2023196T163142.v2.0.B09.tif', 'https://data.lpdaac.earthdatacloud.nasa.gov/lp-prod-protected/HLSL30.020/HLS.L30.T16RBU.2023196T163142.v2.0/HLS.L30.T16RBU.2023196T163142.v2.0.B11.tif', 'https://data.lpdaac.earthdatacloud.nasa.gov/lp-prod-protected/HLSL30.020/HLS.L30.T16RBU.2023196T163142.v2.0/HLS.L30.T16RBU.2023196T163142.v2.0.B03.tif', 'https://data.lpdaac.earthdatacloud.nasa.gov/lp-prod-protected/HLSL30.020/HLS.L30.T16RBU.2023196T163142.v2.0/HLS.L30.T16RBU.2023196T163142.v2.0.VZA.tif', 'https://data.lpdaac.earthdatacloud.nasa.gov/lp-prod-protected/HLSL30.020/HLS.L30.T16RBU.2023196T163142.v2.0/HLS.L30.T16RBU.2023196T163142.v2.0.SAA.tif'],\n",
              " Collection: {'EntryTitle': 'HLS Landsat Operational Land Imager Surface Reflectance and TOA Brightness Daily Global 30m v2.0'}\n",
              " Spatial coverage: {'HorizontalSpatialDomain': {'Geometry': {'GPolygons': [{'Boundary': {'Points': [{'Longitude': -89.79864173, 'Latitude': 29.70347853}, {'Longitude': -89.76643746, 'Latitude': 30.69278312}, {'Longitude': -90.91181412, 'Latitude': 30.71627038}, {'Longitude': -90.93263654, 'Latitude': 29.72605548}, {'Longitude': -89.79864173, 'Latitude': 29.70347853}]}}]}}}\n",
              " Temporal coverage: {'RangeDateTime': {'BeginningDateTime': '2023-07-15T16:31:42.442Z', 'EndingDateTime': '2023-07-15T16:31:42.442Z'}}\n",
              " Size(MB): 186.07622814178467\n",
              " Data: ['https://data.lpdaac.earthdatacloud.nasa.gov/lp-prod-protected/HLSL30.020/HLS.L30.T15RYP.2023196T163142.v2.0/HLS.L30.T15RYP.2023196T163142.v2.0.B07.tif', 'https://data.lpdaac.earthdatacloud.nasa.gov/lp-prod-protected/HLSL30.020/HLS.L30.T15RYP.2023196T163142.v2.0/HLS.L30.T15RYP.2023196T163142.v2.0.Fmask.tif', 'https://data.lpdaac.earthdatacloud.nasa.gov/lp-prod-protected/HLSL30.020/HLS.L30.T15RYP.2023196T163142.v2.0/HLS.L30.T15RYP.2023196T163142.v2.0.SZA.tif', 'https://data.lpdaac.earthdatacloud.nasa.gov/lp-prod-protected/HLSL30.020/HLS.L30.T15RYP.2023196T163142.v2.0/HLS.L30.T15RYP.2023196T163142.v2.0.B05.tif', 'https://data.lpdaac.earthdatacloud.nasa.gov/lp-prod-protected/HLSL30.020/HLS.L30.T15RYP.2023196T163142.v2.0/HLS.L30.T15RYP.2023196T163142.v2.0.B01.tif', 'https://data.lpdaac.earthdatacloud.nasa.gov/lp-prod-protected/HLSL30.020/HLS.L30.T15RYP.2023196T163142.v2.0/HLS.L30.T15RYP.2023196T163142.v2.0.B04.tif', 'https://data.lpdaac.earthdatacloud.nasa.gov/lp-prod-protected/HLSL30.020/HLS.L30.T15RYP.2023196T163142.v2.0/HLS.L30.T15RYP.2023196T163142.v2.0.B09.tif', 'https://data.lpdaac.earthdatacloud.nasa.gov/lp-prod-protected/HLSL30.020/HLS.L30.T15RYP.2023196T163142.v2.0/HLS.L30.T15RYP.2023196T163142.v2.0.SAA.tif', 'https://data.lpdaac.earthdatacloud.nasa.gov/lp-prod-protected/HLSL30.020/HLS.L30.T15RYP.2023196T163142.v2.0/HLS.L30.T15RYP.2023196T163142.v2.0.B10.tif', 'https://data.lpdaac.earthdatacloud.nasa.gov/lp-prod-protected/HLSL30.020/HLS.L30.T15RYP.2023196T163142.v2.0/HLS.L30.T15RYP.2023196T163142.v2.0.B02.tif', 'https://data.lpdaac.earthdatacloud.nasa.gov/lp-prod-protected/HLSL30.020/HLS.L30.T15RYP.2023196T163142.v2.0/HLS.L30.T15RYP.2023196T163142.v2.0.VZA.tif', 'https://data.lpdaac.earthdatacloud.nasa.gov/lp-prod-protected/HLSL30.020/HLS.L30.T15RYP.2023196T163142.v2.0/HLS.L30.T15RYP.2023196T163142.v2.0.B03.tif', 'https://data.lpdaac.earthdatacloud.nasa.gov/lp-prod-protected/HLSL30.020/HLS.L30.T15RYP.2023196T163142.v2.0/HLS.L30.T15RYP.2023196T163142.v2.0.B11.tif', 'https://data.lpdaac.earthdatacloud.nasa.gov/lp-prod-protected/HLSL30.020/HLS.L30.T15RYP.2023196T163142.v2.0/HLS.L30.T15RYP.2023196T163142.v2.0.B06.tif', 'https://data.lpdaac.earthdatacloud.nasa.gov/lp-prod-protected/HLSL30.020/HLS.L30.T15RYP.2023196T163142.v2.0/HLS.L30.T15RYP.2023196T163142.v2.0.VAA.tif'],\n",
              " Collection: {'EntryTitle': 'HLS Landsat Operational Land Imager Surface Reflectance and TOA Brightness Daily Global 30m v2.0'}\n",
              " Spatial coverage: {'HorizontalSpatialDomain': {'Geometry': {'GPolygons': [{'Boundary': {'Points': [{'Longitude': -90.07372506, 'Latitude': 28.80444525}, {'Longitude': -89.5492467, 'Latitude': 28.81564827}, {'Longitude': -89.28148591, 'Latitude': 29.81076507}, {'Longitude': -90.10353675, 'Latitude': 29.79400715}, {'Longitude': -90.07372506, 'Latitude': 28.80444525}]}}]}}}\n",
              " Temporal coverage: {'RangeDateTime': {'BeginningDateTime': '2023-07-15T16:31:42.442Z', 'EndingDateTime': '2023-07-15T16:32:06.333Z'}}\n",
              " Size(MB): 108.53238773345947\n",
              " Data: ['https://data.lpdaac.earthdatacloud.nasa.gov/lp-prod-protected/HLSL30.020/HLS.L30.T16RBT.2023196T163142.v2.0/HLS.L30.T16RBT.2023196T163142.v2.0.SZA.tif', 'https://data.lpdaac.earthdatacloud.nasa.gov/lp-prod-protected/HLSL30.020/HLS.L30.T16RBT.2023196T163142.v2.0/HLS.L30.T16RBT.2023196T163142.v2.0.B06.tif', 'https://data.lpdaac.earthdatacloud.nasa.gov/lp-prod-protected/HLSL30.020/HLS.L30.T16RBT.2023196T163142.v2.0/HLS.L30.T16RBT.2023196T163142.v2.0.B07.tif', 'https://data.lpdaac.earthdatacloud.nasa.gov/lp-prod-protected/HLSL30.020/HLS.L30.T16RBT.2023196T163142.v2.0/HLS.L30.T16RBT.2023196T163142.v2.0.B10.tif', 'https://data.lpdaac.earthdatacloud.nasa.gov/lp-prod-protected/HLSL30.020/HLS.L30.T16RBT.2023196T163142.v2.0/HLS.L30.T16RBT.2023196T163142.v2.0.Fmask.tif', 'https://data.lpdaac.earthdatacloud.nasa.gov/lp-prod-protected/HLSL30.020/HLS.L30.T16RBT.2023196T163142.v2.0/HLS.L30.T16RBT.2023196T163142.v2.0.B02.tif', 'https://data.lpdaac.earthdatacloud.nasa.gov/lp-prod-protected/HLSL30.020/HLS.L30.T16RBT.2023196T163142.v2.0/HLS.L30.T16RBT.2023196T163142.v2.0.SAA.tif', 'https://data.lpdaac.earthdatacloud.nasa.gov/lp-prod-protected/HLSL30.020/HLS.L30.T16RBT.2023196T163142.v2.0/HLS.L30.T16RBT.2023196T163142.v2.0.B09.tif', 'https://data.lpdaac.earthdatacloud.nasa.gov/lp-prod-protected/HLSL30.020/HLS.L30.T16RBT.2023196T163142.v2.0/HLS.L30.T16RBT.2023196T163142.v2.0.B11.tif', 'https://data.lpdaac.earthdatacloud.nasa.gov/lp-prod-protected/HLSL30.020/HLS.L30.T16RBT.2023196T163142.v2.0/HLS.L30.T16RBT.2023196T163142.v2.0.B04.tif', 'https://data.lpdaac.earthdatacloud.nasa.gov/lp-prod-protected/HLSL30.020/HLS.L30.T16RBT.2023196T163142.v2.0/HLS.L30.T16RBT.2023196T163142.v2.0.VZA.tif', 'https://data.lpdaac.earthdatacloud.nasa.gov/lp-prod-protected/HLSL30.020/HLS.L30.T16RBT.2023196T163142.v2.0/HLS.L30.T16RBT.2023196T163142.v2.0.B05.tif', 'https://data.lpdaac.earthdatacloud.nasa.gov/lp-prod-protected/HLSL30.020/HLS.L30.T16RBT.2023196T163142.v2.0/HLS.L30.T16RBT.2023196T163142.v2.0.B01.tif', 'https://data.lpdaac.earthdatacloud.nasa.gov/lp-prod-protected/HLSL30.020/HLS.L30.T16RBT.2023196T163142.v2.0/HLS.L30.T16RBT.2023196T163142.v2.0.VAA.tif', 'https://data.lpdaac.earthdatacloud.nasa.gov/lp-prod-protected/HLSL30.020/HLS.L30.T16RBT.2023196T163142.v2.0/HLS.L30.T16RBT.2023196T163142.v2.0.B03.tif'],\n",
              " Collection: {'EntryTitle': 'HLS Landsat Operational Land Imager Surface Reflectance and TOA Brightness Daily Global 30m v2.0'}\n",
              " Spatial coverage: {'HorizontalSpatialDomain': {'Geometry': {'GPolygons': [{'Boundary': {'Points': [{'Longitude': -89.79864173, 'Latitude': 29.70347853}, {'Longitude': -89.76643746, 'Latitude': 30.69278312}, {'Longitude': -90.91181412, 'Latitude': 30.71627038}, {'Longitude': -90.93263654, 'Latitude': 29.72605548}, {'Longitude': -89.79864173, 'Latitude': 29.70347853}]}}]}}}\n",
              " Temporal coverage: {'RangeDateTime': {'BeginningDateTime': '2023-07-23T16:31:50.873Z', 'EndingDateTime': '2023-07-23T16:31:50.873Z'}}\n",
              " Size(MB): 185.6042709350586\n",
              " Data: ['https://data.lpdaac.earthdatacloud.nasa.gov/lp-prod-protected/HLSL30.020/HLS.L30.T15RYP.2023204T163150.v2.0/HLS.L30.T15RYP.2023204T163150.v2.0.SZA.tif', 'https://data.lpdaac.earthdatacloud.nasa.gov/lp-prod-protected/HLSL30.020/HLS.L30.T15RYP.2023204T163150.v2.0/HLS.L30.T15RYP.2023204T163150.v2.0.Fmask.tif', 'https://data.lpdaac.earthdatacloud.nasa.gov/lp-prod-protected/HLSL30.020/HLS.L30.T15RYP.2023204T163150.v2.0/HLS.L30.T15RYP.2023204T163150.v2.0.B11.tif', 'https://data.lpdaac.earthdatacloud.nasa.gov/lp-prod-protected/HLSL30.020/HLS.L30.T15RYP.2023204T163150.v2.0/HLS.L30.T15RYP.2023204T163150.v2.0.B01.tif', 'https://data.lpdaac.earthdatacloud.nasa.gov/lp-prod-protected/HLSL30.020/HLS.L30.T15RYP.2023204T163150.v2.0/HLS.L30.T15RYP.2023204T163150.v2.0.B10.tif', 'https://data.lpdaac.earthdatacloud.nasa.gov/lp-prod-protected/HLSL30.020/HLS.L30.T15RYP.2023204T163150.v2.0/HLS.L30.T15RYP.2023204T163150.v2.0.VZA.tif', 'https://data.lpdaac.earthdatacloud.nasa.gov/lp-prod-protected/HLSL30.020/HLS.L30.T15RYP.2023204T163150.v2.0/HLS.L30.T15RYP.2023204T163150.v2.0.B09.tif', 'https://data.lpdaac.earthdatacloud.nasa.gov/lp-prod-protected/HLSL30.020/HLS.L30.T15RYP.2023204T163150.v2.0/HLS.L30.T15RYP.2023204T163150.v2.0.B04.tif', 'https://data.lpdaac.earthdatacloud.nasa.gov/lp-prod-protected/HLSL30.020/HLS.L30.T15RYP.2023204T163150.v2.0/HLS.L30.T15RYP.2023204T163150.v2.0.SAA.tif', 'https://data.lpdaac.earthdatacloud.nasa.gov/lp-prod-protected/HLSL30.020/HLS.L30.T15RYP.2023204T163150.v2.0/HLS.L30.T15RYP.2023204T163150.v2.0.B03.tif', 'https://data.lpdaac.earthdatacloud.nasa.gov/lp-prod-protected/HLSL30.020/HLS.L30.T15RYP.2023204T163150.v2.0/HLS.L30.T15RYP.2023204T163150.v2.0.VAA.tif', 'https://data.lpdaac.earthdatacloud.nasa.gov/lp-prod-protected/HLSL30.020/HLS.L30.T15RYP.2023204T163150.v2.0/HLS.L30.T15RYP.2023204T163150.v2.0.B02.tif', 'https://data.lpdaac.earthdatacloud.nasa.gov/lp-prod-protected/HLSL30.020/HLS.L30.T15RYP.2023204T163150.v2.0/HLS.L30.T15RYP.2023204T163150.v2.0.B05.tif', 'https://data.lpdaac.earthdatacloud.nasa.gov/lp-prod-protected/HLSL30.020/HLS.L30.T15RYP.2023204T163150.v2.0/HLS.L30.T15RYP.2023204T163150.v2.0.B06.tif', 'https://data.lpdaac.earthdatacloud.nasa.gov/lp-prod-protected/HLSL30.020/HLS.L30.T15RYP.2023204T163150.v2.0/HLS.L30.T15RYP.2023204T163150.v2.0.B07.tif'],\n",
              " Collection: {'EntryTitle': 'HLS Landsat Operational Land Imager Surface Reflectance and TOA Brightness Daily Global 30m v2.0'}\n",
              " Spatial coverage: {'HorizontalSpatialDomain': {'Geometry': {'GPolygons': [{'Boundary': {'Points': [{'Longitude': -90.10082051, 'Latitude': 29.70587294}, {'Longitude': -89.28600227, 'Latitude': 29.72272968}, {'Longitude': -89.01501919, 'Latitude': 30.71742709}, {'Longitude': -90.13201749, 'Latitude': 30.69527405}, {'Longitude': -90.10082051, 'Latitude': 29.70587294}]}}]}}}\n",
              " Temporal coverage: {'RangeDateTime': {'BeginningDateTime': '2023-07-23T16:31:50.873Z', 'EndingDateTime': '2023-07-23T16:31:50.873Z'}}\n",
              " Size(MB): 160.2919464111328\n",
              " Data: ['https://data.lpdaac.earthdatacloud.nasa.gov/lp-prod-protected/HLSL30.020/HLS.L30.T16RBU.2023204T163150.v2.0/HLS.L30.T16RBU.2023204T163150.v2.0.B01.tif', 'https://data.lpdaac.earthdatacloud.nasa.gov/lp-prod-protected/HLSL30.020/HLS.L30.T16RBU.2023204T163150.v2.0/HLS.L30.T16RBU.2023204T163150.v2.0.B06.tif', 'https://data.lpdaac.earthdatacloud.nasa.gov/lp-prod-protected/HLSL30.020/HLS.L30.T16RBU.2023204T163150.v2.0/HLS.L30.T16RBU.2023204T163150.v2.0.B07.tif', 'https://data.lpdaac.earthdatacloud.nasa.gov/lp-prod-protected/HLSL30.020/HLS.L30.T16RBU.2023204T163150.v2.0/HLS.L30.T16RBU.2023204T163150.v2.0.B02.tif', 'https://data.lpdaac.earthdatacloud.nasa.gov/lp-prod-protected/HLSL30.020/HLS.L30.T16RBU.2023204T163150.v2.0/HLS.L30.T16RBU.2023204T163150.v2.0.B03.tif', 'https://data.lpdaac.earthdatacloud.nasa.gov/lp-prod-protected/HLSL30.020/HLS.L30.T16RBU.2023204T163150.v2.0/HLS.L30.T16RBU.2023204T163150.v2.0.VZA.tif', 'https://data.lpdaac.earthdatacloud.nasa.gov/lp-prod-protected/HLSL30.020/HLS.L30.T16RBU.2023204T163150.v2.0/HLS.L30.T16RBU.2023204T163150.v2.0.B09.tif', 'https://data.lpdaac.earthdatacloud.nasa.gov/lp-prod-protected/HLSL30.020/HLS.L30.T16RBU.2023204T163150.v2.0/HLS.L30.T16RBU.2023204T163150.v2.0.SAA.tif', 'https://data.lpdaac.earthdatacloud.nasa.gov/lp-prod-protected/HLSL30.020/HLS.L30.T16RBU.2023204T163150.v2.0/HLS.L30.T16RBU.2023204T163150.v2.0.Fmask.tif', 'https://data.lpdaac.earthdatacloud.nasa.gov/lp-prod-protected/HLSL30.020/HLS.L30.T16RBU.2023204T163150.v2.0/HLS.L30.T16RBU.2023204T163150.v2.0.B04.tif', 'https://data.lpdaac.earthdatacloud.nasa.gov/lp-prod-protected/HLSL30.020/HLS.L30.T16RBU.2023204T163150.v2.0/HLS.L30.T16RBU.2023204T163150.v2.0.B11.tif', 'https://data.lpdaac.earthdatacloud.nasa.gov/lp-prod-protected/HLSL30.020/HLS.L30.T16RBU.2023204T163150.v2.0/HLS.L30.T16RBU.2023204T163150.v2.0.B05.tif', 'https://data.lpdaac.earthdatacloud.nasa.gov/lp-prod-protected/HLSL30.020/HLS.L30.T16RBU.2023204T163150.v2.0/HLS.L30.T16RBU.2023204T163150.v2.0.SZA.tif', 'https://data.lpdaac.earthdatacloud.nasa.gov/lp-prod-protected/HLSL30.020/HLS.L30.T16RBU.2023204T163150.v2.0/HLS.L30.T16RBU.2023204T163150.v2.0.VAA.tif', 'https://data.lpdaac.earthdatacloud.nasa.gov/lp-prod-protected/HLSL30.020/HLS.L30.T16RBU.2023204T163150.v2.0/HLS.L30.T16RBU.2023204T163150.v2.0.B10.tif'],\n",
              " Collection: {'EntryTitle': 'HLS Landsat Operational Land Imager Surface Reflectance and TOA Brightness Daily Global 30m v2.0'}\n",
              " Spatial coverage: {'HorizontalSpatialDomain': {'Geometry': {'GPolygons': [{'Boundary': {'Points': [{'Longitude': -89.82661214, 'Latitude': 28.80213717}, {'Longitude': -89.79583778, 'Latitude': 29.79160422}, {'Longitude': -90.93082361, 'Latitude': 29.81426153}, {'Longitude': -90.95072084, 'Latitude': 28.82389994}, {'Longitude': -89.82661214, 'Latitude': 28.80213717}]}}]}}}\n",
              " Temporal coverage: {'RangeDateTime': {'BeginningDateTime': '2023-07-23T16:31:50.873Z', 'EndingDateTime': '2023-07-23T16:32:14.764Z'}}\n",
              " Size(MB): 178.58371353149414\n",
              " Data: ['https://data.lpdaac.earthdatacloud.nasa.gov/lp-prod-protected/HLSL30.020/HLS.L30.T15RYN.2023204T163150.v2.0/HLS.L30.T15RYN.2023204T163150.v2.0.Fmask.tif', 'https://data.lpdaac.earthdatacloud.nasa.gov/lp-prod-protected/HLSL30.020/HLS.L30.T15RYN.2023204T163150.v2.0/HLS.L30.T15RYN.2023204T163150.v2.0.B03.tif', 'https://data.lpdaac.earthdatacloud.nasa.gov/lp-prod-protected/HLSL30.020/HLS.L30.T15RYN.2023204T163150.v2.0/HLS.L30.T15RYN.2023204T163150.v2.0.B10.tif', 'https://data.lpdaac.earthdatacloud.nasa.gov/lp-prod-protected/HLSL30.020/HLS.L30.T15RYN.2023204T163150.v2.0/HLS.L30.T15RYN.2023204T163150.v2.0.B04.tif', 'https://data.lpdaac.earthdatacloud.nasa.gov/lp-prod-protected/HLSL30.020/HLS.L30.T15RYN.2023204T163150.v2.0/HLS.L30.T15RYN.2023204T163150.v2.0.SAA.tif', 'https://data.lpdaac.earthdatacloud.nasa.gov/lp-prod-protected/HLSL30.020/HLS.L30.T15RYN.2023204T163150.v2.0/HLS.L30.T15RYN.2023204T163150.v2.0.SZA.tif', 'https://data.lpdaac.earthdatacloud.nasa.gov/lp-prod-protected/HLSL30.020/HLS.L30.T15RYN.2023204T163150.v2.0/HLS.L30.T15RYN.2023204T163150.v2.0.VAA.tif', 'https://data.lpdaac.earthdatacloud.nasa.gov/lp-prod-protected/HLSL30.020/HLS.L30.T15RYN.2023204T163150.v2.0/HLS.L30.T15RYN.2023204T163150.v2.0.B07.tif', 'https://data.lpdaac.earthdatacloud.nasa.gov/lp-prod-protected/HLSL30.020/HLS.L30.T15RYN.2023204T163150.v2.0/HLS.L30.T15RYN.2023204T163150.v2.0.B09.tif', 'https://data.lpdaac.earthdatacloud.nasa.gov/lp-prod-protected/HLSL30.020/HLS.L30.T15RYN.2023204T163150.v2.0/HLS.L30.T15RYN.2023204T163150.v2.0.B06.tif', 'https://data.lpdaac.earthdatacloud.nasa.gov/lp-prod-protected/HLSL30.020/HLS.L30.T15RYN.2023204T163150.v2.0/HLS.L30.T15RYN.2023204T163150.v2.0.VZA.tif', 'https://data.lpdaac.earthdatacloud.nasa.gov/lp-prod-protected/HLSL30.020/HLS.L30.T15RYN.2023204T163150.v2.0/HLS.L30.T15RYN.2023204T163150.v2.0.B02.tif', 'https://data.lpdaac.earthdatacloud.nasa.gov/lp-prod-protected/HLSL30.020/HLS.L30.T15RYN.2023204T163150.v2.0/HLS.L30.T15RYN.2023204T163150.v2.0.B11.tif', 'https://data.lpdaac.earthdatacloud.nasa.gov/lp-prod-protected/HLSL30.020/HLS.L30.T15RYN.2023204T163150.v2.0/HLS.L30.T15RYN.2023204T163150.v2.0.B05.tif', 'https://data.lpdaac.earthdatacloud.nasa.gov/lp-prod-protected/HLSL30.020/HLS.L30.T15RYN.2023204T163150.v2.0/HLS.L30.T15RYN.2023204T163150.v2.0.B01.tif'],\n",
              " Collection: {'EntryTitle': 'HLS Landsat Operational Land Imager Surface Reflectance and TOA Brightness Daily Global 30m v2.0'}\n",
              " Spatial coverage: {'HorizontalSpatialDomain': {'Geometry': {'GPolygons': [{'Boundary': {'Points': [{'Longitude': -90.07372506, 'Latitude': 28.80444525}, {'Longitude': -89.52959488, 'Latitude': 28.81628889}, {'Longitude': -89.26225241, 'Latitude': 29.81109588}, {'Longitude': -90.10353675, 'Latitude': 29.79400715}, {'Longitude': -90.07372506, 'Latitude': 28.80444525}]}}]}}}\n",
              " Temporal coverage: {'RangeDateTime': {'BeginningDateTime': '2023-07-23T16:31:50.873Z', 'EndingDateTime': '2023-07-23T16:32:14.764Z'}}\n",
              " Size(MB): 110.35004425048828\n",
              " Data: ['https://data.lpdaac.earthdatacloud.nasa.gov/lp-prod-protected/HLSL30.020/HLS.L30.T16RBT.2023204T163150.v2.0/HLS.L30.T16RBT.2023204T163150.v2.0.B11.tif', 'https://data.lpdaac.earthdatacloud.nasa.gov/lp-prod-protected/HLSL30.020/HLS.L30.T16RBT.2023204T163150.v2.0/HLS.L30.T16RBT.2023204T163150.v2.0.B03.tif', 'https://data.lpdaac.earthdatacloud.nasa.gov/lp-prod-protected/HLSL30.020/HLS.L30.T16RBT.2023204T163150.v2.0/HLS.L30.T16RBT.2023204T163150.v2.0.B06.tif', 'https://data.lpdaac.earthdatacloud.nasa.gov/lp-prod-protected/HLSL30.020/HLS.L30.T16RBT.2023204T163150.v2.0/HLS.L30.T16RBT.2023204T163150.v2.0.SZA.tif', 'https://data.lpdaac.earthdatacloud.nasa.gov/lp-prod-protected/HLSL30.020/HLS.L30.T16RBT.2023204T163150.v2.0/HLS.L30.T16RBT.2023204T163150.v2.0.SAA.tif', 'https://data.lpdaac.earthdatacloud.nasa.gov/lp-prod-protected/HLSL30.020/HLS.L30.T16RBT.2023204T163150.v2.0/HLS.L30.T16RBT.2023204T163150.v2.0.B09.tif', 'https://data.lpdaac.earthdatacloud.nasa.gov/lp-prod-protected/HLSL30.020/HLS.L30.T16RBT.2023204T163150.v2.0/HLS.L30.T16RBT.2023204T163150.v2.0.VZA.tif', 'https://data.lpdaac.earthdatacloud.nasa.gov/lp-prod-protected/HLSL30.020/HLS.L30.T16RBT.2023204T163150.v2.0/HLS.L30.T16RBT.2023204T163150.v2.0.B10.tif', 'https://data.lpdaac.earthdatacloud.nasa.gov/lp-prod-protected/HLSL30.020/HLS.L30.T16RBT.2023204T163150.v2.0/HLS.L30.T16RBT.2023204T163150.v2.0.B04.tif', 'https://data.lpdaac.earthdatacloud.nasa.gov/lp-prod-protected/HLSL30.020/HLS.L30.T16RBT.2023204T163150.v2.0/HLS.L30.T16RBT.2023204T163150.v2.0.VAA.tif', 'https://data.lpdaac.earthdatacloud.nasa.gov/lp-prod-protected/HLSL30.020/HLS.L30.T16RBT.2023204T163150.v2.0/HLS.L30.T16RBT.2023204T163150.v2.0.B07.tif', 'https://data.lpdaac.earthdatacloud.nasa.gov/lp-prod-protected/HLSL30.020/HLS.L30.T16RBT.2023204T163150.v2.0/HLS.L30.T16RBT.2023204T163150.v2.0.B05.tif', 'https://data.lpdaac.earthdatacloud.nasa.gov/lp-prod-protected/HLSL30.020/HLS.L30.T16RBT.2023204T163150.v2.0/HLS.L30.T16RBT.2023204T163150.v2.0.B02.tif', 'https://data.lpdaac.earthdatacloud.nasa.gov/lp-prod-protected/HLSL30.020/HLS.L30.T16RBT.2023204T163150.v2.0/HLS.L30.T16RBT.2023204T163150.v2.0.B01.tif', 'https://data.lpdaac.earthdatacloud.nasa.gov/lp-prod-protected/HLSL30.020/HLS.L30.T16RBT.2023204T163150.v2.0/HLS.L30.T16RBT.2023204T163150.v2.0.Fmask.tif'],\n",
              " Collection: {'EntryTitle': 'HLS Landsat Operational Land Imager Surface Reflectance and TOA Brightness Daily Global 30m v2.0'}\n",
              " Spatial coverage: {'HorizontalSpatialDomain': {'Geometry': {'GPolygons': [{'Boundary': {'Points': [{'Longitude': -90.10082051, 'Latitude': 29.70587294}, {'Longitude': -89.29250491, 'Latitude': 29.72234654}, {'Longitude': -89.02128184, 'Latitude': 30.7173297}, {'Longitude': -90.13201749, 'Latitude': 30.69527405}, {'Longitude': -90.10082051, 'Latitude': 29.70587294}]}}]}}}\n",
              " Temporal coverage: {'RangeDateTime': {'BeginningDateTime': '2023-07-31T16:31:47.828Z', 'EndingDateTime': '2023-07-31T16:31:47.828Z'}}\n",
              " Size(MB): 148.3355951309204\n",
              " Data: ['https://data.lpdaac.earthdatacloud.nasa.gov/lp-prod-protected/HLSL30.020/HLS.L30.T16RBU.2023212T163147.v2.0/HLS.L30.T16RBU.2023212T163147.v2.0.VAA.tif', 'https://data.lpdaac.earthdatacloud.nasa.gov/lp-prod-protected/HLSL30.020/HLS.L30.T16RBU.2023212T163147.v2.0/HLS.L30.T16RBU.2023212T163147.v2.0.B02.tif', 'https://data.lpdaac.earthdatacloud.nasa.gov/lp-prod-protected/HLSL30.020/HLS.L30.T16RBU.2023212T163147.v2.0/HLS.L30.T16RBU.2023212T163147.v2.0.B05.tif', 'https://data.lpdaac.earthdatacloud.nasa.gov/lp-prod-protected/HLSL30.020/HLS.L30.T16RBU.2023212T163147.v2.0/HLS.L30.T16RBU.2023212T163147.v2.0.VZA.tif', 'https://data.lpdaac.earthdatacloud.nasa.gov/lp-prod-protected/HLSL30.020/HLS.L30.T16RBU.2023212T163147.v2.0/HLS.L30.T16RBU.2023212T163147.v2.0.Fmask.tif', 'https://data.lpdaac.earthdatacloud.nasa.gov/lp-prod-protected/HLSL30.020/HLS.L30.T16RBU.2023212T163147.v2.0/HLS.L30.T16RBU.2023212T163147.v2.0.B11.tif', 'https://data.lpdaac.earthdatacloud.nasa.gov/lp-prod-protected/HLSL30.020/HLS.L30.T16RBU.2023212T163147.v2.0/HLS.L30.T16RBU.2023212T163147.v2.0.B06.tif', 'https://data.lpdaac.earthdatacloud.nasa.gov/lp-prod-protected/HLSL30.020/HLS.L30.T16RBU.2023212T163147.v2.0/HLS.L30.T16RBU.2023212T163147.v2.0.B01.tif', 'https://data.lpdaac.earthdatacloud.nasa.gov/lp-prod-protected/HLSL30.020/HLS.L30.T16RBU.2023212T163147.v2.0/HLS.L30.T16RBU.2023212T163147.v2.0.B04.tif', 'https://data.lpdaac.earthdatacloud.nasa.gov/lp-prod-protected/HLSL30.020/HLS.L30.T16RBU.2023212T163147.v2.0/HLS.L30.T16RBU.2023212T163147.v2.0.B07.tif', 'https://data.lpdaac.earthdatacloud.nasa.gov/lp-prod-protected/HLSL30.020/HLS.L30.T16RBU.2023212T163147.v2.0/HLS.L30.T16RBU.2023212T163147.v2.0.B10.tif', 'https://data.lpdaac.earthdatacloud.nasa.gov/lp-prod-protected/HLSL30.020/HLS.L30.T16RBU.2023212T163147.v2.0/HLS.L30.T16RBU.2023212T163147.v2.0.B03.tif', 'https://data.lpdaac.earthdatacloud.nasa.gov/lp-prod-protected/HLSL30.020/HLS.L30.T16RBU.2023212T163147.v2.0/HLS.L30.T16RBU.2023212T163147.v2.0.B09.tif', 'https://data.lpdaac.earthdatacloud.nasa.gov/lp-prod-protected/HLSL30.020/HLS.L30.T16RBU.2023212T163147.v2.0/HLS.L30.T16RBU.2023212T163147.v2.0.SZA.tif', 'https://data.lpdaac.earthdatacloud.nasa.gov/lp-prod-protected/HLSL30.020/HLS.L30.T16RBU.2023212T163147.v2.0/HLS.L30.T16RBU.2023212T163147.v2.0.SAA.tif'],\n",
              " Collection: {'EntryTitle': 'HLS Landsat Operational Land Imager Surface Reflectance and TOA Brightness Daily Global 30m v2.0'}\n",
              " Spatial coverage: {'HorizontalSpatialDomain': {'Geometry': {'GPolygons': [{'Boundary': {'Points': [{'Longitude': -90.07372506, 'Latitude': 28.80444525}, {'Longitude': -89.53633938, 'Latitude': 28.81562095}, {'Longitude': -89.2684568, 'Latitude': 29.81098947}, {'Longitude': -90.10353675, 'Latitude': 29.79400715}, {'Longitude': -90.07372506, 'Latitude': 28.80444525}]}}]}}}\n",
              " Temporal coverage: {'RangeDateTime': {'BeginningDateTime': '2023-07-31T16:31:47.828Z', 'EndingDateTime': '2023-07-31T16:32:11.724Z'}}\n",
              " Size(MB): 106.62133312225342\n",
              " Data: ['https://data.lpdaac.earthdatacloud.nasa.gov/lp-prod-protected/HLSL30.020/HLS.L30.T16RBT.2023212T163147.v2.0/HLS.L30.T16RBT.2023212T163147.v2.0.B10.tif', 'https://data.lpdaac.earthdatacloud.nasa.gov/lp-prod-protected/HLSL30.020/HLS.L30.T16RBT.2023212T163147.v2.0/HLS.L30.T16RBT.2023212T163147.v2.0.VAA.tif', 'https://data.lpdaac.earthdatacloud.nasa.gov/lp-prod-protected/HLSL30.020/HLS.L30.T16RBT.2023212T163147.v2.0/HLS.L30.T16RBT.2023212T163147.v2.0.B01.tif', 'https://data.lpdaac.earthdatacloud.nasa.gov/lp-prod-protected/HLSL30.020/HLS.L30.T16RBT.2023212T163147.v2.0/HLS.L30.T16RBT.2023212T163147.v2.0.B02.tif', 'https://data.lpdaac.earthdatacloud.nasa.gov/lp-prod-protected/HLSL30.020/HLS.L30.T16RBT.2023212T163147.v2.0/HLS.L30.T16RBT.2023212T163147.v2.0.SZA.tif', 'https://data.lpdaac.earthdatacloud.nasa.gov/lp-prod-protected/HLSL30.020/HLS.L30.T16RBT.2023212T163147.v2.0/HLS.L30.T16RBT.2023212T163147.v2.0.SAA.tif', 'https://data.lpdaac.earthdatacloud.nasa.gov/lp-prod-protected/HLSL30.020/HLS.L30.T16RBT.2023212T163147.v2.0/HLS.L30.T16RBT.2023212T163147.v2.0.B09.tif', 'https://data.lpdaac.earthdatacloud.nasa.gov/lp-prod-protected/HLSL30.020/HLS.L30.T16RBT.2023212T163147.v2.0/HLS.L30.T16RBT.2023212T163147.v2.0.B05.tif', 'https://data.lpdaac.earthdatacloud.nasa.gov/lp-prod-protected/HLSL30.020/HLS.L30.T16RBT.2023212T163147.v2.0/HLS.L30.T16RBT.2023212T163147.v2.0.B06.tif', 'https://data.lpdaac.earthdatacloud.nasa.gov/lp-prod-protected/HLSL30.020/HLS.L30.T16RBT.2023212T163147.v2.0/HLS.L30.T16RBT.2023212T163147.v2.0.B03.tif', 'https://data.lpdaac.earthdatacloud.nasa.gov/lp-prod-protected/HLSL30.020/HLS.L30.T16RBT.2023212T163147.v2.0/HLS.L30.T16RBT.2023212T163147.v2.0.B04.tif', 'https://data.lpdaac.earthdatacloud.nasa.gov/lp-prod-protected/HLSL30.020/HLS.L30.T16RBT.2023212T163147.v2.0/HLS.L30.T16RBT.2023212T163147.v2.0.VZA.tif', 'https://data.lpdaac.earthdatacloud.nasa.gov/lp-prod-protected/HLSL30.020/HLS.L30.T16RBT.2023212T163147.v2.0/HLS.L30.T16RBT.2023212T163147.v2.0.Fmask.tif', 'https://data.lpdaac.earthdatacloud.nasa.gov/lp-prod-protected/HLSL30.020/HLS.L30.T16RBT.2023212T163147.v2.0/HLS.L30.T16RBT.2023212T163147.v2.0.B07.tif', 'https://data.lpdaac.earthdatacloud.nasa.gov/lp-prod-protected/HLSL30.020/HLS.L30.T16RBT.2023212T163147.v2.0/HLS.L30.T16RBT.2023212T163147.v2.0.B11.tif'],\n",
              " Collection: {'EntryTitle': 'HLS Landsat Operational Land Imager Surface Reflectance and TOA Brightness Daily Global 30m v2.0'}\n",
              " Spatial coverage: {'HorizontalSpatialDomain': {'Geometry': {'GPolygons': [{'Boundary': {'Points': [{'Longitude': -89.82661214, 'Latitude': 28.80213717}, {'Longitude': -89.79583778, 'Latitude': 29.79160422}, {'Longitude': -90.93082361, 'Latitude': 29.81426153}, {'Longitude': -90.95072084, 'Latitude': 28.82389994}, {'Longitude': -89.82661214, 'Latitude': 28.80213717}]}}]}}}\n",
              " Temporal coverage: {'RangeDateTime': {'BeginningDateTime': '2023-07-31T16:31:47.828Z', 'EndingDateTime': '2023-07-31T16:32:11.724Z'}}\n",
              " Size(MB): 170.80500507354736\n",
              " Data: ['https://data.lpdaac.earthdatacloud.nasa.gov/lp-prod-protected/HLSL30.020/HLS.L30.T15RYN.2023212T163147.v2.0/HLS.L30.T15RYN.2023212T163147.v2.0.B03.tif', 'https://data.lpdaac.earthdatacloud.nasa.gov/lp-prod-protected/HLSL30.020/HLS.L30.T15RYN.2023212T163147.v2.0/HLS.L30.T15RYN.2023212T163147.v2.0.SZA.tif', 'https://data.lpdaac.earthdatacloud.nasa.gov/lp-prod-protected/HLSL30.020/HLS.L30.T15RYN.2023212T163147.v2.0/HLS.L30.T15RYN.2023212T163147.v2.0.B11.tif', 'https://data.lpdaac.earthdatacloud.nasa.gov/lp-prod-protected/HLSL30.020/HLS.L30.T15RYN.2023212T163147.v2.0/HLS.L30.T15RYN.2023212T163147.v2.0.Fmask.tif', 'https://data.lpdaac.earthdatacloud.nasa.gov/lp-prod-protected/HLSL30.020/HLS.L30.T15RYN.2023212T163147.v2.0/HLS.L30.T15RYN.2023212T163147.v2.0.B04.tif', 'https://data.lpdaac.earthdatacloud.nasa.gov/lp-prod-protected/HLSL30.020/HLS.L30.T15RYN.2023212T163147.v2.0/HLS.L30.T15RYN.2023212T163147.v2.0.B01.tif', 'https://data.lpdaac.earthdatacloud.nasa.gov/lp-prod-protected/HLSL30.020/HLS.L30.T15RYN.2023212T163147.v2.0/HLS.L30.T15RYN.2023212T163147.v2.0.B07.tif', 'https://data.lpdaac.earthdatacloud.nasa.gov/lp-prod-protected/HLSL30.020/HLS.L30.T15RYN.2023212T163147.v2.0/HLS.L30.T15RYN.2023212T163147.v2.0.B09.tif', 'https://data.lpdaac.earthdatacloud.nasa.gov/lp-prod-protected/HLSL30.020/HLS.L30.T15RYN.2023212T163147.v2.0/HLS.L30.T15RYN.2023212T163147.v2.0.B05.tif', 'https://data.lpdaac.earthdatacloud.nasa.gov/lp-prod-protected/HLSL30.020/HLS.L30.T15RYN.2023212T163147.v2.0/HLS.L30.T15RYN.2023212T163147.v2.0.VZA.tif', 'https://data.lpdaac.earthdatacloud.nasa.gov/lp-prod-protected/HLSL30.020/HLS.L30.T15RYN.2023212T163147.v2.0/HLS.L30.T15RYN.2023212T163147.v2.0.B02.tif', 'https://data.lpdaac.earthdatacloud.nasa.gov/lp-prod-protected/HLSL30.020/HLS.L30.T15RYN.2023212T163147.v2.0/HLS.L30.T15RYN.2023212T163147.v2.0.B06.tif', 'https://data.lpdaac.earthdatacloud.nasa.gov/lp-prod-protected/HLSL30.020/HLS.L30.T15RYN.2023212T163147.v2.0/HLS.L30.T15RYN.2023212T163147.v2.0.VAA.tif', 'https://data.lpdaac.earthdatacloud.nasa.gov/lp-prod-protected/HLSL30.020/HLS.L30.T15RYN.2023212T163147.v2.0/HLS.L30.T15RYN.2023212T163147.v2.0.B10.tif', 'https://data.lpdaac.earthdatacloud.nasa.gov/lp-prod-protected/HLSL30.020/HLS.L30.T15RYN.2023212T163147.v2.0/HLS.L30.T15RYN.2023212T163147.v2.0.SAA.tif'],\n",
              " Collection: {'EntryTitle': 'HLS Landsat Operational Land Imager Surface Reflectance and TOA Brightness Daily Global 30m v2.0'}\n",
              " Spatial coverage: {'HorizontalSpatialDomain': {'Geometry': {'GPolygons': [{'Boundary': {'Points': [{'Longitude': -89.79864173, 'Latitude': 29.70347853}, {'Longitude': -89.76643746, 'Latitude': 30.69278312}, {'Longitude': -90.91181412, 'Latitude': 30.71627038}, {'Longitude': -90.93263654, 'Latitude': 29.72605548}, {'Longitude': -89.79864173, 'Latitude': 29.70347853}]}}]}}}\n",
              " Temporal coverage: {'RangeDateTime': {'BeginningDateTime': '2023-07-31T16:31:47.828Z', 'EndingDateTime': '2023-07-31T16:31:47.828Z'}}\n",
              " Size(MB): 173.77996730804443\n",
              " Data: ['https://data.lpdaac.earthdatacloud.nasa.gov/lp-prod-protected/HLSL30.020/HLS.L30.T15RYP.2023212T163147.v2.0/HLS.L30.T15RYP.2023212T163147.v2.0.B03.tif', 'https://data.lpdaac.earthdatacloud.nasa.gov/lp-prod-protected/HLSL30.020/HLS.L30.T15RYP.2023212T163147.v2.0/HLS.L30.T15RYP.2023212T163147.v2.0.B04.tif', 'https://data.lpdaac.earthdatacloud.nasa.gov/lp-prod-protected/HLSL30.020/HLS.L30.T15RYP.2023212T163147.v2.0/HLS.L30.T15RYP.2023212T163147.v2.0.B10.tif', 'https://data.lpdaac.earthdatacloud.nasa.gov/lp-prod-protected/HLSL30.020/HLS.L30.T15RYP.2023212T163147.v2.0/HLS.L30.T15RYP.2023212T163147.v2.0.VAA.tif', 'https://data.lpdaac.earthdatacloud.nasa.gov/lp-prod-protected/HLSL30.020/HLS.L30.T15RYP.2023212T163147.v2.0/HLS.L30.T15RYP.2023212T163147.v2.0.SAA.tif', 'https://data.lpdaac.earthdatacloud.nasa.gov/lp-prod-protected/HLSL30.020/HLS.L30.T15RYP.2023212T163147.v2.0/HLS.L30.T15RYP.2023212T163147.v2.0.Fmask.tif', 'https://data.lpdaac.earthdatacloud.nasa.gov/lp-prod-protected/HLSL30.020/HLS.L30.T15RYP.2023212T163147.v2.0/HLS.L30.T15RYP.2023212T163147.v2.0.SZA.tif', 'https://data.lpdaac.earthdatacloud.nasa.gov/lp-prod-protected/HLSL30.020/HLS.L30.T15RYP.2023212T163147.v2.0/HLS.L30.T15RYP.2023212T163147.v2.0.B11.tif', 'https://data.lpdaac.earthdatacloud.nasa.gov/lp-prod-protected/HLSL30.020/HLS.L30.T15RYP.2023212T163147.v2.0/HLS.L30.T15RYP.2023212T163147.v2.0.B06.tif', 'https://data.lpdaac.earthdatacloud.nasa.gov/lp-prod-protected/HLSL30.020/HLS.L30.T15RYP.2023212T163147.v2.0/HLS.L30.T15RYP.2023212T163147.v2.0.B09.tif', 'https://data.lpdaac.earthdatacloud.nasa.gov/lp-prod-protected/HLSL30.020/HLS.L30.T15RYP.2023212T163147.v2.0/HLS.L30.T15RYP.2023212T163147.v2.0.B07.tif', 'https://data.lpdaac.earthdatacloud.nasa.gov/lp-prod-protected/HLSL30.020/HLS.L30.T15RYP.2023212T163147.v2.0/HLS.L30.T15RYP.2023212T163147.v2.0.VZA.tif', 'https://data.lpdaac.earthdatacloud.nasa.gov/lp-prod-protected/HLSL30.020/HLS.L30.T15RYP.2023212T163147.v2.0/HLS.L30.T15RYP.2023212T163147.v2.0.B01.tif', 'https://data.lpdaac.earthdatacloud.nasa.gov/lp-prod-protected/HLSL30.020/HLS.L30.T15RYP.2023212T163147.v2.0/HLS.L30.T15RYP.2023212T163147.v2.0.B02.tif', 'https://data.lpdaac.earthdatacloud.nasa.gov/lp-prod-protected/HLSL30.020/HLS.L30.T15RYP.2023212T163147.v2.0/HLS.L30.T15RYP.2023212T163147.v2.0.B05.tif'],\n",
              " Collection: {'EntryTitle': 'HLS Landsat Operational Land Imager Surface Reflectance and TOA Brightness Daily Global 30m v2.0'}\n",
              " Spatial coverage: {'HorizontalSpatialDomain': {'Geometry': {'GPolygons': [{'Boundary': {'Points': [{'Longitude': -90.10082051, 'Latitude': 29.70587294}, {'Longitude': -89.29033532, 'Latitude': 29.72238411}, {'Longitude': -89.01908991, 'Latitude': 30.71736382}, {'Longitude': -90.13201749, 'Latitude': 30.69527405}, {'Longitude': -90.10082051, 'Latitude': 29.70587294}]}}]}}}\n",
              " Temporal coverage: {'RangeDateTime': {'BeginningDateTime': '2023-08-08T16:31:57.564Z', 'EndingDateTime': '2023-08-08T16:31:57.564Z'}}\n",
              " Size(MB): 159.18746662139893\n",
              " Data: ['https://data.lpdaac.earthdatacloud.nasa.gov/lp-prod-protected/HLSL30.020/HLS.L30.T16RBU.2023220T163157.v2.0/HLS.L30.T16RBU.2023220T163157.v2.0.VZA.tif', 'https://data.lpdaac.earthdatacloud.nasa.gov/lp-prod-protected/HLSL30.020/HLS.L30.T16RBU.2023220T163157.v2.0/HLS.L30.T16RBU.2023220T163157.v2.0.SAA.tif', 'https://data.lpdaac.earthdatacloud.nasa.gov/lp-prod-protected/HLSL30.020/HLS.L30.T16RBU.2023220T163157.v2.0/HLS.L30.T16RBU.2023220T163157.v2.0.B01.tif', 'https://data.lpdaac.earthdatacloud.nasa.gov/lp-prod-protected/HLSL30.020/HLS.L30.T16RBU.2023220T163157.v2.0/HLS.L30.T16RBU.2023220T163157.v2.0.B07.tif', 'https://data.lpdaac.earthdatacloud.nasa.gov/lp-prod-protected/HLSL30.020/HLS.L30.T16RBU.2023220T163157.v2.0/HLS.L30.T16RBU.2023220T163157.v2.0.B11.tif', 'https://data.lpdaac.earthdatacloud.nasa.gov/lp-prod-protected/HLSL30.020/HLS.L30.T16RBU.2023220T163157.v2.0/HLS.L30.T16RBU.2023220T163157.v2.0.B04.tif', 'https://data.lpdaac.earthdatacloud.nasa.gov/lp-prod-protected/HLSL30.020/HLS.L30.T16RBU.2023220T163157.v2.0/HLS.L30.T16RBU.2023220T163157.v2.0.SZA.tif', 'https://data.lpdaac.earthdatacloud.nasa.gov/lp-prod-protected/HLSL30.020/HLS.L30.T16RBU.2023220T163157.v2.0/HLS.L30.T16RBU.2023220T163157.v2.0.B03.tif', 'https://data.lpdaac.earthdatacloud.nasa.gov/lp-prod-protected/HLSL30.020/HLS.L30.T16RBU.2023220T163157.v2.0/HLS.L30.T16RBU.2023220T163157.v2.0.VAA.tif', 'https://data.lpdaac.earthdatacloud.nasa.gov/lp-prod-protected/HLSL30.020/HLS.L30.T16RBU.2023220T163157.v2.0/HLS.L30.T16RBU.2023220T163157.v2.0.B02.tif', 'https://data.lpdaac.earthdatacloud.nasa.gov/lp-prod-protected/HLSL30.020/HLS.L30.T16RBU.2023220T163157.v2.0/HLS.L30.T16RBU.2023220T163157.v2.0.Fmask.tif', 'https://data.lpdaac.earthdatacloud.nasa.gov/lp-prod-protected/HLSL30.020/HLS.L30.T16RBU.2023220T163157.v2.0/HLS.L30.T16RBU.2023220T163157.v2.0.B05.tif', 'https://data.lpdaac.earthdatacloud.nasa.gov/lp-prod-protected/HLSL30.020/HLS.L30.T16RBU.2023220T163157.v2.0/HLS.L30.T16RBU.2023220T163157.v2.0.B10.tif', 'https://data.lpdaac.earthdatacloud.nasa.gov/lp-prod-protected/HLSL30.020/HLS.L30.T16RBU.2023220T163157.v2.0/HLS.L30.T16RBU.2023220T163157.v2.0.B06.tif', 'https://data.lpdaac.earthdatacloud.nasa.gov/lp-prod-protected/HLSL30.020/HLS.L30.T16RBU.2023220T163157.v2.0/HLS.L30.T16RBU.2023220T163157.v2.0.B09.tif'],\n",
              " Collection: {'EntryTitle': 'HLS Landsat Operational Land Imager Surface Reflectance and TOA Brightness Daily Global 30m v2.0'}\n",
              " Spatial coverage: {'HorizontalSpatialDomain': {'Geometry': {'GPolygons': [{'Boundary': {'Points': [{'Longitude': -89.82661214, 'Latitude': 28.80213717}, {'Longitude': -89.79583778, 'Latitude': 29.79160422}, {'Longitude': -90.93082361, 'Latitude': 29.81426153}, {'Longitude': -90.94979896, 'Latitude': 28.82388593}, {'Longitude': -89.82661214, 'Latitude': 28.80213717}]}}]}}}\n",
              " Temporal coverage: {'RangeDateTime': {'BeginningDateTime': '2023-08-08T16:31:57.564Z', 'EndingDateTime': '2023-08-08T16:32:21.459Z'}}\n",
              " Size(MB): 174.08020496368408\n",
              " Data: ['https://data.lpdaac.earthdatacloud.nasa.gov/lp-prod-protected/HLSL30.020/HLS.L30.T15RYN.2023220T163157.v2.0/HLS.L30.T15RYN.2023220T163157.v2.0.B04.tif', 'https://data.lpdaac.earthdatacloud.nasa.gov/lp-prod-protected/HLSL30.020/HLS.L30.T15RYN.2023220T163157.v2.0/HLS.L30.T15RYN.2023220T163157.v2.0.B03.tif', 'https://data.lpdaac.earthdatacloud.nasa.gov/lp-prod-protected/HLSL30.020/HLS.L30.T15RYN.2023220T163157.v2.0/HLS.L30.T15RYN.2023220T163157.v2.0.VZA.tif', 'https://data.lpdaac.earthdatacloud.nasa.gov/lp-prod-protected/HLSL30.020/HLS.L30.T15RYN.2023220T163157.v2.0/HLS.L30.T15RYN.2023220T163157.v2.0.B01.tif', 'https://data.lpdaac.earthdatacloud.nasa.gov/lp-prod-protected/HLSL30.020/HLS.L30.T15RYN.2023220T163157.v2.0/HLS.L30.T15RYN.2023220T163157.v2.0.VAA.tif', 'https://data.lpdaac.earthdatacloud.nasa.gov/lp-prod-protected/HLSL30.020/HLS.L30.T15RYN.2023220T163157.v2.0/HLS.L30.T15RYN.2023220T163157.v2.0.B07.tif', 'https://data.lpdaac.earthdatacloud.nasa.gov/lp-prod-protected/HLSL30.020/HLS.L30.T15RYN.2023220T163157.v2.0/HLS.L30.T15RYN.2023220T163157.v2.0.SAA.tif', 'https://data.lpdaac.earthdatacloud.nasa.gov/lp-prod-protected/HLSL30.020/HLS.L30.T15RYN.2023220T163157.v2.0/HLS.L30.T15RYN.2023220T163157.v2.0.B06.tif', 'https://data.lpdaac.earthdatacloud.nasa.gov/lp-prod-protected/HLSL30.020/HLS.L30.T15RYN.2023220T163157.v2.0/HLS.L30.T15RYN.2023220T163157.v2.0.B10.tif', 'https://data.lpdaac.earthdatacloud.nasa.gov/lp-prod-protected/HLSL30.020/HLS.L30.T15RYN.2023220T163157.v2.0/HLS.L30.T15RYN.2023220T163157.v2.0.B02.tif', 'https://data.lpdaac.earthdatacloud.nasa.gov/lp-prod-protected/HLSL30.020/HLS.L30.T15RYN.2023220T163157.v2.0/HLS.L30.T15RYN.2023220T163157.v2.0.B05.tif', 'https://data.lpdaac.earthdatacloud.nasa.gov/lp-prod-protected/HLSL30.020/HLS.L30.T15RYN.2023220T163157.v2.0/HLS.L30.T15RYN.2023220T163157.v2.0.SZA.tif', 'https://data.lpdaac.earthdatacloud.nasa.gov/lp-prod-protected/HLSL30.020/HLS.L30.T15RYN.2023220T163157.v2.0/HLS.L30.T15RYN.2023220T163157.v2.0.B09.tif', 'https://data.lpdaac.earthdatacloud.nasa.gov/lp-prod-protected/HLSL30.020/HLS.L30.T15RYN.2023220T163157.v2.0/HLS.L30.T15RYN.2023220T163157.v2.0.B11.tif', 'https://data.lpdaac.earthdatacloud.nasa.gov/lp-prod-protected/HLSL30.020/HLS.L30.T15RYN.2023220T163157.v2.0/HLS.L30.T15RYN.2023220T163157.v2.0.Fmask.tif'],\n",
              " Collection: {'EntryTitle': 'HLS Landsat Operational Land Imager Surface Reflectance and TOA Brightness Daily Global 30m v2.0'}\n",
              " Spatial coverage: {'HorizontalSpatialDomain': {'Geometry': {'GPolygons': [{'Boundary': {'Points': [{'Longitude': -89.79864173, 'Latitude': 29.70347853}, {'Longitude': -89.76643746, 'Latitude': 30.69278312}, {'Longitude': -90.91181412, 'Latitude': 30.71627038}, {'Longitude': -90.93263654, 'Latitude': 29.72605548}, {'Longitude': -89.79864173, 'Latitude': 29.70347853}]}}]}}}\n",
              " Temporal coverage: {'RangeDateTime': {'BeginningDateTime': '2023-08-08T16:31:57.564Z', 'EndingDateTime': '2023-08-08T16:31:57.564Z'}}\n",
              " Size(MB): 190.29038524627686\n",
              " Data: ['https://data.lpdaac.earthdatacloud.nasa.gov/lp-prod-protected/HLSL30.020/HLS.L30.T15RYP.2023220T163157.v2.0/HLS.L30.T15RYP.2023220T163157.v2.0.VZA.tif', 'https://data.lpdaac.earthdatacloud.nasa.gov/lp-prod-protected/HLSL30.020/HLS.L30.T15RYP.2023220T163157.v2.0/HLS.L30.T15RYP.2023220T163157.v2.0.VAA.tif', 'https://data.lpdaac.earthdatacloud.nasa.gov/lp-prod-protected/HLSL30.020/HLS.L30.T15RYP.2023220T163157.v2.0/HLS.L30.T15RYP.2023220T163157.v2.0.Fmask.tif', 'https://data.lpdaac.earthdatacloud.nasa.gov/lp-prod-protected/HLSL30.020/HLS.L30.T15RYP.2023220T163157.v2.0/HLS.L30.T15RYP.2023220T163157.v2.0.B07.tif', 'https://data.lpdaac.earthdatacloud.nasa.gov/lp-prod-protected/HLSL30.020/HLS.L30.T15RYP.2023220T163157.v2.0/HLS.L30.T15RYP.2023220T163157.v2.0.B05.tif', 'https://data.lpdaac.earthdatacloud.nasa.gov/lp-prod-protected/HLSL30.020/HLS.L30.T15RYP.2023220T163157.v2.0/HLS.L30.T15RYP.2023220T163157.v2.0.B02.tif', 'https://data.lpdaac.earthdatacloud.nasa.gov/lp-prod-protected/HLSL30.020/HLS.L30.T15RYP.2023220T163157.v2.0/HLS.L30.T15RYP.2023220T163157.v2.0.B10.tif', 'https://data.lpdaac.earthdatacloud.nasa.gov/lp-prod-protected/HLSL30.020/HLS.L30.T15RYP.2023220T163157.v2.0/HLS.L30.T15RYP.2023220T163157.v2.0.B06.tif', 'https://data.lpdaac.earthdatacloud.nasa.gov/lp-prod-protected/HLSL30.020/HLS.L30.T15RYP.2023220T163157.v2.0/HLS.L30.T15RYP.2023220T163157.v2.0.B09.tif', 'https://data.lpdaac.earthdatacloud.nasa.gov/lp-prod-protected/HLSL30.020/HLS.L30.T15RYP.2023220T163157.v2.0/HLS.L30.T15RYP.2023220T163157.v2.0.B03.tif', 'https://data.lpdaac.earthdatacloud.nasa.gov/lp-prod-protected/HLSL30.020/HLS.L30.T15RYP.2023220T163157.v2.0/HLS.L30.T15RYP.2023220T163157.v2.0.SZA.tif', 'https://data.lpdaac.earthdatacloud.nasa.gov/lp-prod-protected/HLSL30.020/HLS.L30.T15RYP.2023220T163157.v2.0/HLS.L30.T15RYP.2023220T163157.v2.0.B04.tif', 'https://data.lpdaac.earthdatacloud.nasa.gov/lp-prod-protected/HLSL30.020/HLS.L30.T15RYP.2023220T163157.v2.0/HLS.L30.T15RYP.2023220T163157.v2.0.B11.tif', 'https://data.lpdaac.earthdatacloud.nasa.gov/lp-prod-protected/HLSL30.020/HLS.L30.T15RYP.2023220T163157.v2.0/HLS.L30.T15RYP.2023220T163157.v2.0.SAA.tif', 'https://data.lpdaac.earthdatacloud.nasa.gov/lp-prod-protected/HLSL30.020/HLS.L30.T15RYP.2023220T163157.v2.0/HLS.L30.T15RYP.2023220T163157.v2.0.B01.tif'],\n",
              " Collection: {'EntryTitle': 'HLS Landsat Operational Land Imager Surface Reflectance and TOA Brightness Daily Global 30m v2.0'}\n",
              " Spatial coverage: {'HorizontalSpatialDomain': {'Geometry': {'GPolygons': [{'Boundary': {'Points': [{'Longitude': -90.07372506, 'Latitude': 28.80444525}, {'Longitude': -89.53418925, 'Latitude': 28.81566136}, {'Longitude': -89.26659549, 'Latitude': 29.81102143}, {'Longitude': -90.10353675, 'Latitude': 29.79400715}, {'Longitude': -90.07372506, 'Latitude': 28.80444525}]}}]}}}\n",
              " Temporal coverage: {'RangeDateTime': {'BeginningDateTime': '2023-08-08T16:31:57.564Z', 'EndingDateTime': '2023-08-08T16:32:21.459Z'}}\n",
              " Size(MB): 104.74463367462158\n",
              " Data: ['https://data.lpdaac.earthdatacloud.nasa.gov/lp-prod-protected/HLSL30.020/HLS.L30.T16RBT.2023220T163157.v2.0/HLS.L30.T16RBT.2023220T163157.v2.0.B10.tif', 'https://data.lpdaac.earthdatacloud.nasa.gov/lp-prod-protected/HLSL30.020/HLS.L30.T16RBT.2023220T163157.v2.0/HLS.L30.T16RBT.2023220T163157.v2.0.B02.tif', 'https://data.lpdaac.earthdatacloud.nasa.gov/lp-prod-protected/HLSL30.020/HLS.L30.T16RBT.2023220T163157.v2.0/HLS.L30.T16RBT.2023220T163157.v2.0.B01.tif', 'https://data.lpdaac.earthdatacloud.nasa.gov/lp-prod-protected/HLSL30.020/HLS.L30.T16RBT.2023220T163157.v2.0/HLS.L30.T16RBT.2023220T163157.v2.0.VZA.tif', 'https://data.lpdaac.earthdatacloud.nasa.gov/lp-prod-protected/HLSL30.020/HLS.L30.T16RBT.2023220T163157.v2.0/HLS.L30.T16RBT.2023220T163157.v2.0.VAA.tif', 'https://data.lpdaac.earthdatacloud.nasa.gov/lp-prod-protected/HLSL30.020/HLS.L30.T16RBT.2023220T163157.v2.0/HLS.L30.T16RBT.2023220T163157.v2.0.Fmask.tif', 'https://data.lpdaac.earthdatacloud.nasa.gov/lp-prod-protected/HLSL30.020/HLS.L30.T16RBT.2023220T163157.v2.0/HLS.L30.T16RBT.2023220T163157.v2.0.B06.tif', 'https://data.lpdaac.earthdatacloud.nasa.gov/lp-prod-protected/HLSL30.020/HLS.L30.T16RBT.2023220T163157.v2.0/HLS.L30.T16RBT.2023220T163157.v2.0.B03.tif', 'https://data.lpdaac.earthdatacloud.nasa.gov/lp-prod-protected/HLSL30.020/HLS.L30.T16RBT.2023220T163157.v2.0/HLS.L30.T16RBT.2023220T163157.v2.0.SZA.tif', 'https://data.lpdaac.earthdatacloud.nasa.gov/lp-prod-protected/HLSL30.020/HLS.L30.T16RBT.2023220T163157.v2.0/HLS.L30.T16RBT.2023220T163157.v2.0.B05.tif', 'https://data.lpdaac.earthdatacloud.nasa.gov/lp-prod-protected/HLSL30.020/HLS.L30.T16RBT.2023220T163157.v2.0/HLS.L30.T16RBT.2023220T163157.v2.0.B07.tif', 'https://data.lpdaac.earthdatacloud.nasa.gov/lp-prod-protected/HLSL30.020/HLS.L30.T16RBT.2023220T163157.v2.0/HLS.L30.T16RBT.2023220T163157.v2.0.SAA.tif', 'https://data.lpdaac.earthdatacloud.nasa.gov/lp-prod-protected/HLSL30.020/HLS.L30.T16RBT.2023220T163157.v2.0/HLS.L30.T16RBT.2023220T163157.v2.0.B04.tif', 'https://data.lpdaac.earthdatacloud.nasa.gov/lp-prod-protected/HLSL30.020/HLS.L30.T16RBT.2023220T163157.v2.0/HLS.L30.T16RBT.2023220T163157.v2.0.B11.tif', 'https://data.lpdaac.earthdatacloud.nasa.gov/lp-prod-protected/HLSL30.020/HLS.L30.T16RBT.2023220T163157.v2.0/HLS.L30.T16RBT.2023220T163157.v2.0.B09.tif'],\n",
              " Collection: {'EntryTitle': 'HLS Landsat Operational Land Imager Surface Reflectance and TOA Brightness Daily Global 30m v2.0'}\n",
              " Spatial coverage: {'HorizontalSpatialDomain': {'Geometry': {'GPolygons': [{'Boundary': {'Points': [{'Longitude': -89.79864173, 'Latitude': 29.70347853}, {'Longitude': -89.76643746, 'Latitude': 30.69278312}, {'Longitude': -90.91181412, 'Latitude': 30.71627038}, {'Longitude': -90.93263654, 'Latitude': 29.72605548}, {'Longitude': -89.79864173, 'Latitude': 29.70347853}]}}]}}}\n",
              " Temporal coverage: {'RangeDateTime': {'BeginningDateTime': '2023-08-16T16:31:52.083Z', 'EndingDateTime': '2023-08-16T16:31:52.083Z'}}\n",
              " Size(MB): 178.1906862258911\n",
              " Data: ['https://data.lpdaac.earthdatacloud.nasa.gov/lp-prod-protected/HLSL30.020/HLS.L30.T15RYP.2023228T163152.v2.0/HLS.L30.T15RYP.2023228T163152.v2.0.B02.tif', 'https://data.lpdaac.earthdatacloud.nasa.gov/lp-prod-protected/HLSL30.020/HLS.L30.T15RYP.2023228T163152.v2.0/HLS.L30.T15RYP.2023228T163152.v2.0.SAA.tif', 'https://data.lpdaac.earthdatacloud.nasa.gov/lp-prod-protected/HLSL30.020/HLS.L30.T15RYP.2023228T163152.v2.0/HLS.L30.T15RYP.2023228T163152.v2.0.SZA.tif', 'https://data.lpdaac.earthdatacloud.nasa.gov/lp-prod-protected/HLSL30.020/HLS.L30.T15RYP.2023228T163152.v2.0/HLS.L30.T15RYP.2023228T163152.v2.0.B07.tif', 'https://data.lpdaac.earthdatacloud.nasa.gov/lp-prod-protected/HLSL30.020/HLS.L30.T15RYP.2023228T163152.v2.0/HLS.L30.T15RYP.2023228T163152.v2.0.B04.tif', 'https://data.lpdaac.earthdatacloud.nasa.gov/lp-prod-protected/HLSL30.020/HLS.L30.T15RYP.2023228T163152.v2.0/HLS.L30.T15RYP.2023228T163152.v2.0.B05.tif', 'https://data.lpdaac.earthdatacloud.nasa.gov/lp-prod-protected/HLSL30.020/HLS.L30.T15RYP.2023228T163152.v2.0/HLS.L30.T15RYP.2023228T163152.v2.0.Fmask.tif', 'https://data.lpdaac.earthdatacloud.nasa.gov/lp-prod-protected/HLSL30.020/HLS.L30.T15RYP.2023228T163152.v2.0/HLS.L30.T15RYP.2023228T163152.v2.0.B03.tif', 'https://data.lpdaac.earthdatacloud.nasa.gov/lp-prod-protected/HLSL30.020/HLS.L30.T15RYP.2023228T163152.v2.0/HLS.L30.T15RYP.2023228T163152.v2.0.VAA.tif', 'https://data.lpdaac.earthdatacloud.nasa.gov/lp-prod-protected/HLSL30.020/HLS.L30.T15RYP.2023228T163152.v2.0/HLS.L30.T15RYP.2023228T163152.v2.0.B01.tif', 'https://data.lpdaac.earthdatacloud.nasa.gov/lp-prod-protected/HLSL30.020/HLS.L30.T15RYP.2023228T163152.v2.0/HLS.L30.T15RYP.2023228T163152.v2.0.B11.tif', 'https://data.lpdaac.earthdatacloud.nasa.gov/lp-prod-protected/HLSL30.020/HLS.L30.T15RYP.2023228T163152.v2.0/HLS.L30.T15RYP.2023228T163152.v2.0.B09.tif', 'https://data.lpdaac.earthdatacloud.nasa.gov/lp-prod-protected/HLSL30.020/HLS.L30.T15RYP.2023228T163152.v2.0/HLS.L30.T15RYP.2023228T163152.v2.0.B10.tif', 'https://data.lpdaac.earthdatacloud.nasa.gov/lp-prod-protected/HLSL30.020/HLS.L30.T15RYP.2023228T163152.v2.0/HLS.L30.T15RYP.2023228T163152.v2.0.VZA.tif', 'https://data.lpdaac.earthdatacloud.nasa.gov/lp-prod-protected/HLSL30.020/HLS.L30.T15RYP.2023228T163152.v2.0/HLS.L30.T15RYP.2023228T163152.v2.0.B06.tif'],\n",
              " Collection: {'EntryTitle': 'HLS Landsat Operational Land Imager Surface Reflectance and TOA Brightness Daily Global 30m v2.0'}\n",
              " Spatial coverage: {'HorizontalSpatialDomain': {'Geometry': {'GPolygons': [{'Boundary': {'Points': [{'Longitude': -90.10082051, 'Latitude': 29.70587294}, {'Longitude': -89.27795595, 'Latitude': 29.72340972}, {'Longitude': -89.00656456, 'Latitude': 30.71755809}, {'Longitude': -90.13201749, 'Latitude': 30.69527405}, {'Longitude': -90.10082051, 'Latitude': 29.70587294}]}}]}}}\n",
              " Temporal coverage: {'RangeDateTime': {'BeginningDateTime': '2023-08-16T16:31:52.083Z', 'EndingDateTime': '2023-08-16T16:31:52.083Z'}}\n",
              " Size(MB): 157.54631900787354\n",
              " Data: ['https://data.lpdaac.earthdatacloud.nasa.gov/lp-prod-protected/HLSL30.020/HLS.L30.T16RBU.2023228T163152.v2.0/HLS.L30.T16RBU.2023228T163152.v2.0.B04.tif', 'https://data.lpdaac.earthdatacloud.nasa.gov/lp-prod-protected/HLSL30.020/HLS.L30.T16RBU.2023228T163152.v2.0/HLS.L30.T16RBU.2023228T163152.v2.0.SAA.tif', 'https://data.lpdaac.earthdatacloud.nasa.gov/lp-prod-protected/HLSL30.020/HLS.L30.T16RBU.2023228T163152.v2.0/HLS.L30.T16RBU.2023228T163152.v2.0.B03.tif', 'https://data.lpdaac.earthdatacloud.nasa.gov/lp-prod-protected/HLSL30.020/HLS.L30.T16RBU.2023228T163152.v2.0/HLS.L30.T16RBU.2023228T163152.v2.0.B09.tif', 'https://data.lpdaac.earthdatacloud.nasa.gov/lp-prod-protected/HLSL30.020/HLS.L30.T16RBU.2023228T163152.v2.0/HLS.L30.T16RBU.2023228T163152.v2.0.B10.tif', 'https://data.lpdaac.earthdatacloud.nasa.gov/lp-prod-protected/HLSL30.020/HLS.L30.T16RBU.2023228T163152.v2.0/HLS.L30.T16RBU.2023228T163152.v2.0.B01.tif', 'https://data.lpdaac.earthdatacloud.nasa.gov/lp-prod-protected/HLSL30.020/HLS.L30.T16RBU.2023228T163152.v2.0/HLS.L30.T16RBU.2023228T163152.v2.0.VAA.tif', 'https://data.lpdaac.earthdatacloud.nasa.gov/lp-prod-protected/HLSL30.020/HLS.L30.T16RBU.2023228T163152.v2.0/HLS.L30.T16RBU.2023228T163152.v2.0.SZA.tif', 'https://data.lpdaac.earthdatacloud.nasa.gov/lp-prod-protected/HLSL30.020/HLS.L30.T16RBU.2023228T163152.v2.0/HLS.L30.T16RBU.2023228T163152.v2.0.B02.tif', 'https://data.lpdaac.earthdatacloud.nasa.gov/lp-prod-protected/HLSL30.020/HLS.L30.T16RBU.2023228T163152.v2.0/HLS.L30.T16RBU.2023228T163152.v2.0.B11.tif', 'https://data.lpdaac.earthdatacloud.nasa.gov/lp-prod-protected/HLSL30.020/HLS.L30.T16RBU.2023228T163152.v2.0/HLS.L30.T16RBU.2023228T163152.v2.0.B07.tif', 'https://data.lpdaac.earthdatacloud.nasa.gov/lp-prod-protected/HLSL30.020/HLS.L30.T16RBU.2023228T163152.v2.0/HLS.L30.T16RBU.2023228T163152.v2.0.B06.tif', 'https://data.lpdaac.earthdatacloud.nasa.gov/lp-prod-protected/HLSL30.020/HLS.L30.T16RBU.2023228T163152.v2.0/HLS.L30.T16RBU.2023228T163152.v2.0.Fmask.tif', 'https://data.lpdaac.earthdatacloud.nasa.gov/lp-prod-protected/HLSL30.020/HLS.L30.T16RBU.2023228T163152.v2.0/HLS.L30.T16RBU.2023228T163152.v2.0.B05.tif', 'https://data.lpdaac.earthdatacloud.nasa.gov/lp-prod-protected/HLSL30.020/HLS.L30.T16RBU.2023228T163152.v2.0/HLS.L30.T16RBU.2023228T163152.v2.0.VZA.tif'],\n",
              " Collection: {'EntryTitle': 'HLS Landsat Operational Land Imager Surface Reflectance and TOA Brightness Daily Global 30m v2.0'}\n",
              " Spatial coverage: {'HorizontalSpatialDomain': {'Geometry': {'GPolygons': [{'Boundary': {'Points': [{'Longitude': -90.07372506, 'Latitude': 28.80444525}, {'Longitude': -89.52528802, 'Latitude': 28.81609895}, {'Longitude': -89.25418666, 'Latitude': 29.81123378}, {'Longitude': -90.10353675, 'Latitude': 29.79400715}, {'Longitude': -90.07372506, 'Latitude': 28.80444525}]}}]}}}\n",
              " Temporal coverage: {'RangeDateTime': {'BeginningDateTime': '2023-08-16T16:31:52.083Z', 'EndingDateTime': '2023-08-16T16:32:15.974Z'}}\n",
              " Size(MB): 107.4115858078003\n",
              " Data: ['https://data.lpdaac.earthdatacloud.nasa.gov/lp-prod-protected/HLSL30.020/HLS.L30.T16RBT.2023228T163152.v2.0/HLS.L30.T16RBT.2023228T163152.v2.0.B06.tif', 'https://data.lpdaac.earthdatacloud.nasa.gov/lp-prod-protected/HLSL30.020/HLS.L30.T16RBT.2023228T163152.v2.0/HLS.L30.T16RBT.2023228T163152.v2.0.B10.tif', 'https://data.lpdaac.earthdatacloud.nasa.gov/lp-prod-protected/HLSL30.020/HLS.L30.T16RBT.2023228T163152.v2.0/HLS.L30.T16RBT.2023228T163152.v2.0.B04.tif', 'https://data.lpdaac.earthdatacloud.nasa.gov/lp-prod-protected/HLSL30.020/HLS.L30.T16RBT.2023228T163152.v2.0/HLS.L30.T16RBT.2023228T163152.v2.0.VZA.tif', 'https://data.lpdaac.earthdatacloud.nasa.gov/lp-prod-protected/HLSL30.020/HLS.L30.T16RBT.2023228T163152.v2.0/HLS.L30.T16RBT.2023228T163152.v2.0.B05.tif', 'https://data.lpdaac.earthdatacloud.nasa.gov/lp-prod-protected/HLSL30.020/HLS.L30.T16RBT.2023228T163152.v2.0/HLS.L30.T16RBT.2023228T163152.v2.0.VAA.tif', 'https://data.lpdaac.earthdatacloud.nasa.gov/lp-prod-protected/HLSL30.020/HLS.L30.T16RBT.2023228T163152.v2.0/HLS.L30.T16RBT.2023228T163152.v2.0.B09.tif', 'https://data.lpdaac.earthdatacloud.nasa.gov/lp-prod-protected/HLSL30.020/HLS.L30.T16RBT.2023228T163152.v2.0/HLS.L30.T16RBT.2023228T163152.v2.0.Fmask.tif', 'https://data.lpdaac.earthdatacloud.nasa.gov/lp-prod-protected/HLSL30.020/HLS.L30.T16RBT.2023228T163152.v2.0/HLS.L30.T16RBT.2023228T163152.v2.0.B11.tif', 'https://data.lpdaac.earthdatacloud.nasa.gov/lp-prod-protected/HLSL30.020/HLS.L30.T16RBT.2023228T163152.v2.0/HLS.L30.T16RBT.2023228T163152.v2.0.B03.tif', 'https://data.lpdaac.earthdatacloud.nasa.gov/lp-prod-protected/HLSL30.020/HLS.L30.T16RBT.2023228T163152.v2.0/HLS.L30.T16RBT.2023228T163152.v2.0.SAA.tif', 'https://data.lpdaac.earthdatacloud.nasa.gov/lp-prod-protected/HLSL30.020/HLS.L30.T16RBT.2023228T163152.v2.0/HLS.L30.T16RBT.2023228T163152.v2.0.SZA.tif', 'https://data.lpdaac.earthdatacloud.nasa.gov/lp-prod-protected/HLSL30.020/HLS.L30.T16RBT.2023228T163152.v2.0/HLS.L30.T16RBT.2023228T163152.v2.0.B02.tif', 'https://data.lpdaac.earthdatacloud.nasa.gov/lp-prod-protected/HLSL30.020/HLS.L30.T16RBT.2023228T163152.v2.0/HLS.L30.T16RBT.2023228T163152.v2.0.B01.tif', 'https://data.lpdaac.earthdatacloud.nasa.gov/lp-prod-protected/HLSL30.020/HLS.L30.T16RBT.2023228T163152.v2.0/HLS.L30.T16RBT.2023228T163152.v2.0.B07.tif'],\n",
              " Collection: {'EntryTitle': 'HLS Landsat Operational Land Imager Surface Reflectance and TOA Brightness Daily Global 30m v2.0'}\n",
              " Spatial coverage: {'HorizontalSpatialDomain': {'Geometry': {'GPolygons': [{'Boundary': {'Points': [{'Longitude': -89.82661214, 'Latitude': 28.80213717}, {'Longitude': -89.79583778, 'Latitude': 29.79160422}, {'Longitude': -90.93082361, 'Latitude': 29.81426153}, {'Longitude': -90.95072084, 'Latitude': 28.82389994}, {'Longitude': -89.82661214, 'Latitude': 28.80213717}]}}]}}}\n",
              " Temporal coverage: {'RangeDateTime': {'BeginningDateTime': '2023-08-16T16:31:52.083Z', 'EndingDateTime': '2023-08-16T16:32:15.974Z'}}\n",
              " Size(MB): 170.30919456481934\n",
              " Data: ['https://data.lpdaac.earthdatacloud.nasa.gov/lp-prod-protected/HLSL30.020/HLS.L30.T15RYN.2023228T163152.v2.0/HLS.L30.T15RYN.2023228T163152.v2.0.B07.tif', 'https://data.lpdaac.earthdatacloud.nasa.gov/lp-prod-protected/HLSL30.020/HLS.L30.T15RYN.2023228T163152.v2.0/HLS.L30.T15RYN.2023228T163152.v2.0.B01.tif', 'https://data.lpdaac.earthdatacloud.nasa.gov/lp-prod-protected/HLSL30.020/HLS.L30.T15RYN.2023228T163152.v2.0/HLS.L30.T15RYN.2023228T163152.v2.0.B09.tif', 'https://data.lpdaac.earthdatacloud.nasa.gov/lp-prod-protected/HLSL30.020/HLS.L30.T15RYN.2023228T163152.v2.0/HLS.L30.T15RYN.2023228T163152.v2.0.SAA.tif', 'https://data.lpdaac.earthdatacloud.nasa.gov/lp-prod-protected/HLSL30.020/HLS.L30.T15RYN.2023228T163152.v2.0/HLS.L30.T15RYN.2023228T163152.v2.0.B04.tif', 'https://data.lpdaac.earthdatacloud.nasa.gov/lp-prod-protected/HLSL30.020/HLS.L30.T15RYN.2023228T163152.v2.0/HLS.L30.T15RYN.2023228T163152.v2.0.VAA.tif', 'https://data.lpdaac.earthdatacloud.nasa.gov/lp-prod-protected/HLSL30.020/HLS.L30.T15RYN.2023228T163152.v2.0/HLS.L30.T15RYN.2023228T163152.v2.0.B10.tif', 'https://data.lpdaac.earthdatacloud.nasa.gov/lp-prod-protected/HLSL30.020/HLS.L30.T15RYN.2023228T163152.v2.0/HLS.L30.T15RYN.2023228T163152.v2.0.B05.tif', 'https://data.lpdaac.earthdatacloud.nasa.gov/lp-prod-protected/HLSL30.020/HLS.L30.T15RYN.2023228T163152.v2.0/HLS.L30.T15RYN.2023228T163152.v2.0.B11.tif', 'https://data.lpdaac.earthdatacloud.nasa.gov/lp-prod-protected/HLSL30.020/HLS.L30.T15RYN.2023228T163152.v2.0/HLS.L30.T15RYN.2023228T163152.v2.0.SZA.tif', 'https://data.lpdaac.earthdatacloud.nasa.gov/lp-prod-protected/HLSL30.020/HLS.L30.T15RYN.2023228T163152.v2.0/HLS.L30.T15RYN.2023228T163152.v2.0.B02.tif', 'https://data.lpdaac.earthdatacloud.nasa.gov/lp-prod-protected/HLSL30.020/HLS.L30.T15RYN.2023228T163152.v2.0/HLS.L30.T15RYN.2023228T163152.v2.0.B06.tif', 'https://data.lpdaac.earthdatacloud.nasa.gov/lp-prod-protected/HLSL30.020/HLS.L30.T15RYN.2023228T163152.v2.0/HLS.L30.T15RYN.2023228T163152.v2.0.Fmask.tif', 'https://data.lpdaac.earthdatacloud.nasa.gov/lp-prod-protected/HLSL30.020/HLS.L30.T15RYN.2023228T163152.v2.0/HLS.L30.T15RYN.2023228T163152.v2.0.B03.tif', 'https://data.lpdaac.earthdatacloud.nasa.gov/lp-prod-protected/HLSL30.020/HLS.L30.T15RYN.2023228T163152.v2.0/HLS.L30.T15RYN.2023228T163152.v2.0.VZA.tif'],\n",
              " Collection: {'EntryTitle': 'HLS Landsat Operational Land Imager Surface Reflectance and TOA Brightness Daily Global 30m v2.0'}\n",
              " Spatial coverage: {'HorizontalSpatialDomain': {'Geometry': {'GPolygons': [{'Boundary': {'Points': [{'Longitude': -89.79864173, 'Latitude': 29.70347853}, {'Longitude': -89.76643746, 'Latitude': 30.69278312}, {'Longitude': -90.91181412, 'Latitude': 30.71627038}, {'Longitude': -90.93263654, 'Latitude': 29.72605548}, {'Longitude': -89.79864173, 'Latitude': 29.70347853}]}}]}}}\n",
              " Temporal coverage: {'RangeDateTime': {'BeginningDateTime': '2023-08-24T16:32:05.861Z', 'EndingDateTime': '2023-08-24T16:32:05.861Z'}}\n",
              " Size(MB): 182.5469446182251\n",
              " Data: ['https://data.lpdaac.earthdatacloud.nasa.gov/lp-prod-protected/HLSL30.020/HLS.L30.T15RYP.2023236T163205.v2.0/HLS.L30.T15RYP.2023236T163205.v2.0.VAA.tif', 'https://data.lpdaac.earthdatacloud.nasa.gov/lp-prod-protected/HLSL30.020/HLS.L30.T15RYP.2023236T163205.v2.0/HLS.L30.T15RYP.2023236T163205.v2.0.B02.tif', 'https://data.lpdaac.earthdatacloud.nasa.gov/lp-prod-protected/HLSL30.020/HLS.L30.T15RYP.2023236T163205.v2.0/HLS.L30.T15RYP.2023236T163205.v2.0.B06.tif', 'https://data.lpdaac.earthdatacloud.nasa.gov/lp-prod-protected/HLSL30.020/HLS.L30.T15RYP.2023236T163205.v2.0/HLS.L30.T15RYP.2023236T163205.v2.0.VZA.tif', 'https://data.lpdaac.earthdatacloud.nasa.gov/lp-prod-protected/HLSL30.020/HLS.L30.T15RYP.2023236T163205.v2.0/HLS.L30.T15RYP.2023236T163205.v2.0.SZA.tif', 'https://data.lpdaac.earthdatacloud.nasa.gov/lp-prod-protected/HLSL30.020/HLS.L30.T15RYP.2023236T163205.v2.0/HLS.L30.T15RYP.2023236T163205.v2.0.B09.tif', 'https://data.lpdaac.earthdatacloud.nasa.gov/lp-prod-protected/HLSL30.020/HLS.L30.T15RYP.2023236T163205.v2.0/HLS.L30.T15RYP.2023236T163205.v2.0.B05.tif', 'https://data.lpdaac.earthdatacloud.nasa.gov/lp-prod-protected/HLSL30.020/HLS.L30.T15RYP.2023236T163205.v2.0/HLS.L30.T15RYP.2023236T163205.v2.0.SAA.tif', 'https://data.lpdaac.earthdatacloud.nasa.gov/lp-prod-protected/HLSL30.020/HLS.L30.T15RYP.2023236T163205.v2.0/HLS.L30.T15RYP.2023236T163205.v2.0.B11.tif', 'https://data.lpdaac.earthdatacloud.nasa.gov/lp-prod-protected/HLSL30.020/HLS.L30.T15RYP.2023236T163205.v2.0/HLS.L30.T15RYP.2023236T163205.v2.0.B10.tif', 'https://data.lpdaac.earthdatacloud.nasa.gov/lp-prod-protected/HLSL30.020/HLS.L30.T15RYP.2023236T163205.v2.0/HLS.L30.T15RYP.2023236T163205.v2.0.B01.tif', 'https://data.lpdaac.earthdatacloud.nasa.gov/lp-prod-protected/HLSL30.020/HLS.L30.T15RYP.2023236T163205.v2.0/HLS.L30.T15RYP.2023236T163205.v2.0.B03.tif', 'https://data.lpdaac.earthdatacloud.nasa.gov/lp-prod-protected/HLSL30.020/HLS.L30.T15RYP.2023236T163205.v2.0/HLS.L30.T15RYP.2023236T163205.v2.0.B07.tif', 'https://data.lpdaac.earthdatacloud.nasa.gov/lp-prod-protected/HLSL30.020/HLS.L30.T15RYP.2023236T163205.v2.0/HLS.L30.T15RYP.2023236T163205.v2.0.Fmask.tif', 'https://data.lpdaac.earthdatacloud.nasa.gov/lp-prod-protected/HLSL30.020/HLS.L30.T15RYP.2023236T163205.v2.0/HLS.L30.T15RYP.2023236T163205.v2.0.B04.tif'],\n",
              " Collection: {'EntryTitle': 'HLS Landsat Operational Land Imager Surface Reflectance and TOA Brightness Daily Global 30m v2.0'}\n",
              " Spatial coverage: {'HorizontalSpatialDomain': {'Geometry': {'GPolygons': [{'Boundary': {'Points': [{'Longitude': -90.07372506, 'Latitude': 28.80444525}, {'Longitude': -89.54311008, 'Latitude': 28.81603475}, {'Longitude': -89.27590202, 'Latitude': 29.8108614}, {'Longitude': -90.10353675, 'Latitude': 29.79400715}, {'Longitude': -90.07372506, 'Latitude': 28.80444525}]}}]}}}\n",
              " Temporal coverage: {'RangeDateTime': {'BeginningDateTime': '2023-08-24T16:32:05.861Z', 'EndingDateTime': '2023-08-24T16:32:29.757Z'}}\n",
              " Size(MB): 112.39069271087646\n",
              " Data: ['https://data.lpdaac.earthdatacloud.nasa.gov/lp-prod-protected/HLSL30.020/HLS.L30.T16RBT.2023236T163205.v2.0/HLS.L30.T16RBT.2023236T163205.v2.0.B04.tif', 'https://data.lpdaac.earthdatacloud.nasa.gov/lp-prod-protected/HLSL30.020/HLS.L30.T16RBT.2023236T163205.v2.0/HLS.L30.T16RBT.2023236T163205.v2.0.B10.tif', 'https://data.lpdaac.earthdatacloud.nasa.gov/lp-prod-protected/HLSL30.020/HLS.L30.T16RBT.2023236T163205.v2.0/HLS.L30.T16RBT.2023236T163205.v2.0.SAA.tif', 'https://data.lpdaac.earthdatacloud.nasa.gov/lp-prod-protected/HLSL30.020/HLS.L30.T16RBT.2023236T163205.v2.0/HLS.L30.T16RBT.2023236T163205.v2.0.B07.tif', 'https://data.lpdaac.earthdatacloud.nasa.gov/lp-prod-protected/HLSL30.020/HLS.L30.T16RBT.2023236T163205.v2.0/HLS.L30.T16RBT.2023236T163205.v2.0.B03.tif', 'https://data.lpdaac.earthdatacloud.nasa.gov/lp-prod-protected/HLSL30.020/HLS.L30.T16RBT.2023236T163205.v2.0/HLS.L30.T16RBT.2023236T163205.v2.0.B11.tif', 'https://data.lpdaac.earthdatacloud.nasa.gov/lp-prod-protected/HLSL30.020/HLS.L30.T16RBT.2023236T163205.v2.0/HLS.L30.T16RBT.2023236T163205.v2.0.SZA.tif', 'https://data.lpdaac.earthdatacloud.nasa.gov/lp-prod-protected/HLSL30.020/HLS.L30.T16RBT.2023236T163205.v2.0/HLS.L30.T16RBT.2023236T163205.v2.0.B06.tif', 'https://data.lpdaac.earthdatacloud.nasa.gov/lp-prod-protected/HLSL30.020/HLS.L30.T16RBT.2023236T163205.v2.0/HLS.L30.T16RBT.2023236T163205.v2.0.VAA.tif', 'https://data.lpdaac.earthdatacloud.nasa.gov/lp-prod-protected/HLSL30.020/HLS.L30.T16RBT.2023236T163205.v2.0/HLS.L30.T16RBT.2023236T163205.v2.0.B09.tif', 'https://data.lpdaac.earthdatacloud.nasa.gov/lp-prod-protected/HLSL30.020/HLS.L30.T16RBT.2023236T163205.v2.0/HLS.L30.T16RBT.2023236T163205.v2.0.B02.tif', 'https://data.lpdaac.earthdatacloud.nasa.gov/lp-prod-protected/HLSL30.020/HLS.L30.T16RBT.2023236T163205.v2.0/HLS.L30.T16RBT.2023236T163205.v2.0.Fmask.tif', 'https://data.lpdaac.earthdatacloud.nasa.gov/lp-prod-protected/HLSL30.020/HLS.L30.T16RBT.2023236T163205.v2.0/HLS.L30.T16RBT.2023236T163205.v2.0.B05.tif', 'https://data.lpdaac.earthdatacloud.nasa.gov/lp-prod-protected/HLSL30.020/HLS.L30.T16RBT.2023236T163205.v2.0/HLS.L30.T16RBT.2023236T163205.v2.0.B01.tif', 'https://data.lpdaac.earthdatacloud.nasa.gov/lp-prod-protected/HLSL30.020/HLS.L30.T16RBT.2023236T163205.v2.0/HLS.L30.T16RBT.2023236T163205.v2.0.VZA.tif'],\n",
              " Collection: {'EntryTitle': 'HLS Landsat Operational Land Imager Surface Reflectance and TOA Brightness Daily Global 30m v2.0'}\n",
              " Spatial coverage: {'HorizontalSpatialDomain': {'Geometry': {'GPolygons': [{'Boundary': {'Points': [{'Longitude': -89.82661214, 'Latitude': 28.80213717}, {'Longitude': -89.79583778, 'Latitude': 29.79160422}, {'Longitude': -90.93082361, 'Latitude': 29.81426153}, {'Longitude': -90.95072084, 'Latitude': 28.82389994}, {'Longitude': -89.82661214, 'Latitude': 28.80213717}]}}]}}}\n",
              " Temporal coverage: {'RangeDateTime': {'BeginningDateTime': '2023-08-24T16:32:05.861Z', 'EndingDateTime': '2023-08-24T16:32:29.757Z'}}\n",
              " Size(MB): 182.155535697937\n",
              " Data: ['https://data.lpdaac.earthdatacloud.nasa.gov/lp-prod-protected/HLSL30.020/HLS.L30.T15RYN.2023236T163205.v2.0/HLS.L30.T15RYN.2023236T163205.v2.0.B11.tif', 'https://data.lpdaac.earthdatacloud.nasa.gov/lp-prod-protected/HLSL30.020/HLS.L30.T15RYN.2023236T163205.v2.0/HLS.L30.T15RYN.2023236T163205.v2.0.B06.tif', 'https://data.lpdaac.earthdatacloud.nasa.gov/lp-prod-protected/HLSL30.020/HLS.L30.T15RYN.2023236T163205.v2.0/HLS.L30.T15RYN.2023236T163205.v2.0.B05.tif', 'https://data.lpdaac.earthdatacloud.nasa.gov/lp-prod-protected/HLSL30.020/HLS.L30.T15RYN.2023236T163205.v2.0/HLS.L30.T15RYN.2023236T163205.v2.0.VZA.tif', 'https://data.lpdaac.earthdatacloud.nasa.gov/lp-prod-protected/HLSL30.020/HLS.L30.T15RYN.2023236T163205.v2.0/HLS.L30.T15RYN.2023236T163205.v2.0.B07.tif', 'https://data.lpdaac.earthdatacloud.nasa.gov/lp-prod-protected/HLSL30.020/HLS.L30.T15RYN.2023236T163205.v2.0/HLS.L30.T15RYN.2023236T163205.v2.0.Fmask.tif', 'https://data.lpdaac.earthdatacloud.nasa.gov/lp-prod-protected/HLSL30.020/HLS.L30.T15RYN.2023236T163205.v2.0/HLS.L30.T15RYN.2023236T163205.v2.0.B01.tif', 'https://data.lpdaac.earthdatacloud.nasa.gov/lp-prod-protected/HLSL30.020/HLS.L30.T15RYN.2023236T163205.v2.0/HLS.L30.T15RYN.2023236T163205.v2.0.B10.tif', 'https://data.lpdaac.earthdatacloud.nasa.gov/lp-prod-protected/HLSL30.020/HLS.L30.T15RYN.2023236T163205.v2.0/HLS.L30.T15RYN.2023236T163205.v2.0.B02.tif', 'https://data.lpdaac.earthdatacloud.nasa.gov/lp-prod-protected/HLSL30.020/HLS.L30.T15RYN.2023236T163205.v2.0/HLS.L30.T15RYN.2023236T163205.v2.0.SAA.tif', 'https://data.lpdaac.earthdatacloud.nasa.gov/lp-prod-protected/HLSL30.020/HLS.L30.T15RYN.2023236T163205.v2.0/HLS.L30.T15RYN.2023236T163205.v2.0.SZA.tif', 'https://data.lpdaac.earthdatacloud.nasa.gov/lp-prod-protected/HLSL30.020/HLS.L30.T15RYN.2023236T163205.v2.0/HLS.L30.T15RYN.2023236T163205.v2.0.B03.tif', 'https://data.lpdaac.earthdatacloud.nasa.gov/lp-prod-protected/HLSL30.020/HLS.L30.T15RYN.2023236T163205.v2.0/HLS.L30.T15RYN.2023236T163205.v2.0.B09.tif', 'https://data.lpdaac.earthdatacloud.nasa.gov/lp-prod-protected/HLSL30.020/HLS.L30.T15RYN.2023236T163205.v2.0/HLS.L30.T15RYN.2023236T163205.v2.0.VAA.tif', 'https://data.lpdaac.earthdatacloud.nasa.gov/lp-prod-protected/HLSL30.020/HLS.L30.T15RYN.2023236T163205.v2.0/HLS.L30.T15RYN.2023236T163205.v2.0.B04.tif'],\n",
              " Collection: {'EntryTitle': 'HLS Landsat Operational Land Imager Surface Reflectance and TOA Brightness Daily Global 30m v2.0'}\n",
              " Spatial coverage: {'HorizontalSpatialDomain': {'Geometry': {'GPolygons': [{'Boundary': {'Points': [{'Longitude': -90.10082051, 'Latitude': 29.70587294}, {'Longitude': -89.29994345, 'Latitude': 29.72221746}, {'Longitude': -89.02848385, 'Latitude': 30.71721732}, {'Longitude': -90.13201749, 'Latitude': 30.69527405}, {'Longitude': -90.10082051, 'Latitude': 29.70587294}]}}]}}}\n",
              " Temporal coverage: {'RangeDateTime': {'BeginningDateTime': '2023-08-24T16:32:05.861Z', 'EndingDateTime': '2023-08-24T16:32:05.861Z'}}\n",
              " Size(MB): 155.71986961364746\n",
              " Data: ['https://data.lpdaac.earthdatacloud.nasa.gov/lp-prod-protected/HLSL30.020/HLS.L30.T16RBU.2023236T163205.v2.0/HLS.L30.T16RBU.2023236T163205.v2.0.B03.tif', 'https://data.lpdaac.earthdatacloud.nasa.gov/lp-prod-protected/HLSL30.020/HLS.L30.T16RBU.2023236T163205.v2.0/HLS.L30.T16RBU.2023236T163205.v2.0.B07.tif', 'https://data.lpdaac.earthdatacloud.nasa.gov/lp-prod-protected/HLSL30.020/HLS.L30.T16RBU.2023236T163205.v2.0/HLS.L30.T16RBU.2023236T163205.v2.0.B10.tif', 'https://data.lpdaac.earthdatacloud.nasa.gov/lp-prod-protected/HLSL30.020/HLS.L30.T16RBU.2023236T163205.v2.0/HLS.L30.T16RBU.2023236T163205.v2.0.Fmask.tif', 'https://data.lpdaac.earthdatacloud.nasa.gov/lp-prod-protected/HLSL30.020/HLS.L30.T16RBU.2023236T163205.v2.0/HLS.L30.T16RBU.2023236T163205.v2.0.SZA.tif', 'https://data.lpdaac.earthdatacloud.nasa.gov/lp-prod-protected/HLSL30.020/HLS.L30.T16RBU.2023236T163205.v2.0/HLS.L30.T16RBU.2023236T163205.v2.0.B04.tif', 'https://data.lpdaac.earthdatacloud.nasa.gov/lp-prod-protected/HLSL30.020/HLS.L30.T16RBU.2023236T163205.v2.0/HLS.L30.T16RBU.2023236T163205.v2.0.VZA.tif', 'https://data.lpdaac.earthdatacloud.nasa.gov/lp-prod-protected/HLSL30.020/HLS.L30.T16RBU.2023236T163205.v2.0/HLS.L30.T16RBU.2023236T163205.v2.0.VAA.tif', 'https://data.lpdaac.earthdatacloud.nasa.gov/lp-prod-protected/HLSL30.020/HLS.L30.T16RBU.2023236T163205.v2.0/HLS.L30.T16RBU.2023236T163205.v2.0.B01.tif', 'https://data.lpdaac.earthdatacloud.nasa.gov/lp-prod-protected/HLSL30.020/HLS.L30.T16RBU.2023236T163205.v2.0/HLS.L30.T16RBU.2023236T163205.v2.0.B02.tif', 'https://data.lpdaac.earthdatacloud.nasa.gov/lp-prod-protected/HLSL30.020/HLS.L30.T16RBU.2023236T163205.v2.0/HLS.L30.T16RBU.2023236T163205.v2.0.B09.tif', 'https://data.lpdaac.earthdatacloud.nasa.gov/lp-prod-protected/HLSL30.020/HLS.L30.T16RBU.2023236T163205.v2.0/HLS.L30.T16RBU.2023236T163205.v2.0.SAA.tif', 'https://data.lpdaac.earthdatacloud.nasa.gov/lp-prod-protected/HLSL30.020/HLS.L30.T16RBU.2023236T163205.v2.0/HLS.L30.T16RBU.2023236T163205.v2.0.B06.tif', 'https://data.lpdaac.earthdatacloud.nasa.gov/lp-prod-protected/HLSL30.020/HLS.L30.T16RBU.2023236T163205.v2.0/HLS.L30.T16RBU.2023236T163205.v2.0.B05.tif', 'https://data.lpdaac.earthdatacloud.nasa.gov/lp-prod-protected/HLSL30.020/HLS.L30.T16RBU.2023236T163205.v2.0/HLS.L30.T16RBU.2023236T163205.v2.0.B11.tif'],\n",
              " Collection: {'EntryTitle': 'HLS Landsat Operational Land Imager Surface Reflectance and TOA Brightness Daily Global 30m v2.0'}\n",
              " Spatial coverage: {'HorizontalSpatialDomain': {'Geometry': {'GPolygons': [{'Boundary': {'Points': [{'Longitude': -89.79864173, 'Latitude': 29.70347853}, {'Longitude': -89.76643746, 'Latitude': 30.69278312}, {'Longitude': -90.91181412, 'Latitude': 30.71627038}, {'Longitude': -90.93263654, 'Latitude': 29.72605548}, {'Longitude': -89.79864173, 'Latitude': 29.70347853}]}}]}}}\n",
              " Temporal coverage: {'RangeDateTime': {'BeginningDateTime': '2023-09-01T16:32:03.072Z', 'EndingDateTime': '2023-09-01T16:32:03.072Z'}}\n",
              " Size(MB): 196.0640630722046\n",
              " Data: ['https://data.lpdaac.earthdatacloud.nasa.gov/lp-prod-protected/HLSL30.020/HLS.L30.T15RYP.2023244T163203.v2.0/HLS.L30.T15RYP.2023244T163203.v2.0.B10.tif', 'https://data.lpdaac.earthdatacloud.nasa.gov/lp-prod-protected/HLSL30.020/HLS.L30.T15RYP.2023244T163203.v2.0/HLS.L30.T15RYP.2023244T163203.v2.0.B07.tif', 'https://data.lpdaac.earthdatacloud.nasa.gov/lp-prod-protected/HLSL30.020/HLS.L30.T15RYP.2023244T163203.v2.0/HLS.L30.T15RYP.2023244T163203.v2.0.Fmask.tif', 'https://data.lpdaac.earthdatacloud.nasa.gov/lp-prod-protected/HLSL30.020/HLS.L30.T15RYP.2023244T163203.v2.0/HLS.L30.T15RYP.2023244T163203.v2.0.B03.tif', 'https://data.lpdaac.earthdatacloud.nasa.gov/lp-prod-protected/HLSL30.020/HLS.L30.T15RYP.2023244T163203.v2.0/HLS.L30.T15RYP.2023244T163203.v2.0.B09.tif', 'https://data.lpdaac.earthdatacloud.nasa.gov/lp-prod-protected/HLSL30.020/HLS.L30.T15RYP.2023244T163203.v2.0/HLS.L30.T15RYP.2023244T163203.v2.0.B01.tif', 'https://data.lpdaac.earthdatacloud.nasa.gov/lp-prod-protected/HLSL30.020/HLS.L30.T15RYP.2023244T163203.v2.0/HLS.L30.T15RYP.2023244T163203.v2.0.B04.tif', 'https://data.lpdaac.earthdatacloud.nasa.gov/lp-prod-protected/HLSL30.020/HLS.L30.T15RYP.2023244T163203.v2.0/HLS.L30.T15RYP.2023244T163203.v2.0.SAA.tif', 'https://data.lpdaac.earthdatacloud.nasa.gov/lp-prod-protected/HLSL30.020/HLS.L30.T15RYP.2023244T163203.v2.0/HLS.L30.T15RYP.2023244T163203.v2.0.B06.tif', 'https://data.lpdaac.earthdatacloud.nasa.gov/lp-prod-protected/HLSL30.020/HLS.L30.T15RYP.2023244T163203.v2.0/HLS.L30.T15RYP.2023244T163203.v2.0.B11.tif', 'https://data.lpdaac.earthdatacloud.nasa.gov/lp-prod-protected/HLSL30.020/HLS.L30.T15RYP.2023244T163203.v2.0/HLS.L30.T15RYP.2023244T163203.v2.0.VAA.tif', 'https://data.lpdaac.earthdatacloud.nasa.gov/lp-prod-protected/HLSL30.020/HLS.L30.T15RYP.2023244T163203.v2.0/HLS.L30.T15RYP.2023244T163203.v2.0.B02.tif', 'https://data.lpdaac.earthdatacloud.nasa.gov/lp-prod-protected/HLSL30.020/HLS.L30.T15RYP.2023244T163203.v2.0/HLS.L30.T15RYP.2023244T163203.v2.0.B05.tif', 'https://data.lpdaac.earthdatacloud.nasa.gov/lp-prod-protected/HLSL30.020/HLS.L30.T15RYP.2023244T163203.v2.0/HLS.L30.T15RYP.2023244T163203.v2.0.VZA.tif', 'https://data.lpdaac.earthdatacloud.nasa.gov/lp-prod-protected/HLSL30.020/HLS.L30.T15RYP.2023244T163203.v2.0/HLS.L30.T15RYP.2023244T163203.v2.0.SZA.tif'],\n",
              " Collection: {'EntryTitle': 'HLS Landsat Operational Land Imager Surface Reflectance and TOA Brightness Daily Global 30m v2.0'}\n",
              " Spatial coverage: {'HorizontalSpatialDomain': {'Geometry': {'GPolygons': [{'Boundary': {'Points': [{'Longitude': -90.10082051, 'Latitude': 29.70587294}, {'Longitude': -89.2956043, 'Latitude': 29.72229281}, {'Longitude': -89.02441315, 'Latitude': 30.71728089}, {'Longitude': -90.13201749, 'Latitude': 30.69527405}, {'Longitude': -90.10082051, 'Latitude': 29.70587294}]}}]}}}\n",
              " Temporal coverage: {'RangeDateTime': {'BeginningDateTime': '2023-09-01T16:32:03.072Z', 'EndingDateTime': '2023-09-01T16:32:03.072Z'}}\n",
              " Size(MB): 173.69086074829102\n",
              " Data: ['https://data.lpdaac.earthdatacloud.nasa.gov/lp-prod-protected/HLSL30.020/HLS.L30.T16RBU.2023244T163203.v2.0/HLS.L30.T16RBU.2023244T163203.v2.0.B11.tif', 'https://data.lpdaac.earthdatacloud.nasa.gov/lp-prod-protected/HLSL30.020/HLS.L30.T16RBU.2023244T163203.v2.0/HLS.L30.T16RBU.2023244T163203.v2.0.B01.tif', 'https://data.lpdaac.earthdatacloud.nasa.gov/lp-prod-protected/HLSL30.020/HLS.L30.T16RBU.2023244T163203.v2.0/HLS.L30.T16RBU.2023244T163203.v2.0.B03.tif', 'https://data.lpdaac.earthdatacloud.nasa.gov/lp-prod-protected/HLSL30.020/HLS.L30.T16RBU.2023244T163203.v2.0/HLS.L30.T16RBU.2023244T163203.v2.0.B02.tif', 'https://data.lpdaac.earthdatacloud.nasa.gov/lp-prod-protected/HLSL30.020/HLS.L30.T16RBU.2023244T163203.v2.0/HLS.L30.T16RBU.2023244T163203.v2.0.SZA.tif', 'https://data.lpdaac.earthdatacloud.nasa.gov/lp-prod-protected/HLSL30.020/HLS.L30.T16RBU.2023244T163203.v2.0/HLS.L30.T16RBU.2023244T163203.v2.0.B05.tif', 'https://data.lpdaac.earthdatacloud.nasa.gov/lp-prod-protected/HLSL30.020/HLS.L30.T16RBU.2023244T163203.v2.0/HLS.L30.T16RBU.2023244T163203.v2.0.VAA.tif', 'https://data.lpdaac.earthdatacloud.nasa.gov/lp-prod-protected/HLSL30.020/HLS.L30.T16RBU.2023244T163203.v2.0/HLS.L30.T16RBU.2023244T163203.v2.0.B04.tif', 'https://data.lpdaac.earthdatacloud.nasa.gov/lp-prod-protected/HLSL30.020/HLS.L30.T16RBU.2023244T163203.v2.0/HLS.L30.T16RBU.2023244T163203.v2.0.SAA.tif', 'https://data.lpdaac.earthdatacloud.nasa.gov/lp-prod-protected/HLSL30.020/HLS.L30.T16RBU.2023244T163203.v2.0/HLS.L30.T16RBU.2023244T163203.v2.0.Fmask.tif', 'https://data.lpdaac.earthdatacloud.nasa.gov/lp-prod-protected/HLSL30.020/HLS.L30.T16RBU.2023244T163203.v2.0/HLS.L30.T16RBU.2023244T163203.v2.0.B09.tif', 'https://data.lpdaac.earthdatacloud.nasa.gov/lp-prod-protected/HLSL30.020/HLS.L30.T16RBU.2023244T163203.v2.0/HLS.L30.T16RBU.2023244T163203.v2.0.B10.tif', 'https://data.lpdaac.earthdatacloud.nasa.gov/lp-prod-protected/HLSL30.020/HLS.L30.T16RBU.2023244T163203.v2.0/HLS.L30.T16RBU.2023244T163203.v2.0.B06.tif', 'https://data.lpdaac.earthdatacloud.nasa.gov/lp-prod-protected/HLSL30.020/HLS.L30.T16RBU.2023244T163203.v2.0/HLS.L30.T16RBU.2023244T163203.v2.0.B07.tif', 'https://data.lpdaac.earthdatacloud.nasa.gov/lp-prod-protected/HLSL30.020/HLS.L30.T16RBU.2023244T163203.v2.0/HLS.L30.T16RBU.2023244T163203.v2.0.VZA.tif'],\n",
              " Collection: {'EntryTitle': 'HLS Landsat Operational Land Imager Surface Reflectance and TOA Brightness Daily Global 30m v2.0'}\n",
              " Spatial coverage: {'HorizontalSpatialDomain': {'Geometry': {'GPolygons': [{'Boundary': {'Points': [{'Longitude': -90.07372506, 'Latitude': 28.80444525}, {'Longitude': -89.53880981, 'Latitude': 28.81611576}, {'Longitude': -89.27155898, 'Latitude': 29.81093616}, {'Longitude': -90.10353675, 'Latitude': 29.79400715}, {'Longitude': -90.07372506, 'Latitude': 28.80444525}]}}]}}}\n",
              " Temporal coverage: {'RangeDateTime': {'BeginningDateTime': '2023-09-01T16:32:03.072Z', 'EndingDateTime': '2023-09-01T16:32:26.963Z'}}\n",
              " Size(MB): 111.55999374389648\n",
              " Data: ['https://data.lpdaac.earthdatacloud.nasa.gov/lp-prod-protected/HLSL30.020/HLS.L30.T16RBT.2023244T163203.v2.0/HLS.L30.T16RBT.2023244T163203.v2.0.B01.tif', 'https://data.lpdaac.earthdatacloud.nasa.gov/lp-prod-protected/HLSL30.020/HLS.L30.T16RBT.2023244T163203.v2.0/HLS.L30.T16RBT.2023244T163203.v2.0.B03.tif', 'https://data.lpdaac.earthdatacloud.nasa.gov/lp-prod-protected/HLSL30.020/HLS.L30.T16RBT.2023244T163203.v2.0/HLS.L30.T16RBT.2023244T163203.v2.0.B06.tif', 'https://data.lpdaac.earthdatacloud.nasa.gov/lp-prod-protected/HLSL30.020/HLS.L30.T16RBT.2023244T163203.v2.0/HLS.L30.T16RBT.2023244T163203.v2.0.SAA.tif', 'https://data.lpdaac.earthdatacloud.nasa.gov/lp-prod-protected/HLSL30.020/HLS.L30.T16RBT.2023244T163203.v2.0/HLS.L30.T16RBT.2023244T163203.v2.0.SZA.tif', 'https://data.lpdaac.earthdatacloud.nasa.gov/lp-prod-protected/HLSL30.020/HLS.L30.T16RBT.2023244T163203.v2.0/HLS.L30.T16RBT.2023244T163203.v2.0.B09.tif', 'https://data.lpdaac.earthdatacloud.nasa.gov/lp-prod-protected/HLSL30.020/HLS.L30.T16RBT.2023244T163203.v2.0/HLS.L30.T16RBT.2023244T163203.v2.0.B05.tif', 'https://data.lpdaac.earthdatacloud.nasa.gov/lp-prod-protected/HLSL30.020/HLS.L30.T16RBT.2023244T163203.v2.0/HLS.L30.T16RBT.2023244T163203.v2.0.Fmask.tif', 'https://data.lpdaac.earthdatacloud.nasa.gov/lp-prod-protected/HLSL30.020/HLS.L30.T16RBT.2023244T163203.v2.0/HLS.L30.T16RBT.2023244T163203.v2.0.VAA.tif', 'https://data.lpdaac.earthdatacloud.nasa.gov/lp-prod-protected/HLSL30.020/HLS.L30.T16RBT.2023244T163203.v2.0/HLS.L30.T16RBT.2023244T163203.v2.0.B02.tif', 'https://data.lpdaac.earthdatacloud.nasa.gov/lp-prod-protected/HLSL30.020/HLS.L30.T16RBT.2023244T163203.v2.0/HLS.L30.T16RBT.2023244T163203.v2.0.B04.tif', 'https://data.lpdaac.earthdatacloud.nasa.gov/lp-prod-protected/HLSL30.020/HLS.L30.T16RBT.2023244T163203.v2.0/HLS.L30.T16RBT.2023244T163203.v2.0.VZA.tif', 'https://data.lpdaac.earthdatacloud.nasa.gov/lp-prod-protected/HLSL30.020/HLS.L30.T16RBT.2023244T163203.v2.0/HLS.L30.T16RBT.2023244T163203.v2.0.B11.tif', 'https://data.lpdaac.earthdatacloud.nasa.gov/lp-prod-protected/HLSL30.020/HLS.L30.T16RBT.2023244T163203.v2.0/HLS.L30.T16RBT.2023244T163203.v2.0.B10.tif', 'https://data.lpdaac.earthdatacloud.nasa.gov/lp-prod-protected/HLSL30.020/HLS.L30.T16RBT.2023244T163203.v2.0/HLS.L30.T16RBT.2023244T163203.v2.0.B07.tif'],\n",
              " Collection: {'EntryTitle': 'HLS Landsat Operational Land Imager Surface Reflectance and TOA Brightness Daily Global 30m v2.0'}\n",
              " Spatial coverage: {'HorizontalSpatialDomain': {'Geometry': {'GPolygons': [{'Boundary': {'Points': [{'Longitude': -89.82661214, 'Latitude': 28.80213717}, {'Longitude': -89.79583778, 'Latitude': 29.79160422}, {'Longitude': -90.93082361, 'Latitude': 29.81426153}, {'Longitude': -90.95072084, 'Latitude': 28.82389994}, {'Longitude': -89.82661214, 'Latitude': 28.80213717}]}}]}}}\n",
              " Temporal coverage: {'RangeDateTime': {'BeginningDateTime': '2023-09-01T16:32:03.072Z', 'EndingDateTime': '2023-09-01T16:32:26.963Z'}}\n",
              " Size(MB): 194.4248399734497\n",
              " Data: ['https://data.lpdaac.earthdatacloud.nasa.gov/lp-prod-protected/HLSL30.020/HLS.L30.T15RYN.2023244T163203.v2.0/HLS.L30.T15RYN.2023244T163203.v2.0.B04.tif', 'https://data.lpdaac.earthdatacloud.nasa.gov/lp-prod-protected/HLSL30.020/HLS.L30.T15RYN.2023244T163203.v2.0/HLS.L30.T15RYN.2023244T163203.v2.0.Fmask.tif', 'https://data.lpdaac.earthdatacloud.nasa.gov/lp-prod-protected/HLSL30.020/HLS.L30.T15RYN.2023244T163203.v2.0/HLS.L30.T15RYN.2023244T163203.v2.0.B09.tif', 'https://data.lpdaac.earthdatacloud.nasa.gov/lp-prod-protected/HLSL30.020/HLS.L30.T15RYN.2023244T163203.v2.0/HLS.L30.T15RYN.2023244T163203.v2.0.B03.tif', 'https://data.lpdaac.earthdatacloud.nasa.gov/lp-prod-protected/HLSL30.020/HLS.L30.T15RYN.2023244T163203.v2.0/HLS.L30.T15RYN.2023244T163203.v2.0.B02.tif', 'https://data.lpdaac.earthdatacloud.nasa.gov/lp-prod-protected/HLSL30.020/HLS.L30.T15RYN.2023244T163203.v2.0/HLS.L30.T15RYN.2023244T163203.v2.0.B10.tif', 'https://data.lpdaac.earthdatacloud.nasa.gov/lp-prod-protected/HLSL30.020/HLS.L30.T15RYN.2023244T163203.v2.0/HLS.L30.T15RYN.2023244T163203.v2.0.B07.tif', 'https://data.lpdaac.earthdatacloud.nasa.gov/lp-prod-protected/HLSL30.020/HLS.L30.T15RYN.2023244T163203.v2.0/HLS.L30.T15RYN.2023244T163203.v2.0.B05.tif', 'https://data.lpdaac.earthdatacloud.nasa.gov/lp-prod-protected/HLSL30.020/HLS.L30.T15RYN.2023244T163203.v2.0/HLS.L30.T15RYN.2023244T163203.v2.0.B01.tif', 'https://data.lpdaac.earthdatacloud.nasa.gov/lp-prod-protected/HLSL30.020/HLS.L30.T15RYN.2023244T163203.v2.0/HLS.L30.T15RYN.2023244T163203.v2.0.B06.tif', 'https://data.lpdaac.earthdatacloud.nasa.gov/lp-prod-protected/HLSL30.020/HLS.L30.T15RYN.2023244T163203.v2.0/HLS.L30.T15RYN.2023244T163203.v2.0.SAA.tif', 'https://data.lpdaac.earthdatacloud.nasa.gov/lp-prod-protected/HLSL30.020/HLS.L30.T15RYN.2023244T163203.v2.0/HLS.L30.T15RYN.2023244T163203.v2.0.VAA.tif', 'https://data.lpdaac.earthdatacloud.nasa.gov/lp-prod-protected/HLSL30.020/HLS.L30.T15RYN.2023244T163203.v2.0/HLS.L30.T15RYN.2023244T163203.v2.0.VZA.tif', 'https://data.lpdaac.earthdatacloud.nasa.gov/lp-prod-protected/HLSL30.020/HLS.L30.T15RYN.2023244T163203.v2.0/HLS.L30.T15RYN.2023244T163203.v2.0.B11.tif', 'https://data.lpdaac.earthdatacloud.nasa.gov/lp-prod-protected/HLSL30.020/HLS.L30.T15RYN.2023244T163203.v2.0/HLS.L30.T15RYN.2023244T163203.v2.0.SZA.tif'],\n",
              " Collection: {'EntryTitle': 'HLS Landsat Operational Land Imager Surface Reflectance and TOA Brightness Daily Global 30m v2.0'}\n",
              " Spatial coverage: {'HorizontalSpatialDomain': {'Geometry': {'GPolygons': [{'Boundary': {'Points': [{'Longitude': -90.10082051, 'Latitude': 29.70587294}, {'Longitude': -89.28445256, 'Latitude': 29.72275644}, {'Longitude': -89.01345352, 'Latitude': 30.71745139}, {'Longitude': -90.13201749, 'Latitude': 30.69527405}, {'Longitude': -90.10082051, 'Latitude': 29.70587294}]}}]}}}\n",
              " Temporal coverage: {'RangeDateTime': {'BeginningDateTime': '2023-09-09T16:32:06.260Z', 'EndingDateTime': '2023-09-09T16:32:06.260Z'}}\n",
              " Size(MB): 137.82704544067383\n",
              " Data: ['https://data.lpdaac.earthdatacloud.nasa.gov/lp-prod-protected/HLSL30.020/HLS.L30.T16RBU.2023252T163206.v2.0/HLS.L30.T16RBU.2023252T163206.v2.0.B04.tif', 'https://data.lpdaac.earthdatacloud.nasa.gov/lp-prod-protected/HLSL30.020/HLS.L30.T16RBU.2023252T163206.v2.0/HLS.L30.T16RBU.2023252T163206.v2.0.B06.tif', 'https://data.lpdaac.earthdatacloud.nasa.gov/lp-prod-protected/HLSL30.020/HLS.L30.T16RBU.2023252T163206.v2.0/HLS.L30.T16RBU.2023252T163206.v2.0.B03.tif', 'https://data.lpdaac.earthdatacloud.nasa.gov/lp-prod-protected/HLSL30.020/HLS.L30.T16RBU.2023252T163206.v2.0/HLS.L30.T16RBU.2023252T163206.v2.0.SAA.tif', 'https://data.lpdaac.earthdatacloud.nasa.gov/lp-prod-protected/HLSL30.020/HLS.L30.T16RBU.2023252T163206.v2.0/HLS.L30.T16RBU.2023252T163206.v2.0.Fmask.tif', 'https://data.lpdaac.earthdatacloud.nasa.gov/lp-prod-protected/HLSL30.020/HLS.L30.T16RBU.2023252T163206.v2.0/HLS.L30.T16RBU.2023252T163206.v2.0.B07.tif', 'https://data.lpdaac.earthdatacloud.nasa.gov/lp-prod-protected/HLSL30.020/HLS.L30.T16RBU.2023252T163206.v2.0/HLS.L30.T16RBU.2023252T163206.v2.0.B02.tif', 'https://data.lpdaac.earthdatacloud.nasa.gov/lp-prod-protected/HLSL30.020/HLS.L30.T16RBU.2023252T163206.v2.0/HLS.L30.T16RBU.2023252T163206.v2.0.SZA.tif', 'https://data.lpdaac.earthdatacloud.nasa.gov/lp-prod-protected/HLSL30.020/HLS.L30.T16RBU.2023252T163206.v2.0/HLS.L30.T16RBU.2023252T163206.v2.0.B05.tif', 'https://data.lpdaac.earthdatacloud.nasa.gov/lp-prod-protected/HLSL30.020/HLS.L30.T16RBU.2023252T163206.v2.0/HLS.L30.T16RBU.2023252T163206.v2.0.B11.tif', 'https://data.lpdaac.earthdatacloud.nasa.gov/lp-prod-protected/HLSL30.020/HLS.L30.T16RBU.2023252T163206.v2.0/HLS.L30.T16RBU.2023252T163206.v2.0.B09.tif', 'https://data.lpdaac.earthdatacloud.nasa.gov/lp-prod-protected/HLSL30.020/HLS.L30.T16RBU.2023252T163206.v2.0/HLS.L30.T16RBU.2023252T163206.v2.0.B10.tif', 'https://data.lpdaac.earthdatacloud.nasa.gov/lp-prod-protected/HLSL30.020/HLS.L30.T16RBU.2023252T163206.v2.0/HLS.L30.T16RBU.2023252T163206.v2.0.VAA.tif', 'https://data.lpdaac.earthdatacloud.nasa.gov/lp-prod-protected/HLSL30.020/HLS.L30.T16RBU.2023252T163206.v2.0/HLS.L30.T16RBU.2023252T163206.v2.0.VZA.tif', 'https://data.lpdaac.earthdatacloud.nasa.gov/lp-prod-protected/HLSL30.020/HLS.L30.T16RBU.2023252T163206.v2.0/HLS.L30.T16RBU.2023252T163206.v2.0.B01.tif'],\n",
              " Collection: {'EntryTitle': 'HLS Landsat Operational Land Imager Surface Reflectance and TOA Brightness Daily Global 30m v2.0'}\n",
              " Spatial coverage: {'HorizontalSpatialDomain': {'Geometry': {'GPolygons': [{'Boundary': {'Points': [{'Longitude': -89.79864173, 'Latitude': 29.70347853}, {'Longitude': -89.76643746, 'Latitude': 30.69278312}, {'Longitude': -90.91181412, 'Latitude': 30.71627038}, {'Longitude': -90.93263654, 'Latitude': 29.72605548}, {'Longitude': -89.79864173, 'Latitude': 29.70347853}]}}]}}}\n",
              " Temporal coverage: {'RangeDateTime': {'BeginningDateTime': '2023-09-09T16:32:06.260Z', 'EndingDateTime': '2023-09-09T16:32:06.260Z'}}\n",
              " Size(MB): 167.48340797424316\n",
              " Data: ['https://data.lpdaac.earthdatacloud.nasa.gov/lp-prod-protected/HLSL30.020/HLS.L30.T15RYP.2023252T163206.v2.0/HLS.L30.T15RYP.2023252T163206.v2.0.B03.tif', 'https://data.lpdaac.earthdatacloud.nasa.gov/lp-prod-protected/HLSL30.020/HLS.L30.T15RYP.2023252T163206.v2.0/HLS.L30.T15RYP.2023252T163206.v2.0.B01.tif', 'https://data.lpdaac.earthdatacloud.nasa.gov/lp-prod-protected/HLSL30.020/HLS.L30.T15RYP.2023252T163206.v2.0/HLS.L30.T15RYP.2023252T163206.v2.0.Fmask.tif', 'https://data.lpdaac.earthdatacloud.nasa.gov/lp-prod-protected/HLSL30.020/HLS.L30.T15RYP.2023252T163206.v2.0/HLS.L30.T15RYP.2023252T163206.v2.0.B10.tif', 'https://data.lpdaac.earthdatacloud.nasa.gov/lp-prod-protected/HLSL30.020/HLS.L30.T15RYP.2023252T163206.v2.0/HLS.L30.T15RYP.2023252T163206.v2.0.B02.tif', 'https://data.lpdaac.earthdatacloud.nasa.gov/lp-prod-protected/HLSL30.020/HLS.L30.T15RYP.2023252T163206.v2.0/HLS.L30.T15RYP.2023252T163206.v2.0.B09.tif', 'https://data.lpdaac.earthdatacloud.nasa.gov/lp-prod-protected/HLSL30.020/HLS.L30.T15RYP.2023252T163206.v2.0/HLS.L30.T15RYP.2023252T163206.v2.0.SZA.tif', 'https://data.lpdaac.earthdatacloud.nasa.gov/lp-prod-protected/HLSL30.020/HLS.L30.T15RYP.2023252T163206.v2.0/HLS.L30.T15RYP.2023252T163206.v2.0.VAA.tif', 'https://data.lpdaac.earthdatacloud.nasa.gov/lp-prod-protected/HLSL30.020/HLS.L30.T15RYP.2023252T163206.v2.0/HLS.L30.T15RYP.2023252T163206.v2.0.VZA.tif', 'https://data.lpdaac.earthdatacloud.nasa.gov/lp-prod-protected/HLSL30.020/HLS.L30.T15RYP.2023252T163206.v2.0/HLS.L30.T15RYP.2023252T163206.v2.0.B06.tif', 'https://data.lpdaac.earthdatacloud.nasa.gov/lp-prod-protected/HLSL30.020/HLS.L30.T15RYP.2023252T163206.v2.0/HLS.L30.T15RYP.2023252T163206.v2.0.B05.tif', 'https://data.lpdaac.earthdatacloud.nasa.gov/lp-prod-protected/HLSL30.020/HLS.L30.T15RYP.2023252T163206.v2.0/HLS.L30.T15RYP.2023252T163206.v2.0.B11.tif', 'https://data.lpdaac.earthdatacloud.nasa.gov/lp-prod-protected/HLSL30.020/HLS.L30.T15RYP.2023252T163206.v2.0/HLS.L30.T15RYP.2023252T163206.v2.0.B07.tif', 'https://data.lpdaac.earthdatacloud.nasa.gov/lp-prod-protected/HLSL30.020/HLS.L30.T15RYP.2023252T163206.v2.0/HLS.L30.T15RYP.2023252T163206.v2.0.SAA.tif', 'https://data.lpdaac.earthdatacloud.nasa.gov/lp-prod-protected/HLSL30.020/HLS.L30.T15RYP.2023252T163206.v2.0/HLS.L30.T15RYP.2023252T163206.v2.0.B04.tif'],\n",
              " Collection: {'EntryTitle': 'HLS Landsat Operational Land Imager Surface Reflectance and TOA Brightness Daily Global 30m v2.0'}\n",
              " Spatial coverage: {'HorizontalSpatialDomain': {'Geometry': {'GPolygons': [{'Boundary': {'Points': [{'Longitude': -89.82661214, 'Latitude': 28.80213717}, {'Longitude': -89.79583778, 'Latitude': 29.79160422}, {'Longitude': -90.93082361, 'Latitude': 29.81426153}, {'Longitude': -90.95072084, 'Latitude': 28.82389994}, {'Longitude': -89.82661214, 'Latitude': 28.80213717}]}}]}}}\n",
              " Temporal coverage: {'RangeDateTime': {'BeginningDateTime': '2023-09-09T16:32:06.260Z', 'EndingDateTime': '2023-09-09T16:32:30.152Z'}}\n",
              " Size(MB): 149.58776378631592\n",
              " Data: ['https://data.lpdaac.earthdatacloud.nasa.gov/lp-prod-protected/HLSL30.020/HLS.L30.T15RYN.2023252T163206.v2.0/HLS.L30.T15RYN.2023252T163206.v2.0.B10.tif', 'https://data.lpdaac.earthdatacloud.nasa.gov/lp-prod-protected/HLSL30.020/HLS.L30.T15RYN.2023252T163206.v2.0/HLS.L30.T15RYN.2023252T163206.v2.0.VZA.tif', 'https://data.lpdaac.earthdatacloud.nasa.gov/lp-prod-protected/HLSL30.020/HLS.L30.T15RYN.2023252T163206.v2.0/HLS.L30.T15RYN.2023252T163206.v2.0.SZA.tif', 'https://data.lpdaac.earthdatacloud.nasa.gov/lp-prod-protected/HLSL30.020/HLS.L30.T15RYN.2023252T163206.v2.0/HLS.L30.T15RYN.2023252T163206.v2.0.SAA.tif', 'https://data.lpdaac.earthdatacloud.nasa.gov/lp-prod-protected/HLSL30.020/HLS.L30.T15RYN.2023252T163206.v2.0/HLS.L30.T15RYN.2023252T163206.v2.0.B05.tif', 'https://data.lpdaac.earthdatacloud.nasa.gov/lp-prod-protected/HLSL30.020/HLS.L30.T15RYN.2023252T163206.v2.0/HLS.L30.T15RYN.2023252T163206.v2.0.VAA.tif', 'https://data.lpdaac.earthdatacloud.nasa.gov/lp-prod-protected/HLSL30.020/HLS.L30.T15RYN.2023252T163206.v2.0/HLS.L30.T15RYN.2023252T163206.v2.0.B02.tif', 'https://data.lpdaac.earthdatacloud.nasa.gov/lp-prod-protected/HLSL30.020/HLS.L30.T15RYN.2023252T163206.v2.0/HLS.L30.T15RYN.2023252T163206.v2.0.B04.tif', 'https://data.lpdaac.earthdatacloud.nasa.gov/lp-prod-protected/HLSL30.020/HLS.L30.T15RYN.2023252T163206.v2.0/HLS.L30.T15RYN.2023252T163206.v2.0.B07.tif', 'https://data.lpdaac.earthdatacloud.nasa.gov/lp-prod-protected/HLSL30.020/HLS.L30.T15RYN.2023252T163206.v2.0/HLS.L30.T15RYN.2023252T163206.v2.0.B06.tif', 'https://data.lpdaac.earthdatacloud.nasa.gov/lp-prod-protected/HLSL30.020/HLS.L30.T15RYN.2023252T163206.v2.0/HLS.L30.T15RYN.2023252T163206.v2.0.B01.tif', 'https://data.lpdaac.earthdatacloud.nasa.gov/lp-prod-protected/HLSL30.020/HLS.L30.T15RYN.2023252T163206.v2.0/HLS.L30.T15RYN.2023252T163206.v2.0.B11.tif', 'https://data.lpdaac.earthdatacloud.nasa.gov/lp-prod-protected/HLSL30.020/HLS.L30.T15RYN.2023252T163206.v2.0/HLS.L30.T15RYN.2023252T163206.v2.0.Fmask.tif', 'https://data.lpdaac.earthdatacloud.nasa.gov/lp-prod-protected/HLSL30.020/HLS.L30.T15RYN.2023252T163206.v2.0/HLS.L30.T15RYN.2023252T163206.v2.0.B03.tif', 'https://data.lpdaac.earthdatacloud.nasa.gov/lp-prod-protected/HLSL30.020/HLS.L30.T15RYN.2023252T163206.v2.0/HLS.L30.T15RYN.2023252T163206.v2.0.B09.tif'],\n",
              " Collection: {'EntryTitle': 'HLS Landsat Operational Land Imager Surface Reflectance and TOA Brightness Daily Global 30m v2.0'}\n",
              " Spatial coverage: {'HorizontalSpatialDomain': {'Geometry': {'GPolygons': [{'Boundary': {'Points': [{'Longitude': -90.07372506, 'Latitude': 28.80444525}, {'Longitude': -89.52835314, 'Latitude': 28.81577088}, {'Longitude': -89.26070131, 'Latitude': 29.81112244}, {'Longitude': -90.10353675, 'Latitude': 29.79400715}, {'Longitude': -90.07372506, 'Latitude': 28.80444525}]}}]}}}\n",
              " Temporal coverage: {'RangeDateTime': {'BeginningDateTime': '2023-09-09T16:32:06.260Z', 'EndingDateTime': '2023-09-09T16:32:30.152Z'}}\n",
              " Size(MB): 91.62966060638428\n",
              " Data: ['https://data.lpdaac.earthdatacloud.nasa.gov/lp-prod-protected/HLSL30.020/HLS.L30.T16RBT.2023252T163206.v2.0/HLS.L30.T16RBT.2023252T163206.v2.0.B09.tif', 'https://data.lpdaac.earthdatacloud.nasa.gov/lp-prod-protected/HLSL30.020/HLS.L30.T16RBT.2023252T163206.v2.0/HLS.L30.T16RBT.2023252T163206.v2.0.B03.tif', 'https://data.lpdaac.earthdatacloud.nasa.gov/lp-prod-protected/HLSL30.020/HLS.L30.T16RBT.2023252T163206.v2.0/HLS.L30.T16RBT.2023252T163206.v2.0.B06.tif', 'https://data.lpdaac.earthdatacloud.nasa.gov/lp-prod-protected/HLSL30.020/HLS.L30.T16RBT.2023252T163206.v2.0/HLS.L30.T16RBT.2023252T163206.v2.0.VZA.tif', 'https://data.lpdaac.earthdatacloud.nasa.gov/lp-prod-protected/HLSL30.020/HLS.L30.T16RBT.2023252T163206.v2.0/HLS.L30.T16RBT.2023252T163206.v2.0.SZA.tif', 'https://data.lpdaac.earthdatacloud.nasa.gov/lp-prod-protected/HLSL30.020/HLS.L30.T16RBT.2023252T163206.v2.0/HLS.L30.T16RBT.2023252T163206.v2.0.B10.tif', 'https://data.lpdaac.earthdatacloud.nasa.gov/lp-prod-protected/HLSL30.020/HLS.L30.T16RBT.2023252T163206.v2.0/HLS.L30.T16RBT.2023252T163206.v2.0.B02.tif', 'https://data.lpdaac.earthdatacloud.nasa.gov/lp-prod-protected/HLSL30.020/HLS.L30.T16RBT.2023252T163206.v2.0/HLS.L30.T16RBT.2023252T163206.v2.0.B07.tif', 'https://data.lpdaac.earthdatacloud.nasa.gov/lp-prod-protected/HLSL30.020/HLS.L30.T16RBT.2023252T163206.v2.0/HLS.L30.T16RBT.2023252T163206.v2.0.SAA.tif', 'https://data.lpdaac.earthdatacloud.nasa.gov/lp-prod-protected/HLSL30.020/HLS.L30.T16RBT.2023252T163206.v2.0/HLS.L30.T16RBT.2023252T163206.v2.0.Fmask.tif', 'https://data.lpdaac.earthdatacloud.nasa.gov/lp-prod-protected/HLSL30.020/HLS.L30.T16RBT.2023252T163206.v2.0/HLS.L30.T16RBT.2023252T163206.v2.0.B01.tif', 'https://data.lpdaac.earthdatacloud.nasa.gov/lp-prod-protected/HLSL30.020/HLS.L30.T16RBT.2023252T163206.v2.0/HLS.L30.T16RBT.2023252T163206.v2.0.B11.tif', 'https://data.lpdaac.earthdatacloud.nasa.gov/lp-prod-protected/HLSL30.020/HLS.L30.T16RBT.2023252T163206.v2.0/HLS.L30.T16RBT.2023252T163206.v2.0.VAA.tif', 'https://data.lpdaac.earthdatacloud.nasa.gov/lp-prod-protected/HLSL30.020/HLS.L30.T16RBT.2023252T163206.v2.0/HLS.L30.T16RBT.2023252T163206.v2.0.B05.tif', 'https://data.lpdaac.earthdatacloud.nasa.gov/lp-prod-protected/HLSL30.020/HLS.L30.T16RBT.2023252T163206.v2.0/HLS.L30.T16RBT.2023252T163206.v2.0.B04.tif'],\n",
              " Collection: {'EntryTitle': 'HLS Landsat Operational Land Imager Surface Reflectance and TOA Brightness Daily Global 30m v2.0'}\n",
              " Spatial coverage: {'HorizontalSpatialDomain': {'Geometry': {'GPolygons': [{'Boundary': {'Points': [{'Longitude': -90.10082051, 'Latitude': 29.70587294}, {'Longitude': -89.30490864, 'Latitude': 29.7224017}, {'Longitude': -89.03380705, 'Latitude': 30.71713401}, {'Longitude': -90.13201749, 'Latitude': 30.69527405}, {'Longitude': -90.10082051, 'Latitude': 29.70587294}]}}]}}}\n",
              " Temporal coverage: {'RangeDateTime': {'BeginningDateTime': '2023-09-17T16:32:11.040Z', 'EndingDateTime': '2023-09-17T16:32:11.040Z'}}\n",
              " Size(MB): 144.68057537078857\n",
              " Data: ['https://data.lpdaac.earthdatacloud.nasa.gov/lp-prod-protected/HLSL30.020/HLS.L30.T16RBU.2023260T163211.v2.0/HLS.L30.T16RBU.2023260T163211.v2.0.B09.tif', 'https://data.lpdaac.earthdatacloud.nasa.gov/lp-prod-protected/HLSL30.020/HLS.L30.T16RBU.2023260T163211.v2.0/HLS.L30.T16RBU.2023260T163211.v2.0.SZA.tif', 'https://data.lpdaac.earthdatacloud.nasa.gov/lp-prod-protected/HLSL30.020/HLS.L30.T16RBU.2023260T163211.v2.0/HLS.L30.T16RBU.2023260T163211.v2.0.B03.tif', 'https://data.lpdaac.earthdatacloud.nasa.gov/lp-prod-protected/HLSL30.020/HLS.L30.T16RBU.2023260T163211.v2.0/HLS.L30.T16RBU.2023260T163211.v2.0.B02.tif', 'https://data.lpdaac.earthdatacloud.nasa.gov/lp-prod-protected/HLSL30.020/HLS.L30.T16RBU.2023260T163211.v2.0/HLS.L30.T16RBU.2023260T163211.v2.0.B11.tif', 'https://data.lpdaac.earthdatacloud.nasa.gov/lp-prod-protected/HLSL30.020/HLS.L30.T16RBU.2023260T163211.v2.0/HLS.L30.T16RBU.2023260T163211.v2.0.VAA.tif', 'https://data.lpdaac.earthdatacloud.nasa.gov/lp-prod-protected/HLSL30.020/HLS.L30.T16RBU.2023260T163211.v2.0/HLS.L30.T16RBU.2023260T163211.v2.0.Fmask.tif', 'https://data.lpdaac.earthdatacloud.nasa.gov/lp-prod-protected/HLSL30.020/HLS.L30.T16RBU.2023260T163211.v2.0/HLS.L30.T16RBU.2023260T163211.v2.0.SAA.tif', 'https://data.lpdaac.earthdatacloud.nasa.gov/lp-prod-protected/HLSL30.020/HLS.L30.T16RBU.2023260T163211.v2.0/HLS.L30.T16RBU.2023260T163211.v2.0.B06.tif', 'https://data.lpdaac.earthdatacloud.nasa.gov/lp-prod-protected/HLSL30.020/HLS.L30.T16RBU.2023260T163211.v2.0/HLS.L30.T16RBU.2023260T163211.v2.0.B05.tif', 'https://data.lpdaac.earthdatacloud.nasa.gov/lp-prod-protected/HLSL30.020/HLS.L30.T16RBU.2023260T163211.v2.0/HLS.L30.T16RBU.2023260T163211.v2.0.B10.tif', 'https://data.lpdaac.earthdatacloud.nasa.gov/lp-prod-protected/HLSL30.020/HLS.L30.T16RBU.2023260T163211.v2.0/HLS.L30.T16RBU.2023260T163211.v2.0.B07.tif', 'https://data.lpdaac.earthdatacloud.nasa.gov/lp-prod-protected/HLSL30.020/HLS.L30.T16RBU.2023260T163211.v2.0/HLS.L30.T16RBU.2023260T163211.v2.0.VZA.tif', 'https://data.lpdaac.earthdatacloud.nasa.gov/lp-prod-protected/HLSL30.020/HLS.L30.T16RBU.2023260T163211.v2.0/HLS.L30.T16RBU.2023260T163211.v2.0.B04.tif', 'https://data.lpdaac.earthdatacloud.nasa.gov/lp-prod-protected/HLSL30.020/HLS.L30.T16RBU.2023260T163211.v2.0/HLS.L30.T16RBU.2023260T163211.v2.0.B01.tif'],\n",
              " Collection: {'EntryTitle': 'HLS Landsat Operational Land Imager Surface Reflectance and TOA Brightness Daily Global 30m v2.0'}\n",
              " Spatial coverage: {'HorizontalSpatialDomain': {'Geometry': {'GPolygons': [{'Boundary': {'Points': [{'Longitude': -89.79864173, 'Latitude': 29.70347853}, {'Longitude': -89.76643746, 'Latitude': 30.69278312}, {'Longitude': -90.91181412, 'Latitude': 30.71627038}, {'Longitude': -90.93263654, 'Latitude': 29.72605548}, {'Longitude': -89.79864173, 'Latitude': 29.70347853}]}}]}}}\n",
              " Temporal coverage: {'RangeDateTime': {'BeginningDateTime': '2023-09-17T16:32:11.040Z', 'EndingDateTime': '2023-09-17T16:32:11.040Z'}}\n",
              " Size(MB): 177.45374488830566\n",
              " Data: ['https://data.lpdaac.earthdatacloud.nasa.gov/lp-prod-protected/HLSL30.020/HLS.L30.T15RYP.2023260T163211.v2.0/HLS.L30.T15RYP.2023260T163211.v2.0.B02.tif', 'https://data.lpdaac.earthdatacloud.nasa.gov/lp-prod-protected/HLSL30.020/HLS.L30.T15RYP.2023260T163211.v2.0/HLS.L30.T15RYP.2023260T163211.v2.0.VZA.tif', 'https://data.lpdaac.earthdatacloud.nasa.gov/lp-prod-protected/HLSL30.020/HLS.L30.T15RYP.2023260T163211.v2.0/HLS.L30.T15RYP.2023260T163211.v2.0.Fmask.tif', 'https://data.lpdaac.earthdatacloud.nasa.gov/lp-prod-protected/HLSL30.020/HLS.L30.T15RYP.2023260T163211.v2.0/HLS.L30.T15RYP.2023260T163211.v2.0.B10.tif', 'https://data.lpdaac.earthdatacloud.nasa.gov/lp-prod-protected/HLSL30.020/HLS.L30.T15RYP.2023260T163211.v2.0/HLS.L30.T15RYP.2023260T163211.v2.0.SAA.tif', 'https://data.lpdaac.earthdatacloud.nasa.gov/lp-prod-protected/HLSL30.020/HLS.L30.T15RYP.2023260T163211.v2.0/HLS.L30.T15RYP.2023260T163211.v2.0.SZA.tif', 'https://data.lpdaac.earthdatacloud.nasa.gov/lp-prod-protected/HLSL30.020/HLS.L30.T15RYP.2023260T163211.v2.0/HLS.L30.T15RYP.2023260T163211.v2.0.B05.tif', 'https://data.lpdaac.earthdatacloud.nasa.gov/lp-prod-protected/HLSL30.020/HLS.L30.T15RYP.2023260T163211.v2.0/HLS.L30.T15RYP.2023260T163211.v2.0.B01.tif', 'https://data.lpdaac.earthdatacloud.nasa.gov/lp-prod-protected/HLSL30.020/HLS.L30.T15RYP.2023260T163211.v2.0/HLS.L30.T15RYP.2023260T163211.v2.0.B07.tif', 'https://data.lpdaac.earthdatacloud.nasa.gov/lp-prod-protected/HLSL30.020/HLS.L30.T15RYP.2023260T163211.v2.0/HLS.L30.T15RYP.2023260T163211.v2.0.B04.tif', 'https://data.lpdaac.earthdatacloud.nasa.gov/lp-prod-protected/HLSL30.020/HLS.L30.T15RYP.2023260T163211.v2.0/HLS.L30.T15RYP.2023260T163211.v2.0.B03.tif', 'https://data.lpdaac.earthdatacloud.nasa.gov/lp-prod-protected/HLSL30.020/HLS.L30.T15RYP.2023260T163211.v2.0/HLS.L30.T15RYP.2023260T163211.v2.0.VAA.tif', 'https://data.lpdaac.earthdatacloud.nasa.gov/lp-prod-protected/HLSL30.020/HLS.L30.T15RYP.2023260T163211.v2.0/HLS.L30.T15RYP.2023260T163211.v2.0.B09.tif', 'https://data.lpdaac.earthdatacloud.nasa.gov/lp-prod-protected/HLSL30.020/HLS.L30.T15RYP.2023260T163211.v2.0/HLS.L30.T15RYP.2023260T163211.v2.0.B11.tif', 'https://data.lpdaac.earthdatacloud.nasa.gov/lp-prod-protected/HLSL30.020/HLS.L30.T15RYP.2023260T163211.v2.0/HLS.L30.T15RYP.2023260T163211.v2.0.B06.tif'],\n",
              " Collection: {'EntryTitle': 'HLS Landsat Operational Land Imager Surface Reflectance and TOA Brightness Daily Global 30m v2.0'}\n",
              " Spatial coverage: {'HorizontalSpatialDomain': {'Geometry': {'GPolygons': [{'Boundary': {'Points': [{'Longitude': -90.07372506, 'Latitude': 28.80444525}, {'Longitude': -89.54893295, 'Latitude': 28.81538355}, {'Longitude': -89.28117569, 'Latitude': 29.81077043}, {'Longitude': -90.10353675, 'Latitude': 29.79400715}, {'Longitude': -90.07372506, 'Latitude': 28.80444525}]}}]}}}\n",
              " Temporal coverage: {'RangeDateTime': {'BeginningDateTime': '2023-09-17T16:32:11.040Z', 'EndingDateTime': '2023-09-17T16:32:34.931Z'}}\n",
              " Size(MB): 108.96715545654297\n",
              " Data: ['https://data.lpdaac.earthdatacloud.nasa.gov/lp-prod-protected/HLSL30.020/HLS.L30.T16RBT.2023260T163211.v2.0/HLS.L30.T16RBT.2023260T163211.v2.0.SZA.tif', 'https://data.lpdaac.earthdatacloud.nasa.gov/lp-prod-protected/HLSL30.020/HLS.L30.T16RBT.2023260T163211.v2.0/HLS.L30.T16RBT.2023260T163211.v2.0.Fmask.tif', 'https://data.lpdaac.earthdatacloud.nasa.gov/lp-prod-protected/HLSL30.020/HLS.L30.T16RBT.2023260T163211.v2.0/HLS.L30.T16RBT.2023260T163211.v2.0.B09.tif', 'https://data.lpdaac.earthdatacloud.nasa.gov/lp-prod-protected/HLSL30.020/HLS.L30.T16RBT.2023260T163211.v2.0/HLS.L30.T16RBT.2023260T163211.v2.0.SAA.tif', 'https://data.lpdaac.earthdatacloud.nasa.gov/lp-prod-protected/HLSL30.020/HLS.L30.T16RBT.2023260T163211.v2.0/HLS.L30.T16RBT.2023260T163211.v2.0.VZA.tif', 'https://data.lpdaac.earthdatacloud.nasa.gov/lp-prod-protected/HLSL30.020/HLS.L30.T16RBT.2023260T163211.v2.0/HLS.L30.T16RBT.2023260T163211.v2.0.VAA.tif', 'https://data.lpdaac.earthdatacloud.nasa.gov/lp-prod-protected/HLSL30.020/HLS.L30.T16RBT.2023260T163211.v2.0/HLS.L30.T16RBT.2023260T163211.v2.0.B01.tif', 'https://data.lpdaac.earthdatacloud.nasa.gov/lp-prod-protected/HLSL30.020/HLS.L30.T16RBT.2023260T163211.v2.0/HLS.L30.T16RBT.2023260T163211.v2.0.B03.tif', 'https://data.lpdaac.earthdatacloud.nasa.gov/lp-prod-protected/HLSL30.020/HLS.L30.T16RBT.2023260T163211.v2.0/HLS.L30.T16RBT.2023260T163211.v2.0.B02.tif', 'https://data.lpdaac.earthdatacloud.nasa.gov/lp-prod-protected/HLSL30.020/HLS.L30.T16RBT.2023260T163211.v2.0/HLS.L30.T16RBT.2023260T163211.v2.0.B05.tif', 'https://data.lpdaac.earthdatacloud.nasa.gov/lp-prod-protected/HLSL30.020/HLS.L30.T16RBT.2023260T163211.v2.0/HLS.L30.T16RBT.2023260T163211.v2.0.B11.tif', 'https://data.lpdaac.earthdatacloud.nasa.gov/lp-prod-protected/HLSL30.020/HLS.L30.T16RBT.2023260T163211.v2.0/HLS.L30.T16RBT.2023260T163211.v2.0.B07.tif', 'https://data.lpdaac.earthdatacloud.nasa.gov/lp-prod-protected/HLSL30.020/HLS.L30.T16RBT.2023260T163211.v2.0/HLS.L30.T16RBT.2023260T163211.v2.0.B04.tif', 'https://data.lpdaac.earthdatacloud.nasa.gov/lp-prod-protected/HLSL30.020/HLS.L30.T16RBT.2023260T163211.v2.0/HLS.L30.T16RBT.2023260T163211.v2.0.B06.tif', 'https://data.lpdaac.earthdatacloud.nasa.gov/lp-prod-protected/HLSL30.020/HLS.L30.T16RBT.2023260T163211.v2.0/HLS.L30.T16RBT.2023260T163211.v2.0.B10.tif'],\n",
              " Collection: {'EntryTitle': 'HLS Landsat Operational Land Imager Surface Reflectance and TOA Brightness Daily Global 30m v2.0'}\n",
              " Spatial coverage: {'HorizontalSpatialDomain': {'Geometry': {'GPolygons': [{'Boundary': {'Points': [{'Longitude': -89.82661214, 'Latitude': 28.80213717}, {'Longitude': -89.79583778, 'Latitude': 29.79160422}, {'Longitude': -90.93082361, 'Latitude': 29.81426153}, {'Longitude': -90.95072084, 'Latitude': 28.82389994}, {'Longitude': -89.82661214, 'Latitude': 28.80213717}]}}]}}}\n",
              " Temporal coverage: {'RangeDateTime': {'BeginningDateTime': '2023-09-17T16:32:11.040Z', 'EndingDateTime': '2023-09-17T16:32:34.931Z'}}\n",
              " Size(MB): 181.69821071624756\n",
              " Data: ['https://data.lpdaac.earthdatacloud.nasa.gov/lp-prod-protected/HLSL30.020/HLS.L30.T15RYN.2023260T163211.v2.0/HLS.L30.T15RYN.2023260T163211.v2.0.VAA.tif', 'https://data.lpdaac.earthdatacloud.nasa.gov/lp-prod-protected/HLSL30.020/HLS.L30.T15RYN.2023260T163211.v2.0/HLS.L30.T15RYN.2023260T163211.v2.0.SAA.tif', 'https://data.lpdaac.earthdatacloud.nasa.gov/lp-prod-protected/HLSL30.020/HLS.L30.T15RYN.2023260T163211.v2.0/HLS.L30.T15RYN.2023260T163211.v2.0.SZA.tif', 'https://data.lpdaac.earthdatacloud.nasa.gov/lp-prod-protected/HLSL30.020/HLS.L30.T15RYN.2023260T163211.v2.0/HLS.L30.T15RYN.2023260T163211.v2.0.B04.tif', 'https://data.lpdaac.earthdatacloud.nasa.gov/lp-prod-protected/HLSL30.020/HLS.L30.T15RYN.2023260T163211.v2.0/HLS.L30.T15RYN.2023260T163211.v2.0.B05.tif', 'https://data.lpdaac.earthdatacloud.nasa.gov/lp-prod-protected/HLSL30.020/HLS.L30.T15RYN.2023260T163211.v2.0/HLS.L30.T15RYN.2023260T163211.v2.0.B09.tif', 'https://data.lpdaac.earthdatacloud.nasa.gov/lp-prod-protected/HLSL30.020/HLS.L30.T15RYN.2023260T163211.v2.0/HLS.L30.T15RYN.2023260T163211.v2.0.B11.tif', 'https://data.lpdaac.earthdatacloud.nasa.gov/lp-prod-protected/HLSL30.020/HLS.L30.T15RYN.2023260T163211.v2.0/HLS.L30.T15RYN.2023260T163211.v2.0.B03.tif', 'https://data.lpdaac.earthdatacloud.nasa.gov/lp-prod-protected/HLSL30.020/HLS.L30.T15RYN.2023260T163211.v2.0/HLS.L30.T15RYN.2023260T163211.v2.0.B06.tif', 'https://data.lpdaac.earthdatacloud.nasa.gov/lp-prod-protected/HLSL30.020/HLS.L30.T15RYN.2023260T163211.v2.0/HLS.L30.T15RYN.2023260T163211.v2.0.B07.tif', 'https://data.lpdaac.earthdatacloud.nasa.gov/lp-prod-protected/HLSL30.020/HLS.L30.T15RYN.2023260T163211.v2.0/HLS.L30.T15RYN.2023260T163211.v2.0.B10.tif', 'https://data.lpdaac.earthdatacloud.nasa.gov/lp-prod-protected/HLSL30.020/HLS.L30.T15RYN.2023260T163211.v2.0/HLS.L30.T15RYN.2023260T163211.v2.0.B02.tif', 'https://data.lpdaac.earthdatacloud.nasa.gov/lp-prod-protected/HLSL30.020/HLS.L30.T15RYN.2023260T163211.v2.0/HLS.L30.T15RYN.2023260T163211.v2.0.B01.tif', 'https://data.lpdaac.earthdatacloud.nasa.gov/lp-prod-protected/HLSL30.020/HLS.L30.T15RYN.2023260T163211.v2.0/HLS.L30.T15RYN.2023260T163211.v2.0.Fmask.tif', 'https://data.lpdaac.earthdatacloud.nasa.gov/lp-prod-protected/HLSL30.020/HLS.L30.T15RYN.2023260T163211.v2.0/HLS.L30.T15RYN.2023260T163211.v2.0.VZA.tif'],\n",
              " Collection: {'EntryTitle': 'HLS Landsat Operational Land Imager Surface Reflectance and TOA Brightness Daily Global 30m v2.0'}\n",
              " Spatial coverage: {'HorizontalSpatialDomain': {'Geometry': {'GPolygons': [{'Boundary': {'Points': [{'Longitude': -90.07372506, 'Latitude': 28.80444525}, {'Longitude': -89.53756803, 'Latitude': 28.81559784}, {'Longitude': -89.27000789, 'Latitude': 29.81096283}, {'Longitude': -90.10353675, 'Latitude': 29.79400715}, {'Longitude': -90.07372506, 'Latitude': 28.80444525}]}}]}}}\n",
              " Temporal coverage: {'RangeDateTime': {'BeginningDateTime': '2023-09-25T16:32:12.175Z', 'EndingDateTime': '2023-09-25T16:32:36.062Z'}}\n",
              " Size(MB): 107.50523662567139\n",
              " Data: ['https://data.lpdaac.earthdatacloud.nasa.gov/lp-prod-protected/HLSL30.020/HLS.L30.T16RBT.2023268T163212.v2.0/HLS.L30.T16RBT.2023268T163212.v2.0.B04.tif', 'https://data.lpdaac.earthdatacloud.nasa.gov/lp-prod-protected/HLSL30.020/HLS.L30.T16RBT.2023268T163212.v2.0/HLS.L30.T16RBT.2023268T163212.v2.0.VAA.tif', 'https://data.lpdaac.earthdatacloud.nasa.gov/lp-prod-protected/HLSL30.020/HLS.L30.T16RBT.2023268T163212.v2.0/HLS.L30.T16RBT.2023268T163212.v2.0.B06.tif', 'https://data.lpdaac.earthdatacloud.nasa.gov/lp-prod-protected/HLSL30.020/HLS.L30.T16RBT.2023268T163212.v2.0/HLS.L30.T16RBT.2023268T163212.v2.0.B09.tif', 'https://data.lpdaac.earthdatacloud.nasa.gov/lp-prod-protected/HLSL30.020/HLS.L30.T16RBT.2023268T163212.v2.0/HLS.L30.T16RBT.2023268T163212.v2.0.B02.tif', 'https://data.lpdaac.earthdatacloud.nasa.gov/lp-prod-protected/HLSL30.020/HLS.L30.T16RBT.2023268T163212.v2.0/HLS.L30.T16RBT.2023268T163212.v2.0.B11.tif', 'https://data.lpdaac.earthdatacloud.nasa.gov/lp-prod-protected/HLSL30.020/HLS.L30.T16RBT.2023268T163212.v2.0/HLS.L30.T16RBT.2023268T163212.v2.0.Fmask.tif', 'https://data.lpdaac.earthdatacloud.nasa.gov/lp-prod-protected/HLSL30.020/HLS.L30.T16RBT.2023268T163212.v2.0/HLS.L30.T16RBT.2023268T163212.v2.0.B07.tif', 'https://data.lpdaac.earthdatacloud.nasa.gov/lp-prod-protected/HLSL30.020/HLS.L30.T16RBT.2023268T163212.v2.0/HLS.L30.T16RBT.2023268T163212.v2.0.SZA.tif', 'https://data.lpdaac.earthdatacloud.nasa.gov/lp-prod-protected/HLSL30.020/HLS.L30.T16RBT.2023268T163212.v2.0/HLS.L30.T16RBT.2023268T163212.v2.0.B01.tif', 'https://data.lpdaac.earthdatacloud.nasa.gov/lp-prod-protected/HLSL30.020/HLS.L30.T16RBT.2023268T163212.v2.0/HLS.L30.T16RBT.2023268T163212.v2.0.B03.tif', 'https://data.lpdaac.earthdatacloud.nasa.gov/lp-prod-protected/HLSL30.020/HLS.L30.T16RBT.2023268T163212.v2.0/HLS.L30.T16RBT.2023268T163212.v2.0.SAA.tif', 'https://data.lpdaac.earthdatacloud.nasa.gov/lp-prod-protected/HLSL30.020/HLS.L30.T16RBT.2023268T163212.v2.0/HLS.L30.T16RBT.2023268T163212.v2.0.B10.tif', 'https://data.lpdaac.earthdatacloud.nasa.gov/lp-prod-protected/HLSL30.020/HLS.L30.T16RBT.2023268T163212.v2.0/HLS.L30.T16RBT.2023268T163212.v2.0.VZA.tif', 'https://data.lpdaac.earthdatacloud.nasa.gov/lp-prod-protected/HLSL30.020/HLS.L30.T16RBT.2023268T163212.v2.0/HLS.L30.T16RBT.2023268T163212.v2.0.B05.tif'],\n",
              " Collection: {'EntryTitle': 'HLS Landsat Operational Land Imager Surface Reflectance and TOA Brightness Daily Global 30m v2.0'}\n",
              " Spatial coverage: {'HorizontalSpatialDomain': {'Geometry': {'GPolygons': [{'Boundary': {'Points': [{'Longitude': -89.82661214, 'Latitude': 28.80213717}, {'Longitude': -89.79583778, 'Latitude': 29.79160422}, {'Longitude': -90.93082361, 'Latitude': 29.81426153}, {'Longitude': -90.95072084, 'Latitude': 28.82389994}, {'Longitude': -89.82661214, 'Latitude': 28.80213717}]}}]}}}\n",
              " Temporal coverage: {'RangeDateTime': {'BeginningDateTime': '2023-09-25T16:32:12.175Z', 'EndingDateTime': '2023-09-25T16:32:36.062Z'}}\n",
              " Size(MB): 189.36443614959717\n",
              " Data: ['https://data.lpdaac.earthdatacloud.nasa.gov/lp-prod-protected/HLSL30.020/HLS.L30.T15RYN.2023268T163212.v2.0/HLS.L30.T15RYN.2023268T163212.v2.0.VAA.tif', 'https://data.lpdaac.earthdatacloud.nasa.gov/lp-prod-protected/HLSL30.020/HLS.L30.T15RYN.2023268T163212.v2.0/HLS.L30.T15RYN.2023268T163212.v2.0.Fmask.tif', 'https://data.lpdaac.earthdatacloud.nasa.gov/lp-prod-protected/HLSL30.020/HLS.L30.T15RYN.2023268T163212.v2.0/HLS.L30.T15RYN.2023268T163212.v2.0.SAA.tif', 'https://data.lpdaac.earthdatacloud.nasa.gov/lp-prod-protected/HLSL30.020/HLS.L30.T15RYN.2023268T163212.v2.0/HLS.L30.T15RYN.2023268T163212.v2.0.SZA.tif', 'https://data.lpdaac.earthdatacloud.nasa.gov/lp-prod-protected/HLSL30.020/HLS.L30.T15RYN.2023268T163212.v2.0/HLS.L30.T15RYN.2023268T163212.v2.0.B04.tif', 'https://data.lpdaac.earthdatacloud.nasa.gov/lp-prod-protected/HLSL30.020/HLS.L30.T15RYN.2023268T163212.v2.0/HLS.L30.T15RYN.2023268T163212.v2.0.B06.tif', 'https://data.lpdaac.earthdatacloud.nasa.gov/lp-prod-protected/HLSL30.020/HLS.L30.T15RYN.2023268T163212.v2.0/HLS.L30.T15RYN.2023268T163212.v2.0.B03.tif', 'https://data.lpdaac.earthdatacloud.nasa.gov/lp-prod-protected/HLSL30.020/HLS.L30.T15RYN.2023268T163212.v2.0/HLS.L30.T15RYN.2023268T163212.v2.0.B11.tif', 'https://data.lpdaac.earthdatacloud.nasa.gov/lp-prod-protected/HLSL30.020/HLS.L30.T15RYN.2023268T163212.v2.0/HLS.L30.T15RYN.2023268T163212.v2.0.B07.tif', 'https://data.lpdaac.earthdatacloud.nasa.gov/lp-prod-protected/HLSL30.020/HLS.L30.T15RYN.2023268T163212.v2.0/HLS.L30.T15RYN.2023268T163212.v2.0.B02.tif', 'https://data.lpdaac.earthdatacloud.nasa.gov/lp-prod-protected/HLSL30.020/HLS.L30.T15RYN.2023268T163212.v2.0/HLS.L30.T15RYN.2023268T163212.v2.0.B01.tif', 'https://data.lpdaac.earthdatacloud.nasa.gov/lp-prod-protected/HLSL30.020/HLS.L30.T15RYN.2023268T163212.v2.0/HLS.L30.T15RYN.2023268T163212.v2.0.VZA.tif', 'https://data.lpdaac.earthdatacloud.nasa.gov/lp-prod-protected/HLSL30.020/HLS.L30.T15RYN.2023268T163212.v2.0/HLS.L30.T15RYN.2023268T163212.v2.0.B10.tif', 'https://data.lpdaac.earthdatacloud.nasa.gov/lp-prod-protected/HLSL30.020/HLS.L30.T15RYN.2023268T163212.v2.0/HLS.L30.T15RYN.2023268T163212.v2.0.B09.tif', 'https://data.lpdaac.earthdatacloud.nasa.gov/lp-prod-protected/HLSL30.020/HLS.L30.T15RYN.2023268T163212.v2.0/HLS.L30.T15RYN.2023268T163212.v2.0.B05.tif'],\n",
              " Collection: {'EntryTitle': 'HLS Landsat Operational Land Imager Surface Reflectance and TOA Brightness Daily Global 30m v2.0'}\n",
              " Spatial coverage: {'HorizontalSpatialDomain': {'Geometry': {'GPolygons': [{'Boundary': {'Points': [{'Longitude': -90.10082051, 'Latitude': 29.70587294}, {'Longitude': -89.29374467, 'Latitude': 29.72232505}, {'Longitude': -89.0228475, 'Latitude': 30.7173053}, {'Longitude': -90.13201749, 'Latitude': 30.69527405}, {'Longitude': -90.10082051, 'Latitude': 29.70587294}]}}]}}}\n",
              " Temporal coverage: {'RangeDateTime': {'BeginningDateTime': '2023-09-25T16:32:12.175Z', 'EndingDateTime': '2023-09-25T16:32:12.175Z'}}\n",
              " Size(MB): 166.13354778289795\n",
              " Data: ['https://data.lpdaac.earthdatacloud.nasa.gov/lp-prod-protected/HLSL30.020/HLS.L30.T16RBU.2023268T163212.v2.0/HLS.L30.T16RBU.2023268T163212.v2.0.B06.tif', 'https://data.lpdaac.earthdatacloud.nasa.gov/lp-prod-protected/HLSL30.020/HLS.L30.T16RBU.2023268T163212.v2.0/HLS.L30.T16RBU.2023268T163212.v2.0.VAA.tif', 'https://data.lpdaac.earthdatacloud.nasa.gov/lp-prod-protected/HLSL30.020/HLS.L30.T16RBU.2023268T163212.v2.0/HLS.L30.T16RBU.2023268T163212.v2.0.B07.tif', 'https://data.lpdaac.earthdatacloud.nasa.gov/lp-prod-protected/HLSL30.020/HLS.L30.T16RBU.2023268T163212.v2.0/HLS.L30.T16RBU.2023268T163212.v2.0.B04.tif', 'https://data.lpdaac.earthdatacloud.nasa.gov/lp-prod-protected/HLSL30.020/HLS.L30.T16RBU.2023268T163212.v2.0/HLS.L30.T16RBU.2023268T163212.v2.0.B05.tif', 'https://data.lpdaac.earthdatacloud.nasa.gov/lp-prod-protected/HLSL30.020/HLS.L30.T16RBU.2023268T163212.v2.0/HLS.L30.T16RBU.2023268T163212.v2.0.B09.tif', 'https://data.lpdaac.earthdatacloud.nasa.gov/lp-prod-protected/HLSL30.020/HLS.L30.T16RBU.2023268T163212.v2.0/HLS.L30.T16RBU.2023268T163212.v2.0.Fmask.tif', 'https://data.lpdaac.earthdatacloud.nasa.gov/lp-prod-protected/HLSL30.020/HLS.L30.T16RBU.2023268T163212.v2.0/HLS.L30.T16RBU.2023268T163212.v2.0.B02.tif', 'https://data.lpdaac.earthdatacloud.nasa.gov/lp-prod-protected/HLSL30.020/HLS.L30.T16RBU.2023268T163212.v2.0/HLS.L30.T16RBU.2023268T163212.v2.0.VZA.tif', 'https://data.lpdaac.earthdatacloud.nasa.gov/lp-prod-protected/HLSL30.020/HLS.L30.T16RBU.2023268T163212.v2.0/HLS.L30.T16RBU.2023268T163212.v2.0.SAA.tif', 'https://data.lpdaac.earthdatacloud.nasa.gov/lp-prod-protected/HLSL30.020/HLS.L30.T16RBU.2023268T163212.v2.0/HLS.L30.T16RBU.2023268T163212.v2.0.SZA.tif', 'https://data.lpdaac.earthdatacloud.nasa.gov/lp-prod-protected/HLSL30.020/HLS.L30.T16RBU.2023268T163212.v2.0/HLS.L30.T16RBU.2023268T163212.v2.0.B01.tif', 'https://data.lpdaac.earthdatacloud.nasa.gov/lp-prod-protected/HLSL30.020/HLS.L30.T16RBU.2023268T163212.v2.0/HLS.L30.T16RBU.2023268T163212.v2.0.B11.tif', 'https://data.lpdaac.earthdatacloud.nasa.gov/lp-prod-protected/HLSL30.020/HLS.L30.T16RBU.2023268T163212.v2.0/HLS.L30.T16RBU.2023268T163212.v2.0.B03.tif', 'https://data.lpdaac.earthdatacloud.nasa.gov/lp-prod-protected/HLSL30.020/HLS.L30.T16RBU.2023268T163212.v2.0/HLS.L30.T16RBU.2023268T163212.v2.0.B10.tif'],\n",
              " Collection: {'EntryTitle': 'HLS Landsat Operational Land Imager Surface Reflectance and TOA Brightness Daily Global 30m v2.0'}\n",
              " Spatial coverage: {'HorizontalSpatialDomain': {'Geometry': {'GPolygons': [{'Boundary': {'Points': [{'Longitude': -89.79864173, 'Latitude': 29.70347853}, {'Longitude': -89.76643746, 'Latitude': 30.69278312}, {'Longitude': -90.91181412, 'Latitude': 30.71627038}, {'Longitude': -90.93263654, 'Latitude': 29.72605548}, {'Longitude': -89.79864173, 'Latitude': 29.70347853}]}}]}}}\n",
              " Temporal coverage: {'RangeDateTime': {'BeginningDateTime': '2023-09-25T16:32:12.175Z', 'EndingDateTime': '2023-09-25T16:32:12.175Z'}}\n",
              " Size(MB): 206.71337699890137\n",
              " Data: ['https://data.lpdaac.earthdatacloud.nasa.gov/lp-prod-protected/HLSL30.020/HLS.L30.T15RYP.2023268T163212.v2.0/HLS.L30.T15RYP.2023268T163212.v2.0.B04.tif', 'https://data.lpdaac.earthdatacloud.nasa.gov/lp-prod-protected/HLSL30.020/HLS.L30.T15RYP.2023268T163212.v2.0/HLS.L30.T15RYP.2023268T163212.v2.0.SAA.tif', 'https://data.lpdaac.earthdatacloud.nasa.gov/lp-prod-protected/HLSL30.020/HLS.L30.T15RYP.2023268T163212.v2.0/HLS.L30.T15RYP.2023268T163212.v2.0.B07.tif', 'https://data.lpdaac.earthdatacloud.nasa.gov/lp-prod-protected/HLSL30.020/HLS.L30.T15RYP.2023268T163212.v2.0/HLS.L30.T15RYP.2023268T163212.v2.0.VZA.tif', 'https://data.lpdaac.earthdatacloud.nasa.gov/lp-prod-protected/HLSL30.020/HLS.L30.T15RYP.2023268T163212.v2.0/HLS.L30.T15RYP.2023268T163212.v2.0.B09.tif', 'https://data.lpdaac.earthdatacloud.nasa.gov/lp-prod-protected/HLSL30.020/HLS.L30.T15RYP.2023268T163212.v2.0/HLS.L30.T15RYP.2023268T163212.v2.0.B01.tif', 'https://data.lpdaac.earthdatacloud.nasa.gov/lp-prod-protected/HLSL30.020/HLS.L30.T15RYP.2023268T163212.v2.0/HLS.L30.T15RYP.2023268T163212.v2.0.B10.tif', 'https://data.lpdaac.earthdatacloud.nasa.gov/lp-prod-protected/HLSL30.020/HLS.L30.T15RYP.2023268T163212.v2.0/HLS.L30.T15RYP.2023268T163212.v2.0.B02.tif', 'https://data.lpdaac.earthdatacloud.nasa.gov/lp-prod-protected/HLSL30.020/HLS.L30.T15RYP.2023268T163212.v2.0/HLS.L30.T15RYP.2023268T163212.v2.0.B11.tif', 'https://data.lpdaac.earthdatacloud.nasa.gov/lp-prod-protected/HLSL30.020/HLS.L30.T15RYP.2023268T163212.v2.0/HLS.L30.T15RYP.2023268T163212.v2.0.B03.tif', 'https://data.lpdaac.earthdatacloud.nasa.gov/lp-prod-protected/HLSL30.020/HLS.L30.T15RYP.2023268T163212.v2.0/HLS.L30.T15RYP.2023268T163212.v2.0.SZA.tif', 'https://data.lpdaac.earthdatacloud.nasa.gov/lp-prod-protected/HLSL30.020/HLS.L30.T15RYP.2023268T163212.v2.0/HLS.L30.T15RYP.2023268T163212.v2.0.B06.tif', 'https://data.lpdaac.earthdatacloud.nasa.gov/lp-prod-protected/HLSL30.020/HLS.L30.T15RYP.2023268T163212.v2.0/HLS.L30.T15RYP.2023268T163212.v2.0.B05.tif', 'https://data.lpdaac.earthdatacloud.nasa.gov/lp-prod-protected/HLSL30.020/HLS.L30.T15RYP.2023268T163212.v2.0/HLS.L30.T15RYP.2023268T163212.v2.0.Fmask.tif', 'https://data.lpdaac.earthdatacloud.nasa.gov/lp-prod-protected/HLSL30.020/HLS.L30.T15RYP.2023268T163212.v2.0/HLS.L30.T15RYP.2023268T163212.v2.0.VAA.tif'],\n",
              " Collection: {'EntryTitle': 'HLS Landsat Operational Land Imager Surface Reflectance and TOA Brightness Daily Global 30m v2.0'}\n",
              " Spatial coverage: {'HorizontalSpatialDomain': {'Geometry': {'GPolygons': [{'Boundary': {'Points': [{'Longitude': -90.10082051, 'Latitude': 29.70587294}, {'Longitude': -89.28909556, 'Latitude': 29.72240556}, {'Longitude': -89.01783738, 'Latitude': 30.7173833}, {'Longitude': -90.13201749, 'Latitude': 30.69527405}, {'Longitude': -90.10082051, 'Latitude': 29.70587294}]}}]}}}\n",
              " Temporal coverage: {'RangeDateTime': {'BeginningDateTime': '2023-10-03T16:32:11.664Z', 'EndingDateTime': '2023-10-03T16:32:11.664Z'}}\n",
              " Size(MB): 150.51258754730225\n",
              " Data: ['https://data.lpdaac.earthdatacloud.nasa.gov/lp-prod-protected/HLSL30.020/HLS.L30.T16RBU.2023276T163211.v2.0/HLS.L30.T16RBU.2023276T163211.v2.0.Fmask.tif', 'https://data.lpdaac.earthdatacloud.nasa.gov/lp-prod-protected/HLSL30.020/HLS.L30.T16RBU.2023276T163211.v2.0/HLS.L30.T16RBU.2023276T163211.v2.0.B03.tif', 'https://data.lpdaac.earthdatacloud.nasa.gov/lp-prod-protected/HLSL30.020/HLS.L30.T16RBU.2023276T163211.v2.0/HLS.L30.T16RBU.2023276T163211.v2.0.VZA.tif', 'https://data.lpdaac.earthdatacloud.nasa.gov/lp-prod-protected/HLSL30.020/HLS.L30.T16RBU.2023276T163211.v2.0/HLS.L30.T16RBU.2023276T163211.v2.0.SZA.tif', 'https://data.lpdaac.earthdatacloud.nasa.gov/lp-prod-protected/HLSL30.020/HLS.L30.T16RBU.2023276T163211.v2.0/HLS.L30.T16RBU.2023276T163211.v2.0.B02.tif', 'https://data.lpdaac.earthdatacloud.nasa.gov/lp-prod-protected/HLSL30.020/HLS.L30.T16RBU.2023276T163211.v2.0/HLS.L30.T16RBU.2023276T163211.v2.0.B07.tif', 'https://data.lpdaac.earthdatacloud.nasa.gov/lp-prod-protected/HLSL30.020/HLS.L30.T16RBU.2023276T163211.v2.0/HLS.L30.T16RBU.2023276T163211.v2.0.B04.tif', 'https://data.lpdaac.earthdatacloud.nasa.gov/lp-prod-protected/HLSL30.020/HLS.L30.T16RBU.2023276T163211.v2.0/HLS.L30.T16RBU.2023276T163211.v2.0.SAA.tif', 'https://data.lpdaac.earthdatacloud.nasa.gov/lp-prod-protected/HLSL30.020/HLS.L30.T16RBU.2023276T163211.v2.0/HLS.L30.T16RBU.2023276T163211.v2.0.B05.tif', 'https://data.lpdaac.earthdatacloud.nasa.gov/lp-prod-protected/HLSL30.020/HLS.L30.T16RBU.2023276T163211.v2.0/HLS.L30.T16RBU.2023276T163211.v2.0.B09.tif', 'https://data.lpdaac.earthdatacloud.nasa.gov/lp-prod-protected/HLSL30.020/HLS.L30.T16RBU.2023276T163211.v2.0/HLS.L30.T16RBU.2023276T163211.v2.0.VAA.tif', 'https://data.lpdaac.earthdatacloud.nasa.gov/lp-prod-protected/HLSL30.020/HLS.L30.T16RBU.2023276T163211.v2.0/HLS.L30.T16RBU.2023276T163211.v2.0.B01.tif', 'https://data.lpdaac.earthdatacloud.nasa.gov/lp-prod-protected/HLSL30.020/HLS.L30.T16RBU.2023276T163211.v2.0/HLS.L30.T16RBU.2023276T163211.v2.0.B06.tif', 'https://data.lpdaac.earthdatacloud.nasa.gov/lp-prod-protected/HLSL30.020/HLS.L30.T16RBU.2023276T163211.v2.0/HLS.L30.T16RBU.2023276T163211.v2.0.B10.tif', 'https://data.lpdaac.earthdatacloud.nasa.gov/lp-prod-protected/HLSL30.020/HLS.L30.T16RBU.2023276T163211.v2.0/HLS.L30.T16RBU.2023276T163211.v2.0.B11.tif'],\n",
              " Collection: {'EntryTitle': 'HLS Landsat Operational Land Imager Surface Reflectance and TOA Brightness Daily Global 30m v2.0'}\n",
              " Spatial coverage: {'HorizontalSpatialDomain': {'Geometry': {'GPolygons': [{'Boundary': {'Points': [{'Longitude': -89.80266714, 'Latitude': 29.70357587}, {'Longitude': -89.76643746, 'Latitude': 30.69278312}, {'Longitude': -90.91181995, 'Latitude': 30.71599985}, {'Longitude': -90.93263654, 'Latitude': 29.72605548}, {'Longitude': -89.80266714, 'Latitude': 29.70357587}]}}]}}}\n",
              " Temporal coverage: {'RangeDateTime': {'BeginningDateTime': '2023-10-03T16:32:11.664Z', 'EndingDateTime': '2023-10-03T16:32:11.664Z'}}\n",
              " Size(MB): 184.2722396850586\n",
              " Data: ['https://data.lpdaac.earthdatacloud.nasa.gov/lp-prod-protected/HLSL30.020/HLS.L30.T15RYP.2023276T163211.v2.0/HLS.L30.T15RYP.2023276T163211.v2.0.SZA.tif', 'https://data.lpdaac.earthdatacloud.nasa.gov/lp-prod-protected/HLSL30.020/HLS.L30.T15RYP.2023276T163211.v2.0/HLS.L30.T15RYP.2023276T163211.v2.0.B01.tif', 'https://data.lpdaac.earthdatacloud.nasa.gov/lp-prod-protected/HLSL30.020/HLS.L30.T15RYP.2023276T163211.v2.0/HLS.L30.T15RYP.2023276T163211.v2.0.B11.tif', 'https://data.lpdaac.earthdatacloud.nasa.gov/lp-prod-protected/HLSL30.020/HLS.L30.T15RYP.2023276T163211.v2.0/HLS.L30.T15RYP.2023276T163211.v2.0.SAA.tif', 'https://data.lpdaac.earthdatacloud.nasa.gov/lp-prod-protected/HLSL30.020/HLS.L30.T15RYP.2023276T163211.v2.0/HLS.L30.T15RYP.2023276T163211.v2.0.B02.tif', 'https://data.lpdaac.earthdatacloud.nasa.gov/lp-prod-protected/HLSL30.020/HLS.L30.T15RYP.2023276T163211.v2.0/HLS.L30.T15RYP.2023276T163211.v2.0.B05.tif', 'https://data.lpdaac.earthdatacloud.nasa.gov/lp-prod-protected/HLSL30.020/HLS.L30.T15RYP.2023276T163211.v2.0/HLS.L30.T15RYP.2023276T163211.v2.0.B03.tif', 'https://data.lpdaac.earthdatacloud.nasa.gov/lp-prod-protected/HLSL30.020/HLS.L30.T15RYP.2023276T163211.v2.0/HLS.L30.T15RYP.2023276T163211.v2.0.B06.tif', 'https://data.lpdaac.earthdatacloud.nasa.gov/lp-prod-protected/HLSL30.020/HLS.L30.T15RYP.2023276T163211.v2.0/HLS.L30.T15RYP.2023276T163211.v2.0.B10.tif', 'https://data.lpdaac.earthdatacloud.nasa.gov/lp-prod-protected/HLSL30.020/HLS.L30.T15RYP.2023276T163211.v2.0/HLS.L30.T15RYP.2023276T163211.v2.0.VZA.tif', 'https://data.lpdaac.earthdatacloud.nasa.gov/lp-prod-protected/HLSL30.020/HLS.L30.T15RYP.2023276T163211.v2.0/HLS.L30.T15RYP.2023276T163211.v2.0.B09.tif', 'https://data.lpdaac.earthdatacloud.nasa.gov/lp-prod-protected/HLSL30.020/HLS.L30.T15RYP.2023276T163211.v2.0/HLS.L30.T15RYP.2023276T163211.v2.0.B07.tif', 'https://data.lpdaac.earthdatacloud.nasa.gov/lp-prod-protected/HLSL30.020/HLS.L30.T15RYP.2023276T163211.v2.0/HLS.L30.T15RYP.2023276T163211.v2.0.VAA.tif', 'https://data.lpdaac.earthdatacloud.nasa.gov/lp-prod-protected/HLSL30.020/HLS.L30.T15RYP.2023276T163211.v2.0/HLS.L30.T15RYP.2023276T163211.v2.0.B04.tif', 'https://data.lpdaac.earthdatacloud.nasa.gov/lp-prod-protected/HLSL30.020/HLS.L30.T15RYP.2023276T163211.v2.0/HLS.L30.T15RYP.2023276T163211.v2.0.Fmask.tif'],\n",
              " Collection: {'EntryTitle': 'HLS Landsat Operational Land Imager Surface Reflectance and TOA Brightness Daily Global 30m v2.0'}\n",
              " Spatial coverage: {'HorizontalSpatialDomain': {'Geometry': {'GPolygons': [{'Boundary': {'Points': [{'Longitude': -90.07372506, 'Latitude': 28.80444525}, {'Longitude': -89.53235937, 'Latitude': 28.81623702}, {'Longitude': -89.26504439, 'Latitude': 29.81104803}, {'Longitude': -90.10353675, 'Latitude': 29.79400715}, {'Longitude': -90.07372506, 'Latitude': 28.80444525}]}}]}}}\n",
              " Temporal coverage: {'RangeDateTime': {'BeginningDateTime': '2023-10-03T16:32:11.664Z', 'EndingDateTime': '2023-10-03T16:32:35.555Z'}}\n",
              " Size(MB): 98.59119033813477\n",
              " Data: ['https://data.lpdaac.earthdatacloud.nasa.gov/lp-prod-protected/HLSL30.020/HLS.L30.T16RBT.2023276T163211.v2.0/HLS.L30.T16RBT.2023276T163211.v2.0.B04.tif', 'https://data.lpdaac.earthdatacloud.nasa.gov/lp-prod-protected/HLSL30.020/HLS.L30.T16RBT.2023276T163211.v2.0/HLS.L30.T16RBT.2023276T163211.v2.0.VZA.tif', 'https://data.lpdaac.earthdatacloud.nasa.gov/lp-prod-protected/HLSL30.020/HLS.L30.T16RBT.2023276T163211.v2.0/HLS.L30.T16RBT.2023276T163211.v2.0.B02.tif', 'https://data.lpdaac.earthdatacloud.nasa.gov/lp-prod-protected/HLSL30.020/HLS.L30.T16RBT.2023276T163211.v2.0/HLS.L30.T16RBT.2023276T163211.v2.0.VAA.tif', 'https://data.lpdaac.earthdatacloud.nasa.gov/lp-prod-protected/HLSL30.020/HLS.L30.T16RBT.2023276T163211.v2.0/HLS.L30.T16RBT.2023276T163211.v2.0.SZA.tif', 'https://data.lpdaac.earthdatacloud.nasa.gov/lp-prod-protected/HLSL30.020/HLS.L30.T16RBT.2023276T163211.v2.0/HLS.L30.T16RBT.2023276T163211.v2.0.B01.tif', 'https://data.lpdaac.earthdatacloud.nasa.gov/lp-prod-protected/HLSL30.020/HLS.L30.T16RBT.2023276T163211.v2.0/HLS.L30.T16RBT.2023276T163211.v2.0.B03.tif', 'https://data.lpdaac.earthdatacloud.nasa.gov/lp-prod-protected/HLSL30.020/HLS.L30.T16RBT.2023276T163211.v2.0/HLS.L30.T16RBT.2023276T163211.v2.0.B05.tif', 'https://data.lpdaac.earthdatacloud.nasa.gov/lp-prod-protected/HLSL30.020/HLS.L30.T16RBT.2023276T163211.v2.0/HLS.L30.T16RBT.2023276T163211.v2.0.B06.tif', 'https://data.lpdaac.earthdatacloud.nasa.gov/lp-prod-protected/HLSL30.020/HLS.L30.T16RBT.2023276T163211.v2.0/HLS.L30.T16RBT.2023276T163211.v2.0.B10.tif', 'https://data.lpdaac.earthdatacloud.nasa.gov/lp-prod-protected/HLSL30.020/HLS.L30.T16RBT.2023276T163211.v2.0/HLS.L30.T16RBT.2023276T163211.v2.0.B11.tif', 'https://data.lpdaac.earthdatacloud.nasa.gov/lp-prod-protected/HLSL30.020/HLS.L30.T16RBT.2023276T163211.v2.0/HLS.L30.T16RBT.2023276T163211.v2.0.SAA.tif', 'https://data.lpdaac.earthdatacloud.nasa.gov/lp-prod-protected/HLSL30.020/HLS.L30.T16RBT.2023276T163211.v2.0/HLS.L30.T16RBT.2023276T163211.v2.0.B09.tif', 'https://data.lpdaac.earthdatacloud.nasa.gov/lp-prod-protected/HLSL30.020/HLS.L30.T16RBT.2023276T163211.v2.0/HLS.L30.T16RBT.2023276T163211.v2.0.B07.tif', 'https://data.lpdaac.earthdatacloud.nasa.gov/lp-prod-protected/HLSL30.020/HLS.L30.T16RBT.2023276T163211.v2.0/HLS.L30.T16RBT.2023276T163211.v2.0.Fmask.tif'],\n",
              " Collection: {'EntryTitle': 'HLS Landsat Operational Land Imager Surface Reflectance and TOA Brightness Daily Global 30m v2.0'}\n",
              " Spatial coverage: {'HorizontalSpatialDomain': {'Geometry': {'GPolygons': [{'Boundary': {'Points': [{'Longitude': -89.82661214, 'Latitude': 28.80213717}, {'Longitude': -89.79645761, 'Latitude': 29.79161925}, {'Longitude': -90.93082361, 'Latitude': 29.81426153}, {'Longitude': -90.95072084, 'Latitude': 28.82389994}, {'Longitude': -89.82661214, 'Latitude': 28.80213717}]}}]}}}\n",
              " Temporal coverage: {'RangeDateTime': {'BeginningDateTime': '2023-10-03T16:32:11.664Z', 'EndingDateTime': '2023-10-03T16:32:35.555Z'}}\n",
              " Size(MB): 182.3168239593506\n",
              " Data: ['https://data.lpdaac.earthdatacloud.nasa.gov/lp-prod-protected/HLSL30.020/HLS.L30.T15RYN.2023276T163211.v2.0/HLS.L30.T15RYN.2023276T163211.v2.0.Fmask.tif', 'https://data.lpdaac.earthdatacloud.nasa.gov/lp-prod-protected/HLSL30.020/HLS.L30.T15RYN.2023276T163211.v2.0/HLS.L30.T15RYN.2023276T163211.v2.0.SZA.tif', 'https://data.lpdaac.earthdatacloud.nasa.gov/lp-prod-protected/HLSL30.020/HLS.L30.T15RYN.2023276T163211.v2.0/HLS.L30.T15RYN.2023276T163211.v2.0.B02.tif', 'https://data.lpdaac.earthdatacloud.nasa.gov/lp-prod-protected/HLSL30.020/HLS.L30.T15RYN.2023276T163211.v2.0/HLS.L30.T15RYN.2023276T163211.v2.0.B11.tif', 'https://data.lpdaac.earthdatacloud.nasa.gov/lp-prod-protected/HLSL30.020/HLS.L30.T15RYN.2023276T163211.v2.0/HLS.L30.T15RYN.2023276T163211.v2.0.B01.tif', 'https://data.lpdaac.earthdatacloud.nasa.gov/lp-prod-protected/HLSL30.020/HLS.L30.T15RYN.2023276T163211.v2.0/HLS.L30.T15RYN.2023276T163211.v2.0.VAA.tif', 'https://data.lpdaac.earthdatacloud.nasa.gov/lp-prod-protected/HLSL30.020/HLS.L30.T15RYN.2023276T163211.v2.0/HLS.L30.T15RYN.2023276T163211.v2.0.B05.tif', 'https://data.lpdaac.earthdatacloud.nasa.gov/lp-prod-protected/HLSL30.020/HLS.L30.T15RYN.2023276T163211.v2.0/HLS.L30.T15RYN.2023276T163211.v2.0.B10.tif', 'https://data.lpdaac.earthdatacloud.nasa.gov/lp-prod-protected/HLSL30.020/HLS.L30.T15RYN.2023276T163211.v2.0/HLS.L30.T15RYN.2023276T163211.v2.0.SAA.tif', 'https://data.lpdaac.earthdatacloud.nasa.gov/lp-prod-protected/HLSL30.020/HLS.L30.T15RYN.2023276T163211.v2.0/HLS.L30.T15RYN.2023276T163211.v2.0.VZA.tif', 'https://data.lpdaac.earthdatacloud.nasa.gov/lp-prod-protected/HLSL30.020/HLS.L30.T15RYN.2023276T163211.v2.0/HLS.L30.T15RYN.2023276T163211.v2.0.B07.tif', 'https://data.lpdaac.earthdatacloud.nasa.gov/lp-prod-protected/HLSL30.020/HLS.L30.T15RYN.2023276T163211.v2.0/HLS.L30.T15RYN.2023276T163211.v2.0.B09.tif', 'https://data.lpdaac.earthdatacloud.nasa.gov/lp-prod-protected/HLSL30.020/HLS.L30.T15RYN.2023276T163211.v2.0/HLS.L30.T15RYN.2023276T163211.v2.0.B04.tif', 'https://data.lpdaac.earthdatacloud.nasa.gov/lp-prod-protected/HLSL30.020/HLS.L30.T15RYN.2023276T163211.v2.0/HLS.L30.T15RYN.2023276T163211.v2.0.B03.tif', 'https://data.lpdaac.earthdatacloud.nasa.gov/lp-prod-protected/HLSL30.020/HLS.L30.T15RYN.2023276T163211.v2.0/HLS.L30.T15RYN.2023276T163211.v2.0.B06.tif'],\n",
              " Collection: {'EntryTitle': 'HLS Landsat Operational Land Imager Surface Reflectance and TOA Brightness Daily Global 30m v2.0'}\n",
              " Spatial coverage: {'HorizontalSpatialDomain': {'Geometry': {'GPolygons': [{'Boundary': {'Points': [{'Longitude': -90.07372506, 'Latitude': 28.80444525}, {'Longitude': -89.55846143, 'Latitude': 28.8154738}, {'Longitude': -89.29110253, 'Latitude': 29.81059862}, {'Longitude': -90.10353675, 'Latitude': 29.79400715}, {'Longitude': -90.07372506, 'Latitude': 28.80444525}]}}]}}}\n",
              " Temporal coverage: {'RangeDateTime': {'BeginningDateTime': '2023-10-19T16:32:21.176Z', 'EndingDateTime': '2023-10-19T16:32:45.079Z'}}\n",
              " Size(MB): 102.54698371887207\n",
              " Data: ['https://data.lpdaac.earthdatacloud.nasa.gov/lp-prod-protected/HLSL30.020/HLS.L30.T16RBT.2023292T163221.v2.0/HLS.L30.T16RBT.2023292T163221.v2.0.B10.tif', 'https://data.lpdaac.earthdatacloud.nasa.gov/lp-prod-protected/HLSL30.020/HLS.L30.T16RBT.2023292T163221.v2.0/HLS.L30.T16RBT.2023292T163221.v2.0.B02.tif', 'https://data.lpdaac.earthdatacloud.nasa.gov/lp-prod-protected/HLSL30.020/HLS.L30.T16RBT.2023292T163221.v2.0/HLS.L30.T16RBT.2023292T163221.v2.0.B07.tif', 'https://data.lpdaac.earthdatacloud.nasa.gov/lp-prod-protected/HLSL30.020/HLS.L30.T16RBT.2023292T163221.v2.0/HLS.L30.T16RBT.2023292T163221.v2.0.B06.tif', 'https://data.lpdaac.earthdatacloud.nasa.gov/lp-prod-protected/HLSL30.020/HLS.L30.T16RBT.2023292T163221.v2.0/HLS.L30.T16RBT.2023292T163221.v2.0.SZA.tif', 'https://data.lpdaac.earthdatacloud.nasa.gov/lp-prod-protected/HLSL30.020/HLS.L30.T16RBT.2023292T163221.v2.0/HLS.L30.T16RBT.2023292T163221.v2.0.VZA.tif', 'https://data.lpdaac.earthdatacloud.nasa.gov/lp-prod-protected/HLSL30.020/HLS.L30.T16RBT.2023292T163221.v2.0/HLS.L30.T16RBT.2023292T163221.v2.0.B03.tif', 'https://data.lpdaac.earthdatacloud.nasa.gov/lp-prod-protected/HLSL30.020/HLS.L30.T16RBT.2023292T163221.v2.0/HLS.L30.T16RBT.2023292T163221.v2.0.B01.tif', 'https://data.lpdaac.earthdatacloud.nasa.gov/lp-prod-protected/HLSL30.020/HLS.L30.T16RBT.2023292T163221.v2.0/HLS.L30.T16RBT.2023292T163221.v2.0.B09.tif', 'https://data.lpdaac.earthdatacloud.nasa.gov/lp-prod-protected/HLSL30.020/HLS.L30.T16RBT.2023292T163221.v2.0/HLS.L30.T16RBT.2023292T163221.v2.0.B11.tif', 'https://data.lpdaac.earthdatacloud.nasa.gov/lp-prod-protected/HLSL30.020/HLS.L30.T16RBT.2023292T163221.v2.0/HLS.L30.T16RBT.2023292T163221.v2.0.Fmask.tif', 'https://data.lpdaac.earthdatacloud.nasa.gov/lp-prod-protected/HLSL30.020/HLS.L30.T16RBT.2023292T163221.v2.0/HLS.L30.T16RBT.2023292T163221.v2.0.B05.tif', 'https://data.lpdaac.earthdatacloud.nasa.gov/lp-prod-protected/HLSL30.020/HLS.L30.T16RBT.2023292T163221.v2.0/HLS.L30.T16RBT.2023292T163221.v2.0.SAA.tif', 'https://data.lpdaac.earthdatacloud.nasa.gov/lp-prod-protected/HLSL30.020/HLS.L30.T16RBT.2023292T163221.v2.0/HLS.L30.T16RBT.2023292T163221.v2.0.B04.tif', 'https://data.lpdaac.earthdatacloud.nasa.gov/lp-prod-protected/HLSL30.020/HLS.L30.T16RBT.2023292T163221.v2.0/HLS.L30.T16RBT.2023292T163221.v2.0.VAA.tif'],\n",
              " Collection: {'EntryTitle': 'HLS Landsat Operational Land Imager Surface Reflectance and TOA Brightness Daily Global 30m v2.0'}\n",
              " Spatial coverage: {'HorizontalSpatialDomain': {'Geometry': {'GPolygons': [{'Boundary': {'Points': [{'Longitude': -89.82661214, 'Latitude': 28.80213717}, {'Longitude': -89.79583778, 'Latitude': 29.79160422}, {'Longitude': -90.93082361, 'Latitude': 29.81426153}, {'Longitude': -90.95072084, 'Latitude': 28.82389994}, {'Longitude': -89.82661214, 'Latitude': 28.80213717}]}}]}}}\n",
              " Temporal coverage: {'RangeDateTime': {'BeginningDateTime': '2023-10-19T16:32:21.176Z', 'EndingDateTime': '2023-10-19T16:32:45.079Z'}}\n",
              " Size(MB): 175.87995624542236\n",
              " Data: ['https://data.lpdaac.earthdatacloud.nasa.gov/lp-prod-protected/HLSL30.020/HLS.L30.T15RYN.2023292T163221.v2.0/HLS.L30.T15RYN.2023292T163221.v2.0.VAA.tif', 'https://data.lpdaac.earthdatacloud.nasa.gov/lp-prod-protected/HLSL30.020/HLS.L30.T15RYN.2023292T163221.v2.0/HLS.L30.T15RYN.2023292T163221.v2.0.B03.tif', 'https://data.lpdaac.earthdatacloud.nasa.gov/lp-prod-protected/HLSL30.020/HLS.L30.T15RYN.2023292T163221.v2.0/HLS.L30.T15RYN.2023292T163221.v2.0.B02.tif', 'https://data.lpdaac.earthdatacloud.nasa.gov/lp-prod-protected/HLSL30.020/HLS.L30.T15RYN.2023292T163221.v2.0/HLS.L30.T15RYN.2023292T163221.v2.0.B06.tif', 'https://data.lpdaac.earthdatacloud.nasa.gov/lp-prod-protected/HLSL30.020/HLS.L30.T15RYN.2023292T163221.v2.0/HLS.L30.T15RYN.2023292T163221.v2.0.SZA.tif', 'https://data.lpdaac.earthdatacloud.nasa.gov/lp-prod-protected/HLSL30.020/HLS.L30.T15RYN.2023292T163221.v2.0/HLS.L30.T15RYN.2023292T163221.v2.0.Fmask.tif', 'https://data.lpdaac.earthdatacloud.nasa.gov/lp-prod-protected/HLSL30.020/HLS.L30.T15RYN.2023292T163221.v2.0/HLS.L30.T15RYN.2023292T163221.v2.0.B09.tif', 'https://data.lpdaac.earthdatacloud.nasa.gov/lp-prod-protected/HLSL30.020/HLS.L30.T15RYN.2023292T163221.v2.0/HLS.L30.T15RYN.2023292T163221.v2.0.B07.tif', 'https://data.lpdaac.earthdatacloud.nasa.gov/lp-prod-protected/HLSL30.020/HLS.L30.T15RYN.2023292T163221.v2.0/HLS.L30.T15RYN.2023292T163221.v2.0.B11.tif', 'https://data.lpdaac.earthdatacloud.nasa.gov/lp-prod-protected/HLSL30.020/HLS.L30.T15RYN.2023292T163221.v2.0/HLS.L30.T15RYN.2023292T163221.v2.0.B04.tif', 'https://data.lpdaac.earthdatacloud.nasa.gov/lp-prod-protected/HLSL30.020/HLS.L30.T15RYN.2023292T163221.v2.0/HLS.L30.T15RYN.2023292T163221.v2.0.B10.tif', 'https://data.lpdaac.earthdatacloud.nasa.gov/lp-prod-protected/HLSL30.020/HLS.L30.T15RYN.2023292T163221.v2.0/HLS.L30.T15RYN.2023292T163221.v2.0.SAA.tif', 'https://data.lpdaac.earthdatacloud.nasa.gov/lp-prod-protected/HLSL30.020/HLS.L30.T15RYN.2023292T163221.v2.0/HLS.L30.T15RYN.2023292T163221.v2.0.VZA.tif', 'https://data.lpdaac.earthdatacloud.nasa.gov/lp-prod-protected/HLSL30.020/HLS.L30.T15RYN.2023292T163221.v2.0/HLS.L30.T15RYN.2023292T163221.v2.0.B01.tif', 'https://data.lpdaac.earthdatacloud.nasa.gov/lp-prod-protected/HLSL30.020/HLS.L30.T15RYN.2023292T163221.v2.0/HLS.L30.T15RYN.2023292T163221.v2.0.B05.tif'],\n",
              " Collection: {'EntryTitle': 'HLS Landsat Operational Land Imager Surface Reflectance and TOA Brightness Daily Global 30m v2.0'}\n",
              " Spatial coverage: {'HorizontalSpatialDomain': {'Geometry': {'GPolygons': [{'Boundary': {'Points': [{'Longitude': -89.79864173, 'Latitude': 29.70347853}, {'Longitude': -89.76643746, 'Latitude': 30.69278312}, {'Longitude': -90.91181412, 'Latitude': 30.71627038}, {'Longitude': -90.93263654, 'Latitude': 29.72605548}, {'Longitude': -89.79864173, 'Latitude': 29.70347853}]}}]}}}\n",
              " Temporal coverage: {'RangeDateTime': {'BeginningDateTime': '2023-10-19T16:32:21.176Z', 'EndingDateTime': '2023-10-19T16:32:21.176Z'}}\n",
              " Size(MB): 185.59304237365723\n",
              " Data: ['https://data.lpdaac.earthdatacloud.nasa.gov/lp-prod-protected/HLSL30.020/HLS.L30.T15RYP.2023292T163221.v2.0/HLS.L30.T15RYP.2023292T163221.v2.0.B10.tif', 'https://data.lpdaac.earthdatacloud.nasa.gov/lp-prod-protected/HLSL30.020/HLS.L30.T15RYP.2023292T163221.v2.0/HLS.L30.T15RYP.2023292T163221.v2.0.B11.tif', 'https://data.lpdaac.earthdatacloud.nasa.gov/lp-prod-protected/HLSL30.020/HLS.L30.T15RYP.2023292T163221.v2.0/HLS.L30.T15RYP.2023292T163221.v2.0.B07.tif', 'https://data.lpdaac.earthdatacloud.nasa.gov/lp-prod-protected/HLSL30.020/HLS.L30.T15RYP.2023292T163221.v2.0/HLS.L30.T15RYP.2023292T163221.v2.0.Fmask.tif', 'https://data.lpdaac.earthdatacloud.nasa.gov/lp-prod-protected/HLSL30.020/HLS.L30.T15RYP.2023292T163221.v2.0/HLS.L30.T15RYP.2023292T163221.v2.0.SZA.tif', 'https://data.lpdaac.earthdatacloud.nasa.gov/lp-prod-protected/HLSL30.020/HLS.L30.T15RYP.2023292T163221.v2.0/HLS.L30.T15RYP.2023292T163221.v2.0.B05.tif', 'https://data.lpdaac.earthdatacloud.nasa.gov/lp-prod-protected/HLSL30.020/HLS.L30.T15RYP.2023292T163221.v2.0/HLS.L30.T15RYP.2023292T163221.v2.0.SAA.tif', 'https://data.lpdaac.earthdatacloud.nasa.gov/lp-prod-protected/HLSL30.020/HLS.L30.T15RYP.2023292T163221.v2.0/HLS.L30.T15RYP.2023292T163221.v2.0.VZA.tif', 'https://data.lpdaac.earthdatacloud.nasa.gov/lp-prod-protected/HLSL30.020/HLS.L30.T15RYP.2023292T163221.v2.0/HLS.L30.T15RYP.2023292T163221.v2.0.B06.tif', 'https://data.lpdaac.earthdatacloud.nasa.gov/lp-prod-protected/HLSL30.020/HLS.L30.T15RYP.2023292T163221.v2.0/HLS.L30.T15RYP.2023292T163221.v2.0.VAA.tif', 'https://data.lpdaac.earthdatacloud.nasa.gov/lp-prod-protected/HLSL30.020/HLS.L30.T15RYP.2023292T163221.v2.0/HLS.L30.T15RYP.2023292T163221.v2.0.B03.tif', 'https://data.lpdaac.earthdatacloud.nasa.gov/lp-prod-protected/HLSL30.020/HLS.L30.T15RYP.2023292T163221.v2.0/HLS.L30.T15RYP.2023292T163221.v2.0.B09.tif', 'https://data.lpdaac.earthdatacloud.nasa.gov/lp-prod-protected/HLSL30.020/HLS.L30.T15RYP.2023292T163221.v2.0/HLS.L30.T15RYP.2023292T163221.v2.0.B04.tif', 'https://data.lpdaac.earthdatacloud.nasa.gov/lp-prod-protected/HLSL30.020/HLS.L30.T15RYP.2023292T163221.v2.0/HLS.L30.T15RYP.2023292T163221.v2.0.B01.tif', 'https://data.lpdaac.earthdatacloud.nasa.gov/lp-prod-protected/HLSL30.020/HLS.L30.T15RYP.2023292T163221.v2.0/HLS.L30.T15RYP.2023292T163221.v2.0.B02.tif'],\n",
              " Collection: {'EntryTitle': 'HLS Landsat Operational Land Imager Surface Reflectance and TOA Brightness Daily Global 30m v2.0'}\n",
              " Spatial coverage: {'HorizontalSpatialDomain': {'Geometry': {'GPolygons': [{'Boundary': {'Points': [{'Longitude': -90.10082051, 'Latitude': 29.70587294}, {'Longitude': -89.31482661, 'Latitude': 29.72222857}, {'Longitude': -89.04414025, 'Latitude': 30.71697165}, {'Longitude': -90.13201749, 'Latitude': 30.69527405}, {'Longitude': -90.10082051, 'Latitude': 29.70587294}]}}]}}}\n",
              " Temporal coverage: {'RangeDateTime': {'BeginningDateTime': '2023-10-19T16:32:21.176Z', 'EndingDateTime': '2023-10-19T16:32:21.176Z'}}\n",
              " Size(MB): 156.73394966125488\n",
              " Data: ['https://data.lpdaac.earthdatacloud.nasa.gov/lp-prod-protected/HLSL30.020/HLS.L30.T16RBU.2023292T163221.v2.0/HLS.L30.T16RBU.2023292T163221.v2.0.B09.tif', 'https://data.lpdaac.earthdatacloud.nasa.gov/lp-prod-protected/HLSL30.020/HLS.L30.T16RBU.2023292T163221.v2.0/HLS.L30.T16RBU.2023292T163221.v2.0.B04.tif', 'https://data.lpdaac.earthdatacloud.nasa.gov/lp-prod-protected/HLSL30.020/HLS.L30.T16RBU.2023292T163221.v2.0/HLS.L30.T16RBU.2023292T163221.v2.0.VZA.tif', 'https://data.lpdaac.earthdatacloud.nasa.gov/lp-prod-protected/HLSL30.020/HLS.L30.T16RBU.2023292T163221.v2.0/HLS.L30.T16RBU.2023292T163221.v2.0.VAA.tif', 'https://data.lpdaac.earthdatacloud.nasa.gov/lp-prod-protected/HLSL30.020/HLS.L30.T16RBU.2023292T163221.v2.0/HLS.L30.T16RBU.2023292T163221.v2.0.B10.tif', 'https://data.lpdaac.earthdatacloud.nasa.gov/lp-prod-protected/HLSL30.020/HLS.L30.T16RBU.2023292T163221.v2.0/HLS.L30.T16RBU.2023292T163221.v2.0.B01.tif', 'https://data.lpdaac.earthdatacloud.nasa.gov/lp-prod-protected/HLSL30.020/HLS.L30.T16RBU.2023292T163221.v2.0/HLS.L30.T16RBU.2023292T163221.v2.0.B11.tif', 'https://data.lpdaac.earthdatacloud.nasa.gov/lp-prod-protected/HLSL30.020/HLS.L30.T16RBU.2023292T163221.v2.0/HLS.L30.T16RBU.2023292T163221.v2.0.B05.tif', 'https://data.lpdaac.earthdatacloud.nasa.gov/lp-prod-protected/HLSL30.020/HLS.L30.T16RBU.2023292T163221.v2.0/HLS.L30.T16RBU.2023292T163221.v2.0.SZA.tif', 'https://data.lpdaac.earthdatacloud.nasa.gov/lp-prod-protected/HLSL30.020/HLS.L30.T16RBU.2023292T163221.v2.0/HLS.L30.T16RBU.2023292T163221.v2.0.B03.tif', 'https://data.lpdaac.earthdatacloud.nasa.gov/lp-prod-protected/HLSL30.020/HLS.L30.T16RBU.2023292T163221.v2.0/HLS.L30.T16RBU.2023292T163221.v2.0.B02.tif', 'https://data.lpdaac.earthdatacloud.nasa.gov/lp-prod-protected/HLSL30.020/HLS.L30.T16RBU.2023292T163221.v2.0/HLS.L30.T16RBU.2023292T163221.v2.0.Fmask.tif', 'https://data.lpdaac.earthdatacloud.nasa.gov/lp-prod-protected/HLSL30.020/HLS.L30.T16RBU.2023292T163221.v2.0/HLS.L30.T16RBU.2023292T163221.v2.0.B06.tif', 'https://data.lpdaac.earthdatacloud.nasa.gov/lp-prod-protected/HLSL30.020/HLS.L30.T16RBU.2023292T163221.v2.0/HLS.L30.T16RBU.2023292T163221.v2.0.SAA.tif', 'https://data.lpdaac.earthdatacloud.nasa.gov/lp-prod-protected/HLSL30.020/HLS.L30.T16RBU.2023292T163221.v2.0/HLS.L30.T16RBU.2023292T163221.v2.0.B07.tif'],\n",
              " Collection: {'EntryTitle': 'HLS Landsat Operational Land Imager Surface Reflectance and TOA Brightness Daily Global 30m v2.0'}\n",
              " Spatial coverage: {'HorizontalSpatialDomain': {'Geometry': {'GPolygons': [{'Boundary': {'Points': [{'Longitude': -90.10082051, 'Latitude': 29.70587294}, {'Longitude': -89.30583226, 'Latitude': 29.72211497}, {'Longitude': -89.03474643, 'Latitude': 30.71711928}, {'Longitude': -90.13201749, 'Latitude': 30.69527405}, {'Longitude': -90.10082051, 'Latitude': 29.70587294}]}}]}}}\n",
              " Temporal coverage: {'RangeDateTime': {'BeginningDateTime': '2023-10-27T16:32:18.830Z', 'EndingDateTime': '2023-10-27T16:32:18.830Z'}}\n",
              " Size(MB): 145.32837009429932\n",
              " Data: ['https://data.lpdaac.earthdatacloud.nasa.gov/lp-prod-protected/HLSL30.020/HLS.L30.T16RBU.2023300T163218.v2.0/HLS.L30.T16RBU.2023300T163218.v2.0.B04.tif', 'https://data.lpdaac.earthdatacloud.nasa.gov/lp-prod-protected/HLSL30.020/HLS.L30.T16RBU.2023300T163218.v2.0/HLS.L30.T16RBU.2023300T163218.v2.0.B10.tif', 'https://data.lpdaac.earthdatacloud.nasa.gov/lp-prod-protected/HLSL30.020/HLS.L30.T16RBU.2023300T163218.v2.0/HLS.L30.T16RBU.2023300T163218.v2.0.SZA.tif', 'https://data.lpdaac.earthdatacloud.nasa.gov/lp-prod-protected/HLSL30.020/HLS.L30.T16RBU.2023300T163218.v2.0/HLS.L30.T16RBU.2023300T163218.v2.0.VAA.tif', 'https://data.lpdaac.earthdatacloud.nasa.gov/lp-prod-protected/HLSL30.020/HLS.L30.T16RBU.2023300T163218.v2.0/HLS.L30.T16RBU.2023300T163218.v2.0.VZA.tif', 'https://data.lpdaac.earthdatacloud.nasa.gov/lp-prod-protected/HLSL30.020/HLS.L30.T16RBU.2023300T163218.v2.0/HLS.L30.T16RBU.2023300T163218.v2.0.SAA.tif', 'https://data.lpdaac.earthdatacloud.nasa.gov/lp-prod-protected/HLSL30.020/HLS.L30.T16RBU.2023300T163218.v2.0/HLS.L30.T16RBU.2023300T163218.v2.0.B09.tif', 'https://data.lpdaac.earthdatacloud.nasa.gov/lp-prod-protected/HLSL30.020/HLS.L30.T16RBU.2023300T163218.v2.0/HLS.L30.T16RBU.2023300T163218.v2.0.B07.tif', 'https://data.lpdaac.earthdatacloud.nasa.gov/lp-prod-protected/HLSL30.020/HLS.L30.T16RBU.2023300T163218.v2.0/HLS.L30.T16RBU.2023300T163218.v2.0.B03.tif', 'https://data.lpdaac.earthdatacloud.nasa.gov/lp-prod-protected/HLSL30.020/HLS.L30.T16RBU.2023300T163218.v2.0/HLS.L30.T16RBU.2023300T163218.v2.0.B05.tif', 'https://data.lpdaac.earthdatacloud.nasa.gov/lp-prod-protected/HLSL30.020/HLS.L30.T16RBU.2023300T163218.v2.0/HLS.L30.T16RBU.2023300T163218.v2.0.Fmask.tif', 'https://data.lpdaac.earthdatacloud.nasa.gov/lp-prod-protected/HLSL30.020/HLS.L30.T16RBU.2023300T163218.v2.0/HLS.L30.T16RBU.2023300T163218.v2.0.B11.tif', 'https://data.lpdaac.earthdatacloud.nasa.gov/lp-prod-protected/HLSL30.020/HLS.L30.T16RBU.2023300T163218.v2.0/HLS.L30.T16RBU.2023300T163218.v2.0.B01.tif', 'https://data.lpdaac.earthdatacloud.nasa.gov/lp-prod-protected/HLSL30.020/HLS.L30.T16RBU.2023300T163218.v2.0/HLS.L30.T16RBU.2023300T163218.v2.0.B02.tif', 'https://data.lpdaac.earthdatacloud.nasa.gov/lp-prod-protected/HLSL30.020/HLS.L30.T16RBU.2023300T163218.v2.0/HLS.L30.T16RBU.2023300T163218.v2.0.B06.tif'],\n",
              " Collection: {'EntryTitle': 'HLS Landsat Operational Land Imager Surface Reflectance and TOA Brightness Daily Global 30m v2.0'}\n",
              " Spatial coverage: {'HorizontalSpatialDomain': {'Geometry': {'GPolygons': [{'Boundary': {'Points': [{'Longitude': -89.82661214, 'Latitude': 28.80213717}, {'Longitude': -89.79583778, 'Latitude': 29.79160422}, {'Longitude': -90.93082361, 'Latitude': 29.81426153}, {'Longitude': -90.95072084, 'Latitude': 28.82389994}, {'Longitude': -89.82661214, 'Latitude': 28.80213717}]}}]}}}\n",
              " Temporal coverage: {'RangeDateTime': {'BeginningDateTime': '2023-10-27T16:32:18.830Z', 'EndingDateTime': '2023-10-27T16:32:42.725Z'}}\n",
              " Size(MB): 186.02645683288574\n",
              " Data: ['https://data.lpdaac.earthdatacloud.nasa.gov/lp-prod-protected/HLSL30.020/HLS.L30.T15RYN.2023300T163218.v2.0/HLS.L30.T15RYN.2023300T163218.v2.0.Fmask.tif', 'https://data.lpdaac.earthdatacloud.nasa.gov/lp-prod-protected/HLSL30.020/HLS.L30.T15RYN.2023300T163218.v2.0/HLS.L30.T15RYN.2023300T163218.v2.0.B05.tif', 'https://data.lpdaac.earthdatacloud.nasa.gov/lp-prod-protected/HLSL30.020/HLS.L30.T15RYN.2023300T163218.v2.0/HLS.L30.T15RYN.2023300T163218.v2.0.VAA.tif', 'https://data.lpdaac.earthdatacloud.nasa.gov/lp-prod-protected/HLSL30.020/HLS.L30.T15RYN.2023300T163218.v2.0/HLS.L30.T15RYN.2023300T163218.v2.0.B06.tif', 'https://data.lpdaac.earthdatacloud.nasa.gov/lp-prod-protected/HLSL30.020/HLS.L30.T15RYN.2023300T163218.v2.0/HLS.L30.T15RYN.2023300T163218.v2.0.B03.tif', 'https://data.lpdaac.earthdatacloud.nasa.gov/lp-prod-protected/HLSL30.020/HLS.L30.T15RYN.2023300T163218.v2.0/HLS.L30.T15RYN.2023300T163218.v2.0.B09.tif', 'https://data.lpdaac.earthdatacloud.nasa.gov/lp-prod-protected/HLSL30.020/HLS.L30.T15RYN.2023300T163218.v2.0/HLS.L30.T15RYN.2023300T163218.v2.0.B10.tif', 'https://data.lpdaac.earthdatacloud.nasa.gov/lp-prod-protected/HLSL30.020/HLS.L30.T15RYN.2023300T163218.v2.0/HLS.L30.T15RYN.2023300T163218.v2.0.B11.tif', 'https://data.lpdaac.earthdatacloud.nasa.gov/lp-prod-protected/HLSL30.020/HLS.L30.T15RYN.2023300T163218.v2.0/HLS.L30.T15RYN.2023300T163218.v2.0.B02.tif', 'https://data.lpdaac.earthdatacloud.nasa.gov/lp-prod-protected/HLSL30.020/HLS.L30.T15RYN.2023300T163218.v2.0/HLS.L30.T15RYN.2023300T163218.v2.0.B01.tif', 'https://data.lpdaac.earthdatacloud.nasa.gov/lp-prod-protected/HLSL30.020/HLS.L30.T15RYN.2023300T163218.v2.0/HLS.L30.T15RYN.2023300T163218.v2.0.VZA.tif', 'https://data.lpdaac.earthdatacloud.nasa.gov/lp-prod-protected/HLSL30.020/HLS.L30.T15RYN.2023300T163218.v2.0/HLS.L30.T15RYN.2023300T163218.v2.0.B04.tif', 'https://data.lpdaac.earthdatacloud.nasa.gov/lp-prod-protected/HLSL30.020/HLS.L30.T15RYN.2023300T163218.v2.0/HLS.L30.T15RYN.2023300T163218.v2.0.SAA.tif', 'https://data.lpdaac.earthdatacloud.nasa.gov/lp-prod-protected/HLSL30.020/HLS.L30.T15RYN.2023300T163218.v2.0/HLS.L30.T15RYN.2023300T163218.v2.0.SZA.tif', 'https://data.lpdaac.earthdatacloud.nasa.gov/lp-prod-protected/HLSL30.020/HLS.L30.T15RYN.2023300T163218.v2.0/HLS.L30.T15RYN.2023300T163218.v2.0.B07.tif'],\n",
              " Collection: {'EntryTitle': 'HLS Landsat Operational Land Imager Surface Reflectance and TOA Brightness Daily Global 30m v2.0'}\n",
              " Spatial coverage: {'HorizontalSpatialDomain': {'Geometry': {'GPolygons': [{'Boundary': {'Points': [{'Longitude': -90.07372506, 'Latitude': 28.80444525}, {'Longitude': -89.54924011, 'Latitude': 28.81537775}, {'Longitude': -89.28179612, 'Latitude': 29.81075971}, {'Longitude': -90.10353675, 'Latitude': 29.79400715}, {'Longitude': -90.07372506, 'Latitude': 28.80444525}]}}]}}}\n",
              " Temporal coverage: {'RangeDateTime': {'BeginningDateTime': '2023-10-27T16:32:18.830Z', 'EndingDateTime': '2023-10-27T16:32:42.725Z'}}\n",
              " Size(MB): 97.14288330078125\n",
              " Data: ['https://data.lpdaac.earthdatacloud.nasa.gov/lp-prod-protected/HLSL30.020/HLS.L30.T16RBT.2023300T163218.v2.0/HLS.L30.T16RBT.2023300T163218.v2.0.VAA.tif', 'https://data.lpdaac.earthdatacloud.nasa.gov/lp-prod-protected/HLSL30.020/HLS.L30.T16RBT.2023300T163218.v2.0/HLS.L30.T16RBT.2023300T163218.v2.0.B05.tif', 'https://data.lpdaac.earthdatacloud.nasa.gov/lp-prod-protected/HLSL30.020/HLS.L30.T16RBT.2023300T163218.v2.0/HLS.L30.T16RBT.2023300T163218.v2.0.Fmask.tif', 'https://data.lpdaac.earthdatacloud.nasa.gov/lp-prod-protected/HLSL30.020/HLS.L30.T16RBT.2023300T163218.v2.0/HLS.L30.T16RBT.2023300T163218.v2.0.B04.tif', 'https://data.lpdaac.earthdatacloud.nasa.gov/lp-prod-protected/HLSL30.020/HLS.L30.T16RBT.2023300T163218.v2.0/HLS.L30.T16RBT.2023300T163218.v2.0.B06.tif', 'https://data.lpdaac.earthdatacloud.nasa.gov/lp-prod-protected/HLSL30.020/HLS.L30.T16RBT.2023300T163218.v2.0/HLS.L30.T16RBT.2023300T163218.v2.0.SAA.tif', 'https://data.lpdaac.earthdatacloud.nasa.gov/lp-prod-protected/HLSL30.020/HLS.L30.T16RBT.2023300T163218.v2.0/HLS.L30.T16RBT.2023300T163218.v2.0.B11.tif', 'https://data.lpdaac.earthdatacloud.nasa.gov/lp-prod-protected/HLSL30.020/HLS.L30.T16RBT.2023300T163218.v2.0/HLS.L30.T16RBT.2023300T163218.v2.0.VZA.tif', 'https://data.lpdaac.earthdatacloud.nasa.gov/lp-prod-protected/HLSL30.020/HLS.L30.T16RBT.2023300T163218.v2.0/HLS.L30.T16RBT.2023300T163218.v2.0.B01.tif', 'https://data.lpdaac.earthdatacloud.nasa.gov/lp-prod-protected/HLSL30.020/HLS.L30.T16RBT.2023300T163218.v2.0/HLS.L30.T16RBT.2023300T163218.v2.0.B02.tif', 'https://data.lpdaac.earthdatacloud.nasa.gov/lp-prod-protected/HLSL30.020/HLS.L30.T16RBT.2023300T163218.v2.0/HLS.L30.T16RBT.2023300T163218.v2.0.B09.tif', 'https://data.lpdaac.earthdatacloud.nasa.gov/lp-prod-protected/HLSL30.020/HLS.L30.T16RBT.2023300T163218.v2.0/HLS.L30.T16RBT.2023300T163218.v2.0.SZA.tif', 'https://data.lpdaac.earthdatacloud.nasa.gov/lp-prod-protected/HLSL30.020/HLS.L30.T16RBT.2023300T163218.v2.0/HLS.L30.T16RBT.2023300T163218.v2.0.B03.tif', 'https://data.lpdaac.earthdatacloud.nasa.gov/lp-prod-protected/HLSL30.020/HLS.L30.T16RBT.2023300T163218.v2.0/HLS.L30.T16RBT.2023300T163218.v2.0.B07.tif', 'https://data.lpdaac.earthdatacloud.nasa.gov/lp-prod-protected/HLSL30.020/HLS.L30.T16RBT.2023300T163218.v2.0/HLS.L30.T16RBT.2023300T163218.v2.0.B10.tif'],\n",
              " Collection: {'EntryTitle': 'HLS Landsat Operational Land Imager Surface Reflectance and TOA Brightness Daily Global 30m v2.0'}\n",
              " Spatial coverage: {'HorizontalSpatialDomain': {'Geometry': {'GPolygons': [{'Boundary': {'Points': [{'Longitude': -89.79864173, 'Latitude': 29.70347853}, {'Longitude': -89.76643746, 'Latitude': 30.69278312}, {'Longitude': -90.91181412, 'Latitude': 30.71627038}, {'Longitude': -90.93263654, 'Latitude': 29.72605548}, {'Longitude': -89.79864173, 'Latitude': 29.70347853}]}}]}}}\n",
              " Temporal coverage: {'RangeDateTime': {'BeginningDateTime': '2023-10-27T16:32:18.830Z', 'EndingDateTime': '2023-10-27T16:32:18.830Z'}}\n",
              " Size(MB): 185.03299140930176\n",
              " Data: ['https://data.lpdaac.earthdatacloud.nasa.gov/lp-prod-protected/HLSL30.020/HLS.L30.T15RYP.2023300T163218.v2.0/HLS.L30.T15RYP.2023300T163218.v2.0.Fmask.tif', 'https://data.lpdaac.earthdatacloud.nasa.gov/lp-prod-protected/HLSL30.020/HLS.L30.T15RYP.2023300T163218.v2.0/HLS.L30.T15RYP.2023300T163218.v2.0.SAA.tif', 'https://data.lpdaac.earthdatacloud.nasa.gov/lp-prod-protected/HLSL30.020/HLS.L30.T15RYP.2023300T163218.v2.0/HLS.L30.T15RYP.2023300T163218.v2.0.SZA.tif', 'https://data.lpdaac.earthdatacloud.nasa.gov/lp-prod-protected/HLSL30.020/HLS.L30.T15RYP.2023300T163218.v2.0/HLS.L30.T15RYP.2023300T163218.v2.0.B10.tif', 'https://data.lpdaac.earthdatacloud.nasa.gov/lp-prod-protected/HLSL30.020/HLS.L30.T15RYP.2023300T163218.v2.0/HLS.L30.T15RYP.2023300T163218.v2.0.VZA.tif', 'https://data.lpdaac.earthdatacloud.nasa.gov/lp-prod-protected/HLSL30.020/HLS.L30.T15RYP.2023300T163218.v2.0/HLS.L30.T15RYP.2023300T163218.v2.0.B11.tif', 'https://data.lpdaac.earthdatacloud.nasa.gov/lp-prod-protected/HLSL30.020/HLS.L30.T15RYP.2023300T163218.v2.0/HLS.L30.T15RYP.2023300T163218.v2.0.B07.tif', 'https://data.lpdaac.earthdatacloud.nasa.gov/lp-prod-protected/HLSL30.020/HLS.L30.T15RYP.2023300T163218.v2.0/HLS.L30.T15RYP.2023300T163218.v2.0.B01.tif', 'https://data.lpdaac.earthdatacloud.nasa.gov/lp-prod-protected/HLSL30.020/HLS.L30.T15RYP.2023300T163218.v2.0/HLS.L30.T15RYP.2023300T163218.v2.0.VAA.tif', 'https://data.lpdaac.earthdatacloud.nasa.gov/lp-prod-protected/HLSL30.020/HLS.L30.T15RYP.2023300T163218.v2.0/HLS.L30.T15RYP.2023300T163218.v2.0.B05.tif', 'https://data.lpdaac.earthdatacloud.nasa.gov/lp-prod-protected/HLSL30.020/HLS.L30.T15RYP.2023300T163218.v2.0/HLS.L30.T15RYP.2023300T163218.v2.0.B06.tif', 'https://data.lpdaac.earthdatacloud.nasa.gov/lp-prod-protected/HLSL30.020/HLS.L30.T15RYP.2023300T163218.v2.0/HLS.L30.T15RYP.2023300T163218.v2.0.B02.tif', 'https://data.lpdaac.earthdatacloud.nasa.gov/lp-prod-protected/HLSL30.020/HLS.L30.T15RYP.2023300T163218.v2.0/HLS.L30.T15RYP.2023300T163218.v2.0.B09.tif', 'https://data.lpdaac.earthdatacloud.nasa.gov/lp-prod-protected/HLSL30.020/HLS.L30.T15RYP.2023300T163218.v2.0/HLS.L30.T15RYP.2023300T163218.v2.0.B03.tif', 'https://data.lpdaac.earthdatacloud.nasa.gov/lp-prod-protected/HLSL30.020/HLS.L30.T15RYP.2023300T163218.v2.0/HLS.L30.T15RYP.2023300T163218.v2.0.B04.tif']]"
            ]
          },
          "execution_count": 10,
          "metadata": {},
          "output_type": "execute_result"
        }
      ],
      "source": [
        "# Search for HLS tiles\n",
        "wbd_hls_results = earthaccess.search_data(\n",
        "    # dataset short name\n",
        "    short_name='HLSL30',\n",
        "    cloud_hosted=True,\n",
        "    # the bounding box is the waterhsed boundary\n",
        "    bounding_box=tuple(wbd_gdf.total_bounds),\n",
        "    # temporal bounds from May - Oct 2023\n",
        "    temporal=('2023-05-01', '2023-10-31')\n",
        ")\n",
        "wbd_hls_results\n"
      ]
    },
    {
      "cell_type": "code",
      "execution_count": 11,
      "id": "bf637fc5",
      "metadata": {},
      "outputs": [
        {
          "data": {
            "text/html": [
              "<div>\n",
              "<style scoped>\n",
              "    .dataframe tbody tr th:only-of-type {\n",
              "        vertical-align: middle;\n",
              "    }\n",
              "\n",
              "    .dataframe tbody tr th {\n",
              "        vertical-align: top;\n",
              "    }\n",
              "\n",
              "    .dataframe thead th {\n",
              "        text-align: right;\n",
              "    }\n",
              "</style>\n",
              "<table border=\"1\" class=\"dataframe\">\n",
              "  <thead>\n",
              "    <tr style=\"text-align: right;\">\n",
              "      <th></th>\n",
              "      <th>meta</th>\n",
              "      <th>umm</th>\n",
              "      <th>size</th>\n",
              "    </tr>\n",
              "  </thead>\n",
              "  <tbody>\n",
              "    <tr>\n",
              "      <th>0</th>\n",
              "      <td>{'concept-type': 'granule', 'concept-id': 'G26...</td>\n",
              "      <td>{'TemporalExtent': {'RangeDateTime': {'Beginni...</td>\n",
              "      <td>87.651975</td>\n",
              "    </tr>\n",
              "    <tr>\n",
              "      <th>1</th>\n",
              "      <td>{'concept-type': 'granule', 'concept-id': 'G26...</td>\n",
              "      <td>{'TemporalExtent': {'RangeDateTime': {'Beginni...</td>\n",
              "      <td>150.901505</td>\n",
              "    </tr>\n",
              "    <tr>\n",
              "      <th>2</th>\n",
              "      <td>{'concept-type': 'granule', 'concept-id': 'G26...</td>\n",
              "      <td>{'TemporalExtent': {'RangeDateTime': {'Beginni...</td>\n",
              "      <td>182.547405</td>\n",
              "    </tr>\n",
              "    <tr>\n",
              "      <th>3</th>\n",
              "      <td>{'concept-type': 'granule', 'concept-id': 'G26...</td>\n",
              "      <td>{'TemporalExtent': {'RangeDateTime': {'Beginni...</td>\n",
              "      <td>145.737147</td>\n",
              "    </tr>\n",
              "    <tr>\n",
              "      <th>4</th>\n",
              "      <td>{'concept-type': 'granule', 'concept-id': 'G26...</td>\n",
              "      <td>{'TemporalExtent': {'RangeDateTime': {'Beginni...</td>\n",
              "      <td>98.771830</td>\n",
              "    </tr>\n",
              "    <tr>\n",
              "      <th>...</th>\n",
              "      <td>...</td>\n",
              "      <td>...</td>\n",
              "      <td>...</td>\n",
              "    </tr>\n",
              "    <tr>\n",
              "      <th>83</th>\n",
              "      <td>{'concept-type': 'granule', 'concept-id': 'G27...</td>\n",
              "      <td>{'TemporalExtent': {'RangeDateTime': {'Beginni...</td>\n",
              "      <td>156.733950</td>\n",
              "    </tr>\n",
              "    <tr>\n",
              "      <th>84</th>\n",
              "      <td>{'concept-type': 'granule', 'concept-id': 'G27...</td>\n",
              "      <td>{'TemporalExtent': {'RangeDateTime': {'Beginni...</td>\n",
              "      <td>145.328370</td>\n",
              "    </tr>\n",
              "    <tr>\n",
              "      <th>85</th>\n",
              "      <td>{'concept-type': 'granule', 'concept-id': 'G27...</td>\n",
              "      <td>{'TemporalExtent': {'RangeDateTime': {'Beginni...</td>\n",
              "      <td>186.026457</td>\n",
              "    </tr>\n",
              "    <tr>\n",
              "      <th>86</th>\n",
              "      <td>{'concept-type': 'granule', 'concept-id': 'G27...</td>\n",
              "      <td>{'TemporalExtent': {'RangeDateTime': {'Beginni...</td>\n",
              "      <td>97.142883</td>\n",
              "    </tr>\n",
              "    <tr>\n",
              "      <th>87</th>\n",
              "      <td>{'concept-type': 'granule', 'concept-id': 'G27...</td>\n",
              "      <td>{'TemporalExtent': {'RangeDateTime': {'Beginni...</td>\n",
              "      <td>185.032991</td>\n",
              "    </tr>\n",
              "  </tbody>\n",
              "</table>\n",
              "<p>88 rows × 3 columns</p>\n",
              "</div>"
            ],
            "text/plain": [
              "                                                 meta  \\\n",
              "0   {'concept-type': 'granule', 'concept-id': 'G26...   \n",
              "1   {'concept-type': 'granule', 'concept-id': 'G26...   \n",
              "2   {'concept-type': 'granule', 'concept-id': 'G26...   \n",
              "3   {'concept-type': 'granule', 'concept-id': 'G26...   \n",
              "4   {'concept-type': 'granule', 'concept-id': 'G26...   \n",
              "..                                                ...   \n",
              "83  {'concept-type': 'granule', 'concept-id': 'G27...   \n",
              "84  {'concept-type': 'granule', 'concept-id': 'G27...   \n",
              "85  {'concept-type': 'granule', 'concept-id': 'G27...   \n",
              "86  {'concept-type': 'granule', 'concept-id': 'G27...   \n",
              "87  {'concept-type': 'granule', 'concept-id': 'G27...   \n",
              "\n",
              "                                                  umm        size  \n",
              "0   {'TemporalExtent': {'RangeDateTime': {'Beginni...   87.651975  \n",
              "1   {'TemporalExtent': {'RangeDateTime': {'Beginni...  150.901505  \n",
              "2   {'TemporalExtent': {'RangeDateTime': {'Beginni...  182.547405  \n",
              "3   {'TemporalExtent': {'RangeDateTime': {'Beginni...  145.737147  \n",
              "4   {'TemporalExtent': {'RangeDateTime': {'Beginni...   98.771830  \n",
              "..                                                ...         ...  \n",
              "83  {'TemporalExtent': {'RangeDateTime': {'Beginni...  156.733950  \n",
              "84  {'TemporalExtent': {'RangeDateTime': {'Beginni...  145.328370  \n",
              "85  {'TemporalExtent': {'RangeDateTime': {'Beginni...  186.026457  \n",
              "86  {'TemporalExtent': {'RangeDateTime': {'Beginni...   97.142883  \n",
              "87  {'TemporalExtent': {'RangeDateTime': {'Beginni...  185.032991  \n",
              "\n",
              "[88 rows x 3 columns]"
            ]
          },
          "execution_count": 11,
          "metadata": {},
          "output_type": "execute_result"
        }
      ],
      "source": [
        "# add the wbd_hls_results go a geodataframe\n",
        "wbd_hls_gdf = gpd.GeoDataFrame(wbd_hls_results)\n",
        "wbd_hls_gdf"
      ]
    },
    {
      "cell_type": "markdown",
      "id": "1248ad42",
      "metadata": {},
      "source": [
        "### Compile information about each granule\n",
        "\n",
        "I recommend building a GeoDataFrame, as this will allow you to plot the\n",
        "granules you are downloading and make sure they line up with your\n",
        "shapefile. You could also use a DataFrame, dictionary, or a custom\n",
        "object to store this information.\n",
        "\n",
        "<link rel=\"stylesheet\" type=\"text/css\" href=\"./assets/styles.css\"><div class=\"callout callout-style-default callout-titled callout-task\"><div class=\"callout-header\"><div class=\"callout-icon-container\"><i class=\"callout-icon\"></i></div><div class=\"callout-title-container flex-fill\">Try It</div></div><div class=\"callout-body-container callout-body\"><ol type=\"1\">\n",
        "<li>For each search result:\n",
        "<ol type=\"1\">\n",
        "<li>Get the following information (HINT: look at the [‘umm’] values for\n",
        "each search result):\n",
        "<ul>\n",
        "<li>granule id (UR)</li>\n",
        "<li>datetime</li>\n",
        "<li>geometry (HINT: check out the shapely.geometry.Polygon class to\n",
        "convert points to a Polygon)</li>\n",
        "</ul></li>\n",
        "<li>Open the granule files. I recomment opening one granule at a time,\n",
        "e.g. with (<code>earthaccess.open([result]</code>).</li>\n",
        "<li>For each file (band), get the following information:\n",
        "<ul>\n",
        "<li>file handler returned from <code>earthaccess.open()</code></li>\n",
        "<li>tile id</li>\n",
        "<li>band number</li>\n",
        "</ul></li>\n",
        "</ol></li>\n",
        "<li>Compile all the information you collected into a GeoDataFrame</li>\n",
        "</ol></div></div>"
      ]
    },
    {
      "cell_type": "markdown",
      "id": "9f9901f6",
      "metadata": {},
      "source": [
        "#### **Explore HLS data before building GeoDataFrame**"
      ]
    },
    {
      "cell_type": "code",
      "execution_count": 12,
      "id": "e8800879",
      "metadata": {},
      "outputs": [
        {
          "data": {
            "text/plain": [
              "{'TemporalExtent': {'RangeDateTime': {'BeginningDateTime': '2023-05-04T16:31:32.101Z',\n",
              "   'EndingDateTime': '2023-05-04T16:31:55.992Z'}},\n",
              " 'GranuleUR': 'HLS.L30.T16RBT.2023124T163132.v2.0',\n",
              " 'AdditionalAttributes': [{'Name': 'LANDSAT_PRODUCT_ID',\n",
              "   'Values': ['LC08_L1TP_022039_20230504_20230504_02_RT',\n",
              "    'LC08_L1TP_022040_20230504_20230504_02_RT']},\n",
              "  {'Name': 'CLOUD_COVERAGE', 'Values': ['21']},\n",
              "  {'Name': 'MGRS_TILE_ID', 'Values': ['16RBT']},\n",
              "  {'Name': 'SPATIAL_COVERAGE', 'Values': ['57']},\n",
              "  {'Name': 'SPATIAL_RESOLUTION', 'Values': ['30.0']},\n",
              "  {'Name': 'SPATIAL_RESAMPLING_ALG', 'Values': ['Cubic Convolution']},\n",
              "  {'Name': 'HLS_PROCESSING_TIME', 'Values': ['2023-05-06T06:52:48Z']},\n",
              "  {'Name': 'SENSING_TIME',\n",
              "   'Values': ['2023-05-04T16:31:32.1012330Z', '2023-05-04T16:31:55.9922730Z']},\n",
              "  {'Name': 'HORIZONTAL_CS_NAME',\n",
              "   'Values': ['UTM, WGS84, UTM ZONE 15', 'UTM, WGS84, UTM ZONE 15']},\n",
              "  {'Name': 'ULX', 'Values': ['199980.0']},\n",
              "  {'Name': 'ULY', 'Values': ['3300000.0']},\n",
              "  {'Name': 'ADD_OFFSET', 'Values': ['0']},\n",
              "  {'Name': 'REF_SCALE_FACTOR', 'Values': ['0.0001']},\n",
              "  {'Name': 'THERM_SCALE_FACTOR', 'Values': ['0.01']},\n",
              "  {'Name': 'ANG_SCALE_FACTOR', 'Values': ['0.01']},\n",
              "  {'Name': 'FILLVALUE', 'Values': ['-9999']},\n",
              "  {'Name': 'QA_FILLVALUE', 'Values': ['255']},\n",
              "  {'Name': 'NCOLS', 'Values': ['3660']},\n",
              "  {'Name': 'NROWS', 'Values': ['3660']},\n",
              "  {'Name': 'MEAN_SUN_AZIMUTH_ANGLE', 'Values': ['119.99467788']},\n",
              "  {'Name': 'MEAN_SUN_ZENITH_ANGLE', 'Values': ['23.45547991']},\n",
              "  {'Name': 'MEAN_VIEW_AZIMUTH_ANGLE', 'Values': ['279.79005746']},\n",
              "  {'Name': 'MEAN_VIEW_ZENITH_ANGLE', 'Values': ['5.60121343']},\n",
              "  {'Name': 'NBAR_SOLAR_ZENITH', 'Values': ['22.2082246']},\n",
              "  {'Name': 'ACCODE', 'Values': ['LaSRC v3.0.5']},\n",
              "  {'Name': 'TIRS_SSM_MODEL', 'Values': ['PRELIMINARY', 'PRELIMINARY']},\n",
              "  {'Name': 'TIRS_SSM_POSITION_STATUS', 'Values': ['ESTIMATED', 'ESTIMATED']},\n",
              "  {'Name': 'USGS_SOFTWARE', 'Values': ['LPGS_16.2.0']},\n",
              "  {'Name': 'IDENTIFIER_PRODUCT_DOI', 'Values': ['10.5067/HLS/HLSL30.002']},\n",
              "  {'Name': 'IDENTIFIER_PRODUCT_DOI_AUTHORITY', 'Values': ['https://doi.org']}],\n",
              " 'SpatialExtent': {'HorizontalSpatialDomain': {'Geometry': {'GPolygons': [{'Boundary': {'Points': [{'Longitude': -90.07372506,\n",
              "         'Latitude': 28.80444525},\n",
              "        {'Longitude': -89.57473392, 'Latitude': 28.81489352},\n",
              "        {'Longitude': -89.30816409, 'Latitude': 29.81030157},\n",
              "        {'Longitude': -90.10353675, 'Latitude': 29.79400715},\n",
              "        {'Longitude': -90.07372506, 'Latitude': 28.80444525}]}}]}}},\n",
              " 'ProviderDates': [{'Date': '2023-05-06T06:54:50.344Z', 'Type': 'Insert'},\n",
              "  {'Date': '2023-05-06T06:54:50.344Z', 'Type': 'Update'}],\n",
              " 'CollectionReference': {'EntryTitle': 'HLS Landsat Operational Land Imager Surface Reflectance and TOA Brightness Daily Global 30m v2.0'},\n",
              " 'RelatedUrls': [{'URL': 'https://data.lpdaac.earthdatacloud.nasa.gov/lp-prod-protected/HLSL30.020/HLS.L30.T16RBT.2023124T163132.v2.0/HLS.L30.T16RBT.2023124T163132.v2.0.B03.tif',\n",
              "   'Type': 'GET DATA',\n",
              "   'Description': 'Download HLS.L30.T16RBT.2023124T163132.v2.0.B03.tif'},\n",
              "  {'URL': 's3://lp-prod-protected/HLSL30.020/HLS.L30.T16RBT.2023124T163132.v2.0/HLS.L30.T16RBT.2023124T163132.v2.0.B03.tif',\n",
              "   'Type': 'GET DATA VIA DIRECT ACCESS',\n",
              "   'Description': 'This link provides direct download access via S3 to the granule'},\n",
              "  {'URL': 'https://data.lpdaac.earthdatacloud.nasa.gov/lp-prod-protected/HLSL30.020/HLS.L30.T16RBT.2023124T163132.v2.0/HLS.L30.T16RBT.2023124T163132.v2.0.B07.tif',\n",
              "   'Type': 'GET DATA',\n",
              "   'Description': 'Download HLS.L30.T16RBT.2023124T163132.v2.0.B07.tif'},\n",
              "  {'URL': 's3://lp-prod-protected/HLSL30.020/HLS.L30.T16RBT.2023124T163132.v2.0/HLS.L30.T16RBT.2023124T163132.v2.0.B07.tif',\n",
              "   'Type': 'GET DATA VIA DIRECT ACCESS',\n",
              "   'Description': 'This link provides direct download access via S3 to the granule'},\n",
              "  {'URL': 'https://data.lpdaac.earthdatacloud.nasa.gov/lp-prod-protected/HLSL30.020/HLS.L30.T16RBT.2023124T163132.v2.0/HLS.L30.T16RBT.2023124T163132.v2.0.B06.tif',\n",
              "   'Type': 'GET DATA',\n",
              "   'Description': 'Download HLS.L30.T16RBT.2023124T163132.v2.0.B06.tif'},\n",
              "  {'URL': 's3://lp-prod-protected/HLSL30.020/HLS.L30.T16RBT.2023124T163132.v2.0/HLS.L30.T16RBT.2023124T163132.v2.0.B06.tif',\n",
              "   'Type': 'GET DATA VIA DIRECT ACCESS',\n",
              "   'Description': 'This link provides direct download access via S3 to the granule'},\n",
              "  {'URL': 'https://data.lpdaac.earthdatacloud.nasa.gov/lp-prod-protected/HLSL30.020/HLS.L30.T16RBT.2023124T163132.v2.0/HLS.L30.T16RBT.2023124T163132.v2.0.B02.tif',\n",
              "   'Type': 'GET DATA',\n",
              "   'Description': 'Download HLS.L30.T16RBT.2023124T163132.v2.0.B02.tif'},\n",
              "  {'URL': 's3://lp-prod-protected/HLSL30.020/HLS.L30.T16RBT.2023124T163132.v2.0/HLS.L30.T16RBT.2023124T163132.v2.0.B02.tif',\n",
              "   'Type': 'GET DATA VIA DIRECT ACCESS',\n",
              "   'Description': 'This link provides direct download access via S3 to the granule'},\n",
              "  {'URL': 'https://data.lpdaac.earthdatacloud.nasa.gov/lp-prod-protected/HLSL30.020/HLS.L30.T16RBT.2023124T163132.v2.0/HLS.L30.T16RBT.2023124T163132.v2.0.B01.tif',\n",
              "   'Type': 'GET DATA',\n",
              "   'Description': 'Download HLS.L30.T16RBT.2023124T163132.v2.0.B01.tif'},\n",
              "  {'URL': 's3://lp-prod-protected/HLSL30.020/HLS.L30.T16RBT.2023124T163132.v2.0/HLS.L30.T16RBT.2023124T163132.v2.0.B01.tif',\n",
              "   'Type': 'GET DATA VIA DIRECT ACCESS',\n",
              "   'Description': 'This link provides direct download access via S3 to the granule'},\n",
              "  {'URL': 'https://data.lpdaac.earthdatacloud.nasa.gov/lp-prod-protected/HLSL30.020/HLS.L30.T16RBT.2023124T163132.v2.0/HLS.L30.T16RBT.2023124T163132.v2.0.Fmask.tif',\n",
              "   'Type': 'GET DATA',\n",
              "   'Description': 'Download HLS.L30.T16RBT.2023124T163132.v2.0.Fmask.tif'},\n",
              "  {'URL': 's3://lp-prod-protected/HLSL30.020/HLS.L30.T16RBT.2023124T163132.v2.0/HLS.L30.T16RBT.2023124T163132.v2.0.Fmask.tif',\n",
              "   'Type': 'GET DATA VIA DIRECT ACCESS',\n",
              "   'Description': 'This link provides direct download access via S3 to the granule'},\n",
              "  {'URL': 'https://data.lpdaac.earthdatacloud.nasa.gov/lp-prod-protected/HLSL30.020/HLS.L30.T16RBT.2023124T163132.v2.0/HLS.L30.T16RBT.2023124T163132.v2.0.SZA.tif',\n",
              "   'Type': 'GET DATA',\n",
              "   'Description': 'Download HLS.L30.T16RBT.2023124T163132.v2.0.SZA.tif'},\n",
              "  {'URL': 's3://lp-prod-protected/HLSL30.020/HLS.L30.T16RBT.2023124T163132.v2.0/HLS.L30.T16RBT.2023124T163132.v2.0.SZA.tif',\n",
              "   'Type': 'GET DATA VIA DIRECT ACCESS',\n",
              "   'Description': 'This link provides direct download access via S3 to the granule'},\n",
              "  {'URL': 'https://data.lpdaac.earthdatacloud.nasa.gov/lp-prod-protected/HLSL30.020/HLS.L30.T16RBT.2023124T163132.v2.0/HLS.L30.T16RBT.2023124T163132.v2.0.SAA.tif',\n",
              "   'Type': 'GET DATA',\n",
              "   'Description': 'Download HLS.L30.T16RBT.2023124T163132.v2.0.SAA.tif'},\n",
              "  {'URL': 's3://lp-prod-protected/HLSL30.020/HLS.L30.T16RBT.2023124T163132.v2.0/HLS.L30.T16RBT.2023124T163132.v2.0.SAA.tif',\n",
              "   'Type': 'GET DATA VIA DIRECT ACCESS',\n",
              "   'Description': 'This link provides direct download access via S3 to the granule'},\n",
              "  {'URL': 'https://data.lpdaac.earthdatacloud.nasa.gov/lp-prod-protected/HLSL30.020/HLS.L30.T16RBT.2023124T163132.v2.0/HLS.L30.T16RBT.2023124T163132.v2.0.B05.tif',\n",
              "   'Type': 'GET DATA',\n",
              "   'Description': 'Download HLS.L30.T16RBT.2023124T163132.v2.0.B05.tif'},\n",
              "  {'URL': 's3://lp-prod-protected/HLSL30.020/HLS.L30.T16RBT.2023124T163132.v2.0/HLS.L30.T16RBT.2023124T163132.v2.0.B05.tif',\n",
              "   'Type': 'GET DATA VIA DIRECT ACCESS',\n",
              "   'Description': 'This link provides direct download access via S3 to the granule'},\n",
              "  {'URL': 'https://data.lpdaac.earthdatacloud.nasa.gov/lp-prod-protected/HLSL30.020/HLS.L30.T16RBT.2023124T163132.v2.0/HLS.L30.T16RBT.2023124T163132.v2.0.VAA.tif',\n",
              "   'Type': 'GET DATA',\n",
              "   'Description': 'Download HLS.L30.T16RBT.2023124T163132.v2.0.VAA.tif'},\n",
              "  {'URL': 's3://lp-prod-protected/HLSL30.020/HLS.L30.T16RBT.2023124T163132.v2.0/HLS.L30.T16RBT.2023124T163132.v2.0.VAA.tif',\n",
              "   'Type': 'GET DATA VIA DIRECT ACCESS',\n",
              "   'Description': 'This link provides direct download access via S3 to the granule'},\n",
              "  {'URL': 'https://data.lpdaac.earthdatacloud.nasa.gov/lp-prod-protected/HLSL30.020/HLS.L30.T16RBT.2023124T163132.v2.0/HLS.L30.T16RBT.2023124T163132.v2.0.B10.tif',\n",
              "   'Type': 'GET DATA',\n",
              "   'Description': 'Download HLS.L30.T16RBT.2023124T163132.v2.0.B10.tif'},\n",
              "  {'URL': 's3://lp-prod-protected/HLSL30.020/HLS.L30.T16RBT.2023124T163132.v2.0/HLS.L30.T16RBT.2023124T163132.v2.0.B10.tif',\n",
              "   'Type': 'GET DATA VIA DIRECT ACCESS',\n",
              "   'Description': 'This link provides direct download access via S3 to the granule'},\n",
              "  {'URL': 'https://data.lpdaac.earthdatacloud.nasa.gov/lp-prod-protected/HLSL30.020/HLS.L30.T16RBT.2023124T163132.v2.0/HLS.L30.T16RBT.2023124T163132.v2.0.B09.tif',\n",
              "   'Type': 'GET DATA',\n",
              "   'Description': 'Download HLS.L30.T16RBT.2023124T163132.v2.0.B09.tif'},\n",
              "  {'URL': 's3://lp-prod-protected/HLSL30.020/HLS.L30.T16RBT.2023124T163132.v2.0/HLS.L30.T16RBT.2023124T163132.v2.0.B09.tif',\n",
              "   'Type': 'GET DATA VIA DIRECT ACCESS',\n",
              "   'Description': 'This link provides direct download access via S3 to the granule'},\n",
              "  {'URL': 'https://data.lpdaac.earthdatacloud.nasa.gov/lp-prod-protected/HLSL30.020/HLS.L30.T16RBT.2023124T163132.v2.0/HLS.L30.T16RBT.2023124T163132.v2.0.B11.tif',\n",
              "   'Type': 'GET DATA',\n",
              "   'Description': 'Download HLS.L30.T16RBT.2023124T163132.v2.0.B11.tif'},\n",
              "  {'URL': 's3://lp-prod-protected/HLSL30.020/HLS.L30.T16RBT.2023124T163132.v2.0/HLS.L30.T16RBT.2023124T163132.v2.0.B11.tif',\n",
              "   'Type': 'GET DATA VIA DIRECT ACCESS',\n",
              "   'Description': 'This link provides direct download access via S3 to the granule'},\n",
              "  {'URL': 'https://data.lpdaac.earthdatacloud.nasa.gov/lp-prod-protected/HLSL30.020/HLS.L30.T16RBT.2023124T163132.v2.0/HLS.L30.T16RBT.2023124T163132.v2.0.B04.tif',\n",
              "   'Type': 'GET DATA',\n",
              "   'Description': 'Download HLS.L30.T16RBT.2023124T163132.v2.0.B04.tif'},\n",
              "  {'URL': 's3://lp-prod-protected/HLSL30.020/HLS.L30.T16RBT.2023124T163132.v2.0/HLS.L30.T16RBT.2023124T163132.v2.0.B04.tif',\n",
              "   'Type': 'GET DATA VIA DIRECT ACCESS',\n",
              "   'Description': 'This link provides direct download access via S3 to the granule'},\n",
              "  {'URL': 'https://data.lpdaac.earthdatacloud.nasa.gov/lp-prod-protected/HLSL30.020/HLS.L30.T16RBT.2023124T163132.v2.0/HLS.L30.T16RBT.2023124T163132.v2.0.VZA.tif',\n",
              "   'Type': 'GET DATA',\n",
              "   'Description': 'Download HLS.L30.T16RBT.2023124T163132.v2.0.VZA.tif'},\n",
              "  {'URL': 's3://lp-prod-protected/HLSL30.020/HLS.L30.T16RBT.2023124T163132.v2.0/HLS.L30.T16RBT.2023124T163132.v2.0.VZA.tif',\n",
              "   'Type': 'GET DATA VIA DIRECT ACCESS',\n",
              "   'Description': 'This link provides direct download access via S3 to the granule'},\n",
              "  {'URL': 'https://data.lpdaac.earthdatacloud.nasa.gov/lp-prod-public/HLSL30.020/HLS.L30.T16RBT.2023124T163132.v2.0/HLS.L30.T16RBT.2023124T163132.v2.0_stac.json',\n",
              "   'Type': 'VIEW RELATED INFORMATION',\n",
              "   'Description': 'Download HLS.L30.T16RBT.2023124T163132.v2.0_stac.json'},\n",
              "  {'URL': 's3://lp-prod-public/HLSL30.020/HLS.L30.T16RBT.2023124T163132.v2.0/HLS.L30.T16RBT.2023124T163132.v2.0_stac.json',\n",
              "   'Type': 'VIEW RELATED INFORMATION',\n",
              "   'Description': 'This link provides direct download access via S3 to the granule'},\n",
              "  {'URL': 'https://data.lpdaac.earthdatacloud.nasa.gov/lp-prod-protected/HLSL30.020/HLS.L30.T16RBT.2023124T163132.v2.0/HLS.L30.T16RBT.2023124T163132.v2.0.cmr.xml',\n",
              "   'Type': 'VIEW RELATED INFORMATION',\n",
              "   'Description': 'Download HLS.L30.T16RBT.2023124T163132.v2.0.cmr.xml'},\n",
              "  {'URL': 's3://lp-prod-protected/HLSL30.020/HLS.L30.T16RBT.2023124T163132.v2.0/HLS.L30.T16RBT.2023124T163132.v2.0.cmr.xml',\n",
              "   'Type': 'VIEW RELATED INFORMATION',\n",
              "   'Description': 'This link provides direct download access via S3 to the granule'},\n",
              "  {'URL': 'https://data.lpdaac.earthdatacloud.nasa.gov/s3credentials',\n",
              "   'Type': 'VIEW RELATED INFORMATION',\n",
              "   'Description': 'api endpoint to retrieve temporary credentials valid for same-region direct s3 access'},\n",
              "  {'URL': 'https://data.lpdaac.earthdatacloud.nasa.gov/lp-prod-public/HLSL30.020/HLS.L30.T16RBT.2023124T163132.v2.0/HLS.L30.T16RBT.2023124T163132.v2.0.jpg',\n",
              "   'Type': 'GET RELATED VISUALIZATION',\n",
              "   'Description': 'Download HLS.L30.T16RBT.2023124T163132.v2.0.jpg'},\n",
              "  {'URL': 's3://lp-prod-public/HLSL30.020/HLS.L30.T16RBT.2023124T163132.v2.0/HLS.L30.T16RBT.2023124T163132.v2.0.jpg',\n",
              "   'Type': 'GET RELATED VISUALIZATION',\n",
              "   'Description': 'This link provides direct download access via S3 to the granule'}],\n",
              " 'DataGranule': {'DayNightFlag': 'Day',\n",
              "  'Identifiers': [{'Identifier': 'HLS.L30.T16RBT.2023124T163132',\n",
              "    'IdentifierType': 'ProducerGranuleId'}],\n",
              "  'ProductionDateTime': '2023-05-06T06:52:48.000Z',\n",
              "  'ArchiveAndDistributionInformation': [{'Name': 'Not provided',\n",
              "    'SizeInBytes': 91909757,\n",
              "    'SizeUnit': 'MB'}]},\n",
              " 'Platforms': [{'ShortName': 'LANDSAT-8',\n",
              "   'Instruments': [{'ShortName': 'OLI'}]}],\n",
              " 'MetadataSpecification': {'URL': 'https://cdn.earthdata.nasa.gov/umm/granule/v1.6.6',\n",
              "  'Name': 'UMM-G',\n",
              "  'Version': '1.6.6'}}"
            ]
          },
          "execution_count": 12,
          "metadata": {},
          "output_type": "execute_result"
        }
      ],
      "source": [
        "# look at the 'umm' column for the first row\n",
        "wbd_hls_gdf['umm'].loc[0]"
      ]
    },
    {
      "cell_type": "code",
      "execution_count": 13,
      "id": "47d361ed",
      "metadata": {},
      "outputs": [
        {
          "data": {
            "text/plain": [
              "'HLS.L30.T16RBT.2023124T163132.v2.0'"
            ]
          },
          "execution_count": 13,
          "metadata": {},
          "output_type": "execute_result"
        }
      ],
      "source": [
        "# isolate the granule ID (UR) for the first row\n",
        "row1 = list(wbd_hls_gdf['umm'].loc[0].values())\n",
        "row1[1]"
      ]
    },
    {
      "cell_type": "code",
      "execution_count": 14,
      "id": "c9940f2a",
      "metadata": {},
      "outputs": [
        {
          "data": {
            "text/plain": [
              "{'RangeDateTime': {'BeginningDateTime': '2023-05-04T16:31:32.101Z',\n",
              "  'EndingDateTime': '2023-05-04T16:31:55.992Z'}}"
            ]
          },
          "execution_count": 14,
          "metadata": {},
          "output_type": "execute_result"
        }
      ],
      "source": [
        "# isolate the datetime for the first row\n",
        "row1[0]\n"
      ]
    },
    {
      "cell_type": "code",
      "execution_count": 15,
      "id": "5be44b18",
      "metadata": {},
      "outputs": [
        {
          "data": {
            "text/plain": [
              "['TemporalExtent',\n",
              " 'GranuleUR',\n",
              " 'AdditionalAttributes',\n",
              " 'SpatialExtent',\n",
              " 'ProviderDates',\n",
              " 'CollectionReference',\n",
              " 'RelatedUrls',\n",
              " 'DataGranule',\n",
              " 'Platforms',\n",
              " 'MetadataSpecification']"
            ]
          },
          "execution_count": 15,
          "metadata": {},
          "output_type": "execute_result"
        }
      ],
      "source": [
        "# identify the keys for the first row\n",
        "# the geometry, 'SpatialExtent' key is index 3\n",
        "row1_keys = list(wbd_hls_gdf['umm'].loc[0].keys())\n",
        "row1_keys\n"
      ]
    },
    {
      "cell_type": "code",
      "execution_count": 16,
      "id": "98029cf1",
      "metadata": {},
      "outputs": [
        {
          "data": {
            "text/plain": [
              "{'HorizontalSpatialDomain': {'Geometry': {'GPolygons': [{'Boundary': {'Points': [{'Longitude': -90.07372506,\n",
              "        'Latitude': 28.80444525},\n",
              "       {'Longitude': -89.57473392, 'Latitude': 28.81489352},\n",
              "       {'Longitude': -89.30816409, 'Latitude': 29.81030157},\n",
              "       {'Longitude': -90.10353675, 'Latitude': 29.79400715},\n",
              "       {'Longitude': -90.07372506, 'Latitude': 28.80444525}]}}]}}}"
            ]
          },
          "execution_count": 16,
          "metadata": {},
          "output_type": "execute_result"
        }
      ],
      "source": [
        "# isolate the SpatialExtent for the first row\n",
        "# this is a dictionary\n",
        "test = row1[3]\n",
        "test"
      ]
    },
    {
      "cell_type": "code",
      "execution_count": 17,
      "id": "1ad10f8a",
      "metadata": {},
      "outputs": [
        {
          "name": "stdout",
          "output_type": "stream",
          "text": [
            "[{'Longitude': -90.07372506, 'Latitude': 28.80444525}, {'Longitude': -89.57473392, 'Latitude': 28.81489352}, {'Longitude': -89.30816409, 'Latitude': 29.81030157}, {'Longitude': -90.10353675, 'Latitude': 29.79400715}, {'Longitude': -90.07372506, 'Latitude': 28.80444525}]\n",
            "POLYGON ((-90.07372506 28.80444525, -89.57473392 28.81489352, -89.30816409 29.81030157, -90.10353675 29.79400715, -90.07372506 28.80444525))\n"
          ]
        }
      ],
      "source": [
        "# The first part of Elsa's loop to compile info abt each granule\n",
        "# granule = the first result\n",
        "granule = wbd_hls_results[0]\n",
        "# look at just the metadata, umm, of the first result\n",
        "info_dict = granule['umm']\n",
        "# create a list of all points, lat/lon, for the first result from the umm column of the first result\n",
        "points = (\n",
        "    info_dict\n",
        "    # select the first thing in the GPolygons list\n",
        "    ['SpatialExtent']['HorizontalSpatialDomain']['Geometry']['GPolygons'][0]\n",
        "    ['Boundary']['Points'])\n",
        "# create the geometry (Polygon) of the first result using Polygon from shapely\n",
        "# loop through all the points in our points list and get the lat/long for each one to create the geometry\n",
        "geometry = Polygon(\n",
        "    [(point['Longitude'], point['Latitude']) for point in points])\n",
        "\n",
        "print(points)\n",
        "print(geometry)"
      ]
    },
    {
      "cell_type": "code",
      "execution_count": 18,
      "id": "67b83f58",
      "metadata": {},
      "outputs": [
        {
          "data": {
            "application/vnd.jupyter.widget-view+json": {
              "model_id": "e40efe1ccd1745f8ae56ea34af9c9d80",
              "version_major": 2,
              "version_minor": 0
            },
            "text/plain": [
              "QUEUEING TASKS | :   0%|          | 0/15 [00:00<?, ?it/s]"
            ]
          },
          "metadata": {},
          "output_type": "display_data"
        },
        {
          "data": {
            "application/vnd.jupyter.widget-view+json": {
              "model_id": "d391692837384729b287bddbba941ab3",
              "version_major": 2,
              "version_minor": 0
            },
            "text/plain": [
              "PROCESSING TASKS | :   0%|          | 0/15 [00:00<?, ?it/s]"
            ]
          },
          "metadata": {},
          "output_type": "display_data"
        },
        {
          "data": {
            "application/vnd.jupyter.widget-view+json": {
              "model_id": "75a0e343b3c24d91ac7fcd32fae8331b",
              "version_major": 2,
              "version_minor": 0
            },
            "text/plain": [
              "COLLECTING RESULTS | :   0%|          | 0/15 [00:00<?, ?it/s]"
            ]
          },
          "metadata": {},
          "output_type": "display_data"
        }
      ],
      "source": [
        "# open test granule\n",
        "opened_granule = earthaccess.open([granule])"
      ]
    },
    {
      "cell_type": "code",
      "execution_count": 19,
      "id": "0bad5ebe",
      "metadata": {},
      "outputs": [
        {
          "data": {
            "text/plain": [
              "[<File-like object HTTPFileSystem, https://data.lpdaac.earthdatacloud.nasa.gov/lp-prod-protected/HLSL30.020/HLS.L30.T16RBT.2023124T163132.v2.0/HLS.L30.T16RBT.2023124T163132.v2.0.B03.tif>,\n",
              " <File-like object HTTPFileSystem, https://data.lpdaac.earthdatacloud.nasa.gov/lp-prod-protected/HLSL30.020/HLS.L30.T16RBT.2023124T163132.v2.0/HLS.L30.T16RBT.2023124T163132.v2.0.B07.tif>,\n",
              " <File-like object HTTPFileSystem, https://data.lpdaac.earthdatacloud.nasa.gov/lp-prod-protected/HLSL30.020/HLS.L30.T16RBT.2023124T163132.v2.0/HLS.L30.T16RBT.2023124T163132.v2.0.B06.tif>,\n",
              " <File-like object HTTPFileSystem, https://data.lpdaac.earthdatacloud.nasa.gov/lp-prod-protected/HLSL30.020/HLS.L30.T16RBT.2023124T163132.v2.0/HLS.L30.T16RBT.2023124T163132.v2.0.B02.tif>,\n",
              " <File-like object HTTPFileSystem, https://data.lpdaac.earthdatacloud.nasa.gov/lp-prod-protected/HLSL30.020/HLS.L30.T16RBT.2023124T163132.v2.0/HLS.L30.T16RBT.2023124T163132.v2.0.B01.tif>,\n",
              " <File-like object HTTPFileSystem, https://data.lpdaac.earthdatacloud.nasa.gov/lp-prod-protected/HLSL30.020/HLS.L30.T16RBT.2023124T163132.v2.0/HLS.L30.T16RBT.2023124T163132.v2.0.Fmask.tif>,\n",
              " <File-like object HTTPFileSystem, https://data.lpdaac.earthdatacloud.nasa.gov/lp-prod-protected/HLSL30.020/HLS.L30.T16RBT.2023124T163132.v2.0/HLS.L30.T16RBT.2023124T163132.v2.0.SZA.tif>,\n",
              " <File-like object HTTPFileSystem, https://data.lpdaac.earthdatacloud.nasa.gov/lp-prod-protected/HLSL30.020/HLS.L30.T16RBT.2023124T163132.v2.0/HLS.L30.T16RBT.2023124T163132.v2.0.SAA.tif>,\n",
              " <File-like object HTTPFileSystem, https://data.lpdaac.earthdatacloud.nasa.gov/lp-prod-protected/HLSL30.020/HLS.L30.T16RBT.2023124T163132.v2.0/HLS.L30.T16RBT.2023124T163132.v2.0.B05.tif>,\n",
              " <File-like object HTTPFileSystem, https://data.lpdaac.earthdatacloud.nasa.gov/lp-prod-protected/HLSL30.020/HLS.L30.T16RBT.2023124T163132.v2.0/HLS.L30.T16RBT.2023124T163132.v2.0.VAA.tif>,\n",
              " <File-like object HTTPFileSystem, https://data.lpdaac.earthdatacloud.nasa.gov/lp-prod-protected/HLSL30.020/HLS.L30.T16RBT.2023124T163132.v2.0/HLS.L30.T16RBT.2023124T163132.v2.0.B10.tif>,\n",
              " <File-like object HTTPFileSystem, https://data.lpdaac.earthdatacloud.nasa.gov/lp-prod-protected/HLSL30.020/HLS.L30.T16RBT.2023124T163132.v2.0/HLS.L30.T16RBT.2023124T163132.v2.0.B09.tif>,\n",
              " <File-like object HTTPFileSystem, https://data.lpdaac.earthdatacloud.nasa.gov/lp-prod-protected/HLSL30.020/HLS.L30.T16RBT.2023124T163132.v2.0/HLS.L30.T16RBT.2023124T163132.v2.0.B11.tif>,\n",
              " <File-like object HTTPFileSystem, https://data.lpdaac.earthdatacloud.nasa.gov/lp-prod-protected/HLSL30.020/HLS.L30.T16RBT.2023124T163132.v2.0/HLS.L30.T16RBT.2023124T163132.v2.0.B04.tif>,\n",
              " <File-like object HTTPFileSystem, https://data.lpdaac.earthdatacloud.nasa.gov/lp-prod-protected/HLSL30.020/HLS.L30.T16RBT.2023124T163132.v2.0/HLS.L30.T16RBT.2023124T163132.v2.0.VZA.tif>]"
            ]
          },
          "execution_count": 19,
          "metadata": {},
          "output_type": "execute_result"
        }
      ],
      "source": [
        "# look at opened_granule\n",
        "# 15 different .tif files, each for a different band\n",
        "# All the bands for 1 granule have the same tile_id, geometry, and datetime\n",
        "opened_granule"
      ]
    },
    {
      "cell_type": "code",
      "execution_count": 20,
      "id": "2623cd08",
      "metadata": {},
      "outputs": [
        {
          "data": {
            "text/plain": [
              "earthaccess.store.EarthAccessFile"
            ]
          },
          "execution_count": 20,
          "metadata": {},
          "output_type": "execute_result"
        }
      ],
      "source": [
        "# What type of object is one element of the opened_granule?\n",
        "type(opened_granule[0])"
      ]
    },
    {
      "cell_type": "code",
      "execution_count": 21,
      "id": "44e2e6b9",
      "metadata": {},
      "outputs": [
        {
          "data": {
            "text/plain": [
              "{'tile_id': 'T16RBT', 'band_id': 'B03'}"
            ]
          },
          "execution_count": 21,
          "metadata": {},
          "output_type": "execute_result"
        }
      ],
      "source": [
        "# get tile ids and band numbers for the granule\n",
        "# Compile a regular expression to search for metadata\n",
        "# the r indicates this is a raw string and highlights all escaped characters (the dots), limits our need to escape special characters\n",
        "uri_re = re.compile(\n",
        "    r\"HLS\\.L30\\.(?P<tile_id>T[0-9A-Z]+)\"\n",
        "    r\"\\.\\d+T\\d+\\.v\\d\\.\\d\\.\"\n",
        "    r\"(?P<band_id>[A-Za-z0-9].+)\\.tif\"\n",
        ")\n",
        "\n",
        "#this yields a dictionary with the tile id, date, and band id\n",
        "# 0 index above is B03, green band\n",
        "# the date is the 124 day of 2023\n",
        "uri_re.search(opened_granule[0].full_name).groupdict()"
      ]
    },
    {
      "cell_type": "markdown",
      "id": "87440baa",
      "metadata": {},
      "source": [
        "Use above code to start trying to craft for loop(s)"
      ]
    },
    {
      "cell_type": "code",
      "execution_count": 22,
      "id": "3232b393",
      "metadata": {},
      "outputs": [
        {
          "data": {
            "application/vnd.jupyter.widget-view+json": {
              "model_id": "24de65f99c1e4f7786d4298ca808cac1",
              "version_major": 2,
              "version_minor": 0
            },
            "text/plain": [
              "  0%|          | 0/88 [00:00<?, ?it/s]"
            ]
          },
          "metadata": {},
          "output_type": "display_data"
        }
      ],
      "source": [
        "# Get granule metadata (ID (UR), datetime, and geometry)\n",
        "\n",
        "## create empty lists to add metadata to\n",
        "granule_ids = []\n",
        "granule_datetimes = []\n",
        "granule_geometries = []\n",
        "\n",
        "## set up for loop, tqdm creates a progress bar\n",
        "## for each row in the wbd_gls_results...\n",
        "for granule in tqdm(wbd_hls_results):\n",
        "    metadata = granule['umm']\n",
        "    ## identify the granule_id and append it to the granule_ids list\n",
        "    granule_id = metadata['GranuleUR']\n",
        "    granule_ids.append(granule_id)\n",
        "\n",
        "    ## identify the granule_datetime and append it to the granule_datetimes list\n",
        "    granule_datetime = pd.to_datetime(metadata\n",
        "        ['TemporalExtent']['RangeDateTime']['BeginningDateTime'])\n",
        "    granule_datetimes.append(granule_datetime)\n",
        "\n",
        "    ## identify the granule_geometry and append it to the granule_geometries list\n",
        "    ## create a list of all points, lat/lon, for the first result from the umm column of the first result\n",
        "    points = (\n",
        "        metadata\n",
        "        # select the first thing in the GPolygons list\n",
        "        ['SpatialExtent']['HorizontalSpatialDomain']['Geometry']['GPolygons'][0]\n",
        "        ['Boundary']['Points'])\n",
        "    ## create the geometry (Polygon) of the first result using Polygon from shapely\n",
        "    ## loop through all the points in our points list and get the lat/long for each one to create the geometry\n",
        "    geometry = Polygon(\n",
        "        [(point['Longitude'], point['Latitude']) for point in points])\n",
        "    granule_geometries.append(geometry)"
      ]
    },
    {
      "cell_type": "code",
      "execution_count": 23,
      "id": "c0bd19f2",
      "metadata": {},
      "outputs": [],
      "source": [
        "# try to figure out opening each band file from each granule \n",
        "# commenting this cell out for now to save time and b/c I have a big loop working below\n",
        "# ## create empty lists for results\n",
        "# files = []\n",
        "\n",
        "# ## open each file in wbd_hls_results\n",
        "# for row in tqdm(wbd_hls_results):\n",
        "#     file = earthaccess.open([row])\n",
        "#     print(file[0])\n",
        "#     print(type(file[0]))\n",
        "#     print(file[1])\n",
        "#     print(type(file[1]))\n",
        "#     for num in range(0, 15):\n",
        "#         files.append(file[num])\n",
        "#         #files list should be 1320 in length"
      ]
    },
    {
      "cell_type": "code",
      "execution_count": 24,
      "id": "dc1d3e28",
      "metadata": {},
      "outputs": [],
      "source": [
        "# check length of files list from above\n",
        "#  len(files)"
      ]
    },
    {
      "cell_type": "code",
      "execution_count": 25,
      "id": "5cfa86d8",
      "metadata": {},
      "outputs": [],
      "source": [
        "# Looking at what we can do with the opened bands\n",
        "# dir(files[0])"
      ]
    },
    {
      "cell_type": "code",
      "execution_count": 26,
      "id": "65508ec0",
      "metadata": {},
      "outputs": [],
      "source": [
        "# ## Get metadata for files list created above, commenting out for now since it isn't needed\n",
        "# ## create empty lists for results\n",
        "# tile_id = []\n",
        "# band_id = []\n",
        "\n",
        "# ## compile regular expression to search for metadata - tile_id and band_id\n",
        "# url_re = re.compile(\n",
        "#     r\"HLS\\.L30\\.(?P<tile_id>T[0-9A-Z]+)\"\n",
        "#     r\"\\.\\d+T\\d+\\.v\\d\\.\\d\\.\"\n",
        "#     r\"(?P<band_id>[A-Za-z0-9].+)\\.tif\"\n",
        "# )\n",
        "# ## use regular expression to search for metadata - tile_id and band_id\n",
        "# for file in files:\n",
        "#     # this yields a dictionary with the tile id and band id\n",
        "#     file_metadata = url_re.search(file.full_name)\n",
        "#     tile_id.append(file_metadata.group('tile_id'))\n",
        "#     band_id.append(file_metadata.group('band_id'))"
      ]
    },
    {
      "cell_type": "code",
      "execution_count": 27,
      "id": "39b05e56",
      "metadata": {},
      "outputs": [],
      "source": [
        "# # check tile_id list\n",
        "# tile_id"
      ]
    },
    {
      "cell_type": "code",
      "execution_count": 28,
      "id": "c6e52c7a",
      "metadata": {},
      "outputs": [],
      "source": [
        "# # check band_id list\n",
        "# band_id"
      ]
    },
    {
      "cell_type": "markdown",
      "id": "41b6d494",
      "metadata": {},
      "source": [
        "Code that's working independently: tile_id/band_id lists, files list, and the datetime/geom list. Can we put all those into one loop to hopefully create a gdf where all columns are the same length? Right now my issue is that now that the tile_id/band_id and files lists are working, they're too long for the granule_datetimes and granule_geometries lists. I'm going to try to model this big loop after Elsa's loop. I don't see a great need to make it a function, except that mabye I could cache the results which would be nice. Hopefully I end up w/ a gdf w/ 5 columns and 1320 rows: each set of 15 rows should have the same tile_id, geometry, and datetime, each row w/in the 15 should have it's own band_id, and each row in the whole gdf should have a unique url."
      ]
    },
    {
      "cell_type": "code",
      "execution_count": 29,
      "id": "bbe8c0c9",
      "metadata": {},
      "outputs": [],
      "source": [
        "## Tried creating my own loop to create a gdf with granule metadata, took forever and I don't think it worked, not sure why.\n",
        "## Commenting this out and using Elsa's loop instead\n",
        "#  def create_granule_gdf(results):\n",
        "#     \"\"\"\n",
        "#     Create a GeoDataFrame with granule metadata: datetime, url, tile_id, band_id, and geometry.\n",
        "    \n",
        "#     Parameters:\n",
        "#     results : list of HLS tiles from searching earthaccess\n",
        "    \n",
        "#     Returns:\n",
        "#     granule_gdf: GeoDataFrame w/ granule metadata\n",
        "#     \"\"\"\n",
        "#     ## compile regular expression to search for metadata - tile_id and band_id\n",
        "#     url_re = re.compile(\n",
        "#         r\"HLS\\.L30\\.(?P<tile_id>T[0-9A-Z]+)\"\n",
        "#         r\"\\.\\d+T\\d+\\.v\\d\\.\\d\\.\"\n",
        "#         r\"(?P<band_id>[A-Za-z0-9].+)\\.tif\"\n",
        "#         )\n",
        "#     ## loop through each granule to get datetime and geometry\n",
        "#     ## empty lists for datetimes and geometries\n",
        "#     #granule_datetimes = []\n",
        "#     #geometries = []\n",
        "#     link_rows =[]\n",
        "\n",
        "#     ## set up for loop, tqdm creates a progress bar\n",
        "#     ## for each row in the wbd_gls_results...\n",
        "#     for granule in tqdm(results):\n",
        "#         metadata = granule['umm']\n",
        "#         ## identify the granule_datetime and append it to the granule_datetimes list\n",
        "#         granule_datetime = pd.to_datetime(metadata\n",
        "#             ['TemporalExtent']['RangeDateTime']['BeginningDateTime'])\n",
        "#         #granule_datetimes.append(granule_datetime)\n",
        "#         #print(granule_datetime)\n",
        "\n",
        "#         ## identify the granule_geometry and append it to the granule_geometries list\n",
        "#         ## create a list of all points, lat/lon, for the first result from the umm column of the first result\n",
        "#         points = (\n",
        "#             metadata\n",
        "#             # select the first thing in the GPolygons list\n",
        "#             ['SpatialExtent']['HorizontalSpatialDomain']['Geometry']['GPolygons'][0]\n",
        "#             ['Boundary']['Points'])\n",
        "#         ## create the geometry (Polygon) of the first result using Polygon from shapely\n",
        "#         ## loop through all the points in our points list and get the lat/long for each one to create the geometry\n",
        "#         geometry = Polygon(\n",
        "#             [(point['Longitude'], point['Latitude']) for point in points])\n",
        "#         #geometries.append(geometry)\n",
        "#         #print(geometry)\n",
        "\n",
        "#         # Get granule url by opening each file in results\n",
        "#         files=[]\n",
        "#         for granule in tqdm(results):\n",
        "#             file_indiv = earthaccess.open([granule])\n",
        "#             print(file_indiv[0])\n",
        "#             print(type(file_indiv[0]))\n",
        "#             print(file_indiv[1])\n",
        "#             print(type(file_indiv[1]))\n",
        "#             for num in range(0, 15):\n",
        "#                 files.append(file_indiv[num])\n",
        "#                 #files list should be 1320 in length\n",
        "\n",
        "#         ## use regular expression to search for metadata - tile_id and band_id\n",
        "#         # tile_ids = []\n",
        "#         # band_ids = []\n",
        "#         for file in files:\n",
        "#             # this yields a dictionary with the tile id and band id\n",
        "#             file_metadata = url_re.search(file.full_name)\n",
        "#             # tile_ids.append(file_metadata.group('tile_id'))\n",
        "#             # band_ids.append(file_metadata.group('band_id'))\n",
        "\n",
        "#             # Create metadata DataFrame\n",
        "#             if file_metadata is not None:\n",
        "#                 link_rows.append(\n",
        "#                     gpd.GeoDataFrame(\n",
        "#                         dict(\n",
        "#                             granule_datetime = [granule_datetime],\n",
        "#                             tile_ids = [file_metadata.group('tile_id')],\n",
        "#                             band_ids = [file_metadata.group('band_id')],\n",
        "#                             url = [file],\n",
        "#                             geometry = [geometry]\n",
        "#                             ),\n",
        "#                             crs='EPSG:4326'\n",
        "#                     )\n",
        "#                 )\n",
        "#     # Concatenate metadata DataFrame\n",
        "#     file_df = pd.concat(link_rows.reset_index)(drop=True)\n",
        "#     return file_df"
      ]
    },
    {
      "cell_type": "code",
      "execution_count": 30,
      "id": "7cb02e9e",
      "metadata": {},
      "outputs": [],
      "source": [
        "## Try using my loop to greate a gdf w/ granule metadata\n",
        "## Took forever, don't think it worked :(\n",
        "# create_granule_gdf(wbd_hls_results)"
      ]
    },
    {
      "cell_type": "code",
      "execution_count": 31,
      "id": "0f42bc94",
      "metadata": {},
      "outputs": [],
      "source": [
        "## When I had the individual parts of my loops working, this was to create the gdf with my granule metadata. ran into issues b/c the metadata lists weren't the same length\n",
        "#  # Create dictionary to hold metadata lists\n",
        "# metadata_dict = ({'granule_datetime' : granule_datetimes,\n",
        "#                   'url' : files,\n",
        "#                   'tile_id' : tile_id,\n",
        "#                   'band_id' : band_id,\n",
        "#                   'granule_geometry' : granule_geometries})\n",
        "\n",
        "# # Create GeoDataFrame out of metadata_dict\n",
        "# granule_gdf = gpd.GeoDataFrame(metadata_dict, crs=\"EPSG:4326\")\n",
        "# granule_gdf"
      ]
    },
    {
      "cell_type": "code",
      "execution_count": 32,
      "id": "bad1cbb1",
      "metadata": {},
      "outputs": [],
      "source": [
        "## check part of granule_gdf\n",
        "#  granule_gdf.loc[0].urls"
      ]
    },
    {
      "cell_type": "markdown",
      "id": "fb792afe",
      "metadata": {},
      "source": [
        "Couldn't get my granule metadata gdf function to work. letting it go and using the function from the solutions"
      ]
    },
    {
      "cell_type": "code",
      "execution_count": 33,
      "id": "d266d3ce",
      "metadata": {},
      "outputs": [],
      "source": [
        "def create_granule_df(results):\n",
        "    \"\"\"\n",
        "    Create a DataFrame with HLS granule metadata: datetime, url, tile_id, band_id, and geometry.\n",
        "    \n",
        "    Parameters:\n",
        "    results : list of HLS tiles from searching earthaccess\n",
        "    \n",
        "    Returns:\n",
        "    file_df : DataFrame w/ granule metadata\n",
        "    \"\"\"\n",
        "    ## compile regular expression to search for metadata - tile_id and band_id\n",
        "    url_re = re.compile(\n",
        "        r'\\.(?P<tile_id>\\w+)\\.\\d+T\\d+\\.v\\d\\.\\d\\.(?P<band>[A-Za-z0-9]+)\\.tif')\n",
        "\n",
        "    # Loop through each granule\n",
        "    # create an empty list for the metadata to be added to\n",
        "    link_rows = []\n",
        "    # For each granule in the HLS results...\n",
        "    for granule in tqdm(results):\n",
        "        # Identify granule metadata (umm column of HLS results)\n",
        "        info_dict = granule['umm']\n",
        "        # Identify granule datetime\n",
        "        datetime = pd.to_datetime(\n",
        "            info_dict\n",
        "            ['TemporalExtent']['RangeDateTime']['BeginningDateTime'])\n",
        "        # Identify the granule geometry by creating a list of all points,\n",
        "        # lat/lon, for the first result from the umm column HLS result\n",
        "        points = (\n",
        "            info_dict\n",
        "            # select the first thing in the GPolygons list\n",
        "            ['SpatialExtent']['HorizontalSpatialDomain']['Geometry']['GPolygons'][0]\n",
        "            ['Boundary']['Points'])\n",
        "        # create geometry (Polygon) of the first result using Polygon from shapely\n",
        "        # loop through all the points in our points list and get the lat/lon for each one to create the granule geometry\n",
        "        geometry = Polygon(\n",
        "            [(point['Longitude'], point['Latitude']) for point in points])\n",
        "        \n",
        "        # Get granule URL by opening each HLS result\n",
        "        files = earthaccess.open([granule])\n",
        "\n",
        "        # Build metadata DataFrame\n",
        "        # for each URL in the files list...\n",
        "        for file in files:\n",
        "            # use a regular expression to search for the URL's metadata\n",
        "            match = url_re.search(file.full_name)\n",
        "            # if the regular expression search exists,\n",
        "            if match is not None:\n",
        "                # add a dictionary with the URL's metadata to the link_rows list\n",
        "                link_rows.append(\n",
        "                    gpd.GeoDataFrame(\n",
        "                        dict(\n",
        "                            datetime=[datetime],\n",
        "                            tile_id=[match.group('tile_id')],\n",
        "                            band=[match.group('band')],\n",
        "                            url=[file],\n",
        "                            geometry=[geometry]\n",
        "                        ),\n",
        "                        crs=\"EPSG:4326\"\n",
        "                    )\n",
        "                )\n",
        "\n",
        "    # Concatenate metadata DataFrame\n",
        "    file_df = pd.concat(link_rows).reset_index(drop=True)\n",
        "    return file_df"
      ]
    },
    {
      "cell_type": "code",
      "execution_count": 34,
      "id": "0c7aeb51",
      "metadata": {},
      "outputs": [
        {
          "data": {
            "application/vnd.jupyter.widget-view+json": {
              "model_id": "458f1566406a490582c38e6f71637f60",
              "version_major": 2,
              "version_minor": 0
            },
            "text/plain": [
              "  0%|          | 0/88 [00:00<?, ?it/s]"
            ]
          },
          "metadata": {},
          "output_type": "display_data"
        },
        {
          "data": {
            "application/vnd.jupyter.widget-view+json": {
              "model_id": "cc1d8b3527b648d4b5782409e553b6a1",
              "version_major": 2,
              "version_minor": 0
            },
            "text/plain": [
              "QUEUEING TASKS | :   0%|          | 0/15 [00:00<?, ?it/s]"
            ]
          },
          "metadata": {},
          "output_type": "display_data"
        },
        {
          "data": {
            "application/vnd.jupyter.widget-view+json": {
              "model_id": "81eb7720a5024eadabdc2ec528aecdfa",
              "version_major": 2,
              "version_minor": 0
            },
            "text/plain": [
              "PROCESSING TASKS | :   0%|          | 0/15 [00:00<?, ?it/s]"
            ]
          },
          "metadata": {},
          "output_type": "display_data"
        },
        {
          "data": {
            "application/vnd.jupyter.widget-view+json": {
              "model_id": "7df63530556c494ca0a4422f676004b0",
              "version_major": 2,
              "version_minor": 0
            },
            "text/plain": [
              "COLLECTING RESULTS | :   0%|          | 0/15 [00:00<?, ?it/s]"
            ]
          },
          "metadata": {},
          "output_type": "display_data"
        },
        {
          "data": {
            "application/vnd.jupyter.widget-view+json": {
              "model_id": "fcff46fa515e4871b159a9d688b9c420",
              "version_major": 2,
              "version_minor": 0
            },
            "text/plain": [
              "QUEUEING TASKS | :   0%|          | 0/15 [00:00<?, ?it/s]"
            ]
          },
          "metadata": {},
          "output_type": "display_data"
        },
        {
          "data": {
            "application/vnd.jupyter.widget-view+json": {
              "model_id": "f22d3cab2ab04833b578b77bc9a4a3a0",
              "version_major": 2,
              "version_minor": 0
            },
            "text/plain": [
              "PROCESSING TASKS | :   0%|          | 0/15 [00:00<?, ?it/s]"
            ]
          },
          "metadata": {},
          "output_type": "display_data"
        },
        {
          "data": {
            "application/vnd.jupyter.widget-view+json": {
              "model_id": "1ec68cb1bdd645a5b0de425ba7043eb0",
              "version_major": 2,
              "version_minor": 0
            },
            "text/plain": [
              "COLLECTING RESULTS | :   0%|          | 0/15 [00:00<?, ?it/s]"
            ]
          },
          "metadata": {},
          "output_type": "display_data"
        },
        {
          "data": {
            "application/vnd.jupyter.widget-view+json": {
              "model_id": "073a8954ac5843e09ca267b41254411e",
              "version_major": 2,
              "version_minor": 0
            },
            "text/plain": [
              "QUEUEING TASKS | :   0%|          | 0/15 [00:00<?, ?it/s]"
            ]
          },
          "metadata": {},
          "output_type": "display_data"
        },
        {
          "data": {
            "application/vnd.jupyter.widget-view+json": {
              "model_id": "8ebab2b88e9e46d79864a0c5a9a275d2",
              "version_major": 2,
              "version_minor": 0
            },
            "text/plain": [
              "PROCESSING TASKS | :   0%|          | 0/15 [00:00<?, ?it/s]"
            ]
          },
          "metadata": {},
          "output_type": "display_data"
        },
        {
          "data": {
            "application/vnd.jupyter.widget-view+json": {
              "model_id": "6126e44dbb694d33801ae4c98e5ab12d",
              "version_major": 2,
              "version_minor": 0
            },
            "text/plain": [
              "COLLECTING RESULTS | :   0%|          | 0/15 [00:00<?, ?it/s]"
            ]
          },
          "metadata": {},
          "output_type": "display_data"
        },
        {
          "data": {
            "application/vnd.jupyter.widget-view+json": {
              "model_id": "06366a06ba8745f8937f2e1811229059",
              "version_major": 2,
              "version_minor": 0
            },
            "text/plain": [
              "QUEUEING TASKS | :   0%|          | 0/15 [00:00<?, ?it/s]"
            ]
          },
          "metadata": {},
          "output_type": "display_data"
        },
        {
          "data": {
            "application/vnd.jupyter.widget-view+json": {
              "model_id": "e420451b55ca45a4958e43dd5c3c9412",
              "version_major": 2,
              "version_minor": 0
            },
            "text/plain": [
              "PROCESSING TASKS | :   0%|          | 0/15 [00:00<?, ?it/s]"
            ]
          },
          "metadata": {},
          "output_type": "display_data"
        },
        {
          "data": {
            "application/vnd.jupyter.widget-view+json": {
              "model_id": "f55bcb5a279748d1ab01f05952ac78d0",
              "version_major": 2,
              "version_minor": 0
            },
            "text/plain": [
              "COLLECTING RESULTS | :   0%|          | 0/15 [00:00<?, ?it/s]"
            ]
          },
          "metadata": {},
          "output_type": "display_data"
        },
        {
          "data": {
            "application/vnd.jupyter.widget-view+json": {
              "model_id": "096661403f044c1c974c84bb5c632ab2",
              "version_major": 2,
              "version_minor": 0
            },
            "text/plain": [
              "QUEUEING TASKS | :   0%|          | 0/15 [00:00<?, ?it/s]"
            ]
          },
          "metadata": {},
          "output_type": "display_data"
        },
        {
          "data": {
            "application/vnd.jupyter.widget-view+json": {
              "model_id": "7c07a95823eb42bb8ccb4a3e323e57e2",
              "version_major": 2,
              "version_minor": 0
            },
            "text/plain": [
              "PROCESSING TASKS | :   0%|          | 0/15 [00:00<?, ?it/s]"
            ]
          },
          "metadata": {},
          "output_type": "display_data"
        },
        {
          "data": {
            "application/vnd.jupyter.widget-view+json": {
              "model_id": "bf69568030364289a4dc5cc45dfd747c",
              "version_major": 2,
              "version_minor": 0
            },
            "text/plain": [
              "COLLECTING RESULTS | :   0%|          | 0/15 [00:00<?, ?it/s]"
            ]
          },
          "metadata": {},
          "output_type": "display_data"
        },
        {
          "data": {
            "application/vnd.jupyter.widget-view+json": {
              "model_id": "9a97277cd2ef4e3d84a04d70160b06fd",
              "version_major": 2,
              "version_minor": 0
            },
            "text/plain": [
              "QUEUEING TASKS | :   0%|          | 0/15 [00:00<?, ?it/s]"
            ]
          },
          "metadata": {},
          "output_type": "display_data"
        },
        {
          "data": {
            "application/vnd.jupyter.widget-view+json": {
              "model_id": "3e61fe832a33480985c1cda458f50ad0",
              "version_major": 2,
              "version_minor": 0
            },
            "text/plain": [
              "PROCESSING TASKS | :   0%|          | 0/15 [00:00<?, ?it/s]"
            ]
          },
          "metadata": {},
          "output_type": "display_data"
        },
        {
          "data": {
            "application/vnd.jupyter.widget-view+json": {
              "model_id": "c759e3adeb00421184f64f49434c5b1e",
              "version_major": 2,
              "version_minor": 0
            },
            "text/plain": [
              "COLLECTING RESULTS | :   0%|          | 0/15 [00:00<?, ?it/s]"
            ]
          },
          "metadata": {},
          "output_type": "display_data"
        },
        {
          "data": {
            "application/vnd.jupyter.widget-view+json": {
              "model_id": "087a9428f62042f19b81db0dd46b67fc",
              "version_major": 2,
              "version_minor": 0
            },
            "text/plain": [
              "QUEUEING TASKS | :   0%|          | 0/15 [00:00<?, ?it/s]"
            ]
          },
          "metadata": {},
          "output_type": "display_data"
        },
        {
          "data": {
            "application/vnd.jupyter.widget-view+json": {
              "model_id": "30d7ddb25c6e4fa5969fe4ee7282475f",
              "version_major": 2,
              "version_minor": 0
            },
            "text/plain": [
              "PROCESSING TASKS | :   0%|          | 0/15 [00:00<?, ?it/s]"
            ]
          },
          "metadata": {},
          "output_type": "display_data"
        },
        {
          "data": {
            "application/vnd.jupyter.widget-view+json": {
              "model_id": "413a174d6e3145aca2e72a7fc91a825d",
              "version_major": 2,
              "version_minor": 0
            },
            "text/plain": [
              "COLLECTING RESULTS | :   0%|          | 0/15 [00:00<?, ?it/s]"
            ]
          },
          "metadata": {},
          "output_type": "display_data"
        },
        {
          "data": {
            "application/vnd.jupyter.widget-view+json": {
              "model_id": "c19d867985144e0bb597f72c74dd2119",
              "version_major": 2,
              "version_minor": 0
            },
            "text/plain": [
              "QUEUEING TASKS | :   0%|          | 0/15 [00:00<?, ?it/s]"
            ]
          },
          "metadata": {},
          "output_type": "display_data"
        },
        {
          "data": {
            "application/vnd.jupyter.widget-view+json": {
              "model_id": "f658302358424a938e8d1b8835185663",
              "version_major": 2,
              "version_minor": 0
            },
            "text/plain": [
              "PROCESSING TASKS | :   0%|          | 0/15 [00:00<?, ?it/s]"
            ]
          },
          "metadata": {},
          "output_type": "display_data"
        },
        {
          "data": {
            "application/vnd.jupyter.widget-view+json": {
              "model_id": "7db4f748a3294079ba8c1978da6553cf",
              "version_major": 2,
              "version_minor": 0
            },
            "text/plain": [
              "COLLECTING RESULTS | :   0%|          | 0/15 [00:00<?, ?it/s]"
            ]
          },
          "metadata": {},
          "output_type": "display_data"
        },
        {
          "data": {
            "application/vnd.jupyter.widget-view+json": {
              "model_id": "ba08162099c040278c51b0236bc25e09",
              "version_major": 2,
              "version_minor": 0
            },
            "text/plain": [
              "QUEUEING TASKS | :   0%|          | 0/15 [00:00<?, ?it/s]"
            ]
          },
          "metadata": {},
          "output_type": "display_data"
        },
        {
          "data": {
            "application/vnd.jupyter.widget-view+json": {
              "model_id": "21defbf250ba40ebaf1f1b6eb2eeb1db",
              "version_major": 2,
              "version_minor": 0
            },
            "text/plain": [
              "PROCESSING TASKS | :   0%|          | 0/15 [00:00<?, ?it/s]"
            ]
          },
          "metadata": {},
          "output_type": "display_data"
        },
        {
          "data": {
            "application/vnd.jupyter.widget-view+json": {
              "model_id": "44208c3d59b24770b8a823601c14a5f0",
              "version_major": 2,
              "version_minor": 0
            },
            "text/plain": [
              "COLLECTING RESULTS | :   0%|          | 0/15 [00:00<?, ?it/s]"
            ]
          },
          "metadata": {},
          "output_type": "display_data"
        },
        {
          "data": {
            "application/vnd.jupyter.widget-view+json": {
              "model_id": "2053379bbae7420cb4df9d9bb0f859a8",
              "version_major": 2,
              "version_minor": 0
            },
            "text/plain": [
              "QUEUEING TASKS | :   0%|          | 0/15 [00:00<?, ?it/s]"
            ]
          },
          "metadata": {},
          "output_type": "display_data"
        },
        {
          "data": {
            "application/vnd.jupyter.widget-view+json": {
              "model_id": "5809e4d4f9714f9ab593b268b4451f0e",
              "version_major": 2,
              "version_minor": 0
            },
            "text/plain": [
              "PROCESSING TASKS | :   0%|          | 0/15 [00:00<?, ?it/s]"
            ]
          },
          "metadata": {},
          "output_type": "display_data"
        },
        {
          "data": {
            "application/vnd.jupyter.widget-view+json": {
              "model_id": "5451cebb6c004f21b06917010595dbcc",
              "version_major": 2,
              "version_minor": 0
            },
            "text/plain": [
              "COLLECTING RESULTS | :   0%|          | 0/15 [00:00<?, ?it/s]"
            ]
          },
          "metadata": {},
          "output_type": "display_data"
        },
        {
          "data": {
            "application/vnd.jupyter.widget-view+json": {
              "model_id": "838d7135f67a4ee7bb51b2d8fbd81df6",
              "version_major": 2,
              "version_minor": 0
            },
            "text/plain": [
              "QUEUEING TASKS | :   0%|          | 0/15 [00:00<?, ?it/s]"
            ]
          },
          "metadata": {},
          "output_type": "display_data"
        },
        {
          "data": {
            "application/vnd.jupyter.widget-view+json": {
              "model_id": "577d98b869af426d9e8632ec04494b99",
              "version_major": 2,
              "version_minor": 0
            },
            "text/plain": [
              "PROCESSING TASKS | :   0%|          | 0/15 [00:00<?, ?it/s]"
            ]
          },
          "metadata": {},
          "output_type": "display_data"
        },
        {
          "data": {
            "application/vnd.jupyter.widget-view+json": {
              "model_id": "64a34a7d7713419190a41c62a5cd5ae2",
              "version_major": 2,
              "version_minor": 0
            },
            "text/plain": [
              "COLLECTING RESULTS | :   0%|          | 0/15 [00:00<?, ?it/s]"
            ]
          },
          "metadata": {},
          "output_type": "display_data"
        },
        {
          "data": {
            "application/vnd.jupyter.widget-view+json": {
              "model_id": "af70c27411734ae093847dacbd5e40c9",
              "version_major": 2,
              "version_minor": 0
            },
            "text/plain": [
              "QUEUEING TASKS | :   0%|          | 0/15 [00:00<?, ?it/s]"
            ]
          },
          "metadata": {},
          "output_type": "display_data"
        },
        {
          "data": {
            "application/vnd.jupyter.widget-view+json": {
              "model_id": "915f536c676948e7aab961fd71c23cea",
              "version_major": 2,
              "version_minor": 0
            },
            "text/plain": [
              "PROCESSING TASKS | :   0%|          | 0/15 [00:00<?, ?it/s]"
            ]
          },
          "metadata": {},
          "output_type": "display_data"
        },
        {
          "data": {
            "application/vnd.jupyter.widget-view+json": {
              "model_id": "e5a3202492b841aba95a52dd07b6a460",
              "version_major": 2,
              "version_minor": 0
            },
            "text/plain": [
              "COLLECTING RESULTS | :   0%|          | 0/15 [00:00<?, ?it/s]"
            ]
          },
          "metadata": {},
          "output_type": "display_data"
        },
        {
          "data": {
            "application/vnd.jupyter.widget-view+json": {
              "model_id": "3c8d9d91fc8d43c3a3e777e156647b88",
              "version_major": 2,
              "version_minor": 0
            },
            "text/plain": [
              "QUEUEING TASKS | :   0%|          | 0/15 [00:00<?, ?it/s]"
            ]
          },
          "metadata": {},
          "output_type": "display_data"
        },
        {
          "data": {
            "application/vnd.jupyter.widget-view+json": {
              "model_id": "8c11102d001a43aeb1f016125bc0ad94",
              "version_major": 2,
              "version_minor": 0
            },
            "text/plain": [
              "PROCESSING TASKS | :   0%|          | 0/15 [00:00<?, ?it/s]"
            ]
          },
          "metadata": {},
          "output_type": "display_data"
        },
        {
          "data": {
            "application/vnd.jupyter.widget-view+json": {
              "model_id": "c13435e2ea904fd59a250a027fb4b678",
              "version_major": 2,
              "version_minor": 0
            },
            "text/plain": [
              "COLLECTING RESULTS | :   0%|          | 0/15 [00:00<?, ?it/s]"
            ]
          },
          "metadata": {},
          "output_type": "display_data"
        },
        {
          "data": {
            "application/vnd.jupyter.widget-view+json": {
              "model_id": "41e9b5b418da4dc7bac9f562d52b1800",
              "version_major": 2,
              "version_minor": 0
            },
            "text/plain": [
              "QUEUEING TASKS | :   0%|          | 0/15 [00:00<?, ?it/s]"
            ]
          },
          "metadata": {},
          "output_type": "display_data"
        },
        {
          "data": {
            "application/vnd.jupyter.widget-view+json": {
              "model_id": "790bb5eb4c4449bc83f2368b41a642d4",
              "version_major": 2,
              "version_minor": 0
            },
            "text/plain": [
              "PROCESSING TASKS | :   0%|          | 0/15 [00:00<?, ?it/s]"
            ]
          },
          "metadata": {},
          "output_type": "display_data"
        },
        {
          "data": {
            "application/vnd.jupyter.widget-view+json": {
              "model_id": "e7255f0ffd5747049a7661fcb51702a1",
              "version_major": 2,
              "version_minor": 0
            },
            "text/plain": [
              "COLLECTING RESULTS | :   0%|          | 0/15 [00:00<?, ?it/s]"
            ]
          },
          "metadata": {},
          "output_type": "display_data"
        },
        {
          "data": {
            "application/vnd.jupyter.widget-view+json": {
              "model_id": "5c2ed45966444a85bd298f19c1bae02d",
              "version_major": 2,
              "version_minor": 0
            },
            "text/plain": [
              "QUEUEING TASKS | :   0%|          | 0/15 [00:00<?, ?it/s]"
            ]
          },
          "metadata": {},
          "output_type": "display_data"
        },
        {
          "data": {
            "application/vnd.jupyter.widget-view+json": {
              "model_id": "a6c1277353004de0bc7ba03d27b04730",
              "version_major": 2,
              "version_minor": 0
            },
            "text/plain": [
              "PROCESSING TASKS | :   0%|          | 0/15 [00:00<?, ?it/s]"
            ]
          },
          "metadata": {},
          "output_type": "display_data"
        },
        {
          "data": {
            "application/vnd.jupyter.widget-view+json": {
              "model_id": "842088805d1e46b1836246ead00d3007",
              "version_major": 2,
              "version_minor": 0
            },
            "text/plain": [
              "COLLECTING RESULTS | :   0%|          | 0/15 [00:00<?, ?it/s]"
            ]
          },
          "metadata": {},
          "output_type": "display_data"
        },
        {
          "data": {
            "application/vnd.jupyter.widget-view+json": {
              "model_id": "3e9d816492014e5282bd7cfb0a4ace84",
              "version_major": 2,
              "version_minor": 0
            },
            "text/plain": [
              "QUEUEING TASKS | :   0%|          | 0/15 [00:00<?, ?it/s]"
            ]
          },
          "metadata": {},
          "output_type": "display_data"
        },
        {
          "data": {
            "application/vnd.jupyter.widget-view+json": {
              "model_id": "c61e9ea5b78444adaae9a7f551a498a4",
              "version_major": 2,
              "version_minor": 0
            },
            "text/plain": [
              "PROCESSING TASKS | :   0%|          | 0/15 [00:00<?, ?it/s]"
            ]
          },
          "metadata": {},
          "output_type": "display_data"
        },
        {
          "data": {
            "application/vnd.jupyter.widget-view+json": {
              "model_id": "1e0d426adec34c34b5d9218fd6d779f5",
              "version_major": 2,
              "version_minor": 0
            },
            "text/plain": [
              "COLLECTING RESULTS | :   0%|          | 0/15 [00:00<?, ?it/s]"
            ]
          },
          "metadata": {},
          "output_type": "display_data"
        },
        {
          "data": {
            "application/vnd.jupyter.widget-view+json": {
              "model_id": "8067602138ff4f28a036c98ebd3a50af",
              "version_major": 2,
              "version_minor": 0
            },
            "text/plain": [
              "QUEUEING TASKS | :   0%|          | 0/15 [00:00<?, ?it/s]"
            ]
          },
          "metadata": {},
          "output_type": "display_data"
        },
        {
          "data": {
            "application/vnd.jupyter.widget-view+json": {
              "model_id": "fa972b9ac8d14978993ae9581271e576",
              "version_major": 2,
              "version_minor": 0
            },
            "text/plain": [
              "PROCESSING TASKS | :   0%|          | 0/15 [00:00<?, ?it/s]"
            ]
          },
          "metadata": {},
          "output_type": "display_data"
        },
        {
          "data": {
            "application/vnd.jupyter.widget-view+json": {
              "model_id": "748b3e833ef14720a77bedca364d37fc",
              "version_major": 2,
              "version_minor": 0
            },
            "text/plain": [
              "COLLECTING RESULTS | :   0%|          | 0/15 [00:00<?, ?it/s]"
            ]
          },
          "metadata": {},
          "output_type": "display_data"
        },
        {
          "data": {
            "application/vnd.jupyter.widget-view+json": {
              "model_id": "cbed11e2598b45cbafff2807d6fafc9d",
              "version_major": 2,
              "version_minor": 0
            },
            "text/plain": [
              "QUEUEING TASKS | :   0%|          | 0/15 [00:00<?, ?it/s]"
            ]
          },
          "metadata": {},
          "output_type": "display_data"
        },
        {
          "data": {
            "application/vnd.jupyter.widget-view+json": {
              "model_id": "ce5d81a83b5c4177a00e717cd108cc5d",
              "version_major": 2,
              "version_minor": 0
            },
            "text/plain": [
              "PROCESSING TASKS | :   0%|          | 0/15 [00:00<?, ?it/s]"
            ]
          },
          "metadata": {},
          "output_type": "display_data"
        },
        {
          "data": {
            "application/vnd.jupyter.widget-view+json": {
              "model_id": "54c27dbaf4424aa4b183a097c8d439a7",
              "version_major": 2,
              "version_minor": 0
            },
            "text/plain": [
              "COLLECTING RESULTS | :   0%|          | 0/15 [00:00<?, ?it/s]"
            ]
          },
          "metadata": {},
          "output_type": "display_data"
        },
        {
          "data": {
            "application/vnd.jupyter.widget-view+json": {
              "model_id": "f209a136a9c847ca8aeba31cb87104d6",
              "version_major": 2,
              "version_minor": 0
            },
            "text/plain": [
              "QUEUEING TASKS | :   0%|          | 0/15 [00:00<?, ?it/s]"
            ]
          },
          "metadata": {},
          "output_type": "display_data"
        },
        {
          "data": {
            "application/vnd.jupyter.widget-view+json": {
              "model_id": "87d9f7f40e2f4535a4a35c580e837bb7",
              "version_major": 2,
              "version_minor": 0
            },
            "text/plain": [
              "PROCESSING TASKS | :   0%|          | 0/15 [00:00<?, ?it/s]"
            ]
          },
          "metadata": {},
          "output_type": "display_data"
        },
        {
          "data": {
            "application/vnd.jupyter.widget-view+json": {
              "model_id": "6e89559ec4cd457c9572e29ed0731649",
              "version_major": 2,
              "version_minor": 0
            },
            "text/plain": [
              "COLLECTING RESULTS | :   0%|          | 0/15 [00:00<?, ?it/s]"
            ]
          },
          "metadata": {},
          "output_type": "display_data"
        },
        {
          "data": {
            "application/vnd.jupyter.widget-view+json": {
              "model_id": "babd4861edce403a8b534a6e8073058c",
              "version_major": 2,
              "version_minor": 0
            },
            "text/plain": [
              "QUEUEING TASKS | :   0%|          | 0/15 [00:00<?, ?it/s]"
            ]
          },
          "metadata": {},
          "output_type": "display_data"
        },
        {
          "data": {
            "application/vnd.jupyter.widget-view+json": {
              "model_id": "66fd45aa898640c09210cf55cc7fabe6",
              "version_major": 2,
              "version_minor": 0
            },
            "text/plain": [
              "PROCESSING TASKS | :   0%|          | 0/15 [00:00<?, ?it/s]"
            ]
          },
          "metadata": {},
          "output_type": "display_data"
        },
        {
          "data": {
            "application/vnd.jupyter.widget-view+json": {
              "model_id": "304cc0cb227e4045817c953cc0e32e05",
              "version_major": 2,
              "version_minor": 0
            },
            "text/plain": [
              "COLLECTING RESULTS | :   0%|          | 0/15 [00:00<?, ?it/s]"
            ]
          },
          "metadata": {},
          "output_type": "display_data"
        },
        {
          "data": {
            "application/vnd.jupyter.widget-view+json": {
              "model_id": "ce29a9aa1bb84ac4aea766a5761653e9",
              "version_major": 2,
              "version_minor": 0
            },
            "text/plain": [
              "QUEUEING TASKS | :   0%|          | 0/15 [00:00<?, ?it/s]"
            ]
          },
          "metadata": {},
          "output_type": "display_data"
        },
        {
          "data": {
            "application/vnd.jupyter.widget-view+json": {
              "model_id": "bcdf46372ae64cb89764543d79683989",
              "version_major": 2,
              "version_minor": 0
            },
            "text/plain": [
              "PROCESSING TASKS | :   0%|          | 0/15 [00:00<?, ?it/s]"
            ]
          },
          "metadata": {},
          "output_type": "display_data"
        },
        {
          "data": {
            "application/vnd.jupyter.widget-view+json": {
              "model_id": "857df12f55de420e80fc9fe3494f332e",
              "version_major": 2,
              "version_minor": 0
            },
            "text/plain": [
              "COLLECTING RESULTS | :   0%|          | 0/15 [00:00<?, ?it/s]"
            ]
          },
          "metadata": {},
          "output_type": "display_data"
        },
        {
          "data": {
            "application/vnd.jupyter.widget-view+json": {
              "model_id": "863e87f5138b4d0a8912f91263727834",
              "version_major": 2,
              "version_minor": 0
            },
            "text/plain": [
              "QUEUEING TASKS | :   0%|          | 0/15 [00:00<?, ?it/s]"
            ]
          },
          "metadata": {},
          "output_type": "display_data"
        },
        {
          "data": {
            "application/vnd.jupyter.widget-view+json": {
              "model_id": "6df1687d8d124fdf983056fe6f63ea75",
              "version_major": 2,
              "version_minor": 0
            },
            "text/plain": [
              "PROCESSING TASKS | :   0%|          | 0/15 [00:00<?, ?it/s]"
            ]
          },
          "metadata": {},
          "output_type": "display_data"
        },
        {
          "data": {
            "application/vnd.jupyter.widget-view+json": {
              "model_id": "6f2452b2168f4d938651fedc34bb984e",
              "version_major": 2,
              "version_minor": 0
            },
            "text/plain": [
              "COLLECTING RESULTS | :   0%|          | 0/15 [00:00<?, ?it/s]"
            ]
          },
          "metadata": {},
          "output_type": "display_data"
        },
        {
          "data": {
            "application/vnd.jupyter.widget-view+json": {
              "model_id": "5ac5b65ac8a14db18bcb162b87a2f925",
              "version_major": 2,
              "version_minor": 0
            },
            "text/plain": [
              "QUEUEING TASKS | :   0%|          | 0/15 [00:00<?, ?it/s]"
            ]
          },
          "metadata": {},
          "output_type": "display_data"
        },
        {
          "data": {
            "application/vnd.jupyter.widget-view+json": {
              "model_id": "817ab4406fdf4467a9b82362f3f257de",
              "version_major": 2,
              "version_minor": 0
            },
            "text/plain": [
              "PROCESSING TASKS | :   0%|          | 0/15 [00:00<?, ?it/s]"
            ]
          },
          "metadata": {},
          "output_type": "display_data"
        },
        {
          "data": {
            "application/vnd.jupyter.widget-view+json": {
              "model_id": "8f007afbc46449a8b4f82fea0810d2c7",
              "version_major": 2,
              "version_minor": 0
            },
            "text/plain": [
              "COLLECTING RESULTS | :   0%|          | 0/15 [00:00<?, ?it/s]"
            ]
          },
          "metadata": {},
          "output_type": "display_data"
        },
        {
          "data": {
            "application/vnd.jupyter.widget-view+json": {
              "model_id": "9ae7ba445bfb41648600bb1d796d853f",
              "version_major": 2,
              "version_minor": 0
            },
            "text/plain": [
              "QUEUEING TASKS | :   0%|          | 0/15 [00:00<?, ?it/s]"
            ]
          },
          "metadata": {},
          "output_type": "display_data"
        },
        {
          "data": {
            "application/vnd.jupyter.widget-view+json": {
              "model_id": "c4e6bdb18fb44765bf251f626caf5835",
              "version_major": 2,
              "version_minor": 0
            },
            "text/plain": [
              "PROCESSING TASKS | :   0%|          | 0/15 [00:00<?, ?it/s]"
            ]
          },
          "metadata": {},
          "output_type": "display_data"
        },
        {
          "data": {
            "application/vnd.jupyter.widget-view+json": {
              "model_id": "3a8c7c6541e44e76aa3b83118fea5755",
              "version_major": 2,
              "version_minor": 0
            },
            "text/plain": [
              "COLLECTING RESULTS | :   0%|          | 0/15 [00:00<?, ?it/s]"
            ]
          },
          "metadata": {},
          "output_type": "display_data"
        },
        {
          "data": {
            "application/vnd.jupyter.widget-view+json": {
              "model_id": "2e7b976637724c08865c3446e2b7078f",
              "version_major": 2,
              "version_minor": 0
            },
            "text/plain": [
              "QUEUEING TASKS | :   0%|          | 0/15 [00:00<?, ?it/s]"
            ]
          },
          "metadata": {},
          "output_type": "display_data"
        },
        {
          "data": {
            "application/vnd.jupyter.widget-view+json": {
              "model_id": "ff75dcd557c94c608c082cb83c235844",
              "version_major": 2,
              "version_minor": 0
            },
            "text/plain": [
              "PROCESSING TASKS | :   0%|          | 0/15 [00:00<?, ?it/s]"
            ]
          },
          "metadata": {},
          "output_type": "display_data"
        },
        {
          "data": {
            "application/vnd.jupyter.widget-view+json": {
              "model_id": "10812d4fa80e4e44b3d774e0ad4564e6",
              "version_major": 2,
              "version_minor": 0
            },
            "text/plain": [
              "COLLECTING RESULTS | :   0%|          | 0/15 [00:00<?, ?it/s]"
            ]
          },
          "metadata": {},
          "output_type": "display_data"
        },
        {
          "data": {
            "application/vnd.jupyter.widget-view+json": {
              "model_id": "f983bb2862a746acaa0452ea39fdf665",
              "version_major": 2,
              "version_minor": 0
            },
            "text/plain": [
              "QUEUEING TASKS | :   0%|          | 0/15 [00:00<?, ?it/s]"
            ]
          },
          "metadata": {},
          "output_type": "display_data"
        },
        {
          "data": {
            "application/vnd.jupyter.widget-view+json": {
              "model_id": "ae70feeae3274c7fa9e107aba18ca69f",
              "version_major": 2,
              "version_minor": 0
            },
            "text/plain": [
              "PROCESSING TASKS | :   0%|          | 0/15 [00:00<?, ?it/s]"
            ]
          },
          "metadata": {},
          "output_type": "display_data"
        },
        {
          "data": {
            "application/vnd.jupyter.widget-view+json": {
              "model_id": "90bb1c8a0cfc408eb951478a906e7410",
              "version_major": 2,
              "version_minor": 0
            },
            "text/plain": [
              "COLLECTING RESULTS | :   0%|          | 0/15 [00:00<?, ?it/s]"
            ]
          },
          "metadata": {},
          "output_type": "display_data"
        },
        {
          "data": {
            "application/vnd.jupyter.widget-view+json": {
              "model_id": "aa799e2a3a774365a11df637623ad07c",
              "version_major": 2,
              "version_minor": 0
            },
            "text/plain": [
              "QUEUEING TASKS | :   0%|          | 0/15 [00:00<?, ?it/s]"
            ]
          },
          "metadata": {},
          "output_type": "display_data"
        },
        {
          "data": {
            "application/vnd.jupyter.widget-view+json": {
              "model_id": "ff30e42407154f45a82675675fdc6052",
              "version_major": 2,
              "version_minor": 0
            },
            "text/plain": [
              "PROCESSING TASKS | :   0%|          | 0/15 [00:00<?, ?it/s]"
            ]
          },
          "metadata": {},
          "output_type": "display_data"
        },
        {
          "data": {
            "application/vnd.jupyter.widget-view+json": {
              "model_id": "3a563c3ce17d435982a29dea3034d4d4",
              "version_major": 2,
              "version_minor": 0
            },
            "text/plain": [
              "COLLECTING RESULTS | :   0%|          | 0/15 [00:00<?, ?it/s]"
            ]
          },
          "metadata": {},
          "output_type": "display_data"
        },
        {
          "data": {
            "application/vnd.jupyter.widget-view+json": {
              "model_id": "657f52d24ab9458a9ec7d572cc984c6a",
              "version_major": 2,
              "version_minor": 0
            },
            "text/plain": [
              "QUEUEING TASKS | :   0%|          | 0/15 [00:00<?, ?it/s]"
            ]
          },
          "metadata": {},
          "output_type": "display_data"
        },
        {
          "data": {
            "application/vnd.jupyter.widget-view+json": {
              "model_id": "42ddcd2cf59641c3a3d423e6bd3fa24d",
              "version_major": 2,
              "version_minor": 0
            },
            "text/plain": [
              "PROCESSING TASKS | :   0%|          | 0/15 [00:00<?, ?it/s]"
            ]
          },
          "metadata": {},
          "output_type": "display_data"
        },
        {
          "data": {
            "application/vnd.jupyter.widget-view+json": {
              "model_id": "e18157b050d943639156757dd4e1098e",
              "version_major": 2,
              "version_minor": 0
            },
            "text/plain": [
              "COLLECTING RESULTS | :   0%|          | 0/15 [00:00<?, ?it/s]"
            ]
          },
          "metadata": {},
          "output_type": "display_data"
        },
        {
          "data": {
            "application/vnd.jupyter.widget-view+json": {
              "model_id": "01196a2263b1419aaadb07773eff876d",
              "version_major": 2,
              "version_minor": 0
            },
            "text/plain": [
              "QUEUEING TASKS | :   0%|          | 0/15 [00:00<?, ?it/s]"
            ]
          },
          "metadata": {},
          "output_type": "display_data"
        },
        {
          "data": {
            "application/vnd.jupyter.widget-view+json": {
              "model_id": "74803221db3346a880686fe123c81fa1",
              "version_major": 2,
              "version_minor": 0
            },
            "text/plain": [
              "PROCESSING TASKS | :   0%|          | 0/15 [00:00<?, ?it/s]"
            ]
          },
          "metadata": {},
          "output_type": "display_data"
        },
        {
          "data": {
            "application/vnd.jupyter.widget-view+json": {
              "model_id": "8fb5ad120450479197644b27858b3a09",
              "version_major": 2,
              "version_minor": 0
            },
            "text/plain": [
              "COLLECTING RESULTS | :   0%|          | 0/15 [00:00<?, ?it/s]"
            ]
          },
          "metadata": {},
          "output_type": "display_data"
        },
        {
          "data": {
            "application/vnd.jupyter.widget-view+json": {
              "model_id": "af602d89bfaf4875b3354b500edf6534",
              "version_major": 2,
              "version_minor": 0
            },
            "text/plain": [
              "QUEUEING TASKS | :   0%|          | 0/15 [00:00<?, ?it/s]"
            ]
          },
          "metadata": {},
          "output_type": "display_data"
        },
        {
          "data": {
            "application/vnd.jupyter.widget-view+json": {
              "model_id": "5a5e85b575b14125923837001570b6e4",
              "version_major": 2,
              "version_minor": 0
            },
            "text/plain": [
              "PROCESSING TASKS | :   0%|          | 0/15 [00:00<?, ?it/s]"
            ]
          },
          "metadata": {},
          "output_type": "display_data"
        },
        {
          "data": {
            "application/vnd.jupyter.widget-view+json": {
              "model_id": "b62864cfba0f4ddc90fe1b9fa0640497",
              "version_major": 2,
              "version_minor": 0
            },
            "text/plain": [
              "COLLECTING RESULTS | :   0%|          | 0/15 [00:00<?, ?it/s]"
            ]
          },
          "metadata": {},
          "output_type": "display_data"
        },
        {
          "data": {
            "application/vnd.jupyter.widget-view+json": {
              "model_id": "7184710ee25f476e83bf09a76b816b6a",
              "version_major": 2,
              "version_minor": 0
            },
            "text/plain": [
              "QUEUEING TASKS | :   0%|          | 0/15 [00:00<?, ?it/s]"
            ]
          },
          "metadata": {},
          "output_type": "display_data"
        },
        {
          "data": {
            "application/vnd.jupyter.widget-view+json": {
              "model_id": "6d7fc0dc285644468e3250aaa1c05cd9",
              "version_major": 2,
              "version_minor": 0
            },
            "text/plain": [
              "PROCESSING TASKS | :   0%|          | 0/15 [00:00<?, ?it/s]"
            ]
          },
          "metadata": {},
          "output_type": "display_data"
        },
        {
          "data": {
            "application/vnd.jupyter.widget-view+json": {
              "model_id": "a0f9d3fb61774003bdc9593819ce0bb4",
              "version_major": 2,
              "version_minor": 0
            },
            "text/plain": [
              "COLLECTING RESULTS | :   0%|          | 0/15 [00:00<?, ?it/s]"
            ]
          },
          "metadata": {},
          "output_type": "display_data"
        },
        {
          "data": {
            "application/vnd.jupyter.widget-view+json": {
              "model_id": "2d30f58d748d432dbb62615e8740b6a9",
              "version_major": 2,
              "version_minor": 0
            },
            "text/plain": [
              "QUEUEING TASKS | :   0%|          | 0/15 [00:00<?, ?it/s]"
            ]
          },
          "metadata": {},
          "output_type": "display_data"
        },
        {
          "data": {
            "application/vnd.jupyter.widget-view+json": {
              "model_id": "f1a78a8239d84f7b9ca9fa98b3584a58",
              "version_major": 2,
              "version_minor": 0
            },
            "text/plain": [
              "PROCESSING TASKS | :   0%|          | 0/15 [00:00<?, ?it/s]"
            ]
          },
          "metadata": {},
          "output_type": "display_data"
        },
        {
          "data": {
            "application/vnd.jupyter.widget-view+json": {
              "model_id": "f90e663fdf184885b61a1f4c96ee9ce4",
              "version_major": 2,
              "version_minor": 0
            },
            "text/plain": [
              "COLLECTING RESULTS | :   0%|          | 0/15 [00:00<?, ?it/s]"
            ]
          },
          "metadata": {},
          "output_type": "display_data"
        },
        {
          "data": {
            "application/vnd.jupyter.widget-view+json": {
              "model_id": "d897bf9cd3904ef5a6056ae7492c3df7",
              "version_major": 2,
              "version_minor": 0
            },
            "text/plain": [
              "QUEUEING TASKS | :   0%|          | 0/15 [00:00<?, ?it/s]"
            ]
          },
          "metadata": {},
          "output_type": "display_data"
        },
        {
          "data": {
            "application/vnd.jupyter.widget-view+json": {
              "model_id": "64d9c4f24b384ebeb4131437f7c10008",
              "version_major": 2,
              "version_minor": 0
            },
            "text/plain": [
              "PROCESSING TASKS | :   0%|          | 0/15 [00:00<?, ?it/s]"
            ]
          },
          "metadata": {},
          "output_type": "display_data"
        },
        {
          "data": {
            "application/vnd.jupyter.widget-view+json": {
              "model_id": "88ecfdbbc7ab4d65816e269f53eb93e7",
              "version_major": 2,
              "version_minor": 0
            },
            "text/plain": [
              "COLLECTING RESULTS | :   0%|          | 0/15 [00:00<?, ?it/s]"
            ]
          },
          "metadata": {},
          "output_type": "display_data"
        },
        {
          "data": {
            "application/vnd.jupyter.widget-view+json": {
              "model_id": "2c4210c2e6b5402380ddd41a4fc9cbaf",
              "version_major": 2,
              "version_minor": 0
            },
            "text/plain": [
              "QUEUEING TASKS | :   0%|          | 0/15 [00:00<?, ?it/s]"
            ]
          },
          "metadata": {},
          "output_type": "display_data"
        },
        {
          "data": {
            "application/vnd.jupyter.widget-view+json": {
              "model_id": "cfde8f072cc64f5a8d112ed6880ac951",
              "version_major": 2,
              "version_minor": 0
            },
            "text/plain": [
              "PROCESSING TASKS | :   0%|          | 0/15 [00:00<?, ?it/s]"
            ]
          },
          "metadata": {},
          "output_type": "display_data"
        },
        {
          "data": {
            "application/vnd.jupyter.widget-view+json": {
              "model_id": "5b63e31b984a4fa4b7b4725f68f23e17",
              "version_major": 2,
              "version_minor": 0
            },
            "text/plain": [
              "COLLECTING RESULTS | :   0%|          | 0/15 [00:00<?, ?it/s]"
            ]
          },
          "metadata": {},
          "output_type": "display_data"
        },
        {
          "data": {
            "application/vnd.jupyter.widget-view+json": {
              "model_id": "527b665b5d0a4774b0d80980128cec42",
              "version_major": 2,
              "version_minor": 0
            },
            "text/plain": [
              "QUEUEING TASKS | :   0%|          | 0/15 [00:00<?, ?it/s]"
            ]
          },
          "metadata": {},
          "output_type": "display_data"
        },
        {
          "data": {
            "application/vnd.jupyter.widget-view+json": {
              "model_id": "79f04d8131c245169ef690b4c115120f",
              "version_major": 2,
              "version_minor": 0
            },
            "text/plain": [
              "PROCESSING TASKS | :   0%|          | 0/15 [00:00<?, ?it/s]"
            ]
          },
          "metadata": {},
          "output_type": "display_data"
        },
        {
          "data": {
            "application/vnd.jupyter.widget-view+json": {
              "model_id": "2e911e6b52f74b96b7223931167d0d58",
              "version_major": 2,
              "version_minor": 0
            },
            "text/plain": [
              "COLLECTING RESULTS | :   0%|          | 0/15 [00:00<?, ?it/s]"
            ]
          },
          "metadata": {},
          "output_type": "display_data"
        },
        {
          "data": {
            "application/vnd.jupyter.widget-view+json": {
              "model_id": "1ed877b42c1c485ba930ab2122dd3efc",
              "version_major": 2,
              "version_minor": 0
            },
            "text/plain": [
              "QUEUEING TASKS | :   0%|          | 0/15 [00:00<?, ?it/s]"
            ]
          },
          "metadata": {},
          "output_type": "display_data"
        },
        {
          "data": {
            "application/vnd.jupyter.widget-view+json": {
              "model_id": "669a05c4580f4c49a35ea7ca5dfd2bb8",
              "version_major": 2,
              "version_minor": 0
            },
            "text/plain": [
              "PROCESSING TASKS | :   0%|          | 0/15 [00:00<?, ?it/s]"
            ]
          },
          "metadata": {},
          "output_type": "display_data"
        },
        {
          "data": {
            "application/vnd.jupyter.widget-view+json": {
              "model_id": "ac021ef458bd46159f279cade974ebd9",
              "version_major": 2,
              "version_minor": 0
            },
            "text/plain": [
              "COLLECTING RESULTS | :   0%|          | 0/15 [00:00<?, ?it/s]"
            ]
          },
          "metadata": {},
          "output_type": "display_data"
        },
        {
          "data": {
            "application/vnd.jupyter.widget-view+json": {
              "model_id": "327626b5329f4a4c9ce57393b8aa5775",
              "version_major": 2,
              "version_minor": 0
            },
            "text/plain": [
              "QUEUEING TASKS | :   0%|          | 0/15 [00:00<?, ?it/s]"
            ]
          },
          "metadata": {},
          "output_type": "display_data"
        },
        {
          "data": {
            "application/vnd.jupyter.widget-view+json": {
              "model_id": "ed33b7b231a84f07a2a9ad2e6c9f58b3",
              "version_major": 2,
              "version_minor": 0
            },
            "text/plain": [
              "PROCESSING TASKS | :   0%|          | 0/15 [00:00<?, ?it/s]"
            ]
          },
          "metadata": {},
          "output_type": "display_data"
        },
        {
          "data": {
            "application/vnd.jupyter.widget-view+json": {
              "model_id": "1e778f9afc524daba090338a63696665",
              "version_major": 2,
              "version_minor": 0
            },
            "text/plain": [
              "COLLECTING RESULTS | :   0%|          | 0/15 [00:00<?, ?it/s]"
            ]
          },
          "metadata": {},
          "output_type": "display_data"
        },
        {
          "data": {
            "application/vnd.jupyter.widget-view+json": {
              "model_id": "39280bc4f05e4462a69239674b915217",
              "version_major": 2,
              "version_minor": 0
            },
            "text/plain": [
              "QUEUEING TASKS | :   0%|          | 0/15 [00:00<?, ?it/s]"
            ]
          },
          "metadata": {},
          "output_type": "display_data"
        },
        {
          "data": {
            "application/vnd.jupyter.widget-view+json": {
              "model_id": "72ac1c8c9a9f4a38adfad24ef79c3600",
              "version_major": 2,
              "version_minor": 0
            },
            "text/plain": [
              "PROCESSING TASKS | :   0%|          | 0/15 [00:00<?, ?it/s]"
            ]
          },
          "metadata": {},
          "output_type": "display_data"
        },
        {
          "data": {
            "application/vnd.jupyter.widget-view+json": {
              "model_id": "59e2c47eb0a047f485e91ce480c53056",
              "version_major": 2,
              "version_minor": 0
            },
            "text/plain": [
              "COLLECTING RESULTS | :   0%|          | 0/15 [00:00<?, ?it/s]"
            ]
          },
          "metadata": {},
          "output_type": "display_data"
        },
        {
          "data": {
            "application/vnd.jupyter.widget-view+json": {
              "model_id": "a6556c73f5cc45acbfd44f8adfc8ceba",
              "version_major": 2,
              "version_minor": 0
            },
            "text/plain": [
              "QUEUEING TASKS | :   0%|          | 0/15 [00:00<?, ?it/s]"
            ]
          },
          "metadata": {},
          "output_type": "display_data"
        },
        {
          "data": {
            "application/vnd.jupyter.widget-view+json": {
              "model_id": "e4717a43c73a45b993520bce916d3c15",
              "version_major": 2,
              "version_minor": 0
            },
            "text/plain": [
              "PROCESSING TASKS | :   0%|          | 0/15 [00:00<?, ?it/s]"
            ]
          },
          "metadata": {},
          "output_type": "display_data"
        },
        {
          "data": {
            "application/vnd.jupyter.widget-view+json": {
              "model_id": "9b58ca5ed03e40d0b9f55ad485047a11",
              "version_major": 2,
              "version_minor": 0
            },
            "text/plain": [
              "COLLECTING RESULTS | :   0%|          | 0/15 [00:00<?, ?it/s]"
            ]
          },
          "metadata": {},
          "output_type": "display_data"
        },
        {
          "data": {
            "application/vnd.jupyter.widget-view+json": {
              "model_id": "45f29c804e064ae28d5b8b7d15b79105",
              "version_major": 2,
              "version_minor": 0
            },
            "text/plain": [
              "QUEUEING TASKS | :   0%|          | 0/15 [00:00<?, ?it/s]"
            ]
          },
          "metadata": {},
          "output_type": "display_data"
        },
        {
          "data": {
            "application/vnd.jupyter.widget-view+json": {
              "model_id": "b701e325fd1c4ea69af311b3850cdf87",
              "version_major": 2,
              "version_minor": 0
            },
            "text/plain": [
              "PROCESSING TASKS | :   0%|          | 0/15 [00:00<?, ?it/s]"
            ]
          },
          "metadata": {},
          "output_type": "display_data"
        },
        {
          "data": {
            "application/vnd.jupyter.widget-view+json": {
              "model_id": "4fc5a4c4088c443e9abe43c892ec0c06",
              "version_major": 2,
              "version_minor": 0
            },
            "text/plain": [
              "COLLECTING RESULTS | :   0%|          | 0/15 [00:00<?, ?it/s]"
            ]
          },
          "metadata": {},
          "output_type": "display_data"
        },
        {
          "data": {
            "application/vnd.jupyter.widget-view+json": {
              "model_id": "04f554d06a6846d5af305af5de05dd20",
              "version_major": 2,
              "version_minor": 0
            },
            "text/plain": [
              "QUEUEING TASKS | :   0%|          | 0/15 [00:00<?, ?it/s]"
            ]
          },
          "metadata": {},
          "output_type": "display_data"
        },
        {
          "data": {
            "application/vnd.jupyter.widget-view+json": {
              "model_id": "dafe182414374136b54c72c42c754829",
              "version_major": 2,
              "version_minor": 0
            },
            "text/plain": [
              "PROCESSING TASKS | :   0%|          | 0/15 [00:00<?, ?it/s]"
            ]
          },
          "metadata": {},
          "output_type": "display_data"
        },
        {
          "data": {
            "application/vnd.jupyter.widget-view+json": {
              "model_id": "9b524c30b64e4eba9238b479dbde19fa",
              "version_major": 2,
              "version_minor": 0
            },
            "text/plain": [
              "COLLECTING RESULTS | :   0%|          | 0/15 [00:00<?, ?it/s]"
            ]
          },
          "metadata": {},
          "output_type": "display_data"
        },
        {
          "data": {
            "application/vnd.jupyter.widget-view+json": {
              "model_id": "35c6a984d64c4628abdfbca53306f31f",
              "version_major": 2,
              "version_minor": 0
            },
            "text/plain": [
              "QUEUEING TASKS | :   0%|          | 0/15 [00:00<?, ?it/s]"
            ]
          },
          "metadata": {},
          "output_type": "display_data"
        },
        {
          "data": {
            "application/vnd.jupyter.widget-view+json": {
              "model_id": "6562e22d1aaa4e95ba00d2c9da5d3fc7",
              "version_major": 2,
              "version_minor": 0
            },
            "text/plain": [
              "PROCESSING TASKS | :   0%|          | 0/15 [00:00<?, ?it/s]"
            ]
          },
          "metadata": {},
          "output_type": "display_data"
        },
        {
          "data": {
            "application/vnd.jupyter.widget-view+json": {
              "model_id": "80f766fca25d413c83186fea15fb4b89",
              "version_major": 2,
              "version_minor": 0
            },
            "text/plain": [
              "COLLECTING RESULTS | :   0%|          | 0/15 [00:00<?, ?it/s]"
            ]
          },
          "metadata": {},
          "output_type": "display_data"
        },
        {
          "data": {
            "application/vnd.jupyter.widget-view+json": {
              "model_id": "f49357696ac348a2b2eeaca354b6f257",
              "version_major": 2,
              "version_minor": 0
            },
            "text/plain": [
              "QUEUEING TASKS | :   0%|          | 0/15 [00:00<?, ?it/s]"
            ]
          },
          "metadata": {},
          "output_type": "display_data"
        },
        {
          "data": {
            "application/vnd.jupyter.widget-view+json": {
              "model_id": "120c4e399be44dcc9c54211a596b13b4",
              "version_major": 2,
              "version_minor": 0
            },
            "text/plain": [
              "PROCESSING TASKS | :   0%|          | 0/15 [00:00<?, ?it/s]"
            ]
          },
          "metadata": {},
          "output_type": "display_data"
        },
        {
          "data": {
            "application/vnd.jupyter.widget-view+json": {
              "model_id": "98eed1e956a84fefaa0a800f562ca358",
              "version_major": 2,
              "version_minor": 0
            },
            "text/plain": [
              "COLLECTING RESULTS | :   0%|          | 0/15 [00:00<?, ?it/s]"
            ]
          },
          "metadata": {},
          "output_type": "display_data"
        },
        {
          "data": {
            "application/vnd.jupyter.widget-view+json": {
              "model_id": "a33cbd0913804366aa04331084cf9ab6",
              "version_major": 2,
              "version_minor": 0
            },
            "text/plain": [
              "QUEUEING TASKS | :   0%|          | 0/15 [00:00<?, ?it/s]"
            ]
          },
          "metadata": {},
          "output_type": "display_data"
        },
        {
          "data": {
            "application/vnd.jupyter.widget-view+json": {
              "model_id": "ef103fbcd63d42e996e6908124581153",
              "version_major": 2,
              "version_minor": 0
            },
            "text/plain": [
              "PROCESSING TASKS | :   0%|          | 0/15 [00:00<?, ?it/s]"
            ]
          },
          "metadata": {},
          "output_type": "display_data"
        },
        {
          "data": {
            "application/vnd.jupyter.widget-view+json": {
              "model_id": "cddb3c68f60c458da3347c951b4b9516",
              "version_major": 2,
              "version_minor": 0
            },
            "text/plain": [
              "COLLECTING RESULTS | :   0%|          | 0/15 [00:00<?, ?it/s]"
            ]
          },
          "metadata": {},
          "output_type": "display_data"
        },
        {
          "data": {
            "application/vnd.jupyter.widget-view+json": {
              "model_id": "c13ada8296ee4fd8afa442ccaaa52614",
              "version_major": 2,
              "version_minor": 0
            },
            "text/plain": [
              "QUEUEING TASKS | :   0%|          | 0/15 [00:00<?, ?it/s]"
            ]
          },
          "metadata": {},
          "output_type": "display_data"
        },
        {
          "data": {
            "application/vnd.jupyter.widget-view+json": {
              "model_id": "5394faf85c4b4dfc8cb5d0dbf316f24f",
              "version_major": 2,
              "version_minor": 0
            },
            "text/plain": [
              "PROCESSING TASKS | :   0%|          | 0/15 [00:00<?, ?it/s]"
            ]
          },
          "metadata": {},
          "output_type": "display_data"
        },
        {
          "data": {
            "application/vnd.jupyter.widget-view+json": {
              "model_id": "a1fd34310e534c2fa80daa7d44c7b79c",
              "version_major": 2,
              "version_minor": 0
            },
            "text/plain": [
              "COLLECTING RESULTS | :   0%|          | 0/15 [00:00<?, ?it/s]"
            ]
          },
          "metadata": {},
          "output_type": "display_data"
        },
        {
          "data": {
            "application/vnd.jupyter.widget-view+json": {
              "model_id": "8205ff9bcc1543fb9968175366c6b76f",
              "version_major": 2,
              "version_minor": 0
            },
            "text/plain": [
              "QUEUEING TASKS | :   0%|          | 0/15 [00:00<?, ?it/s]"
            ]
          },
          "metadata": {},
          "output_type": "display_data"
        },
        {
          "data": {
            "application/vnd.jupyter.widget-view+json": {
              "model_id": "f4876eadf691495a855bf061dc9de5e2",
              "version_major": 2,
              "version_minor": 0
            },
            "text/plain": [
              "PROCESSING TASKS | :   0%|          | 0/15 [00:00<?, ?it/s]"
            ]
          },
          "metadata": {},
          "output_type": "display_data"
        },
        {
          "data": {
            "application/vnd.jupyter.widget-view+json": {
              "model_id": "d22d30ab37d84f429307af44fbd4fab9",
              "version_major": 2,
              "version_minor": 0
            },
            "text/plain": [
              "COLLECTING RESULTS | :   0%|          | 0/15 [00:00<?, ?it/s]"
            ]
          },
          "metadata": {},
          "output_type": "display_data"
        },
        {
          "data": {
            "application/vnd.jupyter.widget-view+json": {
              "model_id": "605df793973c4df381eca4b55dce5194",
              "version_major": 2,
              "version_minor": 0
            },
            "text/plain": [
              "QUEUEING TASKS | :   0%|          | 0/15 [00:00<?, ?it/s]"
            ]
          },
          "metadata": {},
          "output_type": "display_data"
        },
        {
          "data": {
            "application/vnd.jupyter.widget-view+json": {
              "model_id": "d726c9a776c04250adeeecb5a67af251",
              "version_major": 2,
              "version_minor": 0
            },
            "text/plain": [
              "PROCESSING TASKS | :   0%|          | 0/15 [00:00<?, ?it/s]"
            ]
          },
          "metadata": {},
          "output_type": "display_data"
        },
        {
          "data": {
            "application/vnd.jupyter.widget-view+json": {
              "model_id": "571e26ffefca4b6d8a0df36b349b69c9",
              "version_major": 2,
              "version_minor": 0
            },
            "text/plain": [
              "COLLECTING RESULTS | :   0%|          | 0/15 [00:00<?, ?it/s]"
            ]
          },
          "metadata": {},
          "output_type": "display_data"
        },
        {
          "data": {
            "application/vnd.jupyter.widget-view+json": {
              "model_id": "91945ad6db1c437fb32d0884e659d5f6",
              "version_major": 2,
              "version_minor": 0
            },
            "text/plain": [
              "QUEUEING TASKS | :   0%|          | 0/15 [00:00<?, ?it/s]"
            ]
          },
          "metadata": {},
          "output_type": "display_data"
        },
        {
          "data": {
            "application/vnd.jupyter.widget-view+json": {
              "model_id": "0a6003b9c31f4af69a10555eafb7e748",
              "version_major": 2,
              "version_minor": 0
            },
            "text/plain": [
              "PROCESSING TASKS | :   0%|          | 0/15 [00:00<?, ?it/s]"
            ]
          },
          "metadata": {},
          "output_type": "display_data"
        },
        {
          "data": {
            "application/vnd.jupyter.widget-view+json": {
              "model_id": "1abe2a44b4b748cdaf98b6d9d70970e4",
              "version_major": 2,
              "version_minor": 0
            },
            "text/plain": [
              "COLLECTING RESULTS | :   0%|          | 0/15 [00:00<?, ?it/s]"
            ]
          },
          "metadata": {},
          "output_type": "display_data"
        },
        {
          "data": {
            "application/vnd.jupyter.widget-view+json": {
              "model_id": "b9b880bdf2b941cb8c7ef53529883fe3",
              "version_major": 2,
              "version_minor": 0
            },
            "text/plain": [
              "QUEUEING TASKS | :   0%|          | 0/15 [00:00<?, ?it/s]"
            ]
          },
          "metadata": {},
          "output_type": "display_data"
        },
        {
          "data": {
            "application/vnd.jupyter.widget-view+json": {
              "model_id": "b7c13755efc24136851f6bee98df10e5",
              "version_major": 2,
              "version_minor": 0
            },
            "text/plain": [
              "PROCESSING TASKS | :   0%|          | 0/15 [00:00<?, ?it/s]"
            ]
          },
          "metadata": {},
          "output_type": "display_data"
        },
        {
          "data": {
            "application/vnd.jupyter.widget-view+json": {
              "model_id": "571cc85922584b6b913e4591c1963755",
              "version_major": 2,
              "version_minor": 0
            },
            "text/plain": [
              "COLLECTING RESULTS | :   0%|          | 0/15 [00:00<?, ?it/s]"
            ]
          },
          "metadata": {},
          "output_type": "display_data"
        },
        {
          "data": {
            "application/vnd.jupyter.widget-view+json": {
              "model_id": "78799b7525ef43e890c8b16a65091ca5",
              "version_major": 2,
              "version_minor": 0
            },
            "text/plain": [
              "QUEUEING TASKS | :   0%|          | 0/15 [00:00<?, ?it/s]"
            ]
          },
          "metadata": {},
          "output_type": "display_data"
        },
        {
          "data": {
            "application/vnd.jupyter.widget-view+json": {
              "model_id": "8c1a292a798f4657988643c72307b432",
              "version_major": 2,
              "version_minor": 0
            },
            "text/plain": [
              "PROCESSING TASKS | :   0%|          | 0/15 [00:00<?, ?it/s]"
            ]
          },
          "metadata": {},
          "output_type": "display_data"
        },
        {
          "data": {
            "application/vnd.jupyter.widget-view+json": {
              "model_id": "1e7a5e8a93874db3b300f427d0f31275",
              "version_major": 2,
              "version_minor": 0
            },
            "text/plain": [
              "COLLECTING RESULTS | :   0%|          | 0/15 [00:00<?, ?it/s]"
            ]
          },
          "metadata": {},
          "output_type": "display_data"
        },
        {
          "data": {
            "application/vnd.jupyter.widget-view+json": {
              "model_id": "6fb7ab937bd848a0bb2b38e46234c732",
              "version_major": 2,
              "version_minor": 0
            },
            "text/plain": [
              "QUEUEING TASKS | :   0%|          | 0/15 [00:00<?, ?it/s]"
            ]
          },
          "metadata": {},
          "output_type": "display_data"
        },
        {
          "data": {
            "application/vnd.jupyter.widget-view+json": {
              "model_id": "f18edbe6a15147e7af1ce5b6af90dccc",
              "version_major": 2,
              "version_minor": 0
            },
            "text/plain": [
              "PROCESSING TASKS | :   0%|          | 0/15 [00:00<?, ?it/s]"
            ]
          },
          "metadata": {},
          "output_type": "display_data"
        },
        {
          "data": {
            "application/vnd.jupyter.widget-view+json": {
              "model_id": "35b6aeebf772431895004892b5c4288e",
              "version_major": 2,
              "version_minor": 0
            },
            "text/plain": [
              "COLLECTING RESULTS | :   0%|          | 0/15 [00:00<?, ?it/s]"
            ]
          },
          "metadata": {},
          "output_type": "display_data"
        },
        {
          "data": {
            "application/vnd.jupyter.widget-view+json": {
              "model_id": "70f2233ebb314a9e82e8cde23433aa57",
              "version_major": 2,
              "version_minor": 0
            },
            "text/plain": [
              "QUEUEING TASKS | :   0%|          | 0/15 [00:00<?, ?it/s]"
            ]
          },
          "metadata": {},
          "output_type": "display_data"
        },
        {
          "data": {
            "application/vnd.jupyter.widget-view+json": {
              "model_id": "6f6b1723ec3545359745f7a9c39cedf9",
              "version_major": 2,
              "version_minor": 0
            },
            "text/plain": [
              "PROCESSING TASKS | :   0%|          | 0/15 [00:00<?, ?it/s]"
            ]
          },
          "metadata": {},
          "output_type": "display_data"
        },
        {
          "data": {
            "application/vnd.jupyter.widget-view+json": {
              "model_id": "f91b734a6fb144dfb1d5b63f311fe047",
              "version_major": 2,
              "version_minor": 0
            },
            "text/plain": [
              "COLLECTING RESULTS | :   0%|          | 0/15 [00:00<?, ?it/s]"
            ]
          },
          "metadata": {},
          "output_type": "display_data"
        },
        {
          "data": {
            "application/vnd.jupyter.widget-view+json": {
              "model_id": "b300b6be61114d528a0dea08cd6681c2",
              "version_major": 2,
              "version_minor": 0
            },
            "text/plain": [
              "QUEUEING TASKS | :   0%|          | 0/15 [00:00<?, ?it/s]"
            ]
          },
          "metadata": {},
          "output_type": "display_data"
        },
        {
          "data": {
            "application/vnd.jupyter.widget-view+json": {
              "model_id": "8d1a6f220e7c463e8b9df9f7c4d85d6a",
              "version_major": 2,
              "version_minor": 0
            },
            "text/plain": [
              "PROCESSING TASKS | :   0%|          | 0/15 [00:00<?, ?it/s]"
            ]
          },
          "metadata": {},
          "output_type": "display_data"
        },
        {
          "data": {
            "application/vnd.jupyter.widget-view+json": {
              "model_id": "62d10d1944fb46049313e7aad1fbf98e",
              "version_major": 2,
              "version_minor": 0
            },
            "text/plain": [
              "COLLECTING RESULTS | :   0%|          | 0/15 [00:00<?, ?it/s]"
            ]
          },
          "metadata": {},
          "output_type": "display_data"
        },
        {
          "data": {
            "application/vnd.jupyter.widget-view+json": {
              "model_id": "069bf10cdca64d70bd215eee052e7200",
              "version_major": 2,
              "version_minor": 0
            },
            "text/plain": [
              "QUEUEING TASKS | :   0%|          | 0/15 [00:00<?, ?it/s]"
            ]
          },
          "metadata": {},
          "output_type": "display_data"
        },
        {
          "data": {
            "application/vnd.jupyter.widget-view+json": {
              "model_id": "0eac2d450bf34e459a394acc6b564497",
              "version_major": 2,
              "version_minor": 0
            },
            "text/plain": [
              "PROCESSING TASKS | :   0%|          | 0/15 [00:00<?, ?it/s]"
            ]
          },
          "metadata": {},
          "output_type": "display_data"
        },
        {
          "data": {
            "application/vnd.jupyter.widget-view+json": {
              "model_id": "417e133d00ce4bd18d61028ecaa9f259",
              "version_major": 2,
              "version_minor": 0
            },
            "text/plain": [
              "COLLECTING RESULTS | :   0%|          | 0/15 [00:00<?, ?it/s]"
            ]
          },
          "metadata": {},
          "output_type": "display_data"
        },
        {
          "data": {
            "application/vnd.jupyter.widget-view+json": {
              "model_id": "cce9c001f6064f649cc2edd210ad498f",
              "version_major": 2,
              "version_minor": 0
            },
            "text/plain": [
              "QUEUEING TASKS | :   0%|          | 0/15 [00:00<?, ?it/s]"
            ]
          },
          "metadata": {},
          "output_type": "display_data"
        },
        {
          "data": {
            "application/vnd.jupyter.widget-view+json": {
              "model_id": "55dd1b5248144968a2a1adf66a2308f8",
              "version_major": 2,
              "version_minor": 0
            },
            "text/plain": [
              "PROCESSING TASKS | :   0%|          | 0/15 [00:00<?, ?it/s]"
            ]
          },
          "metadata": {},
          "output_type": "display_data"
        },
        {
          "data": {
            "application/vnd.jupyter.widget-view+json": {
              "model_id": "e33b2c303424455bba192003f5d3149d",
              "version_major": 2,
              "version_minor": 0
            },
            "text/plain": [
              "COLLECTING RESULTS | :   0%|          | 0/15 [00:00<?, ?it/s]"
            ]
          },
          "metadata": {},
          "output_type": "display_data"
        },
        {
          "data": {
            "application/vnd.jupyter.widget-view+json": {
              "model_id": "28fe0580dcc54521981359b518b5701b",
              "version_major": 2,
              "version_minor": 0
            },
            "text/plain": [
              "QUEUEING TASKS | :   0%|          | 0/15 [00:00<?, ?it/s]"
            ]
          },
          "metadata": {},
          "output_type": "display_data"
        },
        {
          "data": {
            "application/vnd.jupyter.widget-view+json": {
              "model_id": "6fbd0e504ef14ba3844a697dce199eff",
              "version_major": 2,
              "version_minor": 0
            },
            "text/plain": [
              "PROCESSING TASKS | :   0%|          | 0/15 [00:00<?, ?it/s]"
            ]
          },
          "metadata": {},
          "output_type": "display_data"
        },
        {
          "data": {
            "application/vnd.jupyter.widget-view+json": {
              "model_id": "29bc3dc3fa2d488e8e8db6d982ad313a",
              "version_major": 2,
              "version_minor": 0
            },
            "text/plain": [
              "COLLECTING RESULTS | :   0%|          | 0/15 [00:00<?, ?it/s]"
            ]
          },
          "metadata": {},
          "output_type": "display_data"
        },
        {
          "data": {
            "application/vnd.jupyter.widget-view+json": {
              "model_id": "346bf32b32ea4513af3269e8f4703440",
              "version_major": 2,
              "version_minor": 0
            },
            "text/plain": [
              "QUEUEING TASKS | :   0%|          | 0/15 [00:00<?, ?it/s]"
            ]
          },
          "metadata": {},
          "output_type": "display_data"
        },
        {
          "data": {
            "application/vnd.jupyter.widget-view+json": {
              "model_id": "34d1dc7c828f4267847d2e984051aecb",
              "version_major": 2,
              "version_minor": 0
            },
            "text/plain": [
              "PROCESSING TASKS | :   0%|          | 0/15 [00:00<?, ?it/s]"
            ]
          },
          "metadata": {},
          "output_type": "display_data"
        },
        {
          "data": {
            "application/vnd.jupyter.widget-view+json": {
              "model_id": "438a4fbe23aa4dc29e8a9e9c4fd899d8",
              "version_major": 2,
              "version_minor": 0
            },
            "text/plain": [
              "COLLECTING RESULTS | :   0%|          | 0/15 [00:00<?, ?it/s]"
            ]
          },
          "metadata": {},
          "output_type": "display_data"
        },
        {
          "data": {
            "application/vnd.jupyter.widget-view+json": {
              "model_id": "e1882ab626644691a2b53bb968962097",
              "version_major": 2,
              "version_minor": 0
            },
            "text/plain": [
              "QUEUEING TASKS | :   0%|          | 0/15 [00:00<?, ?it/s]"
            ]
          },
          "metadata": {},
          "output_type": "display_data"
        },
        {
          "data": {
            "application/vnd.jupyter.widget-view+json": {
              "model_id": "9db2781480044ebd91c2a0253ae188bf",
              "version_major": 2,
              "version_minor": 0
            },
            "text/plain": [
              "PROCESSING TASKS | :   0%|          | 0/15 [00:00<?, ?it/s]"
            ]
          },
          "metadata": {},
          "output_type": "display_data"
        },
        {
          "data": {
            "application/vnd.jupyter.widget-view+json": {
              "model_id": "e934f114219a446abb1128edd3ed7d61",
              "version_major": 2,
              "version_minor": 0
            },
            "text/plain": [
              "COLLECTING RESULTS | :   0%|          | 0/15 [00:00<?, ?it/s]"
            ]
          },
          "metadata": {},
          "output_type": "display_data"
        },
        {
          "data": {
            "application/vnd.jupyter.widget-view+json": {
              "model_id": "a2ee3ba275534d558d856c383f6c2a17",
              "version_major": 2,
              "version_minor": 0
            },
            "text/plain": [
              "QUEUEING TASKS | :   0%|          | 0/15 [00:00<?, ?it/s]"
            ]
          },
          "metadata": {},
          "output_type": "display_data"
        },
        {
          "data": {
            "application/vnd.jupyter.widget-view+json": {
              "model_id": "7b23549189e143b18e566616b2fa8bfb",
              "version_major": 2,
              "version_minor": 0
            },
            "text/plain": [
              "PROCESSING TASKS | :   0%|          | 0/15 [00:00<?, ?it/s]"
            ]
          },
          "metadata": {},
          "output_type": "display_data"
        },
        {
          "data": {
            "application/vnd.jupyter.widget-view+json": {
              "model_id": "d529ed95e97b4729959c1091a129d4e1",
              "version_major": 2,
              "version_minor": 0
            },
            "text/plain": [
              "COLLECTING RESULTS | :   0%|          | 0/15 [00:00<?, ?it/s]"
            ]
          },
          "metadata": {},
          "output_type": "display_data"
        },
        {
          "data": {
            "application/vnd.jupyter.widget-view+json": {
              "model_id": "ce077aa6366345cd9b1b77534618d587",
              "version_major": 2,
              "version_minor": 0
            },
            "text/plain": [
              "QUEUEING TASKS | :   0%|          | 0/15 [00:00<?, ?it/s]"
            ]
          },
          "metadata": {},
          "output_type": "display_data"
        },
        {
          "data": {
            "application/vnd.jupyter.widget-view+json": {
              "model_id": "aa62be06c073489aae7e9d9b4b7f2896",
              "version_major": 2,
              "version_minor": 0
            },
            "text/plain": [
              "PROCESSING TASKS | :   0%|          | 0/15 [00:00<?, ?it/s]"
            ]
          },
          "metadata": {},
          "output_type": "display_data"
        },
        {
          "data": {
            "application/vnd.jupyter.widget-view+json": {
              "model_id": "2c04f067f709455094adf213d43600b1",
              "version_major": 2,
              "version_minor": 0
            },
            "text/plain": [
              "COLLECTING RESULTS | :   0%|          | 0/15 [00:00<?, ?it/s]"
            ]
          },
          "metadata": {},
          "output_type": "display_data"
        },
        {
          "data": {
            "application/vnd.jupyter.widget-view+json": {
              "model_id": "1b35c32b850748cab14cdbd993bc64a2",
              "version_major": 2,
              "version_minor": 0
            },
            "text/plain": [
              "QUEUEING TASKS | :   0%|          | 0/15 [00:00<?, ?it/s]"
            ]
          },
          "metadata": {},
          "output_type": "display_data"
        },
        {
          "data": {
            "application/vnd.jupyter.widget-view+json": {
              "model_id": "17b7bbcab17847c88d4023e02fbd861d",
              "version_major": 2,
              "version_minor": 0
            },
            "text/plain": [
              "PROCESSING TASKS | :   0%|          | 0/15 [00:00<?, ?it/s]"
            ]
          },
          "metadata": {},
          "output_type": "display_data"
        },
        {
          "data": {
            "application/vnd.jupyter.widget-view+json": {
              "model_id": "7ca99bd764c64f2c9da063856ff8da60",
              "version_major": 2,
              "version_minor": 0
            },
            "text/plain": [
              "COLLECTING RESULTS | :   0%|          | 0/15 [00:00<?, ?it/s]"
            ]
          },
          "metadata": {},
          "output_type": "display_data"
        },
        {
          "data": {
            "application/vnd.jupyter.widget-view+json": {
              "model_id": "b0c75832a09a469c9d89881b5ac3a8ff",
              "version_major": 2,
              "version_minor": 0
            },
            "text/plain": [
              "QUEUEING TASKS | :   0%|          | 0/15 [00:00<?, ?it/s]"
            ]
          },
          "metadata": {},
          "output_type": "display_data"
        },
        {
          "data": {
            "application/vnd.jupyter.widget-view+json": {
              "model_id": "30718756aeb140b6928cc04dc9f68147",
              "version_major": 2,
              "version_minor": 0
            },
            "text/plain": [
              "PROCESSING TASKS | :   0%|          | 0/15 [00:00<?, ?it/s]"
            ]
          },
          "metadata": {},
          "output_type": "display_data"
        },
        {
          "data": {
            "application/vnd.jupyter.widget-view+json": {
              "model_id": "4e5d39dcc06741eda9a41ceea04996d0",
              "version_major": 2,
              "version_minor": 0
            },
            "text/plain": [
              "COLLECTING RESULTS | :   0%|          | 0/15 [00:00<?, ?it/s]"
            ]
          },
          "metadata": {},
          "output_type": "display_data"
        },
        {
          "data": {
            "application/vnd.jupyter.widget-view+json": {
              "model_id": "a43161e9d18644da92a0a250f31f413e",
              "version_major": 2,
              "version_minor": 0
            },
            "text/plain": [
              "QUEUEING TASKS | :   0%|          | 0/15 [00:00<?, ?it/s]"
            ]
          },
          "metadata": {},
          "output_type": "display_data"
        },
        {
          "data": {
            "application/vnd.jupyter.widget-view+json": {
              "model_id": "1c13af03b7b84487b578e8888114a9f5",
              "version_major": 2,
              "version_minor": 0
            },
            "text/plain": [
              "PROCESSING TASKS | :   0%|          | 0/15 [00:00<?, ?it/s]"
            ]
          },
          "metadata": {},
          "output_type": "display_data"
        },
        {
          "data": {
            "application/vnd.jupyter.widget-view+json": {
              "model_id": "26b544ce776c43a7807111f2cba56d3e",
              "version_major": 2,
              "version_minor": 0
            },
            "text/plain": [
              "COLLECTING RESULTS | :   0%|          | 0/15 [00:00<?, ?it/s]"
            ]
          },
          "metadata": {},
          "output_type": "display_data"
        },
        {
          "data": {
            "application/vnd.jupyter.widget-view+json": {
              "model_id": "31520d37fd0844b38bdf2e8fd00150f6",
              "version_major": 2,
              "version_minor": 0
            },
            "text/plain": [
              "QUEUEING TASKS | :   0%|          | 0/15 [00:00<?, ?it/s]"
            ]
          },
          "metadata": {},
          "output_type": "display_data"
        },
        {
          "data": {
            "application/vnd.jupyter.widget-view+json": {
              "model_id": "837f4c45e93c4f259b867b99ee819775",
              "version_major": 2,
              "version_minor": 0
            },
            "text/plain": [
              "PROCESSING TASKS | :   0%|          | 0/15 [00:00<?, ?it/s]"
            ]
          },
          "metadata": {},
          "output_type": "display_data"
        },
        {
          "data": {
            "application/vnd.jupyter.widget-view+json": {
              "model_id": "b56e520f8e7649bfa16ea6126c922089",
              "version_major": 2,
              "version_minor": 0
            },
            "text/plain": [
              "COLLECTING RESULTS | :   0%|          | 0/15 [00:00<?, ?it/s]"
            ]
          },
          "metadata": {},
          "output_type": "display_data"
        },
        {
          "data": {
            "application/vnd.jupyter.widget-view+json": {
              "model_id": "790d00210edc4130b912ca7a226d872c",
              "version_major": 2,
              "version_minor": 0
            },
            "text/plain": [
              "QUEUEING TASKS | :   0%|          | 0/15 [00:00<?, ?it/s]"
            ]
          },
          "metadata": {},
          "output_type": "display_data"
        },
        {
          "data": {
            "application/vnd.jupyter.widget-view+json": {
              "model_id": "25b3d5deee3242439ed05c76312ecdc8",
              "version_major": 2,
              "version_minor": 0
            },
            "text/plain": [
              "PROCESSING TASKS | :   0%|          | 0/15 [00:00<?, ?it/s]"
            ]
          },
          "metadata": {},
          "output_type": "display_data"
        },
        {
          "data": {
            "application/vnd.jupyter.widget-view+json": {
              "model_id": "52b4bd642d264822a54ba8fb3fc60f2a",
              "version_major": 2,
              "version_minor": 0
            },
            "text/plain": [
              "COLLECTING RESULTS | :   0%|          | 0/15 [00:00<?, ?it/s]"
            ]
          },
          "metadata": {},
          "output_type": "display_data"
        },
        {
          "data": {
            "application/vnd.jupyter.widget-view+json": {
              "model_id": "7406424d59054d22b2591b918bb2be3b",
              "version_major": 2,
              "version_minor": 0
            },
            "text/plain": [
              "QUEUEING TASKS | :   0%|          | 0/15 [00:00<?, ?it/s]"
            ]
          },
          "metadata": {},
          "output_type": "display_data"
        },
        {
          "data": {
            "application/vnd.jupyter.widget-view+json": {
              "model_id": "f7058e91674d4fc380f9c697e9adbb6d",
              "version_major": 2,
              "version_minor": 0
            },
            "text/plain": [
              "PROCESSING TASKS | :   0%|          | 0/15 [00:00<?, ?it/s]"
            ]
          },
          "metadata": {},
          "output_type": "display_data"
        },
        {
          "data": {
            "application/vnd.jupyter.widget-view+json": {
              "model_id": "b227ab78b9574338a3a623f3e84392bb",
              "version_major": 2,
              "version_minor": 0
            },
            "text/plain": [
              "COLLECTING RESULTS | :   0%|          | 0/15 [00:00<?, ?it/s]"
            ]
          },
          "metadata": {},
          "output_type": "display_data"
        },
        {
          "data": {
            "application/vnd.jupyter.widget-view+json": {
              "model_id": "0b04a2f1f62e43979fcc4a5c67a01a15",
              "version_major": 2,
              "version_minor": 0
            },
            "text/plain": [
              "QUEUEING TASKS | :   0%|          | 0/15 [00:00<?, ?it/s]"
            ]
          },
          "metadata": {},
          "output_type": "display_data"
        },
        {
          "data": {
            "application/vnd.jupyter.widget-view+json": {
              "model_id": "6bbb7e489cc2428291fae2668418d752",
              "version_major": 2,
              "version_minor": 0
            },
            "text/plain": [
              "PROCESSING TASKS | :   0%|          | 0/15 [00:00<?, ?it/s]"
            ]
          },
          "metadata": {},
          "output_type": "display_data"
        },
        {
          "data": {
            "application/vnd.jupyter.widget-view+json": {
              "model_id": "198ccf73309b4874a66ce952861621d6",
              "version_major": 2,
              "version_minor": 0
            },
            "text/plain": [
              "COLLECTING RESULTS | :   0%|          | 0/15 [00:00<?, ?it/s]"
            ]
          },
          "metadata": {},
          "output_type": "display_data"
        },
        {
          "data": {
            "application/vnd.jupyter.widget-view+json": {
              "model_id": "7c4283f06fe448229569c64b6e334fc9",
              "version_major": 2,
              "version_minor": 0
            },
            "text/plain": [
              "QUEUEING TASKS | :   0%|          | 0/15 [00:00<?, ?it/s]"
            ]
          },
          "metadata": {},
          "output_type": "display_data"
        },
        {
          "data": {
            "application/vnd.jupyter.widget-view+json": {
              "model_id": "191f113f494c492f984920a6b2bfce97",
              "version_major": 2,
              "version_minor": 0
            },
            "text/plain": [
              "PROCESSING TASKS | :   0%|          | 0/15 [00:00<?, ?it/s]"
            ]
          },
          "metadata": {},
          "output_type": "display_data"
        },
        {
          "data": {
            "application/vnd.jupyter.widget-view+json": {
              "model_id": "25e7ef59bbc24e4fbcf4685582079a3f",
              "version_major": 2,
              "version_minor": 0
            },
            "text/plain": [
              "COLLECTING RESULTS | :   0%|          | 0/15 [00:00<?, ?it/s]"
            ]
          },
          "metadata": {},
          "output_type": "display_data"
        },
        {
          "data": {
            "application/vnd.jupyter.widget-view+json": {
              "model_id": "8659395de965454783642db030fd96b7",
              "version_major": 2,
              "version_minor": 0
            },
            "text/plain": [
              "QUEUEING TASKS | :   0%|          | 0/15 [00:00<?, ?it/s]"
            ]
          },
          "metadata": {},
          "output_type": "display_data"
        },
        {
          "data": {
            "application/vnd.jupyter.widget-view+json": {
              "model_id": "fce19d98035b4930ba142de92dd0a377",
              "version_major": 2,
              "version_minor": 0
            },
            "text/plain": [
              "PROCESSING TASKS | :   0%|          | 0/15 [00:00<?, ?it/s]"
            ]
          },
          "metadata": {},
          "output_type": "display_data"
        },
        {
          "data": {
            "application/vnd.jupyter.widget-view+json": {
              "model_id": "e794e3472349446a9f6b82b97d5a48f6",
              "version_major": 2,
              "version_minor": 0
            },
            "text/plain": [
              "COLLECTING RESULTS | :   0%|          | 0/15 [00:00<?, ?it/s]"
            ]
          },
          "metadata": {},
          "output_type": "display_data"
        },
        {
          "data": {
            "application/vnd.jupyter.widget-view+json": {
              "model_id": "2aaaedbe824f43e6853773fb2a7ce6f2",
              "version_major": 2,
              "version_minor": 0
            },
            "text/plain": [
              "QUEUEING TASKS | :   0%|          | 0/15 [00:00<?, ?it/s]"
            ]
          },
          "metadata": {},
          "output_type": "display_data"
        },
        {
          "data": {
            "application/vnd.jupyter.widget-view+json": {
              "model_id": "c439790b80a14ba5bf390c148974853d",
              "version_major": 2,
              "version_minor": 0
            },
            "text/plain": [
              "PROCESSING TASKS | :   0%|          | 0/15 [00:00<?, ?it/s]"
            ]
          },
          "metadata": {},
          "output_type": "display_data"
        },
        {
          "data": {
            "application/vnd.jupyter.widget-view+json": {
              "model_id": "c3ae236f1729430f8bc97cdc727c690e",
              "version_major": 2,
              "version_minor": 0
            },
            "text/plain": [
              "COLLECTING RESULTS | :   0%|          | 0/15 [00:00<?, ?it/s]"
            ]
          },
          "metadata": {},
          "output_type": "display_data"
        },
        {
          "data": {
            "application/vnd.jupyter.widget-view+json": {
              "model_id": "0ab25f2cfb9941d9958a499f677198fa",
              "version_major": 2,
              "version_minor": 0
            },
            "text/plain": [
              "QUEUEING TASKS | :   0%|          | 0/15 [00:00<?, ?it/s]"
            ]
          },
          "metadata": {},
          "output_type": "display_data"
        },
        {
          "data": {
            "application/vnd.jupyter.widget-view+json": {
              "model_id": "f0b5e4c8132a4e61b9433d45e9da8c74",
              "version_major": 2,
              "version_minor": 0
            },
            "text/plain": [
              "PROCESSING TASKS | :   0%|          | 0/15 [00:00<?, ?it/s]"
            ]
          },
          "metadata": {},
          "output_type": "display_data"
        },
        {
          "data": {
            "application/vnd.jupyter.widget-view+json": {
              "model_id": "6a3c42303e9445b89322126c6f3d4160",
              "version_major": 2,
              "version_minor": 0
            },
            "text/plain": [
              "COLLECTING RESULTS | :   0%|          | 0/15 [00:00<?, ?it/s]"
            ]
          },
          "metadata": {},
          "output_type": "display_data"
        },
        {
          "data": {
            "application/vnd.jupyter.widget-view+json": {
              "model_id": "b8e5475ddca84dd3856f2f5bd17192c3",
              "version_major": 2,
              "version_minor": 0
            },
            "text/plain": [
              "QUEUEING TASKS | :   0%|          | 0/15 [00:00<?, ?it/s]"
            ]
          },
          "metadata": {},
          "output_type": "display_data"
        },
        {
          "data": {
            "application/vnd.jupyter.widget-view+json": {
              "model_id": "1efddca58f97459889408ec7999cdd3f",
              "version_major": 2,
              "version_minor": 0
            },
            "text/plain": [
              "PROCESSING TASKS | :   0%|          | 0/15 [00:00<?, ?it/s]"
            ]
          },
          "metadata": {},
          "output_type": "display_data"
        },
        {
          "data": {
            "application/vnd.jupyter.widget-view+json": {
              "model_id": "b45d31a228464e4aa2e9820ba06082c8",
              "version_major": 2,
              "version_minor": 0
            },
            "text/plain": [
              "COLLECTING RESULTS | :   0%|          | 0/15 [00:00<?, ?it/s]"
            ]
          },
          "metadata": {},
          "output_type": "display_data"
        },
        {
          "data": {
            "application/vnd.jupyter.widget-view+json": {
              "model_id": "4f701097ba304db89ec7bb27e47776b8",
              "version_major": 2,
              "version_minor": 0
            },
            "text/plain": [
              "QUEUEING TASKS | :   0%|          | 0/15 [00:00<?, ?it/s]"
            ]
          },
          "metadata": {},
          "output_type": "display_data"
        },
        {
          "data": {
            "application/vnd.jupyter.widget-view+json": {
              "model_id": "96c3ee2d1aa64d46b1e3b580dd807fad",
              "version_major": 2,
              "version_minor": 0
            },
            "text/plain": [
              "PROCESSING TASKS | :   0%|          | 0/15 [00:00<?, ?it/s]"
            ]
          },
          "metadata": {},
          "output_type": "display_data"
        },
        {
          "data": {
            "application/vnd.jupyter.widget-view+json": {
              "model_id": "75248fab88a246959d11e9af8412b535",
              "version_major": 2,
              "version_minor": 0
            },
            "text/plain": [
              "COLLECTING RESULTS | :   0%|          | 0/15 [00:00<?, ?it/s]"
            ]
          },
          "metadata": {},
          "output_type": "display_data"
        },
        {
          "data": {
            "application/vnd.jupyter.widget-view+json": {
              "model_id": "5718498826c149c4bdefe5503bf4aa9b",
              "version_major": 2,
              "version_minor": 0
            },
            "text/plain": [
              "QUEUEING TASKS | :   0%|          | 0/15 [00:00<?, ?it/s]"
            ]
          },
          "metadata": {},
          "output_type": "display_data"
        },
        {
          "data": {
            "application/vnd.jupyter.widget-view+json": {
              "model_id": "450dce32fd8043709211b70788419303",
              "version_major": 2,
              "version_minor": 0
            },
            "text/plain": [
              "PROCESSING TASKS | :   0%|          | 0/15 [00:00<?, ?it/s]"
            ]
          },
          "metadata": {},
          "output_type": "display_data"
        },
        {
          "data": {
            "application/vnd.jupyter.widget-view+json": {
              "model_id": "fb92a511440b4219b8448f2b4d552e85",
              "version_major": 2,
              "version_minor": 0
            },
            "text/plain": [
              "COLLECTING RESULTS | :   0%|          | 0/15 [00:00<?, ?it/s]"
            ]
          },
          "metadata": {},
          "output_type": "display_data"
        },
        {
          "data": {
            "application/vnd.jupyter.widget-view+json": {
              "model_id": "e2172cce7f3749b191ba796bd36ab55b",
              "version_major": 2,
              "version_minor": 0
            },
            "text/plain": [
              "QUEUEING TASKS | :   0%|          | 0/15 [00:00<?, ?it/s]"
            ]
          },
          "metadata": {},
          "output_type": "display_data"
        },
        {
          "data": {
            "application/vnd.jupyter.widget-view+json": {
              "model_id": "104105e6955c4ea39b8295608c3a3ee4",
              "version_major": 2,
              "version_minor": 0
            },
            "text/plain": [
              "PROCESSING TASKS | :   0%|          | 0/15 [00:00<?, ?it/s]"
            ]
          },
          "metadata": {},
          "output_type": "display_data"
        },
        {
          "data": {
            "application/vnd.jupyter.widget-view+json": {
              "model_id": "62039748893a414ea40e548039752758",
              "version_major": 2,
              "version_minor": 0
            },
            "text/plain": [
              "COLLECTING RESULTS | :   0%|          | 0/15 [00:00<?, ?it/s]"
            ]
          },
          "metadata": {},
          "output_type": "display_data"
        },
        {
          "data": {
            "application/vnd.jupyter.widget-view+json": {
              "model_id": "05a7658938aa4b6ca1cacfcc1d98d1f3",
              "version_major": 2,
              "version_minor": 0
            },
            "text/plain": [
              "QUEUEING TASKS | :   0%|          | 0/15 [00:00<?, ?it/s]"
            ]
          },
          "metadata": {},
          "output_type": "display_data"
        },
        {
          "data": {
            "application/vnd.jupyter.widget-view+json": {
              "model_id": "5c214e6a3d7a4cd293f418339ffd52f5",
              "version_major": 2,
              "version_minor": 0
            },
            "text/plain": [
              "PROCESSING TASKS | :   0%|          | 0/15 [00:00<?, ?it/s]"
            ]
          },
          "metadata": {},
          "output_type": "display_data"
        },
        {
          "data": {
            "application/vnd.jupyter.widget-view+json": {
              "model_id": "6af2ed86cdfe4907afcfe66966d976d5",
              "version_major": 2,
              "version_minor": 0
            },
            "text/plain": [
              "COLLECTING RESULTS | :   0%|          | 0/15 [00:00<?, ?it/s]"
            ]
          },
          "metadata": {},
          "output_type": "display_data"
        },
        {
          "data": {
            "application/vnd.jupyter.widget-view+json": {
              "model_id": "d223d3ce1bd341febc57f6618721a7b5",
              "version_major": 2,
              "version_minor": 0
            },
            "text/plain": [
              "QUEUEING TASKS | :   0%|          | 0/15 [00:00<?, ?it/s]"
            ]
          },
          "metadata": {},
          "output_type": "display_data"
        },
        {
          "data": {
            "application/vnd.jupyter.widget-view+json": {
              "model_id": "3879731bf3e146ed862ab1c1f4fc62fe",
              "version_major": 2,
              "version_minor": 0
            },
            "text/plain": [
              "PROCESSING TASKS | :   0%|          | 0/15 [00:00<?, ?it/s]"
            ]
          },
          "metadata": {},
          "output_type": "display_data"
        },
        {
          "data": {
            "application/vnd.jupyter.widget-view+json": {
              "model_id": "cda7ce484636400d9c4a400ce2b2be4f",
              "version_major": 2,
              "version_minor": 0
            },
            "text/plain": [
              "COLLECTING RESULTS | :   0%|          | 0/15 [00:00<?, ?it/s]"
            ]
          },
          "metadata": {},
          "output_type": "display_data"
        },
        {
          "data": {
            "application/vnd.jupyter.widget-view+json": {
              "model_id": "219c5781f9ac4e6bb14d884f7c642c3a",
              "version_major": 2,
              "version_minor": 0
            },
            "text/plain": [
              "QUEUEING TASKS | :   0%|          | 0/15 [00:00<?, ?it/s]"
            ]
          },
          "metadata": {},
          "output_type": "display_data"
        },
        {
          "data": {
            "application/vnd.jupyter.widget-view+json": {
              "model_id": "436ac25f354d44358b88dcfda06e3a8c",
              "version_major": 2,
              "version_minor": 0
            },
            "text/plain": [
              "PROCESSING TASKS | :   0%|          | 0/15 [00:00<?, ?it/s]"
            ]
          },
          "metadata": {},
          "output_type": "display_data"
        },
        {
          "data": {
            "application/vnd.jupyter.widget-view+json": {
              "model_id": "8ec7433ddf2a4a4e8ab17de198900f4b",
              "version_major": 2,
              "version_minor": 0
            },
            "text/plain": [
              "COLLECTING RESULTS | :   0%|          | 0/15 [00:00<?, ?it/s]"
            ]
          },
          "metadata": {},
          "output_type": "display_data"
        },
        {
          "data": {
            "application/vnd.jupyter.widget-view+json": {
              "model_id": "32b58f30e907437c949cc2ceee73b0a1",
              "version_major": 2,
              "version_minor": 0
            },
            "text/plain": [
              "QUEUEING TASKS | :   0%|          | 0/15 [00:00<?, ?it/s]"
            ]
          },
          "metadata": {},
          "output_type": "display_data"
        },
        {
          "data": {
            "application/vnd.jupyter.widget-view+json": {
              "model_id": "80525c997cf7493eb6d28e2ba225e3e5",
              "version_major": 2,
              "version_minor": 0
            },
            "text/plain": [
              "PROCESSING TASKS | :   0%|          | 0/15 [00:00<?, ?it/s]"
            ]
          },
          "metadata": {},
          "output_type": "display_data"
        },
        {
          "data": {
            "application/vnd.jupyter.widget-view+json": {
              "model_id": "217399ace18b49cc8342af237df51601",
              "version_major": 2,
              "version_minor": 0
            },
            "text/plain": [
              "COLLECTING RESULTS | :   0%|          | 0/15 [00:00<?, ?it/s]"
            ]
          },
          "metadata": {},
          "output_type": "display_data"
        },
        {
          "data": {
            "application/vnd.jupyter.widget-view+json": {
              "model_id": "2cf4e98e9ff944c386ec100e71e9e06c",
              "version_major": 2,
              "version_minor": 0
            },
            "text/plain": [
              "QUEUEING TASKS | :   0%|          | 0/15 [00:00<?, ?it/s]"
            ]
          },
          "metadata": {},
          "output_type": "display_data"
        },
        {
          "data": {
            "application/vnd.jupyter.widget-view+json": {
              "model_id": "e139770866b94ca78b66d6274463ff58",
              "version_major": 2,
              "version_minor": 0
            },
            "text/plain": [
              "PROCESSING TASKS | :   0%|          | 0/15 [00:00<?, ?it/s]"
            ]
          },
          "metadata": {},
          "output_type": "display_data"
        },
        {
          "data": {
            "application/vnd.jupyter.widget-view+json": {
              "model_id": "afe326e40e4d4946857a8c03b74dae81",
              "version_major": 2,
              "version_minor": 0
            },
            "text/plain": [
              "COLLECTING RESULTS | :   0%|          | 0/15 [00:00<?, ?it/s]"
            ]
          },
          "metadata": {},
          "output_type": "display_data"
        },
        {
          "data": {
            "application/vnd.jupyter.widget-view+json": {
              "model_id": "d5b7f40dfa9143bc9fe2db8e4809cf64",
              "version_major": 2,
              "version_minor": 0
            },
            "text/plain": [
              "QUEUEING TASKS | :   0%|          | 0/15 [00:00<?, ?it/s]"
            ]
          },
          "metadata": {},
          "output_type": "display_data"
        },
        {
          "data": {
            "application/vnd.jupyter.widget-view+json": {
              "model_id": "f160f6bce34442cf8c723e30e919ce23",
              "version_major": 2,
              "version_minor": 0
            },
            "text/plain": [
              "PROCESSING TASKS | :   0%|          | 0/15 [00:00<?, ?it/s]"
            ]
          },
          "metadata": {},
          "output_type": "display_data"
        },
        {
          "data": {
            "application/vnd.jupyter.widget-view+json": {
              "model_id": "747573851b064a219a63bd142fb8aaeb",
              "version_major": 2,
              "version_minor": 0
            },
            "text/plain": [
              "COLLECTING RESULTS | :   0%|          | 0/15 [00:00<?, ?it/s]"
            ]
          },
          "metadata": {},
          "output_type": "display_data"
        },
        {
          "data": {
            "application/vnd.jupyter.widget-view+json": {
              "model_id": "7b6e805f712145b39a93cf0fd3d74c26",
              "version_major": 2,
              "version_minor": 0
            },
            "text/plain": [
              "QUEUEING TASKS | :   0%|          | 0/15 [00:00<?, ?it/s]"
            ]
          },
          "metadata": {},
          "output_type": "display_data"
        },
        {
          "data": {
            "application/vnd.jupyter.widget-view+json": {
              "model_id": "45f26369ecc24f15894198afceb70115",
              "version_major": 2,
              "version_minor": 0
            },
            "text/plain": [
              "PROCESSING TASKS | :   0%|          | 0/15 [00:00<?, ?it/s]"
            ]
          },
          "metadata": {},
          "output_type": "display_data"
        },
        {
          "data": {
            "application/vnd.jupyter.widget-view+json": {
              "model_id": "910bbc4c39604cbead35b089018647d1",
              "version_major": 2,
              "version_minor": 0
            },
            "text/plain": [
              "COLLECTING RESULTS | :   0%|          | 0/15 [00:00<?, ?it/s]"
            ]
          },
          "metadata": {},
          "output_type": "display_data"
        },
        {
          "data": {
            "application/vnd.jupyter.widget-view+json": {
              "model_id": "934d8c9d882441b989647fdbd0d35cda",
              "version_major": 2,
              "version_minor": 0
            },
            "text/plain": [
              "QUEUEING TASKS | :   0%|          | 0/15 [00:00<?, ?it/s]"
            ]
          },
          "metadata": {},
          "output_type": "display_data"
        },
        {
          "data": {
            "application/vnd.jupyter.widget-view+json": {
              "model_id": "0add4fe79f32480092387db41d026460",
              "version_major": 2,
              "version_minor": 0
            },
            "text/plain": [
              "PROCESSING TASKS | :   0%|          | 0/15 [00:00<?, ?it/s]"
            ]
          },
          "metadata": {},
          "output_type": "display_data"
        },
        {
          "data": {
            "application/vnd.jupyter.widget-view+json": {
              "model_id": "a9da519a30344306a6781474bb8bddaa",
              "version_major": 2,
              "version_minor": 0
            },
            "text/plain": [
              "COLLECTING RESULTS | :   0%|          | 0/15 [00:00<?, ?it/s]"
            ]
          },
          "metadata": {},
          "output_type": "display_data"
        },
        {
          "data": {
            "application/vnd.jupyter.widget-view+json": {
              "model_id": "b665fcc714a7459ea17d86e200ec8918",
              "version_major": 2,
              "version_minor": 0
            },
            "text/plain": [
              "QUEUEING TASKS | :   0%|          | 0/15 [00:00<?, ?it/s]"
            ]
          },
          "metadata": {},
          "output_type": "display_data"
        },
        {
          "data": {
            "application/vnd.jupyter.widget-view+json": {
              "model_id": "a3c8078222084e478d0fb3fa9e15a531",
              "version_major": 2,
              "version_minor": 0
            },
            "text/plain": [
              "PROCESSING TASKS | :   0%|          | 0/15 [00:00<?, ?it/s]"
            ]
          },
          "metadata": {},
          "output_type": "display_data"
        },
        {
          "data": {
            "application/vnd.jupyter.widget-view+json": {
              "model_id": "658570e59efc4ef2ae723a09ded6888b",
              "version_major": 2,
              "version_minor": 0
            },
            "text/plain": [
              "COLLECTING RESULTS | :   0%|          | 0/15 [00:00<?, ?it/s]"
            ]
          },
          "metadata": {},
          "output_type": "display_data"
        },
        {
          "data": {
            "application/vnd.jupyter.widget-view+json": {
              "model_id": "a8cae0c5c14c4fd1ab4d3faa2d383462",
              "version_major": 2,
              "version_minor": 0
            },
            "text/plain": [
              "QUEUEING TASKS | :   0%|          | 0/15 [00:00<?, ?it/s]"
            ]
          },
          "metadata": {},
          "output_type": "display_data"
        },
        {
          "data": {
            "application/vnd.jupyter.widget-view+json": {
              "model_id": "4d2feee244494af3be9735befdd01561",
              "version_major": 2,
              "version_minor": 0
            },
            "text/plain": [
              "PROCESSING TASKS | :   0%|          | 0/15 [00:00<?, ?it/s]"
            ]
          },
          "metadata": {},
          "output_type": "display_data"
        },
        {
          "data": {
            "application/vnd.jupyter.widget-view+json": {
              "model_id": "74189f186a8d46f7b45d26f122acc128",
              "version_major": 2,
              "version_minor": 0
            },
            "text/plain": [
              "COLLECTING RESULTS | :   0%|          | 0/15 [00:00<?, ?it/s]"
            ]
          },
          "metadata": {},
          "output_type": "display_data"
        },
        {
          "data": {
            "application/vnd.jupyter.widget-view+json": {
              "model_id": "8b47ee91a52a48ad8488dc830832b033",
              "version_major": 2,
              "version_minor": 0
            },
            "text/plain": [
              "QUEUEING TASKS | :   0%|          | 0/15 [00:00<?, ?it/s]"
            ]
          },
          "metadata": {},
          "output_type": "display_data"
        },
        {
          "data": {
            "application/vnd.jupyter.widget-view+json": {
              "model_id": "64f537727ac14b02a75bb45b1aa6869b",
              "version_major": 2,
              "version_minor": 0
            },
            "text/plain": [
              "PROCESSING TASKS | :   0%|          | 0/15 [00:00<?, ?it/s]"
            ]
          },
          "metadata": {},
          "output_type": "display_data"
        },
        {
          "data": {
            "application/vnd.jupyter.widget-view+json": {
              "model_id": "949f588944464d28806fbfd7239a0939",
              "version_major": 2,
              "version_minor": 0
            },
            "text/plain": [
              "COLLECTING RESULTS | :   0%|          | 0/15 [00:00<?, ?it/s]"
            ]
          },
          "metadata": {},
          "output_type": "display_data"
        },
        {
          "data": {
            "application/vnd.jupyter.widget-view+json": {
              "model_id": "2aca3eb2316c42c9aff870a25f6c6aa1",
              "version_major": 2,
              "version_minor": 0
            },
            "text/plain": [
              "QUEUEING TASKS | :   0%|          | 0/15 [00:00<?, ?it/s]"
            ]
          },
          "metadata": {},
          "output_type": "display_data"
        },
        {
          "data": {
            "application/vnd.jupyter.widget-view+json": {
              "model_id": "e333083322124e8b934a80add8270baa",
              "version_major": 2,
              "version_minor": 0
            },
            "text/plain": [
              "PROCESSING TASKS | :   0%|          | 0/15 [00:00<?, ?it/s]"
            ]
          },
          "metadata": {},
          "output_type": "display_data"
        },
        {
          "data": {
            "application/vnd.jupyter.widget-view+json": {
              "model_id": "34541d258369448fa5c3921b977ce22e",
              "version_major": 2,
              "version_minor": 0
            },
            "text/plain": [
              "COLLECTING RESULTS | :   0%|          | 0/15 [00:00<?, ?it/s]"
            ]
          },
          "metadata": {},
          "output_type": "display_data"
        },
        {
          "data": {
            "application/vnd.jupyter.widget-view+json": {
              "model_id": "df9401388b1b489ea0650166e50caa74",
              "version_major": 2,
              "version_minor": 0
            },
            "text/plain": [
              "QUEUEING TASKS | :   0%|          | 0/15 [00:00<?, ?it/s]"
            ]
          },
          "metadata": {},
          "output_type": "display_data"
        },
        {
          "data": {
            "application/vnd.jupyter.widget-view+json": {
              "model_id": "73a7a4a9f4a44788bd39713341221f76",
              "version_major": 2,
              "version_minor": 0
            },
            "text/plain": [
              "PROCESSING TASKS | :   0%|          | 0/15 [00:00<?, ?it/s]"
            ]
          },
          "metadata": {},
          "output_type": "display_data"
        },
        {
          "data": {
            "application/vnd.jupyter.widget-view+json": {
              "model_id": "df3111fb3e99407bb999644d827a92de",
              "version_major": 2,
              "version_minor": 0
            },
            "text/plain": [
              "COLLECTING RESULTS | :   0%|          | 0/15 [00:00<?, ?it/s]"
            ]
          },
          "metadata": {},
          "output_type": "display_data"
        }
      ],
      "source": [
        "granule_gdf = create_granule_df(wbd_hls_results)"
      ]
    },
    {
      "cell_type": "code",
      "execution_count": 35,
      "id": "6b6cb3fd",
      "metadata": {},
      "outputs": [
        {
          "data": {
            "text/html": [
              "<div>\n",
              "<style scoped>\n",
              "    .dataframe tbody tr th:only-of-type {\n",
              "        vertical-align: middle;\n",
              "    }\n",
              "\n",
              "    .dataframe tbody tr th {\n",
              "        vertical-align: top;\n",
              "    }\n",
              "\n",
              "    .dataframe thead th {\n",
              "        text-align: right;\n",
              "    }\n",
              "</style>\n",
              "<table border=\"1\" class=\"dataframe\">\n",
              "  <thead>\n",
              "    <tr style=\"text-align: right;\">\n",
              "      <th></th>\n",
              "      <th>datetime</th>\n",
              "      <th>tile_id</th>\n",
              "      <th>band</th>\n",
              "      <th>url</th>\n",
              "      <th>geometry</th>\n",
              "    </tr>\n",
              "  </thead>\n",
              "  <tbody>\n",
              "    <tr>\n",
              "      <th>0</th>\n",
              "      <td>2023-05-04 16:31:32.101000+00:00</td>\n",
              "      <td>T16RBT</td>\n",
              "      <td>B03</td>\n",
              "      <td>&lt;File-like object HTTPFileSystem, https://data...</td>\n",
              "      <td>POLYGON ((-90.07373 28.80445, -89.57473 28.814...</td>\n",
              "    </tr>\n",
              "    <tr>\n",
              "      <th>1</th>\n",
              "      <td>2023-05-04 16:31:32.101000+00:00</td>\n",
              "      <td>T16RBT</td>\n",
              "      <td>B07</td>\n",
              "      <td>&lt;File-like object HTTPFileSystem, https://data...</td>\n",
              "      <td>POLYGON ((-90.07373 28.80445, -89.57473 28.814...</td>\n",
              "    </tr>\n",
              "    <tr>\n",
              "      <th>2</th>\n",
              "      <td>2023-05-04 16:31:32.101000+00:00</td>\n",
              "      <td>T16RBT</td>\n",
              "      <td>B06</td>\n",
              "      <td>&lt;File-like object HTTPFileSystem, https://data...</td>\n",
              "      <td>POLYGON ((-90.07373 28.80445, -89.57473 28.814...</td>\n",
              "    </tr>\n",
              "    <tr>\n",
              "      <th>3</th>\n",
              "      <td>2023-05-04 16:31:32.101000+00:00</td>\n",
              "      <td>T16RBT</td>\n",
              "      <td>B02</td>\n",
              "      <td>&lt;File-like object HTTPFileSystem, https://data...</td>\n",
              "      <td>POLYGON ((-90.07373 28.80445, -89.57473 28.814...</td>\n",
              "    </tr>\n",
              "    <tr>\n",
              "      <th>4</th>\n",
              "      <td>2023-05-04 16:31:32.101000+00:00</td>\n",
              "      <td>T16RBT</td>\n",
              "      <td>B01</td>\n",
              "      <td>&lt;File-like object HTTPFileSystem, https://data...</td>\n",
              "      <td>POLYGON ((-90.07373 28.80445, -89.57473 28.814...</td>\n",
              "    </tr>\n",
              "    <tr>\n",
              "      <th>...</th>\n",
              "      <td>...</td>\n",
              "      <td>...</td>\n",
              "      <td>...</td>\n",
              "      <td>...</td>\n",
              "      <td>...</td>\n",
              "    </tr>\n",
              "    <tr>\n",
              "      <th>1315</th>\n",
              "      <td>2023-10-27 16:32:18.830000+00:00</td>\n",
              "      <td>T15RYP</td>\n",
              "      <td>B06</td>\n",
              "      <td>&lt;File-like object HTTPFileSystem, https://data...</td>\n",
              "      <td>POLYGON ((-89.79864 29.70348, -89.76644 30.692...</td>\n",
              "    </tr>\n",
              "    <tr>\n",
              "      <th>1316</th>\n",
              "      <td>2023-10-27 16:32:18.830000+00:00</td>\n",
              "      <td>T15RYP</td>\n",
              "      <td>B02</td>\n",
              "      <td>&lt;File-like object HTTPFileSystem, https://data...</td>\n",
              "      <td>POLYGON ((-89.79864 29.70348, -89.76644 30.692...</td>\n",
              "    </tr>\n",
              "    <tr>\n",
              "      <th>1317</th>\n",
              "      <td>2023-10-27 16:32:18.830000+00:00</td>\n",
              "      <td>T15RYP</td>\n",
              "      <td>B09</td>\n",
              "      <td>&lt;File-like object HTTPFileSystem, https://data...</td>\n",
              "      <td>POLYGON ((-89.79864 29.70348, -89.76644 30.692...</td>\n",
              "    </tr>\n",
              "    <tr>\n",
              "      <th>1318</th>\n",
              "      <td>2023-10-27 16:32:18.830000+00:00</td>\n",
              "      <td>T15RYP</td>\n",
              "      <td>B03</td>\n",
              "      <td>&lt;File-like object HTTPFileSystem, https://data...</td>\n",
              "      <td>POLYGON ((-89.79864 29.70348, -89.76644 30.692...</td>\n",
              "    </tr>\n",
              "    <tr>\n",
              "      <th>1319</th>\n",
              "      <td>2023-10-27 16:32:18.830000+00:00</td>\n",
              "      <td>T15RYP</td>\n",
              "      <td>B04</td>\n",
              "      <td>&lt;File-like object HTTPFileSystem, https://data...</td>\n",
              "      <td>POLYGON ((-89.79864 29.70348, -89.76644 30.692...</td>\n",
              "    </tr>\n",
              "  </tbody>\n",
              "</table>\n",
              "<p>1320 rows × 5 columns</p>\n",
              "</div>"
            ],
            "text/plain": [
              "                             datetime tile_id band  \\\n",
              "0    2023-05-04 16:31:32.101000+00:00  T16RBT  B03   \n",
              "1    2023-05-04 16:31:32.101000+00:00  T16RBT  B07   \n",
              "2    2023-05-04 16:31:32.101000+00:00  T16RBT  B06   \n",
              "3    2023-05-04 16:31:32.101000+00:00  T16RBT  B02   \n",
              "4    2023-05-04 16:31:32.101000+00:00  T16RBT  B01   \n",
              "...                               ...     ...  ...   \n",
              "1315 2023-10-27 16:32:18.830000+00:00  T15RYP  B06   \n",
              "1316 2023-10-27 16:32:18.830000+00:00  T15RYP  B02   \n",
              "1317 2023-10-27 16:32:18.830000+00:00  T15RYP  B09   \n",
              "1318 2023-10-27 16:32:18.830000+00:00  T15RYP  B03   \n",
              "1319 2023-10-27 16:32:18.830000+00:00  T15RYP  B04   \n",
              "\n",
              "                                                    url  \\\n",
              "0     <File-like object HTTPFileSystem, https://data...   \n",
              "1     <File-like object HTTPFileSystem, https://data...   \n",
              "2     <File-like object HTTPFileSystem, https://data...   \n",
              "3     <File-like object HTTPFileSystem, https://data...   \n",
              "4     <File-like object HTTPFileSystem, https://data...   \n",
              "...                                                 ...   \n",
              "1315  <File-like object HTTPFileSystem, https://data...   \n",
              "1316  <File-like object HTTPFileSystem, https://data...   \n",
              "1317  <File-like object HTTPFileSystem, https://data...   \n",
              "1318  <File-like object HTTPFileSystem, https://data...   \n",
              "1319  <File-like object HTTPFileSystem, https://data...   \n",
              "\n",
              "                                               geometry  \n",
              "0     POLYGON ((-90.07373 28.80445, -89.57473 28.814...  \n",
              "1     POLYGON ((-90.07373 28.80445, -89.57473 28.814...  \n",
              "2     POLYGON ((-90.07373 28.80445, -89.57473 28.814...  \n",
              "3     POLYGON ((-90.07373 28.80445, -89.57473 28.814...  \n",
              "4     POLYGON ((-90.07373 28.80445, -89.57473 28.814...  \n",
              "...                                                 ...  \n",
              "1315  POLYGON ((-89.79864 29.70348, -89.76644 30.692...  \n",
              "1316  POLYGON ((-89.79864 29.70348, -89.76644 30.692...  \n",
              "1317  POLYGON ((-89.79864 29.70348, -89.76644 30.692...  \n",
              "1318  POLYGON ((-89.79864 29.70348, -89.76644 30.692...  \n",
              "1319  POLYGON ((-89.79864 29.70348, -89.76644 30.692...  \n",
              "\n",
              "[1320 rows x 5 columns]"
            ]
          },
          "execution_count": 35,
          "metadata": {},
          "output_type": "execute_result"
        }
      ],
      "source": [
        "# Check granule_gdf\n",
        "# there are 1320 rows - 88 granules, 15 bands per granule\n",
        "granule_gdf"
      ]
    },
    {
      "cell_type": "markdown",
      "id": "99a3b6a3",
      "metadata": {},
      "source": [
        "### Open, crop, and mask data\n",
        "\n",
        "This will be the most resource-intensive step. I recommend caching your\n",
        "results using the `cached` decorator or by writing your own caching\n",
        "code. I also recommend testing this step with one or two dates before\n",
        "running the full computation.\n",
        "\n",
        "This code should include at least one **function** including a\n",
        "numpy-style docstring. A good place to start would be a function for\n",
        "opening a single masked raster, applying the appropriate scale\n",
        "parameter, and cropping.\n",
        "\n",
        "<link rel=\"stylesheet\" type=\"text/css\" href=\"./assets/styles.css\"><div class=\"callout callout-style-default callout-titled callout-task\"><div class=\"callout-header\"><div class=\"callout-icon-container\"><i class=\"callout-icon\"></i></div><div class=\"callout-title-container flex-fill\">Try It</div></div><div class=\"callout-body-container callout-body\"><ol type=\"1\">\n",
        "<li>For each granule:\n",
        "<ol type=\"1\">\n",
        "<li><p>Open the Fmask band, crop, and compute a quality mask for the\n",
        "granule. You can use the following code as a starting point, making sure\n",
        "that <code>mask_bits</code> contains the quality bits you want to\n",
        "consider: ```python # Expand into a new dimension of binary bits bits =\n",
        "( np.unpackbits(da.astype(np.uint8), bitorder=‘little’)\n",
        ".reshape(da.shape + (-1,)) )</p>\n",
        "<p># Select the required bits and check if any are flagged mask =\n",
        "np.prod(bits[…, mask_bits]==0, axis=-1) ```</p></li>\n",
        "<li><p>For each band that starts with ‘B’:</p>\n",
        "<ol type=\"1\">\n",
        "<li>Open the band, crop, and apply the scale factor</li>\n",
        "<li>Name the DataArray after the band using the <code>.name</code>\n",
        "attribute</li>\n",
        "<li>Apply the cloud mask using the <code>.where()</code> method</li>\n",
        "<li>Store the DataArray in your data structure (e.g. adding a\n",
        "GeoDataFrame column with the DataArray in it. Note that you will need to\n",
        "remove the rows for unused bands)</li>\n",
        "</ol></li>\n",
        "</ol></li>\n",
        "</ol></div></div>"
      ]
    },
    {
      "cell_type": "code",
      "execution_count": 36,
      "id": "225995ed",
      "metadata": {},
      "outputs": [
        {
          "data": {
            "text/plain": [
              "array(['B03', 'B07', 'B06', 'B02', 'B01', 'Fmask', 'SZA', 'SAA', 'B05',\n",
              "       'VAA', 'B10', 'B09', 'B11', 'B04', 'VZA'], dtype=object)"
            ]
          },
          "execution_count": 36,
          "metadata": {},
          "output_type": "execute_result"
        }
      ],
      "source": [
        "# get the list of all the band_ids\n",
        "granule_gdf['band'].unique()"
      ]
    },
    {
      "cell_type": "code",
      "execution_count": 37,
      "id": "ee16b6e8",
      "metadata": {},
      "outputs": [],
      "source": [
        "# # select first row band\n",
        "# type(granule_gdf.loc[0]['band'])\n",
        "\n",
        "# # Isolate Fmask rows from the granule_gdf\n",
        "# # fmask_gdf = granule_gdf[granule_gdf['band']=='Fmask']\n",
        "# # fmask_gdf\n",
        "\n",
        "# # try to get for loop to select fmask rows\n",
        "# fmask_list = []\n",
        "# for row in granule_gdf.itertuples():\n",
        "#     if row.band == 'Fmask':\n",
        "#         fmask_da = rxr.open_rasterio(row.url, mask_and_scale=True).squeeze()\n",
        "#         # Get the study bounds\n",
        "#         bounds = (\n",
        "#             wbd_gdf\n",
        "#             .to_crs(fmask_da.rio.crs)\n",
        "#             .total_bounds\n",
        "#         )\n",
        "\n",
        "#         # Crop\n",
        "#         cropped_da = fmask_da.rio.clip_box(*bounds)\n",
        "#         fmask_list.append(cropped_da)\n",
        "\n",
        "# # check fmask_list\n",
        "# fmask_list"
      ]
    },
    {
      "cell_type": "code",
      "execution_count": 38,
      "id": "da37836c",
      "metadata": {},
      "outputs": [],
      "source": [
        "# # create empty list for b_band rows\n",
        "# b_band_list = []\n",
        "# # create for loop to select B rows\n",
        "# # for each row in granule_gdf...\n",
        "# for row in tqdm(granule_gdf.itertuples()):\n",
        "#     # if the row starts with B...\n",
        "#     if row.band.startswith('B'):\n",
        "#         # open the band\n",
        "#         b_band_da = rxr.open_rasterio(row.url, mask_and_scale=True).squeeze()\n",
        "#         # crop the band by getting the study site bounds and cropping\n",
        "#         bounds = (\n",
        "#             wbd_gdf\n",
        "#             .to_crs(b_band_da.rio.crs)\n",
        "#             .total_bounds\n",
        "#         )\n",
        "        \n",
        "#         cropped_da = b_band_da.rio.clip_box(*bounds)\n",
        "\n",
        "#         #rename cropped da after the band name\n",
        "#         cropped_da.name = row.band\n",
        "#         b_band_list.append(cropped_da)"
      ]
    },
    {
      "cell_type": "code",
      "execution_count": 39,
      "id": "93786e19",
      "metadata": {},
      "outputs": [],
      "source": [
        "# check b_band_list\n",
        "# b_band_list"
      ]
    },
    {
      "cell_type": "code",
      "execution_count": 40,
      "id": "e1aec1bf",
      "metadata": {},
      "outputs": [],
      "source": [
        "# # check that naming the dataarray after the band worked\n",
        "# b_band_list[0].name"
      ]
    },
    {
      "cell_type": "markdown",
      "id": "570d7cd6",
      "metadata": {},
      "source": [
        "Solution code to open, crop, and mask data:"
      ]
    },
    {
      "cell_type": "code",
      "execution_count": null,
      "id": "413331a9",
      "metadata": {},
      "outputs": [
        {
          "data": {
            "application/vnd.jupyter.widget-view+json": {
              "model_id": "b096e79be0eb4afbac7b238bfa99e3ce",
              "version_major": 2,
              "version_minor": 0
            },
            "text/plain": [
              "  0%|          | 0/88 [00:00<?, ?it/s]"
            ]
          },
          "metadata": {},
          "output_type": "display_data"
        },
        {
          "data": {
            "application/vnd.jupyter.widget-view+json": {
              "model_id": "8afb503f8d184b66ad389cc4c5fabea0",
              "version_major": 2,
              "version_minor": 0
            },
            "text/plain": [
              "QUEUEING TASKS | :   0%|          | 0/15 [00:00<?, ?it/s]"
            ]
          },
          "metadata": {},
          "output_type": "display_data"
        },
        {
          "data": {
            "application/vnd.jupyter.widget-view+json": {
              "model_id": "55eb4d6b16634eb6a87f14c9dbbdc1cb",
              "version_major": 2,
              "version_minor": 0
            },
            "text/plain": [
              "PROCESSING TASKS | :   0%|          | 0/15 [00:00<?, ?it/s]"
            ]
          },
          "metadata": {},
          "output_type": "display_data"
        },
        {
          "data": {
            "application/vnd.jupyter.widget-view+json": {
              "model_id": "08e14706a05f49af94be18db5f3f7ca6",
              "version_major": 2,
              "version_minor": 0
            },
            "text/plain": [
              "COLLECTING RESULTS | :   0%|          | 0/15 [00:00<?, ?it/s]"
            ]
          },
          "metadata": {},
          "output_type": "display_data"
        },
        {
          "data": {
            "application/vnd.jupyter.widget-view+json": {
              "model_id": "57ee9c1011ca4f728ed563236c65a64f",
              "version_major": 2,
              "version_minor": 0
            },
            "text/plain": [
              "QUEUEING TASKS | :   0%|          | 0/15 [00:00<?, ?it/s]"
            ]
          },
          "metadata": {},
          "output_type": "display_data"
        },
        {
          "data": {
            "application/vnd.jupyter.widget-view+json": {
              "model_id": "8915faf71aa74fa8907216e0462183cc",
              "version_major": 2,
              "version_minor": 0
            },
            "text/plain": [
              "PROCESSING TASKS | :   0%|          | 0/15 [00:00<?, ?it/s]"
            ]
          },
          "metadata": {},
          "output_type": "display_data"
        },
        {
          "data": {
            "application/vnd.jupyter.widget-view+json": {
              "model_id": "48a5d7caf15f474fbe04bf3404001770",
              "version_major": 2,
              "version_minor": 0
            },
            "text/plain": [
              "COLLECTING RESULTS | :   0%|          | 0/15 [00:00<?, ?it/s]"
            ]
          },
          "metadata": {},
          "output_type": "display_data"
        },
        {
          "data": {
            "application/vnd.jupyter.widget-view+json": {
              "model_id": "dc73c7cefe3348e483ad9081d4bf16bc",
              "version_major": 2,
              "version_minor": 0
            },
            "text/plain": [
              "QUEUEING TASKS | :   0%|          | 0/15 [00:00<?, ?it/s]"
            ]
          },
          "metadata": {},
          "output_type": "display_data"
        },
        {
          "data": {
            "application/vnd.jupyter.widget-view+json": {
              "model_id": "ef314af40d4c4062904fd35402a82eff",
              "version_major": 2,
              "version_minor": 0
            },
            "text/plain": [
              "PROCESSING TASKS | :   0%|          | 0/15 [00:00<?, ?it/s]"
            ]
          },
          "metadata": {},
          "output_type": "display_data"
        },
        {
          "data": {
            "application/vnd.jupyter.widget-view+json": {
              "model_id": "080ece6ac46a4ed0a5cc369fc3c70f3b",
              "version_major": 2,
              "version_minor": 0
            },
            "text/plain": [
              "COLLECTING RESULTS | :   0%|          | 0/15 [00:00<?, ?it/s]"
            ]
          },
          "metadata": {},
          "output_type": "display_data"
        },
        {
          "data": {
            "application/vnd.jupyter.widget-view+json": {
              "model_id": "8a61205fb76440878dcad7630500a9dc",
              "version_major": 2,
              "version_minor": 0
            },
            "text/plain": [
              "QUEUEING TASKS | :   0%|          | 0/15 [00:00<?, ?it/s]"
            ]
          },
          "metadata": {},
          "output_type": "display_data"
        },
        {
          "data": {
            "application/vnd.jupyter.widget-view+json": {
              "model_id": "bf264caa41bc4898ad2dacfb09aadb17",
              "version_major": 2,
              "version_minor": 0
            },
            "text/plain": [
              "PROCESSING TASKS | :   0%|          | 0/15 [00:00<?, ?it/s]"
            ]
          },
          "metadata": {},
          "output_type": "display_data"
        },
        {
          "data": {
            "application/vnd.jupyter.widget-view+json": {
              "model_id": "d15640c1de024aa9b5bee7e83b3cf5da",
              "version_major": 2,
              "version_minor": 0
            },
            "text/plain": [
              "COLLECTING RESULTS | :   0%|          | 0/15 [00:00<?, ?it/s]"
            ]
          },
          "metadata": {},
          "output_type": "display_data"
        },
        {
          "data": {
            "application/vnd.jupyter.widget-view+json": {
              "model_id": "6492970e9ce74224979c49966556bc4b",
              "version_major": 2,
              "version_minor": 0
            },
            "text/plain": [
              "QUEUEING TASKS | :   0%|          | 0/15 [00:00<?, ?it/s]"
            ]
          },
          "metadata": {},
          "output_type": "display_data"
        },
        {
          "data": {
            "application/vnd.jupyter.widget-view+json": {
              "model_id": "d453043911d54cdba2cbcdddbd9988e2",
              "version_major": 2,
              "version_minor": 0
            },
            "text/plain": [
              "PROCESSING TASKS | :   0%|          | 0/15 [00:00<?, ?it/s]"
            ]
          },
          "metadata": {},
          "output_type": "display_data"
        },
        {
          "data": {
            "application/vnd.jupyter.widget-view+json": {
              "model_id": "05da83e5a85b4c6e812bf5b851ade347",
              "version_major": 2,
              "version_minor": 0
            },
            "text/plain": [
              "COLLECTING RESULTS | :   0%|          | 0/15 [00:00<?, ?it/s]"
            ]
          },
          "metadata": {},
          "output_type": "display_data"
        },
        {
          "data": {
            "application/vnd.jupyter.widget-view+json": {
              "model_id": "8ab3367a4af34ea48947a559cb2e1054",
              "version_major": 2,
              "version_minor": 0
            },
            "text/plain": [
              "QUEUEING TASKS | :   0%|          | 0/15 [00:00<?, ?it/s]"
            ]
          },
          "metadata": {},
          "output_type": "display_data"
        },
        {
          "data": {
            "application/vnd.jupyter.widget-view+json": {
              "model_id": "2e31b448ea4b4bb8997ef3cbf47e7dce",
              "version_major": 2,
              "version_minor": 0
            },
            "text/plain": [
              "PROCESSING TASKS | :   0%|          | 0/15 [00:00<?, ?it/s]"
            ]
          },
          "metadata": {},
          "output_type": "display_data"
        },
        {
          "data": {
            "application/vnd.jupyter.widget-view+json": {
              "model_id": "ddd8a19bfb654a7d8fd32c24836fb5e6",
              "version_major": 2,
              "version_minor": 0
            },
            "text/plain": [
              "COLLECTING RESULTS | :   0%|          | 0/15 [00:00<?, ?it/s]"
            ]
          },
          "metadata": {},
          "output_type": "display_data"
        },
        {
          "data": {
            "application/vnd.jupyter.widget-view+json": {
              "model_id": "1f6ac8753cac4c6f979de2879514801e",
              "version_major": 2,
              "version_minor": 0
            },
            "text/plain": [
              "QUEUEING TASKS | :   0%|          | 0/15 [00:00<?, ?it/s]"
            ]
          },
          "metadata": {},
          "output_type": "display_data"
        },
        {
          "data": {
            "application/vnd.jupyter.widget-view+json": {
              "model_id": "436261469cc942e7ba37e9e71d178ea6",
              "version_major": 2,
              "version_minor": 0
            },
            "text/plain": [
              "PROCESSING TASKS | :   0%|          | 0/15 [00:00<?, ?it/s]"
            ]
          },
          "metadata": {},
          "output_type": "display_data"
        },
        {
          "data": {
            "application/vnd.jupyter.widget-view+json": {
              "model_id": "195ab75675e34907baad7ef9c08e14e6",
              "version_major": 2,
              "version_minor": 0
            },
            "text/plain": [
              "COLLECTING RESULTS | :   0%|          | 0/15 [00:00<?, ?it/s]"
            ]
          },
          "metadata": {},
          "output_type": "display_data"
        },
        {
          "data": {
            "application/vnd.jupyter.widget-view+json": {
              "model_id": "5a809f53b06e4e0f8a18bbe569e16351",
              "version_major": 2,
              "version_minor": 0
            },
            "text/plain": [
              "QUEUEING TASKS | :   0%|          | 0/15 [00:00<?, ?it/s]"
            ]
          },
          "metadata": {},
          "output_type": "display_data"
        },
        {
          "data": {
            "application/vnd.jupyter.widget-view+json": {
              "model_id": "933fdc49b435448e95f7203c1279393e",
              "version_major": 2,
              "version_minor": 0
            },
            "text/plain": [
              "PROCESSING TASKS | :   0%|          | 0/15 [00:00<?, ?it/s]"
            ]
          },
          "metadata": {},
          "output_type": "display_data"
        },
        {
          "data": {
            "application/vnd.jupyter.widget-view+json": {
              "model_id": "31e11177c55f49c1ba0b77ff2e8ea02a",
              "version_major": 2,
              "version_minor": 0
            },
            "text/plain": [
              "COLLECTING RESULTS | :   0%|          | 0/15 [00:00<?, ?it/s]"
            ]
          },
          "metadata": {},
          "output_type": "display_data"
        },
        {
          "data": {
            "application/vnd.jupyter.widget-view+json": {
              "model_id": "bd42d5194db6486f8c78603af5fb5e01",
              "version_major": 2,
              "version_minor": 0
            },
            "text/plain": [
              "QUEUEING TASKS | :   0%|          | 0/15 [00:00<?, ?it/s]"
            ]
          },
          "metadata": {},
          "output_type": "display_data"
        },
        {
          "data": {
            "application/vnd.jupyter.widget-view+json": {
              "model_id": "70368975675642a3b967a421a92f748a",
              "version_major": 2,
              "version_minor": 0
            },
            "text/plain": [
              "PROCESSING TASKS | :   0%|          | 0/15 [00:00<?, ?it/s]"
            ]
          },
          "metadata": {},
          "output_type": "display_data"
        },
        {
          "data": {
            "application/vnd.jupyter.widget-view+json": {
              "model_id": "b7219ff101574d39a5c89db2716d3ea0",
              "version_major": 2,
              "version_minor": 0
            },
            "text/plain": [
              "COLLECTING RESULTS | :   0%|          | 0/15 [00:00<?, ?it/s]"
            ]
          },
          "metadata": {},
          "output_type": "display_data"
        },
        {
          "data": {
            "application/vnd.jupyter.widget-view+json": {
              "model_id": "5f7b528cb71849a59649172657c3a0b7",
              "version_major": 2,
              "version_minor": 0
            },
            "text/plain": [
              "QUEUEING TASKS | :   0%|          | 0/15 [00:00<?, ?it/s]"
            ]
          },
          "metadata": {},
          "output_type": "display_data"
        },
        {
          "data": {
            "application/vnd.jupyter.widget-view+json": {
              "model_id": "2ae9e05ebce145deb4775e506732df23",
              "version_major": 2,
              "version_minor": 0
            },
            "text/plain": [
              "PROCESSING TASKS | :   0%|          | 0/15 [00:00<?, ?it/s]"
            ]
          },
          "metadata": {},
          "output_type": "display_data"
        },
        {
          "data": {
            "application/vnd.jupyter.widget-view+json": {
              "model_id": "4d7700ff7e2d4c669d9dcb751f684fcd",
              "version_major": 2,
              "version_minor": 0
            },
            "text/plain": [
              "COLLECTING RESULTS | :   0%|          | 0/15 [00:00<?, ?it/s]"
            ]
          },
          "metadata": {},
          "output_type": "display_data"
        },
        {
          "data": {
            "application/vnd.jupyter.widget-view+json": {
              "model_id": "c248fb820b064a1fa11941b532b4dc64",
              "version_major": 2,
              "version_minor": 0
            },
            "text/plain": [
              "QUEUEING TASKS | :   0%|          | 0/15 [00:00<?, ?it/s]"
            ]
          },
          "metadata": {},
          "output_type": "display_data"
        },
        {
          "data": {
            "application/vnd.jupyter.widget-view+json": {
              "model_id": "2bb26fe1ef754b4c9d22070bcfecb08c",
              "version_major": 2,
              "version_minor": 0
            },
            "text/plain": [
              "PROCESSING TASKS | :   0%|          | 0/15 [00:00<?, ?it/s]"
            ]
          },
          "metadata": {},
          "output_type": "display_data"
        },
        {
          "data": {
            "application/vnd.jupyter.widget-view+json": {
              "model_id": "04968d5b795f4e1280eaf014739acf8b",
              "version_major": 2,
              "version_minor": 0
            },
            "text/plain": [
              "COLLECTING RESULTS | :   0%|          | 0/15 [00:00<?, ?it/s]"
            ]
          },
          "metadata": {},
          "output_type": "display_data"
        },
        {
          "data": {
            "application/vnd.jupyter.widget-view+json": {
              "model_id": "7cfc44308b624eb386a97cc9ba03d1d3",
              "version_major": 2,
              "version_minor": 0
            },
            "text/plain": [
              "QUEUEING TASKS | :   0%|          | 0/15 [00:00<?, ?it/s]"
            ]
          },
          "metadata": {},
          "output_type": "display_data"
        },
        {
          "data": {
            "application/vnd.jupyter.widget-view+json": {
              "model_id": "eee19d274e9949b380febeaa4ffea1b1",
              "version_major": 2,
              "version_minor": 0
            },
            "text/plain": [
              "PROCESSING TASKS | :   0%|          | 0/15 [00:00<?, ?it/s]"
            ]
          },
          "metadata": {},
          "output_type": "display_data"
        },
        {
          "data": {
            "application/vnd.jupyter.widget-view+json": {
              "model_id": "0203bd7e019b4bc195de746289095c98",
              "version_major": 2,
              "version_minor": 0
            },
            "text/plain": [
              "COLLECTING RESULTS | :   0%|          | 0/15 [00:00<?, ?it/s]"
            ]
          },
          "metadata": {},
          "output_type": "display_data"
        },
        {
          "data": {
            "application/vnd.jupyter.widget-view+json": {
              "model_id": "39ec55c4615b4704a7c2d84eb75ed091",
              "version_major": 2,
              "version_minor": 0
            },
            "text/plain": [
              "QUEUEING TASKS | :   0%|          | 0/15 [00:00<?, ?it/s]"
            ]
          },
          "metadata": {},
          "output_type": "display_data"
        },
        {
          "data": {
            "application/vnd.jupyter.widget-view+json": {
              "model_id": "600a696f31764e50a921d45937bd47c2",
              "version_major": 2,
              "version_minor": 0
            },
            "text/plain": [
              "PROCESSING TASKS | :   0%|          | 0/15 [00:00<?, ?it/s]"
            ]
          },
          "metadata": {},
          "output_type": "display_data"
        },
        {
          "data": {
            "application/vnd.jupyter.widget-view+json": {
              "model_id": "6d93b0ad8ab749fcb2ee23376037b3e6",
              "version_major": 2,
              "version_minor": 0
            },
            "text/plain": [
              "COLLECTING RESULTS | :   0%|          | 0/15 [00:00<?, ?it/s]"
            ]
          },
          "metadata": {},
          "output_type": "display_data"
        },
        {
          "data": {
            "application/vnd.jupyter.widget-view+json": {
              "model_id": "646c3d1b18cd483a9e0bd4597f0bb98c",
              "version_major": 2,
              "version_minor": 0
            },
            "text/plain": [
              "QUEUEING TASKS | :   0%|          | 0/15 [00:00<?, ?it/s]"
            ]
          },
          "metadata": {},
          "output_type": "display_data"
        },
        {
          "data": {
            "application/vnd.jupyter.widget-view+json": {
              "model_id": "c3ea94dadcf643f588c1b00ee47ce8d7",
              "version_major": 2,
              "version_minor": 0
            },
            "text/plain": [
              "PROCESSING TASKS | :   0%|          | 0/15 [00:00<?, ?it/s]"
            ]
          },
          "metadata": {},
          "output_type": "display_data"
        },
        {
          "data": {
            "application/vnd.jupyter.widget-view+json": {
              "model_id": "c9c39637f39d492e8cb27b3052c3e2f5",
              "version_major": 2,
              "version_minor": 0
            },
            "text/plain": [
              "COLLECTING RESULTS | :   0%|          | 0/15 [00:00<?, ?it/s]"
            ]
          },
          "metadata": {},
          "output_type": "display_data"
        },
        {
          "data": {
            "application/vnd.jupyter.widget-view+json": {
              "model_id": "c54eb7732fa845209984ac310d7e8d4a",
              "version_major": 2,
              "version_minor": 0
            },
            "text/plain": [
              "QUEUEING TASKS | :   0%|          | 0/15 [00:00<?, ?it/s]"
            ]
          },
          "metadata": {},
          "output_type": "display_data"
        },
        {
          "data": {
            "application/vnd.jupyter.widget-view+json": {
              "model_id": "052ae342536640d3b9c04b45360756ea",
              "version_major": 2,
              "version_minor": 0
            },
            "text/plain": [
              "PROCESSING TASKS | :   0%|          | 0/15 [00:00<?, ?it/s]"
            ]
          },
          "metadata": {},
          "output_type": "display_data"
        },
        {
          "data": {
            "application/vnd.jupyter.widget-view+json": {
              "model_id": "0904f5b2bc9a450a820f55166615b936",
              "version_major": 2,
              "version_minor": 0
            },
            "text/plain": [
              "COLLECTING RESULTS | :   0%|          | 0/15 [00:00<?, ?it/s]"
            ]
          },
          "metadata": {},
          "output_type": "display_data"
        },
        {
          "data": {
            "application/vnd.jupyter.widget-view+json": {
              "model_id": "74f5ca5b506f4e41997b2dd9696624f9",
              "version_major": 2,
              "version_minor": 0
            },
            "text/plain": [
              "QUEUEING TASKS | :   0%|          | 0/15 [00:00<?, ?it/s]"
            ]
          },
          "metadata": {},
          "output_type": "display_data"
        },
        {
          "data": {
            "application/vnd.jupyter.widget-view+json": {
              "model_id": "f474db4359e447ed95864bc27e990985",
              "version_major": 2,
              "version_minor": 0
            },
            "text/plain": [
              "PROCESSING TASKS | :   0%|          | 0/15 [00:00<?, ?it/s]"
            ]
          },
          "metadata": {},
          "output_type": "display_data"
        },
        {
          "data": {
            "application/vnd.jupyter.widget-view+json": {
              "model_id": "2f72ce4d54fb4bb6b76e8e960742f707",
              "version_major": 2,
              "version_minor": 0
            },
            "text/plain": [
              "COLLECTING RESULTS | :   0%|          | 0/15 [00:00<?, ?it/s]"
            ]
          },
          "metadata": {},
          "output_type": "display_data"
        },
        {
          "data": {
            "application/vnd.jupyter.widget-view+json": {
              "model_id": "f7adad2d2a914dd0a84f6fba8c7cf7de",
              "version_major": 2,
              "version_minor": 0
            },
            "text/plain": [
              "QUEUEING TASKS | :   0%|          | 0/15 [00:00<?, ?it/s]"
            ]
          },
          "metadata": {},
          "output_type": "display_data"
        },
        {
          "data": {
            "application/vnd.jupyter.widget-view+json": {
              "model_id": "01a698e06cf343ca929fa4a519f8c8e4",
              "version_major": 2,
              "version_minor": 0
            },
            "text/plain": [
              "PROCESSING TASKS | :   0%|          | 0/15 [00:00<?, ?it/s]"
            ]
          },
          "metadata": {},
          "output_type": "display_data"
        },
        {
          "data": {
            "application/vnd.jupyter.widget-view+json": {
              "model_id": "c11f3b124a3a415aa056b59e456bd087",
              "version_major": 2,
              "version_minor": 0
            },
            "text/plain": [
              "COLLECTING RESULTS | :   0%|          | 0/15 [00:00<?, ?it/s]"
            ]
          },
          "metadata": {},
          "output_type": "display_data"
        },
        {
          "data": {
            "application/vnd.jupyter.widget-view+json": {
              "model_id": "3b99071bdca04d5991d9e22dd07eae72",
              "version_major": 2,
              "version_minor": 0
            },
            "text/plain": [
              "QUEUEING TASKS | :   0%|          | 0/15 [00:00<?, ?it/s]"
            ]
          },
          "metadata": {},
          "output_type": "display_data"
        },
        {
          "data": {
            "application/vnd.jupyter.widget-view+json": {
              "model_id": "304a4e94bd8e4c3daa45b252b2a6afa8",
              "version_major": 2,
              "version_minor": 0
            },
            "text/plain": [
              "PROCESSING TASKS | :   0%|          | 0/15 [00:00<?, ?it/s]"
            ]
          },
          "metadata": {},
          "output_type": "display_data"
        },
        {
          "data": {
            "application/vnd.jupyter.widget-view+json": {
              "model_id": "3a721dbdfcf74343ae22f26afbe12ef5",
              "version_major": 2,
              "version_minor": 0
            },
            "text/plain": [
              "COLLECTING RESULTS | :   0%|          | 0/15 [00:00<?, ?it/s]"
            ]
          },
          "metadata": {},
          "output_type": "display_data"
        },
        {
          "data": {
            "application/vnd.jupyter.widget-view+json": {
              "model_id": "05fc000cb8e84b8f9c3c3853a1dd5f75",
              "version_major": 2,
              "version_minor": 0
            },
            "text/plain": [
              "QUEUEING TASKS | :   0%|          | 0/15 [00:00<?, ?it/s]"
            ]
          },
          "metadata": {},
          "output_type": "display_data"
        },
        {
          "data": {
            "application/vnd.jupyter.widget-view+json": {
              "model_id": "c53bbfad787d441b8f56424fd21affb0",
              "version_major": 2,
              "version_minor": 0
            },
            "text/plain": [
              "PROCESSING TASKS | :   0%|          | 0/15 [00:00<?, ?it/s]"
            ]
          },
          "metadata": {},
          "output_type": "display_data"
        },
        {
          "data": {
            "application/vnd.jupyter.widget-view+json": {
              "model_id": "7492fbbe2d6b4a74ba3c09777c920666",
              "version_major": 2,
              "version_minor": 0
            },
            "text/plain": [
              "COLLECTING RESULTS | :   0%|          | 0/15 [00:00<?, ?it/s]"
            ]
          },
          "metadata": {},
          "output_type": "display_data"
        },
        {
          "data": {
            "application/vnd.jupyter.widget-view+json": {
              "model_id": "b669985e4fec4dbfa2dcd657d00428fe",
              "version_major": 2,
              "version_minor": 0
            },
            "text/plain": [
              "QUEUEING TASKS | :   0%|          | 0/15 [00:00<?, ?it/s]"
            ]
          },
          "metadata": {},
          "output_type": "display_data"
        },
        {
          "data": {
            "application/vnd.jupyter.widget-view+json": {
              "model_id": "b71ffc0cc37740189643119ae303544f",
              "version_major": 2,
              "version_minor": 0
            },
            "text/plain": [
              "PROCESSING TASKS | :   0%|          | 0/15 [00:00<?, ?it/s]"
            ]
          },
          "metadata": {},
          "output_type": "display_data"
        },
        {
          "data": {
            "application/vnd.jupyter.widget-view+json": {
              "model_id": "9e87c1b4e96c4b93bb3c0bce43f92a8e",
              "version_major": 2,
              "version_minor": 0
            },
            "text/plain": [
              "COLLECTING RESULTS | :   0%|          | 0/15 [00:00<?, ?it/s]"
            ]
          },
          "metadata": {},
          "output_type": "display_data"
        },
        {
          "data": {
            "application/vnd.jupyter.widget-view+json": {
              "model_id": "2c19622f1e5643c2b5b8c8e28fb801b4",
              "version_major": 2,
              "version_minor": 0
            },
            "text/plain": [
              "QUEUEING TASKS | :   0%|          | 0/15 [00:00<?, ?it/s]"
            ]
          },
          "metadata": {},
          "output_type": "display_data"
        },
        {
          "data": {
            "application/vnd.jupyter.widget-view+json": {
              "model_id": "d6f124bbb2f34b72b1f2f3402237e928",
              "version_major": 2,
              "version_minor": 0
            },
            "text/plain": [
              "PROCESSING TASKS | :   0%|          | 0/15 [00:00<?, ?it/s]"
            ]
          },
          "metadata": {},
          "output_type": "display_data"
        },
        {
          "data": {
            "application/vnd.jupyter.widget-view+json": {
              "model_id": "6fdfc18d0697463c96f7930a8c089d71",
              "version_major": 2,
              "version_minor": 0
            },
            "text/plain": [
              "COLLECTING RESULTS | :   0%|          | 0/15 [00:00<?, ?it/s]"
            ]
          },
          "metadata": {},
          "output_type": "display_data"
        },
        {
          "data": {
            "application/vnd.jupyter.widget-view+json": {
              "model_id": "917353c3a06646ddb32fc7ab1e93b735",
              "version_major": 2,
              "version_minor": 0
            },
            "text/plain": [
              "QUEUEING TASKS | :   0%|          | 0/15 [00:00<?, ?it/s]"
            ]
          },
          "metadata": {},
          "output_type": "display_data"
        },
        {
          "data": {
            "application/vnd.jupyter.widget-view+json": {
              "model_id": "eee0ce1fac8f4c1a8bacb14f9b591799",
              "version_major": 2,
              "version_minor": 0
            },
            "text/plain": [
              "PROCESSING TASKS | :   0%|          | 0/15 [00:00<?, ?it/s]"
            ]
          },
          "metadata": {},
          "output_type": "display_data"
        },
        {
          "data": {
            "application/vnd.jupyter.widget-view+json": {
              "model_id": "2bfd016e52e3469282977d4a857f864a",
              "version_major": 2,
              "version_minor": 0
            },
            "text/plain": [
              "COLLECTING RESULTS | :   0%|          | 0/15 [00:00<?, ?it/s]"
            ]
          },
          "metadata": {},
          "output_type": "display_data"
        },
        {
          "data": {
            "application/vnd.jupyter.widget-view+json": {
              "model_id": "cf57742c03a04de5aa963cfc0ec5ddb4",
              "version_major": 2,
              "version_minor": 0
            },
            "text/plain": [
              "QUEUEING TASKS | :   0%|          | 0/15 [00:00<?, ?it/s]"
            ]
          },
          "metadata": {},
          "output_type": "display_data"
        },
        {
          "data": {
            "application/vnd.jupyter.widget-view+json": {
              "model_id": "8ab45b8a4ee84e759014a7f6d411f0c4",
              "version_major": 2,
              "version_minor": 0
            },
            "text/plain": [
              "PROCESSING TASKS | :   0%|          | 0/15 [00:00<?, ?it/s]"
            ]
          },
          "metadata": {},
          "output_type": "display_data"
        },
        {
          "data": {
            "application/vnd.jupyter.widget-view+json": {
              "model_id": "c2677be28ba441e8905a2d9aca42b8a9",
              "version_major": 2,
              "version_minor": 0
            },
            "text/plain": [
              "COLLECTING RESULTS | :   0%|          | 0/15 [00:00<?, ?it/s]"
            ]
          },
          "metadata": {},
          "output_type": "display_data"
        },
        {
          "data": {
            "application/vnd.jupyter.widget-view+json": {
              "model_id": "d30629ac2469409aa0ce3b68324e5e6c",
              "version_major": 2,
              "version_minor": 0
            },
            "text/plain": [
              "QUEUEING TASKS | :   0%|          | 0/15 [00:00<?, ?it/s]"
            ]
          },
          "metadata": {},
          "output_type": "display_data"
        },
        {
          "data": {
            "application/vnd.jupyter.widget-view+json": {
              "model_id": "6c651997bc92431f9ce0414dc76cefb9",
              "version_major": 2,
              "version_minor": 0
            },
            "text/plain": [
              "PROCESSING TASKS | :   0%|          | 0/15 [00:00<?, ?it/s]"
            ]
          },
          "metadata": {},
          "output_type": "display_data"
        },
        {
          "data": {
            "application/vnd.jupyter.widget-view+json": {
              "model_id": "604e17524a4d4387b02b46b96402129a",
              "version_major": 2,
              "version_minor": 0
            },
            "text/plain": [
              "COLLECTING RESULTS | :   0%|          | 0/15 [00:00<?, ?it/s]"
            ]
          },
          "metadata": {},
          "output_type": "display_data"
        },
        {
          "data": {
            "application/vnd.jupyter.widget-view+json": {
              "model_id": "f8c390000d9146ad97bf2c3a8e6516ab",
              "version_major": 2,
              "version_minor": 0
            },
            "text/plain": [
              "QUEUEING TASKS | :   0%|          | 0/15 [00:00<?, ?it/s]"
            ]
          },
          "metadata": {},
          "output_type": "display_data"
        },
        {
          "data": {
            "application/vnd.jupyter.widget-view+json": {
              "model_id": "0ba54e4b2bbc455f8bb5ac1eb496f2fe",
              "version_major": 2,
              "version_minor": 0
            },
            "text/plain": [
              "PROCESSING TASKS | :   0%|          | 0/15 [00:00<?, ?it/s]"
            ]
          },
          "metadata": {},
          "output_type": "display_data"
        },
        {
          "data": {
            "application/vnd.jupyter.widget-view+json": {
              "model_id": "c1d436b621ef44fab60fa4b0d889095e",
              "version_major": 2,
              "version_minor": 0
            },
            "text/plain": [
              "COLLECTING RESULTS | :   0%|          | 0/15 [00:00<?, ?it/s]"
            ]
          },
          "metadata": {},
          "output_type": "display_data"
        },
        {
          "data": {
            "application/vnd.jupyter.widget-view+json": {
              "model_id": "346a4111a48b45019ff94cb8f435ab16",
              "version_major": 2,
              "version_minor": 0
            },
            "text/plain": [
              "QUEUEING TASKS | :   0%|          | 0/15 [00:00<?, ?it/s]"
            ]
          },
          "metadata": {},
          "output_type": "display_data"
        },
        {
          "data": {
            "application/vnd.jupyter.widget-view+json": {
              "model_id": "2a90800b050b43799295c78570da1e60",
              "version_major": 2,
              "version_minor": 0
            },
            "text/plain": [
              "PROCESSING TASKS | :   0%|          | 0/15 [00:00<?, ?it/s]"
            ]
          },
          "metadata": {},
          "output_type": "display_data"
        },
        {
          "data": {
            "application/vnd.jupyter.widget-view+json": {
              "model_id": "1896ec1ea02142c099f4ebd313c2459a",
              "version_major": 2,
              "version_minor": 0
            },
            "text/plain": [
              "COLLECTING RESULTS | :   0%|          | 0/15 [00:00<?, ?it/s]"
            ]
          },
          "metadata": {},
          "output_type": "display_data"
        },
        {
          "data": {
            "application/vnd.jupyter.widget-view+json": {
              "model_id": "15ae1bf6bd664889b6b632e359a60794",
              "version_major": 2,
              "version_minor": 0
            },
            "text/plain": [
              "QUEUEING TASKS | :   0%|          | 0/15 [00:00<?, ?it/s]"
            ]
          },
          "metadata": {},
          "output_type": "display_data"
        },
        {
          "data": {
            "application/vnd.jupyter.widget-view+json": {
              "model_id": "6c750ac2f9f14b36afb8e5d85436e4b0",
              "version_major": 2,
              "version_minor": 0
            },
            "text/plain": [
              "PROCESSING TASKS | :   0%|          | 0/15 [00:00<?, ?it/s]"
            ]
          },
          "metadata": {},
          "output_type": "display_data"
        },
        {
          "data": {
            "application/vnd.jupyter.widget-view+json": {
              "model_id": "61e60de875594ec98498ecb5034dc909",
              "version_major": 2,
              "version_minor": 0
            },
            "text/plain": [
              "COLLECTING RESULTS | :   0%|          | 0/15 [00:00<?, ?it/s]"
            ]
          },
          "metadata": {},
          "output_type": "display_data"
        },
        {
          "data": {
            "application/vnd.jupyter.widget-view+json": {
              "model_id": "cbd04576c8214f90b5f3476cececcac9",
              "version_major": 2,
              "version_minor": 0
            },
            "text/plain": [
              "QUEUEING TASKS | :   0%|          | 0/15 [00:00<?, ?it/s]"
            ]
          },
          "metadata": {},
          "output_type": "display_data"
        },
        {
          "data": {
            "application/vnd.jupyter.widget-view+json": {
              "model_id": "83d07a2bfb154d908bdc89337dcd4cf4",
              "version_major": 2,
              "version_minor": 0
            },
            "text/plain": [
              "PROCESSING TASKS | :   0%|          | 0/15 [00:00<?, ?it/s]"
            ]
          },
          "metadata": {},
          "output_type": "display_data"
        },
        {
          "data": {
            "application/vnd.jupyter.widget-view+json": {
              "model_id": "24b36bf8e7184bdca26ab85a4c58992a",
              "version_major": 2,
              "version_minor": 0
            },
            "text/plain": [
              "COLLECTING RESULTS | :   0%|          | 0/15 [00:00<?, ?it/s]"
            ]
          },
          "metadata": {},
          "output_type": "display_data"
        },
        {
          "data": {
            "application/vnd.jupyter.widget-view+json": {
              "model_id": "920caa49d3384671b3003f27ee6a71c9",
              "version_major": 2,
              "version_minor": 0
            },
            "text/plain": [
              "QUEUEING TASKS | :   0%|          | 0/15 [00:00<?, ?it/s]"
            ]
          },
          "metadata": {},
          "output_type": "display_data"
        },
        {
          "data": {
            "application/vnd.jupyter.widget-view+json": {
              "model_id": "de97b5e8e0974cc6ad80be2829382fd9",
              "version_major": 2,
              "version_minor": 0
            },
            "text/plain": [
              "PROCESSING TASKS | :   0%|          | 0/15 [00:00<?, ?it/s]"
            ]
          },
          "metadata": {},
          "output_type": "display_data"
        },
        {
          "data": {
            "application/vnd.jupyter.widget-view+json": {
              "model_id": "b56eb8fe72234525b7dfabb418fb9899",
              "version_major": 2,
              "version_minor": 0
            },
            "text/plain": [
              "COLLECTING RESULTS | :   0%|          | 0/15 [00:00<?, ?it/s]"
            ]
          },
          "metadata": {},
          "output_type": "display_data"
        },
        {
          "data": {
            "application/vnd.jupyter.widget-view+json": {
              "model_id": "6bfd15bfc510456fbdc6ed2afbccae8f",
              "version_major": 2,
              "version_minor": 0
            },
            "text/plain": [
              "QUEUEING TASKS | :   0%|          | 0/15 [00:00<?, ?it/s]"
            ]
          },
          "metadata": {},
          "output_type": "display_data"
        },
        {
          "data": {
            "application/vnd.jupyter.widget-view+json": {
              "model_id": "0c5cfb94a5964b3c8803058be5a027d6",
              "version_major": 2,
              "version_minor": 0
            },
            "text/plain": [
              "PROCESSING TASKS | :   0%|          | 0/15 [00:00<?, ?it/s]"
            ]
          },
          "metadata": {},
          "output_type": "display_data"
        },
        {
          "data": {
            "application/vnd.jupyter.widget-view+json": {
              "model_id": "99b490be10ac44bba487cfcb92c93933",
              "version_major": 2,
              "version_minor": 0
            },
            "text/plain": [
              "COLLECTING RESULTS | :   0%|          | 0/15 [00:00<?, ?it/s]"
            ]
          },
          "metadata": {},
          "output_type": "display_data"
        },
        {
          "data": {
            "application/vnd.jupyter.widget-view+json": {
              "model_id": "35536f48757548138683b97a064374c4",
              "version_major": 2,
              "version_minor": 0
            },
            "text/plain": [
              "QUEUEING TASKS | :   0%|          | 0/15 [00:00<?, ?it/s]"
            ]
          },
          "metadata": {},
          "output_type": "display_data"
        },
        {
          "data": {
            "application/vnd.jupyter.widget-view+json": {
              "model_id": "0a1e1654c5d54c68bc01671048d6ce95",
              "version_major": 2,
              "version_minor": 0
            },
            "text/plain": [
              "PROCESSING TASKS | :   0%|          | 0/15 [00:00<?, ?it/s]"
            ]
          },
          "metadata": {},
          "output_type": "display_data"
        },
        {
          "data": {
            "application/vnd.jupyter.widget-view+json": {
              "model_id": "be580ed2dae54fae8e5da70557dfd79a",
              "version_major": 2,
              "version_minor": 0
            },
            "text/plain": [
              "COLLECTING RESULTS | :   0%|          | 0/15 [00:00<?, ?it/s]"
            ]
          },
          "metadata": {},
          "output_type": "display_data"
        },
        {
          "data": {
            "application/vnd.jupyter.widget-view+json": {
              "model_id": "13a9f70bcfbf45a680240a240cb56dd0",
              "version_major": 2,
              "version_minor": 0
            },
            "text/plain": [
              "QUEUEING TASKS | :   0%|          | 0/15 [00:00<?, ?it/s]"
            ]
          },
          "metadata": {},
          "output_type": "display_data"
        },
        {
          "data": {
            "application/vnd.jupyter.widget-view+json": {
              "model_id": "1335faeef1c6440f85e317675637c3cb",
              "version_major": 2,
              "version_minor": 0
            },
            "text/plain": [
              "PROCESSING TASKS | :   0%|          | 0/15 [00:00<?, ?it/s]"
            ]
          },
          "metadata": {},
          "output_type": "display_data"
        },
        {
          "data": {
            "application/vnd.jupyter.widget-view+json": {
              "model_id": "38f27161d0ff430596b0a287c6ed1ca3",
              "version_major": 2,
              "version_minor": 0
            },
            "text/plain": [
              "COLLECTING RESULTS | :   0%|          | 0/15 [00:00<?, ?it/s]"
            ]
          },
          "metadata": {},
          "output_type": "display_data"
        },
        {
          "data": {
            "application/vnd.jupyter.widget-view+json": {
              "model_id": "c582586218e140baa24eff404b85c258",
              "version_major": 2,
              "version_minor": 0
            },
            "text/plain": [
              "QUEUEING TASKS | :   0%|          | 0/15 [00:00<?, ?it/s]"
            ]
          },
          "metadata": {},
          "output_type": "display_data"
        },
        {
          "data": {
            "application/vnd.jupyter.widget-view+json": {
              "model_id": "0027a001de1c4f5aa112d1351fecbf25",
              "version_major": 2,
              "version_minor": 0
            },
            "text/plain": [
              "PROCESSING TASKS | :   0%|          | 0/15 [00:00<?, ?it/s]"
            ]
          },
          "metadata": {},
          "output_type": "display_data"
        },
        {
          "data": {
            "application/vnd.jupyter.widget-view+json": {
              "model_id": "b22911c8274a412b9ab7c5265642e273",
              "version_major": 2,
              "version_minor": 0
            },
            "text/plain": [
              "COLLECTING RESULTS | :   0%|          | 0/15 [00:00<?, ?it/s]"
            ]
          },
          "metadata": {},
          "output_type": "display_data"
        },
        {
          "data": {
            "application/vnd.jupyter.widget-view+json": {
              "model_id": "eac8fbfaf0c5498cbe61f53fceb24812",
              "version_major": 2,
              "version_minor": 0
            },
            "text/plain": [
              "QUEUEING TASKS | :   0%|          | 0/15 [00:00<?, ?it/s]"
            ]
          },
          "metadata": {},
          "output_type": "display_data"
        },
        {
          "data": {
            "application/vnd.jupyter.widget-view+json": {
              "model_id": "6c7f9a33561a40e38922635b6c79a9b1",
              "version_major": 2,
              "version_minor": 0
            },
            "text/plain": [
              "PROCESSING TASKS | :   0%|          | 0/15 [00:00<?, ?it/s]"
            ]
          },
          "metadata": {},
          "output_type": "display_data"
        },
        {
          "data": {
            "application/vnd.jupyter.widget-view+json": {
              "model_id": "c9de17cad7f04f9388e6caa2309d2860",
              "version_major": 2,
              "version_minor": 0
            },
            "text/plain": [
              "COLLECTING RESULTS | :   0%|          | 0/15 [00:00<?, ?it/s]"
            ]
          },
          "metadata": {},
          "output_type": "display_data"
        },
        {
          "data": {
            "application/vnd.jupyter.widget-view+json": {
              "model_id": "5ba7cbf77ad14b68a6374c8da1793d25",
              "version_major": 2,
              "version_minor": 0
            },
            "text/plain": [
              "QUEUEING TASKS | :   0%|          | 0/15 [00:00<?, ?it/s]"
            ]
          },
          "metadata": {},
          "output_type": "display_data"
        },
        {
          "data": {
            "application/vnd.jupyter.widget-view+json": {
              "model_id": "88a7d6b3d0884afca3349f5214ef96a7",
              "version_major": 2,
              "version_minor": 0
            },
            "text/plain": [
              "PROCESSING TASKS | :   0%|          | 0/15 [00:00<?, ?it/s]"
            ]
          },
          "metadata": {},
          "output_type": "display_data"
        },
        {
          "data": {
            "application/vnd.jupyter.widget-view+json": {
              "model_id": "f14f4e61f28043e79a5689ccd7e941cd",
              "version_major": 2,
              "version_minor": 0
            },
            "text/plain": [
              "COLLECTING RESULTS | :   0%|          | 0/15 [00:00<?, ?it/s]"
            ]
          },
          "metadata": {},
          "output_type": "display_data"
        },
        {
          "data": {
            "application/vnd.jupyter.widget-view+json": {
              "model_id": "cb6bd3237ae34868a126f413c69c8c09",
              "version_major": 2,
              "version_minor": 0
            },
            "text/plain": [
              "QUEUEING TASKS | :   0%|          | 0/15 [00:00<?, ?it/s]"
            ]
          },
          "metadata": {},
          "output_type": "display_data"
        },
        {
          "data": {
            "application/vnd.jupyter.widget-view+json": {
              "model_id": "00a7922443074d2f80ad88cd0ea91bec",
              "version_major": 2,
              "version_minor": 0
            },
            "text/plain": [
              "PROCESSING TASKS | :   0%|          | 0/15 [00:00<?, ?it/s]"
            ]
          },
          "metadata": {},
          "output_type": "display_data"
        },
        {
          "data": {
            "application/vnd.jupyter.widget-view+json": {
              "model_id": "2a247c4a87bc4004b748aabfa1fe607f",
              "version_major": 2,
              "version_minor": 0
            },
            "text/plain": [
              "COLLECTING RESULTS | :   0%|          | 0/15 [00:00<?, ?it/s]"
            ]
          },
          "metadata": {},
          "output_type": "display_data"
        },
        {
          "data": {
            "application/vnd.jupyter.widget-view+json": {
              "model_id": "73b924abddc348a78dfa80f572c782e1",
              "version_major": 2,
              "version_minor": 0
            },
            "text/plain": [
              "QUEUEING TASKS | :   0%|          | 0/15 [00:00<?, ?it/s]"
            ]
          },
          "metadata": {},
          "output_type": "display_data"
        },
        {
          "data": {
            "application/vnd.jupyter.widget-view+json": {
              "model_id": "ccd7fd11a012489ea12b917572b66307",
              "version_major": 2,
              "version_minor": 0
            },
            "text/plain": [
              "PROCESSING TASKS | :   0%|          | 0/15 [00:00<?, ?it/s]"
            ]
          },
          "metadata": {},
          "output_type": "display_data"
        },
        {
          "data": {
            "application/vnd.jupyter.widget-view+json": {
              "model_id": "b0b2a199bc5a4997986e884fb8e35f23",
              "version_major": 2,
              "version_minor": 0
            },
            "text/plain": [
              "COLLECTING RESULTS | :   0%|          | 0/15 [00:00<?, ?it/s]"
            ]
          },
          "metadata": {},
          "output_type": "display_data"
        },
        {
          "data": {
            "application/vnd.jupyter.widget-view+json": {
              "model_id": "22f12974c67f4e219a8688f48c5e1e07",
              "version_major": 2,
              "version_minor": 0
            },
            "text/plain": [
              "QUEUEING TASKS | :   0%|          | 0/15 [00:00<?, ?it/s]"
            ]
          },
          "metadata": {},
          "output_type": "display_data"
        },
        {
          "data": {
            "application/vnd.jupyter.widget-view+json": {
              "model_id": "9f652bbc78744adba907b0fda50125d1",
              "version_major": 2,
              "version_minor": 0
            },
            "text/plain": [
              "PROCESSING TASKS | :   0%|          | 0/15 [00:00<?, ?it/s]"
            ]
          },
          "metadata": {},
          "output_type": "display_data"
        },
        {
          "data": {
            "application/vnd.jupyter.widget-view+json": {
              "model_id": "835d7f33e1294d44b855a9109685b766",
              "version_major": 2,
              "version_minor": 0
            },
            "text/plain": [
              "COLLECTING RESULTS | :   0%|          | 0/15 [00:00<?, ?it/s]"
            ]
          },
          "metadata": {},
          "output_type": "display_data"
        },
        {
          "data": {
            "application/vnd.jupyter.widget-view+json": {
              "model_id": "4da650db7b0b43049ff6c6415923c112",
              "version_major": 2,
              "version_minor": 0
            },
            "text/plain": [
              "QUEUEING TASKS | :   0%|          | 0/15 [00:00<?, ?it/s]"
            ]
          },
          "metadata": {},
          "output_type": "display_data"
        },
        {
          "data": {
            "application/vnd.jupyter.widget-view+json": {
              "model_id": "2eebc35e71974f92a57405a26ca4b072",
              "version_major": 2,
              "version_minor": 0
            },
            "text/plain": [
              "PROCESSING TASKS | :   0%|          | 0/15 [00:00<?, ?it/s]"
            ]
          },
          "metadata": {},
          "output_type": "display_data"
        },
        {
          "data": {
            "application/vnd.jupyter.widget-view+json": {
              "model_id": "4b23af7e5cac4ee2bab0ae1d4d2fa5e2",
              "version_major": 2,
              "version_minor": 0
            },
            "text/plain": [
              "COLLECTING RESULTS | :   0%|          | 0/15 [00:00<?, ?it/s]"
            ]
          },
          "metadata": {},
          "output_type": "display_data"
        },
        {
          "data": {
            "application/vnd.jupyter.widget-view+json": {
              "model_id": "87bd419bf2674f00a62c3d20ed01d332",
              "version_major": 2,
              "version_minor": 0
            },
            "text/plain": [
              "QUEUEING TASKS | :   0%|          | 0/15 [00:00<?, ?it/s]"
            ]
          },
          "metadata": {},
          "output_type": "display_data"
        },
        {
          "data": {
            "application/vnd.jupyter.widget-view+json": {
              "model_id": "36f9d8a14a1d4abe8a1b7353edc291ce",
              "version_major": 2,
              "version_minor": 0
            },
            "text/plain": [
              "PROCESSING TASKS | :   0%|          | 0/15 [00:00<?, ?it/s]"
            ]
          },
          "metadata": {},
          "output_type": "display_data"
        },
        {
          "data": {
            "application/vnd.jupyter.widget-view+json": {
              "model_id": "7770278e74cb453f9b495f2d5d1dc689",
              "version_major": 2,
              "version_minor": 0
            },
            "text/plain": [
              "COLLECTING RESULTS | :   0%|          | 0/15 [00:00<?, ?it/s]"
            ]
          },
          "metadata": {},
          "output_type": "display_data"
        },
        {
          "data": {
            "application/vnd.jupyter.widget-view+json": {
              "model_id": "02468655d9564ae7be2a732a42b4b397",
              "version_major": 2,
              "version_minor": 0
            },
            "text/plain": [
              "QUEUEING TASKS | :   0%|          | 0/15 [00:00<?, ?it/s]"
            ]
          },
          "metadata": {},
          "output_type": "display_data"
        },
        {
          "data": {
            "application/vnd.jupyter.widget-view+json": {
              "model_id": "50a83c3390a446b2bc65b877ebb5865e",
              "version_major": 2,
              "version_minor": 0
            },
            "text/plain": [
              "PROCESSING TASKS | :   0%|          | 0/15 [00:00<?, ?it/s]"
            ]
          },
          "metadata": {},
          "output_type": "display_data"
        },
        {
          "data": {
            "application/vnd.jupyter.widget-view+json": {
              "model_id": "0bde01a1a4224c1194c1d33a94052442",
              "version_major": 2,
              "version_minor": 0
            },
            "text/plain": [
              "COLLECTING RESULTS | :   0%|          | 0/15 [00:00<?, ?it/s]"
            ]
          },
          "metadata": {},
          "output_type": "display_data"
        },
        {
          "data": {
            "application/vnd.jupyter.widget-view+json": {
              "model_id": "11398034fb614a3d856a6e6f8056d92a",
              "version_major": 2,
              "version_minor": 0
            },
            "text/plain": [
              "QUEUEING TASKS | :   0%|          | 0/15 [00:00<?, ?it/s]"
            ]
          },
          "metadata": {},
          "output_type": "display_data"
        },
        {
          "data": {
            "application/vnd.jupyter.widget-view+json": {
              "model_id": "12706094336e4812918fa6e9e0e796cf",
              "version_major": 2,
              "version_minor": 0
            },
            "text/plain": [
              "PROCESSING TASKS | :   0%|          | 0/15 [00:00<?, ?it/s]"
            ]
          },
          "metadata": {},
          "output_type": "display_data"
        },
        {
          "data": {
            "application/vnd.jupyter.widget-view+json": {
              "model_id": "9ad6d3e896ac4c2592ffb796ece8ddbc",
              "version_major": 2,
              "version_minor": 0
            },
            "text/plain": [
              "COLLECTING RESULTS | :   0%|          | 0/15 [00:00<?, ?it/s]"
            ]
          },
          "metadata": {},
          "output_type": "display_data"
        },
        {
          "data": {
            "application/vnd.jupyter.widget-view+json": {
              "model_id": "7d013decbb834b669933691a318a1a75",
              "version_major": 2,
              "version_minor": 0
            },
            "text/plain": [
              "QUEUEING TASKS | :   0%|          | 0/15 [00:00<?, ?it/s]"
            ]
          },
          "metadata": {},
          "output_type": "display_data"
        },
        {
          "data": {
            "application/vnd.jupyter.widget-view+json": {
              "model_id": "6c71b90c87224ac3b6150dd2265baec4",
              "version_major": 2,
              "version_minor": 0
            },
            "text/plain": [
              "PROCESSING TASKS | :   0%|          | 0/15 [00:00<?, ?it/s]"
            ]
          },
          "metadata": {},
          "output_type": "display_data"
        },
        {
          "data": {
            "application/vnd.jupyter.widget-view+json": {
              "model_id": "023ec1c102044807b67694f1b9a743ab",
              "version_major": 2,
              "version_minor": 0
            },
            "text/plain": [
              "COLLECTING RESULTS | :   0%|          | 0/15 [00:00<?, ?it/s]"
            ]
          },
          "metadata": {},
          "output_type": "display_data"
        },
        {
          "data": {
            "application/vnd.jupyter.widget-view+json": {
              "model_id": "ccc9c78794894febb8cec0504a6ed7c1",
              "version_major": 2,
              "version_minor": 0
            },
            "text/plain": [
              "QUEUEING TASKS | :   0%|          | 0/15 [00:00<?, ?it/s]"
            ]
          },
          "metadata": {},
          "output_type": "display_data"
        },
        {
          "data": {
            "application/vnd.jupyter.widget-view+json": {
              "model_id": "ffbc57741ef04e069e8deb769ca1b1c6",
              "version_major": 2,
              "version_minor": 0
            },
            "text/plain": [
              "PROCESSING TASKS | :   0%|          | 0/15 [00:00<?, ?it/s]"
            ]
          },
          "metadata": {},
          "output_type": "display_data"
        },
        {
          "data": {
            "application/vnd.jupyter.widget-view+json": {
              "model_id": "f635725c040a4e44897bd94d8e7a5c77",
              "version_major": 2,
              "version_minor": 0
            },
            "text/plain": [
              "COLLECTING RESULTS | :   0%|          | 0/15 [00:00<?, ?it/s]"
            ]
          },
          "metadata": {},
          "output_type": "display_data"
        },
        {
          "data": {
            "application/vnd.jupyter.widget-view+json": {
              "model_id": "645b915373b640db9102eb5f681f4a6e",
              "version_major": 2,
              "version_minor": 0
            },
            "text/plain": [
              "QUEUEING TASKS | :   0%|          | 0/15 [00:00<?, ?it/s]"
            ]
          },
          "metadata": {},
          "output_type": "display_data"
        },
        {
          "data": {
            "application/vnd.jupyter.widget-view+json": {
              "model_id": "4ef2bf21ef754ae9bff493eea3c2c795",
              "version_major": 2,
              "version_minor": 0
            },
            "text/plain": [
              "PROCESSING TASKS | :   0%|          | 0/15 [00:00<?, ?it/s]"
            ]
          },
          "metadata": {},
          "output_type": "display_data"
        },
        {
          "data": {
            "application/vnd.jupyter.widget-view+json": {
              "model_id": "eb6db02954e049ee8e67938897f90f39",
              "version_major": 2,
              "version_minor": 0
            },
            "text/plain": [
              "COLLECTING RESULTS | :   0%|          | 0/15 [00:00<?, ?it/s]"
            ]
          },
          "metadata": {},
          "output_type": "display_data"
        },
        {
          "data": {
            "application/vnd.jupyter.widget-view+json": {
              "model_id": "9df27ca172934751a2dfcd2a45078b36",
              "version_major": 2,
              "version_minor": 0
            },
            "text/plain": [
              "QUEUEING TASKS | :   0%|          | 0/15 [00:00<?, ?it/s]"
            ]
          },
          "metadata": {},
          "output_type": "display_data"
        },
        {
          "data": {
            "application/vnd.jupyter.widget-view+json": {
              "model_id": "46fc71915edc4cd2bad4323c1f88a489",
              "version_major": 2,
              "version_minor": 0
            },
            "text/plain": [
              "PROCESSING TASKS | :   0%|          | 0/15 [00:00<?, ?it/s]"
            ]
          },
          "metadata": {},
          "output_type": "display_data"
        },
        {
          "data": {
            "application/vnd.jupyter.widget-view+json": {
              "model_id": "c60a15abaa704d9daa5eb34e2ed711cb",
              "version_major": 2,
              "version_minor": 0
            },
            "text/plain": [
              "COLLECTING RESULTS | :   0%|          | 0/15 [00:00<?, ?it/s]"
            ]
          },
          "metadata": {},
          "output_type": "display_data"
        },
        {
          "data": {
            "application/vnd.jupyter.widget-view+json": {
              "model_id": "d31071bb7727472083a227c569bc7afe",
              "version_major": 2,
              "version_minor": 0
            },
            "text/plain": [
              "QUEUEING TASKS | :   0%|          | 0/15 [00:00<?, ?it/s]"
            ]
          },
          "metadata": {},
          "output_type": "display_data"
        },
        {
          "data": {
            "application/vnd.jupyter.widget-view+json": {
              "model_id": "6203511f0f8146168011ef04dff3fd16",
              "version_major": 2,
              "version_minor": 0
            },
            "text/plain": [
              "PROCESSING TASKS | :   0%|          | 0/15 [00:00<?, ?it/s]"
            ]
          },
          "metadata": {},
          "output_type": "display_data"
        },
        {
          "data": {
            "application/vnd.jupyter.widget-view+json": {
              "model_id": "d22df5a9fcdd409cb945b713b5c4bb92",
              "version_major": 2,
              "version_minor": 0
            },
            "text/plain": [
              "COLLECTING RESULTS | :   0%|          | 0/15 [00:00<?, ?it/s]"
            ]
          },
          "metadata": {},
          "output_type": "display_data"
        },
        {
          "data": {
            "application/vnd.jupyter.widget-view+json": {
              "model_id": "d0ab5c0787574d4a83c72d9c3c944aab",
              "version_major": 2,
              "version_minor": 0
            },
            "text/plain": [
              "QUEUEING TASKS | :   0%|          | 0/15 [00:00<?, ?it/s]"
            ]
          },
          "metadata": {},
          "output_type": "display_data"
        },
        {
          "data": {
            "application/vnd.jupyter.widget-view+json": {
              "model_id": "967fd3c1ec39489db98244b44caa018e",
              "version_major": 2,
              "version_minor": 0
            },
            "text/plain": [
              "PROCESSING TASKS | :   0%|          | 0/15 [00:00<?, ?it/s]"
            ]
          },
          "metadata": {},
          "output_type": "display_data"
        },
        {
          "data": {
            "application/vnd.jupyter.widget-view+json": {
              "model_id": "cbd2e33783c945fdb68ff21b545fd9c3",
              "version_major": 2,
              "version_minor": 0
            },
            "text/plain": [
              "COLLECTING RESULTS | :   0%|          | 0/15 [00:00<?, ?it/s]"
            ]
          },
          "metadata": {},
          "output_type": "display_data"
        },
        {
          "data": {
            "application/vnd.jupyter.widget-view+json": {
              "model_id": "1bc1e1ad0b4e468cb4298e461bcab020",
              "version_major": 2,
              "version_minor": 0
            },
            "text/plain": [
              "QUEUEING TASKS | :   0%|          | 0/15 [00:00<?, ?it/s]"
            ]
          },
          "metadata": {},
          "output_type": "display_data"
        },
        {
          "data": {
            "application/vnd.jupyter.widget-view+json": {
              "model_id": "31b876e2fc79423fa225452701730b60",
              "version_major": 2,
              "version_minor": 0
            },
            "text/plain": [
              "PROCESSING TASKS | :   0%|          | 0/15 [00:00<?, ?it/s]"
            ]
          },
          "metadata": {},
          "output_type": "display_data"
        },
        {
          "data": {
            "application/vnd.jupyter.widget-view+json": {
              "model_id": "9d348607d47249c09f07132d003447d0",
              "version_major": 2,
              "version_minor": 0
            },
            "text/plain": [
              "COLLECTING RESULTS | :   0%|          | 0/15 [00:00<?, ?it/s]"
            ]
          },
          "metadata": {},
          "output_type": "display_data"
        },
        {
          "data": {
            "application/vnd.jupyter.widget-view+json": {
              "model_id": "9a6319e8458240f0a010cd4e2adc3087",
              "version_major": 2,
              "version_minor": 0
            },
            "text/plain": [
              "QUEUEING TASKS | :   0%|          | 0/15 [00:00<?, ?it/s]"
            ]
          },
          "metadata": {},
          "output_type": "display_data"
        },
        {
          "data": {
            "application/vnd.jupyter.widget-view+json": {
              "model_id": "280d73d31a134877b17a67d91a0e068c",
              "version_major": 2,
              "version_minor": 0
            },
            "text/plain": [
              "PROCESSING TASKS | :   0%|          | 0/15 [00:00<?, ?it/s]"
            ]
          },
          "metadata": {},
          "output_type": "display_data"
        },
        {
          "data": {
            "application/vnd.jupyter.widget-view+json": {
              "model_id": "3f56de89e0364705be5aafb795cf9667",
              "version_major": 2,
              "version_minor": 0
            },
            "text/plain": [
              "COLLECTING RESULTS | :   0%|          | 0/15 [00:00<?, ?it/s]"
            ]
          },
          "metadata": {},
          "output_type": "display_data"
        },
        {
          "data": {
            "application/vnd.jupyter.widget-view+json": {
              "model_id": "4b631d4df97d45bf9c15fb710779a872",
              "version_major": 2,
              "version_minor": 0
            },
            "text/plain": [
              "QUEUEING TASKS | :   0%|          | 0/15 [00:00<?, ?it/s]"
            ]
          },
          "metadata": {},
          "output_type": "display_data"
        },
        {
          "data": {
            "application/vnd.jupyter.widget-view+json": {
              "model_id": "6f8161f8f74f451e86cf48c07168393a",
              "version_major": 2,
              "version_minor": 0
            },
            "text/plain": [
              "PROCESSING TASKS | :   0%|          | 0/15 [00:00<?, ?it/s]"
            ]
          },
          "metadata": {},
          "output_type": "display_data"
        },
        {
          "data": {
            "application/vnd.jupyter.widget-view+json": {
              "model_id": "2c71c5ccfcb443b0be92d8f821d3a3ac",
              "version_major": 2,
              "version_minor": 0
            },
            "text/plain": [
              "COLLECTING RESULTS | :   0%|          | 0/15 [00:00<?, ?it/s]"
            ]
          },
          "metadata": {},
          "output_type": "display_data"
        },
        {
          "data": {
            "application/vnd.jupyter.widget-view+json": {
              "model_id": "e3e6c2748efc4fe392d9170f2cfdce6a",
              "version_major": 2,
              "version_minor": 0
            },
            "text/plain": [
              "QUEUEING TASKS | :   0%|          | 0/15 [00:00<?, ?it/s]"
            ]
          },
          "metadata": {},
          "output_type": "display_data"
        },
        {
          "data": {
            "application/vnd.jupyter.widget-view+json": {
              "model_id": "19bae2022b78409e8b974dd1b3291a0b",
              "version_major": 2,
              "version_minor": 0
            },
            "text/plain": [
              "PROCESSING TASKS | :   0%|          | 0/15 [00:00<?, ?it/s]"
            ]
          },
          "metadata": {},
          "output_type": "display_data"
        },
        {
          "data": {
            "application/vnd.jupyter.widget-view+json": {
              "model_id": "125852ed86f34b838de616e42ff64a4f",
              "version_major": 2,
              "version_minor": 0
            },
            "text/plain": [
              "COLLECTING RESULTS | :   0%|          | 0/15 [00:00<?, ?it/s]"
            ]
          },
          "metadata": {},
          "output_type": "display_data"
        },
        {
          "data": {
            "application/vnd.jupyter.widget-view+json": {
              "model_id": "82a0a1ab774a463b8dc1a36fe72dadb0",
              "version_major": 2,
              "version_minor": 0
            },
            "text/plain": [
              "QUEUEING TASKS | :   0%|          | 0/15 [00:00<?, ?it/s]"
            ]
          },
          "metadata": {},
          "output_type": "display_data"
        },
        {
          "data": {
            "application/vnd.jupyter.widget-view+json": {
              "model_id": "40ec02d5caf349c2ac27ab6ca6685a16",
              "version_major": 2,
              "version_minor": 0
            },
            "text/plain": [
              "PROCESSING TASKS | :   0%|          | 0/15 [00:00<?, ?it/s]"
            ]
          },
          "metadata": {},
          "output_type": "display_data"
        },
        {
          "data": {
            "application/vnd.jupyter.widget-view+json": {
              "model_id": "fbe9dd8eb9d74d128e99d155c8b19d6e",
              "version_major": 2,
              "version_minor": 0
            },
            "text/plain": [
              "COLLECTING RESULTS | :   0%|          | 0/15 [00:00<?, ?it/s]"
            ]
          },
          "metadata": {},
          "output_type": "display_data"
        },
        {
          "data": {
            "application/vnd.jupyter.widget-view+json": {
              "model_id": "8418919d8dd14db3b71b002bb583aaec",
              "version_major": 2,
              "version_minor": 0
            },
            "text/plain": [
              "QUEUEING TASKS | :   0%|          | 0/15 [00:00<?, ?it/s]"
            ]
          },
          "metadata": {},
          "output_type": "display_data"
        },
        {
          "data": {
            "application/vnd.jupyter.widget-view+json": {
              "model_id": "9fd6e545f76243baac8e098fed17531e",
              "version_major": 2,
              "version_minor": 0
            },
            "text/plain": [
              "PROCESSING TASKS | :   0%|          | 0/15 [00:00<?, ?it/s]"
            ]
          },
          "metadata": {},
          "output_type": "display_data"
        },
        {
          "data": {
            "application/vnd.jupyter.widget-view+json": {
              "model_id": "a9d91de41c28461cb1ea720a4c2c20fd",
              "version_major": 2,
              "version_minor": 0
            },
            "text/plain": [
              "COLLECTING RESULTS | :   0%|          | 0/15 [00:00<?, ?it/s]"
            ]
          },
          "metadata": {},
          "output_type": "display_data"
        },
        {
          "data": {
            "application/vnd.jupyter.widget-view+json": {
              "model_id": "5461efcae5244fffbec736a89012806f",
              "version_major": 2,
              "version_minor": 0
            },
            "text/plain": [
              "QUEUEING TASKS | :   0%|          | 0/15 [00:00<?, ?it/s]"
            ]
          },
          "metadata": {},
          "output_type": "display_data"
        },
        {
          "data": {
            "application/vnd.jupyter.widget-view+json": {
              "model_id": "b43347efc98149ab98183b9fb61ec5f8",
              "version_major": 2,
              "version_minor": 0
            },
            "text/plain": [
              "PROCESSING TASKS | :   0%|          | 0/15 [00:00<?, ?it/s]"
            ]
          },
          "metadata": {},
          "output_type": "display_data"
        },
        {
          "data": {
            "application/vnd.jupyter.widget-view+json": {
              "model_id": "5990c5b547f049118335803a821171e4",
              "version_major": 2,
              "version_minor": 0
            },
            "text/plain": [
              "COLLECTING RESULTS | :   0%|          | 0/15 [00:00<?, ?it/s]"
            ]
          },
          "metadata": {},
          "output_type": "display_data"
        },
        {
          "data": {
            "application/vnd.jupyter.widget-view+json": {
              "model_id": "6422df6e347f451eab2c6e3869862ffa",
              "version_major": 2,
              "version_minor": 0
            },
            "text/plain": [
              "QUEUEING TASKS | :   0%|          | 0/15 [00:00<?, ?it/s]"
            ]
          },
          "metadata": {},
          "output_type": "display_data"
        },
        {
          "data": {
            "application/vnd.jupyter.widget-view+json": {
              "model_id": "bcba4c946baf44a29c1252f90f82ec80",
              "version_major": 2,
              "version_minor": 0
            },
            "text/plain": [
              "PROCESSING TASKS | :   0%|          | 0/15 [00:00<?, ?it/s]"
            ]
          },
          "metadata": {},
          "output_type": "display_data"
        },
        {
          "data": {
            "application/vnd.jupyter.widget-view+json": {
              "model_id": "793c75f426c547cd8c8ceab79db2c853",
              "version_major": 2,
              "version_minor": 0
            },
            "text/plain": [
              "COLLECTING RESULTS | :   0%|          | 0/15 [00:00<?, ?it/s]"
            ]
          },
          "metadata": {},
          "output_type": "display_data"
        },
        {
          "data": {
            "application/vnd.jupyter.widget-view+json": {
              "model_id": "afee11938f6a47e283d23ecdb8508671",
              "version_major": 2,
              "version_minor": 0
            },
            "text/plain": [
              "QUEUEING TASKS | :   0%|          | 0/15 [00:00<?, ?it/s]"
            ]
          },
          "metadata": {},
          "output_type": "display_data"
        },
        {
          "data": {
            "application/vnd.jupyter.widget-view+json": {
              "model_id": "2098d237d3724020a80d722d44b2c950",
              "version_major": 2,
              "version_minor": 0
            },
            "text/plain": [
              "PROCESSING TASKS | :   0%|          | 0/15 [00:00<?, ?it/s]"
            ]
          },
          "metadata": {},
          "output_type": "display_data"
        },
        {
          "data": {
            "application/vnd.jupyter.widget-view+json": {
              "model_id": "f193412f340f4ab7a37f54cfda7a343a",
              "version_major": 2,
              "version_minor": 0
            },
            "text/plain": [
              "COLLECTING RESULTS | :   0%|          | 0/15 [00:00<?, ?it/s]"
            ]
          },
          "metadata": {},
          "output_type": "display_data"
        },
        {
          "data": {
            "application/vnd.jupyter.widget-view+json": {
              "model_id": "dbcff742708341e78d30bd35ab990292",
              "version_major": 2,
              "version_minor": 0
            },
            "text/plain": [
              "QUEUEING TASKS | :   0%|          | 0/15 [00:00<?, ?it/s]"
            ]
          },
          "metadata": {},
          "output_type": "display_data"
        },
        {
          "data": {
            "application/vnd.jupyter.widget-view+json": {
              "model_id": "526ba4daa42a453aab3fec06e71d06d1",
              "version_major": 2,
              "version_minor": 0
            },
            "text/plain": [
              "PROCESSING TASKS | :   0%|          | 0/15 [00:00<?, ?it/s]"
            ]
          },
          "metadata": {},
          "output_type": "display_data"
        },
        {
          "data": {
            "application/vnd.jupyter.widget-view+json": {
              "model_id": "10ed1c331b634dbeb20e6b0db23737ae",
              "version_major": 2,
              "version_minor": 0
            },
            "text/plain": [
              "COLLECTING RESULTS | :   0%|          | 0/15 [00:00<?, ?it/s]"
            ]
          },
          "metadata": {},
          "output_type": "display_data"
        },
        {
          "data": {
            "application/vnd.jupyter.widget-view+json": {
              "model_id": "fbb7986b751f41ce92db3ed03da8f634",
              "version_major": 2,
              "version_minor": 0
            },
            "text/plain": [
              "QUEUEING TASKS | :   0%|          | 0/15 [00:00<?, ?it/s]"
            ]
          },
          "metadata": {},
          "output_type": "display_data"
        },
        {
          "data": {
            "application/vnd.jupyter.widget-view+json": {
              "model_id": "5c44623de9974da19e70fe75f4879b95",
              "version_major": 2,
              "version_minor": 0
            },
            "text/plain": [
              "PROCESSING TASKS | :   0%|          | 0/15 [00:00<?, ?it/s]"
            ]
          },
          "metadata": {},
          "output_type": "display_data"
        },
        {
          "data": {
            "application/vnd.jupyter.widget-view+json": {
              "model_id": "eef076cd8ae142dfa77f49ef3834733e",
              "version_major": 2,
              "version_minor": 0
            },
            "text/plain": [
              "COLLECTING RESULTS | :   0%|          | 0/15 [00:00<?, ?it/s]"
            ]
          },
          "metadata": {},
          "output_type": "display_data"
        },
        {
          "data": {
            "application/vnd.jupyter.widget-view+json": {
              "model_id": "757f02d82fab4ff7b5a1ddb0c03ef491",
              "version_major": 2,
              "version_minor": 0
            },
            "text/plain": [
              "QUEUEING TASKS | :   0%|          | 0/15 [00:00<?, ?it/s]"
            ]
          },
          "metadata": {},
          "output_type": "display_data"
        },
        {
          "data": {
            "application/vnd.jupyter.widget-view+json": {
              "model_id": "f6978ff6a5be402680f70aac4e26a50b",
              "version_major": 2,
              "version_minor": 0
            },
            "text/plain": [
              "PROCESSING TASKS | :   0%|          | 0/15 [00:00<?, ?it/s]"
            ]
          },
          "metadata": {},
          "output_type": "display_data"
        },
        {
          "data": {
            "application/vnd.jupyter.widget-view+json": {
              "model_id": "02cc9c068d7f4462b46b3aac00d293d2",
              "version_major": 2,
              "version_minor": 0
            },
            "text/plain": [
              "COLLECTING RESULTS | :   0%|          | 0/15 [00:00<?, ?it/s]"
            ]
          },
          "metadata": {},
          "output_type": "display_data"
        },
        {
          "data": {
            "application/vnd.jupyter.widget-view+json": {
              "model_id": "d052c94c44924e9c9509c4a2a4323211",
              "version_major": 2,
              "version_minor": 0
            },
            "text/plain": [
              "QUEUEING TASKS | :   0%|          | 0/15 [00:00<?, ?it/s]"
            ]
          },
          "metadata": {},
          "output_type": "display_data"
        },
        {
          "data": {
            "application/vnd.jupyter.widget-view+json": {
              "model_id": "d7bbab01470d47e496ff5535003d9492",
              "version_major": 2,
              "version_minor": 0
            },
            "text/plain": [
              "PROCESSING TASKS | :   0%|          | 0/15 [00:00<?, ?it/s]"
            ]
          },
          "metadata": {},
          "output_type": "display_data"
        },
        {
          "data": {
            "application/vnd.jupyter.widget-view+json": {
              "model_id": "a7e7533d5c47413c9035a8da47158a29",
              "version_major": 2,
              "version_minor": 0
            },
            "text/plain": [
              "COLLECTING RESULTS | :   0%|          | 0/15 [00:00<?, ?it/s]"
            ]
          },
          "metadata": {},
          "output_type": "display_data"
        },
        {
          "data": {
            "application/vnd.jupyter.widget-view+json": {
              "model_id": "14b1474e836146f5a0da9944e32dfdb8",
              "version_major": 2,
              "version_minor": 0
            },
            "text/plain": [
              "QUEUEING TASKS | :   0%|          | 0/15 [00:00<?, ?it/s]"
            ]
          },
          "metadata": {},
          "output_type": "display_data"
        },
        {
          "data": {
            "application/vnd.jupyter.widget-view+json": {
              "model_id": "f76487b9aaf7478aadb4f121cbdd972e",
              "version_major": 2,
              "version_minor": 0
            },
            "text/plain": [
              "PROCESSING TASKS | :   0%|          | 0/15 [00:00<?, ?it/s]"
            ]
          },
          "metadata": {},
          "output_type": "display_data"
        },
        {
          "data": {
            "application/vnd.jupyter.widget-view+json": {
              "model_id": "238dc123ee1c425faa4d1d7fa5dfccec",
              "version_major": 2,
              "version_minor": 0
            },
            "text/plain": [
              "COLLECTING RESULTS | :   0%|          | 0/15 [00:00<?, ?it/s]"
            ]
          },
          "metadata": {},
          "output_type": "display_data"
        },
        {
          "data": {
            "application/vnd.jupyter.widget-view+json": {
              "model_id": "b84e38b25812426499e48c86fc1a7e92",
              "version_major": 2,
              "version_minor": 0
            },
            "text/plain": [
              "QUEUEING TASKS | :   0%|          | 0/15 [00:00<?, ?it/s]"
            ]
          },
          "metadata": {},
          "output_type": "display_data"
        },
        {
          "data": {
            "application/vnd.jupyter.widget-view+json": {
              "model_id": "bc7e2a1674b74198a34f691ea672f961",
              "version_major": 2,
              "version_minor": 0
            },
            "text/plain": [
              "PROCESSING TASKS | :   0%|          | 0/15 [00:00<?, ?it/s]"
            ]
          },
          "metadata": {},
          "output_type": "display_data"
        },
        {
          "data": {
            "application/vnd.jupyter.widget-view+json": {
              "model_id": "ad62426cc3444a65a17b50642f2eb9a5",
              "version_major": 2,
              "version_minor": 0
            },
            "text/plain": [
              "COLLECTING RESULTS | :   0%|          | 0/15 [00:00<?, ?it/s]"
            ]
          },
          "metadata": {},
          "output_type": "display_data"
        },
        {
          "data": {
            "application/vnd.jupyter.widget-view+json": {
              "model_id": "d3f503e4244047bfad0767bc3e48c991",
              "version_major": 2,
              "version_minor": 0
            },
            "text/plain": [
              "QUEUEING TASKS | :   0%|          | 0/15 [00:00<?, ?it/s]"
            ]
          },
          "metadata": {},
          "output_type": "display_data"
        },
        {
          "data": {
            "application/vnd.jupyter.widget-view+json": {
              "model_id": "53438c92eddb4a5dbdbdc7ea16b0b7e8",
              "version_major": 2,
              "version_minor": 0
            },
            "text/plain": [
              "PROCESSING TASKS | :   0%|          | 0/15 [00:00<?, ?it/s]"
            ]
          },
          "metadata": {},
          "output_type": "display_data"
        },
        {
          "data": {
            "application/vnd.jupyter.widget-view+json": {
              "model_id": "200793171ea7449ab8e2cf41790adf40",
              "version_major": 2,
              "version_minor": 0
            },
            "text/plain": [
              "COLLECTING RESULTS | :   0%|          | 0/15 [00:00<?, ?it/s]"
            ]
          },
          "metadata": {},
          "output_type": "display_data"
        },
        {
          "data": {
            "application/vnd.jupyter.widget-view+json": {
              "model_id": "5703bf162c5b4cf281a38c64c6e97a2e",
              "version_major": 2,
              "version_minor": 0
            },
            "text/plain": [
              "QUEUEING TASKS | :   0%|          | 0/15 [00:00<?, ?it/s]"
            ]
          },
          "metadata": {},
          "output_type": "display_data"
        },
        {
          "data": {
            "application/vnd.jupyter.widget-view+json": {
              "model_id": "d8063312d38e4406b99b575a1b687233",
              "version_major": 2,
              "version_minor": 0
            },
            "text/plain": [
              "PROCESSING TASKS | :   0%|          | 0/15 [00:00<?, ?it/s]"
            ]
          },
          "metadata": {},
          "output_type": "display_data"
        },
        {
          "data": {
            "application/vnd.jupyter.widget-view+json": {
              "model_id": "73ec3a8091374375b994b9fc1a7bb617",
              "version_major": 2,
              "version_minor": 0
            },
            "text/plain": [
              "COLLECTING RESULTS | :   0%|          | 0/15 [00:00<?, ?it/s]"
            ]
          },
          "metadata": {},
          "output_type": "display_data"
        },
        {
          "data": {
            "application/vnd.jupyter.widget-view+json": {
              "model_id": "0669b8ad1e10495e8f5f3a5745b211ea",
              "version_major": 2,
              "version_minor": 0
            },
            "text/plain": [
              "QUEUEING TASKS | :   0%|          | 0/15 [00:00<?, ?it/s]"
            ]
          },
          "metadata": {},
          "output_type": "display_data"
        },
        {
          "data": {
            "application/vnd.jupyter.widget-view+json": {
              "model_id": "939f5cd125ad4c01ae45f7d3b0670268",
              "version_major": 2,
              "version_minor": 0
            },
            "text/plain": [
              "PROCESSING TASKS | :   0%|          | 0/15 [00:00<?, ?it/s]"
            ]
          },
          "metadata": {},
          "output_type": "display_data"
        },
        {
          "data": {
            "application/vnd.jupyter.widget-view+json": {
              "model_id": "49f8b6534d8947bda19b8c8591dd1c20",
              "version_major": 2,
              "version_minor": 0
            },
            "text/plain": [
              "COLLECTING RESULTS | :   0%|          | 0/15 [00:00<?, ?it/s]"
            ]
          },
          "metadata": {},
          "output_type": "display_data"
        },
        {
          "data": {
            "application/vnd.jupyter.widget-view+json": {
              "model_id": "e1dc0b2ab29a46c9b4cc29bc7ee17b1e",
              "version_major": 2,
              "version_minor": 0
            },
            "text/plain": [
              "QUEUEING TASKS | :   0%|          | 0/15 [00:00<?, ?it/s]"
            ]
          },
          "metadata": {},
          "output_type": "display_data"
        },
        {
          "data": {
            "application/vnd.jupyter.widget-view+json": {
              "model_id": "e84c74e06b534b9e8809a9d1fab26d20",
              "version_major": 2,
              "version_minor": 0
            },
            "text/plain": [
              "PROCESSING TASKS | :   0%|          | 0/15 [00:00<?, ?it/s]"
            ]
          },
          "metadata": {},
          "output_type": "display_data"
        },
        {
          "data": {
            "application/vnd.jupyter.widget-view+json": {
              "model_id": "ff6f2a5ac4aa4440bc7b89d284828ded",
              "version_major": 2,
              "version_minor": 0
            },
            "text/plain": [
              "COLLECTING RESULTS | :   0%|          | 0/15 [00:00<?, ?it/s]"
            ]
          },
          "metadata": {},
          "output_type": "display_data"
        },
        {
          "data": {
            "application/vnd.jupyter.widget-view+json": {
              "model_id": "df327ab2d9d94e8eb746cbfbd06ff7f7",
              "version_major": 2,
              "version_minor": 0
            },
            "text/plain": [
              "QUEUEING TASKS | :   0%|          | 0/15 [00:00<?, ?it/s]"
            ]
          },
          "metadata": {},
          "output_type": "display_data"
        },
        {
          "data": {
            "application/vnd.jupyter.widget-view+json": {
              "model_id": "c4ec5c8703e64139a70036556c27ecd1",
              "version_major": 2,
              "version_minor": 0
            },
            "text/plain": [
              "PROCESSING TASKS | :   0%|          | 0/15 [00:00<?, ?it/s]"
            ]
          },
          "metadata": {},
          "output_type": "display_data"
        },
        {
          "data": {
            "application/vnd.jupyter.widget-view+json": {
              "model_id": "452164e3ea3b440ba91c2733d73913b7",
              "version_major": 2,
              "version_minor": 0
            },
            "text/plain": [
              "COLLECTING RESULTS | :   0%|          | 0/15 [00:00<?, ?it/s]"
            ]
          },
          "metadata": {},
          "output_type": "display_data"
        },
        {
          "data": {
            "application/vnd.jupyter.widget-view+json": {
              "model_id": "63d94d1f34174ef28a1db554f331a166",
              "version_major": 2,
              "version_minor": 0
            },
            "text/plain": [
              "QUEUEING TASKS | :   0%|          | 0/15 [00:00<?, ?it/s]"
            ]
          },
          "metadata": {},
          "output_type": "display_data"
        },
        {
          "data": {
            "application/vnd.jupyter.widget-view+json": {
              "model_id": "37681aea4c3d43e7af5a933773a883c5",
              "version_major": 2,
              "version_minor": 0
            },
            "text/plain": [
              "PROCESSING TASKS | :   0%|          | 0/15 [00:00<?, ?it/s]"
            ]
          },
          "metadata": {},
          "output_type": "display_data"
        },
        {
          "data": {
            "application/vnd.jupyter.widget-view+json": {
              "model_id": "7c7c54d938564f5482167f8cb70a7d95",
              "version_major": 2,
              "version_minor": 0
            },
            "text/plain": [
              "COLLECTING RESULTS | :   0%|          | 0/15 [00:00<?, ?it/s]"
            ]
          },
          "metadata": {},
          "output_type": "display_data"
        },
        {
          "data": {
            "application/vnd.jupyter.widget-view+json": {
              "model_id": "79c494b8918e43cbaa17ce5eea5dba94",
              "version_major": 2,
              "version_minor": 0
            },
            "text/plain": [
              "QUEUEING TASKS | :   0%|          | 0/15 [00:00<?, ?it/s]"
            ]
          },
          "metadata": {},
          "output_type": "display_data"
        },
        {
          "data": {
            "application/vnd.jupyter.widget-view+json": {
              "model_id": "c5258647cb2645718febb4f96076085e",
              "version_major": 2,
              "version_minor": 0
            },
            "text/plain": [
              "PROCESSING TASKS | :   0%|          | 0/15 [00:00<?, ?it/s]"
            ]
          },
          "metadata": {},
          "output_type": "display_data"
        },
        {
          "data": {
            "application/vnd.jupyter.widget-view+json": {
              "model_id": "ecc4e631993944e88ad8043e6f43dfd5",
              "version_major": 2,
              "version_minor": 0
            },
            "text/plain": [
              "COLLECTING RESULTS | :   0%|          | 0/15 [00:00<?, ?it/s]"
            ]
          },
          "metadata": {},
          "output_type": "display_data"
        },
        {
          "data": {
            "application/vnd.jupyter.widget-view+json": {
              "model_id": "2a24bf55bbd34d83a116b77a22c4e32c",
              "version_major": 2,
              "version_minor": 0
            },
            "text/plain": [
              "QUEUEING TASKS | :   0%|          | 0/15 [00:00<?, ?it/s]"
            ]
          },
          "metadata": {},
          "output_type": "display_data"
        },
        {
          "data": {
            "application/vnd.jupyter.widget-view+json": {
              "model_id": "8db65102a0884cca9f0d1d0b25e9ee7f",
              "version_major": 2,
              "version_minor": 0
            },
            "text/plain": [
              "PROCESSING TASKS | :   0%|          | 0/15 [00:00<?, ?it/s]"
            ]
          },
          "metadata": {},
          "output_type": "display_data"
        },
        {
          "data": {
            "application/vnd.jupyter.widget-view+json": {
              "model_id": "e121f917b8b741fd9aca8ad105b1a39f",
              "version_major": 2,
              "version_minor": 0
            },
            "text/plain": [
              "COLLECTING RESULTS | :   0%|          | 0/15 [00:00<?, ?it/s]"
            ]
          },
          "metadata": {},
          "output_type": "display_data"
        },
        {
          "data": {
            "application/vnd.jupyter.widget-view+json": {
              "model_id": "1a27559cf5bf4cf09111ab8f0fe2d21b",
              "version_major": 2,
              "version_minor": 0
            },
            "text/plain": [
              "QUEUEING TASKS | :   0%|          | 0/15 [00:00<?, ?it/s]"
            ]
          },
          "metadata": {},
          "output_type": "display_data"
        },
        {
          "data": {
            "application/vnd.jupyter.widget-view+json": {
              "model_id": "11e2f49c9402468e917c05917e3cc0ad",
              "version_major": 2,
              "version_minor": 0
            },
            "text/plain": [
              "PROCESSING TASKS | :   0%|          | 0/15 [00:00<?, ?it/s]"
            ]
          },
          "metadata": {},
          "output_type": "display_data"
        },
        {
          "data": {
            "application/vnd.jupyter.widget-view+json": {
              "model_id": "3fd6eeecb6f74becb92ee20583f85280",
              "version_major": 2,
              "version_minor": 0
            },
            "text/plain": [
              "COLLECTING RESULTS | :   0%|          | 0/15 [00:00<?, ?it/s]"
            ]
          },
          "metadata": {},
          "output_type": "display_data"
        },
        {
          "data": {
            "application/vnd.jupyter.widget-view+json": {
              "model_id": "7168daa9cd0641c684b63300a5861ed5",
              "version_major": 2,
              "version_minor": 0
            },
            "text/plain": [
              "QUEUEING TASKS | :   0%|          | 0/15 [00:00<?, ?it/s]"
            ]
          },
          "metadata": {},
          "output_type": "display_data"
        },
        {
          "data": {
            "application/vnd.jupyter.widget-view+json": {
              "model_id": "08d4b070e0f04820a44ea33c0b90626d",
              "version_major": 2,
              "version_minor": 0
            },
            "text/plain": [
              "PROCESSING TASKS | :   0%|          | 0/15 [00:00<?, ?it/s]"
            ]
          },
          "metadata": {},
          "output_type": "display_data"
        },
        {
          "data": {
            "application/vnd.jupyter.widget-view+json": {
              "model_id": "a932741a5c0b4feab128d9f7dae6be93",
              "version_major": 2,
              "version_minor": 0
            },
            "text/plain": [
              "COLLECTING RESULTS | :   0%|          | 0/15 [00:00<?, ?it/s]"
            ]
          },
          "metadata": {},
          "output_type": "display_data"
        },
        {
          "data": {
            "application/vnd.jupyter.widget-view+json": {
              "model_id": "cb3ed58ec65849e0a9733a473a659151",
              "version_major": 2,
              "version_minor": 0
            },
            "text/plain": [
              "QUEUEING TASKS | :   0%|          | 0/15 [00:00<?, ?it/s]"
            ]
          },
          "metadata": {},
          "output_type": "display_data"
        },
        {
          "data": {
            "application/vnd.jupyter.widget-view+json": {
              "model_id": "b8e60dd4d5e949629f94b9ba661a71f3",
              "version_major": 2,
              "version_minor": 0
            },
            "text/plain": [
              "PROCESSING TASKS | :   0%|          | 0/15 [00:00<?, ?it/s]"
            ]
          },
          "metadata": {},
          "output_type": "display_data"
        },
        {
          "data": {
            "application/vnd.jupyter.widget-view+json": {
              "model_id": "c347e930b47c48ea8e6aa335225a9496",
              "version_major": 2,
              "version_minor": 0
            },
            "text/plain": [
              "COLLECTING RESULTS | :   0%|          | 0/15 [00:00<?, ?it/s]"
            ]
          },
          "metadata": {},
          "output_type": "display_data"
        },
        {
          "data": {
            "application/vnd.jupyter.widget-view+json": {
              "model_id": "d5825d01073f44828532e38898d98c3d",
              "version_major": 2,
              "version_minor": 0
            },
            "text/plain": [
              "QUEUEING TASKS | :   0%|          | 0/15 [00:00<?, ?it/s]"
            ]
          },
          "metadata": {},
          "output_type": "display_data"
        },
        {
          "data": {
            "application/vnd.jupyter.widget-view+json": {
              "model_id": "751ae21156e74942a0e1f934a5822d35",
              "version_major": 2,
              "version_minor": 0
            },
            "text/plain": [
              "PROCESSING TASKS | :   0%|          | 0/15 [00:00<?, ?it/s]"
            ]
          },
          "metadata": {},
          "output_type": "display_data"
        },
        {
          "data": {
            "application/vnd.jupyter.widget-view+json": {
              "model_id": "5e3ae5748c4f47dc98d0346c39824c56",
              "version_major": 2,
              "version_minor": 0
            },
            "text/plain": [
              "COLLECTING RESULTS | :   0%|          | 0/15 [00:00<?, ?it/s]"
            ]
          },
          "metadata": {},
          "output_type": "display_data"
        },
        {
          "data": {
            "application/vnd.jupyter.widget-view+json": {
              "model_id": "ab6b7a2ec0a247d79bcf1878f5696681",
              "version_major": 2,
              "version_minor": 0
            },
            "text/plain": [
              "QUEUEING TASKS | :   0%|          | 0/15 [00:00<?, ?it/s]"
            ]
          },
          "metadata": {},
          "output_type": "display_data"
        },
        {
          "data": {
            "application/vnd.jupyter.widget-view+json": {
              "model_id": "c8f97158a6b141189c3f4e1d9f8ad776",
              "version_major": 2,
              "version_minor": 0
            },
            "text/plain": [
              "PROCESSING TASKS | :   0%|          | 0/15 [00:00<?, ?it/s]"
            ]
          },
          "metadata": {},
          "output_type": "display_data"
        },
        {
          "data": {
            "application/vnd.jupyter.widget-view+json": {
              "model_id": "f7307eeeb3b8484ab0b470a3bd12900f",
              "version_major": 2,
              "version_minor": 0
            },
            "text/plain": [
              "COLLECTING RESULTS | :   0%|          | 0/15 [00:00<?, ?it/s]"
            ]
          },
          "metadata": {},
          "output_type": "display_data"
        },
        {
          "data": {
            "application/vnd.jupyter.widget-view+json": {
              "model_id": "4e04fcfabc724d448eeb13f9b066b3f7",
              "version_major": 2,
              "version_minor": 0
            },
            "text/plain": [
              "QUEUEING TASKS | :   0%|          | 0/15 [00:00<?, ?it/s]"
            ]
          },
          "metadata": {},
          "output_type": "display_data"
        },
        {
          "data": {
            "application/vnd.jupyter.widget-view+json": {
              "model_id": "a6ec2cf151444eb6936c6ee01b872338",
              "version_major": 2,
              "version_minor": 0
            },
            "text/plain": [
              "PROCESSING TASKS | :   0%|          | 0/15 [00:00<?, ?it/s]"
            ]
          },
          "metadata": {},
          "output_type": "display_data"
        },
        {
          "data": {
            "application/vnd.jupyter.widget-view+json": {
              "model_id": "519e7fcaebd1469b9f840907026d7323",
              "version_major": 2,
              "version_minor": 0
            },
            "text/plain": [
              "COLLECTING RESULTS | :   0%|          | 0/15 [00:00<?, ?it/s]"
            ]
          },
          "metadata": {},
          "output_type": "display_data"
        },
        {
          "data": {
            "application/vnd.jupyter.widget-view+json": {
              "model_id": "b9fef25ab4d740f88d421ae1b737a0c7",
              "version_major": 2,
              "version_minor": 0
            },
            "text/plain": [
              "QUEUEING TASKS | :   0%|          | 0/15 [00:00<?, ?it/s]"
            ]
          },
          "metadata": {},
          "output_type": "display_data"
        },
        {
          "data": {
            "application/vnd.jupyter.widget-view+json": {
              "model_id": "1b92e206b1454a67998fe7fd8eb30043",
              "version_major": 2,
              "version_minor": 0
            },
            "text/plain": [
              "PROCESSING TASKS | :   0%|          | 0/15 [00:00<?, ?it/s]"
            ]
          },
          "metadata": {},
          "output_type": "display_data"
        },
        {
          "data": {
            "application/vnd.jupyter.widget-view+json": {
              "model_id": "421bb39db3324763bd8dcd2e0b3c54b1",
              "version_major": 2,
              "version_minor": 0
            },
            "text/plain": [
              "COLLECTING RESULTS | :   0%|          | 0/15 [00:00<?, ?it/s]"
            ]
          },
          "metadata": {},
          "output_type": "display_data"
        },
        {
          "data": {
            "application/vnd.jupyter.widget-view+json": {
              "model_id": "32eb3b09979944329b10e102f57b90ed",
              "version_major": 2,
              "version_minor": 0
            },
            "text/plain": [
              "QUEUEING TASKS | :   0%|          | 0/15 [00:00<?, ?it/s]"
            ]
          },
          "metadata": {},
          "output_type": "display_data"
        },
        {
          "data": {
            "application/vnd.jupyter.widget-view+json": {
              "model_id": "6c1c0753add14fecac0c458b58992a30",
              "version_major": 2,
              "version_minor": 0
            },
            "text/plain": [
              "PROCESSING TASKS | :   0%|          | 0/15 [00:00<?, ?it/s]"
            ]
          },
          "metadata": {},
          "output_type": "display_data"
        },
        {
          "data": {
            "application/vnd.jupyter.widget-view+json": {
              "model_id": "49fcaa73440442ff9d5a64876ab64ba6",
              "version_major": 2,
              "version_minor": 0
            },
            "text/plain": [
              "COLLECTING RESULTS | :   0%|          | 0/15 [00:00<?, ?it/s]"
            ]
          },
          "metadata": {},
          "output_type": "display_data"
        },
        {
          "data": {
            "application/vnd.jupyter.widget-view+json": {
              "model_id": "d8fe88d4ce784fe29c940be26d017476",
              "version_major": 2,
              "version_minor": 0
            },
            "text/plain": [
              "QUEUEING TASKS | :   0%|          | 0/15 [00:00<?, ?it/s]"
            ]
          },
          "metadata": {},
          "output_type": "display_data"
        },
        {
          "data": {
            "application/vnd.jupyter.widget-view+json": {
              "model_id": "27be122e74064b1ea7de47fd25f882a1",
              "version_major": 2,
              "version_minor": 0
            },
            "text/plain": [
              "PROCESSING TASKS | :   0%|          | 0/15 [00:00<?, ?it/s]"
            ]
          },
          "metadata": {},
          "output_type": "display_data"
        },
        {
          "data": {
            "application/vnd.jupyter.widget-view+json": {
              "model_id": "f7d0611ecb604e1d9e5f194eaa3a7405",
              "version_major": 2,
              "version_minor": 0
            },
            "text/plain": [
              "COLLECTING RESULTS | :   0%|          | 0/15 [00:00<?, ?it/s]"
            ]
          },
          "metadata": {},
          "output_type": "display_data"
        },
        {
          "data": {
            "application/vnd.jupyter.widget-view+json": {
              "model_id": "209f90c85e67478492b1ad84b92e2065",
              "version_major": 2,
              "version_minor": 0
            },
            "text/plain": [
              "QUEUEING TASKS | :   0%|          | 0/15 [00:00<?, ?it/s]"
            ]
          },
          "metadata": {},
          "output_type": "display_data"
        },
        {
          "data": {
            "application/vnd.jupyter.widget-view+json": {
              "model_id": "c5a9f701130942628a4d7c67d3bf4824",
              "version_major": 2,
              "version_minor": 0
            },
            "text/plain": [
              "PROCESSING TASKS | :   0%|          | 0/15 [00:00<?, ?it/s]"
            ]
          },
          "metadata": {},
          "output_type": "display_data"
        },
        {
          "data": {
            "application/vnd.jupyter.widget-view+json": {
              "model_id": "c8a3c5a878fd4299a0c5d0b27738acc9",
              "version_major": 2,
              "version_minor": 0
            },
            "text/plain": [
              "COLLECTING RESULTS | :   0%|          | 0/15 [00:00<?, ?it/s]"
            ]
          },
          "metadata": {},
          "output_type": "display_data"
        },
        {
          "data": {
            "application/vnd.jupyter.widget-view+json": {
              "model_id": "02fe55502c794759bc60212a6b304700",
              "version_major": 2,
              "version_minor": 0
            },
            "text/plain": [
              "QUEUEING TASKS | :   0%|          | 0/15 [00:00<?, ?it/s]"
            ]
          },
          "metadata": {},
          "output_type": "display_data"
        },
        {
          "data": {
            "application/vnd.jupyter.widget-view+json": {
              "model_id": "a057a76c4f6345d69163e1f1d4c2c340",
              "version_major": 2,
              "version_minor": 0
            },
            "text/plain": [
              "PROCESSING TASKS | :   0%|          | 0/15 [00:00<?, ?it/s]"
            ]
          },
          "metadata": {},
          "output_type": "display_data"
        },
        {
          "data": {
            "application/vnd.jupyter.widget-view+json": {
              "model_id": "46a8d26949b240b7b383e9da783504c8",
              "version_major": 2,
              "version_minor": 0
            },
            "text/plain": [
              "COLLECTING RESULTS | :   0%|          | 0/15 [00:00<?, ?it/s]"
            ]
          },
          "metadata": {},
          "output_type": "display_data"
        },
        {
          "data": {
            "application/vnd.jupyter.widget-view+json": {
              "model_id": "9c588e9599d847599974a80c313aa44a",
              "version_major": 2,
              "version_minor": 0
            },
            "text/plain": [
              "QUEUEING TASKS | :   0%|          | 0/15 [00:00<?, ?it/s]"
            ]
          },
          "metadata": {},
          "output_type": "display_data"
        },
        {
          "data": {
            "application/vnd.jupyter.widget-view+json": {
              "model_id": "76a05e021ca04e0694bdf27a7ee14cdc",
              "version_major": 2,
              "version_minor": 0
            },
            "text/plain": [
              "PROCESSING TASKS | :   0%|          | 0/15 [00:00<?, ?it/s]"
            ]
          },
          "metadata": {},
          "output_type": "display_data"
        },
        {
          "data": {
            "application/vnd.jupyter.widget-view+json": {
              "model_id": "dddaf5614393401aaaec0c5ca7008f13",
              "version_major": 2,
              "version_minor": 0
            },
            "text/plain": [
              "COLLECTING RESULTS | :   0%|          | 0/15 [00:00<?, ?it/s]"
            ]
          },
          "metadata": {},
          "output_type": "display_data"
        },
        {
          "data": {
            "application/vnd.jupyter.widget-view+json": {
              "model_id": "d323e8d5f9ee436f9ca1a4d0360c3a23",
              "version_major": 2,
              "version_minor": 0
            },
            "text/plain": [
              "QUEUEING TASKS | :   0%|          | 0/15 [00:00<?, ?it/s]"
            ]
          },
          "metadata": {},
          "output_type": "display_data"
        },
        {
          "data": {
            "application/vnd.jupyter.widget-view+json": {
              "model_id": "6a1a7b8b02b44ff7989d4915ef8cc93a",
              "version_major": 2,
              "version_minor": 0
            },
            "text/plain": [
              "PROCESSING TASKS | :   0%|          | 0/15 [00:00<?, ?it/s]"
            ]
          },
          "metadata": {},
          "output_type": "display_data"
        },
        {
          "data": {
            "application/vnd.jupyter.widget-view+json": {
              "model_id": "ef15fdab81504990b199fe24cd0901cc",
              "version_major": 2,
              "version_minor": 0
            },
            "text/plain": [
              "COLLECTING RESULTS | :   0%|          | 0/15 [00:00<?, ?it/s]"
            ]
          },
          "metadata": {},
          "output_type": "display_data"
        },
        {
          "data": {
            "application/vnd.jupyter.widget-view+json": {
              "model_id": "47911f3c1fb348259665f4e0a2933ded",
              "version_major": 2,
              "version_minor": 0
            },
            "text/plain": [
              "QUEUEING TASKS | :   0%|          | 0/15 [00:00<?, ?it/s]"
            ]
          },
          "metadata": {},
          "output_type": "display_data"
        },
        {
          "data": {
            "application/vnd.jupyter.widget-view+json": {
              "model_id": "b0d4b3e526f94b00a413ad4c7f8b6ad7",
              "version_major": 2,
              "version_minor": 0
            },
            "text/plain": [
              "PROCESSING TASKS | :   0%|          | 0/15 [00:00<?, ?it/s]"
            ]
          },
          "metadata": {},
          "output_type": "display_data"
        },
        {
          "data": {
            "application/vnd.jupyter.widget-view+json": {
              "model_id": "b2e7b817955f40ed8262f82297d9bad2",
              "version_major": 2,
              "version_minor": 0
            },
            "text/plain": [
              "COLLECTING RESULTS | :   0%|          | 0/15 [00:00<?, ?it/s]"
            ]
          },
          "metadata": {},
          "output_type": "display_data"
        },
        {
          "data": {
            "application/vnd.jupyter.widget-view+json": {
              "model_id": "8cd023ecb2e245569634df4aee7fbb4e",
              "version_major": 2,
              "version_minor": 0
            },
            "text/plain": [
              "QUEUEING TASKS | :   0%|          | 0/15 [00:00<?, ?it/s]"
            ]
          },
          "metadata": {},
          "output_type": "display_data"
        },
        {
          "data": {
            "application/vnd.jupyter.widget-view+json": {
              "model_id": "8231ef416f8945ddbb97f14a686fc108",
              "version_major": 2,
              "version_minor": 0
            },
            "text/plain": [
              "PROCESSING TASKS | :   0%|          | 0/15 [00:00<?, ?it/s]"
            ]
          },
          "metadata": {},
          "output_type": "display_data"
        },
        {
          "data": {
            "application/vnd.jupyter.widget-view+json": {
              "model_id": "53f122d695ee4451877bf9e8b24289aa",
              "version_major": 2,
              "version_minor": 0
            },
            "text/plain": [
              "COLLECTING RESULTS | :   0%|          | 0/15 [00:00<?, ?it/s]"
            ]
          },
          "metadata": {},
          "output_type": "display_data"
        },
        {
          "data": {
            "application/vnd.jupyter.widget-view+json": {
              "model_id": "19abd9905ccc4e9d8645ad6c942f9fdc",
              "version_major": 2,
              "version_minor": 0
            },
            "text/plain": [
              "QUEUEING TASKS | :   0%|          | 0/15 [00:00<?, ?it/s]"
            ]
          },
          "metadata": {},
          "output_type": "display_data"
        },
        {
          "data": {
            "application/vnd.jupyter.widget-view+json": {
              "model_id": "b79aeebd630b4774a0041bdd20c5fda9",
              "version_major": 2,
              "version_minor": 0
            },
            "text/plain": [
              "PROCESSING TASKS | :   0%|          | 0/15 [00:00<?, ?it/s]"
            ]
          },
          "metadata": {},
          "output_type": "display_data"
        },
        {
          "data": {
            "application/vnd.jupyter.widget-view+json": {
              "model_id": "e6846f83c4534508928c9924f831af6f",
              "version_major": 2,
              "version_minor": 0
            },
            "text/plain": [
              "COLLECTING RESULTS | :   0%|          | 0/15 [00:00<?, ?it/s]"
            ]
          },
          "metadata": {},
          "output_type": "display_data"
        },
        {
          "data": {
            "application/vnd.jupyter.widget-view+json": {
              "model_id": "67b78211de214445acfce371921883d4",
              "version_major": 2,
              "version_minor": 0
            },
            "text/plain": [
              "QUEUEING TASKS | :   0%|          | 0/15 [00:00<?, ?it/s]"
            ]
          },
          "metadata": {},
          "output_type": "display_data"
        },
        {
          "data": {
            "application/vnd.jupyter.widget-view+json": {
              "model_id": "40c77a640ed04615a069fef22456d3ae",
              "version_major": 2,
              "version_minor": 0
            },
            "text/plain": [
              "PROCESSING TASKS | :   0%|          | 0/15 [00:00<?, ?it/s]"
            ]
          },
          "metadata": {},
          "output_type": "display_data"
        },
        {
          "data": {
            "application/vnd.jupyter.widget-view+json": {
              "model_id": "2e52e96ed6264799b31376dab4e44730",
              "version_major": 2,
              "version_minor": 0
            },
            "text/plain": [
              "COLLECTING RESULTS | :   0%|          | 0/15 [00:00<?, ?it/s]"
            ]
          },
          "metadata": {},
          "output_type": "display_data"
        },
        {
          "data": {
            "application/vnd.jupyter.widget-view+json": {
              "model_id": "3327d21aaf1e4a0fadde123dbcb3eb17",
              "version_major": 2,
              "version_minor": 0
            },
            "text/plain": [
              "  0%|          | 0/88 [00:00<?, ?it/s]"
            ]
          },
          "metadata": {},
          "output_type": "display_data"
        },
        {
          "name": "stdout",
          "output_type": "stream",
          "text": [
            "Processing granule T15RYN 2023-05-04 16:31:32.101000+00:00\n",
            "Processing granule T15RYP 2023-05-04 16:31:32.101000+00:00\n",
            "Processing granule T16RBT 2023-05-04 16:31:32.101000+00:00\n",
            "Processing granule T16RBU 2023-05-04 16:31:32.101000+00:00\n",
            "Processing granule T15RYN 2023-05-12 16:31:44.329000+00:00\n",
            "Processing granule T15RYP 2023-05-12 16:31:44.329000+00:00\n",
            "Processing granule T16RBT 2023-05-12 16:31:44.329000+00:00\n",
            "Processing granule T16RBU 2023-05-12 16:31:44.329000+00:00\n",
            "Processing granule T15RYN 2023-05-20 16:31:23.029000+00:00\n",
            "Processing granule T15RYP 2023-05-20 16:31:23.029000+00:00\n",
            "Processing granule T16RBT 2023-05-20 16:31:23.029000+00:00\n",
            "Processing granule T16RBU 2023-05-20 16:31:23.029000+00:00\n",
            "Processing granule T15RYN 2023-05-28 16:31:34.837000+00:00\n",
            "Processing granule T15RYP 2023-05-28 16:31:34.837000+00:00\n",
            "Processing granule T16RBT 2023-05-28 16:31:34.837000+00:00\n",
            "Processing granule T16RBU 2023-05-28 16:31:34.837000+00:00\n",
            "Processing granule T15RYN 2023-06-05 16:31:28.153000+00:00\n",
            "Processing granule T15RYP 2023-06-05 16:31:28.153000+00:00\n",
            "Processing granule T16RBT 2023-06-05 16:31:28.153000+00:00\n",
            "Processing granule T16RBU 2023-06-05 16:31:28.153000+00:00\n",
            "Processing granule T15RYN 2023-06-13 16:31:26.844000+00:00\n",
            "Processing granule T15RYP 2023-06-13 16:31:26.844000+00:00\n",
            "Processing granule T16RBT 2023-06-13 16:31:26.844000+00:00\n",
            "Processing granule T16RBU 2023-06-13 16:31:26.844000+00:00\n",
            "Processing granule T15RYN 2023-06-21 16:31:34.135000+00:00\n",
            "Processing granule T15RYP 2023-06-21 16:31:34.135000+00:00\n",
            "Processing granule T16RBT 2023-06-21 16:31:34.135000+00:00\n",
            "Processing granule T16RBU 2023-06-21 16:31:34.135000+00:00\n",
            "Processing granule T15RYN 2023-06-29 16:31:32.405000+00:00\n",
            "Processing granule T15RYP 2023-06-29 16:31:32.405000+00:00\n",
            "Processing granule T16RBT 2023-06-29 16:31:32.405000+00:00\n",
            "Processing granule T16RBU 2023-06-29 16:31:32.405000+00:00\n",
            "Processing granule T15RYN 2023-07-07 16:31:46.664000+00:00\n",
            "Processing granule T15RYP 2023-07-07 16:31:46.664000+00:00\n",
            "Processing granule T16RBT 2023-07-07 16:31:46.664000+00:00\n",
            "Processing granule T16RBU 2023-07-07 16:31:46.664000+00:00\n",
            "Processing granule T15RYN 2023-07-15 16:31:42.442000+00:00\n",
            "Processing granule T15RYP 2023-07-15 16:31:42.442000+00:00\n",
            "Processing granule T16RBT 2023-07-15 16:31:42.442000+00:00\n",
            "Processing granule T16RBU 2023-07-15 16:31:42.442000+00:00\n",
            "Processing granule T15RYN 2023-07-23 16:31:50.873000+00:00\n",
            "Processing granule T15RYP 2023-07-23 16:31:50.873000+00:00\n",
            "Processing granule T16RBT 2023-07-23 16:31:50.873000+00:00\n",
            "Processing granule T16RBU 2023-07-23 16:31:50.873000+00:00\n",
            "Processing granule T15RYN 2023-07-31 16:31:47.828000+00:00\n",
            "Processing granule T15RYP 2023-07-31 16:31:47.828000+00:00\n",
            "Processing granule T16RBT 2023-07-31 16:31:47.828000+00:00\n",
            "Processing granule T16RBU 2023-07-31 16:31:47.828000+00:00\n",
            "Processing granule T15RYN 2023-08-08 16:31:57.564000+00:00\n",
            "Processing granule T15RYP 2023-08-08 16:31:57.564000+00:00\n",
            "Processing granule T16RBT 2023-08-08 16:31:57.564000+00:00\n",
            "Processing granule T16RBU 2023-08-08 16:31:57.564000+00:00\n",
            "Processing granule T15RYN 2023-08-16 16:31:52.083000+00:00\n",
            "Processing granule T15RYP 2023-08-16 16:31:52.083000+00:00\n",
            "Processing granule T16RBT 2023-08-16 16:31:52.083000+00:00\n",
            "Processing granule T16RBU 2023-08-16 16:31:52.083000+00:00\n",
            "Processing granule T15RYN 2023-08-24 16:32:05.861000+00:00\n",
            "Processing granule T15RYP 2023-08-24 16:32:05.861000+00:00\n",
            "Processing granule T16RBT 2023-08-24 16:32:05.861000+00:00\n",
            "Processing granule T16RBU 2023-08-24 16:32:05.861000+00:00\n",
            "Processing granule T15RYN 2023-09-01 16:32:03.072000+00:00\n",
            "Processing granule T15RYP 2023-09-01 16:32:03.072000+00:00\n",
            "Processing granule T16RBT 2023-09-01 16:32:03.072000+00:00\n",
            "Processing granule T16RBU 2023-09-01 16:32:03.072000+00:00\n",
            "Processing granule T15RYN 2023-09-09 16:32:06.260000+00:00\n",
            "Processing granule T15RYP 2023-09-09 16:32:06.260000+00:00\n",
            "Processing granule T16RBT 2023-09-09 16:32:06.260000+00:00\n",
            "Processing granule T16RBU 2023-09-09 16:32:06.260000+00:00\n",
            "Processing granule T15RYN 2023-09-17 16:32:11.040000+00:00\n",
            "Processing granule T15RYP 2023-09-17 16:32:11.040000+00:00\n",
            "Processing granule T16RBT 2023-09-17 16:32:11.040000+00:00\n",
            "Processing granule T16RBU 2023-09-17 16:32:11.040000+00:00\n",
            "Processing granule T15RYN 2023-09-25 16:32:12.175000+00:00\n",
            "Processing granule T15RYP 2023-09-25 16:32:12.175000+00:00\n",
            "Processing granule T16RBT 2023-09-25 16:32:12.175000+00:00\n",
            "Processing granule T16RBU 2023-09-25 16:32:12.175000+00:00\n",
            "Processing granule T15RYN 2023-10-03 16:32:11.664000+00:00\n",
            "Processing granule T15RYP 2023-10-03 16:32:11.664000+00:00\n",
            "Processing granule T16RBT 2023-10-03 16:32:11.664000+00:00\n",
            "Processing granule T16RBU 2023-10-03 16:32:11.664000+00:00\n",
            "Processing granule T15RYN 2023-10-19 16:32:21.176000+00:00\n",
            "Processing granule T15RYP 2023-10-19 16:32:21.176000+00:00\n",
            "Processing granule T16RBT 2023-10-19 16:32:21.176000+00:00\n",
            "Processing granule T16RBU 2023-10-19 16:32:21.176000+00:00\n",
            "Processing granule T15RYN 2023-10-27 16:32:18.830000+00:00\n",
            "Processing granule T15RYP 2023-10-27 16:32:18.830000+00:00\n",
            "Processing granule T16RBT 2023-10-27 16:32:18.830000+00:00\n",
            "Processing granule T16RBU 2023-10-27 16:32:18.830000+00:00\n"
          ]
        }
      ],
      "source": [
        "@cached('delta_reflectance_da_df')\n",
        "def compute_reflectance_da(search_results, boundary_gdf):\n",
        "    \"\"\"\n",
        "    Connect to files over VSI, crop, cloud mask, and wrangle\n",
        "    \n",
        "    Returns a single reflectance DataFrame \n",
        "    with all bands as columns and\n",
        "    centroid coordinates and datetime as the index.\n",
        "    \n",
        "    Parameters\n",
        "    ==========\n",
        "    file_df : pd.DataFrame\n",
        "        File connection and metadata (datetime, tile_id, band, and url)\n",
        "    boundary_gdf : gpd.GeoDataFrame\n",
        "        Boundary use to crop the data\n",
        "    \"\"\"\n",
        "    def open_dataarray(url, boundary_proj_gdf, scale=1, masked=True):\n",
        "        # Open masked DataArray\n",
        "        da = rxr.open_rasterio(url, masked=masked).squeeze() * scale\n",
        "        \n",
        "        # Reproject boundary if needed\n",
        "        if boundary_proj_gdf is None:\n",
        "            boundary_proj_gdf = boundary_gdf.to_crs(da.rio.crs)\n",
        "            \n",
        "        # Crop\n",
        "        cropped = da.rio.clip_box(*boundary_proj_gdf.total_bounds)\n",
        "        return cropped\n",
        "    \n",
        "    def compute_quality_mask(da, mask_bits=[1, 2, 3]):\n",
        "        \"\"\"Mask out low quality data by bit\"\"\"\n",
        "        # Unpack bits into a new axis\n",
        "        bits = (\n",
        "            ### make each number in the dataarray binary\n",
        "            np.unpackbits(\n",
        "                ### change dataarray integer type to unsigned 8 bit integer type\n",
        "                ### there will be 8 bits per number\n",
        "                ### we do this because python will read the numbers as integers otherwise\n",
        "                da.astype(np.uint8), bitorder='little'\n",
        "            ).reshape(da.shape + (-1,))\n",
        "        )\n",
        "\n",
        "        # Select the required bits and check if any are flagged\n",
        "        mask = np.prod(bits[..., mask_bits]==0,\n",
        "                       ### add an axis so each number is converted to an array of 8 bits\n",
        "                       ### each row has 1 number from original array in 8 bit format\n",
        "                       axis=-1)\n",
        "        return mask\n",
        "\n",
        "    file_df = create_granule_df(search_results)\n",
        "    \n",
        "    granule_da_rows= []\n",
        "    boundary_proj_gdf = None\n",
        "\n",
        "    # Loop through each image\n",
        "    group_iter = file_df.groupby(['datetime', 'tile_id'])\n",
        "    for (datetime, tile_id), granule_df in tqdm(group_iter):\n",
        "        print(f'Processing granule {tile_id} {datetime}')\n",
        "              \n",
        "        # Open granule cloud cover\n",
        "        cloud_mask_url = (\n",
        "            granule_df.loc[granule_df.band=='Fmask', 'url']\n",
        "            .values[0])\n",
        "        cloud_mask_cropped_da = open_dataarray(cloud_mask_url, boundary_proj_gdf, masked=False)\n",
        "\n",
        "        # Compute cloud mask\n",
        "        cloud_mask = compute_quality_mask(cloud_mask_cropped_da)\n",
        "\n",
        "        # Loop through each spectral band\n",
        "        da_list = []\n",
        "        df_list = []\n",
        "        for i, row in granule_df.iterrows():\n",
        "            if row.band.startswith('B'):\n",
        "                # Open, crop, and mask the band\n",
        "                band_cropped = open_dataarray(\n",
        "                    row.url, boundary_proj_gdf, scale=0.0001)\n",
        "                band_cropped.name = row.band\n",
        "                # Add the DataArray to the metadata DataFrame row\n",
        "                row['da'] = band_cropped.where(cloud_mask)\n",
        "                granule_da_rows.append(row.to_frame().T)\n",
        "    \n",
        "    # Reassemble the metadata DataFrame\n",
        "    return pd.concat(granule_da_rows)\n",
        "\n",
        "reflectance_da_df = compute_reflectance_da(wbd_hls_results, wbd_gdf)"
      ]
    },
    {
      "cell_type": "code",
      "execution_count": 43,
      "id": "d78eb351",
      "metadata": {},
      "outputs": [
        {
          "data": {
            "text/html": [
              "<div>\n",
              "<style scoped>\n",
              "    .dataframe tbody tr th:only-of-type {\n",
              "        vertical-align: middle;\n",
              "    }\n",
              "\n",
              "    .dataframe tbody tr th {\n",
              "        vertical-align: top;\n",
              "    }\n",
              "\n",
              "    .dataframe thead th {\n",
              "        text-align: right;\n",
              "    }\n",
              "</style>\n",
              "<table border=\"1\" class=\"dataframe\">\n",
              "  <thead>\n",
              "    <tr style=\"text-align: right;\">\n",
              "      <th></th>\n",
              "      <th>datetime</th>\n",
              "      <th>tile_id</th>\n",
              "      <th>band</th>\n",
              "      <th>url</th>\n",
              "      <th>geometry</th>\n",
              "      <th>da</th>\n",
              "    </tr>\n",
              "  </thead>\n",
              "  <tbody>\n",
              "    <tr>\n",
              "      <th>15</th>\n",
              "      <td>2023-05-04 16:31:32.101000+00:00</td>\n",
              "      <td>T15RYN</td>\n",
              "      <td>B03</td>\n",
              "      <td>&lt;File-like object HTTPFileSystem, https://data...</td>\n",
              "      <td>POLYGON ((-89.82661214 28.80213717, -89.795837...</td>\n",
              "      <td>[[&lt;xarray.DataArray 'B03' ()&gt; Size: 4B\\narray(...</td>\n",
              "    </tr>\n",
              "    <tr>\n",
              "      <th>17</th>\n",
              "      <td>2023-05-04 16:31:32.101000+00:00</td>\n",
              "      <td>T15RYN</td>\n",
              "      <td>B01</td>\n",
              "      <td>&lt;File-like object HTTPFileSystem, https://data...</td>\n",
              "      <td>POLYGON ((-89.82661214 28.80213717, -89.795837...</td>\n",
              "      <td>[[&lt;xarray.DataArray 'B01' ()&gt; Size: 4B\\narray(...</td>\n",
              "    </tr>\n",
              "    <tr>\n",
              "      <th>18</th>\n",
              "      <td>2023-05-04 16:31:32.101000+00:00</td>\n",
              "      <td>T15RYN</td>\n",
              "      <td>B02</td>\n",
              "      <td>&lt;File-like object HTTPFileSystem, https://data...</td>\n",
              "      <td>POLYGON ((-89.82661214 28.80213717, -89.795837...</td>\n",
              "      <td>[[&lt;xarray.DataArray 'B02' ()&gt; Size: 4B\\narray(...</td>\n",
              "    </tr>\n",
              "    <tr>\n",
              "      <th>19</th>\n",
              "      <td>2023-05-04 16:31:32.101000+00:00</td>\n",
              "      <td>T15RYN</td>\n",
              "      <td>B06</td>\n",
              "      <td>&lt;File-like object HTTPFileSystem, https://data...</td>\n",
              "      <td>POLYGON ((-89.82661214 28.80213717, -89.795837...</td>\n",
              "      <td>[[&lt;xarray.DataArray 'B06' ()&gt; Size: 4B\\narray(...</td>\n",
              "    </tr>\n",
              "    <tr>\n",
              "      <th>20</th>\n",
              "      <td>2023-05-04 16:31:32.101000+00:00</td>\n",
              "      <td>T15RYN</td>\n",
              "      <td>B09</td>\n",
              "      <td>&lt;File-like object HTTPFileSystem, https://data...</td>\n",
              "      <td>POLYGON ((-89.82661214 28.80213717, -89.795837...</td>\n",
              "      <td>[[&lt;xarray.DataArray 'B09' ()&gt; Size: 4B\\narray(...</td>\n",
              "    </tr>\n",
              "    <tr>\n",
              "      <th>...</th>\n",
              "      <td>...</td>\n",
              "      <td>...</td>\n",
              "      <td>...</td>\n",
              "      <td>...</td>\n",
              "      <td>...</td>\n",
              "      <td>...</td>\n",
              "    </tr>\n",
              "    <tr>\n",
              "      <th>1269</th>\n",
              "      <td>2023-10-27 16:32:18.830000+00:00</td>\n",
              "      <td>T16RBU</td>\n",
              "      <td>B05</td>\n",
              "      <td>&lt;File-like object HTTPFileSystem, https://data...</td>\n",
              "      <td>POLYGON ((-90.10082051 29.70587294, -89.305832...</td>\n",
              "      <td>[[&lt;xarray.DataArray 'B05' ()&gt; Size: 4B\\narray(...</td>\n",
              "    </tr>\n",
              "    <tr>\n",
              "      <th>1271</th>\n",
              "      <td>2023-10-27 16:32:18.830000+00:00</td>\n",
              "      <td>T16RBU</td>\n",
              "      <td>B11</td>\n",
              "      <td>&lt;File-like object HTTPFileSystem, https://data...</td>\n",
              "      <td>POLYGON ((-90.10082051 29.70587294, -89.305832...</td>\n",
              "      <td>[[&lt;xarray.DataArray 'B11' ()&gt; Size: 4B\\narray(...</td>\n",
              "    </tr>\n",
              "    <tr>\n",
              "      <th>1272</th>\n",
              "      <td>2023-10-27 16:32:18.830000+00:00</td>\n",
              "      <td>T16RBU</td>\n",
              "      <td>B01</td>\n",
              "      <td>&lt;File-like object HTTPFileSystem, https://data...</td>\n",
              "      <td>POLYGON ((-90.10082051 29.70587294, -89.305832...</td>\n",
              "      <td>[[&lt;xarray.DataArray 'B01' ()&gt; Size: 4B\\narray(...</td>\n",
              "    </tr>\n",
              "    <tr>\n",
              "      <th>1273</th>\n",
              "      <td>2023-10-27 16:32:18.830000+00:00</td>\n",
              "      <td>T16RBU</td>\n",
              "      <td>B02</td>\n",
              "      <td>&lt;File-like object HTTPFileSystem, https://data...</td>\n",
              "      <td>POLYGON ((-90.10082051 29.70587294, -89.305832...</td>\n",
              "      <td>[[&lt;xarray.DataArray 'B02' ()&gt; Size: 4B\\narray(...</td>\n",
              "    </tr>\n",
              "    <tr>\n",
              "      <th>1274</th>\n",
              "      <td>2023-10-27 16:32:18.830000+00:00</td>\n",
              "      <td>T16RBU</td>\n",
              "      <td>B06</td>\n",
              "      <td>&lt;File-like object HTTPFileSystem, https://data...</td>\n",
              "      <td>POLYGON ((-90.10082051 29.70587294, -89.305832...</td>\n",
              "      <td>[[&lt;xarray.DataArray 'B06' ()&gt; Size: 4B\\narray(...</td>\n",
              "    </tr>\n",
              "  </tbody>\n",
              "</table>\n",
              "<p>880 rows × 6 columns</p>\n",
              "</div>"
            ],
            "text/plain": [
              "                              datetime tile_id band  \\\n",
              "15    2023-05-04 16:31:32.101000+00:00  T15RYN  B03   \n",
              "17    2023-05-04 16:31:32.101000+00:00  T15RYN  B01   \n",
              "18    2023-05-04 16:31:32.101000+00:00  T15RYN  B02   \n",
              "19    2023-05-04 16:31:32.101000+00:00  T15RYN  B06   \n",
              "20    2023-05-04 16:31:32.101000+00:00  T15RYN  B09   \n",
              "...                                ...     ...  ...   \n",
              "1269  2023-10-27 16:32:18.830000+00:00  T16RBU  B05   \n",
              "1271  2023-10-27 16:32:18.830000+00:00  T16RBU  B11   \n",
              "1272  2023-10-27 16:32:18.830000+00:00  T16RBU  B01   \n",
              "1273  2023-10-27 16:32:18.830000+00:00  T16RBU  B02   \n",
              "1274  2023-10-27 16:32:18.830000+00:00  T16RBU  B06   \n",
              "\n",
              "                                                    url  \\\n",
              "15    <File-like object HTTPFileSystem, https://data...   \n",
              "17    <File-like object HTTPFileSystem, https://data...   \n",
              "18    <File-like object HTTPFileSystem, https://data...   \n",
              "19    <File-like object HTTPFileSystem, https://data...   \n",
              "20    <File-like object HTTPFileSystem, https://data...   \n",
              "...                                                 ...   \n",
              "1269  <File-like object HTTPFileSystem, https://data...   \n",
              "1271  <File-like object HTTPFileSystem, https://data...   \n",
              "1272  <File-like object HTTPFileSystem, https://data...   \n",
              "1273  <File-like object HTTPFileSystem, https://data...   \n",
              "1274  <File-like object HTTPFileSystem, https://data...   \n",
              "\n",
              "                                               geometry  \\\n",
              "15    POLYGON ((-89.82661214 28.80213717, -89.795837...   \n",
              "17    POLYGON ((-89.82661214 28.80213717, -89.795837...   \n",
              "18    POLYGON ((-89.82661214 28.80213717, -89.795837...   \n",
              "19    POLYGON ((-89.82661214 28.80213717, -89.795837...   \n",
              "20    POLYGON ((-89.82661214 28.80213717, -89.795837...   \n",
              "...                                                 ...   \n",
              "1269  POLYGON ((-90.10082051 29.70587294, -89.305832...   \n",
              "1271  POLYGON ((-90.10082051 29.70587294, -89.305832...   \n",
              "1272  POLYGON ((-90.10082051 29.70587294, -89.305832...   \n",
              "1273  POLYGON ((-90.10082051 29.70587294, -89.305832...   \n",
              "1274  POLYGON ((-90.10082051 29.70587294, -89.305832...   \n",
              "\n",
              "                                                     da  \n",
              "15    [[<xarray.DataArray 'B03' ()> Size: 4B\\narray(...  \n",
              "17    [[<xarray.DataArray 'B01' ()> Size: 4B\\narray(...  \n",
              "18    [[<xarray.DataArray 'B02' ()> Size: 4B\\narray(...  \n",
              "19    [[<xarray.DataArray 'B06' ()> Size: 4B\\narray(...  \n",
              "20    [[<xarray.DataArray 'B09' ()> Size: 4B\\narray(...  \n",
              "...                                                 ...  \n",
              "1269  [[<xarray.DataArray 'B05' ()> Size: 4B\\narray(...  \n",
              "1271  [[<xarray.DataArray 'B11' ()> Size: 4B\\narray(...  \n",
              "1272  [[<xarray.DataArray 'B01' ()> Size: 4B\\narray(...  \n",
              "1273  [[<xarray.DataArray 'B02' ()> Size: 4B\\narray(...  \n",
              "1274  [[<xarray.DataArray 'B06' ()> Size: 4B\\narray(...  \n",
              "\n",
              "[880 rows x 6 columns]"
            ]
          },
          "execution_count": 43,
          "metadata": {},
          "output_type": "execute_result"
        }
      ],
      "source": [
        "reflectance_da_df"
      ]
    },
    {
      "cell_type": "code",
      "execution_count": 31,
      "id": "5752c67e",
      "metadata": {},
      "outputs": [
        {
          "data": {
            "text/html": [
              "<div><svg style=\"position: absolute; width: 0; height: 0; overflow: hidden\">\n",
              "<defs>\n",
              "<symbol id=\"icon-database\" viewBox=\"0 0 32 32\">\n",
              "<path d=\"M16 0c-8.837 0-16 2.239-16 5v4c0 2.761 7.163 5 16 5s16-2.239 16-5v-4c0-2.761-7.163-5-16-5z\"></path>\n",
              "<path d=\"M16 17c-8.837 0-16-2.239-16-5v6c0 2.761 7.163 5 16 5s16-2.239 16-5v-6c0 2.761-7.163 5-16 5z\"></path>\n",
              "<path d=\"M16 26c-8.837 0-16-2.239-16-5v6c0 2.761 7.163 5 16 5s16-2.239 16-5v-6c0 2.761-7.163 5-16 5z\"></path>\n",
              "</symbol>\n",
              "<symbol id=\"icon-file-text2\" viewBox=\"0 0 32 32\">\n",
              "<path d=\"M28.681 7.159c-0.694-0.947-1.662-2.053-2.724-3.116s-2.169-2.030-3.116-2.724c-1.612-1.182-2.393-1.319-2.841-1.319h-15.5c-1.378 0-2.5 1.121-2.5 2.5v27c0 1.378 1.122 2.5 2.5 2.5h23c1.378 0 2.5-1.122 2.5-2.5v-19.5c0-0.448-0.137-1.23-1.319-2.841zM24.543 5.457c0.959 0.959 1.712 1.825 2.268 2.543h-4.811v-4.811c0.718 0.556 1.584 1.309 2.543 2.268zM28 29.5c0 0.271-0.229 0.5-0.5 0.5h-23c-0.271 0-0.5-0.229-0.5-0.5v-27c0-0.271 0.229-0.5 0.5-0.5 0 0 15.499-0 15.5 0v7c0 0.552 0.448 1 1 1h7v19.5z\"></path>\n",
              "<path d=\"M23 26h-14c-0.552 0-1-0.448-1-1s0.448-1 1-1h14c0.552 0 1 0.448 1 1s-0.448 1-1 1z\"></path>\n",
              "<path d=\"M23 22h-14c-0.552 0-1-0.448-1-1s0.448-1 1-1h14c0.552 0 1 0.448 1 1s-0.448 1-1 1z\"></path>\n",
              "<path d=\"M23 18h-14c-0.552 0-1-0.448-1-1s0.448-1 1-1h14c0.552 0 1 0.448 1 1s-0.448 1-1 1z\"></path>\n",
              "</symbol>\n",
              "</defs>\n",
              "</svg>\n",
              "<style>/* CSS stylesheet for displaying xarray objects in jupyterlab.\n",
              " *\n",
              " */\n",
              "\n",
              ":root {\n",
              "  --xr-font-color0: var(--jp-content-font-color0, rgba(0, 0, 0, 1));\n",
              "  --xr-font-color2: var(--jp-content-font-color2, rgba(0, 0, 0, 0.54));\n",
              "  --xr-font-color3: var(--jp-content-font-color3, rgba(0, 0, 0, 0.38));\n",
              "  --xr-border-color: var(--jp-border-color2, #e0e0e0);\n",
              "  --xr-disabled-color: var(--jp-layout-color3, #bdbdbd);\n",
              "  --xr-background-color: var(--jp-layout-color0, white);\n",
              "  --xr-background-color-row-even: var(--jp-layout-color1, white);\n",
              "  --xr-background-color-row-odd: var(--jp-layout-color2, #eeeeee);\n",
              "}\n",
              "\n",
              "html[theme=dark],\n",
              "html[data-theme=dark],\n",
              "body[data-theme=dark],\n",
              "body.vscode-dark {\n",
              "  --xr-font-color0: rgba(255, 255, 255, 1);\n",
              "  --xr-font-color2: rgba(255, 255, 255, 0.54);\n",
              "  --xr-font-color3: rgba(255, 255, 255, 0.38);\n",
              "  --xr-border-color: #1F1F1F;\n",
              "  --xr-disabled-color: #515151;\n",
              "  --xr-background-color: #111111;\n",
              "  --xr-background-color-row-even: #111111;\n",
              "  --xr-background-color-row-odd: #313131;\n",
              "}\n",
              "\n",
              ".xr-wrap {\n",
              "  display: block !important;\n",
              "  min-width: 300px;\n",
              "  max-width: 700px;\n",
              "}\n",
              "\n",
              ".xr-text-repr-fallback {\n",
              "  /* fallback to plain text repr when CSS is not injected (untrusted notebook) */\n",
              "  display: none;\n",
              "}\n",
              "\n",
              ".xr-header {\n",
              "  padding-top: 6px;\n",
              "  padding-bottom: 6px;\n",
              "  margin-bottom: 4px;\n",
              "  border-bottom: solid 1px var(--xr-border-color);\n",
              "}\n",
              "\n",
              ".xr-header > div,\n",
              ".xr-header > ul {\n",
              "  display: inline;\n",
              "  margin-top: 0;\n",
              "  margin-bottom: 0;\n",
              "}\n",
              "\n",
              ".xr-obj-type,\n",
              ".xr-array-name {\n",
              "  margin-left: 2px;\n",
              "  margin-right: 10px;\n",
              "}\n",
              "\n",
              ".xr-obj-type {\n",
              "  color: var(--xr-font-color2);\n",
              "}\n",
              "\n",
              ".xr-sections {\n",
              "  padding-left: 0 !important;\n",
              "  display: grid;\n",
              "  grid-template-columns: 150px auto auto 1fr 0 20px 0 20px;\n",
              "}\n",
              "\n",
              ".xr-section-item {\n",
              "  display: contents;\n",
              "}\n",
              "\n",
              ".xr-section-item input {\n",
              "  display: inline-block;\n",
              "  opacity: 0;\n",
              "}\n",
              "\n",
              ".xr-section-item input + label {\n",
              "  color: var(--xr-disabled-color);\n",
              "}\n",
              "\n",
              ".xr-section-item input:enabled + label {\n",
              "  cursor: pointer;\n",
              "  color: var(--xr-font-color2);\n",
              "}\n",
              "\n",
              ".xr-section-item input:focus + label {\n",
              "  border: 2px solid var(--xr-font-color0);\n",
              "}\n",
              "\n",
              ".xr-section-item input:enabled + label:hover {\n",
              "  color: var(--xr-font-color0);\n",
              "}\n",
              "\n",
              ".xr-section-summary {\n",
              "  grid-column: 1;\n",
              "  color: var(--xr-font-color2);\n",
              "  font-weight: 500;\n",
              "}\n",
              "\n",
              ".xr-section-summary > span {\n",
              "  display: inline-block;\n",
              "  padding-left: 0.5em;\n",
              "}\n",
              "\n",
              ".xr-section-summary-in:disabled + label {\n",
              "  color: var(--xr-font-color2);\n",
              "}\n",
              "\n",
              ".xr-section-summary-in + label:before {\n",
              "  display: inline-block;\n",
              "  content: '►';\n",
              "  font-size: 11px;\n",
              "  width: 15px;\n",
              "  text-align: center;\n",
              "}\n",
              "\n",
              ".xr-section-summary-in:disabled + label:before {\n",
              "  color: var(--xr-disabled-color);\n",
              "}\n",
              "\n",
              ".xr-section-summary-in:checked + label:before {\n",
              "  content: '▼';\n",
              "}\n",
              "\n",
              ".xr-section-summary-in:checked + label > span {\n",
              "  display: none;\n",
              "}\n",
              "\n",
              ".xr-section-summary,\n",
              ".xr-section-inline-details {\n",
              "  padding-top: 4px;\n",
              "  padding-bottom: 4px;\n",
              "}\n",
              "\n",
              ".xr-section-inline-details {\n",
              "  grid-column: 2 / -1;\n",
              "}\n",
              "\n",
              ".xr-section-details {\n",
              "  display: none;\n",
              "  grid-column: 1 / -1;\n",
              "  margin-bottom: 5px;\n",
              "}\n",
              "\n",
              ".xr-section-summary-in:checked ~ .xr-section-details {\n",
              "  display: contents;\n",
              "}\n",
              "\n",
              ".xr-array-wrap {\n",
              "  grid-column: 1 / -1;\n",
              "  display: grid;\n",
              "  grid-template-columns: 20px auto;\n",
              "}\n",
              "\n",
              ".xr-array-wrap > label {\n",
              "  grid-column: 1;\n",
              "  vertical-align: top;\n",
              "}\n",
              "\n",
              ".xr-preview {\n",
              "  color: var(--xr-font-color3);\n",
              "}\n",
              "\n",
              ".xr-array-preview,\n",
              ".xr-array-data {\n",
              "  padding: 0 5px !important;\n",
              "  grid-column: 2;\n",
              "}\n",
              "\n",
              ".xr-array-data,\n",
              ".xr-array-in:checked ~ .xr-array-preview {\n",
              "  display: none;\n",
              "}\n",
              "\n",
              ".xr-array-in:checked ~ .xr-array-data,\n",
              ".xr-array-preview {\n",
              "  display: inline-block;\n",
              "}\n",
              "\n",
              ".xr-dim-list {\n",
              "  display: inline-block !important;\n",
              "  list-style: none;\n",
              "  padding: 0 !important;\n",
              "  margin: 0;\n",
              "}\n",
              "\n",
              ".xr-dim-list li {\n",
              "  display: inline-block;\n",
              "  padding: 0;\n",
              "  margin: 0;\n",
              "}\n",
              "\n",
              ".xr-dim-list:before {\n",
              "  content: '(';\n",
              "}\n",
              "\n",
              ".xr-dim-list:after {\n",
              "  content: ')';\n",
              "}\n",
              "\n",
              ".xr-dim-list li:not(:last-child):after {\n",
              "  content: ',';\n",
              "  padding-right: 5px;\n",
              "}\n",
              "\n",
              ".xr-has-index {\n",
              "  font-weight: bold;\n",
              "}\n",
              "\n",
              ".xr-var-list,\n",
              ".xr-var-item {\n",
              "  display: contents;\n",
              "}\n",
              "\n",
              ".xr-var-item > div,\n",
              ".xr-var-item label,\n",
              ".xr-var-item > .xr-var-name span {\n",
              "  background-color: var(--xr-background-color-row-even);\n",
              "  margin-bottom: 0;\n",
              "}\n",
              "\n",
              ".xr-var-item > .xr-var-name:hover span {\n",
              "  padding-right: 5px;\n",
              "}\n",
              "\n",
              ".xr-var-list > li:nth-child(odd) > div,\n",
              ".xr-var-list > li:nth-child(odd) > label,\n",
              ".xr-var-list > li:nth-child(odd) > .xr-var-name span {\n",
              "  background-color: var(--xr-background-color-row-odd);\n",
              "}\n",
              "\n",
              ".xr-var-name {\n",
              "  grid-column: 1;\n",
              "}\n",
              "\n",
              ".xr-var-dims {\n",
              "  grid-column: 2;\n",
              "}\n",
              "\n",
              ".xr-var-dtype {\n",
              "  grid-column: 3;\n",
              "  text-align: right;\n",
              "  color: var(--xr-font-color2);\n",
              "}\n",
              "\n",
              ".xr-var-preview {\n",
              "  grid-column: 4;\n",
              "}\n",
              "\n",
              ".xr-index-preview {\n",
              "  grid-column: 2 / 5;\n",
              "  color: var(--xr-font-color2);\n",
              "}\n",
              "\n",
              ".xr-var-name,\n",
              ".xr-var-dims,\n",
              ".xr-var-dtype,\n",
              ".xr-preview,\n",
              ".xr-attrs dt {\n",
              "  white-space: nowrap;\n",
              "  overflow: hidden;\n",
              "  text-overflow: ellipsis;\n",
              "  padding-right: 10px;\n",
              "}\n",
              "\n",
              ".xr-var-name:hover,\n",
              ".xr-var-dims:hover,\n",
              ".xr-var-dtype:hover,\n",
              ".xr-attrs dt:hover {\n",
              "  overflow: visible;\n",
              "  width: auto;\n",
              "  z-index: 1;\n",
              "}\n",
              "\n",
              ".xr-var-attrs,\n",
              ".xr-var-data,\n",
              ".xr-index-data {\n",
              "  display: none;\n",
              "  background-color: var(--xr-background-color) !important;\n",
              "  padding-bottom: 5px !important;\n",
              "}\n",
              "\n",
              ".xr-var-attrs-in:checked ~ .xr-var-attrs,\n",
              ".xr-var-data-in:checked ~ .xr-var-data,\n",
              ".xr-index-data-in:checked ~ .xr-index-data {\n",
              "  display: block;\n",
              "}\n",
              "\n",
              ".xr-var-data > table {\n",
              "  float: right;\n",
              "}\n",
              "\n",
              ".xr-var-name span,\n",
              ".xr-var-data,\n",
              ".xr-index-name div,\n",
              ".xr-index-data,\n",
              ".xr-attrs {\n",
              "  padding-left: 25px !important;\n",
              "}\n",
              "\n",
              ".xr-attrs,\n",
              ".xr-var-attrs,\n",
              ".xr-var-data,\n",
              ".xr-index-data {\n",
              "  grid-column: 1 / -1;\n",
              "}\n",
              "\n",
              "dl.xr-attrs {\n",
              "  padding: 0;\n",
              "  margin: 0;\n",
              "  display: grid;\n",
              "  grid-template-columns: 125px auto;\n",
              "}\n",
              "\n",
              ".xr-attrs dt,\n",
              ".xr-attrs dd {\n",
              "  padding: 0;\n",
              "  margin: 0;\n",
              "  float: left;\n",
              "  padding-right: 10px;\n",
              "  width: auto;\n",
              "}\n",
              "\n",
              ".xr-attrs dt {\n",
              "  font-weight: normal;\n",
              "  grid-column: 1;\n",
              "}\n",
              "\n",
              ".xr-attrs dt:hover span {\n",
              "  display: inline-block;\n",
              "  background: var(--xr-background-color);\n",
              "  padding-right: 10px;\n",
              "}\n",
              "\n",
              ".xr-attrs dd {\n",
              "  grid-column: 2;\n",
              "  white-space: pre-wrap;\n",
              "  word-break: break-all;\n",
              "}\n",
              "\n",
              ".xr-icon-database,\n",
              ".xr-icon-file-text2,\n",
              ".xr-no-icon {\n",
              "  display: inline-block;\n",
              "  vertical-align: middle;\n",
              "  width: 1em;\n",
              "  height: 1.5em !important;\n",
              "  stroke-width: 0;\n",
              "  stroke: currentColor;\n",
              "  fill: currentColor;\n",
              "}\n",
              "</style><pre class='xr-text-repr-fallback'>&lt;xarray.DataArray (y: 413, x: 559)&gt; Size: 923kB\n",
              "[230867 values with dtype=float32]\n",
              "Coordinates:\n",
              "    band         int64 8B 1\n",
              "  * x            (x) float64 4kB 7.93e+05 7.93e+05 ... 8.097e+05 8.097e+05\n",
              "  * y            (y) float64 3kB 3.3e+06 3.3e+06 3.3e+06 ... 3.288e+06 3.288e+06\n",
              "    spatial_ref  int64 8B 0\n",
              "Attributes: (12/33)\n",
              "    ACCODE:                    Lasrc; Lasrc\n",
              "    arop_ave_xshift(meters):   0, 0\n",
              "    arop_ave_yshift(meters):   0, 0\n",
              "    arop_ncp:                  0, 0\n",
              "    arop_rmse(meters):         0, 0\n",
              "    arop_s2_refimg:            NONE\n",
              "    ...                        ...\n",
              "    TIRS_SSM_MODEL:            PRELIMINARY; PRELIMINARY\n",
              "    TIRS_SSM_POSITION_STATUS:  ESTIMATED; ESTIMATED\n",
              "    ULX:                       699960\n",
              "    ULY:                       3300000\n",
              "    USGS_SOFTWARE:             LPGS_16.2.0\n",
              "    AREA_OR_POINT:             Area</pre><div class='xr-wrap' style='display:none'><div class='xr-header'><div class='xr-obj-type'>xarray.DataArray</div><div class='xr-array-name'></div><ul class='xr-dim-list'><li><span class='xr-has-index'>y</span>: 413</li><li><span class='xr-has-index'>x</span>: 559</li></ul></div><ul class='xr-sections'><li class='xr-section-item'><div class='xr-array-wrap'><input id='section-f4832a81-fbe2-4ac5-ad2f-43cc67d272e1' class='xr-array-in' type='checkbox' checked><label for='section-f4832a81-fbe2-4ac5-ad2f-43cc67d272e1' title='Show/hide data repr'><svg class='icon xr-icon-database'><use xlink:href='#icon-database'></use></svg></label><div class='xr-array-preview xr-preview'><span>...</span></div><div class='xr-array-data'><pre>[230867 values with dtype=float32]</pre></div></div></li><li class='xr-section-item'><input id='section-0777b53f-749f-45e7-a14d-448f3054bcc3' class='xr-section-summary-in' type='checkbox'  checked><label for='section-0777b53f-749f-45e7-a14d-448f3054bcc3' class='xr-section-summary' >Coordinates: <span>(4)</span></label><div class='xr-section-inline-details'></div><div class='xr-section-details'><ul class='xr-var-list'><li class='xr-var-item'><div class='xr-var-name'><span>band</span></div><div class='xr-var-dims'>()</div><div class='xr-var-dtype'>int64</div><div class='xr-var-preview xr-preview'>1</div><input id='attrs-342f4c37-6845-44b6-b779-df323ca203de' class='xr-var-attrs-in' type='checkbox' disabled><label for='attrs-342f4c37-6845-44b6-b779-df323ca203de' title='Show/Hide attributes'><svg class='icon xr-icon-file-text2'><use xlink:href='#icon-file-text2'></use></svg></label><input id='data-fcf8f118-2d7d-4f8c-ab0b-b965e9ec5d65' class='xr-var-data-in' type='checkbox'><label for='data-fcf8f118-2d7d-4f8c-ab0b-b965e9ec5d65' title='Show/Hide data repr'><svg class='icon xr-icon-database'><use xlink:href='#icon-database'></use></svg></label><div class='xr-var-attrs'><dl class='xr-attrs'></dl></div><div class='xr-var-data'><pre>array(1)</pre></div></li><li class='xr-var-item'><div class='xr-var-name'><span class='xr-has-index'>x</span></div><div class='xr-var-dims'>(x)</div><div class='xr-var-dtype'>float64</div><div class='xr-var-preview xr-preview'>7.93e+05 7.93e+05 ... 8.097e+05</div><input id='attrs-c1bcea62-8aa8-4900-822e-2e64dfd080b3' class='xr-var-attrs-in' type='checkbox' ><label for='attrs-c1bcea62-8aa8-4900-822e-2e64dfd080b3' title='Show/Hide attributes'><svg class='icon xr-icon-file-text2'><use xlink:href='#icon-file-text2'></use></svg></label><input id='data-8d904d14-ad31-4c05-80d3-a51e7136d66b' class='xr-var-data-in' type='checkbox'><label for='data-8d904d14-ad31-4c05-80d3-a51e7136d66b' title='Show/Hide data repr'><svg class='icon xr-icon-database'><use xlink:href='#icon-database'></use></svg></label><div class='xr-var-attrs'><dl class='xr-attrs'><dt><span>axis :</span></dt><dd>X</dd><dt><span>long_name :</span></dt><dd>x coordinate of projection</dd><dt><span>standard_name :</span></dt><dd>projection_x_coordinate</dd><dt><span>units :</span></dt><dd>metre</dd></dl></div><div class='xr-var-data'><pre>array([793005., 793035., 793065., ..., 809685., 809715., 809745.])</pre></div></li><li class='xr-var-item'><div class='xr-var-name'><span class='xr-has-index'>y</span></div><div class='xr-var-dims'>(y)</div><div class='xr-var-dtype'>float64</div><div class='xr-var-preview xr-preview'>3.3e+06 3.3e+06 ... 3.288e+06</div><input id='attrs-4f4c6288-db69-4770-9627-1e8ac76bd6b1' class='xr-var-attrs-in' type='checkbox' ><label for='attrs-4f4c6288-db69-4770-9627-1e8ac76bd6b1' title='Show/Hide attributes'><svg class='icon xr-icon-file-text2'><use xlink:href='#icon-file-text2'></use></svg></label><input id='data-04fda817-c85b-457f-99d5-b2855acfba20' class='xr-var-data-in' type='checkbox'><label for='data-04fda817-c85b-457f-99d5-b2855acfba20' title='Show/Hide data repr'><svg class='icon xr-icon-database'><use xlink:href='#icon-database'></use></svg></label><div class='xr-var-attrs'><dl class='xr-attrs'><dt><span>axis :</span></dt><dd>Y</dd><dt><span>long_name :</span></dt><dd>y coordinate of projection</dd><dt><span>standard_name :</span></dt><dd>projection_y_coordinate</dd><dt><span>units :</span></dt><dd>metre</dd></dl></div><div class='xr-var-data'><pre>array([3299985., 3299955., 3299925., ..., 3287685., 3287655., 3287625.])</pre></div></li><li class='xr-var-item'><div class='xr-var-name'><span>spatial_ref</span></div><div class='xr-var-dims'>()</div><div class='xr-var-dtype'>int64</div><div class='xr-var-preview xr-preview'>0</div><input id='attrs-071516e1-dd67-4d48-859c-870c096f240f' class='xr-var-attrs-in' type='checkbox' ><label for='attrs-071516e1-dd67-4d48-859c-870c096f240f' title='Show/Hide attributes'><svg class='icon xr-icon-file-text2'><use xlink:href='#icon-file-text2'></use></svg></label><input id='data-1ca94d03-bd9a-464b-9ef5-b700c964fbe8' class='xr-var-data-in' type='checkbox'><label for='data-1ca94d03-bd9a-464b-9ef5-b700c964fbe8' title='Show/Hide data repr'><svg class='icon xr-icon-database'><use xlink:href='#icon-database'></use></svg></label><div class='xr-var-attrs'><dl class='xr-attrs'><dt><span>crs_wkt :</span></dt><dd>PROJCS[&quot;WGS 84 / UTM zone 15N&quot;,GEOGCS[&quot;WGS 84&quot;,DATUM[&quot;WGS_1984&quot;,SPHEROID[&quot;WGS 84&quot;,6378137,298.257223563,AUTHORITY[&quot;EPSG&quot;,&quot;7030&quot;]],AUTHORITY[&quot;EPSG&quot;,&quot;6326&quot;]],PRIMEM[&quot;Greenwich&quot;,0,AUTHORITY[&quot;EPSG&quot;,&quot;8901&quot;]],UNIT[&quot;degree&quot;,0.0174532925199433,AUTHORITY[&quot;EPSG&quot;,&quot;9122&quot;]],AUTHORITY[&quot;EPSG&quot;,&quot;4326&quot;]],PROJECTION[&quot;Transverse_Mercator&quot;],PARAMETER[&quot;latitude_of_origin&quot;,0],PARAMETER[&quot;central_meridian&quot;,-93],PARAMETER[&quot;scale_factor&quot;,0.9996],PARAMETER[&quot;false_easting&quot;,500000],PARAMETER[&quot;false_northing&quot;,0],UNIT[&quot;metre&quot;,1,AUTHORITY[&quot;EPSG&quot;,&quot;9001&quot;]],AXIS[&quot;Easting&quot;,EAST],AXIS[&quot;Northing&quot;,NORTH],AUTHORITY[&quot;EPSG&quot;,&quot;32615&quot;]]</dd><dt><span>semi_major_axis :</span></dt><dd>6378137.0</dd><dt><span>semi_minor_axis :</span></dt><dd>6356752.314245179</dd><dt><span>inverse_flattening :</span></dt><dd>298.257223563</dd><dt><span>reference_ellipsoid_name :</span></dt><dd>WGS 84</dd><dt><span>longitude_of_prime_meridian :</span></dt><dd>0.0</dd><dt><span>prime_meridian_name :</span></dt><dd>Greenwich</dd><dt><span>geographic_crs_name :</span></dt><dd>WGS 84</dd><dt><span>horizontal_datum_name :</span></dt><dd>World Geodetic System 1984</dd><dt><span>projected_crs_name :</span></dt><dd>WGS 84 / UTM zone 15N</dd><dt><span>grid_mapping_name :</span></dt><dd>transverse_mercator</dd><dt><span>latitude_of_projection_origin :</span></dt><dd>0.0</dd><dt><span>longitude_of_central_meridian :</span></dt><dd>-93.0</dd><dt><span>false_easting :</span></dt><dd>500000.0</dd><dt><span>false_northing :</span></dt><dd>0.0</dd><dt><span>scale_factor_at_central_meridian :</span></dt><dd>0.9996</dd><dt><span>spatial_ref :</span></dt><dd>PROJCS[&quot;WGS 84 / UTM zone 15N&quot;,GEOGCS[&quot;WGS 84&quot;,DATUM[&quot;WGS_1984&quot;,SPHEROID[&quot;WGS 84&quot;,6378137,298.257223563,AUTHORITY[&quot;EPSG&quot;,&quot;7030&quot;]],AUTHORITY[&quot;EPSG&quot;,&quot;6326&quot;]],PRIMEM[&quot;Greenwich&quot;,0,AUTHORITY[&quot;EPSG&quot;,&quot;8901&quot;]],UNIT[&quot;degree&quot;,0.0174532925199433,AUTHORITY[&quot;EPSG&quot;,&quot;9122&quot;]],AUTHORITY[&quot;EPSG&quot;,&quot;4326&quot;]],PROJECTION[&quot;Transverse_Mercator&quot;],PARAMETER[&quot;latitude_of_origin&quot;,0],PARAMETER[&quot;central_meridian&quot;,-93],PARAMETER[&quot;scale_factor&quot;,0.9996],PARAMETER[&quot;false_easting&quot;,500000],PARAMETER[&quot;false_northing&quot;,0],UNIT[&quot;metre&quot;,1,AUTHORITY[&quot;EPSG&quot;,&quot;9001&quot;]],AXIS[&quot;Easting&quot;,EAST],AXIS[&quot;Northing&quot;,NORTH],AUTHORITY[&quot;EPSG&quot;,&quot;32615&quot;]]</dd><dt><span>GeoTransform :</span></dt><dd>792990.0 30.0 0.0 3300000.0 0.0 -30.0</dd></dl></div><div class='xr-var-data'><pre>array(0)</pre></div></li></ul></div></li><li class='xr-section-item'><input id='section-97b94488-fb4b-4a92-84a1-85277d28acde' class='xr-section-summary-in' type='checkbox'  ><label for='section-97b94488-fb4b-4a92-84a1-85277d28acde' class='xr-section-summary' >Indexes: <span>(2)</span></label><div class='xr-section-inline-details'></div><div class='xr-section-details'><ul class='xr-var-list'><li class='xr-var-item'><div class='xr-index-name'><div>x</div></div><div class='xr-index-preview'>PandasIndex</div><div></div><input id='index-2afdb1b9-de11-4444-a72d-03b315cc312b' class='xr-index-data-in' type='checkbox'/><label for='index-2afdb1b9-de11-4444-a72d-03b315cc312b' title='Show/Hide index repr'><svg class='icon xr-icon-database'><use xlink:href='#icon-database'></use></svg></label><div class='xr-index-data'><pre>PandasIndex(Index([793005.0, 793035.0, 793065.0, 793095.0, 793125.0, 793155.0, 793185.0,\n",
              "       793215.0, 793245.0, 793275.0,\n",
              "       ...\n",
              "       809475.0, 809505.0, 809535.0, 809565.0, 809595.0, 809625.0, 809655.0,\n",
              "       809685.0, 809715.0, 809745.0],\n",
              "      dtype=&#x27;float64&#x27;, name=&#x27;x&#x27;, length=559))</pre></div></li><li class='xr-var-item'><div class='xr-index-name'><div>y</div></div><div class='xr-index-preview'>PandasIndex</div><div></div><input id='index-857583fc-7e3c-4d63-8457-09a0eb9896aa' class='xr-index-data-in' type='checkbox'/><label for='index-857583fc-7e3c-4d63-8457-09a0eb9896aa' title='Show/Hide index repr'><svg class='icon xr-icon-database'><use xlink:href='#icon-database'></use></svg></label><div class='xr-index-data'><pre>PandasIndex(Index([3299985.0, 3299955.0, 3299925.0, 3299895.0, 3299865.0, 3299835.0,\n",
              "       3299805.0, 3299775.0, 3299745.0, 3299715.0,\n",
              "       ...\n",
              "       3287895.0, 3287865.0, 3287835.0, 3287805.0, 3287775.0, 3287745.0,\n",
              "       3287715.0, 3287685.0, 3287655.0, 3287625.0],\n",
              "      dtype=&#x27;float64&#x27;, name=&#x27;y&#x27;, length=413))</pre></div></li></ul></div></li><li class='xr-section-item'><input id='section-e0c88c64-cfea-47a0-aab5-9d78b2aec266' class='xr-section-summary-in' type='checkbox'  ><label for='section-e0c88c64-cfea-47a0-aab5-9d78b2aec266' class='xr-section-summary' >Attributes: <span>(33)</span></label><div class='xr-section-inline-details'></div><div class='xr-section-details'><dl class='xr-attrs'><dt><span>ACCODE :</span></dt><dd>Lasrc; Lasrc</dd><dt><span>arop_ave_xshift(meters) :</span></dt><dd>0, 0</dd><dt><span>arop_ave_yshift(meters) :</span></dt><dd>0, 0</dd><dt><span>arop_ncp :</span></dt><dd>0, 0</dd><dt><span>arop_rmse(meters) :</span></dt><dd>0, 0</dd><dt><span>arop_s2_refimg :</span></dt><dd>NONE</dd><dt><span>cloud_coverage :</span></dt><dd>1</dd><dt><span>Fmask bit description :</span></dt><dd>Bits are listed from the MSB (bit 7) to the LSB (bit 0): \n",
              "7-6    aerosol:\n",
              "       00 - climatology\n",
              "       01 - low\n",
              "       10 - average\n",
              "       11 - high\n",
              "5      water\n",
              "4      snow/ice\n",
              "3      cloud shadow\n",
              "2      adjacent to cloud\n",
              "1      cloud\n",
              "0      cirrus cloud\n",
              "</dd><dt><span>HLS_PROCESSING_TIME :</span></dt><dd>2023-05-06T06:55:36Z</dd><dt><span>HORIZONTAL_CS_NAME :</span></dt><dd>UTM, WGS84, UTM ZONE 15; UTM, WGS84, UTM ZONE 15</dd><dt><span>L1_PROCESSING_TIME :</span></dt><dd>2023-05-04T20:45:41Z; 2023-05-04T20:44:29Z</dd><dt><span>LANDSAT_PRODUCT_ID :</span></dt><dd>LC08_L1TP_022039_20230504_20230504_02_RT; LC08_L1TP_022040_20230504_20230504_02_RT</dd><dt><span>LANDSAT_SCENE_ID :</span></dt><dd>LC80220392023124LGN00; LC80220402023124LGN00</dd><dt><span>MEAN_SUN_AZIMUTH_ANGLE :</span></dt><dd>119.039319349961</dd><dt><span>MEAN_SUN_ZENITH_ANGLE :</span></dt><dd>23.8974018664837</dd><dt><span>MEAN_VIEW_AZIMUTH_ANGLE :</span></dt><dd>192.100011277693</dd><dt><span>MEAN_VIEW_ZENITH_ANGLE :</span></dt><dd>2.58639176709964</dd><dt><span>NBAR_SOLAR_ZENITH :</span></dt><dd>22.2069708384549</dd><dt><span>NCOLS :</span></dt><dd>3660</dd><dt><span>NROWS :</span></dt><dd>3660</dd><dt><span>OVR_RESAMPLING_ALG :</span></dt><dd>NEAREST</dd><dt><span>PROCESSING_LEVEL :</span></dt><dd>L1TP; L1TP</dd><dt><span>SENSING_TIME :</span></dt><dd>2023-05-04T16:31:32.1012330Z; 2023-05-04T16:31:55.9922730Z</dd><dt><span>SENSOR :</span></dt><dd>OLI_TIRS; OLI_TIRS</dd><dt><span>SENTINEL2_TILEID :</span></dt><dd>15RYN</dd><dt><span>spatial_coverage :</span></dt><dd>100</dd><dt><span>SPATIAL_RESOLUTION :</span></dt><dd>30</dd><dt><span>TIRS_SSM_MODEL :</span></dt><dd>PRELIMINARY; PRELIMINARY</dd><dt><span>TIRS_SSM_POSITION_STATUS :</span></dt><dd>ESTIMATED; ESTIMATED</dd><dt><span>ULX :</span></dt><dd>699960</dd><dt><span>ULY :</span></dt><dd>3300000</dd><dt><span>USGS_SOFTWARE :</span></dt><dd>LPGS_16.2.0</dd><dt><span>AREA_OR_POINT :</span></dt><dd>Area</dd></dl></div></li></ul></div></div>"
            ],
            "text/plain": [
              "<xarray.DataArray (y: 413, x: 559)> Size: 923kB\n",
              "[230867 values with dtype=float32]\n",
              "Coordinates:\n",
              "    band         int64 8B 1\n",
              "  * x            (x) float64 4kB 7.93e+05 7.93e+05 ... 8.097e+05 8.097e+05\n",
              "  * y            (y) float64 3kB 3.3e+06 3.3e+06 3.3e+06 ... 3.288e+06 3.288e+06\n",
              "    spatial_ref  int64 8B 0\n",
              "Attributes: (12/33)\n",
              "    ACCODE:                    Lasrc; Lasrc\n",
              "    arop_ave_xshift(meters):   0, 0\n",
              "    arop_ave_yshift(meters):   0, 0\n",
              "    arop_ncp:                  0, 0\n",
              "    arop_rmse(meters):         0, 0\n",
              "    arop_s2_refimg:            NONE\n",
              "    ...                        ...\n",
              "    TIRS_SSM_MODEL:            PRELIMINARY; PRELIMINARY\n",
              "    TIRS_SSM_POSITION_STATUS:  ESTIMATED; ESTIMATED\n",
              "    ULX:                       699960\n",
              "    ULY:                       3300000\n",
              "    USGS_SOFTWARE:             LPGS_16.2.0\n",
              "    AREA_OR_POINT:             Area"
            ]
          },
          "execution_count": 31,
          "metadata": {},
          "output_type": "execute_result"
        }
      ],
      "source": [
        "# define a function to open and crop a raster\n",
        "def process_image(url, bounds_gdf):\n",
        "    \"\"\"\n",
        "    Load, crop, and scale a raster image from earthaccess\n",
        "\n",
        "    Parameters\n",
        "    ----------\n",
        "    uri: file-like or path-like\n",
        "      File accessor downloaded or obtained from earthaccess\n",
        "    bounds_gdf: gpd.GeoDataFrame\n",
        "      Area of interest to crop to\n",
        "\n",
        "    Returns\n",
        "    -------\n",
        "    cropped_da: rxr.DataArray\n",
        "      Processed raster\n",
        "    \"\"\"\n",
        "    #connect to the raster image\n",
        "    da = rxr.open_rasterio(url, mask_and_scale=True).squeeze()\n",
        "    \n",
        "    # Get the study bounds\n",
        "    bounds = (\n",
        "      bounds_gdf\n",
        "      .to_crs(da.rio.crs)\n",
        "      .total_bounds\n",
        "    )\n",
        "\n",
        "    # Crop\n",
        "    cropped_da = da.rio.clip_box(*bounds)\n",
        "\n",
        "    return cropped_da\n",
        "\n",
        "# test function\n",
        "process_image(granule_gdf.urls[1][10], wbd_gdf)"
      ]
    },
    {
      "cell_type": "code",
      "execution_count": null,
      "id": "68e1e0da",
      "metadata": {
        "highlight": true
      },
      "outputs": [],
      "source": [
        "# Loop through each image - each image is one row of the granule_gdf\n",
        "for granule in tqdm(granule_gdf):\n",
        "    # Open granule cloud cover\n",
        "    da = rxr.open_rasterio(granule.urls, mask_and_scale=True).squeeze()\n",
        "\n",
        "    # Compute cloud mask\n",
        "\n",
        "    # Loop through each spectral band\n",
        "\n",
        "        # Open, crop, and mask the band\n",
        "\n",
        "        # Add the DataArray to the metadata DataFrame row\n",
        "\n",
        "    # Reassemble the metadata DataFrame"
      ]
    },
    {
      "cell_type": "markdown",
      "id": "b3f54939-7fcf-44a6-91af-57aa50b1895c",
      "metadata": {},
      "source": [
        "### Merge and Composite Data\n",
        "\n",
        "You will notice for this watershed that: 1. The raster data for each\n",
        "date are spread across 4 granules 2. Any given image is incomplete\n",
        "because of clouds\n",
        "\n",
        "<link rel=\"stylesheet\" type=\"text/css\" href=\"./assets/styles.css\"><div class=\"callout callout-style-default callout-titled callout-task\"><div class=\"callout-header\"><div class=\"callout-icon-container\"><i class=\"callout-icon\"></i></div><div class=\"callout-title-container flex-fill\">Try It</div></div><div class=\"callout-body-container callout-body\"><ol type=\"1\">\n",
        "<li><p>For each band:</p>\n",
        "<ol type=\"1\">\n",
        "<li><p>For each date:</p>\n",
        "<ol type=\"1\">\n",
        "<li>Merge all 4 granules</li>\n",
        "<li>Mask any negative values created by interpolating from the nodata\n",
        "value of -9999 (<code>rioxarray</code> should account for this, but\n",
        "doesn’t appear to when merging. If you leave these values in they will\n",
        "create problems down the line)</li>\n",
        "</ol></li>\n",
        "<li><p>Concatenate the merged DataArrays along a new date\n",
        "dimension</p></li>\n",
        "<li><p>Take the mean in the date dimension to create a composite image\n",
        "that fills cloud gaps</p></li>\n",
        "<li><p>Add the band as a dimension, and give the DataArray a\n",
        "name</p></li>\n",
        "</ol></li>\n",
        "<li><p>Concatenate along the band dimension</p></li>\n",
        "</ol></div></div>"
      ]
    },
    {
      "cell_type": "code",
      "execution_count": 32,
      "id": "6d6ef620",
      "metadata": {
        "highlight": true
      },
      "outputs": [],
      "source": [
        "# Merge and composite and image for each band\n",
        "\n",
        "        # Merge granules for each date\n",
        "\n",
        "        # Mask negative values\n",
        "\n",
        "    # Composite images across dates"
      ]
    },
    {
      "cell_type": "markdown",
      "id": "3d4088b9-6768-4742-90c6-f6d16254db94",
      "metadata": {},
      "source": [
        "## STEP 4: K-MEANS\n",
        "\n",
        "Cluster your data by spectral signature using the k-means algorithm.\n",
        "\n",
        "<link rel=\"stylesheet\" type=\"text/css\" href=\"./assets/styles.css\"><div class=\"callout callout-style-default callout-titled callout-task\"><div class=\"callout-header\"><div class=\"callout-icon-container\"><i class=\"callout-icon\"></i></div><div class=\"callout-title-container flex-fill\">Try It</div></div><div class=\"callout-body-container callout-body\"><ol type=\"1\">\n",
        "<li>Convert your DataArray into a <strong>tidy</strong> DataFrame of\n",
        "reflectance values (hint: check out the <code>.to_dataframe()</code> and\n",
        "<code>.unstack()</code> methods)</li>\n",
        "<li>Filter out all rows with no data (all 0s or any N/A values)</li>\n",
        "<li>Fit a k-means model. You can experiment with the number of groups to\n",
        "find what works best.</li>\n",
        "</ol></div></div>"
      ]
    },
    {
      "cell_type": "code",
      "execution_count": 33,
      "id": "1380d9b6",
      "metadata": {
        "highlight": true
      },
      "outputs": [],
      "source": [
        "# Convert spectral DataArray to a tidy DataFrame\n",
        "# Create a column for each of the bands\n",
        "## model_df = reflectance_df.to_dataframe().reflectance.unstack('band)\n",
        "\n",
        "# drop bands 10 and 11 and any rows w/ NaN values\n",
        "## model_df = model_df.drop(columns = [10,11]).drop(na)\n",
        "\n",
        "# Check that the ranges make sense (should be from 0-1) by checking min and max values\n",
        "## min_values = model_df.min()\n",
        "## max_values = model_df.max()\n",
        "## print(min_values)\n",
        "## pring(max_values)\n",
        "\n",
        "# Initialize k means\n",
        "## k_means = KMeans(n_clusters = 5)\n",
        "\n",
        "# Fit model and predict\n",
        "## prediction = k_means.fit_predict(model_df.values)\n",
        "\n",
        "# Add cluster label to df\n",
        "## model_df['clusters'] = prediction\n",
        "\n",
        "# Running the fit and predict functions at the same time.\n",
        "# We can do this since we don't have target data.\n",
        "\n",
        "# Add the predicted values back to the model DataFrame"
      ]
    },
    {
      "cell_type": "markdown",
      "id": "6417c5c9-b68e-4a7c-824a-2d1bb1aaaae5",
      "metadata": {},
      "source": [
        "## STEP 5: PLOT\n",
        "\n",
        "<link rel=\"stylesheet\" type=\"text/css\" href=\"./assets/styles.css\"><div class=\"callout callout-style-default callout-titled callout-task\"><div class=\"callout-header\"><div class=\"callout-icon-container\"><i class=\"callout-icon\"></i></div><div class=\"callout-title-container flex-fill\">Try It</div></div><div class=\"callout-body-container callout-body\"><p>Create a plot that shows the k-means clusters next to an RGB image of\n",
        "the area. You may need to brighten your RGB image by multiplying it by\n",
        "10. The code for reshaping and plotting the clusters is provided for you\n",
        "below, but you will have to create the RGB plot yourself!</p>\n",
        "<p>So, what is <code>.sortby(['x', 'y'])</code> doing for us? Try the\n",
        "code without it and find out.</p></div></div>"
      ]
    },
    {
      "cell_type": "code",
      "execution_count": 34,
      "id": "9f85cffa",
      "metadata": {},
      "outputs": [],
      "source": [
        "# make dataarray w/ bands to use for rgb\n",
        "## rgb = reflectance_da.sel(band=[4, 3, 2])\n",
        "\n",
        "# hvplot has a rgb plot method. this will not give us a helpful plot b/c the values arent what the rgb plot expects\n",
        "# (\n",
        "#     rgb.hvplot.rgb(y = 'y',\n",
        "#                x = 'x',\n",
        "#                bands = 'band',\n",
        "#                data_aspect = 1,\n",
        "#                xaxis = None, yaxis = None)\n",
        "#                )\n",
        "\n",
        "# Want image pixel values to range from 0-255\n",
        "# Then convert to unsigned 8-bit integers (data type for images)\n",
        "# don't include nan values in calculation\n",
        "# This still yields a very dark plot\n",
        "## rgb_uint8 = (rgb * 255).astype(np.uint8.where(rgb!=np.nan))\n",
        "\n",
        "# We can increase the brightness of the image\n",
        "# After plotting this we may get an error that the data values are too high.\n",
        "## rgb_uint8_bright = (rgb_uint8 * 10)\n",
        "\n",
        "# To fix the error, cap all pixel values at 255\n",
        "# If value is 155, keep that value. if value is greater than 255, replace w/ 255\n",
        "## rgb_sat = rgb_uint8_bright.where(rgb_uint8_bright < 255, 255)"
      ]
    },
    {
      "cell_type": "code",
      "execution_count": 35,
      "id": "b9e7ac5f",
      "metadata": {
        "highlight": true
      },
      "outputs": [
        {
          "ename": "NameError",
          "evalue": "name 'rgb_plot' is not defined",
          "output_type": "error",
          "traceback": [
            "\u001b[1;31m---------------------------------------------------------------------------\u001b[0m",
            "\u001b[1;31mNameError\u001b[0m                                 Traceback (most recent call last)",
            "Cell \u001b[1;32mIn[35], line 3\u001b[0m\n\u001b[0;32m      1\u001b[0m \u001b[38;5;66;03m# Plot the k-means clusters\u001b[39;00m\n\u001b[0;32m      2\u001b[0m (\n\u001b[1;32m----> 3\u001b[0m     \u001b[43mrgb_plot\u001b[49m\n\u001b[0;32m      4\u001b[0m     \u001b[38;5;241m+\u001b[39m \n\u001b[0;32m      5\u001b[0m     model_df\u001b[38;5;241m.\u001b[39mclusters\u001b[38;5;241m.\u001b[39mto_xarray()\u001b[38;5;241m.\u001b[39msortby([\u001b[38;5;124m'\u001b[39m\u001b[38;5;124mx\u001b[39m\u001b[38;5;124m'\u001b[39m, \u001b[38;5;124m'\u001b[39m\u001b[38;5;124my\u001b[39m\u001b[38;5;124m'\u001b[39m])\u001b[38;5;241m.\u001b[39mhvplot(\n\u001b[0;32m      6\u001b[0m         cmap\u001b[38;5;241m=\u001b[39m\u001b[38;5;124m\"\u001b[39m\u001b[38;5;124mColorblind\u001b[39m\u001b[38;5;124m\"\u001b[39m, aspect\u001b[38;5;241m=\u001b[39m\u001b[38;5;124m'\u001b[39m\u001b[38;5;124mequal\u001b[39m\u001b[38;5;124m'\u001b[39m) \n\u001b[0;32m      7\u001b[0m )\n",
            "\u001b[1;31mNameError\u001b[0m: name 'rgb_plot' is not defined"
          ]
        }
      ],
      "source": [
        "# Plot the k-means clusters\n",
        "(\n",
        "    rgb_plot\n",
        "    + \n",
        "    model_df.clusters.to_xarray().sortby(['x', 'y']).hvplot(\n",
        "        cmap=\"Colorblind\", aspect='equal') \n",
        ")"
      ]
    },
    {
      "cell_type": "markdown",
      "id": "1f764ccf-d111-4f47-bcea-8c10a7cac441",
      "metadata": {},
      "source": [
        "<link rel=\"stylesheet\" type=\"text/css\" href=\"./assets/styles.css\"><div class=\"callout callout-style-default callout-titled callout-respond\"><div class=\"callout-header\"><div class=\"callout-icon-container\"><i class=\"callout-icon\"></i></div><div class=\"callout-title-container flex-fill\">Reflect and Respond</div></div><div class=\"callout-body-container callout-body\"><p>Don’t forget to interpret your plot!</p></div></div>"
      ]
    },
    {
      "cell_type": "markdown",
      "id": "4efe872d-a8ab-46bd-816f-fc5194b777a5",
      "metadata": {},
      "source": [
        "**YOUR PLOT HEADLINE AND DESCRIPTION HERE**"
      ]
    }
  ],
  "metadata": {
    "kernelspec": {
      "display_name": "earth-analytics-python",
      "language": "python",
      "name": "python3"
    },
    "language_info": {
      "codemirror_mode": {
        "name": "ipython",
        "version": 3
      },
      "file_extension": ".py",
      "mimetype": "text/x-python",
      "name": "python",
      "nbconvert_exporter": "python",
      "pygments_lexer": "ipython3",
      "version": "3.11.10"
    }
  },
  "nbformat": 4,
  "nbformat_minor": 5
}
